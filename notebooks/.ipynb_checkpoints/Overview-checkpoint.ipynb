{
 "cells": [
  {
   "cell_type": "markdown",
   "metadata": {
    "slideshow": {
     "slide_type": "slide"
    }
   },
   "source": [
    "# Introduction to Signal Processing\n",
    "\n",
    "\n",
    "\n"
   ]
  },
  {
   "cell_type": "markdown",
   "metadata": {
    "slideshow": {
     "slide_type": "slide"
    }
   },
   "source": [
    "## How this talk works\n"
   ]
  },
  {
   "cell_type": "markdown",
   "metadata": {
    "slideshow": {
     "slide_type": "slide"
    }
   },
   "source": [
    "## Outline\n",
    "\n"
   ]
  },
  {
   "cell_type": "markdown",
   "metadata": {
    "slideshow": {
     "slide_type": "subslide"
    }
   },
   "source": [
    "### Section 1\n",
    "  + What is a Signal\n",
    "    \n",
    "  + Types of signals\n",
    "    + Time Series\n",
    "    + Dimensions \n",
    "    + Continuous\n",
    "    + Discrete \n",
    "  \n",
    "  + Kinds of basic RF problems\n",
    "    + Communication\n",
    "    + Radar\n",
    "    + Passive Inference\n",
    "  \n",
    "  + Basic Math Operations\n",
    "    + Linearity\n",
    "    + Time Invariance \n",
    "    + Bounded Input Bounded Output (BIBO)\n",
    "    + Derivatives and Differences\n",
    "    + Integrals and Sumations \n",
    "    + Useful Non-linear Functions\n",
    "      + ABS (Absolute Value)\n",
    "      + Squared\n",
    "      + Decibels\n",
    "    \n",
    "  + Continous Vs. Descrete Signals\n",
    "    + Analog to Digital Conversion\n",
    "    + Digital to Analog Conversion\n",
    "    + Delta Function\n",
    "    + Nyquist Sampling\n",
    "    \n",
    "  + Random Varaibles\n",
    "    + Basics of Probablilty\n",
    "      + Probability Density Function\n",
    "      + Total Probablilty\n",
    "      + Cumulative Distribution Function\n",
    "    + Continuous Vs. Discrete\n",
    "    + Common Distributions\n",
    "      + Uniform\n",
    "      + Exponential\n",
    "      + Gaussian\n",
    "      + Chi Squared\n",
    "    + Independent and identically Distributed Random Variables\n",
    "    + Operations on random variables\n",
    "    + Central Limit Theorem\n",
    "    + Correlation\n",
    "    \n",
    "  + Basic Linear Algebra\n",
    "    + Vector Operations\n",
    "      + Addition\n",
    "      + Scaler Multiplication\n",
    "      + Vector Span\n",
    "    + Vector Products\n",
    "      + Elementwise Product\n",
    "      + Outter Product\n",
    "      + Inner Product\n",
    "    + Matrix Operations\n",
    "    + Cauchy–Schwarz inequality\n",
    "    + Matched Filter\n",
    "    + Convolution\n",
    "    + Correlation of random vectors\n",
    "    + Rotation Matrices\n",
    "    \n",
    "  + Frequency / Tone\n",
    "    + Real valued\n",
    "    + Matched Filter Real valued\n",
    "    + Phase\n",
    "    + Complex Samples\n",
    "    \n",
    "  + Complex Number\n",
    "    + Direct-conversion receiver\n",
    "    + Negative Frequencies\n",
    "    + Relationship between Phase and Delay\n",
    "    + Complex Random Numbers\n",
    "  "
   ]
  },
  {
   "cell_type": "markdown",
   "metadata": {
    "slideshow": {
     "slide_type": "slide"
    }
   },
   "source": [
    "### Section 2\n",
    "  + Frequency\n",
    "    + Matched Filter Response\n",
    "    \n",
    "  + Fourier Transform\n",
    "    + Sines, Cosines, Tones\n",
    "    + Definition \n",
    "    + Rectangular Pulse \n",
    "    + Pulse \n",
    "    + Density vs Energy \n",
    "    + Fourier Series\n",
    "      + Pulse Train\n",
    "      + Wave Wave\n",
    "    \n",
    "  + Properties\n",
    "    + Conservation of Energy\n",
    "    + Time shifts\n",
    "    + Pairs\n",
    "    + Bounding in Time and Frequency\n",
    "    \n",
    "  + Transform Tables\n",
    "    + Sinusoids\n",
    "    + Square Wave\n",
    "\n",
    "  + Discrete Fourier Transform\n",
    "    + Building from the matched filter\n",
    "    + Fast Fourier Transform\n",
    "    \n",
    "  + Fourier Transform of Noise\n",
    "    + What does this mean?\n",
    "    + White Noise\n",
    "    + Colored Noise\n",
    "    + Power Spectral Density\n",
    "    + Autocorrelation\n",
    "    \n",
    "  + Windows\n",
    "    + What is a window\n",
    "    + When you would use one\n",
    "    + How to choose one\n",
    "    + Common Windows and Properties\n",
    "      + Rectangular\n",
    "      + Triangular\n",
    "      + Hamming\n",
    "      + Blackman harris\n",
    "      + Root Raised Cosine\n",
    "      + Gaussian\n",
    "    \n",
    "  + Filters\n",
    "    + Bode Plots\n",
    "    + Finite Impulse Response Filter\n",
    "    + Infinite Impulse Response Filter\n",
    "    + Stability \n",
    "    + Group Delay\n",
    "    \n",
    "  + Laplace Transform\n",
    "    + Complex Frequency\n",
    "    + Finding Stability\n",
    "    \n",
    "  + Z Transform\n",
    "    + Discrete Laplace Transform \n",
    "    "
   ]
  },
  {
   "cell_type": "markdown",
   "metadata": {
    "slideshow": {
     "slide_type": "slide"
    }
   },
   "source": [
    "## Section 3\n",
    "\n",
<<<<<<< HEAD
    "  + Detection\n",
    "    +  \n",
=======
    "  + Modulation\n",
    "    +  Analog\n",
    "    + Digital\n",
>>>>>>> ca27271852abb81b00b22a8cff61caefd4c583ed
    "  \n",
    "  + Detection\n",
    "  \n",
    "  + Information Theory\n",
    "  "
   ]
  },
  {
   "cell_type": "markdown",
   "metadata": {
    "slideshow": {
     "slide_type": "slide"
    }
   },
   "source": [
    "### Section 4\n",
    "\n",
    "  + Power\n",
    "\n",
    "  + Spectral Estimation\n",
    "    + Problem Setup\n",
    "    + Peroidogram \n",
    "    + Bartlett's Method\n",
    "    + Welch's Method\n",
    "    + Beamscan\n",
    "    + MVDR\n",
    "    + MuSiC\n",
    "    + Relationship to Direction of Arrial\n",
    "  \n",
    "  + Tone in White Noise\n",
    "    + Problem Setup \n",
    "  \n",
    "  + Delay Estimation\n",
    "    + Problem Setup\n",
    "    "
   ]
  }
 ],
 "metadata": {
  "celltoolbar": "Slideshow",
  "kernelspec": {
   "display_name": "Python 3",
   "language": "python",
   "name": "python3"
  },
  "language_info": {
   "codemirror_mode": {
    "name": "ipython",
    "version": 3
   },
   "file_extension": ".py",
   "mimetype": "text/x-python",
   "name": "python",
   "nbconvert_exporter": "python",
   "pygments_lexer": "ipython3",
   "version": "3.9.7"
  }
 },
 "nbformat": 4,
 "nbformat_minor": 4
}
