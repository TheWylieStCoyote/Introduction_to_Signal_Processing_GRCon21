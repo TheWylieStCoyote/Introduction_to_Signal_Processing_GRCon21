{
 "cells": [
  {
   "cell_type": "markdown",
   "metadata": {},
   "source": [
    "# Section 1\n"
   ]
  },
  {
   "cell_type": "markdown",
   "metadata": {
    "slideshow": {
     "slide_type": "slide"
    }
   },
   "source": [
    "# What Is A Signal\n"
   ]
  },
  {
   "cell_type": "code",
   "execution_count": null,
   "metadata": {
    "slideshow": {
     "slide_type": "subslide"
    }
   },
   "outputs": [],
   "source": []
  },
  {
   "cell_type": "code",
   "execution_count": 3,
   "metadata": {
    "slideshow": {
     "slide_type": "subslide"
    }
   },
   "outputs": [],
   "source": [
    "import numpy \n",
    "from numpy import pi\n",
    "from scipy import signal, stats, io\n",
    "\n",
    "import matplotlib.pyplot as plt\n",
    "\n",
    "#%matplotlib inline\n",
    "%matplotlib notebook"
   ]
  },
  {
   "cell_type": "markdown",
   "metadata": {
    "slideshow": {
     "slide_type": "slide"
    }
   },
   "source": [
    "## What Is A Signal\n"
   ]
  },
  {
   "cell_type": "markdown",
   "metadata": {
    "slideshow": {
     "slide_type": "fragment"
    }
   },
   "source": [
    "  + Something that carries or conveys information"
   ]
  },
  {
   "cell_type": "markdown",
   "metadata": {
    "slideshow": {
     "slide_type": "fragment"
    }
   },
   "source": [
    "  + What does that even mean?"
   ]
  },
  {
   "cell_type": "markdown",
   "metadata": {
    "slideshow": {
     "slide_type": "fragment"
    }
   },
   "source": [
    "  + That is about anything?"
   ]
  },
  {
   "cell_type": "markdown",
   "metadata": {
    "slideshow": {
     "slide_type": "fragment"
    }
   },
   "source": [
    "  + This is so general it maybe useless, maybe"
   ]
  },
  {
   "cell_type": "markdown",
   "metadata": {
    "slideshow": {
     "slide_type": "slide"
    }
   },
   "source": [
    "#### Examples of Signals"
   ]
  },
  {
   "attachments": {},
   "cell_type": "markdown",
   "metadata": {
    "slideshow": {
     "slide_type": "subslide"
    }
   },
   "source": [
    "  + Sound\n",
    "    + https://www.audacityteam.org/\n",
    "    + Humans hear between 20Hz to 20 KHz\n",
    "  \n",
    "  <img src=\"Theme_Classic.png\" />"
   ]
  },
  {
   "cell_type": "markdown",
   "metadata": {
    "slideshow": {
     "slide_type": "subslide"
    }
   },
   "source": [
    "  + Sea Levels\n",
    "    + https://climate.nasa.gov/vital-signs/sea-level/\n",
    "    + https://en.wikipedia.org/wiki/Sea_level_rise\n",
    "    \n",
    "\n",
    "<img src=\"NASA-Satellite-sea-level-rise-observations.jpg\" width=\"75%\" />"
   ]
  },
  {
   "attachments": {},
   "cell_type": "markdown",
   "metadata": {
    "slideshow": {
     "slide_type": "subslide"
    }
   },
   "source": [
    "  + Stock Prices"
   ]
  },
  {
   "cell_type": "markdown",
   "metadata": {
    "slideshow": {
     "slide_type": "subslide"
    }
   },
   "source": [
    "  + Sun Spots\n",
    "    + https://en.wikipedia.org/wiki/Sunspot\n",
    "\n",
    "<img src=\"Sunspots_1302_Sep_2011_by_NASA.jpg\" width=\"75%\" >\n",
    "\n"
   ]
  },
  {
   "cell_type": "markdown",
   "metadata": {
    "slideshow": {
     "slide_type": "subslide"
    }
   },
   "source": [
    "  + Sun Spots\n",
    "    + https://en.wikipedia.org/wiki/Sunspot\n",
    "\n",
    "<img src=\"Sunspot_Numbers.png\" width=\"75%\" >"
   ]
  },
  {
   "cell_type": "markdown",
   "metadata": {
    "slideshow": {
     "slide_type": "subslide"
    }
   },
   "source": [
    "  + Gravity Waves\n",
    "    + Sea waves\n",
    "    + \n",
    "  \n"
   ]
  },
  {
   "cell_type": "markdown",
   "metadata": {
    "slideshow": {
     "slide_type": "subslide"
    }
   },
   "source": [
    "  + Gravitational Waves\n",
    "    + https://www.ligo.caltech.edu/page/what-are-gw\n",
    "    + http://svs.gsfc.nasa.gov//vis/a010000/a010500/a010543/WhtDwrfCollid_ProRes_720x486_59.94fps.webmhd.webm\n",
    "    + https://en.wikipedia.org/wiki/Gravitational-wave_observatory\n",
    "\n",
    "<img src=\"1280px-LIGO_Hanford_aerial_05.jpg\" width=\"50%\" >"
   ]
  },
  {
   "cell_type": "markdown",
   "metadata": {
    "slideshow": {
     "slide_type": "subslide"
    }
   },
   "source": [
    "  + Electrical\n",
    "    + Probably what everyone things of\n",
    "    + It's all electrical signals at some point"
   ]
  },
  {
   "cell_type": "markdown",
   "metadata": {
    "slideshow": {
     "slide_type": "subslide"
    }
   },
   "source": [
    "  + Light\n",
    "    + Cameras\n",
    "    + Light level\n",
    "\n"
   ]
  },
  {
   "cell_type": "markdown",
   "metadata": {},
   "source": [
    "  + Radio Waves\n",
    "    + "
   ]
  },
  {
   "cell_type": "markdown",
   "metadata": {
    "slideshow": {
     "slide_type": "subslide"
    }
   },
   "source": [
    "#### Examples of Signals\n",
    "\n",
    "  + Sound\n",
    "  + Sea Level\n",
    "  + Stock Prices\n",
    "  + Sun Spots\n",
    "  + Gravity Waves\n",
    "  + Electrical \n",
    "  + Electromagnetic waves\n",
    "    + Light\n",
    "    + Radio Waves\n",
    "    "
   ]
  },
  {
   "cell_type": "markdown",
   "metadata": {
    "slideshow": {
     "slide_type": "slide"
    }
   },
   "source": [
    "##  Basic RF problems\n",
    "\n",
    "#### Communication\n",
    "  + Getting data between places\n",
    "\n",
    "#### Radar\n",
    "  + Using radio waves to sense something\n",
    "\n",
    "#### Passive Inference\n",
    "  + Using Emotions that already exist what can I figure out"
   ]
  },
  {
   "cell_type": "markdown",
   "metadata": {},
   "source": []
  },
  {
   "cell_type": "markdown",
   "metadata": {},
   "source": []
  },
  {
   "cell_type": "markdown",
   "metadata": {
    "slideshow": {
     "slide_type": "slide"
    }
   },
   "source": [
    "## Continuous vs Discrete Signals\n",
    "\n",
    "\n",
    "  + Continous Vs. Descrete Signals\n",
    "    + Analog to Digital Conversion\n",
    "    + Digital to Analog Conversion\n",
    "    + Delta Symbol\n",
    "    + Nyquest Sampling\n",
    "    "
   ]
  },
  {
   "cell_type": "markdown",
   "metadata": {
    "slideshow": {
     "slide_type": "fragment"
    }
   },
   "source": [
    "### Continuous\n",
    "\n",
    "  + \n",
    "  + "
   ]
  },
  {
   "cell_type": "markdown",
   "metadata": {
    "slideshow": {
     "slide_type": "fragment"
    }
   },
   "source": [
    "### Discrete\n",
    "\n",
    "  + \n",
    "  + "
   ]
  },
  {
   "cell_type": "markdown",
   "metadata": {
    "slideshow": {
     "slide_type": "subslide"
    }
   },
   "source": [
    "### Sampling\n",
    "\n",
    "  + Analog to Digital Conversion"
   ]
  },
  {
   "cell_type": "code",
   "execution_count": null,
   "metadata": {},
   "outputs": [],
   "source": []
  },
  {
   "cell_type": "code",
   "execution_count": null,
   "metadata": {},
   "outputs": [],
   "source": []
  },
  {
   "cell_type": "code",
   "execution_count": null,
   "metadata": {},
   "outputs": [],
   "source": []
  },
  {
   "cell_type": "markdown",
   "metadata": {
    "slideshow": {
     "slide_type": "subslide"
    }
   },
   "source": [
    "## Time Series\n",
    "  + Sampled at a regular times\n",
    "  + Identical Sampling"
   ]
  },
  {
   "cell_type": "code",
   "execution_count": 33,
   "metadata": {
    "slideshow": {
     "slide_type": "subslide"
    }
   },
   "outputs": [
    {
     "data": {
      "application/javascript": [
       "/* Put everything inside the global mpl namespace */\n",
       "window.mpl = {};\n",
       "\n",
       "\n",
       "mpl.get_websocket_type = function() {\n",
       "    if (typeof(WebSocket) !== 'undefined') {\n",
       "        return WebSocket;\n",
       "    } else if (typeof(MozWebSocket) !== 'undefined') {\n",
       "        return MozWebSocket;\n",
       "    } else {\n",
       "        alert('Your browser does not have WebSocket support. ' +\n",
       "              'Please try Chrome, Safari or Firefox ≥ 6. ' +\n",
       "              'Firefox 4 and 5 are also supported but you ' +\n",
       "              'have to enable WebSockets in about:config.');\n",
       "    };\n",
       "}\n",
       "\n",
       "mpl.figure = function(figure_id, websocket, ondownload, parent_element) {\n",
       "    this.id = figure_id;\n",
       "\n",
       "    this.ws = websocket;\n",
       "\n",
       "    this.supports_binary = (this.ws.binaryType != undefined);\n",
       "\n",
       "    if (!this.supports_binary) {\n",
       "        var warnings = document.getElementById(\"mpl-warnings\");\n",
       "        if (warnings) {\n",
       "            warnings.style.display = 'block';\n",
       "            warnings.textContent = (\n",
       "                \"This browser does not support binary websocket messages. \" +\n",
       "                    \"Performance may be slow.\");\n",
       "        }\n",
       "    }\n",
       "\n",
       "    this.imageObj = new Image();\n",
       "\n",
       "    this.context = undefined;\n",
       "    this.message = undefined;\n",
       "    this.canvas = undefined;\n",
       "    this.rubberband_canvas = undefined;\n",
       "    this.rubberband_context = undefined;\n",
       "    this.format_dropdown = undefined;\n",
       "\n",
       "    this.image_mode = 'full';\n",
       "\n",
       "    this.root = $('<div/>');\n",
       "    this._root_extra_style(this.root)\n",
       "    this.root.attr('style', 'display: inline-block');\n",
       "\n",
       "    $(parent_element).append(this.root);\n",
       "\n",
       "    this._init_header(this);\n",
       "    this._init_canvas(this);\n",
       "    this._init_toolbar(this);\n",
       "\n",
       "    var fig = this;\n",
       "\n",
       "    this.waiting = false;\n",
       "\n",
       "    this.ws.onopen =  function () {\n",
       "            fig.send_message(\"supports_binary\", {value: fig.supports_binary});\n",
       "            fig.send_message(\"send_image_mode\", {});\n",
       "            if (mpl.ratio != 1) {\n",
       "                fig.send_message(\"set_dpi_ratio\", {'dpi_ratio': mpl.ratio});\n",
       "            }\n",
       "            fig.send_message(\"refresh\", {});\n",
       "        }\n",
       "\n",
       "    this.imageObj.onload = function() {\n",
       "            if (fig.image_mode == 'full') {\n",
       "                // Full images could contain transparency (where diff images\n",
       "                // almost always do), so we need to clear the canvas so that\n",
       "                // there is no ghosting.\n",
       "                fig.context.clearRect(0, 0, fig.canvas.width, fig.canvas.height);\n",
       "            }\n",
       "            fig.context.drawImage(fig.imageObj, 0, 0);\n",
       "        };\n",
       "\n",
       "    this.imageObj.onunload = function() {\n",
       "        fig.ws.close();\n",
       "    }\n",
       "\n",
       "    this.ws.onmessage = this._make_on_message_function(this);\n",
       "\n",
       "    this.ondownload = ondownload;\n",
       "}\n",
       "\n",
       "mpl.figure.prototype._init_header = function() {\n",
       "    var titlebar = $(\n",
       "        '<div class=\"ui-dialog-titlebar ui-widget-header ui-corner-all ' +\n",
       "        'ui-helper-clearfix\"/>');\n",
       "    var titletext = $(\n",
       "        '<div class=\"ui-dialog-title\" style=\"width: 100%; ' +\n",
       "        'text-align: center; padding: 3px;\"/>');\n",
       "    titlebar.append(titletext)\n",
       "    this.root.append(titlebar);\n",
       "    this.header = titletext[0];\n",
       "}\n",
       "\n",
       "\n",
       "\n",
       "mpl.figure.prototype._canvas_extra_style = function(canvas_div) {\n",
       "\n",
       "}\n",
       "\n",
       "\n",
       "mpl.figure.prototype._root_extra_style = function(canvas_div) {\n",
       "\n",
       "}\n",
       "\n",
       "mpl.figure.prototype._init_canvas = function() {\n",
       "    var fig = this;\n",
       "\n",
       "    var canvas_div = $('<div/>');\n",
       "\n",
       "    canvas_div.attr('style', 'position: relative; clear: both; outline: 0');\n",
       "\n",
       "    function canvas_keyboard_event(event) {\n",
       "        return fig.key_event(event, event['data']);\n",
       "    }\n",
       "\n",
       "    canvas_div.keydown('key_press', canvas_keyboard_event);\n",
       "    canvas_div.keyup('key_release', canvas_keyboard_event);\n",
       "    this.canvas_div = canvas_div\n",
       "    this._canvas_extra_style(canvas_div)\n",
       "    this.root.append(canvas_div);\n",
       "\n",
       "    var canvas = $('<canvas/>');\n",
       "    canvas.addClass('mpl-canvas');\n",
       "    canvas.attr('style', \"left: 0; top: 0; z-index: 0; outline: 0\")\n",
       "\n",
       "    this.canvas = canvas[0];\n",
       "    this.context = canvas[0].getContext(\"2d\");\n",
       "\n",
       "    var backingStore = this.context.backingStorePixelRatio ||\n",
       "\tthis.context.webkitBackingStorePixelRatio ||\n",
       "\tthis.context.mozBackingStorePixelRatio ||\n",
       "\tthis.context.msBackingStorePixelRatio ||\n",
       "\tthis.context.oBackingStorePixelRatio ||\n",
       "\tthis.context.backingStorePixelRatio || 1;\n",
       "\n",
       "    mpl.ratio = (window.devicePixelRatio || 1) / backingStore;\n",
       "\n",
       "    var rubberband = $('<canvas/>');\n",
       "    rubberband.attr('style', \"position: absolute; left: 0; top: 0; z-index: 1;\")\n",
       "\n",
       "    var pass_mouse_events = true;\n",
       "\n",
       "    canvas_div.resizable({\n",
       "        start: function(event, ui) {\n",
       "            pass_mouse_events = false;\n",
       "        },\n",
       "        resize: function(event, ui) {\n",
       "            fig.request_resize(ui.size.width, ui.size.height);\n",
       "        },\n",
       "        stop: function(event, ui) {\n",
       "            pass_mouse_events = true;\n",
       "            fig.request_resize(ui.size.width, ui.size.height);\n",
       "        },\n",
       "    });\n",
       "\n",
       "    function mouse_event_fn(event) {\n",
       "        if (pass_mouse_events)\n",
       "            return fig.mouse_event(event, event['data']);\n",
       "    }\n",
       "\n",
       "    rubberband.mousedown('button_press', mouse_event_fn);\n",
       "    rubberband.mouseup('button_release', mouse_event_fn);\n",
       "    // Throttle sequential mouse events to 1 every 20ms.\n",
       "    rubberband.mousemove('motion_notify', mouse_event_fn);\n",
       "\n",
       "    rubberband.mouseenter('figure_enter', mouse_event_fn);\n",
       "    rubberband.mouseleave('figure_leave', mouse_event_fn);\n",
       "\n",
       "    canvas_div.on(\"wheel\", function (event) {\n",
       "        event = event.originalEvent;\n",
       "        event['data'] = 'scroll'\n",
       "        if (event.deltaY < 0) {\n",
       "            event.step = 1;\n",
       "        } else {\n",
       "            event.step = -1;\n",
       "        }\n",
       "        mouse_event_fn(event);\n",
       "    });\n",
       "\n",
       "    canvas_div.append(canvas);\n",
       "    canvas_div.append(rubberband);\n",
       "\n",
       "    this.rubberband = rubberband;\n",
       "    this.rubberband_canvas = rubberband[0];\n",
       "    this.rubberband_context = rubberband[0].getContext(\"2d\");\n",
       "    this.rubberband_context.strokeStyle = \"#000000\";\n",
       "\n",
       "    this._resize_canvas = function(width, height) {\n",
       "        // Keep the size of the canvas, canvas container, and rubber band\n",
       "        // canvas in synch.\n",
       "        canvas_div.css('width', width)\n",
       "        canvas_div.css('height', height)\n",
       "\n",
       "        canvas.attr('width', width * mpl.ratio);\n",
       "        canvas.attr('height', height * mpl.ratio);\n",
       "        canvas.attr('style', 'width: ' + width + 'px; height: ' + height + 'px;');\n",
       "\n",
       "        rubberband.attr('width', width);\n",
       "        rubberband.attr('height', height);\n",
       "    }\n",
       "\n",
       "    // Set the figure to an initial 600x600px, this will subsequently be updated\n",
       "    // upon first draw.\n",
       "    this._resize_canvas(600, 600);\n",
       "\n",
       "    // Disable right mouse context menu.\n",
       "    $(this.rubberband_canvas).bind(\"contextmenu\",function(e){\n",
       "        return false;\n",
       "    });\n",
       "\n",
       "    function set_focus () {\n",
       "        canvas.focus();\n",
       "        canvas_div.focus();\n",
       "    }\n",
       "\n",
       "    window.setTimeout(set_focus, 100);\n",
       "}\n",
       "\n",
       "mpl.figure.prototype._init_toolbar = function() {\n",
       "    var fig = this;\n",
       "\n",
       "    var nav_element = $('<div/>');\n",
       "    nav_element.attr('style', 'width: 100%');\n",
       "    this.root.append(nav_element);\n",
       "\n",
       "    // Define a callback function for later on.\n",
       "    function toolbar_event(event) {\n",
       "        return fig.toolbar_button_onclick(event['data']);\n",
       "    }\n",
       "    function toolbar_mouse_event(event) {\n",
       "        return fig.toolbar_button_onmouseover(event['data']);\n",
       "    }\n",
       "\n",
       "    for(var toolbar_ind in mpl.toolbar_items) {\n",
       "        var name = mpl.toolbar_items[toolbar_ind][0];\n",
       "        var tooltip = mpl.toolbar_items[toolbar_ind][1];\n",
       "        var image = mpl.toolbar_items[toolbar_ind][2];\n",
       "        var method_name = mpl.toolbar_items[toolbar_ind][3];\n",
       "\n",
       "        if (!name) {\n",
       "            // put a spacer in here.\n",
       "            continue;\n",
       "        }\n",
       "        var button = $('<button/>');\n",
       "        button.addClass('ui-button ui-widget ui-state-default ui-corner-all ' +\n",
       "                        'ui-button-icon-only');\n",
       "        button.attr('role', 'button');\n",
       "        button.attr('aria-disabled', 'false');\n",
       "        button.click(method_name, toolbar_event);\n",
       "        button.mouseover(tooltip, toolbar_mouse_event);\n",
       "\n",
       "        var icon_img = $('<span/>');\n",
       "        icon_img.addClass('ui-button-icon-primary ui-icon');\n",
       "        icon_img.addClass(image);\n",
       "        icon_img.addClass('ui-corner-all');\n",
       "\n",
       "        var tooltip_span = $('<span/>');\n",
       "        tooltip_span.addClass('ui-button-text');\n",
       "        tooltip_span.html(tooltip);\n",
       "\n",
       "        button.append(icon_img);\n",
       "        button.append(tooltip_span);\n",
       "\n",
       "        nav_element.append(button);\n",
       "    }\n",
       "\n",
       "    var fmt_picker_span = $('<span/>');\n",
       "\n",
       "    var fmt_picker = $('<select/>');\n",
       "    fmt_picker.addClass('mpl-toolbar-option ui-widget ui-widget-content');\n",
       "    fmt_picker_span.append(fmt_picker);\n",
       "    nav_element.append(fmt_picker_span);\n",
       "    this.format_dropdown = fmt_picker[0];\n",
       "\n",
       "    for (var ind in mpl.extensions) {\n",
       "        var fmt = mpl.extensions[ind];\n",
       "        var option = $(\n",
       "            '<option/>', {selected: fmt === mpl.default_extension}).html(fmt);\n",
       "        fmt_picker.append(option);\n",
       "    }\n",
       "\n",
       "    // Add hover states to the ui-buttons\n",
       "    $( \".ui-button\" ).hover(\n",
       "        function() { $(this).addClass(\"ui-state-hover\");},\n",
       "        function() { $(this).removeClass(\"ui-state-hover\");}\n",
       "    );\n",
       "\n",
       "    var status_bar = $('<span class=\"mpl-message\"/>');\n",
       "    nav_element.append(status_bar);\n",
       "    this.message = status_bar[0];\n",
       "}\n",
       "\n",
       "mpl.figure.prototype.request_resize = function(x_pixels, y_pixels) {\n",
       "    // Request matplotlib to resize the figure. Matplotlib will then trigger a resize in the client,\n",
       "    // which will in turn request a refresh of the image.\n",
       "    this.send_message('resize', {'width': x_pixels, 'height': y_pixels});\n",
       "}\n",
       "\n",
       "mpl.figure.prototype.send_message = function(type, properties) {\n",
       "    properties['type'] = type;\n",
       "    properties['figure_id'] = this.id;\n",
       "    this.ws.send(JSON.stringify(properties));\n",
       "}\n",
       "\n",
       "mpl.figure.prototype.send_draw_message = function() {\n",
       "    if (!this.waiting) {\n",
       "        this.waiting = true;\n",
       "        this.ws.send(JSON.stringify({type: \"draw\", figure_id: this.id}));\n",
       "    }\n",
       "}\n",
       "\n",
       "\n",
       "mpl.figure.prototype.handle_save = function(fig, msg) {\n",
       "    var format_dropdown = fig.format_dropdown;\n",
       "    var format = format_dropdown.options[format_dropdown.selectedIndex].value;\n",
       "    fig.ondownload(fig, format);\n",
       "}\n",
       "\n",
       "\n",
       "mpl.figure.prototype.handle_resize = function(fig, msg) {\n",
       "    var size = msg['size'];\n",
       "    if (size[0] != fig.canvas.width || size[1] != fig.canvas.height) {\n",
       "        fig._resize_canvas(size[0], size[1]);\n",
       "        fig.send_message(\"refresh\", {});\n",
       "    };\n",
       "}\n",
       "\n",
       "mpl.figure.prototype.handle_rubberband = function(fig, msg) {\n",
       "    var x0 = msg['x0'] / mpl.ratio;\n",
       "    var y0 = (fig.canvas.height - msg['y0']) / mpl.ratio;\n",
       "    var x1 = msg['x1'] / mpl.ratio;\n",
       "    var y1 = (fig.canvas.height - msg['y1']) / mpl.ratio;\n",
       "    x0 = Math.floor(x0) + 0.5;\n",
       "    y0 = Math.floor(y0) + 0.5;\n",
       "    x1 = Math.floor(x1) + 0.5;\n",
       "    y1 = Math.floor(y1) + 0.5;\n",
       "    var min_x = Math.min(x0, x1);\n",
       "    var min_y = Math.min(y0, y1);\n",
       "    var width = Math.abs(x1 - x0);\n",
       "    var height = Math.abs(y1 - y0);\n",
       "\n",
       "    fig.rubberband_context.clearRect(\n",
       "        0, 0, fig.canvas.width / mpl.ratio, fig.canvas.height / mpl.ratio);\n",
       "\n",
       "    fig.rubberband_context.strokeRect(min_x, min_y, width, height);\n",
       "}\n",
       "\n",
       "mpl.figure.prototype.handle_figure_label = function(fig, msg) {\n",
       "    // Updates the figure title.\n",
       "    fig.header.textContent = msg['label'];\n",
       "}\n",
       "\n",
       "mpl.figure.prototype.handle_cursor = function(fig, msg) {\n",
       "    var cursor = msg['cursor'];\n",
       "    switch(cursor)\n",
       "    {\n",
       "    case 0:\n",
       "        cursor = 'pointer';\n",
       "        break;\n",
       "    case 1:\n",
       "        cursor = 'default';\n",
       "        break;\n",
       "    case 2:\n",
       "        cursor = 'crosshair';\n",
       "        break;\n",
       "    case 3:\n",
       "        cursor = 'move';\n",
       "        break;\n",
       "    }\n",
       "    fig.rubberband_canvas.style.cursor = cursor;\n",
       "}\n",
       "\n",
       "mpl.figure.prototype.handle_message = function(fig, msg) {\n",
       "    fig.message.textContent = msg['message'];\n",
       "}\n",
       "\n",
       "mpl.figure.prototype.handle_draw = function(fig, msg) {\n",
       "    // Request the server to send over a new figure.\n",
       "    fig.send_draw_message();\n",
       "}\n",
       "\n",
       "mpl.figure.prototype.handle_image_mode = function(fig, msg) {\n",
       "    fig.image_mode = msg['mode'];\n",
       "}\n",
       "\n",
       "mpl.figure.prototype.updated_canvas_event = function() {\n",
       "    // Called whenever the canvas gets updated.\n",
       "    this.send_message(\"ack\", {});\n",
       "}\n",
       "\n",
       "// A function to construct a web socket function for onmessage handling.\n",
       "// Called in the figure constructor.\n",
       "mpl.figure.prototype._make_on_message_function = function(fig) {\n",
       "    return function socket_on_message(evt) {\n",
       "        if (evt.data instanceof Blob) {\n",
       "            /* FIXME: We get \"Resource interpreted as Image but\n",
       "             * transferred with MIME type text/plain:\" errors on\n",
       "             * Chrome.  But how to set the MIME type?  It doesn't seem\n",
       "             * to be part of the websocket stream */\n",
       "            evt.data.type = \"image/png\";\n",
       "\n",
       "            /* Free the memory for the previous frames */\n",
       "            if (fig.imageObj.src) {\n",
       "                (window.URL || window.webkitURL).revokeObjectURL(\n",
       "                    fig.imageObj.src);\n",
       "            }\n",
       "\n",
       "            fig.imageObj.src = (window.URL || window.webkitURL).createObjectURL(\n",
       "                evt.data);\n",
       "            fig.updated_canvas_event();\n",
       "            fig.waiting = false;\n",
       "            return;\n",
       "        }\n",
       "        else if (typeof evt.data === 'string' && evt.data.slice(0, 21) == \"data:image/png;base64\") {\n",
       "            fig.imageObj.src = evt.data;\n",
       "            fig.updated_canvas_event();\n",
       "            fig.waiting = false;\n",
       "            return;\n",
       "        }\n",
       "\n",
       "        var msg = JSON.parse(evt.data);\n",
       "        var msg_type = msg['type'];\n",
       "\n",
       "        // Call the  \"handle_{type}\" callback, which takes\n",
       "        // the figure and JSON message as its only arguments.\n",
       "        try {\n",
       "            var callback = fig[\"handle_\" + msg_type];\n",
       "        } catch (e) {\n",
       "            console.log(\"No handler for the '\" + msg_type + \"' message type: \", msg);\n",
       "            return;\n",
       "        }\n",
       "\n",
       "        if (callback) {\n",
       "            try {\n",
       "                // console.log(\"Handling '\" + msg_type + \"' message: \", msg);\n",
       "                callback(fig, msg);\n",
       "            } catch (e) {\n",
       "                console.log(\"Exception inside the 'handler_\" + msg_type + \"' callback:\", e, e.stack, msg);\n",
       "            }\n",
       "        }\n",
       "    };\n",
       "}\n",
       "\n",
       "// from http://stackoverflow.com/questions/1114465/getting-mouse-location-in-canvas\n",
       "mpl.findpos = function(e) {\n",
       "    //this section is from http://www.quirksmode.org/js/events_properties.html\n",
       "    var targ;\n",
       "    if (!e)\n",
       "        e = window.event;\n",
       "    if (e.target)\n",
       "        targ = e.target;\n",
       "    else if (e.srcElement)\n",
       "        targ = e.srcElement;\n",
       "    if (targ.nodeType == 3) // defeat Safari bug\n",
       "        targ = targ.parentNode;\n",
       "\n",
       "    // jQuery normalizes the pageX and pageY\n",
       "    // pageX,Y are the mouse positions relative to the document\n",
       "    // offset() returns the position of the element relative to the document\n",
       "    var x = e.pageX - $(targ).offset().left;\n",
       "    var y = e.pageY - $(targ).offset().top;\n",
       "\n",
       "    return {\"x\": x, \"y\": y};\n",
       "};\n",
       "\n",
       "/*\n",
       " * return a copy of an object with only non-object keys\n",
       " * we need this to avoid circular references\n",
       " * http://stackoverflow.com/a/24161582/3208463\n",
       " */\n",
       "function simpleKeys (original) {\n",
       "  return Object.keys(original).reduce(function (obj, key) {\n",
       "    if (typeof original[key] !== 'object')\n",
       "        obj[key] = original[key]\n",
       "    return obj;\n",
       "  }, {});\n",
       "}\n",
       "\n",
       "mpl.figure.prototype.mouse_event = function(event, name) {\n",
       "    var canvas_pos = mpl.findpos(event)\n",
       "\n",
       "    if (name === 'button_press')\n",
       "    {\n",
       "        this.canvas.focus();\n",
       "        this.canvas_div.focus();\n",
       "    }\n",
       "\n",
       "    var x = canvas_pos.x * mpl.ratio;\n",
       "    var y = canvas_pos.y * mpl.ratio;\n",
       "\n",
       "    this.send_message(name, {x: x, y: y, button: event.button,\n",
       "                             step: event.step,\n",
       "                             guiEvent: simpleKeys(event)});\n",
       "\n",
       "    /* This prevents the web browser from automatically changing to\n",
       "     * the text insertion cursor when the button is pressed.  We want\n",
       "     * to control all of the cursor setting manually through the\n",
       "     * 'cursor' event from matplotlib */\n",
       "    event.preventDefault();\n",
       "    return false;\n",
       "}\n",
       "\n",
       "mpl.figure.prototype._key_event_extra = function(event, name) {\n",
       "    // Handle any extra behaviour associated with a key event\n",
       "}\n",
       "\n",
       "mpl.figure.prototype.key_event = function(event, name) {\n",
       "\n",
       "    // Prevent repeat events\n",
       "    if (name == 'key_press')\n",
       "    {\n",
       "        if (event.which === this._key)\n",
       "            return;\n",
       "        else\n",
       "            this._key = event.which;\n",
       "    }\n",
       "    if (name == 'key_release')\n",
       "        this._key = null;\n",
       "\n",
       "    var value = '';\n",
       "    if (event.ctrlKey && event.which != 17)\n",
       "        value += \"ctrl+\";\n",
       "    if (event.altKey && event.which != 18)\n",
       "        value += \"alt+\";\n",
       "    if (event.shiftKey && event.which != 16)\n",
       "        value += \"shift+\";\n",
       "\n",
       "    value += 'k';\n",
       "    value += event.which.toString();\n",
       "\n",
       "    this._key_event_extra(event, name);\n",
       "\n",
       "    this.send_message(name, {key: value,\n",
       "                             guiEvent: simpleKeys(event)});\n",
       "    return false;\n",
       "}\n",
       "\n",
       "mpl.figure.prototype.toolbar_button_onclick = function(name) {\n",
       "    if (name == 'download') {\n",
       "        this.handle_save(this, null);\n",
       "    } else {\n",
       "        this.send_message(\"toolbar_button\", {name: name});\n",
       "    }\n",
       "};\n",
       "\n",
       "mpl.figure.prototype.toolbar_button_onmouseover = function(tooltip) {\n",
       "    this.message.textContent = tooltip;\n",
       "};\n",
       "mpl.toolbar_items = [[\"Home\", \"Reset original view\", \"fa fa-home icon-home\", \"home\"], [\"Back\", \"Back to previous view\", \"fa fa-arrow-left icon-arrow-left\", \"back\"], [\"Forward\", \"Forward to next view\", \"fa fa-arrow-right icon-arrow-right\", \"forward\"], [\"\", \"\", \"\", \"\"], [\"Pan\", \"Pan axes with left mouse, zoom with right\", \"fa fa-arrows icon-move\", \"pan\"], [\"Zoom\", \"Zoom to rectangle\", \"fa fa-square-o icon-check-empty\", \"zoom\"], [\"\", \"\", \"\", \"\"], [\"Download\", \"Download plot\", \"fa fa-floppy-o icon-save\", \"download\"]];\n",
       "\n",
       "mpl.extensions = [\"eps\", \"pdf\", \"png\", \"ps\", \"raw\", \"svg\"];\n",
       "\n",
       "mpl.default_extension = \"png\";var comm_websocket_adapter = function(comm) {\n",
       "    // Create a \"websocket\"-like object which calls the given IPython comm\n",
       "    // object with the appropriate methods. Currently this is a non binary\n",
       "    // socket, so there is still some room for performance tuning.\n",
       "    var ws = {};\n",
       "\n",
       "    ws.close = function() {\n",
       "        comm.close()\n",
       "    };\n",
       "    ws.send = function(m) {\n",
       "        //console.log('sending', m);\n",
       "        comm.send(m);\n",
       "    };\n",
       "    // Register the callback with on_msg.\n",
       "    comm.on_msg(function(msg) {\n",
       "        //console.log('receiving', msg['content']['data'], msg);\n",
       "        // Pass the mpl event to the overridden (by mpl) onmessage function.\n",
       "        ws.onmessage(msg['content']['data'])\n",
       "    });\n",
       "    return ws;\n",
       "}\n",
       "\n",
       "mpl.mpl_figure_comm = function(comm, msg) {\n",
       "    // This is the function which gets called when the mpl process\n",
       "    // starts-up an IPython Comm through the \"matplotlib\" channel.\n",
       "\n",
       "    var id = msg.content.data.id;\n",
       "    // Get hold of the div created by the display call when the Comm\n",
       "    // socket was opened in Python.\n",
       "    var element = $(\"#\" + id);\n",
       "    var ws_proxy = comm_websocket_adapter(comm)\n",
       "\n",
       "    function ondownload(figure, format) {\n",
       "        window.open(figure.imageObj.src);\n",
       "    }\n",
       "\n",
       "    var fig = new mpl.figure(id, ws_proxy,\n",
       "                           ondownload,\n",
       "                           element.get(0));\n",
       "\n",
       "    // Call onopen now - mpl needs it, as it is assuming we've passed it a real\n",
       "    // web socket which is closed, not our websocket->open comm proxy.\n",
       "    ws_proxy.onopen();\n",
       "\n",
       "    fig.parent_element = element.get(0);\n",
       "    fig.cell_info = mpl.find_output_cell(\"<div id='\" + id + \"'></div>\");\n",
       "    if (!fig.cell_info) {\n",
       "        console.error(\"Failed to find cell for figure\", id, fig);\n",
       "        return;\n",
       "    }\n",
       "\n",
       "    var output_index = fig.cell_info[2]\n",
       "    var cell = fig.cell_info[0];\n",
       "\n",
       "};\n",
       "\n",
       "mpl.figure.prototype.handle_close = function(fig, msg) {\n",
       "    var width = fig.canvas.width/mpl.ratio\n",
       "    fig.root.unbind('remove')\n",
       "\n",
       "    // Update the output cell to use the data from the current canvas.\n",
       "    fig.push_to_output();\n",
       "    var dataURL = fig.canvas.toDataURL();\n",
       "    // Re-enable the keyboard manager in IPython - without this line, in FF,\n",
       "    // the notebook keyboard shortcuts fail.\n",
       "    IPython.keyboard_manager.enable()\n",
       "    $(fig.parent_element).html('<img src=\"' + dataURL + '\" width=\"' + width + '\">');\n",
       "    fig.close_ws(fig, msg);\n",
       "}\n",
       "\n",
       "mpl.figure.prototype.close_ws = function(fig, msg){\n",
       "    fig.send_message('closing', msg);\n",
       "    // fig.ws.close()\n",
       "}\n",
       "\n",
       "mpl.figure.prototype.push_to_output = function(remove_interactive) {\n",
       "    // Turn the data on the canvas into data in the output cell.\n",
       "    var width = this.canvas.width/mpl.ratio\n",
       "    var dataURL = this.canvas.toDataURL();\n",
       "    this.cell_info[1]['text/html'] = '<img src=\"' + dataURL + '\" width=\"' + width + '\">';\n",
       "}\n",
       "\n",
       "mpl.figure.prototype.updated_canvas_event = function() {\n",
       "    // Tell IPython that the notebook contents must change.\n",
       "    IPython.notebook.set_dirty(true);\n",
       "    this.send_message(\"ack\", {});\n",
       "    var fig = this;\n",
       "    // Wait a second, then push the new image to the DOM so\n",
       "    // that it is saved nicely (might be nice to debounce this).\n",
       "    setTimeout(function () { fig.push_to_output() }, 1000);\n",
       "}\n",
       "\n",
       "mpl.figure.prototype._init_toolbar = function() {\n",
       "    var fig = this;\n",
       "\n",
       "    var nav_element = $('<div/>');\n",
       "    nav_element.attr('style', 'width: 100%');\n",
       "    this.root.append(nav_element);\n",
       "\n",
       "    // Define a callback function for later on.\n",
       "    function toolbar_event(event) {\n",
       "        return fig.toolbar_button_onclick(event['data']);\n",
       "    }\n",
       "    function toolbar_mouse_event(event) {\n",
       "        return fig.toolbar_button_onmouseover(event['data']);\n",
       "    }\n",
       "\n",
       "    for(var toolbar_ind in mpl.toolbar_items){\n",
       "        var name = mpl.toolbar_items[toolbar_ind][0];\n",
       "        var tooltip = mpl.toolbar_items[toolbar_ind][1];\n",
       "        var image = mpl.toolbar_items[toolbar_ind][2];\n",
       "        var method_name = mpl.toolbar_items[toolbar_ind][3];\n",
       "\n",
       "        if (!name) { continue; };\n",
       "\n",
       "        var button = $('<button class=\"btn btn-default\" href=\"#\" title=\"' + name + '\"><i class=\"fa ' + image + ' fa-lg\"></i></button>');\n",
       "        button.click(method_name, toolbar_event);\n",
       "        button.mouseover(tooltip, toolbar_mouse_event);\n",
       "        nav_element.append(button);\n",
       "    }\n",
       "\n",
       "    // Add the status bar.\n",
       "    var status_bar = $('<span class=\"mpl-message\" style=\"text-align:right; float: right;\"/>');\n",
       "    nav_element.append(status_bar);\n",
       "    this.message = status_bar[0];\n",
       "\n",
       "    // Add the close button to the window.\n",
       "    var buttongrp = $('<div class=\"btn-group inline pull-right\"></div>');\n",
       "    var button = $('<button class=\"btn btn-mini btn-primary\" href=\"#\" title=\"Stop Interaction\"><i class=\"fa fa-power-off icon-remove icon-large\"></i></button>');\n",
       "    button.click(function (evt) { fig.handle_close(fig, {}); } );\n",
       "    button.mouseover('Stop Interaction', toolbar_mouse_event);\n",
       "    buttongrp.append(button);\n",
       "    var titlebar = this.root.find($('.ui-dialog-titlebar'));\n",
       "    titlebar.prepend(buttongrp);\n",
       "}\n",
       "\n",
       "mpl.figure.prototype._root_extra_style = function(el){\n",
       "    var fig = this\n",
       "    el.on(\"remove\", function(){\n",
       "\tfig.close_ws(fig, {});\n",
       "    });\n",
       "}\n",
       "\n",
       "mpl.figure.prototype._canvas_extra_style = function(el){\n",
       "    // this is important to make the div 'focusable\n",
       "    el.attr('tabindex', 0)\n",
       "    // reach out to IPython and tell the keyboard manager to turn it's self\n",
       "    // off when our div gets focus\n",
       "\n",
       "    // location in version 3\n",
       "    if (IPython.notebook.keyboard_manager) {\n",
       "        IPython.notebook.keyboard_manager.register_events(el);\n",
       "    }\n",
       "    else {\n",
       "        // location in version 2\n",
       "        IPython.keyboard_manager.register_events(el);\n",
       "    }\n",
       "\n",
       "}\n",
       "\n",
       "mpl.figure.prototype._key_event_extra = function(event, name) {\n",
       "    var manager = IPython.notebook.keyboard_manager;\n",
       "    if (!manager)\n",
       "        manager = IPython.keyboard_manager;\n",
       "\n",
       "    // Check for shift+enter\n",
       "    if (event.shiftKey && event.which == 13) {\n",
       "        this.canvas_div.blur();\n",
       "        // select the cell after this one\n",
       "        var index = IPython.notebook.find_cell_index(this.cell_info[0]);\n",
       "        IPython.notebook.select(index + 1);\n",
       "    }\n",
       "}\n",
       "\n",
       "mpl.figure.prototype.handle_save = function(fig, msg) {\n",
       "    fig.ondownload(fig, null);\n",
       "}\n",
       "\n",
       "\n",
       "mpl.find_output_cell = function(html_output) {\n",
       "    // Return the cell and output element which can be found *uniquely* in the notebook.\n",
       "    // Note - this is a bit hacky, but it is done because the \"notebook_saving.Notebook\"\n",
       "    // IPython event is triggered only after the cells have been serialised, which for\n",
       "    // our purposes (turning an active figure into a static one), is too late.\n",
       "    var cells = IPython.notebook.get_cells();\n",
       "    var ncells = cells.length;\n",
       "    for (var i=0; i<ncells; i++) {\n",
       "        var cell = cells[i];\n",
       "        if (cell.cell_type === 'code'){\n",
       "            for (var j=0; j<cell.output_area.outputs.length; j++) {\n",
       "                var data = cell.output_area.outputs[j];\n",
       "                if (data.data) {\n",
       "                    // IPython >= 3 moved mimebundle to data attribute of output\n",
       "                    data = data.data;\n",
       "                }\n",
       "                if (data['text/html'] == html_output) {\n",
       "                    return [cell, data, j];\n",
       "                }\n",
       "            }\n",
       "        }\n",
       "    }\n",
       "}\n",
       "\n",
       "// Register the function which deals with the matplotlib target/channel.\n",
       "// The kernel may be null if the page has been refreshed.\n",
       "if (IPython.notebook.kernel != null) {\n",
       "    IPython.notebook.kernel.comm_manager.register_target('matplotlib', mpl.mpl_figure_comm);\n",
       "}\n"
      ],
      "text/plain": [
       "<IPython.core.display.Javascript object>"
      ]
     },
     "metadata": {},
     "output_type": "display_data"
    },
    {
     "data": {
      "text/html": [
       "<img src=\"data:image/png;base64,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\" width=\"640\">"
      ],
      "text/plain": [
       "<IPython.core.display.HTML object>"
      ]
     },
     "metadata": {},
     "output_type": "display_data"
    },
    {
     "name": "stderr",
     "output_type": "stream",
     "text": [
      "<ipython-input-33-f1a1ecd6d9dc>:6: UserWarning: In Matplotlib 3.3 individual lines on a stem plot will be added as a LineCollection instead of individual lines. This significantly improves the performance of a stem plot. To remove this warning and switch to the new behaviour, set the \"use_line_collection\" keyword argument to True.\n",
      "  plt.stem(t[idx_sample], x[idx_sample], linefmt='r', label='Sampled')\n"
     ]
    }
   ],
   "source": [
    "t = numpy.linspace(0, 2, 101)\n",
    "idx_sample = numpy.arange(0,101, 10)\n",
    "x = numpy.sin(2*pi*t)\n",
    "\n",
    "plt.plot(t, x, label='Original')\n",
    "plt.stem(t[idx_sample], x[idx_sample], linefmt='r', label='Sampled')\n",
    "\n",
    "plt.grid(True)\n",
    "\n",
    "plt.title('Sampling a Sine Wave')\n",
    "plt.xlabel('Time (Sec)')\n",
    "plt.ylabel('Amplitude (V)')\n",
    "plt.legend()\n",
    "\n",
    "\n",
    "plt.show()"
   ]
  },
  {
   "cell_type": "markdown",
   "metadata": {
    "slideshow": {
     "slide_type": "slide"
    }
   },
   "source": [
    "## What Signals We Are Considering\n"
   ]
  },
  {
   "cell_type": "markdown",
   "metadata": {},
   "source": []
  },
  {
   "cell_type": "code",
   "execution_count": null,
   "metadata": {},
   "outputs": [],
   "source": []
  },
  {
   "cell_type": "markdown",
   "metadata": {
    "slideshow": {
     "slide_type": "slide"
    }
   },
   "source": []
  },
  {
   "cell_type": "code",
   "execution_count": null,
   "metadata": {},
   "outputs": [],
   "source": []
  },
  {
   "cell_type": "markdown",
   "metadata": {
    "slideshow": {
     "slide_type": "slide"
    }
   },
   "source": [
    "##  Kinds of basic RF problems\n",
    "\n",
    "#### Communication\n",
    "  + Getting data between places\n",
    "\n",
    "#### Radar\n",
    "  + Using radio waves to sense something\n",
    "\n",
    "#### Passive Inference\n",
    "  + Using Emotions that already exist what can I figure out"
   ]
  },
  {
   "cell_type": "markdown",
   "metadata": {
    "slideshow": {
     "slide_type": "fragment"
    }
   },
   "source": [
    "## Time Series\n",
    "  + Sampled at a regular  \n",
    "  + "
   ]
  },
  {
   "cell_type": "markdown",
   "metadata": {
    "slideshow": {
     "slide_type": "fragment"
    }
   },
   "source": [
    "#### Radio Signals\n",
    "  + Can we capture it we a Software Defined Radio (SDR)"
   ]
  },
  {
   "cell_type": "markdown",
   "metadata": {
    "slideshow": {
     "slide_type": "fragment"
    }
   },
   "source": [
    "### Single Channel\n",
    "  + 1 dimension to each sample"
   ]
  },
  {
   "cell_type": "markdown",
   "metadata": {
    "slideshow": {
     "slide_type": "fragment"
    }
   },
   "source": [
    "### Narrowband\n",
    "  + Bandwidth of the signal is smaller than it's center frequency\n",
    "  "
   ]
  },
  {
   "cell_type": "code",
   "execution_count": null,
   "metadata": {},
   "outputs": [],
   "source": []
  },
  {
   "cell_type": "markdown",
   "metadata": {
    "slideshow": {
     "slide_type": "slide"
    }
   },
   "source": [
    "## Properties of Operations on Signals (Systems)\n",
    "  + Linearity\n",
    "  + Time Inverance \n",
    "  + Bounded Input Bounded Output\n",
    "  + Dirivatives and Differences\n",
    "  + Integrates and Sumations \n",
    "  + Useful Non-linear Functions\n",
    "    + ABS\n",
    "    + Squared\n",
    "    + Distance\n",
    "    + Log and Decibels"
   ]
  },
  {
   "cell_type": "markdown",
   "metadata": {
    "slideshow": {
     "slide_type": "subslide"
    }
   },
   "source": [
    "### Linearity\n",
    "\n",
    "  + Additivity\n",
    "$$ f(a+b) = f(a) + f(b) $$\n",
    "\n",
    "\n",
    "\n",
    "  + Homogeneity \n",
    "$$ f(\\alpha \\: x) = \\alpha \\: f(x) $$\n",
    "\n",
    "\n",
    "\n",
    "  + Approximately linear\n",
    "  \n",
    "    + Useful approximation\n",
    "    \n",
    "    + For b << a $f(a+b)$ can be treated as linear\n",
    "    \n",
    "    $$ f(a+b) \\approx f(a) + f(b) \\quad for \\:\\: b << a $$"
   ]
  },
  {
   "cell_type": "markdown",
   "metadata": {
    "slideshow": {
     "slide_type": "subslide"
    }
   },
   "source": [
    "#### Linear ?\n",
    "Is the function linear, non-linear, Approximately linear?\n",
    "  \n",
    "  1.  \n",
    "  \n",
    "  $$ f(x) = 3 \\cdot x $$"
   ]
  },
  {
   "cell_type": "markdown",
   "metadata": {
    "slideshow": {
     "slide_type": "fragment"
    }
   },
   "source": [
    "  2. \n",
    "  \n",
    "  $$ f(x) = 0 \\cdot x $$"
   ]
  },
  {
   "cell_type": "markdown",
   "metadata": {
    "slideshow": {
     "slide_type": "fragment"
    }
   },
   "source": [
    "  3. \n",
    "  \n",
    "  $$ f(x) = 2 \\cdot x+1 $$"
   ]
  },
  {
   "cell_type": "markdown",
   "metadata": {
    "slideshow": {
     "slide_type": "fragment"
    }
   },
   "source": [
    "  4. \n",
    "  \n",
    "  $$ f(x) = x^{2} $$"
   ]
  },
  {
   "cell_type": "markdown",
   "metadata": {
    "slideshow": {
     "slide_type": "subslide"
    }
   },
   "source": [
    "### Time Inverance\n",
    "\n",
    "  + Function or System not dependent on what time it is\n",
    "  \n",
    "  $$ y(t) = f(x, t) = f(x, t+a) \\quad for \\: any \\: a $$"
   ]
  },
  {
   "cell_type": "markdown",
   "metadata": {
    "slideshow": {
     "slide_type": "fragment"
    }
   },
   "source": [
    "#### Time Inverent ?\n",
    "\n",
    "  1. \n",
    "  \n",
    "  $$ f(x) = 10 \\cdot x $$"
   ]
  },
  {
   "cell_type": "markdown",
   "metadata": {
    "slideshow": {
     "slide_type": "fragment"
    }
   },
   "source": [
    "  2. \n",
    "  $$ f(x) = x^{2} + 2x + 1 $$"
   ]
  },
  {
   "cell_type": "markdown",
   "metadata": {
    "slideshow": {
     "slide_type": "fragment"
    }
   },
   "source": [
    " 3. \n",
    "    $$ f(x) = t \\cdot x $$"
   ]
  },
  {
   "cell_type": "markdown",
   "metadata": {
    "slideshow": {
     "slide_type": "fragment"
    }
   },
   "source": [
    "  4. \n",
    "  $$ f(x) = x * \\delta(t-1) $$\n",
    "  \n",
    "    + What is that symbol \"$*$\" ? \n",
    "    + What about that other symbol \"$\\delta$\"?"
   ]
  },
  {
   "cell_type": "markdown",
   "metadata": {
    "slideshow": {
     "slide_type": "subslide"
    }
   },
   "source": [
    "###  Bounded Input Bounded Output\n",
    "\n",
    "  + For any input of limited energy the output energy is limited\n",
    "  \n",
    "$$ \\int_{- \\infty}^{\\infty} | \\: f(x) \\:  | \\: dt \\: < \\: \\infty  \\quad  for \\: \\int_{- \\infty}^{\\infty} | \\: x \\:  | \\: dt < \\infty$$"
   ]
  },
  {
   "cell_type": "markdown",
   "metadata": {
    "slideshow": {
     "slide_type": "fragment"
    }
   },
   "source": [
    "#### BIBO System?\n",
    "\n",
    "1. \n",
    "$$ f(x) = 5 \\cdot x + 2 $$"
   ]
  },
  {
   "cell_type": "markdown",
   "metadata": {
    "slideshow": {
     "slide_type": "fragment"
    }
   },
   "source": [
    "  2. \n",
    "  $$ f(x) = x^2 $$"
   ]
  },
  {
   "cell_type": "markdown",
   "metadata": {
    "slideshow": {
     "slide_type": "fragment"
    }
   },
   "source": [
    "  3. \n",
    "  $$ f(x) =  \\cfrac{1}{x} $$"
   ]
  },
  {
   "cell_type": "markdown",
   "metadata": {
    "slideshow": {
     "slide_type": "fragment"
    }
   },
   "source": [
    "  4. \n",
    "  $$ f(x) = \\int_{-\\infty}^{t} x^{2}(\\tau) \\: d \\tau $$"
   ]
  },
  {
   "cell_type": "markdown",
   "metadata": {
    "slideshow": {
     "slide_type": "subslide"
    }
   },
   "source": [
    "### Dirivatives and Differences\n",
    "\n",
    "#### Dirivative\n",
    "The rate of chage with respect to another variable.\n",
    "\n",
    "# Insert Dirivative Graphic"
   ]
  },
  {
   "cell_type": "markdown",
   "metadata": {
    "slideshow": {
     "slide_type": "subslide"
    }
   },
   "source": []
  },
  {
   "cell_type": "markdown",
   "metadata": {},
   "source": []
  },
  {
   "cell_type": "markdown",
   "metadata": {
    "slideshow": {
     "slide_type": "slide"
    }
   },
   "source": [
    "## Random Varaibles\n",
    "  + Basics of Probablilty\n",
    "    + \n",
    "    + Total Probablilty\n",
    "    + Probability Density Function\n",
    "    + Cumulative Distribution Function\n",
    " + Continuous Vs. Discrete\n",
    " + Common Distributions\n",
    "    + Uniform\n",
    "    + Exponential\n",
    "    + Gaussian\n",
    "    + Chi Squared\n",
    "  + Conditional Probability \n",
    "  + Mean, Variance, and higher Moments\n",
    "  + Correlation\n",
    "  + Independent and identically Distributed Random Variables\n",
    "  + Operations on random variables\n",
    "  + Central Limit Theorem"
   ]
  },
  {
   "cell_type": "markdown",
   "metadata": {
    "slideshow": {
     "slide_type": "subslide"
    }
   },
   "source": [
    "### Basics Probability\n",
    "\n",
    "  \n",
    "  <img src=\"probability.png\" width=\"75%\" >"
   ]
  },
  {
   "cell_type": "markdown",
   "metadata": {
    "slideshow": {
     "slide_type": "subslide"
    }
   },
   "source": [
    "  + Total Probability\n",
    "    + Sum of all included outcomes is 1\n",
    "    \n",
    " \n",
    " <img src=\"probability_total.png\" width=\"75%\" >"
   ]
  },
  {
   "cell_type": "markdown",
   "metadata": {
    "slideshow": {
     "slide_type": "subslide"
    }
   },
   "source": [
    "#### Probability of 1?\n",
    "Given a random number generator what are the odd's it will return 1?\n",
    "\n",
    "<img src=\"probability_point.png\" width=\"75%\" >\n",
    "\n"
   ]
  },
  {
   "cell_type": "markdown",
   "metadata": {
    "slideshow": {
     "slide_type": "subslide"
    }
   },
   "source": [
    "#### Probability less than 0\n",
    "\n",
    "<img src=\"probability_regoin.png\" width=\"75%\">"
   ]
  },
  {
   "cell_type": "markdown",
   "metadata": {
    "slideshow": {
     "slide_type": "subslide"
    }
   },
   "source": [
    "### Probability Density Function\n",
    "\n",
    "  <img src=\"probability.png\" width=\"75%\" >"
   ]
  },
  {
   "cell_type": "markdown",
   "metadata": {
    "slideshow": {
     "slide_type": "subslide"
    }
   },
   "source": [
    "### Cumulative Density Function\n",
    "\n",
    "<img src=\"probability_pdf_cdf.png\" width=\"75%\">"
   ]
  },
  {
   "cell_type": "markdown",
   "metadata": {
    "slideshow": {
     "slide_type": "subslide"
    }
   },
   "source": []
  },
  {
   "cell_type": "code",
   "execution_count": null,
   "metadata": {},
   "outputs": [],
   "source": []
  },
  {
   "cell_type": "markdown",
   "metadata": {},
   "source": [
    "    \n",
    "## Basic Linear Algebra\n",
    "    + Vector Operations\n",
    "      + Addition\n",
    "      + Scaler Multiplication\n",
    "      + Vector Span\n",
    "    + Vector Products\n",
    "      + Elementwise Product\n",
    "      + Outter Product\n",
    "      + Inner Product\n",
    "    + Matrix Operations\n",
    "    + Cauchy–Schwarz inequality\n",
    "    + Matched Filter\n",
    "    + Convolution\n",
    "    + Correlation of random vectors\n",
    "    + Rotation Matrices\n",
    "    + \n",
    "    "
   ]
  },
  {
   "cell_type": "code",
   "execution_count": null,
   "metadata": {},
   "outputs": [],
   "source": []
  },
  {
   "cell_type": "code",
   "execution_count": null,
   "metadata": {},
   "outputs": [],
   "source": []
  },
  {
   "cell_type": "markdown",
   "metadata": {},
   "source": [
    "\n",
    "  + Basic Math Operations\n",
    "    + Linearity\n",
    "    + Time Inverance \n",
    "    + Bounded Input Bounded Output\n",
    "    + Dirivatives and Differences\n",
    "    + Integrates and Sumations \n",
    "    + Useful Non-linear Functions\n",
    "      + ABS\n",
    "      + Squared\n",
    "      + Log and Decibels\n",
    "    \n",
    "  + Continous Vs. Descrete Signals\n",
    "    + Analog to Digital Conversion\n",
    "    + Digital to Analog Conversion\n",
    "    + Delta Symbol\n",
    "    + Nyquest Sampling\n",
    "    \n",
    "  + Random Varaibles\n",
    "    + Basics of Probablilty\n",
    "      + Probability Density Function\n",
    "      + Total Probablilty\n",
    "      + Cumulative Distribution Function\n",
    "    + Continuous Vs. Discrete\n",
    "    + Common Distributions\n",
    "      + Uniform\n",
    "      + Exponential\n",
    "      + Gaussian\n",
    "      + Chi Squared\n",
    "    + Independent and identically Distributed Random Variables\n",
    "    + Operations on random variables\n",
    "    + Central Limit Theorem\n",
    "    + Correlation\n",
    "    \n",
    "  + Basic Linear Algebra\n",
    "    + Vector Operations\n",
    "      + Addition\n",
    "      + Scaler Multiplication\n",
    "      + Vector Span\n",
    "    + Vector Products\n",
    "      + Elementwise Product\n",
    "      + Outter Product\n",
    "      + Inner Product\n",
    "    + Matrix Operations\n",
    "    + Cauchy–Schwarz inequality\n",
    "    + Matched Filter\n",
    "    + Convolution\n",
    "    + Correlation of random vectors\n",
    "    + Rotation Matrices\n",
    "    + \n",
    "    \n",
    "  + Frequency / Tone\n",
    "    + Real valued\n",
    "    + Matched Filter Real valued\n",
    "    + Phase\n",
    "    + Complex Samples\n",
    "    \n",
    "  + Complex Number\n",
    "    + Direct-conversion receiver\n",
    "    + Negative Frequencies?\n",
    "    + Relationship between Phase and Delay\n",
    "    + Complex Random Numbers\n",
    "  "
   ]
  }
 ],
 "metadata": {
  "celltoolbar": "Slideshow",
  "kernelspec": {
   "display_name": "Python 3",
   "language": "python",
   "name": "python3"
  },
  "language_info": {
   "codemirror_mode": {
    "name": "ipython",
    "version": 3
   },
   "file_extension": ".py",
   "mimetype": "text/x-python",
   "name": "python",
   "nbconvert_exporter": "python",
   "pygments_lexer": "ipython3",
   "version": "3.8.10"
  }
 },
 "nbformat": 4,
 "nbformat_minor": 4
}
