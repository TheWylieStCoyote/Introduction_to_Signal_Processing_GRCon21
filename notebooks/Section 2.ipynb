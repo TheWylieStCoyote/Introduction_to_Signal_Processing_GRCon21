{
 "cells": [
  {
   "cell_type": "markdown",
   "metadata": {
    "slideshow": {
     "slide_type": "slide"
    }
   },
   "source": [
    "# Section 2\n"
   ]
  },
  {
   "cell_type": "markdown",
   "metadata": {
    "cell_style": "split",
    "slideshow": {
     "slide_type": "slide"
    }
   },
   "source": [
    "## Frequency\n",
    "\n",
    " $$ f = \\cfrac{1}{Period} $$\n",
    "\n",
    "  + Angular frequency $ \\omega = 2\\pi f $\n",
    "  \n",
    " $$ x(t) = cos \\left ( 2 \\: \\pi \\: f \\: t \\right ) $$"
   ]
  },
  {
   "cell_type": "markdown",
   "metadata": {
    "cell_style": "split",
    "slideshow": {
     "slide_type": "-"
    }
   },
   "source": [
    "<img src=\"sine_wave.gif\" width=\"100%\">"
   ]
  },
  {
   "cell_type": "markdown",
   "metadata": {
    "slideshow": {
     "slide_type": "subslide"
    }
   },
   "source": [
    "### Matched Filter with Cos\n",
    "\n",
    "$$ \n",
    "\\begin{align}\n",
    "X(f) &= \\int_{-t_{min}}^{t_{max}} x(t) \\: cos(-2 \\: \\pi \\: f \\: t ) \\: dt  \\\\\n",
    " &= \\int_{-t_{min}}^{t_{max}} x(t) \\: cos(2 \\: \\pi \\: f \\: t ) \\: dt \n",
    "\\end{align}\n",
    "$$"
   ]
  },
  {
   "cell_type": "markdown",
   "metadata": {
    "slideshow": {
     "slide_type": "subslide"
    }
   },
   "source": [
    "<img src=\"matched_filter_phase_1.gif\" width=\"90%\">"
   ]
  },
  {
   "cell_type": "markdown",
   "metadata": {},
   "source": [
    "<img src=\"Cos_Transform_cos.gif?0\" width=\"90%\">"
   ]
  },
  {
   "cell_type": "markdown",
   "metadata": {},
   "source": [
    "<img src=\"Cos_Transform_sin.gif\" width=\"90%\">"
   ]
  },
  {
   "cell_type": "markdown",
   "metadata": {
    "slideshow": {
     "slide_type": "subslide"
    }
   },
   "source": [
    "<img src=\"Cos_Transform_rect.gif?0\" width=\"90%\"> "
   ]
  },
  {
   "cell_type": "markdown",
   "metadata": {
    "slideshow": {
     "slide_type": "subslide"
    }
   },
   "source": [
    "<img src=\"Cos_Transform_sinc.gif\" width=\"90%\">"
   ]
  },
  {
   "cell_type": "markdown",
   "metadata": {
    "slideshow": {
     "slide_type": "subslide"
    }
   },
   "source": [
    "<img src=\"Cos_Transform_exp.gif\" width=\"90%\">"
   ]
  },
  {
   "cell_type": "markdown",
   "metadata": {
    "slideshow": {
     "slide_type": "subslide"
    }
   },
   "source": [
    "<img src=\"Cos_Transform_gaussian.gif\" width=\"90%\">"
   ]
  },
  {
   "cell_type": "markdown",
   "metadata": {
    "slideshow": {
     "slide_type": "slide"
    }
   },
   "source": [
    "## Negative Frequencies"
   ]
  },
  {
   "cell_type": "markdown",
   "metadata": {
    "slideshow": {
     "slide_type": "subslide"
    }
   },
   "source": [
    "<img src=\"matched_filter_IQ_negative.gif\" width=\"90%\">"
   ]
  },
  {
   "cell_type": "markdown",
   "metadata": {
    "slideshow": {
     "slide_type": "subslide"
    }
   },
   "source": [
    "<img src=\"Cos_Transform_NF_cos.gif\" width=\"90%\">"
   ]
  },
  {
   "cell_type": "markdown",
   "metadata": {
    "slideshow": {
     "slide_type": "subslide"
    }
   },
   "source": [
    "<img src=\"Cos_Transform_NF_rect.gif?0\" width=\"90%\"> "
   ]
  },
  {
   "cell_type": "markdown",
   "metadata": {
    "slideshow": {
     "slide_type": "subslide"
    }
   },
   "source": [
    "<img src=\"Cos_Transform_NF_sinc.gif\" width=\"90%\">"
   ]
  },
  {
   "cell_type": "markdown",
   "metadata": {},
   "source": [
    "<img src=\"Cos_Transform_NF_gaussian.gif\" width=\"90%\">"
   ]
  },
  {
   "cell_type": "markdown",
   "metadata": {
    "slideshow": {
     "slide_type": "subslide"
    }
   },
   "source": [
    "<img src=\"Cos_Transform_NF_sin.gif?2\" width=\"90%\">"
   ]
  },
  {
   "cell_type": "markdown",
   "metadata": {
    "slideshow": {
     "slide_type": "slide"
    }
   },
   "source": [
    "## Fourier Transform\n",
    "\n",
    "$$ X(f) = \\int_{-\\infty}^{\\infty} x(t) \\: e^{-2 \\pi f t} \\: dt $$\n",
    "\n",
    "Recall: \n",
    "\n",
    "$$ e^{-2 \\pi f t} = cos({-2 \\pi f t}) + i \\: sin({-2 \\pi f t}) $$"
   ]
  },
  {
   "cell_type": "markdown",
   "metadata": {
    "slideshow": {
     "slide_type": "subslide"
    }
   },
   "source": [
    "<img src=\"Fourier_Transform_cos.gif\" width=\"90%\">"
   ]
  },
  {
   "cell_type": "markdown",
   "metadata": {
    "slideshow": {
     "slide_type": "notes"
    }
   },
   "source": [
    "Cosine function"
   ]
  },
  {
   "cell_type": "markdown",
   "metadata": {
    "slideshow": {
     "slide_type": "subslide"
    }
   },
   "source": [
    "<img src=\"Fourier_Transform_sin.gif\" width=\"90%\">"
   ]
  },
  {
   "cell_type": "markdown",
   "metadata": {
    "slideshow": {
     "slide_type": "notes"
    }
   },
   "source": [
    "Sine function"
   ]
  },
  {
   "cell_type": "markdown",
   "metadata": {
    "slideshow": {
     "slide_type": "subslide"
    }
   },
   "source": [
    "<img src=\"Fourier_Transform_rect.gif\" width=\"90%\">"
   ]
  },
  {
   "cell_type": "markdown",
   "metadata": {
    "slideshow": {
     "slide_type": "subslide"
    }
   },
   "source": [
    "<img src=\"Fourier_Transform_rect_narrow.gif\" width=\"90%\">"
   ]
  },
  {
   "cell_type": "markdown",
   "metadata": {
    "slideshow": {
     "slide_type": "subslide"
    }
   },
   "source": [
    "<img src=\"Fourier_Transform_rect_med.gif\" width=\"90%\">"
   ]
  },
  {
   "cell_type": "code",
   "execution_count": null,
   "metadata": {},
   "outputs": [],
   "source": []
  },
  {
   "cell_type": "code",
   "execution_count": null,
   "metadata": {},
   "outputs": [],
   "source": []
  },
  {
   "cell_type": "markdown",
   "metadata": {},
   "source": [
    "### Section 2\n",
    "  + Frequency\n",
    "    + Matched Filter Response\n",
    "    \n",
    "  + Fourier Transform\n",
    "    + Sines, Cosines, Tones\n",
    "    + Definition \n",
    "    + Rectangular Pulse \n",
    "    + Pulse \n",
    "    + Density, Energy, Power\n",
    "    + Fourier Series\n",
    "      + Pulse Train\n",
    "      + Wave Wave\n",
    "    \n",
    "  + Properties\n",
    "    + Conservation of Energy\n",
    "    + Time shifts\n",
    "    + Pairs\n",
    "    + Bounding in Time and Frequency\n",
    "    \n",
    "  + Transform Tables\n",
    "    + Sinusoids\n",
    "    + Square Wave\n",
    "    \n",
    "  + Discrete Fourier Transform\n",
    "    + Building from the matched filter\n",
    "    + Fast Fourier Transform\n",
    "    \n",
    "  + Fourier Transform of Noise\n",
    "    + What does this mean?\n",
    "    + White Noise\n",
    "    + Colored Noise\n",
    "    + Power Spectral Density\n",
    "    + Autocorrelation\n",
    "    \n",
    "  + Windows\n",
    "    + What is a window\n",
    "    + When would you use one\n",
    "    + How to choose a window\n",
    "    + Common Windows and Properties\n",
    "      + Rectangular\n",
    "      + Triangular\n",
    "      + Hamming\n",
    "      + Blackman harris\n",
    "      + Root Raised Cosine\n",
    "      + Gaussian\n",
    "    \n",
    "  + Filters\n",
    "    + Bode Plots\n",
    "    + Finite Impulse Response Filter\n",
    "    + Infinite Impulse Response Filter\n",
    "    + Stability \n",
    "    + Group Delay\n",
    "    +\n",
    "    \n",
    "  + Laplace Transform\n",
    "    + Complex Frequency\n",
    "    + Finding Stability\n",
    "    \n",
    "  + Z Transform\n",
    "    + Discrete Laplace Transform\n",
    "    "
   ]
  }
 ],
 "metadata": {
  "celltoolbar": "Slideshow",
  "kernelspec": {
   "display_name": "Python 3",
   "language": "python",
   "name": "python3"
  },
  "language_info": {
   "codemirror_mode": {
    "name": "ipython",
    "version": 3
   },
   "file_extension": ".py",
   "mimetype": "text/x-python",
   "name": "python",
   "nbconvert_exporter": "python",
   "pygments_lexer": "ipython3",
   "version": "3.8.10"
  }
 },
 "nbformat": 4,
 "nbformat_minor": 4
}
