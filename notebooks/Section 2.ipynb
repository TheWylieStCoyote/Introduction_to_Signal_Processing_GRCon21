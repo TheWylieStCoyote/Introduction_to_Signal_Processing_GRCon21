{
 "cells": [
  {
   "cell_type": "markdown",
   "metadata": {},
   "source": [
    "# Section 2\n"
   ]
  },
  {
   "cell_type": "markdown",
   "metadata": {},
   "source": [
    "## Frequency\n",
    "  + Matched Filter Response"
   ]
  },
  {
   "cell_type": "markdown",
   "metadata": {},
   "source": []
  },
  {
   "cell_type": "markdown",
   "metadata": {},
   "source": []
  },
  {
   "cell_type": "markdown",
   "metadata": {},
   "source": []
  },
  {
   "cell_type": "markdown",
   "metadata": {},
   "source": []
  },
  {
   "cell_type": "markdown",
   "metadata": {},
   "source": []
  },
  {
   "cell_type": "markdown",
   "metadata": {},
   "source": [
    "### Section 2\n",
    "  + Frequency\n",
    "    + Matched Filter Response\n",
    "    \n",
    "  + Fourier Transform\n",
    "    + Sines, Cosines, Tones\n",
    "    + Definition \n",
    "    + Rectangular Pulse \n",
    "    + Pulse \n",
    "    + Density vs Energy \n",
    "    + Fourier Series\n",
    "      + Pulse Train\n",
    "      + Wave Wave\n",
    "    \n",
    "  + Properties\n",
    "    + Conservation of Energy\n",
    "    + Time shifts\n",
    "    + Pairs\n",
    "    + Bounding in Time and Frequency\n",
    "    \n",
    "  + Transform Tables\n",
    "    + Sinusoids\n",
    "    + Square Wave\n",
    "    + \n",
    "    \n",
    "  + Discrete Fourier Transform\n",
    "    + Building from the matched filter\n",
    "    + Fast Fourier Transform\n",
    "    \n",
    "  + Fourier Transform of Noise\n",
    "    + What does this mean?\n",
    "    + White Noise\n",
    "    + Colored Noise\n",
    "    + Power Spectral Density\n",
    "    + Autocorrelation\n",
    "    \n",
    "  + Windows\n",
    "    + What is a window\n",
    "    + When would you choise one\n",
    "    + \n",
    "    + Common Windows and Properties\n",
    "      + Rectangular\n",
    "      + Triangular\n",
    "      + Hamming\n",
    "      + Blackman harris\n",
    "      + Root Raised Cosine\n",
    "      + Gaussian\n",
    "    \n",
    "  + Filters\n",
    "    + Bode Plots\n",
    "    + Finite Impulse Response Filter\n",
    "    + Infinite Impulse Response Filter\n",
    "    + Stability \n",
    "    + Group Delay\n",
    "    +\n",
    "    \n",
    "  + Laplace Transform\n",
    "    + Complex Frequency\n",
    "    + Finding Stability\n",
    "    \n",
    "  + Z Transform\n",
    "    + Descrete Laplace Transform\n",
    "    + \n",
    "    "
   ]
  }
 ],
 "metadata": {
  "celltoolbar": "Slideshow",
  "kernelspec": {
   "display_name": "Python 3",
   "language": "python",
   "name": "python3"
  },
  "language_info": {
   "codemirror_mode": {
    "name": "ipython",
    "version": 3
   },
   "file_extension": ".py",
   "mimetype": "text/x-python",
   "name": "python",
   "nbconvert_exporter": "python",
   "pygments_lexer": "ipython3",
   "version": "3.8.10"
  }
 },
 "nbformat": 4,
 "nbformat_minor": 4
}
