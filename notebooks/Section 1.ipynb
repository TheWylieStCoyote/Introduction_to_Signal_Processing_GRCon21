{
 "cells": [
  {
   "cell_type": "markdown",
   "metadata": {
    "slideshow": {
     "slide_type": "slide"
    }
   },
   "source": [
    "# Section 1\n"
   ]
  },
  {
   "cell_type": "markdown",
   "metadata": {
    "slideshow": {
     "slide_type": "slide"
    }
   },
   "source": [
    "# What Is A Signal\n",
    "\n",
    "\n",
    "<img src=\"sine_wave_sampled.gif?2\" width=\"75%\">"
   ]
  },
  {
   "cell_type": "code",
   "execution_count": 16,
   "metadata": {
    "cell_style": "split",
    "slideshow": {
     "slide_type": "subslide"
    }
   },
   "outputs": [],
   "source": [
    "import numpy \n",
    "from numpy import pi\n",
    "from scipy import signal, stats, io\n",
    "\n",
    "from ipywidgets import *\n",
    "\n",
    "import time\n",
    "from datetime import datetime\n",
    "\n",
    "\n",
    "\n",
    "import matplotlib.pyplot as plt\n",
    "\n",
    "#%matplotlib inline\n",
    "%matplotlib notebook"
   ]
  },
  {
   "cell_type": "code",
   "execution_count": 18,
   "metadata": {
    "cell_style": "split",
    "slideshow": {
     "slide_type": "-"
    }
   },
   "outputs": [
    {
     "name": "stdout",
     "output_type": "stream",
     "text": [
      "2021-09-14 17:35:06.803933\n"
     ]
    }
   ],
   "source": [
    "print(datetime.now())"
   ]
  },
  {
   "cell_type": "markdown",
   "metadata": {
    "slideshow": {
     "slide_type": "slide"
    }
   },
   "source": [
    "## What Is A Signal\n"
   ]
  },
  {
   "cell_type": "markdown",
   "metadata": {
    "slideshow": {
     "slide_type": "fragment"
    }
   },
   "source": [
    "  + Something that carries or conveys information"
   ]
  },
  {
   "cell_type": "markdown",
   "metadata": {
    "slideshow": {
     "slide_type": "fragment"
    }
   },
   "source": [
    "  + What does that even mean?"
   ]
  },
  {
   "cell_type": "markdown",
   "metadata": {
    "slideshow": {
     "slide_type": "fragment"
    }
   },
   "source": [
    "  + That is about anything?"
   ]
  },
  {
   "cell_type": "markdown",
   "metadata": {
    "slideshow": {
     "slide_type": "fragment"
    }
   },
   "source": [
    "  + This is so general it maybe useless, maybe"
   ]
  },
  {
   "cell_type": "markdown",
   "metadata": {
    "slideshow": {
     "slide_type": "slide"
    }
   },
   "source": [
    "#### Examples of Signals"
   ]
  },
  {
   "cell_type": "markdown",
   "metadata": {
    "slideshow": {
     "slide_type": "subslide"
    }
   },
   "source": [
    "#### Sound\n",
    "    + Acoustic waves\n",
    "    + Humans hear between 20Hz to 20 KHz\n",
    "    \n",
    "  \n",
    "  <img src=\"Theme_Classic.png\" width=\"65%\" />\n",
    "  \n",
    " https://www.audacityteam.org/"
   ]
  },
  {
   "cell_type": "markdown",
   "metadata": {
    "cell_style": "center",
    "slideshow": {
     "slide_type": "subslide"
    }
   },
   "source": [
    "### Sea Levels\n",
    "\n",
    "\n",
    "\n",
    "<img src=\"NASA-Satellite-sea-level-rise-observations.jpg\" width=\"40%\" />\n",
    "\n",
    "+ https://climate.nasa.gov/vital-signs/sea-level/\n",
    "\n",
    "+ https://en.wikipedia.org/wiki/Sea_level_rise\n"
   ]
  },
  {
   "cell_type": "markdown",
   "metadata": {
    "slideshow": {
     "slide_type": "subslide"
    }
   },
   "source": [
    "### Stock Prices\n",
    " [Game Stop 1 year](https://www.google.com/finance/quote/GME:NYSE?sa=X&sqi=2&ved=2ahUKEwiOzfqbxP_yAhWfQ_EDHVQZDgQQ3ecFegQILhAS&window=1Y)\n",
    "     \n",
    "<img src=\"GameStopStock.png?1\" width=\"55%\">"
   ]
  },
  {
   "cell_type": "markdown",
   "metadata": {
    "cell_style": "split",
    "slideshow": {
     "slide_type": "subslide"
    }
   },
   "source": [
    "#### Sun Spots\n",
    "\n",
    "<img src=\"Sunspots_1302_Sep_2011_by_NASA.jpg\" width=\"85%\" >\n",
    "\n",
    "https://en.wikipedia.org/wiki/Sunspot\n"
   ]
  },
  {
   "cell_type": "markdown",
   "metadata": {
    "cell_style": "split",
    "slideshow": {
     "slide_type": "fragment"
    }
   },
   "source": [
    "#### Sun Spots over time\n",
    "   \n",
    "<img src=\"Sunspot_Numbers.png\" width=\"100%\" >"
   ]
  },
  {
   "cell_type": "markdown",
   "metadata": {
    "slideshow": {
     "slide_type": "skip"
    }
   },
   "source": []
  },
  {
   "cell_type": "markdown",
   "metadata": {
    "cell_style": "split",
    "slideshow": {
     "slide_type": "subslide"
    }
   },
   "source": [
    "#### Gravity Waves\n",
    "  + Surface waves\n",
    "  + Sea waves\n",
    "  + Eeathquakes\n",
    "  \n",
    "\n",
    "https://en.wikipedia.org/wiki/Wake"
   ]
  },
  {
   "cell_type": "markdown",
   "metadata": {
    "cell_style": "split",
    "slideshow": {
     "slide_type": "-"
    }
   },
   "source": [
    "<img src=\"duck_wake.jpg\" width=\"100%\">"
   ]
  },
  {
   "cell_type": "markdown",
   "metadata": {
    "cell_style": "split",
    "slideshow": {
     "slide_type": "subslide"
    }
   },
   "source": [
    "#### Gravitational Waves\n",
    "\n",
    "+ Find Black Holes combining\n",
    "+ 1 Billion dollar detector\n",
    "\n",
    "<img src=\"1280px-LIGO_Hanford_aerial_05.jpg\" width=\"50%\" >\n",
    "\n",
    "[http://svs.gsfc.nasa.gov/](http://svs.gsfc.nasa.gov//vis/a010000/a010500/a010543/WhtDwrfCollid_ProRes_720x486_59.94fps.webmhd.webm)\n"
   ]
  },
  {
   "cell_type": "markdown",
   "metadata": {
    "cell_style": "split",
    "slideshow": {
     "slide_type": "-"
    }
   },
   "source": [
    "\n",
    "+ 2017 Nobel prize\n",
    "\n",
    "\n",
    "\n",
    "<img src=\"ns_gw_art.jpg\" width=\"75%\">\n",
    "\n",
    "https://www.ligo.caltech.edu/page/what-are-gw\n",
    "\n",
    "https://en.wikipedia.org/wiki/Gravitational-wave_observatory\n"
   ]
  },
  {
   "cell_type": "code",
   "execution_count": null,
   "metadata": {
    "slideshow": {
     "slide_type": "notes"
    }
   },
   "outputs": [],
   "source": []
  },
  {
   "cell_type": "markdown",
   "metadata": {
    "cell_style": "split",
    "slideshow": {
     "slide_type": "subslide"
    }
   },
   "source": [
    "#### Electrical\n",
    "  + Probably what everyone things of\n",
    "  + It's all electrical signals at some point\n",
    "  + Voltage or current changing in\n",
    "    + Time\n",
    "    + Node\n",
    "    + position"
   ]
  },
  {
   "cell_type": "markdown",
   "metadata": {
    "cell_style": "split",
    "slideshow": {
     "slide_type": "-"
    }
   },
   "source": [
    "<img src=\"Scope.jpeg\" width=\"100%\">"
   ]
  },
  {
   "cell_type": "code",
   "execution_count": null,
   "metadata": {
    "slideshow": {
     "slide_type": "notes"
    }
   },
   "outputs": [],
   "source": []
  },
  {
   "cell_type": "markdown",
   "metadata": {
    "cell_style": "split",
    "slideshow": {
     "slide_type": "subslide"
    }
   },
   "source": [
    "##### Light\n",
    "  + Cameras\n",
    "  + Light level\n",
    "\n"
   ]
  },
  {
   "cell_type": "markdown",
   "metadata": {
    "cell_style": "split",
    "slideshow": {
     "slide_type": "-"
    }
   },
   "source": []
  },
  {
   "cell_type": "code",
   "execution_count": null,
   "metadata": {},
   "outputs": [],
   "source": []
  },
  {
   "cell_type": "markdown",
   "metadata": {
    "cell_style": "split",
    "slideshow": {
     "slide_type": "subslide"
    }
   },
   "source": [
    "  + Radio Waves\n",
    "    + "
   ]
  },
  {
   "cell_type": "markdown",
   "metadata": {
    "cell_style": "split",
    "slideshow": {
     "slide_type": "-"
    }
   },
   "source": []
  },
  {
   "cell_type": "code",
   "execution_count": null,
   "metadata": {
    "slideshow": {
     "slide_type": "skip"
    }
   },
   "outputs": [],
   "source": []
  },
  {
   "cell_type": "markdown",
   "metadata": {
    "cell_style": "split",
    "slideshow": {
     "slide_type": "slide"
    }
   },
   "source": [
    "##### Radar\n",
    "  + Detecting aircraft, ships, ...\n",
    "  + Automotive distance sensing\n",
    "  + Imaging Astreroids\n",
    "    + Beyond the ability of optical telescopes\n",
    "    + Each image ~2Km square\n",
    "    + ~20X Earth-Moon distance\n",
    "\n"
   ]
  },
  {
   "cell_type": "markdown",
   "metadata": {
    "cell_style": "split",
    "slideshow": {
     "slide_type": "-"
    }
   },
   "source": [
    "https://www.jpl.nasa.gov/news/nine-radar-images-of-asteroid-2007-pa8\n",
    "\n",
    "<img src=\"astro_sar_img.jpg\" width=\"100%\">"
   ]
  },
  {
   "cell_type": "markdown",
   "metadata": {
    "slideshow": {
     "slide_type": "subslide"
    }
   },
   "source": [
    "#### Examples of Signals\n",
    "\n",
    "  + Sound\n",
    "  + Sea Level\n",
    "  + Stock Prices\n",
    "  + Sun Spots\n",
    "  + Gravity Waves\n",
    "  + Electrical \n",
    "  + Electromagnetic waves\n",
    "    + Light\n",
    "    + Radio Waves\n",
    "    + Communications\n",
    "    + Radar\n",
    "    +\n",
    "    "
   ]
  },
  {
   "cell_type": "markdown",
   "metadata": {
    "slideshow": {
     "slide_type": "slide"
    }
   },
   "source": [
    "##  Basic RF problems\n",
    "\n",
    "#### Communication\n",
    "  + Getting data between places\n",
    "\n",
    "#### Radar\n",
    "  + Using radio waves to sense something\n",
    "\n",
    "#### Passive Inference\n",
    "  + Using Emotions that already exist what can I figure out"
   ]
  },
  {
   "cell_type": "markdown",
   "metadata": {},
   "source": []
  },
  {
   "cell_type": "markdown",
   "metadata": {},
   "source": []
  },
  {
   "cell_type": "markdown",
   "metadata": {
    "cell_style": "split",
    "slideshow": {
     "slide_type": "slide"
    }
   },
   "source": [
    "## Continuous vs Discrete Signals\n",
    "\n",
    "\n",
    "  + Analog to Digital Conversion\n",
    "  + Digital to Analog Conversion\n",
    "  + Delta Symbol\n",
    "  + Nyquest Sampling\n",
    "\n"
   ]
  },
  {
   "cell_type": "markdown",
   "metadata": {
    "cell_style": "split",
    "slideshow": {
     "slide_type": "-"
    }
   },
   "source": [
    "\n",
    "\n",
    "<img src=\"sine_wave_sampled.gif\" width=\"100%\">"
   ]
  },
  {
   "cell_type": "markdown",
   "metadata": {},
   "source": []
  },
  {
   "cell_type": "markdown",
   "metadata": {
    "slideshow": {
     "slide_type": "fragment"
    }
   },
   "source": [
    "### Continuous\n",
    "\n",
    "  + \n",
    "  + "
   ]
  },
  {
   "cell_type": "markdown",
   "metadata": {
    "slideshow": {
     "slide_type": "fragment"
    }
   },
   "source": [
    "### Discrete\n",
    "\n",
    "  + \n",
    "  + "
   ]
  },
  {
   "cell_type": "markdown",
   "metadata": {
    "slideshow": {
     "slide_type": "subslide"
    }
   },
   "source": [
    "### Sampling\n",
    "\n",
    "  + Analog to Digital Conversion"
   ]
  },
  {
   "cell_type": "code",
   "execution_count": null,
   "metadata": {},
   "outputs": [],
   "source": []
  },
  {
   "cell_type": "markdown",
   "metadata": {
    "slideshow": {
     "slide_type": "subslide"
    }
   },
   "source": [
    "### Time Series\n",
    "  + Sampled at a regular times\n",
    "  + Identical Sampling"
   ]
  },
  {
   "cell_type": "code",
   "execution_count": null,
   "metadata": {},
   "outputs": [],
   "source": []
  },
  {
   "cell_type": "markdown",
   "metadata": {
    "slideshow": {
     "slide_type": "subslide"
    }
   },
   "source": [
    "### Nyquist\n",
    "\n",
    "  + Sampling two times faster than the bandwidth of the signal"
   ]
  },
  {
   "cell_type": "code",
   "execution_count": 56,
   "metadata": {
    "scrolled": false,
    "slideshow": {
     "slide_type": "subslide"
    }
   },
   "outputs": [
    {
     "data": {
      "application/javascript": [
       "/* Put everything inside the global mpl namespace */\n",
       "window.mpl = {};\n",
       "\n",
       "\n",
       "mpl.get_websocket_type = function() {\n",
       "    if (typeof(WebSocket) !== 'undefined') {\n",
       "        return WebSocket;\n",
       "    } else if (typeof(MozWebSocket) !== 'undefined') {\n",
       "        return MozWebSocket;\n",
       "    } else {\n",
       "        alert('Your browser does not have WebSocket support. ' +\n",
       "              'Please try Chrome, Safari or Firefox ≥ 6. ' +\n",
       "              'Firefox 4 and 5 are also supported but you ' +\n",
       "              'have to enable WebSockets in about:config.');\n",
       "    };\n",
       "}\n",
       "\n",
       "mpl.figure = function(figure_id, websocket, ondownload, parent_element) {\n",
       "    this.id = figure_id;\n",
       "\n",
       "    this.ws = websocket;\n",
       "\n",
       "    this.supports_binary = (this.ws.binaryType != undefined);\n",
       "\n",
       "    if (!this.supports_binary) {\n",
       "        var warnings = document.getElementById(\"mpl-warnings\");\n",
       "        if (warnings) {\n",
       "            warnings.style.display = 'block';\n",
       "            warnings.textContent = (\n",
       "                \"This browser does not support binary websocket messages. \" +\n",
       "                    \"Performance may be slow.\");\n",
       "        }\n",
       "    }\n",
       "\n",
       "    this.imageObj = new Image();\n",
       "\n",
       "    this.context = undefined;\n",
       "    this.message = undefined;\n",
       "    this.canvas = undefined;\n",
       "    this.rubberband_canvas = undefined;\n",
       "    this.rubberband_context = undefined;\n",
       "    this.format_dropdown = undefined;\n",
       "\n",
       "    this.image_mode = 'full';\n",
       "\n",
       "    this.root = $('<div/>');\n",
       "    this._root_extra_style(this.root)\n",
       "    this.root.attr('style', 'display: inline-block');\n",
       "\n",
       "    $(parent_element).append(this.root);\n",
       "\n",
       "    this._init_header(this);\n",
       "    this._init_canvas(this);\n",
       "    this._init_toolbar(this);\n",
       "\n",
       "    var fig = this;\n",
       "\n",
       "    this.waiting = false;\n",
       "\n",
       "    this.ws.onopen =  function () {\n",
       "            fig.send_message(\"supports_binary\", {value: fig.supports_binary});\n",
       "            fig.send_message(\"send_image_mode\", {});\n",
       "            if (mpl.ratio != 1) {\n",
       "                fig.send_message(\"set_dpi_ratio\", {'dpi_ratio': mpl.ratio});\n",
       "            }\n",
       "            fig.send_message(\"refresh\", {});\n",
       "        }\n",
       "\n",
       "    this.imageObj.onload = function() {\n",
       "            if (fig.image_mode == 'full') {\n",
       "                // Full images could contain transparency (where diff images\n",
       "                // almost always do), so we need to clear the canvas so that\n",
       "                // there is no ghosting.\n",
       "                fig.context.clearRect(0, 0, fig.canvas.width, fig.canvas.height);\n",
       "            }\n",
       "            fig.context.drawImage(fig.imageObj, 0, 0);\n",
       "        };\n",
       "\n",
       "    this.imageObj.onunload = function() {\n",
       "        fig.ws.close();\n",
       "    }\n",
       "\n",
       "    this.ws.onmessage = this._make_on_message_function(this);\n",
       "\n",
       "    this.ondownload = ondownload;\n",
       "}\n",
       "\n",
       "mpl.figure.prototype._init_header = function() {\n",
       "    var titlebar = $(\n",
       "        '<div class=\"ui-dialog-titlebar ui-widget-header ui-corner-all ' +\n",
       "        'ui-helper-clearfix\"/>');\n",
       "    var titletext = $(\n",
       "        '<div class=\"ui-dialog-title\" style=\"width: 100%; ' +\n",
       "        'text-align: center; padding: 3px;\"/>');\n",
       "    titlebar.append(titletext)\n",
       "    this.root.append(titlebar);\n",
       "    this.header = titletext[0];\n",
       "}\n",
       "\n",
       "\n",
       "\n",
       "mpl.figure.prototype._canvas_extra_style = function(canvas_div) {\n",
       "\n",
       "}\n",
       "\n",
       "\n",
       "mpl.figure.prototype._root_extra_style = function(canvas_div) {\n",
       "\n",
       "}\n",
       "\n",
       "mpl.figure.prototype._init_canvas = function() {\n",
       "    var fig = this;\n",
       "\n",
       "    var canvas_div = $('<div/>');\n",
       "\n",
       "    canvas_div.attr('style', 'position: relative; clear: both; outline: 0');\n",
       "\n",
       "    function canvas_keyboard_event(event) {\n",
       "        return fig.key_event(event, event['data']);\n",
       "    }\n",
       "\n",
       "    canvas_div.keydown('key_press', canvas_keyboard_event);\n",
       "    canvas_div.keyup('key_release', canvas_keyboard_event);\n",
       "    this.canvas_div = canvas_div\n",
       "    this._canvas_extra_style(canvas_div)\n",
       "    this.root.append(canvas_div);\n",
       "\n",
       "    var canvas = $('<canvas/>');\n",
       "    canvas.addClass('mpl-canvas');\n",
       "    canvas.attr('style', \"left: 0; top: 0; z-index: 0; outline: 0\")\n",
       "\n",
       "    this.canvas = canvas[0];\n",
       "    this.context = canvas[0].getContext(\"2d\");\n",
       "\n",
       "    var backingStore = this.context.backingStorePixelRatio ||\n",
       "\tthis.context.webkitBackingStorePixelRatio ||\n",
       "\tthis.context.mozBackingStorePixelRatio ||\n",
       "\tthis.context.msBackingStorePixelRatio ||\n",
       "\tthis.context.oBackingStorePixelRatio ||\n",
       "\tthis.context.backingStorePixelRatio || 1;\n",
       "\n",
       "    mpl.ratio = (window.devicePixelRatio || 1) / backingStore;\n",
       "\n",
       "    var rubberband = $('<canvas/>');\n",
       "    rubberband.attr('style', \"position: absolute; left: 0; top: 0; z-index: 1;\")\n",
       "\n",
       "    var pass_mouse_events = true;\n",
       "\n",
       "    canvas_div.resizable({\n",
       "        start: function(event, ui) {\n",
       "            pass_mouse_events = false;\n",
       "        },\n",
       "        resize: function(event, ui) {\n",
       "            fig.request_resize(ui.size.width, ui.size.height);\n",
       "        },\n",
       "        stop: function(event, ui) {\n",
       "            pass_mouse_events = true;\n",
       "            fig.request_resize(ui.size.width, ui.size.height);\n",
       "        },\n",
       "    });\n",
       "\n",
       "    function mouse_event_fn(event) {\n",
       "        if (pass_mouse_events)\n",
       "            return fig.mouse_event(event, event['data']);\n",
       "    }\n",
       "\n",
       "    rubberband.mousedown('button_press', mouse_event_fn);\n",
       "    rubberband.mouseup('button_release', mouse_event_fn);\n",
       "    // Throttle sequential mouse events to 1 every 20ms.\n",
       "    rubberband.mousemove('motion_notify', mouse_event_fn);\n",
       "\n",
       "    rubberband.mouseenter('figure_enter', mouse_event_fn);\n",
       "    rubberband.mouseleave('figure_leave', mouse_event_fn);\n",
       "\n",
       "    canvas_div.on(\"wheel\", function (event) {\n",
       "        event = event.originalEvent;\n",
       "        event['data'] = 'scroll'\n",
       "        if (event.deltaY < 0) {\n",
       "            event.step = 1;\n",
       "        } else {\n",
       "            event.step = -1;\n",
       "        }\n",
       "        mouse_event_fn(event);\n",
       "    });\n",
       "\n",
       "    canvas_div.append(canvas);\n",
       "    canvas_div.append(rubberband);\n",
       "\n",
       "    this.rubberband = rubberband;\n",
       "    this.rubberband_canvas = rubberband[0];\n",
       "    this.rubberband_context = rubberband[0].getContext(\"2d\");\n",
       "    this.rubberband_context.strokeStyle = \"#000000\";\n",
       "\n",
       "    this._resize_canvas = function(width, height) {\n",
       "        // Keep the size of the canvas, canvas container, and rubber band\n",
       "        // canvas in synch.\n",
       "        canvas_div.css('width', width)\n",
       "        canvas_div.css('height', height)\n",
       "\n",
       "        canvas.attr('width', width * mpl.ratio);\n",
       "        canvas.attr('height', height * mpl.ratio);\n",
       "        canvas.attr('style', 'width: ' + width + 'px; height: ' + height + 'px;');\n",
       "\n",
       "        rubberband.attr('width', width);\n",
       "        rubberband.attr('height', height);\n",
       "    }\n",
       "\n",
       "    // Set the figure to an initial 600x600px, this will subsequently be updated\n",
       "    // upon first draw.\n",
       "    this._resize_canvas(600, 600);\n",
       "\n",
       "    // Disable right mouse context menu.\n",
       "    $(this.rubberband_canvas).bind(\"contextmenu\",function(e){\n",
       "        return false;\n",
       "    });\n",
       "\n",
       "    function set_focus () {\n",
       "        canvas.focus();\n",
       "        canvas_div.focus();\n",
       "    }\n",
       "\n",
       "    window.setTimeout(set_focus, 100);\n",
       "}\n",
       "\n",
       "mpl.figure.prototype._init_toolbar = function() {\n",
       "    var fig = this;\n",
       "\n",
       "    var nav_element = $('<div/>');\n",
       "    nav_element.attr('style', 'width: 100%');\n",
       "    this.root.append(nav_element);\n",
       "\n",
       "    // Define a callback function for later on.\n",
       "    function toolbar_event(event) {\n",
       "        return fig.toolbar_button_onclick(event['data']);\n",
       "    }\n",
       "    function toolbar_mouse_event(event) {\n",
       "        return fig.toolbar_button_onmouseover(event['data']);\n",
       "    }\n",
       "\n",
       "    for(var toolbar_ind in mpl.toolbar_items) {\n",
       "        var name = mpl.toolbar_items[toolbar_ind][0];\n",
       "        var tooltip = mpl.toolbar_items[toolbar_ind][1];\n",
       "        var image = mpl.toolbar_items[toolbar_ind][2];\n",
       "        var method_name = mpl.toolbar_items[toolbar_ind][3];\n",
       "\n",
       "        if (!name) {\n",
       "            // put a spacer in here.\n",
       "            continue;\n",
       "        }\n",
       "        var button = $('<button/>');\n",
       "        button.addClass('ui-button ui-widget ui-state-default ui-corner-all ' +\n",
       "                        'ui-button-icon-only');\n",
       "        button.attr('role', 'button');\n",
       "        button.attr('aria-disabled', 'false');\n",
       "        button.click(method_name, toolbar_event);\n",
       "        button.mouseover(tooltip, toolbar_mouse_event);\n",
       "\n",
       "        var icon_img = $('<span/>');\n",
       "        icon_img.addClass('ui-button-icon-primary ui-icon');\n",
       "        icon_img.addClass(image);\n",
       "        icon_img.addClass('ui-corner-all');\n",
       "\n",
       "        var tooltip_span = $('<span/>');\n",
       "        tooltip_span.addClass('ui-button-text');\n",
       "        tooltip_span.html(tooltip);\n",
       "\n",
       "        button.append(icon_img);\n",
       "        button.append(tooltip_span);\n",
       "\n",
       "        nav_element.append(button);\n",
       "    }\n",
       "\n",
       "    var fmt_picker_span = $('<span/>');\n",
       "\n",
       "    var fmt_picker = $('<select/>');\n",
       "    fmt_picker.addClass('mpl-toolbar-option ui-widget ui-widget-content');\n",
       "    fmt_picker_span.append(fmt_picker);\n",
       "    nav_element.append(fmt_picker_span);\n",
       "    this.format_dropdown = fmt_picker[0];\n",
       "\n",
       "    for (var ind in mpl.extensions) {\n",
       "        var fmt = mpl.extensions[ind];\n",
       "        var option = $(\n",
       "            '<option/>', {selected: fmt === mpl.default_extension}).html(fmt);\n",
       "        fmt_picker.append(option);\n",
       "    }\n",
       "\n",
       "    // Add hover states to the ui-buttons\n",
       "    $( \".ui-button\" ).hover(\n",
       "        function() { $(this).addClass(\"ui-state-hover\");},\n",
       "        function() { $(this).removeClass(\"ui-state-hover\");}\n",
       "    );\n",
       "\n",
       "    var status_bar = $('<span class=\"mpl-message\"/>');\n",
       "    nav_element.append(status_bar);\n",
       "    this.message = status_bar[0];\n",
       "}\n",
       "\n",
       "mpl.figure.prototype.request_resize = function(x_pixels, y_pixels) {\n",
       "    // Request matplotlib to resize the figure. Matplotlib will then trigger a resize in the client,\n",
       "    // which will in turn request a refresh of the image.\n",
       "    this.send_message('resize', {'width': x_pixels, 'height': y_pixels});\n",
       "}\n",
       "\n",
       "mpl.figure.prototype.send_message = function(type, properties) {\n",
       "    properties['type'] = type;\n",
       "    properties['figure_id'] = this.id;\n",
       "    this.ws.send(JSON.stringify(properties));\n",
       "}\n",
       "\n",
       "mpl.figure.prototype.send_draw_message = function() {\n",
       "    if (!this.waiting) {\n",
       "        this.waiting = true;\n",
       "        this.ws.send(JSON.stringify({type: \"draw\", figure_id: this.id}));\n",
       "    }\n",
       "}\n",
       "\n",
       "\n",
       "mpl.figure.prototype.handle_save = function(fig, msg) {\n",
       "    var format_dropdown = fig.format_dropdown;\n",
       "    var format = format_dropdown.options[format_dropdown.selectedIndex].value;\n",
       "    fig.ondownload(fig, format);\n",
       "}\n",
       "\n",
       "\n",
       "mpl.figure.prototype.handle_resize = function(fig, msg) {\n",
       "    var size = msg['size'];\n",
       "    if (size[0] != fig.canvas.width || size[1] != fig.canvas.height) {\n",
       "        fig._resize_canvas(size[0], size[1]);\n",
       "        fig.send_message(\"refresh\", {});\n",
       "    };\n",
       "}\n",
       "\n",
       "mpl.figure.prototype.handle_rubberband = function(fig, msg) {\n",
       "    var x0 = msg['x0'] / mpl.ratio;\n",
       "    var y0 = (fig.canvas.height - msg['y0']) / mpl.ratio;\n",
       "    var x1 = msg['x1'] / mpl.ratio;\n",
       "    var y1 = (fig.canvas.height - msg['y1']) / mpl.ratio;\n",
       "    x0 = Math.floor(x0) + 0.5;\n",
       "    y0 = Math.floor(y0) + 0.5;\n",
       "    x1 = Math.floor(x1) + 0.5;\n",
       "    y1 = Math.floor(y1) + 0.5;\n",
       "    var min_x = Math.min(x0, x1);\n",
       "    var min_y = Math.min(y0, y1);\n",
       "    var width = Math.abs(x1 - x0);\n",
       "    var height = Math.abs(y1 - y0);\n",
       "\n",
       "    fig.rubberband_context.clearRect(\n",
       "        0, 0, fig.canvas.width / mpl.ratio, fig.canvas.height / mpl.ratio);\n",
       "\n",
       "    fig.rubberband_context.strokeRect(min_x, min_y, width, height);\n",
       "}\n",
       "\n",
       "mpl.figure.prototype.handle_figure_label = function(fig, msg) {\n",
       "    // Updates the figure title.\n",
       "    fig.header.textContent = msg['label'];\n",
       "}\n",
       "\n",
       "mpl.figure.prototype.handle_cursor = function(fig, msg) {\n",
       "    var cursor = msg['cursor'];\n",
       "    switch(cursor)\n",
       "    {\n",
       "    case 0:\n",
       "        cursor = 'pointer';\n",
       "        break;\n",
       "    case 1:\n",
       "        cursor = 'default';\n",
       "        break;\n",
       "    case 2:\n",
       "        cursor = 'crosshair';\n",
       "        break;\n",
       "    case 3:\n",
       "        cursor = 'move';\n",
       "        break;\n",
       "    }\n",
       "    fig.rubberband_canvas.style.cursor = cursor;\n",
       "}\n",
       "\n",
       "mpl.figure.prototype.handle_message = function(fig, msg) {\n",
       "    fig.message.textContent = msg['message'];\n",
       "}\n",
       "\n",
       "mpl.figure.prototype.handle_draw = function(fig, msg) {\n",
       "    // Request the server to send over a new figure.\n",
       "    fig.send_draw_message();\n",
       "}\n",
       "\n",
       "mpl.figure.prototype.handle_image_mode = function(fig, msg) {\n",
       "    fig.image_mode = msg['mode'];\n",
       "}\n",
       "\n",
       "mpl.figure.prototype.updated_canvas_event = function() {\n",
       "    // Called whenever the canvas gets updated.\n",
       "    this.send_message(\"ack\", {});\n",
       "}\n",
       "\n",
       "// A function to construct a web socket function for onmessage handling.\n",
       "// Called in the figure constructor.\n",
       "mpl.figure.prototype._make_on_message_function = function(fig) {\n",
       "    return function socket_on_message(evt) {\n",
       "        if (evt.data instanceof Blob) {\n",
       "            /* FIXME: We get \"Resource interpreted as Image but\n",
       "             * transferred with MIME type text/plain:\" errors on\n",
       "             * Chrome.  But how to set the MIME type?  It doesn't seem\n",
       "             * to be part of the websocket stream */\n",
       "            evt.data.type = \"image/png\";\n",
       "\n",
       "            /* Free the memory for the previous frames */\n",
       "            if (fig.imageObj.src) {\n",
       "                (window.URL || window.webkitURL).revokeObjectURL(\n",
       "                    fig.imageObj.src);\n",
       "            }\n",
       "\n",
       "            fig.imageObj.src = (window.URL || window.webkitURL).createObjectURL(\n",
       "                evt.data);\n",
       "            fig.updated_canvas_event();\n",
       "            fig.waiting = false;\n",
       "            return;\n",
       "        }\n",
       "        else if (typeof evt.data === 'string' && evt.data.slice(0, 21) == \"data:image/png;base64\") {\n",
       "            fig.imageObj.src = evt.data;\n",
       "            fig.updated_canvas_event();\n",
       "            fig.waiting = false;\n",
       "            return;\n",
       "        }\n",
       "\n",
       "        var msg = JSON.parse(evt.data);\n",
       "        var msg_type = msg['type'];\n",
       "\n",
       "        // Call the  \"handle_{type}\" callback, which takes\n",
       "        // the figure and JSON message as its only arguments.\n",
       "        try {\n",
       "            var callback = fig[\"handle_\" + msg_type];\n",
       "        } catch (e) {\n",
       "            console.log(\"No handler for the '\" + msg_type + \"' message type: \", msg);\n",
       "            return;\n",
       "        }\n",
       "\n",
       "        if (callback) {\n",
       "            try {\n",
       "                // console.log(\"Handling '\" + msg_type + \"' message: \", msg);\n",
       "                callback(fig, msg);\n",
       "            } catch (e) {\n",
       "                console.log(\"Exception inside the 'handler_\" + msg_type + \"' callback:\", e, e.stack, msg);\n",
       "            }\n",
       "        }\n",
       "    };\n",
       "}\n",
       "\n",
       "// from http://stackoverflow.com/questions/1114465/getting-mouse-location-in-canvas\n",
       "mpl.findpos = function(e) {\n",
       "    //this section is from http://www.quirksmode.org/js/events_properties.html\n",
       "    var targ;\n",
       "    if (!e)\n",
       "        e = window.event;\n",
       "    if (e.target)\n",
       "        targ = e.target;\n",
       "    else if (e.srcElement)\n",
       "        targ = e.srcElement;\n",
       "    if (targ.nodeType == 3) // defeat Safari bug\n",
       "        targ = targ.parentNode;\n",
       "\n",
       "    // jQuery normalizes the pageX and pageY\n",
       "    // pageX,Y are the mouse positions relative to the document\n",
       "    // offset() returns the position of the element relative to the document\n",
       "    var x = e.pageX - $(targ).offset().left;\n",
       "    var y = e.pageY - $(targ).offset().top;\n",
       "\n",
       "    return {\"x\": x, \"y\": y};\n",
       "};\n",
       "\n",
       "/*\n",
       " * return a copy of an object with only non-object keys\n",
       " * we need this to avoid circular references\n",
       " * http://stackoverflow.com/a/24161582/3208463\n",
       " */\n",
       "function simpleKeys (original) {\n",
       "  return Object.keys(original).reduce(function (obj, key) {\n",
       "    if (typeof original[key] !== 'object')\n",
       "        obj[key] = original[key]\n",
       "    return obj;\n",
       "  }, {});\n",
       "}\n",
       "\n",
       "mpl.figure.prototype.mouse_event = function(event, name) {\n",
       "    var canvas_pos = mpl.findpos(event)\n",
       "\n",
       "    if (name === 'button_press')\n",
       "    {\n",
       "        this.canvas.focus();\n",
       "        this.canvas_div.focus();\n",
       "    }\n",
       "\n",
       "    var x = canvas_pos.x * mpl.ratio;\n",
       "    var y = canvas_pos.y * mpl.ratio;\n",
       "\n",
       "    this.send_message(name, {x: x, y: y, button: event.button,\n",
       "                             step: event.step,\n",
       "                             guiEvent: simpleKeys(event)});\n",
       "\n",
       "    /* This prevents the web browser from automatically changing to\n",
       "     * the text insertion cursor when the button is pressed.  We want\n",
       "     * to control all of the cursor setting manually through the\n",
       "     * 'cursor' event from matplotlib */\n",
       "    event.preventDefault();\n",
       "    return false;\n",
       "}\n",
       "\n",
       "mpl.figure.prototype._key_event_extra = function(event, name) {\n",
       "    // Handle any extra behaviour associated with a key event\n",
       "}\n",
       "\n",
       "mpl.figure.prototype.key_event = function(event, name) {\n",
       "\n",
       "    // Prevent repeat events\n",
       "    if (name == 'key_press')\n",
       "    {\n",
       "        if (event.which === this._key)\n",
       "            return;\n",
       "        else\n",
       "            this._key = event.which;\n",
       "    }\n",
       "    if (name == 'key_release')\n",
       "        this._key = null;\n",
       "\n",
       "    var value = '';\n",
       "    if (event.ctrlKey && event.which != 17)\n",
       "        value += \"ctrl+\";\n",
       "    if (event.altKey && event.which != 18)\n",
       "        value += \"alt+\";\n",
       "    if (event.shiftKey && event.which != 16)\n",
       "        value += \"shift+\";\n",
       "\n",
       "    value += 'k';\n",
       "    value += event.which.toString();\n",
       "\n",
       "    this._key_event_extra(event, name);\n",
       "\n",
       "    this.send_message(name, {key: value,\n",
       "                             guiEvent: simpleKeys(event)});\n",
       "    return false;\n",
       "}\n",
       "\n",
       "mpl.figure.prototype.toolbar_button_onclick = function(name) {\n",
       "    if (name == 'download') {\n",
       "        this.handle_save(this, null);\n",
       "    } else {\n",
       "        this.send_message(\"toolbar_button\", {name: name});\n",
       "    }\n",
       "};\n",
       "\n",
       "mpl.figure.prototype.toolbar_button_onmouseover = function(tooltip) {\n",
       "    this.message.textContent = tooltip;\n",
       "};\n",
       "mpl.toolbar_items = [[\"Home\", \"Reset original view\", \"fa fa-home icon-home\", \"home\"], [\"Back\", \"Back to previous view\", \"fa fa-arrow-left icon-arrow-left\", \"back\"], [\"Forward\", \"Forward to next view\", \"fa fa-arrow-right icon-arrow-right\", \"forward\"], [\"\", \"\", \"\", \"\"], [\"Pan\", \"Pan axes with left mouse, zoom with right\", \"fa fa-arrows icon-move\", \"pan\"], [\"Zoom\", \"Zoom to rectangle\", \"fa fa-square-o icon-check-empty\", \"zoom\"], [\"\", \"\", \"\", \"\"], [\"Download\", \"Download plot\", \"fa fa-floppy-o icon-save\", \"download\"]];\n",
       "\n",
       "mpl.extensions = [\"eps\", \"pdf\", \"png\", \"ps\", \"raw\", \"svg\"];\n",
       "\n",
       "mpl.default_extension = \"png\";var comm_websocket_adapter = function(comm) {\n",
       "    // Create a \"websocket\"-like object which calls the given IPython comm\n",
       "    // object with the appropriate methods. Currently this is a non binary\n",
       "    // socket, so there is still some room for performance tuning.\n",
       "    var ws = {};\n",
       "\n",
       "    ws.close = function() {\n",
       "        comm.close()\n",
       "    };\n",
       "    ws.send = function(m) {\n",
       "        //console.log('sending', m);\n",
       "        comm.send(m);\n",
       "    };\n",
       "    // Register the callback with on_msg.\n",
       "    comm.on_msg(function(msg) {\n",
       "        //console.log('receiving', msg['content']['data'], msg);\n",
       "        // Pass the mpl event to the overridden (by mpl) onmessage function.\n",
       "        ws.onmessage(msg['content']['data'])\n",
       "    });\n",
       "    return ws;\n",
       "}\n",
       "\n",
       "mpl.mpl_figure_comm = function(comm, msg) {\n",
       "    // This is the function which gets called when the mpl process\n",
       "    // starts-up an IPython Comm through the \"matplotlib\" channel.\n",
       "\n",
       "    var id = msg.content.data.id;\n",
       "    // Get hold of the div created by the display call when the Comm\n",
       "    // socket was opened in Python.\n",
       "    var element = $(\"#\" + id);\n",
       "    var ws_proxy = comm_websocket_adapter(comm)\n",
       "\n",
       "    function ondownload(figure, format) {\n",
       "        window.open(figure.imageObj.src);\n",
       "    }\n",
       "\n",
       "    var fig = new mpl.figure(id, ws_proxy,\n",
       "                           ondownload,\n",
       "                           element.get(0));\n",
       "\n",
       "    // Call onopen now - mpl needs it, as it is assuming we've passed it a real\n",
       "    // web socket which is closed, not our websocket->open comm proxy.\n",
       "    ws_proxy.onopen();\n",
       "\n",
       "    fig.parent_element = element.get(0);\n",
       "    fig.cell_info = mpl.find_output_cell(\"<div id='\" + id + \"'></div>\");\n",
       "    if (!fig.cell_info) {\n",
       "        console.error(\"Failed to find cell for figure\", id, fig);\n",
       "        return;\n",
       "    }\n",
       "\n",
       "    var output_index = fig.cell_info[2]\n",
       "    var cell = fig.cell_info[0];\n",
       "\n",
       "};\n",
       "\n",
       "mpl.figure.prototype.handle_close = function(fig, msg) {\n",
       "    var width = fig.canvas.width/mpl.ratio\n",
       "    fig.root.unbind('remove')\n",
       "\n",
       "    // Update the output cell to use the data from the current canvas.\n",
       "    fig.push_to_output();\n",
       "    var dataURL = fig.canvas.toDataURL();\n",
       "    // Re-enable the keyboard manager in IPython - without this line, in FF,\n",
       "    // the notebook keyboard shortcuts fail.\n",
       "    IPython.keyboard_manager.enable()\n",
       "    $(fig.parent_element).html('<img src=\"' + dataURL + '\" width=\"' + width + '\">');\n",
       "    fig.close_ws(fig, msg);\n",
       "}\n",
       "\n",
       "mpl.figure.prototype.close_ws = function(fig, msg){\n",
       "    fig.send_message('closing', msg);\n",
       "    // fig.ws.close()\n",
       "}\n",
       "\n",
       "mpl.figure.prototype.push_to_output = function(remove_interactive) {\n",
       "    // Turn the data on the canvas into data in the output cell.\n",
       "    var width = this.canvas.width/mpl.ratio\n",
       "    var dataURL = this.canvas.toDataURL();\n",
       "    this.cell_info[1]['text/html'] = '<img src=\"' + dataURL + '\" width=\"' + width + '\">';\n",
       "}\n",
       "\n",
       "mpl.figure.prototype.updated_canvas_event = function() {\n",
       "    // Tell IPython that the notebook contents must change.\n",
       "    IPython.notebook.set_dirty(true);\n",
       "    this.send_message(\"ack\", {});\n",
       "    var fig = this;\n",
       "    // Wait a second, then push the new image to the DOM so\n",
       "    // that it is saved nicely (might be nice to debounce this).\n",
       "    setTimeout(function () { fig.push_to_output() }, 1000);\n",
       "}\n",
       "\n",
       "mpl.figure.prototype._init_toolbar = function() {\n",
       "    var fig = this;\n",
       "\n",
       "    var nav_element = $('<div/>');\n",
       "    nav_element.attr('style', 'width: 100%');\n",
       "    this.root.append(nav_element);\n",
       "\n",
       "    // Define a callback function for later on.\n",
       "    function toolbar_event(event) {\n",
       "        return fig.toolbar_button_onclick(event['data']);\n",
       "    }\n",
       "    function toolbar_mouse_event(event) {\n",
       "        return fig.toolbar_button_onmouseover(event['data']);\n",
       "    }\n",
       "\n",
       "    for(var toolbar_ind in mpl.toolbar_items){\n",
       "        var name = mpl.toolbar_items[toolbar_ind][0];\n",
       "        var tooltip = mpl.toolbar_items[toolbar_ind][1];\n",
       "        var image = mpl.toolbar_items[toolbar_ind][2];\n",
       "        var method_name = mpl.toolbar_items[toolbar_ind][3];\n",
       "\n",
       "        if (!name) { continue; };\n",
       "\n",
       "        var button = $('<button class=\"btn btn-default\" href=\"#\" title=\"' + name + '\"><i class=\"fa ' + image + ' fa-lg\"></i></button>');\n",
       "        button.click(method_name, toolbar_event);\n",
       "        button.mouseover(tooltip, toolbar_mouse_event);\n",
       "        nav_element.append(button);\n",
       "    }\n",
       "\n",
       "    // Add the status bar.\n",
       "    var status_bar = $('<span class=\"mpl-message\" style=\"text-align:right; float: right;\"/>');\n",
       "    nav_element.append(status_bar);\n",
       "    this.message = status_bar[0];\n",
       "\n",
       "    // Add the close button to the window.\n",
       "    var buttongrp = $('<div class=\"btn-group inline pull-right\"></div>');\n",
       "    var button = $('<button class=\"btn btn-mini btn-primary\" href=\"#\" title=\"Stop Interaction\"><i class=\"fa fa-power-off icon-remove icon-large\"></i></button>');\n",
       "    button.click(function (evt) { fig.handle_close(fig, {}); } );\n",
       "    button.mouseover('Stop Interaction', toolbar_mouse_event);\n",
       "    buttongrp.append(button);\n",
       "    var titlebar = this.root.find($('.ui-dialog-titlebar'));\n",
       "    titlebar.prepend(buttongrp);\n",
       "}\n",
       "\n",
       "mpl.figure.prototype._root_extra_style = function(el){\n",
       "    var fig = this\n",
       "    el.on(\"remove\", function(){\n",
       "\tfig.close_ws(fig, {});\n",
       "    });\n",
       "}\n",
       "\n",
       "mpl.figure.prototype._canvas_extra_style = function(el){\n",
       "    // this is important to make the div 'focusable\n",
       "    el.attr('tabindex', 0)\n",
       "    // reach out to IPython and tell the keyboard manager to turn it's self\n",
       "    // off when our div gets focus\n",
       "\n",
       "    // location in version 3\n",
       "    if (IPython.notebook.keyboard_manager) {\n",
       "        IPython.notebook.keyboard_manager.register_events(el);\n",
       "    }\n",
       "    else {\n",
       "        // location in version 2\n",
       "        IPython.keyboard_manager.register_events(el);\n",
       "    }\n",
       "\n",
       "}\n",
       "\n",
       "mpl.figure.prototype._key_event_extra = function(event, name) {\n",
       "    var manager = IPython.notebook.keyboard_manager;\n",
       "    if (!manager)\n",
       "        manager = IPython.keyboard_manager;\n",
       "\n",
       "    // Check for shift+enter\n",
       "    if (event.shiftKey && event.which == 13) {\n",
       "        this.canvas_div.blur();\n",
       "        // select the cell after this one\n",
       "        var index = IPython.notebook.find_cell_index(this.cell_info[0]);\n",
       "        IPython.notebook.select(index + 1);\n",
       "    }\n",
       "}\n",
       "\n",
       "mpl.figure.prototype.handle_save = function(fig, msg) {\n",
       "    fig.ondownload(fig, null);\n",
       "}\n",
       "\n",
       "\n",
       "mpl.find_output_cell = function(html_output) {\n",
       "    // Return the cell and output element which can be found *uniquely* in the notebook.\n",
       "    // Note - this is a bit hacky, but it is done because the \"notebook_saving.Notebook\"\n",
       "    // IPython event is triggered only after the cells have been serialised, which for\n",
       "    // our purposes (turning an active figure into a static one), is too late.\n",
       "    var cells = IPython.notebook.get_cells();\n",
       "    var ncells = cells.length;\n",
       "    for (var i=0; i<ncells; i++) {\n",
       "        var cell = cells[i];\n",
       "        if (cell.cell_type === 'code'){\n",
       "            for (var j=0; j<cell.output_area.outputs.length; j++) {\n",
       "                var data = cell.output_area.outputs[j];\n",
       "                if (data.data) {\n",
       "                    // IPython >= 3 moved mimebundle to data attribute of output\n",
       "                    data = data.data;\n",
       "                }\n",
       "                if (data['text/html'] == html_output) {\n",
       "                    return [cell, data, j];\n",
       "                }\n",
       "            }\n",
       "        }\n",
       "    }\n",
       "}\n",
       "\n",
       "// Register the function which deals with the matplotlib target/channel.\n",
       "// The kernel may be null if the page has been refreshed.\n",
       "if (IPython.notebook.kernel != null) {\n",
       "    IPython.notebook.kernel.comm_manager.register_target('matplotlib', mpl.mpl_figure_comm);\n",
       "}\n"
      ],
      "text/plain": [
       "<IPython.core.display.Javascript object>"
      ]
     },
     "metadata": {},
     "output_type": "display_data"
    },
    {
     "data": {
      "text/html": [
       "<img src=\"data:image/png;base64,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\" width=\"640\">"
      ],
      "text/plain": [
       "<IPython.core.display.HTML object>"
      ]
     },
     "metadata": {},
     "output_type": "display_data"
    },
    {
     "data": {
      "application/vnd.jupyter.widget-view+json": {
       "model_id": "71c1e9ea4c27413eaa68fda2b5afc33d",
       "version_major": 2,
       "version_minor": 0
      },
      "text/plain": [
       "interactive(children=(FloatSlider(value=10.0, description='sample_rate', max=25.0, min=1.0), FloatSlider(value…"
      ]
     },
     "metadata": {},
     "output_type": "display_data"
    }
   ],
   "source": [
    "t, sample_rate, frequency, phase = numpy.linspace(0, 2, 1001), 10, 1, 0\n",
    "signal = lambda t, f=1., phi=0: numpy.sin(2*pi*t*f+phi)\n",
    "\n",
    "fig, ax = plt.subplots()\n",
    "\n",
    "@interact(sample_rate=(1,25, 0.1), frequency=(-9,10, 0.1), phase=(-6, 6, 0.1))\n",
    "def sampled_sinwave(sample_rate=sample_rate, frequency=frequency, phase=0.):\n",
    "    ax.cla()\n",
    "    t_samples = numpy.arange(min(t), max(t), 1./sample_rate)\n",
    "    x, x_sampled = signal(t, frequency, phase), signal(t_samples, frequency, phase)\n",
    "    ax.plot(t, x, label='Original Signal')\n",
    "    ax.stem(t_samples, x_sampled, linefmt='r', label='Sampled', use_line_collection=True)\n",
    "    ax.plot(t_samples, x_sampled, '--k', label='Recovered')\n",
    "    ax.legend(loc='lower left')\n",
    "    fig.canvas.draw_idle()\n",
    "    fig.tight_layout()\n",
    "\n"
   ]
  },
  {
   "cell_type": "markdown",
   "metadata": {
    "slideshow": {
     "slide_type": "slide"
    }
   },
   "source": [
    "## What Signals We Are Considering\n"
   ]
  },
  {
   "cell_type": "markdown",
   "metadata": {},
   "source": []
  },
  {
   "cell_type": "code",
   "execution_count": null,
   "metadata": {},
   "outputs": [],
   "source": []
  },
  {
   "cell_type": "markdown",
   "metadata": {
    "slideshow": {
     "slide_type": "slide"
    }
   },
   "source": []
  },
  {
   "cell_type": "code",
   "execution_count": null,
   "metadata": {},
   "outputs": [],
   "source": []
  },
  {
   "cell_type": "markdown",
   "metadata": {
    "slideshow": {
     "slide_type": "slide"
    }
   },
   "source": [
    "##  Kinds of basic RF problems\n",
    "\n",
    "#### Communication\n",
    "  + Getting data between places\n",
    "\n",
    "#### Radar\n",
    "  + Using radio waves to sense something\n",
    "\n",
    "#### Passive Inference\n",
    "  + Using Emotions that already exist what can I figure out"
   ]
  },
  {
   "cell_type": "markdown",
   "metadata": {
    "slideshow": {
     "slide_type": "fragment"
    }
   },
   "source": [
    "## Time Series\n",
    "  + Sampled at a regular  \n",
    "  + "
   ]
  },
  {
   "cell_type": "markdown",
   "metadata": {
    "slideshow": {
     "slide_type": "fragment"
    }
   },
   "source": [
    "#### Radio Signals\n",
    "  + Can we capture it we a Software Defined Radio (SDR)"
   ]
  },
  {
   "cell_type": "markdown",
   "metadata": {
    "slideshow": {
     "slide_type": "fragment"
    }
   },
   "source": [
    "### Single Channel\n",
    "  + 1 dimension to each sample"
   ]
  },
  {
   "cell_type": "markdown",
   "metadata": {
    "slideshow": {
     "slide_type": "fragment"
    }
   },
   "source": [
    "### Narrowband\n",
    "  + Bandwidth of the signal is smaller than it's center frequency\n",
    "  "
   ]
  },
  {
   "cell_type": "code",
   "execution_count": null,
   "metadata": {},
   "outputs": [],
   "source": []
  },
  {
   "cell_type": "markdown",
   "metadata": {
    "slideshow": {
     "slide_type": "slide"
    }
   },
   "source": [
    "## Properties of Operations on Signals (Systems)\n",
    "  + Linearity\n",
    "  + Time Inverance \n",
    "  + Bounded Input Bounded Output\n",
    "  + Dirivatives and Differences\n",
    "  + Integrates and Sumations \n",
    "  + Useful Non-linear Functions\n",
    "    + ABS\n",
    "    + Squared\n",
    "    + Distance\n",
    "    + Log and Decibels"
   ]
  },
  {
   "cell_type": "markdown",
   "metadata": {
    "slideshow": {
     "slide_type": "subslide"
    }
   },
   "source": [
    "### Linearity\n",
    "\n",
    "  + Additivity\n",
    "$$ f(a+b) = f(a) + f(b) $$\n",
    "\n",
    "\n",
    "\n",
    "  + Homogeneity \n",
    "$$ f(\\alpha \\: x) = \\alpha \\: f(x) $$\n",
    "\n",
    "\n",
    "\n",
    "  + Approximately linear\n",
    "  \n",
    "    + Useful approximation\n",
    "    \n",
    "    + For b << a $f(a+b)$ can be treated as linear\n",
    "    \n",
    "    $$ f(a+b) \\approx f(a) + f(b) \\quad for \\:\\: b << a $$"
   ]
  },
  {
   "cell_type": "markdown",
   "metadata": {
    "slideshow": {
     "slide_type": "subslide"
    }
   },
   "source": [
    "#### Linear ?\n",
    "Is the function linear, non-linear, Approximately linear?\n",
    "  \n",
    "  1.  \n",
    "  \n",
    "  $$ f(x) = 3 \\cdot x $$"
   ]
  },
  {
   "cell_type": "markdown",
   "metadata": {
    "slideshow": {
     "slide_type": "fragment"
    }
   },
   "source": [
    "  2. \n",
    "  \n",
    "  $$ f(x) = 0 \\cdot x $$"
   ]
  },
  {
   "cell_type": "markdown",
   "metadata": {
    "slideshow": {
     "slide_type": "fragment"
    }
   },
   "source": [
    "  3. \n",
    "  \n",
    "  $$ f(x) = 2 \\cdot x+1 $$"
   ]
  },
  {
   "cell_type": "markdown",
   "metadata": {
    "slideshow": {
     "slide_type": "fragment"
    }
   },
   "source": [
    "  4. \n",
    "  \n",
    "  $$ f(x) = x^{2} $$"
   ]
  },
  {
   "cell_type": "markdown",
   "metadata": {
    "slideshow": {
     "slide_type": "subslide"
    }
   },
   "source": [
    "### Time Inverance\n",
    "\n",
    "  + Function or System not dependent on what time it is\n",
    "  \n",
    "  $$ y(t) = f(x, t) = f(x, t+a) \\quad for \\: any \\: a $$"
   ]
  },
  {
   "cell_type": "markdown",
   "metadata": {
    "slideshow": {
     "slide_type": "fragment"
    }
   },
   "source": [
    "#### Time Inverent ?\n",
    "\n",
    "  1. \n",
    "  \n",
    "  $$ f(x) = 10 \\cdot x $$"
   ]
  },
  {
   "cell_type": "markdown",
   "metadata": {
    "slideshow": {
     "slide_type": "fragment"
    }
   },
   "source": [
    "  2. \n",
    "  $$ f(x) = x^{2} + 2x + 1 $$"
   ]
  },
  {
   "cell_type": "markdown",
   "metadata": {
    "slideshow": {
     "slide_type": "fragment"
    }
   },
   "source": [
    " 3. \n",
    "    $$ f(x) = t \\cdot x $$"
   ]
  },
  {
   "cell_type": "markdown",
   "metadata": {
    "slideshow": {
     "slide_type": "fragment"
    }
   },
   "source": [
    "  4. \n",
    "  $$ f(x) = x * \\delta(t-1) $$\n",
    "  \n",
    "    + What is that symbol \"$*$\" ? \n",
    "    + What about that other symbol \"$\\delta$\"?"
   ]
  },
  {
   "cell_type": "markdown",
   "metadata": {
    "slideshow": {
     "slide_type": "subslide"
    }
   },
   "source": [
    "###  Bounded Input Bounded Output\n",
    "\n",
    "  + For any input of limited energy the output energy is limited\n",
    "  \n",
    "$$ \\int_{- \\infty}^{\\infty} | \\: f(x) \\:  | \\: dt \\: < \\: \\infty  \\quad  for \\: \\int_{- \\infty}^{\\infty} | \\: x \\:  | \\: dt < \\infty$$"
   ]
  },
  {
   "cell_type": "markdown",
   "metadata": {
    "slideshow": {
     "slide_type": "fragment"
    }
   },
   "source": [
    "#### BIBO System?\n",
    "\n",
    "1. \n",
    "$$ f(x) = 5 \\cdot x + 2 $$"
   ]
  },
  {
   "cell_type": "markdown",
   "metadata": {
    "slideshow": {
     "slide_type": "fragment"
    }
   },
   "source": [
    "  2. \n",
    "  $$ f(x) = x^2 $$"
   ]
  },
  {
   "cell_type": "markdown",
   "metadata": {
    "slideshow": {
     "slide_type": "fragment"
    }
   },
   "source": [
    "  3. \n",
    "  $$ f(x) =  \\cfrac{1}{x} $$"
   ]
  },
  {
   "cell_type": "markdown",
   "metadata": {
    "slideshow": {
     "slide_type": "fragment"
    }
   },
   "source": [
    "  4. \n",
    "  $$ f(x) = \\int_{-\\infty}^{t} x^{2}(\\tau) \\: d \\tau $$"
   ]
  },
  {
   "cell_type": "markdown",
   "metadata": {
    "slideshow": {
     "slide_type": "subslide"
    }
   },
   "source": [
    "### Dirivatives and Differences\n",
    "\n",
    "#### Dirivative\n",
    "The rate of chage with respect to another variable.\n",
    "\n",
    "# Insert Dirivative Graphic"
   ]
  },
  {
   "cell_type": "markdown",
   "metadata": {
    "slideshow": {
     "slide_type": "subslide"
    }
   },
   "source": []
  },
  {
   "cell_type": "markdown",
   "metadata": {},
   "source": []
  },
  {
   "cell_type": "markdown",
   "metadata": {
    "cell_style": "split",
    "slideshow": {
     "slide_type": "slide"
    }
   },
   "source": [
    "## Random Varaibles\n",
    "  + Basics of Probablilty\n",
    "    + Total Probablilty\n",
    "    + Probability Density Function\n",
    "    + Cumulative Distribution Function\n",
    "  + Continuous Vs. Discrete\n",
    "  + Common Distributions\n",
    "      + Uniform\n",
    "      + Exponential\n",
    "      + Gaussian\n",
    "      + Chi Squared\n"
   ]
  },
  {
   "cell_type": "markdown",
   "metadata": {
    "cell_style": "split",
    "slideshow": {
     "slide_type": "-"
    }
   },
   "source": [
    "  + Conditional Probability \n",
    "  + Mean, Variance, and higher Moments\n",
    "  + Correlation\n",
    "  + Independent and identically Distributed Random Variables\n",
    "  + Operations on random variables\n",
    "  + Central Limit Theorem"
   ]
  },
  {
   "cell_type": "markdown",
   "metadata": {
    "slideshow": {
     "slide_type": "subslide"
    }
   },
   "source": [
    "### Basics Probability\n",
    "\n",
    "  \n",
    "  <img src=\"probability.png?1\" width=\"75%\" >"
   ]
  },
  {
   "cell_type": "markdown",
   "metadata": {
    "slideshow": {
     "slide_type": "subslide"
    }
   },
   "source": [
    "#### Total Probability\n",
    "    + Sum of all included outcomes is 1\n",
    "    \n",
    " \n",
    " <img src=\"probability_total.png?1\" width=\"75%\" >"
   ]
  },
  {
   "cell_type": "markdown",
   "metadata": {
    "slideshow": {
     "slide_type": "subslide"
    }
   },
   "source": [
    "#### Probability of 1?\n",
    "Given a random number generator what are the odd's it will return 1?\n",
    "\n",
    "<img src=\"probability_point.png?1\" width=\"75%\" >\n",
    "\n"
   ]
  },
  {
   "cell_type": "markdown",
   "metadata": {
    "slideshow": {
     "slide_type": "subslide"
    }
   },
   "source": [
    "#### Probability less than 0\n",
    "\n",
    "<img src=\"probability_regoin.png?1\" width=\"75%\">"
   ]
  },
  {
   "cell_type": "markdown",
   "metadata": {
    "slideshow": {
     "slide_type": "subslide"
    }
   },
   "source": [
    "### Probability Density Function\n",
    "\n",
    "  <img src=\"probability.png?1\" width=\"75%\" >"
   ]
  },
  {
   "cell_type": "markdown",
   "metadata": {
    "slideshow": {
     "slide_type": "subslide"
    }
   },
   "source": [
    "### Cumulative Density Function\n",
    "\n",
    "<img src=\"probability_pdf_cdf.png?1\" width=\"65%\">"
   ]
  },
  {
   "cell_type": "code",
   "execution_count": null,
   "metadata": {
    "slideshow": {
     "slide_type": "subslide"
    }
   },
   "outputs": [],
   "source": []
  },
  {
   "cell_type": "markdown",
   "metadata": {
    "cell_style": "split",
    "slideshow": {
     "slide_type": "subslide"
    }
   },
   "source": [
    "### Continuous \n",
    "+ Likelihood function\n",
    "  + Non-negative\n",
    "  + Can be greater than 1\n",
    "  + Probability density Function (PDF)\n",
    "\n",
    "<img src=\"probability.png?2\" width=\"90%\" >"
   ]
  },
  {
   "cell_type": "markdown",
   "metadata": {
    "cell_style": "split",
    "slideshow": {
     "slide_type": "-"
    }
   },
   "source": [
    "### Discrete\n",
    "\n",
    "+ Likelihood function\n",
    "  + Non-negative\n",
    "  + 0 or +infinity \n",
    "  + Probability Mass Function (PMF)\n",
    "  \n",
    "  \n",
    "<img src=\"probability_mass_function.png?1\" width=\"90%\">"
   ]
  },
  {
   "cell_type": "code",
   "execution_count": null,
   "metadata": {},
   "outputs": [],
   "source": []
  },
  {
   "cell_type": "markdown",
   "metadata": {
    "cell_style": "split",
    "slideshow": {
     "slide_type": "subslide"
    }
   },
   "source": [
    "#### Common Distributions\n",
    "  + Uniform \n",
    "    + Eazist to work with\n",
    "  + Exponential\n",
    "    + Eazy to work with\n",
    "  + Gaussian\n",
    "    + The most common\n",
    "  + Chi Squared\n",
    "    + Most common squared\n",
    "    "
   ]
  },
  {
   "cell_type": "markdown",
   "metadata": {
    "cell_style": "split",
    "slideshow": {
     "slide_type": "-"
    }
   },
   "source": [
    "<img src=\"common_distributions.png?0\" width=\"100%\">"
   ]
  },
  {
   "cell_type": "markdown",
   "metadata": {
    "cell_style": "split",
    "slideshow": {
     "slide_type": "subslide"
    }
   },
   "source": [
    "#### Uniform\n",
    "$$ P(x) =\\Big \\{ \\begin{matrix} \\:1 \\: :\\quad 0\\leq x \\leq 1 \\\\0 : \\quad otherwise \\end{matrix}$$"
   ]
  },
  {
   "cell_type": "markdown",
   "metadata": {
    "cell_style": "split",
    "slideshow": {
     "slide_type": "-"
    }
   },
   "source": [
    "sdf\n",
    "\n",
    "\n",
    "\n"
   ]
  },
  {
   "cell_type": "markdown",
   "metadata": {
    "cell_style": "split",
    "slideshow": {
     "slide_type": "subslide"
    }
   },
   "source": [
    "#### Exponetial"
   ]
  },
  {
   "cell_type": "markdown",
   "metadata": {
    "cell_style": "split",
    "slideshow": {
     "slide_type": "-"
    }
   },
   "source": []
  },
  {
   "cell_type": "markdown",
   "metadata": {},
   "source": [
    "### "
   ]
  },
  {
   "cell_type": "code",
   "execution_count": null,
   "metadata": {},
   "outputs": [],
   "source": []
  },
  {
   "cell_type": "code",
   "execution_count": null,
   "metadata": {},
   "outputs": [],
   "source": []
  },
  {
   "cell_type": "code",
   "execution_count": null,
   "metadata": {},
   "outputs": [],
   "source": []
  },
  {
   "cell_type": "code",
   "execution_count": null,
   "metadata": {},
   "outputs": [],
   "source": []
  },
  {
   "cell_type": "markdown",
   "metadata": {
    "cell_style": "split",
    "slideshow": {
     "slide_type": "slide"
    }
   },
   "source": [
    "    \n",
    "## Basic Linear Algebra\n",
    "    + Vector Operations\n",
    "      + Addition\n",
    "      + Scaler Multiplication\n",
    "      + Vector Span\n",
    "    + Vector Products\n",
    "      + Elementwise Product\n",
    "      + Outter Product\n",
    "      + Inner Product\n",
    "    "
   ]
  },
  {
   "cell_type": "markdown",
   "metadata": {
    "cell_style": "split",
    "slideshow": {
     "slide_type": "-"
    }
   },
   "source": [
    "+ Cauchy–Schwarz inequality\n",
    "+ Matrix Operations\n",
    "+ Matched Filter\n",
    "+ Convolution\n",
    "+ Correlation of random vectors\n",
    "+ Rotation Matrices"
   ]
  },
  {
   "cell_type": "code",
   "execution_count": null,
   "metadata": {},
   "outputs": [],
   "source": []
  },
  {
   "cell_type": "markdown",
   "metadata": {
    "cell_style": "split",
    "slideshow": {
     "slide_type": "subslide"
    }
   },
   "source": [
    "## What is a Vector\n",
    "\n",
    "\n",
    "$$  \\vec{V} \\quad = \\quad [\\:v_1, \\:v_2, \\: _\\cdots, \\: v_n ] $$\n",
    "\n",
    "+ List of numbers with associated operations\n",
    "  + Direction and magnitude\n",
    "+ Often thought of as spacial\n",
    "  + Does not have to be ...\n",
    "+ Associated Operations\n",
    "  + More than \\( Add, Subtract, Multiply, Divide \\)\n"
   ]
  },
  {
   "cell_type": "markdown",
   "metadata": {
    "cell_style": "split",
    "slideshow": {
     "slide_type": "-"
    }
   },
   "source": [
    "\n",
    "\n",
    "\n",
    "\n",
    "<img src=\"vector.png?3\" width=\"75%\">"
   ]
  },
  {
   "cell_type": "markdown",
   "metadata": {
    "cell_style": "split",
    "slideshow": {
     "slide_type": "subslide"
    }
   },
   "source": [
    "### Vector Addition\n",
    "\n",
    "$$ \\vec{U} = \\vec{V} + \\vec{W} $$\n",
    "\n",
    "$$ \\begin{matrix}\n",
    "\\; \\quad \\vec{V} \\quad = \\quad [\\:v_1, \\:v_2, \\: _\\cdots, \\: v_n ] \\\\\n",
    "+ \\quad \\vec{W} \\quad = \\quad [\\:w_1, \\:w_2, \\: _\\cdots, \\: w_n ] \\\\ \\hline\n",
    "\\quad \\vec{U} \\quad = \\quad [\\:u_1, \\:u_2, \\: _\\cdots, \\: u_n ]\n",
    "\\end{matrix}\n",
    "$$\n",
    "\n",
    "$$\n",
    "u_1=v_1+w_1 \\: , \\: u_2=v_2+w_2 \\: , \\: _\\cdots \\: , \\: u_n=v_n+w_n \n",
    "$$\n",
    "\n",
    "+ Dimentions of each vector?"
   ]
  },
  {
   "cell_type": "markdown",
   "metadata": {
    "cell_style": "split",
    "slideshow": {
     "slide_type": "-"
    }
   },
   "source": [
    "\n",
    "\n",
    "<img src=\"vector_addition.png?1\" width=\"85%\">"
   ]
  },
  {
   "cell_type": "code",
   "execution_count": 55,
   "metadata": {
    "slideshow": {
     "slide_type": "subslide"
    }
   },
   "outputs": [
    {
     "data": {
      "application/javascript": [
       "/* Put everything inside the global mpl namespace */\n",
       "window.mpl = {};\n",
       "\n",
       "\n",
       "mpl.get_websocket_type = function() {\n",
       "    if (typeof(WebSocket) !== 'undefined') {\n",
       "        return WebSocket;\n",
       "    } else if (typeof(MozWebSocket) !== 'undefined') {\n",
       "        return MozWebSocket;\n",
       "    } else {\n",
       "        alert('Your browser does not have WebSocket support. ' +\n",
       "              'Please try Chrome, Safari or Firefox ≥ 6. ' +\n",
       "              'Firefox 4 and 5 are also supported but you ' +\n",
       "              'have to enable WebSockets in about:config.');\n",
       "    };\n",
       "}\n",
       "\n",
       "mpl.figure = function(figure_id, websocket, ondownload, parent_element) {\n",
       "    this.id = figure_id;\n",
       "\n",
       "    this.ws = websocket;\n",
       "\n",
       "    this.supports_binary = (this.ws.binaryType != undefined);\n",
       "\n",
       "    if (!this.supports_binary) {\n",
       "        var warnings = document.getElementById(\"mpl-warnings\");\n",
       "        if (warnings) {\n",
       "            warnings.style.display = 'block';\n",
       "            warnings.textContent = (\n",
       "                \"This browser does not support binary websocket messages. \" +\n",
       "                    \"Performance may be slow.\");\n",
       "        }\n",
       "    }\n",
       "\n",
       "    this.imageObj = new Image();\n",
       "\n",
       "    this.context = undefined;\n",
       "    this.message = undefined;\n",
       "    this.canvas = undefined;\n",
       "    this.rubberband_canvas = undefined;\n",
       "    this.rubberband_context = undefined;\n",
       "    this.format_dropdown = undefined;\n",
       "\n",
       "    this.image_mode = 'full';\n",
       "\n",
       "    this.root = $('<div/>');\n",
       "    this._root_extra_style(this.root)\n",
       "    this.root.attr('style', 'display: inline-block');\n",
       "\n",
       "    $(parent_element).append(this.root);\n",
       "\n",
       "    this._init_header(this);\n",
       "    this._init_canvas(this);\n",
       "    this._init_toolbar(this);\n",
       "\n",
       "    var fig = this;\n",
       "\n",
       "    this.waiting = false;\n",
       "\n",
       "    this.ws.onopen =  function () {\n",
       "            fig.send_message(\"supports_binary\", {value: fig.supports_binary});\n",
       "            fig.send_message(\"send_image_mode\", {});\n",
       "            if (mpl.ratio != 1) {\n",
       "                fig.send_message(\"set_dpi_ratio\", {'dpi_ratio': mpl.ratio});\n",
       "            }\n",
       "            fig.send_message(\"refresh\", {});\n",
       "        }\n",
       "\n",
       "    this.imageObj.onload = function() {\n",
       "            if (fig.image_mode == 'full') {\n",
       "                // Full images could contain transparency (where diff images\n",
       "                // almost always do), so we need to clear the canvas so that\n",
       "                // there is no ghosting.\n",
       "                fig.context.clearRect(0, 0, fig.canvas.width, fig.canvas.height);\n",
       "            }\n",
       "            fig.context.drawImage(fig.imageObj, 0, 0);\n",
       "        };\n",
       "\n",
       "    this.imageObj.onunload = function() {\n",
       "        fig.ws.close();\n",
       "    }\n",
       "\n",
       "    this.ws.onmessage = this._make_on_message_function(this);\n",
       "\n",
       "    this.ondownload = ondownload;\n",
       "}\n",
       "\n",
       "mpl.figure.prototype._init_header = function() {\n",
       "    var titlebar = $(\n",
       "        '<div class=\"ui-dialog-titlebar ui-widget-header ui-corner-all ' +\n",
       "        'ui-helper-clearfix\"/>');\n",
       "    var titletext = $(\n",
       "        '<div class=\"ui-dialog-title\" style=\"width: 100%; ' +\n",
       "        'text-align: center; padding: 3px;\"/>');\n",
       "    titlebar.append(titletext)\n",
       "    this.root.append(titlebar);\n",
       "    this.header = titletext[0];\n",
       "}\n",
       "\n",
       "\n",
       "\n",
       "mpl.figure.prototype._canvas_extra_style = function(canvas_div) {\n",
       "\n",
       "}\n",
       "\n",
       "\n",
       "mpl.figure.prototype._root_extra_style = function(canvas_div) {\n",
       "\n",
       "}\n",
       "\n",
       "mpl.figure.prototype._init_canvas = function() {\n",
       "    var fig = this;\n",
       "\n",
       "    var canvas_div = $('<div/>');\n",
       "\n",
       "    canvas_div.attr('style', 'position: relative; clear: both; outline: 0');\n",
       "\n",
       "    function canvas_keyboard_event(event) {\n",
       "        return fig.key_event(event, event['data']);\n",
       "    }\n",
       "\n",
       "    canvas_div.keydown('key_press', canvas_keyboard_event);\n",
       "    canvas_div.keyup('key_release', canvas_keyboard_event);\n",
       "    this.canvas_div = canvas_div\n",
       "    this._canvas_extra_style(canvas_div)\n",
       "    this.root.append(canvas_div);\n",
       "\n",
       "    var canvas = $('<canvas/>');\n",
       "    canvas.addClass('mpl-canvas');\n",
       "    canvas.attr('style', \"left: 0; top: 0; z-index: 0; outline: 0\")\n",
       "\n",
       "    this.canvas = canvas[0];\n",
       "    this.context = canvas[0].getContext(\"2d\");\n",
       "\n",
       "    var backingStore = this.context.backingStorePixelRatio ||\n",
       "\tthis.context.webkitBackingStorePixelRatio ||\n",
       "\tthis.context.mozBackingStorePixelRatio ||\n",
       "\tthis.context.msBackingStorePixelRatio ||\n",
       "\tthis.context.oBackingStorePixelRatio ||\n",
       "\tthis.context.backingStorePixelRatio || 1;\n",
       "\n",
       "    mpl.ratio = (window.devicePixelRatio || 1) / backingStore;\n",
       "\n",
       "    var rubberband = $('<canvas/>');\n",
       "    rubberband.attr('style', \"position: absolute; left: 0; top: 0; z-index: 1;\")\n",
       "\n",
       "    var pass_mouse_events = true;\n",
       "\n",
       "    canvas_div.resizable({\n",
       "        start: function(event, ui) {\n",
       "            pass_mouse_events = false;\n",
       "        },\n",
       "        resize: function(event, ui) {\n",
       "            fig.request_resize(ui.size.width, ui.size.height);\n",
       "        },\n",
       "        stop: function(event, ui) {\n",
       "            pass_mouse_events = true;\n",
       "            fig.request_resize(ui.size.width, ui.size.height);\n",
       "        },\n",
       "    });\n",
       "\n",
       "    function mouse_event_fn(event) {\n",
       "        if (pass_mouse_events)\n",
       "            return fig.mouse_event(event, event['data']);\n",
       "    }\n",
       "\n",
       "    rubberband.mousedown('button_press', mouse_event_fn);\n",
       "    rubberband.mouseup('button_release', mouse_event_fn);\n",
       "    // Throttle sequential mouse events to 1 every 20ms.\n",
       "    rubberband.mousemove('motion_notify', mouse_event_fn);\n",
       "\n",
       "    rubberband.mouseenter('figure_enter', mouse_event_fn);\n",
       "    rubberband.mouseleave('figure_leave', mouse_event_fn);\n",
       "\n",
       "    canvas_div.on(\"wheel\", function (event) {\n",
       "        event = event.originalEvent;\n",
       "        event['data'] = 'scroll'\n",
       "        if (event.deltaY < 0) {\n",
       "            event.step = 1;\n",
       "        } else {\n",
       "            event.step = -1;\n",
       "        }\n",
       "        mouse_event_fn(event);\n",
       "    });\n",
       "\n",
       "    canvas_div.append(canvas);\n",
       "    canvas_div.append(rubberband);\n",
       "\n",
       "    this.rubberband = rubberband;\n",
       "    this.rubberband_canvas = rubberband[0];\n",
       "    this.rubberband_context = rubberband[0].getContext(\"2d\");\n",
       "    this.rubberband_context.strokeStyle = \"#000000\";\n",
       "\n",
       "    this._resize_canvas = function(width, height) {\n",
       "        // Keep the size of the canvas, canvas container, and rubber band\n",
       "        // canvas in synch.\n",
       "        canvas_div.css('width', width)\n",
       "        canvas_div.css('height', height)\n",
       "\n",
       "        canvas.attr('width', width * mpl.ratio);\n",
       "        canvas.attr('height', height * mpl.ratio);\n",
       "        canvas.attr('style', 'width: ' + width + 'px; height: ' + height + 'px;');\n",
       "\n",
       "        rubberband.attr('width', width);\n",
       "        rubberband.attr('height', height);\n",
       "    }\n",
       "\n",
       "    // Set the figure to an initial 600x600px, this will subsequently be updated\n",
       "    // upon first draw.\n",
       "    this._resize_canvas(600, 600);\n",
       "\n",
       "    // Disable right mouse context menu.\n",
       "    $(this.rubberband_canvas).bind(\"contextmenu\",function(e){\n",
       "        return false;\n",
       "    });\n",
       "\n",
       "    function set_focus () {\n",
       "        canvas.focus();\n",
       "        canvas_div.focus();\n",
       "    }\n",
       "\n",
       "    window.setTimeout(set_focus, 100);\n",
       "}\n",
       "\n",
       "mpl.figure.prototype._init_toolbar = function() {\n",
       "    var fig = this;\n",
       "\n",
       "    var nav_element = $('<div/>');\n",
       "    nav_element.attr('style', 'width: 100%');\n",
       "    this.root.append(nav_element);\n",
       "\n",
       "    // Define a callback function for later on.\n",
       "    function toolbar_event(event) {\n",
       "        return fig.toolbar_button_onclick(event['data']);\n",
       "    }\n",
       "    function toolbar_mouse_event(event) {\n",
       "        return fig.toolbar_button_onmouseover(event['data']);\n",
       "    }\n",
       "\n",
       "    for(var toolbar_ind in mpl.toolbar_items) {\n",
       "        var name = mpl.toolbar_items[toolbar_ind][0];\n",
       "        var tooltip = mpl.toolbar_items[toolbar_ind][1];\n",
       "        var image = mpl.toolbar_items[toolbar_ind][2];\n",
       "        var method_name = mpl.toolbar_items[toolbar_ind][3];\n",
       "\n",
       "        if (!name) {\n",
       "            // put a spacer in here.\n",
       "            continue;\n",
       "        }\n",
       "        var button = $('<button/>');\n",
       "        button.addClass('ui-button ui-widget ui-state-default ui-corner-all ' +\n",
       "                        'ui-button-icon-only');\n",
       "        button.attr('role', 'button');\n",
       "        button.attr('aria-disabled', 'false');\n",
       "        button.click(method_name, toolbar_event);\n",
       "        button.mouseover(tooltip, toolbar_mouse_event);\n",
       "\n",
       "        var icon_img = $('<span/>');\n",
       "        icon_img.addClass('ui-button-icon-primary ui-icon');\n",
       "        icon_img.addClass(image);\n",
       "        icon_img.addClass('ui-corner-all');\n",
       "\n",
       "        var tooltip_span = $('<span/>');\n",
       "        tooltip_span.addClass('ui-button-text');\n",
       "        tooltip_span.html(tooltip);\n",
       "\n",
       "        button.append(icon_img);\n",
       "        button.append(tooltip_span);\n",
       "\n",
       "        nav_element.append(button);\n",
       "    }\n",
       "\n",
       "    var fmt_picker_span = $('<span/>');\n",
       "\n",
       "    var fmt_picker = $('<select/>');\n",
       "    fmt_picker.addClass('mpl-toolbar-option ui-widget ui-widget-content');\n",
       "    fmt_picker_span.append(fmt_picker);\n",
       "    nav_element.append(fmt_picker_span);\n",
       "    this.format_dropdown = fmt_picker[0];\n",
       "\n",
       "    for (var ind in mpl.extensions) {\n",
       "        var fmt = mpl.extensions[ind];\n",
       "        var option = $(\n",
       "            '<option/>', {selected: fmt === mpl.default_extension}).html(fmt);\n",
       "        fmt_picker.append(option);\n",
       "    }\n",
       "\n",
       "    // Add hover states to the ui-buttons\n",
       "    $( \".ui-button\" ).hover(\n",
       "        function() { $(this).addClass(\"ui-state-hover\");},\n",
       "        function() { $(this).removeClass(\"ui-state-hover\");}\n",
       "    );\n",
       "\n",
       "    var status_bar = $('<span class=\"mpl-message\"/>');\n",
       "    nav_element.append(status_bar);\n",
       "    this.message = status_bar[0];\n",
       "}\n",
       "\n",
       "mpl.figure.prototype.request_resize = function(x_pixels, y_pixels) {\n",
       "    // Request matplotlib to resize the figure. Matplotlib will then trigger a resize in the client,\n",
       "    // which will in turn request a refresh of the image.\n",
       "    this.send_message('resize', {'width': x_pixels, 'height': y_pixels});\n",
       "}\n",
       "\n",
       "mpl.figure.prototype.send_message = function(type, properties) {\n",
       "    properties['type'] = type;\n",
       "    properties['figure_id'] = this.id;\n",
       "    this.ws.send(JSON.stringify(properties));\n",
       "}\n",
       "\n",
       "mpl.figure.prototype.send_draw_message = function() {\n",
       "    if (!this.waiting) {\n",
       "        this.waiting = true;\n",
       "        this.ws.send(JSON.stringify({type: \"draw\", figure_id: this.id}));\n",
       "    }\n",
       "}\n",
       "\n",
       "\n",
       "mpl.figure.prototype.handle_save = function(fig, msg) {\n",
       "    var format_dropdown = fig.format_dropdown;\n",
       "    var format = format_dropdown.options[format_dropdown.selectedIndex].value;\n",
       "    fig.ondownload(fig, format);\n",
       "}\n",
       "\n",
       "\n",
       "mpl.figure.prototype.handle_resize = function(fig, msg) {\n",
       "    var size = msg['size'];\n",
       "    if (size[0] != fig.canvas.width || size[1] != fig.canvas.height) {\n",
       "        fig._resize_canvas(size[0], size[1]);\n",
       "        fig.send_message(\"refresh\", {});\n",
       "    };\n",
       "}\n",
       "\n",
       "mpl.figure.prototype.handle_rubberband = function(fig, msg) {\n",
       "    var x0 = msg['x0'] / mpl.ratio;\n",
       "    var y0 = (fig.canvas.height - msg['y0']) / mpl.ratio;\n",
       "    var x1 = msg['x1'] / mpl.ratio;\n",
       "    var y1 = (fig.canvas.height - msg['y1']) / mpl.ratio;\n",
       "    x0 = Math.floor(x0) + 0.5;\n",
       "    y0 = Math.floor(y0) + 0.5;\n",
       "    x1 = Math.floor(x1) + 0.5;\n",
       "    y1 = Math.floor(y1) + 0.5;\n",
       "    var min_x = Math.min(x0, x1);\n",
       "    var min_y = Math.min(y0, y1);\n",
       "    var width = Math.abs(x1 - x0);\n",
       "    var height = Math.abs(y1 - y0);\n",
       "\n",
       "    fig.rubberband_context.clearRect(\n",
       "        0, 0, fig.canvas.width / mpl.ratio, fig.canvas.height / mpl.ratio);\n",
       "\n",
       "    fig.rubberband_context.strokeRect(min_x, min_y, width, height);\n",
       "}\n",
       "\n",
       "mpl.figure.prototype.handle_figure_label = function(fig, msg) {\n",
       "    // Updates the figure title.\n",
       "    fig.header.textContent = msg['label'];\n",
       "}\n",
       "\n",
       "mpl.figure.prototype.handle_cursor = function(fig, msg) {\n",
       "    var cursor = msg['cursor'];\n",
       "    switch(cursor)\n",
       "    {\n",
       "    case 0:\n",
       "        cursor = 'pointer';\n",
       "        break;\n",
       "    case 1:\n",
       "        cursor = 'default';\n",
       "        break;\n",
       "    case 2:\n",
       "        cursor = 'crosshair';\n",
       "        break;\n",
       "    case 3:\n",
       "        cursor = 'move';\n",
       "        break;\n",
       "    }\n",
       "    fig.rubberband_canvas.style.cursor = cursor;\n",
       "}\n",
       "\n",
       "mpl.figure.prototype.handle_message = function(fig, msg) {\n",
       "    fig.message.textContent = msg['message'];\n",
       "}\n",
       "\n",
       "mpl.figure.prototype.handle_draw = function(fig, msg) {\n",
       "    // Request the server to send over a new figure.\n",
       "    fig.send_draw_message();\n",
       "}\n",
       "\n",
       "mpl.figure.prototype.handle_image_mode = function(fig, msg) {\n",
       "    fig.image_mode = msg['mode'];\n",
       "}\n",
       "\n",
       "mpl.figure.prototype.updated_canvas_event = function() {\n",
       "    // Called whenever the canvas gets updated.\n",
       "    this.send_message(\"ack\", {});\n",
       "}\n",
       "\n",
       "// A function to construct a web socket function for onmessage handling.\n",
       "// Called in the figure constructor.\n",
       "mpl.figure.prototype._make_on_message_function = function(fig) {\n",
       "    return function socket_on_message(evt) {\n",
       "        if (evt.data instanceof Blob) {\n",
       "            /* FIXME: We get \"Resource interpreted as Image but\n",
       "             * transferred with MIME type text/plain:\" errors on\n",
       "             * Chrome.  But how to set the MIME type?  It doesn't seem\n",
       "             * to be part of the websocket stream */\n",
       "            evt.data.type = \"image/png\";\n",
       "\n",
       "            /* Free the memory for the previous frames */\n",
       "            if (fig.imageObj.src) {\n",
       "                (window.URL || window.webkitURL).revokeObjectURL(\n",
       "                    fig.imageObj.src);\n",
       "            }\n",
       "\n",
       "            fig.imageObj.src = (window.URL || window.webkitURL).createObjectURL(\n",
       "                evt.data);\n",
       "            fig.updated_canvas_event();\n",
       "            fig.waiting = false;\n",
       "            return;\n",
       "        }\n",
       "        else if (typeof evt.data === 'string' && evt.data.slice(0, 21) == \"data:image/png;base64\") {\n",
       "            fig.imageObj.src = evt.data;\n",
       "            fig.updated_canvas_event();\n",
       "            fig.waiting = false;\n",
       "            return;\n",
       "        }\n",
       "\n",
       "        var msg = JSON.parse(evt.data);\n",
       "        var msg_type = msg['type'];\n",
       "\n",
       "        // Call the  \"handle_{type}\" callback, which takes\n",
       "        // the figure and JSON message as its only arguments.\n",
       "        try {\n",
       "            var callback = fig[\"handle_\" + msg_type];\n",
       "        } catch (e) {\n",
       "            console.log(\"No handler for the '\" + msg_type + \"' message type: \", msg);\n",
       "            return;\n",
       "        }\n",
       "\n",
       "        if (callback) {\n",
       "            try {\n",
       "                // console.log(\"Handling '\" + msg_type + \"' message: \", msg);\n",
       "                callback(fig, msg);\n",
       "            } catch (e) {\n",
       "                console.log(\"Exception inside the 'handler_\" + msg_type + \"' callback:\", e, e.stack, msg);\n",
       "            }\n",
       "        }\n",
       "    };\n",
       "}\n",
       "\n",
       "// from http://stackoverflow.com/questions/1114465/getting-mouse-location-in-canvas\n",
       "mpl.findpos = function(e) {\n",
       "    //this section is from http://www.quirksmode.org/js/events_properties.html\n",
       "    var targ;\n",
       "    if (!e)\n",
       "        e = window.event;\n",
       "    if (e.target)\n",
       "        targ = e.target;\n",
       "    else if (e.srcElement)\n",
       "        targ = e.srcElement;\n",
       "    if (targ.nodeType == 3) // defeat Safari bug\n",
       "        targ = targ.parentNode;\n",
       "\n",
       "    // jQuery normalizes the pageX and pageY\n",
       "    // pageX,Y are the mouse positions relative to the document\n",
       "    // offset() returns the position of the element relative to the document\n",
       "    var x = e.pageX - $(targ).offset().left;\n",
       "    var y = e.pageY - $(targ).offset().top;\n",
       "\n",
       "    return {\"x\": x, \"y\": y};\n",
       "};\n",
       "\n",
       "/*\n",
       " * return a copy of an object with only non-object keys\n",
       " * we need this to avoid circular references\n",
       " * http://stackoverflow.com/a/24161582/3208463\n",
       " */\n",
       "function simpleKeys (original) {\n",
       "  return Object.keys(original).reduce(function (obj, key) {\n",
       "    if (typeof original[key] !== 'object')\n",
       "        obj[key] = original[key]\n",
       "    return obj;\n",
       "  }, {});\n",
       "}\n",
       "\n",
       "mpl.figure.prototype.mouse_event = function(event, name) {\n",
       "    var canvas_pos = mpl.findpos(event)\n",
       "\n",
       "    if (name === 'button_press')\n",
       "    {\n",
       "        this.canvas.focus();\n",
       "        this.canvas_div.focus();\n",
       "    }\n",
       "\n",
       "    var x = canvas_pos.x * mpl.ratio;\n",
       "    var y = canvas_pos.y * mpl.ratio;\n",
       "\n",
       "    this.send_message(name, {x: x, y: y, button: event.button,\n",
       "                             step: event.step,\n",
       "                             guiEvent: simpleKeys(event)});\n",
       "\n",
       "    /* This prevents the web browser from automatically changing to\n",
       "     * the text insertion cursor when the button is pressed.  We want\n",
       "     * to control all of the cursor setting manually through the\n",
       "     * 'cursor' event from matplotlib */\n",
       "    event.preventDefault();\n",
       "    return false;\n",
       "}\n",
       "\n",
       "mpl.figure.prototype._key_event_extra = function(event, name) {\n",
       "    // Handle any extra behaviour associated with a key event\n",
       "}\n",
       "\n",
       "mpl.figure.prototype.key_event = function(event, name) {\n",
       "\n",
       "    // Prevent repeat events\n",
       "    if (name == 'key_press')\n",
       "    {\n",
       "        if (event.which === this._key)\n",
       "            return;\n",
       "        else\n",
       "            this._key = event.which;\n",
       "    }\n",
       "    if (name == 'key_release')\n",
       "        this._key = null;\n",
       "\n",
       "    var value = '';\n",
       "    if (event.ctrlKey && event.which != 17)\n",
       "        value += \"ctrl+\";\n",
       "    if (event.altKey && event.which != 18)\n",
       "        value += \"alt+\";\n",
       "    if (event.shiftKey && event.which != 16)\n",
       "        value += \"shift+\";\n",
       "\n",
       "    value += 'k';\n",
       "    value += event.which.toString();\n",
       "\n",
       "    this._key_event_extra(event, name);\n",
       "\n",
       "    this.send_message(name, {key: value,\n",
       "                             guiEvent: simpleKeys(event)});\n",
       "    return false;\n",
       "}\n",
       "\n",
       "mpl.figure.prototype.toolbar_button_onclick = function(name) {\n",
       "    if (name == 'download') {\n",
       "        this.handle_save(this, null);\n",
       "    } else {\n",
       "        this.send_message(\"toolbar_button\", {name: name});\n",
       "    }\n",
       "};\n",
       "\n",
       "mpl.figure.prototype.toolbar_button_onmouseover = function(tooltip) {\n",
       "    this.message.textContent = tooltip;\n",
       "};\n",
       "mpl.toolbar_items = [[\"Home\", \"Reset original view\", \"fa fa-home icon-home\", \"home\"], [\"Back\", \"Back to previous view\", \"fa fa-arrow-left icon-arrow-left\", \"back\"], [\"Forward\", \"Forward to next view\", \"fa fa-arrow-right icon-arrow-right\", \"forward\"], [\"\", \"\", \"\", \"\"], [\"Pan\", \"Pan axes with left mouse, zoom with right\", \"fa fa-arrows icon-move\", \"pan\"], [\"Zoom\", \"Zoom to rectangle\", \"fa fa-square-o icon-check-empty\", \"zoom\"], [\"\", \"\", \"\", \"\"], [\"Download\", \"Download plot\", \"fa fa-floppy-o icon-save\", \"download\"]];\n",
       "\n",
       "mpl.extensions = [\"eps\", \"pdf\", \"png\", \"ps\", \"raw\", \"svg\"];\n",
       "\n",
       "mpl.default_extension = \"png\";var comm_websocket_adapter = function(comm) {\n",
       "    // Create a \"websocket\"-like object which calls the given IPython comm\n",
       "    // object with the appropriate methods. Currently this is a non binary\n",
       "    // socket, so there is still some room for performance tuning.\n",
       "    var ws = {};\n",
       "\n",
       "    ws.close = function() {\n",
       "        comm.close()\n",
       "    };\n",
       "    ws.send = function(m) {\n",
       "        //console.log('sending', m);\n",
       "        comm.send(m);\n",
       "    };\n",
       "    // Register the callback with on_msg.\n",
       "    comm.on_msg(function(msg) {\n",
       "        //console.log('receiving', msg['content']['data'], msg);\n",
       "        // Pass the mpl event to the overridden (by mpl) onmessage function.\n",
       "        ws.onmessage(msg['content']['data'])\n",
       "    });\n",
       "    return ws;\n",
       "}\n",
       "\n",
       "mpl.mpl_figure_comm = function(comm, msg) {\n",
       "    // This is the function which gets called when the mpl process\n",
       "    // starts-up an IPython Comm through the \"matplotlib\" channel.\n",
       "\n",
       "    var id = msg.content.data.id;\n",
       "    // Get hold of the div created by the display call when the Comm\n",
       "    // socket was opened in Python.\n",
       "    var element = $(\"#\" + id);\n",
       "    var ws_proxy = comm_websocket_adapter(comm)\n",
       "\n",
       "    function ondownload(figure, format) {\n",
       "        window.open(figure.imageObj.src);\n",
       "    }\n",
       "\n",
       "    var fig = new mpl.figure(id, ws_proxy,\n",
       "                           ondownload,\n",
       "                           element.get(0));\n",
       "\n",
       "    // Call onopen now - mpl needs it, as it is assuming we've passed it a real\n",
       "    // web socket which is closed, not our websocket->open comm proxy.\n",
       "    ws_proxy.onopen();\n",
       "\n",
       "    fig.parent_element = element.get(0);\n",
       "    fig.cell_info = mpl.find_output_cell(\"<div id='\" + id + \"'></div>\");\n",
       "    if (!fig.cell_info) {\n",
       "        console.error(\"Failed to find cell for figure\", id, fig);\n",
       "        return;\n",
       "    }\n",
       "\n",
       "    var output_index = fig.cell_info[2]\n",
       "    var cell = fig.cell_info[0];\n",
       "\n",
       "};\n",
       "\n",
       "mpl.figure.prototype.handle_close = function(fig, msg) {\n",
       "    var width = fig.canvas.width/mpl.ratio\n",
       "    fig.root.unbind('remove')\n",
       "\n",
       "    // Update the output cell to use the data from the current canvas.\n",
       "    fig.push_to_output();\n",
       "    var dataURL = fig.canvas.toDataURL();\n",
       "    // Re-enable the keyboard manager in IPython - without this line, in FF,\n",
       "    // the notebook keyboard shortcuts fail.\n",
       "    IPython.keyboard_manager.enable()\n",
       "    $(fig.parent_element).html('<img src=\"' + dataURL + '\" width=\"' + width + '\">');\n",
       "    fig.close_ws(fig, msg);\n",
       "}\n",
       "\n",
       "mpl.figure.prototype.close_ws = function(fig, msg){\n",
       "    fig.send_message('closing', msg);\n",
       "    // fig.ws.close()\n",
       "}\n",
       "\n",
       "mpl.figure.prototype.push_to_output = function(remove_interactive) {\n",
       "    // Turn the data on the canvas into data in the output cell.\n",
       "    var width = this.canvas.width/mpl.ratio\n",
       "    var dataURL = this.canvas.toDataURL();\n",
       "    this.cell_info[1]['text/html'] = '<img src=\"' + dataURL + '\" width=\"' + width + '\">';\n",
       "}\n",
       "\n",
       "mpl.figure.prototype.updated_canvas_event = function() {\n",
       "    // Tell IPython that the notebook contents must change.\n",
       "    IPython.notebook.set_dirty(true);\n",
       "    this.send_message(\"ack\", {});\n",
       "    var fig = this;\n",
       "    // Wait a second, then push the new image to the DOM so\n",
       "    // that it is saved nicely (might be nice to debounce this).\n",
       "    setTimeout(function () { fig.push_to_output() }, 1000);\n",
       "}\n",
       "\n",
       "mpl.figure.prototype._init_toolbar = function() {\n",
       "    var fig = this;\n",
       "\n",
       "    var nav_element = $('<div/>');\n",
       "    nav_element.attr('style', 'width: 100%');\n",
       "    this.root.append(nav_element);\n",
       "\n",
       "    // Define a callback function for later on.\n",
       "    function toolbar_event(event) {\n",
       "        return fig.toolbar_button_onclick(event['data']);\n",
       "    }\n",
       "    function toolbar_mouse_event(event) {\n",
       "        return fig.toolbar_button_onmouseover(event['data']);\n",
       "    }\n",
       "\n",
       "    for(var toolbar_ind in mpl.toolbar_items){\n",
       "        var name = mpl.toolbar_items[toolbar_ind][0];\n",
       "        var tooltip = mpl.toolbar_items[toolbar_ind][1];\n",
       "        var image = mpl.toolbar_items[toolbar_ind][2];\n",
       "        var method_name = mpl.toolbar_items[toolbar_ind][3];\n",
       "\n",
       "        if (!name) { continue; };\n",
       "\n",
       "        var button = $('<button class=\"btn btn-default\" href=\"#\" title=\"' + name + '\"><i class=\"fa ' + image + ' fa-lg\"></i></button>');\n",
       "        button.click(method_name, toolbar_event);\n",
       "        button.mouseover(tooltip, toolbar_mouse_event);\n",
       "        nav_element.append(button);\n",
       "    }\n",
       "\n",
       "    // Add the status bar.\n",
       "    var status_bar = $('<span class=\"mpl-message\" style=\"text-align:right; float: right;\"/>');\n",
       "    nav_element.append(status_bar);\n",
       "    this.message = status_bar[0];\n",
       "\n",
       "    // Add the close button to the window.\n",
       "    var buttongrp = $('<div class=\"btn-group inline pull-right\"></div>');\n",
       "    var button = $('<button class=\"btn btn-mini btn-primary\" href=\"#\" title=\"Stop Interaction\"><i class=\"fa fa-power-off icon-remove icon-large\"></i></button>');\n",
       "    button.click(function (evt) { fig.handle_close(fig, {}); } );\n",
       "    button.mouseover('Stop Interaction', toolbar_mouse_event);\n",
       "    buttongrp.append(button);\n",
       "    var titlebar = this.root.find($('.ui-dialog-titlebar'));\n",
       "    titlebar.prepend(buttongrp);\n",
       "}\n",
       "\n",
       "mpl.figure.prototype._root_extra_style = function(el){\n",
       "    var fig = this\n",
       "    el.on(\"remove\", function(){\n",
       "\tfig.close_ws(fig, {});\n",
       "    });\n",
       "}\n",
       "\n",
       "mpl.figure.prototype._canvas_extra_style = function(el){\n",
       "    // this is important to make the div 'focusable\n",
       "    el.attr('tabindex', 0)\n",
       "    // reach out to IPython and tell the keyboard manager to turn it's self\n",
       "    // off when our div gets focus\n",
       "\n",
       "    // location in version 3\n",
       "    if (IPython.notebook.keyboard_manager) {\n",
       "        IPython.notebook.keyboard_manager.register_events(el);\n",
       "    }\n",
       "    else {\n",
       "        // location in version 2\n",
       "        IPython.keyboard_manager.register_events(el);\n",
       "    }\n",
       "\n",
       "}\n",
       "\n",
       "mpl.figure.prototype._key_event_extra = function(event, name) {\n",
       "    var manager = IPython.notebook.keyboard_manager;\n",
       "    if (!manager)\n",
       "        manager = IPython.keyboard_manager;\n",
       "\n",
       "    // Check for shift+enter\n",
       "    if (event.shiftKey && event.which == 13) {\n",
       "        this.canvas_div.blur();\n",
       "        // select the cell after this one\n",
       "        var index = IPython.notebook.find_cell_index(this.cell_info[0]);\n",
       "        IPython.notebook.select(index + 1);\n",
       "    }\n",
       "}\n",
       "\n",
       "mpl.figure.prototype.handle_save = function(fig, msg) {\n",
       "    fig.ondownload(fig, null);\n",
       "}\n",
       "\n",
       "\n",
       "mpl.find_output_cell = function(html_output) {\n",
       "    // Return the cell and output element which can be found *uniquely* in the notebook.\n",
       "    // Note - this is a bit hacky, but it is done because the \"notebook_saving.Notebook\"\n",
       "    // IPython event is triggered only after the cells have been serialised, which for\n",
       "    // our purposes (turning an active figure into a static one), is too late.\n",
       "    var cells = IPython.notebook.get_cells();\n",
       "    var ncells = cells.length;\n",
       "    for (var i=0; i<ncells; i++) {\n",
       "        var cell = cells[i];\n",
       "        if (cell.cell_type === 'code'){\n",
       "            for (var j=0; j<cell.output_area.outputs.length; j++) {\n",
       "                var data = cell.output_area.outputs[j];\n",
       "                if (data.data) {\n",
       "                    // IPython >= 3 moved mimebundle to data attribute of output\n",
       "                    data = data.data;\n",
       "                }\n",
       "                if (data['text/html'] == html_output) {\n",
       "                    return [cell, data, j];\n",
       "                }\n",
       "            }\n",
       "        }\n",
       "    }\n",
       "}\n",
       "\n",
       "// Register the function which deals with the matplotlib target/channel.\n",
       "// The kernel may be null if the page has been refreshed.\n",
       "if (IPython.notebook.kernel != null) {\n",
       "    IPython.notebook.kernel.comm_manager.register_target('matplotlib', mpl.mpl_figure_comm);\n",
       "}\n"
      ],
      "text/plain": [
       "<IPython.core.display.Javascript object>"
      ]
     },
     "metadata": {},
     "output_type": "display_data"
    },
    {
     "data": {
      "text/html": [
       "<img src=\"data:image/png;base64,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\" width=\"640\">"
      ],
      "text/plain": [
       "<IPython.core.display.HTML object>"
      ]
     },
     "metadata": {},
     "output_type": "display_data"
    },
    {
     "data": {
      "application/vnd.jupyter.widget-view+json": {
       "model_id": "ba708f9d9ccc4889b2ba4ae0fca99931",
       "version_major": 2,
       "version_minor": 0
      },
      "text/plain": [
       "interactive(children=(FloatSlider(value=1.0, description='v1', max=5.0, min=-5.0), FloatSlider(value=2.0, desc…"
      ]
     },
     "metadata": {},
     "output_type": "display_data"
    }
   ],
   "source": [
    "fig, ax = plt.subplots()\n",
    "\n",
    "\n",
    "@interact(v1=(-5,5,0.1), v2=(-5,5,0.1), w1=(-5,5,0.1), w2=(-5,5,0.1))\n",
    "def update(v1=1, v2=2, w1=2, w2=0.5):\n",
    "    ax.cla()\n",
    "    u1, u2 = v1+w1, v2+w2\n",
    "    ax.arrow(0, 0, v1*0.9, v2*0.9, head_width=0.25, head_length=0.25, fc='g', ec='g')\n",
    "    ax.arrow(v1, v2, w1*0.9, w2*0.9, head_width=0.25, head_length=0.25, fc='b', ec='b')\n",
    "    ax.arrow(0, 0, u1*0.9, u2*0.9, head_width=0.25, head_length=0.25, fc='k', ec='k')\n",
    "    fig.canvas.draw_idle()\n",
    "    plt.xlim(-5, 5)\n",
    "    plt.ylim(-5, 5)\n",
    "    plt.xlabel('$X_1$')\n",
    "    plt.ylabel('$X_2$')\n",
    "    plt.title('2D Vector')\n",
    "    plt.grid(True)\n",
    "    fig.tight_layout()"
   ]
  },
  {
   "cell_type": "markdown",
   "metadata": {
    "cell_style": "split",
    "slideshow": {
     "slide_type": "subslide"
    }
   },
   "source": [
    "### Dimension and Span\n",
    "\n",
    "+ How many dimentions does a vector occupy?\n",
    "\n",
    "+ How much of that space can that vector reach?"
   ]
  },
  {
   "cell_type": "markdown",
   "metadata": {
    "cell_style": "split"
   },
   "source": [
    "<img src=\"vector_span.png\" width=\"75%\">"
   ]
  },
  {
   "cell_type": "markdown",
   "metadata": {
    "cell_style": "split",
    "slideshow": {
     "slide_type": "fragment"
    }
   },
   "source": [
    "+ What about 2 vectors?"
   ]
  },
  {
   "cell_type": "code",
   "execution_count": null,
   "metadata": {
    "slideshow": {
     "slide_type": "subslide"
    }
   },
   "outputs": [],
   "source": []
  },
  {
   "cell_type": "code",
   "execution_count": null,
   "metadata": {},
   "outputs": [],
   "source": []
  },
  {
   "cell_type": "code",
   "execution_count": null,
   "metadata": {},
   "outputs": [],
   "source": []
  },
  {
   "cell_type": "markdown",
   "metadata": {},
   "source": [
    "\n",
    "  + Basic Math Operations\n",
    "    + Linearity\n",
    "    + Time Inverance \n",
    "    + Bounded Input Bounded Output\n",
    "    + Dirivatives and Differences\n",
    "    + Integrates and Sumations \n",
    "    + Useful Non-linear Functions\n",
    "      + ABS\n",
    "      + Squared\n",
    "      + Log and Decibels\n",
    "    \n",
    "  + Continous Vs. Descrete Signals\n",
    "    + Analog to Digital Conversion\n",
    "    + Digital to Analog Conversion\n",
    "    + Delta Symbol\n",
    "    + Nyquest Sampling\n",
    "    \n",
    "  + Random Varaibles\n",
    "    + Basics of Probablilty\n",
    "      + Probability Density Function\n",
    "      + Total Probablilty\n",
    "      + Cumulative Distribution Function\n",
    "    + Continuous Vs. Discrete\n",
    "    + Common Distributions\n",
    "      + Uniform\n",
    "      + Exponential\n",
    "      + Gaussian\n",
    "      + Chi Squared\n",
    "    + Independent and identically Distributed Random Variables\n",
    "    + Operations on random variables\n",
    "    + Central Limit Theorem\n",
    "    + Correlation\n",
    "    \n",
    "  + Basic Linear Algebra\n",
    "    + Vector Operations\n",
    "      + Addition\n",
    "      + Scaler Multiplication\n",
    "      + Vector Span\n",
    "    + Vector Products\n",
    "      + Elementwise Product\n",
    "      + Outter Product\n",
    "      + Inner Product\n",
    "    + Matrix Operations\n",
    "    + Cauchy–Schwarz inequality\n",
    "    + Matched Filter\n",
    "    + Convolution\n",
    "    + Correlation of random vectors\n",
    "    + Rotation Matrices\n",
    "    + \n",
    "    \n",
    "  + Frequency / Tone\n",
    "    + Real valued\n",
    "    + Matched Filter Real valued\n",
    "    + Phase\n",
    "    + Complex Samples\n",
    "    \n",
    "  + Complex Number\n",
    "    + Direct-conversion receiver\n",
    "    + Negative Frequencies?\n",
    "    + Relationship between Phase and Delay\n",
    "    + Complex Random Numbers\n",
    "  "
   ]
  }
 ],
 "metadata": {
  "celltoolbar": "Slideshow",
  "kernelspec": {
   "display_name": "Python 3",
   "language": "python",
   "name": "python3"
  },
  "language_info": {
   "codemirror_mode": {
    "name": "ipython",
    "version": 3
   },
   "file_extension": ".py",
   "mimetype": "text/x-python",
   "name": "python",
   "nbconvert_exporter": "python",
   "pygments_lexer": "ipython3",
   "version": "3.8.10"
  }
 },
 "nbformat": 4,
 "nbformat_minor": 4
}
