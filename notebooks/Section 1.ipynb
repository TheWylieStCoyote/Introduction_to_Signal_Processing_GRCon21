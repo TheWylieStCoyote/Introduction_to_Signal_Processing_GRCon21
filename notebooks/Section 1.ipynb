{
 "cells": [
  {
   "cell_type": "markdown",
   "metadata": {
    "slideshow": {
     "slide_type": "slide"
    }
   },
   "source": [
    "# Section 1\n"
   ]
  },
  {
   "cell_type": "markdown",
   "metadata": {
    "slideshow": {
     "slide_type": "slide"
    }
   },
   "source": [
    "# What Is A Signal\n",
    "\n",
    "\n",
    "<img src=\"sine_wave_sampled.gif?2\" width=\"75%\">"
   ]
  },
  {
   "cell_type": "code",
   "execution_count": 16,
   "metadata": {
    "cell_style": "split",
    "slideshow": {
     "slide_type": "subslide"
    }
   },
   "outputs": [],
   "source": [
    "import numpy \n",
    "from numpy import pi\n",
    "from scipy import fft, linalg, signal \n",
    "from scipy import stats, io\n",
    "\n",
    "from ipywidgets import *\n",
    "\n",
    "from datetime import datetime\n",
    "\n",
    "import matplotlib.pyplot as plt\n",
    "\n",
    "%matplotlib notebook"
   ]
  },
  {
   "cell_type": "code",
   "execution_count": 18,
   "metadata": {
    "cell_style": "split",
    "slideshow": {
     "slide_type": "-"
    }
   },
   "outputs": [
    {
     "name": "stdout",
     "output_type": "stream",
     "text": [
      "2021-09-14 17:35:06.803933\n"
     ]
    }
   ],
   "source": [
    "print(datetime.now())"
   ]
  },
  {
   "cell_type": "markdown",
   "metadata": {
    "slideshow": {
     "slide_type": "slide"
    }
   },
   "source": [
    "## What Is A Signal\n"
   ]
  },
  {
   "cell_type": "markdown",
   "metadata": {
    "slideshow": {
     "slide_type": "fragment"
    }
   },
   "source": [
    "  + Something that carries or conveys information"
   ]
  },
  {
   "cell_type": "markdown",
   "metadata": {
    "slideshow": {
     "slide_type": "fragment"
    }
   },
   "source": [
    "  + What does that even mean?"
   ]
  },
  {
   "cell_type": "markdown",
   "metadata": {
    "slideshow": {
     "slide_type": "fragment"
    }
   },
   "source": [
    "  + That is about anything?"
   ]
  },
  {
   "cell_type": "markdown",
   "metadata": {
    "slideshow": {
     "slide_type": "fragment"
    }
   },
   "source": [
    "  + This is so general it maybe useless, maybe"
   ]
  },
  {
   "cell_type": "markdown",
   "metadata": {
    "slideshow": {
     "slide_type": "slide"
    }
   },
   "source": [
    "## Examples of Signals"
   ]
  },
  {
   "cell_type": "markdown",
   "metadata": {
    "slideshow": {
     "slide_type": "subslide"
    }
   },
   "source": [
    "#### Sound\n",
    "    + Acoustic waves\n",
    "    + Humans hear between 20Hz to 20 KHz\n",
    "    \n",
    "  \n",
    "  <img src=\"Theme_Classic.png\" width=\"65%\" />\n",
    "  \n",
    " https://www.audacityteam.org/"
   ]
  },
  {
   "cell_type": "markdown",
   "metadata": {
    "cell_style": "center",
    "slideshow": {
     "slide_type": "subslide"
    }
   },
   "source": [
    "### Sea Levels\n",
    "\n",
    "\n",
    "\n",
    "<img src=\"NASA-Satellite-sea-level-rise-observations.jpg\" width=\"40%\" />\n",
    "\n",
    "+ https://climate.nasa.gov/vital-signs/sea-level/\n",
    "\n",
    "+ https://en.wikipedia.org/wiki/Sea_level_rise\n"
   ]
  },
  {
   "cell_type": "markdown",
   "metadata": {
    "slideshow": {
     "slide_type": "subslide"
    }
   },
   "source": [
    "### Stock Prices\n",
    " [Game Stop 1 year](https://www.google.com/finance/quote/GME:NYSE?sa=X&sqi=2&ved=2ahUKEwiOzfqbxP_yAhWfQ_EDHVQZDgQQ3ecFegQILhAS&window=1Y)\n",
    "     \n",
    "<img src=\"GameStopStock.png?1\" width=\"55%\">"
   ]
  },
  {
   "cell_type": "markdown",
   "metadata": {
    "cell_style": "split",
    "slideshow": {
     "slide_type": "subslide"
    }
   },
   "source": [
    "#### Sun Spots\n",
    "\n",
    "<img src=\"Sunspots_1302_Sep_2011_by_NASA.jpg\" width=\"85%\" >\n",
    "\n",
    "https://en.wikipedia.org/wiki/Sunspot\n"
   ]
  },
  {
   "cell_type": "markdown",
   "metadata": {
    "cell_style": "split",
    "slideshow": {
     "slide_type": "fragment"
    }
   },
   "source": [
    "#### Sun Spots over time\n",
    "   \n",
    "<img src=\"Sunspot_Numbers.png\" width=\"100%\" >"
   ]
  },
  {
   "cell_type": "markdown",
   "metadata": {
    "slideshow": {
     "slide_type": "skip"
    }
   },
   "source": []
  },
  {
   "cell_type": "markdown",
   "metadata": {
    "cell_style": "split",
    "slideshow": {
     "slide_type": "subslide"
    }
   },
   "source": [
    "#### Gravity Waves\n",
    "  + Surface waves\n",
    "  + Sea waves\n",
    "  + Eeathquakes\n",
    "  \n",
    "\n",
    "https://en.wikipedia.org/wiki/Wake"
   ]
  },
  {
   "cell_type": "markdown",
   "metadata": {
    "cell_style": "split",
    "slideshow": {
     "slide_type": "-"
    }
   },
   "source": [
    "<img src=\"duck_wake.jpg\" width=\"100%\">"
   ]
  },
  {
   "cell_type": "code",
   "execution_count": null,
   "metadata": {
    "slideshow": {
     "slide_type": "notes"
    }
   },
   "outputs": [],
   "source": []
  },
  {
   "cell_type": "markdown",
   "metadata": {
    "cell_style": "split",
    "slideshow": {
     "slide_type": "subslide"
    }
   },
   "source": [
    "#### Gravitational Waves\n",
    "\n",
    "+ Find Black Holes combining\n",
    "+ 1 Billion dollar detector\n",
    "\n",
    "<img src=\"1280px-LIGO_Hanford_aerial_05.jpg\" width=\"50%\" >\n",
    "\n",
    "[http://svs.gsfc.nasa.gov/](http://svs.gsfc.nasa.gov//vis/a010000/a010500/a010543/WhtDwrfCollid_ProRes_720x486_59.94fps.webmhd.webm)\n"
   ]
  },
  {
   "cell_type": "markdown",
   "metadata": {
    "cell_style": "split",
    "slideshow": {
     "slide_type": "-"
    }
   },
   "source": [
    "\n",
    "+ 2017 Nobel prize\n",
    "\n",
    "\n",
    "\n",
    "<img src=\"ns_gw_art.jpg\" width=\"75%\">\n",
    "\n",
    "https://www.ligo.caltech.edu/page/what-are-gw\n",
    "\n",
    "https://en.wikipedia.org/wiki/Gravitational-wave_observatory\n"
   ]
  },
  {
   "cell_type": "code",
   "execution_count": null,
   "metadata": {
    "slideshow": {
     "slide_type": "notes"
    }
   },
   "outputs": [],
   "source": []
  },
  {
   "cell_type": "markdown",
   "metadata": {
    "cell_style": "split",
    "slideshow": {
     "slide_type": "subslide"
    }
   },
   "source": [
    "#### Electrical\n",
    "  + Probably what everyone things of\n",
    "  + It's all electrical signals at some point\n",
    "  + Voltage or current changing in\n",
    "    + Time\n",
    "    + Node\n",
    "    + position"
   ]
  },
  {
   "cell_type": "markdown",
   "metadata": {
    "cell_style": "split",
    "slideshow": {
     "slide_type": "-"
    }
   },
   "source": [
    "<img src=\"Scope.jpeg\" width=\"100%\">"
   ]
  },
  {
   "cell_type": "code",
   "execution_count": null,
   "metadata": {
    "slideshow": {
     "slide_type": "notes"
    }
   },
   "outputs": [],
   "source": []
  },
  {
   "cell_type": "markdown",
   "metadata": {
    "cell_style": "split",
    "slideshow": {
     "slide_type": "subslide"
    }
   },
   "source": [
    "##### Light\n",
    "  + Cameras\n",
    "  + Light level\n",
    "\n"
   ]
  },
  {
   "cell_type": "markdown",
   "metadata": {
    "cell_style": "split",
    "slideshow": {
     "slide_type": "-"
    }
   },
   "source": []
  },
  {
   "cell_type": "code",
   "execution_count": null,
   "metadata": {},
   "outputs": [],
   "source": []
  },
  {
   "cell_type": "markdown",
   "metadata": {
    "cell_style": "split",
    "slideshow": {
     "slide_type": "subslide"
    }
   },
   "source": [
    "  + Radio Waves\n",
    "    + FM Radio\n",
    "    + Radar\n",
    "    + Radio Astronomy \n",
    "    "
   ]
  },
  {
   "cell_type": "markdown",
   "metadata": {
    "cell_style": "split",
    "slideshow": {
     "slide_type": "-"
    }
   },
   "source": []
  },
  {
   "cell_type": "code",
   "execution_count": null,
   "metadata": {
    "slideshow": {
     "slide_type": "skip"
    }
   },
   "outputs": [],
   "source": []
  },
  {
   "cell_type": "markdown",
   "metadata": {
    "cell_style": "split",
    "slideshow": {
     "slide_type": "subslide"
    }
   },
   "source": [
    "##### Radar\n",
    "  + Detecting aircraft, ships, ...\n",
    "  + Automotive distance sensing\n",
    "  + Imaging Astreroids\n",
    "    + Beyond the ability of optical telescopes\n",
    "    + Each image ~2Km square\n",
    "    + ~20X Earth-Moon distance\n",
    "\n"
   ]
  },
  {
   "cell_type": "markdown",
   "metadata": {
    "cell_style": "split",
    "slideshow": {
     "slide_type": "-"
    }
   },
   "source": [
    "https://www.jpl.nasa.gov/news/nine-radar-images-of-asteroid-2007-pa8\n",
    "\n",
    "<img src=\"astro_sar_img.jpg\" width=\"100%\">"
   ]
  },
  {
   "cell_type": "code",
   "execution_count": null,
   "metadata": {
    "slideshow": {
     "slide_type": "notes"
    }
   },
   "outputs": [],
   "source": []
  },
  {
   "cell_type": "markdown",
   "metadata": {
    "cell_style": "split",
    "slideshow": {
     "slide_type": "subslide"
    }
   },
   "source": [
    "#### Radio Astronomy\n",
    "\n",
    "<img src=\"USA.NM.VeryLargeArray.02.jpg\" width=\"100%\">\n",
    "\n",
    "https://en.wikipedia.org/wiki/Very_Large_Array\n",
    "\n",
    "\n",
    "https://public.nrao.edu/telescopes/vla/"
   ]
  },
  {
   "cell_type": "markdown",
   "metadata": {
    "cell_style": "split",
    "slideshow": {
     "slide_type": "-"
    }
   },
   "source": []
  },
  {
   "cell_type": "markdown",
   "metadata": {
    "slideshow": {
     "slide_type": "notes"
    }
   },
   "source": []
  },
  {
   "cell_type": "markdown",
   "metadata": {
    "slideshow": {
     "slide_type": "subslide"
    }
   },
   "source": [
    "#### Examples of Signals\n",
    "\n",
    "  + Sound\n",
    "  + Sea Level\n",
    "  + Stock Prices\n",
    "  + Sun Spots\n",
    "  + Gravity Waves\n",
    "  + Electrical \n",
    "  + Electromagnetic waves\n",
    "    + Light\n",
    "    + Radio Waves\n",
    "    + Communications\n",
    "    + Radar\n",
    "    + \n",
    "    "
   ]
  },
  {
   "cell_type": "markdown",
   "metadata": {
    "slideshow": {
     "slide_type": "slide"
    }
   },
   "source": [
    "##  Basic RF problems\n",
    "\n",
    "#### Communication\n",
    "  + Getting data between places\n",
    "\n",
    "#### Radar\n",
    "  + Using radio waves to sense something\n",
    "\n",
    "#### Passive Inference\n",
    "  + Using Emotions that already exist what can I figure out"
   ]
  },
  {
   "cell_type": "markdown",
   "metadata": {},
   "source": []
  },
  {
   "cell_type": "markdown",
   "metadata": {},
   "source": []
  },
  {
   "cell_type": "markdown",
   "metadata": {
    "cell_style": "split",
    "slideshow": {
     "slide_type": "slide"
    }
   },
   "source": [
    "## Continuous vs Discrete Signals\n",
    "\n",
    "\n",
    "  + Analog to Digital Conversion\n",
    "  + Digital to Analog Conversion\n",
    "  + $\\delta $ (Delta) Function\n",
    "  + Nyquest Sampling\n",
    "\n"
   ]
  },
  {
   "cell_type": "markdown",
   "metadata": {
    "cell_style": "split",
    "slideshow": {
     "slide_type": "-"
    }
   },
   "source": [
    "\n",
    "\n",
    "<img src=\"sine_wave_sampled.gif?0\" width=\"100%\">"
   ]
  },
  {
   "cell_type": "markdown",
   "metadata": {
    "slideshow": {
     "slide_type": "notes"
    }
   },
   "source": []
  },
  {
   "cell_type": "markdown",
   "metadata": {
    "cell_style": "split",
    "slideshow": {
     "slide_type": "subslide"
    }
   },
   "source": [
    "### Continuous\n",
    "\n",
    "  + Defined at every point\n",
    "  + "
   ]
  },
  {
   "cell_type": "markdown",
   "metadata": {
    "cell_style": "split",
    "slideshow": {
     "slide_type": "subslide"
    }
   },
   "source": [
    "### Discrete\n",
    "\n",
    "  + Series of values\n",
    "  + "
   ]
  },
  {
   "cell_type": "code",
   "execution_count": null,
   "metadata": {
    "slideshow": {
     "slide_type": "notes"
    }
   },
   "outputs": [],
   "source": []
  },
  {
   "cell_type": "markdown",
   "metadata": {
    "cell_style": "split",
    "slideshow": {
     "slide_type": "subslide"
    }
   },
   "source": [
    "### Sampling\n",
    "\n",
    "  + Analog to Digital Conversion\n",
    "  \n",
    " $$ S[n] = \\sum_{i}^{-\\infty \\dots \\infty} s(t) \\cdot \\delta(t-i) $$\n",
    " \n",
    " <img src=\"pulse_train.png?1\" width=\"100%\">"
   ]
  },
  {
   "cell_type": "markdown",
   "metadata": {
    "cell_style": "split",
    "slideshow": {
     "slide_type": "-"
    }
   },
   "source": [
    "\n",
    "\n",
    "#### $ \\delta $ (Delta) Function\n",
    "\n",
    "$$ \\delta (t) = \\Big \\{ \\begin{matrix} \\infty \\: :\\quad t=0 \\\\ \\: 0 : \\quad otherwise \\end{matrix} $$\n",
    "\n",
    "$$ 1 = \\int_{-\\infty}^{\\infty} \\delta(t) \\: dt $$\n",
    "\n",
    "\n"
   ]
  },
  {
   "cell_type": "markdown",
   "metadata": {
    "slideshow": {
     "slide_type": "notes"
    }
   },
   "source": []
  },
  {
   "cell_type": "markdown",
   "metadata": {
    "cell_style": "split",
    "slideshow": {
     "slide_type": "subslide"
    }
   },
   "source": [
    "### Nyquist\n",
    "\n",
    "  + Sampling two or more times faster than the bandwidth of the signal\n",
    "  + Critera for signal recovery\n",
    "  + Often systems operate faster"
   ]
  },
  {
   "cell_type": "markdown",
   "metadata": {
    "cell_style": "split",
    "slideshow": {
     "slide_type": "fragment"
    }
   },
   "source": [
    "<img src=\"1920px-Aliasing-folding_SVG.svg.png\" width=\"100%\">\n",
    "\n",
    "[https://en.wikipedia.org/wiki/Nyquist_frequency](https://en.wikipedia.org/wiki/Nyquist_frequency)"
   ]
  },
  {
   "cell_type": "code",
   "execution_count": null,
   "metadata": {
    "slideshow": {
     "slide_type": "notes"
    }
   },
   "outputs": [],
   "source": []
  },
  {
   "cell_type": "markdown",
   "metadata": {
    "cell_style": "split",
    "slideshow": {
     "slide_type": "subslide"
    }
   },
   "source": [
    "### Time Series\n",
    "  + Sampled at a regular times\n",
    "  + Identical Sampling"
   ]
  },
  {
   "cell_type": "markdown",
   "metadata": {
    "cell_style": "split",
    "slideshow": {
     "slide_type": "-"
    }
   },
   "source": [
    "<img src=\"sine_wave_sampled.gif?0\" width=\"100%\">"
   ]
  },
  {
   "cell_type": "markdown",
   "metadata": {
    "slideshow": {
     "slide_type": "notes"
    }
   },
   "source": []
  },
  {
   "cell_type": "code",
   "execution_count": 159,
   "metadata": {
    "scrolled": false,
    "slideshow": {
     "slide_type": "subslide"
    }
   },
   "outputs": [
    {
     "data": {
      "application/javascript": [
       "/* Put everything inside the global mpl namespace */\n",
       "window.mpl = {};\n",
       "\n",
       "\n",
       "mpl.get_websocket_type = function() {\n",
       "    if (typeof(WebSocket) !== 'undefined') {\n",
       "        return WebSocket;\n",
       "    } else if (typeof(MozWebSocket) !== 'undefined') {\n",
       "        return MozWebSocket;\n",
       "    } else {\n",
       "        alert('Your browser does not have WebSocket support. ' +\n",
       "              'Please try Chrome, Safari or Firefox ≥ 6. ' +\n",
       "              'Firefox 4 and 5 are also supported but you ' +\n",
       "              'have to enable WebSockets in about:config.');\n",
       "    };\n",
       "}\n",
       "\n",
       "mpl.figure = function(figure_id, websocket, ondownload, parent_element) {\n",
       "    this.id = figure_id;\n",
       "\n",
       "    this.ws = websocket;\n",
       "\n",
       "    this.supports_binary = (this.ws.binaryType != undefined);\n",
       "\n",
       "    if (!this.supports_binary) {\n",
       "        var warnings = document.getElementById(\"mpl-warnings\");\n",
       "        if (warnings) {\n",
       "            warnings.style.display = 'block';\n",
       "            warnings.textContent = (\n",
       "                \"This browser does not support binary websocket messages. \" +\n",
       "                    \"Performance may be slow.\");\n",
       "        }\n",
       "    }\n",
       "\n",
       "    this.imageObj = new Image();\n",
       "\n",
       "    this.context = undefined;\n",
       "    this.message = undefined;\n",
       "    this.canvas = undefined;\n",
       "    this.rubberband_canvas = undefined;\n",
       "    this.rubberband_context = undefined;\n",
       "    this.format_dropdown = undefined;\n",
       "\n",
       "    this.image_mode = 'full';\n",
       "\n",
       "    this.root = $('<div/>');\n",
       "    this._root_extra_style(this.root)\n",
       "    this.root.attr('style', 'display: inline-block');\n",
       "\n",
       "    $(parent_element).append(this.root);\n",
       "\n",
       "    this._init_header(this);\n",
       "    this._init_canvas(this);\n",
       "    this._init_toolbar(this);\n",
       "\n",
       "    var fig = this;\n",
       "\n",
       "    this.waiting = false;\n",
       "\n",
       "    this.ws.onopen =  function () {\n",
       "            fig.send_message(\"supports_binary\", {value: fig.supports_binary});\n",
       "            fig.send_message(\"send_image_mode\", {});\n",
       "            if (mpl.ratio != 1) {\n",
       "                fig.send_message(\"set_dpi_ratio\", {'dpi_ratio': mpl.ratio});\n",
       "            }\n",
       "            fig.send_message(\"refresh\", {});\n",
       "        }\n",
       "\n",
       "    this.imageObj.onload = function() {\n",
       "            if (fig.image_mode == 'full') {\n",
       "                // Full images could contain transparency (where diff images\n",
       "                // almost always do), so we need to clear the canvas so that\n",
       "                // there is no ghosting.\n",
       "                fig.context.clearRect(0, 0, fig.canvas.width, fig.canvas.height);\n",
       "            }\n",
       "            fig.context.drawImage(fig.imageObj, 0, 0);\n",
       "        };\n",
       "\n",
       "    this.imageObj.onunload = function() {\n",
       "        fig.ws.close();\n",
       "    }\n",
       "\n",
       "    this.ws.onmessage = this._make_on_message_function(this);\n",
       "\n",
       "    this.ondownload = ondownload;\n",
       "}\n",
       "\n",
       "mpl.figure.prototype._init_header = function() {\n",
       "    var titlebar = $(\n",
       "        '<div class=\"ui-dialog-titlebar ui-widget-header ui-corner-all ' +\n",
       "        'ui-helper-clearfix\"/>');\n",
       "    var titletext = $(\n",
       "        '<div class=\"ui-dialog-title\" style=\"width: 100%; ' +\n",
       "        'text-align: center; padding: 3px;\"/>');\n",
       "    titlebar.append(titletext)\n",
       "    this.root.append(titlebar);\n",
       "    this.header = titletext[0];\n",
       "}\n",
       "\n",
       "\n",
       "\n",
       "mpl.figure.prototype._canvas_extra_style = function(canvas_div) {\n",
       "\n",
       "}\n",
       "\n",
       "\n",
       "mpl.figure.prototype._root_extra_style = function(canvas_div) {\n",
       "\n",
       "}\n",
       "\n",
       "mpl.figure.prototype._init_canvas = function() {\n",
       "    var fig = this;\n",
       "\n",
       "    var canvas_div = $('<div/>');\n",
       "\n",
       "    canvas_div.attr('style', 'position: relative; clear: both; outline: 0');\n",
       "\n",
       "    function canvas_keyboard_event(event) {\n",
       "        return fig.key_event(event, event['data']);\n",
       "    }\n",
       "\n",
       "    canvas_div.keydown('key_press', canvas_keyboard_event);\n",
       "    canvas_div.keyup('key_release', canvas_keyboard_event);\n",
       "    this.canvas_div = canvas_div\n",
       "    this._canvas_extra_style(canvas_div)\n",
       "    this.root.append(canvas_div);\n",
       "\n",
       "    var canvas = $('<canvas/>');\n",
       "    canvas.addClass('mpl-canvas');\n",
       "    canvas.attr('style', \"left: 0; top: 0; z-index: 0; outline: 0\")\n",
       "\n",
       "    this.canvas = canvas[0];\n",
       "    this.context = canvas[0].getContext(\"2d\");\n",
       "\n",
       "    var backingStore = this.context.backingStorePixelRatio ||\n",
       "\tthis.context.webkitBackingStorePixelRatio ||\n",
       "\tthis.context.mozBackingStorePixelRatio ||\n",
       "\tthis.context.msBackingStorePixelRatio ||\n",
       "\tthis.context.oBackingStorePixelRatio ||\n",
       "\tthis.context.backingStorePixelRatio || 1;\n",
       "\n",
       "    mpl.ratio = (window.devicePixelRatio || 1) / backingStore;\n",
       "\n",
       "    var rubberband = $('<canvas/>');\n",
       "    rubberband.attr('style', \"position: absolute; left: 0; top: 0; z-index: 1;\")\n",
       "\n",
       "    var pass_mouse_events = true;\n",
       "\n",
       "    canvas_div.resizable({\n",
       "        start: function(event, ui) {\n",
       "            pass_mouse_events = false;\n",
       "        },\n",
       "        resize: function(event, ui) {\n",
       "            fig.request_resize(ui.size.width, ui.size.height);\n",
       "        },\n",
       "        stop: function(event, ui) {\n",
       "            pass_mouse_events = true;\n",
       "            fig.request_resize(ui.size.width, ui.size.height);\n",
       "        },\n",
       "    });\n",
       "\n",
       "    function mouse_event_fn(event) {\n",
       "        if (pass_mouse_events)\n",
       "            return fig.mouse_event(event, event['data']);\n",
       "    }\n",
       "\n",
       "    rubberband.mousedown('button_press', mouse_event_fn);\n",
       "    rubberband.mouseup('button_release', mouse_event_fn);\n",
       "    // Throttle sequential mouse events to 1 every 20ms.\n",
       "    rubberband.mousemove('motion_notify', mouse_event_fn);\n",
       "\n",
       "    rubberband.mouseenter('figure_enter', mouse_event_fn);\n",
       "    rubberband.mouseleave('figure_leave', mouse_event_fn);\n",
       "\n",
       "    canvas_div.on(\"wheel\", function (event) {\n",
       "        event = event.originalEvent;\n",
       "        event['data'] = 'scroll'\n",
       "        if (event.deltaY < 0) {\n",
       "            event.step = 1;\n",
       "        } else {\n",
       "            event.step = -1;\n",
       "        }\n",
       "        mouse_event_fn(event);\n",
       "    });\n",
       "\n",
       "    canvas_div.append(canvas);\n",
       "    canvas_div.append(rubberband);\n",
       "\n",
       "    this.rubberband = rubberband;\n",
       "    this.rubberband_canvas = rubberband[0];\n",
       "    this.rubberband_context = rubberband[0].getContext(\"2d\");\n",
       "    this.rubberband_context.strokeStyle = \"#000000\";\n",
       "\n",
       "    this._resize_canvas = function(width, height) {\n",
       "        // Keep the size of the canvas, canvas container, and rubber band\n",
       "        // canvas in synch.\n",
       "        canvas_div.css('width', width)\n",
       "        canvas_div.css('height', height)\n",
       "\n",
       "        canvas.attr('width', width * mpl.ratio);\n",
       "        canvas.attr('height', height * mpl.ratio);\n",
       "        canvas.attr('style', 'width: ' + width + 'px; height: ' + height + 'px;');\n",
       "\n",
       "        rubberband.attr('width', width);\n",
       "        rubberband.attr('height', height);\n",
       "    }\n",
       "\n",
       "    // Set the figure to an initial 600x600px, this will subsequently be updated\n",
       "    // upon first draw.\n",
       "    this._resize_canvas(600, 600);\n",
       "\n",
       "    // Disable right mouse context menu.\n",
       "    $(this.rubberband_canvas).bind(\"contextmenu\",function(e){\n",
       "        return false;\n",
       "    });\n",
       "\n",
       "    function set_focus () {\n",
       "        canvas.focus();\n",
       "        canvas_div.focus();\n",
       "    }\n",
       "\n",
       "    window.setTimeout(set_focus, 100);\n",
       "}\n",
       "\n",
       "mpl.figure.prototype._init_toolbar = function() {\n",
       "    var fig = this;\n",
       "\n",
       "    var nav_element = $('<div/>');\n",
       "    nav_element.attr('style', 'width: 100%');\n",
       "    this.root.append(nav_element);\n",
       "\n",
       "    // Define a callback function for later on.\n",
       "    function toolbar_event(event) {\n",
       "        return fig.toolbar_button_onclick(event['data']);\n",
       "    }\n",
       "    function toolbar_mouse_event(event) {\n",
       "        return fig.toolbar_button_onmouseover(event['data']);\n",
       "    }\n",
       "\n",
       "    for(var toolbar_ind in mpl.toolbar_items) {\n",
       "        var name = mpl.toolbar_items[toolbar_ind][0];\n",
       "        var tooltip = mpl.toolbar_items[toolbar_ind][1];\n",
       "        var image = mpl.toolbar_items[toolbar_ind][2];\n",
       "        var method_name = mpl.toolbar_items[toolbar_ind][3];\n",
       "\n",
       "        if (!name) {\n",
       "            // put a spacer in here.\n",
       "            continue;\n",
       "        }\n",
       "        var button = $('<button/>');\n",
       "        button.addClass('ui-button ui-widget ui-state-default ui-corner-all ' +\n",
       "                        'ui-button-icon-only');\n",
       "        button.attr('role', 'button');\n",
       "        button.attr('aria-disabled', 'false');\n",
       "        button.click(method_name, toolbar_event);\n",
       "        button.mouseover(tooltip, toolbar_mouse_event);\n",
       "\n",
       "        var icon_img = $('<span/>');\n",
       "        icon_img.addClass('ui-button-icon-primary ui-icon');\n",
       "        icon_img.addClass(image);\n",
       "        icon_img.addClass('ui-corner-all');\n",
       "\n",
       "        var tooltip_span = $('<span/>');\n",
       "        tooltip_span.addClass('ui-button-text');\n",
       "        tooltip_span.html(tooltip);\n",
       "\n",
       "        button.append(icon_img);\n",
       "        button.append(tooltip_span);\n",
       "\n",
       "        nav_element.append(button);\n",
       "    }\n",
       "\n",
       "    var fmt_picker_span = $('<span/>');\n",
       "\n",
       "    var fmt_picker = $('<select/>');\n",
       "    fmt_picker.addClass('mpl-toolbar-option ui-widget ui-widget-content');\n",
       "    fmt_picker_span.append(fmt_picker);\n",
       "    nav_element.append(fmt_picker_span);\n",
       "    this.format_dropdown = fmt_picker[0];\n",
       "\n",
       "    for (var ind in mpl.extensions) {\n",
       "        var fmt = mpl.extensions[ind];\n",
       "        var option = $(\n",
       "            '<option/>', {selected: fmt === mpl.default_extension}).html(fmt);\n",
       "        fmt_picker.append(option);\n",
       "    }\n",
       "\n",
       "    // Add hover states to the ui-buttons\n",
       "    $( \".ui-button\" ).hover(\n",
       "        function() { $(this).addClass(\"ui-state-hover\");},\n",
       "        function() { $(this).removeClass(\"ui-state-hover\");}\n",
       "    );\n",
       "\n",
       "    var status_bar = $('<span class=\"mpl-message\"/>');\n",
       "    nav_element.append(status_bar);\n",
       "    this.message = status_bar[0];\n",
       "}\n",
       "\n",
       "mpl.figure.prototype.request_resize = function(x_pixels, y_pixels) {\n",
       "    // Request matplotlib to resize the figure. Matplotlib will then trigger a resize in the client,\n",
       "    // which will in turn request a refresh of the image.\n",
       "    this.send_message('resize', {'width': x_pixels, 'height': y_pixels});\n",
       "}\n",
       "\n",
       "mpl.figure.prototype.send_message = function(type, properties) {\n",
       "    properties['type'] = type;\n",
       "    properties['figure_id'] = this.id;\n",
       "    this.ws.send(JSON.stringify(properties));\n",
       "}\n",
       "\n",
       "mpl.figure.prototype.send_draw_message = function() {\n",
       "    if (!this.waiting) {\n",
       "        this.waiting = true;\n",
       "        this.ws.send(JSON.stringify({type: \"draw\", figure_id: this.id}));\n",
       "    }\n",
       "}\n",
       "\n",
       "\n",
       "mpl.figure.prototype.handle_save = function(fig, msg) {\n",
       "    var format_dropdown = fig.format_dropdown;\n",
       "    var format = format_dropdown.options[format_dropdown.selectedIndex].value;\n",
       "    fig.ondownload(fig, format);\n",
       "}\n",
       "\n",
       "\n",
       "mpl.figure.prototype.handle_resize = function(fig, msg) {\n",
       "    var size = msg['size'];\n",
       "    if (size[0] != fig.canvas.width || size[1] != fig.canvas.height) {\n",
       "        fig._resize_canvas(size[0], size[1]);\n",
       "        fig.send_message(\"refresh\", {});\n",
       "    };\n",
       "}\n",
       "\n",
       "mpl.figure.prototype.handle_rubberband = function(fig, msg) {\n",
       "    var x0 = msg['x0'] / mpl.ratio;\n",
       "    var y0 = (fig.canvas.height - msg['y0']) / mpl.ratio;\n",
       "    var x1 = msg['x1'] / mpl.ratio;\n",
       "    var y1 = (fig.canvas.height - msg['y1']) / mpl.ratio;\n",
       "    x0 = Math.floor(x0) + 0.5;\n",
       "    y0 = Math.floor(y0) + 0.5;\n",
       "    x1 = Math.floor(x1) + 0.5;\n",
       "    y1 = Math.floor(y1) + 0.5;\n",
       "    var min_x = Math.min(x0, x1);\n",
       "    var min_y = Math.min(y0, y1);\n",
       "    var width = Math.abs(x1 - x0);\n",
       "    var height = Math.abs(y1 - y0);\n",
       "\n",
       "    fig.rubberband_context.clearRect(\n",
       "        0, 0, fig.canvas.width / mpl.ratio, fig.canvas.height / mpl.ratio);\n",
       "\n",
       "    fig.rubberband_context.strokeRect(min_x, min_y, width, height);\n",
       "}\n",
       "\n",
       "mpl.figure.prototype.handle_figure_label = function(fig, msg) {\n",
       "    // Updates the figure title.\n",
       "    fig.header.textContent = msg['label'];\n",
       "}\n",
       "\n",
       "mpl.figure.prototype.handle_cursor = function(fig, msg) {\n",
       "    var cursor = msg['cursor'];\n",
       "    switch(cursor)\n",
       "    {\n",
       "    case 0:\n",
       "        cursor = 'pointer';\n",
       "        break;\n",
       "    case 1:\n",
       "        cursor = 'default';\n",
       "        break;\n",
       "    case 2:\n",
       "        cursor = 'crosshair';\n",
       "        break;\n",
       "    case 3:\n",
       "        cursor = 'move';\n",
       "        break;\n",
       "    }\n",
       "    fig.rubberband_canvas.style.cursor = cursor;\n",
       "}\n",
       "\n",
       "mpl.figure.prototype.handle_message = function(fig, msg) {\n",
       "    fig.message.textContent = msg['message'];\n",
       "}\n",
       "\n",
       "mpl.figure.prototype.handle_draw = function(fig, msg) {\n",
       "    // Request the server to send over a new figure.\n",
       "    fig.send_draw_message();\n",
       "}\n",
       "\n",
       "mpl.figure.prototype.handle_image_mode = function(fig, msg) {\n",
       "    fig.image_mode = msg['mode'];\n",
       "}\n",
       "\n",
       "mpl.figure.prototype.updated_canvas_event = function() {\n",
       "    // Called whenever the canvas gets updated.\n",
       "    this.send_message(\"ack\", {});\n",
       "}\n",
       "\n",
       "// A function to construct a web socket function for onmessage handling.\n",
       "// Called in the figure constructor.\n",
       "mpl.figure.prototype._make_on_message_function = function(fig) {\n",
       "    return function socket_on_message(evt) {\n",
       "        if (evt.data instanceof Blob) {\n",
       "            /* FIXME: We get \"Resource interpreted as Image but\n",
       "             * transferred with MIME type text/plain:\" errors on\n",
       "             * Chrome.  But how to set the MIME type?  It doesn't seem\n",
       "             * to be part of the websocket stream */\n",
       "            evt.data.type = \"image/png\";\n",
       "\n",
       "            /* Free the memory for the previous frames */\n",
       "            if (fig.imageObj.src) {\n",
       "                (window.URL || window.webkitURL).revokeObjectURL(\n",
       "                    fig.imageObj.src);\n",
       "            }\n",
       "\n",
       "            fig.imageObj.src = (window.URL || window.webkitURL).createObjectURL(\n",
       "                evt.data);\n",
       "            fig.updated_canvas_event();\n",
       "            fig.waiting = false;\n",
       "            return;\n",
       "        }\n",
       "        else if (typeof evt.data === 'string' && evt.data.slice(0, 21) == \"data:image/png;base64\") {\n",
       "            fig.imageObj.src = evt.data;\n",
       "            fig.updated_canvas_event();\n",
       "            fig.waiting = false;\n",
       "            return;\n",
       "        }\n",
       "\n",
       "        var msg = JSON.parse(evt.data);\n",
       "        var msg_type = msg['type'];\n",
       "\n",
       "        // Call the  \"handle_{type}\" callback, which takes\n",
       "        // the figure and JSON message as its only arguments.\n",
       "        try {\n",
       "            var callback = fig[\"handle_\" + msg_type];\n",
       "        } catch (e) {\n",
       "            console.log(\"No handler for the '\" + msg_type + \"' message type: \", msg);\n",
       "            return;\n",
       "        }\n",
       "\n",
       "        if (callback) {\n",
       "            try {\n",
       "                // console.log(\"Handling '\" + msg_type + \"' message: \", msg);\n",
       "                callback(fig, msg);\n",
       "            } catch (e) {\n",
       "                console.log(\"Exception inside the 'handler_\" + msg_type + \"' callback:\", e, e.stack, msg);\n",
       "            }\n",
       "        }\n",
       "    };\n",
       "}\n",
       "\n",
       "// from http://stackoverflow.com/questions/1114465/getting-mouse-location-in-canvas\n",
       "mpl.findpos = function(e) {\n",
       "    //this section is from http://www.quirksmode.org/js/events_properties.html\n",
       "    var targ;\n",
       "    if (!e)\n",
       "        e = window.event;\n",
       "    if (e.target)\n",
       "        targ = e.target;\n",
       "    else if (e.srcElement)\n",
       "        targ = e.srcElement;\n",
       "    if (targ.nodeType == 3) // defeat Safari bug\n",
       "        targ = targ.parentNode;\n",
       "\n",
       "    // jQuery normalizes the pageX and pageY\n",
       "    // pageX,Y are the mouse positions relative to the document\n",
       "    // offset() returns the position of the element relative to the document\n",
       "    var x = e.pageX - $(targ).offset().left;\n",
       "    var y = e.pageY - $(targ).offset().top;\n",
       "\n",
       "    return {\"x\": x, \"y\": y};\n",
       "};\n",
       "\n",
       "/*\n",
       " * return a copy of an object with only non-object keys\n",
       " * we need this to avoid circular references\n",
       " * http://stackoverflow.com/a/24161582/3208463\n",
       " */\n",
       "function simpleKeys (original) {\n",
       "  return Object.keys(original).reduce(function (obj, key) {\n",
       "    if (typeof original[key] !== 'object')\n",
       "        obj[key] = original[key]\n",
       "    return obj;\n",
       "  }, {});\n",
       "}\n",
       "\n",
       "mpl.figure.prototype.mouse_event = function(event, name) {\n",
       "    var canvas_pos = mpl.findpos(event)\n",
       "\n",
       "    if (name === 'button_press')\n",
       "    {\n",
       "        this.canvas.focus();\n",
       "        this.canvas_div.focus();\n",
       "    }\n",
       "\n",
       "    var x = canvas_pos.x * mpl.ratio;\n",
       "    var y = canvas_pos.y * mpl.ratio;\n",
       "\n",
       "    this.send_message(name, {x: x, y: y, button: event.button,\n",
       "                             step: event.step,\n",
       "                             guiEvent: simpleKeys(event)});\n",
       "\n",
       "    /* This prevents the web browser from automatically changing to\n",
       "     * the text insertion cursor when the button is pressed.  We want\n",
       "     * to control all of the cursor setting manually through the\n",
       "     * 'cursor' event from matplotlib */\n",
       "    event.preventDefault();\n",
       "    return false;\n",
       "}\n",
       "\n",
       "mpl.figure.prototype._key_event_extra = function(event, name) {\n",
       "    // Handle any extra behaviour associated with a key event\n",
       "}\n",
       "\n",
       "mpl.figure.prototype.key_event = function(event, name) {\n",
       "\n",
       "    // Prevent repeat events\n",
       "    if (name == 'key_press')\n",
       "    {\n",
       "        if (event.which === this._key)\n",
       "            return;\n",
       "        else\n",
       "            this._key = event.which;\n",
       "    }\n",
       "    if (name == 'key_release')\n",
       "        this._key = null;\n",
       "\n",
       "    var value = '';\n",
       "    if (event.ctrlKey && event.which != 17)\n",
       "        value += \"ctrl+\";\n",
       "    if (event.altKey && event.which != 18)\n",
       "        value += \"alt+\";\n",
       "    if (event.shiftKey && event.which != 16)\n",
       "        value += \"shift+\";\n",
       "\n",
       "    value += 'k';\n",
       "    value += event.which.toString();\n",
       "\n",
       "    this._key_event_extra(event, name);\n",
       "\n",
       "    this.send_message(name, {key: value,\n",
       "                             guiEvent: simpleKeys(event)});\n",
       "    return false;\n",
       "}\n",
       "\n",
       "mpl.figure.prototype.toolbar_button_onclick = function(name) {\n",
       "    if (name == 'download') {\n",
       "        this.handle_save(this, null);\n",
       "    } else {\n",
       "        this.send_message(\"toolbar_button\", {name: name});\n",
       "    }\n",
       "};\n",
       "\n",
       "mpl.figure.prototype.toolbar_button_onmouseover = function(tooltip) {\n",
       "    this.message.textContent = tooltip;\n",
       "};\n",
       "mpl.toolbar_items = [[\"Home\", \"Reset original view\", \"fa fa-home icon-home\", \"home\"], [\"Back\", \"Back to previous view\", \"fa fa-arrow-left icon-arrow-left\", \"back\"], [\"Forward\", \"Forward to next view\", \"fa fa-arrow-right icon-arrow-right\", \"forward\"], [\"\", \"\", \"\", \"\"], [\"Pan\", \"Pan axes with left mouse, zoom with right\", \"fa fa-arrows icon-move\", \"pan\"], [\"Zoom\", \"Zoom to rectangle\", \"fa fa-square-o icon-check-empty\", \"zoom\"], [\"\", \"\", \"\", \"\"], [\"Download\", \"Download plot\", \"fa fa-floppy-o icon-save\", \"download\"]];\n",
       "\n",
       "mpl.extensions = [\"eps\", \"pdf\", \"png\", \"ps\", \"raw\", \"svg\"];\n",
       "\n",
       "mpl.default_extension = \"png\";var comm_websocket_adapter = function(comm) {\n",
       "    // Create a \"websocket\"-like object which calls the given IPython comm\n",
       "    // object with the appropriate methods. Currently this is a non binary\n",
       "    // socket, so there is still some room for performance tuning.\n",
       "    var ws = {};\n",
       "\n",
       "    ws.close = function() {\n",
       "        comm.close()\n",
       "    };\n",
       "    ws.send = function(m) {\n",
       "        //console.log('sending', m);\n",
       "        comm.send(m);\n",
       "    };\n",
       "    // Register the callback with on_msg.\n",
       "    comm.on_msg(function(msg) {\n",
       "        //console.log('receiving', msg['content']['data'], msg);\n",
       "        // Pass the mpl event to the overridden (by mpl) onmessage function.\n",
       "        ws.onmessage(msg['content']['data'])\n",
       "    });\n",
       "    return ws;\n",
       "}\n",
       "\n",
       "mpl.mpl_figure_comm = function(comm, msg) {\n",
       "    // This is the function which gets called when the mpl process\n",
       "    // starts-up an IPython Comm through the \"matplotlib\" channel.\n",
       "\n",
       "    var id = msg.content.data.id;\n",
       "    // Get hold of the div created by the display call when the Comm\n",
       "    // socket was opened in Python.\n",
       "    var element = $(\"#\" + id);\n",
       "    var ws_proxy = comm_websocket_adapter(comm)\n",
       "\n",
       "    function ondownload(figure, format) {\n",
       "        window.open(figure.imageObj.src);\n",
       "    }\n",
       "\n",
       "    var fig = new mpl.figure(id, ws_proxy,\n",
       "                           ondownload,\n",
       "                           element.get(0));\n",
       "\n",
       "    // Call onopen now - mpl needs it, as it is assuming we've passed it a real\n",
       "    // web socket which is closed, not our websocket->open comm proxy.\n",
       "    ws_proxy.onopen();\n",
       "\n",
       "    fig.parent_element = element.get(0);\n",
       "    fig.cell_info = mpl.find_output_cell(\"<div id='\" + id + \"'></div>\");\n",
       "    if (!fig.cell_info) {\n",
       "        console.error(\"Failed to find cell for figure\", id, fig);\n",
       "        return;\n",
       "    }\n",
       "\n",
       "    var output_index = fig.cell_info[2]\n",
       "    var cell = fig.cell_info[0];\n",
       "\n",
       "};\n",
       "\n",
       "mpl.figure.prototype.handle_close = function(fig, msg) {\n",
       "    var width = fig.canvas.width/mpl.ratio\n",
       "    fig.root.unbind('remove')\n",
       "\n",
       "    // Update the output cell to use the data from the current canvas.\n",
       "    fig.push_to_output();\n",
       "    var dataURL = fig.canvas.toDataURL();\n",
       "    // Re-enable the keyboard manager in IPython - without this line, in FF,\n",
       "    // the notebook keyboard shortcuts fail.\n",
       "    IPython.keyboard_manager.enable()\n",
       "    $(fig.parent_element).html('<img src=\"' + dataURL + '\" width=\"' + width + '\">');\n",
       "    fig.close_ws(fig, msg);\n",
       "}\n",
       "\n",
       "mpl.figure.prototype.close_ws = function(fig, msg){\n",
       "    fig.send_message('closing', msg);\n",
       "    // fig.ws.close()\n",
       "}\n",
       "\n",
       "mpl.figure.prototype.push_to_output = function(remove_interactive) {\n",
       "    // Turn the data on the canvas into data in the output cell.\n",
       "    var width = this.canvas.width/mpl.ratio\n",
       "    var dataURL = this.canvas.toDataURL();\n",
       "    this.cell_info[1]['text/html'] = '<img src=\"' + dataURL + '\" width=\"' + width + '\">';\n",
       "}\n",
       "\n",
       "mpl.figure.prototype.updated_canvas_event = function() {\n",
       "    // Tell IPython that the notebook contents must change.\n",
       "    IPython.notebook.set_dirty(true);\n",
       "    this.send_message(\"ack\", {});\n",
       "    var fig = this;\n",
       "    // Wait a second, then push the new image to the DOM so\n",
       "    // that it is saved nicely (might be nice to debounce this).\n",
       "    setTimeout(function () { fig.push_to_output() }, 1000);\n",
       "}\n",
       "\n",
       "mpl.figure.prototype._init_toolbar = function() {\n",
       "    var fig = this;\n",
       "\n",
       "    var nav_element = $('<div/>');\n",
       "    nav_element.attr('style', 'width: 100%');\n",
       "    this.root.append(nav_element);\n",
       "\n",
       "    // Define a callback function for later on.\n",
       "    function toolbar_event(event) {\n",
       "        return fig.toolbar_button_onclick(event['data']);\n",
       "    }\n",
       "    function toolbar_mouse_event(event) {\n",
       "        return fig.toolbar_button_onmouseover(event['data']);\n",
       "    }\n",
       "\n",
       "    for(var toolbar_ind in mpl.toolbar_items){\n",
       "        var name = mpl.toolbar_items[toolbar_ind][0];\n",
       "        var tooltip = mpl.toolbar_items[toolbar_ind][1];\n",
       "        var image = mpl.toolbar_items[toolbar_ind][2];\n",
       "        var method_name = mpl.toolbar_items[toolbar_ind][3];\n",
       "\n",
       "        if (!name) { continue; };\n",
       "\n",
       "        var button = $('<button class=\"btn btn-default\" href=\"#\" title=\"' + name + '\"><i class=\"fa ' + image + ' fa-lg\"></i></button>');\n",
       "        button.click(method_name, toolbar_event);\n",
       "        button.mouseover(tooltip, toolbar_mouse_event);\n",
       "        nav_element.append(button);\n",
       "    }\n",
       "\n",
       "    // Add the status bar.\n",
       "    var status_bar = $('<span class=\"mpl-message\" style=\"text-align:right; float: right;\"/>');\n",
       "    nav_element.append(status_bar);\n",
       "    this.message = status_bar[0];\n",
       "\n",
       "    // Add the close button to the window.\n",
       "    var buttongrp = $('<div class=\"btn-group inline pull-right\"></div>');\n",
       "    var button = $('<button class=\"btn btn-mini btn-primary\" href=\"#\" title=\"Stop Interaction\"><i class=\"fa fa-power-off icon-remove icon-large\"></i></button>');\n",
       "    button.click(function (evt) { fig.handle_close(fig, {}); } );\n",
       "    button.mouseover('Stop Interaction', toolbar_mouse_event);\n",
       "    buttongrp.append(button);\n",
       "    var titlebar = this.root.find($('.ui-dialog-titlebar'));\n",
       "    titlebar.prepend(buttongrp);\n",
       "}\n",
       "\n",
       "mpl.figure.prototype._root_extra_style = function(el){\n",
       "    var fig = this\n",
       "    el.on(\"remove\", function(){\n",
       "\tfig.close_ws(fig, {});\n",
       "    });\n",
       "}\n",
       "\n",
       "mpl.figure.prototype._canvas_extra_style = function(el){\n",
       "    // this is important to make the div 'focusable\n",
       "    el.attr('tabindex', 0)\n",
       "    // reach out to IPython and tell the keyboard manager to turn it's self\n",
       "    // off when our div gets focus\n",
       "\n",
       "    // location in version 3\n",
       "    if (IPython.notebook.keyboard_manager) {\n",
       "        IPython.notebook.keyboard_manager.register_events(el);\n",
       "    }\n",
       "    else {\n",
       "        // location in version 2\n",
       "        IPython.keyboard_manager.register_events(el);\n",
       "    }\n",
       "\n",
       "}\n",
       "\n",
       "mpl.figure.prototype._key_event_extra = function(event, name) {\n",
       "    var manager = IPython.notebook.keyboard_manager;\n",
       "    if (!manager)\n",
       "        manager = IPython.keyboard_manager;\n",
       "\n",
       "    // Check for shift+enter\n",
       "    if (event.shiftKey && event.which == 13) {\n",
       "        this.canvas_div.blur();\n",
       "        // select the cell after this one\n",
       "        var index = IPython.notebook.find_cell_index(this.cell_info[0]);\n",
       "        IPython.notebook.select(index + 1);\n",
       "    }\n",
       "}\n",
       "\n",
       "mpl.figure.prototype.handle_save = function(fig, msg) {\n",
       "    fig.ondownload(fig, null);\n",
       "}\n",
       "\n",
       "\n",
       "mpl.find_output_cell = function(html_output) {\n",
       "    // Return the cell and output element which can be found *uniquely* in the notebook.\n",
       "    // Note - this is a bit hacky, but it is done because the \"notebook_saving.Notebook\"\n",
       "    // IPython event is triggered only after the cells have been serialised, which for\n",
       "    // our purposes (turning an active figure into a static one), is too late.\n",
       "    var cells = IPython.notebook.get_cells();\n",
       "    var ncells = cells.length;\n",
       "    for (var i=0; i<ncells; i++) {\n",
       "        var cell = cells[i];\n",
       "        if (cell.cell_type === 'code'){\n",
       "            for (var j=0; j<cell.output_area.outputs.length; j++) {\n",
       "                var data = cell.output_area.outputs[j];\n",
       "                if (data.data) {\n",
       "                    // IPython >= 3 moved mimebundle to data attribute of output\n",
       "                    data = data.data;\n",
       "                }\n",
       "                if (data['text/html'] == html_output) {\n",
       "                    return [cell, data, j];\n",
       "                }\n",
       "            }\n",
       "        }\n",
       "    }\n",
       "}\n",
       "\n",
       "// Register the function which deals with the matplotlib target/channel.\n",
       "// The kernel may be null if the page has been refreshed.\n",
       "if (IPython.notebook.kernel != null) {\n",
       "    IPython.notebook.kernel.comm_manager.register_target('matplotlib', mpl.mpl_figure_comm);\n",
       "}\n"
      ],
      "text/plain": [
       "<IPython.core.display.Javascript object>"
      ]
     },
     "metadata": {},
     "output_type": "display_data"
    },
    {
     "data": {
      "text/html": [
       "<img src=\"data:image/png;base64,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\" width=\"640\">"
      ],
      "text/plain": [
       "<IPython.core.display.HTML object>"
      ]
     },
     "metadata": {},
     "output_type": "display_data"
    },
    {
     "data": {
      "application/vnd.jupyter.widget-view+json": {
       "model_id": "46d6f8eb8995409f929f5da205db2da4",
       "version_major": 2,
       "version_minor": 0
      },
      "text/plain": [
       "interactive(children=(FloatSlider(value=10.0, description='sample_rate', max=25.0, min=1.0), FloatSlider(value…"
      ]
     },
     "metadata": {},
     "output_type": "display_data"
    }
   ],
   "source": [
    "t, sample_rate, frequency, phase = numpy.linspace(0, 2, 1001), 10, 1, 0\n",
    "signal = lambda t, f=1., phi=0: numpy.sin(2*pi*t*f+phi)\n",
    "\n",
    "fig, ax = plt.subplots()\n",
    "\n",
    "@interact(sample_rate=(1,25, 0.1), frequency=(-9,10, 0.1), phase=(-6, 6, 0.1))\n",
    "def sampled_sinwave(sample_rate=sample_rate, frequency=frequency, phase=0.):\n",
    "    ax.cla()\n",
    "    t_samples = numpy.arange(min(t), max(t), 1./sample_rate)\n",
    "    x, x_sampled = signal(t, frequency, phase), signal(t_samples, frequency, phase)\n",
    "    ax.plot(t, x, label='Original Signal')\n",
    "    ax.stem(t_samples, x_sampled, linefmt='r', label='Sampled', use_line_collection=True)\n",
    "    ax.plot(t_samples, x_sampled, '--k', label='Recovered')\n",
    "    ax.legend(loc='lower left')\n",
    "    fig.canvas.draw_idle()\n",
    "    fig.tight_layout()"
   ]
  },
  {
   "cell_type": "markdown",
   "metadata": {
    "cell_style": "center",
    "slideshow": {
     "slide_type": "slide"
    }
   },
   "source": [
    "##  Kinds of basic RF problems\n",
    "\n",
    "#### Communication\n",
    "  + Getting data between places\n",
    "\n",
    "#### Radar\n",
    "  + Using radio waves to sense something\n",
    "\n",
    "#### Passive Inference\n",
    "  + Using Emotions that already exist what can I figure out"
   ]
  },
  {
   "cell_type": "markdown",
   "metadata": {
    "slideshow": {
     "slide_type": "slide"
    }
   },
   "source": [
    "## What Signals We Are Considering\n",
    "\n"
   ]
  },
  {
   "cell_type": "markdown",
   "metadata": {
    "cell_style": "split",
    "slideshow": {
     "slide_type": "fragment"
    }
   },
   "source": [
    "## Time Series\n",
    "  + Sampled at a regular"
   ]
  },
  {
   "cell_type": "markdown",
   "metadata": {
    "cell_style": "split",
    "slideshow": {
     "slide_type": "fragment"
    }
   },
   "source": [
    "#### Radio Signals\n",
    "  + Can we capture it we a Software Defined Radio (SDR)\n",
    "  + Complex valued (pair of reals)"
   ]
  },
  {
   "cell_type": "markdown",
   "metadata": {
    "cell_style": "split",
    "slideshow": {
     "slide_type": "fragment"
    }
   },
   "source": [
    "### Single Channel\n",
    "  + 1 dimension to each sample"
   ]
  },
  {
   "cell_type": "markdown",
   "metadata": {
    "cell_style": "split",
    "slideshow": {
     "slide_type": "fragment"
    }
   },
   "source": [
    "### Narrowband\n",
    "  + Bandwidth of the signal is smaller than it's center frequency\n",
    "  "
   ]
  },
  {
   "cell_type": "markdown",
   "metadata": {
    "slideshow": {
     "slide_type": "notes"
    }
   },
   "source": []
  },
  {
   "cell_type": "markdown",
   "metadata": {
    "slideshow": {
     "slide_type": "slide"
    }
   },
   "source": [
    "## Properties of Operations on Signals (Systems)\n",
    "  + Linearity\n",
    "  + Time Inverance \n",
    "  + Bounded Input Bounded Output\n",
    "  + Dirivatives and Differences\n",
    "  + Integrates and Sumations \n",
    "  + Useful Non-linear Functions\n",
    "    + ABS\n",
    "    + Squared\n",
    "    + Distance\n",
    "    + Log and Decibels"
   ]
  },
  {
   "cell_type": "markdown",
   "metadata": {
    "slideshow": {
     "slide_type": "subslide"
    }
   },
   "source": [
    "### Linearity\n",
    "\n",
    "  + Additivity\n",
    "$$ f(a+b) = f(a) + f(b) $$\n",
    "\n",
    "\n",
    "\n",
    "  + Homogeneity \n",
    "$$ f(\\alpha \\: x) = \\alpha \\: f(x) $$\n",
    "\n",
    "\n",
    "\n",
    "  + Approximately linear\n",
    "  \n",
    "    + Useful approximation\n",
    "    \n",
    "    + For b << a $f(a+b)$ can be treated as linear\n",
    "    \n",
    "    $$ f(a+b) \\approx f(a) + f(b) \\quad for \\:\\: b << a $$"
   ]
  },
  {
   "cell_type": "markdown",
   "metadata": {
    "slideshow": {
     "slide_type": "subslide"
    }
   },
   "source": [
    "#### Linear ?\n",
    "Is the function linear, non-linear, Approximately linear?\n",
    "  \n",
    "  1.  \n",
    "  \n",
    "  $$ f(x) = 3 \\cdot x $$"
   ]
  },
  {
   "cell_type": "markdown",
   "metadata": {
    "slideshow": {
     "slide_type": "fragment"
    }
   },
   "source": [
    "  2. \n",
    "  \n",
    "  $$ f(x) = 0 \\cdot x $$"
   ]
  },
  {
   "cell_type": "markdown",
   "metadata": {
    "slideshow": {
     "slide_type": "fragment"
    }
   },
   "source": [
    "  3. \n",
    "  \n",
    "  $$ f(x) = 2 \\cdot x+1 $$"
   ]
  },
  {
   "cell_type": "markdown",
   "metadata": {
    "slideshow": {
     "slide_type": "fragment"
    }
   },
   "source": [
    "  4. \n",
    "  \n",
    "  $$ f(x) = x^{2} $$"
   ]
  },
  {
   "cell_type": "markdown",
   "metadata": {
    "slideshow": {
     "slide_type": "subslide"
    }
   },
   "source": [
    "### Time Inverance\n",
    "\n",
    "  + Function or System not dependent on what time it is\n",
    "  \n",
    "  $$ y(t) = f(x, t) = f(x, t+a) \\quad for \\: any \\: a $$"
   ]
  },
  {
   "cell_type": "markdown",
   "metadata": {
    "slideshow": {
     "slide_type": "fragment"
    }
   },
   "source": [
    "#### Time Inverent ?\n",
    "\n",
    "  1. \n",
    "  \n",
    "  $$ f(x) = 10 \\cdot x $$"
   ]
  },
  {
   "cell_type": "markdown",
   "metadata": {
    "slideshow": {
     "slide_type": "fragment"
    }
   },
   "source": [
    "  2. \n",
    "  $$ f(x) = x^{2} + 2x + 1 $$"
   ]
  },
  {
   "cell_type": "markdown",
   "metadata": {
    "slideshow": {
     "slide_type": "fragment"
    }
   },
   "source": [
    " 3. \n",
    "    $$ f(x) = t \\cdot x $$"
   ]
  },
  {
   "cell_type": "markdown",
   "metadata": {
    "slideshow": {
     "slide_type": "fragment"
    }
   },
   "source": [
    "  4. \n",
    "  $$ f(x) = x * \\delta(t-1) $$\n",
    "  \n",
    "    + What is that symbol \"$*$\" ? \n",
    "    + What about that other symbol \"$\\delta$\"?"
   ]
  },
  {
   "cell_type": "markdown",
   "metadata": {
    "slideshow": {
     "slide_type": "subslide"
    }
   },
   "source": [
    "###  Bounded Input Bounded Output\n",
    "\n",
    "  + For any input of limited energy the output energy is limited\n",
    "  \n",
    "$$ \\int_{- \\infty}^{\\infty} | \\: f(x) \\:  | \\: dt \\: < \\: \\infty  \\quad  for \\: \\int_{- \\infty}^{\\infty} | \\: x \\:  | \\: dt < \\infty$$"
   ]
  },
  {
   "cell_type": "markdown",
   "metadata": {
    "slideshow": {
     "slide_type": "fragment"
    }
   },
   "source": [
    "#### BIBO System?\n",
    "\n",
    "1. \n",
    "$$ f(x) = 5 \\cdot x + 2 $$"
   ]
  },
  {
   "cell_type": "markdown",
   "metadata": {
    "slideshow": {
     "slide_type": "fragment"
    }
   },
   "source": [
    "  2. \n",
    "  $$ f(x) = x^2 $$"
   ]
  },
  {
   "cell_type": "markdown",
   "metadata": {
    "slideshow": {
     "slide_type": "fragment"
    }
   },
   "source": [
    "  3. \n",
    "  $$ f(x) =  \\cfrac{1}{x} $$"
   ]
  },
  {
   "cell_type": "markdown",
   "metadata": {
    "slideshow": {
     "slide_type": "fragment"
    }
   },
   "source": [
    "  4. \n",
    "  $$ f(x) = \\int_{-\\infty}^{t} x^{2}(\\tau) \\: d \\tau $$"
   ]
  },
  {
   "cell_type": "markdown",
   "metadata": {
    "slideshow": {
     "slide_type": "subslide"
    }
   },
   "source": [
    "### Dirivatives and Differences\n",
    "\n",
    "#### Dirivative\n",
    "The rate of chage with respect to another variable.\n",
    "\n",
    "# Insert Dirivative Graphic"
   ]
  },
  {
   "cell_type": "markdown",
   "metadata": {
    "slideshow": {
     "slide_type": "subslide"
    }
   },
   "source": []
  },
  {
   "cell_type": "markdown",
   "metadata": {},
   "source": []
  },
  {
   "cell_type": "markdown",
   "metadata": {
    "cell_style": "split",
    "slideshow": {
     "slide_type": "slide"
    }
   },
   "source": [
    "## Random Varaibles\n",
    "  + Basics of Probablilty\n",
    "    + Total Probablilty\n",
    "    + Probability Density Function\n",
    "    + Cumulative Distribution Function\n",
    "  + Continuous Vs. Discrete\n",
    "  + Common Distributions\n",
    "      + Uniform\n",
    "      + Exponential\n",
    "      + Gaussian\n",
    "      + Chi Squared\n",
    "  + Mean, Variance, and higher Moments\n",
    "  "
   ]
  },
  {
   "cell_type": "markdown",
   "metadata": {
    "cell_style": "split",
    "slideshow": {
     "slide_type": "-"
    }
   },
   "source": [
    "\n",
    "  + Random Variables\n",
    "  + Central Limit Theorem\n",
    "  + Operations on random variables\n",
    "  + Correlation\n",
    "  + Conditional Probability \n",
    "  + Independent and identically Distributed "
   ]
  },
  {
   "cell_type": "markdown",
   "metadata": {
    "slideshow": {
     "slide_type": "subslide"
    }
   },
   "source": [
    "## Source of Noise\n",
    "\n",
    "#### Thermal Noise\n",
    "\n",
    "$$ P = k_B \\cdot T \\cdot BW $$\n",
    "\n",
    "  + $k_B$ is [Boltzmann's constant](https://en.wikipedia.org/wiki/Boltzmann_constant)\n",
    "  + $T$ is Temperature in [Kelvin](https://en.wikipedia.org/wiki/Kelvin)\n",
    "  + $BW$ is the bandwidth in Hz\n",
    "  \n",
    "#### System Noise\n",
    "\n",
    "  + Like thermal noise"
   ]
  },
  {
   "cell_type": "markdown",
   "metadata": {
    "slideshow": {
     "slide_type": "subslide"
    }
   },
   "source": [
    "### Basics Probability\n",
    "\n",
    "  \n",
    "  <img src=\"probability.png?1\" width=\"75%\" >"
   ]
  },
  {
   "cell_type": "markdown",
   "metadata": {
    "slideshow": {
     "slide_type": "subslide"
    }
   },
   "source": [
    "#### Total Probability\n",
    "    + Sum of all included outcomes is 1\n",
    "    \n",
    " \n",
    " <img src=\"probability_total.png?1\" width=\"75%\" >"
   ]
  },
  {
   "cell_type": "markdown",
   "metadata": {
    "slideshow": {
     "slide_type": "subslide"
    }
   },
   "source": [
    "#### Probability of 1?\n",
    "Given a random number generator what are the odd's it will return 1?\n",
    "\n",
    "<img src=\"probability_point.png?1\" width=\"75%\" >\n",
    "\n"
   ]
  },
  {
   "cell_type": "markdown",
   "metadata": {
    "slideshow": {
     "slide_type": "subslide"
    }
   },
   "source": [
    "#### Probability less than 0\n",
    "\n",
    "<img src=\"probability_regoin.png?1\" width=\"75%\">"
   ]
  },
  {
   "cell_type": "markdown",
   "metadata": {
    "slideshow": {
     "slide_type": "subslide"
    }
   },
   "source": [
    "### Probability Density Function\n",
    "\n",
    "  <img src=\"probability.png?1\" width=\"75%\" >"
   ]
  },
  {
   "cell_type": "markdown",
   "metadata": {
    "slideshow": {
     "slide_type": "subslide"
    }
   },
   "source": [
    "### Cumulative Density Function\n",
    "\n",
    "<img src=\"probability_pdf_cdf.png?1\" width=\"65%\">"
   ]
  },
  {
   "cell_type": "markdown",
   "metadata": {
    "cell_style": "split",
    "slideshow": {
     "slide_type": "subslide"
    }
   },
   "source": [
    "### Statistical Moments \n",
    "$$ \\bf x \\sim \\mathcal{\\bf P} \\: \\quad \\: P(x)= \\cdots $$\n",
    "\n",
    "##### Total Probabilty\n",
    "$$ 1 =  \\int_{-\\infty}^{\\infty} P(x) dx \\\\= \\sum P(x_i)$$\n",
    "\n",
    "##### Mean\n",
    "$$ \\mu = E(\\bf X) =  \\int_{-\\infty}^{\\infty} xP(x) dx \\\\= \\sum x_i P(x_i)$$\n",
    "\n"
   ]
  },
  {
   "cell_type": "markdown",
   "metadata": {
    "cell_style": "split",
    "slideshow": {
     "slide_type": "-"
    }
   },
   "source": [
    "##### Variance\n",
    "$$ \\sigma^2 = Var(\\bf X) =  \\int_{-\\infty}^{\\infty} (x-\\mu)^2 P(x) dx \\\\= \\sum (x_i-\\mu)^2 P(x_i)\n",
    "$$"
   ]
  },
  {
   "cell_type": "markdown",
   "metadata": {
    "slideshow": {
     "slide_type": "notes"
    }
   },
   "source": []
  },
  {
   "cell_type": "markdown",
   "metadata": {
    "cell_style": "split",
    "slideshow": {
     "slide_type": "subslide"
    }
   },
   "source": [
    "##### Skew\n",
    "$$ Skew(\\bf X) =  \\int_{-\\infty}^{\\infty} \\left ( \\cfrac{x-\\mu}{\\sigma} \\right )^3 P(x) dx \\\\= \\sum \\left ( \\cfrac{x-\\mu}{\\sigma} \\right )^3 P(x_i)\n",
    "$$\n",
    "#### Excess Kurtosis\n",
    "$$ Kurt(\\bf X) =  \\int_{-\\infty}^{\\infty} \\left ( \\cfrac{x-\\mu}{\\sigma} \\right )^4 P(x) dx \\\\= \\sum \\left ( \\cfrac{x-\\mu}{\\sigma} \\right )^4 P(x_i)\n",
    "$$\n",
    "\n"
   ]
  },
  {
   "cell_type": "markdown",
   "metadata": {
    "cell_style": "split",
    "slideshow": {
     "slide_type": "-"
    }
   },
   "source": [
    "### Information\n",
    "\n",
    "\n",
    "##### Entropy \n",
    "\n",
    "$$ H(\\bf X) = -\\int_{-\\infty}^{\\infty} P(x) ln \\left ( P(x) \\right ) dx \\\\= -\\sum P(x) ln \\left ( P(x) \\right )\n",
    "$$"
   ]
  },
  {
   "cell_type": "code",
   "execution_count": null,
   "metadata": {
    "slideshow": {
     "slide_type": "notes"
    }
   },
   "outputs": [],
   "source": []
  },
  {
   "cell_type": "markdown",
   "metadata": {
    "cell_style": "split",
    "slideshow": {
     "slide_type": "subslide"
    }
   },
   "source": [
    "### Continuous \n",
    "+ Likelihood function\n",
    "  + Non-negative\n",
    "  + Can be greater than 1\n",
    "  + Probability density Function (PDF)\n",
    "\n",
    "<img src=\"probability.png?2\" width=\"90%\" >"
   ]
  },
  {
   "cell_type": "markdown",
   "metadata": {
    "cell_style": "split",
    "slideshow": {
     "slide_type": "-"
    }
   },
   "source": [
    "### Discrete\n",
    "\n",
    "+ Likelihood function\n",
    "  + Non-negative\n",
    "  + 0 or +infinity \n",
    "+ Probability Mass Function (PMF)\n",
    "  \n",
    "  \n",
    "<img src=\"probability_mass_function.png?1\" width=\"90%\">"
   ]
  },
  {
   "cell_type": "code",
   "execution_count": null,
   "metadata": {
    "slideshow": {
     "slide_type": "notes"
    }
   },
   "outputs": [],
   "source": []
  },
  {
   "cell_type": "markdown",
   "metadata": {
    "cell_style": "split",
    "slideshow": {
     "slide_type": "subslide"
    }
   },
   "source": [
    "#### Common Distributions\n",
    "  + Uniform \n",
    "    + Eazist to work with\n",
    "    + Computers likely start with this\n",
    "  + Exponential\n",
    "    + Eazy to work with\n",
    "  + Gaussian\n",
    "    + The most common\n",
    "  + Chi Squared\n",
    "    + Most common squared\n",
    "    "
   ]
  },
  {
   "cell_type": "markdown",
   "metadata": {
    "cell_style": "split",
    "slideshow": {
     "slide_type": "-"
    }
   },
   "source": [
    "<img src=\"common_distributions.png?1\" width=\"100%\">"
   ]
  },
  {
   "cell_type": "markdown",
   "metadata": {
    "slideshow": {
     "slide_type": "notes"
    }
   },
   "source": []
  },
  {
   "cell_type": "markdown",
   "metadata": {
    "cell_style": "split",
    "slideshow": {
     "slide_type": "subslide"
    }
   },
   "source": [
    "#### Uniform\n",
    "$$ P(x) =\\Big \\{ \\begin{matrix} \\:1 \\: :\\quad 0\\leq x \\leq 1 \\\\0 : \\quad otherwise \\end{matrix}$$\n",
    "\n",
    "\n",
    "$$ \\Phi (x) = \\Big \\{ \\begin{matrix} \\:x \\: :\\quad 0\\leq x \\leq 1 \\\\0 : \\quad otherwise \\end{matrix} $$\n",
    "\n",
    "$$ Mean = \\cfrac{1}{2}, \\quad \n",
    "Var = \\cfrac{1}{12(1-0)^2}, \\quad \\\\\n",
    "Skew = 0, \\quad\n",
    "kurtosis = \\cfrac{-6}{5}, \\quad \\\\\n",
    "Entropy = ln(1-0)\n",
    "$$"
   ]
  },
  {
   "cell_type": "markdown",
   "metadata": {
    "cell_style": "split",
    "slideshow": {
     "slide_type": "-"
    }
   },
   "source": [
    "\n",
    "<img src=\"uniform_distributions.png?1\" width=\"100%\">\n"
   ]
  },
  {
   "cell_type": "code",
   "execution_count": null,
   "metadata": {
    "slideshow": {
     "slide_type": "notes"
    }
   },
   "outputs": [],
   "source": []
  },
  {
   "cell_type": "markdown",
   "metadata": {
    "cell_style": "split",
    "slideshow": {
     "slide_type": "subslide"
    }
   },
   "source": [
    "#### Exponetial\n",
    "\n",
    "$$ P(x) =\\Big \\{ \\begin{matrix} \\: \\lambda e^{-\\lambda x} \\: :\\quad 0\\leq x \\\\0 \\quad : \\quad otherwise \\end{matrix}$$\n",
    "\n",
    "$$ \\Phi (x) = \\Big \\{ \\begin{matrix} \\: 1-e^{-\\lambda x} \\: :\\quad 0\\leq x  \\\\0 : \\quad otherwise \\end{matrix} $$\n",
    "\n",
    "$$ Mean = \\cfrac{1}{\\lambda}, \\quad \n",
    "Var = \\cfrac{1}{\\lambda^2}, \\quad \\\\\n",
    "Skew = 2, \\quad\n",
    "kurtosis = 6, \\quad \\\\\n",
    "Entropy = 1- ln(\\lambda)\n",
    "$$"
   ]
  },
  {
   "cell_type": "markdown",
   "metadata": {
    "cell_style": "split",
    "slideshow": {
     "slide_type": "-"
    }
   },
   "source": [
    "\n",
    "\n",
    "<img src=\"expon_distributions.png?0\" width=\"100%\">"
   ]
  },
  {
   "cell_type": "markdown",
   "metadata": {
    "slideshow": {
     "slide_type": "notes"
    }
   },
   "source": [
    "### "
   ]
  },
  {
   "cell_type": "markdown",
   "metadata": {
    "cell_style": "split",
    "slideshow": {
     "slide_type": "subslide"
    }
   },
   "source": [
    "#### Gaussian\n",
    "\n",
    "$$ P(x) = \\cfrac{1}{\\sigma \\sqrt{2 \\pi}} \n",
    "\\: e^{ \\cfrac{1}{2} \\left(\\cfrac{x-\\mu}{\\sigma} \\right )^{2} }$$\n",
    "\n",
    "$$ \\Phi (x) = \\cfrac{1}{2} \\left ( 1 + erf \\left ( \\cfrac{x-\\mu}{\\sigma \\sqrt{2}} \\right ) \\right )\n",
    "$$\n",
    "\n",
    "$$ Mean = \\mu, \\quad \n",
    "Var = \\sigma^2, \\quad \\\\\n",
    "Skew = 0, \\quad\n",
    "kurtosis = 0, \\quad \\\\\n",
    "Entropy = \\cfrac{1}{2} \\left( ln \\left (\n",
    "2 \\pi \\sigma^2 \n",
    "\\right ) + 1 \\right )\n",
    "$$"
   ]
  },
  {
   "cell_type": "markdown",
   "metadata": {
    "cell_style": "split",
    "slideshow": {
     "slide_type": "-"
    }
   },
   "source": [
    "<img src=\"gaussian_distributions.png\" width=\"100%\">"
   ]
  },
  {
   "cell_type": "code",
   "execution_count": null,
   "metadata": {
    "slideshow": {
     "slide_type": "notes"
    }
   },
   "outputs": [],
   "source": []
  },
  {
   "attachments": {},
   "cell_type": "markdown",
   "metadata": {
    "cell_style": "split",
    "slideshow": {
     "slide_type": "subslide"
    }
   },
   "source": [
    "#### $\\chi ^ 2$  (Chi Squared)\n",
    "\n",
    "$$ \\chi ^ 2 (x) \\quad = \\quad \\Bigg \\{ \\begin{matrix} \\:\n",
    "\\cfrac{ x^{k/2 - 1 } \\: e^{-x}}{2^{k/2}\\: \\Gamma(k/2)}\n",
    "\\: :\\quad 0\\leq x \\\\0 \\quad\\quad : \\quad otherwise \\end{matrix}\n",
    "$$\n",
    "\n",
    "\n",
    "\n",
    "[The chi-squared distribution is obtained as the sum of the squares of k independent, zero-mean, unit-variance Gaussian random variables](https://en.wikipedia.org/wiki/Chi-squared_distribution)"
   ]
  },
  {
   "cell_type": "markdown",
   "metadata": {
    "cell_style": "split",
    "slideshow": {
     "slide_type": "-"
    }
   },
   "source": [
    "\n",
    "\n",
    "<img src=\"chi2_distributions.png\" width=\"100%\">"
   ]
  },
  {
   "cell_type": "markdown",
   "metadata": {
    "slideshow": {
     "slide_type": "subslide"
    }
   },
   "source": [
    "<img src=\"chi2_order_distributions.png?1\" width=\"100%\">"
   ]
  },
  {
   "cell_type": "markdown",
   "metadata": {
    "slideshow": {
     "slide_type": "subslide"
    }
   },
   "source": [
    "<img src=\"chi2_order_distributions.gif?2\" width=\"100%\">"
   ]
  },
  {
   "cell_type": "markdown",
   "metadata": {
    "cell_style": "split",
    "slideshow": {
     "slide_type": "subslide"
    }
   },
   "source": [
    "## Central Limit Theorem\n",
    "\n",
    "  + The linear combination of independent random variable to Gaussian in the limit\n",
    "  \n",
    "  + The reason Gaussian is the most important distribution\n",
    "  "
   ]
  },
  {
   "cell_type": "markdown",
   "metadata": {
    "cell_style": "split",
    "slideshow": {
     "slide_type": "-"
    }
   },
   "source": [
    "#### Linear Operations \n",
    "\n",
    "  + "
   ]
  },
  {
   "cell_type": "code",
   "execution_count": 161,
   "metadata": {
    "slideshow": {
     "slide_type": "subslide"
    }
   },
   "outputs": [
    {
     "data": {
      "application/javascript": [
       "/* Put everything inside the global mpl namespace */\n",
       "window.mpl = {};\n",
       "\n",
       "\n",
       "mpl.get_websocket_type = function() {\n",
       "    if (typeof(WebSocket) !== 'undefined') {\n",
       "        return WebSocket;\n",
       "    } else if (typeof(MozWebSocket) !== 'undefined') {\n",
       "        return MozWebSocket;\n",
       "    } else {\n",
       "        alert('Your browser does not have WebSocket support. ' +\n",
       "              'Please try Chrome, Safari or Firefox ≥ 6. ' +\n",
       "              'Firefox 4 and 5 are also supported but you ' +\n",
       "              'have to enable WebSockets in about:config.');\n",
       "    };\n",
       "}\n",
       "\n",
       "mpl.figure = function(figure_id, websocket, ondownload, parent_element) {\n",
       "    this.id = figure_id;\n",
       "\n",
       "    this.ws = websocket;\n",
       "\n",
       "    this.supports_binary = (this.ws.binaryType != undefined);\n",
       "\n",
       "    if (!this.supports_binary) {\n",
       "        var warnings = document.getElementById(\"mpl-warnings\");\n",
       "        if (warnings) {\n",
       "            warnings.style.display = 'block';\n",
       "            warnings.textContent = (\n",
       "                \"This browser does not support binary websocket messages. \" +\n",
       "                    \"Performance may be slow.\");\n",
       "        }\n",
       "    }\n",
       "\n",
       "    this.imageObj = new Image();\n",
       "\n",
       "    this.context = undefined;\n",
       "    this.message = undefined;\n",
       "    this.canvas = undefined;\n",
       "    this.rubberband_canvas = undefined;\n",
       "    this.rubberband_context = undefined;\n",
       "    this.format_dropdown = undefined;\n",
       "\n",
       "    this.image_mode = 'full';\n",
       "\n",
       "    this.root = $('<div/>');\n",
       "    this._root_extra_style(this.root)\n",
       "    this.root.attr('style', 'display: inline-block');\n",
       "\n",
       "    $(parent_element).append(this.root);\n",
       "\n",
       "    this._init_header(this);\n",
       "    this._init_canvas(this);\n",
       "    this._init_toolbar(this);\n",
       "\n",
       "    var fig = this;\n",
       "\n",
       "    this.waiting = false;\n",
       "\n",
       "    this.ws.onopen =  function () {\n",
       "            fig.send_message(\"supports_binary\", {value: fig.supports_binary});\n",
       "            fig.send_message(\"send_image_mode\", {});\n",
       "            if (mpl.ratio != 1) {\n",
       "                fig.send_message(\"set_dpi_ratio\", {'dpi_ratio': mpl.ratio});\n",
       "            }\n",
       "            fig.send_message(\"refresh\", {});\n",
       "        }\n",
       "\n",
       "    this.imageObj.onload = function() {\n",
       "            if (fig.image_mode == 'full') {\n",
       "                // Full images could contain transparency (where diff images\n",
       "                // almost always do), so we need to clear the canvas so that\n",
       "                // there is no ghosting.\n",
       "                fig.context.clearRect(0, 0, fig.canvas.width, fig.canvas.height);\n",
       "            }\n",
       "            fig.context.drawImage(fig.imageObj, 0, 0);\n",
       "        };\n",
       "\n",
       "    this.imageObj.onunload = function() {\n",
       "        fig.ws.close();\n",
       "    }\n",
       "\n",
       "    this.ws.onmessage = this._make_on_message_function(this);\n",
       "\n",
       "    this.ondownload = ondownload;\n",
       "}\n",
       "\n",
       "mpl.figure.prototype._init_header = function() {\n",
       "    var titlebar = $(\n",
       "        '<div class=\"ui-dialog-titlebar ui-widget-header ui-corner-all ' +\n",
       "        'ui-helper-clearfix\"/>');\n",
       "    var titletext = $(\n",
       "        '<div class=\"ui-dialog-title\" style=\"width: 100%; ' +\n",
       "        'text-align: center; padding: 3px;\"/>');\n",
       "    titlebar.append(titletext)\n",
       "    this.root.append(titlebar);\n",
       "    this.header = titletext[0];\n",
       "}\n",
       "\n",
       "\n",
       "\n",
       "mpl.figure.prototype._canvas_extra_style = function(canvas_div) {\n",
       "\n",
       "}\n",
       "\n",
       "\n",
       "mpl.figure.prototype._root_extra_style = function(canvas_div) {\n",
       "\n",
       "}\n",
       "\n",
       "mpl.figure.prototype._init_canvas = function() {\n",
       "    var fig = this;\n",
       "\n",
       "    var canvas_div = $('<div/>');\n",
       "\n",
       "    canvas_div.attr('style', 'position: relative; clear: both; outline: 0');\n",
       "\n",
       "    function canvas_keyboard_event(event) {\n",
       "        return fig.key_event(event, event['data']);\n",
       "    }\n",
       "\n",
       "    canvas_div.keydown('key_press', canvas_keyboard_event);\n",
       "    canvas_div.keyup('key_release', canvas_keyboard_event);\n",
       "    this.canvas_div = canvas_div\n",
       "    this._canvas_extra_style(canvas_div)\n",
       "    this.root.append(canvas_div);\n",
       "\n",
       "    var canvas = $('<canvas/>');\n",
       "    canvas.addClass('mpl-canvas');\n",
       "    canvas.attr('style', \"left: 0; top: 0; z-index: 0; outline: 0\")\n",
       "\n",
       "    this.canvas = canvas[0];\n",
       "    this.context = canvas[0].getContext(\"2d\");\n",
       "\n",
       "    var backingStore = this.context.backingStorePixelRatio ||\n",
       "\tthis.context.webkitBackingStorePixelRatio ||\n",
       "\tthis.context.mozBackingStorePixelRatio ||\n",
       "\tthis.context.msBackingStorePixelRatio ||\n",
       "\tthis.context.oBackingStorePixelRatio ||\n",
       "\tthis.context.backingStorePixelRatio || 1;\n",
       "\n",
       "    mpl.ratio = (window.devicePixelRatio || 1) / backingStore;\n",
       "\n",
       "    var rubberband = $('<canvas/>');\n",
       "    rubberband.attr('style', \"position: absolute; left: 0; top: 0; z-index: 1;\")\n",
       "\n",
       "    var pass_mouse_events = true;\n",
       "\n",
       "    canvas_div.resizable({\n",
       "        start: function(event, ui) {\n",
       "            pass_mouse_events = false;\n",
       "        },\n",
       "        resize: function(event, ui) {\n",
       "            fig.request_resize(ui.size.width, ui.size.height);\n",
       "        },\n",
       "        stop: function(event, ui) {\n",
       "            pass_mouse_events = true;\n",
       "            fig.request_resize(ui.size.width, ui.size.height);\n",
       "        },\n",
       "    });\n",
       "\n",
       "    function mouse_event_fn(event) {\n",
       "        if (pass_mouse_events)\n",
       "            return fig.mouse_event(event, event['data']);\n",
       "    }\n",
       "\n",
       "    rubberband.mousedown('button_press', mouse_event_fn);\n",
       "    rubberband.mouseup('button_release', mouse_event_fn);\n",
       "    // Throttle sequential mouse events to 1 every 20ms.\n",
       "    rubberband.mousemove('motion_notify', mouse_event_fn);\n",
       "\n",
       "    rubberband.mouseenter('figure_enter', mouse_event_fn);\n",
       "    rubberband.mouseleave('figure_leave', mouse_event_fn);\n",
       "\n",
       "    canvas_div.on(\"wheel\", function (event) {\n",
       "        event = event.originalEvent;\n",
       "        event['data'] = 'scroll'\n",
       "        if (event.deltaY < 0) {\n",
       "            event.step = 1;\n",
       "        } else {\n",
       "            event.step = -1;\n",
       "        }\n",
       "        mouse_event_fn(event);\n",
       "    });\n",
       "\n",
       "    canvas_div.append(canvas);\n",
       "    canvas_div.append(rubberband);\n",
       "\n",
       "    this.rubberband = rubberband;\n",
       "    this.rubberband_canvas = rubberband[0];\n",
       "    this.rubberband_context = rubberband[0].getContext(\"2d\");\n",
       "    this.rubberband_context.strokeStyle = \"#000000\";\n",
       "\n",
       "    this._resize_canvas = function(width, height) {\n",
       "        // Keep the size of the canvas, canvas container, and rubber band\n",
       "        // canvas in synch.\n",
       "        canvas_div.css('width', width)\n",
       "        canvas_div.css('height', height)\n",
       "\n",
       "        canvas.attr('width', width * mpl.ratio);\n",
       "        canvas.attr('height', height * mpl.ratio);\n",
       "        canvas.attr('style', 'width: ' + width + 'px; height: ' + height + 'px;');\n",
       "\n",
       "        rubberband.attr('width', width);\n",
       "        rubberband.attr('height', height);\n",
       "    }\n",
       "\n",
       "    // Set the figure to an initial 600x600px, this will subsequently be updated\n",
       "    // upon first draw.\n",
       "    this._resize_canvas(600, 600);\n",
       "\n",
       "    // Disable right mouse context menu.\n",
       "    $(this.rubberband_canvas).bind(\"contextmenu\",function(e){\n",
       "        return false;\n",
       "    });\n",
       "\n",
       "    function set_focus () {\n",
       "        canvas.focus();\n",
       "        canvas_div.focus();\n",
       "    }\n",
       "\n",
       "    window.setTimeout(set_focus, 100);\n",
       "}\n",
       "\n",
       "mpl.figure.prototype._init_toolbar = function() {\n",
       "    var fig = this;\n",
       "\n",
       "    var nav_element = $('<div/>');\n",
       "    nav_element.attr('style', 'width: 100%');\n",
       "    this.root.append(nav_element);\n",
       "\n",
       "    // Define a callback function for later on.\n",
       "    function toolbar_event(event) {\n",
       "        return fig.toolbar_button_onclick(event['data']);\n",
       "    }\n",
       "    function toolbar_mouse_event(event) {\n",
       "        return fig.toolbar_button_onmouseover(event['data']);\n",
       "    }\n",
       "\n",
       "    for(var toolbar_ind in mpl.toolbar_items) {\n",
       "        var name = mpl.toolbar_items[toolbar_ind][0];\n",
       "        var tooltip = mpl.toolbar_items[toolbar_ind][1];\n",
       "        var image = mpl.toolbar_items[toolbar_ind][2];\n",
       "        var method_name = mpl.toolbar_items[toolbar_ind][3];\n",
       "\n",
       "        if (!name) {\n",
       "            // put a spacer in here.\n",
       "            continue;\n",
       "        }\n",
       "        var button = $('<button/>');\n",
       "        button.addClass('ui-button ui-widget ui-state-default ui-corner-all ' +\n",
       "                        'ui-button-icon-only');\n",
       "        button.attr('role', 'button');\n",
       "        button.attr('aria-disabled', 'false');\n",
       "        button.click(method_name, toolbar_event);\n",
       "        button.mouseover(tooltip, toolbar_mouse_event);\n",
       "\n",
       "        var icon_img = $('<span/>');\n",
       "        icon_img.addClass('ui-button-icon-primary ui-icon');\n",
       "        icon_img.addClass(image);\n",
       "        icon_img.addClass('ui-corner-all');\n",
       "\n",
       "        var tooltip_span = $('<span/>');\n",
       "        tooltip_span.addClass('ui-button-text');\n",
       "        tooltip_span.html(tooltip);\n",
       "\n",
       "        button.append(icon_img);\n",
       "        button.append(tooltip_span);\n",
       "\n",
       "        nav_element.append(button);\n",
       "    }\n",
       "\n",
       "    var fmt_picker_span = $('<span/>');\n",
       "\n",
       "    var fmt_picker = $('<select/>');\n",
       "    fmt_picker.addClass('mpl-toolbar-option ui-widget ui-widget-content');\n",
       "    fmt_picker_span.append(fmt_picker);\n",
       "    nav_element.append(fmt_picker_span);\n",
       "    this.format_dropdown = fmt_picker[0];\n",
       "\n",
       "    for (var ind in mpl.extensions) {\n",
       "        var fmt = mpl.extensions[ind];\n",
       "        var option = $(\n",
       "            '<option/>', {selected: fmt === mpl.default_extension}).html(fmt);\n",
       "        fmt_picker.append(option);\n",
       "    }\n",
       "\n",
       "    // Add hover states to the ui-buttons\n",
       "    $( \".ui-button\" ).hover(\n",
       "        function() { $(this).addClass(\"ui-state-hover\");},\n",
       "        function() { $(this).removeClass(\"ui-state-hover\");}\n",
       "    );\n",
       "\n",
       "    var status_bar = $('<span class=\"mpl-message\"/>');\n",
       "    nav_element.append(status_bar);\n",
       "    this.message = status_bar[0];\n",
       "}\n",
       "\n",
       "mpl.figure.prototype.request_resize = function(x_pixels, y_pixels) {\n",
       "    // Request matplotlib to resize the figure. Matplotlib will then trigger a resize in the client,\n",
       "    // which will in turn request a refresh of the image.\n",
       "    this.send_message('resize', {'width': x_pixels, 'height': y_pixels});\n",
       "}\n",
       "\n",
       "mpl.figure.prototype.send_message = function(type, properties) {\n",
       "    properties['type'] = type;\n",
       "    properties['figure_id'] = this.id;\n",
       "    this.ws.send(JSON.stringify(properties));\n",
       "}\n",
       "\n",
       "mpl.figure.prototype.send_draw_message = function() {\n",
       "    if (!this.waiting) {\n",
       "        this.waiting = true;\n",
       "        this.ws.send(JSON.stringify({type: \"draw\", figure_id: this.id}));\n",
       "    }\n",
       "}\n",
       "\n",
       "\n",
       "mpl.figure.prototype.handle_save = function(fig, msg) {\n",
       "    var format_dropdown = fig.format_dropdown;\n",
       "    var format = format_dropdown.options[format_dropdown.selectedIndex].value;\n",
       "    fig.ondownload(fig, format);\n",
       "}\n",
       "\n",
       "\n",
       "mpl.figure.prototype.handle_resize = function(fig, msg) {\n",
       "    var size = msg['size'];\n",
       "    if (size[0] != fig.canvas.width || size[1] != fig.canvas.height) {\n",
       "        fig._resize_canvas(size[0], size[1]);\n",
       "        fig.send_message(\"refresh\", {});\n",
       "    };\n",
       "}\n",
       "\n",
       "mpl.figure.prototype.handle_rubberband = function(fig, msg) {\n",
       "    var x0 = msg['x0'] / mpl.ratio;\n",
       "    var y0 = (fig.canvas.height - msg['y0']) / mpl.ratio;\n",
       "    var x1 = msg['x1'] / mpl.ratio;\n",
       "    var y1 = (fig.canvas.height - msg['y1']) / mpl.ratio;\n",
       "    x0 = Math.floor(x0) + 0.5;\n",
       "    y0 = Math.floor(y0) + 0.5;\n",
       "    x1 = Math.floor(x1) + 0.5;\n",
       "    y1 = Math.floor(y1) + 0.5;\n",
       "    var min_x = Math.min(x0, x1);\n",
       "    var min_y = Math.min(y0, y1);\n",
       "    var width = Math.abs(x1 - x0);\n",
       "    var height = Math.abs(y1 - y0);\n",
       "\n",
       "    fig.rubberband_context.clearRect(\n",
       "        0, 0, fig.canvas.width / mpl.ratio, fig.canvas.height / mpl.ratio);\n",
       "\n",
       "    fig.rubberband_context.strokeRect(min_x, min_y, width, height);\n",
       "}\n",
       "\n",
       "mpl.figure.prototype.handle_figure_label = function(fig, msg) {\n",
       "    // Updates the figure title.\n",
       "    fig.header.textContent = msg['label'];\n",
       "}\n",
       "\n",
       "mpl.figure.prototype.handle_cursor = function(fig, msg) {\n",
       "    var cursor = msg['cursor'];\n",
       "    switch(cursor)\n",
       "    {\n",
       "    case 0:\n",
       "        cursor = 'pointer';\n",
       "        break;\n",
       "    case 1:\n",
       "        cursor = 'default';\n",
       "        break;\n",
       "    case 2:\n",
       "        cursor = 'crosshair';\n",
       "        break;\n",
       "    case 3:\n",
       "        cursor = 'move';\n",
       "        break;\n",
       "    }\n",
       "    fig.rubberband_canvas.style.cursor = cursor;\n",
       "}\n",
       "\n",
       "mpl.figure.prototype.handle_message = function(fig, msg) {\n",
       "    fig.message.textContent = msg['message'];\n",
       "}\n",
       "\n",
       "mpl.figure.prototype.handle_draw = function(fig, msg) {\n",
       "    // Request the server to send over a new figure.\n",
       "    fig.send_draw_message();\n",
       "}\n",
       "\n",
       "mpl.figure.prototype.handle_image_mode = function(fig, msg) {\n",
       "    fig.image_mode = msg['mode'];\n",
       "}\n",
       "\n",
       "mpl.figure.prototype.updated_canvas_event = function() {\n",
       "    // Called whenever the canvas gets updated.\n",
       "    this.send_message(\"ack\", {});\n",
       "}\n",
       "\n",
       "// A function to construct a web socket function for onmessage handling.\n",
       "// Called in the figure constructor.\n",
       "mpl.figure.prototype._make_on_message_function = function(fig) {\n",
       "    return function socket_on_message(evt) {\n",
       "        if (evt.data instanceof Blob) {\n",
       "            /* FIXME: We get \"Resource interpreted as Image but\n",
       "             * transferred with MIME type text/plain:\" errors on\n",
       "             * Chrome.  But how to set the MIME type?  It doesn't seem\n",
       "             * to be part of the websocket stream */\n",
       "            evt.data.type = \"image/png\";\n",
       "\n",
       "            /* Free the memory for the previous frames */\n",
       "            if (fig.imageObj.src) {\n",
       "                (window.URL || window.webkitURL).revokeObjectURL(\n",
       "                    fig.imageObj.src);\n",
       "            }\n",
       "\n",
       "            fig.imageObj.src = (window.URL || window.webkitURL).createObjectURL(\n",
       "                evt.data);\n",
       "            fig.updated_canvas_event();\n",
       "            fig.waiting = false;\n",
       "            return;\n",
       "        }\n",
       "        else if (typeof evt.data === 'string' && evt.data.slice(0, 21) == \"data:image/png;base64\") {\n",
       "            fig.imageObj.src = evt.data;\n",
       "            fig.updated_canvas_event();\n",
       "            fig.waiting = false;\n",
       "            return;\n",
       "        }\n",
       "\n",
       "        var msg = JSON.parse(evt.data);\n",
       "        var msg_type = msg['type'];\n",
       "\n",
       "        // Call the  \"handle_{type}\" callback, which takes\n",
       "        // the figure and JSON message as its only arguments.\n",
       "        try {\n",
       "            var callback = fig[\"handle_\" + msg_type];\n",
       "        } catch (e) {\n",
       "            console.log(\"No handler for the '\" + msg_type + \"' message type: \", msg);\n",
       "            return;\n",
       "        }\n",
       "\n",
       "        if (callback) {\n",
       "            try {\n",
       "                // console.log(\"Handling '\" + msg_type + \"' message: \", msg);\n",
       "                callback(fig, msg);\n",
       "            } catch (e) {\n",
       "                console.log(\"Exception inside the 'handler_\" + msg_type + \"' callback:\", e, e.stack, msg);\n",
       "            }\n",
       "        }\n",
       "    };\n",
       "}\n",
       "\n",
       "// from http://stackoverflow.com/questions/1114465/getting-mouse-location-in-canvas\n",
       "mpl.findpos = function(e) {\n",
       "    //this section is from http://www.quirksmode.org/js/events_properties.html\n",
       "    var targ;\n",
       "    if (!e)\n",
       "        e = window.event;\n",
       "    if (e.target)\n",
       "        targ = e.target;\n",
       "    else if (e.srcElement)\n",
       "        targ = e.srcElement;\n",
       "    if (targ.nodeType == 3) // defeat Safari bug\n",
       "        targ = targ.parentNode;\n",
       "\n",
       "    // jQuery normalizes the pageX and pageY\n",
       "    // pageX,Y are the mouse positions relative to the document\n",
       "    // offset() returns the position of the element relative to the document\n",
       "    var x = e.pageX - $(targ).offset().left;\n",
       "    var y = e.pageY - $(targ).offset().top;\n",
       "\n",
       "    return {\"x\": x, \"y\": y};\n",
       "};\n",
       "\n",
       "/*\n",
       " * return a copy of an object with only non-object keys\n",
       " * we need this to avoid circular references\n",
       " * http://stackoverflow.com/a/24161582/3208463\n",
       " */\n",
       "function simpleKeys (original) {\n",
       "  return Object.keys(original).reduce(function (obj, key) {\n",
       "    if (typeof original[key] !== 'object')\n",
       "        obj[key] = original[key]\n",
       "    return obj;\n",
       "  }, {});\n",
       "}\n",
       "\n",
       "mpl.figure.prototype.mouse_event = function(event, name) {\n",
       "    var canvas_pos = mpl.findpos(event)\n",
       "\n",
       "    if (name === 'button_press')\n",
       "    {\n",
       "        this.canvas.focus();\n",
       "        this.canvas_div.focus();\n",
       "    }\n",
       "\n",
       "    var x = canvas_pos.x * mpl.ratio;\n",
       "    var y = canvas_pos.y * mpl.ratio;\n",
       "\n",
       "    this.send_message(name, {x: x, y: y, button: event.button,\n",
       "                             step: event.step,\n",
       "                             guiEvent: simpleKeys(event)});\n",
       "\n",
       "    /* This prevents the web browser from automatically changing to\n",
       "     * the text insertion cursor when the button is pressed.  We want\n",
       "     * to control all of the cursor setting manually through the\n",
       "     * 'cursor' event from matplotlib */\n",
       "    event.preventDefault();\n",
       "    return false;\n",
       "}\n",
       "\n",
       "mpl.figure.prototype._key_event_extra = function(event, name) {\n",
       "    // Handle any extra behaviour associated with a key event\n",
       "}\n",
       "\n",
       "mpl.figure.prototype.key_event = function(event, name) {\n",
       "\n",
       "    // Prevent repeat events\n",
       "    if (name == 'key_press')\n",
       "    {\n",
       "        if (event.which === this._key)\n",
       "            return;\n",
       "        else\n",
       "            this._key = event.which;\n",
       "    }\n",
       "    if (name == 'key_release')\n",
       "        this._key = null;\n",
       "\n",
       "    var value = '';\n",
       "    if (event.ctrlKey && event.which != 17)\n",
       "        value += \"ctrl+\";\n",
       "    if (event.altKey && event.which != 18)\n",
       "        value += \"alt+\";\n",
       "    if (event.shiftKey && event.which != 16)\n",
       "        value += \"shift+\";\n",
       "\n",
       "    value += 'k';\n",
       "    value += event.which.toString();\n",
       "\n",
       "    this._key_event_extra(event, name);\n",
       "\n",
       "    this.send_message(name, {key: value,\n",
       "                             guiEvent: simpleKeys(event)});\n",
       "    return false;\n",
       "}\n",
       "\n",
       "mpl.figure.prototype.toolbar_button_onclick = function(name) {\n",
       "    if (name == 'download') {\n",
       "        this.handle_save(this, null);\n",
       "    } else {\n",
       "        this.send_message(\"toolbar_button\", {name: name});\n",
       "    }\n",
       "};\n",
       "\n",
       "mpl.figure.prototype.toolbar_button_onmouseover = function(tooltip) {\n",
       "    this.message.textContent = tooltip;\n",
       "};\n",
       "mpl.toolbar_items = [[\"Home\", \"Reset original view\", \"fa fa-home icon-home\", \"home\"], [\"Back\", \"Back to previous view\", \"fa fa-arrow-left icon-arrow-left\", \"back\"], [\"Forward\", \"Forward to next view\", \"fa fa-arrow-right icon-arrow-right\", \"forward\"], [\"\", \"\", \"\", \"\"], [\"Pan\", \"Pan axes with left mouse, zoom with right\", \"fa fa-arrows icon-move\", \"pan\"], [\"Zoom\", \"Zoom to rectangle\", \"fa fa-square-o icon-check-empty\", \"zoom\"], [\"\", \"\", \"\", \"\"], [\"Download\", \"Download plot\", \"fa fa-floppy-o icon-save\", \"download\"]];\n",
       "\n",
       "mpl.extensions = [\"eps\", \"pdf\", \"png\", \"ps\", \"raw\", \"svg\"];\n",
       "\n",
       "mpl.default_extension = \"png\";var comm_websocket_adapter = function(comm) {\n",
       "    // Create a \"websocket\"-like object which calls the given IPython comm\n",
       "    // object with the appropriate methods. Currently this is a non binary\n",
       "    // socket, so there is still some room for performance tuning.\n",
       "    var ws = {};\n",
       "\n",
       "    ws.close = function() {\n",
       "        comm.close()\n",
       "    };\n",
       "    ws.send = function(m) {\n",
       "        //console.log('sending', m);\n",
       "        comm.send(m);\n",
       "    };\n",
       "    // Register the callback with on_msg.\n",
       "    comm.on_msg(function(msg) {\n",
       "        //console.log('receiving', msg['content']['data'], msg);\n",
       "        // Pass the mpl event to the overridden (by mpl) onmessage function.\n",
       "        ws.onmessage(msg['content']['data'])\n",
       "    });\n",
       "    return ws;\n",
       "}\n",
       "\n",
       "mpl.mpl_figure_comm = function(comm, msg) {\n",
       "    // This is the function which gets called when the mpl process\n",
       "    // starts-up an IPython Comm through the \"matplotlib\" channel.\n",
       "\n",
       "    var id = msg.content.data.id;\n",
       "    // Get hold of the div created by the display call when the Comm\n",
       "    // socket was opened in Python.\n",
       "    var element = $(\"#\" + id);\n",
       "    var ws_proxy = comm_websocket_adapter(comm)\n",
       "\n",
       "    function ondownload(figure, format) {\n",
       "        window.open(figure.imageObj.src);\n",
       "    }\n",
       "\n",
       "    var fig = new mpl.figure(id, ws_proxy,\n",
       "                           ondownload,\n",
       "                           element.get(0));\n",
       "\n",
       "    // Call onopen now - mpl needs it, as it is assuming we've passed it a real\n",
       "    // web socket which is closed, not our websocket->open comm proxy.\n",
       "    ws_proxy.onopen();\n",
       "\n",
       "    fig.parent_element = element.get(0);\n",
       "    fig.cell_info = mpl.find_output_cell(\"<div id='\" + id + \"'></div>\");\n",
       "    if (!fig.cell_info) {\n",
       "        console.error(\"Failed to find cell for figure\", id, fig);\n",
       "        return;\n",
       "    }\n",
       "\n",
       "    var output_index = fig.cell_info[2]\n",
       "    var cell = fig.cell_info[0];\n",
       "\n",
       "};\n",
       "\n",
       "mpl.figure.prototype.handle_close = function(fig, msg) {\n",
       "    var width = fig.canvas.width/mpl.ratio\n",
       "    fig.root.unbind('remove')\n",
       "\n",
       "    // Update the output cell to use the data from the current canvas.\n",
       "    fig.push_to_output();\n",
       "    var dataURL = fig.canvas.toDataURL();\n",
       "    // Re-enable the keyboard manager in IPython - without this line, in FF,\n",
       "    // the notebook keyboard shortcuts fail.\n",
       "    IPython.keyboard_manager.enable()\n",
       "    $(fig.parent_element).html('<img src=\"' + dataURL + '\" width=\"' + width + '\">');\n",
       "    fig.close_ws(fig, msg);\n",
       "}\n",
       "\n",
       "mpl.figure.prototype.close_ws = function(fig, msg){\n",
       "    fig.send_message('closing', msg);\n",
       "    // fig.ws.close()\n",
       "}\n",
       "\n",
       "mpl.figure.prototype.push_to_output = function(remove_interactive) {\n",
       "    // Turn the data on the canvas into data in the output cell.\n",
       "    var width = this.canvas.width/mpl.ratio\n",
       "    var dataURL = this.canvas.toDataURL();\n",
       "    this.cell_info[1]['text/html'] = '<img src=\"' + dataURL + '\" width=\"' + width + '\">';\n",
       "}\n",
       "\n",
       "mpl.figure.prototype.updated_canvas_event = function() {\n",
       "    // Tell IPython that the notebook contents must change.\n",
       "    IPython.notebook.set_dirty(true);\n",
       "    this.send_message(\"ack\", {});\n",
       "    var fig = this;\n",
       "    // Wait a second, then push the new image to the DOM so\n",
       "    // that it is saved nicely (might be nice to debounce this).\n",
       "    setTimeout(function () { fig.push_to_output() }, 1000);\n",
       "}\n",
       "\n",
       "mpl.figure.prototype._init_toolbar = function() {\n",
       "    var fig = this;\n",
       "\n",
       "    var nav_element = $('<div/>');\n",
       "    nav_element.attr('style', 'width: 100%');\n",
       "    this.root.append(nav_element);\n",
       "\n",
       "    // Define a callback function for later on.\n",
       "    function toolbar_event(event) {\n",
       "        return fig.toolbar_button_onclick(event['data']);\n",
       "    }\n",
       "    function toolbar_mouse_event(event) {\n",
       "        return fig.toolbar_button_onmouseover(event['data']);\n",
       "    }\n",
       "\n",
       "    for(var toolbar_ind in mpl.toolbar_items){\n",
       "        var name = mpl.toolbar_items[toolbar_ind][0];\n",
       "        var tooltip = mpl.toolbar_items[toolbar_ind][1];\n",
       "        var image = mpl.toolbar_items[toolbar_ind][2];\n",
       "        var method_name = mpl.toolbar_items[toolbar_ind][3];\n",
       "\n",
       "        if (!name) { continue; };\n",
       "\n",
       "        var button = $('<button class=\"btn btn-default\" href=\"#\" title=\"' + name + '\"><i class=\"fa ' + image + ' fa-lg\"></i></button>');\n",
       "        button.click(method_name, toolbar_event);\n",
       "        button.mouseover(tooltip, toolbar_mouse_event);\n",
       "        nav_element.append(button);\n",
       "    }\n",
       "\n",
       "    // Add the status bar.\n",
       "    var status_bar = $('<span class=\"mpl-message\" style=\"text-align:right; float: right;\"/>');\n",
       "    nav_element.append(status_bar);\n",
       "    this.message = status_bar[0];\n",
       "\n",
       "    // Add the close button to the window.\n",
       "    var buttongrp = $('<div class=\"btn-group inline pull-right\"></div>');\n",
       "    var button = $('<button class=\"btn btn-mini btn-primary\" href=\"#\" title=\"Stop Interaction\"><i class=\"fa fa-power-off icon-remove icon-large\"></i></button>');\n",
       "    button.click(function (evt) { fig.handle_close(fig, {}); } );\n",
       "    button.mouseover('Stop Interaction', toolbar_mouse_event);\n",
       "    buttongrp.append(button);\n",
       "    var titlebar = this.root.find($('.ui-dialog-titlebar'));\n",
       "    titlebar.prepend(buttongrp);\n",
       "}\n",
       "\n",
       "mpl.figure.prototype._root_extra_style = function(el){\n",
       "    var fig = this\n",
       "    el.on(\"remove\", function(){\n",
       "\tfig.close_ws(fig, {});\n",
       "    });\n",
       "}\n",
       "\n",
       "mpl.figure.prototype._canvas_extra_style = function(el){\n",
       "    // this is important to make the div 'focusable\n",
       "    el.attr('tabindex', 0)\n",
       "    // reach out to IPython and tell the keyboard manager to turn it's self\n",
       "    // off when our div gets focus\n",
       "\n",
       "    // location in version 3\n",
       "    if (IPython.notebook.keyboard_manager) {\n",
       "        IPython.notebook.keyboard_manager.register_events(el);\n",
       "    }\n",
       "    else {\n",
       "        // location in version 2\n",
       "        IPython.keyboard_manager.register_events(el);\n",
       "    }\n",
       "\n",
       "}\n",
       "\n",
       "mpl.figure.prototype._key_event_extra = function(event, name) {\n",
       "    var manager = IPython.notebook.keyboard_manager;\n",
       "    if (!manager)\n",
       "        manager = IPython.keyboard_manager;\n",
       "\n",
       "    // Check for shift+enter\n",
       "    if (event.shiftKey && event.which == 13) {\n",
       "        this.canvas_div.blur();\n",
       "        // select the cell after this one\n",
       "        var index = IPython.notebook.find_cell_index(this.cell_info[0]);\n",
       "        IPython.notebook.select(index + 1);\n",
       "    }\n",
       "}\n",
       "\n",
       "mpl.figure.prototype.handle_save = function(fig, msg) {\n",
       "    fig.ondownload(fig, null);\n",
       "}\n",
       "\n",
       "\n",
       "mpl.find_output_cell = function(html_output) {\n",
       "    // Return the cell and output element which can be found *uniquely* in the notebook.\n",
       "    // Note - this is a bit hacky, but it is done because the \"notebook_saving.Notebook\"\n",
       "    // IPython event is triggered only after the cells have been serialised, which for\n",
       "    // our purposes (turning an active figure into a static one), is too late.\n",
       "    var cells = IPython.notebook.get_cells();\n",
       "    var ncells = cells.length;\n",
       "    for (var i=0; i<ncells; i++) {\n",
       "        var cell = cells[i];\n",
       "        if (cell.cell_type === 'code'){\n",
       "            for (var j=0; j<cell.output_area.outputs.length; j++) {\n",
       "                var data = cell.output_area.outputs[j];\n",
       "                if (data.data) {\n",
       "                    // IPython >= 3 moved mimebundle to data attribute of output\n",
       "                    data = data.data;\n",
       "                }\n",
       "                if (data['text/html'] == html_output) {\n",
       "                    return [cell, data, j];\n",
       "                }\n",
       "            }\n",
       "        }\n",
       "    }\n",
       "}\n",
       "\n",
       "// Register the function which deals with the matplotlib target/channel.\n",
       "// The kernel may be null if the page has been refreshed.\n",
       "if (IPython.notebook.kernel != null) {\n",
       "    IPython.notebook.kernel.comm_manager.register_target('matplotlib', mpl.mpl_figure_comm);\n",
       "}\n"
      ],
      "text/plain": [
       "<IPython.core.display.Javascript object>"
      ]
     },
     "metadata": {},
     "output_type": "display_data"
    },
    {
     "data": {
      "text/html": [
       "<img src=\"data:image/png;base64,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\" width=\"900\">"
      ],
      "text/plain": [
       "<IPython.core.display.HTML object>"
      ]
     },
     "metadata": {},
     "output_type": "display_data"
    },
    {
     "data": {
      "application/vnd.jupyter.widget-view+json": {
       "model_id": "2c6600e592654670bad2baf5dfcfb7a3",
       "version_major": 2,
       "version_minor": 0
      },
      "text/plain": [
       "interactive(children=(IntSlider(value=1, description='n', max=64, min=1), Output()), _dom_classes=('widget-int…"
      ]
     },
     "metadata": {},
     "output_type": "display_data"
    }
   ],
   "source": [
    "fig, ax = plt.subplots(1,1)\n",
    "fig.set_size_inches(9, 6)\n",
    "\n",
    "def operation(rv, n):\n",
    "    return numpy.sum(rv, axis=1)/numpy.sqrt(n)\n",
    "\n",
    "@interact(n=(1, 64, 1))\n",
    "def central_limit_widget(n=1, ):\n",
    "    number_samples = 10_000\n",
    "    x = numpy.linspace(-3, 3, 1001)\n",
    "    rv = 1*(stats.uniform.rvs(size=(int(number_samples),n))-0.5)\n",
    "    rv = operation(rv, n)\n",
    "    ax.cla()\n",
    "    _ = plt.hist(rv, 50, density=True, facecolor='b', alpha=0.3, label='Raw Data')\n",
    "    ax.set_xlim((min(x), max(x)))\n",
    "    ax.set_ylim((0, 1.5))\n",
    "    fig.suptitle(f'Central Limit Theorem\\nUniform, Degree: {n}')\n",
    "    ax.set_xlabel('Value')\n",
    "    # Fit Uniform\n",
    "    loc, scale = stats.uniform.fit(rv)\n",
    "    p_x_uniform = stats.uniform.pdf(x, loc=loc, scale=scale)\n",
    "    ax.plot(x, p_x_uniform, '--k', label=f'Uniform(loc={loc:.2f}, scale={scale:.2f})')\n",
    "    # Fit Gaussian\n",
    "    mu, sigma = stats.norm.fit(rv)\n",
    "    p_x_uniform = stats.norm.pdf(x, loc=mu, scale=sigma)\n",
    "    ax.plot(x, p_x_uniform, '--g', label=f'Gaussian({mu:.2f}, {sigma:.2f})')\n",
    "    ax.legend()"
   ]
  },
  {
   "cell_type": "markdown",
   "metadata": {
    "slideshow": {
     "slide_type": "subslide"
    }
   },
   "source": [
    "### Operations on Random Variables\n",
    "\n"
   ]
  },
  {
   "cell_type": "code",
   "execution_count": null,
   "metadata": {},
   "outputs": [],
   "source": []
  },
  {
   "cell_type": "code",
   "execution_count": null,
   "metadata": {},
   "outputs": [],
   "source": []
  },
  {
   "cell_type": "code",
   "execution_count": null,
   "metadata": {},
   "outputs": [],
   "source": []
  },
  {
   "cell_type": "markdown",
   "metadata": {
    "cell_style": "split",
    "slideshow": {
     "slide_type": "slide"
    }
   },
   "source": [
    "    \n",
    "## Basic Linear Algebra\n",
    "  + Vector Operations\n",
    "    + Addition\n",
    "    + Scaler Multiplication\n",
    "    + Vector Dimension Span\n",
    "  + Vector Products\n",
    "    + Elementwise Product\n",
    "    + Outter Product\n",
    "    + Inner Product\n",
    "    "
   ]
  },
  {
   "cell_type": "markdown",
   "metadata": {
    "cell_style": "split",
    "slideshow": {
     "slide_type": "-"
    }
   },
   "source": [
    "+ Cauchy–Schwarz inequality\n",
    "+ Matched Filter\n",
    "+ Convolution\n",
    "+ Matrix Operations\n",
    "+ Correlation of random vectors\n",
    "+ Orthogonal + Normal = Orthonormal"
   ]
  },
  {
   "cell_type": "code",
   "execution_count": null,
   "metadata": {
    "slideshow": {
     "slide_type": "notes"
    }
   },
   "outputs": [],
   "source": []
  },
  {
   "cell_type": "markdown",
   "metadata": {
    "cell_style": "split",
    "slideshow": {
     "slide_type": "subslide"
    }
   },
   "source": [
    "## What is a Vector\n",
    "\n",
    "\n",
    "$$  \\vec{V} \\quad = \\quad [\\:v_1, \\:v_2, \\: _\\cdots, \\: v_n ] $$\n",
    "\n",
    "+ List of numbers with associated operations\n",
    "  + Direction and magnitude\n",
    "+ Often thought of as spacial\n",
    "  + Does not have to be ...\n",
    "+ Associated Operations\n",
    "  + More than \\( Add, Subtract, Multiply, Divide \\)\n"
   ]
  },
  {
   "cell_type": "markdown",
   "metadata": {
    "cell_style": "split",
    "slideshow": {
     "slide_type": "-"
    }
   },
   "source": [
    "\n",
    "\n",
    "\n",
    "\n",
    "<img src=\"vector.png?3\" width=\"75%\">"
   ]
  },
  {
   "cell_type": "markdown",
   "metadata": {
    "slideshow": {
     "slide_type": "subslide"
    }
   },
   "source": [
    "### Where to get a vector?\n",
    "\n",
    "##### Look in the Time Series\n",
    "Want a n-D vector of data, grab n-samples of a time series at time t.\n",
    "\n",
    "#####  Bored of that data\n",
    "Grab n-samples at t+1"
   ]
  },
  {
   "cell_type": "markdown",
   "metadata": {
    "cell_style": "split",
    "slideshow": {
     "slide_type": "subslide"
    }
   },
   "source": [
    "### Vector Addition\n",
    "\n",
    "$$ \\vec{U} = \\vec{V} + \\vec{W} $$\n",
    "\n",
    "$$ \\begin{matrix}\n",
    "\\; \\quad \\vec{V} \\quad = \\quad [\\:v_1, \\:v_2, \\: _\\cdots, \\: v_n ] \\\\\n",
    "+ \\quad \\vec{W} \\quad = \\quad [\\:w_1, \\:w_2, \\: _\\cdots, \\: w_n ] \\\\ \\hline\n",
    "\\quad \\vec{U} \\quad = \\quad [\\:u_1, \\:u_2, \\: _\\cdots, \\: u_n ]\n",
    "\\end{matrix}\n",
    "$$\n",
    "\n",
    "$$\n",
    "u_1=v_1+w_1 \\: , \\: u_2=v_2+w_2 \\: , \\: _\\cdots \\: , \\: u_n=v_n+w_n \n",
    "$$\n",
    "\n",
    "+ Dimentions of each vector?"
   ]
  },
  {
   "cell_type": "markdown",
   "metadata": {
    "cell_style": "split",
    "slideshow": {
     "slide_type": "-"
    }
   },
   "source": [
    "\n",
    "\n",
    "<img src=\"vector_addition.png?1\" width=\"85%\">"
   ]
  },
  {
   "cell_type": "code",
   "execution_count": 73,
   "metadata": {
    "slideshow": {
     "slide_type": "subslide"
    }
   },
   "outputs": [
    {
     "data": {
      "application/javascript": [
       "/* Put everything inside the global mpl namespace */\n",
       "window.mpl = {};\n",
       "\n",
       "\n",
       "mpl.get_websocket_type = function() {\n",
       "    if (typeof(WebSocket) !== 'undefined') {\n",
       "        return WebSocket;\n",
       "    } else if (typeof(MozWebSocket) !== 'undefined') {\n",
       "        return MozWebSocket;\n",
       "    } else {\n",
       "        alert('Your browser does not have WebSocket support. ' +\n",
       "              'Please try Chrome, Safari or Firefox ≥ 6. ' +\n",
       "              'Firefox 4 and 5 are also supported but you ' +\n",
       "              'have to enable WebSockets in about:config.');\n",
       "    };\n",
       "}\n",
       "\n",
       "mpl.figure = function(figure_id, websocket, ondownload, parent_element) {\n",
       "    this.id = figure_id;\n",
       "\n",
       "    this.ws = websocket;\n",
       "\n",
       "    this.supports_binary = (this.ws.binaryType != undefined);\n",
       "\n",
       "    if (!this.supports_binary) {\n",
       "        var warnings = document.getElementById(\"mpl-warnings\");\n",
       "        if (warnings) {\n",
       "            warnings.style.display = 'block';\n",
       "            warnings.textContent = (\n",
       "                \"This browser does not support binary websocket messages. \" +\n",
       "                    \"Performance may be slow.\");\n",
       "        }\n",
       "    }\n",
       "\n",
       "    this.imageObj = new Image();\n",
       "\n",
       "    this.context = undefined;\n",
       "    this.message = undefined;\n",
       "    this.canvas = undefined;\n",
       "    this.rubberband_canvas = undefined;\n",
       "    this.rubberband_context = undefined;\n",
       "    this.format_dropdown = undefined;\n",
       "\n",
       "    this.image_mode = 'full';\n",
       "\n",
       "    this.root = $('<div/>');\n",
       "    this._root_extra_style(this.root)\n",
       "    this.root.attr('style', 'display: inline-block');\n",
       "\n",
       "    $(parent_element).append(this.root);\n",
       "\n",
       "    this._init_header(this);\n",
       "    this._init_canvas(this);\n",
       "    this._init_toolbar(this);\n",
       "\n",
       "    var fig = this;\n",
       "\n",
       "    this.waiting = false;\n",
       "\n",
       "    this.ws.onopen =  function () {\n",
       "            fig.send_message(\"supports_binary\", {value: fig.supports_binary});\n",
       "            fig.send_message(\"send_image_mode\", {});\n",
       "            if (mpl.ratio != 1) {\n",
       "                fig.send_message(\"set_dpi_ratio\", {'dpi_ratio': mpl.ratio});\n",
       "            }\n",
       "            fig.send_message(\"refresh\", {});\n",
       "        }\n",
       "\n",
       "    this.imageObj.onload = function() {\n",
       "            if (fig.image_mode == 'full') {\n",
       "                // Full images could contain transparency (where diff images\n",
       "                // almost always do), so we need to clear the canvas so that\n",
       "                // there is no ghosting.\n",
       "                fig.context.clearRect(0, 0, fig.canvas.width, fig.canvas.height);\n",
       "            }\n",
       "            fig.context.drawImage(fig.imageObj, 0, 0);\n",
       "        };\n",
       "\n",
       "    this.imageObj.onunload = function() {\n",
       "        fig.ws.close();\n",
       "    }\n",
       "\n",
       "    this.ws.onmessage = this._make_on_message_function(this);\n",
       "\n",
       "    this.ondownload = ondownload;\n",
       "}\n",
       "\n",
       "mpl.figure.prototype._init_header = function() {\n",
       "    var titlebar = $(\n",
       "        '<div class=\"ui-dialog-titlebar ui-widget-header ui-corner-all ' +\n",
       "        'ui-helper-clearfix\"/>');\n",
       "    var titletext = $(\n",
       "        '<div class=\"ui-dialog-title\" style=\"width: 100%; ' +\n",
       "        'text-align: center; padding: 3px;\"/>');\n",
       "    titlebar.append(titletext)\n",
       "    this.root.append(titlebar);\n",
       "    this.header = titletext[0];\n",
       "}\n",
       "\n",
       "\n",
       "\n",
       "mpl.figure.prototype._canvas_extra_style = function(canvas_div) {\n",
       "\n",
       "}\n",
       "\n",
       "\n",
       "mpl.figure.prototype._root_extra_style = function(canvas_div) {\n",
       "\n",
       "}\n",
       "\n",
       "mpl.figure.prototype._init_canvas = function() {\n",
       "    var fig = this;\n",
       "\n",
       "    var canvas_div = $('<div/>');\n",
       "\n",
       "    canvas_div.attr('style', 'position: relative; clear: both; outline: 0');\n",
       "\n",
       "    function canvas_keyboard_event(event) {\n",
       "        return fig.key_event(event, event['data']);\n",
       "    }\n",
       "\n",
       "    canvas_div.keydown('key_press', canvas_keyboard_event);\n",
       "    canvas_div.keyup('key_release', canvas_keyboard_event);\n",
       "    this.canvas_div = canvas_div\n",
       "    this._canvas_extra_style(canvas_div)\n",
       "    this.root.append(canvas_div);\n",
       "\n",
       "    var canvas = $('<canvas/>');\n",
       "    canvas.addClass('mpl-canvas');\n",
       "    canvas.attr('style', \"left: 0; top: 0; z-index: 0; outline: 0\")\n",
       "\n",
       "    this.canvas = canvas[0];\n",
       "    this.context = canvas[0].getContext(\"2d\");\n",
       "\n",
       "    var backingStore = this.context.backingStorePixelRatio ||\n",
       "\tthis.context.webkitBackingStorePixelRatio ||\n",
       "\tthis.context.mozBackingStorePixelRatio ||\n",
       "\tthis.context.msBackingStorePixelRatio ||\n",
       "\tthis.context.oBackingStorePixelRatio ||\n",
       "\tthis.context.backingStorePixelRatio || 1;\n",
       "\n",
       "    mpl.ratio = (window.devicePixelRatio || 1) / backingStore;\n",
       "\n",
       "    var rubberband = $('<canvas/>');\n",
       "    rubberband.attr('style', \"position: absolute; left: 0; top: 0; z-index: 1;\")\n",
       "\n",
       "    var pass_mouse_events = true;\n",
       "\n",
       "    canvas_div.resizable({\n",
       "        start: function(event, ui) {\n",
       "            pass_mouse_events = false;\n",
       "        },\n",
       "        resize: function(event, ui) {\n",
       "            fig.request_resize(ui.size.width, ui.size.height);\n",
       "        },\n",
       "        stop: function(event, ui) {\n",
       "            pass_mouse_events = true;\n",
       "            fig.request_resize(ui.size.width, ui.size.height);\n",
       "        },\n",
       "    });\n",
       "\n",
       "    function mouse_event_fn(event) {\n",
       "        if (pass_mouse_events)\n",
       "            return fig.mouse_event(event, event['data']);\n",
       "    }\n",
       "\n",
       "    rubberband.mousedown('button_press', mouse_event_fn);\n",
       "    rubberband.mouseup('button_release', mouse_event_fn);\n",
       "    // Throttle sequential mouse events to 1 every 20ms.\n",
       "    rubberband.mousemove('motion_notify', mouse_event_fn);\n",
       "\n",
       "    rubberband.mouseenter('figure_enter', mouse_event_fn);\n",
       "    rubberband.mouseleave('figure_leave', mouse_event_fn);\n",
       "\n",
       "    canvas_div.on(\"wheel\", function (event) {\n",
       "        event = event.originalEvent;\n",
       "        event['data'] = 'scroll'\n",
       "        if (event.deltaY < 0) {\n",
       "            event.step = 1;\n",
       "        } else {\n",
       "            event.step = -1;\n",
       "        }\n",
       "        mouse_event_fn(event);\n",
       "    });\n",
       "\n",
       "    canvas_div.append(canvas);\n",
       "    canvas_div.append(rubberband);\n",
       "\n",
       "    this.rubberband = rubberband;\n",
       "    this.rubberband_canvas = rubberband[0];\n",
       "    this.rubberband_context = rubberband[0].getContext(\"2d\");\n",
       "    this.rubberband_context.strokeStyle = \"#000000\";\n",
       "\n",
       "    this._resize_canvas = function(width, height) {\n",
       "        // Keep the size of the canvas, canvas container, and rubber band\n",
       "        // canvas in synch.\n",
       "        canvas_div.css('width', width)\n",
       "        canvas_div.css('height', height)\n",
       "\n",
       "        canvas.attr('width', width * mpl.ratio);\n",
       "        canvas.attr('height', height * mpl.ratio);\n",
       "        canvas.attr('style', 'width: ' + width + 'px; height: ' + height + 'px;');\n",
       "\n",
       "        rubberband.attr('width', width);\n",
       "        rubberband.attr('height', height);\n",
       "    }\n",
       "\n",
       "    // Set the figure to an initial 600x600px, this will subsequently be updated\n",
       "    // upon first draw.\n",
       "    this._resize_canvas(600, 600);\n",
       "\n",
       "    // Disable right mouse context menu.\n",
       "    $(this.rubberband_canvas).bind(\"contextmenu\",function(e){\n",
       "        return false;\n",
       "    });\n",
       "\n",
       "    function set_focus () {\n",
       "        canvas.focus();\n",
       "        canvas_div.focus();\n",
       "    }\n",
       "\n",
       "    window.setTimeout(set_focus, 100);\n",
       "}\n",
       "\n",
       "mpl.figure.prototype._init_toolbar = function() {\n",
       "    var fig = this;\n",
       "\n",
       "    var nav_element = $('<div/>');\n",
       "    nav_element.attr('style', 'width: 100%');\n",
       "    this.root.append(nav_element);\n",
       "\n",
       "    // Define a callback function for later on.\n",
       "    function toolbar_event(event) {\n",
       "        return fig.toolbar_button_onclick(event['data']);\n",
       "    }\n",
       "    function toolbar_mouse_event(event) {\n",
       "        return fig.toolbar_button_onmouseover(event['data']);\n",
       "    }\n",
       "\n",
       "    for(var toolbar_ind in mpl.toolbar_items) {\n",
       "        var name = mpl.toolbar_items[toolbar_ind][0];\n",
       "        var tooltip = mpl.toolbar_items[toolbar_ind][1];\n",
       "        var image = mpl.toolbar_items[toolbar_ind][2];\n",
       "        var method_name = mpl.toolbar_items[toolbar_ind][3];\n",
       "\n",
       "        if (!name) {\n",
       "            // put a spacer in here.\n",
       "            continue;\n",
       "        }\n",
       "        var button = $('<button/>');\n",
       "        button.addClass('ui-button ui-widget ui-state-default ui-corner-all ' +\n",
       "                        'ui-button-icon-only');\n",
       "        button.attr('role', 'button');\n",
       "        button.attr('aria-disabled', 'false');\n",
       "        button.click(method_name, toolbar_event);\n",
       "        button.mouseover(tooltip, toolbar_mouse_event);\n",
       "\n",
       "        var icon_img = $('<span/>');\n",
       "        icon_img.addClass('ui-button-icon-primary ui-icon');\n",
       "        icon_img.addClass(image);\n",
       "        icon_img.addClass('ui-corner-all');\n",
       "\n",
       "        var tooltip_span = $('<span/>');\n",
       "        tooltip_span.addClass('ui-button-text');\n",
       "        tooltip_span.html(tooltip);\n",
       "\n",
       "        button.append(icon_img);\n",
       "        button.append(tooltip_span);\n",
       "\n",
       "        nav_element.append(button);\n",
       "    }\n",
       "\n",
       "    var fmt_picker_span = $('<span/>');\n",
       "\n",
       "    var fmt_picker = $('<select/>');\n",
       "    fmt_picker.addClass('mpl-toolbar-option ui-widget ui-widget-content');\n",
       "    fmt_picker_span.append(fmt_picker);\n",
       "    nav_element.append(fmt_picker_span);\n",
       "    this.format_dropdown = fmt_picker[0];\n",
       "\n",
       "    for (var ind in mpl.extensions) {\n",
       "        var fmt = mpl.extensions[ind];\n",
       "        var option = $(\n",
       "            '<option/>', {selected: fmt === mpl.default_extension}).html(fmt);\n",
       "        fmt_picker.append(option);\n",
       "    }\n",
       "\n",
       "    // Add hover states to the ui-buttons\n",
       "    $( \".ui-button\" ).hover(\n",
       "        function() { $(this).addClass(\"ui-state-hover\");},\n",
       "        function() { $(this).removeClass(\"ui-state-hover\");}\n",
       "    );\n",
       "\n",
       "    var status_bar = $('<span class=\"mpl-message\"/>');\n",
       "    nav_element.append(status_bar);\n",
       "    this.message = status_bar[0];\n",
       "}\n",
       "\n",
       "mpl.figure.prototype.request_resize = function(x_pixels, y_pixels) {\n",
       "    // Request matplotlib to resize the figure. Matplotlib will then trigger a resize in the client,\n",
       "    // which will in turn request a refresh of the image.\n",
       "    this.send_message('resize', {'width': x_pixels, 'height': y_pixels});\n",
       "}\n",
       "\n",
       "mpl.figure.prototype.send_message = function(type, properties) {\n",
       "    properties['type'] = type;\n",
       "    properties['figure_id'] = this.id;\n",
       "    this.ws.send(JSON.stringify(properties));\n",
       "}\n",
       "\n",
       "mpl.figure.prototype.send_draw_message = function() {\n",
       "    if (!this.waiting) {\n",
       "        this.waiting = true;\n",
       "        this.ws.send(JSON.stringify({type: \"draw\", figure_id: this.id}));\n",
       "    }\n",
       "}\n",
       "\n",
       "\n",
       "mpl.figure.prototype.handle_save = function(fig, msg) {\n",
       "    var format_dropdown = fig.format_dropdown;\n",
       "    var format = format_dropdown.options[format_dropdown.selectedIndex].value;\n",
       "    fig.ondownload(fig, format);\n",
       "}\n",
       "\n",
       "\n",
       "mpl.figure.prototype.handle_resize = function(fig, msg) {\n",
       "    var size = msg['size'];\n",
       "    if (size[0] != fig.canvas.width || size[1] != fig.canvas.height) {\n",
       "        fig._resize_canvas(size[0], size[1]);\n",
       "        fig.send_message(\"refresh\", {});\n",
       "    };\n",
       "}\n",
       "\n",
       "mpl.figure.prototype.handle_rubberband = function(fig, msg) {\n",
       "    var x0 = msg['x0'] / mpl.ratio;\n",
       "    var y0 = (fig.canvas.height - msg['y0']) / mpl.ratio;\n",
       "    var x1 = msg['x1'] / mpl.ratio;\n",
       "    var y1 = (fig.canvas.height - msg['y1']) / mpl.ratio;\n",
       "    x0 = Math.floor(x0) + 0.5;\n",
       "    y0 = Math.floor(y0) + 0.5;\n",
       "    x1 = Math.floor(x1) + 0.5;\n",
       "    y1 = Math.floor(y1) + 0.5;\n",
       "    var min_x = Math.min(x0, x1);\n",
       "    var min_y = Math.min(y0, y1);\n",
       "    var width = Math.abs(x1 - x0);\n",
       "    var height = Math.abs(y1 - y0);\n",
       "\n",
       "    fig.rubberband_context.clearRect(\n",
       "        0, 0, fig.canvas.width / mpl.ratio, fig.canvas.height / mpl.ratio);\n",
       "\n",
       "    fig.rubberband_context.strokeRect(min_x, min_y, width, height);\n",
       "}\n",
       "\n",
       "mpl.figure.prototype.handle_figure_label = function(fig, msg) {\n",
       "    // Updates the figure title.\n",
       "    fig.header.textContent = msg['label'];\n",
       "}\n",
       "\n",
       "mpl.figure.prototype.handle_cursor = function(fig, msg) {\n",
       "    var cursor = msg['cursor'];\n",
       "    switch(cursor)\n",
       "    {\n",
       "    case 0:\n",
       "        cursor = 'pointer';\n",
       "        break;\n",
       "    case 1:\n",
       "        cursor = 'default';\n",
       "        break;\n",
       "    case 2:\n",
       "        cursor = 'crosshair';\n",
       "        break;\n",
       "    case 3:\n",
       "        cursor = 'move';\n",
       "        break;\n",
       "    }\n",
       "    fig.rubberband_canvas.style.cursor = cursor;\n",
       "}\n",
       "\n",
       "mpl.figure.prototype.handle_message = function(fig, msg) {\n",
       "    fig.message.textContent = msg['message'];\n",
       "}\n",
       "\n",
       "mpl.figure.prototype.handle_draw = function(fig, msg) {\n",
       "    // Request the server to send over a new figure.\n",
       "    fig.send_draw_message();\n",
       "}\n",
       "\n",
       "mpl.figure.prototype.handle_image_mode = function(fig, msg) {\n",
       "    fig.image_mode = msg['mode'];\n",
       "}\n",
       "\n",
       "mpl.figure.prototype.updated_canvas_event = function() {\n",
       "    // Called whenever the canvas gets updated.\n",
       "    this.send_message(\"ack\", {});\n",
       "}\n",
       "\n",
       "// A function to construct a web socket function for onmessage handling.\n",
       "// Called in the figure constructor.\n",
       "mpl.figure.prototype._make_on_message_function = function(fig) {\n",
       "    return function socket_on_message(evt) {\n",
       "        if (evt.data instanceof Blob) {\n",
       "            /* FIXME: We get \"Resource interpreted as Image but\n",
       "             * transferred with MIME type text/plain:\" errors on\n",
       "             * Chrome.  But how to set the MIME type?  It doesn't seem\n",
       "             * to be part of the websocket stream */\n",
       "            evt.data.type = \"image/png\";\n",
       "\n",
       "            /* Free the memory for the previous frames */\n",
       "            if (fig.imageObj.src) {\n",
       "                (window.URL || window.webkitURL).revokeObjectURL(\n",
       "                    fig.imageObj.src);\n",
       "            }\n",
       "\n",
       "            fig.imageObj.src = (window.URL || window.webkitURL).createObjectURL(\n",
       "                evt.data);\n",
       "            fig.updated_canvas_event();\n",
       "            fig.waiting = false;\n",
       "            return;\n",
       "        }\n",
       "        else if (typeof evt.data === 'string' && evt.data.slice(0, 21) == \"data:image/png;base64\") {\n",
       "            fig.imageObj.src = evt.data;\n",
       "            fig.updated_canvas_event();\n",
       "            fig.waiting = false;\n",
       "            return;\n",
       "        }\n",
       "\n",
       "        var msg = JSON.parse(evt.data);\n",
       "        var msg_type = msg['type'];\n",
       "\n",
       "        // Call the  \"handle_{type}\" callback, which takes\n",
       "        // the figure and JSON message as its only arguments.\n",
       "        try {\n",
       "            var callback = fig[\"handle_\" + msg_type];\n",
       "        } catch (e) {\n",
       "            console.log(\"No handler for the '\" + msg_type + \"' message type: \", msg);\n",
       "            return;\n",
       "        }\n",
       "\n",
       "        if (callback) {\n",
       "            try {\n",
       "                // console.log(\"Handling '\" + msg_type + \"' message: \", msg);\n",
       "                callback(fig, msg);\n",
       "            } catch (e) {\n",
       "                console.log(\"Exception inside the 'handler_\" + msg_type + \"' callback:\", e, e.stack, msg);\n",
       "            }\n",
       "        }\n",
       "    };\n",
       "}\n",
       "\n",
       "// from http://stackoverflow.com/questions/1114465/getting-mouse-location-in-canvas\n",
       "mpl.findpos = function(e) {\n",
       "    //this section is from http://www.quirksmode.org/js/events_properties.html\n",
       "    var targ;\n",
       "    if (!e)\n",
       "        e = window.event;\n",
       "    if (e.target)\n",
       "        targ = e.target;\n",
       "    else if (e.srcElement)\n",
       "        targ = e.srcElement;\n",
       "    if (targ.nodeType == 3) // defeat Safari bug\n",
       "        targ = targ.parentNode;\n",
       "\n",
       "    // jQuery normalizes the pageX and pageY\n",
       "    // pageX,Y are the mouse positions relative to the document\n",
       "    // offset() returns the position of the element relative to the document\n",
       "    var x = e.pageX - $(targ).offset().left;\n",
       "    var y = e.pageY - $(targ).offset().top;\n",
       "\n",
       "    return {\"x\": x, \"y\": y};\n",
       "};\n",
       "\n",
       "/*\n",
       " * return a copy of an object with only non-object keys\n",
       " * we need this to avoid circular references\n",
       " * http://stackoverflow.com/a/24161582/3208463\n",
       " */\n",
       "function simpleKeys (original) {\n",
       "  return Object.keys(original).reduce(function (obj, key) {\n",
       "    if (typeof original[key] !== 'object')\n",
       "        obj[key] = original[key]\n",
       "    return obj;\n",
       "  }, {});\n",
       "}\n",
       "\n",
       "mpl.figure.prototype.mouse_event = function(event, name) {\n",
       "    var canvas_pos = mpl.findpos(event)\n",
       "\n",
       "    if (name === 'button_press')\n",
       "    {\n",
       "        this.canvas.focus();\n",
       "        this.canvas_div.focus();\n",
       "    }\n",
       "\n",
       "    var x = canvas_pos.x * mpl.ratio;\n",
       "    var y = canvas_pos.y * mpl.ratio;\n",
       "\n",
       "    this.send_message(name, {x: x, y: y, button: event.button,\n",
       "                             step: event.step,\n",
       "                             guiEvent: simpleKeys(event)});\n",
       "\n",
       "    /* This prevents the web browser from automatically changing to\n",
       "     * the text insertion cursor when the button is pressed.  We want\n",
       "     * to control all of the cursor setting manually through the\n",
       "     * 'cursor' event from matplotlib */\n",
       "    event.preventDefault();\n",
       "    return false;\n",
       "}\n",
       "\n",
       "mpl.figure.prototype._key_event_extra = function(event, name) {\n",
       "    // Handle any extra behaviour associated with a key event\n",
       "}\n",
       "\n",
       "mpl.figure.prototype.key_event = function(event, name) {\n",
       "\n",
       "    // Prevent repeat events\n",
       "    if (name == 'key_press')\n",
       "    {\n",
       "        if (event.which === this._key)\n",
       "            return;\n",
       "        else\n",
       "            this._key = event.which;\n",
       "    }\n",
       "    if (name == 'key_release')\n",
       "        this._key = null;\n",
       "\n",
       "    var value = '';\n",
       "    if (event.ctrlKey && event.which != 17)\n",
       "        value += \"ctrl+\";\n",
       "    if (event.altKey && event.which != 18)\n",
       "        value += \"alt+\";\n",
       "    if (event.shiftKey && event.which != 16)\n",
       "        value += \"shift+\";\n",
       "\n",
       "    value += 'k';\n",
       "    value += event.which.toString();\n",
       "\n",
       "    this._key_event_extra(event, name);\n",
       "\n",
       "    this.send_message(name, {key: value,\n",
       "                             guiEvent: simpleKeys(event)});\n",
       "    return false;\n",
       "}\n",
       "\n",
       "mpl.figure.prototype.toolbar_button_onclick = function(name) {\n",
       "    if (name == 'download') {\n",
       "        this.handle_save(this, null);\n",
       "    } else {\n",
       "        this.send_message(\"toolbar_button\", {name: name});\n",
       "    }\n",
       "};\n",
       "\n",
       "mpl.figure.prototype.toolbar_button_onmouseover = function(tooltip) {\n",
       "    this.message.textContent = tooltip;\n",
       "};\n",
       "mpl.toolbar_items = [[\"Home\", \"Reset original view\", \"fa fa-home icon-home\", \"home\"], [\"Back\", \"Back to previous view\", \"fa fa-arrow-left icon-arrow-left\", \"back\"], [\"Forward\", \"Forward to next view\", \"fa fa-arrow-right icon-arrow-right\", \"forward\"], [\"\", \"\", \"\", \"\"], [\"Pan\", \"Pan axes with left mouse, zoom with right\", \"fa fa-arrows icon-move\", \"pan\"], [\"Zoom\", \"Zoom to rectangle\", \"fa fa-square-o icon-check-empty\", \"zoom\"], [\"\", \"\", \"\", \"\"], [\"Download\", \"Download plot\", \"fa fa-floppy-o icon-save\", \"download\"]];\n",
       "\n",
       "mpl.extensions = [\"eps\", \"pdf\", \"png\", \"ps\", \"raw\", \"svg\"];\n",
       "\n",
       "mpl.default_extension = \"png\";var comm_websocket_adapter = function(comm) {\n",
       "    // Create a \"websocket\"-like object which calls the given IPython comm\n",
       "    // object with the appropriate methods. Currently this is a non binary\n",
       "    // socket, so there is still some room for performance tuning.\n",
       "    var ws = {};\n",
       "\n",
       "    ws.close = function() {\n",
       "        comm.close()\n",
       "    };\n",
       "    ws.send = function(m) {\n",
       "        //console.log('sending', m);\n",
       "        comm.send(m);\n",
       "    };\n",
       "    // Register the callback with on_msg.\n",
       "    comm.on_msg(function(msg) {\n",
       "        //console.log('receiving', msg['content']['data'], msg);\n",
       "        // Pass the mpl event to the overridden (by mpl) onmessage function.\n",
       "        ws.onmessage(msg['content']['data'])\n",
       "    });\n",
       "    return ws;\n",
       "}\n",
       "\n",
       "mpl.mpl_figure_comm = function(comm, msg) {\n",
       "    // This is the function which gets called when the mpl process\n",
       "    // starts-up an IPython Comm through the \"matplotlib\" channel.\n",
       "\n",
       "    var id = msg.content.data.id;\n",
       "    // Get hold of the div created by the display call when the Comm\n",
       "    // socket was opened in Python.\n",
       "    var element = $(\"#\" + id);\n",
       "    var ws_proxy = comm_websocket_adapter(comm)\n",
       "\n",
       "    function ondownload(figure, format) {\n",
       "        window.open(figure.imageObj.src);\n",
       "    }\n",
       "\n",
       "    var fig = new mpl.figure(id, ws_proxy,\n",
       "                           ondownload,\n",
       "                           element.get(0));\n",
       "\n",
       "    // Call onopen now - mpl needs it, as it is assuming we've passed it a real\n",
       "    // web socket which is closed, not our websocket->open comm proxy.\n",
       "    ws_proxy.onopen();\n",
       "\n",
       "    fig.parent_element = element.get(0);\n",
       "    fig.cell_info = mpl.find_output_cell(\"<div id='\" + id + \"'></div>\");\n",
       "    if (!fig.cell_info) {\n",
       "        console.error(\"Failed to find cell for figure\", id, fig);\n",
       "        return;\n",
       "    }\n",
       "\n",
       "    var output_index = fig.cell_info[2]\n",
       "    var cell = fig.cell_info[0];\n",
       "\n",
       "};\n",
       "\n",
       "mpl.figure.prototype.handle_close = function(fig, msg) {\n",
       "    var width = fig.canvas.width/mpl.ratio\n",
       "    fig.root.unbind('remove')\n",
       "\n",
       "    // Update the output cell to use the data from the current canvas.\n",
       "    fig.push_to_output();\n",
       "    var dataURL = fig.canvas.toDataURL();\n",
       "    // Re-enable the keyboard manager in IPython - without this line, in FF,\n",
       "    // the notebook keyboard shortcuts fail.\n",
       "    IPython.keyboard_manager.enable()\n",
       "    $(fig.parent_element).html('<img src=\"' + dataURL + '\" width=\"' + width + '\">');\n",
       "    fig.close_ws(fig, msg);\n",
       "}\n",
       "\n",
       "mpl.figure.prototype.close_ws = function(fig, msg){\n",
       "    fig.send_message('closing', msg);\n",
       "    // fig.ws.close()\n",
       "}\n",
       "\n",
       "mpl.figure.prototype.push_to_output = function(remove_interactive) {\n",
       "    // Turn the data on the canvas into data in the output cell.\n",
       "    var width = this.canvas.width/mpl.ratio\n",
       "    var dataURL = this.canvas.toDataURL();\n",
       "    this.cell_info[1]['text/html'] = '<img src=\"' + dataURL + '\" width=\"' + width + '\">';\n",
       "}\n",
       "\n",
       "mpl.figure.prototype.updated_canvas_event = function() {\n",
       "    // Tell IPython that the notebook contents must change.\n",
       "    IPython.notebook.set_dirty(true);\n",
       "    this.send_message(\"ack\", {});\n",
       "    var fig = this;\n",
       "    // Wait a second, then push the new image to the DOM so\n",
       "    // that it is saved nicely (might be nice to debounce this).\n",
       "    setTimeout(function () { fig.push_to_output() }, 1000);\n",
       "}\n",
       "\n",
       "mpl.figure.prototype._init_toolbar = function() {\n",
       "    var fig = this;\n",
       "\n",
       "    var nav_element = $('<div/>');\n",
       "    nav_element.attr('style', 'width: 100%');\n",
       "    this.root.append(nav_element);\n",
       "\n",
       "    // Define a callback function for later on.\n",
       "    function toolbar_event(event) {\n",
       "        return fig.toolbar_button_onclick(event['data']);\n",
       "    }\n",
       "    function toolbar_mouse_event(event) {\n",
       "        return fig.toolbar_button_onmouseover(event['data']);\n",
       "    }\n",
       "\n",
       "    for(var toolbar_ind in mpl.toolbar_items){\n",
       "        var name = mpl.toolbar_items[toolbar_ind][0];\n",
       "        var tooltip = mpl.toolbar_items[toolbar_ind][1];\n",
       "        var image = mpl.toolbar_items[toolbar_ind][2];\n",
       "        var method_name = mpl.toolbar_items[toolbar_ind][3];\n",
       "\n",
       "        if (!name) { continue; };\n",
       "\n",
       "        var button = $('<button class=\"btn btn-default\" href=\"#\" title=\"' + name + '\"><i class=\"fa ' + image + ' fa-lg\"></i></button>');\n",
       "        button.click(method_name, toolbar_event);\n",
       "        button.mouseover(tooltip, toolbar_mouse_event);\n",
       "        nav_element.append(button);\n",
       "    }\n",
       "\n",
       "    // Add the status bar.\n",
       "    var status_bar = $('<span class=\"mpl-message\" style=\"text-align:right; float: right;\"/>');\n",
       "    nav_element.append(status_bar);\n",
       "    this.message = status_bar[0];\n",
       "\n",
       "    // Add the close button to the window.\n",
       "    var buttongrp = $('<div class=\"btn-group inline pull-right\"></div>');\n",
       "    var button = $('<button class=\"btn btn-mini btn-primary\" href=\"#\" title=\"Stop Interaction\"><i class=\"fa fa-power-off icon-remove icon-large\"></i></button>');\n",
       "    button.click(function (evt) { fig.handle_close(fig, {}); } );\n",
       "    button.mouseover('Stop Interaction', toolbar_mouse_event);\n",
       "    buttongrp.append(button);\n",
       "    var titlebar = this.root.find($('.ui-dialog-titlebar'));\n",
       "    titlebar.prepend(buttongrp);\n",
       "}\n",
       "\n",
       "mpl.figure.prototype._root_extra_style = function(el){\n",
       "    var fig = this\n",
       "    el.on(\"remove\", function(){\n",
       "\tfig.close_ws(fig, {});\n",
       "    });\n",
       "}\n",
       "\n",
       "mpl.figure.prototype._canvas_extra_style = function(el){\n",
       "    // this is important to make the div 'focusable\n",
       "    el.attr('tabindex', 0)\n",
       "    // reach out to IPython and tell the keyboard manager to turn it's self\n",
       "    // off when our div gets focus\n",
       "\n",
       "    // location in version 3\n",
       "    if (IPython.notebook.keyboard_manager) {\n",
       "        IPython.notebook.keyboard_manager.register_events(el);\n",
       "    }\n",
       "    else {\n",
       "        // location in version 2\n",
       "        IPython.keyboard_manager.register_events(el);\n",
       "    }\n",
       "\n",
       "}\n",
       "\n",
       "mpl.figure.prototype._key_event_extra = function(event, name) {\n",
       "    var manager = IPython.notebook.keyboard_manager;\n",
       "    if (!manager)\n",
       "        manager = IPython.keyboard_manager;\n",
       "\n",
       "    // Check for shift+enter\n",
       "    if (event.shiftKey && event.which == 13) {\n",
       "        this.canvas_div.blur();\n",
       "        // select the cell after this one\n",
       "        var index = IPython.notebook.find_cell_index(this.cell_info[0]);\n",
       "        IPython.notebook.select(index + 1);\n",
       "    }\n",
       "}\n",
       "\n",
       "mpl.figure.prototype.handle_save = function(fig, msg) {\n",
       "    fig.ondownload(fig, null);\n",
       "}\n",
       "\n",
       "\n",
       "mpl.find_output_cell = function(html_output) {\n",
       "    // Return the cell and output element which can be found *uniquely* in the notebook.\n",
       "    // Note - this is a bit hacky, but it is done because the \"notebook_saving.Notebook\"\n",
       "    // IPython event is triggered only after the cells have been serialised, which for\n",
       "    // our purposes (turning an active figure into a static one), is too late.\n",
       "    var cells = IPython.notebook.get_cells();\n",
       "    var ncells = cells.length;\n",
       "    for (var i=0; i<ncells; i++) {\n",
       "        var cell = cells[i];\n",
       "        if (cell.cell_type === 'code'){\n",
       "            for (var j=0; j<cell.output_area.outputs.length; j++) {\n",
       "                var data = cell.output_area.outputs[j];\n",
       "                if (data.data) {\n",
       "                    // IPython >= 3 moved mimebundle to data attribute of output\n",
       "                    data = data.data;\n",
       "                }\n",
       "                if (data['text/html'] == html_output) {\n",
       "                    return [cell, data, j];\n",
       "                }\n",
       "            }\n",
       "        }\n",
       "    }\n",
       "}\n",
       "\n",
       "// Register the function which deals with the matplotlib target/channel.\n",
       "// The kernel may be null if the page has been refreshed.\n",
       "if (IPython.notebook.kernel != null) {\n",
       "    IPython.notebook.kernel.comm_manager.register_target('matplotlib', mpl.mpl_figure_comm);\n",
       "}\n"
      ],
      "text/plain": [
       "<IPython.core.display.Javascript object>"
      ]
     },
     "metadata": {},
     "output_type": "display_data"
    },
    {
     "data": {
      "text/html": [
       "<img src=\"data:image/png;base64,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\" width=\"720\">"
      ],
      "text/plain": [
       "<IPython.core.display.HTML object>"
      ]
     },
     "metadata": {},
     "output_type": "display_data"
    },
    {
     "data": {
      "application/vnd.jupyter.widget-view+json": {
       "model_id": "e0482b7ed0c846099386a61932fa2649",
       "version_major": 2,
       "version_minor": 0
      },
      "text/plain": [
       "interactive(children=(FloatSlider(value=1.0, description='v1', max=5.0, min=-5.0), FloatSlider(value=2.0, desc…"
      ]
     },
     "metadata": {},
     "output_type": "display_data"
    }
   ],
   "source": [
    "fig, ax = plt.subplots()\n",
    "\n",
    "\n",
    "@interact(v1=(-5,5,0.1), v2=(-5,5,0.1), w1=(-5,5,0.1), w2=(-5,5,0.1))\n",
    "def update(v1=1, v2=2, w1=2, w2=0.5):\n",
    "    ax.cla()\n",
    "    u1, u2 = v1+w1, v2+w2\n",
    "    ax.arrow(0, 0, v1*0.9, v2*0.9, head_width=0.25, head_length=0.25, fc='g', ec='g')\n",
    "    ax.arrow(v1, v2, w1*0.9, w2*0.9, head_width=0.25, head_length=0.25, fc='b', ec='b')\n",
    "    ax.arrow(0, 0, u1*0.9, u2*0.9, head_width=0.25, head_length=0.25, fc='k', ec='k')\n",
    "    fig.canvas.draw_idle()\n",
    "    plt.xlim(-5, 5)\n",
    "    plt.ylim(-5, 5)\n",
    "    plt.xlabel('$X_1$')\n",
    "    plt.ylabel('$X_2$')\n",
    "    plt.title('2D Vector')\n",
    "    plt.grid(True)\n",
    "    fig.tight_layout()"
   ]
  },
  {
   "cell_type": "markdown",
   "metadata": {
    "cell_style": "split",
    "slideshow": {
     "slide_type": "subslide"
    }
   },
   "source": [
    "### Scalar Vector Multiplication\n",
    "\n",
    "$$  \\alpha \\vec{V} \\quad = \\quad [\\:\\alpha\\:  v_1, \\:\\alpha\\: v_2, \\: _\\cdots, \\: \\alpha\\: v_n ] $$\n",
    "\n",
    "\n",
    "+ Changes Magnitude\n",
    "+ Does not change direction\n",
    "  + Can flip if $\\alpha$ is negative"
   ]
  },
  {
   "cell_type": "markdown",
   "metadata": {
    "cell_style": "split",
    "slideshow": {
     "slide_type": "-"
    }
   },
   "source": [
    "<img src=\"vector_span.png\" width=\"75%\">"
   ]
  },
  {
   "cell_type": "markdown",
   "metadata": {
    "slideshow": {
     "slide_type": "notes"
    }
   },
   "source": []
  },
  {
   "cell_type": "markdown",
   "metadata": {
    "cell_style": "split",
    "slideshow": {
     "slide_type": "subslide"
    }
   },
   "source": [
    "### Dimension and Span\n",
    "\n",
    "+ How many dimentions does a vector occupy?\n",
    "\n",
    "+ How much of that space can that vector reach?\n",
    "\n",
    "+ What is the Volume?"
   ]
  },
  {
   "cell_type": "markdown",
   "metadata": {
    "cell_style": "split"
   },
   "source": [
    "<img src=\"vector_span.png\" width=\"75%\">"
   ]
  },
  {
   "cell_type": "markdown",
   "metadata": {
    "cell_style": "split",
    "slideshow": {
     "slide_type": "fragment"
    }
   },
   "source": [
    "+ What about 2 vectors?"
   ]
  },
  {
   "cell_type": "code",
   "execution_count": null,
   "metadata": {
    "slideshow": {
     "slide_type": "notes"
    }
   },
   "outputs": [],
   "source": []
  },
  {
   "cell_type": "markdown",
   "metadata": {
    "cell_style": "split",
    "slideshow": {
     "slide_type": "subslide"
    }
   },
   "source": [
    "### Vector Multiplication\n",
    "\n",
    "+ Elementwise\n",
    "\n",
    "\n",
    "+ Outter product\n",
    "\n",
    "\n",
    "+ Inner (Dot) product\n",
    "\n"
   ]
  },
  {
   "cell_type": "markdown",
   "metadata": {
    "cell_style": "split",
    "slideshow": {
     "slide_type": "-"
    }
   },
   "source": [
    "<img src=\"vector_multhing.png\" width=\"100%\">\n",
    "\n",
    "This kind of funny?"
   ]
  },
  {
   "cell_type": "markdown",
   "metadata": {
    "slideshow": {
     "slide_type": "notes"
    }
   },
   "source": []
  },
  {
   "cell_type": "markdown",
   "metadata": {
    "cell_style": "split",
    "slideshow": {
     "slide_type": "subslide"
    }
   },
   "source": [
    "#### Elementwise\n",
    "\n",
    "\n",
    "  + Multiply each respective element\n",
    "    + Store then in the respective place\n",
    "  + Requires vectors be same size\n",
    "  + First one thinks off\n",
    "    + After scalar"
   ]
  },
  {
   "cell_type": "markdown",
   "metadata": {
    "cell_style": "split",
    "slideshow": {
     "slide_type": "-"
    }
   },
   "source": [
    "\n",
    "$$ \\vec{W} \\odot \\vec{V} = \\quad = \\quad [\\:v_1 \\: w_1, \\:v_2 \\: w_2, \\: _\\cdots, \\: v_n \\: w_n ] $$\n"
   ]
  },
  {
   "cell_type": "code",
   "execution_count": null,
   "metadata": {
    "slideshow": {
     "slide_type": "notes"
    }
   },
   "outputs": [],
   "source": []
  },
  {
   "cell_type": "markdown",
   "metadata": {
    "cell_style": "split"
   },
   "source": [
    "#### Outer Product\n",
    "\n",
    "\n",
    "\n",
    "+ Returns a Matrix\n",
    "\n",
    "+ Directions of rows and columns?\n",
    "  + Think span and scalar multiplication\n",
    " "
   ]
  },
  {
   "cell_type": "markdown",
   "metadata": {
    "cell_style": "split",
    "slideshow": {
     "slide_type": "-"
    }
   },
   "source": [
    "$$ \\vec{W} \\otimes \\vec{V} \\quad  = \\quad \\begin{bmatrix} \n",
    "    \\:v_1 \\: w_1 &\\:v_2 \\: w_1 &  \\dots & v_n \\: w_1 \\\\\n",
    "    \\:v_1 \\: w_2 &\\:v_2 \\: w_2 &   \\\\\n",
    "    \\vdots & & \\ddots & \\vdots \\\\\n",
    "    \\:v_1 \\: w_m & v_2 \\: w_m &  \\dots & v_n \\: w_m\\\\\n",
    "    \\end{bmatrix}\n",
    "$$\n"
   ]
  },
  {
   "cell_type": "markdown",
   "metadata": {},
   "source": []
  },
  {
   "cell_type": "markdown",
   "metadata": {
    "cell_style": "split",
    "slideshow": {
     "slide_type": "subslide"
    }
   },
   "source": [
    "### Inner (Dot) Product\n",
    "\n",
    "$$ \\vec{V} \\cdot \\vec{W} = \\quad = \\quad \\:v_1 \\: w_1 +  \\:v_2 \\: w_2 + \\: _\\cdots + \\: v_n \\: w_n  $$\n",
    "\n",
    "+ Sum of the elementwise multiplication\n",
    "+ Requires vectors are the same size\n",
    "+ $\\vec{V} \\cdot \\vec{V} = {|\\vec{V}|}^2$\n",
    "\n",
    "+ Most useful of all the vector products\n"
   ]
  },
  {
   "cell_type": "markdown",
   "metadata": {
    "cell_style": "split",
    "slideshow": {
     "slide_type": "-"
    }
   },
   "source": [
    "<img src=\"1280px-Dot_Product.svg.png\" width=\"75%\">\n",
    "\n",
    "https://en.wikipedia.org/wiki/Dot_product"
   ]
  },
  {
   "cell_type": "code",
   "execution_count": 91,
   "metadata": {
    "slideshow": {
     "slide_type": "subslide"
    }
   },
   "outputs": [
    {
     "data": {
      "application/javascript": [
       "/* Put everything inside the global mpl namespace */\n",
       "window.mpl = {};\n",
       "\n",
       "\n",
       "mpl.get_websocket_type = function() {\n",
       "    if (typeof(WebSocket) !== 'undefined') {\n",
       "        return WebSocket;\n",
       "    } else if (typeof(MozWebSocket) !== 'undefined') {\n",
       "        return MozWebSocket;\n",
       "    } else {\n",
       "        alert('Your browser does not have WebSocket support. ' +\n",
       "              'Please try Chrome, Safari or Firefox ≥ 6. ' +\n",
       "              'Firefox 4 and 5 are also supported but you ' +\n",
       "              'have to enable WebSockets in about:config.');\n",
       "    };\n",
       "}\n",
       "\n",
       "mpl.figure = function(figure_id, websocket, ondownload, parent_element) {\n",
       "    this.id = figure_id;\n",
       "\n",
       "    this.ws = websocket;\n",
       "\n",
       "    this.supports_binary = (this.ws.binaryType != undefined);\n",
       "\n",
       "    if (!this.supports_binary) {\n",
       "        var warnings = document.getElementById(\"mpl-warnings\");\n",
       "        if (warnings) {\n",
       "            warnings.style.display = 'block';\n",
       "            warnings.textContent = (\n",
       "                \"This browser does not support binary websocket messages. \" +\n",
       "                    \"Performance may be slow.\");\n",
       "        }\n",
       "    }\n",
       "\n",
       "    this.imageObj = new Image();\n",
       "\n",
       "    this.context = undefined;\n",
       "    this.message = undefined;\n",
       "    this.canvas = undefined;\n",
       "    this.rubberband_canvas = undefined;\n",
       "    this.rubberband_context = undefined;\n",
       "    this.format_dropdown = undefined;\n",
       "\n",
       "    this.image_mode = 'full';\n",
       "\n",
       "    this.root = $('<div/>');\n",
       "    this._root_extra_style(this.root)\n",
       "    this.root.attr('style', 'display: inline-block');\n",
       "\n",
       "    $(parent_element).append(this.root);\n",
       "\n",
       "    this._init_header(this);\n",
       "    this._init_canvas(this);\n",
       "    this._init_toolbar(this);\n",
       "\n",
       "    var fig = this;\n",
       "\n",
       "    this.waiting = false;\n",
       "\n",
       "    this.ws.onopen =  function () {\n",
       "            fig.send_message(\"supports_binary\", {value: fig.supports_binary});\n",
       "            fig.send_message(\"send_image_mode\", {});\n",
       "            if (mpl.ratio != 1) {\n",
       "                fig.send_message(\"set_dpi_ratio\", {'dpi_ratio': mpl.ratio});\n",
       "            }\n",
       "            fig.send_message(\"refresh\", {});\n",
       "        }\n",
       "\n",
       "    this.imageObj.onload = function() {\n",
       "            if (fig.image_mode == 'full') {\n",
       "                // Full images could contain transparency (where diff images\n",
       "                // almost always do), so we need to clear the canvas so that\n",
       "                // there is no ghosting.\n",
       "                fig.context.clearRect(0, 0, fig.canvas.width, fig.canvas.height);\n",
       "            }\n",
       "            fig.context.drawImage(fig.imageObj, 0, 0);\n",
       "        };\n",
       "\n",
       "    this.imageObj.onunload = function() {\n",
       "        fig.ws.close();\n",
       "    }\n",
       "\n",
       "    this.ws.onmessage = this._make_on_message_function(this);\n",
       "\n",
       "    this.ondownload = ondownload;\n",
       "}\n",
       "\n",
       "mpl.figure.prototype._init_header = function() {\n",
       "    var titlebar = $(\n",
       "        '<div class=\"ui-dialog-titlebar ui-widget-header ui-corner-all ' +\n",
       "        'ui-helper-clearfix\"/>');\n",
       "    var titletext = $(\n",
       "        '<div class=\"ui-dialog-title\" style=\"width: 100%; ' +\n",
       "        'text-align: center; padding: 3px;\"/>');\n",
       "    titlebar.append(titletext)\n",
       "    this.root.append(titlebar);\n",
       "    this.header = titletext[0];\n",
       "}\n",
       "\n",
       "\n",
       "\n",
       "mpl.figure.prototype._canvas_extra_style = function(canvas_div) {\n",
       "\n",
       "}\n",
       "\n",
       "\n",
       "mpl.figure.prototype._root_extra_style = function(canvas_div) {\n",
       "\n",
       "}\n",
       "\n",
       "mpl.figure.prototype._init_canvas = function() {\n",
       "    var fig = this;\n",
       "\n",
       "    var canvas_div = $('<div/>');\n",
       "\n",
       "    canvas_div.attr('style', 'position: relative; clear: both; outline: 0');\n",
       "\n",
       "    function canvas_keyboard_event(event) {\n",
       "        return fig.key_event(event, event['data']);\n",
       "    }\n",
       "\n",
       "    canvas_div.keydown('key_press', canvas_keyboard_event);\n",
       "    canvas_div.keyup('key_release', canvas_keyboard_event);\n",
       "    this.canvas_div = canvas_div\n",
       "    this._canvas_extra_style(canvas_div)\n",
       "    this.root.append(canvas_div);\n",
       "\n",
       "    var canvas = $('<canvas/>');\n",
       "    canvas.addClass('mpl-canvas');\n",
       "    canvas.attr('style', \"left: 0; top: 0; z-index: 0; outline: 0\")\n",
       "\n",
       "    this.canvas = canvas[0];\n",
       "    this.context = canvas[0].getContext(\"2d\");\n",
       "\n",
       "    var backingStore = this.context.backingStorePixelRatio ||\n",
       "\tthis.context.webkitBackingStorePixelRatio ||\n",
       "\tthis.context.mozBackingStorePixelRatio ||\n",
       "\tthis.context.msBackingStorePixelRatio ||\n",
       "\tthis.context.oBackingStorePixelRatio ||\n",
       "\tthis.context.backingStorePixelRatio || 1;\n",
       "\n",
       "    mpl.ratio = (window.devicePixelRatio || 1) / backingStore;\n",
       "\n",
       "    var rubberband = $('<canvas/>');\n",
       "    rubberband.attr('style', \"position: absolute; left: 0; top: 0; z-index: 1;\")\n",
       "\n",
       "    var pass_mouse_events = true;\n",
       "\n",
       "    canvas_div.resizable({\n",
       "        start: function(event, ui) {\n",
       "            pass_mouse_events = false;\n",
       "        },\n",
       "        resize: function(event, ui) {\n",
       "            fig.request_resize(ui.size.width, ui.size.height);\n",
       "        },\n",
       "        stop: function(event, ui) {\n",
       "            pass_mouse_events = true;\n",
       "            fig.request_resize(ui.size.width, ui.size.height);\n",
       "        },\n",
       "    });\n",
       "\n",
       "    function mouse_event_fn(event) {\n",
       "        if (pass_mouse_events)\n",
       "            return fig.mouse_event(event, event['data']);\n",
       "    }\n",
       "\n",
       "    rubberband.mousedown('button_press', mouse_event_fn);\n",
       "    rubberband.mouseup('button_release', mouse_event_fn);\n",
       "    // Throttle sequential mouse events to 1 every 20ms.\n",
       "    rubberband.mousemove('motion_notify', mouse_event_fn);\n",
       "\n",
       "    rubberband.mouseenter('figure_enter', mouse_event_fn);\n",
       "    rubberband.mouseleave('figure_leave', mouse_event_fn);\n",
       "\n",
       "    canvas_div.on(\"wheel\", function (event) {\n",
       "        event = event.originalEvent;\n",
       "        event['data'] = 'scroll'\n",
       "        if (event.deltaY < 0) {\n",
       "            event.step = 1;\n",
       "        } else {\n",
       "            event.step = -1;\n",
       "        }\n",
       "        mouse_event_fn(event);\n",
       "    });\n",
       "\n",
       "    canvas_div.append(canvas);\n",
       "    canvas_div.append(rubberband);\n",
       "\n",
       "    this.rubberband = rubberband;\n",
       "    this.rubberband_canvas = rubberband[0];\n",
       "    this.rubberband_context = rubberband[0].getContext(\"2d\");\n",
       "    this.rubberband_context.strokeStyle = \"#000000\";\n",
       "\n",
       "    this._resize_canvas = function(width, height) {\n",
       "        // Keep the size of the canvas, canvas container, and rubber band\n",
       "        // canvas in synch.\n",
       "        canvas_div.css('width', width)\n",
       "        canvas_div.css('height', height)\n",
       "\n",
       "        canvas.attr('width', width * mpl.ratio);\n",
       "        canvas.attr('height', height * mpl.ratio);\n",
       "        canvas.attr('style', 'width: ' + width + 'px; height: ' + height + 'px;');\n",
       "\n",
       "        rubberband.attr('width', width);\n",
       "        rubberband.attr('height', height);\n",
       "    }\n",
       "\n",
       "    // Set the figure to an initial 600x600px, this will subsequently be updated\n",
       "    // upon first draw.\n",
       "    this._resize_canvas(600, 600);\n",
       "\n",
       "    // Disable right mouse context menu.\n",
       "    $(this.rubberband_canvas).bind(\"contextmenu\",function(e){\n",
       "        return false;\n",
       "    });\n",
       "\n",
       "    function set_focus () {\n",
       "        canvas.focus();\n",
       "        canvas_div.focus();\n",
       "    }\n",
       "\n",
       "    window.setTimeout(set_focus, 100);\n",
       "}\n",
       "\n",
       "mpl.figure.prototype._init_toolbar = function() {\n",
       "    var fig = this;\n",
       "\n",
       "    var nav_element = $('<div/>');\n",
       "    nav_element.attr('style', 'width: 100%');\n",
       "    this.root.append(nav_element);\n",
       "\n",
       "    // Define a callback function for later on.\n",
       "    function toolbar_event(event) {\n",
       "        return fig.toolbar_button_onclick(event['data']);\n",
       "    }\n",
       "    function toolbar_mouse_event(event) {\n",
       "        return fig.toolbar_button_onmouseover(event['data']);\n",
       "    }\n",
       "\n",
       "    for(var toolbar_ind in mpl.toolbar_items) {\n",
       "        var name = mpl.toolbar_items[toolbar_ind][0];\n",
       "        var tooltip = mpl.toolbar_items[toolbar_ind][1];\n",
       "        var image = mpl.toolbar_items[toolbar_ind][2];\n",
       "        var method_name = mpl.toolbar_items[toolbar_ind][3];\n",
       "\n",
       "        if (!name) {\n",
       "            // put a spacer in here.\n",
       "            continue;\n",
       "        }\n",
       "        var button = $('<button/>');\n",
       "        button.addClass('ui-button ui-widget ui-state-default ui-corner-all ' +\n",
       "                        'ui-button-icon-only');\n",
       "        button.attr('role', 'button');\n",
       "        button.attr('aria-disabled', 'false');\n",
       "        button.click(method_name, toolbar_event);\n",
       "        button.mouseover(tooltip, toolbar_mouse_event);\n",
       "\n",
       "        var icon_img = $('<span/>');\n",
       "        icon_img.addClass('ui-button-icon-primary ui-icon');\n",
       "        icon_img.addClass(image);\n",
       "        icon_img.addClass('ui-corner-all');\n",
       "\n",
       "        var tooltip_span = $('<span/>');\n",
       "        tooltip_span.addClass('ui-button-text');\n",
       "        tooltip_span.html(tooltip);\n",
       "\n",
       "        button.append(icon_img);\n",
       "        button.append(tooltip_span);\n",
       "\n",
       "        nav_element.append(button);\n",
       "    }\n",
       "\n",
       "    var fmt_picker_span = $('<span/>');\n",
       "\n",
       "    var fmt_picker = $('<select/>');\n",
       "    fmt_picker.addClass('mpl-toolbar-option ui-widget ui-widget-content');\n",
       "    fmt_picker_span.append(fmt_picker);\n",
       "    nav_element.append(fmt_picker_span);\n",
       "    this.format_dropdown = fmt_picker[0];\n",
       "\n",
       "    for (var ind in mpl.extensions) {\n",
       "        var fmt = mpl.extensions[ind];\n",
       "        var option = $(\n",
       "            '<option/>', {selected: fmt === mpl.default_extension}).html(fmt);\n",
       "        fmt_picker.append(option);\n",
       "    }\n",
       "\n",
       "    // Add hover states to the ui-buttons\n",
       "    $( \".ui-button\" ).hover(\n",
       "        function() { $(this).addClass(\"ui-state-hover\");},\n",
       "        function() { $(this).removeClass(\"ui-state-hover\");}\n",
       "    );\n",
       "\n",
       "    var status_bar = $('<span class=\"mpl-message\"/>');\n",
       "    nav_element.append(status_bar);\n",
       "    this.message = status_bar[0];\n",
       "}\n",
       "\n",
       "mpl.figure.prototype.request_resize = function(x_pixels, y_pixels) {\n",
       "    // Request matplotlib to resize the figure. Matplotlib will then trigger a resize in the client,\n",
       "    // which will in turn request a refresh of the image.\n",
       "    this.send_message('resize', {'width': x_pixels, 'height': y_pixels});\n",
       "}\n",
       "\n",
       "mpl.figure.prototype.send_message = function(type, properties) {\n",
       "    properties['type'] = type;\n",
       "    properties['figure_id'] = this.id;\n",
       "    this.ws.send(JSON.stringify(properties));\n",
       "}\n",
       "\n",
       "mpl.figure.prototype.send_draw_message = function() {\n",
       "    if (!this.waiting) {\n",
       "        this.waiting = true;\n",
       "        this.ws.send(JSON.stringify({type: \"draw\", figure_id: this.id}));\n",
       "    }\n",
       "}\n",
       "\n",
       "\n",
       "mpl.figure.prototype.handle_save = function(fig, msg) {\n",
       "    var format_dropdown = fig.format_dropdown;\n",
       "    var format = format_dropdown.options[format_dropdown.selectedIndex].value;\n",
       "    fig.ondownload(fig, format);\n",
       "}\n",
       "\n",
       "\n",
       "mpl.figure.prototype.handle_resize = function(fig, msg) {\n",
       "    var size = msg['size'];\n",
       "    if (size[0] != fig.canvas.width || size[1] != fig.canvas.height) {\n",
       "        fig._resize_canvas(size[0], size[1]);\n",
       "        fig.send_message(\"refresh\", {});\n",
       "    };\n",
       "}\n",
       "\n",
       "mpl.figure.prototype.handle_rubberband = function(fig, msg) {\n",
       "    var x0 = msg['x0'] / mpl.ratio;\n",
       "    var y0 = (fig.canvas.height - msg['y0']) / mpl.ratio;\n",
       "    var x1 = msg['x1'] / mpl.ratio;\n",
       "    var y1 = (fig.canvas.height - msg['y1']) / mpl.ratio;\n",
       "    x0 = Math.floor(x0) + 0.5;\n",
       "    y0 = Math.floor(y0) + 0.5;\n",
       "    x1 = Math.floor(x1) + 0.5;\n",
       "    y1 = Math.floor(y1) + 0.5;\n",
       "    var min_x = Math.min(x0, x1);\n",
       "    var min_y = Math.min(y0, y1);\n",
       "    var width = Math.abs(x1 - x0);\n",
       "    var height = Math.abs(y1 - y0);\n",
       "\n",
       "    fig.rubberband_context.clearRect(\n",
       "        0, 0, fig.canvas.width / mpl.ratio, fig.canvas.height / mpl.ratio);\n",
       "\n",
       "    fig.rubberband_context.strokeRect(min_x, min_y, width, height);\n",
       "}\n",
       "\n",
       "mpl.figure.prototype.handle_figure_label = function(fig, msg) {\n",
       "    // Updates the figure title.\n",
       "    fig.header.textContent = msg['label'];\n",
       "}\n",
       "\n",
       "mpl.figure.prototype.handle_cursor = function(fig, msg) {\n",
       "    var cursor = msg['cursor'];\n",
       "    switch(cursor)\n",
       "    {\n",
       "    case 0:\n",
       "        cursor = 'pointer';\n",
       "        break;\n",
       "    case 1:\n",
       "        cursor = 'default';\n",
       "        break;\n",
       "    case 2:\n",
       "        cursor = 'crosshair';\n",
       "        break;\n",
       "    case 3:\n",
       "        cursor = 'move';\n",
       "        break;\n",
       "    }\n",
       "    fig.rubberband_canvas.style.cursor = cursor;\n",
       "}\n",
       "\n",
       "mpl.figure.prototype.handle_message = function(fig, msg) {\n",
       "    fig.message.textContent = msg['message'];\n",
       "}\n",
       "\n",
       "mpl.figure.prototype.handle_draw = function(fig, msg) {\n",
       "    // Request the server to send over a new figure.\n",
       "    fig.send_draw_message();\n",
       "}\n",
       "\n",
       "mpl.figure.prototype.handle_image_mode = function(fig, msg) {\n",
       "    fig.image_mode = msg['mode'];\n",
       "}\n",
       "\n",
       "mpl.figure.prototype.updated_canvas_event = function() {\n",
       "    // Called whenever the canvas gets updated.\n",
       "    this.send_message(\"ack\", {});\n",
       "}\n",
       "\n",
       "// A function to construct a web socket function for onmessage handling.\n",
       "// Called in the figure constructor.\n",
       "mpl.figure.prototype._make_on_message_function = function(fig) {\n",
       "    return function socket_on_message(evt) {\n",
       "        if (evt.data instanceof Blob) {\n",
       "            /* FIXME: We get \"Resource interpreted as Image but\n",
       "             * transferred with MIME type text/plain:\" errors on\n",
       "             * Chrome.  But how to set the MIME type?  It doesn't seem\n",
       "             * to be part of the websocket stream */\n",
       "            evt.data.type = \"image/png\";\n",
       "\n",
       "            /* Free the memory for the previous frames */\n",
       "            if (fig.imageObj.src) {\n",
       "                (window.URL || window.webkitURL).revokeObjectURL(\n",
       "                    fig.imageObj.src);\n",
       "            }\n",
       "\n",
       "            fig.imageObj.src = (window.URL || window.webkitURL).createObjectURL(\n",
       "                evt.data);\n",
       "            fig.updated_canvas_event();\n",
       "            fig.waiting = false;\n",
       "            return;\n",
       "        }\n",
       "        else if (typeof evt.data === 'string' && evt.data.slice(0, 21) == \"data:image/png;base64\") {\n",
       "            fig.imageObj.src = evt.data;\n",
       "            fig.updated_canvas_event();\n",
       "            fig.waiting = false;\n",
       "            return;\n",
       "        }\n",
       "\n",
       "        var msg = JSON.parse(evt.data);\n",
       "        var msg_type = msg['type'];\n",
       "\n",
       "        // Call the  \"handle_{type}\" callback, which takes\n",
       "        // the figure and JSON message as its only arguments.\n",
       "        try {\n",
       "            var callback = fig[\"handle_\" + msg_type];\n",
       "        } catch (e) {\n",
       "            console.log(\"No handler for the '\" + msg_type + \"' message type: \", msg);\n",
       "            return;\n",
       "        }\n",
       "\n",
       "        if (callback) {\n",
       "            try {\n",
       "                // console.log(\"Handling '\" + msg_type + \"' message: \", msg);\n",
       "                callback(fig, msg);\n",
       "            } catch (e) {\n",
       "                console.log(\"Exception inside the 'handler_\" + msg_type + \"' callback:\", e, e.stack, msg);\n",
       "            }\n",
       "        }\n",
       "    };\n",
       "}\n",
       "\n",
       "// from http://stackoverflow.com/questions/1114465/getting-mouse-location-in-canvas\n",
       "mpl.findpos = function(e) {\n",
       "    //this section is from http://www.quirksmode.org/js/events_properties.html\n",
       "    var targ;\n",
       "    if (!e)\n",
       "        e = window.event;\n",
       "    if (e.target)\n",
       "        targ = e.target;\n",
       "    else if (e.srcElement)\n",
       "        targ = e.srcElement;\n",
       "    if (targ.nodeType == 3) // defeat Safari bug\n",
       "        targ = targ.parentNode;\n",
       "\n",
       "    // jQuery normalizes the pageX and pageY\n",
       "    // pageX,Y are the mouse positions relative to the document\n",
       "    // offset() returns the position of the element relative to the document\n",
       "    var x = e.pageX - $(targ).offset().left;\n",
       "    var y = e.pageY - $(targ).offset().top;\n",
       "\n",
       "    return {\"x\": x, \"y\": y};\n",
       "};\n",
       "\n",
       "/*\n",
       " * return a copy of an object with only non-object keys\n",
       " * we need this to avoid circular references\n",
       " * http://stackoverflow.com/a/24161582/3208463\n",
       " */\n",
       "function simpleKeys (original) {\n",
       "  return Object.keys(original).reduce(function (obj, key) {\n",
       "    if (typeof original[key] !== 'object')\n",
       "        obj[key] = original[key]\n",
       "    return obj;\n",
       "  }, {});\n",
       "}\n",
       "\n",
       "mpl.figure.prototype.mouse_event = function(event, name) {\n",
       "    var canvas_pos = mpl.findpos(event)\n",
       "\n",
       "    if (name === 'button_press')\n",
       "    {\n",
       "        this.canvas.focus();\n",
       "        this.canvas_div.focus();\n",
       "    }\n",
       "\n",
       "    var x = canvas_pos.x * mpl.ratio;\n",
       "    var y = canvas_pos.y * mpl.ratio;\n",
       "\n",
       "    this.send_message(name, {x: x, y: y, button: event.button,\n",
       "                             step: event.step,\n",
       "                             guiEvent: simpleKeys(event)});\n",
       "\n",
       "    /* This prevents the web browser from automatically changing to\n",
       "     * the text insertion cursor when the button is pressed.  We want\n",
       "     * to control all of the cursor setting manually through the\n",
       "     * 'cursor' event from matplotlib */\n",
       "    event.preventDefault();\n",
       "    return false;\n",
       "}\n",
       "\n",
       "mpl.figure.prototype._key_event_extra = function(event, name) {\n",
       "    // Handle any extra behaviour associated with a key event\n",
       "}\n",
       "\n",
       "mpl.figure.prototype.key_event = function(event, name) {\n",
       "\n",
       "    // Prevent repeat events\n",
       "    if (name == 'key_press')\n",
       "    {\n",
       "        if (event.which === this._key)\n",
       "            return;\n",
       "        else\n",
       "            this._key = event.which;\n",
       "    }\n",
       "    if (name == 'key_release')\n",
       "        this._key = null;\n",
       "\n",
       "    var value = '';\n",
       "    if (event.ctrlKey && event.which != 17)\n",
       "        value += \"ctrl+\";\n",
       "    if (event.altKey && event.which != 18)\n",
       "        value += \"alt+\";\n",
       "    if (event.shiftKey && event.which != 16)\n",
       "        value += \"shift+\";\n",
       "\n",
       "    value += 'k';\n",
       "    value += event.which.toString();\n",
       "\n",
       "    this._key_event_extra(event, name);\n",
       "\n",
       "    this.send_message(name, {key: value,\n",
       "                             guiEvent: simpleKeys(event)});\n",
       "    return false;\n",
       "}\n",
       "\n",
       "mpl.figure.prototype.toolbar_button_onclick = function(name) {\n",
       "    if (name == 'download') {\n",
       "        this.handle_save(this, null);\n",
       "    } else {\n",
       "        this.send_message(\"toolbar_button\", {name: name});\n",
       "    }\n",
       "};\n",
       "\n",
       "mpl.figure.prototype.toolbar_button_onmouseover = function(tooltip) {\n",
       "    this.message.textContent = tooltip;\n",
       "};\n",
       "mpl.toolbar_items = [[\"Home\", \"Reset original view\", \"fa fa-home icon-home\", \"home\"], [\"Back\", \"Back to previous view\", \"fa fa-arrow-left icon-arrow-left\", \"back\"], [\"Forward\", \"Forward to next view\", \"fa fa-arrow-right icon-arrow-right\", \"forward\"], [\"\", \"\", \"\", \"\"], [\"Pan\", \"Pan axes with left mouse, zoom with right\", \"fa fa-arrows icon-move\", \"pan\"], [\"Zoom\", \"Zoom to rectangle\", \"fa fa-square-o icon-check-empty\", \"zoom\"], [\"\", \"\", \"\", \"\"], [\"Download\", \"Download plot\", \"fa fa-floppy-o icon-save\", \"download\"]];\n",
       "\n",
       "mpl.extensions = [\"eps\", \"pdf\", \"png\", \"ps\", \"raw\", \"svg\"];\n",
       "\n",
       "mpl.default_extension = \"png\";var comm_websocket_adapter = function(comm) {\n",
       "    // Create a \"websocket\"-like object which calls the given IPython comm\n",
       "    // object with the appropriate methods. Currently this is a non binary\n",
       "    // socket, so there is still some room for performance tuning.\n",
       "    var ws = {};\n",
       "\n",
       "    ws.close = function() {\n",
       "        comm.close()\n",
       "    };\n",
       "    ws.send = function(m) {\n",
       "        //console.log('sending', m);\n",
       "        comm.send(m);\n",
       "    };\n",
       "    // Register the callback with on_msg.\n",
       "    comm.on_msg(function(msg) {\n",
       "        //console.log('receiving', msg['content']['data'], msg);\n",
       "        // Pass the mpl event to the overridden (by mpl) onmessage function.\n",
       "        ws.onmessage(msg['content']['data'])\n",
       "    });\n",
       "    return ws;\n",
       "}\n",
       "\n",
       "mpl.mpl_figure_comm = function(comm, msg) {\n",
       "    // This is the function which gets called when the mpl process\n",
       "    // starts-up an IPython Comm through the \"matplotlib\" channel.\n",
       "\n",
       "    var id = msg.content.data.id;\n",
       "    // Get hold of the div created by the display call when the Comm\n",
       "    // socket was opened in Python.\n",
       "    var element = $(\"#\" + id);\n",
       "    var ws_proxy = comm_websocket_adapter(comm)\n",
       "\n",
       "    function ondownload(figure, format) {\n",
       "        window.open(figure.imageObj.src);\n",
       "    }\n",
       "\n",
       "    var fig = new mpl.figure(id, ws_proxy,\n",
       "                           ondownload,\n",
       "                           element.get(0));\n",
       "\n",
       "    // Call onopen now - mpl needs it, as it is assuming we've passed it a real\n",
       "    // web socket which is closed, not our websocket->open comm proxy.\n",
       "    ws_proxy.onopen();\n",
       "\n",
       "    fig.parent_element = element.get(0);\n",
       "    fig.cell_info = mpl.find_output_cell(\"<div id='\" + id + \"'></div>\");\n",
       "    if (!fig.cell_info) {\n",
       "        console.error(\"Failed to find cell for figure\", id, fig);\n",
       "        return;\n",
       "    }\n",
       "\n",
       "    var output_index = fig.cell_info[2]\n",
       "    var cell = fig.cell_info[0];\n",
       "\n",
       "};\n",
       "\n",
       "mpl.figure.prototype.handle_close = function(fig, msg) {\n",
       "    var width = fig.canvas.width/mpl.ratio\n",
       "    fig.root.unbind('remove')\n",
       "\n",
       "    // Update the output cell to use the data from the current canvas.\n",
       "    fig.push_to_output();\n",
       "    var dataURL = fig.canvas.toDataURL();\n",
       "    // Re-enable the keyboard manager in IPython - without this line, in FF,\n",
       "    // the notebook keyboard shortcuts fail.\n",
       "    IPython.keyboard_manager.enable()\n",
       "    $(fig.parent_element).html('<img src=\"' + dataURL + '\" width=\"' + width + '\">');\n",
       "    fig.close_ws(fig, msg);\n",
       "}\n",
       "\n",
       "mpl.figure.prototype.close_ws = function(fig, msg){\n",
       "    fig.send_message('closing', msg);\n",
       "    // fig.ws.close()\n",
       "}\n",
       "\n",
       "mpl.figure.prototype.push_to_output = function(remove_interactive) {\n",
       "    // Turn the data on the canvas into data in the output cell.\n",
       "    var width = this.canvas.width/mpl.ratio\n",
       "    var dataURL = this.canvas.toDataURL();\n",
       "    this.cell_info[1]['text/html'] = '<img src=\"' + dataURL + '\" width=\"' + width + '\">';\n",
       "}\n",
       "\n",
       "mpl.figure.prototype.updated_canvas_event = function() {\n",
       "    // Tell IPython that the notebook contents must change.\n",
       "    IPython.notebook.set_dirty(true);\n",
       "    this.send_message(\"ack\", {});\n",
       "    var fig = this;\n",
       "    // Wait a second, then push the new image to the DOM so\n",
       "    // that it is saved nicely (might be nice to debounce this).\n",
       "    setTimeout(function () { fig.push_to_output() }, 1000);\n",
       "}\n",
       "\n",
       "mpl.figure.prototype._init_toolbar = function() {\n",
       "    var fig = this;\n",
       "\n",
       "    var nav_element = $('<div/>');\n",
       "    nav_element.attr('style', 'width: 100%');\n",
       "    this.root.append(nav_element);\n",
       "\n",
       "    // Define a callback function for later on.\n",
       "    function toolbar_event(event) {\n",
       "        return fig.toolbar_button_onclick(event['data']);\n",
       "    }\n",
       "    function toolbar_mouse_event(event) {\n",
       "        return fig.toolbar_button_onmouseover(event['data']);\n",
       "    }\n",
       "\n",
       "    for(var toolbar_ind in mpl.toolbar_items){\n",
       "        var name = mpl.toolbar_items[toolbar_ind][0];\n",
       "        var tooltip = mpl.toolbar_items[toolbar_ind][1];\n",
       "        var image = mpl.toolbar_items[toolbar_ind][2];\n",
       "        var method_name = mpl.toolbar_items[toolbar_ind][3];\n",
       "\n",
       "        if (!name) { continue; };\n",
       "\n",
       "        var button = $('<button class=\"btn btn-default\" href=\"#\" title=\"' + name + '\"><i class=\"fa ' + image + ' fa-lg\"></i></button>');\n",
       "        button.click(method_name, toolbar_event);\n",
       "        button.mouseover(tooltip, toolbar_mouse_event);\n",
       "        nav_element.append(button);\n",
       "    }\n",
       "\n",
       "    // Add the status bar.\n",
       "    var status_bar = $('<span class=\"mpl-message\" style=\"text-align:right; float: right;\"/>');\n",
       "    nav_element.append(status_bar);\n",
       "    this.message = status_bar[0];\n",
       "\n",
       "    // Add the close button to the window.\n",
       "    var buttongrp = $('<div class=\"btn-group inline pull-right\"></div>');\n",
       "    var button = $('<button class=\"btn btn-mini btn-primary\" href=\"#\" title=\"Stop Interaction\"><i class=\"fa fa-power-off icon-remove icon-large\"></i></button>');\n",
       "    button.click(function (evt) { fig.handle_close(fig, {}); } );\n",
       "    button.mouseover('Stop Interaction', toolbar_mouse_event);\n",
       "    buttongrp.append(button);\n",
       "    var titlebar = this.root.find($('.ui-dialog-titlebar'));\n",
       "    titlebar.prepend(buttongrp);\n",
       "}\n",
       "\n",
       "mpl.figure.prototype._root_extra_style = function(el){\n",
       "    var fig = this\n",
       "    el.on(\"remove\", function(){\n",
       "\tfig.close_ws(fig, {});\n",
       "    });\n",
       "}\n",
       "\n",
       "mpl.figure.prototype._canvas_extra_style = function(el){\n",
       "    // this is important to make the div 'focusable\n",
       "    el.attr('tabindex', 0)\n",
       "    // reach out to IPython and tell the keyboard manager to turn it's self\n",
       "    // off when our div gets focus\n",
       "\n",
       "    // location in version 3\n",
       "    if (IPython.notebook.keyboard_manager) {\n",
       "        IPython.notebook.keyboard_manager.register_events(el);\n",
       "    }\n",
       "    else {\n",
       "        // location in version 2\n",
       "        IPython.keyboard_manager.register_events(el);\n",
       "    }\n",
       "\n",
       "}\n",
       "\n",
       "mpl.figure.prototype._key_event_extra = function(event, name) {\n",
       "    var manager = IPython.notebook.keyboard_manager;\n",
       "    if (!manager)\n",
       "        manager = IPython.keyboard_manager;\n",
       "\n",
       "    // Check for shift+enter\n",
       "    if (event.shiftKey && event.which == 13) {\n",
       "        this.canvas_div.blur();\n",
       "        // select the cell after this one\n",
       "        var index = IPython.notebook.find_cell_index(this.cell_info[0]);\n",
       "        IPython.notebook.select(index + 1);\n",
       "    }\n",
       "}\n",
       "\n",
       "mpl.figure.prototype.handle_save = function(fig, msg) {\n",
       "    fig.ondownload(fig, null);\n",
       "}\n",
       "\n",
       "\n",
       "mpl.find_output_cell = function(html_output) {\n",
       "    // Return the cell and output element which can be found *uniquely* in the notebook.\n",
       "    // Note - this is a bit hacky, but it is done because the \"notebook_saving.Notebook\"\n",
       "    // IPython event is triggered only after the cells have been serialised, which for\n",
       "    // our purposes (turning an active figure into a static one), is too late.\n",
       "    var cells = IPython.notebook.get_cells();\n",
       "    var ncells = cells.length;\n",
       "    for (var i=0; i<ncells; i++) {\n",
       "        var cell = cells[i];\n",
       "        if (cell.cell_type === 'code'){\n",
       "            for (var j=0; j<cell.output_area.outputs.length; j++) {\n",
       "                var data = cell.output_area.outputs[j];\n",
       "                if (data.data) {\n",
       "                    // IPython >= 3 moved mimebundle to data attribute of output\n",
       "                    data = data.data;\n",
       "                }\n",
       "                if (data['text/html'] == html_output) {\n",
       "                    return [cell, data, j];\n",
       "                }\n",
       "            }\n",
       "        }\n",
       "    }\n",
       "}\n",
       "\n",
       "// Register the function which deals with the matplotlib target/channel.\n",
       "// The kernel may be null if the page has been refreshed.\n",
       "if (IPython.notebook.kernel != null) {\n",
       "    IPython.notebook.kernel.comm_manager.register_target('matplotlib', mpl.mpl_figure_comm);\n",
       "}\n"
      ],
      "text/plain": [
       "<IPython.core.display.Javascript object>"
      ]
     },
     "metadata": {},
     "output_type": "display_data"
    },
    {
     "data": {
      "text/html": [
       "<img src=\"data:image/png;base64,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\" width=\"600\">"
      ],
      "text/plain": [
       "<IPython.core.display.HTML object>"
      ]
     },
     "metadata": {},
     "output_type": "display_data"
    },
    {
     "data": {
      "application/vnd.jupyter.widget-view+json": {
       "model_id": "65cbac48c6a343c19603548bfcce5b14",
       "version_major": 2,
       "version_minor": 0
      },
      "text/plain": [
       "interactive(children=(FloatSlider(value=1.0, description='v1', max=5.0, min=-5.0), FloatSlider(value=2.0, desc…"
      ]
     },
     "metadata": {},
     "output_type": "display_data"
    }
   ],
   "source": [
    "fig, ax = plt.subplots(1,1)\n",
    "fig.set_size_inches(6, 6)\n",
    "\n",
    "@interact(v1=(-5,5,0.1), v2=(-5,5,0.1), w1=(-5,5,0.1), w2=(-5,5,0.1))\n",
    "def update(v1=1, v2=2, w1=2, w2=0.5):\n",
    "    v, w = numpy.array([v1, v2]), numpy.array([w1, w2])\n",
    "    ax.cla()\n",
    "    ax.arrow(0, 0, v1*0.9, v2*0.9, head_width=0.25, head_length=0.25, fc='g', ec='g')\n",
    "    ax.arrow(0, 0, w1*0.9, w2*0.9, head_width=0.25, head_length=0.25, fc='b', ec='b')\n",
    "    ax.arrow(0, 0, v1*w1+v2*w2, 0, head_width=0.25, head_length=0.25, fc='k', ec='k')\n",
    "    fig.canvas.draw_idle()\n",
    "    ax.set_xlim(-5, 5);ax.set_ylim(-5, 5)\n",
    "    ax.set_xlabel('$X_1$');ax.set_ylabel('$X_2$')\n",
    "    plt.suptitle('Dot Product')\n",
    "    ax.grid(True)\n",
    "    fig.tight_layout(rect=[0, 0.03, 1, 0.95])"
   ]
  },
  {
   "cell_type": "markdown",
   "metadata": {
    "cell_style": "split",
    "slideshow": {
     "slide_type": "subslide"
    }
   },
   "source": [
    "### Cauchy–Schwarz Inequality\n",
    "$$ \\cfrac{|\\vec{V} \\cdot \\vec{U}|}{|\\vec{V}| \\: |\\vec{U}|} \\leq 1 $$\n",
    "\n",
    "+ Bounds the output of Dot product\n",
    " + Shows something about direction\n",
    "+ Basic to show\n",
    "  + Applications everywhere\n",
    "\n",
    "+ What does equality mean?\n",
    "\n",
    "+ What if 2 vectors are opposite directions?\n",
    "\n",
    "\n",
    "\n",
    "\n",
    "\n"
   ]
  },
  {
   "cell_type": "markdown",
   "metadata": {
    "cell_style": "split",
    "slideshow": {
     "slide_type": "fragment"
    }
   },
   "source": [
    "$$ \\hat{V} = \\cfrac{\\vec{V}}{|\\vec{V}|} \\quad |\\hat{V}| = 1 \\quad \\quad\n",
    "\\hat{U} = \\cfrac{\\vec{U}}{|\\vec{U}|} \\quad |\\hat{U}| = 1 $$\n",
    "\n"
   ]
  },
  {
   "cell_type": "markdown",
   "metadata": {
    "cell_style": "split",
    "slideshow": {
     "slide_type": "fragment"
    }
   },
   "source": [
    "$$ \\hat{V} \\cdot \\hat{U} = cos(\\theta) $$"
   ]
  },
  {
   "cell_type": "markdown",
   "metadata": {
    "cell_style": "split",
    "slideshow": {
     "slide_type": "fragment"
    }
   },
   "source": [
    "$$ | \\hat{V} \\cdot \\hat{U} | = |cos(\\theta)| \\leq 1 $$"
   ]
  },
  {
   "cell_type": "markdown",
   "metadata": {
    "cell_style": "split",
    "slideshow": {
     "slide_type": "fragment"
    }
   },
   "source": [
    "$$ \\left | \\cfrac{\\vec{V}}{|\\vec{V}|} \\cdot \\cfrac{\\vec{U}}{|\\vec{U}|} \\right| \\leq 1 \\quad  \\xrightarrow[]{} \\quad \\cfrac{|\\vec{V} \\cdot \\vec{U}|}{|\\vec{V}| \\: |\\vec{U}|} \\leq 1  $$"
   ]
  },
  {
   "cell_type": "markdown",
   "metadata": {
    "slideshow": {
     "slide_type": "subslide"
    }
   },
   "source": [
    "### Matched Filter\n",
    "Maxmize the Signal to Noise Ratio\n"
   ]
  },
  {
   "cell_type": "code",
   "execution_count": null,
   "metadata": {},
   "outputs": [],
   "source": []
  },
  {
   "cell_type": "markdown",
   "metadata": {},
   "source": [
    "\n",
    "  + Basic Math Operations\n",
    "    + Linearity\n",
    "    + Time Inverance \n",
    "    + Bounded Input Bounded Output\n",
    "    + Dirivatives and Differences\n",
    "    + Integrates and Sumations \n",
    "    + Useful Non-linear Functions\n",
    "      + ABS\n",
    "      + Squared\n",
    "      + Log and Decibels\n",
    "    \n",
    "  + Continous Vs. Descrete Signals\n",
    "    + Analog to Digital Conversion\n",
    "    + Digital to Analog Conversion\n",
    "    + Delta Symbol\n",
    "    + Nyquest Sampling\n",
    "    \n",
    "  + Random Varaibles\n",
    "    + Basics of Probablilty\n",
    "      + Probability Density Function\n",
    "      + Total Probablilty\n",
    "      + Cumulative Distribution Function\n",
    "    + Continuous Vs. Discrete\n",
    "    + Common Distributions\n",
    "      + Uniform\n",
    "      + Exponential\n",
    "      + Gaussian\n",
    "      + Chi Squared\n",
    "    + Independent and identically Distributed Random Variables\n",
    "    + Operations on random variables\n",
    "    + Central Limit Theorem\n",
    "    + Correlation\n",
    "    \n",
    "  + Basic Linear Algebra\n",
    "    + Vector Operations\n",
    "      + Addition\n",
    "      + Scaler Multiplication\n",
    "      + Vector Span\n",
    "    + Vector Products\n",
    "      + Elementwise Product\n",
    "      + Outter Product\n",
    "      + Inner Product\n",
    "    + Matrix Operations\n",
    "    + Cauchy–Schwarz inequality\n",
    "    + Matched Filter\n",
    "    + Convolution\n",
    "    + Correlation of random vectors\n",
    "    + Rotation Matrices\n",
    "    + \n",
    "    \n",
    "  + Frequency / Tone\n",
    "    + Real valued\n",
    "    + Matched Filter Real valued\n",
    "    + Phase\n",
    "    + Complex Samples\n",
    "    \n",
    "  + Complex Number\n",
    "    + Direct-conversion receiver\n",
    "    + Negative Frequencies?\n",
    "    + Relationship between Phase and Delay\n",
    "    + Complex Random Numbers\n",
    "  "
   ]
  }
 ],
 "metadata": {
  "celltoolbar": "Slideshow",
  "kernelspec": {
   "display_name": "Python 3",
   "language": "python",
   "name": "python3"
  },
  "language_info": {
   "codemirror_mode": {
    "name": "ipython",
    "version": 3
   },
   "file_extension": ".py",
   "mimetype": "text/x-python",
   "name": "python",
   "nbconvert_exporter": "python",
   "pygments_lexer": "ipython3",
   "version": "3.8.10"
  }
 },
 "nbformat": 4,
 "nbformat_minor": 4
}
