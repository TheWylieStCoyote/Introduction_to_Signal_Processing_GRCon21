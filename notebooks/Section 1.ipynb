{
 "cells": [
  {
   "cell_type": "markdown",
   "metadata": {
    "slideshow": {
     "slide_type": "slide"
    }
   },
   "source": [
    "# Section 1\n"
   ]
  },
  {
   "cell_type": "markdown",
   "metadata": {
    "slideshow": {
     "slide_type": "slide"
    }
   },
   "source": [
    "# What Is A Signal\n",
    "\n",
    "\n",
    "<img src=\"sine_wave_sampled.gif?2\" width=\"75%\">"
   ]
  },
  {
   "cell_type": "code",
   "execution_count": 16,
   "metadata": {
    "cell_style": "split",
    "slideshow": {
     "slide_type": "subslide"
    }
   },
   "outputs": [],
   "source": [
    "import numpy \n",
    "from numpy import pi\n",
    "from scipy import signal, stats, io\n",
    "\n",
    "from ipywidgets import *\n",
    "\n",
    "import time\n",
    "from datetime import datetime\n",
    "\n",
    "\n",
    "\n",
    "import matplotlib.pyplot as plt\n",
    "\n",
    "#%matplotlib inline\n",
    "%matplotlib notebook"
   ]
  },
  {
   "cell_type": "code",
   "execution_count": 18,
   "metadata": {
    "cell_style": "split",
    "slideshow": {
     "slide_type": "-"
    }
   },
   "outputs": [
    {
     "name": "stdout",
     "output_type": "stream",
     "text": [
      "2021-09-14 17:35:06.803933\n"
     ]
    }
   ],
   "source": [
    "print(datetime.now())"
   ]
  },
  {
   "cell_type": "markdown",
   "metadata": {
    "slideshow": {
     "slide_type": "slide"
    }
   },
   "source": [
    "## What Is A Signal\n"
   ]
  },
  {
   "cell_type": "markdown",
   "metadata": {
    "slideshow": {
     "slide_type": "fragment"
    }
   },
   "source": [
    "  + Something that carries or conveys information"
   ]
  },
  {
   "cell_type": "markdown",
   "metadata": {
    "slideshow": {
     "slide_type": "fragment"
    }
   },
   "source": [
    "  + What does that even mean?"
   ]
  },
  {
   "cell_type": "markdown",
   "metadata": {
    "slideshow": {
     "slide_type": "fragment"
    }
   },
   "source": [
    "  + That is about anything?"
   ]
  },
  {
   "cell_type": "markdown",
   "metadata": {
    "slideshow": {
     "slide_type": "fragment"
    }
   },
   "source": [
    "  + This is so general it maybe useless, maybe"
   ]
  },
  {
   "cell_type": "markdown",
   "metadata": {
    "slideshow": {
     "slide_type": "slide"
    }
   },
   "source": [
    "#### Examples of Signals"
   ]
  },
  {
   "cell_type": "markdown",
   "metadata": {
    "slideshow": {
     "slide_type": "subslide"
    }
   },
   "source": [
    "#### Sound\n",
    "    + Acoustic waves\n",
    "    + Humans hear between 20Hz to 20 KHz\n",
    "    \n",
    "  \n",
    "  <img src=\"Theme_Classic.png\" width=\"65%\" />\n",
    "  \n",
    " https://www.audacityteam.org/"
   ]
  },
  {
   "cell_type": "markdown",
   "metadata": {
    "cell_style": "center",
    "slideshow": {
     "slide_type": "subslide"
    }
   },
   "source": [
    "### Sea Levels\n",
    "\n",
    "\n",
    "\n",
    "<img src=\"NASA-Satellite-sea-level-rise-observations.jpg\" width=\"40%\" />\n",
    "\n",
    "+ https://climate.nasa.gov/vital-signs/sea-level/\n",
    "\n",
    "+ https://en.wikipedia.org/wiki/Sea_level_rise\n"
   ]
  },
  {
   "cell_type": "markdown",
   "metadata": {
    "slideshow": {
     "slide_type": "subslide"
    }
   },
   "source": [
    "### Stock Prices\n",
    " [Game Stop 1 year](https://www.google.com/finance/quote/GME:NYSE?sa=X&sqi=2&ved=2ahUKEwiOzfqbxP_yAhWfQ_EDHVQZDgQQ3ecFegQILhAS&window=1Y)\n",
    "     \n",
    "<img src=\"GameStopStock.png?1\" width=\"55%\">"
   ]
  },
  {
   "cell_type": "markdown",
   "metadata": {
    "cell_style": "split",
    "slideshow": {
     "slide_type": "subslide"
    }
   },
   "source": [
    "#### Sun Spots\n",
    "\n",
    "<img src=\"Sunspots_1302_Sep_2011_by_NASA.jpg\" width=\"85%\" >\n",
    "\n",
    "https://en.wikipedia.org/wiki/Sunspot\n"
   ]
  },
  {
   "cell_type": "markdown",
   "metadata": {
    "cell_style": "split",
    "slideshow": {
     "slide_type": "fragment"
    }
   },
   "source": [
    "#### Sun Spots over time\n",
    "   \n",
    "<img src=\"Sunspot_Numbers.png\" width=\"100%\" >"
   ]
  },
  {
   "cell_type": "markdown",
   "metadata": {
    "slideshow": {
     "slide_type": "skip"
    }
   },
   "source": []
  },
  {
   "cell_type": "markdown",
   "metadata": {
    "cell_style": "split",
    "slideshow": {
     "slide_type": "subslide"
    }
   },
   "source": [
    "#### Gravity Waves\n",
    "  + Surface waves\n",
    "  + Sea waves\n",
    "  + Eeathquakes\n",
    "  \n",
    "\n",
    "https://en.wikipedia.org/wiki/Wake"
   ]
  },
  {
   "cell_type": "markdown",
   "metadata": {
    "cell_style": "split",
    "slideshow": {
     "slide_type": "-"
    }
   },
   "source": [
    "<img src=\"duck_wake.jpg\" width=\"100%\">"
   ]
  },
  {
   "cell_type": "markdown",
   "metadata": {
    "cell_style": "split",
    "slideshow": {
     "slide_type": "subslide"
    }
   },
   "source": [
    "#### Gravitational Waves\n",
    "\n",
    "+ Find Black Holes combining\n",
    "+ 1 Billion dollar detector\n",
    "\n",
    "<img src=\"1280px-LIGO_Hanford_aerial_05.jpg\" width=\"50%\" >\n",
    "\n",
    "[http://svs.gsfc.nasa.gov/](http://svs.gsfc.nasa.gov//vis/a010000/a010500/a010543/WhtDwrfCollid_ProRes_720x486_59.94fps.webmhd.webm)\n"
   ]
  },
  {
   "cell_type": "markdown",
   "metadata": {
    "cell_style": "split",
    "slideshow": {
     "slide_type": "-"
    }
   },
   "source": [
    "\n",
    "+ 2017 Nobel prize\n",
    "\n",
    "\n",
    "\n",
    "<img src=\"ns_gw_art.jpg\" width=\"75%\">\n",
    "\n",
    "https://www.ligo.caltech.edu/page/what-are-gw\n",
    "\n",
    "https://en.wikipedia.org/wiki/Gravitational-wave_observatory\n"
   ]
  },
  {
   "cell_type": "code",
   "execution_count": null,
   "metadata": {
    "slideshow": {
     "slide_type": "notes"
    }
   },
   "outputs": [],
   "source": []
  },
  {
   "cell_type": "markdown",
   "metadata": {
    "cell_style": "split",
    "slideshow": {
     "slide_type": "subslide"
    }
   },
   "source": [
    "#### Electrical\n",
    "  + Probably what everyone things of\n",
    "  + It's all electrical signals at some point\n",
    "  + Voltage or current changing in\n",
    "    + Time\n",
    "    + Node\n",
    "    + position"
   ]
  },
  {
   "cell_type": "markdown",
   "metadata": {
    "cell_style": "split",
    "slideshow": {
     "slide_type": "-"
    }
   },
   "source": [
    "<img src=\"Scope.jpeg\" width=\"100%\">"
   ]
  },
  {
   "cell_type": "code",
   "execution_count": null,
   "metadata": {
    "slideshow": {
     "slide_type": "notes"
    }
   },
   "outputs": [],
   "source": []
  },
  {
   "cell_type": "markdown",
   "metadata": {
    "cell_style": "split",
    "slideshow": {
     "slide_type": "subslide"
    }
   },
   "source": [
    "##### Light\n",
    "  + Cameras\n",
    "  + Light level\n",
    "\n"
   ]
  },
  {
   "cell_type": "markdown",
   "metadata": {
    "cell_style": "split",
    "slideshow": {
     "slide_type": "-"
    }
   },
   "source": []
  },
  {
   "cell_type": "code",
   "execution_count": null,
   "metadata": {},
   "outputs": [],
   "source": []
  },
  {
   "cell_type": "markdown",
   "metadata": {
    "cell_style": "split",
    "slideshow": {
     "slide_type": "subslide"
    }
   },
   "source": [
    "  + Radio Waves\n",
    "    + FM Radio\n",
    "    + Radar\n",
    "    + Radio Astronomy \n",
    "    "
   ]
  },
  {
   "cell_type": "markdown",
   "metadata": {
    "cell_style": "split",
    "slideshow": {
     "slide_type": "-"
    }
   },
   "source": []
  },
  {
   "cell_type": "code",
   "execution_count": null,
   "metadata": {
    "slideshow": {
     "slide_type": "skip"
    }
   },
   "outputs": [],
   "source": []
  },
  {
   "cell_type": "markdown",
   "metadata": {
    "cell_style": "split",
    "slideshow": {
     "slide_type": "subslide"
    }
   },
   "source": [
    "##### Radar\n",
    "  + Detecting aircraft, ships, ...\n",
    "  + Automotive distance sensing\n",
    "  + Imaging Astreroids\n",
    "    + Beyond the ability of optical telescopes\n",
    "    + Each image ~2Km square\n",
    "    + ~20X Earth-Moon distance\n",
    "\n"
   ]
  },
  {
   "cell_type": "markdown",
   "metadata": {
    "cell_style": "split",
    "slideshow": {
     "slide_type": "-"
    }
   },
   "source": [
    "https://www.jpl.nasa.gov/news/nine-radar-images-of-asteroid-2007-pa8\n",
    "\n",
    "<img src=\"astro_sar_img.jpg\" width=\"100%\">"
   ]
  },
  {
   "cell_type": "code",
   "execution_count": null,
   "metadata": {},
   "outputs": [],
   "source": []
  },
  {
   "cell_type": "markdown",
   "metadata": {
    "cell_style": "split",
    "slideshow": {
     "slide_type": "subslide"
    }
   },
   "source": [
    "#### Radio Astronomy\n",
    "\n",
    "<img src=\"USA.NM.VeryLargeArray.02.jpg\" width=\"100%\">\n",
    "\n",
    "https://en.wikipedia.org/wiki/Very_Large_Array\n",
    "\n",
    "\n",
    "https://public.nrao.edu/telescopes/vla/"
   ]
  },
  {
   "cell_type": "markdown",
   "metadata": {
    "cell_style": "split"
   },
   "source": []
  },
  {
   "cell_type": "code",
   "execution_count": null,
   "metadata": {},
   "outputs": [],
   "source": []
  },
  {
   "cell_type": "markdown",
   "metadata": {
    "slideshow": {
     "slide_type": "subslide"
    }
   },
   "source": [
    "#### Examples of Signals\n",
    "\n",
    "  + Sound\n",
    "  + Sea Level\n",
    "  + Stock Prices\n",
    "  + Sun Spots\n",
    "  + Gravity Waves\n",
    "  + Electrical \n",
    "  + Electromagnetic waves\n",
    "    + Light\n",
    "    + Radio Waves\n",
    "    + Communications\n",
    "    + Radar\n",
    "    + \n",
    "    "
   ]
  },
  {
   "cell_type": "markdown",
   "metadata": {
    "slideshow": {
     "slide_type": "slide"
    }
   },
   "source": [
    "##  Basic RF problems\n",
    "\n",
    "#### Communication\n",
    "  + Getting data between places\n",
    "\n",
    "#### Radar\n",
    "  + Using radio waves to sense something\n",
    "\n",
    "#### Passive Inference\n",
    "  + Using Emotions that already exist what can I figure out"
   ]
  },
  {
   "cell_type": "markdown",
   "metadata": {},
   "source": []
  },
  {
   "cell_type": "markdown",
   "metadata": {},
   "source": []
  },
  {
   "cell_type": "markdown",
   "metadata": {
    "cell_style": "split",
    "slideshow": {
     "slide_type": "slide"
    }
   },
   "source": [
    "## Continuous vs Discrete Signals\n",
    "\n",
    "\n",
    "  + Analog to Digital Conversion\n",
    "  + Digital to Analog Conversion\n",
    "  + Delta Symbol\n",
    "  + Nyquest Sampling\n",
    "\n"
   ]
  },
  {
   "cell_type": "markdown",
   "metadata": {
    "cell_style": "split",
    "slideshow": {
     "slide_type": "-"
    }
   },
   "source": [
    "\n",
    "\n",
    "<img src=\"sine_wave_sampled.gif\" width=\"100%\">"
   ]
  },
  {
   "cell_type": "markdown",
   "metadata": {},
   "source": []
  },
  {
   "cell_type": "markdown",
   "metadata": {
    "slideshow": {
     "slide_type": "fragment"
    }
   },
   "source": [
    "### Continuous\n",
    "\n",
    "  + \n",
    "  + "
   ]
  },
  {
   "cell_type": "markdown",
   "metadata": {
    "slideshow": {
     "slide_type": "fragment"
    }
   },
   "source": [
    "### Discrete\n",
    "\n",
    "  + \n",
    "  + "
   ]
  },
  {
   "cell_type": "markdown",
   "metadata": {
    "slideshow": {
     "slide_type": "subslide"
    }
   },
   "source": [
    "### Sampling\n",
    "\n",
    "  + Analog to Digital Conversion"
   ]
  },
  {
   "cell_type": "code",
   "execution_count": null,
   "metadata": {},
   "outputs": [],
   "source": []
  },
  {
   "cell_type": "markdown",
   "metadata": {
    "slideshow": {
     "slide_type": "subslide"
    }
   },
   "source": [
    "### Time Series\n",
    "  + Sampled at a regular times\n",
    "  + Identical Sampling"
   ]
  },
  {
   "cell_type": "code",
   "execution_count": null,
   "metadata": {},
   "outputs": [],
   "source": []
  },
  {
   "cell_type": "markdown",
   "metadata": {
    "slideshow": {
     "slide_type": "subslide"
    }
   },
   "source": [
    "### Nyquist\n",
    "\n",
    "  + Sampling two times faster than the bandwidth of the signal"
   ]
  },
  {
   "cell_type": "code",
   "execution_count": 56,
   "metadata": {
    "scrolled": false,
    "slideshow": {
     "slide_type": "subslide"
    }
   },
   "outputs": [
    {
     "data": {
      "application/javascript": [
       "/* Put everything inside the global mpl namespace */\n",
       "window.mpl = {};\n",
       "\n",
       "\n",
       "mpl.get_websocket_type = function() {\n",
       "    if (typeof(WebSocket) !== 'undefined') {\n",
       "        return WebSocket;\n",
       "    } else if (typeof(MozWebSocket) !== 'undefined') {\n",
       "        return MozWebSocket;\n",
       "    } else {\n",
       "        alert('Your browser does not have WebSocket support. ' +\n",
       "              'Please try Chrome, Safari or Firefox ≥ 6. ' +\n",
       "              'Firefox 4 and 5 are also supported but you ' +\n",
       "              'have to enable WebSockets in about:config.');\n",
       "    };\n",
       "}\n",
       "\n",
       "mpl.figure = function(figure_id, websocket, ondownload, parent_element) {\n",
       "    this.id = figure_id;\n",
       "\n",
       "    this.ws = websocket;\n",
       "\n",
       "    this.supports_binary = (this.ws.binaryType != undefined);\n",
       "\n",
       "    if (!this.supports_binary) {\n",
       "        var warnings = document.getElementById(\"mpl-warnings\");\n",
       "        if (warnings) {\n",
       "            warnings.style.display = 'block';\n",
       "            warnings.textContent = (\n",
       "                \"This browser does not support binary websocket messages. \" +\n",
       "                    \"Performance may be slow.\");\n",
       "        }\n",
       "    }\n",
       "\n",
       "    this.imageObj = new Image();\n",
       "\n",
       "    this.context = undefined;\n",
       "    this.message = undefined;\n",
       "    this.canvas = undefined;\n",
       "    this.rubberband_canvas = undefined;\n",
       "    this.rubberband_context = undefined;\n",
       "    this.format_dropdown = undefined;\n",
       "\n",
       "    this.image_mode = 'full';\n",
       "\n",
       "    this.root = $('<div/>');\n",
       "    this._root_extra_style(this.root)\n",
       "    this.root.attr('style', 'display: inline-block');\n",
       "\n",
       "    $(parent_element).append(this.root);\n",
       "\n",
       "    this._init_header(this);\n",
       "    this._init_canvas(this);\n",
       "    this._init_toolbar(this);\n",
       "\n",
       "    var fig = this;\n",
       "\n",
       "    this.waiting = false;\n",
       "\n",
       "    this.ws.onopen =  function () {\n",
       "            fig.send_message(\"supports_binary\", {value: fig.supports_binary});\n",
       "            fig.send_message(\"send_image_mode\", {});\n",
       "            if (mpl.ratio != 1) {\n",
       "                fig.send_message(\"set_dpi_ratio\", {'dpi_ratio': mpl.ratio});\n",
       "            }\n",
       "            fig.send_message(\"refresh\", {});\n",
       "        }\n",
       "\n",
       "    this.imageObj.onload = function() {\n",
       "            if (fig.image_mode == 'full') {\n",
       "                // Full images could contain transparency (where diff images\n",
       "                // almost always do), so we need to clear the canvas so that\n",
       "                // there is no ghosting.\n",
       "                fig.context.clearRect(0, 0, fig.canvas.width, fig.canvas.height);\n",
       "            }\n",
       "            fig.context.drawImage(fig.imageObj, 0, 0);\n",
       "        };\n",
       "\n",
       "    this.imageObj.onunload = function() {\n",
       "        fig.ws.close();\n",
       "    }\n",
       "\n",
       "    this.ws.onmessage = this._make_on_message_function(this);\n",
       "\n",
       "    this.ondownload = ondownload;\n",
       "}\n",
       "\n",
       "mpl.figure.prototype._init_header = function() {\n",
       "    var titlebar = $(\n",
       "        '<div class=\"ui-dialog-titlebar ui-widget-header ui-corner-all ' +\n",
       "        'ui-helper-clearfix\"/>');\n",
       "    var titletext = $(\n",
       "        '<div class=\"ui-dialog-title\" style=\"width: 100%; ' +\n",
       "        'text-align: center; padding: 3px;\"/>');\n",
       "    titlebar.append(titletext)\n",
       "    this.root.append(titlebar);\n",
       "    this.header = titletext[0];\n",
       "}\n",
       "\n",
       "\n",
       "\n",
       "mpl.figure.prototype._canvas_extra_style = function(canvas_div) {\n",
       "\n",
       "}\n",
       "\n",
       "\n",
       "mpl.figure.prototype._root_extra_style = function(canvas_div) {\n",
       "\n",
       "}\n",
       "\n",
       "mpl.figure.prototype._init_canvas = function() {\n",
       "    var fig = this;\n",
       "\n",
       "    var canvas_div = $('<div/>');\n",
       "\n",
       "    canvas_div.attr('style', 'position: relative; clear: both; outline: 0');\n",
       "\n",
       "    function canvas_keyboard_event(event) {\n",
       "        return fig.key_event(event, event['data']);\n",
       "    }\n",
       "\n",
       "    canvas_div.keydown('key_press', canvas_keyboard_event);\n",
       "    canvas_div.keyup('key_release', canvas_keyboard_event);\n",
       "    this.canvas_div = canvas_div\n",
       "    this._canvas_extra_style(canvas_div)\n",
       "    this.root.append(canvas_div);\n",
       "\n",
       "    var canvas = $('<canvas/>');\n",
       "    canvas.addClass('mpl-canvas');\n",
       "    canvas.attr('style', \"left: 0; top: 0; z-index: 0; outline: 0\")\n",
       "\n",
       "    this.canvas = canvas[0];\n",
       "    this.context = canvas[0].getContext(\"2d\");\n",
       "\n",
       "    var backingStore = this.context.backingStorePixelRatio ||\n",
       "\tthis.context.webkitBackingStorePixelRatio ||\n",
       "\tthis.context.mozBackingStorePixelRatio ||\n",
       "\tthis.context.msBackingStorePixelRatio ||\n",
       "\tthis.context.oBackingStorePixelRatio ||\n",
       "\tthis.context.backingStorePixelRatio || 1;\n",
       "\n",
       "    mpl.ratio = (window.devicePixelRatio || 1) / backingStore;\n",
       "\n",
       "    var rubberband = $('<canvas/>');\n",
       "    rubberband.attr('style', \"position: absolute; left: 0; top: 0; z-index: 1;\")\n",
       "\n",
       "    var pass_mouse_events = true;\n",
       "\n",
       "    canvas_div.resizable({\n",
       "        start: function(event, ui) {\n",
       "            pass_mouse_events = false;\n",
       "        },\n",
       "        resize: function(event, ui) {\n",
       "            fig.request_resize(ui.size.width, ui.size.height);\n",
       "        },\n",
       "        stop: function(event, ui) {\n",
       "            pass_mouse_events = true;\n",
       "            fig.request_resize(ui.size.width, ui.size.height);\n",
       "        },\n",
       "    });\n",
       "\n",
       "    function mouse_event_fn(event) {\n",
       "        if (pass_mouse_events)\n",
       "            return fig.mouse_event(event, event['data']);\n",
       "    }\n",
       "\n",
       "    rubberband.mousedown('button_press', mouse_event_fn);\n",
       "    rubberband.mouseup('button_release', mouse_event_fn);\n",
       "    // Throttle sequential mouse events to 1 every 20ms.\n",
       "    rubberband.mousemove('motion_notify', mouse_event_fn);\n",
       "\n",
       "    rubberband.mouseenter('figure_enter', mouse_event_fn);\n",
       "    rubberband.mouseleave('figure_leave', mouse_event_fn);\n",
       "\n",
       "    canvas_div.on(\"wheel\", function (event) {\n",
       "        event = event.originalEvent;\n",
       "        event['data'] = 'scroll'\n",
       "        if (event.deltaY < 0) {\n",
       "            event.step = 1;\n",
       "        } else {\n",
       "            event.step = -1;\n",
       "        }\n",
       "        mouse_event_fn(event);\n",
       "    });\n",
       "\n",
       "    canvas_div.append(canvas);\n",
       "    canvas_div.append(rubberband);\n",
       "\n",
       "    this.rubberband = rubberband;\n",
       "    this.rubberband_canvas = rubberband[0];\n",
       "    this.rubberband_context = rubberband[0].getContext(\"2d\");\n",
       "    this.rubberband_context.strokeStyle = \"#000000\";\n",
       "\n",
       "    this._resize_canvas = function(width, height) {\n",
       "        // Keep the size of the canvas, canvas container, and rubber band\n",
       "        // canvas in synch.\n",
       "        canvas_div.css('width', width)\n",
       "        canvas_div.css('height', height)\n",
       "\n",
       "        canvas.attr('width', width * mpl.ratio);\n",
       "        canvas.attr('height', height * mpl.ratio);\n",
       "        canvas.attr('style', 'width: ' + width + 'px; height: ' + height + 'px;');\n",
       "\n",
       "        rubberband.attr('width', width);\n",
       "        rubberband.attr('height', height);\n",
       "    }\n",
       "\n",
       "    // Set the figure to an initial 600x600px, this will subsequently be updated\n",
       "    // upon first draw.\n",
       "    this._resize_canvas(600, 600);\n",
       "\n",
       "    // Disable right mouse context menu.\n",
       "    $(this.rubberband_canvas).bind(\"contextmenu\",function(e){\n",
       "        return false;\n",
       "    });\n",
       "\n",
       "    function set_focus () {\n",
       "        canvas.focus();\n",
       "        canvas_div.focus();\n",
       "    }\n",
       "\n",
       "    window.setTimeout(set_focus, 100);\n",
       "}\n",
       "\n",
       "mpl.figure.prototype._init_toolbar = function() {\n",
       "    var fig = this;\n",
       "\n",
       "    var nav_element = $('<div/>');\n",
       "    nav_element.attr('style', 'width: 100%');\n",
       "    this.root.append(nav_element);\n",
       "\n",
       "    // Define a callback function for later on.\n",
       "    function toolbar_event(event) {\n",
       "        return fig.toolbar_button_onclick(event['data']);\n",
       "    }\n",
       "    function toolbar_mouse_event(event) {\n",
       "        return fig.toolbar_button_onmouseover(event['data']);\n",
       "    }\n",
       "\n",
       "    for(var toolbar_ind in mpl.toolbar_items) {\n",
       "        var name = mpl.toolbar_items[toolbar_ind][0];\n",
       "        var tooltip = mpl.toolbar_items[toolbar_ind][1];\n",
       "        var image = mpl.toolbar_items[toolbar_ind][2];\n",
       "        var method_name = mpl.toolbar_items[toolbar_ind][3];\n",
       "\n",
       "        if (!name) {\n",
       "            // put a spacer in here.\n",
       "            continue;\n",
       "        }\n",
       "        var button = $('<button/>');\n",
       "        button.addClass('ui-button ui-widget ui-state-default ui-corner-all ' +\n",
       "                        'ui-button-icon-only');\n",
       "        button.attr('role', 'button');\n",
       "        button.attr('aria-disabled', 'false');\n",
       "        button.click(method_name, toolbar_event);\n",
       "        button.mouseover(tooltip, toolbar_mouse_event);\n",
       "\n",
       "        var icon_img = $('<span/>');\n",
       "        icon_img.addClass('ui-button-icon-primary ui-icon');\n",
       "        icon_img.addClass(image);\n",
       "        icon_img.addClass('ui-corner-all');\n",
       "\n",
       "        var tooltip_span = $('<span/>');\n",
       "        tooltip_span.addClass('ui-button-text');\n",
       "        tooltip_span.html(tooltip);\n",
       "\n",
       "        button.append(icon_img);\n",
       "        button.append(tooltip_span);\n",
       "\n",
       "        nav_element.append(button);\n",
       "    }\n",
       "\n",
       "    var fmt_picker_span = $('<span/>');\n",
       "\n",
       "    var fmt_picker = $('<select/>');\n",
       "    fmt_picker.addClass('mpl-toolbar-option ui-widget ui-widget-content');\n",
       "    fmt_picker_span.append(fmt_picker);\n",
       "    nav_element.append(fmt_picker_span);\n",
       "    this.format_dropdown = fmt_picker[0];\n",
       "\n",
       "    for (var ind in mpl.extensions) {\n",
       "        var fmt = mpl.extensions[ind];\n",
       "        var option = $(\n",
       "            '<option/>', {selected: fmt === mpl.default_extension}).html(fmt);\n",
       "        fmt_picker.append(option);\n",
       "    }\n",
       "\n",
       "    // Add hover states to the ui-buttons\n",
       "    $( \".ui-button\" ).hover(\n",
       "        function() { $(this).addClass(\"ui-state-hover\");},\n",
       "        function() { $(this).removeClass(\"ui-state-hover\");}\n",
       "    );\n",
       "\n",
       "    var status_bar = $('<span class=\"mpl-message\"/>');\n",
       "    nav_element.append(status_bar);\n",
       "    this.message = status_bar[0];\n",
       "}\n",
       "\n",
       "mpl.figure.prototype.request_resize = function(x_pixels, y_pixels) {\n",
       "    // Request matplotlib to resize the figure. Matplotlib will then trigger a resize in the client,\n",
       "    // which will in turn request a refresh of the image.\n",
       "    this.send_message('resize', {'width': x_pixels, 'height': y_pixels});\n",
       "}\n",
       "\n",
       "mpl.figure.prototype.send_message = function(type, properties) {\n",
       "    properties['type'] = type;\n",
       "    properties['figure_id'] = this.id;\n",
       "    this.ws.send(JSON.stringify(properties));\n",
       "}\n",
       "\n",
       "mpl.figure.prototype.send_draw_message = function() {\n",
       "    if (!this.waiting) {\n",
       "        this.waiting = true;\n",
       "        this.ws.send(JSON.stringify({type: \"draw\", figure_id: this.id}));\n",
       "    }\n",
       "}\n",
       "\n",
       "\n",
       "mpl.figure.prototype.handle_save = function(fig, msg) {\n",
       "    var format_dropdown = fig.format_dropdown;\n",
       "    var format = format_dropdown.options[format_dropdown.selectedIndex].value;\n",
       "    fig.ondownload(fig, format);\n",
       "}\n",
       "\n",
       "\n",
       "mpl.figure.prototype.handle_resize = function(fig, msg) {\n",
       "    var size = msg['size'];\n",
       "    if (size[0] != fig.canvas.width || size[1] != fig.canvas.height) {\n",
       "        fig._resize_canvas(size[0], size[1]);\n",
       "        fig.send_message(\"refresh\", {});\n",
       "    };\n",
       "}\n",
       "\n",
       "mpl.figure.prototype.handle_rubberband = function(fig, msg) {\n",
       "    var x0 = msg['x0'] / mpl.ratio;\n",
       "    var y0 = (fig.canvas.height - msg['y0']) / mpl.ratio;\n",
       "    var x1 = msg['x1'] / mpl.ratio;\n",
       "    var y1 = (fig.canvas.height - msg['y1']) / mpl.ratio;\n",
       "    x0 = Math.floor(x0) + 0.5;\n",
       "    y0 = Math.floor(y0) + 0.5;\n",
       "    x1 = Math.floor(x1) + 0.5;\n",
       "    y1 = Math.floor(y1) + 0.5;\n",
       "    var min_x = Math.min(x0, x1);\n",
       "    var min_y = Math.min(y0, y1);\n",
       "    var width = Math.abs(x1 - x0);\n",
       "    var height = Math.abs(y1 - y0);\n",
       "\n",
       "    fig.rubberband_context.clearRect(\n",
       "        0, 0, fig.canvas.width / mpl.ratio, fig.canvas.height / mpl.ratio);\n",
       "\n",
       "    fig.rubberband_context.strokeRect(min_x, min_y, width, height);\n",
       "}\n",
       "\n",
       "mpl.figure.prototype.handle_figure_label = function(fig, msg) {\n",
       "    // Updates the figure title.\n",
       "    fig.header.textContent = msg['label'];\n",
       "}\n",
       "\n",
       "mpl.figure.prototype.handle_cursor = function(fig, msg) {\n",
       "    var cursor = msg['cursor'];\n",
       "    switch(cursor)\n",
       "    {\n",
       "    case 0:\n",
       "        cursor = 'pointer';\n",
       "        break;\n",
       "    case 1:\n",
       "        cursor = 'default';\n",
       "        break;\n",
       "    case 2:\n",
       "        cursor = 'crosshair';\n",
       "        break;\n",
       "    case 3:\n",
       "        cursor = 'move';\n",
       "        break;\n",
       "    }\n",
       "    fig.rubberband_canvas.style.cursor = cursor;\n",
       "}\n",
       "\n",
       "mpl.figure.prototype.handle_message = function(fig, msg) {\n",
       "    fig.message.textContent = msg['message'];\n",
       "}\n",
       "\n",
       "mpl.figure.prototype.handle_draw = function(fig, msg) {\n",
       "    // Request the server to send over a new figure.\n",
       "    fig.send_draw_message();\n",
       "}\n",
       "\n",
       "mpl.figure.prototype.handle_image_mode = function(fig, msg) {\n",
       "    fig.image_mode = msg['mode'];\n",
       "}\n",
       "\n",
       "mpl.figure.prototype.updated_canvas_event = function() {\n",
       "    // Called whenever the canvas gets updated.\n",
       "    this.send_message(\"ack\", {});\n",
       "}\n",
       "\n",
       "// A function to construct a web socket function for onmessage handling.\n",
       "// Called in the figure constructor.\n",
       "mpl.figure.prototype._make_on_message_function = function(fig) {\n",
       "    return function socket_on_message(evt) {\n",
       "        if (evt.data instanceof Blob) {\n",
       "            /* FIXME: We get \"Resource interpreted as Image but\n",
       "             * transferred with MIME type text/plain:\" errors on\n",
       "             * Chrome.  But how to set the MIME type?  It doesn't seem\n",
       "             * to be part of the websocket stream */\n",
       "            evt.data.type = \"image/png\";\n",
       "\n",
       "            /* Free the memory for the previous frames */\n",
       "            if (fig.imageObj.src) {\n",
       "                (window.URL || window.webkitURL).revokeObjectURL(\n",
       "                    fig.imageObj.src);\n",
       "            }\n",
       "\n",
       "            fig.imageObj.src = (window.URL || window.webkitURL).createObjectURL(\n",
       "                evt.data);\n",
       "            fig.updated_canvas_event();\n",
       "            fig.waiting = false;\n",
       "            return;\n",
       "        }\n",
       "        else if (typeof evt.data === 'string' && evt.data.slice(0, 21) == \"data:image/png;base64\") {\n",
       "            fig.imageObj.src = evt.data;\n",
       "            fig.updated_canvas_event();\n",
       "            fig.waiting = false;\n",
       "            return;\n",
       "        }\n",
       "\n",
       "        var msg = JSON.parse(evt.data);\n",
       "        var msg_type = msg['type'];\n",
       "\n",
       "        // Call the  \"handle_{type}\" callback, which takes\n",
       "        // the figure and JSON message as its only arguments.\n",
       "        try {\n",
       "            var callback = fig[\"handle_\" + msg_type];\n",
       "        } catch (e) {\n",
       "            console.log(\"No handler for the '\" + msg_type + \"' message type: \", msg);\n",
       "            return;\n",
       "        }\n",
       "\n",
       "        if (callback) {\n",
       "            try {\n",
       "                // console.log(\"Handling '\" + msg_type + \"' message: \", msg);\n",
       "                callback(fig, msg);\n",
       "            } catch (e) {\n",
       "                console.log(\"Exception inside the 'handler_\" + msg_type + \"' callback:\", e, e.stack, msg);\n",
       "            }\n",
       "        }\n",
       "    };\n",
       "}\n",
       "\n",
       "// from http://stackoverflow.com/questions/1114465/getting-mouse-location-in-canvas\n",
       "mpl.findpos = function(e) {\n",
       "    //this section is from http://www.quirksmode.org/js/events_properties.html\n",
       "    var targ;\n",
       "    if (!e)\n",
       "        e = window.event;\n",
       "    if (e.target)\n",
       "        targ = e.target;\n",
       "    else if (e.srcElement)\n",
       "        targ = e.srcElement;\n",
       "    if (targ.nodeType == 3) // defeat Safari bug\n",
       "        targ = targ.parentNode;\n",
       "\n",
       "    // jQuery normalizes the pageX and pageY\n",
       "    // pageX,Y are the mouse positions relative to the document\n",
       "    // offset() returns the position of the element relative to the document\n",
       "    var x = e.pageX - $(targ).offset().left;\n",
       "    var y = e.pageY - $(targ).offset().top;\n",
       "\n",
       "    return {\"x\": x, \"y\": y};\n",
       "};\n",
       "\n",
       "/*\n",
       " * return a copy of an object with only non-object keys\n",
       " * we need this to avoid circular references\n",
       " * http://stackoverflow.com/a/24161582/3208463\n",
       " */\n",
       "function simpleKeys (original) {\n",
       "  return Object.keys(original).reduce(function (obj, key) {\n",
       "    if (typeof original[key] !== 'object')\n",
       "        obj[key] = original[key]\n",
       "    return obj;\n",
       "  }, {});\n",
       "}\n",
       "\n",
       "mpl.figure.prototype.mouse_event = function(event, name) {\n",
       "    var canvas_pos = mpl.findpos(event)\n",
       "\n",
       "    if (name === 'button_press')\n",
       "    {\n",
       "        this.canvas.focus();\n",
       "        this.canvas_div.focus();\n",
       "    }\n",
       "\n",
       "    var x = canvas_pos.x * mpl.ratio;\n",
       "    var y = canvas_pos.y * mpl.ratio;\n",
       "\n",
       "    this.send_message(name, {x: x, y: y, button: event.button,\n",
       "                             step: event.step,\n",
       "                             guiEvent: simpleKeys(event)});\n",
       "\n",
       "    /* This prevents the web browser from automatically changing to\n",
       "     * the text insertion cursor when the button is pressed.  We want\n",
       "     * to control all of the cursor setting manually through the\n",
       "     * 'cursor' event from matplotlib */\n",
       "    event.preventDefault();\n",
       "    return false;\n",
       "}\n",
       "\n",
       "mpl.figure.prototype._key_event_extra = function(event, name) {\n",
       "    // Handle any extra behaviour associated with a key event\n",
       "}\n",
       "\n",
       "mpl.figure.prototype.key_event = function(event, name) {\n",
       "\n",
       "    // Prevent repeat events\n",
       "    if (name == 'key_press')\n",
       "    {\n",
       "        if (event.which === this._key)\n",
       "            return;\n",
       "        else\n",
       "            this._key = event.which;\n",
       "    }\n",
       "    if (name == 'key_release')\n",
       "        this._key = null;\n",
       "\n",
       "    var value = '';\n",
       "    if (event.ctrlKey && event.which != 17)\n",
       "        value += \"ctrl+\";\n",
       "    if (event.altKey && event.which != 18)\n",
       "        value += \"alt+\";\n",
       "    if (event.shiftKey && event.which != 16)\n",
       "        value += \"shift+\";\n",
       "\n",
       "    value += 'k';\n",
       "    value += event.which.toString();\n",
       "\n",
       "    this._key_event_extra(event, name);\n",
       "\n",
       "    this.send_message(name, {key: value,\n",
       "                             guiEvent: simpleKeys(event)});\n",
       "    return false;\n",
       "}\n",
       "\n",
       "mpl.figure.prototype.toolbar_button_onclick = function(name) {\n",
       "    if (name == 'download') {\n",
       "        this.handle_save(this, null);\n",
       "    } else {\n",
       "        this.send_message(\"toolbar_button\", {name: name});\n",
       "    }\n",
       "};\n",
       "\n",
       "mpl.figure.prototype.toolbar_button_onmouseover = function(tooltip) {\n",
       "    this.message.textContent = tooltip;\n",
       "};\n",
       "mpl.toolbar_items = [[\"Home\", \"Reset original view\", \"fa fa-home icon-home\", \"home\"], [\"Back\", \"Back to previous view\", \"fa fa-arrow-left icon-arrow-left\", \"back\"], [\"Forward\", \"Forward to next view\", \"fa fa-arrow-right icon-arrow-right\", \"forward\"], [\"\", \"\", \"\", \"\"], [\"Pan\", \"Pan axes with left mouse, zoom with right\", \"fa fa-arrows icon-move\", \"pan\"], [\"Zoom\", \"Zoom to rectangle\", \"fa fa-square-o icon-check-empty\", \"zoom\"], [\"\", \"\", \"\", \"\"], [\"Download\", \"Download plot\", \"fa fa-floppy-o icon-save\", \"download\"]];\n",
       "\n",
       "mpl.extensions = [\"eps\", \"pdf\", \"png\", \"ps\", \"raw\", \"svg\"];\n",
       "\n",
       "mpl.default_extension = \"png\";var comm_websocket_adapter = function(comm) {\n",
       "    // Create a \"websocket\"-like object which calls the given IPython comm\n",
       "    // object with the appropriate methods. Currently this is a non binary\n",
       "    // socket, so there is still some room for performance tuning.\n",
       "    var ws = {};\n",
       "\n",
       "    ws.close = function() {\n",
       "        comm.close()\n",
       "    };\n",
       "    ws.send = function(m) {\n",
       "        //console.log('sending', m);\n",
       "        comm.send(m);\n",
       "    };\n",
       "    // Register the callback with on_msg.\n",
       "    comm.on_msg(function(msg) {\n",
       "        //console.log('receiving', msg['content']['data'], msg);\n",
       "        // Pass the mpl event to the overridden (by mpl) onmessage function.\n",
       "        ws.onmessage(msg['content']['data'])\n",
       "    });\n",
       "    return ws;\n",
       "}\n",
       "\n",
       "mpl.mpl_figure_comm = function(comm, msg) {\n",
       "    // This is the function which gets called when the mpl process\n",
       "    // starts-up an IPython Comm through the \"matplotlib\" channel.\n",
       "\n",
       "    var id = msg.content.data.id;\n",
       "    // Get hold of the div created by the display call when the Comm\n",
       "    // socket was opened in Python.\n",
       "    var element = $(\"#\" + id);\n",
       "    var ws_proxy = comm_websocket_adapter(comm)\n",
       "\n",
       "    function ondownload(figure, format) {\n",
       "        window.open(figure.imageObj.src);\n",
       "    }\n",
       "\n",
       "    var fig = new mpl.figure(id, ws_proxy,\n",
       "                           ondownload,\n",
       "                           element.get(0));\n",
       "\n",
       "    // Call onopen now - mpl needs it, as it is assuming we've passed it a real\n",
       "    // web socket which is closed, not our websocket->open comm proxy.\n",
       "    ws_proxy.onopen();\n",
       "\n",
       "    fig.parent_element = element.get(0);\n",
       "    fig.cell_info = mpl.find_output_cell(\"<div id='\" + id + \"'></div>\");\n",
       "    if (!fig.cell_info) {\n",
       "        console.error(\"Failed to find cell for figure\", id, fig);\n",
       "        return;\n",
       "    }\n",
       "\n",
       "    var output_index = fig.cell_info[2]\n",
       "    var cell = fig.cell_info[0];\n",
       "\n",
       "};\n",
       "\n",
       "mpl.figure.prototype.handle_close = function(fig, msg) {\n",
       "    var width = fig.canvas.width/mpl.ratio\n",
       "    fig.root.unbind('remove')\n",
       "\n",
       "    // Update the output cell to use the data from the current canvas.\n",
       "    fig.push_to_output();\n",
       "    var dataURL = fig.canvas.toDataURL();\n",
       "    // Re-enable the keyboard manager in IPython - without this line, in FF,\n",
       "    // the notebook keyboard shortcuts fail.\n",
       "    IPython.keyboard_manager.enable()\n",
       "    $(fig.parent_element).html('<img src=\"' + dataURL + '\" width=\"' + width + '\">');\n",
       "    fig.close_ws(fig, msg);\n",
       "}\n",
       "\n",
       "mpl.figure.prototype.close_ws = function(fig, msg){\n",
       "    fig.send_message('closing', msg);\n",
       "    // fig.ws.close()\n",
       "}\n",
       "\n",
       "mpl.figure.prototype.push_to_output = function(remove_interactive) {\n",
       "    // Turn the data on the canvas into data in the output cell.\n",
       "    var width = this.canvas.width/mpl.ratio\n",
       "    var dataURL = this.canvas.toDataURL();\n",
       "    this.cell_info[1]['text/html'] = '<img src=\"' + dataURL + '\" width=\"' + width + '\">';\n",
       "}\n",
       "\n",
       "mpl.figure.prototype.updated_canvas_event = function() {\n",
       "    // Tell IPython that the notebook contents must change.\n",
       "    IPython.notebook.set_dirty(true);\n",
       "    this.send_message(\"ack\", {});\n",
       "    var fig = this;\n",
       "    // Wait a second, then push the new image to the DOM so\n",
       "    // that it is saved nicely (might be nice to debounce this).\n",
       "    setTimeout(function () { fig.push_to_output() }, 1000);\n",
       "}\n",
       "\n",
       "mpl.figure.prototype._init_toolbar = function() {\n",
       "    var fig = this;\n",
       "\n",
       "    var nav_element = $('<div/>');\n",
       "    nav_element.attr('style', 'width: 100%');\n",
       "    this.root.append(nav_element);\n",
       "\n",
       "    // Define a callback function for later on.\n",
       "    function toolbar_event(event) {\n",
       "        return fig.toolbar_button_onclick(event['data']);\n",
       "    }\n",
       "    function toolbar_mouse_event(event) {\n",
       "        return fig.toolbar_button_onmouseover(event['data']);\n",
       "    }\n",
       "\n",
       "    for(var toolbar_ind in mpl.toolbar_items){\n",
       "        var name = mpl.toolbar_items[toolbar_ind][0];\n",
       "        var tooltip = mpl.toolbar_items[toolbar_ind][1];\n",
       "        var image = mpl.toolbar_items[toolbar_ind][2];\n",
       "        var method_name = mpl.toolbar_items[toolbar_ind][3];\n",
       "\n",
       "        if (!name) { continue; };\n",
       "\n",
       "        var button = $('<button class=\"btn btn-default\" href=\"#\" title=\"' + name + '\"><i class=\"fa ' + image + ' fa-lg\"></i></button>');\n",
       "        button.click(method_name, toolbar_event);\n",
       "        button.mouseover(tooltip, toolbar_mouse_event);\n",
       "        nav_element.append(button);\n",
       "    }\n",
       "\n",
       "    // Add the status bar.\n",
       "    var status_bar = $('<span class=\"mpl-message\" style=\"text-align:right; float: right;\"/>');\n",
       "    nav_element.append(status_bar);\n",
       "    this.message = status_bar[0];\n",
       "\n",
       "    // Add the close button to the window.\n",
       "    var buttongrp = $('<div class=\"btn-group inline pull-right\"></div>');\n",
       "    var button = $('<button class=\"btn btn-mini btn-primary\" href=\"#\" title=\"Stop Interaction\"><i class=\"fa fa-power-off icon-remove icon-large\"></i></button>');\n",
       "    button.click(function (evt) { fig.handle_close(fig, {}); } );\n",
       "    button.mouseover('Stop Interaction', toolbar_mouse_event);\n",
       "    buttongrp.append(button);\n",
       "    var titlebar = this.root.find($('.ui-dialog-titlebar'));\n",
       "    titlebar.prepend(buttongrp);\n",
       "}\n",
       "\n",
       "mpl.figure.prototype._root_extra_style = function(el){\n",
       "    var fig = this\n",
       "    el.on(\"remove\", function(){\n",
       "\tfig.close_ws(fig, {});\n",
       "    });\n",
       "}\n",
       "\n",
       "mpl.figure.prototype._canvas_extra_style = function(el){\n",
       "    // this is important to make the div 'focusable\n",
       "    el.attr('tabindex', 0)\n",
       "    // reach out to IPython and tell the keyboard manager to turn it's self\n",
       "    // off when our div gets focus\n",
       "\n",
       "    // location in version 3\n",
       "    if (IPython.notebook.keyboard_manager) {\n",
       "        IPython.notebook.keyboard_manager.register_events(el);\n",
       "    }\n",
       "    else {\n",
       "        // location in version 2\n",
       "        IPython.keyboard_manager.register_events(el);\n",
       "    }\n",
       "\n",
       "}\n",
       "\n",
       "mpl.figure.prototype._key_event_extra = function(event, name) {\n",
       "    var manager = IPython.notebook.keyboard_manager;\n",
       "    if (!manager)\n",
       "        manager = IPython.keyboard_manager;\n",
       "\n",
       "    // Check for shift+enter\n",
       "    if (event.shiftKey && event.which == 13) {\n",
       "        this.canvas_div.blur();\n",
       "        // select the cell after this one\n",
       "        var index = IPython.notebook.find_cell_index(this.cell_info[0]);\n",
       "        IPython.notebook.select(index + 1);\n",
       "    }\n",
       "}\n",
       "\n",
       "mpl.figure.prototype.handle_save = function(fig, msg) {\n",
       "    fig.ondownload(fig, null);\n",
       "}\n",
       "\n",
       "\n",
       "mpl.find_output_cell = function(html_output) {\n",
       "    // Return the cell and output element which can be found *uniquely* in the notebook.\n",
       "    // Note - this is a bit hacky, but it is done because the \"notebook_saving.Notebook\"\n",
       "    // IPython event is triggered only after the cells have been serialised, which for\n",
       "    // our purposes (turning an active figure into a static one), is too late.\n",
       "    var cells = IPython.notebook.get_cells();\n",
       "    var ncells = cells.length;\n",
       "    for (var i=0; i<ncells; i++) {\n",
       "        var cell = cells[i];\n",
       "        if (cell.cell_type === 'code'){\n",
       "            for (var j=0; j<cell.output_area.outputs.length; j++) {\n",
       "                var data = cell.output_area.outputs[j];\n",
       "                if (data.data) {\n",
       "                    // IPython >= 3 moved mimebundle to data attribute of output\n",
       "                    data = data.data;\n",
       "                }\n",
       "                if (data['text/html'] == html_output) {\n",
       "                    return [cell, data, j];\n",
       "                }\n",
       "            }\n",
       "        }\n",
       "    }\n",
       "}\n",
       "\n",
       "// Register the function which deals with the matplotlib target/channel.\n",
       "// The kernel may be null if the page has been refreshed.\n",
       "if (IPython.notebook.kernel != null) {\n",
       "    IPython.notebook.kernel.comm_manager.register_target('matplotlib', mpl.mpl_figure_comm);\n",
       "}\n"
      ],
      "text/plain": [
       "<IPython.core.display.Javascript object>"
      ]
     },
     "metadata": {},
     "output_type": "display_data"
    },
    {
     "data": {
      "text/html": [
       "<img src=\"data:image/png;base64,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\" width=\"640\">"
      ],
      "text/plain": [
       "<IPython.core.display.HTML object>"
      ]
     },
     "metadata": {},
     "output_type": "display_data"
    },
    {
     "data": {
      "application/vnd.jupyter.widget-view+json": {
       "model_id": "71c1e9ea4c27413eaa68fda2b5afc33d",
       "version_major": 2,
       "version_minor": 0
      },
      "text/plain": [
       "interactive(children=(FloatSlider(value=10.0, description='sample_rate', max=25.0, min=1.0), FloatSlider(value…"
      ]
     },
     "metadata": {},
     "output_type": "display_data"
    }
   ],
   "source": [
    "t, sample_rate, frequency, phase = numpy.linspace(0, 2, 1001), 10, 1, 0\n",
    "signal = lambda t, f=1., phi=0: numpy.sin(2*pi*t*f+phi)\n",
    "\n",
    "fig, ax = plt.subplots()\n",
    "\n",
    "@interact(sample_rate=(1,25, 0.1), frequency=(-9,10, 0.1), phase=(-6, 6, 0.1))\n",
    "def sampled_sinwave(sample_rate=sample_rate, frequency=frequency, phase=0.):\n",
    "    ax.cla()\n",
    "    t_samples = numpy.arange(min(t), max(t), 1./sample_rate)\n",
    "    x, x_sampled = signal(t, frequency, phase), signal(t_samples, frequency, phase)\n",
    "    ax.plot(t, x, label='Original Signal')\n",
    "    ax.stem(t_samples, x_sampled, linefmt='r', label='Sampled', use_line_collection=True)\n",
    "    ax.plot(t_samples, x_sampled, '--k', label='Recovered')\n",
    "    ax.legend(loc='lower left')\n",
    "    fig.canvas.draw_idle()\n",
    "    fig.tight_layout()\n",
    "\n"
   ]
  },
  {
   "cell_type": "markdown",
   "metadata": {
    "slideshow": {
     "slide_type": "slide"
    }
   },
   "source": [
    "## What Signals We Are Considering\n"
   ]
  },
  {
   "cell_type": "markdown",
   "metadata": {},
   "source": []
  },
  {
   "cell_type": "code",
   "execution_count": null,
   "metadata": {},
   "outputs": [],
   "source": []
  },
  {
   "cell_type": "markdown",
   "metadata": {
    "slideshow": {
     "slide_type": "slide"
    }
   },
   "source": []
  },
  {
   "cell_type": "code",
   "execution_count": null,
   "metadata": {},
   "outputs": [],
   "source": []
  },
  {
   "cell_type": "markdown",
   "metadata": {
    "slideshow": {
     "slide_type": "slide"
    }
   },
   "source": [
    "##  Kinds of basic RF problems\n",
    "\n",
    "#### Communication\n",
    "  + Getting data between places\n",
    "\n",
    "#### Radar\n",
    "  + Using radio waves to sense something\n",
    "\n",
    "#### Passive Inference\n",
    "  + Using Emotions that already exist what can I figure out"
   ]
  },
  {
   "cell_type": "markdown",
   "metadata": {
    "slideshow": {
     "slide_type": "fragment"
    }
   },
   "source": [
    "## Time Series\n",
    "  + Sampled at a regular  \n",
    "  + "
   ]
  },
  {
   "cell_type": "markdown",
   "metadata": {
    "slideshow": {
     "slide_type": "fragment"
    }
   },
   "source": [
    "#### Radio Signals\n",
    "  + Can we capture it we a Software Defined Radio (SDR)"
   ]
  },
  {
   "cell_type": "markdown",
   "metadata": {
    "slideshow": {
     "slide_type": "fragment"
    }
   },
   "source": [
    "### Single Channel\n",
    "  + 1 dimension to each sample"
   ]
  },
  {
   "cell_type": "markdown",
   "metadata": {
    "slideshow": {
     "slide_type": "fragment"
    }
   },
   "source": [
    "### Narrowband\n",
    "  + Bandwidth of the signal is smaller than it's center frequency\n",
    "  "
   ]
  },
  {
   "cell_type": "code",
   "execution_count": null,
   "metadata": {},
   "outputs": [],
   "source": []
  },
  {
   "cell_type": "markdown",
   "metadata": {
    "slideshow": {
     "slide_type": "slide"
    }
   },
   "source": [
    "## Properties of Operations on Signals (Systems)\n",
    "  + Linearity\n",
    "  + Time Inverance \n",
    "  + Bounded Input Bounded Output\n",
    "  + Dirivatives and Differences\n",
    "  + Integrates and Sumations \n",
    "  + Useful Non-linear Functions\n",
    "    + ABS\n",
    "    + Squared\n",
    "    + Distance\n",
    "    + Log and Decibels"
   ]
  },
  {
   "cell_type": "markdown",
   "metadata": {
    "slideshow": {
     "slide_type": "subslide"
    }
   },
   "source": [
    "### Linearity\n",
    "\n",
    "  + Additivity\n",
    "$$ f(a+b) = f(a) + f(b) $$\n",
    "\n",
    "\n",
    "\n",
    "  + Homogeneity \n",
    "$$ f(\\alpha \\: x) = \\alpha \\: f(x) $$\n",
    "\n",
    "\n",
    "\n",
    "  + Approximately linear\n",
    "  \n",
    "    + Useful approximation\n",
    "    \n",
    "    + For b << a $f(a+b)$ can be treated as linear\n",
    "    \n",
    "    $$ f(a+b) \\approx f(a) + f(b) \\quad for \\:\\: b << a $$"
   ]
  },
  {
   "cell_type": "markdown",
   "metadata": {
    "slideshow": {
     "slide_type": "subslide"
    }
   },
   "source": [
    "#### Linear ?\n",
    "Is the function linear, non-linear, Approximately linear?\n",
    "  \n",
    "  1.  \n",
    "  \n",
    "  $$ f(x) = 3 \\cdot x $$"
   ]
  },
  {
   "cell_type": "markdown",
   "metadata": {
    "slideshow": {
     "slide_type": "fragment"
    }
   },
   "source": [
    "  2. \n",
    "  \n",
    "  $$ f(x) = 0 \\cdot x $$"
   ]
  },
  {
   "cell_type": "markdown",
   "metadata": {
    "slideshow": {
     "slide_type": "fragment"
    }
   },
   "source": [
    "  3. \n",
    "  \n",
    "  $$ f(x) = 2 \\cdot x+1 $$"
   ]
  },
  {
   "cell_type": "markdown",
   "metadata": {
    "slideshow": {
     "slide_type": "fragment"
    }
   },
   "source": [
    "  4. \n",
    "  \n",
    "  $$ f(x) = x^{2} $$"
   ]
  },
  {
   "cell_type": "markdown",
   "metadata": {
    "slideshow": {
     "slide_type": "subslide"
    }
   },
   "source": [
    "### Time Inverance\n",
    "\n",
    "  + Function or System not dependent on what time it is\n",
    "  \n",
    "  $$ y(t) = f(x, t) = f(x, t+a) \\quad for \\: any \\: a $$"
   ]
  },
  {
   "cell_type": "markdown",
   "metadata": {
    "slideshow": {
     "slide_type": "fragment"
    }
   },
   "source": [
    "#### Time Inverent ?\n",
    "\n",
    "  1. \n",
    "  \n",
    "  $$ f(x) = 10 \\cdot x $$"
   ]
  },
  {
   "cell_type": "markdown",
   "metadata": {
    "slideshow": {
     "slide_type": "fragment"
    }
   },
   "source": [
    "  2. \n",
    "  $$ f(x) = x^{2} + 2x + 1 $$"
   ]
  },
  {
   "cell_type": "markdown",
   "metadata": {
    "slideshow": {
     "slide_type": "fragment"
    }
   },
   "source": [
    " 3. \n",
    "    $$ f(x) = t \\cdot x $$"
   ]
  },
  {
   "cell_type": "markdown",
   "metadata": {
    "slideshow": {
     "slide_type": "fragment"
    }
   },
   "source": [
    "  4. \n",
    "  $$ f(x) = x * \\delta(t-1) $$\n",
    "  \n",
    "    + What is that symbol \"$*$\" ? \n",
    "    + What about that other symbol \"$\\delta$\"?"
   ]
  },
  {
   "cell_type": "markdown",
   "metadata": {
    "slideshow": {
     "slide_type": "subslide"
    }
   },
   "source": [
    "###  Bounded Input Bounded Output\n",
    "\n",
    "  + For any input of limited energy the output energy is limited\n",
    "  \n",
    "$$ \\int_{- \\infty}^{\\infty} | \\: f(x) \\:  | \\: dt \\: < \\: \\infty  \\quad  for \\: \\int_{- \\infty}^{\\infty} | \\: x \\:  | \\: dt < \\infty$$"
   ]
  },
  {
   "cell_type": "markdown",
   "metadata": {
    "slideshow": {
     "slide_type": "fragment"
    }
   },
   "source": [
    "#### BIBO System?\n",
    "\n",
    "1. \n",
    "$$ f(x) = 5 \\cdot x + 2 $$"
   ]
  },
  {
   "cell_type": "markdown",
   "metadata": {
    "slideshow": {
     "slide_type": "fragment"
    }
   },
   "source": [
    "  2. \n",
    "  $$ f(x) = x^2 $$"
   ]
  },
  {
   "cell_type": "markdown",
   "metadata": {
    "slideshow": {
     "slide_type": "fragment"
    }
   },
   "source": [
    "  3. \n",
    "  $$ f(x) =  \\cfrac{1}{x} $$"
   ]
  },
  {
   "cell_type": "markdown",
   "metadata": {
    "slideshow": {
     "slide_type": "fragment"
    }
   },
   "source": [
    "  4. \n",
    "  $$ f(x) = \\int_{-\\infty}^{t} x^{2}(\\tau) \\: d \\tau $$"
   ]
  },
  {
   "cell_type": "markdown",
   "metadata": {
    "slideshow": {
     "slide_type": "subslide"
    }
   },
   "source": [
    "### Dirivatives and Differences\n",
    "\n",
    "#### Dirivative\n",
    "The rate of chage with respect to another variable.\n",
    "\n",
    "# Insert Dirivative Graphic"
   ]
  },
  {
   "cell_type": "markdown",
   "metadata": {
    "slideshow": {
     "slide_type": "subslide"
    }
   },
   "source": []
  },
  {
   "cell_type": "markdown",
   "metadata": {},
   "source": []
  },
  {
   "cell_type": "markdown",
   "metadata": {
    "cell_style": "split",
    "slideshow": {
     "slide_type": "slide"
    }
   },
   "source": [
    "## Random Varaibles\n",
    "  + Basics of Probablilty\n",
    "    + Total Probablilty\n",
    "    + Probability Density Function\n",
    "    + Cumulative Distribution Function\n",
    "  + Continuous Vs. Discrete\n",
    "  + Common Distributions\n",
    "      + Uniform\n",
    "      + Exponential\n",
    "      + Gaussian\n",
    "      + Chi Squared\n"
   ]
  },
  {
   "cell_type": "markdown",
   "metadata": {
    "cell_style": "split",
    "slideshow": {
     "slide_type": "-"
    }
   },
   "source": [
    "  + Conditional Probability \n",
    "  + Mean, Variance, and higher Moments\n",
    "  + Correlation\n",
    "  + Independent and identically Distributed Random Variables\n",
    "  + Operations on random variables\n",
    "  + Central Limit Theorem"
   ]
  },
  {
   "cell_type": "markdown",
   "metadata": {},
   "source": [
    "### Source of Noise\n",
    "\n",
    "\n",
    "\n"
   ]
  },
  {
   "cell_type": "markdown",
   "metadata": {
    "slideshow": {
     "slide_type": "subslide"
    }
   },
   "source": [
    "### Basics Probability\n",
    "\n",
    "  \n",
    "  <img src=\"probability.png?1\" width=\"75%\" >"
   ]
  },
  {
   "cell_type": "markdown",
   "metadata": {
    "slideshow": {
     "slide_type": "subslide"
    }
   },
   "source": [
    "#### Total Probability\n",
    "    + Sum of all included outcomes is 1\n",
    "    \n",
    " \n",
    " <img src=\"probability_total.png?1\" width=\"75%\" >"
   ]
  },
  {
   "cell_type": "markdown",
   "metadata": {
    "slideshow": {
     "slide_type": "subslide"
    }
   },
   "source": [
    "#### Probability of 1?\n",
    "Given a random number generator what are the odd's it will return 1?\n",
    "\n",
    "<img src=\"probability_point.png?1\" width=\"75%\" >\n",
    "\n"
   ]
  },
  {
   "cell_type": "markdown",
   "metadata": {
    "slideshow": {
     "slide_type": "subslide"
    }
   },
   "source": [
    "#### Probability less than 0\n",
    "\n",
    "<img src=\"probability_regoin.png?1\" width=\"75%\">"
   ]
  },
  {
   "cell_type": "markdown",
   "metadata": {
    "slideshow": {
     "slide_type": "subslide"
    }
   },
   "source": [
    "### Probability Density Function\n",
    "\n",
    "  <img src=\"probability.png?1\" width=\"75%\" >"
   ]
  },
  {
   "cell_type": "markdown",
   "metadata": {
    "slideshow": {
     "slide_type": "subslide"
    }
   },
   "source": [
    "### Cumulative Density Function\n",
    "\n",
    "<img src=\"probability_pdf_cdf.png?1\" width=\"65%\">"
   ]
  },
  {
   "cell_type": "markdown",
   "metadata": {
    "cell_style": "split",
    "slideshow": {
     "slide_type": "subslide"
    }
   },
   "source": [
    "### Statistical Moments \n",
    "$$ \\bf x \\sim \\mathcal{\\bf P} \\: \\quad \\: P(x)= \\cdots $$\n",
    "\n",
    "##### Total Probabilty\n",
    "$$ 1 =  \\int_{-\\infty}^{\\infty} P(x) dx \\\\= \\sum P(x_i)$$\n",
    "\n",
    "##### Mean\n",
    "$$ \\mu = E(\\bf X) =  \\int_{-\\infty}^{\\infty} xP(x) dx \\\\= \\sum x_i P(x_i)$$\n",
    "\n"
   ]
  },
  {
   "cell_type": "markdown",
   "metadata": {
    "cell_style": "split",
    "slideshow": {
     "slide_type": "-"
    }
   },
   "source": [
    "##### Variance\n",
    "$$ \\sigma^2 = Var(\\bf X) =  \\int_{-\\infty}^{\\infty} (x-\\mu)^2 P(x) dx \\\\= \\sum (x_i-\\mu)^2 P(x_i)\n",
    "$$"
   ]
  },
  {
   "cell_type": "markdown",
   "metadata": {
    "slideshow": {
     "slide_type": "notes"
    }
   },
   "source": []
  },
  {
   "cell_type": "markdown",
   "metadata": {
    "cell_style": "split",
    "slideshow": {
     "slide_type": "subslide"
    }
   },
   "source": [
    "##### Skew\n",
    "$$ Skew(\\bf X) =  \\int_{-\\infty}^{\\infty} \\left ( \\cfrac{x-\\mu}{\\sigma} \\right )^3 P(x) dx \\\\= \\sum \\left ( \\cfrac{x-\\mu}{\\sigma} \\right )^3 P(x_i)\n",
    "$$\n",
    "#### Excess Kurtosis\n",
    "$$ Kurt(\\bf X) =  \\int_{-\\infty}^{\\infty} \\left ( \\cfrac{x-\\mu}{\\sigma} \\right )^4 P(x) dx \\\\= \\sum \\left ( \\cfrac{x-\\mu}{\\sigma} \\right )^4 P(x_i)\n",
    "$$\n",
    "\n"
   ]
  },
  {
   "cell_type": "markdown",
   "metadata": {
    "cell_style": "split",
    "slideshow": {
     "slide_type": "-"
    }
   },
   "source": [
    "### Information\n",
    "\n",
    "\n",
    "##### Entropy \n",
    "\n",
    "$$ H(\\bf X) = -\\int_{-\\infty}^{\\infty} P(x) ln \\left ( P(x) \\right ) dx \\\\= -\\sum P(x) ln \\left ( P(x) \\right )\n",
    "$$"
   ]
  },
  {
   "cell_type": "code",
   "execution_count": null,
   "metadata": {
    "slideshow": {
     "slide_type": "notes"
    }
   },
   "outputs": [],
   "source": []
  },
  {
   "cell_type": "markdown",
   "metadata": {
    "cell_style": "split",
    "slideshow": {
     "slide_type": "subslide"
    }
   },
   "source": [
    "### Continuous \n",
    "+ Likelihood function\n",
    "  + Non-negative\n",
    "  + Can be greater than 1\n",
    "  + Probability density Function (PDF)\n",
    "\n",
    "<img src=\"probability.png?2\" width=\"90%\" >"
   ]
  },
  {
   "cell_type": "markdown",
   "metadata": {
    "cell_style": "split",
    "slideshow": {
     "slide_type": "-"
    }
   },
   "source": [
    "### Discrete\n",
    "\n",
    "+ Likelihood function\n",
    "  + Non-negative\n",
    "  + 0 or +infinity \n",
    "+ Probability Mass Function (PMF)\n",
    "  \n",
    "  \n",
    "<img src=\"probability_mass_function.png?1\" width=\"90%\">"
   ]
  },
  {
   "cell_type": "code",
   "execution_count": null,
   "metadata": {},
   "outputs": [],
   "source": []
  },
  {
   "cell_type": "markdown",
   "metadata": {
    "cell_style": "split",
    "slideshow": {
     "slide_type": "subslide"
    }
   },
   "source": [
    "#### Common Distributions\n",
    "  + Uniform \n",
    "    + Eazist to work with\n",
    "    + Computers likely start with this\n",
    "  + Exponential\n",
    "    + Eazy to work with\n",
    "  + Gaussian\n",
    "    + The most common\n",
    "  + Chi Squared\n",
    "    + Most common squared\n",
    "    "
   ]
  },
  {
   "cell_type": "markdown",
   "metadata": {
    "cell_style": "split",
    "slideshow": {
     "slide_type": "-"
    }
   },
   "source": [
    "<img src=\"common_distributions.png?1\" width=\"100%\">"
   ]
  },
  {
   "cell_type": "markdown",
   "metadata": {
    "slideshow": {
     "slide_type": "notes"
    }
   },
   "source": []
  },
  {
   "cell_type": "markdown",
   "metadata": {
    "cell_style": "split",
    "slideshow": {
     "slide_type": "subslide"
    }
   },
   "source": [
    "#### Uniform\n",
    "$$ P(x) =\\Big \\{ \\begin{matrix} \\:1 \\: :\\quad 0\\leq x \\leq 1 \\\\0 : \\quad otherwise \\end{matrix}$$\n",
    "\n",
    "\n",
    "$$ \\Phi (x) = \\Big \\{ \\begin{matrix} \\:x \\: :\\quad 0\\leq x \\leq 1 \\\\0 : \\quad otherwise \\end{matrix} $$\n",
    "\n",
    "$$ Mean = \\cfrac{1}{2}, \\quad \n",
    "Var = \\cfrac{1}{12(1-0)^2}, \\quad \\\\\n",
    "Skew = 0, \\quad\n",
    "kurtosis = \\cfrac{-6}{5}, \\quad \\\\\n",
    "Entropy = ln(1-0)\n",
    "$$"
   ]
  },
  {
   "cell_type": "markdown",
   "metadata": {
    "cell_style": "split",
    "slideshow": {
     "slide_type": "-"
    }
   },
   "source": [
    "\n",
    "<img src=\"uniform_distributions.png?1\" width=\"100%\">\n"
   ]
  },
  {
   "cell_type": "code",
   "execution_count": null,
   "metadata": {
    "slideshow": {
     "slide_type": "notes"
    }
   },
   "outputs": [],
   "source": []
  },
  {
   "cell_type": "markdown",
   "metadata": {
    "cell_style": "split",
    "slideshow": {
     "slide_type": "subslide"
    }
   },
   "source": [
    "#### Exponetial\n",
    "\n",
    "$$ P(x) =\\Big \\{ \\begin{matrix} \\: \\lambda e^{-\\lambda x} \\: :\\quad 0\\leq x \\\\0 \\quad : \\quad otherwise \\end{matrix}$$\n",
    "\n",
    "$$ \\Phi (x) = \\Big \\{ \\begin{matrix} \\: 1-e^{-\\lambda x} \\: :\\quad 0\\leq x  \\\\0 : \\quad otherwise \\end{matrix} $$\n",
    "\n",
    "$$ Mean = \\cfrac{1}{\\lambda}, \\quad \n",
    "Var = \\cfrac{1}{\\lambda^2}, \\quad \\\\\n",
    "Skew = 2, \\quad\n",
    "kurtosis = 6, \\quad \\\\\n",
    "Entropy = 1- ln(\\lambda)\n",
    "$$"
   ]
  },
  {
   "cell_type": "markdown",
   "metadata": {
    "cell_style": "split",
    "slideshow": {
     "slide_type": "-"
    }
   },
   "source": [
    "\n",
    "\n",
    "<img src=\"expon_distributions.png?0\" width=\"100%\">"
   ]
  },
  {
   "cell_type": "markdown",
   "metadata": {
    "slideshow": {
     "slide_type": "notes"
    }
   },
   "source": [
    "### "
   ]
  },
  {
   "cell_type": "markdown",
   "metadata": {
    "cell_style": "split",
    "slideshow": {
     "slide_type": "subslide"
    }
   },
   "source": [
    "#### Gaussian\n",
    "\n",
    "$$ P(x) = \\cfrac{1}{\\sigma \\sqrt{2 \\pi}} \n",
    "\\: e^{ \\cfrac{1}{2} \\left(\\cfrac{x-\\mu}{\\sigma} \\right )^{2} }$$\n",
    "\n",
    "$$ \\Phi (x) = \\cfrac{1}{2} \\left ( 1 + erf \\left ( \\cfrac{x-\\mu}{\\sigma \\sqrt{2}} \\right ) \\right )\n",
    "$$\n",
    "\n",
    "$$ Mean = \\mu, \\quad \n",
    "Var = \\sigma^2, \\quad \\\\\n",
    "Skew = 0, \\quad\n",
    "kurtosis = 0, \\quad \\\\\n",
    "Entropy = \\cfrac{1}{2} \\left( ln \\left (\n",
    "2 \\pi \\sigma^2 \n",
    "\\right ) + 1 \\right )\n",
    "$$"
   ]
  },
  {
   "cell_type": "markdown",
   "metadata": {
    "cell_style": "split",
    "slideshow": {
     "slide_type": "-"
    }
   },
   "source": [
    "<img src=\"gaussian_distributions.png\" width=\"100%\">"
   ]
  },
  {
   "cell_type": "code",
   "execution_count": null,
   "metadata": {
    "slideshow": {
     "slide_type": "notes"
    }
   },
   "outputs": [],
   "source": []
  },
  {
   "attachments": {},
   "cell_type": "markdown",
   "metadata": {
    "cell_style": "split",
    "slideshow": {
     "slide_type": "subslide"
    }
   },
   "source": [
    "#### $\\chi ^ 2$  (Chi Squared)\n",
    "\n",
    "$$ \\chi ^ 2 (x) \\quad = \\quad \\Bigg \\{ \\begin{matrix} \\:\n",
    "\\cfrac{ x^{k/2 - 1 } \\: e^{-x}}{2^{k/2}\\: \\Gamma(k/2)}\n",
    "\\: :\\quad 0\\leq x \\\\0 \\quad\\quad : \\quad otherwise \\end{matrix}\n",
    "$$\n",
    "\n",
    "\n",
    "\n",
    "[The chi-squared distribution is obtained as the sum of the squares of k independent, zero-mean, unit-variance Gaussian random variables](https://en.wikipedia.org/wiki/Chi-squared_distribution)"
   ]
  },
  {
   "cell_type": "markdown",
   "metadata": {
    "cell_style": "split",
    "slideshow": {
     "slide_type": "notes"
    }
   },
   "source": [
    "\n",
    "\n",
    "<img src=\"chi2_distributions.png\" width=\"100%\">"
   ]
  },
  {
   "cell_type": "markdown",
   "metadata": {
    "slideshow": {
     "slide_type": "subslide"
    }
   },
   "source": [
    "<img src=\"chi2_order_distributions.png?1\" width=\"100%\">"
   ]
  },
  {
   "cell_type": "markdown",
   "metadata": {
    "slideshow": {
     "slide_type": "subslide"
    }
   },
   "source": [
    "<img src=\"chi2_order_distributions.gif?2\" width=\"100%\">"
   ]
  },
  {
   "cell_type": "code",
   "execution_count": null,
   "metadata": {},
   "outputs": [],
   "source": []
  },
  {
   "cell_type": "markdown",
   "metadata": {
    "cell_style": "split",
    "slideshow": {
     "slide_type": "subslide"
    }
   },
   "source": [
    "## Central Limit Theorem\n",
    "\n"
   ]
  },
  {
   "cell_type": "markdown",
   "metadata": {
    "cell_style": "split",
    "slideshow": {
     "slide_type": "-"
    }
   },
   "source": []
  },
  {
   "cell_type": "code",
   "execution_count": null,
   "metadata": {
    "slideshow": {
     "slide_type": "subslide"
    }
   },
   "outputs": [],
   "source": []
  },
  {
   "cell_type": "code",
   "execution_count": null,
   "metadata": {},
   "outputs": [],
   "source": []
  },
  {
   "cell_type": "code",
   "execution_count": null,
   "metadata": {},
   "outputs": [],
   "source": []
  },
  {
   "cell_type": "markdown",
   "metadata": {
    "cell_style": "split",
    "slideshow": {
     "slide_type": "slide"
    }
   },
   "source": [
    "    \n",
    "## Basic Linear Algebra\n",
    "  + Vector Operations\n",
    "    + Addition\n",
    "    + Scaler Multiplication\n",
    "    + Vector Dimension Span\n",
    "  + Vector Products\n",
    "    + Elementwise Product\n",
    "    + Outter Product\n",
    "    + Inner Product\n",
    "    "
   ]
  },
  {
   "cell_type": "markdown",
   "metadata": {
    "cell_style": "split",
    "slideshow": {
     "slide_type": "-"
    }
   },
   "source": [
    "+ Cauchy–Schwarz inequality\n",
    "+ Matched Filter\n",
    "+ Convolution\n",
    "+ Matrix Operations\n",
    "+ Correlation of random vectors\n",
    "+ Orthogonal + Normal = Orthonormal"
   ]
  },
  {
   "cell_type": "code",
   "execution_count": null,
   "metadata": {
    "slideshow": {
     "slide_type": "notes"
    }
   },
   "outputs": [],
   "source": []
  },
  {
   "cell_type": "markdown",
   "metadata": {
    "cell_style": "split",
    "slideshow": {
     "slide_type": "subslide"
    }
   },
   "source": [
    "## What is a Vector\n",
    "\n",
    "\n",
    "$$  \\vec{V} \\quad = \\quad [\\:v_1, \\:v_2, \\: _\\cdots, \\: v_n ] $$\n",
    "\n",
    "+ List of numbers with associated operations\n",
    "  + Direction and magnitude\n",
    "+ Often thought of as spacial\n",
    "  + Does not have to be ...\n",
    "+ Associated Operations\n",
    "  + More than \\( Add, Subtract, Multiply, Divide \\)\n"
   ]
  },
  {
   "cell_type": "markdown",
   "metadata": {
    "cell_style": "split",
    "slideshow": {
     "slide_type": "-"
    }
   },
   "source": [
    "\n",
    "\n",
    "\n",
    "\n",
    "<img src=\"vector.png?3\" width=\"75%\">"
   ]
  },
  {
   "cell_type": "markdown",
   "metadata": {
    "slideshow": {
     "slide_type": "subslide"
    }
   },
   "source": [
    "### Where to get a vector?\n",
    "\n",
    "##### Look in the Time Series\n",
    "Want a n-D vector of data, grab n-samples of a time series at time t.\n",
    "\n",
    "#####  Bored of that data\n",
    "Grab n-samples at t+1"
   ]
  },
  {
   "cell_type": "markdown",
   "metadata": {
    "cell_style": "split",
    "slideshow": {
     "slide_type": "subslide"
    }
   },
   "source": [
    "### Vector Addition\n",
    "\n",
    "$$ \\vec{U} = \\vec{V} + \\vec{W} $$\n",
    "\n",
    "$$ \\begin{matrix}\n",
    "\\; \\quad \\vec{V} \\quad = \\quad [\\:v_1, \\:v_2, \\: _\\cdots, \\: v_n ] \\\\\n",
    "+ \\quad \\vec{W} \\quad = \\quad [\\:w_1, \\:w_2, \\: _\\cdots, \\: w_n ] \\\\ \\hline\n",
    "\\quad \\vec{U} \\quad = \\quad [\\:u_1, \\:u_2, \\: _\\cdots, \\: u_n ]\n",
    "\\end{matrix}\n",
    "$$\n",
    "\n",
    "$$\n",
    "u_1=v_1+w_1 \\: , \\: u_2=v_2+w_2 \\: , \\: _\\cdots \\: , \\: u_n=v_n+w_n \n",
    "$$\n",
    "\n",
    "+ Dimentions of each vector?"
   ]
  },
  {
   "cell_type": "markdown",
   "metadata": {
    "cell_style": "split",
    "slideshow": {
     "slide_type": "-"
    }
   },
   "source": [
    "\n",
    "\n",
    "<img src=\"vector_addition.png?1\" width=\"85%\">"
   ]
  },
  {
   "cell_type": "code",
   "execution_count": 73,
   "metadata": {
    "slideshow": {
     "slide_type": "subslide"
    }
   },
   "outputs": [
    {
     "data": {
      "application/javascript": [
       "/* Put everything inside the global mpl namespace */\n",
       "window.mpl = {};\n",
       "\n",
       "\n",
       "mpl.get_websocket_type = function() {\n",
       "    if (typeof(WebSocket) !== 'undefined') {\n",
       "        return WebSocket;\n",
       "    } else if (typeof(MozWebSocket) !== 'undefined') {\n",
       "        return MozWebSocket;\n",
       "    } else {\n",
       "        alert('Your browser does not have WebSocket support. ' +\n",
       "              'Please try Chrome, Safari or Firefox ≥ 6. ' +\n",
       "              'Firefox 4 and 5 are also supported but you ' +\n",
       "              'have to enable WebSockets in about:config.');\n",
       "    };\n",
       "}\n",
       "\n",
       "mpl.figure = function(figure_id, websocket, ondownload, parent_element) {\n",
       "    this.id = figure_id;\n",
       "\n",
       "    this.ws = websocket;\n",
       "\n",
       "    this.supports_binary = (this.ws.binaryType != undefined);\n",
       "\n",
       "    if (!this.supports_binary) {\n",
       "        var warnings = document.getElementById(\"mpl-warnings\");\n",
       "        if (warnings) {\n",
       "            warnings.style.display = 'block';\n",
       "            warnings.textContent = (\n",
       "                \"This browser does not support binary websocket messages. \" +\n",
       "                    \"Performance may be slow.\");\n",
       "        }\n",
       "    }\n",
       "\n",
       "    this.imageObj = new Image();\n",
       "\n",
       "    this.context = undefined;\n",
       "    this.message = undefined;\n",
       "    this.canvas = undefined;\n",
       "    this.rubberband_canvas = undefined;\n",
       "    this.rubberband_context = undefined;\n",
       "    this.format_dropdown = undefined;\n",
       "\n",
       "    this.image_mode = 'full';\n",
       "\n",
       "    this.root = $('<div/>');\n",
       "    this._root_extra_style(this.root)\n",
       "    this.root.attr('style', 'display: inline-block');\n",
       "\n",
       "    $(parent_element).append(this.root);\n",
       "\n",
       "    this._init_header(this);\n",
       "    this._init_canvas(this);\n",
       "    this._init_toolbar(this);\n",
       "\n",
       "    var fig = this;\n",
       "\n",
       "    this.waiting = false;\n",
       "\n",
       "    this.ws.onopen =  function () {\n",
       "            fig.send_message(\"supports_binary\", {value: fig.supports_binary});\n",
       "            fig.send_message(\"send_image_mode\", {});\n",
       "            if (mpl.ratio != 1) {\n",
       "                fig.send_message(\"set_dpi_ratio\", {'dpi_ratio': mpl.ratio});\n",
       "            }\n",
       "            fig.send_message(\"refresh\", {});\n",
       "        }\n",
       "\n",
       "    this.imageObj.onload = function() {\n",
       "            if (fig.image_mode == 'full') {\n",
       "                // Full images could contain transparency (where diff images\n",
       "                // almost always do), so we need to clear the canvas so that\n",
       "                // there is no ghosting.\n",
       "                fig.context.clearRect(0, 0, fig.canvas.width, fig.canvas.height);\n",
       "            }\n",
       "            fig.context.drawImage(fig.imageObj, 0, 0);\n",
       "        };\n",
       "\n",
       "    this.imageObj.onunload = function() {\n",
       "        fig.ws.close();\n",
       "    }\n",
       "\n",
       "    this.ws.onmessage = this._make_on_message_function(this);\n",
       "\n",
       "    this.ondownload = ondownload;\n",
       "}\n",
       "\n",
       "mpl.figure.prototype._init_header = function() {\n",
       "    var titlebar = $(\n",
       "        '<div class=\"ui-dialog-titlebar ui-widget-header ui-corner-all ' +\n",
       "        'ui-helper-clearfix\"/>');\n",
       "    var titletext = $(\n",
       "        '<div class=\"ui-dialog-title\" style=\"width: 100%; ' +\n",
       "        'text-align: center; padding: 3px;\"/>');\n",
       "    titlebar.append(titletext)\n",
       "    this.root.append(titlebar);\n",
       "    this.header = titletext[0];\n",
       "}\n",
       "\n",
       "\n",
       "\n",
       "mpl.figure.prototype._canvas_extra_style = function(canvas_div) {\n",
       "\n",
       "}\n",
       "\n",
       "\n",
       "mpl.figure.prototype._root_extra_style = function(canvas_div) {\n",
       "\n",
       "}\n",
       "\n",
       "mpl.figure.prototype._init_canvas = function() {\n",
       "    var fig = this;\n",
       "\n",
       "    var canvas_div = $('<div/>');\n",
       "\n",
       "    canvas_div.attr('style', 'position: relative; clear: both; outline: 0');\n",
       "\n",
       "    function canvas_keyboard_event(event) {\n",
       "        return fig.key_event(event, event['data']);\n",
       "    }\n",
       "\n",
       "    canvas_div.keydown('key_press', canvas_keyboard_event);\n",
       "    canvas_div.keyup('key_release', canvas_keyboard_event);\n",
       "    this.canvas_div = canvas_div\n",
       "    this._canvas_extra_style(canvas_div)\n",
       "    this.root.append(canvas_div);\n",
       "\n",
       "    var canvas = $('<canvas/>');\n",
       "    canvas.addClass('mpl-canvas');\n",
       "    canvas.attr('style', \"left: 0; top: 0; z-index: 0; outline: 0\")\n",
       "\n",
       "    this.canvas = canvas[0];\n",
       "    this.context = canvas[0].getContext(\"2d\");\n",
       "\n",
       "    var backingStore = this.context.backingStorePixelRatio ||\n",
       "\tthis.context.webkitBackingStorePixelRatio ||\n",
       "\tthis.context.mozBackingStorePixelRatio ||\n",
       "\tthis.context.msBackingStorePixelRatio ||\n",
       "\tthis.context.oBackingStorePixelRatio ||\n",
       "\tthis.context.backingStorePixelRatio || 1;\n",
       "\n",
       "    mpl.ratio = (window.devicePixelRatio || 1) / backingStore;\n",
       "\n",
       "    var rubberband = $('<canvas/>');\n",
       "    rubberband.attr('style', \"position: absolute; left: 0; top: 0; z-index: 1;\")\n",
       "\n",
       "    var pass_mouse_events = true;\n",
       "\n",
       "    canvas_div.resizable({\n",
       "        start: function(event, ui) {\n",
       "            pass_mouse_events = false;\n",
       "        },\n",
       "        resize: function(event, ui) {\n",
       "            fig.request_resize(ui.size.width, ui.size.height);\n",
       "        },\n",
       "        stop: function(event, ui) {\n",
       "            pass_mouse_events = true;\n",
       "            fig.request_resize(ui.size.width, ui.size.height);\n",
       "        },\n",
       "    });\n",
       "\n",
       "    function mouse_event_fn(event) {\n",
       "        if (pass_mouse_events)\n",
       "            return fig.mouse_event(event, event['data']);\n",
       "    }\n",
       "\n",
       "    rubberband.mousedown('button_press', mouse_event_fn);\n",
       "    rubberband.mouseup('button_release', mouse_event_fn);\n",
       "    // Throttle sequential mouse events to 1 every 20ms.\n",
       "    rubberband.mousemove('motion_notify', mouse_event_fn);\n",
       "\n",
       "    rubberband.mouseenter('figure_enter', mouse_event_fn);\n",
       "    rubberband.mouseleave('figure_leave', mouse_event_fn);\n",
       "\n",
       "    canvas_div.on(\"wheel\", function (event) {\n",
       "        event = event.originalEvent;\n",
       "        event['data'] = 'scroll'\n",
       "        if (event.deltaY < 0) {\n",
       "            event.step = 1;\n",
       "        } else {\n",
       "            event.step = -1;\n",
       "        }\n",
       "        mouse_event_fn(event);\n",
       "    });\n",
       "\n",
       "    canvas_div.append(canvas);\n",
       "    canvas_div.append(rubberband);\n",
       "\n",
       "    this.rubberband = rubberband;\n",
       "    this.rubberband_canvas = rubberband[0];\n",
       "    this.rubberband_context = rubberband[0].getContext(\"2d\");\n",
       "    this.rubberband_context.strokeStyle = \"#000000\";\n",
       "\n",
       "    this._resize_canvas = function(width, height) {\n",
       "        // Keep the size of the canvas, canvas container, and rubber band\n",
       "        // canvas in synch.\n",
       "        canvas_div.css('width', width)\n",
       "        canvas_div.css('height', height)\n",
       "\n",
       "        canvas.attr('width', width * mpl.ratio);\n",
       "        canvas.attr('height', height * mpl.ratio);\n",
       "        canvas.attr('style', 'width: ' + width + 'px; height: ' + height + 'px;');\n",
       "\n",
       "        rubberband.attr('width', width);\n",
       "        rubberband.attr('height', height);\n",
       "    }\n",
       "\n",
       "    // Set the figure to an initial 600x600px, this will subsequently be updated\n",
       "    // upon first draw.\n",
       "    this._resize_canvas(600, 600);\n",
       "\n",
       "    // Disable right mouse context menu.\n",
       "    $(this.rubberband_canvas).bind(\"contextmenu\",function(e){\n",
       "        return false;\n",
       "    });\n",
       "\n",
       "    function set_focus () {\n",
       "        canvas.focus();\n",
       "        canvas_div.focus();\n",
       "    }\n",
       "\n",
       "    window.setTimeout(set_focus, 100);\n",
       "}\n",
       "\n",
       "mpl.figure.prototype._init_toolbar = function() {\n",
       "    var fig = this;\n",
       "\n",
       "    var nav_element = $('<div/>');\n",
       "    nav_element.attr('style', 'width: 100%');\n",
       "    this.root.append(nav_element);\n",
       "\n",
       "    // Define a callback function for later on.\n",
       "    function toolbar_event(event) {\n",
       "        return fig.toolbar_button_onclick(event['data']);\n",
       "    }\n",
       "    function toolbar_mouse_event(event) {\n",
       "        return fig.toolbar_button_onmouseover(event['data']);\n",
       "    }\n",
       "\n",
       "    for(var toolbar_ind in mpl.toolbar_items) {\n",
       "        var name = mpl.toolbar_items[toolbar_ind][0];\n",
       "        var tooltip = mpl.toolbar_items[toolbar_ind][1];\n",
       "        var image = mpl.toolbar_items[toolbar_ind][2];\n",
       "        var method_name = mpl.toolbar_items[toolbar_ind][3];\n",
       "\n",
       "        if (!name) {\n",
       "            // put a spacer in here.\n",
       "            continue;\n",
       "        }\n",
       "        var button = $('<button/>');\n",
       "        button.addClass('ui-button ui-widget ui-state-default ui-corner-all ' +\n",
       "                        'ui-button-icon-only');\n",
       "        button.attr('role', 'button');\n",
       "        button.attr('aria-disabled', 'false');\n",
       "        button.click(method_name, toolbar_event);\n",
       "        button.mouseover(tooltip, toolbar_mouse_event);\n",
       "\n",
       "        var icon_img = $('<span/>');\n",
       "        icon_img.addClass('ui-button-icon-primary ui-icon');\n",
       "        icon_img.addClass(image);\n",
       "        icon_img.addClass('ui-corner-all');\n",
       "\n",
       "        var tooltip_span = $('<span/>');\n",
       "        tooltip_span.addClass('ui-button-text');\n",
       "        tooltip_span.html(tooltip);\n",
       "\n",
       "        button.append(icon_img);\n",
       "        button.append(tooltip_span);\n",
       "\n",
       "        nav_element.append(button);\n",
       "    }\n",
       "\n",
       "    var fmt_picker_span = $('<span/>');\n",
       "\n",
       "    var fmt_picker = $('<select/>');\n",
       "    fmt_picker.addClass('mpl-toolbar-option ui-widget ui-widget-content');\n",
       "    fmt_picker_span.append(fmt_picker);\n",
       "    nav_element.append(fmt_picker_span);\n",
       "    this.format_dropdown = fmt_picker[0];\n",
       "\n",
       "    for (var ind in mpl.extensions) {\n",
       "        var fmt = mpl.extensions[ind];\n",
       "        var option = $(\n",
       "            '<option/>', {selected: fmt === mpl.default_extension}).html(fmt);\n",
       "        fmt_picker.append(option);\n",
       "    }\n",
       "\n",
       "    // Add hover states to the ui-buttons\n",
       "    $( \".ui-button\" ).hover(\n",
       "        function() { $(this).addClass(\"ui-state-hover\");},\n",
       "        function() { $(this).removeClass(\"ui-state-hover\");}\n",
       "    );\n",
       "\n",
       "    var status_bar = $('<span class=\"mpl-message\"/>');\n",
       "    nav_element.append(status_bar);\n",
       "    this.message = status_bar[0];\n",
       "}\n",
       "\n",
       "mpl.figure.prototype.request_resize = function(x_pixels, y_pixels) {\n",
       "    // Request matplotlib to resize the figure. Matplotlib will then trigger a resize in the client,\n",
       "    // which will in turn request a refresh of the image.\n",
       "    this.send_message('resize', {'width': x_pixels, 'height': y_pixels});\n",
       "}\n",
       "\n",
       "mpl.figure.prototype.send_message = function(type, properties) {\n",
       "    properties['type'] = type;\n",
       "    properties['figure_id'] = this.id;\n",
       "    this.ws.send(JSON.stringify(properties));\n",
       "}\n",
       "\n",
       "mpl.figure.prototype.send_draw_message = function() {\n",
       "    if (!this.waiting) {\n",
       "        this.waiting = true;\n",
       "        this.ws.send(JSON.stringify({type: \"draw\", figure_id: this.id}));\n",
       "    }\n",
       "}\n",
       "\n",
       "\n",
       "mpl.figure.prototype.handle_save = function(fig, msg) {\n",
       "    var format_dropdown = fig.format_dropdown;\n",
       "    var format = format_dropdown.options[format_dropdown.selectedIndex].value;\n",
       "    fig.ondownload(fig, format);\n",
       "}\n",
       "\n",
       "\n",
       "mpl.figure.prototype.handle_resize = function(fig, msg) {\n",
       "    var size = msg['size'];\n",
       "    if (size[0] != fig.canvas.width || size[1] != fig.canvas.height) {\n",
       "        fig._resize_canvas(size[0], size[1]);\n",
       "        fig.send_message(\"refresh\", {});\n",
       "    };\n",
       "}\n",
       "\n",
       "mpl.figure.prototype.handle_rubberband = function(fig, msg) {\n",
       "    var x0 = msg['x0'] / mpl.ratio;\n",
       "    var y0 = (fig.canvas.height - msg['y0']) / mpl.ratio;\n",
       "    var x1 = msg['x1'] / mpl.ratio;\n",
       "    var y1 = (fig.canvas.height - msg['y1']) / mpl.ratio;\n",
       "    x0 = Math.floor(x0) + 0.5;\n",
       "    y0 = Math.floor(y0) + 0.5;\n",
       "    x1 = Math.floor(x1) + 0.5;\n",
       "    y1 = Math.floor(y1) + 0.5;\n",
       "    var min_x = Math.min(x0, x1);\n",
       "    var min_y = Math.min(y0, y1);\n",
       "    var width = Math.abs(x1 - x0);\n",
       "    var height = Math.abs(y1 - y0);\n",
       "\n",
       "    fig.rubberband_context.clearRect(\n",
       "        0, 0, fig.canvas.width / mpl.ratio, fig.canvas.height / mpl.ratio);\n",
       "\n",
       "    fig.rubberband_context.strokeRect(min_x, min_y, width, height);\n",
       "}\n",
       "\n",
       "mpl.figure.prototype.handle_figure_label = function(fig, msg) {\n",
       "    // Updates the figure title.\n",
       "    fig.header.textContent = msg['label'];\n",
       "}\n",
       "\n",
       "mpl.figure.prototype.handle_cursor = function(fig, msg) {\n",
       "    var cursor = msg['cursor'];\n",
       "    switch(cursor)\n",
       "    {\n",
       "    case 0:\n",
       "        cursor = 'pointer';\n",
       "        break;\n",
       "    case 1:\n",
       "        cursor = 'default';\n",
       "        break;\n",
       "    case 2:\n",
       "        cursor = 'crosshair';\n",
       "        break;\n",
       "    case 3:\n",
       "        cursor = 'move';\n",
       "        break;\n",
       "    }\n",
       "    fig.rubberband_canvas.style.cursor = cursor;\n",
       "}\n",
       "\n",
       "mpl.figure.prototype.handle_message = function(fig, msg) {\n",
       "    fig.message.textContent = msg['message'];\n",
       "}\n",
       "\n",
       "mpl.figure.prototype.handle_draw = function(fig, msg) {\n",
       "    // Request the server to send over a new figure.\n",
       "    fig.send_draw_message();\n",
       "}\n",
       "\n",
       "mpl.figure.prototype.handle_image_mode = function(fig, msg) {\n",
       "    fig.image_mode = msg['mode'];\n",
       "}\n",
       "\n",
       "mpl.figure.prototype.updated_canvas_event = function() {\n",
       "    // Called whenever the canvas gets updated.\n",
       "    this.send_message(\"ack\", {});\n",
       "}\n",
       "\n",
       "// A function to construct a web socket function for onmessage handling.\n",
       "// Called in the figure constructor.\n",
       "mpl.figure.prototype._make_on_message_function = function(fig) {\n",
       "    return function socket_on_message(evt) {\n",
       "        if (evt.data instanceof Blob) {\n",
       "            /* FIXME: We get \"Resource interpreted as Image but\n",
       "             * transferred with MIME type text/plain:\" errors on\n",
       "             * Chrome.  But how to set the MIME type?  It doesn't seem\n",
       "             * to be part of the websocket stream */\n",
       "            evt.data.type = \"image/png\";\n",
       "\n",
       "            /* Free the memory for the previous frames */\n",
       "            if (fig.imageObj.src) {\n",
       "                (window.URL || window.webkitURL).revokeObjectURL(\n",
       "                    fig.imageObj.src);\n",
       "            }\n",
       "\n",
       "            fig.imageObj.src = (window.URL || window.webkitURL).createObjectURL(\n",
       "                evt.data);\n",
       "            fig.updated_canvas_event();\n",
       "            fig.waiting = false;\n",
       "            return;\n",
       "        }\n",
       "        else if (typeof evt.data === 'string' && evt.data.slice(0, 21) == \"data:image/png;base64\") {\n",
       "            fig.imageObj.src = evt.data;\n",
       "            fig.updated_canvas_event();\n",
       "            fig.waiting = false;\n",
       "            return;\n",
       "        }\n",
       "\n",
       "        var msg = JSON.parse(evt.data);\n",
       "        var msg_type = msg['type'];\n",
       "\n",
       "        // Call the  \"handle_{type}\" callback, which takes\n",
       "        // the figure and JSON message as its only arguments.\n",
       "        try {\n",
       "            var callback = fig[\"handle_\" + msg_type];\n",
       "        } catch (e) {\n",
       "            console.log(\"No handler for the '\" + msg_type + \"' message type: \", msg);\n",
       "            return;\n",
       "        }\n",
       "\n",
       "        if (callback) {\n",
       "            try {\n",
       "                // console.log(\"Handling '\" + msg_type + \"' message: \", msg);\n",
       "                callback(fig, msg);\n",
       "            } catch (e) {\n",
       "                console.log(\"Exception inside the 'handler_\" + msg_type + \"' callback:\", e, e.stack, msg);\n",
       "            }\n",
       "        }\n",
       "    };\n",
       "}\n",
       "\n",
       "// from http://stackoverflow.com/questions/1114465/getting-mouse-location-in-canvas\n",
       "mpl.findpos = function(e) {\n",
       "    //this section is from http://www.quirksmode.org/js/events_properties.html\n",
       "    var targ;\n",
       "    if (!e)\n",
       "        e = window.event;\n",
       "    if (e.target)\n",
       "        targ = e.target;\n",
       "    else if (e.srcElement)\n",
       "        targ = e.srcElement;\n",
       "    if (targ.nodeType == 3) // defeat Safari bug\n",
       "        targ = targ.parentNode;\n",
       "\n",
       "    // jQuery normalizes the pageX and pageY\n",
       "    // pageX,Y are the mouse positions relative to the document\n",
       "    // offset() returns the position of the element relative to the document\n",
       "    var x = e.pageX - $(targ).offset().left;\n",
       "    var y = e.pageY - $(targ).offset().top;\n",
       "\n",
       "    return {\"x\": x, \"y\": y};\n",
       "};\n",
       "\n",
       "/*\n",
       " * return a copy of an object with only non-object keys\n",
       " * we need this to avoid circular references\n",
       " * http://stackoverflow.com/a/24161582/3208463\n",
       " */\n",
       "function simpleKeys (original) {\n",
       "  return Object.keys(original).reduce(function (obj, key) {\n",
       "    if (typeof original[key] !== 'object')\n",
       "        obj[key] = original[key]\n",
       "    return obj;\n",
       "  }, {});\n",
       "}\n",
       "\n",
       "mpl.figure.prototype.mouse_event = function(event, name) {\n",
       "    var canvas_pos = mpl.findpos(event)\n",
       "\n",
       "    if (name === 'button_press')\n",
       "    {\n",
       "        this.canvas.focus();\n",
       "        this.canvas_div.focus();\n",
       "    }\n",
       "\n",
       "    var x = canvas_pos.x * mpl.ratio;\n",
       "    var y = canvas_pos.y * mpl.ratio;\n",
       "\n",
       "    this.send_message(name, {x: x, y: y, button: event.button,\n",
       "                             step: event.step,\n",
       "                             guiEvent: simpleKeys(event)});\n",
       "\n",
       "    /* This prevents the web browser from automatically changing to\n",
       "     * the text insertion cursor when the button is pressed.  We want\n",
       "     * to control all of the cursor setting manually through the\n",
       "     * 'cursor' event from matplotlib */\n",
       "    event.preventDefault();\n",
       "    return false;\n",
       "}\n",
       "\n",
       "mpl.figure.prototype._key_event_extra = function(event, name) {\n",
       "    // Handle any extra behaviour associated with a key event\n",
       "}\n",
       "\n",
       "mpl.figure.prototype.key_event = function(event, name) {\n",
       "\n",
       "    // Prevent repeat events\n",
       "    if (name == 'key_press')\n",
       "    {\n",
       "        if (event.which === this._key)\n",
       "            return;\n",
       "        else\n",
       "            this._key = event.which;\n",
       "    }\n",
       "    if (name == 'key_release')\n",
       "        this._key = null;\n",
       "\n",
       "    var value = '';\n",
       "    if (event.ctrlKey && event.which != 17)\n",
       "        value += \"ctrl+\";\n",
       "    if (event.altKey && event.which != 18)\n",
       "        value += \"alt+\";\n",
       "    if (event.shiftKey && event.which != 16)\n",
       "        value += \"shift+\";\n",
       "\n",
       "    value += 'k';\n",
       "    value += event.which.toString();\n",
       "\n",
       "    this._key_event_extra(event, name);\n",
       "\n",
       "    this.send_message(name, {key: value,\n",
       "                             guiEvent: simpleKeys(event)});\n",
       "    return false;\n",
       "}\n",
       "\n",
       "mpl.figure.prototype.toolbar_button_onclick = function(name) {\n",
       "    if (name == 'download') {\n",
       "        this.handle_save(this, null);\n",
       "    } else {\n",
       "        this.send_message(\"toolbar_button\", {name: name});\n",
       "    }\n",
       "};\n",
       "\n",
       "mpl.figure.prototype.toolbar_button_onmouseover = function(tooltip) {\n",
       "    this.message.textContent = tooltip;\n",
       "};\n",
       "mpl.toolbar_items = [[\"Home\", \"Reset original view\", \"fa fa-home icon-home\", \"home\"], [\"Back\", \"Back to previous view\", \"fa fa-arrow-left icon-arrow-left\", \"back\"], [\"Forward\", \"Forward to next view\", \"fa fa-arrow-right icon-arrow-right\", \"forward\"], [\"\", \"\", \"\", \"\"], [\"Pan\", \"Pan axes with left mouse, zoom with right\", \"fa fa-arrows icon-move\", \"pan\"], [\"Zoom\", \"Zoom to rectangle\", \"fa fa-square-o icon-check-empty\", \"zoom\"], [\"\", \"\", \"\", \"\"], [\"Download\", \"Download plot\", \"fa fa-floppy-o icon-save\", \"download\"]];\n",
       "\n",
       "mpl.extensions = [\"eps\", \"pdf\", \"png\", \"ps\", \"raw\", \"svg\"];\n",
       "\n",
       "mpl.default_extension = \"png\";var comm_websocket_adapter = function(comm) {\n",
       "    // Create a \"websocket\"-like object which calls the given IPython comm\n",
       "    // object with the appropriate methods. Currently this is a non binary\n",
       "    // socket, so there is still some room for performance tuning.\n",
       "    var ws = {};\n",
       "\n",
       "    ws.close = function() {\n",
       "        comm.close()\n",
       "    };\n",
       "    ws.send = function(m) {\n",
       "        //console.log('sending', m);\n",
       "        comm.send(m);\n",
       "    };\n",
       "    // Register the callback with on_msg.\n",
       "    comm.on_msg(function(msg) {\n",
       "        //console.log('receiving', msg['content']['data'], msg);\n",
       "        // Pass the mpl event to the overridden (by mpl) onmessage function.\n",
       "        ws.onmessage(msg['content']['data'])\n",
       "    });\n",
       "    return ws;\n",
       "}\n",
       "\n",
       "mpl.mpl_figure_comm = function(comm, msg) {\n",
       "    // This is the function which gets called when the mpl process\n",
       "    // starts-up an IPython Comm through the \"matplotlib\" channel.\n",
       "\n",
       "    var id = msg.content.data.id;\n",
       "    // Get hold of the div created by the display call when the Comm\n",
       "    // socket was opened in Python.\n",
       "    var element = $(\"#\" + id);\n",
       "    var ws_proxy = comm_websocket_adapter(comm)\n",
       "\n",
       "    function ondownload(figure, format) {\n",
       "        window.open(figure.imageObj.src);\n",
       "    }\n",
       "\n",
       "    var fig = new mpl.figure(id, ws_proxy,\n",
       "                           ondownload,\n",
       "                           element.get(0));\n",
       "\n",
       "    // Call onopen now - mpl needs it, as it is assuming we've passed it a real\n",
       "    // web socket which is closed, not our websocket->open comm proxy.\n",
       "    ws_proxy.onopen();\n",
       "\n",
       "    fig.parent_element = element.get(0);\n",
       "    fig.cell_info = mpl.find_output_cell(\"<div id='\" + id + \"'></div>\");\n",
       "    if (!fig.cell_info) {\n",
       "        console.error(\"Failed to find cell for figure\", id, fig);\n",
       "        return;\n",
       "    }\n",
       "\n",
       "    var output_index = fig.cell_info[2]\n",
       "    var cell = fig.cell_info[0];\n",
       "\n",
       "};\n",
       "\n",
       "mpl.figure.prototype.handle_close = function(fig, msg) {\n",
       "    var width = fig.canvas.width/mpl.ratio\n",
       "    fig.root.unbind('remove')\n",
       "\n",
       "    // Update the output cell to use the data from the current canvas.\n",
       "    fig.push_to_output();\n",
       "    var dataURL = fig.canvas.toDataURL();\n",
       "    // Re-enable the keyboard manager in IPython - without this line, in FF,\n",
       "    // the notebook keyboard shortcuts fail.\n",
       "    IPython.keyboard_manager.enable()\n",
       "    $(fig.parent_element).html('<img src=\"' + dataURL + '\" width=\"' + width + '\">');\n",
       "    fig.close_ws(fig, msg);\n",
       "}\n",
       "\n",
       "mpl.figure.prototype.close_ws = function(fig, msg){\n",
       "    fig.send_message('closing', msg);\n",
       "    // fig.ws.close()\n",
       "}\n",
       "\n",
       "mpl.figure.prototype.push_to_output = function(remove_interactive) {\n",
       "    // Turn the data on the canvas into data in the output cell.\n",
       "    var width = this.canvas.width/mpl.ratio\n",
       "    var dataURL = this.canvas.toDataURL();\n",
       "    this.cell_info[1]['text/html'] = '<img src=\"' + dataURL + '\" width=\"' + width + '\">';\n",
       "}\n",
       "\n",
       "mpl.figure.prototype.updated_canvas_event = function() {\n",
       "    // Tell IPython that the notebook contents must change.\n",
       "    IPython.notebook.set_dirty(true);\n",
       "    this.send_message(\"ack\", {});\n",
       "    var fig = this;\n",
       "    // Wait a second, then push the new image to the DOM so\n",
       "    // that it is saved nicely (might be nice to debounce this).\n",
       "    setTimeout(function () { fig.push_to_output() }, 1000);\n",
       "}\n",
       "\n",
       "mpl.figure.prototype._init_toolbar = function() {\n",
       "    var fig = this;\n",
       "\n",
       "    var nav_element = $('<div/>');\n",
       "    nav_element.attr('style', 'width: 100%');\n",
       "    this.root.append(nav_element);\n",
       "\n",
       "    // Define a callback function for later on.\n",
       "    function toolbar_event(event) {\n",
       "        return fig.toolbar_button_onclick(event['data']);\n",
       "    }\n",
       "    function toolbar_mouse_event(event) {\n",
       "        return fig.toolbar_button_onmouseover(event['data']);\n",
       "    }\n",
       "\n",
       "    for(var toolbar_ind in mpl.toolbar_items){\n",
       "        var name = mpl.toolbar_items[toolbar_ind][0];\n",
       "        var tooltip = mpl.toolbar_items[toolbar_ind][1];\n",
       "        var image = mpl.toolbar_items[toolbar_ind][2];\n",
       "        var method_name = mpl.toolbar_items[toolbar_ind][3];\n",
       "\n",
       "        if (!name) { continue; };\n",
       "\n",
       "        var button = $('<button class=\"btn btn-default\" href=\"#\" title=\"' + name + '\"><i class=\"fa ' + image + ' fa-lg\"></i></button>');\n",
       "        button.click(method_name, toolbar_event);\n",
       "        button.mouseover(tooltip, toolbar_mouse_event);\n",
       "        nav_element.append(button);\n",
       "    }\n",
       "\n",
       "    // Add the status bar.\n",
       "    var status_bar = $('<span class=\"mpl-message\" style=\"text-align:right; float: right;\"/>');\n",
       "    nav_element.append(status_bar);\n",
       "    this.message = status_bar[0];\n",
       "\n",
       "    // Add the close button to the window.\n",
       "    var buttongrp = $('<div class=\"btn-group inline pull-right\"></div>');\n",
       "    var button = $('<button class=\"btn btn-mini btn-primary\" href=\"#\" title=\"Stop Interaction\"><i class=\"fa fa-power-off icon-remove icon-large\"></i></button>');\n",
       "    button.click(function (evt) { fig.handle_close(fig, {}); } );\n",
       "    button.mouseover('Stop Interaction', toolbar_mouse_event);\n",
       "    buttongrp.append(button);\n",
       "    var titlebar = this.root.find($('.ui-dialog-titlebar'));\n",
       "    titlebar.prepend(buttongrp);\n",
       "}\n",
       "\n",
       "mpl.figure.prototype._root_extra_style = function(el){\n",
       "    var fig = this\n",
       "    el.on(\"remove\", function(){\n",
       "\tfig.close_ws(fig, {});\n",
       "    });\n",
       "}\n",
       "\n",
       "mpl.figure.prototype._canvas_extra_style = function(el){\n",
       "    // this is important to make the div 'focusable\n",
       "    el.attr('tabindex', 0)\n",
       "    // reach out to IPython and tell the keyboard manager to turn it's self\n",
       "    // off when our div gets focus\n",
       "\n",
       "    // location in version 3\n",
       "    if (IPython.notebook.keyboard_manager) {\n",
       "        IPython.notebook.keyboard_manager.register_events(el);\n",
       "    }\n",
       "    else {\n",
       "        // location in version 2\n",
       "        IPython.keyboard_manager.register_events(el);\n",
       "    }\n",
       "\n",
       "}\n",
       "\n",
       "mpl.figure.prototype._key_event_extra = function(event, name) {\n",
       "    var manager = IPython.notebook.keyboard_manager;\n",
       "    if (!manager)\n",
       "        manager = IPython.keyboard_manager;\n",
       "\n",
       "    // Check for shift+enter\n",
       "    if (event.shiftKey && event.which == 13) {\n",
       "        this.canvas_div.blur();\n",
       "        // select the cell after this one\n",
       "        var index = IPython.notebook.find_cell_index(this.cell_info[0]);\n",
       "        IPython.notebook.select(index + 1);\n",
       "    }\n",
       "}\n",
       "\n",
       "mpl.figure.prototype.handle_save = function(fig, msg) {\n",
       "    fig.ondownload(fig, null);\n",
       "}\n",
       "\n",
       "\n",
       "mpl.find_output_cell = function(html_output) {\n",
       "    // Return the cell and output element which can be found *uniquely* in the notebook.\n",
       "    // Note - this is a bit hacky, but it is done because the \"notebook_saving.Notebook\"\n",
       "    // IPython event is triggered only after the cells have been serialised, which for\n",
       "    // our purposes (turning an active figure into a static one), is too late.\n",
       "    var cells = IPython.notebook.get_cells();\n",
       "    var ncells = cells.length;\n",
       "    for (var i=0; i<ncells; i++) {\n",
       "        var cell = cells[i];\n",
       "        if (cell.cell_type === 'code'){\n",
       "            for (var j=0; j<cell.output_area.outputs.length; j++) {\n",
       "                var data = cell.output_area.outputs[j];\n",
       "                if (data.data) {\n",
       "                    // IPython >= 3 moved mimebundle to data attribute of output\n",
       "                    data = data.data;\n",
       "                }\n",
       "                if (data['text/html'] == html_output) {\n",
       "                    return [cell, data, j];\n",
       "                }\n",
       "            }\n",
       "        }\n",
       "    }\n",
       "}\n",
       "\n",
       "// Register the function which deals with the matplotlib target/channel.\n",
       "// The kernel may be null if the page has been refreshed.\n",
       "if (IPython.notebook.kernel != null) {\n",
       "    IPython.notebook.kernel.comm_manager.register_target('matplotlib', mpl.mpl_figure_comm);\n",
       "}\n"
      ],
      "text/plain": [
       "<IPython.core.display.Javascript object>"
      ]
     },
     "metadata": {},
     "output_type": "display_data"
    },
    {
     "data": {
      "text/html": [
       "<img src=\"data:image/png;base64,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\" width=\"640\">"
      ],
      "text/plain": [
       "<IPython.core.display.HTML object>"
      ]
     },
     "metadata": {},
     "output_type": "display_data"
    },
    {
     "data": {
      "application/vnd.jupyter.widget-view+json": {
       "model_id": "e0482b7ed0c846099386a61932fa2649",
       "version_major": 2,
       "version_minor": 0
      },
      "text/plain": [
       "interactive(children=(FloatSlider(value=1.0, description='v1', max=5.0, min=-5.0), FloatSlider(value=2.0, desc…"
      ]
     },
     "metadata": {},
     "output_type": "display_data"
    }
   ],
   "source": [
    "fig, ax = plt.subplots()\n",
    "\n",
    "\n",
    "@interact(v1=(-5,5,0.1), v2=(-5,5,0.1), w1=(-5,5,0.1), w2=(-5,5,0.1))\n",
    "def update(v1=1, v2=2, w1=2, w2=0.5):\n",
    "    ax.cla()\n",
    "    u1, u2 = v1+w1, v2+w2\n",
    "    ax.arrow(0, 0, v1*0.9, v2*0.9, head_width=0.25, head_length=0.25, fc='g', ec='g')\n",
    "    ax.arrow(v1, v2, w1*0.9, w2*0.9, head_width=0.25, head_length=0.25, fc='b', ec='b')\n",
    "    ax.arrow(0, 0, u1*0.9, u2*0.9, head_width=0.25, head_length=0.25, fc='k', ec='k')\n",
    "    fig.canvas.draw_idle()\n",
    "    plt.xlim(-5, 5)\n",
    "    plt.ylim(-5, 5)\n",
    "    plt.xlabel('$X_1$')\n",
    "    plt.ylabel('$X_2$')\n",
    "    plt.title('2D Vector')\n",
    "    plt.grid(True)\n",
    "    fig.tight_layout()"
   ]
  },
  {
   "cell_type": "markdown",
   "metadata": {
    "cell_style": "split",
    "slideshow": {
     "slide_type": "subslide"
    }
   },
   "source": [
    "### Scalar Vector Multiplication\n",
    "\n",
    "$$  \\alpha \\vec{V} \\quad = \\quad [\\:\\alpha\\:  v_1, \\:\\alpha\\: v_2, \\: _\\cdots, \\: \\alpha\\: v_n ] $$\n",
    "\n",
    "\n",
    "+ Changes Magnitude\n",
    "+ Does not change direction\n",
    "  + Can flip if $\\alpha$ is negative"
   ]
  },
  {
   "cell_type": "markdown",
   "metadata": {
    "cell_style": "split",
    "slideshow": {
     "slide_type": "-"
    }
   },
   "source": [
    "<img src=\"vector_span.png\" width=\"75%\">"
   ]
  },
  {
   "cell_type": "markdown",
   "metadata": {
    "slideshow": {
     "slide_type": "notes"
    }
   },
   "source": []
  },
  {
   "cell_type": "markdown",
   "metadata": {
    "cell_style": "split",
    "slideshow": {
     "slide_type": "subslide"
    }
   },
   "source": [
    "### Dimension and Span\n",
    "\n",
    "+ How many dimentions does a vector occupy?\n",
    "\n",
    "+ How much of that space can that vector reach?\n",
    "\n",
    "+ What is the Volume?"
   ]
  },
  {
   "cell_type": "markdown",
   "metadata": {
    "cell_style": "split"
   },
   "source": [
    "<img src=\"vector_span.png\" width=\"75%\">"
   ]
  },
  {
   "cell_type": "markdown",
   "metadata": {
    "cell_style": "split",
    "slideshow": {
     "slide_type": "fragment"
    }
   },
   "source": [
    "+ What about 2 vectors?"
   ]
  },
  {
   "cell_type": "code",
   "execution_count": null,
   "metadata": {
    "slideshow": {
     "slide_type": "notes"
    }
   },
   "outputs": [],
   "source": []
  },
  {
   "cell_type": "markdown",
   "metadata": {
    "cell_style": "split",
    "slideshow": {
     "slide_type": "subslide"
    }
   },
   "source": [
    "### Vector Multiplication\n",
    "\n",
    "+ Elementwise\n",
    "\n",
    "\n",
    "+ Outter product\n",
    "\n",
    "\n",
    "+ Inner (Dot) product\n",
    "\n"
   ]
  },
  {
   "cell_type": "markdown",
   "metadata": {
    "cell_style": "split",
    "slideshow": {
     "slide_type": "-"
    }
   },
   "source": [
    "<img src=\"vector_multhing.png\" width=\"100%\">\n",
    "\n",
    "This kind of funny?"
   ]
  },
  {
   "cell_type": "markdown",
   "metadata": {
    "slideshow": {
     "slide_type": "notes"
    }
   },
   "source": []
  },
  {
   "cell_type": "markdown",
   "metadata": {
    "cell_style": "split",
    "slideshow": {
     "slide_type": "subslide"
    }
   },
   "source": [
    "#### Elementwise\n",
    "\n",
    "\n",
    "  + Multiply each respective element\n",
    "    + Store then in the respective place\n",
    "  + Requires vectors be same size\n",
    "  + First one thinks off\n",
    "    + After scalar"
   ]
  },
  {
   "cell_type": "markdown",
   "metadata": {
    "cell_style": "split",
    "slideshow": {
     "slide_type": "-"
    }
   },
   "source": [
    "\n",
    "$$ \\vec{W} \\odot \\vec{V} = \\quad = \\quad [\\:v_1 \\: w_1, \\:v_2 \\: w_2, \\: _\\cdots, \\: v_n \\: w_n ] $$\n"
   ]
  },
  {
   "cell_type": "code",
   "execution_count": null,
   "metadata": {
    "slideshow": {
     "slide_type": "notes"
    }
   },
   "outputs": [],
   "source": []
  },
  {
   "cell_type": "markdown",
   "metadata": {
    "cell_style": "split"
   },
   "source": [
    "#### Outer Product\n",
    "\n",
    "\n",
    "\n",
    "+ Returns a Matrix\n",
    "\n",
    "+ Directions of rows and columns?\n",
    "  + Think span and scalar multiplication\n",
    " "
   ]
  },
  {
   "cell_type": "markdown",
   "metadata": {
    "cell_style": "split",
    "slideshow": {
     "slide_type": "-"
    }
   },
   "source": [
    "$$ \\vec{W} \\otimes \\vec{V} \\quad  = \\quad \\begin{bmatrix} \n",
    "    \\:v_1 \\: w_1 &\\:v_2 \\: w_1 &  \\dots  v_n \\: w_1 \\\\\n",
    "    \\:v_1 \\: w_2 &\\:v_2 \\: w_2 &   \\\\\n",
    "    \\vdots & &\\ddots & &  \\\\\n",
    "    \\:v_1 \\: w_m & v_2 \\: w_m &  \\dots  v_n \\: w_m\\\\\n",
    "    \\end{bmatrix}\n",
    "$$\n"
   ]
  },
  {
   "cell_type": "markdown",
   "metadata": {},
   "source": []
  },
  {
   "cell_type": "markdown",
   "metadata": {
    "cell_style": "split",
    "slideshow": {
     "slide_type": "subslide"
    }
   },
   "source": [
    "### Inner (Dot) Product\n",
    "\n",
    "$$ \\vec{V} \\cdot \\vec{W} = \\quad = \\quad \\:v_1 \\: w_1 +  \\:v_2 \\: w_2 + \\: _\\cdots + \\: v_n \\: w_n  $$\n",
    "\n",
    "+ Sum of the elementwise multiplication\n",
    "+ Requires vectors are the same size\n",
    "+ $\\vec{V} \\cdot \\vec{V} = {|\\vec{V}|}^2$\n",
    "\n",
    "+ Most useful of all the vector products\n"
   ]
  },
  {
   "cell_type": "markdown",
   "metadata": {
    "cell_style": "split",
    "slideshow": {
     "slide_type": "-"
    }
   },
   "source": [
    "# Fix this, add figure"
   ]
  },
  {
   "cell_type": "code",
   "execution_count": 91,
   "metadata": {
    "slideshow": {
     "slide_type": "subslide"
    }
   },
   "outputs": [
    {
     "data": {
      "application/javascript": [
       "/* Put everything inside the global mpl namespace */\n",
       "window.mpl = {};\n",
       "\n",
       "\n",
       "mpl.get_websocket_type = function() {\n",
       "    if (typeof(WebSocket) !== 'undefined') {\n",
       "        return WebSocket;\n",
       "    } else if (typeof(MozWebSocket) !== 'undefined') {\n",
       "        return MozWebSocket;\n",
       "    } else {\n",
       "        alert('Your browser does not have WebSocket support. ' +\n",
       "              'Please try Chrome, Safari or Firefox ≥ 6. ' +\n",
       "              'Firefox 4 and 5 are also supported but you ' +\n",
       "              'have to enable WebSockets in about:config.');\n",
       "    };\n",
       "}\n",
       "\n",
       "mpl.figure = function(figure_id, websocket, ondownload, parent_element) {\n",
       "    this.id = figure_id;\n",
       "\n",
       "    this.ws = websocket;\n",
       "\n",
       "    this.supports_binary = (this.ws.binaryType != undefined);\n",
       "\n",
       "    if (!this.supports_binary) {\n",
       "        var warnings = document.getElementById(\"mpl-warnings\");\n",
       "        if (warnings) {\n",
       "            warnings.style.display = 'block';\n",
       "            warnings.textContent = (\n",
       "                \"This browser does not support binary websocket messages. \" +\n",
       "                    \"Performance may be slow.\");\n",
       "        }\n",
       "    }\n",
       "\n",
       "    this.imageObj = new Image();\n",
       "\n",
       "    this.context = undefined;\n",
       "    this.message = undefined;\n",
       "    this.canvas = undefined;\n",
       "    this.rubberband_canvas = undefined;\n",
       "    this.rubberband_context = undefined;\n",
       "    this.format_dropdown = undefined;\n",
       "\n",
       "    this.image_mode = 'full';\n",
       "\n",
       "    this.root = $('<div/>');\n",
       "    this._root_extra_style(this.root)\n",
       "    this.root.attr('style', 'display: inline-block');\n",
       "\n",
       "    $(parent_element).append(this.root);\n",
       "\n",
       "    this._init_header(this);\n",
       "    this._init_canvas(this);\n",
       "    this._init_toolbar(this);\n",
       "\n",
       "    var fig = this;\n",
       "\n",
       "    this.waiting = false;\n",
       "\n",
       "    this.ws.onopen =  function () {\n",
       "            fig.send_message(\"supports_binary\", {value: fig.supports_binary});\n",
       "            fig.send_message(\"send_image_mode\", {});\n",
       "            if (mpl.ratio != 1) {\n",
       "                fig.send_message(\"set_dpi_ratio\", {'dpi_ratio': mpl.ratio});\n",
       "            }\n",
       "            fig.send_message(\"refresh\", {});\n",
       "        }\n",
       "\n",
       "    this.imageObj.onload = function() {\n",
       "            if (fig.image_mode == 'full') {\n",
       "                // Full images could contain transparency (where diff images\n",
       "                // almost always do), so we need to clear the canvas so that\n",
       "                // there is no ghosting.\n",
       "                fig.context.clearRect(0, 0, fig.canvas.width, fig.canvas.height);\n",
       "            }\n",
       "            fig.context.drawImage(fig.imageObj, 0, 0);\n",
       "        };\n",
       "\n",
       "    this.imageObj.onunload = function() {\n",
       "        fig.ws.close();\n",
       "    }\n",
       "\n",
       "    this.ws.onmessage = this._make_on_message_function(this);\n",
       "\n",
       "    this.ondownload = ondownload;\n",
       "}\n",
       "\n",
       "mpl.figure.prototype._init_header = function() {\n",
       "    var titlebar = $(\n",
       "        '<div class=\"ui-dialog-titlebar ui-widget-header ui-corner-all ' +\n",
       "        'ui-helper-clearfix\"/>');\n",
       "    var titletext = $(\n",
       "        '<div class=\"ui-dialog-title\" style=\"width: 100%; ' +\n",
       "        'text-align: center; padding: 3px;\"/>');\n",
       "    titlebar.append(titletext)\n",
       "    this.root.append(titlebar);\n",
       "    this.header = titletext[0];\n",
       "}\n",
       "\n",
       "\n",
       "\n",
       "mpl.figure.prototype._canvas_extra_style = function(canvas_div) {\n",
       "\n",
       "}\n",
       "\n",
       "\n",
       "mpl.figure.prototype._root_extra_style = function(canvas_div) {\n",
       "\n",
       "}\n",
       "\n",
       "mpl.figure.prototype._init_canvas = function() {\n",
       "    var fig = this;\n",
       "\n",
       "    var canvas_div = $('<div/>');\n",
       "\n",
       "    canvas_div.attr('style', 'position: relative; clear: both; outline: 0');\n",
       "\n",
       "    function canvas_keyboard_event(event) {\n",
       "        return fig.key_event(event, event['data']);\n",
       "    }\n",
       "\n",
       "    canvas_div.keydown('key_press', canvas_keyboard_event);\n",
       "    canvas_div.keyup('key_release', canvas_keyboard_event);\n",
       "    this.canvas_div = canvas_div\n",
       "    this._canvas_extra_style(canvas_div)\n",
       "    this.root.append(canvas_div);\n",
       "\n",
       "    var canvas = $('<canvas/>');\n",
       "    canvas.addClass('mpl-canvas');\n",
       "    canvas.attr('style', \"left: 0; top: 0; z-index: 0; outline: 0\")\n",
       "\n",
       "    this.canvas = canvas[0];\n",
       "    this.context = canvas[0].getContext(\"2d\");\n",
       "\n",
       "    var backingStore = this.context.backingStorePixelRatio ||\n",
       "\tthis.context.webkitBackingStorePixelRatio ||\n",
       "\tthis.context.mozBackingStorePixelRatio ||\n",
       "\tthis.context.msBackingStorePixelRatio ||\n",
       "\tthis.context.oBackingStorePixelRatio ||\n",
       "\tthis.context.backingStorePixelRatio || 1;\n",
       "\n",
       "    mpl.ratio = (window.devicePixelRatio || 1) / backingStore;\n",
       "\n",
       "    var rubberband = $('<canvas/>');\n",
       "    rubberband.attr('style', \"position: absolute; left: 0; top: 0; z-index: 1;\")\n",
       "\n",
       "    var pass_mouse_events = true;\n",
       "\n",
       "    canvas_div.resizable({\n",
       "        start: function(event, ui) {\n",
       "            pass_mouse_events = false;\n",
       "        },\n",
       "        resize: function(event, ui) {\n",
       "            fig.request_resize(ui.size.width, ui.size.height);\n",
       "        },\n",
       "        stop: function(event, ui) {\n",
       "            pass_mouse_events = true;\n",
       "            fig.request_resize(ui.size.width, ui.size.height);\n",
       "        },\n",
       "    });\n",
       "\n",
       "    function mouse_event_fn(event) {\n",
       "        if (pass_mouse_events)\n",
       "            return fig.mouse_event(event, event['data']);\n",
       "    }\n",
       "\n",
       "    rubberband.mousedown('button_press', mouse_event_fn);\n",
       "    rubberband.mouseup('button_release', mouse_event_fn);\n",
       "    // Throttle sequential mouse events to 1 every 20ms.\n",
       "    rubberband.mousemove('motion_notify', mouse_event_fn);\n",
       "\n",
       "    rubberband.mouseenter('figure_enter', mouse_event_fn);\n",
       "    rubberband.mouseleave('figure_leave', mouse_event_fn);\n",
       "\n",
       "    canvas_div.on(\"wheel\", function (event) {\n",
       "        event = event.originalEvent;\n",
       "        event['data'] = 'scroll'\n",
       "        if (event.deltaY < 0) {\n",
       "            event.step = 1;\n",
       "        } else {\n",
       "            event.step = -1;\n",
       "        }\n",
       "        mouse_event_fn(event);\n",
       "    });\n",
       "\n",
       "    canvas_div.append(canvas);\n",
       "    canvas_div.append(rubberband);\n",
       "\n",
       "    this.rubberband = rubberband;\n",
       "    this.rubberband_canvas = rubberband[0];\n",
       "    this.rubberband_context = rubberband[0].getContext(\"2d\");\n",
       "    this.rubberband_context.strokeStyle = \"#000000\";\n",
       "\n",
       "    this._resize_canvas = function(width, height) {\n",
       "        // Keep the size of the canvas, canvas container, and rubber band\n",
       "        // canvas in synch.\n",
       "        canvas_div.css('width', width)\n",
       "        canvas_div.css('height', height)\n",
       "\n",
       "        canvas.attr('width', width * mpl.ratio);\n",
       "        canvas.attr('height', height * mpl.ratio);\n",
       "        canvas.attr('style', 'width: ' + width + 'px; height: ' + height + 'px;');\n",
       "\n",
       "        rubberband.attr('width', width);\n",
       "        rubberband.attr('height', height);\n",
       "    }\n",
       "\n",
       "    // Set the figure to an initial 600x600px, this will subsequently be updated\n",
       "    // upon first draw.\n",
       "    this._resize_canvas(600, 600);\n",
       "\n",
       "    // Disable right mouse context menu.\n",
       "    $(this.rubberband_canvas).bind(\"contextmenu\",function(e){\n",
       "        return false;\n",
       "    });\n",
       "\n",
       "    function set_focus () {\n",
       "        canvas.focus();\n",
       "        canvas_div.focus();\n",
       "    }\n",
       "\n",
       "    window.setTimeout(set_focus, 100);\n",
       "}\n",
       "\n",
       "mpl.figure.prototype._init_toolbar = function() {\n",
       "    var fig = this;\n",
       "\n",
       "    var nav_element = $('<div/>');\n",
       "    nav_element.attr('style', 'width: 100%');\n",
       "    this.root.append(nav_element);\n",
       "\n",
       "    // Define a callback function for later on.\n",
       "    function toolbar_event(event) {\n",
       "        return fig.toolbar_button_onclick(event['data']);\n",
       "    }\n",
       "    function toolbar_mouse_event(event) {\n",
       "        return fig.toolbar_button_onmouseover(event['data']);\n",
       "    }\n",
       "\n",
       "    for(var toolbar_ind in mpl.toolbar_items) {\n",
       "        var name = mpl.toolbar_items[toolbar_ind][0];\n",
       "        var tooltip = mpl.toolbar_items[toolbar_ind][1];\n",
       "        var image = mpl.toolbar_items[toolbar_ind][2];\n",
       "        var method_name = mpl.toolbar_items[toolbar_ind][3];\n",
       "\n",
       "        if (!name) {\n",
       "            // put a spacer in here.\n",
       "            continue;\n",
       "        }\n",
       "        var button = $('<button/>');\n",
       "        button.addClass('ui-button ui-widget ui-state-default ui-corner-all ' +\n",
       "                        'ui-button-icon-only');\n",
       "        button.attr('role', 'button');\n",
       "        button.attr('aria-disabled', 'false');\n",
       "        button.click(method_name, toolbar_event);\n",
       "        button.mouseover(tooltip, toolbar_mouse_event);\n",
       "\n",
       "        var icon_img = $('<span/>');\n",
       "        icon_img.addClass('ui-button-icon-primary ui-icon');\n",
       "        icon_img.addClass(image);\n",
       "        icon_img.addClass('ui-corner-all');\n",
       "\n",
       "        var tooltip_span = $('<span/>');\n",
       "        tooltip_span.addClass('ui-button-text');\n",
       "        tooltip_span.html(tooltip);\n",
       "\n",
       "        button.append(icon_img);\n",
       "        button.append(tooltip_span);\n",
       "\n",
       "        nav_element.append(button);\n",
       "    }\n",
       "\n",
       "    var fmt_picker_span = $('<span/>');\n",
       "\n",
       "    var fmt_picker = $('<select/>');\n",
       "    fmt_picker.addClass('mpl-toolbar-option ui-widget ui-widget-content');\n",
       "    fmt_picker_span.append(fmt_picker);\n",
       "    nav_element.append(fmt_picker_span);\n",
       "    this.format_dropdown = fmt_picker[0];\n",
       "\n",
       "    for (var ind in mpl.extensions) {\n",
       "        var fmt = mpl.extensions[ind];\n",
       "        var option = $(\n",
       "            '<option/>', {selected: fmt === mpl.default_extension}).html(fmt);\n",
       "        fmt_picker.append(option);\n",
       "    }\n",
       "\n",
       "    // Add hover states to the ui-buttons\n",
       "    $( \".ui-button\" ).hover(\n",
       "        function() { $(this).addClass(\"ui-state-hover\");},\n",
       "        function() { $(this).removeClass(\"ui-state-hover\");}\n",
       "    );\n",
       "\n",
       "    var status_bar = $('<span class=\"mpl-message\"/>');\n",
       "    nav_element.append(status_bar);\n",
       "    this.message = status_bar[0];\n",
       "}\n",
       "\n",
       "mpl.figure.prototype.request_resize = function(x_pixels, y_pixels) {\n",
       "    // Request matplotlib to resize the figure. Matplotlib will then trigger a resize in the client,\n",
       "    // which will in turn request a refresh of the image.\n",
       "    this.send_message('resize', {'width': x_pixels, 'height': y_pixels});\n",
       "}\n",
       "\n",
       "mpl.figure.prototype.send_message = function(type, properties) {\n",
       "    properties['type'] = type;\n",
       "    properties['figure_id'] = this.id;\n",
       "    this.ws.send(JSON.stringify(properties));\n",
       "}\n",
       "\n",
       "mpl.figure.prototype.send_draw_message = function() {\n",
       "    if (!this.waiting) {\n",
       "        this.waiting = true;\n",
       "        this.ws.send(JSON.stringify({type: \"draw\", figure_id: this.id}));\n",
       "    }\n",
       "}\n",
       "\n",
       "\n",
       "mpl.figure.prototype.handle_save = function(fig, msg) {\n",
       "    var format_dropdown = fig.format_dropdown;\n",
       "    var format = format_dropdown.options[format_dropdown.selectedIndex].value;\n",
       "    fig.ondownload(fig, format);\n",
       "}\n",
       "\n",
       "\n",
       "mpl.figure.prototype.handle_resize = function(fig, msg) {\n",
       "    var size = msg['size'];\n",
       "    if (size[0] != fig.canvas.width || size[1] != fig.canvas.height) {\n",
       "        fig._resize_canvas(size[0], size[1]);\n",
       "        fig.send_message(\"refresh\", {});\n",
       "    };\n",
       "}\n",
       "\n",
       "mpl.figure.prototype.handle_rubberband = function(fig, msg) {\n",
       "    var x0 = msg['x0'] / mpl.ratio;\n",
       "    var y0 = (fig.canvas.height - msg['y0']) / mpl.ratio;\n",
       "    var x1 = msg['x1'] / mpl.ratio;\n",
       "    var y1 = (fig.canvas.height - msg['y1']) / mpl.ratio;\n",
       "    x0 = Math.floor(x0) + 0.5;\n",
       "    y0 = Math.floor(y0) + 0.5;\n",
       "    x1 = Math.floor(x1) + 0.5;\n",
       "    y1 = Math.floor(y1) + 0.5;\n",
       "    var min_x = Math.min(x0, x1);\n",
       "    var min_y = Math.min(y0, y1);\n",
       "    var width = Math.abs(x1 - x0);\n",
       "    var height = Math.abs(y1 - y0);\n",
       "\n",
       "    fig.rubberband_context.clearRect(\n",
       "        0, 0, fig.canvas.width / mpl.ratio, fig.canvas.height / mpl.ratio);\n",
       "\n",
       "    fig.rubberband_context.strokeRect(min_x, min_y, width, height);\n",
       "}\n",
       "\n",
       "mpl.figure.prototype.handle_figure_label = function(fig, msg) {\n",
       "    // Updates the figure title.\n",
       "    fig.header.textContent = msg['label'];\n",
       "}\n",
       "\n",
       "mpl.figure.prototype.handle_cursor = function(fig, msg) {\n",
       "    var cursor = msg['cursor'];\n",
       "    switch(cursor)\n",
       "    {\n",
       "    case 0:\n",
       "        cursor = 'pointer';\n",
       "        break;\n",
       "    case 1:\n",
       "        cursor = 'default';\n",
       "        break;\n",
       "    case 2:\n",
       "        cursor = 'crosshair';\n",
       "        break;\n",
       "    case 3:\n",
       "        cursor = 'move';\n",
       "        break;\n",
       "    }\n",
       "    fig.rubberband_canvas.style.cursor = cursor;\n",
       "}\n",
       "\n",
       "mpl.figure.prototype.handle_message = function(fig, msg) {\n",
       "    fig.message.textContent = msg['message'];\n",
       "}\n",
       "\n",
       "mpl.figure.prototype.handle_draw = function(fig, msg) {\n",
       "    // Request the server to send over a new figure.\n",
       "    fig.send_draw_message();\n",
       "}\n",
       "\n",
       "mpl.figure.prototype.handle_image_mode = function(fig, msg) {\n",
       "    fig.image_mode = msg['mode'];\n",
       "}\n",
       "\n",
       "mpl.figure.prototype.updated_canvas_event = function() {\n",
       "    // Called whenever the canvas gets updated.\n",
       "    this.send_message(\"ack\", {});\n",
       "}\n",
       "\n",
       "// A function to construct a web socket function for onmessage handling.\n",
       "// Called in the figure constructor.\n",
       "mpl.figure.prototype._make_on_message_function = function(fig) {\n",
       "    return function socket_on_message(evt) {\n",
       "        if (evt.data instanceof Blob) {\n",
       "            /* FIXME: We get \"Resource interpreted as Image but\n",
       "             * transferred with MIME type text/plain:\" errors on\n",
       "             * Chrome.  But how to set the MIME type?  It doesn't seem\n",
       "             * to be part of the websocket stream */\n",
       "            evt.data.type = \"image/png\";\n",
       "\n",
       "            /* Free the memory for the previous frames */\n",
       "            if (fig.imageObj.src) {\n",
       "                (window.URL || window.webkitURL).revokeObjectURL(\n",
       "                    fig.imageObj.src);\n",
       "            }\n",
       "\n",
       "            fig.imageObj.src = (window.URL || window.webkitURL).createObjectURL(\n",
       "                evt.data);\n",
       "            fig.updated_canvas_event();\n",
       "            fig.waiting = false;\n",
       "            return;\n",
       "        }\n",
       "        else if (typeof evt.data === 'string' && evt.data.slice(0, 21) == \"data:image/png;base64\") {\n",
       "            fig.imageObj.src = evt.data;\n",
       "            fig.updated_canvas_event();\n",
       "            fig.waiting = false;\n",
       "            return;\n",
       "        }\n",
       "\n",
       "        var msg = JSON.parse(evt.data);\n",
       "        var msg_type = msg['type'];\n",
       "\n",
       "        // Call the  \"handle_{type}\" callback, which takes\n",
       "        // the figure and JSON message as its only arguments.\n",
       "        try {\n",
       "            var callback = fig[\"handle_\" + msg_type];\n",
       "        } catch (e) {\n",
       "            console.log(\"No handler for the '\" + msg_type + \"' message type: \", msg);\n",
       "            return;\n",
       "        }\n",
       "\n",
       "        if (callback) {\n",
       "            try {\n",
       "                // console.log(\"Handling '\" + msg_type + \"' message: \", msg);\n",
       "                callback(fig, msg);\n",
       "            } catch (e) {\n",
       "                console.log(\"Exception inside the 'handler_\" + msg_type + \"' callback:\", e, e.stack, msg);\n",
       "            }\n",
       "        }\n",
       "    };\n",
       "}\n",
       "\n",
       "// from http://stackoverflow.com/questions/1114465/getting-mouse-location-in-canvas\n",
       "mpl.findpos = function(e) {\n",
       "    //this section is from http://www.quirksmode.org/js/events_properties.html\n",
       "    var targ;\n",
       "    if (!e)\n",
       "        e = window.event;\n",
       "    if (e.target)\n",
       "        targ = e.target;\n",
       "    else if (e.srcElement)\n",
       "        targ = e.srcElement;\n",
       "    if (targ.nodeType == 3) // defeat Safari bug\n",
       "        targ = targ.parentNode;\n",
       "\n",
       "    // jQuery normalizes the pageX and pageY\n",
       "    // pageX,Y are the mouse positions relative to the document\n",
       "    // offset() returns the position of the element relative to the document\n",
       "    var x = e.pageX - $(targ).offset().left;\n",
       "    var y = e.pageY - $(targ).offset().top;\n",
       "\n",
       "    return {\"x\": x, \"y\": y};\n",
       "};\n",
       "\n",
       "/*\n",
       " * return a copy of an object with only non-object keys\n",
       " * we need this to avoid circular references\n",
       " * http://stackoverflow.com/a/24161582/3208463\n",
       " */\n",
       "function simpleKeys (original) {\n",
       "  return Object.keys(original).reduce(function (obj, key) {\n",
       "    if (typeof original[key] !== 'object')\n",
       "        obj[key] = original[key]\n",
       "    return obj;\n",
       "  }, {});\n",
       "}\n",
       "\n",
       "mpl.figure.prototype.mouse_event = function(event, name) {\n",
       "    var canvas_pos = mpl.findpos(event)\n",
       "\n",
       "    if (name === 'button_press')\n",
       "    {\n",
       "        this.canvas.focus();\n",
       "        this.canvas_div.focus();\n",
       "    }\n",
       "\n",
       "    var x = canvas_pos.x * mpl.ratio;\n",
       "    var y = canvas_pos.y * mpl.ratio;\n",
       "\n",
       "    this.send_message(name, {x: x, y: y, button: event.button,\n",
       "                             step: event.step,\n",
       "                             guiEvent: simpleKeys(event)});\n",
       "\n",
       "    /* This prevents the web browser from automatically changing to\n",
       "     * the text insertion cursor when the button is pressed.  We want\n",
       "     * to control all of the cursor setting manually through the\n",
       "     * 'cursor' event from matplotlib */\n",
       "    event.preventDefault();\n",
       "    return false;\n",
       "}\n",
       "\n",
       "mpl.figure.prototype._key_event_extra = function(event, name) {\n",
       "    // Handle any extra behaviour associated with a key event\n",
       "}\n",
       "\n",
       "mpl.figure.prototype.key_event = function(event, name) {\n",
       "\n",
       "    // Prevent repeat events\n",
       "    if (name == 'key_press')\n",
       "    {\n",
       "        if (event.which === this._key)\n",
       "            return;\n",
       "        else\n",
       "            this._key = event.which;\n",
       "    }\n",
       "    if (name == 'key_release')\n",
       "        this._key = null;\n",
       "\n",
       "    var value = '';\n",
       "    if (event.ctrlKey && event.which != 17)\n",
       "        value += \"ctrl+\";\n",
       "    if (event.altKey && event.which != 18)\n",
       "        value += \"alt+\";\n",
       "    if (event.shiftKey && event.which != 16)\n",
       "        value += \"shift+\";\n",
       "\n",
       "    value += 'k';\n",
       "    value += event.which.toString();\n",
       "\n",
       "    this._key_event_extra(event, name);\n",
       "\n",
       "    this.send_message(name, {key: value,\n",
       "                             guiEvent: simpleKeys(event)});\n",
       "    return false;\n",
       "}\n",
       "\n",
       "mpl.figure.prototype.toolbar_button_onclick = function(name) {\n",
       "    if (name == 'download') {\n",
       "        this.handle_save(this, null);\n",
       "    } else {\n",
       "        this.send_message(\"toolbar_button\", {name: name});\n",
       "    }\n",
       "};\n",
       "\n",
       "mpl.figure.prototype.toolbar_button_onmouseover = function(tooltip) {\n",
       "    this.message.textContent = tooltip;\n",
       "};\n",
       "mpl.toolbar_items = [[\"Home\", \"Reset original view\", \"fa fa-home icon-home\", \"home\"], [\"Back\", \"Back to previous view\", \"fa fa-arrow-left icon-arrow-left\", \"back\"], [\"Forward\", \"Forward to next view\", \"fa fa-arrow-right icon-arrow-right\", \"forward\"], [\"\", \"\", \"\", \"\"], [\"Pan\", \"Pan axes with left mouse, zoom with right\", \"fa fa-arrows icon-move\", \"pan\"], [\"Zoom\", \"Zoom to rectangle\", \"fa fa-square-o icon-check-empty\", \"zoom\"], [\"\", \"\", \"\", \"\"], [\"Download\", \"Download plot\", \"fa fa-floppy-o icon-save\", \"download\"]];\n",
       "\n",
       "mpl.extensions = [\"eps\", \"pdf\", \"png\", \"ps\", \"raw\", \"svg\"];\n",
       "\n",
       "mpl.default_extension = \"png\";var comm_websocket_adapter = function(comm) {\n",
       "    // Create a \"websocket\"-like object which calls the given IPython comm\n",
       "    // object with the appropriate methods. Currently this is a non binary\n",
       "    // socket, so there is still some room for performance tuning.\n",
       "    var ws = {};\n",
       "\n",
       "    ws.close = function() {\n",
       "        comm.close()\n",
       "    };\n",
       "    ws.send = function(m) {\n",
       "        //console.log('sending', m);\n",
       "        comm.send(m);\n",
       "    };\n",
       "    // Register the callback with on_msg.\n",
       "    comm.on_msg(function(msg) {\n",
       "        //console.log('receiving', msg['content']['data'], msg);\n",
       "        // Pass the mpl event to the overridden (by mpl) onmessage function.\n",
       "        ws.onmessage(msg['content']['data'])\n",
       "    });\n",
       "    return ws;\n",
       "}\n",
       "\n",
       "mpl.mpl_figure_comm = function(comm, msg) {\n",
       "    // This is the function which gets called when the mpl process\n",
       "    // starts-up an IPython Comm through the \"matplotlib\" channel.\n",
       "\n",
       "    var id = msg.content.data.id;\n",
       "    // Get hold of the div created by the display call when the Comm\n",
       "    // socket was opened in Python.\n",
       "    var element = $(\"#\" + id);\n",
       "    var ws_proxy = comm_websocket_adapter(comm)\n",
       "\n",
       "    function ondownload(figure, format) {\n",
       "        window.open(figure.imageObj.src);\n",
       "    }\n",
       "\n",
       "    var fig = new mpl.figure(id, ws_proxy,\n",
       "                           ondownload,\n",
       "                           element.get(0));\n",
       "\n",
       "    // Call onopen now - mpl needs it, as it is assuming we've passed it a real\n",
       "    // web socket which is closed, not our websocket->open comm proxy.\n",
       "    ws_proxy.onopen();\n",
       "\n",
       "    fig.parent_element = element.get(0);\n",
       "    fig.cell_info = mpl.find_output_cell(\"<div id='\" + id + \"'></div>\");\n",
       "    if (!fig.cell_info) {\n",
       "        console.error(\"Failed to find cell for figure\", id, fig);\n",
       "        return;\n",
       "    }\n",
       "\n",
       "    var output_index = fig.cell_info[2]\n",
       "    var cell = fig.cell_info[0];\n",
       "\n",
       "};\n",
       "\n",
       "mpl.figure.prototype.handle_close = function(fig, msg) {\n",
       "    var width = fig.canvas.width/mpl.ratio\n",
       "    fig.root.unbind('remove')\n",
       "\n",
       "    // Update the output cell to use the data from the current canvas.\n",
       "    fig.push_to_output();\n",
       "    var dataURL = fig.canvas.toDataURL();\n",
       "    // Re-enable the keyboard manager in IPython - without this line, in FF,\n",
       "    // the notebook keyboard shortcuts fail.\n",
       "    IPython.keyboard_manager.enable()\n",
       "    $(fig.parent_element).html('<img src=\"' + dataURL + '\" width=\"' + width + '\">');\n",
       "    fig.close_ws(fig, msg);\n",
       "}\n",
       "\n",
       "mpl.figure.prototype.close_ws = function(fig, msg){\n",
       "    fig.send_message('closing', msg);\n",
       "    // fig.ws.close()\n",
       "}\n",
       "\n",
       "mpl.figure.prototype.push_to_output = function(remove_interactive) {\n",
       "    // Turn the data on the canvas into data in the output cell.\n",
       "    var width = this.canvas.width/mpl.ratio\n",
       "    var dataURL = this.canvas.toDataURL();\n",
       "    this.cell_info[1]['text/html'] = '<img src=\"' + dataURL + '\" width=\"' + width + '\">';\n",
       "}\n",
       "\n",
       "mpl.figure.prototype.updated_canvas_event = function() {\n",
       "    // Tell IPython that the notebook contents must change.\n",
       "    IPython.notebook.set_dirty(true);\n",
       "    this.send_message(\"ack\", {});\n",
       "    var fig = this;\n",
       "    // Wait a second, then push the new image to the DOM so\n",
       "    // that it is saved nicely (might be nice to debounce this).\n",
       "    setTimeout(function () { fig.push_to_output() }, 1000);\n",
       "}\n",
       "\n",
       "mpl.figure.prototype._init_toolbar = function() {\n",
       "    var fig = this;\n",
       "\n",
       "    var nav_element = $('<div/>');\n",
       "    nav_element.attr('style', 'width: 100%');\n",
       "    this.root.append(nav_element);\n",
       "\n",
       "    // Define a callback function for later on.\n",
       "    function toolbar_event(event) {\n",
       "        return fig.toolbar_button_onclick(event['data']);\n",
       "    }\n",
       "    function toolbar_mouse_event(event) {\n",
       "        return fig.toolbar_button_onmouseover(event['data']);\n",
       "    }\n",
       "\n",
       "    for(var toolbar_ind in mpl.toolbar_items){\n",
       "        var name = mpl.toolbar_items[toolbar_ind][0];\n",
       "        var tooltip = mpl.toolbar_items[toolbar_ind][1];\n",
       "        var image = mpl.toolbar_items[toolbar_ind][2];\n",
       "        var method_name = mpl.toolbar_items[toolbar_ind][3];\n",
       "\n",
       "        if (!name) { continue; };\n",
       "\n",
       "        var button = $('<button class=\"btn btn-default\" href=\"#\" title=\"' + name + '\"><i class=\"fa ' + image + ' fa-lg\"></i></button>');\n",
       "        button.click(method_name, toolbar_event);\n",
       "        button.mouseover(tooltip, toolbar_mouse_event);\n",
       "        nav_element.append(button);\n",
       "    }\n",
       "\n",
       "    // Add the status bar.\n",
       "    var status_bar = $('<span class=\"mpl-message\" style=\"text-align:right; float: right;\"/>');\n",
       "    nav_element.append(status_bar);\n",
       "    this.message = status_bar[0];\n",
       "\n",
       "    // Add the close button to the window.\n",
       "    var buttongrp = $('<div class=\"btn-group inline pull-right\"></div>');\n",
       "    var button = $('<button class=\"btn btn-mini btn-primary\" href=\"#\" title=\"Stop Interaction\"><i class=\"fa fa-power-off icon-remove icon-large\"></i></button>');\n",
       "    button.click(function (evt) { fig.handle_close(fig, {}); } );\n",
       "    button.mouseover('Stop Interaction', toolbar_mouse_event);\n",
       "    buttongrp.append(button);\n",
       "    var titlebar = this.root.find($('.ui-dialog-titlebar'));\n",
       "    titlebar.prepend(buttongrp);\n",
       "}\n",
       "\n",
       "mpl.figure.prototype._root_extra_style = function(el){\n",
       "    var fig = this\n",
       "    el.on(\"remove\", function(){\n",
       "\tfig.close_ws(fig, {});\n",
       "    });\n",
       "}\n",
       "\n",
       "mpl.figure.prototype._canvas_extra_style = function(el){\n",
       "    // this is important to make the div 'focusable\n",
       "    el.attr('tabindex', 0)\n",
       "    // reach out to IPython and tell the keyboard manager to turn it's self\n",
       "    // off when our div gets focus\n",
       "\n",
       "    // location in version 3\n",
       "    if (IPython.notebook.keyboard_manager) {\n",
       "        IPython.notebook.keyboard_manager.register_events(el);\n",
       "    }\n",
       "    else {\n",
       "        // location in version 2\n",
       "        IPython.keyboard_manager.register_events(el);\n",
       "    }\n",
       "\n",
       "}\n",
       "\n",
       "mpl.figure.prototype._key_event_extra = function(event, name) {\n",
       "    var manager = IPython.notebook.keyboard_manager;\n",
       "    if (!manager)\n",
       "        manager = IPython.keyboard_manager;\n",
       "\n",
       "    // Check for shift+enter\n",
       "    if (event.shiftKey && event.which == 13) {\n",
       "        this.canvas_div.blur();\n",
       "        // select the cell after this one\n",
       "        var index = IPython.notebook.find_cell_index(this.cell_info[0]);\n",
       "        IPython.notebook.select(index + 1);\n",
       "    }\n",
       "}\n",
       "\n",
       "mpl.figure.prototype.handle_save = function(fig, msg) {\n",
       "    fig.ondownload(fig, null);\n",
       "}\n",
       "\n",
       "\n",
       "mpl.find_output_cell = function(html_output) {\n",
       "    // Return the cell and output element which can be found *uniquely* in the notebook.\n",
       "    // Note - this is a bit hacky, but it is done because the \"notebook_saving.Notebook\"\n",
       "    // IPython event is triggered only after the cells have been serialised, which for\n",
       "    // our purposes (turning an active figure into a static one), is too late.\n",
       "    var cells = IPython.notebook.get_cells();\n",
       "    var ncells = cells.length;\n",
       "    for (var i=0; i<ncells; i++) {\n",
       "        var cell = cells[i];\n",
       "        if (cell.cell_type === 'code'){\n",
       "            for (var j=0; j<cell.output_area.outputs.length; j++) {\n",
       "                var data = cell.output_area.outputs[j];\n",
       "                if (data.data) {\n",
       "                    // IPython >= 3 moved mimebundle to data attribute of output\n",
       "                    data = data.data;\n",
       "                }\n",
       "                if (data['text/html'] == html_output) {\n",
       "                    return [cell, data, j];\n",
       "                }\n",
       "            }\n",
       "        }\n",
       "    }\n",
       "}\n",
       "\n",
       "// Register the function which deals with the matplotlib target/channel.\n",
       "// The kernel may be null if the page has been refreshed.\n",
       "if (IPython.notebook.kernel != null) {\n",
       "    IPython.notebook.kernel.comm_manager.register_target('matplotlib', mpl.mpl_figure_comm);\n",
       "}\n"
      ],
      "text/plain": [
       "<IPython.core.display.Javascript object>"
      ]
     },
     "metadata": {},
     "output_type": "display_data"
    },
    {
     "data": {
      "text/html": [
       "<img src=\"data:image/png;base64,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\" width=\"600\">"
      ],
      "text/plain": [
       "<IPython.core.display.HTML object>"
      ]
     },
     "metadata": {},
     "output_type": "display_data"
    },
    {
     "data": {
      "application/vnd.jupyter.widget-view+json": {
       "model_id": "65cbac48c6a343c19603548bfcce5b14",
       "version_major": 2,
       "version_minor": 0
      },
      "text/plain": [
       "interactive(children=(FloatSlider(value=1.0, description='v1', max=5.0, min=-5.0), FloatSlider(value=2.0, desc…"
      ]
     },
     "metadata": {},
     "output_type": "display_data"
    }
   ],
   "source": [
    "fig, ax = plt.subplots(1,1)\n",
    "fig.set_size_inches(6, 6)\n",
    "\n",
    "@interact(v1=(-5,5,0.1), v2=(-5,5,0.1), w1=(-5,5,0.1), w2=(-5,5,0.1))\n",
    "def update(v1=1, v2=2, w1=2, w2=0.5):\n",
    "    v, w = numpy.array([v1, v2]), numpy.array([w1, w2])\n",
    "    ax.cla()\n",
    "    ax.arrow(0, 0, v1*0.9, v2*0.9, head_width=0.25, head_length=0.25, fc='g', ec='g')\n",
    "    ax.arrow(0, 0, w1*0.9, w2*0.9, head_width=0.25, head_length=0.25, fc='b', ec='b')\n",
    "    ax.arrow(0, 0, v1*w1+v2*w2, 0, head_width=0.25, head_length=0.25, fc='k', ec='k')\n",
    "    fig.canvas.draw_idle()\n",
    "    ax.set_xlim(-5, 5);ax.set_ylim(-5, 5)\n",
    "    ax.set_xlabel('$X_1$');ax.set_ylabel('$X_2$')\n",
    "    plt.suptitle('Dot Product')\n",
    "    ax.grid(True)\n",
    "    fig.tight_layout(rect=[0, 0.03, 1, 0.95])"
   ]
  },
  {
   "cell_type": "markdown",
   "metadata": {
    "cell_style": "split",
    "slideshow": {
     "slide_type": "subslide"
    }
   },
   "source": [
    "### Cauchy–Schwarz Inequality\n",
    "$$ \\cfrac{|\\vec{V} \\cdot \\vec{U}|}{|\\vec{V}| \\: |\\vec{U}|} \\leq 1 $$\n",
    "\n",
    "+ Bounds the output of Dot product\n",
    " + Shows something about direction\n",
    "+ Basic to show\n",
    "  + Applications everywhere\n",
    "\n",
    "+ What does equality mean?\n",
    "\n",
    "+ What if 2 vectors are opposite directions?\n",
    "\n",
    "\n",
    "\n",
    "\n",
    "\n"
   ]
  },
  {
   "cell_type": "markdown",
   "metadata": {
    "cell_style": "split",
    "slideshow": {
     "slide_type": "fragment"
    }
   },
   "source": [
    "$$ \\hat{V} = \\cfrac{\\vec{V}}{|\\vec{V}|} \\quad |\\hat{V}| = 1 \\quad \\quad\n",
    "\\hat{U} = \\cfrac{\\vec{U}}{|\\vec{U}|} \\quad |\\hat{U}| = 1 $$\n",
    "\n"
   ]
  },
  {
   "cell_type": "markdown",
   "metadata": {
    "cell_style": "split",
    "slideshow": {
     "slide_type": "fragment"
    }
   },
   "source": [
    "$$ \\hat{V} \\cdot \\hat{U} = cos(\\theta) $$"
   ]
  },
  {
   "cell_type": "markdown",
   "metadata": {
    "cell_style": "split",
    "slideshow": {
     "slide_type": "fragment"
    }
   },
   "source": [
    "$$ | \\hat{V} \\cdot \\hat{U} | = |cos(\\theta)| \\leq 1 $$"
   ]
  },
  {
   "cell_type": "markdown",
   "metadata": {
    "cell_style": "split",
    "slideshow": {
     "slide_type": "fragment"
    }
   },
   "source": [
    "$$ \\left | \\cfrac{\\vec{V}}{|\\vec{V}|} \\cdot \\cfrac{\\vec{U}}{|\\vec{U}|} \\right| \\leq 1 \\quad  \\xrightarrow[]{} \\quad \\cfrac{|\\vec{V} \\cdot \\vec{U}|}{|\\vec{V}| \\: |\\vec{U}|} \\leq 1  $$"
   ]
  },
  {
   "cell_type": "markdown",
   "metadata": {
    "slideshow": {
     "slide_type": "subslide"
    }
   },
   "source": [
    "### Matched Filter\n",
    "Maxmize the Signal to Noise Ratio\n"
   ]
  },
  {
   "cell_type": "code",
   "execution_count": null,
   "metadata": {},
   "outputs": [],
   "source": []
  },
  {
   "cell_type": "markdown",
   "metadata": {},
   "source": [
    "\n",
    "  + Basic Math Operations\n",
    "    + Linearity\n",
    "    + Time Inverance \n",
    "    + Bounded Input Bounded Output\n",
    "    + Dirivatives and Differences\n",
    "    + Integrates and Sumations \n",
    "    + Useful Non-linear Functions\n",
    "      + ABS\n",
    "      + Squared\n",
    "      + Log and Decibels\n",
    "    \n",
    "  + Continous Vs. Descrete Signals\n",
    "    + Analog to Digital Conversion\n",
    "    + Digital to Analog Conversion\n",
    "    + Delta Symbol\n",
    "    + Nyquest Sampling\n",
    "    \n",
    "  + Random Varaibles\n",
    "    + Basics of Probablilty\n",
    "      + Probability Density Function\n",
    "      + Total Probablilty\n",
    "      + Cumulative Distribution Function\n",
    "    + Continuous Vs. Discrete\n",
    "    + Common Distributions\n",
    "      + Uniform\n",
    "      + Exponential\n",
    "      + Gaussian\n",
    "      + Chi Squared\n",
    "    + Independent and identically Distributed Random Variables\n",
    "    + Operations on random variables\n",
    "    + Central Limit Theorem\n",
    "    + Correlation\n",
    "    \n",
    "  + Basic Linear Algebra\n",
    "    + Vector Operations\n",
    "      + Addition\n",
    "      + Scaler Multiplication\n",
    "      + Vector Span\n",
    "    + Vector Products\n",
    "      + Elementwise Product\n",
    "      + Outter Product\n",
    "      + Inner Product\n",
    "    + Matrix Operations\n",
    "    + Cauchy–Schwarz inequality\n",
    "    + Matched Filter\n",
    "    + Convolution\n",
    "    + Correlation of random vectors\n",
    "    + Rotation Matrices\n",
    "    + \n",
    "    \n",
    "  + Frequency / Tone\n",
    "    + Real valued\n",
    "    + Matched Filter Real valued\n",
    "    + Phase\n",
    "    + Complex Samples\n",
    "    \n",
    "  + Complex Number\n",
    "    + Direct-conversion receiver\n",
    "    + Negative Frequencies?\n",
    "    + Relationship between Phase and Delay\n",
    "    + Complex Random Numbers\n",
    "  "
   ]
  }
 ],
 "metadata": {
  "celltoolbar": "Slideshow",
  "kernelspec": {
   "display_name": "Python 3",
   "language": "python",
   "name": "python3"
  },
  "language_info": {
   "codemirror_mode": {
    "name": "ipython",
    "version": 3
   },
   "file_extension": ".py",
   "mimetype": "text/x-python",
   "name": "python",
   "nbconvert_exporter": "python",
   "pygments_lexer": "ipython3",
   "version": "3.8.10"
  }
 },
 "nbformat": 4,
 "nbformat_minor": 4
}
