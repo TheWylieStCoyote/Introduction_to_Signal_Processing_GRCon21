{
 "cells": [
  {
   "cell_type": "markdown",
   "metadata": {
    "slideshow": {
     "slide_type": "slide"
    }
   },
   "source": [
    "# Section 1\n"
   ]
  },
  {
   "cell_type": "markdown",
   "metadata": {
    "slideshow": {
     "slide_type": "slide"
    }
   },
   "source": [
    "# What Is A Signal\n",
    "\n",
    "\n",
    "<img src=\"sine_wave_sampled.gif?2\" width=\"75%\">"
   ]
  },
  {
   "cell_type": "code",
   "execution_count": 16,
   "metadata": {
    "cell_style": "split",
    "slideshow": {
     "slide_type": "subslide"
    }
   },
   "outputs": [],
   "source": [
    "import numpy \n",
    "from numpy import pi\n",
    "from scipy import fft, linalg, signal \n",
    "from scipy import stats, io\n",
    "\n",
    "from ipywidgets import *\n",
    "\n",
    "from datetime import datetime\n",
    "\n",
    "import matplotlib.pyplot as plt\n",
    "\n",
    "%matplotlib notebook"
   ]
  },
  {
   "cell_type": "code",
   "execution_count": 18,
   "metadata": {
    "cell_style": "split",
    "slideshow": {
     "slide_type": "-"
    }
   },
   "outputs": [
    {
     "name": "stdout",
     "output_type": "stream",
     "text": [
      "2021-09-14 17:35:06.803933\n"
     ]
    }
   ],
   "source": [
    "print(datetime.now())"
   ]
  },
  {
   "cell_type": "markdown",
   "metadata": {
    "slideshow": {
     "slide_type": "slide"
    }
   },
   "source": [
    "## What Is A Signal\n"
   ]
  },
  {
   "cell_type": "markdown",
   "metadata": {
    "slideshow": {
     "slide_type": "fragment"
    }
   },
   "source": [
    "  + Something that carries or conveys information"
   ]
  },
  {
   "cell_type": "markdown",
   "metadata": {
    "slideshow": {
     "slide_type": "fragment"
    }
   },
   "source": [
    "  + What does that even mean?"
   ]
  },
  {
   "cell_type": "markdown",
   "metadata": {
    "slideshow": {
     "slide_type": "fragment"
    }
   },
   "source": [
    "  + That is about anything?"
   ]
  },
  {
   "cell_type": "markdown",
   "metadata": {
    "slideshow": {
     "slide_type": "fragment"
    }
   },
   "source": [
    "  + This is so general it maybe useless, maybe"
   ]
  },
  {
   "cell_type": "markdown",
   "metadata": {
    "slideshow": {
     "slide_type": "slide"
    }
   },
   "source": [
    "## Examples of Signals"
   ]
  },
  {
   "cell_type": "markdown",
   "metadata": {
    "slideshow": {
     "slide_type": "subslide"
    }
   },
   "source": [
    "#### Sound\n",
    "    + Acoustic waves\n",
    "    + Humans hear between 20Hz to 20 KHz\n",
    "    \n",
    "  \n",
    "  <img src=\"Theme_Classic.png\" width=\"65%\" />\n",
    "  \n",
    " https://www.audacityteam.org/"
   ]
  },
  {
   "cell_type": "markdown",
   "metadata": {
    "cell_style": "center",
    "slideshow": {
     "slide_type": "subslide"
    }
   },
   "source": [
    "### Sea Levels\n",
    "\n",
    "\n",
    "\n",
    "<img src=\"NASA-Satellite-sea-level-rise-observations.jpg\" width=\"40%\" />\n",
    "\n",
    "+ https://climate.nasa.gov/vital-signs/sea-level/\n",
    "\n",
    "+ https://en.wikipedia.org/wiki/Sea_level_rise\n"
   ]
  },
  {
   "cell_type": "markdown",
   "metadata": {
    "slideshow": {
     "slide_type": "subslide"
    }
   },
   "source": [
    "### Stock Prices\n",
    " [Game Stop 1 year](https://www.google.com/finance/quote/GME:NYSE?sa=X&sqi=2&ved=2ahUKEwiOzfqbxP_yAhWfQ_EDHVQZDgQQ3ecFegQILhAS&window=1Y)\n",
    "     \n",
    "<img src=\"GameStopStock.png?1\" width=\"55%\">"
   ]
  },
  {
   "cell_type": "markdown",
   "metadata": {
    "cell_style": "split",
    "slideshow": {
     "slide_type": "subslide"
    }
   },
   "source": [
    "#### Sun Spots\n",
    "\n",
    "<img src=\"Sunspots_1302_Sep_2011_by_NASA.jpg\" width=\"85%\" >\n",
    "\n",
    "https://en.wikipedia.org/wiki/Sunspot\n"
   ]
  },
  {
   "cell_type": "markdown",
   "metadata": {
    "cell_style": "split",
    "slideshow": {
     "slide_type": "fragment"
    }
   },
   "source": [
    "#### Sun Spots over time\n",
    "   \n",
    "<img src=\"Sunspot_Numbers.png\" width=\"100%\" >"
   ]
  },
  {
   "cell_type": "markdown",
   "metadata": {
    "slideshow": {
     "slide_type": "skip"
    }
   },
   "source": []
  },
  {
   "cell_type": "markdown",
   "metadata": {
    "cell_style": "split",
    "slideshow": {
     "slide_type": "subslide"
    }
   },
   "source": [
    "#### Gravity Waves\n",
    "  + Surface waves\n",
    "  + Sea waves\n",
    "  + Eeathquakes\n",
    "  \n",
    "\n",
    "https://en.wikipedia.org/wiki/Wake"
   ]
  },
  {
   "cell_type": "markdown",
   "metadata": {
    "cell_style": "split",
    "slideshow": {
     "slide_type": "-"
    }
   },
   "source": [
    "<img src=\"duck_wake.jpg\" width=\"100%\">"
   ]
  },
  {
   "cell_type": "code",
   "execution_count": null,
   "metadata": {
    "slideshow": {
     "slide_type": "notes"
    }
   },
   "outputs": [],
   "source": []
  },
  {
   "cell_type": "markdown",
   "metadata": {
    "cell_style": "split",
    "slideshow": {
     "slide_type": "subslide"
    }
   },
   "source": [
    "#### Gravitational Waves\n",
    "\n",
    "+ Find Black Holes combining\n",
    "+ 1 Billion dollar detector\n",
    "\n",
    "<img src=\"1280px-LIGO_Hanford_aerial_05.jpg\" width=\"50%\" >\n",
    "\n",
    "[http://svs.gsfc.nasa.gov/](http://svs.gsfc.nasa.gov//vis/a010000/a010500/a010543/WhtDwrfCollid_ProRes_720x486_59.94fps.webmhd.webm)\n"
   ]
  },
  {
   "cell_type": "markdown",
   "metadata": {
    "cell_style": "split",
    "slideshow": {
     "slide_type": "-"
    }
   },
   "source": [
    "\n",
    "+ 2017 Nobel prize\n",
    "\n",
    "\n",
    "\n",
    "<img src=\"ns_gw_art.jpg\" width=\"75%\">\n",
    "\n",
    "https://www.ligo.caltech.edu/page/what-are-gw\n",
    "\n",
    "https://en.wikipedia.org/wiki/Gravitational-wave_observatory\n"
   ]
  },
  {
   "cell_type": "code",
   "execution_count": null,
   "metadata": {
    "slideshow": {
     "slide_type": "notes"
    }
   },
   "outputs": [],
   "source": []
  },
  {
   "cell_type": "markdown",
   "metadata": {
    "cell_style": "split",
    "slideshow": {
     "slide_type": "subslide"
    }
   },
   "source": [
    "#### Electrical\n",
    "  + Probably what everyone things of\n",
    "  + It's all electrical signals at some point\n",
    "  + Voltage or current changing in\n",
    "    + Time\n",
    "    + Node\n",
    "    + position"
   ]
  },
  {
   "cell_type": "markdown",
   "metadata": {
    "cell_style": "split",
    "slideshow": {
     "slide_type": "-"
    }
   },
   "source": [
    "<img src=\"Scope.jpeg\" width=\"100%\">"
   ]
  },
  {
   "cell_type": "code",
   "execution_count": null,
   "metadata": {
    "slideshow": {
     "slide_type": "notes"
    }
   },
   "outputs": [],
   "source": []
  },
  {
   "cell_type": "markdown",
   "metadata": {
    "cell_style": "split",
    "slideshow": {
     "slide_type": "subslide"
    }
   },
   "source": [
    "##### Light\n",
    "  + Cameras\n",
    "  + Light level\n",
    "\n"
   ]
  },
  {
   "cell_type": "markdown",
   "metadata": {
    "cell_style": "split",
    "slideshow": {
     "slide_type": "-"
    }
   },
   "source": []
  },
  {
   "cell_type": "code",
   "execution_count": null,
   "metadata": {},
   "outputs": [],
   "source": []
  },
  {
   "cell_type": "markdown",
   "metadata": {
    "cell_style": "split",
    "slideshow": {
     "slide_type": "subslide"
    }
   },
   "source": [
    "  + Radio Waves\n",
    "    + FM Radio\n",
    "    + Radar\n",
    "    + Radio Astronomy \n",
    "    "
   ]
  },
  {
   "cell_type": "markdown",
   "metadata": {
    "cell_style": "split",
    "slideshow": {
     "slide_type": "-"
    }
   },
   "source": []
  },
  {
   "cell_type": "code",
   "execution_count": null,
   "metadata": {
    "slideshow": {
     "slide_type": "skip"
    }
   },
   "outputs": [],
   "source": []
  },
  {
   "cell_type": "markdown",
   "metadata": {
    "cell_style": "split",
    "slideshow": {
     "slide_type": "subslide"
    }
   },
   "source": [
    "##### Radar\n",
    "  + Detecting aircraft, ships, ...\n",
    "  + Automotive distance sensing\n",
    "  + Imaging Astreroids\n",
    "    + Beyond the ability of optical telescopes\n",
    "    + Each image ~2Km square\n",
    "    + ~20X Earth-Moon distance\n",
    "\n"
   ]
  },
  {
   "cell_type": "markdown",
   "metadata": {
    "cell_style": "split",
    "slideshow": {
     "slide_type": "-"
    }
   },
   "source": [
    "https://www.jpl.nasa.gov/news/nine-radar-images-of-asteroid-2007-pa8\n",
    "\n",
    "<img src=\"astro_sar_img.jpg\" width=\"100%\">"
   ]
  },
  {
   "cell_type": "code",
   "execution_count": null,
   "metadata": {
    "slideshow": {
     "slide_type": "notes"
    }
   },
   "outputs": [],
   "source": []
  },
  {
   "cell_type": "markdown",
   "metadata": {
    "cell_style": "split",
    "slideshow": {
     "slide_type": "subslide"
    }
   },
   "source": [
    "#### Radio Astronomy\n",
    "\n",
    "<img src=\"USA.NM.VeryLargeArray.02.jpg\" width=\"100%\">\n",
    "\n",
    "https://en.wikipedia.org/wiki/Very_Large_Array\n",
    "\n",
    "\n",
    "https://public.nrao.edu/telescopes/vla/"
   ]
  },
  {
   "cell_type": "markdown",
   "metadata": {
    "cell_style": "split",
    "slideshow": {
     "slide_type": "-"
    }
   },
   "source": []
  },
  {
   "cell_type": "markdown",
   "metadata": {
    "slideshow": {
     "slide_type": "notes"
    }
   },
   "source": []
  },
  {
   "cell_type": "markdown",
   "metadata": {
    "slideshow": {
     "slide_type": "subslide"
    }
   },
   "source": [
    "#### Examples of Signals\n",
    "\n",
    "  + Sound\n",
    "  + Sea Level\n",
    "  + Stock Prices\n",
    "  + Sun Spots\n",
    "  + Gravity Waves\n",
    "  + Electrical \n",
    "  + Electromagnetic waves\n",
    "    + Light\n",
    "    + Radio Waves\n",
    "    + Communications\n",
    "    + Radar\n",
    "    + \n",
    "    "
   ]
  },
  {
   "cell_type": "markdown",
   "metadata": {
    "slideshow": {
     "slide_type": "slide"
    }
   },
   "source": [
    "##  Basic RF problems\n",
    "\n",
    "#### Communication\n",
    "  + Getting data between places\n",
    "\n",
    "#### Radar\n",
    "  + Using radio waves to sense something\n",
    "\n",
    "#### Passive Inference\n",
    "  + Using Emotions that already exist what can I figure out"
   ]
  },
  {
   "cell_type": "markdown",
   "metadata": {},
   "source": []
  },
  {
   "cell_type": "markdown",
   "metadata": {},
   "source": []
  },
  {
   "cell_type": "markdown",
   "metadata": {
    "cell_style": "split",
    "slideshow": {
     "slide_type": "slide"
    }
   },
   "source": [
    "## Continuous vs Discrete Signals\n",
    "\n",
    "\n",
    "  + Analog to Digital Conversion\n",
    "  + Digital to Analog Conversion\n",
    "  + $\\delta $ (Delta) Function\n",
    "  + Nyquest Sampling\n",
    "\n"
   ]
  },
  {
   "cell_type": "markdown",
   "metadata": {
    "cell_style": "split",
    "slideshow": {
     "slide_type": "-"
    }
   },
   "source": [
    "\n",
    "\n",
    "<img src=\"sine_wave_sampled.gif?0\" width=\"100%\">"
   ]
  },
  {
   "cell_type": "markdown",
   "metadata": {
    "slideshow": {
     "slide_type": "notes"
    }
   },
   "source": []
  },
  {
   "cell_type": "markdown",
   "metadata": {
    "cell_style": "split",
    "slideshow": {
     "slide_type": "subslide"
    }
   },
   "source": [
    "### Continuous\n",
    "\n",
    "  + Defined at every point\n",
    "  + "
   ]
  },
  {
   "cell_type": "markdown",
   "metadata": {
    "cell_style": "split",
    "slideshow": {
     "slide_type": "subslide"
    }
   },
   "source": [
    "### Discrete\n",
    "\n",
    "  + Series of values\n",
    "  + "
   ]
  },
  {
   "cell_type": "code",
   "execution_count": null,
   "metadata": {
    "slideshow": {
     "slide_type": "notes"
    }
   },
   "outputs": [],
   "source": []
  },
  {
   "cell_type": "markdown",
   "metadata": {
    "cell_style": "split",
    "slideshow": {
     "slide_type": "subslide"
    }
   },
   "source": [
    "### Sampling\n",
    "\n",
    "  + Analog to Digital Conversion\n",
    "  \n",
    " $$ S[n] = \\sum_{i}^{-\\infty \\dots \\infty} s(t) \\cdot \\delta(t-i) $$\n",
    " \n",
    " <img src=\"pulse_train.png?1\" width=\"100%\">"
   ]
  },
  {
   "cell_type": "markdown",
   "metadata": {
    "cell_style": "split",
    "slideshow": {
     "slide_type": "-"
    }
   },
   "source": [
    "\n",
    "\n",
    "#### $ \\delta $ (Delta) Function\n",
    "\n",
    "$$ \\delta (t) = \\Big \\{ \\begin{matrix} \\infty \\: :\\quad t=0 \\\\ \\: 0 : \\quad otherwise \\end{matrix} $$\n",
    "\n",
    "$$ 1 = \\int_{-\\infty}^{\\infty} \\delta(t) \\: dt $$\n",
    "\n",
    "\n"
   ]
  },
  {
   "cell_type": "markdown",
   "metadata": {
    "slideshow": {
     "slide_type": "notes"
    }
   },
   "source": []
  },
  {
   "cell_type": "markdown",
   "metadata": {
    "cell_style": "split",
    "slideshow": {
     "slide_type": "subslide"
    }
   },
   "source": [
    "### Nyquist\n",
    "\n",
    "  + Sampling two or more times faster than the bandwidth of the signal\n",
    "  + Critera for signal recovery\n",
    "  + Often systems operate faster"
   ]
  },
  {
   "cell_type": "markdown",
   "metadata": {
    "cell_style": "split",
    "slideshow": {
     "slide_type": "fragment"
    }
   },
   "source": [
    "<img src=\"1920px-Aliasing-folding_SVG.svg.png\" width=\"100%\">\n",
    "\n",
    "[https://en.wikipedia.org/wiki/Nyquist_frequency](https://en.wikipedia.org/wiki/Nyquist_frequency)"
   ]
  },
  {
   "cell_type": "code",
   "execution_count": null,
   "metadata": {
    "slideshow": {
     "slide_type": "notes"
    }
   },
   "outputs": [],
   "source": []
  },
  {
   "cell_type": "markdown",
   "metadata": {
    "cell_style": "split",
    "slideshow": {
     "slide_type": "subslide"
    }
   },
   "source": [
    "### Time Series\n",
    "  + Sampled at a regular times\n",
    "  + Identical Sampling"
   ]
  },
  {
   "cell_type": "markdown",
   "metadata": {
    "cell_style": "split",
    "slideshow": {
     "slide_type": "-"
    }
   },
   "source": [
    "<img src=\"sine_wave_sampled.gif?0\" width=\"100%\">"
   ]
  },
  {
   "cell_type": "markdown",
   "metadata": {
    "slideshow": {
     "slide_type": "notes"
    }
   },
   "source": []
  },
  {
   "cell_type": "code",
   "execution_count": 159,
   "metadata": {
    "scrolled": false,
    "slideshow": {
     "slide_type": "subslide"
    }
   },
   "outputs": [
    {
     "data": {
      "application/javascript": [
       "/* Put everything inside the global mpl namespace */\n",
       "window.mpl = {};\n",
       "\n",
       "\n",
       "mpl.get_websocket_type = function() {\n",
       "    if (typeof(WebSocket) !== 'undefined') {\n",
       "        return WebSocket;\n",
       "    } else if (typeof(MozWebSocket) !== 'undefined') {\n",
       "        return MozWebSocket;\n",
       "    } else {\n",
       "        alert('Your browser does not have WebSocket support. ' +\n",
       "              'Please try Chrome, Safari or Firefox ≥ 6. ' +\n",
       "              'Firefox 4 and 5 are also supported but you ' +\n",
       "              'have to enable WebSockets in about:config.');\n",
       "    };\n",
       "}\n",
       "\n",
       "mpl.figure = function(figure_id, websocket, ondownload, parent_element) {\n",
       "    this.id = figure_id;\n",
       "\n",
       "    this.ws = websocket;\n",
       "\n",
       "    this.supports_binary = (this.ws.binaryType != undefined);\n",
       "\n",
       "    if (!this.supports_binary) {\n",
       "        var warnings = document.getElementById(\"mpl-warnings\");\n",
       "        if (warnings) {\n",
       "            warnings.style.display = 'block';\n",
       "            warnings.textContent = (\n",
       "                \"This browser does not support binary websocket messages. \" +\n",
       "                    \"Performance may be slow.\");\n",
       "        }\n",
       "    }\n",
       "\n",
       "    this.imageObj = new Image();\n",
       "\n",
       "    this.context = undefined;\n",
       "    this.message = undefined;\n",
       "    this.canvas = undefined;\n",
       "    this.rubberband_canvas = undefined;\n",
       "    this.rubberband_context = undefined;\n",
       "    this.format_dropdown = undefined;\n",
       "\n",
       "    this.image_mode = 'full';\n",
       "\n",
       "    this.root = $('<div/>');\n",
       "    this._root_extra_style(this.root)\n",
       "    this.root.attr('style', 'display: inline-block');\n",
       "\n",
       "    $(parent_element).append(this.root);\n",
       "\n",
       "    this._init_header(this);\n",
       "    this._init_canvas(this);\n",
       "    this._init_toolbar(this);\n",
       "\n",
       "    var fig = this;\n",
       "\n",
       "    this.waiting = false;\n",
       "\n",
       "    this.ws.onopen =  function () {\n",
       "            fig.send_message(\"supports_binary\", {value: fig.supports_binary});\n",
       "            fig.send_message(\"send_image_mode\", {});\n",
       "            if (mpl.ratio != 1) {\n",
       "                fig.send_message(\"set_dpi_ratio\", {'dpi_ratio': mpl.ratio});\n",
       "            }\n",
       "            fig.send_message(\"refresh\", {});\n",
       "        }\n",
       "\n",
       "    this.imageObj.onload = function() {\n",
       "            if (fig.image_mode == 'full') {\n",
       "                // Full images could contain transparency (where diff images\n",
       "                // almost always do), so we need to clear the canvas so that\n",
       "                // there is no ghosting.\n",
       "                fig.context.clearRect(0, 0, fig.canvas.width, fig.canvas.height);\n",
       "            }\n",
       "            fig.context.drawImage(fig.imageObj, 0, 0);\n",
       "        };\n",
       "\n",
       "    this.imageObj.onunload = function() {\n",
       "        fig.ws.close();\n",
       "    }\n",
       "\n",
       "    this.ws.onmessage = this._make_on_message_function(this);\n",
       "\n",
       "    this.ondownload = ondownload;\n",
       "}\n",
       "\n",
       "mpl.figure.prototype._init_header = function() {\n",
       "    var titlebar = $(\n",
       "        '<div class=\"ui-dialog-titlebar ui-widget-header ui-corner-all ' +\n",
       "        'ui-helper-clearfix\"/>');\n",
       "    var titletext = $(\n",
       "        '<div class=\"ui-dialog-title\" style=\"width: 100%; ' +\n",
       "        'text-align: center; padding: 3px;\"/>');\n",
       "    titlebar.append(titletext)\n",
       "    this.root.append(titlebar);\n",
       "    this.header = titletext[0];\n",
       "}\n",
       "\n",
       "\n",
       "\n",
       "mpl.figure.prototype._canvas_extra_style = function(canvas_div) {\n",
       "\n",
       "}\n",
       "\n",
       "\n",
       "mpl.figure.prototype._root_extra_style = function(canvas_div) {\n",
       "\n",
       "}\n",
       "\n",
       "mpl.figure.prototype._init_canvas = function() {\n",
       "    var fig = this;\n",
       "\n",
       "    var canvas_div = $('<div/>');\n",
       "\n",
       "    canvas_div.attr('style', 'position: relative; clear: both; outline: 0');\n",
       "\n",
       "    function canvas_keyboard_event(event) {\n",
       "        return fig.key_event(event, event['data']);\n",
       "    }\n",
       "\n",
       "    canvas_div.keydown('key_press', canvas_keyboard_event);\n",
       "    canvas_div.keyup('key_release', canvas_keyboard_event);\n",
       "    this.canvas_div = canvas_div\n",
       "    this._canvas_extra_style(canvas_div)\n",
       "    this.root.append(canvas_div);\n",
       "\n",
       "    var canvas = $('<canvas/>');\n",
       "    canvas.addClass('mpl-canvas');\n",
       "    canvas.attr('style', \"left: 0; top: 0; z-index: 0; outline: 0\")\n",
       "\n",
       "    this.canvas = canvas[0];\n",
       "    this.context = canvas[0].getContext(\"2d\");\n",
       "\n",
       "    var backingStore = this.context.backingStorePixelRatio ||\n",
       "\tthis.context.webkitBackingStorePixelRatio ||\n",
       "\tthis.context.mozBackingStorePixelRatio ||\n",
       "\tthis.context.msBackingStorePixelRatio ||\n",
       "\tthis.context.oBackingStorePixelRatio ||\n",
       "\tthis.context.backingStorePixelRatio || 1;\n",
       "\n",
       "    mpl.ratio = (window.devicePixelRatio || 1) / backingStore;\n",
       "\n",
       "    var rubberband = $('<canvas/>');\n",
       "    rubberband.attr('style', \"position: absolute; left: 0; top: 0; z-index: 1;\")\n",
       "\n",
       "    var pass_mouse_events = true;\n",
       "\n",
       "    canvas_div.resizable({\n",
       "        start: function(event, ui) {\n",
       "            pass_mouse_events = false;\n",
       "        },\n",
       "        resize: function(event, ui) {\n",
       "            fig.request_resize(ui.size.width, ui.size.height);\n",
       "        },\n",
       "        stop: function(event, ui) {\n",
       "            pass_mouse_events = true;\n",
       "            fig.request_resize(ui.size.width, ui.size.height);\n",
       "        },\n",
       "    });\n",
       "\n",
       "    function mouse_event_fn(event) {\n",
       "        if (pass_mouse_events)\n",
       "            return fig.mouse_event(event, event['data']);\n",
       "    }\n",
       "\n",
       "    rubberband.mousedown('button_press', mouse_event_fn);\n",
       "    rubberband.mouseup('button_release', mouse_event_fn);\n",
       "    // Throttle sequential mouse events to 1 every 20ms.\n",
       "    rubberband.mousemove('motion_notify', mouse_event_fn);\n",
       "\n",
       "    rubberband.mouseenter('figure_enter', mouse_event_fn);\n",
       "    rubberband.mouseleave('figure_leave', mouse_event_fn);\n",
       "\n",
       "    canvas_div.on(\"wheel\", function (event) {\n",
       "        event = event.originalEvent;\n",
       "        event['data'] = 'scroll'\n",
       "        if (event.deltaY < 0) {\n",
       "            event.step = 1;\n",
       "        } else {\n",
       "            event.step = -1;\n",
       "        }\n",
       "        mouse_event_fn(event);\n",
       "    });\n",
       "\n",
       "    canvas_div.append(canvas);\n",
       "    canvas_div.append(rubberband);\n",
       "\n",
       "    this.rubberband = rubberband;\n",
       "    this.rubberband_canvas = rubberband[0];\n",
       "    this.rubberband_context = rubberband[0].getContext(\"2d\");\n",
       "    this.rubberband_context.strokeStyle = \"#000000\";\n",
       "\n",
       "    this._resize_canvas = function(width, height) {\n",
       "        // Keep the size of the canvas, canvas container, and rubber band\n",
       "        // canvas in synch.\n",
       "        canvas_div.css('width', width)\n",
       "        canvas_div.css('height', height)\n",
       "\n",
       "        canvas.attr('width', width * mpl.ratio);\n",
       "        canvas.attr('height', height * mpl.ratio);\n",
       "        canvas.attr('style', 'width: ' + width + 'px; height: ' + height + 'px;');\n",
       "\n",
       "        rubberband.attr('width', width);\n",
       "        rubberband.attr('height', height);\n",
       "    }\n",
       "\n",
       "    // Set the figure to an initial 600x600px, this will subsequently be updated\n",
       "    // upon first draw.\n",
       "    this._resize_canvas(600, 600);\n",
       "\n",
       "    // Disable right mouse context menu.\n",
       "    $(this.rubberband_canvas).bind(\"contextmenu\",function(e){\n",
       "        return false;\n",
       "    });\n",
       "\n",
       "    function set_focus () {\n",
       "        canvas.focus();\n",
       "        canvas_div.focus();\n",
       "    }\n",
       "\n",
       "    window.setTimeout(set_focus, 100);\n",
       "}\n",
       "\n",
       "mpl.figure.prototype._init_toolbar = function() {\n",
       "    var fig = this;\n",
       "\n",
       "    var nav_element = $('<div/>');\n",
       "    nav_element.attr('style', 'width: 100%');\n",
       "    this.root.append(nav_element);\n",
       "\n",
       "    // Define a callback function for later on.\n",
       "    function toolbar_event(event) {\n",
       "        return fig.toolbar_button_onclick(event['data']);\n",
       "    }\n",
       "    function toolbar_mouse_event(event) {\n",
       "        return fig.toolbar_button_onmouseover(event['data']);\n",
       "    }\n",
       "\n",
       "    for(var toolbar_ind in mpl.toolbar_items) {\n",
       "        var name = mpl.toolbar_items[toolbar_ind][0];\n",
       "        var tooltip = mpl.toolbar_items[toolbar_ind][1];\n",
       "        var image = mpl.toolbar_items[toolbar_ind][2];\n",
       "        var method_name = mpl.toolbar_items[toolbar_ind][3];\n",
       "\n",
       "        if (!name) {\n",
       "            // put a spacer in here.\n",
       "            continue;\n",
       "        }\n",
       "        var button = $('<button/>');\n",
       "        button.addClass('ui-button ui-widget ui-state-default ui-corner-all ' +\n",
       "                        'ui-button-icon-only');\n",
       "        button.attr('role', 'button');\n",
       "        button.attr('aria-disabled', 'false');\n",
       "        button.click(method_name, toolbar_event);\n",
       "        button.mouseover(tooltip, toolbar_mouse_event);\n",
       "\n",
       "        var icon_img = $('<span/>');\n",
       "        icon_img.addClass('ui-button-icon-primary ui-icon');\n",
       "        icon_img.addClass(image);\n",
       "        icon_img.addClass('ui-corner-all');\n",
       "\n",
       "        var tooltip_span = $('<span/>');\n",
       "        tooltip_span.addClass('ui-button-text');\n",
       "        tooltip_span.html(tooltip);\n",
       "\n",
       "        button.append(icon_img);\n",
       "        button.append(tooltip_span);\n",
       "\n",
       "        nav_element.append(button);\n",
       "    }\n",
       "\n",
       "    var fmt_picker_span = $('<span/>');\n",
       "\n",
       "    var fmt_picker = $('<select/>');\n",
       "    fmt_picker.addClass('mpl-toolbar-option ui-widget ui-widget-content');\n",
       "    fmt_picker_span.append(fmt_picker);\n",
       "    nav_element.append(fmt_picker_span);\n",
       "    this.format_dropdown = fmt_picker[0];\n",
       "\n",
       "    for (var ind in mpl.extensions) {\n",
       "        var fmt = mpl.extensions[ind];\n",
       "        var option = $(\n",
       "            '<option/>', {selected: fmt === mpl.default_extension}).html(fmt);\n",
       "        fmt_picker.append(option);\n",
       "    }\n",
       "\n",
       "    // Add hover states to the ui-buttons\n",
       "    $( \".ui-button\" ).hover(\n",
       "        function() { $(this).addClass(\"ui-state-hover\");},\n",
       "        function() { $(this).removeClass(\"ui-state-hover\");}\n",
       "    );\n",
       "\n",
       "    var status_bar = $('<span class=\"mpl-message\"/>');\n",
       "    nav_element.append(status_bar);\n",
       "    this.message = status_bar[0];\n",
       "}\n",
       "\n",
       "mpl.figure.prototype.request_resize = function(x_pixels, y_pixels) {\n",
       "    // Request matplotlib to resize the figure. Matplotlib will then trigger a resize in the client,\n",
       "    // which will in turn request a refresh of the image.\n",
       "    this.send_message('resize', {'width': x_pixels, 'height': y_pixels});\n",
       "}\n",
       "\n",
       "mpl.figure.prototype.send_message = function(type, properties) {\n",
       "    properties['type'] = type;\n",
       "    properties['figure_id'] = this.id;\n",
       "    this.ws.send(JSON.stringify(properties));\n",
       "}\n",
       "\n",
       "mpl.figure.prototype.send_draw_message = function() {\n",
       "    if (!this.waiting) {\n",
       "        this.waiting = true;\n",
       "        this.ws.send(JSON.stringify({type: \"draw\", figure_id: this.id}));\n",
       "    }\n",
       "}\n",
       "\n",
       "\n",
       "mpl.figure.prototype.handle_save = function(fig, msg) {\n",
       "    var format_dropdown = fig.format_dropdown;\n",
       "    var format = format_dropdown.options[format_dropdown.selectedIndex].value;\n",
       "    fig.ondownload(fig, format);\n",
       "}\n",
       "\n",
       "\n",
       "mpl.figure.prototype.handle_resize = function(fig, msg) {\n",
       "    var size = msg['size'];\n",
       "    if (size[0] != fig.canvas.width || size[1] != fig.canvas.height) {\n",
       "        fig._resize_canvas(size[0], size[1]);\n",
       "        fig.send_message(\"refresh\", {});\n",
       "    };\n",
       "}\n",
       "\n",
       "mpl.figure.prototype.handle_rubberband = function(fig, msg) {\n",
       "    var x0 = msg['x0'] / mpl.ratio;\n",
       "    var y0 = (fig.canvas.height - msg['y0']) / mpl.ratio;\n",
       "    var x1 = msg['x1'] / mpl.ratio;\n",
       "    var y1 = (fig.canvas.height - msg['y1']) / mpl.ratio;\n",
       "    x0 = Math.floor(x0) + 0.5;\n",
       "    y0 = Math.floor(y0) + 0.5;\n",
       "    x1 = Math.floor(x1) + 0.5;\n",
       "    y1 = Math.floor(y1) + 0.5;\n",
       "    var min_x = Math.min(x0, x1);\n",
       "    var min_y = Math.min(y0, y1);\n",
       "    var width = Math.abs(x1 - x0);\n",
       "    var height = Math.abs(y1 - y0);\n",
       "\n",
       "    fig.rubberband_context.clearRect(\n",
       "        0, 0, fig.canvas.width / mpl.ratio, fig.canvas.height / mpl.ratio);\n",
       "\n",
       "    fig.rubberband_context.strokeRect(min_x, min_y, width, height);\n",
       "}\n",
       "\n",
       "mpl.figure.prototype.handle_figure_label = function(fig, msg) {\n",
       "    // Updates the figure title.\n",
       "    fig.header.textContent = msg['label'];\n",
       "}\n",
       "\n",
       "mpl.figure.prototype.handle_cursor = function(fig, msg) {\n",
       "    var cursor = msg['cursor'];\n",
       "    switch(cursor)\n",
       "    {\n",
       "    case 0:\n",
       "        cursor = 'pointer';\n",
       "        break;\n",
       "    case 1:\n",
       "        cursor = 'default';\n",
       "        break;\n",
       "    case 2:\n",
       "        cursor = 'crosshair';\n",
       "        break;\n",
       "    case 3:\n",
       "        cursor = 'move';\n",
       "        break;\n",
       "    }\n",
       "    fig.rubberband_canvas.style.cursor = cursor;\n",
       "}\n",
       "\n",
       "mpl.figure.prototype.handle_message = function(fig, msg) {\n",
       "    fig.message.textContent = msg['message'];\n",
       "}\n",
       "\n",
       "mpl.figure.prototype.handle_draw = function(fig, msg) {\n",
       "    // Request the server to send over a new figure.\n",
       "    fig.send_draw_message();\n",
       "}\n",
       "\n",
       "mpl.figure.prototype.handle_image_mode = function(fig, msg) {\n",
       "    fig.image_mode = msg['mode'];\n",
       "}\n",
       "\n",
       "mpl.figure.prototype.updated_canvas_event = function() {\n",
       "    // Called whenever the canvas gets updated.\n",
       "    this.send_message(\"ack\", {});\n",
       "}\n",
       "\n",
       "// A function to construct a web socket function for onmessage handling.\n",
       "// Called in the figure constructor.\n",
       "mpl.figure.prototype._make_on_message_function = function(fig) {\n",
       "    return function socket_on_message(evt) {\n",
       "        if (evt.data instanceof Blob) {\n",
       "            /* FIXME: We get \"Resource interpreted as Image but\n",
       "             * transferred with MIME type text/plain:\" errors on\n",
       "             * Chrome.  But how to set the MIME type?  It doesn't seem\n",
       "             * to be part of the websocket stream */\n",
       "            evt.data.type = \"image/png\";\n",
       "\n",
       "            /* Free the memory for the previous frames */\n",
       "            if (fig.imageObj.src) {\n",
       "                (window.URL || window.webkitURL).revokeObjectURL(\n",
       "                    fig.imageObj.src);\n",
       "            }\n",
       "\n",
       "            fig.imageObj.src = (window.URL || window.webkitURL).createObjectURL(\n",
       "                evt.data);\n",
       "            fig.updated_canvas_event();\n",
       "            fig.waiting = false;\n",
       "            return;\n",
       "        }\n",
       "        else if (typeof evt.data === 'string' && evt.data.slice(0, 21) == \"data:image/png;base64\") {\n",
       "            fig.imageObj.src = evt.data;\n",
       "            fig.updated_canvas_event();\n",
       "            fig.waiting = false;\n",
       "            return;\n",
       "        }\n",
       "\n",
       "        var msg = JSON.parse(evt.data);\n",
       "        var msg_type = msg['type'];\n",
       "\n",
       "        // Call the  \"handle_{type}\" callback, which takes\n",
       "        // the figure and JSON message as its only arguments.\n",
       "        try {\n",
       "            var callback = fig[\"handle_\" + msg_type];\n",
       "        } catch (e) {\n",
       "            console.log(\"No handler for the '\" + msg_type + \"' message type: \", msg);\n",
       "            return;\n",
       "        }\n",
       "\n",
       "        if (callback) {\n",
       "            try {\n",
       "                // console.log(\"Handling '\" + msg_type + \"' message: \", msg);\n",
       "                callback(fig, msg);\n",
       "            } catch (e) {\n",
       "                console.log(\"Exception inside the 'handler_\" + msg_type + \"' callback:\", e, e.stack, msg);\n",
       "            }\n",
       "        }\n",
       "    };\n",
       "}\n",
       "\n",
       "// from http://stackoverflow.com/questions/1114465/getting-mouse-location-in-canvas\n",
       "mpl.findpos = function(e) {\n",
       "    //this section is from http://www.quirksmode.org/js/events_properties.html\n",
       "    var targ;\n",
       "    if (!e)\n",
       "        e = window.event;\n",
       "    if (e.target)\n",
       "        targ = e.target;\n",
       "    else if (e.srcElement)\n",
       "        targ = e.srcElement;\n",
       "    if (targ.nodeType == 3) // defeat Safari bug\n",
       "        targ = targ.parentNode;\n",
       "\n",
       "    // jQuery normalizes the pageX and pageY\n",
       "    // pageX,Y are the mouse positions relative to the document\n",
       "    // offset() returns the position of the element relative to the document\n",
       "    var x = e.pageX - $(targ).offset().left;\n",
       "    var y = e.pageY - $(targ).offset().top;\n",
       "\n",
       "    return {\"x\": x, \"y\": y};\n",
       "};\n",
       "\n",
       "/*\n",
       " * return a copy of an object with only non-object keys\n",
       " * we need this to avoid circular references\n",
       " * http://stackoverflow.com/a/24161582/3208463\n",
       " */\n",
       "function simpleKeys (original) {\n",
       "  return Object.keys(original).reduce(function (obj, key) {\n",
       "    if (typeof original[key] !== 'object')\n",
       "        obj[key] = original[key]\n",
       "    return obj;\n",
       "  }, {});\n",
       "}\n",
       "\n",
       "mpl.figure.prototype.mouse_event = function(event, name) {\n",
       "    var canvas_pos = mpl.findpos(event)\n",
       "\n",
       "    if (name === 'button_press')\n",
       "    {\n",
       "        this.canvas.focus();\n",
       "        this.canvas_div.focus();\n",
       "    }\n",
       "\n",
       "    var x = canvas_pos.x * mpl.ratio;\n",
       "    var y = canvas_pos.y * mpl.ratio;\n",
       "\n",
       "    this.send_message(name, {x: x, y: y, button: event.button,\n",
       "                             step: event.step,\n",
       "                             guiEvent: simpleKeys(event)});\n",
       "\n",
       "    /* This prevents the web browser from automatically changing to\n",
       "     * the text insertion cursor when the button is pressed.  We want\n",
       "     * to control all of the cursor setting manually through the\n",
       "     * 'cursor' event from matplotlib */\n",
       "    event.preventDefault();\n",
       "    return false;\n",
       "}\n",
       "\n",
       "mpl.figure.prototype._key_event_extra = function(event, name) {\n",
       "    // Handle any extra behaviour associated with a key event\n",
       "}\n",
       "\n",
       "mpl.figure.prototype.key_event = function(event, name) {\n",
       "\n",
       "    // Prevent repeat events\n",
       "    if (name == 'key_press')\n",
       "    {\n",
       "        if (event.which === this._key)\n",
       "            return;\n",
       "        else\n",
       "            this._key = event.which;\n",
       "    }\n",
       "    if (name == 'key_release')\n",
       "        this._key = null;\n",
       "\n",
       "    var value = '';\n",
       "    if (event.ctrlKey && event.which != 17)\n",
       "        value += \"ctrl+\";\n",
       "    if (event.altKey && event.which != 18)\n",
       "        value += \"alt+\";\n",
       "    if (event.shiftKey && event.which != 16)\n",
       "        value += \"shift+\";\n",
       "\n",
       "    value += 'k';\n",
       "    value += event.which.toString();\n",
       "\n",
       "    this._key_event_extra(event, name);\n",
       "\n",
       "    this.send_message(name, {key: value,\n",
       "                             guiEvent: simpleKeys(event)});\n",
       "    return false;\n",
       "}\n",
       "\n",
       "mpl.figure.prototype.toolbar_button_onclick = function(name) {\n",
       "    if (name == 'download') {\n",
       "        this.handle_save(this, null);\n",
       "    } else {\n",
       "        this.send_message(\"toolbar_button\", {name: name});\n",
       "    }\n",
       "};\n",
       "\n",
       "mpl.figure.prototype.toolbar_button_onmouseover = function(tooltip) {\n",
       "    this.message.textContent = tooltip;\n",
       "};\n",
       "mpl.toolbar_items = [[\"Home\", \"Reset original view\", \"fa fa-home icon-home\", \"home\"], [\"Back\", \"Back to previous view\", \"fa fa-arrow-left icon-arrow-left\", \"back\"], [\"Forward\", \"Forward to next view\", \"fa fa-arrow-right icon-arrow-right\", \"forward\"], [\"\", \"\", \"\", \"\"], [\"Pan\", \"Pan axes with left mouse, zoom with right\", \"fa fa-arrows icon-move\", \"pan\"], [\"Zoom\", \"Zoom to rectangle\", \"fa fa-square-o icon-check-empty\", \"zoom\"], [\"\", \"\", \"\", \"\"], [\"Download\", \"Download plot\", \"fa fa-floppy-o icon-save\", \"download\"]];\n",
       "\n",
       "mpl.extensions = [\"eps\", \"pdf\", \"png\", \"ps\", \"raw\", \"svg\"];\n",
       "\n",
       "mpl.default_extension = \"png\";var comm_websocket_adapter = function(comm) {\n",
       "    // Create a \"websocket\"-like object which calls the given IPython comm\n",
       "    // object with the appropriate methods. Currently this is a non binary\n",
       "    // socket, so there is still some room for performance tuning.\n",
       "    var ws = {};\n",
       "\n",
       "    ws.close = function() {\n",
       "        comm.close()\n",
       "    };\n",
       "    ws.send = function(m) {\n",
       "        //console.log('sending', m);\n",
       "        comm.send(m);\n",
       "    };\n",
       "    // Register the callback with on_msg.\n",
       "    comm.on_msg(function(msg) {\n",
       "        //console.log('receiving', msg['content']['data'], msg);\n",
       "        // Pass the mpl event to the overridden (by mpl) onmessage function.\n",
       "        ws.onmessage(msg['content']['data'])\n",
       "    });\n",
       "    return ws;\n",
       "}\n",
       "\n",
       "mpl.mpl_figure_comm = function(comm, msg) {\n",
       "    // This is the function which gets called when the mpl process\n",
       "    // starts-up an IPython Comm through the \"matplotlib\" channel.\n",
       "\n",
       "    var id = msg.content.data.id;\n",
       "    // Get hold of the div created by the display call when the Comm\n",
       "    // socket was opened in Python.\n",
       "    var element = $(\"#\" + id);\n",
       "    var ws_proxy = comm_websocket_adapter(comm)\n",
       "\n",
       "    function ondownload(figure, format) {\n",
       "        window.open(figure.imageObj.src);\n",
       "    }\n",
       "\n",
       "    var fig = new mpl.figure(id, ws_proxy,\n",
       "                           ondownload,\n",
       "                           element.get(0));\n",
       "\n",
       "    // Call onopen now - mpl needs it, as it is assuming we've passed it a real\n",
       "    // web socket which is closed, not our websocket->open comm proxy.\n",
       "    ws_proxy.onopen();\n",
       "\n",
       "    fig.parent_element = element.get(0);\n",
       "    fig.cell_info = mpl.find_output_cell(\"<div id='\" + id + \"'></div>\");\n",
       "    if (!fig.cell_info) {\n",
       "        console.error(\"Failed to find cell for figure\", id, fig);\n",
       "        return;\n",
       "    }\n",
       "\n",
       "    var output_index = fig.cell_info[2]\n",
       "    var cell = fig.cell_info[0];\n",
       "\n",
       "};\n",
       "\n",
       "mpl.figure.prototype.handle_close = function(fig, msg) {\n",
       "    var width = fig.canvas.width/mpl.ratio\n",
       "    fig.root.unbind('remove')\n",
       "\n",
       "    // Update the output cell to use the data from the current canvas.\n",
       "    fig.push_to_output();\n",
       "    var dataURL = fig.canvas.toDataURL();\n",
       "    // Re-enable the keyboard manager in IPython - without this line, in FF,\n",
       "    // the notebook keyboard shortcuts fail.\n",
       "    IPython.keyboard_manager.enable()\n",
       "    $(fig.parent_element).html('<img src=\"' + dataURL + '\" width=\"' + width + '\">');\n",
       "    fig.close_ws(fig, msg);\n",
       "}\n",
       "\n",
       "mpl.figure.prototype.close_ws = function(fig, msg){\n",
       "    fig.send_message('closing', msg);\n",
       "    // fig.ws.close()\n",
       "}\n",
       "\n",
       "mpl.figure.prototype.push_to_output = function(remove_interactive) {\n",
       "    // Turn the data on the canvas into data in the output cell.\n",
       "    var width = this.canvas.width/mpl.ratio\n",
       "    var dataURL = this.canvas.toDataURL();\n",
       "    this.cell_info[1]['text/html'] = '<img src=\"' + dataURL + '\" width=\"' + width + '\">';\n",
       "}\n",
       "\n",
       "mpl.figure.prototype.updated_canvas_event = function() {\n",
       "    // Tell IPython that the notebook contents must change.\n",
       "    IPython.notebook.set_dirty(true);\n",
       "    this.send_message(\"ack\", {});\n",
       "    var fig = this;\n",
       "    // Wait a second, then push the new image to the DOM so\n",
       "    // that it is saved nicely (might be nice to debounce this).\n",
       "    setTimeout(function () { fig.push_to_output() }, 1000);\n",
       "}\n",
       "\n",
       "mpl.figure.prototype._init_toolbar = function() {\n",
       "    var fig = this;\n",
       "\n",
       "    var nav_element = $('<div/>');\n",
       "    nav_element.attr('style', 'width: 100%');\n",
       "    this.root.append(nav_element);\n",
       "\n",
       "    // Define a callback function for later on.\n",
       "    function toolbar_event(event) {\n",
       "        return fig.toolbar_button_onclick(event['data']);\n",
       "    }\n",
       "    function toolbar_mouse_event(event) {\n",
       "        return fig.toolbar_button_onmouseover(event['data']);\n",
       "    }\n",
       "\n",
       "    for(var toolbar_ind in mpl.toolbar_items){\n",
       "        var name = mpl.toolbar_items[toolbar_ind][0];\n",
       "        var tooltip = mpl.toolbar_items[toolbar_ind][1];\n",
       "        var image = mpl.toolbar_items[toolbar_ind][2];\n",
       "        var method_name = mpl.toolbar_items[toolbar_ind][3];\n",
       "\n",
       "        if (!name) { continue; };\n",
       "\n",
       "        var button = $('<button class=\"btn btn-default\" href=\"#\" title=\"' + name + '\"><i class=\"fa ' + image + ' fa-lg\"></i></button>');\n",
       "        button.click(method_name, toolbar_event);\n",
       "        button.mouseover(tooltip, toolbar_mouse_event);\n",
       "        nav_element.append(button);\n",
       "    }\n",
       "\n",
       "    // Add the status bar.\n",
       "    var status_bar = $('<span class=\"mpl-message\" style=\"text-align:right; float: right;\"/>');\n",
       "    nav_element.append(status_bar);\n",
       "    this.message = status_bar[0];\n",
       "\n",
       "    // Add the close button to the window.\n",
       "    var buttongrp = $('<div class=\"btn-group inline pull-right\"></div>');\n",
       "    var button = $('<button class=\"btn btn-mini btn-primary\" href=\"#\" title=\"Stop Interaction\"><i class=\"fa fa-power-off icon-remove icon-large\"></i></button>');\n",
       "    button.click(function (evt) { fig.handle_close(fig, {}); } );\n",
       "    button.mouseover('Stop Interaction', toolbar_mouse_event);\n",
       "    buttongrp.append(button);\n",
       "    var titlebar = this.root.find($('.ui-dialog-titlebar'));\n",
       "    titlebar.prepend(buttongrp);\n",
       "}\n",
       "\n",
       "mpl.figure.prototype._root_extra_style = function(el){\n",
       "    var fig = this\n",
       "    el.on(\"remove\", function(){\n",
       "\tfig.close_ws(fig, {});\n",
       "    });\n",
       "}\n",
       "\n",
       "mpl.figure.prototype._canvas_extra_style = function(el){\n",
       "    // this is important to make the div 'focusable\n",
       "    el.attr('tabindex', 0)\n",
       "    // reach out to IPython and tell the keyboard manager to turn it's self\n",
       "    // off when our div gets focus\n",
       "\n",
       "    // location in version 3\n",
       "    if (IPython.notebook.keyboard_manager) {\n",
       "        IPython.notebook.keyboard_manager.register_events(el);\n",
       "    }\n",
       "    else {\n",
       "        // location in version 2\n",
       "        IPython.keyboard_manager.register_events(el);\n",
       "    }\n",
       "\n",
       "}\n",
       "\n",
       "mpl.figure.prototype._key_event_extra = function(event, name) {\n",
       "    var manager = IPython.notebook.keyboard_manager;\n",
       "    if (!manager)\n",
       "        manager = IPython.keyboard_manager;\n",
       "\n",
       "    // Check for shift+enter\n",
       "    if (event.shiftKey && event.which == 13) {\n",
       "        this.canvas_div.blur();\n",
       "        // select the cell after this one\n",
       "        var index = IPython.notebook.find_cell_index(this.cell_info[0]);\n",
       "        IPython.notebook.select(index + 1);\n",
       "    }\n",
       "}\n",
       "\n",
       "mpl.figure.prototype.handle_save = function(fig, msg) {\n",
       "    fig.ondownload(fig, null);\n",
       "}\n",
       "\n",
       "\n",
       "mpl.find_output_cell = function(html_output) {\n",
       "    // Return the cell and output element which can be found *uniquely* in the notebook.\n",
       "    // Note - this is a bit hacky, but it is done because the \"notebook_saving.Notebook\"\n",
       "    // IPython event is triggered only after the cells have been serialised, which for\n",
       "    // our purposes (turning an active figure into a static one), is too late.\n",
       "    var cells = IPython.notebook.get_cells();\n",
       "    var ncells = cells.length;\n",
       "    for (var i=0; i<ncells; i++) {\n",
       "        var cell = cells[i];\n",
       "        if (cell.cell_type === 'code'){\n",
       "            for (var j=0; j<cell.output_area.outputs.length; j++) {\n",
       "                var data = cell.output_area.outputs[j];\n",
       "                if (data.data) {\n",
       "                    // IPython >= 3 moved mimebundle to data attribute of output\n",
       "                    data = data.data;\n",
       "                }\n",
       "                if (data['text/html'] == html_output) {\n",
       "                    return [cell, data, j];\n",
       "                }\n",
       "            }\n",
       "        }\n",
       "    }\n",
       "}\n",
       "\n",
       "// Register the function which deals with the matplotlib target/channel.\n",
       "// The kernel may be null if the page has been refreshed.\n",
       "if (IPython.notebook.kernel != null) {\n",
       "    IPython.notebook.kernel.comm_manager.register_target('matplotlib', mpl.mpl_figure_comm);\n",
       "}\n"
      ],
      "text/plain": [
       "<IPython.core.display.Javascript object>"
      ]
     },
     "metadata": {},
     "output_type": "display_data"
    },
    {
     "data": {
      "text/html": [
       "<img src=\"data:image/png;base64,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\" width=\"640\">"
      ],
      "text/plain": [
       "<IPython.core.display.HTML object>"
      ]
     },
     "metadata": {},
     "output_type": "display_data"
    },
    {
     "data": {
      "application/vnd.jupyter.widget-view+json": {
       "model_id": "46d6f8eb8995409f929f5da205db2da4",
       "version_major": 2,
       "version_minor": 0
      },
      "text/plain": [
       "interactive(children=(FloatSlider(value=10.0, description='sample_rate', max=25.0, min=1.0), FloatSlider(value…"
      ]
     },
     "metadata": {},
     "output_type": "display_data"
    }
   ],
   "source": [
    "t, sample_rate, frequency, phase = numpy.linspace(0, 2, 1001), 10, 1, 0\n",
    "signal = lambda t, f=1., phi=0: numpy.sin(2*pi*t*f+phi)\n",
    "\n",
    "fig, ax = plt.subplots()\n",
    "\n",
    "@interact(sample_rate=(1,25, 0.1), frequency=(-9,10, 0.1), phase=(-6, 6, 0.1))\n",
    "def sampled_sinwave(sample_rate=sample_rate, frequency=frequency, phase=0.):\n",
    "    ax.cla()\n",
    "    t_samples = numpy.arange(min(t), max(t), 1./sample_rate)\n",
    "    x, x_sampled = signal(t, frequency, phase), signal(t_samples, frequency, phase)\n",
    "    ax.plot(t, x, label='Original Signal')\n",
    "    ax.stem(t_samples, x_sampled, linefmt='r', label='Sampled', use_line_collection=True)\n",
    "    ax.plot(t_samples, x_sampled, '--k', label='Recovered')\n",
    "    ax.legend(loc='lower left')\n",
    "    fig.canvas.draw_idle()\n",
    "    fig.tight_layout()"
   ]
  },
  {
   "cell_type": "markdown",
   "metadata": {
    "cell_style": "center",
    "slideshow": {
     "slide_type": "slide"
    }
   },
   "source": [
    "##  Kinds of basic RF problems\n",
    "\n",
    "#### Communication\n",
    "  + Getting data between places\n",
    "\n",
    "#### Radar\n",
    "  + Using radio waves to sense something\n",
    "\n",
    "#### Passive Inference\n",
    "  + Using Emotions that already exist what can I figure out"
   ]
  },
  {
   "cell_type": "markdown",
   "metadata": {
    "slideshow": {
     "slide_type": "slide"
    }
   },
   "source": [
    "## What Signals We Are Considering\n",
    "\n"
   ]
  },
  {
   "cell_type": "markdown",
   "metadata": {
    "cell_style": "split",
    "slideshow": {
     "slide_type": "fragment"
    }
   },
   "source": [
    "## Time Series\n",
    "  + Sampled at a regular"
   ]
  },
  {
   "cell_type": "markdown",
   "metadata": {
    "cell_style": "split",
    "slideshow": {
     "slide_type": "fragment"
    }
   },
   "source": [
    "#### Radio Signals\n",
    "  + Can we capture it we a Software Defined Radio (SDR)\n",
    "  + Complex valued (pair of reals)"
   ]
  },
  {
   "cell_type": "markdown",
   "metadata": {
    "cell_style": "split",
    "slideshow": {
     "slide_type": "fragment"
    }
   },
   "source": [
    "### Single Channel\n",
    "  + 1 dimension to each sample"
   ]
  },
  {
   "cell_type": "markdown",
   "metadata": {
    "cell_style": "split",
    "slideshow": {
     "slide_type": "fragment"
    }
   },
   "source": [
    "### Narrowband\n",
    "  + Bandwidth of the signal is smaller than it's center frequency\n",
    "  "
   ]
  },
  {
   "cell_type": "markdown",
   "metadata": {
    "slideshow": {
     "slide_type": "notes"
    }
   },
   "source": []
  },
  {
   "cell_type": "markdown",
   "metadata": {
    "slideshow": {
     "slide_type": "slide"
    }
   },
   "source": [
    "## Properties of Operations on Signals (Systems)\n",
    "  + Linearity\n",
    "  + Time Inverance \n",
    "  + Bounded Input Bounded Output\n",
    "  + Dirivatives and Differences\n",
    "  + Integrates and Sumations \n",
    "  + Useful Non-linear Functions\n",
    "    + ABS\n",
    "    + Squared\n",
    "    + Distance\n",
    "    + Log and Decibels"
   ]
  },
  {
   "cell_type": "markdown",
   "metadata": {
    "slideshow": {
     "slide_type": "subslide"
    }
   },
   "source": [
    "### Linearity\n",
    "\n",
    "  + Additivity\n",
    "$$ f(a+b) = f(a) + f(b) $$\n",
    "\n",
    "\n",
    "\n",
    "  + Homogeneity \n",
    "$$ f(\\alpha \\: x) = \\alpha \\: f(x) $$\n",
    "\n",
    "\n",
    "\n",
    "  + Approximately linear\n",
    "  \n",
    "    + Useful approximation\n",
    "    \n",
    "    + For b << a $f(a+b)$ can be treated as linear\n",
    "    \n",
    "    $$ f(a+b) \\approx f(a) + f(b) \\quad for \\:\\: b << a $$"
   ]
  },
  {
   "cell_type": "markdown",
   "metadata": {
    "slideshow": {
     "slide_type": "subslide"
    }
   },
   "source": [
    "#### Linear ?\n",
    "Is the function linear, non-linear, Approximately linear?\n",
    "  \n",
    "  1.  \n",
    "  \n",
    "  $$ f(x) = 3 \\cdot x $$"
   ]
  },
  {
   "cell_type": "markdown",
   "metadata": {
    "slideshow": {
     "slide_type": "fragment"
    }
   },
   "source": [
    "  2. \n",
    "  \n",
    "  $$ f(x) = 0 \\cdot x $$"
   ]
  },
  {
   "cell_type": "markdown",
   "metadata": {
    "slideshow": {
     "slide_type": "fragment"
    }
   },
   "source": [
    "  3. \n",
    "  \n",
    "  $$ f(x) = 2 \\cdot x+1 $$"
   ]
  },
  {
   "cell_type": "markdown",
   "metadata": {
    "slideshow": {
     "slide_type": "fragment"
    }
   },
   "source": [
    "  4. \n",
    "  \n",
    "  $$ f(x) = x^{2} $$"
   ]
  },
  {
   "cell_type": "markdown",
   "metadata": {
    "slideshow": {
     "slide_type": "subslide"
    }
   },
   "source": [
    "### Time Inverance\n",
    "\n",
    "  + Function or System not dependent on what time it is\n",
    "  \n",
    "  $$ y(t) = f(x, t) = f(x, t+a) \\quad for \\: any \\: a $$"
   ]
  },
  {
   "cell_type": "markdown",
   "metadata": {
    "slideshow": {
     "slide_type": "fragment"
    }
   },
   "source": [
    "#### Time Inverent ?\n",
    "\n",
    "  1. \n",
    "  \n",
    "  $$ f(x) = 10 \\cdot x $$"
   ]
  },
  {
   "cell_type": "markdown",
   "metadata": {
    "slideshow": {
     "slide_type": "fragment"
    }
   },
   "source": [
    "  2. \n",
    "  $$ f(x) = x^{2} + 2x + 1 $$"
   ]
  },
  {
   "cell_type": "markdown",
   "metadata": {
    "slideshow": {
     "slide_type": "fragment"
    }
   },
   "source": [
    " 3. \n",
    "    $$ f(x) = t \\cdot x $$"
   ]
  },
  {
   "cell_type": "markdown",
   "metadata": {
    "slideshow": {
     "slide_type": "fragment"
    }
   },
   "source": [
    "  4. \n",
    "  $$ f(x) = x * \\delta(t-1) $$\n",
    "  \n",
    "    + What is that symbol \"$*$\" ? \n",
    "    + What about that other symbol \"$\\delta$\"?"
   ]
  },
  {
   "cell_type": "markdown",
   "metadata": {
    "slideshow": {
     "slide_type": "subslide"
    }
   },
   "source": [
    "###  Bounded Input Bounded Output\n",
    "\n",
    "  + For any input of limited energy the output energy is limited\n",
    "  \n",
    "$$ \\int_{- \\infty}^{\\infty} | \\: f(x) \\:  | \\: dt \\: < \\: \\infty  \\quad  for \\: \\int_{- \\infty}^{\\infty} | \\: x \\:  | \\: dt < \\infty$$"
   ]
  },
  {
   "cell_type": "markdown",
   "metadata": {
    "slideshow": {
     "slide_type": "fragment"
    }
   },
   "source": [
    "#### BIBO System?\n",
    "\n",
    "1. \n",
    "$$ f(x) = 5 \\cdot x + 2 $$"
   ]
  },
  {
   "cell_type": "markdown",
   "metadata": {
    "slideshow": {
     "slide_type": "fragment"
    }
   },
   "source": [
    "  2. \n",
    "  $$ f(x) = x^2 $$"
   ]
  },
  {
   "cell_type": "markdown",
   "metadata": {
    "slideshow": {
     "slide_type": "fragment"
    }
   },
   "source": [
    "  3. \n",
    "  $$ f(x) =  \\cfrac{1}{x} $$"
   ]
  },
  {
   "cell_type": "markdown",
   "metadata": {
    "slideshow": {
     "slide_type": "fragment"
    }
   },
   "source": [
    "  4. \n",
    "  $$ f(x) = \\int_{-\\infty}^{t} x^{2}(\\tau) \\: d \\tau $$"
   ]
  },
  {
   "cell_type": "markdown",
   "metadata": {
    "slideshow": {
     "slide_type": "subslide"
    }
   },
   "source": [
    "### Dirivatives and Differences\n",
    "\n",
    "#### Dirivative\n",
    "The rate of chage with respect to another variable.\n",
    "\n",
    "# Insert Dirivative Graphic"
   ]
  },
  {
   "cell_type": "markdown",
   "metadata": {
    "slideshow": {
     "slide_type": "subslide"
    }
   },
   "source": []
  },
  {
   "cell_type": "markdown",
   "metadata": {},
   "source": []
  },
  {
   "cell_type": "markdown",
   "metadata": {
    "cell_style": "split",
    "slideshow": {
     "slide_type": "slide"
    }
   },
   "source": [
    "## Random Varaibles\n",
    "  + Basics of Probablilty\n",
    "    + Total Probablilty\n",
    "    + Probability Density Function\n",
    "    + Cumulative Distribution Function\n",
    "  + Continuous Vs. Discrete\n",
    "  + Common Distributions\n",
    "      + Uniform\n",
    "      + Exponential\n",
    "      + Gaussian\n",
    "      + Chi Squared\n",
    "  + Mean, Variance, and higher Moments\n",
    "  "
   ]
  },
  {
   "cell_type": "markdown",
   "metadata": {
    "cell_style": "split",
    "slideshow": {
     "slide_type": "-"
    }
   },
   "source": [
    "\n",
    "  + Random Variables\n",
    "  + Central Limit Theorem\n",
    "  + Operations on random variables\n",
    "  + Correlation\n",
    "  + Conditional Probability \n",
    "  + Independent and identically Distributed "
   ]
  },
  {
   "cell_type": "markdown",
   "metadata": {
    "slideshow": {
     "slide_type": "subslide"
    }
   },
   "source": [
    "## Source of Noise\n",
    "\n",
    "#### Thermal Noise\n",
    "\n",
    "$$ P = k_B \\cdot T \\cdot BW $$\n",
    "\n",
    "  + $k_B$ is [Boltzmann's constant](https://en.wikipedia.org/wiki/Boltzmann_constant)\n",
    "  + $T$ is Temperature in [Kelvin](https://en.wikipedia.org/wiki/Kelvin)\n",
    "  + $BW$ is the bandwidth in Hz\n",
    "  \n",
    "#### System Noise\n",
    "\n",
    "  + Like thermal noise"
   ]
  },
  {
   "cell_type": "markdown",
   "metadata": {
    "slideshow": {
     "slide_type": "subslide"
    }
   },
   "source": [
    "### Basics Probability\n",
    "\n",
    "  \n",
    "  <img src=\"probability.png?1\" width=\"75%\" >"
   ]
  },
  {
   "cell_type": "markdown",
   "metadata": {
    "slideshow": {
     "slide_type": "subslide"
    }
   },
   "source": [
    "#### Total Probability\n",
    "    + Sum of all included outcomes is 1\n",
    "    \n",
    " \n",
    " <img src=\"probability_total.png?1\" width=\"75%\" >"
   ]
  },
  {
   "cell_type": "markdown",
   "metadata": {
    "slideshow": {
     "slide_type": "subslide"
    }
   },
   "source": [
    "#### Probability of 1?\n",
    "Given a random number generator what are the odd's it will return 1?\n",
    "\n",
    "<img src=\"probability_point.png?1\" width=\"75%\" >\n",
    "\n"
   ]
  },
  {
   "cell_type": "markdown",
   "metadata": {
    "slideshow": {
     "slide_type": "subslide"
    }
   },
   "source": [
    "#### Probability less than 0\n",
    "\n",
    "<img src=\"probability_regoin.png?1\" width=\"75%\">"
   ]
  },
  {
   "cell_type": "markdown",
   "metadata": {
    "slideshow": {
     "slide_type": "subslide"
    }
   },
   "source": [
    "### Probability Density Function\n",
    "\n",
    "  <img src=\"probability.png?1\" width=\"75%\" >"
   ]
  },
  {
   "cell_type": "markdown",
   "metadata": {
    "slideshow": {
     "slide_type": "subslide"
    }
   },
   "source": [
    "### Cumulative Density Function\n",
    "\n",
    "<img src=\"probability_pdf_cdf.png?1\" width=\"65%\">"
   ]
  },
  {
   "cell_type": "markdown",
   "metadata": {
    "cell_style": "split",
    "slideshow": {
     "slide_type": "subslide"
    }
   },
   "source": [
    "### Statistical Moments \n",
    "$$ \\bf x \\sim \\mathcal{\\bf P} \\: \\quad \\: P(x)= \\cdots $$\n",
    "\n",
    "##### Total Probabilty\n",
    "$$ 1 =  \\int_{-\\infty}^{\\infty} P(x) dx \\\\= \\sum P(x_i)$$\n",
    "\n",
    "##### Mean\n",
    "$$ \\mu = E(\\bf X) =  \\int_{-\\infty}^{\\infty} xP(x) dx \\\\= \\sum x_i P(x_i)$$\n",
    "\n"
   ]
  },
  {
   "cell_type": "markdown",
   "metadata": {
    "cell_style": "split",
    "slideshow": {
     "slide_type": "-"
    }
   },
   "source": [
    "##### Variance\n",
    "$$ \\sigma^2 = Var(\\bf X) =  \\int_{-\\infty}^{\\infty} (x-\\mu)^2 P(x) dx \\\\= \\sum (x_i-\\mu)^2 P(x_i)\n",
    "$$"
   ]
  },
  {
   "cell_type": "markdown",
   "metadata": {
    "slideshow": {
     "slide_type": "notes"
    }
   },
   "source": []
  },
  {
   "cell_type": "markdown",
   "metadata": {
    "cell_style": "split",
    "slideshow": {
     "slide_type": "subslide"
    }
   },
   "source": [
    "##### Skew\n",
    "$$ Skew(\\bf X) =  \\int_{-\\infty}^{\\infty} \\left ( \\cfrac{x-\\mu}{\\sigma} \\right )^3 P(x) dx \\\\= \\sum \\left ( \\cfrac{x-\\mu}{\\sigma} \\right )^3 P(x_i)\n",
    "$$\n",
    "#### Excess Kurtosis\n",
    "$$ Kurt(\\bf X) =  \\int_{-\\infty}^{\\infty} \\left ( \\cfrac{x-\\mu}{\\sigma} \\right )^4 P(x) dx \\\\= \\sum \\left ( \\cfrac{x-\\mu}{\\sigma} \\right )^4 P(x_i)\n",
    "$$\n",
    "\n"
   ]
  },
  {
   "cell_type": "markdown",
   "metadata": {
    "cell_style": "split",
    "slideshow": {
     "slide_type": "-"
    }
   },
   "source": [
    "### Information\n",
    "\n",
    "\n",
    "##### Entropy \n",
    "\n",
    "$$ H(\\bf X) = -\\int_{-\\infty}^{\\infty} P(x) ln \\left ( P(x) \\right ) dx \\\\= -\\sum P(x) ln \\left ( P(x) \\right )\n",
    "$$"
   ]
  },
  {
   "cell_type": "code",
   "execution_count": null,
   "metadata": {
    "slideshow": {
     "slide_type": "notes"
    }
   },
   "outputs": [],
   "source": []
  },
  {
   "cell_type": "markdown",
   "metadata": {
    "cell_style": "split",
    "slideshow": {
     "slide_type": "subslide"
    }
   },
   "source": [
    "### Continuous \n",
    "+ Likelihood function\n",
    "  + Non-negative\n",
    "  + Can be greater than 1\n",
    "  + Probability density Function (PDF)\n",
    "\n",
    "<img src=\"probability.png?2\" width=\"90%\" >"
   ]
  },
  {
   "cell_type": "markdown",
   "metadata": {
    "cell_style": "split",
    "slideshow": {
     "slide_type": "-"
    }
   },
   "source": [
    "### Discrete\n",
    "\n",
    "+ Likelihood function\n",
    "  + Non-negative\n",
    "  + 0 or +infinity \n",
    "+ Probability Mass Function (PMF)\n",
    "  \n",
    "  \n",
    "<img src=\"probability_mass_function.png?1\" width=\"90%\">"
   ]
  },
  {
   "cell_type": "code",
   "execution_count": null,
   "metadata": {
    "slideshow": {
     "slide_type": "notes"
    }
   },
   "outputs": [],
   "source": []
  },
  {
   "cell_type": "markdown",
   "metadata": {
    "cell_style": "split",
    "slideshow": {
     "slide_type": "subslide"
    }
   },
   "source": [
    "#### Common Distributions\n",
    "  + Uniform \n",
    "    + Eazist to work with\n",
    "    + Computers likely start with this\n",
    "  + Exponential\n",
    "    + Eazy to work with\n",
    "  + Gaussian\n",
    "    + The most common\n",
    "  + Chi Squared\n",
    "    + Most common squared\n",
    "    "
   ]
  },
  {
   "cell_type": "markdown",
   "metadata": {
    "cell_style": "split",
    "slideshow": {
     "slide_type": "-"
    }
   },
   "source": [
    "<img src=\"common_distributions.png?1\" width=\"100%\">"
   ]
  },
  {
   "cell_type": "markdown",
   "metadata": {
    "slideshow": {
     "slide_type": "notes"
    }
   },
   "source": []
  },
  {
   "cell_type": "markdown",
   "metadata": {
    "cell_style": "split",
    "slideshow": {
     "slide_type": "subslide"
    }
   },
   "source": [
    "#### Uniform\n",
    "$$ P(x) =\\Big \\{ \\begin{matrix} \\:1 \\: :\\quad 0\\leq x \\leq 1 \\\\0 : \\quad otherwise \\end{matrix}$$\n",
    "\n",
    "\n",
    "$$ \\Phi (x) = \\Big \\{ \\begin{matrix} \\:x \\: :\\quad 0\\leq x \\leq 1 \\\\0 : \\quad otherwise \\end{matrix} $$\n",
    "\n",
    "$$ Mean = \\cfrac{1}{2}, \\quad \n",
    "Var = \\cfrac{1}{12(1-0)^2}, \\quad \\\\\n",
    "Skew = 0, \\quad\n",
    "kurtosis = \\cfrac{-6}{5}, \\quad \\\\\n",
    "Entropy = ln(1-0)\n",
    "$$"
   ]
  },
  {
   "cell_type": "markdown",
   "metadata": {
    "cell_style": "split",
    "slideshow": {
     "slide_type": "-"
    }
   },
   "source": [
    "\n",
    "<img src=\"uniform_distributions.png?1\" width=\"100%\">\n"
   ]
  },
  {
   "cell_type": "code",
   "execution_count": null,
   "metadata": {
    "slideshow": {
     "slide_type": "notes"
    }
   },
   "outputs": [],
   "source": []
  },
  {
   "cell_type": "markdown",
   "metadata": {
    "cell_style": "split",
    "slideshow": {
     "slide_type": "subslide"
    }
   },
   "source": [
    "#### Exponetial\n",
    "\n",
    "$$ P(x) =\\Big \\{ \\begin{matrix} \\: \\lambda e^{-\\lambda x} \\: :\\quad 0\\leq x \\\\0 \\quad : \\quad otherwise \\end{matrix}$$\n",
    "\n",
    "$$ \\Phi (x) = \\Big \\{ \\begin{matrix} \\: 1-e^{-\\lambda x} \\: :\\quad 0\\leq x  \\\\0 : \\quad otherwise \\end{matrix} $$\n",
    "\n",
    "$$ Mean = \\cfrac{1}{\\lambda}, \\quad \n",
    "Var = \\cfrac{1}{\\lambda^2}, \\quad \\\\\n",
    "Skew = 2, \\quad\n",
    "kurtosis = 6, \\quad \\\\\n",
    "Entropy = 1- ln(\\lambda)\n",
    "$$"
   ]
  },
  {
   "cell_type": "markdown",
   "metadata": {
    "cell_style": "split",
    "slideshow": {
     "slide_type": "-"
    }
   },
   "source": [
    "\n",
    "\n",
    "<img src=\"expon_distributions.png?0\" width=\"100%\">"
   ]
  },
  {
   "cell_type": "markdown",
   "metadata": {
    "slideshow": {
     "slide_type": "notes"
    }
   },
   "source": [
    "### "
   ]
  },
  {
   "cell_type": "markdown",
   "metadata": {
    "cell_style": "split",
    "slideshow": {
     "slide_type": "subslide"
    }
   },
   "source": [
    "#### Gaussian\n",
    "\n",
    "$$ P(x) = \\cfrac{1}{\\sigma \\sqrt{2 \\pi}} \n",
    "\\: e^{ \\cfrac{1}{2} \\left(\\cfrac{x-\\mu}{\\sigma} \\right )^{2} }$$\n",
    "\n",
    "$$ \\Phi (x) = \\cfrac{1}{2} \\left ( 1 + erf \\left ( \\cfrac{x-\\mu}{\\sigma \\sqrt{2}} \\right ) \\right )\n",
    "$$\n",
    "\n",
    "$$ Mean = \\mu, \\quad \n",
    "Var = \\sigma^2, \\quad \\\\\n",
    "Skew = 0, \\quad\n",
    "kurtosis = 0, \\quad \\\\\n",
    "Entropy = \\cfrac{1}{2} \\left( ln \\left (\n",
    "2 \\pi \\sigma^2 \n",
    "\\right ) + 1 \\right )\n",
    "$$"
   ]
  },
  {
   "cell_type": "markdown",
   "metadata": {
    "cell_style": "split",
    "slideshow": {
     "slide_type": "-"
    }
   },
   "source": [
    "<img src=\"gaussian_distributions.png\" width=\"100%\">"
   ]
  },
  {
   "cell_type": "code",
   "execution_count": null,
   "metadata": {
    "slideshow": {
     "slide_type": "notes"
    }
   },
   "outputs": [],
   "source": []
  },
  {
   "attachments": {},
   "cell_type": "markdown",
   "metadata": {
    "cell_style": "split",
    "slideshow": {
     "slide_type": "subslide"
    }
   },
   "source": [
    "#### $\\chi ^ 2$  (Chi Squared)\n",
    "\n",
    "$$ \\chi ^ 2 (x) \\quad = \\quad \\Bigg \\{ \\begin{matrix} \\:\n",
    "\\cfrac{ x^{k/2 - 1 } \\: e^{-x}}{2^{k/2}\\: \\Gamma(k/2)}\n",
    "\\: :\\quad 0\\leq x \\\\0 \\quad\\quad : \\quad otherwise \\end{matrix}\n",
    "$$\n",
    "\n",
    "\n",
    "\n",
    "[The chi-squared distribution is obtained as the sum of the squares of k independent, zero-mean, unit-variance Gaussian random variables](https://en.wikipedia.org/wiki/Chi-squared_distribution)"
   ]
  },
  {
   "cell_type": "markdown",
   "metadata": {
    "cell_style": "split",
    "slideshow": {
     "slide_type": "-"
    }
   },
   "source": [
    "\n",
    "\n",
    "<img src=\"chi2_distributions.png\" width=\"100%\">"
   ]
  },
  {
   "cell_type": "markdown",
   "metadata": {
    "slideshow": {
     "slide_type": "subslide"
    }
   },
   "source": [
    "<img src=\"chi2_order_distributions.png?1\" width=\"100%\">"
   ]
  },
  {
   "cell_type": "markdown",
   "metadata": {
    "slideshow": {
     "slide_type": "subslide"
    }
   },
   "source": [
    "<img src=\"chi2_order_distributions.gif?2\" width=\"100%\">"
   ]
  },
  {
   "cell_type": "markdown",
   "metadata": {
    "cell_style": "split",
    "slideshow": {
     "slide_type": "subslide"
    }
   },
   "source": [
    "## Central Limit Theorem\n",
    "\n",
    "  + The linear combination of independent random variable to Gaussian in the limit\n",
    "  \n",
    "  + The reason Gaussian is the most important distribution\n",
    "  "
   ]
  },
  {
   "cell_type": "markdown",
   "metadata": {
    "cell_style": "split",
    "slideshow": {
     "slide_type": "-"
    }
   },
   "source": [
    "#### Linear Operations \n",
    "\n"
   ]
  },
  {
   "cell_type": "code",
   "execution_count": 164,
   "metadata": {
    "slideshow": {
     "slide_type": "subslide"
    }
   },
   "outputs": [
    {
     "data": {
      "application/javascript": [
       "/* Put everything inside the global mpl namespace */\n",
       "window.mpl = {};\n",
       "\n",
       "\n",
       "mpl.get_websocket_type = function() {\n",
       "    if (typeof(WebSocket) !== 'undefined') {\n",
       "        return WebSocket;\n",
       "    } else if (typeof(MozWebSocket) !== 'undefined') {\n",
       "        return MozWebSocket;\n",
       "    } else {\n",
       "        alert('Your browser does not have WebSocket support. ' +\n",
       "              'Please try Chrome, Safari or Firefox ≥ 6. ' +\n",
       "              'Firefox 4 and 5 are also supported but you ' +\n",
       "              'have to enable WebSockets in about:config.');\n",
       "    };\n",
       "}\n",
       "\n",
       "mpl.figure = function(figure_id, websocket, ondownload, parent_element) {\n",
       "    this.id = figure_id;\n",
       "\n",
       "    this.ws = websocket;\n",
       "\n",
       "    this.supports_binary = (this.ws.binaryType != undefined);\n",
       "\n",
       "    if (!this.supports_binary) {\n",
       "        var warnings = document.getElementById(\"mpl-warnings\");\n",
       "        if (warnings) {\n",
       "            warnings.style.display = 'block';\n",
       "            warnings.textContent = (\n",
       "                \"This browser does not support binary websocket messages. \" +\n",
       "                    \"Performance may be slow.\");\n",
       "        }\n",
       "    }\n",
       "\n",
       "    this.imageObj = new Image();\n",
       "\n",
       "    this.context = undefined;\n",
       "    this.message = undefined;\n",
       "    this.canvas = undefined;\n",
       "    this.rubberband_canvas = undefined;\n",
       "    this.rubberband_context = undefined;\n",
       "    this.format_dropdown = undefined;\n",
       "\n",
       "    this.image_mode = 'full';\n",
       "\n",
       "    this.root = $('<div/>');\n",
       "    this._root_extra_style(this.root)\n",
       "    this.root.attr('style', 'display: inline-block');\n",
       "\n",
       "    $(parent_element).append(this.root);\n",
       "\n",
       "    this._init_header(this);\n",
       "    this._init_canvas(this);\n",
       "    this._init_toolbar(this);\n",
       "\n",
       "    var fig = this;\n",
       "\n",
       "    this.waiting = false;\n",
       "\n",
       "    this.ws.onopen =  function () {\n",
       "            fig.send_message(\"supports_binary\", {value: fig.supports_binary});\n",
       "            fig.send_message(\"send_image_mode\", {});\n",
       "            if (mpl.ratio != 1) {\n",
       "                fig.send_message(\"set_dpi_ratio\", {'dpi_ratio': mpl.ratio});\n",
       "            }\n",
       "            fig.send_message(\"refresh\", {});\n",
       "        }\n",
       "\n",
       "    this.imageObj.onload = function() {\n",
       "            if (fig.image_mode == 'full') {\n",
       "                // Full images could contain transparency (where diff images\n",
       "                // almost always do), so we need to clear the canvas so that\n",
       "                // there is no ghosting.\n",
       "                fig.context.clearRect(0, 0, fig.canvas.width, fig.canvas.height);\n",
       "            }\n",
       "            fig.context.drawImage(fig.imageObj, 0, 0);\n",
       "        };\n",
       "\n",
       "    this.imageObj.onunload = function() {\n",
       "        fig.ws.close();\n",
       "    }\n",
       "\n",
       "    this.ws.onmessage = this._make_on_message_function(this);\n",
       "\n",
       "    this.ondownload = ondownload;\n",
       "}\n",
       "\n",
       "mpl.figure.prototype._init_header = function() {\n",
       "    var titlebar = $(\n",
       "        '<div class=\"ui-dialog-titlebar ui-widget-header ui-corner-all ' +\n",
       "        'ui-helper-clearfix\"/>');\n",
       "    var titletext = $(\n",
       "        '<div class=\"ui-dialog-title\" style=\"width: 100%; ' +\n",
       "        'text-align: center; padding: 3px;\"/>');\n",
       "    titlebar.append(titletext)\n",
       "    this.root.append(titlebar);\n",
       "    this.header = titletext[0];\n",
       "}\n",
       "\n",
       "\n",
       "\n",
       "mpl.figure.prototype._canvas_extra_style = function(canvas_div) {\n",
       "\n",
       "}\n",
       "\n",
       "\n",
       "mpl.figure.prototype._root_extra_style = function(canvas_div) {\n",
       "\n",
       "}\n",
       "\n",
       "mpl.figure.prototype._init_canvas = function() {\n",
       "    var fig = this;\n",
       "\n",
       "    var canvas_div = $('<div/>');\n",
       "\n",
       "    canvas_div.attr('style', 'position: relative; clear: both; outline: 0');\n",
       "\n",
       "    function canvas_keyboard_event(event) {\n",
       "        return fig.key_event(event, event['data']);\n",
       "    }\n",
       "\n",
       "    canvas_div.keydown('key_press', canvas_keyboard_event);\n",
       "    canvas_div.keyup('key_release', canvas_keyboard_event);\n",
       "    this.canvas_div = canvas_div\n",
       "    this._canvas_extra_style(canvas_div)\n",
       "    this.root.append(canvas_div);\n",
       "\n",
       "    var canvas = $('<canvas/>');\n",
       "    canvas.addClass('mpl-canvas');\n",
       "    canvas.attr('style', \"left: 0; top: 0; z-index: 0; outline: 0\")\n",
       "\n",
       "    this.canvas = canvas[0];\n",
       "    this.context = canvas[0].getContext(\"2d\");\n",
       "\n",
       "    var backingStore = this.context.backingStorePixelRatio ||\n",
       "\tthis.context.webkitBackingStorePixelRatio ||\n",
       "\tthis.context.mozBackingStorePixelRatio ||\n",
       "\tthis.context.msBackingStorePixelRatio ||\n",
       "\tthis.context.oBackingStorePixelRatio ||\n",
       "\tthis.context.backingStorePixelRatio || 1;\n",
       "\n",
       "    mpl.ratio = (window.devicePixelRatio || 1) / backingStore;\n",
       "\n",
       "    var rubberband = $('<canvas/>');\n",
       "    rubberband.attr('style', \"position: absolute; left: 0; top: 0; z-index: 1;\")\n",
       "\n",
       "    var pass_mouse_events = true;\n",
       "\n",
       "    canvas_div.resizable({\n",
       "        start: function(event, ui) {\n",
       "            pass_mouse_events = false;\n",
       "        },\n",
       "        resize: function(event, ui) {\n",
       "            fig.request_resize(ui.size.width, ui.size.height);\n",
       "        },\n",
       "        stop: function(event, ui) {\n",
       "            pass_mouse_events = true;\n",
       "            fig.request_resize(ui.size.width, ui.size.height);\n",
       "        },\n",
       "    });\n",
       "\n",
       "    function mouse_event_fn(event) {\n",
       "        if (pass_mouse_events)\n",
       "            return fig.mouse_event(event, event['data']);\n",
       "    }\n",
       "\n",
       "    rubberband.mousedown('button_press', mouse_event_fn);\n",
       "    rubberband.mouseup('button_release', mouse_event_fn);\n",
       "    // Throttle sequential mouse events to 1 every 20ms.\n",
       "    rubberband.mousemove('motion_notify', mouse_event_fn);\n",
       "\n",
       "    rubberband.mouseenter('figure_enter', mouse_event_fn);\n",
       "    rubberband.mouseleave('figure_leave', mouse_event_fn);\n",
       "\n",
       "    canvas_div.on(\"wheel\", function (event) {\n",
       "        event = event.originalEvent;\n",
       "        event['data'] = 'scroll'\n",
       "        if (event.deltaY < 0) {\n",
       "            event.step = 1;\n",
       "        } else {\n",
       "            event.step = -1;\n",
       "        }\n",
       "        mouse_event_fn(event);\n",
       "    });\n",
       "\n",
       "    canvas_div.append(canvas);\n",
       "    canvas_div.append(rubberband);\n",
       "\n",
       "    this.rubberband = rubberband;\n",
       "    this.rubberband_canvas = rubberband[0];\n",
       "    this.rubberband_context = rubberband[0].getContext(\"2d\");\n",
       "    this.rubberband_context.strokeStyle = \"#000000\";\n",
       "\n",
       "    this._resize_canvas = function(width, height) {\n",
       "        // Keep the size of the canvas, canvas container, and rubber band\n",
       "        // canvas in synch.\n",
       "        canvas_div.css('width', width)\n",
       "        canvas_div.css('height', height)\n",
       "\n",
       "        canvas.attr('width', width * mpl.ratio);\n",
       "        canvas.attr('height', height * mpl.ratio);\n",
       "        canvas.attr('style', 'width: ' + width + 'px; height: ' + height + 'px;');\n",
       "\n",
       "        rubberband.attr('width', width);\n",
       "        rubberband.attr('height', height);\n",
       "    }\n",
       "\n",
       "    // Set the figure to an initial 600x600px, this will subsequently be updated\n",
       "    // upon first draw.\n",
       "    this._resize_canvas(600, 600);\n",
       "\n",
       "    // Disable right mouse context menu.\n",
       "    $(this.rubberband_canvas).bind(\"contextmenu\",function(e){\n",
       "        return false;\n",
       "    });\n",
       "\n",
       "    function set_focus () {\n",
       "        canvas.focus();\n",
       "        canvas_div.focus();\n",
       "    }\n",
       "\n",
       "    window.setTimeout(set_focus, 100);\n",
       "}\n",
       "\n",
       "mpl.figure.prototype._init_toolbar = function() {\n",
       "    var fig = this;\n",
       "\n",
       "    var nav_element = $('<div/>');\n",
       "    nav_element.attr('style', 'width: 100%');\n",
       "    this.root.append(nav_element);\n",
       "\n",
       "    // Define a callback function for later on.\n",
       "    function toolbar_event(event) {\n",
       "        return fig.toolbar_button_onclick(event['data']);\n",
       "    }\n",
       "    function toolbar_mouse_event(event) {\n",
       "        return fig.toolbar_button_onmouseover(event['data']);\n",
       "    }\n",
       "\n",
       "    for(var toolbar_ind in mpl.toolbar_items) {\n",
       "        var name = mpl.toolbar_items[toolbar_ind][0];\n",
       "        var tooltip = mpl.toolbar_items[toolbar_ind][1];\n",
       "        var image = mpl.toolbar_items[toolbar_ind][2];\n",
       "        var method_name = mpl.toolbar_items[toolbar_ind][3];\n",
       "\n",
       "        if (!name) {\n",
       "            // put a spacer in here.\n",
       "            continue;\n",
       "        }\n",
       "        var button = $('<button/>');\n",
       "        button.addClass('ui-button ui-widget ui-state-default ui-corner-all ' +\n",
       "                        'ui-button-icon-only');\n",
       "        button.attr('role', 'button');\n",
       "        button.attr('aria-disabled', 'false');\n",
       "        button.click(method_name, toolbar_event);\n",
       "        button.mouseover(tooltip, toolbar_mouse_event);\n",
       "\n",
       "        var icon_img = $('<span/>');\n",
       "        icon_img.addClass('ui-button-icon-primary ui-icon');\n",
       "        icon_img.addClass(image);\n",
       "        icon_img.addClass('ui-corner-all');\n",
       "\n",
       "        var tooltip_span = $('<span/>');\n",
       "        tooltip_span.addClass('ui-button-text');\n",
       "        tooltip_span.html(tooltip);\n",
       "\n",
       "        button.append(icon_img);\n",
       "        button.append(tooltip_span);\n",
       "\n",
       "        nav_element.append(button);\n",
       "    }\n",
       "\n",
       "    var fmt_picker_span = $('<span/>');\n",
       "\n",
       "    var fmt_picker = $('<select/>');\n",
       "    fmt_picker.addClass('mpl-toolbar-option ui-widget ui-widget-content');\n",
       "    fmt_picker_span.append(fmt_picker);\n",
       "    nav_element.append(fmt_picker_span);\n",
       "    this.format_dropdown = fmt_picker[0];\n",
       "\n",
       "    for (var ind in mpl.extensions) {\n",
       "        var fmt = mpl.extensions[ind];\n",
       "        var option = $(\n",
       "            '<option/>', {selected: fmt === mpl.default_extension}).html(fmt);\n",
       "        fmt_picker.append(option);\n",
       "    }\n",
       "\n",
       "    // Add hover states to the ui-buttons\n",
       "    $( \".ui-button\" ).hover(\n",
       "        function() { $(this).addClass(\"ui-state-hover\");},\n",
       "        function() { $(this).removeClass(\"ui-state-hover\");}\n",
       "    );\n",
       "\n",
       "    var status_bar = $('<span class=\"mpl-message\"/>');\n",
       "    nav_element.append(status_bar);\n",
       "    this.message = status_bar[0];\n",
       "}\n",
       "\n",
       "mpl.figure.prototype.request_resize = function(x_pixels, y_pixels) {\n",
       "    // Request matplotlib to resize the figure. Matplotlib will then trigger a resize in the client,\n",
       "    // which will in turn request a refresh of the image.\n",
       "    this.send_message('resize', {'width': x_pixels, 'height': y_pixels});\n",
       "}\n",
       "\n",
       "mpl.figure.prototype.send_message = function(type, properties) {\n",
       "    properties['type'] = type;\n",
       "    properties['figure_id'] = this.id;\n",
       "    this.ws.send(JSON.stringify(properties));\n",
       "}\n",
       "\n",
       "mpl.figure.prototype.send_draw_message = function() {\n",
       "    if (!this.waiting) {\n",
       "        this.waiting = true;\n",
       "        this.ws.send(JSON.stringify({type: \"draw\", figure_id: this.id}));\n",
       "    }\n",
       "}\n",
       "\n",
       "\n",
       "mpl.figure.prototype.handle_save = function(fig, msg) {\n",
       "    var format_dropdown = fig.format_dropdown;\n",
       "    var format = format_dropdown.options[format_dropdown.selectedIndex].value;\n",
       "    fig.ondownload(fig, format);\n",
       "}\n",
       "\n",
       "\n",
       "mpl.figure.prototype.handle_resize = function(fig, msg) {\n",
       "    var size = msg['size'];\n",
       "    if (size[0] != fig.canvas.width || size[1] != fig.canvas.height) {\n",
       "        fig._resize_canvas(size[0], size[1]);\n",
       "        fig.send_message(\"refresh\", {});\n",
       "    };\n",
       "}\n",
       "\n",
       "mpl.figure.prototype.handle_rubberband = function(fig, msg) {\n",
       "    var x0 = msg['x0'] / mpl.ratio;\n",
       "    var y0 = (fig.canvas.height - msg['y0']) / mpl.ratio;\n",
       "    var x1 = msg['x1'] / mpl.ratio;\n",
       "    var y1 = (fig.canvas.height - msg['y1']) / mpl.ratio;\n",
       "    x0 = Math.floor(x0) + 0.5;\n",
       "    y0 = Math.floor(y0) + 0.5;\n",
       "    x1 = Math.floor(x1) + 0.5;\n",
       "    y1 = Math.floor(y1) + 0.5;\n",
       "    var min_x = Math.min(x0, x1);\n",
       "    var min_y = Math.min(y0, y1);\n",
       "    var width = Math.abs(x1 - x0);\n",
       "    var height = Math.abs(y1 - y0);\n",
       "\n",
       "    fig.rubberband_context.clearRect(\n",
       "        0, 0, fig.canvas.width / mpl.ratio, fig.canvas.height / mpl.ratio);\n",
       "\n",
       "    fig.rubberband_context.strokeRect(min_x, min_y, width, height);\n",
       "}\n",
       "\n",
       "mpl.figure.prototype.handle_figure_label = function(fig, msg) {\n",
       "    // Updates the figure title.\n",
       "    fig.header.textContent = msg['label'];\n",
       "}\n",
       "\n",
       "mpl.figure.prototype.handle_cursor = function(fig, msg) {\n",
       "    var cursor = msg['cursor'];\n",
       "    switch(cursor)\n",
       "    {\n",
       "    case 0:\n",
       "        cursor = 'pointer';\n",
       "        break;\n",
       "    case 1:\n",
       "        cursor = 'default';\n",
       "        break;\n",
       "    case 2:\n",
       "        cursor = 'crosshair';\n",
       "        break;\n",
       "    case 3:\n",
       "        cursor = 'move';\n",
       "        break;\n",
       "    }\n",
       "    fig.rubberband_canvas.style.cursor = cursor;\n",
       "}\n",
       "\n",
       "mpl.figure.prototype.handle_message = function(fig, msg) {\n",
       "    fig.message.textContent = msg['message'];\n",
       "}\n",
       "\n",
       "mpl.figure.prototype.handle_draw = function(fig, msg) {\n",
       "    // Request the server to send over a new figure.\n",
       "    fig.send_draw_message();\n",
       "}\n",
       "\n",
       "mpl.figure.prototype.handle_image_mode = function(fig, msg) {\n",
       "    fig.image_mode = msg['mode'];\n",
       "}\n",
       "\n",
       "mpl.figure.prototype.updated_canvas_event = function() {\n",
       "    // Called whenever the canvas gets updated.\n",
       "    this.send_message(\"ack\", {});\n",
       "}\n",
       "\n",
       "// A function to construct a web socket function for onmessage handling.\n",
       "// Called in the figure constructor.\n",
       "mpl.figure.prototype._make_on_message_function = function(fig) {\n",
       "    return function socket_on_message(evt) {\n",
       "        if (evt.data instanceof Blob) {\n",
       "            /* FIXME: We get \"Resource interpreted as Image but\n",
       "             * transferred with MIME type text/plain:\" errors on\n",
       "             * Chrome.  But how to set the MIME type?  It doesn't seem\n",
       "             * to be part of the websocket stream */\n",
       "            evt.data.type = \"image/png\";\n",
       "\n",
       "            /* Free the memory for the previous frames */\n",
       "            if (fig.imageObj.src) {\n",
       "                (window.URL || window.webkitURL).revokeObjectURL(\n",
       "                    fig.imageObj.src);\n",
       "            }\n",
       "\n",
       "            fig.imageObj.src = (window.URL || window.webkitURL).createObjectURL(\n",
       "                evt.data);\n",
       "            fig.updated_canvas_event();\n",
       "            fig.waiting = false;\n",
       "            return;\n",
       "        }\n",
       "        else if (typeof evt.data === 'string' && evt.data.slice(0, 21) == \"data:image/png;base64\") {\n",
       "            fig.imageObj.src = evt.data;\n",
       "            fig.updated_canvas_event();\n",
       "            fig.waiting = false;\n",
       "            return;\n",
       "        }\n",
       "\n",
       "        var msg = JSON.parse(evt.data);\n",
       "        var msg_type = msg['type'];\n",
       "\n",
       "        // Call the  \"handle_{type}\" callback, which takes\n",
       "        // the figure and JSON message as its only arguments.\n",
       "        try {\n",
       "            var callback = fig[\"handle_\" + msg_type];\n",
       "        } catch (e) {\n",
       "            console.log(\"No handler for the '\" + msg_type + \"' message type: \", msg);\n",
       "            return;\n",
       "        }\n",
       "\n",
       "        if (callback) {\n",
       "            try {\n",
       "                // console.log(\"Handling '\" + msg_type + \"' message: \", msg);\n",
       "                callback(fig, msg);\n",
       "            } catch (e) {\n",
       "                console.log(\"Exception inside the 'handler_\" + msg_type + \"' callback:\", e, e.stack, msg);\n",
       "            }\n",
       "        }\n",
       "    };\n",
       "}\n",
       "\n",
       "// from http://stackoverflow.com/questions/1114465/getting-mouse-location-in-canvas\n",
       "mpl.findpos = function(e) {\n",
       "    //this section is from http://www.quirksmode.org/js/events_properties.html\n",
       "    var targ;\n",
       "    if (!e)\n",
       "        e = window.event;\n",
       "    if (e.target)\n",
       "        targ = e.target;\n",
       "    else if (e.srcElement)\n",
       "        targ = e.srcElement;\n",
       "    if (targ.nodeType == 3) // defeat Safari bug\n",
       "        targ = targ.parentNode;\n",
       "\n",
       "    // jQuery normalizes the pageX and pageY\n",
       "    // pageX,Y are the mouse positions relative to the document\n",
       "    // offset() returns the position of the element relative to the document\n",
       "    var x = e.pageX - $(targ).offset().left;\n",
       "    var y = e.pageY - $(targ).offset().top;\n",
       "\n",
       "    return {\"x\": x, \"y\": y};\n",
       "};\n",
       "\n",
       "/*\n",
       " * return a copy of an object with only non-object keys\n",
       " * we need this to avoid circular references\n",
       " * http://stackoverflow.com/a/24161582/3208463\n",
       " */\n",
       "function simpleKeys (original) {\n",
       "  return Object.keys(original).reduce(function (obj, key) {\n",
       "    if (typeof original[key] !== 'object')\n",
       "        obj[key] = original[key]\n",
       "    return obj;\n",
       "  }, {});\n",
       "}\n",
       "\n",
       "mpl.figure.prototype.mouse_event = function(event, name) {\n",
       "    var canvas_pos = mpl.findpos(event)\n",
       "\n",
       "    if (name === 'button_press')\n",
       "    {\n",
       "        this.canvas.focus();\n",
       "        this.canvas_div.focus();\n",
       "    }\n",
       "\n",
       "    var x = canvas_pos.x * mpl.ratio;\n",
       "    var y = canvas_pos.y * mpl.ratio;\n",
       "\n",
       "    this.send_message(name, {x: x, y: y, button: event.button,\n",
       "                             step: event.step,\n",
       "                             guiEvent: simpleKeys(event)});\n",
       "\n",
       "    /* This prevents the web browser from automatically changing to\n",
       "     * the text insertion cursor when the button is pressed.  We want\n",
       "     * to control all of the cursor setting manually through the\n",
       "     * 'cursor' event from matplotlib */\n",
       "    event.preventDefault();\n",
       "    return false;\n",
       "}\n",
       "\n",
       "mpl.figure.prototype._key_event_extra = function(event, name) {\n",
       "    // Handle any extra behaviour associated with a key event\n",
       "}\n",
       "\n",
       "mpl.figure.prototype.key_event = function(event, name) {\n",
       "\n",
       "    // Prevent repeat events\n",
       "    if (name == 'key_press')\n",
       "    {\n",
       "        if (event.which === this._key)\n",
       "            return;\n",
       "        else\n",
       "            this._key = event.which;\n",
       "    }\n",
       "    if (name == 'key_release')\n",
       "        this._key = null;\n",
       "\n",
       "    var value = '';\n",
       "    if (event.ctrlKey && event.which != 17)\n",
       "        value += \"ctrl+\";\n",
       "    if (event.altKey && event.which != 18)\n",
       "        value += \"alt+\";\n",
       "    if (event.shiftKey && event.which != 16)\n",
       "        value += \"shift+\";\n",
       "\n",
       "    value += 'k';\n",
       "    value += event.which.toString();\n",
       "\n",
       "    this._key_event_extra(event, name);\n",
       "\n",
       "    this.send_message(name, {key: value,\n",
       "                             guiEvent: simpleKeys(event)});\n",
       "    return false;\n",
       "}\n",
       "\n",
       "mpl.figure.prototype.toolbar_button_onclick = function(name) {\n",
       "    if (name == 'download') {\n",
       "        this.handle_save(this, null);\n",
       "    } else {\n",
       "        this.send_message(\"toolbar_button\", {name: name});\n",
       "    }\n",
       "};\n",
       "\n",
       "mpl.figure.prototype.toolbar_button_onmouseover = function(tooltip) {\n",
       "    this.message.textContent = tooltip;\n",
       "};\n",
       "mpl.toolbar_items = [[\"Home\", \"Reset original view\", \"fa fa-home icon-home\", \"home\"], [\"Back\", \"Back to previous view\", \"fa fa-arrow-left icon-arrow-left\", \"back\"], [\"Forward\", \"Forward to next view\", \"fa fa-arrow-right icon-arrow-right\", \"forward\"], [\"\", \"\", \"\", \"\"], [\"Pan\", \"Pan axes with left mouse, zoom with right\", \"fa fa-arrows icon-move\", \"pan\"], [\"Zoom\", \"Zoom to rectangle\", \"fa fa-square-o icon-check-empty\", \"zoom\"], [\"\", \"\", \"\", \"\"], [\"Download\", \"Download plot\", \"fa fa-floppy-o icon-save\", \"download\"]];\n",
       "\n",
       "mpl.extensions = [\"eps\", \"pdf\", \"png\", \"ps\", \"raw\", \"svg\"];\n",
       "\n",
       "mpl.default_extension = \"png\";var comm_websocket_adapter = function(comm) {\n",
       "    // Create a \"websocket\"-like object which calls the given IPython comm\n",
       "    // object with the appropriate methods. Currently this is a non binary\n",
       "    // socket, so there is still some room for performance tuning.\n",
       "    var ws = {};\n",
       "\n",
       "    ws.close = function() {\n",
       "        comm.close()\n",
       "    };\n",
       "    ws.send = function(m) {\n",
       "        //console.log('sending', m);\n",
       "        comm.send(m);\n",
       "    };\n",
       "    // Register the callback with on_msg.\n",
       "    comm.on_msg(function(msg) {\n",
       "        //console.log('receiving', msg['content']['data'], msg);\n",
       "        // Pass the mpl event to the overridden (by mpl) onmessage function.\n",
       "        ws.onmessage(msg['content']['data'])\n",
       "    });\n",
       "    return ws;\n",
       "}\n",
       "\n",
       "mpl.mpl_figure_comm = function(comm, msg) {\n",
       "    // This is the function which gets called when the mpl process\n",
       "    // starts-up an IPython Comm through the \"matplotlib\" channel.\n",
       "\n",
       "    var id = msg.content.data.id;\n",
       "    // Get hold of the div created by the display call when the Comm\n",
       "    // socket was opened in Python.\n",
       "    var element = $(\"#\" + id);\n",
       "    var ws_proxy = comm_websocket_adapter(comm)\n",
       "\n",
       "    function ondownload(figure, format) {\n",
       "        window.open(figure.imageObj.src);\n",
       "    }\n",
       "\n",
       "    var fig = new mpl.figure(id, ws_proxy,\n",
       "                           ondownload,\n",
       "                           element.get(0));\n",
       "\n",
       "    // Call onopen now - mpl needs it, as it is assuming we've passed it a real\n",
       "    // web socket which is closed, not our websocket->open comm proxy.\n",
       "    ws_proxy.onopen();\n",
       "\n",
       "    fig.parent_element = element.get(0);\n",
       "    fig.cell_info = mpl.find_output_cell(\"<div id='\" + id + \"'></div>\");\n",
       "    if (!fig.cell_info) {\n",
       "        console.error(\"Failed to find cell for figure\", id, fig);\n",
       "        return;\n",
       "    }\n",
       "\n",
       "    var output_index = fig.cell_info[2]\n",
       "    var cell = fig.cell_info[0];\n",
       "\n",
       "};\n",
       "\n",
       "mpl.figure.prototype.handle_close = function(fig, msg) {\n",
       "    var width = fig.canvas.width/mpl.ratio\n",
       "    fig.root.unbind('remove')\n",
       "\n",
       "    // Update the output cell to use the data from the current canvas.\n",
       "    fig.push_to_output();\n",
       "    var dataURL = fig.canvas.toDataURL();\n",
       "    // Re-enable the keyboard manager in IPython - without this line, in FF,\n",
       "    // the notebook keyboard shortcuts fail.\n",
       "    IPython.keyboard_manager.enable()\n",
       "    $(fig.parent_element).html('<img src=\"' + dataURL + '\" width=\"' + width + '\">');\n",
       "    fig.close_ws(fig, msg);\n",
       "}\n",
       "\n",
       "mpl.figure.prototype.close_ws = function(fig, msg){\n",
       "    fig.send_message('closing', msg);\n",
       "    // fig.ws.close()\n",
       "}\n",
       "\n",
       "mpl.figure.prototype.push_to_output = function(remove_interactive) {\n",
       "    // Turn the data on the canvas into data in the output cell.\n",
       "    var width = this.canvas.width/mpl.ratio\n",
       "    var dataURL = this.canvas.toDataURL();\n",
       "    this.cell_info[1]['text/html'] = '<img src=\"' + dataURL + '\" width=\"' + width + '\">';\n",
       "}\n",
       "\n",
       "mpl.figure.prototype.updated_canvas_event = function() {\n",
       "    // Tell IPython that the notebook contents must change.\n",
       "    IPython.notebook.set_dirty(true);\n",
       "    this.send_message(\"ack\", {});\n",
       "    var fig = this;\n",
       "    // Wait a second, then push the new image to the DOM so\n",
       "    // that it is saved nicely (might be nice to debounce this).\n",
       "    setTimeout(function () { fig.push_to_output() }, 1000);\n",
       "}\n",
       "\n",
       "mpl.figure.prototype._init_toolbar = function() {\n",
       "    var fig = this;\n",
       "\n",
       "    var nav_element = $('<div/>');\n",
       "    nav_element.attr('style', 'width: 100%');\n",
       "    this.root.append(nav_element);\n",
       "\n",
       "    // Define a callback function for later on.\n",
       "    function toolbar_event(event) {\n",
       "        return fig.toolbar_button_onclick(event['data']);\n",
       "    }\n",
       "    function toolbar_mouse_event(event) {\n",
       "        return fig.toolbar_button_onmouseover(event['data']);\n",
       "    }\n",
       "\n",
       "    for(var toolbar_ind in mpl.toolbar_items){\n",
       "        var name = mpl.toolbar_items[toolbar_ind][0];\n",
       "        var tooltip = mpl.toolbar_items[toolbar_ind][1];\n",
       "        var image = mpl.toolbar_items[toolbar_ind][2];\n",
       "        var method_name = mpl.toolbar_items[toolbar_ind][3];\n",
       "\n",
       "        if (!name) { continue; };\n",
       "\n",
       "        var button = $('<button class=\"btn btn-default\" href=\"#\" title=\"' + name + '\"><i class=\"fa ' + image + ' fa-lg\"></i></button>');\n",
       "        button.click(method_name, toolbar_event);\n",
       "        button.mouseover(tooltip, toolbar_mouse_event);\n",
       "        nav_element.append(button);\n",
       "    }\n",
       "\n",
       "    // Add the status bar.\n",
       "    var status_bar = $('<span class=\"mpl-message\" style=\"text-align:right; float: right;\"/>');\n",
       "    nav_element.append(status_bar);\n",
       "    this.message = status_bar[0];\n",
       "\n",
       "    // Add the close button to the window.\n",
       "    var buttongrp = $('<div class=\"btn-group inline pull-right\"></div>');\n",
       "    var button = $('<button class=\"btn btn-mini btn-primary\" href=\"#\" title=\"Stop Interaction\"><i class=\"fa fa-power-off icon-remove icon-large\"></i></button>');\n",
       "    button.click(function (evt) { fig.handle_close(fig, {}); } );\n",
       "    button.mouseover('Stop Interaction', toolbar_mouse_event);\n",
       "    buttongrp.append(button);\n",
       "    var titlebar = this.root.find($('.ui-dialog-titlebar'));\n",
       "    titlebar.prepend(buttongrp);\n",
       "}\n",
       "\n",
       "mpl.figure.prototype._root_extra_style = function(el){\n",
       "    var fig = this\n",
       "    el.on(\"remove\", function(){\n",
       "\tfig.close_ws(fig, {});\n",
       "    });\n",
       "}\n",
       "\n",
       "mpl.figure.prototype._canvas_extra_style = function(el){\n",
       "    // this is important to make the div 'focusable\n",
       "    el.attr('tabindex', 0)\n",
       "    // reach out to IPython and tell the keyboard manager to turn it's self\n",
       "    // off when our div gets focus\n",
       "\n",
       "    // location in version 3\n",
       "    if (IPython.notebook.keyboard_manager) {\n",
       "        IPython.notebook.keyboard_manager.register_events(el);\n",
       "    }\n",
       "    else {\n",
       "        // location in version 2\n",
       "        IPython.keyboard_manager.register_events(el);\n",
       "    }\n",
       "\n",
       "}\n",
       "\n",
       "mpl.figure.prototype._key_event_extra = function(event, name) {\n",
       "    var manager = IPython.notebook.keyboard_manager;\n",
       "    if (!manager)\n",
       "        manager = IPython.keyboard_manager;\n",
       "\n",
       "    // Check for shift+enter\n",
       "    if (event.shiftKey && event.which == 13) {\n",
       "        this.canvas_div.blur();\n",
       "        // select the cell after this one\n",
       "        var index = IPython.notebook.find_cell_index(this.cell_info[0]);\n",
       "        IPython.notebook.select(index + 1);\n",
       "    }\n",
       "}\n",
       "\n",
       "mpl.figure.prototype.handle_save = function(fig, msg) {\n",
       "    fig.ondownload(fig, null);\n",
       "}\n",
       "\n",
       "\n",
       "mpl.find_output_cell = function(html_output) {\n",
       "    // Return the cell and output element which can be found *uniquely* in the notebook.\n",
       "    // Note - this is a bit hacky, but it is done because the \"notebook_saving.Notebook\"\n",
       "    // IPython event is triggered only after the cells have been serialised, which for\n",
       "    // our purposes (turning an active figure into a static one), is too late.\n",
       "    var cells = IPython.notebook.get_cells();\n",
       "    var ncells = cells.length;\n",
       "    for (var i=0; i<ncells; i++) {\n",
       "        var cell = cells[i];\n",
       "        if (cell.cell_type === 'code'){\n",
       "            for (var j=0; j<cell.output_area.outputs.length; j++) {\n",
       "                var data = cell.output_area.outputs[j];\n",
       "                if (data.data) {\n",
       "                    // IPython >= 3 moved mimebundle to data attribute of output\n",
       "                    data = data.data;\n",
       "                }\n",
       "                if (data['text/html'] == html_output) {\n",
       "                    return [cell, data, j];\n",
       "                }\n",
       "            }\n",
       "        }\n",
       "    }\n",
       "}\n",
       "\n",
       "// Register the function which deals with the matplotlib target/channel.\n",
       "// The kernel may be null if the page has been refreshed.\n",
       "if (IPython.notebook.kernel != null) {\n",
       "    IPython.notebook.kernel.comm_manager.register_target('matplotlib', mpl.mpl_figure_comm);\n",
       "}\n"
      ],
      "text/plain": [
       "<IPython.core.display.Javascript object>"
      ]
     },
     "metadata": {},
     "output_type": "display_data"
    },
    {
     "data": {
      "text/html": [
       "<img src=\"data:image/png;base64,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\" width=\"900\">"
      ],
      "text/plain": [
       "<IPython.core.display.HTML object>"
      ]
     },
     "metadata": {},
     "output_type": "display_data"
    },
    {
     "data": {
      "application/vnd.jupyter.widget-view+json": {
       "model_id": "9a23f290f65448499a06a77838cf3951",
       "version_major": 2,
       "version_minor": 0
      },
      "text/plain": [
       "interactive(children=(IntSlider(value=1, description='n', max=64, min=1), Output()), _dom_classes=('widget-int…"
      ]
     },
     "metadata": {},
     "output_type": "display_data"
    }
   ],
   "source": [
    "fig, ax = plt.subplots(1,1)\n",
    "fig.set_size_inches(9, 6)\n",
    "\n",
    "def operation(rv, n):\n",
    "    return numpy.sum(rv, axis=1)/numpy.sqrt(n)\n",
    "\n",
    "@interact(n=(1, 64, 1))\n",
    "def central_limit_widget(n=1, ):\n",
    "    number_samples = 10_000\n",
    "    x = numpy.linspace(-3, 3, 1001)\n",
    "    rv = 1*(stats.uniform.rvs(size=(int(number_samples),n))-0.5)\n",
    "    rv = operation(rv, n)\n",
    "    ax.cla()\n",
    "    _ = plt.hist(rv, 50, density=True, facecolor='b', alpha=0.3, label='Raw Data')\n",
    "    ax.set_xlim((min(x), max(x)))\n",
    "    ax.set_ylim((0, 1.5))\n",
    "    fig.suptitle(f'Central Limit Theorem\\nUniform, Degree: {n}')\n",
    "    ax.set_xlabel('Value')\n",
    "    # Fit Uniform\n",
    "    loc, scale = stats.uniform.fit(rv)\n",
    "    p_x_uniform = stats.uniform.pdf(x, loc=loc, scale=scale)\n",
    "    ax.plot(x, p_x_uniform, '--k', label=f'Uniform(loc={loc:.2f}, scale={scale:.2f})')\n",
    "    # Fit Gaussian\n",
    "    mu, sigma = stats.norm.fit(rv)\n",
    "    p_x_uniform = stats.norm.pdf(x, loc=mu, scale=sigma)\n",
    "    ax.plot(x, p_x_uniform, '--g', label=f'Gaussian({mu:.2f}, {sigma:.2f})')\n",
    "    ax.legend()"
   ]
  },
  {
   "cell_type": "markdown",
   "metadata": {
    "cell_style": "split",
    "slideshow": {
     "slide_type": "subslide"
    }
   },
   "source": [
    "### Operations on Random Variables\n",
    "\n",
    "#### Shifts, Scalings, Abs, and Squared\n",
    "\n",
    "#### Addition of two RV's\n",
    "\n",
    "Convolve the PDF's \n",
    "\n",
    "+ Sorry for the recycled plots"
   ]
  },
  {
   "cell_type": "markdown",
   "metadata": {
    "cell_style": "split",
    "slideshow": {
     "slide_type": "-"
    }
   },
   "source": []
  },
  {
   "cell_type": "markdown",
   "metadata": {
    "slideshow": {
     "slide_type": "subslide"
    }
   },
   "source": [
    "<img src=\"rect_rect_conv_auto.gif\" width=\"100%\">"
   ]
  },
  {
   "cell_type": "markdown",
   "metadata": {
    "slideshow": {
     "slide_type": "subslide"
    }
   },
   "source": [
    "<img src=\"rect_exp_conv_auto.gif\" width=\"100%\">"
   ]
  },
  {
   "cell_type": "markdown",
   "metadata": {
    "slideshow": {
     "slide_type": "subslide"
    }
   },
   "source": [
    "<img src=\"exp_exp_conv_auto.gif\" width=\"100%\">"
   ]
  },
  {
   "cell_type": "markdown",
   "metadata": {
    "slideshow": {
     "slide_type": "subslide"
    }
   },
   "source": [
    "<img src=\"rect_gaussian_conv_auto.gif\" width=\"100%\">"
   ]
  },
  {
   "cell_type": "markdown",
   "metadata": {
    "slideshow": {
     "slide_type": "subslide"
    }
   },
   "source": [
    "<img src=\"gaussian_gaussian_conv_auto.gif\" width=\"100%\">"
   ]
  },
  {
   "cell_type": "code",
   "execution_count": null,
   "metadata": {},
   "outputs": [],
   "source": []
  },
  {
   "cell_type": "code",
   "execution_count": null,
   "metadata": {},
   "outputs": [],
   "source": []
  },
  {
   "cell_type": "code",
   "execution_count": null,
   "metadata": {},
   "outputs": [],
   "source": []
  },
  {
   "cell_type": "code",
   "execution_count": null,
   "metadata": {},
   "outputs": [],
   "source": []
  },
  {
   "cell_type": "markdown",
   "metadata": {
    "cell_style": "split",
    "slideshow": {
     "slide_type": "slide"
    }
   },
   "source": [
    "    \n",
    "## Basic Linear Algebra\n",
    "  + Vector Operations\n",
    "    + Addition\n",
    "    + Scaler Multiplication\n",
    "    + Vector Dimension Span\n",
    "  + Vector Products\n",
    "    + Elementwise Product\n",
    "    + Outter Product\n",
    "    + Inner Product\n",
    "    "
   ]
  },
  {
   "cell_type": "markdown",
   "metadata": {
    "cell_style": "split",
    "slideshow": {
     "slide_type": "fragment"
    }
   },
   "source": [
    "+ Cauchy–Schwarz inequality\n",
    "+ Matched Filter\n",
    "+ Convolution\n",
    "+ Matrix Operations\n",
    "+ Multivariate Random Variables\n",
    "+ Correlation of random vectors\n",
    "+ Orthogonal + Normal = Orthonormal\n",
    "+ Inverse\n",
    "+ Decomposistions"
   ]
  },
  {
   "cell_type": "code",
   "execution_count": null,
   "metadata": {
    "slideshow": {
     "slide_type": "notes"
    }
   },
   "outputs": [],
   "source": []
  },
  {
   "cell_type": "markdown",
   "metadata": {
    "cell_style": "split",
    "slideshow": {
     "slide_type": "subslide"
    }
   },
   "source": [
    "## What is a Vector\n",
    "\n",
    "\n",
    "$$  \\vec{V} \\quad = \\quad [\\:v_1, \\:v_2, \\: _\\cdots, \\: v_n ] $$\n",
    "\n",
    "+ List of numbers with associated operations\n",
    "  + Direction and magnitude\n",
    "+ Often thought of as spacial\n",
    "  + Does not have to be ...\n",
    "+ Associated Operations\n",
    "  + More than \\( Add, Subtract, Multiply, Divide \\)\n"
   ]
  },
  {
   "cell_type": "markdown",
   "metadata": {
    "cell_style": "split",
    "slideshow": {
     "slide_type": "-"
    }
   },
   "source": [
    "\n",
    "\n",
    "\n",
    "\n",
    "<img src=\"vector.png?3\" width=\"75%\">"
   ]
  },
  {
   "cell_type": "markdown",
   "metadata": {
    "slideshow": {
     "slide_type": "subslide"
    }
   },
   "source": [
    "### Where to get a vector?\n",
    "\n",
    "##### Look in the Time Series\n",
    "Want a n-D vector of data, grab n-samples of a time series at time t.\n",
    "\n",
    "#####  Bored of that data\n",
    "Grab n-samples at t+1"
   ]
  },
  {
   "cell_type": "markdown",
   "metadata": {
    "cell_style": "split",
    "slideshow": {
     "slide_type": "subslide"
    }
   },
   "source": [
    "### Vector Addition\n",
    "\n",
    "$$ \\vec{U} = \\vec{V} + \\vec{W} $$\n",
    "\n",
    "$$ \\begin{matrix}\n",
    "\\; \\quad \\vec{V} \\quad = \\quad [\\:v_1, \\:v_2, \\: _\\cdots, \\: v_n ] \\\\\n",
    "+ \\quad \\vec{W} \\quad = \\quad [\\:w_1, \\:w_2, \\: _\\cdots, \\: w_n ] \\\\ \\hline\n",
    "\\quad \\vec{U} \\quad = \\quad [\\:u_1, \\:u_2, \\: _\\cdots, \\: u_n ]\n",
    "\\end{matrix}\n",
    "$$\n",
    "\n",
    "$$\n",
    "u_1=v_1+w_1 \\: , \\: u_2=v_2+w_2 \\: , \\: _\\cdots \\: , \\: u_n=v_n+w_n \n",
    "$$\n",
    "\n",
    "+ Dimentions of each vector?"
   ]
  },
  {
   "cell_type": "markdown",
   "metadata": {
    "cell_style": "split",
    "slideshow": {
     "slide_type": "-"
    }
   },
   "source": [
    "\n",
    "\n",
    "<img src=\"vector_addition.png?1\" width=\"85%\">"
   ]
  },
  {
   "cell_type": "code",
   "execution_count": 163,
   "metadata": {
    "slideshow": {
     "slide_type": "subslide"
    }
   },
   "outputs": [
    {
     "data": {
      "application/javascript": [
       "/* Put everything inside the global mpl namespace */\n",
       "window.mpl = {};\n",
       "\n",
       "\n",
       "mpl.get_websocket_type = function() {\n",
       "    if (typeof(WebSocket) !== 'undefined') {\n",
       "        return WebSocket;\n",
       "    } else if (typeof(MozWebSocket) !== 'undefined') {\n",
       "        return MozWebSocket;\n",
       "    } else {\n",
       "        alert('Your browser does not have WebSocket support. ' +\n",
       "              'Please try Chrome, Safari or Firefox ≥ 6. ' +\n",
       "              'Firefox 4 and 5 are also supported but you ' +\n",
       "              'have to enable WebSockets in about:config.');\n",
       "    };\n",
       "}\n",
       "\n",
       "mpl.figure = function(figure_id, websocket, ondownload, parent_element) {\n",
       "    this.id = figure_id;\n",
       "\n",
       "    this.ws = websocket;\n",
       "\n",
       "    this.supports_binary = (this.ws.binaryType != undefined);\n",
       "\n",
       "    if (!this.supports_binary) {\n",
       "        var warnings = document.getElementById(\"mpl-warnings\");\n",
       "        if (warnings) {\n",
       "            warnings.style.display = 'block';\n",
       "            warnings.textContent = (\n",
       "                \"This browser does not support binary websocket messages. \" +\n",
       "                    \"Performance may be slow.\");\n",
       "        }\n",
       "    }\n",
       "\n",
       "    this.imageObj = new Image();\n",
       "\n",
       "    this.context = undefined;\n",
       "    this.message = undefined;\n",
       "    this.canvas = undefined;\n",
       "    this.rubberband_canvas = undefined;\n",
       "    this.rubberband_context = undefined;\n",
       "    this.format_dropdown = undefined;\n",
       "\n",
       "    this.image_mode = 'full';\n",
       "\n",
       "    this.root = $('<div/>');\n",
       "    this._root_extra_style(this.root)\n",
       "    this.root.attr('style', 'display: inline-block');\n",
       "\n",
       "    $(parent_element).append(this.root);\n",
       "\n",
       "    this._init_header(this);\n",
       "    this._init_canvas(this);\n",
       "    this._init_toolbar(this);\n",
       "\n",
       "    var fig = this;\n",
       "\n",
       "    this.waiting = false;\n",
       "\n",
       "    this.ws.onopen =  function () {\n",
       "            fig.send_message(\"supports_binary\", {value: fig.supports_binary});\n",
       "            fig.send_message(\"send_image_mode\", {});\n",
       "            if (mpl.ratio != 1) {\n",
       "                fig.send_message(\"set_dpi_ratio\", {'dpi_ratio': mpl.ratio});\n",
       "            }\n",
       "            fig.send_message(\"refresh\", {});\n",
       "        }\n",
       "\n",
       "    this.imageObj.onload = function() {\n",
       "            if (fig.image_mode == 'full') {\n",
       "                // Full images could contain transparency (where diff images\n",
       "                // almost always do), so we need to clear the canvas so that\n",
       "                // there is no ghosting.\n",
       "                fig.context.clearRect(0, 0, fig.canvas.width, fig.canvas.height);\n",
       "            }\n",
       "            fig.context.drawImage(fig.imageObj, 0, 0);\n",
       "        };\n",
       "\n",
       "    this.imageObj.onunload = function() {\n",
       "        fig.ws.close();\n",
       "    }\n",
       "\n",
       "    this.ws.onmessage = this._make_on_message_function(this);\n",
       "\n",
       "    this.ondownload = ondownload;\n",
       "}\n",
       "\n",
       "mpl.figure.prototype._init_header = function() {\n",
       "    var titlebar = $(\n",
       "        '<div class=\"ui-dialog-titlebar ui-widget-header ui-corner-all ' +\n",
       "        'ui-helper-clearfix\"/>');\n",
       "    var titletext = $(\n",
       "        '<div class=\"ui-dialog-title\" style=\"width: 100%; ' +\n",
       "        'text-align: center; padding: 3px;\"/>');\n",
       "    titlebar.append(titletext)\n",
       "    this.root.append(titlebar);\n",
       "    this.header = titletext[0];\n",
       "}\n",
       "\n",
       "\n",
       "\n",
       "mpl.figure.prototype._canvas_extra_style = function(canvas_div) {\n",
       "\n",
       "}\n",
       "\n",
       "\n",
       "mpl.figure.prototype._root_extra_style = function(canvas_div) {\n",
       "\n",
       "}\n",
       "\n",
       "mpl.figure.prototype._init_canvas = function() {\n",
       "    var fig = this;\n",
       "\n",
       "    var canvas_div = $('<div/>');\n",
       "\n",
       "    canvas_div.attr('style', 'position: relative; clear: both; outline: 0');\n",
       "\n",
       "    function canvas_keyboard_event(event) {\n",
       "        return fig.key_event(event, event['data']);\n",
       "    }\n",
       "\n",
       "    canvas_div.keydown('key_press', canvas_keyboard_event);\n",
       "    canvas_div.keyup('key_release', canvas_keyboard_event);\n",
       "    this.canvas_div = canvas_div\n",
       "    this._canvas_extra_style(canvas_div)\n",
       "    this.root.append(canvas_div);\n",
       "\n",
       "    var canvas = $('<canvas/>');\n",
       "    canvas.addClass('mpl-canvas');\n",
       "    canvas.attr('style', \"left: 0; top: 0; z-index: 0; outline: 0\")\n",
       "\n",
       "    this.canvas = canvas[0];\n",
       "    this.context = canvas[0].getContext(\"2d\");\n",
       "\n",
       "    var backingStore = this.context.backingStorePixelRatio ||\n",
       "\tthis.context.webkitBackingStorePixelRatio ||\n",
       "\tthis.context.mozBackingStorePixelRatio ||\n",
       "\tthis.context.msBackingStorePixelRatio ||\n",
       "\tthis.context.oBackingStorePixelRatio ||\n",
       "\tthis.context.backingStorePixelRatio || 1;\n",
       "\n",
       "    mpl.ratio = (window.devicePixelRatio || 1) / backingStore;\n",
       "\n",
       "    var rubberband = $('<canvas/>');\n",
       "    rubberband.attr('style', \"position: absolute; left: 0; top: 0; z-index: 1;\")\n",
       "\n",
       "    var pass_mouse_events = true;\n",
       "\n",
       "    canvas_div.resizable({\n",
       "        start: function(event, ui) {\n",
       "            pass_mouse_events = false;\n",
       "        },\n",
       "        resize: function(event, ui) {\n",
       "            fig.request_resize(ui.size.width, ui.size.height);\n",
       "        },\n",
       "        stop: function(event, ui) {\n",
       "            pass_mouse_events = true;\n",
       "            fig.request_resize(ui.size.width, ui.size.height);\n",
       "        },\n",
       "    });\n",
       "\n",
       "    function mouse_event_fn(event) {\n",
       "        if (pass_mouse_events)\n",
       "            return fig.mouse_event(event, event['data']);\n",
       "    }\n",
       "\n",
       "    rubberband.mousedown('button_press', mouse_event_fn);\n",
       "    rubberband.mouseup('button_release', mouse_event_fn);\n",
       "    // Throttle sequential mouse events to 1 every 20ms.\n",
       "    rubberband.mousemove('motion_notify', mouse_event_fn);\n",
       "\n",
       "    rubberband.mouseenter('figure_enter', mouse_event_fn);\n",
       "    rubberband.mouseleave('figure_leave', mouse_event_fn);\n",
       "\n",
       "    canvas_div.on(\"wheel\", function (event) {\n",
       "        event = event.originalEvent;\n",
       "        event['data'] = 'scroll'\n",
       "        if (event.deltaY < 0) {\n",
       "            event.step = 1;\n",
       "        } else {\n",
       "            event.step = -1;\n",
       "        }\n",
       "        mouse_event_fn(event);\n",
       "    });\n",
       "\n",
       "    canvas_div.append(canvas);\n",
       "    canvas_div.append(rubberband);\n",
       "\n",
       "    this.rubberband = rubberband;\n",
       "    this.rubberband_canvas = rubberband[0];\n",
       "    this.rubberband_context = rubberband[0].getContext(\"2d\");\n",
       "    this.rubberband_context.strokeStyle = \"#000000\";\n",
       "\n",
       "    this._resize_canvas = function(width, height) {\n",
       "        // Keep the size of the canvas, canvas container, and rubber band\n",
       "        // canvas in synch.\n",
       "        canvas_div.css('width', width)\n",
       "        canvas_div.css('height', height)\n",
       "\n",
       "        canvas.attr('width', width * mpl.ratio);\n",
       "        canvas.attr('height', height * mpl.ratio);\n",
       "        canvas.attr('style', 'width: ' + width + 'px; height: ' + height + 'px;');\n",
       "\n",
       "        rubberband.attr('width', width);\n",
       "        rubberband.attr('height', height);\n",
       "    }\n",
       "\n",
       "    // Set the figure to an initial 600x600px, this will subsequently be updated\n",
       "    // upon first draw.\n",
       "    this._resize_canvas(600, 600);\n",
       "\n",
       "    // Disable right mouse context menu.\n",
       "    $(this.rubberband_canvas).bind(\"contextmenu\",function(e){\n",
       "        return false;\n",
       "    });\n",
       "\n",
       "    function set_focus () {\n",
       "        canvas.focus();\n",
       "        canvas_div.focus();\n",
       "    }\n",
       "\n",
       "    window.setTimeout(set_focus, 100);\n",
       "}\n",
       "\n",
       "mpl.figure.prototype._init_toolbar = function() {\n",
       "    var fig = this;\n",
       "\n",
       "    var nav_element = $('<div/>');\n",
       "    nav_element.attr('style', 'width: 100%');\n",
       "    this.root.append(nav_element);\n",
       "\n",
       "    // Define a callback function for later on.\n",
       "    function toolbar_event(event) {\n",
       "        return fig.toolbar_button_onclick(event['data']);\n",
       "    }\n",
       "    function toolbar_mouse_event(event) {\n",
       "        return fig.toolbar_button_onmouseover(event['data']);\n",
       "    }\n",
       "\n",
       "    for(var toolbar_ind in mpl.toolbar_items) {\n",
       "        var name = mpl.toolbar_items[toolbar_ind][0];\n",
       "        var tooltip = mpl.toolbar_items[toolbar_ind][1];\n",
       "        var image = mpl.toolbar_items[toolbar_ind][2];\n",
       "        var method_name = mpl.toolbar_items[toolbar_ind][3];\n",
       "\n",
       "        if (!name) {\n",
       "            // put a spacer in here.\n",
       "            continue;\n",
       "        }\n",
       "        var button = $('<button/>');\n",
       "        button.addClass('ui-button ui-widget ui-state-default ui-corner-all ' +\n",
       "                        'ui-button-icon-only');\n",
       "        button.attr('role', 'button');\n",
       "        button.attr('aria-disabled', 'false');\n",
       "        button.click(method_name, toolbar_event);\n",
       "        button.mouseover(tooltip, toolbar_mouse_event);\n",
       "\n",
       "        var icon_img = $('<span/>');\n",
       "        icon_img.addClass('ui-button-icon-primary ui-icon');\n",
       "        icon_img.addClass(image);\n",
       "        icon_img.addClass('ui-corner-all');\n",
       "\n",
       "        var tooltip_span = $('<span/>');\n",
       "        tooltip_span.addClass('ui-button-text');\n",
       "        tooltip_span.html(tooltip);\n",
       "\n",
       "        button.append(icon_img);\n",
       "        button.append(tooltip_span);\n",
       "\n",
       "        nav_element.append(button);\n",
       "    }\n",
       "\n",
       "    var fmt_picker_span = $('<span/>');\n",
       "\n",
       "    var fmt_picker = $('<select/>');\n",
       "    fmt_picker.addClass('mpl-toolbar-option ui-widget ui-widget-content');\n",
       "    fmt_picker_span.append(fmt_picker);\n",
       "    nav_element.append(fmt_picker_span);\n",
       "    this.format_dropdown = fmt_picker[0];\n",
       "\n",
       "    for (var ind in mpl.extensions) {\n",
       "        var fmt = mpl.extensions[ind];\n",
       "        var option = $(\n",
       "            '<option/>', {selected: fmt === mpl.default_extension}).html(fmt);\n",
       "        fmt_picker.append(option);\n",
       "    }\n",
       "\n",
       "    // Add hover states to the ui-buttons\n",
       "    $( \".ui-button\" ).hover(\n",
       "        function() { $(this).addClass(\"ui-state-hover\");},\n",
       "        function() { $(this).removeClass(\"ui-state-hover\");}\n",
       "    );\n",
       "\n",
       "    var status_bar = $('<span class=\"mpl-message\"/>');\n",
       "    nav_element.append(status_bar);\n",
       "    this.message = status_bar[0];\n",
       "}\n",
       "\n",
       "mpl.figure.prototype.request_resize = function(x_pixels, y_pixels) {\n",
       "    // Request matplotlib to resize the figure. Matplotlib will then trigger a resize in the client,\n",
       "    // which will in turn request a refresh of the image.\n",
       "    this.send_message('resize', {'width': x_pixels, 'height': y_pixels});\n",
       "}\n",
       "\n",
       "mpl.figure.prototype.send_message = function(type, properties) {\n",
       "    properties['type'] = type;\n",
       "    properties['figure_id'] = this.id;\n",
       "    this.ws.send(JSON.stringify(properties));\n",
       "}\n",
       "\n",
       "mpl.figure.prototype.send_draw_message = function() {\n",
       "    if (!this.waiting) {\n",
       "        this.waiting = true;\n",
       "        this.ws.send(JSON.stringify({type: \"draw\", figure_id: this.id}));\n",
       "    }\n",
       "}\n",
       "\n",
       "\n",
       "mpl.figure.prototype.handle_save = function(fig, msg) {\n",
       "    var format_dropdown = fig.format_dropdown;\n",
       "    var format = format_dropdown.options[format_dropdown.selectedIndex].value;\n",
       "    fig.ondownload(fig, format);\n",
       "}\n",
       "\n",
       "\n",
       "mpl.figure.prototype.handle_resize = function(fig, msg) {\n",
       "    var size = msg['size'];\n",
       "    if (size[0] != fig.canvas.width || size[1] != fig.canvas.height) {\n",
       "        fig._resize_canvas(size[0], size[1]);\n",
       "        fig.send_message(\"refresh\", {});\n",
       "    };\n",
       "}\n",
       "\n",
       "mpl.figure.prototype.handle_rubberband = function(fig, msg) {\n",
       "    var x0 = msg['x0'] / mpl.ratio;\n",
       "    var y0 = (fig.canvas.height - msg['y0']) / mpl.ratio;\n",
       "    var x1 = msg['x1'] / mpl.ratio;\n",
       "    var y1 = (fig.canvas.height - msg['y1']) / mpl.ratio;\n",
       "    x0 = Math.floor(x0) + 0.5;\n",
       "    y0 = Math.floor(y0) + 0.5;\n",
       "    x1 = Math.floor(x1) + 0.5;\n",
       "    y1 = Math.floor(y1) + 0.5;\n",
       "    var min_x = Math.min(x0, x1);\n",
       "    var min_y = Math.min(y0, y1);\n",
       "    var width = Math.abs(x1 - x0);\n",
       "    var height = Math.abs(y1 - y0);\n",
       "\n",
       "    fig.rubberband_context.clearRect(\n",
       "        0, 0, fig.canvas.width / mpl.ratio, fig.canvas.height / mpl.ratio);\n",
       "\n",
       "    fig.rubberband_context.strokeRect(min_x, min_y, width, height);\n",
       "}\n",
       "\n",
       "mpl.figure.prototype.handle_figure_label = function(fig, msg) {\n",
       "    // Updates the figure title.\n",
       "    fig.header.textContent = msg['label'];\n",
       "}\n",
       "\n",
       "mpl.figure.prototype.handle_cursor = function(fig, msg) {\n",
       "    var cursor = msg['cursor'];\n",
       "    switch(cursor)\n",
       "    {\n",
       "    case 0:\n",
       "        cursor = 'pointer';\n",
       "        break;\n",
       "    case 1:\n",
       "        cursor = 'default';\n",
       "        break;\n",
       "    case 2:\n",
       "        cursor = 'crosshair';\n",
       "        break;\n",
       "    case 3:\n",
       "        cursor = 'move';\n",
       "        break;\n",
       "    }\n",
       "    fig.rubberband_canvas.style.cursor = cursor;\n",
       "}\n",
       "\n",
       "mpl.figure.prototype.handle_message = function(fig, msg) {\n",
       "    fig.message.textContent = msg['message'];\n",
       "}\n",
       "\n",
       "mpl.figure.prototype.handle_draw = function(fig, msg) {\n",
       "    // Request the server to send over a new figure.\n",
       "    fig.send_draw_message();\n",
       "}\n",
       "\n",
       "mpl.figure.prototype.handle_image_mode = function(fig, msg) {\n",
       "    fig.image_mode = msg['mode'];\n",
       "}\n",
       "\n",
       "mpl.figure.prototype.updated_canvas_event = function() {\n",
       "    // Called whenever the canvas gets updated.\n",
       "    this.send_message(\"ack\", {});\n",
       "}\n",
       "\n",
       "// A function to construct a web socket function for onmessage handling.\n",
       "// Called in the figure constructor.\n",
       "mpl.figure.prototype._make_on_message_function = function(fig) {\n",
       "    return function socket_on_message(evt) {\n",
       "        if (evt.data instanceof Blob) {\n",
       "            /* FIXME: We get \"Resource interpreted as Image but\n",
       "             * transferred with MIME type text/plain:\" errors on\n",
       "             * Chrome.  But how to set the MIME type?  It doesn't seem\n",
       "             * to be part of the websocket stream */\n",
       "            evt.data.type = \"image/png\";\n",
       "\n",
       "            /* Free the memory for the previous frames */\n",
       "            if (fig.imageObj.src) {\n",
       "                (window.URL || window.webkitURL).revokeObjectURL(\n",
       "                    fig.imageObj.src);\n",
       "            }\n",
       "\n",
       "            fig.imageObj.src = (window.URL || window.webkitURL).createObjectURL(\n",
       "                evt.data);\n",
       "            fig.updated_canvas_event();\n",
       "            fig.waiting = false;\n",
       "            return;\n",
       "        }\n",
       "        else if (typeof evt.data === 'string' && evt.data.slice(0, 21) == \"data:image/png;base64\") {\n",
       "            fig.imageObj.src = evt.data;\n",
       "            fig.updated_canvas_event();\n",
       "            fig.waiting = false;\n",
       "            return;\n",
       "        }\n",
       "\n",
       "        var msg = JSON.parse(evt.data);\n",
       "        var msg_type = msg['type'];\n",
       "\n",
       "        // Call the  \"handle_{type}\" callback, which takes\n",
       "        // the figure and JSON message as its only arguments.\n",
       "        try {\n",
       "            var callback = fig[\"handle_\" + msg_type];\n",
       "        } catch (e) {\n",
       "            console.log(\"No handler for the '\" + msg_type + \"' message type: \", msg);\n",
       "            return;\n",
       "        }\n",
       "\n",
       "        if (callback) {\n",
       "            try {\n",
       "                // console.log(\"Handling '\" + msg_type + \"' message: \", msg);\n",
       "                callback(fig, msg);\n",
       "            } catch (e) {\n",
       "                console.log(\"Exception inside the 'handler_\" + msg_type + \"' callback:\", e, e.stack, msg);\n",
       "            }\n",
       "        }\n",
       "    };\n",
       "}\n",
       "\n",
       "// from http://stackoverflow.com/questions/1114465/getting-mouse-location-in-canvas\n",
       "mpl.findpos = function(e) {\n",
       "    //this section is from http://www.quirksmode.org/js/events_properties.html\n",
       "    var targ;\n",
       "    if (!e)\n",
       "        e = window.event;\n",
       "    if (e.target)\n",
       "        targ = e.target;\n",
       "    else if (e.srcElement)\n",
       "        targ = e.srcElement;\n",
       "    if (targ.nodeType == 3) // defeat Safari bug\n",
       "        targ = targ.parentNode;\n",
       "\n",
       "    // jQuery normalizes the pageX and pageY\n",
       "    // pageX,Y are the mouse positions relative to the document\n",
       "    // offset() returns the position of the element relative to the document\n",
       "    var x = e.pageX - $(targ).offset().left;\n",
       "    var y = e.pageY - $(targ).offset().top;\n",
       "\n",
       "    return {\"x\": x, \"y\": y};\n",
       "};\n",
       "\n",
       "/*\n",
       " * return a copy of an object with only non-object keys\n",
       " * we need this to avoid circular references\n",
       " * http://stackoverflow.com/a/24161582/3208463\n",
       " */\n",
       "function simpleKeys (original) {\n",
       "  return Object.keys(original).reduce(function (obj, key) {\n",
       "    if (typeof original[key] !== 'object')\n",
       "        obj[key] = original[key]\n",
       "    return obj;\n",
       "  }, {});\n",
       "}\n",
       "\n",
       "mpl.figure.prototype.mouse_event = function(event, name) {\n",
       "    var canvas_pos = mpl.findpos(event)\n",
       "\n",
       "    if (name === 'button_press')\n",
       "    {\n",
       "        this.canvas.focus();\n",
       "        this.canvas_div.focus();\n",
       "    }\n",
       "\n",
       "    var x = canvas_pos.x * mpl.ratio;\n",
       "    var y = canvas_pos.y * mpl.ratio;\n",
       "\n",
       "    this.send_message(name, {x: x, y: y, button: event.button,\n",
       "                             step: event.step,\n",
       "                             guiEvent: simpleKeys(event)});\n",
       "\n",
       "    /* This prevents the web browser from automatically changing to\n",
       "     * the text insertion cursor when the button is pressed.  We want\n",
       "     * to control all of the cursor setting manually through the\n",
       "     * 'cursor' event from matplotlib */\n",
       "    event.preventDefault();\n",
       "    return false;\n",
       "}\n",
       "\n",
       "mpl.figure.prototype._key_event_extra = function(event, name) {\n",
       "    // Handle any extra behaviour associated with a key event\n",
       "}\n",
       "\n",
       "mpl.figure.prototype.key_event = function(event, name) {\n",
       "\n",
       "    // Prevent repeat events\n",
       "    if (name == 'key_press')\n",
       "    {\n",
       "        if (event.which === this._key)\n",
       "            return;\n",
       "        else\n",
       "            this._key = event.which;\n",
       "    }\n",
       "    if (name == 'key_release')\n",
       "        this._key = null;\n",
       "\n",
       "    var value = '';\n",
       "    if (event.ctrlKey && event.which != 17)\n",
       "        value += \"ctrl+\";\n",
       "    if (event.altKey && event.which != 18)\n",
       "        value += \"alt+\";\n",
       "    if (event.shiftKey && event.which != 16)\n",
       "        value += \"shift+\";\n",
       "\n",
       "    value += 'k';\n",
       "    value += event.which.toString();\n",
       "\n",
       "    this._key_event_extra(event, name);\n",
       "\n",
       "    this.send_message(name, {key: value,\n",
       "                             guiEvent: simpleKeys(event)});\n",
       "    return false;\n",
       "}\n",
       "\n",
       "mpl.figure.prototype.toolbar_button_onclick = function(name) {\n",
       "    if (name == 'download') {\n",
       "        this.handle_save(this, null);\n",
       "    } else {\n",
       "        this.send_message(\"toolbar_button\", {name: name});\n",
       "    }\n",
       "};\n",
       "\n",
       "mpl.figure.prototype.toolbar_button_onmouseover = function(tooltip) {\n",
       "    this.message.textContent = tooltip;\n",
       "};\n",
       "mpl.toolbar_items = [[\"Home\", \"Reset original view\", \"fa fa-home icon-home\", \"home\"], [\"Back\", \"Back to previous view\", \"fa fa-arrow-left icon-arrow-left\", \"back\"], [\"Forward\", \"Forward to next view\", \"fa fa-arrow-right icon-arrow-right\", \"forward\"], [\"\", \"\", \"\", \"\"], [\"Pan\", \"Pan axes with left mouse, zoom with right\", \"fa fa-arrows icon-move\", \"pan\"], [\"Zoom\", \"Zoom to rectangle\", \"fa fa-square-o icon-check-empty\", \"zoom\"], [\"\", \"\", \"\", \"\"], [\"Download\", \"Download plot\", \"fa fa-floppy-o icon-save\", \"download\"]];\n",
       "\n",
       "mpl.extensions = [\"eps\", \"pdf\", \"png\", \"ps\", \"raw\", \"svg\"];\n",
       "\n",
       "mpl.default_extension = \"png\";var comm_websocket_adapter = function(comm) {\n",
       "    // Create a \"websocket\"-like object which calls the given IPython comm\n",
       "    // object with the appropriate methods. Currently this is a non binary\n",
       "    // socket, so there is still some room for performance tuning.\n",
       "    var ws = {};\n",
       "\n",
       "    ws.close = function() {\n",
       "        comm.close()\n",
       "    };\n",
       "    ws.send = function(m) {\n",
       "        //console.log('sending', m);\n",
       "        comm.send(m);\n",
       "    };\n",
       "    // Register the callback with on_msg.\n",
       "    comm.on_msg(function(msg) {\n",
       "        //console.log('receiving', msg['content']['data'], msg);\n",
       "        // Pass the mpl event to the overridden (by mpl) onmessage function.\n",
       "        ws.onmessage(msg['content']['data'])\n",
       "    });\n",
       "    return ws;\n",
       "}\n",
       "\n",
       "mpl.mpl_figure_comm = function(comm, msg) {\n",
       "    // This is the function which gets called when the mpl process\n",
       "    // starts-up an IPython Comm through the \"matplotlib\" channel.\n",
       "\n",
       "    var id = msg.content.data.id;\n",
       "    // Get hold of the div created by the display call when the Comm\n",
       "    // socket was opened in Python.\n",
       "    var element = $(\"#\" + id);\n",
       "    var ws_proxy = comm_websocket_adapter(comm)\n",
       "\n",
       "    function ondownload(figure, format) {\n",
       "        window.open(figure.imageObj.src);\n",
       "    }\n",
       "\n",
       "    var fig = new mpl.figure(id, ws_proxy,\n",
       "                           ondownload,\n",
       "                           element.get(0));\n",
       "\n",
       "    // Call onopen now - mpl needs it, as it is assuming we've passed it a real\n",
       "    // web socket which is closed, not our websocket->open comm proxy.\n",
       "    ws_proxy.onopen();\n",
       "\n",
       "    fig.parent_element = element.get(0);\n",
       "    fig.cell_info = mpl.find_output_cell(\"<div id='\" + id + \"'></div>\");\n",
       "    if (!fig.cell_info) {\n",
       "        console.error(\"Failed to find cell for figure\", id, fig);\n",
       "        return;\n",
       "    }\n",
       "\n",
       "    var output_index = fig.cell_info[2]\n",
       "    var cell = fig.cell_info[0];\n",
       "\n",
       "};\n",
       "\n",
       "mpl.figure.prototype.handle_close = function(fig, msg) {\n",
       "    var width = fig.canvas.width/mpl.ratio\n",
       "    fig.root.unbind('remove')\n",
       "\n",
       "    // Update the output cell to use the data from the current canvas.\n",
       "    fig.push_to_output();\n",
       "    var dataURL = fig.canvas.toDataURL();\n",
       "    // Re-enable the keyboard manager in IPython - without this line, in FF,\n",
       "    // the notebook keyboard shortcuts fail.\n",
       "    IPython.keyboard_manager.enable()\n",
       "    $(fig.parent_element).html('<img src=\"' + dataURL + '\" width=\"' + width + '\">');\n",
       "    fig.close_ws(fig, msg);\n",
       "}\n",
       "\n",
       "mpl.figure.prototype.close_ws = function(fig, msg){\n",
       "    fig.send_message('closing', msg);\n",
       "    // fig.ws.close()\n",
       "}\n",
       "\n",
       "mpl.figure.prototype.push_to_output = function(remove_interactive) {\n",
       "    // Turn the data on the canvas into data in the output cell.\n",
       "    var width = this.canvas.width/mpl.ratio\n",
       "    var dataURL = this.canvas.toDataURL();\n",
       "    this.cell_info[1]['text/html'] = '<img src=\"' + dataURL + '\" width=\"' + width + '\">';\n",
       "}\n",
       "\n",
       "mpl.figure.prototype.updated_canvas_event = function() {\n",
       "    // Tell IPython that the notebook contents must change.\n",
       "    IPython.notebook.set_dirty(true);\n",
       "    this.send_message(\"ack\", {});\n",
       "    var fig = this;\n",
       "    // Wait a second, then push the new image to the DOM so\n",
       "    // that it is saved nicely (might be nice to debounce this).\n",
       "    setTimeout(function () { fig.push_to_output() }, 1000);\n",
       "}\n",
       "\n",
       "mpl.figure.prototype._init_toolbar = function() {\n",
       "    var fig = this;\n",
       "\n",
       "    var nav_element = $('<div/>');\n",
       "    nav_element.attr('style', 'width: 100%');\n",
       "    this.root.append(nav_element);\n",
       "\n",
       "    // Define a callback function for later on.\n",
       "    function toolbar_event(event) {\n",
       "        return fig.toolbar_button_onclick(event['data']);\n",
       "    }\n",
       "    function toolbar_mouse_event(event) {\n",
       "        return fig.toolbar_button_onmouseover(event['data']);\n",
       "    }\n",
       "\n",
       "    for(var toolbar_ind in mpl.toolbar_items){\n",
       "        var name = mpl.toolbar_items[toolbar_ind][0];\n",
       "        var tooltip = mpl.toolbar_items[toolbar_ind][1];\n",
       "        var image = mpl.toolbar_items[toolbar_ind][2];\n",
       "        var method_name = mpl.toolbar_items[toolbar_ind][3];\n",
       "\n",
       "        if (!name) { continue; };\n",
       "\n",
       "        var button = $('<button class=\"btn btn-default\" href=\"#\" title=\"' + name + '\"><i class=\"fa ' + image + ' fa-lg\"></i></button>');\n",
       "        button.click(method_name, toolbar_event);\n",
       "        button.mouseover(tooltip, toolbar_mouse_event);\n",
       "        nav_element.append(button);\n",
       "    }\n",
       "\n",
       "    // Add the status bar.\n",
       "    var status_bar = $('<span class=\"mpl-message\" style=\"text-align:right; float: right;\"/>');\n",
       "    nav_element.append(status_bar);\n",
       "    this.message = status_bar[0];\n",
       "\n",
       "    // Add the close button to the window.\n",
       "    var buttongrp = $('<div class=\"btn-group inline pull-right\"></div>');\n",
       "    var button = $('<button class=\"btn btn-mini btn-primary\" href=\"#\" title=\"Stop Interaction\"><i class=\"fa fa-power-off icon-remove icon-large\"></i></button>');\n",
       "    button.click(function (evt) { fig.handle_close(fig, {}); } );\n",
       "    button.mouseover('Stop Interaction', toolbar_mouse_event);\n",
       "    buttongrp.append(button);\n",
       "    var titlebar = this.root.find($('.ui-dialog-titlebar'));\n",
       "    titlebar.prepend(buttongrp);\n",
       "}\n",
       "\n",
       "mpl.figure.prototype._root_extra_style = function(el){\n",
       "    var fig = this\n",
       "    el.on(\"remove\", function(){\n",
       "\tfig.close_ws(fig, {});\n",
       "    });\n",
       "}\n",
       "\n",
       "mpl.figure.prototype._canvas_extra_style = function(el){\n",
       "    // this is important to make the div 'focusable\n",
       "    el.attr('tabindex', 0)\n",
       "    // reach out to IPython and tell the keyboard manager to turn it's self\n",
       "    // off when our div gets focus\n",
       "\n",
       "    // location in version 3\n",
       "    if (IPython.notebook.keyboard_manager) {\n",
       "        IPython.notebook.keyboard_manager.register_events(el);\n",
       "    }\n",
       "    else {\n",
       "        // location in version 2\n",
       "        IPython.keyboard_manager.register_events(el);\n",
       "    }\n",
       "\n",
       "}\n",
       "\n",
       "mpl.figure.prototype._key_event_extra = function(event, name) {\n",
       "    var manager = IPython.notebook.keyboard_manager;\n",
       "    if (!manager)\n",
       "        manager = IPython.keyboard_manager;\n",
       "\n",
       "    // Check for shift+enter\n",
       "    if (event.shiftKey && event.which == 13) {\n",
       "        this.canvas_div.blur();\n",
       "        // select the cell after this one\n",
       "        var index = IPython.notebook.find_cell_index(this.cell_info[0]);\n",
       "        IPython.notebook.select(index + 1);\n",
       "    }\n",
       "}\n",
       "\n",
       "mpl.figure.prototype.handle_save = function(fig, msg) {\n",
       "    fig.ondownload(fig, null);\n",
       "}\n",
       "\n",
       "\n",
       "mpl.find_output_cell = function(html_output) {\n",
       "    // Return the cell and output element which can be found *uniquely* in the notebook.\n",
       "    // Note - this is a bit hacky, but it is done because the \"notebook_saving.Notebook\"\n",
       "    // IPython event is triggered only after the cells have been serialised, which for\n",
       "    // our purposes (turning an active figure into a static one), is too late.\n",
       "    var cells = IPython.notebook.get_cells();\n",
       "    var ncells = cells.length;\n",
       "    for (var i=0; i<ncells; i++) {\n",
       "        var cell = cells[i];\n",
       "        if (cell.cell_type === 'code'){\n",
       "            for (var j=0; j<cell.output_area.outputs.length; j++) {\n",
       "                var data = cell.output_area.outputs[j];\n",
       "                if (data.data) {\n",
       "                    // IPython >= 3 moved mimebundle to data attribute of output\n",
       "                    data = data.data;\n",
       "                }\n",
       "                if (data['text/html'] == html_output) {\n",
       "                    return [cell, data, j];\n",
       "                }\n",
       "            }\n",
       "        }\n",
       "    }\n",
       "}\n",
       "\n",
       "// Register the function which deals with the matplotlib target/channel.\n",
       "// The kernel may be null if the page has been refreshed.\n",
       "if (IPython.notebook.kernel != null) {\n",
       "    IPython.notebook.kernel.comm_manager.register_target('matplotlib', mpl.mpl_figure_comm);\n",
       "}\n"
      ],
      "text/plain": [
       "<IPython.core.display.Javascript object>"
      ]
     },
     "metadata": {},
     "output_type": "display_data"
    },
    {
     "data": {
      "text/html": [
       "<img src=\"data:image/png;base64,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\" width=\"640\">"
      ],
      "text/plain": [
       "<IPython.core.display.HTML object>"
      ]
     },
     "metadata": {},
     "output_type": "display_data"
    },
    {
     "data": {
      "application/vnd.jupyter.widget-view+json": {
       "model_id": "d494ad716c75471597f872fd12af21bb",
       "version_major": 2,
       "version_minor": 0
      },
      "text/plain": [
       "interactive(children=(FloatSlider(value=1.0, description='v1', max=5.0, min=-5.0), FloatSlider(value=2.0, desc…"
      ]
     },
     "metadata": {},
     "output_type": "display_data"
    }
   ],
   "source": [
    "fig, ax = plt.subplots()\n",
    "\n",
    "\n",
    "@interact(v1=(-5,5,0.1), v2=(-5,5,0.1), w1=(-5,5,0.1), w2=(-5,5,0.1))\n",
    "def update(v1=1, v2=2, w1=2, w2=0.5):\n",
    "    ax.cla()\n",
    "    u1, u2 = v1+w1, v2+w2\n",
    "    ax.arrow(0, 0, v1*0.9, v2*0.9, head_width=0.25, head_length=0.25, fc='g', ec='g')\n",
    "    ax.arrow(v1, v2, w1*0.9, w2*0.9, head_width=0.25, head_length=0.25, fc='b', ec='b')\n",
    "    ax.arrow(0, 0, u1*0.9, u2*0.9, head_width=0.25, head_length=0.25, fc='k', ec='k')\n",
    "    fig.canvas.draw_idle()\n",
    "    plt.xlim(-5, 5)\n",
    "    plt.ylim(-5, 5)\n",
    "    plt.xlabel('$X_1$')\n",
    "    plt.ylabel('$X_2$')\n",
    "    plt.title('2D Vector')\n",
    "    plt.grid(True)\n",
    "    fig.tight_layout()"
   ]
  },
  {
   "cell_type": "markdown",
   "metadata": {
    "cell_style": "split",
    "slideshow": {
     "slide_type": "subslide"
    }
   },
   "source": [
    "### Scalar Vector Multiplication\n",
    "\n",
    "$$  \\alpha \\vec{V} \\quad = \\quad [\\:\\alpha\\:  v_1, \\:\\alpha\\: v_2, \\: _\\cdots, \\: \\alpha\\: v_n ] $$\n",
    "\n",
    "\n",
    "+ Changes Magnitude\n",
    "+ Does not change direction\n",
    "  + Can flip if $\\alpha$ is negative"
   ]
  },
  {
   "cell_type": "markdown",
   "metadata": {
    "cell_style": "split",
    "slideshow": {
     "slide_type": "-"
    }
   },
   "source": [
    "<img src=\"vector_span.png\" width=\"75%\">"
   ]
  },
  {
   "cell_type": "markdown",
   "metadata": {
    "slideshow": {
     "slide_type": "notes"
    }
   },
   "source": []
  },
  {
   "cell_type": "markdown",
   "metadata": {
    "cell_style": "split",
    "slideshow": {
     "slide_type": "subslide"
    }
   },
   "source": [
    "### Dimension and Span\n",
    "\n",
    "+ How many dimentions does a vector occupy?\n",
    "\n",
    "+ How much of that space can that vector reach?\n",
    "\n",
    "+ What is the Volume?"
   ]
  },
  {
   "cell_type": "markdown",
   "metadata": {
    "cell_style": "split"
   },
   "source": [
    "<img src=\"vector_span.png\" width=\"75%\">"
   ]
  },
  {
   "cell_type": "markdown",
   "metadata": {
    "cell_style": "split",
    "slideshow": {
     "slide_type": "fragment"
    }
   },
   "source": [
    "+ What about 2 vectors?"
   ]
  },
  {
   "cell_type": "code",
   "execution_count": null,
   "metadata": {
    "slideshow": {
     "slide_type": "notes"
    }
   },
   "outputs": [],
   "source": []
  },
  {
   "cell_type": "markdown",
   "metadata": {
    "cell_style": "split",
    "slideshow": {
     "slide_type": "subslide"
    }
   },
   "source": [
    "### Vector Multiplication\n",
    "\n",
    "+ Elementwise\n",
    "\n",
    "\n",
    "+ Outter product\n",
    "\n",
    "\n",
    "+ Inner (Dot) product\n",
    "\n"
   ]
  },
  {
   "cell_type": "markdown",
   "metadata": {
    "cell_style": "split",
    "slideshow": {
     "slide_type": "-"
    }
   },
   "source": [
    "<img src=\"vector_multhing.png\" width=\"100%\">\n",
    "\n",
    "This kind of funny?"
   ]
  },
  {
   "cell_type": "markdown",
   "metadata": {
    "slideshow": {
     "slide_type": "notes"
    }
   },
   "source": []
  },
  {
   "cell_type": "markdown",
   "metadata": {
    "cell_style": "split",
    "slideshow": {
     "slide_type": "subslide"
    }
   },
   "source": [
    "#### Elementwise\n",
    "\n",
    "\n",
    "  + Multiply each respective element\n",
    "    + Store then in the respective place\n",
    "  + Requires vectors be same size\n",
    "  + First one thinks off\n",
    "    + After scalar"
   ]
  },
  {
   "cell_type": "markdown",
   "metadata": {
    "cell_style": "split",
    "slideshow": {
     "slide_type": "-"
    }
   },
   "source": [
    "\n",
    "$$ \\vec{W} \\odot \\vec{V} = \\quad = \\quad [\\:v_1 \\: w_1, \\:v_2 \\: w_2, \\: _\\cdots, \\: v_n \\: w_n ] $$\n"
   ]
  },
  {
   "cell_type": "code",
   "execution_count": null,
   "metadata": {
    "slideshow": {
     "slide_type": "notes"
    }
   },
   "outputs": [],
   "source": []
  },
  {
   "cell_type": "markdown",
   "metadata": {
    "cell_style": "split",
    "slideshow": {
     "slide_type": "subslide"
    }
   },
   "source": [
    "#### Outer Product\n",
    "\n",
    "\n",
    "\n",
    "+ Returns a Matrix\n",
    "\n",
    "+ Directions of rows and columns?\n",
    "  + Think span and scalar multiplication\n",
    " "
   ]
  },
  {
   "cell_type": "markdown",
   "metadata": {
    "cell_style": "split",
    "slideshow": {
     "slide_type": "-"
    }
   },
   "source": [
    "$$ \\vec{W} \\otimes \\vec{V} \\quad  = \\quad \\begin{bmatrix} \n",
    "    \\:v_1 \\: w_1 &\\:v_2 \\: w_1 &  \\dots & v_n \\: w_1 \\\\\n",
    "    \\:v_1 \\: w_2 &\\:v_2 \\: w_2 &   \\\\\n",
    "    \\vdots & & \\ddots & \\vdots \\\\\n",
    "    \\:v_1 \\: w_m & v_2 \\: w_m &  \\dots & v_n \\: w_m\\\\\n",
    "    \\end{bmatrix}\n",
    "$$\n"
   ]
  },
  {
   "cell_type": "markdown",
   "metadata": {
    "slideshow": {
     "slide_type": "notes"
    }
   },
   "source": []
  },
  {
   "cell_type": "markdown",
   "metadata": {
    "cell_style": "split",
    "slideshow": {
     "slide_type": "subslide"
    }
   },
   "source": [
    "### Inner (Dot) Product\n",
    "\n",
    "$$ \\vec{V} \\cdot \\vec{W} = \\quad = \\quad \\:v_1 \\: w_1 +  \\:v_2 \\: w_2 + \\: _\\cdots + \\: v_n \\: w_n  $$\n",
    "\n",
    "+ Sum of the elementwise multiplication\n",
    "+ Requires vectors are the same size\n",
    "+ $\\vec{V} \\cdot \\vec{V} = {|\\vec{V}|}^2$\n",
    "\n",
    "+ Most useful of all the vector products\n",
    "\n",
    "+ Sometimes called production if one vector is unit length"
   ]
  },
  {
   "cell_type": "markdown",
   "metadata": {
    "cell_style": "split",
    "slideshow": {
     "slide_type": "-"
    }
   },
   "source": [
    "<img src=\"1280px-Dot_Product.svg.png\" width=\"75%\">\n",
    "\n",
    "https://en.wikipedia.org/wiki/Dot_product"
   ]
  },
  {
   "cell_type": "code",
   "execution_count": 162,
   "metadata": {
    "slideshow": {
     "slide_type": "subslide"
    }
   },
   "outputs": [
    {
     "data": {
      "application/javascript": [
       "/* Put everything inside the global mpl namespace */\n",
       "window.mpl = {};\n",
       "\n",
       "\n",
       "mpl.get_websocket_type = function() {\n",
       "    if (typeof(WebSocket) !== 'undefined') {\n",
       "        return WebSocket;\n",
       "    } else if (typeof(MozWebSocket) !== 'undefined') {\n",
       "        return MozWebSocket;\n",
       "    } else {\n",
       "        alert('Your browser does not have WebSocket support. ' +\n",
       "              'Please try Chrome, Safari or Firefox ≥ 6. ' +\n",
       "              'Firefox 4 and 5 are also supported but you ' +\n",
       "              'have to enable WebSockets in about:config.');\n",
       "    };\n",
       "}\n",
       "\n",
       "mpl.figure = function(figure_id, websocket, ondownload, parent_element) {\n",
       "    this.id = figure_id;\n",
       "\n",
       "    this.ws = websocket;\n",
       "\n",
       "    this.supports_binary = (this.ws.binaryType != undefined);\n",
       "\n",
       "    if (!this.supports_binary) {\n",
       "        var warnings = document.getElementById(\"mpl-warnings\");\n",
       "        if (warnings) {\n",
       "            warnings.style.display = 'block';\n",
       "            warnings.textContent = (\n",
       "                \"This browser does not support binary websocket messages. \" +\n",
       "                    \"Performance may be slow.\");\n",
       "        }\n",
       "    }\n",
       "\n",
       "    this.imageObj = new Image();\n",
       "\n",
       "    this.context = undefined;\n",
       "    this.message = undefined;\n",
       "    this.canvas = undefined;\n",
       "    this.rubberband_canvas = undefined;\n",
       "    this.rubberband_context = undefined;\n",
       "    this.format_dropdown = undefined;\n",
       "\n",
       "    this.image_mode = 'full';\n",
       "\n",
       "    this.root = $('<div/>');\n",
       "    this._root_extra_style(this.root)\n",
       "    this.root.attr('style', 'display: inline-block');\n",
       "\n",
       "    $(parent_element).append(this.root);\n",
       "\n",
       "    this._init_header(this);\n",
       "    this._init_canvas(this);\n",
       "    this._init_toolbar(this);\n",
       "\n",
       "    var fig = this;\n",
       "\n",
       "    this.waiting = false;\n",
       "\n",
       "    this.ws.onopen =  function () {\n",
       "            fig.send_message(\"supports_binary\", {value: fig.supports_binary});\n",
       "            fig.send_message(\"send_image_mode\", {});\n",
       "            if (mpl.ratio != 1) {\n",
       "                fig.send_message(\"set_dpi_ratio\", {'dpi_ratio': mpl.ratio});\n",
       "            }\n",
       "            fig.send_message(\"refresh\", {});\n",
       "        }\n",
       "\n",
       "    this.imageObj.onload = function() {\n",
       "            if (fig.image_mode == 'full') {\n",
       "                // Full images could contain transparency (where diff images\n",
       "                // almost always do), so we need to clear the canvas so that\n",
       "                // there is no ghosting.\n",
       "                fig.context.clearRect(0, 0, fig.canvas.width, fig.canvas.height);\n",
       "            }\n",
       "            fig.context.drawImage(fig.imageObj, 0, 0);\n",
       "        };\n",
       "\n",
       "    this.imageObj.onunload = function() {\n",
       "        fig.ws.close();\n",
       "    }\n",
       "\n",
       "    this.ws.onmessage = this._make_on_message_function(this);\n",
       "\n",
       "    this.ondownload = ondownload;\n",
       "}\n",
       "\n",
       "mpl.figure.prototype._init_header = function() {\n",
       "    var titlebar = $(\n",
       "        '<div class=\"ui-dialog-titlebar ui-widget-header ui-corner-all ' +\n",
       "        'ui-helper-clearfix\"/>');\n",
       "    var titletext = $(\n",
       "        '<div class=\"ui-dialog-title\" style=\"width: 100%; ' +\n",
       "        'text-align: center; padding: 3px;\"/>');\n",
       "    titlebar.append(titletext)\n",
       "    this.root.append(titlebar);\n",
       "    this.header = titletext[0];\n",
       "}\n",
       "\n",
       "\n",
       "\n",
       "mpl.figure.prototype._canvas_extra_style = function(canvas_div) {\n",
       "\n",
       "}\n",
       "\n",
       "\n",
       "mpl.figure.prototype._root_extra_style = function(canvas_div) {\n",
       "\n",
       "}\n",
       "\n",
       "mpl.figure.prototype._init_canvas = function() {\n",
       "    var fig = this;\n",
       "\n",
       "    var canvas_div = $('<div/>');\n",
       "\n",
       "    canvas_div.attr('style', 'position: relative; clear: both; outline: 0');\n",
       "\n",
       "    function canvas_keyboard_event(event) {\n",
       "        return fig.key_event(event, event['data']);\n",
       "    }\n",
       "\n",
       "    canvas_div.keydown('key_press', canvas_keyboard_event);\n",
       "    canvas_div.keyup('key_release', canvas_keyboard_event);\n",
       "    this.canvas_div = canvas_div\n",
       "    this._canvas_extra_style(canvas_div)\n",
       "    this.root.append(canvas_div);\n",
       "\n",
       "    var canvas = $('<canvas/>');\n",
       "    canvas.addClass('mpl-canvas');\n",
       "    canvas.attr('style', \"left: 0; top: 0; z-index: 0; outline: 0\")\n",
       "\n",
       "    this.canvas = canvas[0];\n",
       "    this.context = canvas[0].getContext(\"2d\");\n",
       "\n",
       "    var backingStore = this.context.backingStorePixelRatio ||\n",
       "\tthis.context.webkitBackingStorePixelRatio ||\n",
       "\tthis.context.mozBackingStorePixelRatio ||\n",
       "\tthis.context.msBackingStorePixelRatio ||\n",
       "\tthis.context.oBackingStorePixelRatio ||\n",
       "\tthis.context.backingStorePixelRatio || 1;\n",
       "\n",
       "    mpl.ratio = (window.devicePixelRatio || 1) / backingStore;\n",
       "\n",
       "    var rubberband = $('<canvas/>');\n",
       "    rubberband.attr('style', \"position: absolute; left: 0; top: 0; z-index: 1;\")\n",
       "\n",
       "    var pass_mouse_events = true;\n",
       "\n",
       "    canvas_div.resizable({\n",
       "        start: function(event, ui) {\n",
       "            pass_mouse_events = false;\n",
       "        },\n",
       "        resize: function(event, ui) {\n",
       "            fig.request_resize(ui.size.width, ui.size.height);\n",
       "        },\n",
       "        stop: function(event, ui) {\n",
       "            pass_mouse_events = true;\n",
       "            fig.request_resize(ui.size.width, ui.size.height);\n",
       "        },\n",
       "    });\n",
       "\n",
       "    function mouse_event_fn(event) {\n",
       "        if (pass_mouse_events)\n",
       "            return fig.mouse_event(event, event['data']);\n",
       "    }\n",
       "\n",
       "    rubberband.mousedown('button_press', mouse_event_fn);\n",
       "    rubberband.mouseup('button_release', mouse_event_fn);\n",
       "    // Throttle sequential mouse events to 1 every 20ms.\n",
       "    rubberband.mousemove('motion_notify', mouse_event_fn);\n",
       "\n",
       "    rubberband.mouseenter('figure_enter', mouse_event_fn);\n",
       "    rubberband.mouseleave('figure_leave', mouse_event_fn);\n",
       "\n",
       "    canvas_div.on(\"wheel\", function (event) {\n",
       "        event = event.originalEvent;\n",
       "        event['data'] = 'scroll'\n",
       "        if (event.deltaY < 0) {\n",
       "            event.step = 1;\n",
       "        } else {\n",
       "            event.step = -1;\n",
       "        }\n",
       "        mouse_event_fn(event);\n",
       "    });\n",
       "\n",
       "    canvas_div.append(canvas);\n",
       "    canvas_div.append(rubberband);\n",
       "\n",
       "    this.rubberband = rubberband;\n",
       "    this.rubberband_canvas = rubberband[0];\n",
       "    this.rubberband_context = rubberband[0].getContext(\"2d\");\n",
       "    this.rubberband_context.strokeStyle = \"#000000\";\n",
       "\n",
       "    this._resize_canvas = function(width, height) {\n",
       "        // Keep the size of the canvas, canvas container, and rubber band\n",
       "        // canvas in synch.\n",
       "        canvas_div.css('width', width)\n",
       "        canvas_div.css('height', height)\n",
       "\n",
       "        canvas.attr('width', width * mpl.ratio);\n",
       "        canvas.attr('height', height * mpl.ratio);\n",
       "        canvas.attr('style', 'width: ' + width + 'px; height: ' + height + 'px;');\n",
       "\n",
       "        rubberband.attr('width', width);\n",
       "        rubberband.attr('height', height);\n",
       "    }\n",
       "\n",
       "    // Set the figure to an initial 600x600px, this will subsequently be updated\n",
       "    // upon first draw.\n",
       "    this._resize_canvas(600, 600);\n",
       "\n",
       "    // Disable right mouse context menu.\n",
       "    $(this.rubberband_canvas).bind(\"contextmenu\",function(e){\n",
       "        return false;\n",
       "    });\n",
       "\n",
       "    function set_focus () {\n",
       "        canvas.focus();\n",
       "        canvas_div.focus();\n",
       "    }\n",
       "\n",
       "    window.setTimeout(set_focus, 100);\n",
       "}\n",
       "\n",
       "mpl.figure.prototype._init_toolbar = function() {\n",
       "    var fig = this;\n",
       "\n",
       "    var nav_element = $('<div/>');\n",
       "    nav_element.attr('style', 'width: 100%');\n",
       "    this.root.append(nav_element);\n",
       "\n",
       "    // Define a callback function for later on.\n",
       "    function toolbar_event(event) {\n",
       "        return fig.toolbar_button_onclick(event['data']);\n",
       "    }\n",
       "    function toolbar_mouse_event(event) {\n",
       "        return fig.toolbar_button_onmouseover(event['data']);\n",
       "    }\n",
       "\n",
       "    for(var toolbar_ind in mpl.toolbar_items) {\n",
       "        var name = mpl.toolbar_items[toolbar_ind][0];\n",
       "        var tooltip = mpl.toolbar_items[toolbar_ind][1];\n",
       "        var image = mpl.toolbar_items[toolbar_ind][2];\n",
       "        var method_name = mpl.toolbar_items[toolbar_ind][3];\n",
       "\n",
       "        if (!name) {\n",
       "            // put a spacer in here.\n",
       "            continue;\n",
       "        }\n",
       "        var button = $('<button/>');\n",
       "        button.addClass('ui-button ui-widget ui-state-default ui-corner-all ' +\n",
       "                        'ui-button-icon-only');\n",
       "        button.attr('role', 'button');\n",
       "        button.attr('aria-disabled', 'false');\n",
       "        button.click(method_name, toolbar_event);\n",
       "        button.mouseover(tooltip, toolbar_mouse_event);\n",
       "\n",
       "        var icon_img = $('<span/>');\n",
       "        icon_img.addClass('ui-button-icon-primary ui-icon');\n",
       "        icon_img.addClass(image);\n",
       "        icon_img.addClass('ui-corner-all');\n",
       "\n",
       "        var tooltip_span = $('<span/>');\n",
       "        tooltip_span.addClass('ui-button-text');\n",
       "        tooltip_span.html(tooltip);\n",
       "\n",
       "        button.append(icon_img);\n",
       "        button.append(tooltip_span);\n",
       "\n",
       "        nav_element.append(button);\n",
       "    }\n",
       "\n",
       "    var fmt_picker_span = $('<span/>');\n",
       "\n",
       "    var fmt_picker = $('<select/>');\n",
       "    fmt_picker.addClass('mpl-toolbar-option ui-widget ui-widget-content');\n",
       "    fmt_picker_span.append(fmt_picker);\n",
       "    nav_element.append(fmt_picker_span);\n",
       "    this.format_dropdown = fmt_picker[0];\n",
       "\n",
       "    for (var ind in mpl.extensions) {\n",
       "        var fmt = mpl.extensions[ind];\n",
       "        var option = $(\n",
       "            '<option/>', {selected: fmt === mpl.default_extension}).html(fmt);\n",
       "        fmt_picker.append(option);\n",
       "    }\n",
       "\n",
       "    // Add hover states to the ui-buttons\n",
       "    $( \".ui-button\" ).hover(\n",
       "        function() { $(this).addClass(\"ui-state-hover\");},\n",
       "        function() { $(this).removeClass(\"ui-state-hover\");}\n",
       "    );\n",
       "\n",
       "    var status_bar = $('<span class=\"mpl-message\"/>');\n",
       "    nav_element.append(status_bar);\n",
       "    this.message = status_bar[0];\n",
       "}\n",
       "\n",
       "mpl.figure.prototype.request_resize = function(x_pixels, y_pixels) {\n",
       "    // Request matplotlib to resize the figure. Matplotlib will then trigger a resize in the client,\n",
       "    // which will in turn request a refresh of the image.\n",
       "    this.send_message('resize', {'width': x_pixels, 'height': y_pixels});\n",
       "}\n",
       "\n",
       "mpl.figure.prototype.send_message = function(type, properties) {\n",
       "    properties['type'] = type;\n",
       "    properties['figure_id'] = this.id;\n",
       "    this.ws.send(JSON.stringify(properties));\n",
       "}\n",
       "\n",
       "mpl.figure.prototype.send_draw_message = function() {\n",
       "    if (!this.waiting) {\n",
       "        this.waiting = true;\n",
       "        this.ws.send(JSON.stringify({type: \"draw\", figure_id: this.id}));\n",
       "    }\n",
       "}\n",
       "\n",
       "\n",
       "mpl.figure.prototype.handle_save = function(fig, msg) {\n",
       "    var format_dropdown = fig.format_dropdown;\n",
       "    var format = format_dropdown.options[format_dropdown.selectedIndex].value;\n",
       "    fig.ondownload(fig, format);\n",
       "}\n",
       "\n",
       "\n",
       "mpl.figure.prototype.handle_resize = function(fig, msg) {\n",
       "    var size = msg['size'];\n",
       "    if (size[0] != fig.canvas.width || size[1] != fig.canvas.height) {\n",
       "        fig._resize_canvas(size[0], size[1]);\n",
       "        fig.send_message(\"refresh\", {});\n",
       "    };\n",
       "}\n",
       "\n",
       "mpl.figure.prototype.handle_rubberband = function(fig, msg) {\n",
       "    var x0 = msg['x0'] / mpl.ratio;\n",
       "    var y0 = (fig.canvas.height - msg['y0']) / mpl.ratio;\n",
       "    var x1 = msg['x1'] / mpl.ratio;\n",
       "    var y1 = (fig.canvas.height - msg['y1']) / mpl.ratio;\n",
       "    x0 = Math.floor(x0) + 0.5;\n",
       "    y0 = Math.floor(y0) + 0.5;\n",
       "    x1 = Math.floor(x1) + 0.5;\n",
       "    y1 = Math.floor(y1) + 0.5;\n",
       "    var min_x = Math.min(x0, x1);\n",
       "    var min_y = Math.min(y0, y1);\n",
       "    var width = Math.abs(x1 - x0);\n",
       "    var height = Math.abs(y1 - y0);\n",
       "\n",
       "    fig.rubberband_context.clearRect(\n",
       "        0, 0, fig.canvas.width / mpl.ratio, fig.canvas.height / mpl.ratio);\n",
       "\n",
       "    fig.rubberband_context.strokeRect(min_x, min_y, width, height);\n",
       "}\n",
       "\n",
       "mpl.figure.prototype.handle_figure_label = function(fig, msg) {\n",
       "    // Updates the figure title.\n",
       "    fig.header.textContent = msg['label'];\n",
       "}\n",
       "\n",
       "mpl.figure.prototype.handle_cursor = function(fig, msg) {\n",
       "    var cursor = msg['cursor'];\n",
       "    switch(cursor)\n",
       "    {\n",
       "    case 0:\n",
       "        cursor = 'pointer';\n",
       "        break;\n",
       "    case 1:\n",
       "        cursor = 'default';\n",
       "        break;\n",
       "    case 2:\n",
       "        cursor = 'crosshair';\n",
       "        break;\n",
       "    case 3:\n",
       "        cursor = 'move';\n",
       "        break;\n",
       "    }\n",
       "    fig.rubberband_canvas.style.cursor = cursor;\n",
       "}\n",
       "\n",
       "mpl.figure.prototype.handle_message = function(fig, msg) {\n",
       "    fig.message.textContent = msg['message'];\n",
       "}\n",
       "\n",
       "mpl.figure.prototype.handle_draw = function(fig, msg) {\n",
       "    // Request the server to send over a new figure.\n",
       "    fig.send_draw_message();\n",
       "}\n",
       "\n",
       "mpl.figure.prototype.handle_image_mode = function(fig, msg) {\n",
       "    fig.image_mode = msg['mode'];\n",
       "}\n",
       "\n",
       "mpl.figure.prototype.updated_canvas_event = function() {\n",
       "    // Called whenever the canvas gets updated.\n",
       "    this.send_message(\"ack\", {});\n",
       "}\n",
       "\n",
       "// A function to construct a web socket function for onmessage handling.\n",
       "// Called in the figure constructor.\n",
       "mpl.figure.prototype._make_on_message_function = function(fig) {\n",
       "    return function socket_on_message(evt) {\n",
       "        if (evt.data instanceof Blob) {\n",
       "            /* FIXME: We get \"Resource interpreted as Image but\n",
       "             * transferred with MIME type text/plain:\" errors on\n",
       "             * Chrome.  But how to set the MIME type?  It doesn't seem\n",
       "             * to be part of the websocket stream */\n",
       "            evt.data.type = \"image/png\";\n",
       "\n",
       "            /* Free the memory for the previous frames */\n",
       "            if (fig.imageObj.src) {\n",
       "                (window.URL || window.webkitURL).revokeObjectURL(\n",
       "                    fig.imageObj.src);\n",
       "            }\n",
       "\n",
       "            fig.imageObj.src = (window.URL || window.webkitURL).createObjectURL(\n",
       "                evt.data);\n",
       "            fig.updated_canvas_event();\n",
       "            fig.waiting = false;\n",
       "            return;\n",
       "        }\n",
       "        else if (typeof evt.data === 'string' && evt.data.slice(0, 21) == \"data:image/png;base64\") {\n",
       "            fig.imageObj.src = evt.data;\n",
       "            fig.updated_canvas_event();\n",
       "            fig.waiting = false;\n",
       "            return;\n",
       "        }\n",
       "\n",
       "        var msg = JSON.parse(evt.data);\n",
       "        var msg_type = msg['type'];\n",
       "\n",
       "        // Call the  \"handle_{type}\" callback, which takes\n",
       "        // the figure and JSON message as its only arguments.\n",
       "        try {\n",
       "            var callback = fig[\"handle_\" + msg_type];\n",
       "        } catch (e) {\n",
       "            console.log(\"No handler for the '\" + msg_type + \"' message type: \", msg);\n",
       "            return;\n",
       "        }\n",
       "\n",
       "        if (callback) {\n",
       "            try {\n",
       "                // console.log(\"Handling '\" + msg_type + \"' message: \", msg);\n",
       "                callback(fig, msg);\n",
       "            } catch (e) {\n",
       "                console.log(\"Exception inside the 'handler_\" + msg_type + \"' callback:\", e, e.stack, msg);\n",
       "            }\n",
       "        }\n",
       "    };\n",
       "}\n",
       "\n",
       "// from http://stackoverflow.com/questions/1114465/getting-mouse-location-in-canvas\n",
       "mpl.findpos = function(e) {\n",
       "    //this section is from http://www.quirksmode.org/js/events_properties.html\n",
       "    var targ;\n",
       "    if (!e)\n",
       "        e = window.event;\n",
       "    if (e.target)\n",
       "        targ = e.target;\n",
       "    else if (e.srcElement)\n",
       "        targ = e.srcElement;\n",
       "    if (targ.nodeType == 3) // defeat Safari bug\n",
       "        targ = targ.parentNode;\n",
       "\n",
       "    // jQuery normalizes the pageX and pageY\n",
       "    // pageX,Y are the mouse positions relative to the document\n",
       "    // offset() returns the position of the element relative to the document\n",
       "    var x = e.pageX - $(targ).offset().left;\n",
       "    var y = e.pageY - $(targ).offset().top;\n",
       "\n",
       "    return {\"x\": x, \"y\": y};\n",
       "};\n",
       "\n",
       "/*\n",
       " * return a copy of an object with only non-object keys\n",
       " * we need this to avoid circular references\n",
       " * http://stackoverflow.com/a/24161582/3208463\n",
       " */\n",
       "function simpleKeys (original) {\n",
       "  return Object.keys(original).reduce(function (obj, key) {\n",
       "    if (typeof original[key] !== 'object')\n",
       "        obj[key] = original[key]\n",
       "    return obj;\n",
       "  }, {});\n",
       "}\n",
       "\n",
       "mpl.figure.prototype.mouse_event = function(event, name) {\n",
       "    var canvas_pos = mpl.findpos(event)\n",
       "\n",
       "    if (name === 'button_press')\n",
       "    {\n",
       "        this.canvas.focus();\n",
       "        this.canvas_div.focus();\n",
       "    }\n",
       "\n",
       "    var x = canvas_pos.x * mpl.ratio;\n",
       "    var y = canvas_pos.y * mpl.ratio;\n",
       "\n",
       "    this.send_message(name, {x: x, y: y, button: event.button,\n",
       "                             step: event.step,\n",
       "                             guiEvent: simpleKeys(event)});\n",
       "\n",
       "    /* This prevents the web browser from automatically changing to\n",
       "     * the text insertion cursor when the button is pressed.  We want\n",
       "     * to control all of the cursor setting manually through the\n",
       "     * 'cursor' event from matplotlib */\n",
       "    event.preventDefault();\n",
       "    return false;\n",
       "}\n",
       "\n",
       "mpl.figure.prototype._key_event_extra = function(event, name) {\n",
       "    // Handle any extra behaviour associated with a key event\n",
       "}\n",
       "\n",
       "mpl.figure.prototype.key_event = function(event, name) {\n",
       "\n",
       "    // Prevent repeat events\n",
       "    if (name == 'key_press')\n",
       "    {\n",
       "        if (event.which === this._key)\n",
       "            return;\n",
       "        else\n",
       "            this._key = event.which;\n",
       "    }\n",
       "    if (name == 'key_release')\n",
       "        this._key = null;\n",
       "\n",
       "    var value = '';\n",
       "    if (event.ctrlKey && event.which != 17)\n",
       "        value += \"ctrl+\";\n",
       "    if (event.altKey && event.which != 18)\n",
       "        value += \"alt+\";\n",
       "    if (event.shiftKey && event.which != 16)\n",
       "        value += \"shift+\";\n",
       "\n",
       "    value += 'k';\n",
       "    value += event.which.toString();\n",
       "\n",
       "    this._key_event_extra(event, name);\n",
       "\n",
       "    this.send_message(name, {key: value,\n",
       "                             guiEvent: simpleKeys(event)});\n",
       "    return false;\n",
       "}\n",
       "\n",
       "mpl.figure.prototype.toolbar_button_onclick = function(name) {\n",
       "    if (name == 'download') {\n",
       "        this.handle_save(this, null);\n",
       "    } else {\n",
       "        this.send_message(\"toolbar_button\", {name: name});\n",
       "    }\n",
       "};\n",
       "\n",
       "mpl.figure.prototype.toolbar_button_onmouseover = function(tooltip) {\n",
       "    this.message.textContent = tooltip;\n",
       "};\n",
       "mpl.toolbar_items = [[\"Home\", \"Reset original view\", \"fa fa-home icon-home\", \"home\"], [\"Back\", \"Back to previous view\", \"fa fa-arrow-left icon-arrow-left\", \"back\"], [\"Forward\", \"Forward to next view\", \"fa fa-arrow-right icon-arrow-right\", \"forward\"], [\"\", \"\", \"\", \"\"], [\"Pan\", \"Pan axes with left mouse, zoom with right\", \"fa fa-arrows icon-move\", \"pan\"], [\"Zoom\", \"Zoom to rectangle\", \"fa fa-square-o icon-check-empty\", \"zoom\"], [\"\", \"\", \"\", \"\"], [\"Download\", \"Download plot\", \"fa fa-floppy-o icon-save\", \"download\"]];\n",
       "\n",
       "mpl.extensions = [\"eps\", \"pdf\", \"png\", \"ps\", \"raw\", \"svg\"];\n",
       "\n",
       "mpl.default_extension = \"png\";var comm_websocket_adapter = function(comm) {\n",
       "    // Create a \"websocket\"-like object which calls the given IPython comm\n",
       "    // object with the appropriate methods. Currently this is a non binary\n",
       "    // socket, so there is still some room for performance tuning.\n",
       "    var ws = {};\n",
       "\n",
       "    ws.close = function() {\n",
       "        comm.close()\n",
       "    };\n",
       "    ws.send = function(m) {\n",
       "        //console.log('sending', m);\n",
       "        comm.send(m);\n",
       "    };\n",
       "    // Register the callback with on_msg.\n",
       "    comm.on_msg(function(msg) {\n",
       "        //console.log('receiving', msg['content']['data'], msg);\n",
       "        // Pass the mpl event to the overridden (by mpl) onmessage function.\n",
       "        ws.onmessage(msg['content']['data'])\n",
       "    });\n",
       "    return ws;\n",
       "}\n",
       "\n",
       "mpl.mpl_figure_comm = function(comm, msg) {\n",
       "    // This is the function which gets called when the mpl process\n",
       "    // starts-up an IPython Comm through the \"matplotlib\" channel.\n",
       "\n",
       "    var id = msg.content.data.id;\n",
       "    // Get hold of the div created by the display call when the Comm\n",
       "    // socket was opened in Python.\n",
       "    var element = $(\"#\" + id);\n",
       "    var ws_proxy = comm_websocket_adapter(comm)\n",
       "\n",
       "    function ondownload(figure, format) {\n",
       "        window.open(figure.imageObj.src);\n",
       "    }\n",
       "\n",
       "    var fig = new mpl.figure(id, ws_proxy,\n",
       "                           ondownload,\n",
       "                           element.get(0));\n",
       "\n",
       "    // Call onopen now - mpl needs it, as it is assuming we've passed it a real\n",
       "    // web socket which is closed, not our websocket->open comm proxy.\n",
       "    ws_proxy.onopen();\n",
       "\n",
       "    fig.parent_element = element.get(0);\n",
       "    fig.cell_info = mpl.find_output_cell(\"<div id='\" + id + \"'></div>\");\n",
       "    if (!fig.cell_info) {\n",
       "        console.error(\"Failed to find cell for figure\", id, fig);\n",
       "        return;\n",
       "    }\n",
       "\n",
       "    var output_index = fig.cell_info[2]\n",
       "    var cell = fig.cell_info[0];\n",
       "\n",
       "};\n",
       "\n",
       "mpl.figure.prototype.handle_close = function(fig, msg) {\n",
       "    var width = fig.canvas.width/mpl.ratio\n",
       "    fig.root.unbind('remove')\n",
       "\n",
       "    // Update the output cell to use the data from the current canvas.\n",
       "    fig.push_to_output();\n",
       "    var dataURL = fig.canvas.toDataURL();\n",
       "    // Re-enable the keyboard manager in IPython - without this line, in FF,\n",
       "    // the notebook keyboard shortcuts fail.\n",
       "    IPython.keyboard_manager.enable()\n",
       "    $(fig.parent_element).html('<img src=\"' + dataURL + '\" width=\"' + width + '\">');\n",
       "    fig.close_ws(fig, msg);\n",
       "}\n",
       "\n",
       "mpl.figure.prototype.close_ws = function(fig, msg){\n",
       "    fig.send_message('closing', msg);\n",
       "    // fig.ws.close()\n",
       "}\n",
       "\n",
       "mpl.figure.prototype.push_to_output = function(remove_interactive) {\n",
       "    // Turn the data on the canvas into data in the output cell.\n",
       "    var width = this.canvas.width/mpl.ratio\n",
       "    var dataURL = this.canvas.toDataURL();\n",
       "    this.cell_info[1]['text/html'] = '<img src=\"' + dataURL + '\" width=\"' + width + '\">';\n",
       "}\n",
       "\n",
       "mpl.figure.prototype.updated_canvas_event = function() {\n",
       "    // Tell IPython that the notebook contents must change.\n",
       "    IPython.notebook.set_dirty(true);\n",
       "    this.send_message(\"ack\", {});\n",
       "    var fig = this;\n",
       "    // Wait a second, then push the new image to the DOM so\n",
       "    // that it is saved nicely (might be nice to debounce this).\n",
       "    setTimeout(function () { fig.push_to_output() }, 1000);\n",
       "}\n",
       "\n",
       "mpl.figure.prototype._init_toolbar = function() {\n",
       "    var fig = this;\n",
       "\n",
       "    var nav_element = $('<div/>');\n",
       "    nav_element.attr('style', 'width: 100%');\n",
       "    this.root.append(nav_element);\n",
       "\n",
       "    // Define a callback function for later on.\n",
       "    function toolbar_event(event) {\n",
       "        return fig.toolbar_button_onclick(event['data']);\n",
       "    }\n",
       "    function toolbar_mouse_event(event) {\n",
       "        return fig.toolbar_button_onmouseover(event['data']);\n",
       "    }\n",
       "\n",
       "    for(var toolbar_ind in mpl.toolbar_items){\n",
       "        var name = mpl.toolbar_items[toolbar_ind][0];\n",
       "        var tooltip = mpl.toolbar_items[toolbar_ind][1];\n",
       "        var image = mpl.toolbar_items[toolbar_ind][2];\n",
       "        var method_name = mpl.toolbar_items[toolbar_ind][3];\n",
       "\n",
       "        if (!name) { continue; };\n",
       "\n",
       "        var button = $('<button class=\"btn btn-default\" href=\"#\" title=\"' + name + '\"><i class=\"fa ' + image + ' fa-lg\"></i></button>');\n",
       "        button.click(method_name, toolbar_event);\n",
       "        button.mouseover(tooltip, toolbar_mouse_event);\n",
       "        nav_element.append(button);\n",
       "    }\n",
       "\n",
       "    // Add the status bar.\n",
       "    var status_bar = $('<span class=\"mpl-message\" style=\"text-align:right; float: right;\"/>');\n",
       "    nav_element.append(status_bar);\n",
       "    this.message = status_bar[0];\n",
       "\n",
       "    // Add the close button to the window.\n",
       "    var buttongrp = $('<div class=\"btn-group inline pull-right\"></div>');\n",
       "    var button = $('<button class=\"btn btn-mini btn-primary\" href=\"#\" title=\"Stop Interaction\"><i class=\"fa fa-power-off icon-remove icon-large\"></i></button>');\n",
       "    button.click(function (evt) { fig.handle_close(fig, {}); } );\n",
       "    button.mouseover('Stop Interaction', toolbar_mouse_event);\n",
       "    buttongrp.append(button);\n",
       "    var titlebar = this.root.find($('.ui-dialog-titlebar'));\n",
       "    titlebar.prepend(buttongrp);\n",
       "}\n",
       "\n",
       "mpl.figure.prototype._root_extra_style = function(el){\n",
       "    var fig = this\n",
       "    el.on(\"remove\", function(){\n",
       "\tfig.close_ws(fig, {});\n",
       "    });\n",
       "}\n",
       "\n",
       "mpl.figure.prototype._canvas_extra_style = function(el){\n",
       "    // this is important to make the div 'focusable\n",
       "    el.attr('tabindex', 0)\n",
       "    // reach out to IPython and tell the keyboard manager to turn it's self\n",
       "    // off when our div gets focus\n",
       "\n",
       "    // location in version 3\n",
       "    if (IPython.notebook.keyboard_manager) {\n",
       "        IPython.notebook.keyboard_manager.register_events(el);\n",
       "    }\n",
       "    else {\n",
       "        // location in version 2\n",
       "        IPython.keyboard_manager.register_events(el);\n",
       "    }\n",
       "\n",
       "}\n",
       "\n",
       "mpl.figure.prototype._key_event_extra = function(event, name) {\n",
       "    var manager = IPython.notebook.keyboard_manager;\n",
       "    if (!manager)\n",
       "        manager = IPython.keyboard_manager;\n",
       "\n",
       "    // Check for shift+enter\n",
       "    if (event.shiftKey && event.which == 13) {\n",
       "        this.canvas_div.blur();\n",
       "        // select the cell after this one\n",
       "        var index = IPython.notebook.find_cell_index(this.cell_info[0]);\n",
       "        IPython.notebook.select(index + 1);\n",
       "    }\n",
       "}\n",
       "\n",
       "mpl.figure.prototype.handle_save = function(fig, msg) {\n",
       "    fig.ondownload(fig, null);\n",
       "}\n",
       "\n",
       "\n",
       "mpl.find_output_cell = function(html_output) {\n",
       "    // Return the cell and output element which can be found *uniquely* in the notebook.\n",
       "    // Note - this is a bit hacky, but it is done because the \"notebook_saving.Notebook\"\n",
       "    // IPython event is triggered only after the cells have been serialised, which for\n",
       "    // our purposes (turning an active figure into a static one), is too late.\n",
       "    var cells = IPython.notebook.get_cells();\n",
       "    var ncells = cells.length;\n",
       "    for (var i=0; i<ncells; i++) {\n",
       "        var cell = cells[i];\n",
       "        if (cell.cell_type === 'code'){\n",
       "            for (var j=0; j<cell.output_area.outputs.length; j++) {\n",
       "                var data = cell.output_area.outputs[j];\n",
       "                if (data.data) {\n",
       "                    // IPython >= 3 moved mimebundle to data attribute of output\n",
       "                    data = data.data;\n",
       "                }\n",
       "                if (data['text/html'] == html_output) {\n",
       "                    return [cell, data, j];\n",
       "                }\n",
       "            }\n",
       "        }\n",
       "    }\n",
       "}\n",
       "\n",
       "// Register the function which deals with the matplotlib target/channel.\n",
       "// The kernel may be null if the page has been refreshed.\n",
       "if (IPython.notebook.kernel != null) {\n",
       "    IPython.notebook.kernel.comm_manager.register_target('matplotlib', mpl.mpl_figure_comm);\n",
       "}\n"
      ],
      "text/plain": [
       "<IPython.core.display.Javascript object>"
      ]
     },
     "metadata": {},
     "output_type": "display_data"
    },
    {
     "data": {
      "text/html": [
       "<img src=\"data:image/png;base64,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\" width=\"600\">"
      ],
      "text/plain": [
       "<IPython.core.display.HTML object>"
      ]
     },
     "metadata": {},
     "output_type": "display_data"
    },
    {
     "data": {
      "application/vnd.jupyter.widget-view+json": {
       "model_id": "5f3c77e9fa6b4f06bd963290f1b1bada",
       "version_major": 2,
       "version_minor": 0
      },
      "text/plain": [
       "interactive(children=(FloatSlider(value=1.0, description='v1', max=5.0, min=-5.0), FloatSlider(value=2.0, desc…"
      ]
     },
     "metadata": {},
     "output_type": "display_data"
    }
   ],
   "source": [
    "fig, ax = plt.subplots(1,1)\n",
    "fig.set_size_inches(6, 6)\n",
    "\n",
    "@interact(v1=(-5,5,0.1), v2=(-5,5,0.1), w1=(-5,5,0.1), w2=(-5,5,0.1))\n",
    "def update(v1=1, v2=2, w1=2, w2=0.5):\n",
    "    v, w = numpy.array([v1, v2]), numpy.array([w1, w2])\n",
    "    ax.cla()\n",
    "    ax.arrow(0, 0, v1*0.9, v2*0.9, head_width=0.25, head_length=0.25, fc='g', ec='g')\n",
    "    ax.arrow(0, 0, w1*0.9, w2*0.9, head_width=0.25, head_length=0.25, fc='b', ec='b')\n",
    "    ax.arrow(0, 0, v1*w1+v2*w2, 0, head_width=0.25, head_length=0.25, fc='k', ec='k')\n",
    "    fig.canvas.draw_idle()\n",
    "    ax.set_xlim(-5, 5);ax.set_ylim(-5, 5)\n",
    "    ax.set_xlabel('$X_1$');ax.set_ylabel('$X_2$')\n",
    "    plt.suptitle('Dot Product')\n",
    "    ax.grid(True)\n",
    "    fig.tight_layout(rect=[0, 0.03, 1, 0.95])"
   ]
  },
  {
   "cell_type": "markdown",
   "metadata": {
    "cell_style": "split",
    "slideshow": {
     "slide_type": "subslide"
    }
   },
   "source": [
    "### Cauchy–Schwarz Inequality\n",
    "$$ \\cfrac{|\\vec{V} \\cdot \\vec{U}|}{|\\vec{V}| \\: |\\vec{U}|} \\leq 1 $$\n",
    "\n",
    "+ Bounds the output of Dot product\n",
    " + Shows something about direction\n",
    "+ Basic to show\n",
    "  + Applications everywhere\n",
    "\n",
    "+ What does equality mean?\n",
    "\n",
    "+ What if 2 vectors are opposite directions?\n",
    "\n",
    "\n",
    "\n",
    "\n",
    "\n"
   ]
  },
  {
   "cell_type": "markdown",
   "metadata": {
    "cell_style": "split",
    "slideshow": {
     "slide_type": "fragment"
    }
   },
   "source": [
    "$$ \\hat{V} = \\cfrac{\\vec{V}}{|\\vec{V}|} \\quad |\\hat{V}| = 1 \\quad \\quad\n",
    "\\hat{U} = \\cfrac{\\vec{U}}{|\\vec{U}|} \\quad |\\hat{U}| = 1 $$\n",
    "\n"
   ]
  },
  {
   "cell_type": "markdown",
   "metadata": {
    "cell_style": "split",
    "slideshow": {
     "slide_type": "fragment"
    }
   },
   "source": [
    "$$ \\hat{V} \\cdot \\hat{U} = cos(\\theta) $$"
   ]
  },
  {
   "cell_type": "markdown",
   "metadata": {
    "cell_style": "split",
    "slideshow": {
     "slide_type": "fragment"
    }
   },
   "source": [
    "$$ | \\hat{V} \\cdot \\hat{U} | = |cos(\\theta)| \\leq 1 $$"
   ]
  },
  {
   "cell_type": "markdown",
   "metadata": {
    "cell_style": "split",
    "slideshow": {
     "slide_type": "fragment"
    }
   },
   "source": [
    "$$ \\left | \\cfrac{\\vec{V}}{|\\vec{V}|} \\cdot \\cfrac{\\vec{U}}{|\\vec{U}|} \\right| \\leq 1 \\quad  \\xrightarrow[]{} \\quad \\cfrac{|\\vec{V} \\cdot \\vec{U}|}{|\\vec{V}| \\: |\\vec{U}|} \\leq 1  $$"
   ]
  },
  {
   "cell_type": "markdown",
   "metadata": {
    "cell_style": "split",
    "slideshow": {
     "slide_type": "subslide"
    }
   },
   "source": [
    "### Matched Filter\n",
    "Maxmize the Signal to Noise Ratio\n",
    "\n",
    "#### Cauchy–Schwarz Inequality\n",
    "Tells us the maximum we can get is 1"
   ]
  },
  {
   "cell_type": "markdown",
   "metadata": {
    "cell_style": "split",
    "slideshow": {
     "slide_type": "fragment"
    }
   },
   "source": [
    "\n",
    "\n",
    "$$ \\begin{align}\n",
    "\\cfrac{|\\vec{V} \\cdot \\vec{U}|}{|\\vec{V}| \\: |\\vec{U}|} &\\leq 1 \\\\\n",
    "{|\\hat{V} \\cdot \\hat{U}|} &\\leq 1 \\\\\n",
    "{|\\hat{V} \\cdot \\hat{U}|} &= 1 \n",
    "\\end{align}$$\n",
    "\n",
    "#### What can be infered about $\\vec{V}$ and $\\vec{U}$"
   ]
  },
  {
   "cell_type": "markdown",
   "metadata": {
    "slideshow": {
     "slide_type": "notes"
    }
   },
   "source": [
    "+  $\\vec{V}$ and $\\vec{U}$"
   ]
  },
  {
   "cell_type": "markdown",
   "metadata": {
    "cell_style": "split",
    "slideshow": {
     "slide_type": "subslide"
    }
   },
   "source": [
    "### Convolution\n",
    "$$ \\begin{align} (f*g)(t) &= \\int_{-\\infty}^{t} f(\\tau)\\: g(t-\\tau) \\: d \\tau \\\\\n",
    "(f*g)[n] &= \\sum_{-\\infty\\dots \\infty}^{i}  f[i]\\:g[n-i]  \\end{align}$$"
   ]
  },
  {
   "cell_type": "markdown",
   "metadata": {
    "cell_style": "split",
    "slideshow": {
     "slide_type": "-"
    }
   },
   "source": [
    "<img src=\"rect_rect_conv.gif?0\" width=\"100%\">"
   ]
  },
  {
   "cell_type": "markdown",
   "metadata": {
    "slideshow": {
     "slide_type": "subslide"
    }
   },
   "source": [
    "<img src=\"rect_rect_conv_auto.gif\" width=\"100%\">"
   ]
  },
  {
   "cell_type": "markdown",
   "metadata": {
    "slideshow": {
     "slide_type": "subslide"
    }
   },
   "source": [
    "<img src=\"rect_fat_rect_conv_auto.gif\" width=\"100%\">"
   ]
  },
  {
   "cell_type": "markdown",
   "metadata": {
    "slideshow": {
     "slide_type": "subslide"
    }
   },
   "source": [
    "<img src=\"rect_exp_conv_auto.gif\" width=\"100%\">"
   ]
  },
  {
   "cell_type": "markdown",
   "metadata": {
    "slideshow": {
     "slide_type": "subslide"
    }
   },
   "source": [
    "<img src=\"exp_exp_conv_auto.gif\" width=\"100%\">"
   ]
  },
  {
   "cell_type": "markdown",
   "metadata": {
    "slideshow": {
     "slide_type": "subslide"
    }
   },
   "source": [
    "<img src=\"rect_gaussian_conv_auto.gif\" width=\"100%\">"
   ]
  },
  {
   "cell_type": "markdown",
   "metadata": {
    "slideshow": {
     "slide_type": "subslide"
    }
   },
   "source": [
    "<img src=\"gaussian_gaussian_conv_auto.gif\" width=\"100%\">"
   ]
  },
  {
   "cell_type": "code",
   "execution_count": null,
   "metadata": {},
   "outputs": [],
   "source": []
  },
  {
   "cell_type": "markdown",
   "metadata": {
    "slideshow": {
     "slide_type": "skip"
    }
   },
   "source": [
    "<img src=\"rect_rect_conv.gif?0\" width=\"100%\">"
   ]
  },
  {
   "cell_type": "markdown",
   "metadata": {
    "slideshow": {
     "slide_type": "skip"
    }
   },
   "source": [
    "<img src=\"rect_exp_conv.gif\" width=\"90%\">"
   ]
  },
  {
   "cell_type": "markdown",
   "metadata": {
    "slideshow": {
     "slide_type": "subslide"
    }
   },
   "source": []
  },
  {
   "cell_type": "markdown",
   "metadata": {},
   "source": []
  },
  {
   "cell_type": "markdown",
   "metadata": {
    "slideshow": {
     "slide_type": "subslide"
    }
   },
   "source": [
    "### Matrix Operations\n",
    "\n",
    "+ Scalar Matrix multiplication\n",
    "\n",
    "+ Addition and Subtraction\n",
    "\n",
    "+ Matrix Multiplication\n",
    "\n",
    "+ Matrix Inverse\n",
    "\n",
    "+ Matrix Decompositions"
   ]
  },
  {
   "cell_type": "markdown",
   "metadata": {
    "slideshow": {
     "slide_type": "subslide"
    }
   },
   "source": [
    "#### Scalar Matrix Multiplication"
   ]
  },
  {
   "cell_type": "markdown",
   "metadata": {
    "slideshow": {
     "slide_type": "subslide"
    }
   },
   "source": [
    "#### Addition and Subtraction"
   ]
  },
  {
   "cell_type": "markdown",
   "metadata": {
    "slideshow": {
     "slide_type": "subslide"
    }
   },
   "source": [
    "#### Matrix Multiplication"
   ]
  },
  {
   "cell_type": "markdown",
   "metadata": {
    "slideshow": {
     "slide_type": "subslide"
    }
   },
   "source": [
    "#### Matrix Inverse"
   ]
  },
  {
   "cell_type": "markdown",
   "metadata": {
    "slideshow": {
     "slide_type": "subslide"
    }
   },
   "source": [
    "#### Matrix Decompositions"
   ]
  },
  {
   "cell_type": "markdown",
   "metadata": {
    "slideshow": {
     "slide_type": "notes"
    }
   },
   "source": []
  },
  {
   "cell_type": "markdown",
   "metadata": {
    "cell_style": "split",
    "slideshow": {
     "slide_type": "subslide"
    }
   },
   "source": [
    "### Multivariate Random Variables\n",
    "\n",
    "#### Guassian\n",
    "$$ \\begin{align} \\mathcal{N} \\left ( \\bf \\mu , \\bf \\Sigma \\right ) \n",
    "&= {\\left ( \\sqrt{ \\left ( 2 \\pi \\right ) ^{k} \\bf |\\Sigma| } \\right ) }^{-1} {e^{\n",
    "- \\cfrac{\\left ( \\left ( x-\\mu \\right )^{T} \\Sigma ^ {-1}  \\left ( x-\\mu \\right ) \\right )} {2}\n",
    "} }\n",
    "\\end{align}\n",
    "$$\n",
    "\n",
    "#### Complex Guassian\n",
    "$$ \\begin{align} \\mathcal{CN} \\left ( \\bf \\mu , \\bf \\Sigma \\right ) \n",
    "&= {\\left ( { \\left ( 2 \\pi \\right ) ^{k} \\bf |\\Sigma| } \\right ) }^{-1} {e^{\n",
    "- \\cfrac{\\left ( \\left ( x-\\mu \\right )^{T} \\Sigma ^ {-1}  \\left ( x-\\mu \\right ) \\right )} {2}\n",
    "} }\n",
    "\\end{align}\n",
    "$$"
   ]
  },
  {
   "cell_type": "markdown",
   "metadata": {
    "cell_style": "split",
    "slideshow": {
     "slide_type": "fragment"
    }
   },
   "source": [
    "#### Zero Mean Unit Variance\n",
    "\n",
    "$$ \\begin{align} \\mathcal{N} \\left ( \\bf 0 , \\bf 1 \\right ) \n",
    "&= {\\left ( \\sqrt{ \\left ( 2 \\pi \\right ) ^{k} \\bf } \\right ) }^{-1} {e^{\n",
    "- \\left ( \\cfrac{  x^{T} x } {2} \\right )\n",
    "} }\n",
    "\\end{align}\n",
    "$$"
   ]
  },
  {
   "cell_type": "markdown",
   "metadata": {
    "cell_style": "split",
    "slideshow": {
     "slide_type": "fragment"
    }
   },
   "source": [
    "#### Complex Zero Mean Unit Variance\n",
    "\n",
    "$$ \\begin{align} \\mathcal{CN} \\left ( \\bf 0 , \\bf 1 \\right ) \n",
    "&= { { \\left ( 2 \\pi \\right ) ^{-k} \\bf } } {e^{\n",
    "- \\left ( \\cfrac{  x^{T} x } {2} \\right )\n",
    "} }\n",
    "\\end{align}\n",
    "$$"
   ]
  },
  {
   "cell_type": "markdown",
   "metadata": {
    "slideshow": {
     "slide_type": "subslide"
    }
   },
   "source": [
    "### Correlation of random vectors\n"
   ]
  },
  {
   "cell_type": "markdown",
   "metadata": {
    "slideshow": {
     "slide_type": "subslide"
    }
   },
   "source": [
    "### Orthogonal + Normal = Orthonormal\n"
   ]
  },
  {
   "cell_type": "markdown",
   "metadata": {
    "slideshow": {
     "slide_type": "subslide"
    }
   },
   "source": [
    "### Inverse\n"
   ]
  },
  {
   "cell_type": "markdown",
   "metadata": {
    "slideshow": {
     "slide_type": "subslide"
    }
   },
   "source": [
    "### Decomposistions\n"
   ]
  },
  {
   "cell_type": "markdown",
   "metadata": {},
   "source": []
  },
  {
   "cell_type": "markdown",
   "metadata": {},
   "source": []
  },
  {
   "cell_type": "markdown",
   "metadata": {
    "slideshow": {
     "slide_type": "slide"
    }
   },
   "source": [
    "## Frequency / Tone\n",
    " + Real valued\n",
    " + Matched Filter Real valued\n",
    " + Phase\n",
    " + Complex Samples"
   ]
  },
  {
   "cell_type": "markdown",
   "metadata": {
    "cell_style": "split",
    "slideshow": {
     "slide_type": "subslide"
    }
   },
   "source": [
    "## Real Valued Signal\n",
    "\n",
    "$$ tone(t) = sin(2\\pi f t -\\phi) $$\n",
    "\n",
    "+ f is frequency in 1 over peroid\n",
    "  + $\\omega$ angular frequency in radians per peroid\n",
    "  + $\\omega = 2 \\pi f $\n",
    "+ $\\phi$ is the phase\n",
    "\n",
    "\n"
   ]
  },
  {
   "cell_type": "markdown",
   "metadata": {
    "cell_style": "split",
    "slideshow": {
     "slide_type": "-"
    }
   },
   "source": [
    "<img src=\"sine_wave.gif\" width=\"100%\">"
   ]
  },
  {
   "cell_type": "markdown",
   "metadata": {
    "slideshow": {
     "slide_type": "subslide"
    }
   },
   "source": [
    "<img src=\"matched_filter_phase_1.gif?0\" width=\"90%\">"
   ]
  },
  {
   "cell_type": "markdown",
   "metadata": {
    "slideshow": {
     "slide_type": "subslide"
    }
   },
   "source": [
    "<img src=\"matched_filter_IQ.gif\" width=\"90%\">"
   ]
  },
  {
   "cell_type": "markdown",
   "metadata": {
    "slideshow": {
     "slide_type": "notes"
    }
   },
   "source": [
    "+ Two Filters\n",
    "+ Note the amplitude \n",
    "  + Peak is 1\n",
    "  + The Filter magnitude is 1/2\n",
    "  + Root Mean Square is $\\sqrt{1/2}$"
   ]
  },
  {
   "cell_type": "markdown",
   "metadata": {
    "cell_style": "split",
    "slideshow": {
     "slide_type": "subslide"
    }
   },
   "source": [
    "### 2 Perpendicular Axis\n",
    "\n",
    "+ Real Valued Tones require a pair of matched filters\n",
    "  + Two filters are orthogonal\n",
    "\n",
    "\n",
    "#### Direct Conversion\n",
    "\n",
    "  + Where complex numbers principally come from for signal processing"
   ]
  },
  {
   "cell_type": "markdown",
   "metadata": {
    "cell_style": "split",
    "slideshow": {
     "slide_type": "fragment"
    }
   },
   "source": [
    "$$ I = Signal(t) \\cdot cos(\\omega t), \\quad Q = Signal(t) \\cdot sin(\\omega t)$$"
   ]
  },
  {
   "cell_type": "markdown",
   "metadata": {
    "cell_style": "split",
    "slideshow": {
     "slide_type": "fragment"
    }
   },
   "source": [
    "###### Euler's Equation\n",
    "\n",
    "$$ e^{ix} = cos(x) + i\\:sin(x) \\quad where \\;\\; i=\\sqrt{-1}$$\n",
    "\n",
    "See Taylor Expansion for proof"
   ]
  },
  {
   "cell_type": "markdown",
   "metadata": {
    "cell_style": "split",
    "slideshow": {
     "slide_type": "fragment"
    }
   },
   "source": [
    "$$ \\mathcal{z} = Signal(t)\\cdot ctone(t) $$\n",
    "\n",
    "$$ \\begin{align}ctone(t) &= { e^{i 2 \\pi f t + \\phi} } \\\\\n",
    "&=  cos(2\\pi f t -\\phi) + i\\: sin(2\\pi f t -\\phi)\n",
    "\\end{align}\n",
    "$$"
   ]
  },
  {
   "cell_type": "markdown",
   "metadata": {
    "slideshow": {
     "slide_type": "slide"
    }
   },
   "source": [
    "## Complex Number\n",
    "\n",
    "$$ Z = a + i\\: b $$\n",
    "\n",
    "  + Operations\n",
    "  + Relationship between Phase and Delay\n",
    "  + Negative Frequencies?\n",
    "  + Direct-conversion receiver\n",
    "  + Complex Random Numbers"
   ]
  },
  {
   "cell_type": "markdown",
   "metadata": {
    "cell_style": "split",
    "slideshow": {
     "slide_type": "subslide"
    }
   },
   "source": [
    "### Complex Number Operations\n",
    "#### Magnitude and Phase\n",
    "$$ |Z| = \\sqrt{ {\\Re(Z)}^2 + {\\Im(Z)}^2} $$\n",
    "$$ \\angle Z = \\phi = {tan}^{-1}  \\left (\\cfrac{\\Im(Z)}{\\Re(Z)}\\right)$$"
   ]
  },
  {
   "cell_type": "markdown",
   "metadata": {
    "cell_style": "split",
    "slideshow": {
     "slide_type": "fragment"
    }
   },
   "source": [
    "\n",
    "#### Addition \n",
    "Just like vector addition\n",
    "$$ Z + Y = \\left ( \\Re({Z}) + \\Re({Y}) \\right ) + i \\left ( \\Im({Z}) + \\Im({Y}) \\right ) $$\n"
   ]
  },
  {
   "cell_type": "markdown",
   "metadata": {
    "cell_style": "split",
    "slideshow": {
     "slide_type": "fragment"
    }
   },
   "source": [
    "#### Subtraction\n",
    "Just like vector addition and scalar multiplication\n",
    "$$ \\begin{align*}\n",
    "   Z - Y  & = Z + (-1 \\cdot Y ) \\\\\n",
    "          & = \\left ( \\Re({Z}) - \\Re({Y}) \\right ) + i \\left ( \\Im({Z}) - \\Im({Y}) \\right ) \n",
    "\\end{align*}\n",
    "$$"
   ]
  },
  {
   "cell_type": "markdown",
   "metadata": {
    "cell_style": "split",
    "slideshow": {
     "slide_type": "fragment"
    }
   },
   "source": [
    "#### Multiplication\n",
    "Rotation and scaling, not vector product\n",
    "$$ Z \\cdot Y = (\\Re(Z) \\Re(Y) - \\Im(Z) \\Im(Y)) + i(\\Re(Z) \\Im(Y) + \\Im(Z) \\Re(Y))$$"
   ]
  },
  {
   "cell_type": "markdown",
   "metadata": {
    "cell_style": "split",
    "slideshow": {
     "slide_type": "fragment"
    }
   },
   "source": [
    "#### Multiplication Magnitude and Angle\n",
    "$$ Z \\cdot Y = |Z| |Y|\\angle \\left ( \\angle Z + \\angle Y\\right )$$\n"
   ]
  },
  {
   "cell_type": "markdown",
   "metadata": {
    "slideshow": {
     "slide_type": "notes"
    }
   },
   "source": []
  },
  {
   "cell_type": "markdown",
   "metadata": {
    "cell_style": "split",
    "slideshow": {
     "slide_type": "subslide"
    }
   },
   "source": [
    "### Complex Number Operations\n",
    "\n"
   ]
  },
  {
   "cell_type": "markdown",
   "metadata": {
    "cell_style": "split",
    "slideshow": {
     "slide_type": "fragment"
    }
   },
   "source": [
    "#### Conjugation\n",
    "\n",
    "$$ Z^* = \\Re(Z) - i\\: \\Im(Z) $$"
   ]
  },
  {
   "cell_type": "markdown",
   "metadata": {
    "cell_style": "split",
    "slideshow": {
     "slide_type": "fragment"
    }
   },
   "source": [
    "#### Division\n",
    "\n",
    "$$ \\cfrac{Z}{Y} = \\cfrac{|Z|}{|Y|}\\angle \\left ( \\angle Z - \\angle Y \\right )  $$"
   ]
  },
  {
   "cell_type": "markdown",
   "metadata": {
    "cell_style": "split",
    "slideshow": {
     "slide_type": "fragment"
    }
   },
   "source": [
    "##### Real Powers\n",
    "$$ Z^n = |Z|^{n} \\angle \\left ( n \\: \\angle Z \\right ) $$\n",
    "##### Complex Powers\n",
    "$$ Z^\\alpha =  \\cdots \\cdots $$"
   ]
  },
  {
   "cell_type": "markdown",
   "metadata": {
    "slideshow": {
     "slide_type": "notes"
    }
   },
   "source": []
  },
  {
   "cell_type": "markdown",
   "metadata": {
    "slideshow": {
     "slide_type": "subslide"
    }
   },
   "source": [
    "### Delay and Phase\n",
    "\n",
    "$$ \\begin{align}ctone(t) &= { e^{i 2 \\pi f t + \\phi} } \\\\\n",
    "&= { e^{i 2 \\pi f \\left (t + \\cfrac{\\phi}{2 \\pi f} \\right ) }  }\n",
    "\\end{align}\n",
    "$$\n",
    "\n",
    "Observe $\\cfrac{\\phi}{2 \\pi f}$ is like time.\n",
    "\n",
    "$$ t = \\cfrac{\\phi}{2 \\pi f} $$"
   ]
  },
  {
   "cell_type": "markdown",
   "metadata": {
    "cell_style": "split",
    "slideshow": {
     "slide_type": "subslide"
    }
   },
   "source": [
    "### Negative Frequencies\n",
    "\n",
    "#### Real\n",
    "\n",
    "$$ tone(t) = sin(2\\pi f \\: t - \\phi ) $$\n",
    "\n",
    "\n",
    "+ What happens if $f$ is negative?\n",
    "\n",
    "\n",
    "+ Recall the matched filter animation"
   ]
  },
  {
   "cell_type": "markdown",
   "metadata": {
    "cell_style": "split",
    "slideshow": {
     "slide_type": "-"
    }
   },
   "source": [
    "<img src=\"sine_wave.gif\" width=\"100%\">"
   ]
  },
  {
   "cell_type": "markdown",
   "metadata": {
    "slideshow": {
     "slide_type": "subslide"
    }
   },
   "source": [
    "<img src=\"matched_filter_IQ.gif\" width=\"90%\">"
   ]
  },
  {
   "cell_type": "markdown",
   "metadata": {
    "cell_style": "split",
    "slideshow": {
     "slide_type": "subslide"
    }
   },
   "source": [
    "### Negative Frequencies\n",
    "\n",
    "#### Complex\n",
    "\n",
    "$$ ctone(t) &= { e^{i 2 \\pi f t + \\phi} }  $$\n",
    "\n",
    "\n",
    "+ What happens if $f$ is negative?\n"
   ]
  },
  {
   "cell_type": "markdown",
   "metadata": {
    "cell_style": "split"
   },
   "source": []
  },
  {
   "cell_type": "markdown",
   "metadata": {},
   "source": []
  },
  {
   "cell_type": "code",
   "execution_count": null,
   "metadata": {},
   "outputs": [],
   "source": []
  },
  {
   "cell_type": "markdown",
   "metadata": {},
   "source": [
    "\n",
    "  + Basic Math Operations\n",
    "    + Linearity\n",
    "    + Time Inverance \n",
    "    + Bounded Input Bounded Output\n",
    "    + Dirivatives and Differences\n",
    "    + Integrates and Sumations \n",
    "    + Useful Non-linear Functions\n",
    "      + ABS\n",
    "      + Squared\n",
    "      + Log and Decibels\n",
    "    \n",
    "  + Continous Vs. Descrete Signals\n",
    "    + Analog to Digital Conversion\n",
    "    + Digital to Analog Conversion\n",
    "    + Delta Symbol\n",
    "    + Nyquest Sampling\n",
    "    \n",
    "  + Random Varaibles\n",
    "    + Basics of Probablilty\n",
    "      + Probability Density Function\n",
    "      + Total Probablilty\n",
    "      + Cumulative Distribution Function\n",
    "    + Continuous Vs. Discrete\n",
    "    + Common Distributions\n",
    "      + Uniform\n",
    "      + Exponential\n",
    "      + Gaussian\n",
    "      + Chi Squared\n",
    "    + Independent and identically Distributed Random Variables\n",
    "    + Operations on random variables\n",
    "    + Central Limit Theorem\n",
    "    + Correlation\n",
    "    \n",
    "  + Basic Linear Algebra\n",
    "    + Vector Operations\n",
    "      + Addition\n",
    "      + Scaler Multiplication\n",
    "      + Vector Span\n",
    "    + Vector Products\n",
    "      + Elementwise Product\n",
    "      + Outter Product\n",
    "      + Inner Product\n",
    "    + Matrix Operations\n",
    "    + Cauchy–Schwarz inequality\n",
    "    + Matched Filter\n",
    "    + Convolution\n",
    "    + Correlation of random vectors\n",
    "    + Rotation Matrices\n",
    "    + \n",
    "    \n",
    "  + Frequency / Tone\n",
    "    + Real valued\n",
    "    + Matched Filter Real valued\n",
    "    + Phase\n",
    "    + Complex Samples\n",
    "    \n",
    "  + Complex Number\n",
    "    + Direct-conversion receiver\n",
    "    + Negative Frequencies?\n",
    "    + Relationship between Phase and Delay\n",
    "    + Complex Random Numbers\n",
    "  "
   ]
  },
  {
   "cell_type": "markdown",
   "metadata": {
    "slideshow": {
     "slide_type": "notes"
    }
   },
   "source": []
  }
 ],
 "metadata": {
  "celltoolbar": "Slideshow",
  "kernelspec": {
   "display_name": "Python 3",
   "language": "python",
   "name": "python3"
  },
  "language_info": {
   "codemirror_mode": {
    "name": "ipython",
    "version": 3
   },
   "file_extension": ".py",
   "mimetype": "text/x-python",
   "name": "python",
   "nbconvert_exporter": "python",
   "pygments_lexer": "ipython3",
   "version": "3.8.10"
  }
 },
 "nbformat": 4,
 "nbformat_minor": 4
}
