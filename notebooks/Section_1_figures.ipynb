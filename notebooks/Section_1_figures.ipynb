{
 "cells": [
  {
   "cell_type": "markdown",
   "metadata": {},
   "source": []
  },
  {
   "cell_type": "code",
   "execution_count": null,
   "metadata": {},
   "outputs": [],
   "source": [
    "import numpy as np\n",
    "\n",
    "\n",
    "\n",
    "import matplotlib import pyplot as plt\n",
    "\n",
    "%matplotlib notebook"
   ]
  },
  {
   "cell_type": "code",
   "execution_count": null,
   "metadata": {},
   "outputs": [],
   "source": []
  },
  {
   "cell_type": "code",
   "execution_count": 3,
   "metadata": {},
   "outputs": [],
   "source": [
    "!touch ./itsp/__init__.py"
   ]
  },
  {
   "cell_type": "code",
   "execution_count": 4,
   "metadata": {},
   "outputs": [
    {
     "name": "stdout",
     "output_type": "stream",
     "text": [
      " itsp\t\t  Section_1_figures.ipynb  'Section 2.ipynb'\r\n",
      " Overview.ipynb  'Section 1.ipynb'\r\n"
     ]
    }
   ],
   "source": [
    "!ls"
   ]
  },
  {
   "cell_type": "code",
   "execution_count": 8,
   "metadata": {},
   "outputs": [
    {
     "name": "stdout",
     "output_type": "stream",
     "text": [
      "--2021-09-13 11:26:38--  https://www.audacityteam.org/wp-content/uploads/2017/12/Theme_Classic.png\n",
      "Resolving www.audacityteam.org (www.audacityteam.org)... 104.26.0.108, 104.26.1.108, 172.67.74.133, ...\n",
      "Connecting to www.audacityteam.org (www.audacityteam.org)|104.26.0.108|:443... connected.\n",
      "HTTP request sent, awaiting response... 200 OK\n",
      "Length: 42910 (42K) [image/png]\n",
      "Saving to: ‘Theme_Classic.png’\n",
      "\n",
      "Theme_Classic.png   100%[===================>]  41.90K  --.-KB/s    in 0.008s  \n",
      "\n",
      "2021-09-13 11:26:39 (5.21 MB/s) - ‘Theme_Classic.png’ saved [42910/42910]\n",
      "\n"
     ]
    }
   ],
   "source": [
    "!wget https://www.audacityteam.org/wp-content/uploads/2017/12/Theme_Classic.png"
   ]
  },
  {
   "cell_type": "code",
   "execution_count": 11,
   "metadata": {},
   "outputs": [
    {
     "name": "stdout",
     "output_type": "stream",
     "text": [
      " \u001b[0m\u001b[01;34mitsp\u001b[0m/                                           'Section 1.ipynb'\r\n",
      " \u001b[01;35mNASA-Satellite-sea-level-rise-observations.jpg\u001b[0m  'Section 2.ipynb'\r\n",
      " Overview.ipynb                                   \u001b[01;35mTheme_Classic.png\u001b[0m\r\n",
      " Section_1_figures.ipynb                          \u001b[01;35mTheme_Dark.png\u001b[0m\r\n"
     ]
    }
   ],
   "source": [
    "ls"
   ]
  },
  {
   "cell_type": "code",
   "execution_count": 10,
   "metadata": {},
   "outputs": [
    {
     "name": "stdout",
     "output_type": "stream",
     "text": [
      "--2021-09-13 11:29:19--  https://upload.wikimedia.org/wikipedia/commons/9/98/NASA-Satellite-sea-level-rise-observations.jpg\n",
      "Resolving upload.wikimedia.org (upload.wikimedia.org)... 198.35.26.112, 2620:0:863:ed1a::2:b\n",
      "Connecting to upload.wikimedia.org (upload.wikimedia.org)|198.35.26.112|:443... connected.\n",
      "HTTP request sent, awaiting response... 200 OK\n",
      "Length: 81996 (80K) [image/jpeg]\n",
      "Saving to: ‘NASA-Satellite-sea-level-rise-observations.jpg’\n",
      "\n",
      "NASA-Satellite-sea- 100%[===================>]  80.07K  --.-KB/s    in 0.1s    \n",
      "\n",
      "2021-09-13 11:29:19 (793 KB/s) - ‘NASA-Satellite-sea-level-rise-observations.jpg’ saved [81996/81996]\n",
      "\n"
     ]
    }
   ],
   "source": [
    "!wget https://upload.wikimedia.org/wikipedia/commons/9/98/NASA-Satellite-sea-level-rise-observations.jpg"
   ]
  },
  {
   "cell_type": "code",
   "execution_count": 12,
   "metadata": {},
   "outputs": [
    {
     "data": {
      "text/plain": [
       "'/home/wylie/projects/ItSP/notebooks'"
      ]
     },
     "execution_count": 12,
     "metadata": {},
     "output_type": "execute_result"
    }
   ],
   "source": [
    "pwd"
   ]
  },
  {
   "cell_type": "code",
   "execution_count": 13,
   "metadata": {},
   "outputs": [
    {
     "name": "stdout",
     "output_type": "stream",
     "text": [
      "--2021-09-13 11:45:02--  https://upload.wikimedia.org/wikipedia/commons/6/67/Sunspots_1302_Sep_2011_by_NASA.jpg\n",
      "Resolving upload.wikimedia.org (upload.wikimedia.org)... 198.35.26.112, 2620:0:863:ed1a::2:b\n",
      "Connecting to upload.wikimedia.org (upload.wikimedia.org)|198.35.26.112|:443... connected.\n",
      "HTTP request sent, awaiting response... 200 OK\n",
      "Length: 37379 (37K) [image/jpeg]\n",
      "Saving to: ‘Sunspots_1302_Sep_2011_by_NASA.jpg’\n",
      "\n",
      "Sunspots_1302_Sep_2 100%[===================>]  36.50K  --.-KB/s    in 0.04s   \n",
      "\n",
      "2021-09-13 11:45:02 (843 KB/s) - ‘Sunspots_1302_Sep_2011_by_NASA.jpg’ saved [37379/37379]\n",
      "\n"
     ]
    }
   ],
   "source": [
    "!wget https://upload.wikimedia.org/wikipedia/commons/6/67/Sunspots_1302_Sep_2011_by_NASA.jpg"
   ]
  },
  {
   "cell_type": "code",
   "execution_count": 14,
   "metadata": {},
   "outputs": [
    {
     "name": "stdout",
     "output_type": "stream",
     "text": [
      "--2021-09-13 11:46:39--  https://upload.wikimedia.org/wikipedia/commons/2/28/Sunspot_Numbers.png\n",
      "Resolving upload.wikimedia.org (upload.wikimedia.org)... 198.35.26.112, 2620:0:863:ed1a::2:b\n",
      "Connecting to upload.wikimedia.org (upload.wikimedia.org)|198.35.26.112|:443... connected.\n",
      "HTTP request sent, awaiting response... 200 OK\n",
      "Length: 79915 (78K) [image/png]\n",
      "Saving to: ‘Sunspot_Numbers.png’\n",
      "\n",
      "Sunspot_Numbers.png 100%[===================>]  78.04K  --.-KB/s    in 0.08s   \n",
      "\n",
      "2021-09-13 11:46:39 (978 KB/s) - ‘Sunspot_Numbers.png’ saved [79915/79915]\n",
      "\n"
     ]
    }
   ],
   "source": [
    "!wget https://upload.wikimedia.org/wikipedia/commons/2/28/Sunspot_Numbers.png"
   ]
  },
  {
   "cell_type": "code",
   "execution_count": 15,
   "metadata": {},
   "outputs": [
    {
     "name": "stdout",
     "output_type": "stream",
     "text": [
      "--2021-09-13 12:05:13--  https://upload.wikimedia.org/wikipedia/commons/thumb/a/a6/LIGO_Hanford_aerial_05.jpg/1280px-LIGO_Hanford_aerial_05.jpg\n",
      "Resolving upload.wikimedia.org (upload.wikimedia.org)... 198.35.26.112, 2620:0:863:ed1a::2:b\n",
      "Connecting to upload.wikimedia.org (upload.wikimedia.org)|198.35.26.112|:443... connected.\n",
      "HTTP request sent, awaiting response... 200 OK\n",
      "Length: 264480 (258K) [image/jpeg]\n",
      "Saving to: ‘1280px-LIGO_Hanford_aerial_05.jpg’\n",
      "\n",
      "1280px-LIGO_Hanford 100%[===================>] 258.28K  --.-KB/s    in 0.1s    \n",
      "\n",
      "2021-09-13 12:05:14 (1.95 MB/s) - ‘1280px-LIGO_Hanford_aerial_05.jpg’ saved [264480/264480]\n",
      "\n"
     ]
    }
   ],
   "source": [
    "!wget https://upload.wikimedia.org/wikipedia/commons/thumb/a/a6/LIGO_Hanford_aerial_05.jpg/1280px-LIGO_Hanford_aerial_05.jpg"
   ]
  },
  {
   "cell_type": "code",
   "execution_count": null,
   "metadata": {},
   "outputs": [],
   "source": []
  },
  {
   "cell_type": "code",
   "execution_count": 52,
   "metadata": {},
   "outputs": [
    {
     "data": {
      "image/png": "[encoded data removed]",
      "text/plain": [
       "<Figure size 432x216 with 1 Axes>"
      ]
     },
     "metadata": {
      "needs_background": "light"
     },
     "output_type": "display_data"
    }
   ],
   "source": [
    "import numpy as np\n",
    "import matplotlib.pyplot as plt\n",
    "from scipy.stats import norm\n",
    "\n",
    "%matplotlib inline\n",
    "\n",
    "mean, var, skew, kurt = norm.stats(moments='mvsk')\n",
    "x = np.linspace(norm.ppf(0.001), norm.ppf(0.999), 1000)\n",
    "\n",
    "fig, ax = plt.subplots(1, 1)\n",
    "fig.set_size_inches(6, 3)\n",
    "\n",
    "ax.plot(x, norm.pdf(x), 'k-', lw=3, label='Gaussian \\n $\\mu=0, \\sigma=1$')\n",
    "\n",
    "ax.set_title('Probabilty')\n",
    "ax.set_xlabel('Value')\n",
    "ax.set_ylabel('Likelyhood')\n",
    "ax.legend()\n",
    "\n",
    "plt.savefig('probability.png', dpi=300)\n",
    "plt.show()"
   ]
  },
  {
   "cell_type": "code",
   "execution_count": 53,
   "metadata": {},
   "outputs": [
    {
     "data": {
      "image/png": "[encoded data removed]",
      "text/plain": [
       "<Figure size 432x216 with 1 Axes>"
      ]
     },
     "metadata": {
      "needs_background": "light"
     },
     "output_type": "display_data"
    }
   ],
   "source": [
    "import numpy as np\n",
    "import matplotlib.pyplot as plt\n",
    "from scipy.stats import norm\n",
    "\n",
    "%matplotlib inline\n",
    "\n",
    "mean, var, skew, kurt = norm.stats(moments='mvsk')\n",
    "x = np.linspace(norm.ppf(0.001), norm.ppf(0.999), 1000)\n",
    "\n",
    "fig, ax = plt.subplots(1, 1)\n",
    "fig.set_size_inches(6, 3)\n",
    "\n",
    "ax.plot(x, norm.pdf(x), 'k-', lw=3, label='Gaussian \\n $\\mu=0, \\sigma=1$')\n",
    "ax.fill_between(x, norm.pdf(x), 'b', alpha=0.3)\n",
    "\n",
    "ax.set_title('Probabilty')\n",
    "ax.set_xlabel('Value')\n",
    "ax.set_ylabel('Likelyhood')\n",
    "ax.legend()\n",
    "\n",
    "plt.savefig('probability_total.png', dpi=300)\n",
    "plt.show()"
   ]
  },
  {
   "cell_type": "code",
   "execution_count": 54,
   "metadata": {},
   "outputs": [
    {
     "data": {
      "image/png": "[encoded data removed]",
      "text/plain": [
       "<Figure size 432x216 with 1 Axes>"
      ]
     },
     "metadata": {
      "needs_background": "light"
     },
     "output_type": "display_data"
    }
   ],
   "source": [
    "import numpy as np\n",
    "import matplotlib.pyplot as plt\n",
    "from scipy.stats import norm\n",
    "\n",
    "%matplotlib inline\n",
    "\n",
    "mean, var, skew, kurt = norm.stats(moments='mvsk')\n",
    "x = np.linspace(norm.ppf(0.001), norm.ppf(0.999), 1000)\n",
    "\n",
    "fig, ax = plt.subplots(1, 1)\n",
    "fig.set_size_inches(6, 3)\n",
    "\n",
    "ax.plot(x, norm.pdf(x), 'k-', lw=3, label='Gaussian \\n $\\mu=0, \\sigma=1$')\n",
    "ax.plot([1], norm.pdf(1), 'or', markersize=10)\n",
    "\n",
    "ax.set_title('Probabilty')\n",
    "ax.set_xlabel('Value')\n",
    "ax.set_ylabel('Likelyhood')\n",
    "ax.legend()\n",
    "\n",
    "plt.savefig('probability_point.png', dpi=300)\n",
    "plt.show()"
   ]
  },
  {
   "cell_type": "code",
   "execution_count": 57,
   "metadata": {},
   "outputs": [
    {
     "data": {
      "image/png": "[encoded data removed]",
      "text/plain": [
       "<Figure size 432x216 with 1 Axes>"
      ]
     },
     "metadata": {
      "needs_background": "light"
     },
     "output_type": "display_data"
    }
   ],
   "source": [
    "import numpy as np\n",
    "import matplotlib.pyplot as plt\n",
    "from scipy.stats import norm\n",
    "\n",
    "%matplotlib inline\n",
    "\n",
    "mean, var, skew, kurt = norm.stats(moments='mvsk')\n",
    "x = np.linspace(norm.ppf(0.001), norm.ppf(0.999), 1000)\n",
    "x0 = np.linspace(norm.ppf(0.001), 0, 500)\n",
    "\n",
    "fig, ax = plt.subplots(1, 1)\n",
    "fig.set_size_inches(6, 3)\n",
    "\n",
    "ax.plot(x, norm.pdf(x), 'k-', lw=3, label='Gaussian \\n $\\mu=0, \\sigma=1$')\n",
    "ax.fill_between(x0, norm.pdf(x0), 'b', alpha=0.3, label='Less than 0')\n",
    "\n",
    "ax.set_title('Probabilty')\n",
    "ax.set_xlabel('Value')\n",
    "ax.set_ylabel('Likelyhood')\n",
    "ax.legend()\n",
    "\n",
    "plt.savefig('probability_regoin.png', dpi=300)\n",
    "plt.show()"
   ]
  },
  {
   "cell_type": "code",
   "execution_count": 71,
   "metadata": {},
   "outputs": [
    {
     "data": {
      "image/png": "[encoded data removed]",
      "text/plain": [
       "<Figure size 648x432 with 2 Axes>"
      ]
     },
     "metadata": {
      "needs_background": "light"
     },
     "output_type": "display_data"
    }
   ],
   "source": [
    "import numpy as np\n",
    "import matplotlib.pyplot as plt\n",
    "from scipy.stats import norm\n",
    "\n",
    "%matplotlib inline\n",
    "\n",
    "mean, var, skew, kurt = norm.stats(moments='mvsk')\n",
    "x = np.linspace(norm.ppf(0.001), norm.ppf(0.999), 1000)\n",
    "x0 = np.linspace(norm.ppf(0.001), 0.5, 500)\n",
    "\n",
    "fig, (ax, ax1, ) = plt.subplots(2, 1)\n",
    "fig.set_size_inches(9, 6)\n",
    "\n",
    "ax.plot(x, norm.pdf(x), 'k-', lw=3, label='Gaussian \\n $\\mu=0, \\sigma=1$')\n",
    "ax.fill_between(x0, norm.pdf(x0), 'b', alpha=0.3, label='Less than x')\n",
    "\n",
    "ax.set_title('Probabilty')\n",
    "ax.set_xlabel('Value')\n",
    "ax.set_ylabel('Likelyhood')\n",
    "ax.legend()\n",
    "\n",
    "ax1.plot(x, norm.cdf(x), 'k-', lw=3, label='Cumulative Density Function')\n",
    "ax1.plot(max(x0), norm.cdf(max(x0)), 'or', markersize=10)\n",
    "ax1.legend()\n",
    "\n",
    "ax1.set_xlabel('Value')\n",
    "\n",
    "plt.tight_layout()\n",
    "plt.savefig('probability_pdf_cdf.png', dpi=300)\n",
    "plt.show()"
   ]
  },
  {
   "cell_type": "code",
   "execution_count": null,
   "metadata": {},
   "outputs": [],
   "source": []
  },
  {
   "cell_type": "code",
   "execution_count": 16,
   "metadata": {},
   "outputs": [
    {
     "data": {
      "application/javascript": [
       "/* Put everything inside the global mpl namespace */\n",
       "window.mpl = {};\n",
       "\n",
       "\n",
       "mpl.get_websocket_type = function() {\n",
       "    if (typeof(WebSocket) !== 'undefined') {\n",
       "        return WebSocket;\n",
       "    } else if (typeof(MozWebSocket) !== 'undefined') {\n",
       "        return MozWebSocket;\n",
       "    } else {\n",
       "        alert('Your browser does not have WebSocket support. ' +\n",
       "              'Please try Chrome, Safari or Firefox ≥ 6. ' +\n",
       "              'Firefox 4 and 5 are also supported but you ' +\n",
       "              'have to enable WebSockets in about:config.');\n",
       "    };\n",
       "}\n",
       "\n",
       "mpl.figure = function(figure_id, websocket, ondownload, parent_element) {\n",
       "    this.id = figure_id;\n",
       "\n",
       "    this.ws = websocket;\n",
       "\n",
       "    this.supports_binary = (this.ws.binaryType != undefined);\n",
       "\n",
       "    if (!this.supports_binary) {\n",
       "        var warnings = document.getElementById(\"mpl-warnings\");\n",
       "        if (warnings) {\n",
       "            warnings.style.display = 'block';\n",
       "            warnings.textContent = (\n",
       "                \"This browser does not support binary websocket messages. \" +\n",
       "                    \"Performance may be slow.\");\n",
       "        }\n",
       "    }\n",
       "\n",
       "    this.imageObj = new Image();\n",
       "\n",
       "    this.context = undefined;\n",
       "    this.message = undefined;\n",
       "    this.canvas = undefined;\n",
       "    this.rubberband_canvas = undefined;\n",
       "    this.rubberband_context = undefined;\n",
       "    this.format_dropdown = undefined;\n",
       "\n",
       "    this.image_mode = 'full';\n",
       "\n",
       "    this.root = $('<div/>');\n",
       "    this._root_extra_style(this.root)\n",
       "    this.root.attr('style', 'display: inline-block');\n",
       "\n",
       "    $(parent_element).append(this.root);\n",
       "\n",
       "    this._init_header(this);\n",
       "    this._init_canvas(this);\n",
       "    this._init_toolbar(this);\n",
       "\n",
       "    var fig = this;\n",
       "\n",
       "    this.waiting = false;\n",
       "\n",
       "    this.ws.onopen =  function () {\n",
       "            fig.send_message(\"supports_binary\", {value: fig.supports_binary});\n",
       "            fig.send_message(\"send_image_mode\", {});\n",
       "            if (mpl.ratio != 1) {\n",
       "                fig.send_message(\"set_dpi_ratio\", {'dpi_ratio': mpl.ratio});\n",
       "            }\n",
       "            fig.send_message(\"refresh\", {});\n",
       "        }\n",
       "\n",
       "    this.imageObj.onload = function() {\n",
       "            if (fig.image_mode == 'full') {\n",
       "                // Full images could contain transparency (where diff images\n",
       "                // almost always do), so we need to clear the canvas so that\n",
       "                // there is no ghosting.\n",
       "                fig.context.clearRect(0, 0, fig.canvas.width, fig.canvas.height);\n",
       "            }\n",
       "            fig.context.drawImage(fig.imageObj, 0, 0);\n",
       "        };\n",
       "\n",
       "    this.imageObj.onunload = function() {\n",
       "        fig.ws.close();\n",
       "    }\n",
       "\n",
       "    this.ws.onmessage = this._make_on_message_function(this);\n",
       "\n",
       "    this.ondownload = ondownload;\n",
       "}\n",
       "\n",
       "mpl.figure.prototype._init_header = function() {\n",
       "    var titlebar = $(\n",
       "        '<div class=\"ui-dialog-titlebar ui-widget-header ui-corner-all ' +\n",
       "        'ui-helper-clearfix\"/>');\n",
       "    var titletext = $(\n",
       "        '<div class=\"ui-dialog-title\" style=\"width: 100%; ' +\n",
       "        'text-align: center; padding: 3px;\"/>');\n",
       "    titlebar.append(titletext)\n",
       "    this.root.append(titlebar);\n",
       "    this.header = titletext[0];\n",
       "}\n",
       "\n",
       "\n",
       "\n",
       "mpl.figure.prototype._canvas_extra_style = function(canvas_div) {\n",
       "\n",
       "}\n",
       "\n",
       "\n",
       "mpl.figure.prototype._root_extra_style = function(canvas_div) {\n",
       "\n",
       "}\n",
       "\n",
       "mpl.figure.prototype._init_canvas = function() {\n",
       "    var fig = this;\n",
       "\n",
       "    var canvas_div = $('<div/>');\n",
       "\n",
       "    canvas_div.attr('style', 'position: relative; clear: both; outline: 0');\n",
       "\n",
       "    function canvas_keyboard_event(event) {\n",
       "        return fig.key_event(event, event['data']);\n",
       "    }\n",
       "\n",
       "    canvas_div.keydown('key_press', canvas_keyboard_event);\n",
       "    canvas_div.keyup('key_release', canvas_keyboard_event);\n",
       "    this.canvas_div = canvas_div\n",
       "    this._canvas_extra_style(canvas_div)\n",
       "    this.root.append(canvas_div);\n",
       "\n",
       "    var canvas = $('<canvas/>');\n",
       "    canvas.addClass('mpl-canvas');\n",
       "    canvas.attr('style', \"left: 0; top: 0; z-index: 0; outline: 0\")\n",
       "\n",
       "    this.canvas = canvas[0];\n",
       "    this.context = canvas[0].getContext(\"2d\");\n",
       "\n",
       "    var backingStore = this.context.backingStorePixelRatio ||\n",
       "\tthis.context.webkitBackingStorePixelRatio ||\n",
       "\tthis.context.mozBackingStorePixelRatio ||\n",
       "\tthis.context.msBackingStorePixelRatio ||\n",
       "\tthis.context.oBackingStorePixelRatio ||\n",
       "\tthis.context.backingStorePixelRatio || 1;\n",
       "\n",
       "    mpl.ratio = (window.devicePixelRatio || 1) / backingStore;\n",
       "\n",
       "    var rubberband = $('<canvas/>');\n",
       "    rubberband.attr('style', \"position: absolute; left: 0; top: 0; z-index: 1;\")\n",
       "\n",
       "    var pass_mouse_events = true;\n",
       "\n",
       "    canvas_div.resizable({\n",
       "        start: function(event, ui) {\n",
       "            pass_mouse_events = false;\n",
       "        },\n",
       "        resize: function(event, ui) {\n",
       "            fig.request_resize(ui.size.width, ui.size.height);\n",
       "        },\n",
       "        stop: function(event, ui) {\n",
       "            pass_mouse_events = true;\n",
       "            fig.request_resize(ui.size.width, ui.size.height);\n",
       "        },\n",
       "    });\n",
       "\n",
       "    function mouse_event_fn(event) {\n",
       "        if (pass_mouse_events)\n",
       "            return fig.mouse_event(event, event['data']);\n",
       "    }\n",
       "\n",
       "    rubberband.mousedown('button_press', mouse_event_fn);\n",
       "    rubberband.mouseup('button_release', mouse_event_fn);\n",
       "    // Throttle sequential mouse events to 1 every 20ms.\n",
       "    rubberband.mousemove('motion_notify', mouse_event_fn);\n",
       "\n",
       "    rubberband.mouseenter('figure_enter', mouse_event_fn);\n",
       "    rubberband.mouseleave('figure_leave', mouse_event_fn);\n",
       "\n",
       "    canvas_div.on(\"wheel\", function (event) {\n",
       "        event = event.originalEvent;\n",
       "        event['data'] = 'scroll'\n",
       "        if (event.deltaY < 0) {\n",
       "            event.step = 1;\n",
       "        } else {\n",
       "            event.step = -1;\n",
       "        }\n",
       "        mouse_event_fn(event);\n",
       "    });\n",
       "\n",
       "    canvas_div.append(canvas);\n",
       "    canvas_div.append(rubberband);\n",
       "\n",
       "    this.rubberband = rubberband;\n",
       "    this.rubberband_canvas = rubberband[0];\n",
       "    this.rubberband_context = rubberband[0].getContext(\"2d\");\n",
       "    this.rubberband_context.strokeStyle = \"#000000\";\n",
       "\n",
       "    this._resize_canvas = function(width, height) {\n",
       "        // Keep the size of the canvas, canvas container, and rubber band\n",
       "        // canvas in synch.\n",
       "        canvas_div.css('width', width)\n",
       "        canvas_div.css('height', height)\n",
       "\n",
       "        canvas.attr('width', width * mpl.ratio);\n",
       "        canvas.attr('height', height * mpl.ratio);\n",
       "        canvas.attr('style', 'width: ' + width + 'px; height: ' + height + 'px;');\n",
       "\n",
       "        rubberband.attr('width', width);\n",
       "        rubberband.attr('height', height);\n",
       "    }\n",
       "\n",
       "    // Set the figure to an initial 600x600px, this will subsequently be updated\n",
       "    // upon first draw.\n",
       "    this._resize_canvas(600, 600);\n",
       "\n",
       "    // Disable right mouse context menu.\n",
       "    $(this.rubberband_canvas).bind(\"contextmenu\",function(e){\n",
       "        return false;\n",
       "    });\n",
       "\n",
       "    function set_focus () {\n",
       "        canvas.focus();\n",
       "        canvas_div.focus();\n",
       "    }\n",
       "\n",
       "    window.setTimeout(set_focus, 100);\n",
       "}\n",
       "\n",
       "mpl.figure.prototype._init_toolbar = function() {\n",
       "    var fig = this;\n",
       "\n",
       "    var nav_element = $('<div/>');\n",
       "    nav_element.attr('style', 'width: 100%');\n",
       "    this.root.append(nav_element);\n",
       "\n",
       "    // Define a callback function for later on.\n",
       "    function toolbar_event(event) {\n",
       "        return fig.toolbar_button_onclick(event['data']);\n",
       "    }\n",
       "    function toolbar_mouse_event(event) {\n",
       "        return fig.toolbar_button_onmouseover(event['data']);\n",
       "    }\n",
       "\n",
       "    for(var toolbar_ind in mpl.toolbar_items) {\n",
       "        var name = mpl.toolbar_items[toolbar_ind][0];\n",
       "        var tooltip = mpl.toolbar_items[toolbar_ind][1];\n",
       "        var image = mpl.toolbar_items[toolbar_ind][2];\n",
       "        var method_name = mpl.toolbar_items[toolbar_ind][3];\n",
       "\n",
       "        if (!name) {\n",
       "            // put a spacer in here.\n",
       "            continue;\n",
       "        }\n",
       "        var button = $('<button/>');\n",
       "        button.addClass('ui-button ui-widget ui-state-default ui-corner-all ' +\n",
       "                        'ui-button-icon-only');\n",
       "        button.attr('role', 'button');\n",
       "        button.attr('aria-disabled', 'false');\n",
       "        button.click(method_name, toolbar_event);\n",
       "        button.mouseover(tooltip, toolbar_mouse_event);\n",
       "\n",
       "        var icon_img = $('<span/>');\n",
       "        icon_img.addClass('ui-button-icon-primary ui-icon');\n",
       "        icon_img.addClass(image);\n",
       "        icon_img.addClass('ui-corner-all');\n",
       "\n",
       "        var tooltip_span = $('<span/>');\n",
       "        tooltip_span.addClass('ui-button-text');\n",
       "        tooltip_span.html(tooltip);\n",
       "\n",
       "        button.append(icon_img);\n",
       "        button.append(tooltip_span);\n",
       "\n",
       "        nav_element.append(button);\n",
       "    }\n",
       "\n",
       "    var fmt_picker_span = $('<span/>');\n",
       "\n",
       "    var fmt_picker = $('<select/>');\n",
       "    fmt_picker.addClass('mpl-toolbar-option ui-widget ui-widget-content');\n",
       "    fmt_picker_span.append(fmt_picker);\n",
       "    nav_element.append(fmt_picker_span);\n",
       "    this.format_dropdown = fmt_picker[0];\n",
       "\n",
       "    for (var ind in mpl.extensions) {\n",
       "        var fmt = mpl.extensions[ind];\n",
       "        var option = $(\n",
       "            '<option/>', {selected: fmt === mpl.default_extension}).html(fmt);\n",
       "        fmt_picker.append(option);\n",
       "    }\n",
       "\n",
       "    // Add hover states to the ui-buttons\n",
       "    $( \".ui-button\" ).hover(\n",
       "        function() { $(this).addClass(\"ui-state-hover\");},\n",
       "        function() { $(this).removeClass(\"ui-state-hover\");}\n",
       "    );\n",
       "\n",
       "    var status_bar = $('<span class=\"mpl-message\"/>');\n",
       "    nav_element.append(status_bar);\n",
       "    this.message = status_bar[0];\n",
       "}\n",
       "\n",
       "mpl.figure.prototype.request_resize = function(x_pixels, y_pixels) {\n",
       "    // Request matplotlib to resize the figure. Matplotlib will then trigger a resize in the client,\n",
       "    // which will in turn request a refresh of the image.\n",
       "    this.send_message('resize', {'width': x_pixels, 'height': y_pixels});\n",
       "}\n",
       "\n",
       "mpl.figure.prototype.send_message = function(type, properties) {\n",
       "    properties['type'] = type;\n",
       "    properties['figure_id'] = this.id;\n",
       "    this.ws.send(JSON.stringify(properties));\n",
       "}\n",
       "\n",
       "mpl.figure.prototype.send_draw_message = function() {\n",
       "    if (!this.waiting) {\n",
       "        this.waiting = true;\n",
       "        this.ws.send(JSON.stringify({type: \"draw\", figure_id: this.id}));\n",
       "    }\n",
       "}\n",
       "\n",
       "\n",
       "mpl.figure.prototype.handle_save = function(fig, msg) {\n",
       "    var format_dropdown = fig.format_dropdown;\n",
       "    var format = format_dropdown.options[format_dropdown.selectedIndex].value;\n",
       "    fig.ondownload(fig, format);\n",
       "}\n",
       "\n",
       "\n",
       "mpl.figure.prototype.handle_resize = function(fig, msg) {\n",
       "    var size = msg['size'];\n",
       "    if (size[0] != fig.canvas.width || size[1] != fig.canvas.height) {\n",
       "        fig._resize_canvas(size[0], size[1]);\n",
       "        fig.send_message(\"refresh\", {});\n",
       "    };\n",
       "}\n",
       "\n",
       "mpl.figure.prototype.handle_rubberband = function(fig, msg) {\n",
       "    var x0 = msg['x0'] / mpl.ratio;\n",
       "    var y0 = (fig.canvas.height - msg['y0']) / mpl.ratio;\n",
       "    var x1 = msg['x1'] / mpl.ratio;\n",
       "    var y1 = (fig.canvas.height - msg['y1']) / mpl.ratio;\n",
       "    x0 = Math.floor(x0) + 0.5;\n",
       "    y0 = Math.floor(y0) + 0.5;\n",
       "    x1 = Math.floor(x1) + 0.5;\n",
       "    y1 = Math.floor(y1) + 0.5;\n",
       "    var min_x = Math.min(x0, x1);\n",
       "    var min_y = Math.min(y0, y1);\n",
       "    var width = Math.abs(x1 - x0);\n",
       "    var height = Math.abs(y1 - y0);\n",
       "\n",
       "    fig.rubberband_context.clearRect(\n",
       "        0, 0, fig.canvas.width / mpl.ratio, fig.canvas.height / mpl.ratio);\n",
       "\n",
       "    fig.rubberband_context.strokeRect(min_x, min_y, width, height);\n",
       "}\n",
       "\n",
       "mpl.figure.prototype.handle_figure_label = function(fig, msg) {\n",
       "    // Updates the figure title.\n",
       "    fig.header.textContent = msg['label'];\n",
       "}\n",
       "\n",
       "mpl.figure.prototype.handle_cursor = function(fig, msg) {\n",
       "    var cursor = msg['cursor'];\n",
       "    switch(cursor)\n",
       "    {\n",
       "    case 0:\n",
       "        cursor = 'pointer';\n",
       "        break;\n",
       "    case 1:\n",
       "        cursor = 'default';\n",
       "        break;\n",
       "    case 2:\n",
       "        cursor = 'crosshair';\n",
       "        break;\n",
       "    case 3:\n",
       "        cursor = 'move';\n",
       "        break;\n",
       "    }\n",
       "    fig.rubberband_canvas.style.cursor = cursor;\n",
       "}\n",
       "\n",
       "mpl.figure.prototype.handle_message = function(fig, msg) {\n",
       "    fig.message.textContent = msg['message'];\n",
       "}\n",
       "\n",
       "mpl.figure.prototype.handle_draw = function(fig, msg) {\n",
       "    // Request the server to send over a new figure.\n",
       "    fig.send_draw_message();\n",
       "}\n",
       "\n",
       "mpl.figure.prototype.handle_image_mode = function(fig, msg) {\n",
       "    fig.image_mode = msg['mode'];\n",
       "}\n",
       "\n",
       "mpl.figure.prototype.updated_canvas_event = function() {\n",
       "    // Called whenever the canvas gets updated.\n",
       "    this.send_message(\"ack\", {});\n",
       "}\n",
       "\n",
       "// A function to construct a web socket function for onmessage handling.\n",
       "// Called in the figure constructor.\n",
       "mpl.figure.prototype._make_on_message_function = function(fig) {\n",
       "    return function socket_on_message(evt) {\n",
       "        if (evt.data instanceof Blob) {\n",
       "            /* FIXME: We get \"Resource interpreted as Image but\n",
       "             * transferred with MIME type text/plain:\" errors on\n",
       "             * Chrome.  But how to set the MIME type?  It doesn't seem\n",
       "             * to be part of the websocket stream */\n",
       "            evt.data.type = \"image/png\";\n",
       "\n",
       "            /* Free the memory for the previous frames */\n",
       "            if (fig.imageObj.src) {\n",
       "                (window.URL || window.webkitURL).revokeObjectURL(\n",
       "                    fig.imageObj.src);\n",
       "            }\n",
       "\n",
       "            fig.imageObj.src = (window.URL || window.webkitURL).createObjectURL(\n",
       "                evt.data);\n",
       "            fig.updated_canvas_event();\n",
       "            fig.waiting = false;\n",
       "            return;\n",
       "        }\n",
       "        else if (typeof evt.data === 'string' && evt.data.slice(0, 21) == \"data:image/png;base64\") {\n",
       "            fig.imageObj.src = evt.data;\n",
       "            fig.updated_canvas_event();\n",
       "            fig.waiting = false;\n",
       "            return;\n",
       "        }\n",
       "\n",
       "        var msg = JSON.parse(evt.data);\n",
       "        var msg_type = msg['type'];\n",
       "\n",
       "        // Call the  \"handle_{type}\" callback, which takes\n",
       "        // the figure and JSON message as its only arguments.\n",
       "        try {\n",
       "            var callback = fig[\"handle_\" + msg_type];\n",
       "        } catch (e) {\n",
       "            console.log(\"No handler for the '\" + msg_type + \"' message type: \", msg);\n",
       "            return;\n",
       "        }\n",
       "\n",
       "        if (callback) {\n",
       "            try {\n",
       "                // console.log(\"Handling '\" + msg_type + \"' message: \", msg);\n",
       "                callback(fig, msg);\n",
       "            } catch (e) {\n",
       "                console.log(\"Exception inside the 'handler_\" + msg_type + \"' callback:\", e, e.stack, msg);\n",
       "            }\n",
       "        }\n",
       "    };\n",
       "}\n",
       "\n",
       "// from http://stackoverflow.com/questions/1114465/getting-mouse-location-in-canvas\n",
       "mpl.findpos = function(e) {\n",
       "    //this section is from http://www.quirksmode.org/js/events_properties.html\n",
       "    var targ;\n",
       "    if (!e)\n",
       "        e = window.event;\n",
       "    if (e.target)\n",
       "        targ = e.target;\n",
       "    else if (e.srcElement)\n",
       "        targ = e.srcElement;\n",
       "    if (targ.nodeType == 3) // defeat Safari bug\n",
       "        targ = targ.parentNode;\n",
       "\n",
       "    // jQuery normalizes the pageX and pageY\n",
       "    // pageX,Y are the mouse positions relative to the document\n",
       "    // offset() returns the position of the element relative to the document\n",
       "    var x = e.pageX - $(targ).offset().left;\n",
       "    var y = e.pageY - $(targ).offset().top;\n",
       "\n",
       "    return {\"x\": x, \"y\": y};\n",
       "};\n",
       "\n",
       "/*\n",
       " * return a copy of an object with only non-object keys\n",
       " * we need this to avoid circular references\n",
       " * http://stackoverflow.com/a/24161582/3208463\n",
       " */\n",
       "function simpleKeys (original) {\n",
       "  return Object.keys(original).reduce(function (obj, key) {\n",
       "    if (typeof original[key] !== 'object')\n",
       "        obj[key] = original[key]\n",
       "    return obj;\n",
       "  }, {});\n",
       "}\n",
       "\n",
       "mpl.figure.prototype.mouse_event = function(event, name) {\n",
       "    var canvas_pos = mpl.findpos(event)\n",
       "\n",
       "    if (name === 'button_press')\n",
       "    {\n",
       "        this.canvas.focus();\n",
       "        this.canvas_div.focus();\n",
       "    }\n",
       "\n",
       "    var x = canvas_pos.x * mpl.ratio;\n",
       "    var y = canvas_pos.y * mpl.ratio;\n",
       "\n",
       "    this.send_message(name, {x: x, y: y, button: event.button,\n",
       "                             step: event.step,\n",
       "                             guiEvent: simpleKeys(event)});\n",
       "\n",
       "    /* This prevents the web browser from automatically changing to\n",
       "     * the text insertion cursor when the button is pressed.  We want\n",
       "     * to control all of the cursor setting manually through the\n",
       "     * 'cursor' event from matplotlib */\n",
       "    event.preventDefault();\n",
       "    return false;\n",
       "}\n",
       "\n",
       "mpl.figure.prototype._key_event_extra = function(event, name) {\n",
       "    // Handle any extra behaviour associated with a key event\n",
       "}\n",
       "\n",
       "mpl.figure.prototype.key_event = function(event, name) {\n",
       "\n",
       "    // Prevent repeat events\n",
       "    if (name == 'key_press')\n",
       "    {\n",
       "        if (event.which === this._key)\n",
       "            return;\n",
       "        else\n",
       "            this._key = event.which;\n",
       "    }\n",
       "    if (name == 'key_release')\n",
       "        this._key = null;\n",
       "\n",
       "    var value = '';\n",
       "    if (event.ctrlKey && event.which != 17)\n",
       "        value += \"ctrl+\";\n",
       "    if (event.altKey && event.which != 18)\n",
       "        value += \"alt+\";\n",
       "    if (event.shiftKey && event.which != 16)\n",
       "        value += \"shift+\";\n",
       "\n",
       "    value += 'k';\n",
       "    value += event.which.toString();\n",
       "\n",
       "    this._key_event_extra(event, name);\n",
       "\n",
       "    this.send_message(name, {key: value,\n",
       "                             guiEvent: simpleKeys(event)});\n",
       "    return false;\n",
       "}\n",
       "\n",
       "mpl.figure.prototype.toolbar_button_onclick = function(name) {\n",
       "    if (name == 'download') {\n",
       "        this.handle_save(this, null);\n",
       "    } else {\n",
       "        this.send_message(\"toolbar_button\", {name: name});\n",
       "    }\n",
       "};\n",
       "\n",
       "mpl.figure.prototype.toolbar_button_onmouseover = function(tooltip) {\n",
       "    this.message.textContent = tooltip;\n",
       "};\n",
       "mpl.toolbar_items = [[\"Home\", \"Reset original view\", \"fa fa-home icon-home\", \"home\"], [\"Back\", \"Back to previous view\", \"fa fa-arrow-left icon-arrow-left\", \"back\"], [\"Forward\", \"Forward to next view\", \"fa fa-arrow-right icon-arrow-right\", \"forward\"], [\"\", \"\", \"\", \"\"], [\"Pan\", \"Pan axes with left mouse, zoom with right\", \"fa fa-arrows icon-move\", \"pan\"], [\"Zoom\", \"Zoom to rectangle\", \"fa fa-square-o icon-check-empty\", \"zoom\"], [\"\", \"\", \"\", \"\"], [\"Download\", \"Download plot\", \"fa fa-floppy-o icon-save\", \"download\"]];\n",
       "\n",
       "mpl.extensions = [\"eps\", \"pdf\", \"png\", \"ps\", \"raw\", \"svg\"];\n",
       "\n",
       "mpl.default_extension = \"png\";var comm_websocket_adapter = function(comm) {\n",
       "    // Create a \"websocket\"-like object which calls the given IPython comm\n",
       "    // object with the appropriate methods. Currently this is a non binary\n",
       "    // socket, so there is still some room for performance tuning.\n",
       "    var ws = {};\n",
       "\n",
       "    ws.close = function() {\n",
       "        comm.close()\n",
       "    };\n",
       "    ws.send = function(m) {\n",
       "        //console.log('sending', m);\n",
       "        comm.send(m);\n",
       "    };\n",
       "    // Register the callback with on_msg.\n",
       "    comm.on_msg(function(msg) {\n",
       "        //console.log('receiving', msg['content']['data'], msg);\n",
       "        // Pass the mpl event to the overridden (by mpl) onmessage function.\n",
       "        ws.onmessage(msg['content']['data'])\n",
       "    });\n",
       "    return ws;\n",
       "}\n",
       "\n",
       "mpl.mpl_figure_comm = function(comm, msg) {\n",
       "    // This is the function which gets called when the mpl process\n",
       "    // starts-up an IPython Comm through the \"matplotlib\" channel.\n",
       "\n",
       "    var id = msg.content.data.id;\n",
       "    // Get hold of the div created by the display call when the Comm\n",
       "    // socket was opened in Python.\n",
       "    var element = $(\"#\" + id);\n",
       "    var ws_proxy = comm_websocket_adapter(comm)\n",
       "\n",
       "    function ondownload(figure, format) {\n",
       "        window.open(figure.imageObj.src);\n",
       "    }\n",
       "\n",
       "    var fig = new mpl.figure(id, ws_proxy,\n",
       "                           ondownload,\n",
       "                           element.get(0));\n",
       "\n",
       "    // Call onopen now - mpl needs it, as it is assuming we've passed it a real\n",
       "    // web socket which is closed, not our websocket->open comm proxy.\n",
       "    ws_proxy.onopen();\n",
       "\n",
       "    fig.parent_element = element.get(0);\n",
       "    fig.cell_info = mpl.find_output_cell(\"<div id='\" + id + \"'></div>\");\n",
       "    if (!fig.cell_info) {\n",
       "        console.error(\"Failed to find cell for figure\", id, fig);\n",
       "        return;\n",
       "    }\n",
       "\n",
       "    var output_index = fig.cell_info[2]\n",
       "    var cell = fig.cell_info[0];\n",
       "\n",
       "};\n",
       "\n",
       "mpl.figure.prototype.handle_close = function(fig, msg) {\n",
       "    var width = fig.canvas.width/mpl.ratio\n",
       "    fig.root.unbind('remove')\n",
       "\n",
       "    // Update the output cell to use the data from the current canvas.\n",
       "    fig.push_to_output();\n",
       "    var dataURL = fig.canvas.toDataURL();\n",
       "    // Re-enable the keyboard manager in IPython - without this line, in FF,\n",
       "    // the notebook keyboard shortcuts fail.\n",
       "    IPython.keyboard_manager.enable()\n",
       "    $(fig.parent_element).html('<img src=\"' + dataURL + '\" width=\"' + width + '\">');\n",
       "    fig.close_ws(fig, msg);\n",
       "}\n",
       "\n",
       "mpl.figure.prototype.close_ws = function(fig, msg){\n",
       "    fig.send_message('closing', msg);\n",
       "    // fig.ws.close()\n",
       "}\n",
       "\n",
       "mpl.figure.prototype.push_to_output = function(remove_interactive) {\n",
       "    // Turn the data on the canvas into data in the output cell.\n",
       "    var width = this.canvas.width/mpl.ratio\n",
       "    var dataURL = this.canvas.toDataURL();\n",
       "    this.cell_info[1]['text/html'] = '<img src=\"' + dataURL + '\" width=\"' + width + '\">';\n",
       "}\n",
       "\n",
       "mpl.figure.prototype.updated_canvas_event = function() {\n",
       "    // Tell IPython that the notebook contents must change.\n",
       "    IPython.notebook.set_dirty(true);\n",
       "    this.send_message(\"ack\", {});\n",
       "    var fig = this;\n",
       "    // Wait a second, then push the new image to the DOM so\n",
       "    // that it is saved nicely (might be nice to debounce this).\n",
       "    setTimeout(function () { fig.push_to_output() }, 1000);\n",
       "}\n",
       "\n",
       "mpl.figure.prototype._init_toolbar = function() {\n",
       "    var fig = this;\n",
       "\n",
       "    var nav_element = $('<div/>');\n",
       "    nav_element.attr('style', 'width: 100%');\n",
       "    this.root.append(nav_element);\n",
       "\n",
       "    // Define a callback function for later on.\n",
       "    function toolbar_event(event) {\n",
       "        return fig.toolbar_button_onclick(event['data']);\n",
       "    }\n",
       "    function toolbar_mouse_event(event) {\n",
       "        return fig.toolbar_button_onmouseover(event['data']);\n",
       "    }\n",
       "\n",
       "    for(var toolbar_ind in mpl.toolbar_items){\n",
       "        var name = mpl.toolbar_items[toolbar_ind][0];\n",
       "        var tooltip = mpl.toolbar_items[toolbar_ind][1];\n",
       "        var image = mpl.toolbar_items[toolbar_ind][2];\n",
       "        var method_name = mpl.toolbar_items[toolbar_ind][3];\n",
       "\n",
       "        if (!name) { continue; };\n",
       "\n",
       "        var button = $('<button class=\"btn btn-default\" href=\"#\" title=\"' + name + '\"><i class=\"fa ' + image + ' fa-lg\"></i></button>');\n",
       "        button.click(method_name, toolbar_event);\n",
       "        button.mouseover(tooltip, toolbar_mouse_event);\n",
       "        nav_element.append(button);\n",
       "    }\n",
       "\n",
       "    // Add the status bar.\n",
       "    var status_bar = $('<span class=\"mpl-message\" style=\"text-align:right; float: right;\"/>');\n",
       "    nav_element.append(status_bar);\n",
       "    this.message = status_bar[0];\n",
       "\n",
       "    // Add the close button to the window.\n",
       "    var buttongrp = $('<div class=\"btn-group inline pull-right\"></div>');\n",
       "    var button = $('<button class=\"btn btn-mini btn-primary\" href=\"#\" title=\"Stop Interaction\"><i class=\"fa fa-power-off icon-remove icon-large\"></i></button>');\n",
       "    button.click(function (evt) { fig.handle_close(fig, {}); } );\n",
       "    button.mouseover('Stop Interaction', toolbar_mouse_event);\n",
       "    buttongrp.append(button);\n",
       "    var titlebar = this.root.find($('.ui-dialog-titlebar'));\n",
       "    titlebar.prepend(buttongrp);\n",
       "}\n",
       "\n",
       "mpl.figure.prototype._root_extra_style = function(el){\n",
       "    var fig = this\n",
       "    el.on(\"remove\", function(){\n",
       "\tfig.close_ws(fig, {});\n",
       "    });\n",
       "}\n",
       "\n",
       "mpl.figure.prototype._canvas_extra_style = function(el){\n",
       "    // this is important to make the div 'focusable\n",
       "    el.attr('tabindex', 0)\n",
       "    // reach out to IPython and tell the keyboard manager to turn it's self\n",
       "    // off when our div gets focus\n",
       "\n",
       "    // location in version 3\n",
       "    if (IPython.notebook.keyboard_manager) {\n",
       "        IPython.notebook.keyboard_manager.register_events(el);\n",
       "    }\n",
       "    else {\n",
       "        // location in version 2\n",
       "        IPython.keyboard_manager.register_events(el);\n",
       "    }\n",
       "\n",
       "}\n",
       "\n",
       "mpl.figure.prototype._key_event_extra = function(event, name) {\n",
       "    var manager = IPython.notebook.keyboard_manager;\n",
       "    if (!manager)\n",
       "        manager = IPython.keyboard_manager;\n",
       "\n",
       "    // Check for shift+enter\n",
       "    if (event.shiftKey && event.which == 13) {\n",
       "        this.canvas_div.blur();\n",
       "        // select the cell after this one\n",
       "        var index = IPython.notebook.find_cell_index(this.cell_info[0]);\n",
       "        IPython.notebook.select(index + 1);\n",
       "    }\n",
       "}\n",
       "\n",
       "mpl.figure.prototype.handle_save = function(fig, msg) {\n",
       "    fig.ondownload(fig, null);\n",
       "}\n",
       "\n",
       "\n",
       "mpl.find_output_cell = function(html_output) {\n",
       "    // Return the cell and output element which can be found *uniquely* in the notebook.\n",
       "    // Note - this is a bit hacky, but it is done because the \"notebook_saving.Notebook\"\n",
       "    // IPython event is triggered only after the cells have been serialised, which for\n",
       "    // our purposes (turning an active figure into a static one), is too late.\n",
       "    var cells = IPython.notebook.get_cells();\n",
       "    var ncells = cells.length;\n",
       "    for (var i=0; i<ncells; i++) {\n",
       "        var cell = cells[i];\n",
       "        if (cell.cell_type === 'code'){\n",
       "            for (var j=0; j<cell.output_area.outputs.length; j++) {\n",
       "                var data = cell.output_area.outputs[j];\n",
       "                if (data.data) {\n",
       "                    // IPython >= 3 moved mimebundle to data attribute of output\n",
       "                    data = data.data;\n",
       "                }\n",
       "                if (data['text/html'] == html_output) {\n",
       "                    return [cell, data, j];\n",
       "                }\n",
       "            }\n",
       "        }\n",
       "    }\n",
       "}\n",
       "\n",
       "// Register the function which deals with the matplotlib target/channel.\n",
       "// The kernel may be null if the page has been refreshed.\n",
       "if (IPython.notebook.kernel != null) {\n",
       "    IPython.notebook.kernel.comm_manager.register_target('matplotlib', mpl.mpl_figure_comm);\n",
       "}\n"
      ],
      "text/plain": [
       "<IPython.core.display.Javascript object>"
      ]
     },
     "metadata": {},
     "output_type": "display_data"
    },
    {
     "data": {
      "text/html": [
       "<img src=\"data:image/png;base64,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\" width=\"640\">"
      ],
      "text/plain": [
       "<IPython.core.display.HTML object>"
      ]
     },
     "metadata": {},
     "output_type": "display_data"
    },
    {
     "data": {
      "application/vnd.jupyter.widget-view+json": {
       "model_id": "72a449a3d528466dad116e653f46f34e",
       "version_major": 2,
       "version_minor": 0
      },
      "text/plain": [
       "interactive(children=(FloatSlider(value=1.0, description='w', max=3.0, min=-1.0), Output()), _dom_classes=('wi…"
      ]
     },
     "metadata": {},
     "output_type": "display_data"
    }
   ],
   "source": [
    "%matplotlib notebook\n",
    "from ipywidgets import *\n",
    "import numpy as np\n",
    "import matplotlib.pyplot as plt\n",
    "\n",
    "x = np.linspace(0, 2 * np.pi)\n",
    "fig = plt.figure()\n",
    "ax = fig.add_subplot(1, 1, 1)\n",
    "line, = ax.plot(x, np.sin(x))\n",
    "\n",
    "def update(w = 1.0):\n",
    "    line.set_ydata(np.sin(w * x))\n",
    "    fig.canvas.draw_idle()\n",
    "\n",
    "interact(update);\n"
   ]
  },
  {
   "cell_type": "code",
   "execution_count": 10,
   "metadata": {},
   "outputs": [
    {
     "data": {
      "text/plain": [
       "10"
      ]
     },
     "metadata": {},
     "output_type": "display_data"
    },
    {
     "data": {
      "application/vnd.jupyter.widget-view+json": {
       "model_id": "aa29dcb76c0740f7bf8e5ddde068887f",
       "version_major": 2,
       "version_minor": 0
      },
      "text/plain": [
       "IntSlider(value=5, max=10)"
      ]
     },
     "metadata": {},
     "output_type": "display_data"
    },
    {
     "data": {
      "application/vnd.jupyter.widget-view+json": {
       "model_id": "001af9a8578345d19d971239250d35df",
       "version_major": 2,
       "version_minor": 0
      },
      "text/plain": [
       "Output()"
      ]
     },
     "metadata": {},
     "output_type": "display_data"
    },
    {
     "data": {
      "application/vnd.jupyter.widget-view+json": {
       "model_id": "e1a1f410025243138e137482f837a7ed",
       "version_major": 2,
       "version_minor": 0
      },
      "text/plain": [
       "Output()"
      ]
     },
     "metadata": {},
     "output_type": "display_data"
    }
   ],
   "source": [
    "import ipywidgets as widgets\n",
    "from IPython.display import display\n",
    "\n",
    "a = widgets.IntSlider(value=5, min=0, max=10)\n",
    "\n",
    "def f1(a):\n",
    "    display(a)\n",
    "\n",
    "def f2(a):\n",
    "    display(a * 2)\n",
    "\n",
    "out1 = widgets.interactive_output(f1, {'a': a})\n",
    "out2 = widgets.interactive_output(f2, {'a': a})\n",
    "\n",
    "display(a)\n",
    "display(out1)\n",
    "display(out2)\n"
   ]
  },
  {
   "cell_type": "code",
   "execution_count": 5,
   "metadata": {},
   "outputs": [
    {
     "name": "stdout",
     "output_type": "stream",
     "text": [
      "Installing /home/wylie/.local/lib/python3.8/site-packages/widgetsnbextension/static -> jupyter-js-widgets\r\n",
      "Up to date: /home/wylie/.local/share/jupyter/nbextensions/jupyter-js-widgets/extension.js\r\n",
      "Up to date: /home/wylie/.local/share/jupyter/nbextensions/jupyter-js-widgets/extension.js.map\r\n",
      "- Validating: \u001b[32mOK\u001b[0m\r\n",
      "\r\n",
      "    To initialize this nbextension in the browser every time the notebook (or other app) loads:\r\n",
      "    \r\n",
      "          jupyter nbextension enable widgetsnbextension --user --py\r\n",
      "    \r\n"
     ]
    }
   ],
   "source": [
    "!jupyter nbextension install --user --py widgetsnbextension"
   ]
  },
  {
   "cell_type": "code",
   "execution_count": 7,
   "metadata": {},
   "outputs": [
    {
     "name": "stdout",
     "output_type": "stream",
     "text": [
      "Enabling notebook extension jupyter-js-widgets/extension...\r\n",
      "      - Validating: \u001b[32mOK\u001b[0m\r\n"
     ]
    }
   ],
   "source": [
    "!jupyter nbextension enable widgetsnbextension --user --py"
   ]
  },
  {
   "cell_type": "code",
   "execution_count": 9,
   "metadata": {},
   "outputs": [
    {
     "name": "stdout",
     "output_type": "stream",
     "text": [
      "Enabling notebook extension jupyter-js-widgets/extension...\r\n",
      "      - Validating: \u001b[32mOK\u001b[0m\r\n"
     ]
    }
   ],
   "source": [
    "!jupyter nbextension enable --user --py widgetsnbextension"
   ]
  },
  {
   "cell_type": "code",
   "execution_count": null,
   "metadata": {},
   "outputs": [],
   "source": []
  },
  {
   "cell_type": "code",
   "execution_count": null,
   "metadata": {},
   "outputs": [],
   "source": []
  },
  {
   "cell_type": "code",
   "execution_count": 74,
   "metadata": {},
   "outputs": [
    {
     "name": "stdout",
     "output_type": "stream",
     "text": [
      "Collecting ipywidgets\n",
      "  Downloading ipywidgets-7.6.5-py2.py3-none-any.whl (121 kB)\n",
      "\u001b[K     |████████████████████████████████| 121 kB 2.1 MB/s eta 0:00:01\n",
      "\u001b[?25hCollecting widgetsnbextension~=3.5.0\n",
      "  Downloading widgetsnbextension-3.5.1-py2.py3-none-any.whl (2.2 MB)\n",
      "\u001b[K     |████████████████████████████████| 2.2 MB 3.3 MB/s eta 0:00:01\n",
      "\u001b[?25hRequirement already satisfied, skipping upgrade: traitlets>=4.3.1 in /usr/lib/python3/dist-packages (from ipywidgets) (4.3.3)\n",
      "Collecting jupyterlab-widgets>=1.0.0; python_version >= \"3.6\"\n",
      "  Downloading jupyterlab_widgets-1.0.2-py3-none-any.whl (243 kB)\n",
      "\u001b[K     |████████████████████████████████| 243 kB 5.0 MB/s eta 0:00:01\n",
      "\u001b[?25hRequirement already satisfied, skipping upgrade: ipython>=4.0.0; python_version >= \"3.3\" in /usr/lib/python3/dist-packages (from ipywidgets) (7.13.0)\n",
      "Requirement already satisfied, skipping upgrade: nbformat>=4.2.0 in /usr/lib/python3/dist-packages (from ipywidgets) (5.0.4)\n",
      "Requirement already satisfied, skipping upgrade: ipykernel>=4.5.1 in /usr/lib/python3/dist-packages (from ipywidgets) (5.2.0)\n",
      "Requirement already satisfied, skipping upgrade: ipython-genutils~=0.2.0 in /usr/lib/python3/dist-packages (from ipywidgets) (0.2.0)\n",
      "Requirement already satisfied, skipping upgrade: notebook>=4.4.1 in /usr/lib/python3/dist-packages (from widgetsnbextension~=3.5.0->ipywidgets) (6.0.3)\n",
      "Requirement already satisfied, skipping upgrade: pexpect in /usr/lib/python3/dist-packages (from ipython>=4.0.0; python_version >= \"3.3\"->ipywidgets) (4.6.0)\n",
      "Installing collected packages: widgetsnbextension, jupyterlab-widgets, ipywidgets\n",
      "Successfully installed ipywidgets-7.6.5 jupyterlab-widgets-1.0.2 widgetsnbextension-3.5.1\n"
     ]
    }
   ],
   "source": [
    "!pip install --upgrade ipywidgets\n"
   ]
  },
  {
   "cell_type": "code",
   "execution_count": 76,
   "metadata": {},
   "outputs": [
    {
     "name": "stdout",
     "output_type": "stream",
     "text": [
      "[sudo] password for wylie: \n"
     ]
    }
   ],
   "source": [
    "!sudo jupyter nbextension enable --py --sys-prefix widgetsnbextension"
   ]
  },
  {
   "cell_type": "code",
   "execution_count": 14,
   "metadata": {},
   "outputs": [
    {
     "name": "stdout",
     "output_type": "stream",
     "text": [
      "Installing /home/wylie/.local/lib/python3.8/site-packages/widgetsnbextension/static -> jupyter-js-widgets\n",
      "Up to date: /home/wylie/.local/share/jupyter/nbextensions/jupyter-js-widgets/extension.js\n",
      "Up to date: /home/wylie/.local/share/jupyter/nbextensions/jupyter-js-widgets/extension.js.map\n",
      "- Validating: \u001b[32mOK\u001b[0m\n",
      "\n",
      "    To initialize this nbextension in the browser every time the notebook (or other app) loads:\n",
      "    \n",
      "          jupyter nbextension enable widgetsnbextension --user --py\n",
      "    \n",
      "Enabling notebook extension jupyter-js-widgets/extension...\n",
      "      - Validating: \u001b[32mOK\u001b[0m\n"
     ]
    }
   ],
   "source": [
    "!jupyter nbextension install --user --py widgetsnbextension\n",
    "!jupyter nbextension enable --user --py widgetsnbextension\n"
   ]
  },
  {
   "cell_type": "code",
   "execution_count": 15,
   "metadata": {},
   "outputs": [
    {
     "name": "stdout",
     "output_type": "stream",
     "text": [
      "Enabling notebook extension jupyter-js-widgets/extension...\r\n",
      "      - Validating: \u001b[32mOK\u001b[0m\r\n"
     ]
    }
   ],
   "source": [
    "!jupyter nbextension enable --py widgetsnbextension\n"
   ]
  },
  {
   "cell_type": "code",
   "execution_count": null,
   "metadata": {},
   "outputs": [],
   "source": []
  }
 ],
 "metadata": {
  "kernelspec": {
   "display_name": "Python 3",
   "language": "python",
   "name": "python3"
  },
  "language_info": {
   "codemirror_mode": {
    "name": "ipython",
    "version": 3
   },
   "file_extension": ".py",
   "mimetype": "text/x-python",
   "name": "python",
   "nbconvert_exporter": "python",
   "pygments_lexer": "ipython3",
   "version": "3.8.10"
  }
 },
 "nbformat": 4,
 "nbformat_minor": 4
}
