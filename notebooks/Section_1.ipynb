{
 "cells": [
  {
   "cell_type": "markdown",
   "metadata": {
    "slideshow": {
     "slide_type": "slide"
    }
   },
   "source": [
    "# Section 1\n"
   ]
  },
  {
   "cell_type": "markdown",
   "metadata": {
    "slideshow": {
     "slide_type": "slide"
    }
   },
   "source": [
    "# What Is A Signal\n",
    "\n",
    "\n",
    "<img src=\"sine_wave_sampled.gif?2\" width=\"75%\">"
   ]
  },
  {
   "cell_type": "code",
   "execution_count": 1,
   "metadata": {
    "cell_style": "split",
    "slideshow": {
     "slide_type": "subslide"
    }
   },
   "outputs": [],
   "source": [
    "import numpy \n",
    "from numpy import pi\n",
    "from scipy import fft, linalg, signal \n",
    "from scipy import stats, io\n",
    "\n",
    "from ipywidgets import *\n",
    "\n",
    "from datetime import datetime\n",
    "\n",
    "import matplotlib.pyplot as plt\n",
    "\n",
    "%matplotlib notebook"
   ]
  },
  {
   "cell_type": "code",
   "execution_count": 2,
   "metadata": {
    "cell_style": "split",
    "slideshow": {
     "slide_type": "-"
    }
   },
   "outputs": [
    {
     "name": "stdout",
     "output_type": "stream",
     "text": [
      "2021-09-19 18:34:43.665328\n"
     ]
    }
   ],
   "source": [
    "print(datetime.now())"
   ]
  },
  {
   "cell_type": "markdown",
   "metadata": {
    "slideshow": {
     "slide_type": "slide"
    }
   },
   "source": [
    "## What Is A Signal\n"
   ]
  },
  {
   "cell_type": "markdown",
   "metadata": {
    "slideshow": {
     "slide_type": "fragment"
    }
   },
   "source": [
    "  + Something that carries or conveys information"
   ]
  },
  {
   "cell_type": "markdown",
   "metadata": {
    "slideshow": {
     "slide_type": "fragment"
    }
   },
   "source": [
    "  + What does that even mean?"
   ]
  },
  {
   "cell_type": "markdown",
   "metadata": {
    "slideshow": {
     "slide_type": "fragment"
    }
   },
   "source": [
    "  + That is about anything?"
   ]
  },
  {
   "cell_type": "markdown",
   "metadata": {
    "slideshow": {
     "slide_type": "fragment"
    }
   },
   "source": [
    "  + This is so general it maybe useless, maybe"
   ]
  },
  {
   "cell_type": "markdown",
   "metadata": {
    "slideshow": {
     "slide_type": "slide"
    }
   },
   "source": [
    "## Examples of Signals"
   ]
  },
  {
   "cell_type": "markdown",
   "metadata": {
    "slideshow": {
     "slide_type": "subslide"
    }
   },
   "source": [
    "#### Sound\n",
    "    + Acoustic waves\n",
    "    + Humans hear between 20Hz to 20 KHz\n",
    "    \n",
    "  \n",
    "  <img src=\"Theme_Classic.png\" width=\"65%\" />\n",
    "  \n",
    " https://www.audacityteam.org/"
   ]
  },
  {
   "cell_type": "markdown",
   "metadata": {
    "cell_style": "center",
    "slideshow": {
     "slide_type": "subslide"
    }
   },
   "source": [
    "### Sea Levels\n",
    "\n",
    "\n",
    "\n",
    "<img src=\"NASA-Satellite-sea-level-rise-observations.jpg\" width=\"40%\" />\n",
    "\n",
    "+ https://climate.nasa.gov/vital-signs/sea-level/\n",
    "\n",
    "+ https://en.wikipedia.org/wiki/Sea_level_rise\n"
   ]
  },
  {
   "cell_type": "markdown",
   "metadata": {
    "slideshow": {
     "slide_type": "subslide"
    }
   },
   "source": [
    "### Stock Prices\n",
    " [Game Stop 1 year](https://www.google.com/finance/quote/GME:NYSE?sa=X&sqi=2&ved=2ahUKEwiOzfqbxP_yAhWfQ_EDHVQZDgQQ3ecFegQILhAS&window=1Y)\n",
    "     \n",
    "<img src=\"GameStopStock.png?1\" width=\"55%\">"
   ]
  },
  {
   "cell_type": "markdown",
   "metadata": {
    "cell_style": "split",
    "slideshow": {
     "slide_type": "subslide"
    }
   },
   "source": [
    "#### Sun Spots\n",
    "\n",
    "<img src=\"Sunspots_1302_Sep_2011_by_NASA.jpg\" width=\"85%\" >\n",
    "\n",
    "https://en.wikipedia.org/wiki/Sunspot\n"
   ]
  },
  {
   "cell_type": "markdown",
   "metadata": {
    "cell_style": "split",
    "slideshow": {
     "slide_type": "fragment"
    }
   },
   "source": [
    "#### Sun Spots over time\n",
    "   \n",
    "<img src=\"Sunspot_Numbers.png\" width=\"100%\" >"
   ]
  },
  {
   "cell_type": "markdown",
   "metadata": {
    "slideshow": {
     "slide_type": "skip"
    }
   },
   "source": []
  },
  {
   "cell_type": "markdown",
   "metadata": {
    "cell_style": "split",
    "slideshow": {
     "slide_type": "subslide"
    }
   },
   "source": [
    "#### Gravity Waves\n",
    "  + Surface waves\n",
    "  + Sea waves\n",
    "  + Eeathquakes\n",
    "  \n",
    "\n",
    "https://en.wikipedia.org/wiki/Wake"
   ]
  },
  {
   "cell_type": "markdown",
   "metadata": {
    "cell_style": "split",
    "slideshow": {
     "slide_type": "-"
    }
   },
   "source": [
    "<img src=\"duck_wake.jpg\" width=\"100%\">"
   ]
  },
  {
   "cell_type": "code",
   "execution_count": null,
   "metadata": {
    "slideshow": {
     "slide_type": "notes"
    }
   },
   "outputs": [],
   "source": []
  },
  {
   "cell_type": "markdown",
   "metadata": {
    "cell_style": "split",
    "slideshow": {
     "slide_type": "subslide"
    }
   },
   "source": [
    "#### Gravitational Waves\n",
    "\n",
    "+ Find Black Holes combining\n",
    "+ 1 Billion dollar detector\n",
    "\n",
    "<img src=\"1280px-LIGO_Hanford_aerial_05.jpg\" width=\"50%\" >\n",
    "\n",
    "[http://svs.gsfc.nasa.gov/](http://svs.gsfc.nasa.gov//vis/a010000/a010500/a010543/WhtDwrfCollid_ProRes_720x486_59.94fps.webmhd.webm)\n"
   ]
  },
  {
   "cell_type": "markdown",
   "metadata": {
    "cell_style": "split",
    "slideshow": {
     "slide_type": "-"
    }
   },
   "source": [
    "\n",
    "+ 2017 Nobel prize\n",
    "\n",
    "\n",
    "\n",
    "<img src=\"ns_gw_art.jpg\" width=\"75%\">\n",
    "\n",
    "https://www.ligo.caltech.edu/page/what-are-gw\n",
    "\n",
    "https://en.wikipedia.org/wiki/Gravitational-wave_observatory\n"
   ]
  },
  {
   "cell_type": "code",
   "execution_count": null,
   "metadata": {
    "slideshow": {
     "slide_type": "notes"
    }
   },
   "outputs": [],
   "source": []
  },
  {
   "cell_type": "markdown",
   "metadata": {
    "cell_style": "split",
    "slideshow": {
     "slide_type": "subslide"
    }
   },
   "source": [
    "#### Electrical\n",
    "  + Probably what everyone things of\n",
    "  + It's all electrical signals at some point\n",
    "  + Voltage or current changing in\n",
    "    + Time\n",
    "    + Node\n",
    "    + position"
   ]
  },
  {
   "cell_type": "markdown",
   "metadata": {
    "cell_style": "split",
    "slideshow": {
     "slide_type": "-"
    }
   },
   "source": [
    "<img src=\"Scope.jpeg\" width=\"100%\">"
   ]
  },
  {
   "cell_type": "code",
   "execution_count": null,
   "metadata": {
    "slideshow": {
     "slide_type": "notes"
    }
   },
   "outputs": [],
   "source": []
  },
  {
   "cell_type": "markdown",
   "metadata": {
    "cell_style": "split",
    "slideshow": {
     "slide_type": "subslide"
    }
   },
   "source": [
    "##### Light\n",
    "  + Cameras\n",
    "  + Light level\n",
    "\n"
   ]
  },
  {
   "cell_type": "markdown",
   "metadata": {
    "cell_style": "split",
    "slideshow": {
     "slide_type": "-"
    }
   },
   "source": []
  },
  {
   "cell_type": "code",
   "execution_count": null,
   "metadata": {},
   "outputs": [],
   "source": []
  },
  {
   "cell_type": "markdown",
   "metadata": {
    "cell_style": "split",
    "slideshow": {
     "slide_type": "subslide"
    }
   },
   "source": [
    "#### Radio Waves\n",
    "    + FM Radio\n",
    "    + Radar\n",
    "    + Radio Astronomy \n",
    "    "
   ]
  },
  {
   "cell_type": "markdown",
   "metadata": {
    "cell_style": "split",
    "slideshow": {
     "slide_type": "-"
    }
   },
   "source": [
    "<img src=\"HW_tutorial_freq.png\" width=\"100%\">\n",
    "\n",
    "https://wiki.gnuradio.org/index.php/Guided_Tutorial_Hardware_Considerations"
   ]
  },
  {
   "cell_type": "code",
   "execution_count": null,
   "metadata": {
    "slideshow": {
     "slide_type": "skip"
    }
   },
   "outputs": [],
   "source": []
  },
  {
   "cell_type": "markdown",
   "metadata": {
    "cell_style": "split",
    "slideshow": {
     "slide_type": "subslide"
    }
   },
   "source": [
    "##### Radar\n",
    "  + Detecting aircraft, ships, ...\n",
    "  + Automotive distance sensing\n",
    "  + Imaging Astreroids\n",
    "    + Beyond the ability of optical telescopes\n",
    "    + Each image ~2Km square\n",
    "    + ~20X Earth-Moon distance\n",
    "\n"
   ]
  },
  {
   "cell_type": "markdown",
   "metadata": {
    "cell_style": "split",
    "slideshow": {
     "slide_type": "-"
    }
   },
   "source": [
    "https://www.jpl.nasa.gov/news/nine-radar-images-of-asteroid-2007-pa8\n",
    "\n",
    "<img src=\"astro_sar_img.jpg\" width=\"100%\">"
   ]
  },
  {
   "cell_type": "code",
   "execution_count": null,
   "metadata": {
    "slideshow": {
     "slide_type": "notes"
    }
   },
   "outputs": [],
   "source": []
  },
  {
   "cell_type": "markdown",
   "metadata": {
    "cell_style": "split",
    "slideshow": {
     "slide_type": "subslide"
    }
   },
   "source": [
    "#### Radio Astronomy\n",
    "\n",
    "<img src=\"USA.NM.VeryLargeArray.02.jpg\" width=\"100%\">\n",
    "\n",
    "https://en.wikipedia.org/wiki/Very_Large_Array\n",
    "\n",
    "\n",
    "https://public.nrao.edu/telescopes/vla/"
   ]
  },
  {
   "cell_type": "markdown",
   "metadata": {
    "cell_style": "split",
    "slideshow": {
     "slide_type": "-"
    }
   },
   "source": []
  },
  {
   "cell_type": "markdown",
   "metadata": {
    "slideshow": {
     "slide_type": "notes"
    }
   },
   "source": []
  },
  {
   "cell_type": "markdown",
   "metadata": {
    "slideshow": {
     "slide_type": "notes"
    }
   },
   "source": [
    "#### Examples of Signals\n",
    "\n",
    "  + Sound\n",
    "  + Sea Level\n",
    "  + Stock Prices\n",
    "  + Sun Spots\n",
    "  + Gravity Waves\n",
    "  + Electrical \n",
    "  + Electromagnetic waves\n",
    "    + Light\n",
    "    + Radio Waves\n",
    "    + Communications\n",
    "    + Radar\n",
    "    + \n",
    "    "
   ]
  },
  {
   "cell_type": "markdown",
   "metadata": {
    "slideshow": {
     "slide_type": "slide"
    }
   },
   "source": [
    "##  Basic RF problems\n",
    "\n",
    "#### Communication\n",
    "  + Getting data between places\n",
    "\n",
    "#### Radar\n",
    "  + Using radio waves to sense something\n",
    "\n",
    "#### Passive Inference\n",
    "  + Using Emotions that already exist what can I figure out"
   ]
  },
  {
   "cell_type": "markdown",
   "metadata": {},
   "source": []
  },
  {
   "cell_type": "markdown",
   "metadata": {},
   "source": []
  },
  {
   "cell_type": "markdown",
   "metadata": {
    "cell_style": "split",
    "slideshow": {
     "slide_type": "slide"
    }
   },
   "source": [
    "## Continuous and Discrete Signals\n",
    "\n",
    "\n",
    "  + Analog to Digital Conversion\n",
    "  + Digital to Analog Conversion\n",
    "  + $\\delta $ (Delta) Function\n",
    "  + Nyquist Sampling\n",
    "\n"
   ]
  },
  {
   "cell_type": "markdown",
   "metadata": {
    "cell_style": "split",
    "slideshow": {
     "slide_type": "-"
    }
   },
   "source": [
    "\n",
    "\n",
    "<img src=\"sine_wave_sampled.gif?0\" width=\"100%\">"
   ]
  },
  {
   "cell_type": "markdown",
   "metadata": {
    "slideshow": {
     "slide_type": "notes"
    }
   },
   "source": []
  },
  {
   "cell_type": "markdown",
   "metadata": {
    "cell_style": "split",
    "slideshow": {
     "slide_type": "subslide"
    }
   },
   "source": [
    "### Continuous\n",
    "\n",
    "  + Defined at every point\n",
    "  + Can be infinite in bandwidth\n",
    "  + Convertible to Discrete by a process called sampling\n"
   ]
  },
  {
   "cell_type": "markdown",
   "metadata": {
    "cell_style": "split",
    "slideshow": {
     "slide_type": "subslide"
    }
   },
   "source": [
    "### Discrete\n",
    "\n",
    "  + Series of values\n",
    "  + Only defined at discrete points in time\n",
    "  + Maximum bandwidth of $ f_s / 2 $\n",
    "    + Nyquist"
   ]
  },
  {
   "cell_type": "code",
   "execution_count": null,
   "metadata": {
    "slideshow": {
     "slide_type": "notes"
    }
   },
   "outputs": [],
   "source": []
  },
  {
   "cell_type": "markdown",
   "metadata": {
    "cell_style": "split",
    "slideshow": {
     "slide_type": "subslide"
    }
   },
   "source": [
    "### Sampling\n",
    "\n",
    "  + Analog to Digital Conversion\n",
    "  \n",
    " $$ S[n] = \\sum_{i}^{-\\infty \\dots \\infty} s(t) \\cdot \\delta(t-i) $$\n",
    " \n",
    " <img src=\"pulse_train.png?1\" width=\"100%\">"
   ]
  },
  {
   "cell_type": "markdown",
   "metadata": {
    "cell_style": "split",
    "slideshow": {
     "slide_type": "-"
    }
   },
   "source": [
    "\n",
    "\n",
    "#### $ \\delta $ (Delta) Function\n",
    "\n",
    "$$ \\delta (t) = \\Big \\{ \\begin{matrix} \\infty \\: :\\quad t=0 \\\\ \\quad 0 : \\quad otherwise \\end{matrix} $$\n",
    "\n",
    "$$ 1 = \\int_{-\\infty}^{\\infty} \\delta(t) \\: dt $$\n",
    "\n",
    "\n"
   ]
  },
  {
   "cell_type": "markdown",
   "metadata": {
    "slideshow": {
     "slide_type": "notes"
    }
   },
   "source": []
  },
  {
   "cell_type": "markdown",
   "metadata": {
    "cell_style": "split",
    "slideshow": {
     "slide_type": "subslide"
    }
   },
   "source": [
    "### Nyquist\n",
    "\n",
    "  + Sampling two or more times faster than the bandwidth of the signal\n",
    "  + Critera for signal recovery\n",
    "  + Often systems operate faster\n",
    "  \n",
    "  $$ BW < \\cfrac{f_s}{2} $$"
   ]
  },
  {
   "cell_type": "markdown",
   "metadata": {
    "cell_style": "split",
    "slideshow": {
     "slide_type": "fragment"
    }
   },
   "source": [
    "<img src=\"1920px-Aliasing-folding_SVG.svg.png\" width=\"100%\">\n",
    "\n",
    "[https://en.wikipedia.org/wiki/Nyquist_frequency](https://en.wikipedia.org/wiki/Nyquist_frequency)"
   ]
  },
  {
   "cell_type": "code",
   "execution_count": null,
   "metadata": {
    "slideshow": {
     "slide_type": "notes"
    }
   },
   "outputs": [],
   "source": []
  },
  {
   "cell_type": "markdown",
   "metadata": {
    "cell_style": "split",
    "slideshow": {
     "slide_type": "subslide"
    }
   },
   "source": [
    "### Time Series\n",
    "  + Sampled at a regular times\n",
    "  + Identical Sampling"
   ]
  },
  {
   "cell_type": "markdown",
   "metadata": {
    "cell_style": "split",
    "slideshow": {
     "slide_type": "-"
    }
   },
   "source": [
    "<img src=\"sine_wave_sampled.gif?0\" width=\"100%\">"
   ]
  },
  {
   "cell_type": "markdown",
   "metadata": {
    "slideshow": {
     "slide_type": "notes"
    }
   },
   "source": []
  },
  {
   "cell_type": "code",
   "execution_count": 3,
   "metadata": {
    "scrolled": false,
    "slideshow": {
     "slide_type": "subslide"
    }
   },
   "outputs": [
    {
     "data": {
      "application/javascript": [
       "/* Put everything inside the global mpl namespace */\n",
       "window.mpl = {};\n",
       "\n",
       "\n",
       "mpl.get_websocket_type = function() {\n",
       "    if (typeof(WebSocket) !== 'undefined') {\n",
       "        return WebSocket;\n",
       "    } else if (typeof(MozWebSocket) !== 'undefined') {\n",
       "        return MozWebSocket;\n",
       "    } else {\n",
       "        alert('Your browser does not have WebSocket support. ' +\n",
       "              'Please try Chrome, Safari or Firefox ≥ 6. ' +\n",
       "              'Firefox 4 and 5 are also supported but you ' +\n",
       "              'have to enable WebSockets in about:config.');\n",
       "    };\n",
       "}\n",
       "\n",
       "mpl.figure = function(figure_id, websocket, ondownload, parent_element) {\n",
       "    this.id = figure_id;\n",
       "\n",
       "    this.ws = websocket;\n",
       "\n",
       "    this.supports_binary = (this.ws.binaryType != undefined);\n",
       "\n",
       "    if (!this.supports_binary) {\n",
       "        var warnings = document.getElementById(\"mpl-warnings\");\n",
       "        if (warnings) {\n",
       "            warnings.style.display = 'block';\n",
       "            warnings.textContent = (\n",
       "                \"This browser does not support binary websocket messages. \" +\n",
       "                    \"Performance may be slow.\");\n",
       "        }\n",
       "    }\n",
       "\n",
       "    this.imageObj = new Image();\n",
       "\n",
       "    this.context = undefined;\n",
       "    this.message = undefined;\n",
       "    this.canvas = undefined;\n",
       "    this.rubberband_canvas = undefined;\n",
       "    this.rubberband_context = undefined;\n",
       "    this.format_dropdown = undefined;\n",
       "\n",
       "    this.image_mode = 'full';\n",
       "\n",
       "    this.root = $('<div/>');\n",
       "    this._root_extra_style(this.root)\n",
       "    this.root.attr('style', 'display: inline-block');\n",
       "\n",
       "    $(parent_element).append(this.root);\n",
       "\n",
       "    this._init_header(this);\n",
       "    this._init_canvas(this);\n",
       "    this._init_toolbar(this);\n",
       "\n",
       "    var fig = this;\n",
       "\n",
       "    this.waiting = false;\n",
       "\n",
       "    this.ws.onopen =  function () {\n",
       "            fig.send_message(\"supports_binary\", {value: fig.supports_binary});\n",
       "            fig.send_message(\"send_image_mode\", {});\n",
       "            if (mpl.ratio != 1) {\n",
       "                fig.send_message(\"set_dpi_ratio\", {'dpi_ratio': mpl.ratio});\n",
       "            }\n",
       "            fig.send_message(\"refresh\", {});\n",
       "        }\n",
       "\n",
       "    this.imageObj.onload = function() {\n",
       "            if (fig.image_mode == 'full') {\n",
       "                // Full images could contain transparency (where diff images\n",
       "                // almost always do), so we need to clear the canvas so that\n",
       "                // there is no ghosting.\n",
       "                fig.context.clearRect(0, 0, fig.canvas.width, fig.canvas.height);\n",
       "            }\n",
       "            fig.context.drawImage(fig.imageObj, 0, 0);\n",
       "        };\n",
       "\n",
       "    this.imageObj.onunload = function() {\n",
       "        fig.ws.close();\n",
       "    }\n",
       "\n",
       "    this.ws.onmessage = this._make_on_message_function(this);\n",
       "\n",
       "    this.ondownload = ondownload;\n",
       "}\n",
       "\n",
       "mpl.figure.prototype._init_header = function() {\n",
       "    var titlebar = $(\n",
       "        '<div class=\"ui-dialog-titlebar ui-widget-header ui-corner-all ' +\n",
       "        'ui-helper-clearfix\"/>');\n",
       "    var titletext = $(\n",
       "        '<div class=\"ui-dialog-title\" style=\"width: 100%; ' +\n",
       "        'text-align: center; padding: 3px;\"/>');\n",
       "    titlebar.append(titletext)\n",
       "    this.root.append(titlebar);\n",
       "    this.header = titletext[0];\n",
       "}\n",
       "\n",
       "\n",
       "\n",
       "mpl.figure.prototype._canvas_extra_style = function(canvas_div) {\n",
       "\n",
       "}\n",
       "\n",
       "\n",
       "mpl.figure.prototype._root_extra_style = function(canvas_div) {\n",
       "\n",
       "}\n",
       "\n",
       "mpl.figure.prototype._init_canvas = function() {\n",
       "    var fig = this;\n",
       "\n",
       "    var canvas_div = $('<div/>');\n",
       "\n",
       "    canvas_div.attr('style', 'position: relative; clear: both; outline: 0');\n",
       "\n",
       "    function canvas_keyboard_event(event) {\n",
       "        return fig.key_event(event, event['data']);\n",
       "    }\n",
       "\n",
       "    canvas_div.keydown('key_press', canvas_keyboard_event);\n",
       "    canvas_div.keyup('key_release', canvas_keyboard_event);\n",
       "    this.canvas_div = canvas_div\n",
       "    this._canvas_extra_style(canvas_div)\n",
       "    this.root.append(canvas_div);\n",
       "\n",
       "    var canvas = $('<canvas/>');\n",
       "    canvas.addClass('mpl-canvas');\n",
       "    canvas.attr('style', \"left: 0; top: 0; z-index: 0; outline: 0\")\n",
       "\n",
       "    this.canvas = canvas[0];\n",
       "    this.context = canvas[0].getContext(\"2d\");\n",
       "\n",
       "    var backingStore = this.context.backingStorePixelRatio ||\n",
       "\tthis.context.webkitBackingStorePixelRatio ||\n",
       "\tthis.context.mozBackingStorePixelRatio ||\n",
       "\tthis.context.msBackingStorePixelRatio ||\n",
       "\tthis.context.oBackingStorePixelRatio ||\n",
       "\tthis.context.backingStorePixelRatio || 1;\n",
       "\n",
       "    mpl.ratio = (window.devicePixelRatio || 1) / backingStore;\n",
       "\n",
       "    var rubberband = $('<canvas/>');\n",
       "    rubberband.attr('style', \"position: absolute; left: 0; top: 0; z-index: 1;\")\n",
       "\n",
       "    var pass_mouse_events = true;\n",
       "\n",
       "    canvas_div.resizable({\n",
       "        start: function(event, ui) {\n",
       "            pass_mouse_events = false;\n",
       "        },\n",
       "        resize: function(event, ui) {\n",
       "            fig.request_resize(ui.size.width, ui.size.height);\n",
       "        },\n",
       "        stop: function(event, ui) {\n",
       "            pass_mouse_events = true;\n",
       "            fig.request_resize(ui.size.width, ui.size.height);\n",
       "        },\n",
       "    });\n",
       "\n",
       "    function mouse_event_fn(event) {\n",
       "        if (pass_mouse_events)\n",
       "            return fig.mouse_event(event, event['data']);\n",
       "    }\n",
       "\n",
       "    rubberband.mousedown('button_press', mouse_event_fn);\n",
       "    rubberband.mouseup('button_release', mouse_event_fn);\n",
       "    // Throttle sequential mouse events to 1 every 20ms.\n",
       "    rubberband.mousemove('motion_notify', mouse_event_fn);\n",
       "\n",
       "    rubberband.mouseenter('figure_enter', mouse_event_fn);\n",
       "    rubberband.mouseleave('figure_leave', mouse_event_fn);\n",
       "\n",
       "    canvas_div.on(\"wheel\", function (event) {\n",
       "        event = event.originalEvent;\n",
       "        event['data'] = 'scroll'\n",
       "        if (event.deltaY < 0) {\n",
       "            event.step = 1;\n",
       "        } else {\n",
       "            event.step = -1;\n",
       "        }\n",
       "        mouse_event_fn(event);\n",
       "    });\n",
       "\n",
       "    canvas_div.append(canvas);\n",
       "    canvas_div.append(rubberband);\n",
       "\n",
       "    this.rubberband = rubberband;\n",
       "    this.rubberband_canvas = rubberband[0];\n",
       "    this.rubberband_context = rubberband[0].getContext(\"2d\");\n",
       "    this.rubberband_context.strokeStyle = \"#000000\";\n",
       "\n",
       "    this._resize_canvas = function(width, height) {\n",
       "        // Keep the size of the canvas, canvas container, and rubber band\n",
       "        // canvas in synch.\n",
       "        canvas_div.css('width', width)\n",
       "        canvas_div.css('height', height)\n",
       "\n",
       "        canvas.attr('width', width * mpl.ratio);\n",
       "        canvas.attr('height', height * mpl.ratio);\n",
       "        canvas.attr('style', 'width: ' + width + 'px; height: ' + height + 'px;');\n",
       "\n",
       "        rubberband.attr('width', width);\n",
       "        rubberband.attr('height', height);\n",
       "    }\n",
       "\n",
       "    // Set the figure to an initial 600x600px, this will subsequently be updated\n",
       "    // upon first draw.\n",
       "    this._resize_canvas(600, 600);\n",
       "\n",
       "    // Disable right mouse context menu.\n",
       "    $(this.rubberband_canvas).bind(\"contextmenu\",function(e){\n",
       "        return false;\n",
       "    });\n",
       "\n",
       "    function set_focus () {\n",
       "        canvas.focus();\n",
       "        canvas_div.focus();\n",
       "    }\n",
       "\n",
       "    window.setTimeout(set_focus, 100);\n",
       "}\n",
       "\n",
       "mpl.figure.prototype._init_toolbar = function() {\n",
       "    var fig = this;\n",
       "\n",
       "    var nav_element = $('<div/>');\n",
       "    nav_element.attr('style', 'width: 100%');\n",
       "    this.root.append(nav_element);\n",
       "\n",
       "    // Define a callback function for later on.\n",
       "    function toolbar_event(event) {\n",
       "        return fig.toolbar_button_onclick(event['data']);\n",
       "    }\n",
       "    function toolbar_mouse_event(event) {\n",
       "        return fig.toolbar_button_onmouseover(event['data']);\n",
       "    }\n",
       "\n",
       "    for(var toolbar_ind in mpl.toolbar_items) {\n",
       "        var name = mpl.toolbar_items[toolbar_ind][0];\n",
       "        var tooltip = mpl.toolbar_items[toolbar_ind][1];\n",
       "        var image = mpl.toolbar_items[toolbar_ind][2];\n",
       "        var method_name = mpl.toolbar_items[toolbar_ind][3];\n",
       "\n",
       "        if (!name) {\n",
       "            // put a spacer in here.\n",
       "            continue;\n",
       "        }\n",
       "        var button = $('<button/>');\n",
       "        button.addClass('ui-button ui-widget ui-state-default ui-corner-all ' +\n",
       "                        'ui-button-icon-only');\n",
       "        button.attr('role', 'button');\n",
       "        button.attr('aria-disabled', 'false');\n",
       "        button.click(method_name, toolbar_event);\n",
       "        button.mouseover(tooltip, toolbar_mouse_event);\n",
       "\n",
       "        var icon_img = $('<span/>');\n",
       "        icon_img.addClass('ui-button-icon-primary ui-icon');\n",
       "        icon_img.addClass(image);\n",
       "        icon_img.addClass('ui-corner-all');\n",
       "\n",
       "        var tooltip_span = $('<span/>');\n",
       "        tooltip_span.addClass('ui-button-text');\n",
       "        tooltip_span.html(tooltip);\n",
       "\n",
       "        button.append(icon_img);\n",
       "        button.append(tooltip_span);\n",
       "\n",
       "        nav_element.append(button);\n",
       "    }\n",
       "\n",
       "    var fmt_picker_span = $('<span/>');\n",
       "\n",
       "    var fmt_picker = $('<select/>');\n",
       "    fmt_picker.addClass('mpl-toolbar-option ui-widget ui-widget-content');\n",
       "    fmt_picker_span.append(fmt_picker);\n",
       "    nav_element.append(fmt_picker_span);\n",
       "    this.format_dropdown = fmt_picker[0];\n",
       "\n",
       "    for (var ind in mpl.extensions) {\n",
       "        var fmt = mpl.extensions[ind];\n",
       "        var option = $(\n",
       "            '<option/>', {selected: fmt === mpl.default_extension}).html(fmt);\n",
       "        fmt_picker.append(option);\n",
       "    }\n",
       "\n",
       "    // Add hover states to the ui-buttons\n",
       "    $( \".ui-button\" ).hover(\n",
       "        function() { $(this).addClass(\"ui-state-hover\");},\n",
       "        function() { $(this).removeClass(\"ui-state-hover\");}\n",
       "    );\n",
       "\n",
       "    var status_bar = $('<span class=\"mpl-message\"/>');\n",
       "    nav_element.append(status_bar);\n",
       "    this.message = status_bar[0];\n",
       "}\n",
       "\n",
       "mpl.figure.prototype.request_resize = function(x_pixels, y_pixels) {\n",
       "    // Request matplotlib to resize the figure. Matplotlib will then trigger a resize in the client,\n",
       "    // which will in turn request a refresh of the image.\n",
       "    this.send_message('resize', {'width': x_pixels, 'height': y_pixels});\n",
       "}\n",
       "\n",
       "mpl.figure.prototype.send_message = function(type, properties) {\n",
       "    properties['type'] = type;\n",
       "    properties['figure_id'] = this.id;\n",
       "    this.ws.send(JSON.stringify(properties));\n",
       "}\n",
       "\n",
       "mpl.figure.prototype.send_draw_message = function() {\n",
       "    if (!this.waiting) {\n",
       "        this.waiting = true;\n",
       "        this.ws.send(JSON.stringify({type: \"draw\", figure_id: this.id}));\n",
       "    }\n",
       "}\n",
       "\n",
       "\n",
       "mpl.figure.prototype.handle_save = function(fig, msg) {\n",
       "    var format_dropdown = fig.format_dropdown;\n",
       "    var format = format_dropdown.options[format_dropdown.selectedIndex].value;\n",
       "    fig.ondownload(fig, format);\n",
       "}\n",
       "\n",
       "\n",
       "mpl.figure.prototype.handle_resize = function(fig, msg) {\n",
       "    var size = msg['size'];\n",
       "    if (size[0] != fig.canvas.width || size[1] != fig.canvas.height) {\n",
       "        fig._resize_canvas(size[0], size[1]);\n",
       "        fig.send_message(\"refresh\", {});\n",
       "    };\n",
       "}\n",
       "\n",
       "mpl.figure.prototype.handle_rubberband = function(fig, msg) {\n",
       "    var x0 = msg['x0'] / mpl.ratio;\n",
       "    var y0 = (fig.canvas.height - msg['y0']) / mpl.ratio;\n",
       "    var x1 = msg['x1'] / mpl.ratio;\n",
       "    var y1 = (fig.canvas.height - msg['y1']) / mpl.ratio;\n",
       "    x0 = Math.floor(x0) + 0.5;\n",
       "    y0 = Math.floor(y0) + 0.5;\n",
       "    x1 = Math.floor(x1) + 0.5;\n",
       "    y1 = Math.floor(y1) + 0.5;\n",
       "    var min_x = Math.min(x0, x1);\n",
       "    var min_y = Math.min(y0, y1);\n",
       "    var width = Math.abs(x1 - x0);\n",
       "    var height = Math.abs(y1 - y0);\n",
       "\n",
       "    fig.rubberband_context.clearRect(\n",
       "        0, 0, fig.canvas.width / mpl.ratio, fig.canvas.height / mpl.ratio);\n",
       "\n",
       "    fig.rubberband_context.strokeRect(min_x, min_y, width, height);\n",
       "}\n",
       "\n",
       "mpl.figure.prototype.handle_figure_label = function(fig, msg) {\n",
       "    // Updates the figure title.\n",
       "    fig.header.textContent = msg['label'];\n",
       "}\n",
       "\n",
       "mpl.figure.prototype.handle_cursor = function(fig, msg) {\n",
       "    var cursor = msg['cursor'];\n",
       "    switch(cursor)\n",
       "    {\n",
       "    case 0:\n",
       "        cursor = 'pointer';\n",
       "        break;\n",
       "    case 1:\n",
       "        cursor = 'default';\n",
       "        break;\n",
       "    case 2:\n",
       "        cursor = 'crosshair';\n",
       "        break;\n",
       "    case 3:\n",
       "        cursor = 'move';\n",
       "        break;\n",
       "    }\n",
       "    fig.rubberband_canvas.style.cursor = cursor;\n",
       "}\n",
       "\n",
       "mpl.figure.prototype.handle_message = function(fig, msg) {\n",
       "    fig.message.textContent = msg['message'];\n",
       "}\n",
       "\n",
       "mpl.figure.prototype.handle_draw = function(fig, msg) {\n",
       "    // Request the server to send over a new figure.\n",
       "    fig.send_draw_message();\n",
       "}\n",
       "\n",
       "mpl.figure.prototype.handle_image_mode = function(fig, msg) {\n",
       "    fig.image_mode = msg['mode'];\n",
       "}\n",
       "\n",
       "mpl.figure.prototype.updated_canvas_event = function() {\n",
       "    // Called whenever the canvas gets updated.\n",
       "    this.send_message(\"ack\", {});\n",
       "}\n",
       "\n",
       "// A function to construct a web socket function for onmessage handling.\n",
       "// Called in the figure constructor.\n",
       "mpl.figure.prototype._make_on_message_function = function(fig) {\n",
       "    return function socket_on_message(evt) {\n",
       "        if (evt.data instanceof Blob) {\n",
       "            /* FIXME: We get \"Resource interpreted as Image but\n",
       "             * transferred with MIME type text/plain:\" errors on\n",
       "             * Chrome.  But how to set the MIME type?  It doesn't seem\n",
       "             * to be part of the websocket stream */\n",
       "            evt.data.type = \"image/png\";\n",
       "\n",
       "            /* Free the memory for the previous frames */\n",
       "            if (fig.imageObj.src) {\n",
       "                (window.URL || window.webkitURL).revokeObjectURL(\n",
       "                    fig.imageObj.src);\n",
       "            }\n",
       "\n",
       "            fig.imageObj.src = (window.URL || window.webkitURL).createObjectURL(\n",
       "                evt.data);\n",
       "            fig.updated_canvas_event();\n",
       "            fig.waiting = false;\n",
       "            return;\n",
       "        }\n",
       "        else if (typeof evt.data === 'string' && evt.data.slice(0, 21) == \"data:image/png;base64\") {\n",
       "            fig.imageObj.src = evt.data;\n",
       "            fig.updated_canvas_event();\n",
       "            fig.waiting = false;\n",
       "            return;\n",
       "        }\n",
       "\n",
       "        var msg = JSON.parse(evt.data);\n",
       "        var msg_type = msg['type'];\n",
       "\n",
       "        // Call the  \"handle_{type}\" callback, which takes\n",
       "        // the figure and JSON message as its only arguments.\n",
       "        try {\n",
       "            var callback = fig[\"handle_\" + msg_type];\n",
       "        } catch (e) {\n",
       "            console.log(\"No handler for the '\" + msg_type + \"' message type: \", msg);\n",
       "            return;\n",
       "        }\n",
       "\n",
       "        if (callback) {\n",
       "            try {\n",
       "                // console.log(\"Handling '\" + msg_type + \"' message: \", msg);\n",
       "                callback(fig, msg);\n",
       "            } catch (e) {\n",
       "                console.log(\"Exception inside the 'handler_\" + msg_type + \"' callback:\", e, e.stack, msg);\n",
       "            }\n",
       "        }\n",
       "    };\n",
       "}\n",
       "\n",
       "// from http://stackoverflow.com/questions/1114465/getting-mouse-location-in-canvas\n",
       "mpl.findpos = function(e) {\n",
       "    //this section is from http://www.quirksmode.org/js/events_properties.html\n",
       "    var targ;\n",
       "    if (!e)\n",
       "        e = window.event;\n",
       "    if (e.target)\n",
       "        targ = e.target;\n",
       "    else if (e.srcElement)\n",
       "        targ = e.srcElement;\n",
       "    if (targ.nodeType == 3) // defeat Safari bug\n",
       "        targ = targ.parentNode;\n",
       "\n",
       "    // jQuery normalizes the pageX and pageY\n",
       "    // pageX,Y are the mouse positions relative to the document\n",
       "    // offset() returns the position of the element relative to the document\n",
       "    var x = e.pageX - $(targ).offset().left;\n",
       "    var y = e.pageY - $(targ).offset().top;\n",
       "\n",
       "    return {\"x\": x, \"y\": y};\n",
       "};\n",
       "\n",
       "/*\n",
       " * return a copy of an object with only non-object keys\n",
       " * we need this to avoid circular references\n",
       " * http://stackoverflow.com/a/24161582/3208463\n",
       " */\n",
       "function simpleKeys (original) {\n",
       "  return Object.keys(original).reduce(function (obj, key) {\n",
       "    if (typeof original[key] !== 'object')\n",
       "        obj[key] = original[key]\n",
       "    return obj;\n",
       "  }, {});\n",
       "}\n",
       "\n",
       "mpl.figure.prototype.mouse_event = function(event, name) {\n",
       "    var canvas_pos = mpl.findpos(event)\n",
       "\n",
       "    if (name === 'button_press')\n",
       "    {\n",
       "        this.canvas.focus();\n",
       "        this.canvas_div.focus();\n",
       "    }\n",
       "\n",
       "    var x = canvas_pos.x * mpl.ratio;\n",
       "    var y = canvas_pos.y * mpl.ratio;\n",
       "\n",
       "    this.send_message(name, {x: x, y: y, button: event.button,\n",
       "                             step: event.step,\n",
       "                             guiEvent: simpleKeys(event)});\n",
       "\n",
       "    /* This prevents the web browser from automatically changing to\n",
       "     * the text insertion cursor when the button is pressed.  We want\n",
       "     * to control all of the cursor setting manually through the\n",
       "     * 'cursor' event from matplotlib */\n",
       "    event.preventDefault();\n",
       "    return false;\n",
       "}\n",
       "\n",
       "mpl.figure.prototype._key_event_extra = function(event, name) {\n",
       "    // Handle any extra behaviour associated with a key event\n",
       "}\n",
       "\n",
       "mpl.figure.prototype.key_event = function(event, name) {\n",
       "\n",
       "    // Prevent repeat events\n",
       "    if (name == 'key_press')\n",
       "    {\n",
       "        if (event.which === this._key)\n",
       "            return;\n",
       "        else\n",
       "            this._key = event.which;\n",
       "    }\n",
       "    if (name == 'key_release')\n",
       "        this._key = null;\n",
       "\n",
       "    var value = '';\n",
       "    if (event.ctrlKey && event.which != 17)\n",
       "        value += \"ctrl+\";\n",
       "    if (event.altKey && event.which != 18)\n",
       "        value += \"alt+\";\n",
       "    if (event.shiftKey && event.which != 16)\n",
       "        value += \"shift+\";\n",
       "\n",
       "    value += 'k';\n",
       "    value += event.which.toString();\n",
       "\n",
       "    this._key_event_extra(event, name);\n",
       "\n",
       "    this.send_message(name, {key: value,\n",
       "                             guiEvent: simpleKeys(event)});\n",
       "    return false;\n",
       "}\n",
       "\n",
       "mpl.figure.prototype.toolbar_button_onclick = function(name) {\n",
       "    if (name == 'download') {\n",
       "        this.handle_save(this, null);\n",
       "    } else {\n",
       "        this.send_message(\"toolbar_button\", {name: name});\n",
       "    }\n",
       "};\n",
       "\n",
       "mpl.figure.prototype.toolbar_button_onmouseover = function(tooltip) {\n",
       "    this.message.textContent = tooltip;\n",
       "};\n",
       "mpl.toolbar_items = [[\"Home\", \"Reset original view\", \"fa fa-home icon-home\", \"home\"], [\"Back\", \"Back to previous view\", \"fa fa-arrow-left icon-arrow-left\", \"back\"], [\"Forward\", \"Forward to next view\", \"fa fa-arrow-right icon-arrow-right\", \"forward\"], [\"\", \"\", \"\", \"\"], [\"Pan\", \"Pan axes with left mouse, zoom with right\", \"fa fa-arrows icon-move\", \"pan\"], [\"Zoom\", \"Zoom to rectangle\", \"fa fa-square-o icon-check-empty\", \"zoom\"], [\"\", \"\", \"\", \"\"], [\"Download\", \"Download plot\", \"fa fa-floppy-o icon-save\", \"download\"]];\n",
       "\n",
       "mpl.extensions = [\"eps\", \"pdf\", \"png\", \"ps\", \"raw\", \"svg\"];\n",
       "\n",
       "mpl.default_extension = \"png\";var comm_websocket_adapter = function(comm) {\n",
       "    // Create a \"websocket\"-like object which calls the given IPython comm\n",
       "    // object with the appropriate methods. Currently this is a non binary\n",
       "    // socket, so there is still some room for performance tuning.\n",
       "    var ws = {};\n",
       "\n",
       "    ws.close = function() {\n",
       "        comm.close()\n",
       "    };\n",
       "    ws.send = function(m) {\n",
       "        //console.log('sending', m);\n",
       "        comm.send(m);\n",
       "    };\n",
       "    // Register the callback with on_msg.\n",
       "    comm.on_msg(function(msg) {\n",
       "        //console.log('receiving', msg['content']['data'], msg);\n",
       "        // Pass the mpl event to the overridden (by mpl) onmessage function.\n",
       "        ws.onmessage(msg['content']['data'])\n",
       "    });\n",
       "    return ws;\n",
       "}\n",
       "\n",
       "mpl.mpl_figure_comm = function(comm, msg) {\n",
       "    // This is the function which gets called when the mpl process\n",
       "    // starts-up an IPython Comm through the \"matplotlib\" channel.\n",
       "\n",
       "    var id = msg.content.data.id;\n",
       "    // Get hold of the div created by the display call when the Comm\n",
       "    // socket was opened in Python.\n",
       "    var element = $(\"#\" + id);\n",
       "    var ws_proxy = comm_websocket_adapter(comm)\n",
       "\n",
       "    function ondownload(figure, format) {\n",
       "        window.open(figure.imageObj.src);\n",
       "    }\n",
       "\n",
       "    var fig = new mpl.figure(id, ws_proxy,\n",
       "                           ondownload,\n",
       "                           element.get(0));\n",
       "\n",
       "    // Call onopen now - mpl needs it, as it is assuming we've passed it a real\n",
       "    // web socket which is closed, not our websocket->open comm proxy.\n",
       "    ws_proxy.onopen();\n",
       "\n",
       "    fig.parent_element = element.get(0);\n",
       "    fig.cell_info = mpl.find_output_cell(\"<div id='\" + id + \"'></div>\");\n",
       "    if (!fig.cell_info) {\n",
       "        console.error(\"Failed to find cell for figure\", id, fig);\n",
       "        return;\n",
       "    }\n",
       "\n",
       "    var output_index = fig.cell_info[2]\n",
       "    var cell = fig.cell_info[0];\n",
       "\n",
       "};\n",
       "\n",
       "mpl.figure.prototype.handle_close = function(fig, msg) {\n",
       "    var width = fig.canvas.width/mpl.ratio\n",
       "    fig.root.unbind('remove')\n",
       "\n",
       "    // Update the output cell to use the data from the current canvas.\n",
       "    fig.push_to_output();\n",
       "    var dataURL = fig.canvas.toDataURL();\n",
       "    // Re-enable the keyboard manager in IPython - without this line, in FF,\n",
       "    // the notebook keyboard shortcuts fail.\n",
       "    IPython.keyboard_manager.enable()\n",
       "    $(fig.parent_element).html('<img src=\"' + dataURL + '\" width=\"' + width + '\">');\n",
       "    fig.close_ws(fig, msg);\n",
       "}\n",
       "\n",
       "mpl.figure.prototype.close_ws = function(fig, msg){\n",
       "    fig.send_message('closing', msg);\n",
       "    // fig.ws.close()\n",
       "}\n",
       "\n",
       "mpl.figure.prototype.push_to_output = function(remove_interactive) {\n",
       "    // Turn the data on the canvas into data in the output cell.\n",
       "    var width = this.canvas.width/mpl.ratio\n",
       "    var dataURL = this.canvas.toDataURL();\n",
       "    this.cell_info[1]['text/html'] = '<img src=\"' + dataURL + '\" width=\"' + width + '\">';\n",
       "}\n",
       "\n",
       "mpl.figure.prototype.updated_canvas_event = function() {\n",
       "    // Tell IPython that the notebook contents must change.\n",
       "    IPython.notebook.set_dirty(true);\n",
       "    this.send_message(\"ack\", {});\n",
       "    var fig = this;\n",
       "    // Wait a second, then push the new image to the DOM so\n",
       "    // that it is saved nicely (might be nice to debounce this).\n",
       "    setTimeout(function () { fig.push_to_output() }, 1000);\n",
       "}\n",
       "\n",
       "mpl.figure.prototype._init_toolbar = function() {\n",
       "    var fig = this;\n",
       "\n",
       "    var nav_element = $('<div/>');\n",
       "    nav_element.attr('style', 'width: 100%');\n",
       "    this.root.append(nav_element);\n",
       "\n",
       "    // Define a callback function for later on.\n",
       "    function toolbar_event(event) {\n",
       "        return fig.toolbar_button_onclick(event['data']);\n",
       "    }\n",
       "    function toolbar_mouse_event(event) {\n",
       "        return fig.toolbar_button_onmouseover(event['data']);\n",
       "    }\n",
       "\n",
       "    for(var toolbar_ind in mpl.toolbar_items){\n",
       "        var name = mpl.toolbar_items[toolbar_ind][0];\n",
       "        var tooltip = mpl.toolbar_items[toolbar_ind][1];\n",
       "        var image = mpl.toolbar_items[toolbar_ind][2];\n",
       "        var method_name = mpl.toolbar_items[toolbar_ind][3];\n",
       "\n",
       "        if (!name) { continue; };\n",
       "\n",
       "        var button = $('<button class=\"btn btn-default\" href=\"#\" title=\"' + name + '\"><i class=\"fa ' + image + ' fa-lg\"></i></button>');\n",
       "        button.click(method_name, toolbar_event);\n",
       "        button.mouseover(tooltip, toolbar_mouse_event);\n",
       "        nav_element.append(button);\n",
       "    }\n",
       "\n",
       "    // Add the status bar.\n",
       "    var status_bar = $('<span class=\"mpl-message\" style=\"text-align:right; float: right;\"/>');\n",
       "    nav_element.append(status_bar);\n",
       "    this.message = status_bar[0];\n",
       "\n",
       "    // Add the close button to the window.\n",
       "    var buttongrp = $('<div class=\"btn-group inline pull-right\"></div>');\n",
       "    var button = $('<button class=\"btn btn-mini btn-primary\" href=\"#\" title=\"Stop Interaction\"><i class=\"fa fa-power-off icon-remove icon-large\"></i></button>');\n",
       "    button.click(function (evt) { fig.handle_close(fig, {}); } );\n",
       "    button.mouseover('Stop Interaction', toolbar_mouse_event);\n",
       "    buttongrp.append(button);\n",
       "    var titlebar = this.root.find($('.ui-dialog-titlebar'));\n",
       "    titlebar.prepend(buttongrp);\n",
       "}\n",
       "\n",
       "mpl.figure.prototype._root_extra_style = function(el){\n",
       "    var fig = this\n",
       "    el.on(\"remove\", function(){\n",
       "\tfig.close_ws(fig, {});\n",
       "    });\n",
       "}\n",
       "\n",
       "mpl.figure.prototype._canvas_extra_style = function(el){\n",
       "    // this is important to make the div 'focusable\n",
       "    el.attr('tabindex', 0)\n",
       "    // reach out to IPython and tell the keyboard manager to turn it's self\n",
       "    // off when our div gets focus\n",
       "\n",
       "    // location in version 3\n",
       "    if (IPython.notebook.keyboard_manager) {\n",
       "        IPython.notebook.keyboard_manager.register_events(el);\n",
       "    }\n",
       "    else {\n",
       "        // location in version 2\n",
       "        IPython.keyboard_manager.register_events(el);\n",
       "    }\n",
       "\n",
       "}\n",
       "\n",
       "mpl.figure.prototype._key_event_extra = function(event, name) {\n",
       "    var manager = IPython.notebook.keyboard_manager;\n",
       "    if (!manager)\n",
       "        manager = IPython.keyboard_manager;\n",
       "\n",
       "    // Check for shift+enter\n",
       "    if (event.shiftKey && event.which == 13) {\n",
       "        this.canvas_div.blur();\n",
       "        // select the cell after this one\n",
       "        var index = IPython.notebook.find_cell_index(this.cell_info[0]);\n",
       "        IPython.notebook.select(index + 1);\n",
       "    }\n",
       "}\n",
       "\n",
       "mpl.figure.prototype.handle_save = function(fig, msg) {\n",
       "    fig.ondownload(fig, null);\n",
       "}\n",
       "\n",
       "\n",
       "mpl.find_output_cell = function(html_output) {\n",
       "    // Return the cell and output element which can be found *uniquely* in the notebook.\n",
       "    // Note - this is a bit hacky, but it is done because the \"notebook_saving.Notebook\"\n",
       "    // IPython event is triggered only after the cells have been serialised, which for\n",
       "    // our purposes (turning an active figure into a static one), is too late.\n",
       "    var cells = IPython.notebook.get_cells();\n",
       "    var ncells = cells.length;\n",
       "    for (var i=0; i<ncells; i++) {\n",
       "        var cell = cells[i];\n",
       "        if (cell.cell_type === 'code'){\n",
       "            for (var j=0; j<cell.output_area.outputs.length; j++) {\n",
       "                var data = cell.output_area.outputs[j];\n",
       "                if (data.data) {\n",
       "                    // IPython >= 3 moved mimebundle to data attribute of output\n",
       "                    data = data.data;\n",
       "                }\n",
       "                if (data['text/html'] == html_output) {\n",
       "                    return [cell, data, j];\n",
       "                }\n",
       "            }\n",
       "        }\n",
       "    }\n",
       "}\n",
       "\n",
       "// Register the function which deals with the matplotlib target/channel.\n",
       "// The kernel may be null if the page has been refreshed.\n",
       "if (IPython.notebook.kernel != null) {\n",
       "    IPython.notebook.kernel.comm_manager.register_target('matplotlib', mpl.mpl_figure_comm);\n",
       "}\n"
      ],
      "text/plain": [
       "<IPython.core.display.Javascript object>"
      ]
     },
     "metadata": {},
     "output_type": "display_data"
    },
    {
     "data": {
      "text/html": [
       "<img src=\"data:image/png;base64,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\" width=\"800\">"
      ],
      "text/plain": [
       "<IPython.core.display.HTML object>"
      ]
     },
     "metadata": {},
     "output_type": "display_data"
    },
    {
     "data": {
      "application/vnd.jupyter.widget-view+json": {
       "model_id": "3cf3e52fcfaa4a20bd210ff9fd92e722",
       "version_major": 2,
       "version_minor": 0
      },
      "text/plain": [
       "interactive(children=(FloatSlider(value=10.0, description='sample_rate', max=25.0, min=1.0), FloatSlider(value…"
      ]
     },
     "metadata": {},
     "output_type": "display_data"
    }
   ],
   "source": [
    "t, sample_rate, frequency, phase = numpy.linspace(0, 4, 4001), 10, 1, 0\n",
    "signal = lambda t, f=1., phi=0: numpy.sin(2*pi*t*f+phi)\n",
    "\n",
    "fig, ax = plt.subplots()\n",
    "fig.set_size_inches(8,4)\n",
    "\n",
    "\n",
    "@interact(sample_rate=(1,25, 0.1), frequency=(-9,10, 0.1), phase=(-6, 6, 0.1))\n",
    "def sampled_sinwave(sample_rate=sample_rate, frequency=frequency, phase=0.):\n",
    "    ax.cla()\n",
    "    t_samples = numpy.arange(min(t), max(t), 1./sample_rate)\n",
    "    x, x_sampled = signal(t, frequency, phase), signal(t_samples, frequency, phase)\n",
    "    ax.plot(t, x, label='Original Signal')\n",
    "    ax.stem(t_samples, x_sampled, linefmt='r', label='Sampled', use_line_collection=True)\n",
    "    ax.plot(t_samples, x_sampled, '--k', label='Recovered')\n",
    "    ax.legend(loc='lower left')\n",
    "    fig.canvas.draw_idle()\n",
    "    fig.tight_layout()"
   ]
  },
  {
   "cell_type": "markdown",
   "metadata": {
    "cell_style": "center",
    "slideshow": {
     "slide_type": "slide"
    }
   },
   "source": [
    "##  Kinds of basic RF problems\n",
    "\n",
    "#### Communication\n",
    "  + Getting data between places\n",
    "\n",
    "#### Radar\n",
    "  + Using radio waves to sense something\n",
    "\n",
    "#### Passive Inference\n",
    "  + Using Emotions that already exist what can I figure out"
   ]
  },
  {
   "cell_type": "markdown",
   "metadata": {
    "slideshow": {
     "slide_type": "slide"
    }
   },
   "source": [
    "## What Signals We Are Considering\n",
    "\n"
   ]
  },
  {
   "cell_type": "markdown",
   "metadata": {
    "cell_style": "split",
    "slideshow": {
     "slide_type": "fragment"
    }
   },
   "source": [
    "## Time Series\n",
    "  + Sampled at a regular"
   ]
  },
  {
   "cell_type": "markdown",
   "metadata": {
    "cell_style": "split",
    "slideshow": {
     "slide_type": "fragment"
    }
   },
   "source": [
    "#### Radio Signals\n",
    "  + Can we capture it we a Software Defined Radio (SDR)\n",
    "  + Complex valued (pair of reals)"
   ]
  },
  {
   "cell_type": "markdown",
   "metadata": {
    "cell_style": "split",
    "slideshow": {
     "slide_type": "fragment"
    }
   },
   "source": [
    "### Single Channel\n",
    "  + 1 dimension to each sample"
   ]
  },
  {
   "cell_type": "markdown",
   "metadata": {
    "cell_style": "split",
    "slideshow": {
     "slide_type": "fragment"
    }
   },
   "source": [
    "### Narrowband\n",
    "  + Bandwidth of the signal is smaller than it's center frequency\n",
    "  "
   ]
  },
  {
   "cell_type": "markdown",
   "metadata": {
    "slideshow": {
     "slide_type": "notes"
    }
   },
   "source": []
  },
  {
   "cell_type": "markdown",
   "metadata": {
    "slideshow": {
     "slide_type": "slide"
    }
   },
   "source": [
    "## Properties of Operations on Signals (Systems)\n",
    "  + Linearity\n",
    "  + Time Inverance \n",
    "  + Bounded Input Bounded Output\n",
    "  + Dirivatives and Differences\n",
    "  + Integrates and Sumations \n",
    "  + Useful Non-linear Functions\n",
    "    + ABS\n",
    "    + Squared\n",
    "    + Distance\n",
    "    + Log and Decibels"
   ]
  },
  {
   "cell_type": "markdown",
   "metadata": {
    "slideshow": {
     "slide_type": "subslide"
    }
   },
   "source": [
    "### Linearity\n",
    "\n",
    "  + Additivity\n",
    "$$ f(a+b) = f(a) + f(b) $$\n",
    "\n",
    "\n",
    "\n",
    "  + Homogeneity \n",
    "$$ f(\\alpha \\: x) = \\alpha \\: f(x) $$\n",
    "\n",
    "\n",
    "\n",
    "  + Approximately linear\n",
    "  \n",
    "    + Useful approximation\n",
    "    \n",
    "    + For b << a $f(a+b)$ can be treated as linear\n",
    "    \n",
    "    $$ f(a+b) \\approx f(a) + f(b) \\quad for \\:\\: b << a $$"
   ]
  },
  {
   "cell_type": "markdown",
   "metadata": {
    "slideshow": {
     "slide_type": "subslide"
    }
   },
   "source": [
    "#### Linear ?\n",
    "Is the function linear, non-linear, Approximately linear?\n",
    "  \n",
    "  1.  \n",
    "  \n",
    "  $$ f(x) = 3 \\cdot x $$"
   ]
  },
  {
   "cell_type": "markdown",
   "metadata": {
    "slideshow": {
     "slide_type": "fragment"
    }
   },
   "source": [
    "  2. \n",
    "  \n",
    "  $$ f(x) = 0 \\cdot x $$"
   ]
  },
  {
   "cell_type": "markdown",
   "metadata": {
    "slideshow": {
     "slide_type": "fragment"
    }
   },
   "source": [
    "  3. \n",
    "  \n",
    "  $$ f(x) = 2 \\cdot x+1 $$"
   ]
  },
  {
   "cell_type": "markdown",
   "metadata": {
    "slideshow": {
     "slide_type": "fragment"
    }
   },
   "source": [
    "  4. \n",
    "  \n",
    "  $$ f(x) = x^{2} $$"
   ]
  },
  {
   "cell_type": "markdown",
   "metadata": {
    "slideshow": {
     "slide_type": "subslide"
    }
   },
   "source": [
    "### Time Inverance\n",
    "\n",
    "  + Function or System not dependent on what time it is\n",
    "  \n",
    "  $$ y(t) = f(x, t) = f(x, t+a) \\quad for \\: any \\: a $$"
   ]
  },
  {
   "cell_type": "markdown",
   "metadata": {
    "slideshow": {
     "slide_type": "fragment"
    }
   },
   "source": [
    "#### Time Inverent ?\n",
    "\n",
    "  1. \n",
    "  \n",
    "  $$ f(x) = 10 \\cdot x $$"
   ]
  },
  {
   "cell_type": "markdown",
   "metadata": {
    "slideshow": {
     "slide_type": "fragment"
    }
   },
   "source": [
    "  2. \n",
    "  $$ f(x) = x^{2} + 2x + 1 $$"
   ]
  },
  {
   "cell_type": "markdown",
   "metadata": {
    "slideshow": {
     "slide_type": "fragment"
    }
   },
   "source": [
    " 3. \n",
    "    $$ f(x) = t \\cdot x $$"
   ]
  },
  {
   "cell_type": "markdown",
   "metadata": {
    "slideshow": {
     "slide_type": "fragment"
    }
   },
   "source": [
    "  4. \n",
    "  $$ f(x) = x * \\delta(t-1) $$\n",
    "  \n",
    "    + What is that symbol \"$*$\" ? \n",
    "    + What about that other symbol \"$\\delta$\"?"
   ]
  },
  {
   "cell_type": "markdown",
   "metadata": {
    "slideshow": {
     "slide_type": "subslide"
    }
   },
   "source": [
    "###  Bounded Input Bounded Output\n",
    "\n",
    "  + For any input of limited energy the output energy is limited\n",
    "  \n",
    "$$ \\int_{- \\infty}^{\\infty} | \\: f(x) \\:  | \\: dt \\: < \\: \\infty  \\quad  for \\: \\int_{- \\infty}^{\\infty} | \\: x \\:  | \\: dt < \\infty$$"
   ]
  },
  {
   "cell_type": "markdown",
   "metadata": {
    "slideshow": {
     "slide_type": "fragment"
    }
   },
   "source": [
    "#### BIBO System?\n",
    "\n",
    "1. \n",
    "$$ f(x) = 5 \\cdot x + 2 $$"
   ]
  },
  {
   "cell_type": "markdown",
   "metadata": {
    "slideshow": {
     "slide_type": "fragment"
    }
   },
   "source": [
    "  2. \n",
    "  $$ f(x) = x^2 $$"
   ]
  },
  {
   "cell_type": "markdown",
   "metadata": {
    "slideshow": {
     "slide_type": "fragment"
    }
   },
   "source": [
    "  3. \n",
    "  $$ f(x) =  \\cfrac{1}{x} $$"
   ]
  },
  {
   "cell_type": "markdown",
   "metadata": {
    "slideshow": {
     "slide_type": "fragment"
    }
   },
   "source": [
    "  4. \n",
    "  $$ f(x) = \\int_{-\\infty}^{t} x^{2}(\\tau) \\: d \\tau $$"
   ]
  },
  {
   "cell_type": "markdown",
   "metadata": {
    "cell_style": "split",
    "slideshow": {
     "slide_type": "subslide"
    }
   },
   "source": [
    "### Derivative and Differences\n",
    "\n",
    "#### Derivative\n",
    "The rate of chage with respect to another variable.\n",
    "\n",
    "$$ \\begin{align} \n",
    "f(t) &= t^2 \\\\\n",
    "\\cfrac{d}{dt} f(t) &= f'(t) = 2 \\: t\n",
    "\\end{align}\n",
    "$$\n",
    "\n"
   ]
  },
  {
   "cell_type": "markdown",
   "metadata": {
    "cell_style": "split",
    "slideshow": {
     "slide_type": "fragment"
    }
   },
   "source": [
    "<img src=\"plot_dirivative_quad.gif\" width=\"100%\">"
   ]
  },
  {
   "cell_type": "markdown",
   "metadata": {
    "slideshow": {
     "slide_type": "subslide"
    }
   },
   "source": [
    "<img src=\"plot_dirivative_tri.gif?0\" width=\"90%\">"
   ]
  },
  {
   "cell_type": "markdown",
   "metadata": {
    "slideshow": {
     "slide_type": "subslide"
    }
   },
   "source": [
    "<img src=\"plot_dirivative_exp.gif\" width=\"90%\">"
   ]
  },
  {
   "cell_type": "markdown",
   "metadata": {
    "slideshow": {
     "slide_type": "subslide"
    }
   },
   "source": [
    "<img src=\"plot_dirivative_sin.gif\" width=\"100%\">"
   ]
  },
  {
   "cell_type": "markdown",
   "metadata": {
    "cell_style": "split"
   },
   "source": [
    "### Integral and Summation\n",
    "\n"
   ]
  },
  {
   "cell_type": "markdown",
   "metadata": {
    "cell_style": "split",
    "slideshow": {
     "slide_type": "-"
    }
   },
   "source": [
    "<img src=\"plot_integral_linear.gif\" width=\"100%\">"
   ]
  },
  {
   "cell_type": "markdown",
   "metadata": {
    "slideshow": {
     "slide_type": "subslide"
    }
   },
   "source": [
    "<img src=\"plot_integral_exp.gif\" width=\"90%\">"
   ]
  },
  {
   "cell_type": "markdown",
   "metadata": {
    "slideshow": {
     "slide_type": "subslide"
    }
   },
   "source": [
    "<img src=\"plot_integral_sin_1.gif\" width=\"90%\">"
   ]
  },
  {
   "cell_type": "markdown",
   "metadata": {
    "slideshow": {
     "slide_type": "subslide"
    }
   },
   "source": [
    "<img src=\"plot_integral_tri.gif?1\" width=\"90%\">"
   ]
  },
  {
   "cell_type": "code",
   "execution_count": null,
   "metadata": {},
   "outputs": [],
   "source": []
  },
  {
   "cell_type": "markdown",
   "metadata": {
    "cell_style": "split",
    "slideshow": {
     "slide_type": "slide"
    }
   },
   "source": [
    "## Random Varaibles\n",
    "  + Basics of Probablilty\n",
    "    + Total Probablilty\n",
    "    + Probability Density Function\n",
    "    + Cumulative Distribution Function\n",
    "  + Continuous Vs. Discrete\n",
    "  + Common Distributions\n",
    "      + Uniform\n",
    "      + Exponential\n",
    "      + Gaussian\n",
    "      + Chi Squared\n",
    "  + Mean, Variance, and higher Moments\n",
    "  "
   ]
  },
  {
   "cell_type": "markdown",
   "metadata": {
    "cell_style": "split",
    "slideshow": {
     "slide_type": "-"
    }
   },
   "source": [
    "\n",
    "  + Random Variables\n",
    "  + Central Limit Theorem\n",
    "  + Operations on random variables\n",
    "  + Correlation\n",
    "  + Conditional Probability \n",
    "  + Independent and identically Distributed "
   ]
  },
  {
   "cell_type": "markdown",
   "metadata": {
    "slideshow": {
     "slide_type": "subslide"
    }
   },
   "source": [
    "## Source of Noise\n",
    "\n",
    "#### Thermal Noise\n",
    "\n",
    "$$ P = k_B \\cdot T \\cdot BW $$\n",
    "\n",
    "  + $k_B$ is [Boltzmann's constant](https://en.wikipedia.org/wiki/Boltzmann_constant)\n",
    "  + $T$ is Temperature in [Kelvin](https://en.wikipedia.org/wiki/Kelvin)\n",
    "  + $BW$ is the bandwidth in Hz\n",
    "  \n",
    "#### System Noise\n",
    "\n",
    "  + Like thermal noise"
   ]
  },
  {
   "cell_type": "markdown",
   "metadata": {
    "slideshow": {
     "slide_type": "subslide"
    }
   },
   "source": [
    "### Basics Probability\n",
    "\n",
    "  \n",
    "  <img src=\"probability.png?1\" width=\"75%\" >"
   ]
  },
  {
   "cell_type": "markdown",
   "metadata": {
    "slideshow": {
     "slide_type": "subslide"
    }
   },
   "source": [
    "#### Total Probability\n",
    "    + Sum of all included outcomes is 1\n",
    "    \n",
    " \n",
    " <img src=\"probability_total.png?1\" width=\"75%\" >"
   ]
  },
  {
   "cell_type": "markdown",
   "metadata": {
    "slideshow": {
     "slide_type": "subslide"
    }
   },
   "source": [
    "#### Probability of 1?\n",
    "Given a random number generator what are the odd's it will return 1?\n",
    "\n",
    "<img src=\"probability_point.png?1\" width=\"75%\" >\n",
    "\n"
   ]
  },
  {
   "cell_type": "markdown",
   "metadata": {
    "slideshow": {
     "slide_type": "subslide"
    }
   },
   "source": [
    "#### Probability less than 0\n",
    "\n",
    "<img src=\"probability_regoin.png?1\" width=\"75%\">"
   ]
  },
  {
   "cell_type": "markdown",
   "metadata": {
    "slideshow": {
     "slide_type": "subslide"
    }
   },
   "source": [
    "### Probability Density Function\n",
    "\n",
    "  <img src=\"probability.png?1\" width=\"75%\" >"
   ]
  },
  {
   "cell_type": "markdown",
   "metadata": {
    "slideshow": {
     "slide_type": "subslide"
    }
   },
   "source": [
    "### Cumulative Density Function\n",
    "\n",
    "<img src=\"probability_pdf_cdf.png?1\" width=\"65%\">"
   ]
  },
  {
   "cell_type": "markdown",
   "metadata": {
    "cell_style": "split",
    "slideshow": {
     "slide_type": "subslide"
    }
   },
   "source": [
    "### Statistical Moments \n",
    "$$ \\bf x \\sim \\mathcal{\\bf P} \\: \\quad \\: P(x)= \\cdots $$\n",
    "\n",
    "##### Total Probabilty\n",
    "$$ 1 =  \\int_{-\\infty}^{\\infty} P(x) dx \\\\= \\sum P(x_i)$$\n",
    "\n",
    "##### Mean\n",
    "$$ \\mu = E(\\bf X) =  \\int_{-\\infty}^{\\infty} xP(x) dx \\\\= \\sum x_i P(x_i)$$\n",
    "\n"
   ]
  },
  {
   "cell_type": "markdown",
   "metadata": {
    "cell_style": "split",
    "slideshow": {
     "slide_type": "-"
    }
   },
   "source": [
    "##### Variance\n",
    "$$ \\sigma^2 = Var(\\bf X) = E \\left ( (\\bf X -\\mu)^2 \\right ) \\\\ = \\int_{-\\infty}^{\\infty} (x-\\mu)^2 P(x) dx \\\\= \\sum (x_i-\\mu)^2 P(x_i)\n",
    "$$"
   ]
  },
  {
   "cell_type": "markdown",
   "metadata": {
    "slideshow": {
     "slide_type": "notes"
    }
   },
   "source": []
  },
  {
   "cell_type": "markdown",
   "metadata": {
    "cell_style": "split",
    "slideshow": {
     "slide_type": "subslide"
    }
   },
   "source": [
    "##### Skew\n",
    "$$ Skew(\\bf X) =  \\int_{-\\infty}^{\\infty} \\left ( \\cfrac{x-\\mu}{\\sigma} \\right )^3 P(x) dx \\\\= \\sum \\left ( \\cfrac{x-\\mu}{\\sigma} \\right )^3 P(x_i)\n",
    "$$\n",
    "#### Excess Kurtosis\n",
    "$$ Kurt(\\bf X) =  \\int_{-\\infty}^{\\infty} \\left ( \\cfrac{x-\\mu}{\\sigma} \\right )^4 P(x) dx \\\\= \\sum \\left ( \\cfrac{x-\\mu}{\\sigma} \\right )^4 P(x_i)\n",
    "$$\n",
    "\n"
   ]
  },
  {
   "cell_type": "markdown",
   "metadata": {
    "cell_style": "split",
    "slideshow": {
     "slide_type": "-"
    }
   },
   "source": [
    "### Information\n",
    "\n",
    "\n",
    "##### Entropy \n",
    "\n",
    "$$ H(\\bf X) = -\\int_{-\\infty}^{\\infty} P(x) ln \\left ( P(x) \\right ) dx \\\\= -\\sum P(x) ln \\left ( P(x) \\right )\n",
    "$$"
   ]
  },
  {
   "cell_type": "code",
   "execution_count": null,
   "metadata": {
    "slideshow": {
     "slide_type": "notes"
    }
   },
   "outputs": [],
   "source": []
  },
  {
   "cell_type": "markdown",
   "metadata": {
    "cell_style": "split",
    "slideshow": {
     "slide_type": "subslide"
    }
   },
   "source": [
    "### Continuous \n",
    "+ Likelihood function\n",
    "  + Non-negative\n",
    "  + Can be greater than 1\n",
    "  + Probability density Function (PDF)\n",
    "\n",
    "<img src=\"probability.png?2\" width=\"90%\" >"
   ]
  },
  {
   "cell_type": "markdown",
   "metadata": {
    "cell_style": "split",
    "slideshow": {
     "slide_type": "-"
    }
   },
   "source": [
    "### Discrete\n",
    "\n",
    "+ Likelihood function\n",
    "  + Non-negative\n",
    "  + 0 or +infinity \n",
    "+ Probability Mass Function (PMF)\n",
    "  \n",
    "  \n",
    "<img src=\"probability_mass_function.png?1\" width=\"90%\">"
   ]
  },
  {
   "cell_type": "code",
   "execution_count": null,
   "metadata": {
    "slideshow": {
     "slide_type": "notes"
    }
   },
   "outputs": [],
   "source": []
  },
  {
   "cell_type": "markdown",
   "metadata": {
    "cell_style": "split",
    "slideshow": {
     "slide_type": "subslide"
    }
   },
   "source": [
    "#### Common Distributions\n",
    "  + Uniform \n",
    "    + Eazist to work with\n",
    "    + Computers likely start with this\n",
    "  + Exponential\n",
    "    + Eazy to work with\n",
    "  + Gaussian\n",
    "    + The most common\n",
    "  + Chi Squared\n",
    "    + Most common squared\n",
    "    "
   ]
  },
  {
   "cell_type": "markdown",
   "metadata": {
    "cell_style": "split",
    "slideshow": {
     "slide_type": "-"
    }
   },
   "source": [
    "<img src=\"common_distributions.png?1\" width=\"100%\">"
   ]
  },
  {
   "cell_type": "markdown",
   "metadata": {
    "slideshow": {
     "slide_type": "notes"
    }
   },
   "source": []
  },
  {
   "cell_type": "markdown",
   "metadata": {
    "cell_style": "split",
    "slideshow": {
     "slide_type": "subslide"
    }
   },
   "source": [
    "#### Uniform\n",
    "$$ P(x) =\\Big \\{ \\begin{matrix} \\:1 \\: :\\quad 0\\leq x \\leq 1 \\\\0 : \\quad otherwise \\end{matrix}$$\n",
    "\n",
    "\n",
    "$$ \\Phi (x) = \\Big \\{ \\begin{matrix} \\:x \\: :\\quad 0\\leq x \\leq 1 \\\\0 : \\quad otherwise \\end{matrix} $$\n",
    "\n",
    "$$ Mean = \\cfrac{1}{2}, \\quad \n",
    "Var = \\cfrac{1}{12(1-0)^2}, \\quad \\\\\n",
    "Skew = 0, \\quad\n",
    "kurtosis = \\cfrac{-6}{5}, \\quad \\\\\n",
    "Entropy = ln(1-0)\n",
    "$$"
   ]
  },
  {
   "cell_type": "markdown",
   "metadata": {
    "cell_style": "split",
    "slideshow": {
     "slide_type": "-"
    }
   },
   "source": [
    "\n",
    "<img src=\"uniform_distributions.png?1\" width=\"100%\">\n"
   ]
  },
  {
   "cell_type": "code",
   "execution_count": null,
   "metadata": {
    "slideshow": {
     "slide_type": "notes"
    }
   },
   "outputs": [],
   "source": []
  },
  {
   "cell_type": "markdown",
   "metadata": {
    "cell_style": "split",
    "slideshow": {
     "slide_type": "subslide"
    }
   },
   "source": [
    "#### Exponetial\n",
    "\n",
    "$$ P(x) =\\Big \\{ \\begin{matrix} \\: \\lambda e^{-\\lambda x} \\: :\\quad 0\\leq x \\\\0 \\quad : \\quad otherwise \\end{matrix}$$\n",
    "\n",
    "$$ \\Phi (x) = \\Big \\{ \\begin{matrix} \\: 1-e^{-\\lambda x} \\: :\\quad 0\\leq x  \\\\0 : \\quad otherwise \\end{matrix} $$\n",
    "\n",
    "$$ Mean = \\cfrac{1}{\\lambda}, \\quad \n",
    "Var = \\cfrac{1}{\\lambda^2}, \\quad \\\\\n",
    "Skew = 2, \\quad\n",
    "kurtosis = 6, \\quad \\\\\n",
    "Entropy = 1- ln(\\lambda)\n",
    "$$"
   ]
  },
  {
   "cell_type": "markdown",
   "metadata": {
    "cell_style": "split",
    "slideshow": {
     "slide_type": "-"
    }
   },
   "source": [
    "\n",
    "\n",
    "<img src=\"expon_distributions.png?0\" width=\"100%\">"
   ]
  },
  {
   "cell_type": "markdown",
   "metadata": {
    "slideshow": {
     "slide_type": "notes"
    }
   },
   "source": [
    "### "
   ]
  },
  {
   "cell_type": "markdown",
   "metadata": {
    "cell_style": "split",
    "slideshow": {
     "slide_type": "subslide"
    }
   },
   "source": [
    "#### Gaussian\n",
    "\n",
    "$$ P(x) = \\cfrac{1}{\\sigma \\sqrt{2 \\pi}} \n",
    "\\: e^{ \\cfrac{1}{2} \\left(\\cfrac{x-\\mu}{\\sigma} \\right )^{2} }$$\n",
    "\n",
    "$$ \\Phi (x) = \\cfrac{1}{2} \\left ( 1 + erf \\left ( \\cfrac{x-\\mu}{\\sigma \\sqrt{2}} \\right ) \\right )\n",
    "$$\n",
    "\n",
    "$$ Mean = \\mu, \\quad \n",
    "Var = \\sigma^2, \\quad \\\\\n",
    "Skew = 0, \\quad\n",
    "kurtosis = 0, \\quad \\\\\n",
    "Entropy = \\cfrac{1}{2} \\left( ln \\left (\n",
    "2 \\pi \\sigma^2 \n",
    "\\right ) + 1 \\right )\n",
    "$$"
   ]
  },
  {
   "cell_type": "markdown",
   "metadata": {
    "cell_style": "split",
    "slideshow": {
     "slide_type": "-"
    }
   },
   "source": [
    "<img src=\"gaussian_distributions.png\" width=\"100%\">"
   ]
  },
  {
   "cell_type": "code",
   "execution_count": null,
   "metadata": {
    "slideshow": {
     "slide_type": "notes"
    }
   },
   "outputs": [],
   "source": []
  },
  {
   "cell_type": "markdown",
   "metadata": {
    "cell_style": "split",
    "slideshow": {
     "slide_type": "subslide"
    }
   },
   "source": [
    "#### $\\chi ^ 2$  (Chi Squared)\n",
    "\n",
    "$$ \\chi ^ 2 (x) \\quad = \\quad \\Bigg \\{ \\begin{matrix} \\:\n",
    "\\cfrac{ x^{k/2 - 1 } \\: e^{-x}}{2^{k/2}\\: \\Gamma(k/2)}\n",
    "\\: :\\quad 0\\leq x \\\\0 \\quad\\quad : \\quad otherwise \\end{matrix}\n",
    "$$\n",
    "\n",
    "\n",
    "\n",
    "[The chi-squared distribution is obtained as the sum of the squares of k independent, zero-mean, unit-variance Gaussian random variables](https://en.wikipedia.org/wiki/Chi-squared_distribution)"
   ]
  },
  {
   "cell_type": "markdown",
   "metadata": {
    "cell_style": "split",
    "slideshow": {
     "slide_type": "-"
    }
   },
   "source": [
    "\n",
    "\n",
    "<img src=\"chi2_distributions.png\" width=\"100%\">"
   ]
  },
  {
   "cell_type": "markdown",
   "metadata": {
    "slideshow": {
     "slide_type": "subslide"
    }
   },
   "source": [
    "<img src=\"chi2_order_distributions.png?1\" width=\"100%\">"
   ]
  },
  {
   "cell_type": "markdown",
   "metadata": {
    "slideshow": {
     "slide_type": "subslide"
    }
   },
   "source": [
    "<img src=\"chi2_order_distributions.gif?2\" width=\"100%\">"
   ]
  },
  {
   "cell_type": "markdown",
   "metadata": {
    "cell_style": "split",
    "slideshow": {
     "slide_type": "subslide"
    }
   },
   "source": [
    "## Central Limit Theorem\n",
    "\n",
    "  + The linear combination of independent random variable to Gaussian in the limit\n",
    "  \n",
    "  + The reason Gaussian is the most important distribution\n",
    "  "
   ]
  },
  {
   "cell_type": "markdown",
   "metadata": {
    "cell_style": "split",
    "slideshow": {
     "slide_type": "-"
    }
   },
   "source": [
    "#### Linear Operations \n",
    "\n"
   ]
  },
  {
   "cell_type": "code",
   "execution_count": 4,
   "metadata": {
    "slideshow": {
     "slide_type": "subslide"
    }
   },
   "outputs": [
    {
     "data": {
      "application/javascript": [
       "/* Put everything inside the global mpl namespace */\n",
       "window.mpl = {};\n",
       "\n",
       "\n",
       "mpl.get_websocket_type = function() {\n",
       "    if (typeof(WebSocket) !== 'undefined') {\n",
       "        return WebSocket;\n",
       "    } else if (typeof(MozWebSocket) !== 'undefined') {\n",
       "        return MozWebSocket;\n",
       "    } else {\n",
       "        alert('Your browser does not have WebSocket support. ' +\n",
       "              'Please try Chrome, Safari or Firefox ≥ 6. ' +\n",
       "              'Firefox 4 and 5 are also supported but you ' +\n",
       "              'have to enable WebSockets in about:config.');\n",
       "    };\n",
       "}\n",
       "\n",
       "mpl.figure = function(figure_id, websocket, ondownload, parent_element) {\n",
       "    this.id = figure_id;\n",
       "\n",
       "    this.ws = websocket;\n",
       "\n",
       "    this.supports_binary = (this.ws.binaryType != undefined);\n",
       "\n",
       "    if (!this.supports_binary) {\n",
       "        var warnings = document.getElementById(\"mpl-warnings\");\n",
       "        if (warnings) {\n",
       "            warnings.style.display = 'block';\n",
       "            warnings.textContent = (\n",
       "                \"This browser does not support binary websocket messages. \" +\n",
       "                    \"Performance may be slow.\");\n",
       "        }\n",
       "    }\n",
       "\n",
       "    this.imageObj = new Image();\n",
       "\n",
       "    this.context = undefined;\n",
       "    this.message = undefined;\n",
       "    this.canvas = undefined;\n",
       "    this.rubberband_canvas = undefined;\n",
       "    this.rubberband_context = undefined;\n",
       "    this.format_dropdown = undefined;\n",
       "\n",
       "    this.image_mode = 'full';\n",
       "\n",
       "    this.root = $('<div/>');\n",
       "    this._root_extra_style(this.root)\n",
       "    this.root.attr('style', 'display: inline-block');\n",
       "\n",
       "    $(parent_element).append(this.root);\n",
       "\n",
       "    this._init_header(this);\n",
       "    this._init_canvas(this);\n",
       "    this._init_toolbar(this);\n",
       "\n",
       "    var fig = this;\n",
       "\n",
       "    this.waiting = false;\n",
       "\n",
       "    this.ws.onopen =  function () {\n",
       "            fig.send_message(\"supports_binary\", {value: fig.supports_binary});\n",
       "            fig.send_message(\"send_image_mode\", {});\n",
       "            if (mpl.ratio != 1) {\n",
       "                fig.send_message(\"set_dpi_ratio\", {'dpi_ratio': mpl.ratio});\n",
       "            }\n",
       "            fig.send_message(\"refresh\", {});\n",
       "        }\n",
       "\n",
       "    this.imageObj.onload = function() {\n",
       "            if (fig.image_mode == 'full') {\n",
       "                // Full images could contain transparency (where diff images\n",
       "                // almost always do), so we need to clear the canvas so that\n",
       "                // there is no ghosting.\n",
       "                fig.context.clearRect(0, 0, fig.canvas.width, fig.canvas.height);\n",
       "            }\n",
       "            fig.context.drawImage(fig.imageObj, 0, 0);\n",
       "        };\n",
       "\n",
       "    this.imageObj.onunload = function() {\n",
       "        fig.ws.close();\n",
       "    }\n",
       "\n",
       "    this.ws.onmessage = this._make_on_message_function(this);\n",
       "\n",
       "    this.ondownload = ondownload;\n",
       "}\n",
       "\n",
       "mpl.figure.prototype._init_header = function() {\n",
       "    var titlebar = $(\n",
       "        '<div class=\"ui-dialog-titlebar ui-widget-header ui-corner-all ' +\n",
       "        'ui-helper-clearfix\"/>');\n",
       "    var titletext = $(\n",
       "        '<div class=\"ui-dialog-title\" style=\"width: 100%; ' +\n",
       "        'text-align: center; padding: 3px;\"/>');\n",
       "    titlebar.append(titletext)\n",
       "    this.root.append(titlebar);\n",
       "    this.header = titletext[0];\n",
       "}\n",
       "\n",
       "\n",
       "\n",
       "mpl.figure.prototype._canvas_extra_style = function(canvas_div) {\n",
       "\n",
       "}\n",
       "\n",
       "\n",
       "mpl.figure.prototype._root_extra_style = function(canvas_div) {\n",
       "\n",
       "}\n",
       "\n",
       "mpl.figure.prototype._init_canvas = function() {\n",
       "    var fig = this;\n",
       "\n",
       "    var canvas_div = $('<div/>');\n",
       "\n",
       "    canvas_div.attr('style', 'position: relative; clear: both; outline: 0');\n",
       "\n",
       "    function canvas_keyboard_event(event) {\n",
       "        return fig.key_event(event, event['data']);\n",
       "    }\n",
       "\n",
       "    canvas_div.keydown('key_press', canvas_keyboard_event);\n",
       "    canvas_div.keyup('key_release', canvas_keyboard_event);\n",
       "    this.canvas_div = canvas_div\n",
       "    this._canvas_extra_style(canvas_div)\n",
       "    this.root.append(canvas_div);\n",
       "\n",
       "    var canvas = $('<canvas/>');\n",
       "    canvas.addClass('mpl-canvas');\n",
       "    canvas.attr('style', \"left: 0; top: 0; z-index: 0; outline: 0\")\n",
       "\n",
       "    this.canvas = canvas[0];\n",
       "    this.context = canvas[0].getContext(\"2d\");\n",
       "\n",
       "    var backingStore = this.context.backingStorePixelRatio ||\n",
       "\tthis.context.webkitBackingStorePixelRatio ||\n",
       "\tthis.context.mozBackingStorePixelRatio ||\n",
       "\tthis.context.msBackingStorePixelRatio ||\n",
       "\tthis.context.oBackingStorePixelRatio ||\n",
       "\tthis.context.backingStorePixelRatio || 1;\n",
       "\n",
       "    mpl.ratio = (window.devicePixelRatio || 1) / backingStore;\n",
       "\n",
       "    var rubberband = $('<canvas/>');\n",
       "    rubberband.attr('style', \"position: absolute; left: 0; top: 0; z-index: 1;\")\n",
       "\n",
       "    var pass_mouse_events = true;\n",
       "\n",
       "    canvas_div.resizable({\n",
       "        start: function(event, ui) {\n",
       "            pass_mouse_events = false;\n",
       "        },\n",
       "        resize: function(event, ui) {\n",
       "            fig.request_resize(ui.size.width, ui.size.height);\n",
       "        },\n",
       "        stop: function(event, ui) {\n",
       "            pass_mouse_events = true;\n",
       "            fig.request_resize(ui.size.width, ui.size.height);\n",
       "        },\n",
       "    });\n",
       "\n",
       "    function mouse_event_fn(event) {\n",
       "        if (pass_mouse_events)\n",
       "            return fig.mouse_event(event, event['data']);\n",
       "    }\n",
       "\n",
       "    rubberband.mousedown('button_press', mouse_event_fn);\n",
       "    rubberband.mouseup('button_release', mouse_event_fn);\n",
       "    // Throttle sequential mouse events to 1 every 20ms.\n",
       "    rubberband.mousemove('motion_notify', mouse_event_fn);\n",
       "\n",
       "    rubberband.mouseenter('figure_enter', mouse_event_fn);\n",
       "    rubberband.mouseleave('figure_leave', mouse_event_fn);\n",
       "\n",
       "    canvas_div.on(\"wheel\", function (event) {\n",
       "        event = event.originalEvent;\n",
       "        event['data'] = 'scroll'\n",
       "        if (event.deltaY < 0) {\n",
       "            event.step = 1;\n",
       "        } else {\n",
       "            event.step = -1;\n",
       "        }\n",
       "        mouse_event_fn(event);\n",
       "    });\n",
       "\n",
       "    canvas_div.append(canvas);\n",
       "    canvas_div.append(rubberband);\n",
       "\n",
       "    this.rubberband = rubberband;\n",
       "    this.rubberband_canvas = rubberband[0];\n",
       "    this.rubberband_context = rubberband[0].getContext(\"2d\");\n",
       "    this.rubberband_context.strokeStyle = \"#000000\";\n",
       "\n",
       "    this._resize_canvas = function(width, height) {\n",
       "        // Keep the size of the canvas, canvas container, and rubber band\n",
       "        // canvas in synch.\n",
       "        canvas_div.css('width', width)\n",
       "        canvas_div.css('height', height)\n",
       "\n",
       "        canvas.attr('width', width * mpl.ratio);\n",
       "        canvas.attr('height', height * mpl.ratio);\n",
       "        canvas.attr('style', 'width: ' + width + 'px; height: ' + height + 'px;');\n",
       "\n",
       "        rubberband.attr('width', width);\n",
       "        rubberband.attr('height', height);\n",
       "    }\n",
       "\n",
       "    // Set the figure to an initial 600x600px, this will subsequently be updated\n",
       "    // upon first draw.\n",
       "    this._resize_canvas(600, 600);\n",
       "\n",
       "    // Disable right mouse context menu.\n",
       "    $(this.rubberband_canvas).bind(\"contextmenu\",function(e){\n",
       "        return false;\n",
       "    });\n",
       "\n",
       "    function set_focus () {\n",
       "        canvas.focus();\n",
       "        canvas_div.focus();\n",
       "    }\n",
       "\n",
       "    window.setTimeout(set_focus, 100);\n",
       "}\n",
       "\n",
       "mpl.figure.prototype._init_toolbar = function() {\n",
       "    var fig = this;\n",
       "\n",
       "    var nav_element = $('<div/>');\n",
       "    nav_element.attr('style', 'width: 100%');\n",
       "    this.root.append(nav_element);\n",
       "\n",
       "    // Define a callback function for later on.\n",
       "    function toolbar_event(event) {\n",
       "        return fig.toolbar_button_onclick(event['data']);\n",
       "    }\n",
       "    function toolbar_mouse_event(event) {\n",
       "        return fig.toolbar_button_onmouseover(event['data']);\n",
       "    }\n",
       "\n",
       "    for(var toolbar_ind in mpl.toolbar_items) {\n",
       "        var name = mpl.toolbar_items[toolbar_ind][0];\n",
       "        var tooltip = mpl.toolbar_items[toolbar_ind][1];\n",
       "        var image = mpl.toolbar_items[toolbar_ind][2];\n",
       "        var method_name = mpl.toolbar_items[toolbar_ind][3];\n",
       "\n",
       "        if (!name) {\n",
       "            // put a spacer in here.\n",
       "            continue;\n",
       "        }\n",
       "        var button = $('<button/>');\n",
       "        button.addClass('ui-button ui-widget ui-state-default ui-corner-all ' +\n",
       "                        'ui-button-icon-only');\n",
       "        button.attr('role', 'button');\n",
       "        button.attr('aria-disabled', 'false');\n",
       "        button.click(method_name, toolbar_event);\n",
       "        button.mouseover(tooltip, toolbar_mouse_event);\n",
       "\n",
       "        var icon_img = $('<span/>');\n",
       "        icon_img.addClass('ui-button-icon-primary ui-icon');\n",
       "        icon_img.addClass(image);\n",
       "        icon_img.addClass('ui-corner-all');\n",
       "\n",
       "        var tooltip_span = $('<span/>');\n",
       "        tooltip_span.addClass('ui-button-text');\n",
       "        tooltip_span.html(tooltip);\n",
       "\n",
       "        button.append(icon_img);\n",
       "        button.append(tooltip_span);\n",
       "\n",
       "        nav_element.append(button);\n",
       "    }\n",
       "\n",
       "    var fmt_picker_span = $('<span/>');\n",
       "\n",
       "    var fmt_picker = $('<select/>');\n",
       "    fmt_picker.addClass('mpl-toolbar-option ui-widget ui-widget-content');\n",
       "    fmt_picker_span.append(fmt_picker);\n",
       "    nav_element.append(fmt_picker_span);\n",
       "    this.format_dropdown = fmt_picker[0];\n",
       "\n",
       "    for (var ind in mpl.extensions) {\n",
       "        var fmt = mpl.extensions[ind];\n",
       "        var option = $(\n",
       "            '<option/>', {selected: fmt === mpl.default_extension}).html(fmt);\n",
       "        fmt_picker.append(option);\n",
       "    }\n",
       "\n",
       "    // Add hover states to the ui-buttons\n",
       "    $( \".ui-button\" ).hover(\n",
       "        function() { $(this).addClass(\"ui-state-hover\");},\n",
       "        function() { $(this).removeClass(\"ui-state-hover\");}\n",
       "    );\n",
       "\n",
       "    var status_bar = $('<span class=\"mpl-message\"/>');\n",
       "    nav_element.append(status_bar);\n",
       "    this.message = status_bar[0];\n",
       "}\n",
       "\n",
       "mpl.figure.prototype.request_resize = function(x_pixels, y_pixels) {\n",
       "    // Request matplotlib to resize the figure. Matplotlib will then trigger a resize in the client,\n",
       "    // which will in turn request a refresh of the image.\n",
       "    this.send_message('resize', {'width': x_pixels, 'height': y_pixels});\n",
       "}\n",
       "\n",
       "mpl.figure.prototype.send_message = function(type, properties) {\n",
       "    properties['type'] = type;\n",
       "    properties['figure_id'] = this.id;\n",
       "    this.ws.send(JSON.stringify(properties));\n",
       "}\n",
       "\n",
       "mpl.figure.prototype.send_draw_message = function() {\n",
       "    if (!this.waiting) {\n",
       "        this.waiting = true;\n",
       "        this.ws.send(JSON.stringify({type: \"draw\", figure_id: this.id}));\n",
       "    }\n",
       "}\n",
       "\n",
       "\n",
       "mpl.figure.prototype.handle_save = function(fig, msg) {\n",
       "    var format_dropdown = fig.format_dropdown;\n",
       "    var format = format_dropdown.options[format_dropdown.selectedIndex].value;\n",
       "    fig.ondownload(fig, format);\n",
       "}\n",
       "\n",
       "\n",
       "mpl.figure.prototype.handle_resize = function(fig, msg) {\n",
       "    var size = msg['size'];\n",
       "    if (size[0] != fig.canvas.width || size[1] != fig.canvas.height) {\n",
       "        fig._resize_canvas(size[0], size[1]);\n",
       "        fig.send_message(\"refresh\", {});\n",
       "    };\n",
       "}\n",
       "\n",
       "mpl.figure.prototype.handle_rubberband = function(fig, msg) {\n",
       "    var x0 = msg['x0'] / mpl.ratio;\n",
       "    var y0 = (fig.canvas.height - msg['y0']) / mpl.ratio;\n",
       "    var x1 = msg['x1'] / mpl.ratio;\n",
       "    var y1 = (fig.canvas.height - msg['y1']) / mpl.ratio;\n",
       "    x0 = Math.floor(x0) + 0.5;\n",
       "    y0 = Math.floor(y0) + 0.5;\n",
       "    x1 = Math.floor(x1) + 0.5;\n",
       "    y1 = Math.floor(y1) + 0.5;\n",
       "    var min_x = Math.min(x0, x1);\n",
       "    var min_y = Math.min(y0, y1);\n",
       "    var width = Math.abs(x1 - x0);\n",
       "    var height = Math.abs(y1 - y0);\n",
       "\n",
       "    fig.rubberband_context.clearRect(\n",
       "        0, 0, fig.canvas.width / mpl.ratio, fig.canvas.height / mpl.ratio);\n",
       "\n",
       "    fig.rubberband_context.strokeRect(min_x, min_y, width, height);\n",
       "}\n",
       "\n",
       "mpl.figure.prototype.handle_figure_label = function(fig, msg) {\n",
       "    // Updates the figure title.\n",
       "    fig.header.textContent = msg['label'];\n",
       "}\n",
       "\n",
       "mpl.figure.prototype.handle_cursor = function(fig, msg) {\n",
       "    var cursor = msg['cursor'];\n",
       "    switch(cursor)\n",
       "    {\n",
       "    case 0:\n",
       "        cursor = 'pointer';\n",
       "        break;\n",
       "    case 1:\n",
       "        cursor = 'default';\n",
       "        break;\n",
       "    case 2:\n",
       "        cursor = 'crosshair';\n",
       "        break;\n",
       "    case 3:\n",
       "        cursor = 'move';\n",
       "        break;\n",
       "    }\n",
       "    fig.rubberband_canvas.style.cursor = cursor;\n",
       "}\n",
       "\n",
       "mpl.figure.prototype.handle_message = function(fig, msg) {\n",
       "    fig.message.textContent = msg['message'];\n",
       "}\n",
       "\n",
       "mpl.figure.prototype.handle_draw = function(fig, msg) {\n",
       "    // Request the server to send over a new figure.\n",
       "    fig.send_draw_message();\n",
       "}\n",
       "\n",
       "mpl.figure.prototype.handle_image_mode = function(fig, msg) {\n",
       "    fig.image_mode = msg['mode'];\n",
       "}\n",
       "\n",
       "mpl.figure.prototype.updated_canvas_event = function() {\n",
       "    // Called whenever the canvas gets updated.\n",
       "    this.send_message(\"ack\", {});\n",
       "}\n",
       "\n",
       "// A function to construct a web socket function for onmessage handling.\n",
       "// Called in the figure constructor.\n",
       "mpl.figure.prototype._make_on_message_function = function(fig) {\n",
       "    return function socket_on_message(evt) {\n",
       "        if (evt.data instanceof Blob) {\n",
       "            /* FIXME: We get \"Resource interpreted as Image but\n",
       "             * transferred with MIME type text/plain:\" errors on\n",
       "             * Chrome.  But how to set the MIME type?  It doesn't seem\n",
       "             * to be part of the websocket stream */\n",
       "            evt.data.type = \"image/png\";\n",
       "\n",
       "            /* Free the memory for the previous frames */\n",
       "            if (fig.imageObj.src) {\n",
       "                (window.URL || window.webkitURL).revokeObjectURL(\n",
       "                    fig.imageObj.src);\n",
       "            }\n",
       "\n",
       "            fig.imageObj.src = (window.URL || window.webkitURL).createObjectURL(\n",
       "                evt.data);\n",
       "            fig.updated_canvas_event();\n",
       "            fig.waiting = false;\n",
       "            return;\n",
       "        }\n",
       "        else if (typeof evt.data === 'string' && evt.data.slice(0, 21) == \"data:image/png;base64\") {\n",
       "            fig.imageObj.src = evt.data;\n",
       "            fig.updated_canvas_event();\n",
       "            fig.waiting = false;\n",
       "            return;\n",
       "        }\n",
       "\n",
       "        var msg = JSON.parse(evt.data);\n",
       "        var msg_type = msg['type'];\n",
       "\n",
       "        // Call the  \"handle_{type}\" callback, which takes\n",
       "        // the figure and JSON message as its only arguments.\n",
       "        try {\n",
       "            var callback = fig[\"handle_\" + msg_type];\n",
       "        } catch (e) {\n",
       "            console.log(\"No handler for the '\" + msg_type + \"' message type: \", msg);\n",
       "            return;\n",
       "        }\n",
       "\n",
       "        if (callback) {\n",
       "            try {\n",
       "                // console.log(\"Handling '\" + msg_type + \"' message: \", msg);\n",
       "                callback(fig, msg);\n",
       "            } catch (e) {\n",
       "                console.log(\"Exception inside the 'handler_\" + msg_type + \"' callback:\", e, e.stack, msg);\n",
       "            }\n",
       "        }\n",
       "    };\n",
       "}\n",
       "\n",
       "// from http://stackoverflow.com/questions/1114465/getting-mouse-location-in-canvas\n",
       "mpl.findpos = function(e) {\n",
       "    //this section is from http://www.quirksmode.org/js/events_properties.html\n",
       "    var targ;\n",
       "    if (!e)\n",
       "        e = window.event;\n",
       "    if (e.target)\n",
       "        targ = e.target;\n",
       "    else if (e.srcElement)\n",
       "        targ = e.srcElement;\n",
       "    if (targ.nodeType == 3) // defeat Safari bug\n",
       "        targ = targ.parentNode;\n",
       "\n",
       "    // jQuery normalizes the pageX and pageY\n",
       "    // pageX,Y are the mouse positions relative to the document\n",
       "    // offset() returns the position of the element relative to the document\n",
       "    var x = e.pageX - $(targ).offset().left;\n",
       "    var y = e.pageY - $(targ).offset().top;\n",
       "\n",
       "    return {\"x\": x, \"y\": y};\n",
       "};\n",
       "\n",
       "/*\n",
       " * return a copy of an object with only non-object keys\n",
       " * we need this to avoid circular references\n",
       " * http://stackoverflow.com/a/24161582/3208463\n",
       " */\n",
       "function simpleKeys (original) {\n",
       "  return Object.keys(original).reduce(function (obj, key) {\n",
       "    if (typeof original[key] !== 'object')\n",
       "        obj[key] = original[key]\n",
       "    return obj;\n",
       "  }, {});\n",
       "}\n",
       "\n",
       "mpl.figure.prototype.mouse_event = function(event, name) {\n",
       "    var canvas_pos = mpl.findpos(event)\n",
       "\n",
       "    if (name === 'button_press')\n",
       "    {\n",
       "        this.canvas.focus();\n",
       "        this.canvas_div.focus();\n",
       "    }\n",
       "\n",
       "    var x = canvas_pos.x * mpl.ratio;\n",
       "    var y = canvas_pos.y * mpl.ratio;\n",
       "\n",
       "    this.send_message(name, {x: x, y: y, button: event.button,\n",
       "                             step: event.step,\n",
       "                             guiEvent: simpleKeys(event)});\n",
       "\n",
       "    /* This prevents the web browser from automatically changing to\n",
       "     * the text insertion cursor when the button is pressed.  We want\n",
       "     * to control all of the cursor setting manually through the\n",
       "     * 'cursor' event from matplotlib */\n",
       "    event.preventDefault();\n",
       "    return false;\n",
       "}\n",
       "\n",
       "mpl.figure.prototype._key_event_extra = function(event, name) {\n",
       "    // Handle any extra behaviour associated with a key event\n",
       "}\n",
       "\n",
       "mpl.figure.prototype.key_event = function(event, name) {\n",
       "\n",
       "    // Prevent repeat events\n",
       "    if (name == 'key_press')\n",
       "    {\n",
       "        if (event.which === this._key)\n",
       "            return;\n",
       "        else\n",
       "            this._key = event.which;\n",
       "    }\n",
       "    if (name == 'key_release')\n",
       "        this._key = null;\n",
       "\n",
       "    var value = '';\n",
       "    if (event.ctrlKey && event.which != 17)\n",
       "        value += \"ctrl+\";\n",
       "    if (event.altKey && event.which != 18)\n",
       "        value += \"alt+\";\n",
       "    if (event.shiftKey && event.which != 16)\n",
       "        value += \"shift+\";\n",
       "\n",
       "    value += 'k';\n",
       "    value += event.which.toString();\n",
       "\n",
       "    this._key_event_extra(event, name);\n",
       "\n",
       "    this.send_message(name, {key: value,\n",
       "                             guiEvent: simpleKeys(event)});\n",
       "    return false;\n",
       "}\n",
       "\n",
       "mpl.figure.prototype.toolbar_button_onclick = function(name) {\n",
       "    if (name == 'download') {\n",
       "        this.handle_save(this, null);\n",
       "    } else {\n",
       "        this.send_message(\"toolbar_button\", {name: name});\n",
       "    }\n",
       "};\n",
       "\n",
       "mpl.figure.prototype.toolbar_button_onmouseover = function(tooltip) {\n",
       "    this.message.textContent = tooltip;\n",
       "};\n",
       "mpl.toolbar_items = [[\"Home\", \"Reset original view\", \"fa fa-home icon-home\", \"home\"], [\"Back\", \"Back to previous view\", \"fa fa-arrow-left icon-arrow-left\", \"back\"], [\"Forward\", \"Forward to next view\", \"fa fa-arrow-right icon-arrow-right\", \"forward\"], [\"\", \"\", \"\", \"\"], [\"Pan\", \"Pan axes with left mouse, zoom with right\", \"fa fa-arrows icon-move\", \"pan\"], [\"Zoom\", \"Zoom to rectangle\", \"fa fa-square-o icon-check-empty\", \"zoom\"], [\"\", \"\", \"\", \"\"], [\"Download\", \"Download plot\", \"fa fa-floppy-o icon-save\", \"download\"]];\n",
       "\n",
       "mpl.extensions = [\"eps\", \"pdf\", \"png\", \"ps\", \"raw\", \"svg\"];\n",
       "\n",
       "mpl.default_extension = \"png\";var comm_websocket_adapter = function(comm) {\n",
       "    // Create a \"websocket\"-like object which calls the given IPython comm\n",
       "    // object with the appropriate methods. Currently this is a non binary\n",
       "    // socket, so there is still some room for performance tuning.\n",
       "    var ws = {};\n",
       "\n",
       "    ws.close = function() {\n",
       "        comm.close()\n",
       "    };\n",
       "    ws.send = function(m) {\n",
       "        //console.log('sending', m);\n",
       "        comm.send(m);\n",
       "    };\n",
       "    // Register the callback with on_msg.\n",
       "    comm.on_msg(function(msg) {\n",
       "        //console.log('receiving', msg['content']['data'], msg);\n",
       "        // Pass the mpl event to the overridden (by mpl) onmessage function.\n",
       "        ws.onmessage(msg['content']['data'])\n",
       "    });\n",
       "    return ws;\n",
       "}\n",
       "\n",
       "mpl.mpl_figure_comm = function(comm, msg) {\n",
       "    // This is the function which gets called when the mpl process\n",
       "    // starts-up an IPython Comm through the \"matplotlib\" channel.\n",
       "\n",
       "    var id = msg.content.data.id;\n",
       "    // Get hold of the div created by the display call when the Comm\n",
       "    // socket was opened in Python.\n",
       "    var element = $(\"#\" + id);\n",
       "    var ws_proxy = comm_websocket_adapter(comm)\n",
       "\n",
       "    function ondownload(figure, format) {\n",
       "        window.open(figure.imageObj.src);\n",
       "    }\n",
       "\n",
       "    var fig = new mpl.figure(id, ws_proxy,\n",
       "                           ondownload,\n",
       "                           element.get(0));\n",
       "\n",
       "    // Call onopen now - mpl needs it, as it is assuming we've passed it a real\n",
       "    // web socket which is closed, not our websocket->open comm proxy.\n",
       "    ws_proxy.onopen();\n",
       "\n",
       "    fig.parent_element = element.get(0);\n",
       "    fig.cell_info = mpl.find_output_cell(\"<div id='\" + id + \"'></div>\");\n",
       "    if (!fig.cell_info) {\n",
       "        console.error(\"Failed to find cell for figure\", id, fig);\n",
       "        return;\n",
       "    }\n",
       "\n",
       "    var output_index = fig.cell_info[2]\n",
       "    var cell = fig.cell_info[0];\n",
       "\n",
       "};\n",
       "\n",
       "mpl.figure.prototype.handle_close = function(fig, msg) {\n",
       "    var width = fig.canvas.width/mpl.ratio\n",
       "    fig.root.unbind('remove')\n",
       "\n",
       "    // Update the output cell to use the data from the current canvas.\n",
       "    fig.push_to_output();\n",
       "    var dataURL = fig.canvas.toDataURL();\n",
       "    // Re-enable the keyboard manager in IPython - without this line, in FF,\n",
       "    // the notebook keyboard shortcuts fail.\n",
       "    IPython.keyboard_manager.enable()\n",
       "    $(fig.parent_element).html('<img src=\"' + dataURL + '\" width=\"' + width + '\">');\n",
       "    fig.close_ws(fig, msg);\n",
       "}\n",
       "\n",
       "mpl.figure.prototype.close_ws = function(fig, msg){\n",
       "    fig.send_message('closing', msg);\n",
       "    // fig.ws.close()\n",
       "}\n",
       "\n",
       "mpl.figure.prototype.push_to_output = function(remove_interactive) {\n",
       "    // Turn the data on the canvas into data in the output cell.\n",
       "    var width = this.canvas.width/mpl.ratio\n",
       "    var dataURL = this.canvas.toDataURL();\n",
       "    this.cell_info[1]['text/html'] = '<img src=\"' + dataURL + '\" width=\"' + width + '\">';\n",
       "}\n",
       "\n",
       "mpl.figure.prototype.updated_canvas_event = function() {\n",
       "    // Tell IPython that the notebook contents must change.\n",
       "    IPython.notebook.set_dirty(true);\n",
       "    this.send_message(\"ack\", {});\n",
       "    var fig = this;\n",
       "    // Wait a second, then push the new image to the DOM so\n",
       "    // that it is saved nicely (might be nice to debounce this).\n",
       "    setTimeout(function () { fig.push_to_output() }, 1000);\n",
       "}\n",
       "\n",
       "mpl.figure.prototype._init_toolbar = function() {\n",
       "    var fig = this;\n",
       "\n",
       "    var nav_element = $('<div/>');\n",
       "    nav_element.attr('style', 'width: 100%');\n",
       "    this.root.append(nav_element);\n",
       "\n",
       "    // Define a callback function for later on.\n",
       "    function toolbar_event(event) {\n",
       "        return fig.toolbar_button_onclick(event['data']);\n",
       "    }\n",
       "    function toolbar_mouse_event(event) {\n",
       "        return fig.toolbar_button_onmouseover(event['data']);\n",
       "    }\n",
       "\n",
       "    for(var toolbar_ind in mpl.toolbar_items){\n",
       "        var name = mpl.toolbar_items[toolbar_ind][0];\n",
       "        var tooltip = mpl.toolbar_items[toolbar_ind][1];\n",
       "        var image = mpl.toolbar_items[toolbar_ind][2];\n",
       "        var method_name = mpl.toolbar_items[toolbar_ind][3];\n",
       "\n",
       "        if (!name) { continue; };\n",
       "\n",
       "        var button = $('<button class=\"btn btn-default\" href=\"#\" title=\"' + name + '\"><i class=\"fa ' + image + ' fa-lg\"></i></button>');\n",
       "        button.click(method_name, toolbar_event);\n",
       "        button.mouseover(tooltip, toolbar_mouse_event);\n",
       "        nav_element.append(button);\n",
       "    }\n",
       "\n",
       "    // Add the status bar.\n",
       "    var status_bar = $('<span class=\"mpl-message\" style=\"text-align:right; float: right;\"/>');\n",
       "    nav_element.append(status_bar);\n",
       "    this.message = status_bar[0];\n",
       "\n",
       "    // Add the close button to the window.\n",
       "    var buttongrp = $('<div class=\"btn-group inline pull-right\"></div>');\n",
       "    var button = $('<button class=\"btn btn-mini btn-primary\" href=\"#\" title=\"Stop Interaction\"><i class=\"fa fa-power-off icon-remove icon-large\"></i></button>');\n",
       "    button.click(function (evt) { fig.handle_close(fig, {}); } );\n",
       "    button.mouseover('Stop Interaction', toolbar_mouse_event);\n",
       "    buttongrp.append(button);\n",
       "    var titlebar = this.root.find($('.ui-dialog-titlebar'));\n",
       "    titlebar.prepend(buttongrp);\n",
       "}\n",
       "\n",
       "mpl.figure.prototype._root_extra_style = function(el){\n",
       "    var fig = this\n",
       "    el.on(\"remove\", function(){\n",
       "\tfig.close_ws(fig, {});\n",
       "    });\n",
       "}\n",
       "\n",
       "mpl.figure.prototype._canvas_extra_style = function(el){\n",
       "    // this is important to make the div 'focusable\n",
       "    el.attr('tabindex', 0)\n",
       "    // reach out to IPython and tell the keyboard manager to turn it's self\n",
       "    // off when our div gets focus\n",
       "\n",
       "    // location in version 3\n",
       "    if (IPython.notebook.keyboard_manager) {\n",
       "        IPython.notebook.keyboard_manager.register_events(el);\n",
       "    }\n",
       "    else {\n",
       "        // location in version 2\n",
       "        IPython.keyboard_manager.register_events(el);\n",
       "    }\n",
       "\n",
       "}\n",
       "\n",
       "mpl.figure.prototype._key_event_extra = function(event, name) {\n",
       "    var manager = IPython.notebook.keyboard_manager;\n",
       "    if (!manager)\n",
       "        manager = IPython.keyboard_manager;\n",
       "\n",
       "    // Check for shift+enter\n",
       "    if (event.shiftKey && event.which == 13) {\n",
       "        this.canvas_div.blur();\n",
       "        // select the cell after this one\n",
       "        var index = IPython.notebook.find_cell_index(this.cell_info[0]);\n",
       "        IPython.notebook.select(index + 1);\n",
       "    }\n",
       "}\n",
       "\n",
       "mpl.figure.prototype.handle_save = function(fig, msg) {\n",
       "    fig.ondownload(fig, null);\n",
       "}\n",
       "\n",
       "\n",
       "mpl.find_output_cell = function(html_output) {\n",
       "    // Return the cell and output element which can be found *uniquely* in the notebook.\n",
       "    // Note - this is a bit hacky, but it is done because the \"notebook_saving.Notebook\"\n",
       "    // IPython event is triggered only after the cells have been serialised, which for\n",
       "    // our purposes (turning an active figure into a static one), is too late.\n",
       "    var cells = IPython.notebook.get_cells();\n",
       "    var ncells = cells.length;\n",
       "    for (var i=0; i<ncells; i++) {\n",
       "        var cell = cells[i];\n",
       "        if (cell.cell_type === 'code'){\n",
       "            for (var j=0; j<cell.output_area.outputs.length; j++) {\n",
       "                var data = cell.output_area.outputs[j];\n",
       "                if (data.data) {\n",
       "                    // IPython >= 3 moved mimebundle to data attribute of output\n",
       "                    data = data.data;\n",
       "                }\n",
       "                if (data['text/html'] == html_output) {\n",
       "                    return [cell, data, j];\n",
       "                }\n",
       "            }\n",
       "        }\n",
       "    }\n",
       "}\n",
       "\n",
       "// Register the function which deals with the matplotlib target/channel.\n",
       "// The kernel may be null if the page has been refreshed.\n",
       "if (IPython.notebook.kernel != null) {\n",
       "    IPython.notebook.kernel.comm_manager.register_target('matplotlib', mpl.mpl_figure_comm);\n",
       "}\n"
      ],
      "text/plain": [
       "<IPython.core.display.Javascript object>"
      ]
     },
     "metadata": {},
     "output_type": "display_data"
    },
    {
     "data": {
      "text/html": [
       "<img src=\"data:image/png;base64,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\" width=\"899.3684210526316\">"
      ],
      "text/plain": [
       "<IPython.core.display.HTML object>"
      ]
     },
     "metadata": {},
     "output_type": "display_data"
    },
    {
     "data": {
      "application/vnd.jupyter.widget-view+json": {
       "model_id": "470363de918c4543a3db921b6451cb89",
       "version_major": 2,
       "version_minor": 0
      },
      "text/plain": [
       "interactive(children=(IntSlider(value=1, description='n', max=64, min=1), Output()), _dom_classes=('widget-int…"
      ]
     },
     "metadata": {},
     "output_type": "display_data"
    }
   ],
   "source": [
    "fig, ax = plt.subplots(1,1)\n",
    "fig.set_size_inches(9, 6)\n",
    "\n",
    "def operation(rv, n):\n",
    "    return numpy.sum(rv, axis=1)/numpy.sqrt(n)\n",
    "\n",
    "@interact(n=(1, 64, 1))\n",
    "def central_limit_widget(n=1, ):\n",
    "    number_samples = 10_000\n",
    "    x = numpy.linspace(-3, 3, 1001)\n",
    "    rv = 1*(stats.uniform.rvs(size=(int(number_samples),n))-0.5)\n",
    "    rv = operation(rv, n)\n",
    "    ax.cla()\n",
    "    _ = plt.hist(rv, 50, density=True, facecolor='b', alpha=0.3, label='Raw Data')\n",
    "    ax.set_xlim((min(x), max(x)))\n",
    "    ax.set_ylim((0, 1.5))\n",
    "    fig.suptitle(f'Central Limit Theorem\\nUniform, Degree: {n}')\n",
    "    ax.set_xlabel('Value')\n",
    "    # Fit Uniform\n",
    "    loc, scale = stats.uniform.fit(rv)\n",
    "    p_x_uniform = stats.uniform.pdf(x, loc=loc, scale=scale)\n",
    "    ax.plot(x, p_x_uniform, '--k', label=f'Uniform(loc={loc:.2f}, scale={scale:.2f})')\n",
    "    # Fit Gaussian\n",
    "    mu, sigma = stats.norm.fit(rv)\n",
    "    p_x_uniform = stats.norm.pdf(x, loc=mu, scale=sigma)\n",
    "    ax.plot(x, p_x_uniform, '--g', label=f'Gaussian({mu:.2f}, {sigma:.2f})')\n",
    "    ax.legend()"
   ]
  },
  {
   "cell_type": "markdown",
   "metadata": {
    "cell_style": "split",
    "slideshow": {
     "slide_type": "subslide"
    }
   },
   "source": [
    "### Operations on Random Variables\n",
    "\n",
    "#### Shifts, Scalings, Abs, and Squared\n",
    "\n",
    "#### Addition of two RV's\n",
    "\n",
    "Convolve the PDF's \n",
    "\n",
    "+ Sorry for the recycled plots"
   ]
  },
  {
   "cell_type": "markdown",
   "metadata": {
    "cell_style": "split",
    "slideshow": {
     "slide_type": "fragment"
    }
   },
   "source": [
    "#### Convolution\n",
    "\n",
    "$$ \n",
    "\\begin{align} (f*g)(t) &= \\int_{-\\infty}^{t} f(\\tau)\\: g(t-\\tau) \\: d \\tau \\\\\n",
    "(f*g)[n] &= \\sum_{-\\infty\\dots \\infty}^{i}  f[i]\\:g[n-i]  \n",
    "\\end{align}\n",
    "$$"
   ]
  },
  {
   "cell_type": "markdown",
   "metadata": {
    "slideshow": {
     "slide_type": "subslide"
    }
   },
   "source": [
    "<img src=\"rect_rect_conv_auto.gif\" width=\"100%\">"
   ]
  },
  {
   "cell_type": "markdown",
   "metadata": {
    "slideshow": {
     "slide_type": "subslide"
    }
   },
   "source": [
    "<img src=\"rect_exp_conv_auto.gif\" width=\"100%\">"
   ]
  },
  {
   "cell_type": "markdown",
   "metadata": {
    "slideshow": {
     "slide_type": "subslide"
    }
   },
   "source": [
    "<img src=\"exp_exp_conv_auto.gif\" width=\"100%\">"
   ]
  },
  {
   "cell_type": "markdown",
   "metadata": {
    "slideshow": {
     "slide_type": "subslide"
    }
   },
   "source": [
    "<img src=\"rect_gaussian_conv_auto.gif\" width=\"100%\">"
   ]
  },
  {
   "cell_type": "markdown",
   "metadata": {
    "slideshow": {
     "slide_type": "subslide"
    }
   },
   "source": [
    "<img src=\"gaussian_gaussian_conv_auto.gif\" width=\"100%\">"
   ]
  },
  {
   "cell_type": "markdown",
   "metadata": {
    "slideshow": {
     "slide_type": "notes"
    }
   },
   "source": [
    "+ Note Gaussian convoled with a Gaussian is Gaussian"
   ]
  },
  {
   "cell_type": "markdown",
   "metadata": {
    "cell_style": "split",
    "slideshow": {
     "slide_type": "subslide"
    }
   },
   "source": [
    "### Correlation and Covariance\n",
    "\n",
    "#### Correlation Random Variables\n",
    "$$ {r}_{xy} = cor(\\bf X, \\bf Y) = E \\left [ \\bf X \\cdot \\bf Y \\right ] $$\n",
    "\n",
    "### Covariance Random Variables\n",
    "$$ {r}_{xy} = cov(\\bf X, \\bf Y) = E \\left [ ( \\bf X -\\mu_x ) ( \\bf Y -\\mu_y )  \\right ] $$"
   ]
  },
  {
   "cell_type": "markdown",
   "metadata": {
    "cell_style": "split",
    "slideshow": {
     "slide_type": "fragment"
    }
   },
   "source": [
    "### Correlation of Signals $f$ and $g$\n",
    "\n",
    "$$ \\begin{align} \n",
    "(f*g)(t) &= \\int_{-\\infty}^{t} f(\\tau)\\: g(t+\\tau) \\: d \\tau \\\\\n",
    "(f*g)[n] &= \\sum_{-\\infty\\dots \\infty}^{i}  f[i]\\:g[n+i]  \n",
    "\\end{align}$$"
   ]
  },
  {
   "cell_type": "markdown",
   "metadata": {
    "slideshow": {
     "slide_type": "notes"
    }
   },
   "source": []
  },
  {
   "cell_type": "markdown",
   "metadata": {
    "slideshow": {
     "slide_type": "subslide"
    }
   },
   "source": [
    "<img src=\"Correlation_rect_rect.gif\" width=\"90%\">"
   ]
  },
  {
   "cell_type": "markdown",
   "metadata": {
    "slideshow": {
     "slide_type": "subslide"
    }
   },
   "source": [
    "<img src=\"Correlation_rect_exp.gif\" width=\"90%\">"
   ]
  },
  {
   "cell_type": "markdown",
   "metadata": {
    "slideshow": {
     "slide_type": "subslide"
    }
   },
   "source": [
    "<img src=\"Correlation_exp_exp.gif\" width=\"90%\">"
   ]
  },
  {
   "cell_type": "markdown",
   "metadata": {
    "slideshow": {
     "slide_type": "subslide"
    }
   },
   "source": [
    "<img src=\"Correlation_gaussian_gaussian.gif\" width=\"90%\">"
   ]
  },
  {
   "cell_type": "markdown",
   "metadata": {
    "slideshow": {
     "slide_type": "subslide"
    }
   },
   "source": [
    "<img src=\"Correlation_barker_barker.gif\" width=\"90%\">"
   ]
  },
  {
   "cell_type": "markdown",
   "metadata": {
    "slideshow": {
     "slide_type": "notes"
    }
   },
   "source": [
    "Barker-13 code"
   ]
  },
  {
   "cell_type": "markdown",
   "metadata": {
    "cell_style": "split",
    "slideshow": {
     "slide_type": "slide"
    }
   },
   "source": [
    "    \n",
    "## Basic Linear Algebra\n",
    "  + Vector Operations\n",
    "    + Addition\n",
    "    + Scaler Multiplication\n",
    "    + Vector Dimension Span\n",
    "  + Vector Products\n",
    "    + Elementwise Product\n",
    "    + Outter Product\n",
    "    + Inner Product\n",
    "    "
   ]
  },
  {
   "cell_type": "markdown",
   "metadata": {
    "cell_style": "split",
    "slideshow": {
     "slide_type": "fragment"
    }
   },
   "source": [
    "+ Cauchy–Schwarz inequality\n",
    "+ Matched Filter\n",
    "+ Convolution\n",
    "+ Matrix Operations\n",
    "+ Multivariate Random Variables\n",
    "+ Correlation of random vectors\n",
    "+ Orthogonal + Normal = Orthonormal\n",
    "+ Inverse\n",
    "+ Decomposistions"
   ]
  },
  {
   "cell_type": "code",
   "execution_count": null,
   "metadata": {
    "slideshow": {
     "slide_type": "notes"
    }
   },
   "outputs": [],
   "source": []
  },
  {
   "cell_type": "markdown",
   "metadata": {
    "cell_style": "split",
    "slideshow": {
     "slide_type": "subslide"
    }
   },
   "source": [
    "## What is a Vector\n",
    "\n",
    "\n",
    "$$  \\vec{V} \\quad = \\quad [\\:v_1, \\:v_2, \\: _\\cdots, \\: v_n ] $$\n",
    "\n",
    "+ List of numbers with associated operations\n",
    "  + Direction and magnitude\n",
    "+ Often thought of as spacial\n",
    "  + Does not have to be ...\n",
    "+ Associated Operations\n",
    "  + More than \\( Add, Subtract, Multiply, Divide \\)\n"
   ]
  },
  {
   "cell_type": "markdown",
   "metadata": {
    "cell_style": "split",
    "slideshow": {
     "slide_type": "-"
    }
   },
   "source": [
    "\n",
    "\n",
    "\n",
    "\n",
    "<img src=\"vector.png?3\" width=\"75%\">"
   ]
  },
  {
   "cell_type": "markdown",
   "metadata": {
    "slideshow": {
     "slide_type": "subslide"
    }
   },
   "source": [
    "### Where to get a vector?\n",
    "\n",
    "##### Look in the Time Series\n",
    "Want a n-D vector of data, grab n-samples of a time series at time t.\n",
    "\n",
    "#####  Bored of that data\n",
    "Grab n-samples at t+1"
   ]
  },
  {
   "cell_type": "markdown",
   "metadata": {
    "cell_style": "split",
    "slideshow": {
     "slide_type": "subslide"
    }
   },
   "source": [
    "### Vector Addition\n",
    "\n",
    "$$ \\vec{U} = \\vec{V} + \\vec{W} $$\n",
    "\n",
    "$$ \\begin{matrix}\n",
    "\\; \\quad \\vec{V} \\quad = \\quad [\\:v_1, \\:v_2, \\: _\\cdots, \\: v_n ] \\\\\n",
    "+ \\quad \\vec{W} \\quad = \\quad [\\:w_1, \\:w_2, \\: _\\cdots, \\: w_n ] \\\\ \\hline\n",
    "\\quad \\vec{U} \\quad = \\quad [\\:u_1, \\:u_2, \\: _\\cdots, \\: u_n ]\n",
    "\\end{matrix}\n",
    "$$\n",
    "\n",
    "$$\n",
    "u_1=v_1+w_1 \\: , \\: u_2=v_2+w_2 \\: , \\: _\\cdots \\: , \\: u_n=v_n+w_n \n",
    "$$\n",
    "\n",
    "+ Dimentions of each vector?"
   ]
  },
  {
   "cell_type": "markdown",
   "metadata": {
    "cell_style": "split",
    "slideshow": {
     "slide_type": "-"
    }
   },
   "source": [
    "\n",
    "\n",
    "<img src=\"vector_addition.png?1\" width=\"85%\">"
   ]
  },
  {
   "cell_type": "code",
   "execution_count": 5,
   "metadata": {
    "slideshow": {
     "slide_type": "subslide"
    }
   },
   "outputs": [
    {
     "data": {
      "application/javascript": [
       "/* Put everything inside the global mpl namespace */\n",
       "window.mpl = {};\n",
       "\n",
       "\n",
       "mpl.get_websocket_type = function() {\n",
       "    if (typeof(WebSocket) !== 'undefined') {\n",
       "        return WebSocket;\n",
       "    } else if (typeof(MozWebSocket) !== 'undefined') {\n",
       "        return MozWebSocket;\n",
       "    } else {\n",
       "        alert('Your browser does not have WebSocket support. ' +\n",
       "              'Please try Chrome, Safari or Firefox ≥ 6. ' +\n",
       "              'Firefox 4 and 5 are also supported but you ' +\n",
       "              'have to enable WebSockets in about:config.');\n",
       "    };\n",
       "}\n",
       "\n",
       "mpl.figure = function(figure_id, websocket, ondownload, parent_element) {\n",
       "    this.id = figure_id;\n",
       "\n",
       "    this.ws = websocket;\n",
       "\n",
       "    this.supports_binary = (this.ws.binaryType != undefined);\n",
       "\n",
       "    if (!this.supports_binary) {\n",
       "        var warnings = document.getElementById(\"mpl-warnings\");\n",
       "        if (warnings) {\n",
       "            warnings.style.display = 'block';\n",
       "            warnings.textContent = (\n",
       "                \"This browser does not support binary websocket messages. \" +\n",
       "                    \"Performance may be slow.\");\n",
       "        }\n",
       "    }\n",
       "\n",
       "    this.imageObj = new Image();\n",
       "\n",
       "    this.context = undefined;\n",
       "    this.message = undefined;\n",
       "    this.canvas = undefined;\n",
       "    this.rubberband_canvas = undefined;\n",
       "    this.rubberband_context = undefined;\n",
       "    this.format_dropdown = undefined;\n",
       "\n",
       "    this.image_mode = 'full';\n",
       "\n",
       "    this.root = $('<div/>');\n",
       "    this._root_extra_style(this.root)\n",
       "    this.root.attr('style', 'display: inline-block');\n",
       "\n",
       "    $(parent_element).append(this.root);\n",
       "\n",
       "    this._init_header(this);\n",
       "    this._init_canvas(this);\n",
       "    this._init_toolbar(this);\n",
       "\n",
       "    var fig = this;\n",
       "\n",
       "    this.waiting = false;\n",
       "\n",
       "    this.ws.onopen =  function () {\n",
       "            fig.send_message(\"supports_binary\", {value: fig.supports_binary});\n",
       "            fig.send_message(\"send_image_mode\", {});\n",
       "            if (mpl.ratio != 1) {\n",
       "                fig.send_message(\"set_dpi_ratio\", {'dpi_ratio': mpl.ratio});\n",
       "            }\n",
       "            fig.send_message(\"refresh\", {});\n",
       "        }\n",
       "\n",
       "    this.imageObj.onload = function() {\n",
       "            if (fig.image_mode == 'full') {\n",
       "                // Full images could contain transparency (where diff images\n",
       "                // almost always do), so we need to clear the canvas so that\n",
       "                // there is no ghosting.\n",
       "                fig.context.clearRect(0, 0, fig.canvas.width, fig.canvas.height);\n",
       "            }\n",
       "            fig.context.drawImage(fig.imageObj, 0, 0);\n",
       "        };\n",
       "\n",
       "    this.imageObj.onunload = function() {\n",
       "        fig.ws.close();\n",
       "    }\n",
       "\n",
       "    this.ws.onmessage = this._make_on_message_function(this);\n",
       "\n",
       "    this.ondownload = ondownload;\n",
       "}\n",
       "\n",
       "mpl.figure.prototype._init_header = function() {\n",
       "    var titlebar = $(\n",
       "        '<div class=\"ui-dialog-titlebar ui-widget-header ui-corner-all ' +\n",
       "        'ui-helper-clearfix\"/>');\n",
       "    var titletext = $(\n",
       "        '<div class=\"ui-dialog-title\" style=\"width: 100%; ' +\n",
       "        'text-align: center; padding: 3px;\"/>');\n",
       "    titlebar.append(titletext)\n",
       "    this.root.append(titlebar);\n",
       "    this.header = titletext[0];\n",
       "}\n",
       "\n",
       "\n",
       "\n",
       "mpl.figure.prototype._canvas_extra_style = function(canvas_div) {\n",
       "\n",
       "}\n",
       "\n",
       "\n",
       "mpl.figure.prototype._root_extra_style = function(canvas_div) {\n",
       "\n",
       "}\n",
       "\n",
       "mpl.figure.prototype._init_canvas = function() {\n",
       "    var fig = this;\n",
       "\n",
       "    var canvas_div = $('<div/>');\n",
       "\n",
       "    canvas_div.attr('style', 'position: relative; clear: both; outline: 0');\n",
       "\n",
       "    function canvas_keyboard_event(event) {\n",
       "        return fig.key_event(event, event['data']);\n",
       "    }\n",
       "\n",
       "    canvas_div.keydown('key_press', canvas_keyboard_event);\n",
       "    canvas_div.keyup('key_release', canvas_keyboard_event);\n",
       "    this.canvas_div = canvas_div\n",
       "    this._canvas_extra_style(canvas_div)\n",
       "    this.root.append(canvas_div);\n",
       "\n",
       "    var canvas = $('<canvas/>');\n",
       "    canvas.addClass('mpl-canvas');\n",
       "    canvas.attr('style', \"left: 0; top: 0; z-index: 0; outline: 0\")\n",
       "\n",
       "    this.canvas = canvas[0];\n",
       "    this.context = canvas[0].getContext(\"2d\");\n",
       "\n",
       "    var backingStore = this.context.backingStorePixelRatio ||\n",
       "\tthis.context.webkitBackingStorePixelRatio ||\n",
       "\tthis.context.mozBackingStorePixelRatio ||\n",
       "\tthis.context.msBackingStorePixelRatio ||\n",
       "\tthis.context.oBackingStorePixelRatio ||\n",
       "\tthis.context.backingStorePixelRatio || 1;\n",
       "\n",
       "    mpl.ratio = (window.devicePixelRatio || 1) / backingStore;\n",
       "\n",
       "    var rubberband = $('<canvas/>');\n",
       "    rubberband.attr('style', \"position: absolute; left: 0; top: 0; z-index: 1;\")\n",
       "\n",
       "    var pass_mouse_events = true;\n",
       "\n",
       "    canvas_div.resizable({\n",
       "        start: function(event, ui) {\n",
       "            pass_mouse_events = false;\n",
       "        },\n",
       "        resize: function(event, ui) {\n",
       "            fig.request_resize(ui.size.width, ui.size.height);\n",
       "        },\n",
       "        stop: function(event, ui) {\n",
       "            pass_mouse_events = true;\n",
       "            fig.request_resize(ui.size.width, ui.size.height);\n",
       "        },\n",
       "    });\n",
       "\n",
       "    function mouse_event_fn(event) {\n",
       "        if (pass_mouse_events)\n",
       "            return fig.mouse_event(event, event['data']);\n",
       "    }\n",
       "\n",
       "    rubberband.mousedown('button_press', mouse_event_fn);\n",
       "    rubberband.mouseup('button_release', mouse_event_fn);\n",
       "    // Throttle sequential mouse events to 1 every 20ms.\n",
       "    rubberband.mousemove('motion_notify', mouse_event_fn);\n",
       "\n",
       "    rubberband.mouseenter('figure_enter', mouse_event_fn);\n",
       "    rubberband.mouseleave('figure_leave', mouse_event_fn);\n",
       "\n",
       "    canvas_div.on(\"wheel\", function (event) {\n",
       "        event = event.originalEvent;\n",
       "        event['data'] = 'scroll'\n",
       "        if (event.deltaY < 0) {\n",
       "            event.step = 1;\n",
       "        } else {\n",
       "            event.step = -1;\n",
       "        }\n",
       "        mouse_event_fn(event);\n",
       "    });\n",
       "\n",
       "    canvas_div.append(canvas);\n",
       "    canvas_div.append(rubberband);\n",
       "\n",
       "    this.rubberband = rubberband;\n",
       "    this.rubberband_canvas = rubberband[0];\n",
       "    this.rubberband_context = rubberband[0].getContext(\"2d\");\n",
       "    this.rubberband_context.strokeStyle = \"#000000\";\n",
       "\n",
       "    this._resize_canvas = function(width, height) {\n",
       "        // Keep the size of the canvas, canvas container, and rubber band\n",
       "        // canvas in synch.\n",
       "        canvas_div.css('width', width)\n",
       "        canvas_div.css('height', height)\n",
       "\n",
       "        canvas.attr('width', width * mpl.ratio);\n",
       "        canvas.attr('height', height * mpl.ratio);\n",
       "        canvas.attr('style', 'width: ' + width + 'px; height: ' + height + 'px;');\n",
       "\n",
       "        rubberband.attr('width', width);\n",
       "        rubberband.attr('height', height);\n",
       "    }\n",
       "\n",
       "    // Set the figure to an initial 600x600px, this will subsequently be updated\n",
       "    // upon first draw.\n",
       "    this._resize_canvas(600, 600);\n",
       "\n",
       "    // Disable right mouse context menu.\n",
       "    $(this.rubberband_canvas).bind(\"contextmenu\",function(e){\n",
       "        return false;\n",
       "    });\n",
       "\n",
       "    function set_focus () {\n",
       "        canvas.focus();\n",
       "        canvas_div.focus();\n",
       "    }\n",
       "\n",
       "    window.setTimeout(set_focus, 100);\n",
       "}\n",
       "\n",
       "mpl.figure.prototype._init_toolbar = function() {\n",
       "    var fig = this;\n",
       "\n",
       "    var nav_element = $('<div/>');\n",
       "    nav_element.attr('style', 'width: 100%');\n",
       "    this.root.append(nav_element);\n",
       "\n",
       "    // Define a callback function for later on.\n",
       "    function toolbar_event(event) {\n",
       "        return fig.toolbar_button_onclick(event['data']);\n",
       "    }\n",
       "    function toolbar_mouse_event(event) {\n",
       "        return fig.toolbar_button_onmouseover(event['data']);\n",
       "    }\n",
       "\n",
       "    for(var toolbar_ind in mpl.toolbar_items) {\n",
       "        var name = mpl.toolbar_items[toolbar_ind][0];\n",
       "        var tooltip = mpl.toolbar_items[toolbar_ind][1];\n",
       "        var image = mpl.toolbar_items[toolbar_ind][2];\n",
       "        var method_name = mpl.toolbar_items[toolbar_ind][3];\n",
       "\n",
       "        if (!name) {\n",
       "            // put a spacer in here.\n",
       "            continue;\n",
       "        }\n",
       "        var button = $('<button/>');\n",
       "        button.addClass('ui-button ui-widget ui-state-default ui-corner-all ' +\n",
       "                        'ui-button-icon-only');\n",
       "        button.attr('role', 'button');\n",
       "        button.attr('aria-disabled', 'false');\n",
       "        button.click(method_name, toolbar_event);\n",
       "        button.mouseover(tooltip, toolbar_mouse_event);\n",
       "\n",
       "        var icon_img = $('<span/>');\n",
       "        icon_img.addClass('ui-button-icon-primary ui-icon');\n",
       "        icon_img.addClass(image);\n",
       "        icon_img.addClass('ui-corner-all');\n",
       "\n",
       "        var tooltip_span = $('<span/>');\n",
       "        tooltip_span.addClass('ui-button-text');\n",
       "        tooltip_span.html(tooltip);\n",
       "\n",
       "        button.append(icon_img);\n",
       "        button.append(tooltip_span);\n",
       "\n",
       "        nav_element.append(button);\n",
       "    }\n",
       "\n",
       "    var fmt_picker_span = $('<span/>');\n",
       "\n",
       "    var fmt_picker = $('<select/>');\n",
       "    fmt_picker.addClass('mpl-toolbar-option ui-widget ui-widget-content');\n",
       "    fmt_picker_span.append(fmt_picker);\n",
       "    nav_element.append(fmt_picker_span);\n",
       "    this.format_dropdown = fmt_picker[0];\n",
       "\n",
       "    for (var ind in mpl.extensions) {\n",
       "        var fmt = mpl.extensions[ind];\n",
       "        var option = $(\n",
       "            '<option/>', {selected: fmt === mpl.default_extension}).html(fmt);\n",
       "        fmt_picker.append(option);\n",
       "    }\n",
       "\n",
       "    // Add hover states to the ui-buttons\n",
       "    $( \".ui-button\" ).hover(\n",
       "        function() { $(this).addClass(\"ui-state-hover\");},\n",
       "        function() { $(this).removeClass(\"ui-state-hover\");}\n",
       "    );\n",
       "\n",
       "    var status_bar = $('<span class=\"mpl-message\"/>');\n",
       "    nav_element.append(status_bar);\n",
       "    this.message = status_bar[0];\n",
       "}\n",
       "\n",
       "mpl.figure.prototype.request_resize = function(x_pixels, y_pixels) {\n",
       "    // Request matplotlib to resize the figure. Matplotlib will then trigger a resize in the client,\n",
       "    // which will in turn request a refresh of the image.\n",
       "    this.send_message('resize', {'width': x_pixels, 'height': y_pixels});\n",
       "}\n",
       "\n",
       "mpl.figure.prototype.send_message = function(type, properties) {\n",
       "    properties['type'] = type;\n",
       "    properties['figure_id'] = this.id;\n",
       "    this.ws.send(JSON.stringify(properties));\n",
       "}\n",
       "\n",
       "mpl.figure.prototype.send_draw_message = function() {\n",
       "    if (!this.waiting) {\n",
       "        this.waiting = true;\n",
       "        this.ws.send(JSON.stringify({type: \"draw\", figure_id: this.id}));\n",
       "    }\n",
       "}\n",
       "\n",
       "\n",
       "mpl.figure.prototype.handle_save = function(fig, msg) {\n",
       "    var format_dropdown = fig.format_dropdown;\n",
       "    var format = format_dropdown.options[format_dropdown.selectedIndex].value;\n",
       "    fig.ondownload(fig, format);\n",
       "}\n",
       "\n",
       "\n",
       "mpl.figure.prototype.handle_resize = function(fig, msg) {\n",
       "    var size = msg['size'];\n",
       "    if (size[0] != fig.canvas.width || size[1] != fig.canvas.height) {\n",
       "        fig._resize_canvas(size[0], size[1]);\n",
       "        fig.send_message(\"refresh\", {});\n",
       "    };\n",
       "}\n",
       "\n",
       "mpl.figure.prototype.handle_rubberband = function(fig, msg) {\n",
       "    var x0 = msg['x0'] / mpl.ratio;\n",
       "    var y0 = (fig.canvas.height - msg['y0']) / mpl.ratio;\n",
       "    var x1 = msg['x1'] / mpl.ratio;\n",
       "    var y1 = (fig.canvas.height - msg['y1']) / mpl.ratio;\n",
       "    x0 = Math.floor(x0) + 0.5;\n",
       "    y0 = Math.floor(y0) + 0.5;\n",
       "    x1 = Math.floor(x1) + 0.5;\n",
       "    y1 = Math.floor(y1) + 0.5;\n",
       "    var min_x = Math.min(x0, x1);\n",
       "    var min_y = Math.min(y0, y1);\n",
       "    var width = Math.abs(x1 - x0);\n",
       "    var height = Math.abs(y1 - y0);\n",
       "\n",
       "    fig.rubberband_context.clearRect(\n",
       "        0, 0, fig.canvas.width / mpl.ratio, fig.canvas.height / mpl.ratio);\n",
       "\n",
       "    fig.rubberband_context.strokeRect(min_x, min_y, width, height);\n",
       "}\n",
       "\n",
       "mpl.figure.prototype.handle_figure_label = function(fig, msg) {\n",
       "    // Updates the figure title.\n",
       "    fig.header.textContent = msg['label'];\n",
       "}\n",
       "\n",
       "mpl.figure.prototype.handle_cursor = function(fig, msg) {\n",
       "    var cursor = msg['cursor'];\n",
       "    switch(cursor)\n",
       "    {\n",
       "    case 0:\n",
       "        cursor = 'pointer';\n",
       "        break;\n",
       "    case 1:\n",
       "        cursor = 'default';\n",
       "        break;\n",
       "    case 2:\n",
       "        cursor = 'crosshair';\n",
       "        break;\n",
       "    case 3:\n",
       "        cursor = 'move';\n",
       "        break;\n",
       "    }\n",
       "    fig.rubberband_canvas.style.cursor = cursor;\n",
       "}\n",
       "\n",
       "mpl.figure.prototype.handle_message = function(fig, msg) {\n",
       "    fig.message.textContent = msg['message'];\n",
       "}\n",
       "\n",
       "mpl.figure.prototype.handle_draw = function(fig, msg) {\n",
       "    // Request the server to send over a new figure.\n",
       "    fig.send_draw_message();\n",
       "}\n",
       "\n",
       "mpl.figure.prototype.handle_image_mode = function(fig, msg) {\n",
       "    fig.image_mode = msg['mode'];\n",
       "}\n",
       "\n",
       "mpl.figure.prototype.updated_canvas_event = function() {\n",
       "    // Called whenever the canvas gets updated.\n",
       "    this.send_message(\"ack\", {});\n",
       "}\n",
       "\n",
       "// A function to construct a web socket function for onmessage handling.\n",
       "// Called in the figure constructor.\n",
       "mpl.figure.prototype._make_on_message_function = function(fig) {\n",
       "    return function socket_on_message(evt) {\n",
       "        if (evt.data instanceof Blob) {\n",
       "            /* FIXME: We get \"Resource interpreted as Image but\n",
       "             * transferred with MIME type text/plain:\" errors on\n",
       "             * Chrome.  But how to set the MIME type?  It doesn't seem\n",
       "             * to be part of the websocket stream */\n",
       "            evt.data.type = \"image/png\";\n",
       "\n",
       "            /* Free the memory for the previous frames */\n",
       "            if (fig.imageObj.src) {\n",
       "                (window.URL || window.webkitURL).revokeObjectURL(\n",
       "                    fig.imageObj.src);\n",
       "            }\n",
       "\n",
       "            fig.imageObj.src = (window.URL || window.webkitURL).createObjectURL(\n",
       "                evt.data);\n",
       "            fig.updated_canvas_event();\n",
       "            fig.waiting = false;\n",
       "            return;\n",
       "        }\n",
       "        else if (typeof evt.data === 'string' && evt.data.slice(0, 21) == \"data:image/png;base64\") {\n",
       "            fig.imageObj.src = evt.data;\n",
       "            fig.updated_canvas_event();\n",
       "            fig.waiting = false;\n",
       "            return;\n",
       "        }\n",
       "\n",
       "        var msg = JSON.parse(evt.data);\n",
       "        var msg_type = msg['type'];\n",
       "\n",
       "        // Call the  \"handle_{type}\" callback, which takes\n",
       "        // the figure and JSON message as its only arguments.\n",
       "        try {\n",
       "            var callback = fig[\"handle_\" + msg_type];\n",
       "        } catch (e) {\n",
       "            console.log(\"No handler for the '\" + msg_type + \"' message type: \", msg);\n",
       "            return;\n",
       "        }\n",
       "\n",
       "        if (callback) {\n",
       "            try {\n",
       "                // console.log(\"Handling '\" + msg_type + \"' message: \", msg);\n",
       "                callback(fig, msg);\n",
       "            } catch (e) {\n",
       "                console.log(\"Exception inside the 'handler_\" + msg_type + \"' callback:\", e, e.stack, msg);\n",
       "            }\n",
       "        }\n",
       "    };\n",
       "}\n",
       "\n",
       "// from http://stackoverflow.com/questions/1114465/getting-mouse-location-in-canvas\n",
       "mpl.findpos = function(e) {\n",
       "    //this section is from http://www.quirksmode.org/js/events_properties.html\n",
       "    var targ;\n",
       "    if (!e)\n",
       "        e = window.event;\n",
       "    if (e.target)\n",
       "        targ = e.target;\n",
       "    else if (e.srcElement)\n",
       "        targ = e.srcElement;\n",
       "    if (targ.nodeType == 3) // defeat Safari bug\n",
       "        targ = targ.parentNode;\n",
       "\n",
       "    // jQuery normalizes the pageX and pageY\n",
       "    // pageX,Y are the mouse positions relative to the document\n",
       "    // offset() returns the position of the element relative to the document\n",
       "    var x = e.pageX - $(targ).offset().left;\n",
       "    var y = e.pageY - $(targ).offset().top;\n",
       "\n",
       "    return {\"x\": x, \"y\": y};\n",
       "};\n",
       "\n",
       "/*\n",
       " * return a copy of an object with only non-object keys\n",
       " * we need this to avoid circular references\n",
       " * http://stackoverflow.com/a/24161582/3208463\n",
       " */\n",
       "function simpleKeys (original) {\n",
       "  return Object.keys(original).reduce(function (obj, key) {\n",
       "    if (typeof original[key] !== 'object')\n",
       "        obj[key] = original[key]\n",
       "    return obj;\n",
       "  }, {});\n",
       "}\n",
       "\n",
       "mpl.figure.prototype.mouse_event = function(event, name) {\n",
       "    var canvas_pos = mpl.findpos(event)\n",
       "\n",
       "    if (name === 'button_press')\n",
       "    {\n",
       "        this.canvas.focus();\n",
       "        this.canvas_div.focus();\n",
       "    }\n",
       "\n",
       "    var x = canvas_pos.x * mpl.ratio;\n",
       "    var y = canvas_pos.y * mpl.ratio;\n",
       "\n",
       "    this.send_message(name, {x: x, y: y, button: event.button,\n",
       "                             step: event.step,\n",
       "                             guiEvent: simpleKeys(event)});\n",
       "\n",
       "    /* This prevents the web browser from automatically changing to\n",
       "     * the text insertion cursor when the button is pressed.  We want\n",
       "     * to control all of the cursor setting manually through the\n",
       "     * 'cursor' event from matplotlib */\n",
       "    event.preventDefault();\n",
       "    return false;\n",
       "}\n",
       "\n",
       "mpl.figure.prototype._key_event_extra = function(event, name) {\n",
       "    // Handle any extra behaviour associated with a key event\n",
       "}\n",
       "\n",
       "mpl.figure.prototype.key_event = function(event, name) {\n",
       "\n",
       "    // Prevent repeat events\n",
       "    if (name == 'key_press')\n",
       "    {\n",
       "        if (event.which === this._key)\n",
       "            return;\n",
       "        else\n",
       "            this._key = event.which;\n",
       "    }\n",
       "    if (name == 'key_release')\n",
       "        this._key = null;\n",
       "\n",
       "    var value = '';\n",
       "    if (event.ctrlKey && event.which != 17)\n",
       "        value += \"ctrl+\";\n",
       "    if (event.altKey && event.which != 18)\n",
       "        value += \"alt+\";\n",
       "    if (event.shiftKey && event.which != 16)\n",
       "        value += \"shift+\";\n",
       "\n",
       "    value += 'k';\n",
       "    value += event.which.toString();\n",
       "\n",
       "    this._key_event_extra(event, name);\n",
       "\n",
       "    this.send_message(name, {key: value,\n",
       "                             guiEvent: simpleKeys(event)});\n",
       "    return false;\n",
       "}\n",
       "\n",
       "mpl.figure.prototype.toolbar_button_onclick = function(name) {\n",
       "    if (name == 'download') {\n",
       "        this.handle_save(this, null);\n",
       "    } else {\n",
       "        this.send_message(\"toolbar_button\", {name: name});\n",
       "    }\n",
       "};\n",
       "\n",
       "mpl.figure.prototype.toolbar_button_onmouseover = function(tooltip) {\n",
       "    this.message.textContent = tooltip;\n",
       "};\n",
       "mpl.toolbar_items = [[\"Home\", \"Reset original view\", \"fa fa-home icon-home\", \"home\"], [\"Back\", \"Back to previous view\", \"fa fa-arrow-left icon-arrow-left\", \"back\"], [\"Forward\", \"Forward to next view\", \"fa fa-arrow-right icon-arrow-right\", \"forward\"], [\"\", \"\", \"\", \"\"], [\"Pan\", \"Pan axes with left mouse, zoom with right\", \"fa fa-arrows icon-move\", \"pan\"], [\"Zoom\", \"Zoom to rectangle\", \"fa fa-square-o icon-check-empty\", \"zoom\"], [\"\", \"\", \"\", \"\"], [\"Download\", \"Download plot\", \"fa fa-floppy-o icon-save\", \"download\"]];\n",
       "\n",
       "mpl.extensions = [\"eps\", \"pdf\", \"png\", \"ps\", \"raw\", \"svg\"];\n",
       "\n",
       "mpl.default_extension = \"png\";var comm_websocket_adapter = function(comm) {\n",
       "    // Create a \"websocket\"-like object which calls the given IPython comm\n",
       "    // object with the appropriate methods. Currently this is a non binary\n",
       "    // socket, so there is still some room for performance tuning.\n",
       "    var ws = {};\n",
       "\n",
       "    ws.close = function() {\n",
       "        comm.close()\n",
       "    };\n",
       "    ws.send = function(m) {\n",
       "        //console.log('sending', m);\n",
       "        comm.send(m);\n",
       "    };\n",
       "    // Register the callback with on_msg.\n",
       "    comm.on_msg(function(msg) {\n",
       "        //console.log('receiving', msg['content']['data'], msg);\n",
       "        // Pass the mpl event to the overridden (by mpl) onmessage function.\n",
       "        ws.onmessage(msg['content']['data'])\n",
       "    });\n",
       "    return ws;\n",
       "}\n",
       "\n",
       "mpl.mpl_figure_comm = function(comm, msg) {\n",
       "    // This is the function which gets called when the mpl process\n",
       "    // starts-up an IPython Comm through the \"matplotlib\" channel.\n",
       "\n",
       "    var id = msg.content.data.id;\n",
       "    // Get hold of the div created by the display call when the Comm\n",
       "    // socket was opened in Python.\n",
       "    var element = $(\"#\" + id);\n",
       "    var ws_proxy = comm_websocket_adapter(comm)\n",
       "\n",
       "    function ondownload(figure, format) {\n",
       "        window.open(figure.imageObj.src);\n",
       "    }\n",
       "\n",
       "    var fig = new mpl.figure(id, ws_proxy,\n",
       "                           ondownload,\n",
       "                           element.get(0));\n",
       "\n",
       "    // Call onopen now - mpl needs it, as it is assuming we've passed it a real\n",
       "    // web socket which is closed, not our websocket->open comm proxy.\n",
       "    ws_proxy.onopen();\n",
       "\n",
       "    fig.parent_element = element.get(0);\n",
       "    fig.cell_info = mpl.find_output_cell(\"<div id='\" + id + \"'></div>\");\n",
       "    if (!fig.cell_info) {\n",
       "        console.error(\"Failed to find cell for figure\", id, fig);\n",
       "        return;\n",
       "    }\n",
       "\n",
       "    var output_index = fig.cell_info[2]\n",
       "    var cell = fig.cell_info[0];\n",
       "\n",
       "};\n",
       "\n",
       "mpl.figure.prototype.handle_close = function(fig, msg) {\n",
       "    var width = fig.canvas.width/mpl.ratio\n",
       "    fig.root.unbind('remove')\n",
       "\n",
       "    // Update the output cell to use the data from the current canvas.\n",
       "    fig.push_to_output();\n",
       "    var dataURL = fig.canvas.toDataURL();\n",
       "    // Re-enable the keyboard manager in IPython - without this line, in FF,\n",
       "    // the notebook keyboard shortcuts fail.\n",
       "    IPython.keyboard_manager.enable()\n",
       "    $(fig.parent_element).html('<img src=\"' + dataURL + '\" width=\"' + width + '\">');\n",
       "    fig.close_ws(fig, msg);\n",
       "}\n",
       "\n",
       "mpl.figure.prototype.close_ws = function(fig, msg){\n",
       "    fig.send_message('closing', msg);\n",
       "    // fig.ws.close()\n",
       "}\n",
       "\n",
       "mpl.figure.prototype.push_to_output = function(remove_interactive) {\n",
       "    // Turn the data on the canvas into data in the output cell.\n",
       "    var width = this.canvas.width/mpl.ratio\n",
       "    var dataURL = this.canvas.toDataURL();\n",
       "    this.cell_info[1]['text/html'] = '<img src=\"' + dataURL + '\" width=\"' + width + '\">';\n",
       "}\n",
       "\n",
       "mpl.figure.prototype.updated_canvas_event = function() {\n",
       "    // Tell IPython that the notebook contents must change.\n",
       "    IPython.notebook.set_dirty(true);\n",
       "    this.send_message(\"ack\", {});\n",
       "    var fig = this;\n",
       "    // Wait a second, then push the new image to the DOM so\n",
       "    // that it is saved nicely (might be nice to debounce this).\n",
       "    setTimeout(function () { fig.push_to_output() }, 1000);\n",
       "}\n",
       "\n",
       "mpl.figure.prototype._init_toolbar = function() {\n",
       "    var fig = this;\n",
       "\n",
       "    var nav_element = $('<div/>');\n",
       "    nav_element.attr('style', 'width: 100%');\n",
       "    this.root.append(nav_element);\n",
       "\n",
       "    // Define a callback function for later on.\n",
       "    function toolbar_event(event) {\n",
       "        return fig.toolbar_button_onclick(event['data']);\n",
       "    }\n",
       "    function toolbar_mouse_event(event) {\n",
       "        return fig.toolbar_button_onmouseover(event['data']);\n",
       "    }\n",
       "\n",
       "    for(var toolbar_ind in mpl.toolbar_items){\n",
       "        var name = mpl.toolbar_items[toolbar_ind][0];\n",
       "        var tooltip = mpl.toolbar_items[toolbar_ind][1];\n",
       "        var image = mpl.toolbar_items[toolbar_ind][2];\n",
       "        var method_name = mpl.toolbar_items[toolbar_ind][3];\n",
       "\n",
       "        if (!name) { continue; };\n",
       "\n",
       "        var button = $('<button class=\"btn btn-default\" href=\"#\" title=\"' + name + '\"><i class=\"fa ' + image + ' fa-lg\"></i></button>');\n",
       "        button.click(method_name, toolbar_event);\n",
       "        button.mouseover(tooltip, toolbar_mouse_event);\n",
       "        nav_element.append(button);\n",
       "    }\n",
       "\n",
       "    // Add the status bar.\n",
       "    var status_bar = $('<span class=\"mpl-message\" style=\"text-align:right; float: right;\"/>');\n",
       "    nav_element.append(status_bar);\n",
       "    this.message = status_bar[0];\n",
       "\n",
       "    // Add the close button to the window.\n",
       "    var buttongrp = $('<div class=\"btn-group inline pull-right\"></div>');\n",
       "    var button = $('<button class=\"btn btn-mini btn-primary\" href=\"#\" title=\"Stop Interaction\"><i class=\"fa fa-power-off icon-remove icon-large\"></i></button>');\n",
       "    button.click(function (evt) { fig.handle_close(fig, {}); } );\n",
       "    button.mouseover('Stop Interaction', toolbar_mouse_event);\n",
       "    buttongrp.append(button);\n",
       "    var titlebar = this.root.find($('.ui-dialog-titlebar'));\n",
       "    titlebar.prepend(buttongrp);\n",
       "}\n",
       "\n",
       "mpl.figure.prototype._root_extra_style = function(el){\n",
       "    var fig = this\n",
       "    el.on(\"remove\", function(){\n",
       "\tfig.close_ws(fig, {});\n",
       "    });\n",
       "}\n",
       "\n",
       "mpl.figure.prototype._canvas_extra_style = function(el){\n",
       "    // this is important to make the div 'focusable\n",
       "    el.attr('tabindex', 0)\n",
       "    // reach out to IPython and tell the keyboard manager to turn it's self\n",
       "    // off when our div gets focus\n",
       "\n",
       "    // location in version 3\n",
       "    if (IPython.notebook.keyboard_manager) {\n",
       "        IPython.notebook.keyboard_manager.register_events(el);\n",
       "    }\n",
       "    else {\n",
       "        // location in version 2\n",
       "        IPython.keyboard_manager.register_events(el);\n",
       "    }\n",
       "\n",
       "}\n",
       "\n",
       "mpl.figure.prototype._key_event_extra = function(event, name) {\n",
       "    var manager = IPython.notebook.keyboard_manager;\n",
       "    if (!manager)\n",
       "        manager = IPython.keyboard_manager;\n",
       "\n",
       "    // Check for shift+enter\n",
       "    if (event.shiftKey && event.which == 13) {\n",
       "        this.canvas_div.blur();\n",
       "        // select the cell after this one\n",
       "        var index = IPython.notebook.find_cell_index(this.cell_info[0]);\n",
       "        IPython.notebook.select(index + 1);\n",
       "    }\n",
       "}\n",
       "\n",
       "mpl.figure.prototype.handle_save = function(fig, msg) {\n",
       "    fig.ondownload(fig, null);\n",
       "}\n",
       "\n",
       "\n",
       "mpl.find_output_cell = function(html_output) {\n",
       "    // Return the cell and output element which can be found *uniquely* in the notebook.\n",
       "    // Note - this is a bit hacky, but it is done because the \"notebook_saving.Notebook\"\n",
       "    // IPython event is triggered only after the cells have been serialised, which for\n",
       "    // our purposes (turning an active figure into a static one), is too late.\n",
       "    var cells = IPython.notebook.get_cells();\n",
       "    var ncells = cells.length;\n",
       "    for (var i=0; i<ncells; i++) {\n",
       "        var cell = cells[i];\n",
       "        if (cell.cell_type === 'code'){\n",
       "            for (var j=0; j<cell.output_area.outputs.length; j++) {\n",
       "                var data = cell.output_area.outputs[j];\n",
       "                if (data.data) {\n",
       "                    // IPython >= 3 moved mimebundle to data attribute of output\n",
       "                    data = data.data;\n",
       "                }\n",
       "                if (data['text/html'] == html_output) {\n",
       "                    return [cell, data, j];\n",
       "                }\n",
       "            }\n",
       "        }\n",
       "    }\n",
       "}\n",
       "\n",
       "// Register the function which deals with the matplotlib target/channel.\n",
       "// The kernel may be null if the page has been refreshed.\n",
       "if (IPython.notebook.kernel != null) {\n",
       "    IPython.notebook.kernel.comm_manager.register_target('matplotlib', mpl.mpl_figure_comm);\n",
       "}\n"
      ],
      "text/plain": [
       "<IPython.core.display.Javascript object>"
      ]
     },
     "metadata": {},
     "output_type": "display_data"
    },
    {
     "data": {
      "text/html": [
       "<img src=\"data:image/png;base64,iVBORw0KGgoAAAANSUhEUgAAAvgAAAI6CAYAAABSAjxcAAAAAXNSR0IArs4c6QAAIABJREFUeF7snQe4VcXVhheCWFCxYkVUVAQVCyBiRewFJSr2rrGjhtg1KirG2CP8MYLGEnuUGMUuWBAFxYgRiERREbABiijSuf8z53Cu98KFe2bOzDlrZr/7eXz+/DAze63ve/fw3X332adBVVVVlXCgAAqgAAqgAAqgAAqgAAokoUADAn4SPtIECqAACqAACqAACqAACuQUIOADAgqgAAqgAAqgAAqgAAokpAABPyEzaQUFUAAFUAAFUAAFUAAFCPgwgAIogAIogAIogAIogAIJKUDAT8hMWkEBFEABFEABFEABFEABAj4MoAAKoAAKoAAKoAAKoEBCChDwEzKTVlAABVAABVAABVAABVCAgA8DKIACKIACKIACKIACKJCQAgT8hMykFRRAARRAARRAARRAARQg4MMACqAACqAACqAACqAACiSkAAE/ITNpBQVQAAVQAAVQAAVQAAUI+DCAAiiAAiiAAiiAAiiAAgkpQMBPyExaQQEUQAEUQAEUQAEUQAECPgygAAqgAAqgAAqgAAqgQEIKEPATMpNWUAAFUAAFUAAFUAAFUICADwMogAIogAIogAIogAIokJACBPyEzKQVFEABFEABFEABFEABFCDgwwAKoAAKoAAKoAAKoAAKJKQAAT8hM2kFBVAgTQWmTp0q//znP+W5556Tjz76SCZNmiSNGzeWrbfeWk4++eTcf8sss0yt5u+///7cnxeOBg0aSJMmTWS11VaTNm3ayG677SYnnHCCbLDBBkWJdvnll8sf//hHueqqq6RXr15LnbPPPvvIK6+8Is8884x07dq1qPVdB1155ZXSu3dvGTJkiOyyyy6uyzAPBVAABZJSgICflJ00gwIokKICf/3rX+Wss86SddddV/bYYw/ZcMMN5dtvv5UBAwbIjz/+KIceeqg8+eSTYkJ84SgE/G222Ua6deuW++OZM2fKd999J8OHD5f//ve/uR8STFi/9NJL65Xts88+k0033TT3A8EXX3yx2A8UhQXGjx8vm2yyiayzzjry5ZdfSsOGDetdu5QBBPxS1GMuCqBAqgoQ8FN1lr5QAAWSUWDw4MHy888/y4EHHlgrMH/zzTeyww47yIQJE+Qf//iHHH744YsF/BNPPFFM2F/0eO211+Skk07KhXBzZ76YkL/nnnuKqeWFF16Q/fbbr059r776arn22mvliiuukOuvvz64BwT84BJzAhRAgQgVIOBHaBolowAKoEBBgRtuuCEXps855xzp27dv0QHfDDR38bfddtvcDw3jxo3L/YZgacdjjz0mRx99dO4HCfMDxaLHggULZOONN879wGHWM/+7cMydO1f+8pe/yN///nf5+OOPpaqqSrbaais577zz5Nhjj11sLfP3Dz30kNx7773y4Ycf5n77sN5668muu+4ql1xySe4xI/PbBPO40qJHy5Yt5dNPP63+49GjR8t1110nr7/+unz//fe53y4ccMAB8oc//EHWX3/9WtPNYz7Dhg3L/UBltH3kkUdyPwSZOm+55RbAQwEUQIEoFCDgR2ETRaIACqBA3QqY0HnRRRfJBRdcILfffrtVwDeDjzvuOHn44Yfl//7v/+Tss89eqsyzZ8/OBeKffvpJJk6cKGuttVat8S+++KLsv//+stdee+WewS8cZp65428Cdtu2bXMh3RwvvfRSLoibu/AmgBcOE+6POeYYMT9QmDBunuNfffXVc0H71VdfzX0O4Nxzz5XbbrtNnn766dzz9+bzBubRJXOYsSaQm+Ott96SfffdV0wNhx12mJjw/+9//zt3brP20KFDc48UFY5CwDc9mM87mLrXWGON3ONJp59+OhiiAAqgQBQKEPCjsIkiUQAFUGBxBebNmyfbbbedjBo1Sky4NkG2cBSewV/SIzqFceYO+WmnnSb1jSuM/93vfid33HGH3HrrrdKzZ89aRXXv3j33WYDHH39cjjjiiOq/u+yyy+TGG2/MBXnz+E7hswKzZs3KfT7g5ZdflpEjR+bCvznMbyJ69OiR+0Hg+eefl5VWWql6LfObAHMXfu2118792dIe0Zk/f75svvnmYj4/8Oyzz8pBBx1Uvc5NN92U+02ACfDmkaOaAd+EfvObjUGDBuV+WOBAARRAgdgUIODH5hj1ogAKoMBCBS688MJc0DaPm5g37NQ8ig34Jtya+ebOuwnT9R1jxoyRLbfcMveIjHn0pXBMmTIld3d/lVVWqX7Lj/k7E7LNHXATlM1jOzU/CGz+3txNb9euXe4zAOazAObYYost5JNPPsn94NK6deullrS0gG9+Y2A+lLzobxTMguYHhc0220zMh4K/+uqr6seTzB18E/AHDhyY+8wDBwqgAArEqAABP0bXqBkFUCDzCpi76OZuugnDJpAueqc5VMA3wu+0007yzjvvyNtvvy2dOnXKeWEel/n973+fu6tvfugoHOYxF3Nn3gT1mnf1C39vHp0xd/fNnXzzKlDzVqBVV11VWrRokXtbT33H0gK+eWTJ1GM+7Gs+p7DoYZ79N8/Y1/zQcCHgm7cNLfoIUn218PcogAIooEUBAr4WJ6gDBVAABYpU4M9//nPumXtzF908RmKeJV/0KDbgFx7RMe/Ef+CBB4qq4L777pNTTjkl95+Zbw5zV9/c3Tf/1bzr/sYbb0jnzp3rXbdwl93cUd9oo41yP0SYH1zqO5YW8K+55prca0DvueceOfXUUxdbqvAbEPOs/5FHHpn7+8Iz+ObxJw4UQAEUiFUBAn6szlE3CqBAJhUofKjWvIHGhPtmzZrVqUOxAd/mQ7aFE82YMSP3Rhvz1pyvv/4692FUE8h33nnn3Idaax7m2XrzOYFDDjkk94HY+o4Qd/DNF2GZL+pa9Cj0vugdfPMWHQJ+fU7x9yiAApoVIOBrdofaUAAFUKCGAuYZdRNUzQdAzVtq1lxzzSXqU0zAN6+rNF+EZb4F1zwfb0J7sceZZ54pd999t/Tv3z/3uM7f/va33Pv2zYd1ax5z5szJPYPftGnT3IddzZdr1XfYPINfeO++ed5+9913r7V04Rn8vffeO/dB3pqHCfDmGXzzGNCiz+AT8OtziL9HARTQrgABX7tD1IcCKIACIrnXSJrXQ5oPpJqwWt/bXeoL+ObRGRPGzSMxS7rDvTThR4wYIR06dMj9sGFedWl+SDB381dcccXFpl188cVy8803i/mhwDxetGjINz9cNGrUKPfcvTnMKzvNazB322233Ad/mzRpUr2m+XDsDz/8UP2bi8LjSub9+uaOfM2j5lt0Fv1yLvM5AfOITl1v0SHgc8mhAArErgABP3YHqR8FUCB5Bcyz8eZbZ80XUpnXR5q74YseJmibD6oWjkLAN3foC39uPtD67bffyvDhw3PPyi+77LK5HxrMc+wuh3n0xjyCY46zzjor90VWdR3mvOZd9ua3Dub5evNMvnnNpfkmXvNlW++++26tb+I178E3X6hlXrdpPl9w8MEH536gMe/eN+/BNx+YNT8AmOM///lP7ocM8yVd5t35RhsztvBO/8J78M1vEsx78M077z/44IPca0WX9h58HtFxIYI5KIACWhQg4GtxgjpQAAVQYAkKFD4sujSBFn2PfSHg15xj7q6b8Gs+nGvujh9//PHVXw7lIr4J9OYbdM3x/vvvy/bbb7/EZczddPPhXHOnvfDNtObzA+Y99Sb8mw/51vythAn5pgfzAVnzjL+5c28eITJ1m98I1Pwgr3k8yLwxx7xa0/wwUdc32Zr377/22msybdq03A8X5tWg5oebJX2TLQHfhQjmoAAKaFGAgK/FCepAARRAARRAARRAARRAAQ8KEPA9iMgSKIACKIACKIACKIACKKBFAQK+FieoAwVQAAVQAAVQAAVQAAU8KEDA9yAiS6AACqAACqAACqAACqCAFgUI+FqcoA4UQAEUQAEUQAEUQAEU8KAAAd+DiCyBAiiAAiiAAiiAAiiAAloUIOBrcYI6UAAFUAAFUAAFUAAFUMCDAgR8DyKyBAqgAAqgAAqgAAqgAApoUYCAr8UJ6kABFEABFEABFEABFEABDwoQ8B1FnD59urz55pvSvHlzady4seMqTEMBFEABFEABFEABFEABkTlz5siECRNy39i9yiqrlCQJAd9RvoEDB+a+Xp0DBVAABVAABVAABVAABXwp8Oyzz8pBBx1U0nIEfEf5PvzwQ9l2223FmNCyZUvHVeKfNmPGDBk2bJjsuOOO0qRJk/gbooOSFYCJkiVMbgGYSM7SkhqCh5LkS3IyTORtHTduXO7m8ciRI2WbbbYpyWsCvqN8//3vf6VNmzYyZswYad26teMq8U/76aefZPDgwdKlSxdZeeWV42+IDkpWACZKljC5BWAiOUtLaggeSpIvyckwkbfVZ7Yk4DteKj5NcCxBxTQuShU2qCoCJlTZoaIYmFBhg5oi4EGNFWoKgQkCvhoYCfh5K7go1SCpphCYUGOFmkJgQo0VKgqBBxU2qCoCJgj4aoAk4BPw1cCorBA2amWGKCgHJhSYoKgEeFBkhpJSYIKArwRFv89JqWnKoRAuSgfREp8CE4kb7NAeTDiIlvAUeEjYXMfWYIKA74iO/2ncwecOvn+q0liRjToNH312ARM+1Yx/LXiI30PfHcAEAd83U87rEfAJ+M7wJD6RjTpxgx3agwkH0RKeAg8Jm+vYGkwQ8B3R8T+NgE/A909VGiuyUafho88uYMKnmvGvBQ/xe+i7A5gg4Ptmynk9Aj4B3xmexCeyUSdusEN7MOEgWsJT4CFhcx1bgwkCviM6/qcR8An4/qlKY0U26jR89NkFTPhUM/614CF+D313ABMEfN9MOa9HwCfgO8OT+EQ26sQNdmgPJhxES3gKPCRsrmNrMEHAd0TH/zQCPgHfP1VprMhGnYaPPruACZ9qxr8WPMTvoe8OYIKA75sp5/UI+AR8Z3gSn8hGnbjBDu3BhINoCU+Bh4TNdWwNJgj4juj4n0bAJ+D7pyqNFdmo0/DRZxcw4VPN+NeCh/g99N0BTBDwfTPlvB4Bn4DvDE/iE9moEzfYoT2YcBAt4SnwkLC5jq3BBAHfER3/0wj4BHz/VKWxIht1Gj767AImfKoZ/1rwEL+HvjuACQK+b6ac1yPgE/Cd4Ul8Iht14gY7tAcTDqIlPAUeEjbXsTWYIOA7ouN/GgGfgO+fqjRWZKNOw0efXcCETzXjXwse4vfQdwcwQcD3zZTzegR8Ar4zPIlPZKNO3GCH9mDCQbSEp8BDwuY6tgYTBHxHdPxPI+AT8P1TlcaKbNRp+OizC5jwqWb8a8FD/B767gAmCPi+mXJej4BPwHeGJ/GJbNSJG+zQHkw4iJbwFHhI2FzH1mCCgO+Ijv9pBHwCvn+q0liRjToNH312ARM+1Yx/LXiI30PfHcAEAd83U87rEfAJ+M7wJD6RjTpxgx3agwkH0RKeAg8Jm+vYGkwQ8B3R8T+NgE/A909VGiuyUafho88uYMKnmvGvBQ/xe+i7A5gg4Ptmynk9Aj4B3xmexCeyUSdusEN7MOEgWsJT4CFhcx1bgwkCviM6/qcR8An4/qlKY0U26jR89NkFTPhUM/614CF+D313ABMEfN9MOa9HwCfgO8OT+EQ26sQNdmgPJhxES3gKPCRsrmNrMEHAd0TH/zQCPgHfP1VprMhGnYaPPruACZ9qxr8WPMTvoe8OYIKA75sp5/UI+AR8Z3gSn8hGnbjBDu3BhINoCU+Bh4TNdWwNJgj4juj4n0bAJ+D7pyqNFdmo0/DRZxcw4VPN+NeCh/g99N0BTBDwfTPlvB4Bn4DvDE/iE9moEzfYoT2YcBAt4SnwkLC5jq3BBAHfER3/0wj4BHz/VKWxIht1Gj767AImfKoZ/1rwEL+HvjuACQK+b6ac1yPgE/Cd4Ul8Iht14gY7tAcTDqIlPAUeEjbXsTWYIOA7ouN/GgGfgO+fqjRWZKNOw0efXcCETzXjXwse4vfQdwcwQcD3zZTzegR8Ar4zPIlPZKNO3GCH9mDCQbSEp8BDwuY6tgYTBHxHdPxPI+AT8P1TlcaKbNRp+OizC5jwqWb8a8FD/B767gAmCPi+mXJej4BPwHeGJ/GJbNSJG+zQHkw4iJbwFHhI2FzH1mCCgO+ITt3TrrnmGunVq5dss802MnLkSKu1CfgEfCtgMjSYjTpDZhfZKkwUKVRGhsFDRoy2aBMmCPgWuCx96OjRo6V9+/bStGlTWWeddQj4jspyUToKl/A0mEjYXMfWYMJRuESnwUOixpbQFkwQ8EvA59epCxYskJ122kk6dOggH330kUybNo2A76gsF6WjcAlPg4mEzXVsDSYchUt0GjwkamwJbcEEAb8EfH6deuutt8rtt98uY8aMkYMPPpiAX4KqXJQliJfoVJhI1NgS2oKJEsRLcCo8JGhqiS3BBAG/RIREPvvsM9l6663l4Ycflm7duknnzp0J+CWoykVZgniJToWJRI0toS2YKEG8BKfCQ4KmltgSTBDwS0KoqqpK9tprr9xz9wMGDMitVUzAnzx5skyZMqXWuceNGyddu3aV9957T1q1alVSXTFPnjFjhgwfPlw6duwoTZo0ibkVavekAEx4EjKhZWAiITM9tAIPHkRMbAmYyBs6duzY3OPj5gmT1q1bl+RygyqTejNy9OvXTy666KKccOuvv37RAb/wtp26ZOrTp480b948IwrSJgqgAAqgAAqgAAqgQAgFJkyYID169CDg24hr7sBvuummcumll8qZZ55ZPfWggw6SH3/8UYYMGSLLL7987r9FD+7gL1lpfuq2oTAbY2EiGz7bdAkTNmqlPxYe0vfYtkOY4A6+LTPV48177rfbbrulzr/kkkvkxhtvLOocvAc/LxPPzRWFS6YGwUSm7C6qWZgoSqbMDIKHzFhddKMwkZfKZ7bMzCM6P//8s4wYMWIx2C644AIxf3fPPffIhhtuKJtssklRQPo0oagTKh3ERanUmAqWBRMVFF/pqWFCqTEVKgseKiS84tPCBAHfO57FfMi2rpMS8LmD7x3GRBZko07ESI9twIRHMRNYCh4SMNFzCzBBwPeMVHFv0SHgL1l2LkrvSEa/IExEb6H3BmDCu6RRLwgPUdsXpHiYIOAHActlUe7gcwffhZsszGGjzoLLdj3ChJ1eqY+Gh9Qdtu8PJgj49tQEmkHAJ+AHQiv6Zdmoo7fQewMw4V3SqBeEh6jtC1I8TBDwg4DlsigBn4Dvwk0W5rBRZ8Flux5hwk6v1EfDQ+oO2/cHEwR8e2oCzSDgE/ADoRX9smzU0VvovQGY8C5p1AvCQ9T2BSkeJgj4QcByWZSAT8B34SYLc9ios+CyXY8wYadX6qPhIXWH7fuDCQK+PTWBZhDwCfiB0Ip+WTbq6C303gBMeJc06gXhIWr7ghQPEwT8IGC5LErAJ+C7cJOFOWzUWXDZrkeYsNMr9dHwkLrD9v3BBAHfnppAMwj4BPxAaEW/LBt19BZ6bwAmvEsa9YLwELV9QYqHCQJ+ELBcFiXgE/BduMnCHDbqLLhs1yNM2OmV+mh4SN1h+/5ggoBvT02gGQR8An4gtKJflo06egu9NwAT3iWNekF4iNq+IMXDBAE/CFguixLwCfgu3GRhDht1Fly26xEm7PRKfTQ8pO6wfX8wQcC3pybQDAI+AT8QWtEvy0YdvYXeG4AJ75JGvSA8RG1fkOJhgoAfBCyXRQn4BHwXbrIwh406Cy7b9QgTdnqlPhoeUnfYvj+YIODbUxNoBgGfgB8IreiXZaOO3kLvDcCEd0mjXhAeorYvSPEwQcAPApbLogR8Ar4LN1mYw0adBZfteoQJO71SHw0PqTts3x9MEPDtqQk0g4BPwA+EVvTLslFHb6H3BmDCu6RRLwgPUdsXpHiYIOAHActlUQI+Ad+FmyzMYaPOgst2PcKEnV6pj4aH1B227w8mCPj21ASaQcAn4AdCK/pl2aijt9B7AzDhXdKoF4SHqO0LUjxMEPCDgOWyKAGfgO/CTRbmsFFnwWW7HmHCTq/UR8ND6g7b9wcTBHx7agLNIOAT8AOhFf2ybNTRW+i9AZjwLmnUC8JD1PYFKR4mCPhBwHJZlIBPwHfhJgtz2Kiz4LJdjzBhp1fqo+EhdYft+4MJAr49NYFmEPAJ+IHQin5ZNuroLfTeAEx4lzTqBeEhavuCFA8TBPwgYLksSsAn4Ltwk4U5bNRZcNmuR5iw0yv10fCQusP2/cEEAd+emkAzCPgE/EBoRb8sG3X0FnpvACa8Sxr1gvAQtX1BiocJAn4QsFwWJeAT8F24ycIcNuosuGzXI0zY6ZX6aHhI3WH7/mCCgG9PTaAZBHwCfiC0ol+WjTp6C703ABPeJY16QXiI2r4gxcMEAT8IWC6LEvAJ+C7cZGEOG3UWXLbrESbs9Ep9NDyk7rB9fzBBwLenJtAMAj4BPxBa0S/LRh29hd4bgAnvkka9IDxEbV+Q4mGCgB8ELJdFCfgEfBdusjCHjToLLtv1CBN2eqU+Gh5Sd9i+P5gg4NtTE2gGAZ+AHwit6Jdlo47eQu8NwIR3SaNeEB6iti9I8TBBwA8ClsuiBHwCvgs3WZjDRp0Fl+16hAk7vVIfDQ+pO2zfH0wQ8O2pCTSDgE/AD4RW9MuyUUdvofcGYMK7pFEvCA9R2xekeJgg4AcBy2VRAj4B34WbLMxho86Cy3Y9woSdXqmPhofUHbbvDyYI+PbUBJpBwCfgB0Ir+mXZqKO30HsDMOFd0qgXhIeo7QtSPEwQ8IOA5bIoAZ+A78JNFuawUWfBZbseYcJOr9RHw0PqDtv3BxMEfHtqAs0g4BPwA6EV/bJs1NFb6L0BmPAuadQLwkPU9gUpHiYI+EHAclmUgE/Ad+EmC3PYqLPgsl2PMGGnV+qj4SF1h+37gwkCvj01gWYQ8An4gdCKflk26ugt9N4ATHiXNOoF4SFq+4IUDxME/CBguSxKwCfgu3CThTls1Flw2a5HmLDTK/XR8JC6w/b9wQQB356aQDMI+AT8QGhFvywbdfQWem8AJrxLGvWC8BC1fUGKhwkCfhCwXBYl4BPwXbjJwhw26iy4bNcjTNjplfpoeEjdYfv+YIKAb09NoBkEfAJ+ILSiX5aNOnoLvTcAE94ljXpBeIjaviDFwwQBPwhYLosS8An4LtxkYQ4bdRZctusRJuz0Sn00PKTusH1/MEHAt6cm0AwCPgE/EFrRL8tGHb2F3huACe+SRr0gPERtX5DiYYKAHwQsl0UJ+AR8F26yMIeNOgsu2/UIE3Z6pT4aHlJ32L4/mCDg21MTaAYBn4AfCK3ol2Wjjt5C7w3AhHdJo14QHqK2L0jxMEHADwKWy6IEfAK+CzdZmMNGnQWX7XqECTu9Uh8ND6k7bN8fTBDw7akJNIOAT8APhFb0y7JRR2+h9wZgwrukUS8ID1HbF6R4mCDgBwHLZVECPgHfhZsszGGjzoLLdj3ChJ1eqY+Gh9Qdtu8PJgj49tQEmkHAJ+AHQiv6Zdmoo7fQewMw4V3SqBeEh6jtC1I8TBDwg4DlsigBn4Dvwk0W5rBRZ8Flux5hwk6v1EfDQ+oO2/cHEwR8e2oCzSDgE/ADoRX9smzU0VvovQGY8C5p1AvCQ9T2BSkeJgj4QcByWZSAT8B34SYLc9ios+CyXY8wYadX6qPhIXWH7fuDCQK+PTWBZhDwCfiB0Ip+WTbq6C303gBMeJc06gXhIWr7ghQPEwT8IGC5LErAJ+C7cJOFOWzUWXDZrkeYsNMr9dHwkLrD9v3BBAHfnppAMwj4BPxAaEW/LBt19BZ6bwAmvEsa9YLwELV9QYqHCQJ+ELBcFiXgE/BduMnCHDbqLLhs1yNM2OmV+mh4SN1h+/5ggoBvT02gGQR8An4gtKJflo06egu9NwAT3iWNekF4iNq+IMXDBAE/CFguixLwCfgu3GRhDht1Fly26xEm7PRKfTQ8pO6wfX8wQcC3pybQDAI+AT8QWtEvy0YdvYXeG4AJ75JGvSA8RG1fkOJhgoAfBCyXRQn4BHwXbrIwh406Cy7b9QgTdnqlPhoeUnfYvj+YIODbUxNoBgGfgB8IreiXZaOO3kLvDcCEd0mjXhAeorYvSPEwQcAPApbLogR8Ar4LN1mYw0adBZfteoQJO71SHw0PqTts3x9MEPDtqQk0g4BPwA+EVvTLslFHb6H3BmDCu6RRLwgPUdsXpHiYIOAHActlUQI+Ad+FmyzMYaPOgst2PcKEnV6pj4aH1B227w8mCPj21ASaQcAn4AdCK/pl2aijt9B7AzDhXdKoF4SHqO0LUjxMEPCDgOWyKAGfgO/CTRbmsFFnwWW7HmHCTq/UR8ND6g7b9wcTBHx7agLNIOAT8AOhFf2ybNTRW+i9AZjwLmnUC8JD1PYFKR4mCPhBwHJZlIBPwHfhJgtz2Kiz4LJdjzBhp1fqo+EhdYft+4MJAr49NYFmEPAJ+IHQin5ZNuroLfTeAEx4lzTqBeEhavuCFA8TBPwgYLksSsAn4Ltwk4U5bNRZcNmuR5iw0yv10fCQusP2/cEEAd+emkAzCPgE/EBoRb8sG3X0FnpvACa8Sxr1gvAQtX1BiocJAn4QsFwWJeAT8F24ycIcNuosuGzXI0zY6ZX6aHhI3WH7/mCCgG9PTaAZBHwCfiC0ol+WjTp6C703ABPeJY16QXiI2r4gxcMEAT8IWC6LEvAJ+C7cZGEOG3UWXLbrESbs9Ep9NDyk7rB9fzBBwLenJtAMAj4BPxBa0S/LRh29hd4bgAnvkka9IDxEbV+Q4mGCgB8ELJdFCfgEfBdusjCHjToLLtv1CBN2eqU+Gh5Sd9i+P5gg4NtTE2gGAZ+AHwit6Jdlo47eQu8NwIR3SaNeEB6iti9I8TBBwA8ClsuiBHwCvgs3WZjDRp0Fl+16hAk7vVIfDQ+pO2zfH0wQ8O2pCTSDgE/AD4RW9MuyUUdvofcGYMK7pFEvCA9R2xekeJgg4DvqZeRUAAAgAElEQVSDNXjwYHnooYfk7bfflgkTJsiqq64q7du3l6uuukratWtnvS4Bn4BvDU1GJrBRZ8RoizZhwkKsDAyFhwyYbNkiTBDwLZH5dXj37t1lypQpYv5vmzZtZOrUqXLbbbfJu+++Ky+99JJ06dLFam0CPgHfCpgMDWajzpDZRbYKE0UKlZFh8JARoy3ahAkCvgUutYd+99130qxZs1p/+Msvv8imm26aC/yvvvqq1doEfAK+FTAZGsxGnSGzi2wVJooUKiPD4CEjRlu0CRMEfAtcihu6zz77yPjx42Xs2LHFTVg4ioBPwLcCJkOD2agzZHaRrcJEkUJlZBg8ZMRoizZhgoBvgUv9Qw1QLVq0kM6dO8uAAQPqn1BjBAGfgG8FTIYGs1FnyOwiW4WJIoXKyDB4yIjRFm3CBAHfApf6h5500kny8MMPy7Bhw5b6QdvJkyfnnt+veYwbN066du0q7733nrRq1ar+kyU6YsaMGTJ8+HDp2LGjNGnSJNEuactGAZiwUSsbY2EiGz4X2yU8FKtUdsbBRN5r8zRJhw4dZMyYMdK6deuSAGhQVVVVVdIKkU7u1auXXHPNNdK3b18555xzltqFGWfG13X06dNHmjdvHqkKlI0CKIACKIACKIACKKBBAfOWxx49ehDwXc3o3bu3XHnllXLDDTfIZZddVu8y3MFfskT81F0vPpkbABOZs7zehmGiXokyNQAeMmV3Uc3CBHfwiwJlaYMK4d7clb/66qud1+MZ/Lx0PDfnjFCyE2EiWWudG4MJZ+mSnAgPSdpaUlMwkZfPZ7bM1CM6hXBv7t5fd911JcHo04SSCqnwZC7KChug8PQwodCUCpcEExU2QNnp4UGZIQrKgQkCvjOG5kutfv/738t+++232J375ZZbTrbbbjurtQn43MG3AiZDg9moM2R2ka3CRJFCZWQYPGTEaIs2YYKAb4FL7aHmVZhvvPFGnfPNqzK/+OILq7UJ+AR8K2AyNJiNOkNmF9kqTBQpVEaGwUNGjLZoEyYI+Ba4hB1KwCfghyUs3tXZqOP1LlTlMBFK2TjXhYc4fQtZNUwQ8EPyZbU2AZ+AbwVMhgazUWfI7CJbhYkihcrIMHjIiNEWbcIEAd8Cl7BDCfgE/LCExbs6G3W83oWqHCZCKRvnuvAQp28hq4YJAn5IvqzWJuAT8K2AydBgNuoMmV1kqzBRpFAZGQYPGTHaok2YIOBb4BJ2KAGfgB+WsHhXZ6OO17tQlcNEKGXjXBce4vQtZNUwQcAPyZfV2gR8Ar4VMBkazEadIbOLbBUmihQqI8PgISNGW7QJEwR8C1zCDiXgE/DDEhbv6mzU8XoXqnKYCKVsnOvCQ5y+hawaJgj4IfmyWpuAT8C3AiZDg9moM2R2ka3CRJFCZWQYPGTEaIs2YYKAb4FL2KEEfAJ+WMLiXZ2NOl7vQlUOE6GUjXNdeIjTt5BVwwQBPyRfVmsT8An4VsBkaDAbdYbMLrJVmChSqIwMg4eMGG3RJkwQ8C1wCTuUgE/AD0tYvKuzUcfrXajKYSKUsnGuCw9x+hayapgg4Ifky2ptAj4B3wqYDA1mo86Q2UW2ChNFCpWRYfCQEaMt2oQJAr4FLmGHEvAJ+GEJi3d1Nup4vQtVOUyEUjbOdeEhTt9CVg0TBPyQfFmtTcAn4FsBk6HBbNQZMrvIVmGiSKEyMgweMmK0RZswQcC3wCXsUAI+AT8sYfGuzkYdr3ehKoeJUMrGuS48xOlbyKphgoAfki+rtQn4BHwrYDI0mI06Q2YX2SpMFClURobBQ0aMtmgTJgj4FriEHUrAJ+CHJSze1dmo4/UuVOUwEUrZONeFhzh9C1k1TBDwQ/JltTYBn4BvBUyGBrNRZ8jsIluFiSKFysgweMiI0RZtwgQB3wKXsEMJ+AT8sITFuzobdbzehaocJkIpG+e68BCnbyGrhgkCfki+rNYm4BPwrYDJ0GA26gyZXWSrMFGkUBkZBg8ZMdqiTZgg4FvgEnYoAZ+AH5aweFdno47Xu1CVw0QoZeNcFx7i9C1k1TBBwA/Jl9XaBHwCvhUwGRrMRp0hs4tsFSaKFCojw+AhI0ZbtAkTBHwLXMIOJeAT8MMSFu/qbNTxeheqcpgIpWyc68JDnL6FrBomCPgh+bJam4BPwLcCJkOD2agzZHaRrcJEkUJlZBg8ZMRoizZhgoBvgUvYoQR8An5YwuJdnY06Xu9CVQ4ToZSNc114iNO3kFXDBAE/JF9WaxPwCfhWwGRoMBt1hswuslWYKFKojAyDh4wYbdEmTBDwLXAJO5SAT8APS1i8q7NRx+tdqMphIpSyca4LD3H6FrJqmCDgh+TLam0CPgHfCpgMDWajzpDZRbYKE0UKlZFh8JARoy3ahAkCvgUuYYcS8An4YQmLd3U26ni9C1U5TIRSNs514SFO30JWDRME/JB8Wa1NwCfgWwGTocFs1Bkyu8hWYaJIoTIyDB4yYrRFmzBBwLfAJexQAj4BPyxh8a7ORh2vd6Eqh4lQysa5LjzE6VvIqmGCgB+SL6u1CfgEfCtgMjSYjTpDZhfZKkwUKVRGhsFDRoy2aBMmCPgWuIQdSsAn4IclLN7V2ajj9S5U5TARStk414WHOH0LWTVMEPBD8mW1NgGfgG8FTIYGs1FnyOwiW4WJIoXKyDB4yIjRFm3CBAHfApewQwn4BPywhMW7Oht1vN6FqhwmQikb57rwEKdvIauGCQJ+SL6s1ibgE/CtgMnQYDbqDJldZKswUaRQGRkGDxkx2qJNmCDgW+ASdigBn4AflrB4V2ejjte7UJXDRChl41wXHuL0LWTVMEHAD8mX1doEfAK+FTAZGsxGnSGzi2wVJooUqozDqqqq5Oc5P8sPs36QH2b+INNmTav+34U/O3m7k2WT1TbxXhU8eJc0+gVhgoCvBmICPgFfDYzKCmGjVmaIgnJgonwmfDL1E3n9i9cXD+4Lg/z3M78X89/02dNlftX82oXNbCrSaJbIsrNzf37qdqfKPQff4714ePAuafQLwgQBXw3EBHwCvhoYlRXCRq3MEAXlwET5TOj6SFcZ+MnAxU7YQBrk/qxKqpZczH2vifyylsg5W8lyDZeT1058TTo17+S9eHjwLmn0C8IEAV8NxAR8Ar4aGJUVwkatzBAF5cBE+Uy49o1r5erXr3Y74TULw/9u18vTd28th2xxiNs69cyChyCyRr0oTBDw1QBMwCfgq4FRWSFs1MoMUVAOTJTPBPNs/TnPnyN3jbjL/qSf7SHy4ODcvE8/FWnZ0n6JYmbAQzEqZWsMTBDw1RBPwCfgq4FRWSFs1MoMUVAOTJTXhPkL5suRTx4pT/33KesTb/TM/+SLf2+Wm7dggUiD/JM9Xg948CpnEovBBAFfDcgEfAK+GhiVFcJGrcwQBeXARPlNmDVvluz30H7yxvg3ij75cW2PkwcOeVAaNsyn+j33FHn11aKnFz0QHoqWKjMDYYKArwZ2Aj4BXw2Mygpho1ZmiIJyYKK8Jnz545ey6327ivm/xR57brynPH/s89K4YWP57LNfH88xAd8EfZ8HPPhUM421YIKAr4ZkAj4BXw2Mygpho1ZmiIJyYKI8Jjwz9hk55LHFPxjbdLmm8uPsH5dYRNtmbWXIKUNkleVWqR5z9dUi116b/39nzRJZbjl/PcCDPy1TWQkmCPhqWCbgE/DVwKisEDZqZYYoKAcmwpkwb8E8+f1Lv5c7372z1kn2bbmv/KP7P2Tl5VYW8278Tvd2yr3/vuZrMs2rM9dfZX0ZftpwWW/l9RYrsvD8vQn3JuT7OuDBl5LprAMTBHw1NBPwCfhqYFRWCBu1MkMUlAMT/k34+qevpcuDXeTjKR/XWvyWvW+Rnp16SoNFPh37/lfvy+737y6/zP0lF/JNuDd37N8+9W1ps1abOgv86SeRVRbe1O/TR+Tcc/30AQ9+dExpFZgg4KvhmYBPwFcDo7JC2KiVGaKgHJjwZ8LL416WfR/ad7EFh506TDpu0HGpJ3pl3CtywCMHiLnrv+wyy8qrJ7wqu7XYbalznnpK5PDD80O+/lpknXVK7wUeStcwtRVggoCvhmkCPgFfDYzKCmGjVmaIgnJgojQTFlQtkCsGXSE3Dr2x1kK7brir/Ouof8lqK6xW9AkeG/WYHDfgOHn0sEel+5bdi5q35ZYiY8bkh1Yt5Ytwi1pMROChWKWyMw4mCPhqaCfgE/DVwKisEDZqZYYoKAcm3EyYPGNy7m79B998UGuB6/a4Tq7Y9YrFHsMp9ixjJo9Z4mM5da1h3offsGH+b044QeSBB4o9U93j4KE0/VKcDRMEfDVcE/AJ+GpgVFYIG7UyQxSUAxN2Jrw5/s3c8/KLHm+c9Ea9j9TYnan40f/5j8g22+THjxgh0q5d8XMXHQkP7tqlOhMmCPhq2CbgE/DVwKisEDZqZYYoKAcm6jehqqpKrn/zernq9atqDW63bjt54dgXZK0ma9W/SOARZ5wh0q9f/iTz5v16V9/2tPBgq1j642GCgK+GcgI+AV8NjMoKYaNWZoiCcmBiySb8MPMHOfixg+WtL9+qNejyXS6X67pcJ8s0WEaBg7+WUHg5zyabiIwb51YaPLjplvIsmCDgq+GbgE/AVwOjskLYqJUZoqAcmFjchOETh8uO9+642F+8fNzLsnfLvRW4VncJkyeLNGuW/7tHHhE5+mj7UuHBXrPUZ8AEAV8N4wR8Ar4aGJUVwkatzBAF5cBE3gTzGM6t79wqF71yUS1XzHvoXz3+VVl35XUVuFV/Cf37i5x+en7ctGkiTZvWP6fmCHiw0ysLo2GCgK+GcwI+AV8NjMoKYaNWZoiCcrLOxPTZ0+XwJw6XVz57pZYbF3S8QG7Z5xZpuMzCV9Qo8KrYElZbLR/u8z+4FDuLfzfslMrO6KzvEQWnfWbLBlXmlgKHtQI+TbA+uaIJXJSKzFBSCkwoMUJRGVll4oOvP5Dt+22/mBPPHPWMdG3VVZFD9qXMmSOy3HL5eRdfLPKnPxW/RlZ5KF6h7I2EibznPrMlAd/xOvJpgmMJKqZxUaqwQVURMKHKDhXFZIkJc8/srhF3yTnPn1NL+41W3UjMay43bLqhCk98FDFkiMhuC78Id+xYkc03L27VLPFQnCKMggkCvpqrgICft4KLUg2SagqBCTVWqCkkC0z8MvcXOeapY+RfY/9VS/fTtz9d+h7QV5ZtuKwaP3wW0rWryMCB+RXNF2IV3rKztHNkgQefGmdhLZgg4KvhnIBPwFcDo7JC2KiVGaKgnJSZMN8K275fe5k5b2YtpR8//HE5YssjFKgftgTzkO8yC9/kufPOIm/VfttnnSdPmYewaqe7OkwQ8NXQTcAn4KuBUVkhbNTKDFFQTopM3PfBfXLKM6fUUrdZk2by9ilvS8vVWypQvXwljB8vstFG+fO98ILIfvst/dwp8lA+tdM8E0wQ8NWQTcAn4KuBUVkhbNTKDFFQTipMzJo3S0751yny6KhHa6l6fNvjpX/X/rJco4WfOlWgeblL6N1b5Mor82f95ReRFVZYcgWp8FBujVM+H0wQ8NXwTcAn4KuBUVkhbNTKDFFQTuxMfDL1E+l0byeZOnNqLTUf6PaAnLDNCQoU1lFCzefvl/Z+vth50KF2WlXABAFfDdEEfAK+GhiVFcJGrcwQBeXEysTjox6Xo546qpaCKzVeSd497V1pvVZrBcrqKmHGDJGVVsrXdPPNIhdeWHd9sfKgS+20qoEJAr4aogn4BHw1MCorhI1amSEKyomJiTnz58jZz50t935wby3lDmt9mDz4mwdlxWVXVKCo3hKefVbk4IPz9U2cKLL++ovXGhMPepVOqzKYIOCrIZqAT8BXA6OyQtiolRmioJwYmBg/bbzsct8uMnH6xFqK/fXAv8rp7U6XBsW8/1GB1hpKaN9e5P3385XU9erMGHjQoGOWaoAJAr4a3gn4BHw1MCorhI1amSEKytHMxL8+/pd0e7xbLZUaNmgo75/+vmyzzjYK1IuvBBPqGzbM1929u8gTT9TuQTMP8amdRsUwQcBXQzIBn4CvBkZlhbBRKzNEQTnamJi3YJ70fKmn9Hm3Ty119t90f3mi+xNinrPnKE2BMWNEttwyv8Y774jsuOOv62njobROme1DAZgg4PvgyMsaBHwCvheQElyEjTpBU0tsSQsTX/30lezxwB7yv6n/q9XR7fveLud3PJ/HcEr0edHp558vcued+T+dO1ekUSP+3fAscTLLadkjKi2oz2zZoKpqaS+zqnSres/v0wS9XdZfGRdl/RplbQRMZM3x+vutNBMvffqS7Pfw4t++ZN6G02H9DvU3wAhnBQofXVh3XZGvviLgOwuZ+MRK7xFa5PWZLQn4jq76NMGxBBXTuChV2KCqCJhQZYeKYirBxIKqBXL5oMvlT0P/VEuD3VvsLk8f9bSsuvyqKrRJvYjvvxdZY418l/ffL3LiiSKV4CF1nWPvDybyDvrMlgR8x6vCpwmOJaiYxkWpwgZVRcCEKjtUFFNOJr6b8Z3s+9C+MvKbkbV6792lt1y2y2U8hlMBIh54QOSkk/InnjpVZNllf5LBgwdLly5dZOWVV65ARZxSmwLl3CO09V6zHp/ZkoDv6LRPExxLUDGNi1KFDaqKgAlVdqgophxMvPHFG9L5gc6L9Tvk5CGyy4a7qNAhy0WYR3S++SavwPTpBPwss1BX7+XYI2LQ3Ge2JOA7Ou7TBMcSVEzjolRhg6oiYEKVHSqKCcWE+QjZdW9eJ1e/fnWtPndYfwd57pjnZM0V11TRP0WIzJtn7tznlbjssp+kY0fu4MPFrwqE2iNi09hntiTgO7rv0wTHElRM46JUYYOqImBClR0qivHNxPczv5euj3aVtye8Xau/K3e9Unrt0UuWabCMir4porYCw4aJdOokssEGP0nfvgR8+CDgL8qAz2xJwHe8wnya4FiCimm+/+FW0RRFlKQATJQkX5KTfTExbOIw6XRvp8U0evX4V2XPTfZMUrvUmjriCPNe/HzA79y5izRtyjP4qXns0o+vPcLl3Jrm+MyWZQv4P/zwg6y22mqL6Th06FDZeeedNelbVC0+TSjqhEoHcVEqNaaCZcFEBcVXeupSmDCP4dzy9i1y8asX1+puq2ZbySvHvyLrrLSO0q4pqy4FzIu5N9wwH/DvuquLvPgiAR9SeLNSgQGf2TJ4wB8zZox069ZNxo0bJ2uttZbceOONclLh4/Qissoqq8j06dOj49unCdE1X6PgUv7hjrlval+yAjABHYsq4MLE9NnT5dDHD5VBnw+qtVzPHXvKTXvfJA2XaYjQkSrw6ac/yejRg+Xcc7vIX/6ysnTtGmkjlO1NAZc9wtvJFS3kM1sGD/h77rmnHHTQQXLuueeKuVt/5plnysEHHyw33XRTTlLziixjbGyHTxNi671mvVyUMbsXpnaYCKNrzKvaMPHB1x/I9v22X6zdgUcPlAM3PzBmGah9oQIFHkzAnzhxZfn5Z5EmTZAnywrY7BEp6+QzWwYP+OaxnO+//7763cPTpk3L3dHfcMMN5b777pNVV121bAHfAHTZZZfJk08+KT/++KO0bdtWrr32Wtl3332tefFpgvXJFU3golRkhpJSYEKJEYrKqI8J8xjO/733f9LjhR61qt5ktU3k9RNfl+ZNmyvqhlJKVWDRgG/WM4/ucGRXgfr2iKwo4zNbBg/4zZs3l3fffVfWNS/BXXjMnj1bjjrqKJk1a5a8+eabMmPGjLJ4t9dee8nIkSNzvz1o0aKF9OvXTwYMGCCvvPKKdO68+PuTl1aUTxPK0nygk3BRBhI24mVhImLzApW+JCZmzJkhxww4Rp4Z+0ytM5/V/iy5c/87pdEyjQJVxLKVVKDAw047dZFmzfLP4PfuLXL55ZWsinNXUgH+3cir7zNbBg/4p5xyirRs2VKuuOKKWuwsWLBATjvtNLn//vvF/O/Qx/PPPy8HHnhgLtD/5je/yZ3OnLddu3ay7LLL5n4IsTl8mmBzXm1juSi1OVL5emCi8h5oq2BRJkZ/N1ra9Wsns+fPrlXqk92flMPaHKatfOrxrEBNHoYOXVn23z9/gvHjzQdwPZ+M5aJQgH83Igz4c+bMkXnz5smKK65YJ2Rffvll7nGd0Mdvf/tb+cc//pF7XGiZZX59R/Ktt94qF154oUycOFHWX3/9ossg4Oel4qIsGpnMDISJzFhddKMFJqatO01OeuGkWvPWXWldGXrKUNl4tY2LXo+BcSuw6B6xyy4iQ4fmezL3+xo0iLs/qrdXgH83lAf8Dz74QLbbbjt7Z8swo1OnTrnPAbz9du0vRnnppZdkv/32kxdffNHqWXwCPgG/DNhGeQo26ihtC1r0ObedI/u03EfO/e+5MnH2xNy5TtzmROnXtZ80btg46LlZXJ8Ci+4R5vn7wn0380adZ2o/saWvASryrgD/bigP+OaNOI899ljuURhtx+abby7mv4EDB9Yq7b333pMddthBHnnkETn66KPrLHvy5MkyZcqUWn9nXvvZtWtXMfNbtWqlrd2y1WM+PzF8+HDp2LGjNOE1CGXTXfOJYEKzO+WvzXyAds+D9pQrf3+lXPfwddLzop7SdQvei1h+J/Scsa494vPPRQrR4e9/F2nXTk+9VBJeAf7dyGs8duxY6dChg5hXzLdu3bok4b0+g3/AAQfkPrB6xx13yDnnnLPEwubPny8PPvignHzyySUVbzPZhHsTxJ999lnrgH/NNddIr1696jxdnz59xHyQmAMFUAAFUAAFUAAFUAAFXBWYMGGC9OjRQ1/ANx9aNcHevJ3m/PPPl9tuu61Wj+atOf379xfz3LtpwgT9ch2lPKLDHfwlu8RP3eUiOJ7zwEQ8XpWr0gIT1113nXz77bfVpx0yZIisscYa5SqD8yhRYGl7RJs2+SJXXllk+HAlBVNGcAX4dyMvsdo7+AUCbrnlFrnkkktyX2hlHn0xH7Lt27ev/PnPf5bvvvsu96y7eavOLuaTNWU6zBt7nnrqKZk6dWqtD9maH0J+//vf8yFbRx94bs5RuISnwUTC5jq2VpMJ8+a08847r3qlQw89NPcChJovP3A8DdMiUWBpe8S0aSKrrZZv5O67RU4/PZKmKLMkBfh3Iy+fz893en1Ep6a75nWUxx9/fO59819//bVMnz4993pKE+wr8UHc5557LveNuk8//bQccsghuVLNbxzat28vDRs2zD1Lb3P4NMHmvNrGclFqc6Ty9cBE5T3QVsGiTMydOzd3g6fm64kff/xxOeKII7SVTj0BFKhvj3j0UZFjjsmf+LvvRNZaK0ARLKlKgfqYUFVswGJ8ZssgAX/SpEly88035x7HmTlzZu7tNSbwF4J1QG2WuHTug1577ikfffRRrjbzak5Tn7lz9PLLL0uXLl2syvJpgtWJlQ3molRmiIJyYEKBCcpKWBITn376qWy22Wa1qjWvTuZzTcoM9FxOMXvEJpuImA/emoNvufVsgMLlimFCYdneS/KZLb0GfLNZ33jjjfLQQw/lQv1JJ50kRx55pJxxxhm5R2PM3fNyPpazqPLmtwiXXnqpPPnkk7nfKGy99dZy7bXXyv6Fb9mwsMqnCRanVTeUi1KdJRUvCCYqboG6Aupj4m9/+5uceuqp1XWbmzHmFcbmt6sc6SlQHw+mY/MRvUYLv8j4t78V6dcvPR3o6FcFimEiC3r5zJZeA36jRo1yX2hlAr15rn2dddbJ+fHDDz/knscfMWKE3HfffXLUUUdF75NPE2IWg4syZvfC1A4TYXSNedVimDAvXTA3W8yb2ArHvffeK+bb0DnSUqAYHkzH778v0r59vveRI0W22SYtHeiGgL8oAz6zpdeAb14laT48tVrhEzI1KjffaHviiSfKE088IeZNCpdffnnUbPs0IWYhit2oY+6R2u0UgAk7vbIw2oYJ84a1Rb/d/JNPPpFNN900C1JlokcbHk48UeTBB/OymLv6Nb6IPhNaZaVJGyZS1sRntvQa8IsR3Twic9NNN+V+HWuegY/18GlCrBqYurkoY3YvTO0wEUbXmFd1YcLcDDKPeBYO8+UvQ4cOlWWXXTZmKajd4d+NBg3ysm25pcioUUiYogIue0SKOvjMlmUP+MYQ85588yL/2bNnR+uPTxOiFcFho465V2ovTgE26uJ0ytIoVybMm87Mm3XMK44Lh3ndcs3XbGZJx1R6teXhm29E1l03371B4dBDU1GCPgoK2DKRqnI+s2VFAr4xxnyAyrwPP9bDpwmxamDq5qKM2b0wtcNEGF1jXrVUJsyXYxU+01XQYdSoUbKluaXLEZ0CLjz07SvSo0e+1enT81+ExZGOAi5MpNP9r534zJYVC/ixG+PThJi14KKM2b0wtcNEGF1jXtUXE4XvMylosfnmm8uHH34oyy+/fMzyZK52Vx6MzYVf/PPqzLSwcWUiLRUi+aKr1ERftB8Cfl4RLsrUSbfvDybsNUt9hk8mzHeamG8mN6/WLBy9e/eO/sUNqTNQsz9XHky4L/wsd9VVIr16ZUm1tHt1ZSI1VXxmS+7gO9Lh0wTHElRM46JUYYOqImBClR0qignBxPfffy9rrbVW7hvJC4f5RnLz7eQcuhUohYfBg0X23DPf37hxIuYLsTjiV6AUJuLv/tcOfGZLAr4jGT5NcCxBxTQuShU2qCoCJlTZoaKYkEwMHjw49y3lhWPttdeWcePGSZMmTVT0ThGLK1AqD3vvLfLqq/l1zc93hbfsoHW8CpTKRLyd167cZ7Yk4DtS4dMExxJUTOOiVGGDqiJgQpUdKooJzYR5bKdnz55yxx13VPd7ySWX5L5ZnUOfAqXyYJ6/L7wP34T9l1/W1yMV2SlQKhN2Z9M72me2JOA7+uzTBMcSVEzjolRhg6oiYEKVHSqKKRcT5jwtWrTIfXt64XjzzTdl1113VaEDReQV8MHDZ5+JtGyZX9uh2oMAACAASURBVG/QIJEuXVA3ZgV8MBFz/4XafWZLAr4jET5NcCxBxTQuShU2qCoCJlTZoaKYcjMxbNgw6dSpU3Xv5i0733zzjTRt2lSFHlkvwhcP5oO2112XV3PWLJHllsu6svH274uJeBXIV+4zWxLwHWnwaYJjCSqmcVGqsEFVETChyg4VxVSKiauuukquKyRAETnzzDPlL3/5izTgoe2KcuGTh4KV5u06M2dWtC1OXoICPpkooYyKT/WZLQn4jnb6NMGxBBXTuChV2KCqCJhQZYeKYirJxC+//CJt2rSR8ePHV2thvmhxn332UaFNFovwycNPP4msskpexT59RM49N4uKxt+zTyZiVsNntiTgO5Lg0wTHElRM46JUYYOqImBClR0qitHAxMiRI2W77barpcfkyZNlzTXXVKFRlorwzcNTT4kcfnhewa+/FllnnSypmUavvpmIVRWf2ZKA70iBTxMcS1AxjYtShQ2qioAJVXaoKEYTE7fccotcdNFF1bocc8wx8tBDD/HYThlJCcFDmzbm+eV8E3zLbRnN9HSqEEx4Kq2sy/jMlgR8R+t8muBYgoppXJQqbFBVBEyoskNFMdqYmDNnjuywww7y4YcfVuvzz3/+U7p166ZCr9SLCMGDeR9+w4Z55U44QeSBB1JXMa3+QjARo0I+syUB35EAnyY4lqBiGhelChtUFQETquxQUYxWJj7++GNp3bp1LY0mTZok6623ngrdUi0iFA/m57Vtt82rNmKESLt2qSqYXl+hmIhNKZ/ZkoDv6L5PExxLUDGNi1KFDaqKgAlVdqgoRjsTf/3rX+Wss86q1urAAw+UZ555RpYpfJuSChXTKSIkD6efLtK/f16refN+vaufjnppdhKSiZgU85ktCfiOzvs0wbEEFdO4KFXYoKoImFBlh4piYmBi3rx50qVLFxkyZEi1ZubZ/GOPPVaFhikVEZqHwqszN9lEZNy4lJRLt5fQTMSinM9sScB3dN2nCY4lqJjGRanCBlVFwIQqO1QUExMTn3/+uWxikmGNw/zZRhttpELLFIoIzcPkySLNmuWVeuQRkaOPTkG1tHsIzUQs6vnMlgR8R9d9muBYgoppXJQqbFBVBEyoskNFMTEyYe7eH3/88dX67bLLLvLaa69Jo0aNVGgacxHl4KFfP5EzzsirNG2aCF9irJuYcjChW4F8dT6zJQHf0XGfJjiWoGIaF6UKG1QVAROq7FBRTKxMLFiwQA455BAZOHBgtY7mef0zCslRhbrxFVEuHlZdVeTHH/P68OpM3ZyUiwndKhDwVfhDwM/bwEWpAkdVRcCEKjtUFBM7E1999ZWsv/76tbQ0b+Bp1aqVCn1jK6JcPMyZI7Lccnl1Lr5Y5E9/ik2p7NRbLia0K+ozW3IH39FtnyY4lqBiGhelChtUFQETquxQUUwqTJh35R966KHVmrZt21bee+89ady4sQqdYyminDyYz0zvtltembFjRTbfPBaVslVnOZnQrKzPbEnAd3TapwmOJaiYxkWpwgZVRcCEKjtUFJMSE1VVVXLcccfJI+bTmwuPm2++WS688EIVWsdQRLl56NpVpPCUlflCrMJbdmLQKis1lpsJrbr6zJYEfEeXfZrgWIKKaVyUKmxQVQRMqLJDRTEpMjFlyhRZa621auk7cuRI2WabbVRorrmIcvNgnr8vfKXBLruI1HgTqmaZMlVbuZnQKq7PbEnAd3TZpwmOJaiYxkWpwgZVRcCEKjtUFJMyEy+99JLst99+1Tq3aNEi9yaMFVZYQYX2GouoBA/jx4sU3nT64osi++6rUZns1lQJJjSq7TNbEvAdHfZpgmMJKqZxUaqwQVURMKHKDhXFpM6EeWzn7LPPFvOGncJx1VVXSa9evVTor62ISvHQu7fIlVfm1fjlFxF+BtNDRqWY0KNAvhKf2ZKA7+iuTxMcS1AxjYtShQ2qioAJVXaoKCYrTEybNk3WW289mTlzZrXu77zzjuy4444qfNBSRCV5qPn8Pa/O1EIEb+QrOOEzWxLwHfn2aYJjCSqmVXKjViEARSymAEwAxaIKZI2JIUOGyG6FV7eIyKqrripffvmlrLzyysBR4dcrz5ghstJKeRtuvVWkZ08s0aBA1vaIJWnuM1sS8B3J9mmCYwkqpnFRqrBBVREwocoOFcVklYlLLrlEbrrppmoPLrjgArntttukQcZf41JpHp59VuTgg/O2TJwosshXHKi4ZrJWRKWZ0KK3z2xJwHd01acJjiWomMZFqcIGVUXAhCo7VBSTZSZ+/vln2XTTTeXbb7+t9mLw4MGyxx57qPCmEkVo4KF9e5H33893z6szK0FB7XNqYKLyKvAMvgYPvH4QQkVDjkVwUToKl/A0mEjYXMfWYEJkxIgR0qFDh2oFzV1886rN1Vdf3VHVeKdp4MGE+oYN8xoeeaTIY4/Fq2cKlWtgQoOOPm8ecwff0VGfJjiWoGIaF6UKG1QVAROq7FBRDEz8akPv3r3lysKrXETklFNOkXvuuSdTj+1o4WHMGJEtt8x7M2yYSMeOKi6XTBahhYlKi+8zWxLwHd30aYJjCSqmcVGqsEFVETChyg4VxcBEbRtmzZqV+0Ks//3vf9V/MXDgQDnwwANV+BW6CE08nHeeSJ8++Y7nzhVp1Ch096xflwKamKikQz6zJQHf0UmfJjiWoGIaF6UKG1QVAROq7FBRDEzUbcOoUaNk6623rvWX33zzjay99toqfAtVhDYeCp95Xm89kUmTQnXNuktTQBsTlXLLZ7Yk4Du66NMExxJUTOOiVGGDqiJgQpUdKoqBiaXb8Oc//1nMG3YKx2GHHSZPPPGELLPMMir8812ENh6+/15kjTXyXd5/v8iJJ/rumPXqU0AbE/XVG+rvfWZLAr6jSz5NcCxBxTQuShU2qCoCJlTZoaIYmKjfhrlz58rOO+8s7733XvXgxx9/XI444oj6J0c2QiMPJtiffHJeyKlTRTL42eeKUqSRiUoI4jNbEvAdHfRpgmMJKqZxUaqwQVURMKHKDhXFwETxNnz66aey2Wab1ZpgviSrefPmxS+ifKRWHtZZR6TwNlO+5ba8EGllorwq8JrMcutd5/kI+HlZuChV4KiqCJhQZYeKYmDC3oZ7771XTjvttOqJe++9t7zwwgvSsPBuR/sl1czQyoP5kG3jxnmZzj9f5I471EiWfCFamSi38D6zJXfwHd3zaYJjCSqmcVGqsEFVETChyg4VxcCEmw3z58+XfffdVwYNGlS9wN/+9jc5ufAsiduyFZ+lmYd33hHZaae8RKNHi7RpU3G5MlGAZibKaYDPbEnAd3TOpwmOJaiYxkWpwgZVRcCEKjtUFAMTpdlgHtFp0aJFrUU++eST3Dfkxnho56F7d5Enn8wrO3++SKKfdVaFjnYmyiWWz2xJwHd0zacJjiWomMZFqcIGVUXAhCo7VBQDE35sMB+6Peqoo6oXM9+MO3ToUFl22WX9nKBMq2jnwTx/Xwj17duL1Pjcc5kUyt5ptDNRLkd8ZksCvqNrPk1wLEHFNC5KFTaoKgImVNmhohiY8GfDggULpHv37jJgwIDqRfv06SPnnnuuv5MEXikGHsz78DfYIC/EM8+IdO0aWJSMLx8DE+WwyGe2JOA7OubTBMcSVEzjolRhg6oiYEKVHSqKgQn/NpgvxFp33XVrLWy+OGvLLbf0fzLPK8bCwy23iFx0Ub75n38WadLEsxAsV61ALEyEtsxntiTgO7rl0wTHElRM46JUYYOqImBClR0qioGJcDYMHDhQuta4vdyqVSsZOXKkLL/88uFOWuLKMfFQ+JZb0zKvzizR+KVMj4mJcCrwmsyQ2ha9NgE/LxUXZdHIZGYgTGTG6qIbhYmipXIaWFVVJaeccorcb76taeHRu3dvufzyy53WCz0pJh5mzhRZccW8Ir17iyiVNLRlwdePiYmQYvjMltzBd3TKpwmOJaiYxkWpwgZVRcCEKjtUFAMT5bHh+++/lzXWWKPWyUaMGCHt2rUrTwFFniU2Hl58UWT//fPNjR8vsuGGRTbKsKIViI2JohuzHOgzWxLwLcUvDPdpgmMJKqZxUaqwQVURMKHKDhXFwER5bRg8eLDsueee1Sc1z+qb12o2UfIQeYw87LKLyNCheUkXLBCp+ehOed1N82wxMhHCCZ/ZkoDv6JBPExxLUDGNi1KFDaqKgAlVdqgoBibKb4N5bOeCCy6QO++8s/rkl156qfzxj38sfzGLnDFGHmq+OtN85MG8WYfDnwIxMuGv+19X8pktCfiODvk0wbEEFdO4KFXYoKoImFBlh4piYKJyNkyfPl023HBD+fHHH6uLGDJkiOxibklX6IiVh7FjRbbYIi/akCEiFZSwQs6FO22sTPhWxGe2JOA7uuPTBMcSVEzjolRhg6oiYEKVHSqKgYnK2/DOO+/ITjvtVF3ICiusIF9//bU0bdq07MXFzMPFF4vcfHNesjlzRCL7jrGye13sCWNmotgeixnnM1sS8ItRvI4xPk1wLEHFNC5KFTaoKgImVNmhohiYUGFDrog//OEPcv3111cXdPbZZ0vfvn2lQRkfKo+dh4JUq68uMnWqHm9jriR2Jnxp7zNbEvAdXfFpgmMJKqZxUaqwQVURMKHKDhXFwIQKG6qL+OWXX2SLLbaQCRMmVP/Zyy+/LHvvvXdZCo2dh2nTRFZbLS9V//4ip51WFtmSPknsTPgyx2e2JOA7uuLTBMcSVEzjolRhg6oiYEKVHSqKgQkVNixWxAcffCDbb799rT+fPHmyrLnmmkELToGHRx8VOeaYvEyTJ4sEliyoHxoWT4EJHzr6zJYEfEdHfJrgWIKKaVyUKmxQVQRMqLJDRTEwocKGJRZx0003ySWXXFL998cee6z8/e9/D/bYTio8bLKJyOef52XjW25LYzwVJkpTgW+yLVU/L/MJ+HkZuSi94JTUIjCRlJ1emoEJLzIGXWT27NnSvn17GTVqVPV5/vnPf0q3bt28nzcVHubPF2nUKC/PGWeI/PWv3qXKzIKpMFGqYT6zJXfwHd3waYJjCSqmcVGqsEFVETChyg4VxcCEChuKKqLwb1vNwV999ZWYL8vydaTEw/vvi7Rvn1fmww9F2rb1pVK21kmJiVKc85ktCfiOTvg0wbEEFdO4KFXYoKoImFBlh4piYEKFDVZF3HXXXWLesFM4unbtKk8//bQss8wyVuvUNTg1Hk48UeTBB/Odmrv6HiQqWePYFkiNCVf9fWZLAr6jCz5NcCxBxTQuShU2qCoCJlTZoaIYmFBhg3UR8+bNk86dO8vQoUOr5z788MNyTOHTpdYr5iekyEPh1ZlbbSXy0UeOwmR4WopMuNjpM1sS8F0cEL8fhHAsQcU0LkoVNqgqAiZU2aGiGJhQYYNzEZ9//rlsYj5RWuMwf7bRRhs5rZkiD998I1J4iumpp0QOPdRJmsxOSpEJFzMJ+C6qeZ7j0wTPpZV1OS7KssodxclgIgqbylokTJRV7mAnM2/WOeGEE6rX32233WTQoEHSqPBJ0yLPnCoPffqInHdeXoTp00VWXrlIQRiW5G91XGz1mS25g+/iAHfwq1VLdaN2xIJpif76HWNLU4B9ojT9NM1esGCBmOfxn3/++eqy7r77bjn99NOLLjNlHho3Fpk7Ny8Fr84sGgkC/kKpCPjFMxNspE8TghVZhoVT3qjLIF+Sp4CJJG0tqSmYKEk+lZMnTZokG2ywQa3aPv74Y2nVqlW99abMw6xZIiuskJfgqqtEevWqVw4GcGOomgGf2ZI7+I6Xlk8THEtQMS3ljVqFwBEWARMRmha4ZJgILHAFlx8wYIAcdthh1RVss8028u6770pjcyt7CUfqPAwaJLLXXvnmx40TWeTjCxV0S++pU2eiWOV9ZksCfrGqLzLOpwmOJaiYxkWpwgZVRcCEKjtUFAMTKmwIVkRVVVXuzTqPPfZY9TluvfVW6dmzZ53nzAIPJuCboG+OBQtECm/ZCWZC5AtngYliLPKZLQn4xShexxifJjiWoGIaF6UKG1QVAROq7FBRDEyosCF4EZMnT5ZmzZrVOs/IkSPF3NWveWSBB/P8feF9+HvvLfLyy8Hlj/oEWWCiGIN8ZksCfjGKE/CXqBIXpSNACU+DiYTNdWwNJhyFi3Taiy++KPvvv3919eZ1mmPGjJEVFj6cnhUezOM5m26al8Hcze/SJVJDy1B2VpioT0oCfn0KleHvfZpQhnKDnYKLMpi00S4ME9FaF6xwmAgmrdqFzWM7Z511lpg37BSOa665Rq6++upMvTHlD38Quf76vALmA7jLLafWsooWxh6Rl99ntuQOviPSPk1wLEHFNC5KFTaoKgImVNmhohiYUGFDRYqYNm2arLPOOjJ79uzq87/11lsyZcoU6dKli6ycgZfFF56/X355kZkzK2KD+pOyRxDw1UBKwM9bwUWpBkk1hcCEGivUFAITaqyoWCFvvvmm7L777rnzm9dr9u3bVzp27JgL/6kfP/0kssoq+S7Nl2Gde27qHdv3xx5BwLenJtAMAj4BPxBa0S/LRh29hd4bgAnvkka74MUXXyyPPvpoLuCfe+650r17dzFv3GmQ+GtmnnxSpHv3vG1ffy2SgZ9rrBhljyDgWwETcjABn4Afkq+Y12ajjtm9MLXDRBhdY13122+/lWHDhuUC/sSJE3NtvPbaa9K5c+dYWyqq7jZtzDPW+aF8y21tydgjCPhFXUTlGETAJ+CXg7MYz8FGHaNrYWuGibD6xrZ6gYe11lpLdt555+ryGzZsKOZVm6uttlpsLRVVr3kffsOG+aEnnCDywANFTcvEIPYIAr4a0An4BHw1MCorhI1amSEKyoEJBSYoKmFRHq677jq56qqrqis89dRTpX///kk+tvPhhyLbbptv9f33RbbfXpExFSyFPYKAX0H8ap+agE/AVwOjskLYqJUZoqAcmFBggqIS6uJh1qxZsvXWW8unn35aXelzzz0nBxxwgKLK/ZRy+uki/fvn15o379e7+n5Wj3MV9ggCvhpyCfgEfDUwKiuEjVqZIQrKgQkFJigqYWk8fPTRR9K2bdta1Zpn9hf9hlxF7TiVUvhMsfkirE8+cVoiqUnsEQR8NUAT8An4amBUVggbtTJDFJQDEwpMUFRCMTzccccd8rvf/a666sMPP1yeeOKJZB7bmTxZpFmzfHuPPipy1FGKDKpAKcUwUYGyyn5Kn9kyM190NWDAAPnHP/4h7733nkyaNEnWXnvt3Id7zDfrbbbZZtYm+jTB+uSKJnBRKjJDSSkwocQIRWXAhCIzFJRSLA9z586VnXbaSUaMGFFdtQn55tWaKRz9+omccUa+k2nTRJo2TaErtx6KZcJt9Xhm+cyWmQn45gs1TKjv1q2btGzZMvdqrj/+8Y8yfvz43Ou6ttxySysCfJpgdWJlg7kolRmioByYUGCCshJgQpkhFS7HlodPPvlENt9881pVT5gwIfeFWbEfq64q8uOP+S6y/OpMWyZi931J9fvMlpkJ+N99991iz/B98803stFGG8lxxx0n99xzjxUvPk2wOrGywVyUygxRUA5MKDBBWQkwocyQCpfjyoP5d/q3v/1tdfX77LOPPP/882JerxnrMWeOyHLL5au/5BKRG2+MtZPS6nZlorSz6pvtM1tmJuAvyUZzV2DjjTeWl156ycppnyZYnVjZYC5KZYYoKAcmFJigrASYUGZIhcsphYf58+eLCfaDBw+u7uK+++6Tk046qcJduZ9+yBCR3XbLz//f/0Qcnhp2P7mSmaUwoaQFL2X4zJaZDvjm8RzzuM55550nt912m5U5Pk2wOrGywVyUygxRUA5MKDBBWQkwocyQCpfjg4cvv/xSWrRoUasT84pN8296jEfXriIDB+YrN1+IVXjLToy9uNTsgwmX82qb4zNbZjbgm7sA++67b+5Dt6NGjZLmzZsv0WfzzXpTpkyp9ffjxo2Trl275ua3atVKGyNlq2fGjBkyfPhwMZ9xaNKkSdnOy4n0KgATer2pVGUwUSnldZ7XJw/mEZ0LL7ywulHzis2HHnpIGjVqpLP5JVRlnr8vfBSwXTuRv/89qvJLLtYnEyUXU8EFxo4dKx06dJAxY8ZI69atS6okyoD/+uuvyx577FFU4yacr7nmmrXGVlVVyWmnnSYPPPCAPPXUU3LIIYcsdS3zpp1evXrVOaZPnz5L/eGgqCIZhAIogAIogAIogAIokGkFzIfHe/Tokd2Ab7704pVXXikKAvM6reUKn2DJfUq9Ss4888zch2pNwDcfsK3v4A7+khXip+766Mne38NE9jyvr2OYqE+hbP19KB7Mb9p3KzzMvlDSZ599NqrHdu6+W+TPf84X/+9/iyy/fDbYCMVEbOpl/g6+q2Em3J9xxhm5cH/vvffKySef7LqU+HxOyrkIBRN5bk6BCcpKgAllhigoByYUmKCohNA8mFB/8MEHV3e8xRZbyMiRI2vd7FMkx2Kl1Hz+PiuvzgzNhGa/a9bmM1tG+YiOi1GFO/f9+/eXu+++u9artlzW82mCy/m1zOGi1OKEnjpgQo8XWiqBCS1O6KijHDyYf/PNTTzzm/rCYb775tJLL9UhwlKqmDFDZKWV8gNuvVWkZ0/1JZdcYDmYKLnIMizgM1tmJuCbZ5r69u0rp5xyymLhfpVVVpE2bdpYWefTBKsTKxvMRanMEAXlwIQCE5SVABPKDKlwOeXkYerUqYt9Du/999+X7bffvsIqLP30//qXSLdu+TETJ4qsv77qcksurpxMlFxswAV8ZsvMBHzzhVbmtZh1HbvvvruYD+7aHD5NsDmvtrFclNocqXw9MFF5D7RVABPaHKlsPZXgYdCgQbLXXntVN77uuuuK+YZczW9/Mz+DfPBBvuTUX51ZCSYqexXUfXaf2TIzAd+3kT5N8F1bOdfjoiyn2nGcCybi8KmcVcJEOdXWf65K8WAe2zn//PPFvP2ucFx22WVyww03qBTNhPrCl/QeeaTIY4+pLNNLUZViwkvxHhfxmS0J+I7G+DTBsQQV07goVdigqgiYUGWHimJgQoUNaoqoNA/Tp0/Pvd7a/N/C8dZbb8nOO++sRqNCIaNHi2y1Vf7/GzZMpGNHdSV6KajSTHhpwsMiPrMlAd/REJ8mOJagYhoXpQobVBUBE6rsUFEMTKiwQU0RWnh4++23a4V687jOpEmTpGnTpmq0MoX06CHSt2++pLlzRSL7Dq+itNTCRFHFBhzkM1sS8B2N8mmCYwkqpnFRqrBBVREwocoOFcXAhAob1BShjYcrr7xSevfuXa3P2WefnXspR4Oa76ussHqFUtZbT2TSpAoXE+D02pgI0GJRS/rMlgT8oiRffJBPExxLUDGNi1KFDaqKgAlVdqgoBiZU2KCmCI08/PLLL9KqVSuZaF5Zs/AwX6hZ84O5lRRw6lSRNdfMV3D//SInnljJavyfWyMT/rusf0Wf2ZKAX7/edY7waYJjCSqmcVGqsEFVETChyg4VxcCEChvUFKGZhw8++GCxV2iab8hdY401Kq6fCfaF7+c0gX/11StekrcCNDPhrckiFvKZLQn4RQhe1xCfJjiWoGIaF6UKG1QVAROq7FBRDEyosEFNETHw8Kc//anWl2Idd9xx8uCDD1b8sZ111hH59tu8lSl9y20MTJTjAvKZLQn4jo75NMGxBBXTuChV2KCqCJhQZYeKYmBChQ1qioiFh9mzZ0u7du1ktHmVzcLj6aeflkMOOaRiWpoP2TZunD/9+eeL3HFHxUrxeuJYmPDadB2L+cyWBHxHt3ya4FiCimlclCpsUFUETKiyQ0UxMKHCBjVFxMZD4d/7mgJ+9dVXYr4sqxLHO++I7LRT/sxjxoi0bl2JKvyeMzYm/Hb/62o+syUB39ElnyY4lqBiGhelChtUFQETquxQUQxMqLBBTRGx8vCXv/xFzjnnnGodu3btKuaO/jLLLFN2bbt3F3nyyfxp588XqUAJXnuOlQmvIoiIz2xJwHd0x6cJjiWomMZFqcIGVUXAhCo7VBQDEypsUFNEzDzMmzdPdt99dzHv0C8cDz/8sBxzzDFl1dc8f18I9TvsIDJ8eFlP7/1kMTPhUwyf2ZKA7+iMTxMcS1AxjYtShQ2qioAJVXaoKAYmVNigpogUePjss8+kZcuWtTT94osvpEWLFmXT2bwPf4MN8qcbOFDkwAPLdmrvJ0qBCR+i+MyWBHxHR3ya4FiCimlclCpsUFUETKiyQ0UxMKHCBjVFpMSDebPOiTVeSm/u7g8aNEgaNmxYFr1vuUXkoovyp5oxQ2TFFctyWu8nSYmJUsTxmS0J+I5O+DTBsQQV07goVdigqgiYUGWHimJgQoUNaopIjYcFCxbIQQcdJC+88EK1xv369ZPf/va3ZdG85hfuxvrqzNSYcDXeZ7Yk4Du64NMExxJUTOOiVGGDqiJgQpUdKoqBCRU2qCkiVR4mTZokGxSemVmo9tixY2XzzTcPqv3Mmb/eub/hBpHLLgt6uiCLp8qErVg+syUB31b9heN9muBYgoppXJQqbFBVBEyoskNFMTChwgY1RaTOw1NPPSWHH354td7bbrutDB8+XBoXXmAfwIkXXxTZf//8wuPHi2y4YYCTBFwydSaKlc5ntiTgF6v6IuN8muBYgoppXJQqbFBVBEyoskNFMTChwgY1RWSBh6qqqtybdR577LFq3W+77Tb53e9+F8yHXXYRGTo0v/yCBSI1H90JdlJPC2eBiWKk8pktCfjFKF7HGJ8mOJagYhoXpQobVBUBE6rsUFEMTKiwQU0RWeLhu+++k7XXXruW9h9++KG0bdvWux81X51pvmz36ae9nyLYglliYmki+syWBHxHXH2a4FiCimlclCpsUFUETKiyQ0UxMKHCBjVFZJGHF198UfYvPEMjIhtvvLGMHj1aVlhhBa++jB0rssUW+SWHDBExd/VjOLLIRF2++MyWejeyNwAAIABJREFUBHxH8n2a4FiCimlclCpsUFUETKiyQ0UxMKHCBjVFZJUH89jOGWecIf3796/2olevXnLVVVd59ebii0Vuvjm/5Jw5Issu63X5IItllYlFxfSZLQn4jqj6NMGxBBXTuChV2KCqCJhQZYeKYmBChQ1qisg6D9OmTcs9tjPHpO+Fh/kQ7g7mK2k9HYXn71dfXWTqVE+LBlwm60wUpPWZLQn4jsD6NMGxBBXTuChV2KCqCJhQZYeKYmBChQ1qioCHvBVvvvmmmC/GKhxrrLGGmG/DXWmllUr2ato0kdVWyy9jfmFw2mklLxl0AZjIy+szWxLwHZH1aYJjCSqmcVGqsEFVETChyg4VxcCEChvUFAEPv1phHtu56KKL5NZbb63+w549e8ott9wiDUp8Dc4jj4gce2x+2cmTRdZcc3EEzJ8PGCDy008i5gU/ZfoC3sUKgQkCvpoNioCft4KLUg2SagqBCTVWqCkEJtRYoaIQeFjchp9//jn3wdspU6ZU/+Vrr70mnTt3LsmzjTbKvxffHIVvuTWP7JhQ/8QTIq+9JjJ/fv7vH39c5IgjSjqd82SYIOA7w+N7IgGfgO+bqVTWY6NOxUl/fcCEPy1TWAkeluziu+++Kx07dqwe0LBhQ5k8ebKsVnjepggAjL5z586V1VdfPRfeGzXKT9p2WxHzxs5XX82HevMLgkLoJ+AXIWwZhvjMljyi42iYTxMcS1AxjY1ahQ2qioAJVXaoKAYmVNigpgh4qN+Ka6+9Vq6++urqgaeddpr069ev3sd2/ve//0m3bt1kxx13lFtv/Zv8618iN9wg8skn+aUWDfU1K3nqKZFDD62/thAjYCKvqs9sScB3JNWnCY4lqJjGRanCBlVFwIQqO1QUAxMqbFBTBDwUZ8WsWbNkq622knHjxlVPeP7552u9T7/mSs8995wcffQx8tNP03N/3LDhWzJ//s5LDfU155svxjJfkFWJAyYI+JXgrs5zEvDzsnBRqkFSTSEwocYKNYXAhBorVBQCD3Y2fPTRR4t98+23334rzZo1yy1kPqh7ww03yJVX/mHhwlXmXr2IbCUi/xaRhc/o1HPagQNFDjzQrjZfo2GCgO+LpZLXIeAT8EuGKNEF2KgTNbaEtmCiBPESnAoPbqbefvvtYt6wUzi6d+8u99xzj5x88skywHxqts7jdhG5oKgTvviiyL77FjXU+yCYIOB7h8p1QQI+Ad+VndTnsVGn7rB9fzBhr1nKM+DB3V3z5VidOnWSf//b3Jmv7zB38ZuIyFgRWa++wfLKKyJ77VXvsCADYIKAHwQsl0UJ+AR8F26yMIeNOgsu2/UIE3Z6pT4aHkp3+M4775Tzzz+/yIWOFpFH6h1rXplZ4ls56z3HkgbABAHfGR7fEwn4BHzfTKWyHht1Kk766wMm/GmZwkrw4O6ied7+xhtvlCuuuCK3iPn/izsGiUiXpQ59802RXXctbjXfo2CCgO+bKef1CPgEfGd4Ep/IRp24wQ7twYSDaAlPgQc3c82XYZnn7Z988kmrBcw34q644uYyY8Z/RKTxEue+/bZIp05WS3sbDBMEfG8wlboQAZ+AXypDqc5no07VWfe+YMJduxRnwoO9q59//rl07dpVRo8ebT954YwzzvijjBlzqQwZUvf78N99V6RDB+flS5oIEwT8kgDyOZmAT8D3yVNKa7FRp+Smn15gwo+OqawCD/ZOPvvss3LwwQfnJpo78sU/mpM/l5mz/PLLy3//+7GMGbOhXHaZyIcf1g76778vsv329rX5mAETBHwfHHlZg4BPwPcCUoKLsFEnaGqJLcFEiQImNh0e7A01j+fcddddMmrUKDHvxTd38s0bdWyP3/zmN7lXai5YIPLEEyJXXilS+B4tE/jbtrVd0c94mCDg+yHJwyoEfAK+B4ySXIKNOklbS2oKJkqSL7nJ8FC6pfPmzct9w20h8JvQb/4zf7bApPeFR113+2t+G+7cuSL33Seyxhoihx6av6NfiQMmCPiV4K7OcxLwCfhqYFRWCBu1MkMUlAMTCkxQVAI8hDNj5syZYvKJCfuF8P+f//xHvv766+qTXnLJJbk38Wg6YIKAr4ZHAj4BXw2Mygpho1ZmiIJyYEKBCYpKgIfym/H999/nAv+YMWPkhBNOkBVXXLH8RSzljDBBwFcDJAGfgK8GRmWFsFErM0RBOTChwARFJcCDIjOUlAITBHwlKEruV2Bt2rTJ/TTcunVrNXWVuxAuynIrrv98MKHfo3JXCBPlVlz3+eBBtz+VqA4mCPiV4K7OcxLwuYOvBkZlhbBRKzNEQTkwocAERSXAgyIzlJQCEwR8JShyB79gBBelGiTVFAITaqxQUwhMqLFCRSHwoMIGVUXABAFfDZDcwecOvhoYlRXCRq3MEAXlwIQCExSVAA+KzFBSCkwQ8JWgyB187uCrQVFdIWzU6iypeEEwUXELVBUAD6rsUFEMTBDwVYBoiuAOPnfw1cCorBA2amWGKCgHJhSYoKgEeFBkhpJSYIKArwRFAj538NWgqK4QNmp1llS8IJiouAWqCoAHVXaoKAYmCPgqQOQO/q82cFGqQVJNITChxgo1hcCEGitUFAIPKmxQVQRMEPDVAMkjOnkruCjVIKmmEJhQY4WaQmBCjRUqCoEHFTaoKgImCPhqgCTgE/DVwKisEDZqZYYoKAcmFJigqAR4UGSGklJggoCvBEWewS8YwUWpBkk1hcCEGivUFAITaqxQUQg8qLBBVREwQcBXAyR38LmDrwZGZYWwUSszREE5MKHABEUlwIMiM5SUAhMEfCUocgefO/hqUFRXCBu1OksqXhBMVNwCVQXAgyo7VBQDEwR8FSCaIriDzx18NTAqK4SNWpkhCsqBCQUmKCoBHhSZoaQUmCDgK0GRgM8dfDUoqiuEjVqdJRUvCCYqboGqAuBBlR0qioEJAr4KELmD/6sNXJRqkFRTCEyosUJNITChxgoVhcCDChtUFQETBHw1QPKITt4KLko1SKopBCbUWKGmEJhQY4WKQuBBhQ2qioAJAr4aIAn4BHw1MCorhI1amSEKyoEJBSYoKgEeFJmhpBSYIOArQZFn8AtGcFGqQVJNITChxgo1hcCEGitUFAIPKmxQVQRMEPDVAMkdfO7gq4FRWSFs1MoMUVAOTCgwQVEJ8KDIDCWlwAQBXwmK3MHnDr4aFNUVwkatzpKKFwQTFbdAVQHwoMoOFcXABAFfBYimCO7gcwdfDYzKCmGjVmaIgnJgQoEJikqAB0VmKCkFJgj4SlAk4HMHXw2K6gpho1ZnScULgomKW6CqAHhQZYeKYmCCgK8CRO7g/2oDF6UaJNUUAhNqrFBTCEyosUJFIfCgwgZVRcAEAV8NkDyik7eCi1INkmoKgQk1VqgpBCbUWKGiEHhQYYOqImCCgK8GSAI+AV8NjMoKYaNWZoiCcmBCgQmKSoAHRWYoKQUmCPhKUOQZ/IIRXJRqkFRTCEyosUJNITChxgoVhcCDChtUFQETBHw1QHIHnzv4amBUVggbtTJDFJQDEwpMUFQCPCgyQ0kpMEHAV4Iid/C5g68GRXWFsFGrs6TiBcFExS1QVQA8qLJDRTEwQcBXAaIpgjv43MFXA6OyQtiolRmioByYUGCCohLgQZEZSkqBCQK+EhQJ+NzBV4OiukLYqNVZUvGCYKLiFqgqAB5U2aGiGJgg4KsAkTv4v9rARakGSTWFwIQaK9QUAhNqrFBRCDyosEFVETBBwFcDJI/o5K3golSDpJpCYEKNFWoKgQk1VqgoBB5U2KCqCJgg4KsBkoBPwFcDo7JC2KiVGaKgHJhQYIKiEuBBkRlKSoEJAr4SFHkGv2AEF6UaJNUUAhNqrFBTCEyosUJFIfCgwgZVRcAEAV8NkNzB5w6+GhiVFcJGrcwQBeXAhAITFJUAD4rMUFIKTBDwlaDIHXzu4KtBUV0hbNTqLKl4QTBRcQtUFQAPquxQUQxMEPBVgGiK4A4+d/DVwKisEDZqZYYoKAcmFJigqAR4UGSGklJggoCvBEUCPnfw1aCorhA2anWWVLwgmKi4BaoKgAdVdqgoBiYI+CpA5A7+rzZwUapBUk0hMKHGCjWFwIQaK1QUAg8qbFBVBEwQ8L0BedJJJ8kDDzwghxxyiDz99NPW6/KITl4yLkprdJKfABPJW2zdIExYS5b0BHhI2l6n5mCCgO8EzqKTXnnlFfnNb34jDRs2lD322IOAX4KqXJQliJfoVJhI1NgS2oKJEsRLcCo8JGhqiS3BBAG/RIREfv75Z9lqq62kR48e0qdPH9l2220J+CWoykVZgniJToWJRI0toS2YKEG8BKfCQ4KmltgSTBDwS0RIcsF+6NCh8t5770nLli0J+CUqykVZooAJToeJBE0tsSWYKFHAxKbDQ2KGemgHJgj4JWH09ttvS+fOneWdd96Rdu3ayUYbbUTAL0lRnsEvUb4kp7NRJ2lrSU3BREnyJTcZHpKztOSGYIKA7wzR7Nmzc2F+//33l9tuuy23TrEBf/LkyTJlypRa5x43bpx07do195uAVq1aOdcV+8QZM2bI8OHDpWPHjtKkSZPY26F+DwrAhAcRE1sCJhIztMR24KFEAROcDhN5U8eOHSsdOnSQMWPGSOvWrUtyukFVVVVVSStUYPLrr7+e+3BsMYcJ52uuuaZcfvnl8sgjj8jo0aOrg2ixAf+aa66RXr161Xk68xx/8+bNiymFMSiAAiiAAiiAAiiAAihQpwITJkzIPUqe2YD/7bffinkTTjFH9+7d5bPPPpO2bdvmXot5wAEHVE8zf7b11lvLww8/LCuuuKI0bty4ziW5g79kpfmpuxgKszUGJrLldzHdwkQxKmVnDDxkx+tiO4WJvFKZv4NfLDCFceY99+a1mEs77rrrLjnzzDOLXpr34Oel4rm5opHJzECYyIzVRTcKE0VLlYmB8JAJm62ahIm8XD6zZZSP6FhRI5J7fn7UqFGLTTvqqKNk0003leuvv14233xzWW+99Ype2qcJRZ9U4UAuSoWmVLgkmKiwAQpPDxMKTalgSfBQQfGVnhomCPhe0Sz2Gfy6TkrA5w6+VxgTWoyNOiEzPbUCE56ETGQZeEjESI9twAQB3yNOxb9Fh4C/ZNm5KL0imcRiMJGEjV6bgAmvcka/GDxEb6H3BmCCgO8dKtcFuYPPHXxXdlKfx0adusP2/cGEvWYpz4CHlN116w0mCPhu5ASYRcAn4AfAKokl2aiTsNFrEzDhVc7oF4OH6C303gBMEPC9Q+W6IAGfgO/KTurz2KhTd9i+P5iw1yzlGfCQsrtuvcEEAd+NnACzCPgE/ABYJbEkG3USNnptAia8yhn9YvAQvYXeG4AJAr53qFwXJOAT8F3ZSX0eG3XqDtv3BxP2mqU8Ax5SdtetN5gg4LuRE2AWAZ+AHwCrJJZko07CRq9NwIRXOaNfDB6it9B7AzBBwPcOleuCBHwCvis7qc9jo07dYfv+YMJes5RnwEPK7rr1BhMEfDdyAswi4BPwA2CVxJJs1EnY6LUJmPAqZ/SLwUP0FnpvACYI+N6hcl2QgE/Ad2Un9Xls1Kk7bN8fTNhrlvIMeEjZXbfeYIKA70ZOgFkEfAJ+AKySWJKNOgkbvTYBE17ljH4xeIjeQu8NwAQB3ztUrgsS8An4ruykPo+NOnWH7fuDCXvNUp4BDym769YbTBDw3cgJMIuAT8APgFUSS7JRJ2Gj1yZgwquc0S8GD9Fb6L0BmCDge4fKdUECPgHflZ3U57FRp+6wfX8wYa9ZyjPgIWV33XqDCQK+GzkBZhHwCfgBsEpiSTbqJGz02gRMeJUz+sXgIXoLvTcAEwR871C5LkjAJ+C7spP6PDbq1B227w8m7DVLeQY8pOyuW28wQcB3IyfALAI+AT8AVkksyUadhI1em4AJr3JGvxg8RG+h9wZggoDvHSrXBQn4/9/e/cf6WP5xHH9jTs3Zjv4QVjskYUtFk59tSIbkKNPZFDaFMCNbzK9CR+VXhGotnLZj+IdkoyaMsDC/phXFxgjL7yHa1I7z3XXVOd/DIee+7us+n/t+3897a3337VzXud+P99t9XufzuT83Ar7r7Ghfx4Vae4eD18dMBDfTvIJ50Nxdt9qYCQK+2+REsIqAT8CPYKxUbMmFWkUbvRbBTHjlTPxmzEPiW+i9AGaCgO99qFw3JOAT8F1nR/s6LtTaOxy8PmYiuJnmFcyD5u661cZMEPDdJieCVQR8An4EY6ViSy7UKtrotQhmwitn4jdjHhLfQu8FMBMEfO9D5bohAZ+A7zo72tdxodbe4eD1MRPBzTSvYB40d9etNmaCgO82ORGsIuAT8CMYKxVbcqFW0UavRTATXjkTvxnzkPgWei+AmSDgex8q1w0J+AR819nRvo4LtfYOB6+PmQhupnkF86C5u261MRMEfLfJiWAVAZ+AH8FYqdiSC7WKNnotgpnwypn4zZiHxLfQewHMBAHf+1C5bkjAJ+C7zo72dVyotXc4eH3MRHAzzSuYB83ddauNmSDgu01OBKsI+AT8CMZKxZZcqFW00WsRzIRXzsRvxjwkvoXeC2AmCPjeh8p1QwI+Ad91drSv40KtvcPB62MmgptpXsE8aO6uW23MBAHfbXIiWEXAJ+BHMFYqtuRCraKNXotgJrxyJn4z5iHxLfReADNBwPc+VK4bEvAJ+K6zo30dF2rtHQ5eHzMR3EzzCuZBc3fdamMmCPhukxPBKgI+AT+CsVKxJRdqFW30WgQz4ZUz8ZsxD4lvofcCmAkCvvehct2QgE/Ad50d7eu4UGvvcPD6mIngZppXMA+au+tWGzNBwHebnAhWEfAJ+BGMlYotuVCraKPXIpgJr5yJ34x5SHwLvRfATBDwvQ+V64YEfAK+6+xoX8eFWnuHg9fHTAQ307yCedDcXbfamAkCvtvkRLCKgE/Aj2CsVGzJhVpFG70WwUx45Uz8ZsxD4lvovQBmgoDvfahcNyTgE/BdZ0f7Oi7U2jscvD5mIriZ5hXMg+buutXGTBDw3SYnglUEfAJ+BGOlYksu1Cra6LUIZsIrZ+I3Yx4S30LvBTATBHzvQ+W6IQGfgO86O9rXcaHW3uHg9TETwc00r2AeNHfXrTZmgoDvNjkRrCLgE/AjGCsVW3KhVtFGr0UwE145E78Z85D4FnovgJkg4HsfKtcNf/zxR2nZsqWsXbtWGjdu7LpN4tddv35ddu3aJe3atZPs7OzE10MB4QWYifCG2nZgJrR1NFw9zEM4P42rmYl/unr06FHJy8uTAwcOSIsWLUK1ulpJSUlJqB1SunjdunW2CRwIIIAAAggggAACCPgSMC8e9+rVK9R2BHxHvqtXr8q2bdskNzdXsrKyHHdJ/rLS3zbT/k5G8jvprwJmwp+llp2YCS2d9FMH8+DHUdMuzMQ/3fzrr7/k5MmT0rFjR8nJyQnVYgJ+KD4W81kEZuB2AWaCmWAmmIH/EuAawXxwjYh+Bgj40Rur/g5cqFW316k4ZsKJTfUiZkJ1ewMXxzwEJlO/gJnw32ICvn/TVO3IH8pUtbtSxTITlWJK1RcxE6lq9z2LZR7uSZS6L2Am/LecgO/fNFU78ocyVe2uVLHMRKWYUvVFzESq2n3PYpmHexKl7guYCf8tJ+D7N03VjufPn5fPPvtMRo4cKQ8++GCqaqfYOwswE0zG7QLMBDNRXoB5YB64RkQ/AwT86I35DggggAACCCCAAAIIVJkAAb/KqPlGCCCAAAIIIIAAAghEL0DAj96Y74AAAggggAACCCCAQJUJEPCrjJpvhAACCCCAAAIIIIBA9AIE/OiN+Q4IIIAAAggggAACCFSZAAG/yqjT+Y0GDRokRUVF8tJLL8maNWvSiZDyqlevXi0rV66UPXv2yOnTp6VevXry7LPPyrRp06RJkyYp19Fb/h9//CETJ06UVatWyZUrV+Spp56SgoIC6d69u96iqeyuAps3b5Zly5bJjh075OTJk/LAAw/IM888I1OmTJFWrVohh4D9mfDee+9JixYt5MCBA4iEFCDghwRk+d0FNm7cKH369JEaNWrIc889R8BP6bC0bdvWhvqXX35ZGjduLKdOnZIZM2bIiRMnZNeuXdK8efOUyuguu2vXrvaH9OzZs6Vhw4ayaNEiMb/smetC586ddRdPdRUE8vPz5cKFC2L+/fjjj8vFixdl3rx5snv3bvnuu++kS5cuqKVY4ODBg/YXvtq1a0v9+vUJ+B5mgYDvAZEtKgpcu3ZNnnjiCRk1apR88skn0rJlSwJ+Sgfl3LlzUrdu3VuqP3PmjDzyyCMyYMAAWbJkSUpl9Jb97bffyosvvmgDvfkl3xw3b960r9TWrFnThjqOdAnc6Trw559/ymOPPWYD/6ZNm9IFQrVlAuba0KFDB2ndurX89NNPcvnyZQK+h/kg4HtAZIuKAibY//DDD/a2DPOqLQGfKbldoGnTptKoUSP76h2HLoGhQ4fa27IuXbok1atXLytu7ty5MnbsWPsuzsMPP6yraKpxEujWrZt9N+/w4cNO61mUfAFzXfj444/l0KFD0rt3bwK+p5YS8D1Bss3/Bcw9luYt+J07d9pX7MwrtQR8JqS8gPmBbn7xGz16tH2bnkOXQPv27aVatWr2fuvyh/llrkePHrJ+/XruxdfVcqdqzOc0zO1b5ueFebeHI30Cx44dkyeffFKWL19ub+M0s8Ar+H7mgIDvx5Fd/hW4ceOGDfMvvPBCWXAj4DMe5QWKi4ttuDPv7vz888+Sm5sLkDIB8+6M+WfdunW3VGZ63qZNG1mxYoW8+uqryqqmnKAC5iEMJtiZz+LwQdugesn/+pKSEjGf1TH33Zf+gkfA99dXAr4/S3U7ff/99/bDsZU5zp8/L3Xq1JFJkybZH97mAzPZ2dl2KQG/MoLJ+BqXmShfmbmgDxkyxD5Z6auvvrJPV+LQJ2DCfbNmzWTt2rUEfH3t9VKReVqKeWrKp59+KiNHjvSyJ5skS8B88H7cuHH21pzSW/YI+P56SMD3Z6lup7Nnz9onXlTmME9GMG+1mUfhmfDWs2fPsmXm/yt9C65WrVqSlZVVmS35mhgKBJ2J++67r6wKE+6HDx9uP1RrZsR8wJZDpwC36Ojsq6+qPvjgA3nnnXfkww8/tI9S5UifgHmikvmA9YQJE+zPhdKjV69e9rG627dvl/vvv9/+w+EmQMB3c2PVHQTMc+5Ln5hxN6DPP//8lj/MQKZDwIT7YcOG2XBfWFgor7/+ejoKT2mV5l0a8w6NeRRi+Q/Zms9bvP3223zINqVzYcouDffm1fupU6emWCLdpZtH6D799NP/iTB+/HiZOXNmuqFCVE/AD4HH0lsFzG/k5p7q249+/frZ39Tff/99e1/uQw89BF2KBEpfuV+8eLF88cUXYp6wwqFb4JtvvhHzSpz5pb/0NizzKDzznGvz92KYe/E50idQGu7Nq/fTp09PHwAVlwmYR2nv3bu3gsiYMWPE/DfzYlCDBg3k0UcfRc1RgIDvCMeyygtwD37lrTR+pXlkqrnP9o033qgQ7nNycuwzsDl0CZhf6p5//nn7TOs5c+bYH9TmFzzz6MwNGzbwlxrpanelqil998Y8Ren2V+7NrXz3ejW3Ut+EL0q8APfg+2shAd+fJTvdRYCAn+7RMP03j8W809GpUycxH9zl0Cdw9epVe3/tqlWrxPxv8zmcgoIC+4QtjvQJmOC2devWOxZuHpV5/Pjx9KFQcQUBAr6/oSDg+7NkJwQQQAABBBBAAAEEMi5AwM94CzgBBBBAAAEEEEAAAQT8CRDw/VmyEwIIIIAAAggggAACGRcg4Ge8BZwAAggggAACCCCAAAL+BAj4/izZCQEEEEAAAQQQQACBjAsQ8DPeAk4AAQQQQAABBBBAAAF/AgR8f5bshAACCCCAAAIIIIBAxgUI+BlvASeAAAIIIIAAAggggIA/AQK+P0t2QgABBBBAAAEEEEAg4wIE/Iy3gBNAAAEEEEAAAQQQQMCfAAHfnyU7IYAAAggggAACCCCQcQECfsZbwAkggAACyReYNm2aTJ8+XX755Rdp2rRpWUHFxcWSl5cnW7dulW3btkmrVq2SXywVIIAAAjEXIODHvEGcHgIIIJAEgUuXLknDhg0lPz9fvvzyy7JTHjFihCxatEi+/vpr6d27dxJK4RwRQACBxAsQ8BPfQgpAAAEE4iEwduxYWbhwoRw9elRyc3Plo48+knHjxsmCBQtk9OjR8ThJzgIBBBBIgQABPwVNpkQEEECgKgR+//13adSokbz55pvSuXNneeWVV2TUqFE24HMggAACCFSdAAG/6qz5TggggIB6geHDh8vSpUttnV27dpU1a9ZI9erV1ddNgQgggECcBAj4ceoG54IAAggkXGDLli3SpUsXadasmezbt0+ys7MrVDR16lRZuXKl/Prrr7JixQrp169fwqvm9BFAAIF4CRDw49UPzgYBBBBIrID5oG379u3lyJEjkpOTI7/99pvUrl27Qj3Lli2TevXqybvvvitjxowh4Ce245w4AgjEVYCAH9fOcF4IIIBAggRu3Lhhb8k5ePCgFBYWSt++fe1jMydPnnzXKsx9+uaWHl7BT1CjOVUEEEiEAAE/EW3iJBFAAIH4CpSUlMhrr70mq1evlg0bNkinTp1swN++fbscP35catWqdceTJ+DHt6ecGQIIJFuAgJ/s/nH2CCCAQMYFJkyYILNmzRJz603//v3t+ezfv9/+pVbz58+Xt956i4Cf8S5xAgggkCYBAn6auk2tCCCAgGcB85dYDRs2TAoKCuw99eWPHj16yKFDh+xz8WvWrFnhO/MKvudmsB0CCCDwrwABn1FAAAEEEHASWL9+veTl5cnAgQNv+dtrSzczt+h07NhRlixZIoMHDybgOymzCAEEEAguQMAPbsYKBBBAAIEQAn///bcUFxdLt27dZOjQoZKGNvP2AAAB00lEQVSfny9ZWVk8Lz+EKUsRQACB8gIEfOYBAQQQQKBKBQYNGiRFRUW3fE/z/Hxzyw4HAggggEB4AQJ+eEN2QAABBBBAAAEEEEAgNgIE/Ni0ghNBAAEEEEAAAQQQQCC8AAE/vCE7IIAAAggggAACCCAQGwECfmxawYkggAACCCCAAAIIIBBegIAf3pAdEEAAAQQQQAABBBCIjQABPzat4EQQQAABBBBAAAEEEAgvQMAPb8gOCCCAAAIIIIAAAgjERoCAH5tWcCIIIIAAAggggAACCIQXIOCHN2QHBBBAAAEEEEAAAQRiI0DAj00rOBEEEEAAAQQQQAABBMILEPDDG7IDAggggAACCCCAAAKxESDgx6YVnAgCCCCAAAIIIIAAAuEFCPjhDdkBAQQQQAABBBBAAIHYCBDwY9MKTgQBBBBAAAEEEEAAgfACBPzwhuyAAAIIIIAAAggggEBsBAj4sWkFJ4IAAggggAACCCCAQHgBAn54Q3ZAAAEEEEAAAQQQQCA2AgT82LSCE0EAAQQQQAABBBBAILwAAT+8ITsggAACCCCAAAIIIBAbAQJ+bFrBiSCAAAIIIIAAAgggEF6AgB/ekB0QQAABBBBAAAEEEIiNwP8AiANzTZxlCpMAAAAASUVORK5CYII=\" width=\"640\">"
      ],
      "text/plain": [
       "<IPython.core.display.HTML object>"
      ]
     },
     "metadata": {},
     "output_type": "display_data"
    },
    {
     "data": {
      "application/vnd.jupyter.widget-view+json": {
       "model_id": "4d294c5bd8384f32a03e9526088e8f79",
       "version_major": 2,
       "version_minor": 0
      },
      "text/plain": [
       "interactive(children=(FloatSlider(value=1.0, description='v1', max=5.0, min=-5.0), FloatSlider(value=2.0, desc…"
      ]
     },
     "metadata": {},
     "output_type": "display_data"
    }
   ],
   "source": [
    "fig, ax = plt.subplots()\n",
    "\n",
    "\n",
    "@interact(v1=(-5,5,0.1), v2=(-5,5,0.1), w1=(-5,5,0.1), w2=(-5,5,0.1))\n",
    "def update(v1=1, v2=2, w1=2, w2=0.5):\n",
    "    ax.cla()\n",
    "    u1, u2 = v1+w1, v2+w2\n",
    "    ax.arrow(0, 0, v1*0.9, v2*0.9, head_width=0.25, head_length=0.25, fc='g', ec='g')\n",
    "    ax.arrow(v1, v2, w1*0.9, w2*0.9, head_width=0.25, head_length=0.25, fc='b', ec='b')\n",
    "    ax.arrow(0, 0, u1*0.9, u2*0.9, head_width=0.25, head_length=0.25, fc='k', ec='k')\n",
    "    fig.canvas.draw_idle()\n",
    "    plt.xlim(-5, 5)\n",
    "    plt.ylim(-5, 5)\n",
    "    plt.xlabel('$X_1$')\n",
    "    plt.ylabel('$X_2$')\n",
    "    plt.title('2D Vector')\n",
    "    plt.grid(True)\n",
    "    fig.tight_layout()"
   ]
  },
  {
   "cell_type": "markdown",
   "metadata": {
    "cell_style": "split",
    "slideshow": {
     "slide_type": "subslide"
    }
   },
   "source": [
    "### Scalar Vector Multiplication\n",
    "\n",
    "$$  \\alpha \\vec{V} \\quad = \\quad [\\:\\alpha\\:  v_1, \\:\\alpha\\: v_2, \\: _\\cdots, \\: \\alpha\\: v_n ] $$\n",
    "\n",
    "\n",
    "+ Changes Magnitude\n",
    "+ Does not change direction\n",
    "  + Can flip if $\\alpha$ is negative"
   ]
  },
  {
   "cell_type": "markdown",
   "metadata": {
    "cell_style": "split",
    "slideshow": {
     "slide_type": "-"
    }
   },
   "source": [
    "<img src=\"vector_span.png\" width=\"75%\">"
   ]
  },
  {
   "cell_type": "markdown",
   "metadata": {
    "slideshow": {
     "slide_type": "notes"
    }
   },
   "source": []
  },
  {
   "cell_type": "markdown",
   "metadata": {
    "cell_style": "split",
    "slideshow": {
     "slide_type": "subslide"
    }
   },
   "source": [
    "### Dimension and Span\n",
    "\n",
    "+ How many dimentions does a vector occupy?\n",
    "\n",
    "+ How much of that space can that vector reach?\n",
    "\n",
    "+ What is the Volume?"
   ]
  },
  {
   "cell_type": "markdown",
   "metadata": {
    "cell_style": "split"
   },
   "source": [
    "<img src=\"vector_span.png\" width=\"75%\">"
   ]
  },
  {
   "cell_type": "markdown",
   "metadata": {
    "cell_style": "split",
    "slideshow": {
     "slide_type": "fragment"
    }
   },
   "source": [
    "+ What about 2 vectors?"
   ]
  },
  {
   "cell_type": "code",
   "execution_count": null,
   "metadata": {
    "slideshow": {
     "slide_type": "notes"
    }
   },
   "outputs": [],
   "source": []
  },
  {
   "cell_type": "markdown",
   "metadata": {
    "cell_style": "split",
    "slideshow": {
     "slide_type": "subslide"
    }
   },
   "source": [
    "### Vector Multiplication\n",
    "\n",
    "+ Elementwise\n",
    "\n",
    "\n",
    "+ Outter product\n",
    "\n",
    "\n",
    "+ Inner (Dot) product\n",
    "\n"
   ]
  },
  {
   "cell_type": "markdown",
   "metadata": {
    "cell_style": "split",
    "slideshow": {
     "slide_type": "-"
    }
   },
   "source": [
    "<img src=\"vector_multhing.png\" width=\"100%\">\n",
    "\n",
    "This kind of funny?"
   ]
  },
  {
   "cell_type": "markdown",
   "metadata": {
    "slideshow": {
     "slide_type": "notes"
    }
   },
   "source": []
  },
  {
   "cell_type": "markdown",
   "metadata": {
    "cell_style": "split",
    "slideshow": {
     "slide_type": "subslide"
    }
   },
   "source": [
    "#### Elementwise\n",
    "\n",
    "\n",
    "  + Multiply each respective element\n",
    "    + Store then in the respective place\n",
    "  + Requires vectors be same size\n",
    "  + First one thinks off\n",
    "    + After scalar"
   ]
  },
  {
   "cell_type": "markdown",
   "metadata": {
    "cell_style": "split",
    "slideshow": {
     "slide_type": "-"
    }
   },
   "source": [
    "\n",
    "$$ \\vec{W} \\odot \\vec{V} = \\quad = \\quad [\\:v_1 \\: w_1, \\:v_2 \\: w_2, \\: _\\cdots, \\: v_n \\: w_n ] $$\n"
   ]
  },
  {
   "cell_type": "code",
   "execution_count": null,
   "metadata": {
    "slideshow": {
     "slide_type": "notes"
    }
   },
   "outputs": [],
   "source": []
  },
  {
   "cell_type": "markdown",
   "metadata": {
    "cell_style": "split",
    "slideshow": {
     "slide_type": "subslide"
    }
   },
   "source": [
    "#### Outer Product\n",
    "\n",
    "\n",
    "\n",
    "+ Returns a Matrix\n",
    "\n",
    "+ Directions of rows and columns?\n",
    "  + Think span and scalar multiplication\n",
    " "
   ]
  },
  {
   "cell_type": "markdown",
   "metadata": {
    "cell_style": "split",
    "slideshow": {
     "slide_type": "-"
    }
   },
   "source": [
    "$$ \\vec{W} \\otimes \\vec{V} \\quad  = \\quad \\begin{bmatrix} \n",
    "    \\:v_1 \\: w_1 &\\:v_2 \\: w_1 &  \\dots & v_n \\: w_1 \\\\\n",
    "    \\:v_1 \\: w_2 &\\:v_2 \\: w_2 &   \\\\\n",
    "    \\vdots & & \\ddots & \\vdots \\\\\n",
    "    \\:v_1 \\: w_m & v_2 \\: w_m &  \\dots & v_n \\: w_m\\\\\n",
    "    \\end{bmatrix}\n",
    "$$\n"
   ]
  },
  {
   "cell_type": "markdown",
   "metadata": {
    "slideshow": {
     "slide_type": "notes"
    }
   },
   "source": []
  },
  {
   "cell_type": "markdown",
   "metadata": {
    "cell_style": "split",
    "slideshow": {
     "slide_type": "subslide"
    }
   },
   "source": [
    "### Inner (Dot) Product\n",
    "\n",
    "$$ \\vec{V} \\cdot \\vec{W} = \\quad = \\quad \\:v_1 \\: w_1 +  \\:v_2 \\: w_2 + \\: _\\cdots + \\: v_n \\: w_n  $$\n",
    "\n",
    "+ Sum of the elementwise multiplication\n",
    "+ Requires vectors are the same size\n",
    "+ $\\vec{V} \\cdot \\vec{V} = {|\\vec{V}|}^2$\n",
    "\n",
    "+ Most useful of all the vector products\n",
    "\n",
    "+ Sometimes called production if one vector is unit length"
   ]
  },
  {
   "cell_type": "markdown",
   "metadata": {
    "cell_style": "split",
    "slideshow": {
     "slide_type": "-"
    }
   },
   "source": [
    "<img src=\"1280px-Dot_Product.svg.png\" width=\"75%\">\n",
    "\n",
    "https://en.wikipedia.org/wiki/Dot_product"
   ]
  },
  {
   "cell_type": "code",
   "execution_count": 6,
   "metadata": {
    "slideshow": {
     "slide_type": "subslide"
    }
   },
   "outputs": [
    {
     "data": {
      "application/javascript": [
       "/* Put everything inside the global mpl namespace */\n",
       "window.mpl = {};\n",
       "\n",
       "\n",
       "mpl.get_websocket_type = function() {\n",
       "    if (typeof(WebSocket) !== 'undefined') {\n",
       "        return WebSocket;\n",
       "    } else if (typeof(MozWebSocket) !== 'undefined') {\n",
       "        return MozWebSocket;\n",
       "    } else {\n",
       "        alert('Your browser does not have WebSocket support. ' +\n",
       "              'Please try Chrome, Safari or Firefox ≥ 6. ' +\n",
       "              'Firefox 4 and 5 are also supported but you ' +\n",
       "              'have to enable WebSockets in about:config.');\n",
       "    };\n",
       "}\n",
       "\n",
       "mpl.figure = function(figure_id, websocket, ondownload, parent_element) {\n",
       "    this.id = figure_id;\n",
       "\n",
       "    this.ws = websocket;\n",
       "\n",
       "    this.supports_binary = (this.ws.binaryType != undefined);\n",
       "\n",
       "    if (!this.supports_binary) {\n",
       "        var warnings = document.getElementById(\"mpl-warnings\");\n",
       "        if (warnings) {\n",
       "            warnings.style.display = 'block';\n",
       "            warnings.textContent = (\n",
       "                \"This browser does not support binary websocket messages. \" +\n",
       "                    \"Performance may be slow.\");\n",
       "        }\n",
       "    }\n",
       "\n",
       "    this.imageObj = new Image();\n",
       "\n",
       "    this.context = undefined;\n",
       "    this.message = undefined;\n",
       "    this.canvas = undefined;\n",
       "    this.rubberband_canvas = undefined;\n",
       "    this.rubberband_context = undefined;\n",
       "    this.format_dropdown = undefined;\n",
       "\n",
       "    this.image_mode = 'full';\n",
       "\n",
       "    this.root = $('<div/>');\n",
       "    this._root_extra_style(this.root)\n",
       "    this.root.attr('style', 'display: inline-block');\n",
       "\n",
       "    $(parent_element).append(this.root);\n",
       "\n",
       "    this._init_header(this);\n",
       "    this._init_canvas(this);\n",
       "    this._init_toolbar(this);\n",
       "\n",
       "    var fig = this;\n",
       "\n",
       "    this.waiting = false;\n",
       "\n",
       "    this.ws.onopen =  function () {\n",
       "            fig.send_message(\"supports_binary\", {value: fig.supports_binary});\n",
       "            fig.send_message(\"send_image_mode\", {});\n",
       "            if (mpl.ratio != 1) {\n",
       "                fig.send_message(\"set_dpi_ratio\", {'dpi_ratio': mpl.ratio});\n",
       "            }\n",
       "            fig.send_message(\"refresh\", {});\n",
       "        }\n",
       "\n",
       "    this.imageObj.onload = function() {\n",
       "            if (fig.image_mode == 'full') {\n",
       "                // Full images could contain transparency (where diff images\n",
       "                // almost always do), so we need to clear the canvas so that\n",
       "                // there is no ghosting.\n",
       "                fig.context.clearRect(0, 0, fig.canvas.width, fig.canvas.height);\n",
       "            }\n",
       "            fig.context.drawImage(fig.imageObj, 0, 0);\n",
       "        };\n",
       "\n",
       "    this.imageObj.onunload = function() {\n",
       "        fig.ws.close();\n",
       "    }\n",
       "\n",
       "    this.ws.onmessage = this._make_on_message_function(this);\n",
       "\n",
       "    this.ondownload = ondownload;\n",
       "}\n",
       "\n",
       "mpl.figure.prototype._init_header = function() {\n",
       "    var titlebar = $(\n",
       "        '<div class=\"ui-dialog-titlebar ui-widget-header ui-corner-all ' +\n",
       "        'ui-helper-clearfix\"/>');\n",
       "    var titletext = $(\n",
       "        '<div class=\"ui-dialog-title\" style=\"width: 100%; ' +\n",
       "        'text-align: center; padding: 3px;\"/>');\n",
       "    titlebar.append(titletext)\n",
       "    this.root.append(titlebar);\n",
       "    this.header = titletext[0];\n",
       "}\n",
       "\n",
       "\n",
       "\n",
       "mpl.figure.prototype._canvas_extra_style = function(canvas_div) {\n",
       "\n",
       "}\n",
       "\n",
       "\n",
       "mpl.figure.prototype._root_extra_style = function(canvas_div) {\n",
       "\n",
       "}\n",
       "\n",
       "mpl.figure.prototype._init_canvas = function() {\n",
       "    var fig = this;\n",
       "\n",
       "    var canvas_div = $('<div/>');\n",
       "\n",
       "    canvas_div.attr('style', 'position: relative; clear: both; outline: 0');\n",
       "\n",
       "    function canvas_keyboard_event(event) {\n",
       "        return fig.key_event(event, event['data']);\n",
       "    }\n",
       "\n",
       "    canvas_div.keydown('key_press', canvas_keyboard_event);\n",
       "    canvas_div.keyup('key_release', canvas_keyboard_event);\n",
       "    this.canvas_div = canvas_div\n",
       "    this._canvas_extra_style(canvas_div)\n",
       "    this.root.append(canvas_div);\n",
       "\n",
       "    var canvas = $('<canvas/>');\n",
       "    canvas.addClass('mpl-canvas');\n",
       "    canvas.attr('style', \"left: 0; top: 0; z-index: 0; outline: 0\")\n",
       "\n",
       "    this.canvas = canvas[0];\n",
       "    this.context = canvas[0].getContext(\"2d\");\n",
       "\n",
       "    var backingStore = this.context.backingStorePixelRatio ||\n",
       "\tthis.context.webkitBackingStorePixelRatio ||\n",
       "\tthis.context.mozBackingStorePixelRatio ||\n",
       "\tthis.context.msBackingStorePixelRatio ||\n",
       "\tthis.context.oBackingStorePixelRatio ||\n",
       "\tthis.context.backingStorePixelRatio || 1;\n",
       "\n",
       "    mpl.ratio = (window.devicePixelRatio || 1) / backingStore;\n",
       "\n",
       "    var rubberband = $('<canvas/>');\n",
       "    rubberband.attr('style', \"position: absolute; left: 0; top: 0; z-index: 1;\")\n",
       "\n",
       "    var pass_mouse_events = true;\n",
       "\n",
       "    canvas_div.resizable({\n",
       "        start: function(event, ui) {\n",
       "            pass_mouse_events = false;\n",
       "        },\n",
       "        resize: function(event, ui) {\n",
       "            fig.request_resize(ui.size.width, ui.size.height);\n",
       "        },\n",
       "        stop: function(event, ui) {\n",
       "            pass_mouse_events = true;\n",
       "            fig.request_resize(ui.size.width, ui.size.height);\n",
       "        },\n",
       "    });\n",
       "\n",
       "    function mouse_event_fn(event) {\n",
       "        if (pass_mouse_events)\n",
       "            return fig.mouse_event(event, event['data']);\n",
       "    }\n",
       "\n",
       "    rubberband.mousedown('button_press', mouse_event_fn);\n",
       "    rubberband.mouseup('button_release', mouse_event_fn);\n",
       "    // Throttle sequential mouse events to 1 every 20ms.\n",
       "    rubberband.mousemove('motion_notify', mouse_event_fn);\n",
       "\n",
       "    rubberband.mouseenter('figure_enter', mouse_event_fn);\n",
       "    rubberband.mouseleave('figure_leave', mouse_event_fn);\n",
       "\n",
       "    canvas_div.on(\"wheel\", function (event) {\n",
       "        event = event.originalEvent;\n",
       "        event['data'] = 'scroll'\n",
       "        if (event.deltaY < 0) {\n",
       "            event.step = 1;\n",
       "        } else {\n",
       "            event.step = -1;\n",
       "        }\n",
       "        mouse_event_fn(event);\n",
       "    });\n",
       "\n",
       "    canvas_div.append(canvas);\n",
       "    canvas_div.append(rubberband);\n",
       "\n",
       "    this.rubberband = rubberband;\n",
       "    this.rubberband_canvas = rubberband[0];\n",
       "    this.rubberband_context = rubberband[0].getContext(\"2d\");\n",
       "    this.rubberband_context.strokeStyle = \"#000000\";\n",
       "\n",
       "    this._resize_canvas = function(width, height) {\n",
       "        // Keep the size of the canvas, canvas container, and rubber band\n",
       "        // canvas in synch.\n",
       "        canvas_div.css('width', width)\n",
       "        canvas_div.css('height', height)\n",
       "\n",
       "        canvas.attr('width', width * mpl.ratio);\n",
       "        canvas.attr('height', height * mpl.ratio);\n",
       "        canvas.attr('style', 'width: ' + width + 'px; height: ' + height + 'px;');\n",
       "\n",
       "        rubberband.attr('width', width);\n",
       "        rubberband.attr('height', height);\n",
       "    }\n",
       "\n",
       "    // Set the figure to an initial 600x600px, this will subsequently be updated\n",
       "    // upon first draw.\n",
       "    this._resize_canvas(600, 600);\n",
       "\n",
       "    // Disable right mouse context menu.\n",
       "    $(this.rubberband_canvas).bind(\"contextmenu\",function(e){\n",
       "        return false;\n",
       "    });\n",
       "\n",
       "    function set_focus () {\n",
       "        canvas.focus();\n",
       "        canvas_div.focus();\n",
       "    }\n",
       "\n",
       "    window.setTimeout(set_focus, 100);\n",
       "}\n",
       "\n",
       "mpl.figure.prototype._init_toolbar = function() {\n",
       "    var fig = this;\n",
       "\n",
       "    var nav_element = $('<div/>');\n",
       "    nav_element.attr('style', 'width: 100%');\n",
       "    this.root.append(nav_element);\n",
       "\n",
       "    // Define a callback function for later on.\n",
       "    function toolbar_event(event) {\n",
       "        return fig.toolbar_button_onclick(event['data']);\n",
       "    }\n",
       "    function toolbar_mouse_event(event) {\n",
       "        return fig.toolbar_button_onmouseover(event['data']);\n",
       "    }\n",
       "\n",
       "    for(var toolbar_ind in mpl.toolbar_items) {\n",
       "        var name = mpl.toolbar_items[toolbar_ind][0];\n",
       "        var tooltip = mpl.toolbar_items[toolbar_ind][1];\n",
       "        var image = mpl.toolbar_items[toolbar_ind][2];\n",
       "        var method_name = mpl.toolbar_items[toolbar_ind][3];\n",
       "\n",
       "        if (!name) {\n",
       "            // put a spacer in here.\n",
       "            continue;\n",
       "        }\n",
       "        var button = $('<button/>');\n",
       "        button.addClass('ui-button ui-widget ui-state-default ui-corner-all ' +\n",
       "                        'ui-button-icon-only');\n",
       "        button.attr('role', 'button');\n",
       "        button.attr('aria-disabled', 'false');\n",
       "        button.click(method_name, toolbar_event);\n",
       "        button.mouseover(tooltip, toolbar_mouse_event);\n",
       "\n",
       "        var icon_img = $('<span/>');\n",
       "        icon_img.addClass('ui-button-icon-primary ui-icon');\n",
       "        icon_img.addClass(image);\n",
       "        icon_img.addClass('ui-corner-all');\n",
       "\n",
       "        var tooltip_span = $('<span/>');\n",
       "        tooltip_span.addClass('ui-button-text');\n",
       "        tooltip_span.html(tooltip);\n",
       "\n",
       "        button.append(icon_img);\n",
       "        button.append(tooltip_span);\n",
       "\n",
       "        nav_element.append(button);\n",
       "    }\n",
       "\n",
       "    var fmt_picker_span = $('<span/>');\n",
       "\n",
       "    var fmt_picker = $('<select/>');\n",
       "    fmt_picker.addClass('mpl-toolbar-option ui-widget ui-widget-content');\n",
       "    fmt_picker_span.append(fmt_picker);\n",
       "    nav_element.append(fmt_picker_span);\n",
       "    this.format_dropdown = fmt_picker[0];\n",
       "\n",
       "    for (var ind in mpl.extensions) {\n",
       "        var fmt = mpl.extensions[ind];\n",
       "        var option = $(\n",
       "            '<option/>', {selected: fmt === mpl.default_extension}).html(fmt);\n",
       "        fmt_picker.append(option);\n",
       "    }\n",
       "\n",
       "    // Add hover states to the ui-buttons\n",
       "    $( \".ui-button\" ).hover(\n",
       "        function() { $(this).addClass(\"ui-state-hover\");},\n",
       "        function() { $(this).removeClass(\"ui-state-hover\");}\n",
       "    );\n",
       "\n",
       "    var status_bar = $('<span class=\"mpl-message\"/>');\n",
       "    nav_element.append(status_bar);\n",
       "    this.message = status_bar[0];\n",
       "}\n",
       "\n",
       "mpl.figure.prototype.request_resize = function(x_pixels, y_pixels) {\n",
       "    // Request matplotlib to resize the figure. Matplotlib will then trigger a resize in the client,\n",
       "    // which will in turn request a refresh of the image.\n",
       "    this.send_message('resize', {'width': x_pixels, 'height': y_pixels});\n",
       "}\n",
       "\n",
       "mpl.figure.prototype.send_message = function(type, properties) {\n",
       "    properties['type'] = type;\n",
       "    properties['figure_id'] = this.id;\n",
       "    this.ws.send(JSON.stringify(properties));\n",
       "}\n",
       "\n",
       "mpl.figure.prototype.send_draw_message = function() {\n",
       "    if (!this.waiting) {\n",
       "        this.waiting = true;\n",
       "        this.ws.send(JSON.stringify({type: \"draw\", figure_id: this.id}));\n",
       "    }\n",
       "}\n",
       "\n",
       "\n",
       "mpl.figure.prototype.handle_save = function(fig, msg) {\n",
       "    var format_dropdown = fig.format_dropdown;\n",
       "    var format = format_dropdown.options[format_dropdown.selectedIndex].value;\n",
       "    fig.ondownload(fig, format);\n",
       "}\n",
       "\n",
       "\n",
       "mpl.figure.prototype.handle_resize = function(fig, msg) {\n",
       "    var size = msg['size'];\n",
       "    if (size[0] != fig.canvas.width || size[1] != fig.canvas.height) {\n",
       "        fig._resize_canvas(size[0], size[1]);\n",
       "        fig.send_message(\"refresh\", {});\n",
       "    };\n",
       "}\n",
       "\n",
       "mpl.figure.prototype.handle_rubberband = function(fig, msg) {\n",
       "    var x0 = msg['x0'] / mpl.ratio;\n",
       "    var y0 = (fig.canvas.height - msg['y0']) / mpl.ratio;\n",
       "    var x1 = msg['x1'] / mpl.ratio;\n",
       "    var y1 = (fig.canvas.height - msg['y1']) / mpl.ratio;\n",
       "    x0 = Math.floor(x0) + 0.5;\n",
       "    y0 = Math.floor(y0) + 0.5;\n",
       "    x1 = Math.floor(x1) + 0.5;\n",
       "    y1 = Math.floor(y1) + 0.5;\n",
       "    var min_x = Math.min(x0, x1);\n",
       "    var min_y = Math.min(y0, y1);\n",
       "    var width = Math.abs(x1 - x0);\n",
       "    var height = Math.abs(y1 - y0);\n",
       "\n",
       "    fig.rubberband_context.clearRect(\n",
       "        0, 0, fig.canvas.width / mpl.ratio, fig.canvas.height / mpl.ratio);\n",
       "\n",
       "    fig.rubberband_context.strokeRect(min_x, min_y, width, height);\n",
       "}\n",
       "\n",
       "mpl.figure.prototype.handle_figure_label = function(fig, msg) {\n",
       "    // Updates the figure title.\n",
       "    fig.header.textContent = msg['label'];\n",
       "}\n",
       "\n",
       "mpl.figure.prototype.handle_cursor = function(fig, msg) {\n",
       "    var cursor = msg['cursor'];\n",
       "    switch(cursor)\n",
       "    {\n",
       "    case 0:\n",
       "        cursor = 'pointer';\n",
       "        break;\n",
       "    case 1:\n",
       "        cursor = 'default';\n",
       "        break;\n",
       "    case 2:\n",
       "        cursor = 'crosshair';\n",
       "        break;\n",
       "    case 3:\n",
       "        cursor = 'move';\n",
       "        break;\n",
       "    }\n",
       "    fig.rubberband_canvas.style.cursor = cursor;\n",
       "}\n",
       "\n",
       "mpl.figure.prototype.handle_message = function(fig, msg) {\n",
       "    fig.message.textContent = msg['message'];\n",
       "}\n",
       "\n",
       "mpl.figure.prototype.handle_draw = function(fig, msg) {\n",
       "    // Request the server to send over a new figure.\n",
       "    fig.send_draw_message();\n",
       "}\n",
       "\n",
       "mpl.figure.prototype.handle_image_mode = function(fig, msg) {\n",
       "    fig.image_mode = msg['mode'];\n",
       "}\n",
       "\n",
       "mpl.figure.prototype.updated_canvas_event = function() {\n",
       "    // Called whenever the canvas gets updated.\n",
       "    this.send_message(\"ack\", {});\n",
       "}\n",
       "\n",
       "// A function to construct a web socket function for onmessage handling.\n",
       "// Called in the figure constructor.\n",
       "mpl.figure.prototype._make_on_message_function = function(fig) {\n",
       "    return function socket_on_message(evt) {\n",
       "        if (evt.data instanceof Blob) {\n",
       "            /* FIXME: We get \"Resource interpreted as Image but\n",
       "             * transferred with MIME type text/plain:\" errors on\n",
       "             * Chrome.  But how to set the MIME type?  It doesn't seem\n",
       "             * to be part of the websocket stream */\n",
       "            evt.data.type = \"image/png\";\n",
       "\n",
       "            /* Free the memory for the previous frames */\n",
       "            if (fig.imageObj.src) {\n",
       "                (window.URL || window.webkitURL).revokeObjectURL(\n",
       "                    fig.imageObj.src);\n",
       "            }\n",
       "\n",
       "            fig.imageObj.src = (window.URL || window.webkitURL).createObjectURL(\n",
       "                evt.data);\n",
       "            fig.updated_canvas_event();\n",
       "            fig.waiting = false;\n",
       "            return;\n",
       "        }\n",
       "        else if (typeof evt.data === 'string' && evt.data.slice(0, 21) == \"data:image/png;base64\") {\n",
       "            fig.imageObj.src = evt.data;\n",
       "            fig.updated_canvas_event();\n",
       "            fig.waiting = false;\n",
       "            return;\n",
       "        }\n",
       "\n",
       "        var msg = JSON.parse(evt.data);\n",
       "        var msg_type = msg['type'];\n",
       "\n",
       "        // Call the  \"handle_{type}\" callback, which takes\n",
       "        // the figure and JSON message as its only arguments.\n",
       "        try {\n",
       "            var callback = fig[\"handle_\" + msg_type];\n",
       "        } catch (e) {\n",
       "            console.log(\"No handler for the '\" + msg_type + \"' message type: \", msg);\n",
       "            return;\n",
       "        }\n",
       "\n",
       "        if (callback) {\n",
       "            try {\n",
       "                // console.log(\"Handling '\" + msg_type + \"' message: \", msg);\n",
       "                callback(fig, msg);\n",
       "            } catch (e) {\n",
       "                console.log(\"Exception inside the 'handler_\" + msg_type + \"' callback:\", e, e.stack, msg);\n",
       "            }\n",
       "        }\n",
       "    };\n",
       "}\n",
       "\n",
       "// from http://stackoverflow.com/questions/1114465/getting-mouse-location-in-canvas\n",
       "mpl.findpos = function(e) {\n",
       "    //this section is from http://www.quirksmode.org/js/events_properties.html\n",
       "    var targ;\n",
       "    if (!e)\n",
       "        e = window.event;\n",
       "    if (e.target)\n",
       "        targ = e.target;\n",
       "    else if (e.srcElement)\n",
       "        targ = e.srcElement;\n",
       "    if (targ.nodeType == 3) // defeat Safari bug\n",
       "        targ = targ.parentNode;\n",
       "\n",
       "    // jQuery normalizes the pageX and pageY\n",
       "    // pageX,Y are the mouse positions relative to the document\n",
       "    // offset() returns the position of the element relative to the document\n",
       "    var x = e.pageX - $(targ).offset().left;\n",
       "    var y = e.pageY - $(targ).offset().top;\n",
       "\n",
       "    return {\"x\": x, \"y\": y};\n",
       "};\n",
       "\n",
       "/*\n",
       " * return a copy of an object with only non-object keys\n",
       " * we need this to avoid circular references\n",
       " * http://stackoverflow.com/a/24161582/3208463\n",
       " */\n",
       "function simpleKeys (original) {\n",
       "  return Object.keys(original).reduce(function (obj, key) {\n",
       "    if (typeof original[key] !== 'object')\n",
       "        obj[key] = original[key]\n",
       "    return obj;\n",
       "  }, {});\n",
       "}\n",
       "\n",
       "mpl.figure.prototype.mouse_event = function(event, name) {\n",
       "    var canvas_pos = mpl.findpos(event)\n",
       "\n",
       "    if (name === 'button_press')\n",
       "    {\n",
       "        this.canvas.focus();\n",
       "        this.canvas_div.focus();\n",
       "    }\n",
       "\n",
       "    var x = canvas_pos.x * mpl.ratio;\n",
       "    var y = canvas_pos.y * mpl.ratio;\n",
       "\n",
       "    this.send_message(name, {x: x, y: y, button: event.button,\n",
       "                             step: event.step,\n",
       "                             guiEvent: simpleKeys(event)});\n",
       "\n",
       "    /* This prevents the web browser from automatically changing to\n",
       "     * the text insertion cursor when the button is pressed.  We want\n",
       "     * to control all of the cursor setting manually through the\n",
       "     * 'cursor' event from matplotlib */\n",
       "    event.preventDefault();\n",
       "    return false;\n",
       "}\n",
       "\n",
       "mpl.figure.prototype._key_event_extra = function(event, name) {\n",
       "    // Handle any extra behaviour associated with a key event\n",
       "}\n",
       "\n",
       "mpl.figure.prototype.key_event = function(event, name) {\n",
       "\n",
       "    // Prevent repeat events\n",
       "    if (name == 'key_press')\n",
       "    {\n",
       "        if (event.which === this._key)\n",
       "            return;\n",
       "        else\n",
       "            this._key = event.which;\n",
       "    }\n",
       "    if (name == 'key_release')\n",
       "        this._key = null;\n",
       "\n",
       "    var value = '';\n",
       "    if (event.ctrlKey && event.which != 17)\n",
       "        value += \"ctrl+\";\n",
       "    if (event.altKey && event.which != 18)\n",
       "        value += \"alt+\";\n",
       "    if (event.shiftKey && event.which != 16)\n",
       "        value += \"shift+\";\n",
       "\n",
       "    value += 'k';\n",
       "    value += event.which.toString();\n",
       "\n",
       "    this._key_event_extra(event, name);\n",
       "\n",
       "    this.send_message(name, {key: value,\n",
       "                             guiEvent: simpleKeys(event)});\n",
       "    return false;\n",
       "}\n",
       "\n",
       "mpl.figure.prototype.toolbar_button_onclick = function(name) {\n",
       "    if (name == 'download') {\n",
       "        this.handle_save(this, null);\n",
       "    } else {\n",
       "        this.send_message(\"toolbar_button\", {name: name});\n",
       "    }\n",
       "};\n",
       "\n",
       "mpl.figure.prototype.toolbar_button_onmouseover = function(tooltip) {\n",
       "    this.message.textContent = tooltip;\n",
       "};\n",
       "mpl.toolbar_items = [[\"Home\", \"Reset original view\", \"fa fa-home icon-home\", \"home\"], [\"Back\", \"Back to previous view\", \"fa fa-arrow-left icon-arrow-left\", \"back\"], [\"Forward\", \"Forward to next view\", \"fa fa-arrow-right icon-arrow-right\", \"forward\"], [\"\", \"\", \"\", \"\"], [\"Pan\", \"Pan axes with left mouse, zoom with right\", \"fa fa-arrows icon-move\", \"pan\"], [\"Zoom\", \"Zoom to rectangle\", \"fa fa-square-o icon-check-empty\", \"zoom\"], [\"\", \"\", \"\", \"\"], [\"Download\", \"Download plot\", \"fa fa-floppy-o icon-save\", \"download\"]];\n",
       "\n",
       "mpl.extensions = [\"eps\", \"pdf\", \"png\", \"ps\", \"raw\", \"svg\"];\n",
       "\n",
       "mpl.default_extension = \"png\";var comm_websocket_adapter = function(comm) {\n",
       "    // Create a \"websocket\"-like object which calls the given IPython comm\n",
       "    // object with the appropriate methods. Currently this is a non binary\n",
       "    // socket, so there is still some room for performance tuning.\n",
       "    var ws = {};\n",
       "\n",
       "    ws.close = function() {\n",
       "        comm.close()\n",
       "    };\n",
       "    ws.send = function(m) {\n",
       "        //console.log('sending', m);\n",
       "        comm.send(m);\n",
       "    };\n",
       "    // Register the callback with on_msg.\n",
       "    comm.on_msg(function(msg) {\n",
       "        //console.log('receiving', msg['content']['data'], msg);\n",
       "        // Pass the mpl event to the overridden (by mpl) onmessage function.\n",
       "        ws.onmessage(msg['content']['data'])\n",
       "    });\n",
       "    return ws;\n",
       "}\n",
       "\n",
       "mpl.mpl_figure_comm = function(comm, msg) {\n",
       "    // This is the function which gets called when the mpl process\n",
       "    // starts-up an IPython Comm through the \"matplotlib\" channel.\n",
       "\n",
       "    var id = msg.content.data.id;\n",
       "    // Get hold of the div created by the display call when the Comm\n",
       "    // socket was opened in Python.\n",
       "    var element = $(\"#\" + id);\n",
       "    var ws_proxy = comm_websocket_adapter(comm)\n",
       "\n",
       "    function ondownload(figure, format) {\n",
       "        window.open(figure.imageObj.src);\n",
       "    }\n",
       "\n",
       "    var fig = new mpl.figure(id, ws_proxy,\n",
       "                           ondownload,\n",
       "                           element.get(0));\n",
       "\n",
       "    // Call onopen now - mpl needs it, as it is assuming we've passed it a real\n",
       "    // web socket which is closed, not our websocket->open comm proxy.\n",
       "    ws_proxy.onopen();\n",
       "\n",
       "    fig.parent_element = element.get(0);\n",
       "    fig.cell_info = mpl.find_output_cell(\"<div id='\" + id + \"'></div>\");\n",
       "    if (!fig.cell_info) {\n",
       "        console.error(\"Failed to find cell for figure\", id, fig);\n",
       "        return;\n",
       "    }\n",
       "\n",
       "    var output_index = fig.cell_info[2]\n",
       "    var cell = fig.cell_info[0];\n",
       "\n",
       "};\n",
       "\n",
       "mpl.figure.prototype.handle_close = function(fig, msg) {\n",
       "    var width = fig.canvas.width/mpl.ratio\n",
       "    fig.root.unbind('remove')\n",
       "\n",
       "    // Update the output cell to use the data from the current canvas.\n",
       "    fig.push_to_output();\n",
       "    var dataURL = fig.canvas.toDataURL();\n",
       "    // Re-enable the keyboard manager in IPython - without this line, in FF,\n",
       "    // the notebook keyboard shortcuts fail.\n",
       "    IPython.keyboard_manager.enable()\n",
       "    $(fig.parent_element).html('<img src=\"' + dataURL + '\" width=\"' + width + '\">');\n",
       "    fig.close_ws(fig, msg);\n",
       "}\n",
       "\n",
       "mpl.figure.prototype.close_ws = function(fig, msg){\n",
       "    fig.send_message('closing', msg);\n",
       "    // fig.ws.close()\n",
       "}\n",
       "\n",
       "mpl.figure.prototype.push_to_output = function(remove_interactive) {\n",
       "    // Turn the data on the canvas into data in the output cell.\n",
       "    var width = this.canvas.width/mpl.ratio\n",
       "    var dataURL = this.canvas.toDataURL();\n",
       "    this.cell_info[1]['text/html'] = '<img src=\"' + dataURL + '\" width=\"' + width + '\">';\n",
       "}\n",
       "\n",
       "mpl.figure.prototype.updated_canvas_event = function() {\n",
       "    // Tell IPython that the notebook contents must change.\n",
       "    IPython.notebook.set_dirty(true);\n",
       "    this.send_message(\"ack\", {});\n",
       "    var fig = this;\n",
       "    // Wait a second, then push the new image to the DOM so\n",
       "    // that it is saved nicely (might be nice to debounce this).\n",
       "    setTimeout(function () { fig.push_to_output() }, 1000);\n",
       "}\n",
       "\n",
       "mpl.figure.prototype._init_toolbar = function() {\n",
       "    var fig = this;\n",
       "\n",
       "    var nav_element = $('<div/>');\n",
       "    nav_element.attr('style', 'width: 100%');\n",
       "    this.root.append(nav_element);\n",
       "\n",
       "    // Define a callback function for later on.\n",
       "    function toolbar_event(event) {\n",
       "        return fig.toolbar_button_onclick(event['data']);\n",
       "    }\n",
       "    function toolbar_mouse_event(event) {\n",
       "        return fig.toolbar_button_onmouseover(event['data']);\n",
       "    }\n",
       "\n",
       "    for(var toolbar_ind in mpl.toolbar_items){\n",
       "        var name = mpl.toolbar_items[toolbar_ind][0];\n",
       "        var tooltip = mpl.toolbar_items[toolbar_ind][1];\n",
       "        var image = mpl.toolbar_items[toolbar_ind][2];\n",
       "        var method_name = mpl.toolbar_items[toolbar_ind][3];\n",
       "\n",
       "        if (!name) { continue; };\n",
       "\n",
       "        var button = $('<button class=\"btn btn-default\" href=\"#\" title=\"' + name + '\"><i class=\"fa ' + image + ' fa-lg\"></i></button>');\n",
       "        button.click(method_name, toolbar_event);\n",
       "        button.mouseover(tooltip, toolbar_mouse_event);\n",
       "        nav_element.append(button);\n",
       "    }\n",
       "\n",
       "    // Add the status bar.\n",
       "    var status_bar = $('<span class=\"mpl-message\" style=\"text-align:right; float: right;\"/>');\n",
       "    nav_element.append(status_bar);\n",
       "    this.message = status_bar[0];\n",
       "\n",
       "    // Add the close button to the window.\n",
       "    var buttongrp = $('<div class=\"btn-group inline pull-right\"></div>');\n",
       "    var button = $('<button class=\"btn btn-mini btn-primary\" href=\"#\" title=\"Stop Interaction\"><i class=\"fa fa-power-off icon-remove icon-large\"></i></button>');\n",
       "    button.click(function (evt) { fig.handle_close(fig, {}); } );\n",
       "    button.mouseover('Stop Interaction', toolbar_mouse_event);\n",
       "    buttongrp.append(button);\n",
       "    var titlebar = this.root.find($('.ui-dialog-titlebar'));\n",
       "    titlebar.prepend(buttongrp);\n",
       "}\n",
       "\n",
       "mpl.figure.prototype._root_extra_style = function(el){\n",
       "    var fig = this\n",
       "    el.on(\"remove\", function(){\n",
       "\tfig.close_ws(fig, {});\n",
       "    });\n",
       "}\n",
       "\n",
       "mpl.figure.prototype._canvas_extra_style = function(el){\n",
       "    // this is important to make the div 'focusable\n",
       "    el.attr('tabindex', 0)\n",
       "    // reach out to IPython and tell the keyboard manager to turn it's self\n",
       "    // off when our div gets focus\n",
       "\n",
       "    // location in version 3\n",
       "    if (IPython.notebook.keyboard_manager) {\n",
       "        IPython.notebook.keyboard_manager.register_events(el);\n",
       "    }\n",
       "    else {\n",
       "        // location in version 2\n",
       "        IPython.keyboard_manager.register_events(el);\n",
       "    }\n",
       "\n",
       "}\n",
       "\n",
       "mpl.figure.prototype._key_event_extra = function(event, name) {\n",
       "    var manager = IPython.notebook.keyboard_manager;\n",
       "    if (!manager)\n",
       "        manager = IPython.keyboard_manager;\n",
       "\n",
       "    // Check for shift+enter\n",
       "    if (event.shiftKey && event.which == 13) {\n",
       "        this.canvas_div.blur();\n",
       "        // select the cell after this one\n",
       "        var index = IPython.notebook.find_cell_index(this.cell_info[0]);\n",
       "        IPython.notebook.select(index + 1);\n",
       "    }\n",
       "}\n",
       "\n",
       "mpl.figure.prototype.handle_save = function(fig, msg) {\n",
       "    fig.ondownload(fig, null);\n",
       "}\n",
       "\n",
       "\n",
       "mpl.find_output_cell = function(html_output) {\n",
       "    // Return the cell and output element which can be found *uniquely* in the notebook.\n",
       "    // Note - this is a bit hacky, but it is done because the \"notebook_saving.Notebook\"\n",
       "    // IPython event is triggered only after the cells have been serialised, which for\n",
       "    // our purposes (turning an active figure into a static one), is too late.\n",
       "    var cells = IPython.notebook.get_cells();\n",
       "    var ncells = cells.length;\n",
       "    for (var i=0; i<ncells; i++) {\n",
       "        var cell = cells[i];\n",
       "        if (cell.cell_type === 'code'){\n",
       "            for (var j=0; j<cell.output_area.outputs.length; j++) {\n",
       "                var data = cell.output_area.outputs[j];\n",
       "                if (data.data) {\n",
       "                    // IPython >= 3 moved mimebundle to data attribute of output\n",
       "                    data = data.data;\n",
       "                }\n",
       "                if (data['text/html'] == html_output) {\n",
       "                    return [cell, data, j];\n",
       "                }\n",
       "            }\n",
       "        }\n",
       "    }\n",
       "}\n",
       "\n",
       "// Register the function which deals with the matplotlib target/channel.\n",
       "// The kernel may be null if the page has been refreshed.\n",
       "if (IPython.notebook.kernel != null) {\n",
       "    IPython.notebook.kernel.comm_manager.register_target('matplotlib', mpl.mpl_figure_comm);\n",
       "}\n"
      ],
      "text/plain": [
       "<IPython.core.display.Javascript object>"
      ]
     },
     "metadata": {},
     "output_type": "display_data"
    },
    {
     "data": {
      "text/html": [
       "<img src=\"data:image/png;base64,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\" width=\"599.578947368421\">"
      ],
      "text/plain": [
       "<IPython.core.display.HTML object>"
      ]
     },
     "metadata": {},
     "output_type": "display_data"
    },
    {
     "data": {
      "application/vnd.jupyter.widget-view+json": {
       "model_id": "0bc273f338494392a7165e9443926f58",
       "version_major": 2,
       "version_minor": 0
      },
      "text/plain": [
       "interactive(children=(FloatSlider(value=1.0, description='v1', max=5.0, min=-5.0), FloatSlider(value=2.0, desc…"
      ]
     },
     "metadata": {},
     "output_type": "display_data"
    }
   ],
   "source": [
    "fig, ax = plt.subplots(1,1)\n",
    "fig.set_size_inches(6, 6)\n",
    "\n",
    "@interact(v1=(-5,5,0.1), v2=(-5,5,0.1), w1=(-5,5,0.1), w2=(-5,5,0.1))\n",
    "def update(v1=1, v2=2, w1=2, w2=0.5):\n",
    "    v, w = numpy.array([v1, v2]), numpy.array([w1, w2])\n",
    "    ax.cla()\n",
    "    ax.arrow(0, 0, v1*0.9, v2*0.9, head_width=0.25, head_length=0.25, fc='g', ec='g')\n",
    "    ax.arrow(0, 0, w1*0.9, w2*0.9, head_width=0.25, head_length=0.25, fc='b', ec='b')\n",
    "    ax.arrow(0, 0, v1*w1+v2*w2, 0, head_width=0.25, head_length=0.25, fc='k', ec='k')\n",
    "    fig.canvas.draw_idle()\n",
    "    ax.set_xlim(-5, 5);ax.set_ylim(-5, 5)\n",
    "    ax.set_xlabel('$X_1$');ax.set_ylabel('$X_2$')\n",
    "    plt.suptitle('Dot Product')\n",
    "    ax.grid(True)\n",
    "    fig.tight_layout(rect=[0, 0.03, 1, 0.95])"
   ]
  },
  {
   "cell_type": "markdown",
   "metadata": {
    "cell_style": "split",
    "slideshow": {
     "slide_type": "subslide"
    }
   },
   "source": [
    "### Cauchy–Schwarz Inequality\n",
    "$$ \\cfrac{|\\vec{V} \\cdot \\vec{U}|}{|\\vec{V}| \\: |\\vec{U}|} \\leq 1 $$\n",
    "\n",
    "+ Bounds the output of Dot product\n",
    " + Shows something about direction\n",
    "+ Basic to show\n",
    "  + Applications everywhere\n",
    "\n",
    "+ What does equality mean?\n",
    "\n",
    "+ What if 2 vectors are opposite directions?\n",
    "\n",
    "\n",
    "\n",
    "\n",
    "\n"
   ]
  },
  {
   "cell_type": "markdown",
   "metadata": {
    "cell_style": "split",
    "slideshow": {
     "slide_type": "fragment"
    }
   },
   "source": [
    "$$ \\hat{V} = \\cfrac{\\vec{V}}{|\\vec{V}|} \\quad |\\hat{V}| = 1 \\quad \\quad\n",
    "\\hat{U} = \\cfrac{\\vec{U}}{|\\vec{U}|} \\quad |\\hat{U}| = 1 $$\n",
    "\n"
   ]
  },
  {
   "cell_type": "markdown",
   "metadata": {
    "cell_style": "split",
    "slideshow": {
     "slide_type": "fragment"
    }
   },
   "source": [
    "$$ \\hat{V} \\cdot \\hat{U} = cos(\\theta) $$"
   ]
  },
  {
   "cell_type": "markdown",
   "metadata": {
    "cell_style": "split",
    "slideshow": {
     "slide_type": "fragment"
    }
   },
   "source": [
    "$$ | \\hat{V} \\cdot \\hat{U} | = |cos(\\theta)| \\leq 1 $$"
   ]
  },
  {
   "cell_type": "markdown",
   "metadata": {
    "cell_style": "split",
    "slideshow": {
     "slide_type": "fragment"
    }
   },
   "source": [
    "$$ \\left | \\cfrac{\\vec{V}}{|\\vec{V}|} \\cdot \\cfrac{\\vec{U}}{|\\vec{U}|} \\right| \\leq 1 \\quad  \\xrightarrow[]{} \\quad \\cfrac{|\\vec{V} \\cdot \\vec{U}|}{|\\vec{V}| \\: |\\vec{U}|} \\leq 1  $$"
   ]
  },
  {
   "cell_type": "markdown",
   "metadata": {
    "cell_style": "split",
    "slideshow": {
     "slide_type": "subslide"
    }
   },
   "source": [
    "### Matched Filter\n",
    "Maxmize the Signal to Noise Ratio\n",
    "\n",
    "#### Cauchy–Schwarz Inequality\n",
    "Tells us the maximum we can get is 1"
   ]
  },
  {
   "cell_type": "markdown",
   "metadata": {
    "cell_style": "split",
    "slideshow": {
     "slide_type": "fragment"
    }
   },
   "source": [
    "\n",
    "\n",
    "$$ \\begin{align}\n",
    "\\cfrac{|\\vec{V} \\cdot \\vec{U}|}{|\\vec{V}| \\: |\\vec{U}|} &\\leq 1 \\\\\n",
    "{|\\hat{V} \\cdot \\hat{U}|} &\\leq 1 \\\\\n",
    "{|\\hat{V} \\cdot \\hat{U}|} &= 1 \\quad if \\:\\hat{V} \\: and \\: \\hat{U} \\: are \\: colinear\n",
    "\\end{align}$$\n",
    "\n",
    "#### What can be infered about $\\vec{V}$ and $\\vec{U}$"
   ]
  },
  {
   "cell_type": "markdown",
   "metadata": {
    "slideshow": {
     "slide_type": "notes"
    }
   },
   "source": [
    "+  $\\vec{V}$ and $\\vec{U}$"
   ]
  },
  {
   "cell_type": "markdown",
   "metadata": {
    "cell_style": "split",
    "slideshow": {
     "slide_type": "subslide"
    }
   },
   "source": [
    "### Convolution\n",
    "$$ \\begin{align} (f*g)(t) &= \\int_{-\\infty}^{t} f(\\tau)\\: g(t-\\tau) \\: d \\tau \\\\\n",
    "(f*g)[n] &= \\sum_{-\\infty\\dots \\infty}^{i}  f[i]\\:g[n-i]  \\end{align}$$"
   ]
  },
  {
   "cell_type": "markdown",
   "metadata": {
    "cell_style": "split",
    "slideshow": {
     "slide_type": "-"
    }
   },
   "source": [
    "<img src=\"rect_rect_conv.gif?0\" width=\"100%\">"
   ]
  },
  {
   "cell_type": "markdown",
   "metadata": {
    "slideshow": {
     "slide_type": "subslide"
    }
   },
   "source": [
    "<img src=\"rect_rect_conv_auto.gif\" width=\"100%\">"
   ]
  },
  {
   "cell_type": "markdown",
   "metadata": {
    "slideshow": {
     "slide_type": "subslide"
    }
   },
   "source": [
    "<img src=\"rect_fat_rect_conv_auto.gif\" width=\"100%\">"
   ]
  },
  {
   "cell_type": "markdown",
   "metadata": {
    "slideshow": {
     "slide_type": "subslide"
    }
   },
   "source": [
    "<img src=\"rect_exp_conv_auto.gif\" width=\"100%\">"
   ]
  },
  {
   "cell_type": "markdown",
   "metadata": {
    "slideshow": {
     "slide_type": "subslide"
    }
   },
   "source": [
    "<img src=\"exp_exp_conv_auto.gif\" width=\"100%\">"
   ]
  },
  {
   "cell_type": "markdown",
   "metadata": {
    "slideshow": {
     "slide_type": "subslide"
    }
   },
   "source": [
    "<img src=\"rect_gaussian_conv_auto.gif\" width=\"100%\">"
   ]
  },
  {
   "cell_type": "markdown",
   "metadata": {
    "slideshow": {
     "slide_type": "subslide"
    }
   },
   "source": [
    "<img src=\"gaussian_gaussian_conv_auto.gif\" width=\"100%\">"
   ]
  },
  {
   "cell_type": "code",
   "execution_count": null,
   "metadata": {},
   "outputs": [],
   "source": []
  },
  {
   "cell_type": "markdown",
   "metadata": {
    "slideshow": {
     "slide_type": "skip"
    }
   },
   "source": [
    "<img src=\"rect_rect_conv.gif?0\" width=\"100%\">"
   ]
  },
  {
   "cell_type": "markdown",
   "metadata": {
    "slideshow": {
     "slide_type": "skip"
    }
   },
   "source": [
    "<img src=\"rect_exp_conv.gif\" width=\"90%\">"
   ]
  },
  {
   "cell_type": "markdown",
   "metadata": {
    "slideshow": {
     "slide_type": "subslide"
    }
   },
   "source": []
  },
  {
   "cell_type": "markdown",
   "metadata": {},
   "source": []
  },
  {
   "cell_type": "markdown",
   "metadata": {
    "slideshow": {
     "slide_type": "subslide"
    }
   },
   "source": [
    "### Matrix Operations\n",
    "\n",
    "+ Scalar Matrix multiplication\n",
    "\n",
    "+ Addition and Subtraction\n",
    "\n",
    "+ Matrix Multiplication\n",
    "\n",
    "+ Matrix Inverse\n",
    "\n",
    "+ Matrix Decompositions"
   ]
  },
  {
   "cell_type": "markdown",
   "metadata": {
    "slideshow": {
     "slide_type": "subslide"
    }
   },
   "source": [
    "#### Scalar Matrix Multiplication"
   ]
  },
  {
   "cell_type": "markdown",
   "metadata": {
    "slideshow": {
     "slide_type": "subslide"
    }
   },
   "source": [
    "#### Addition and Subtraction"
   ]
  },
  {
   "cell_type": "markdown",
   "metadata": {
    "slideshow": {
     "slide_type": "subslide"
    }
   },
   "source": [
    "#### Matrix Multiplication"
   ]
  },
  {
   "cell_type": "markdown",
   "metadata": {
    "slideshow": {
     "slide_type": "subslide"
    }
   },
   "source": [
    "#### Matrix Inverse"
   ]
  },
  {
   "cell_type": "markdown",
   "metadata": {
    "slideshow": {
     "slide_type": "subslide"
    }
   },
   "source": [
    "#### Matrix Decompositions"
   ]
  },
  {
   "cell_type": "markdown",
   "metadata": {
    "slideshow": {
     "slide_type": "notes"
    }
   },
   "source": []
  },
  {
   "cell_type": "markdown",
   "metadata": {
    "cell_style": "split",
    "slideshow": {
     "slide_type": "subslide"
    }
   },
   "source": [
    "### Multivariate Random Variables\n",
    "\n",
    "#### Guassian\n",
    "$$ \\begin{align} \\mathcal{N} \\left ( \\bf \\mu , \\bf \\Sigma \\right ) \n",
    "&= {\\left ( \\sqrt{ \\left ( 2 \\pi \\right ) ^{k} \\bf |\\Sigma| } \\right ) }^{-1} {e^{\n",
    "- \\cfrac{\\left ( \\left ( x-\\mu \\right )^{T} \\Sigma ^ {-1}  \\left ( x-\\mu \\right ) \\right )} {2}\n",
    "} }\n",
    "\\end{align}\n",
    "$$\n",
    "\n",
    "#### Complex Guassian\n",
    "$$ \\begin{align} \\mathcal{CN} \\left ( \\bf \\mu , \\bf \\Sigma \\right ) \n",
    "&= {\\left ( { \\left ( 2 \\pi \\right ) ^{k} \\bf |\\Sigma| } \\right ) }^{-1} {e^{\n",
    "- \\cfrac{\\left ( \\left ( x-\\mu \\right )^{T} \\Sigma ^ {-1}  \\left ( x-\\mu \\right ) \\right )} {2}\n",
    "} }\n",
    "\\end{align}\n",
    "$$"
   ]
  },
  {
   "cell_type": "markdown",
   "metadata": {
    "cell_style": "split",
    "slideshow": {
     "slide_type": "fragment"
    }
   },
   "source": [
    "#### Zero Mean Unit Variance\n",
    "\n",
    "$$ \\begin{align} \\mathcal{N} \\left ( \\bf 0 , \\bf 1 \\right ) \n",
    "&= {\\left ( \\sqrt{ \\left ( 2 \\pi \\right ) ^{k} \\bf } \\right ) }^{-1} {e^{\n",
    "- \\left ( \\cfrac{  x^{T} x } {2} \\right )\n",
    "} }\n",
    "\\end{align}\n",
    "$$"
   ]
  },
  {
   "cell_type": "markdown",
   "metadata": {
    "cell_style": "split",
    "slideshow": {
     "slide_type": "fragment"
    }
   },
   "source": [
    "#### Complex Zero Mean Unit Variance\n",
    "\n",
    "$$ \\begin{align} \\mathcal{CN} \\left ( \\bf 0 , \\bf 1 \\right ) \n",
    "&= { { \\left ( 2 \\pi \\right ) ^{-k} \\bf } } {e^{\n",
    "- \\left ( \\cfrac{  x^{T} x } {2} \\right )\n",
    "} }\n",
    "\\end{align}\n",
    "$$"
   ]
  },
  {
   "cell_type": "markdown",
   "metadata": {
    "slideshow": {
     "slide_type": "subslide"
    }
   },
   "source": [
    "### Correlation of random vectors\n"
   ]
  },
  {
   "cell_type": "markdown",
   "metadata": {
    "cell_style": "split",
    "slideshow": {
     "slide_type": "subslide"
    }
   },
   "source": [
    "### Correlation and Covariance\n",
    "\n",
    "#### Correlation Random Variables\n",
    "$$ {R}_{X,Y} = cor(\\bf X, \\bf Y) = E \\left [ \\bf X \\cdot \\bf Y \\right ] $$\n",
    "\n",
    "### Covariance Random Variables\n",
    "$$ \\Sigma_{X,Y} = cov(\\bf X, \\bf Y) = E \\left [ ( \\bf X -\\mu_x ) ( \\bf Y -\\mu_y )  \\right ] $$"
   ]
  },
  {
   "cell_type": "markdown",
   "metadata": {
    "cell_style": "split",
    "slideshow": {
     "slide_type": "-"
    }
   },
   "source": [
    "### Correlation of Signals $f$ and $g$\n",
    "\n",
    "$$ \\begin{align} \n",
    "(f*g)(t) &= \\int_{-\\infty}^{t} f(\\tau)\\: g(t+\\tau) \\: d \\tau \\\\\n",
    "(f*g)[n] &= \\sum_{-\\infty\\dots \\infty}^{i}  f[i]\\:g[n+i]  \n",
    "\\end{align}$$"
   ]
  },
  {
   "cell_type": "markdown",
   "metadata": {
    "slideshow": {
     "slide_type": "subslide"
    }
   },
   "source": [
    "<img src=\"Correlation_rect_rect.gif\" width=\"90%\">"
   ]
  },
  {
   "cell_type": "markdown",
   "metadata": {
    "slideshow": {
     "slide_type": "subslide"
    }
   },
   "source": [
    "<img src=\"Correlation_rect_exp.gif\" width=\"90%\">"
   ]
  },
  {
   "cell_type": "markdown",
   "metadata": {
    "slideshow": {
     "slide_type": "subslide"
    }
   },
   "source": [
    "<img src=\"Correlation_exp_exp.gif\" width=\"90%\">"
   ]
  },
  {
   "cell_type": "markdown",
   "metadata": {
    "slideshow": {
     "slide_type": "subslide"
    }
   },
   "source": [
    "<img src=\"Correlation_gaussian_gaussian.gif\" width=\"90%\">"
   ]
  },
  {
   "cell_type": "markdown",
   "metadata": {
    "slideshow": {
     "slide_type": "subslide"
    }
   },
   "source": [
    "<img src=\"Correlation_barker_barker.gif\" width=\"90%\">"
   ]
  },
  {
   "cell_type": "markdown",
   "metadata": {
    "slideshow": {
     "slide_type": "notes"
    }
   },
   "source": [
    "Barker-13 code"
   ]
  },
  {
   "cell_type": "markdown",
   "metadata": {
    "slideshow": {
     "slide_type": "subslide"
    }
   },
   "source": [
    "<img src=\"Correlation_sinc_sinc.gif\" width=\"90%\">"
   ]
  },
  {
   "cell_type": "markdown",
   "metadata": {
    "slideshow": {
     "slide_type": "notes"
    }
   },
   "source": [
    "Sinc function"
   ]
  },
  {
   "cell_type": "markdown",
   "metadata": {
    "cell_style": "split",
    "slideshow": {
     "slide_type": "subslide"
    }
   },
   "source": [
    "### Orthogonal + Normal = Orthonormal\n",
    "\n",
    "$$ \\bf U = \\begin{bmatrix} \n",
    "    u_{1,1}  & u_{2,1}  &  \\dots & u_{1,n}  \\\\\n",
    "    u_{2,1} & u_{2,2} &    &  u_{2,n} \\\\\n",
    "    \\vdots & & \\ddots & \\vdots \\\\\n",
    "    u_{n,1} & u_{n,2}  &  \\dots & u_{n,n} \\\\\n",
    "    \\end{bmatrix} =\n",
    "\\begin{bmatrix}\n",
    " \\vdots & \\vdots & & \\vdots \\\\\n",
    " \\vec{u_1} & \\vec{u_2} & \\dots & \\vec{u_n} \\\\\n",
    " \\vdots & \\vdots & & \\vdots \\\\\n",
    "\\end{bmatrix}\n",
    "$$"
   ]
  },
  {
   "cell_type": "markdown",
   "metadata": {
    "cell_style": "split",
    "slideshow": {
     "slide_type": "fragment"
    }
   },
   "source": [
    "$$ 1 = |\\vec{u_i}|^2 = \\vec{u_i} \\cdot \\vec{u_i} \\quad for \\: n > i < \\:Rank \n",
    "$$"
   ]
  },
  {
   "cell_type": "markdown",
   "metadata": {
    "cell_style": "split",
    "slideshow": {
     "slide_type": "fragment"
    }
   },
   "source": [
    "$$ 0 = |\\vec{u_i} \\cdot \\vec{u_j}| \\quad for \\: i \\neq j$$"
   ]
  },
  {
   "cell_type": "markdown",
   "metadata": {
    "cell_style": "split",
    "slideshow": {
     "slide_type": "fragment"
    }
   },
   "source": [
    "$$ \\begin{align}\n",
    "\\mathbb{1} &= \\bf U^T \\bf U \\\\\n",
    "\\begin{bmatrix} \n",
    "    1  & 0  &  \\dots & 0  \\\\\n",
    "    0 & 1 &    &  0 \\\\\n",
    "    \\vdots & & \\ddots & \\vdots \\\\\n",
    "    0 & 0  &  \\dots & 1 \\\\\n",
    "    \\end{bmatrix}\n",
    "&= \\begin{bmatrix}\n",
    "\\cdots & \\vec{u_1} & \\cdots \\\\\n",
    "\\cdots & \\vec{u_2} & \\cdots \\\\\n",
    "       & \\vdots    &        \\\\\n",
    "\\cdots & \\vec{u_n} & \\cdots \\\\\n",
    "\\end{bmatrix}\n",
    "\\begin{bmatrix}\n",
    " \\vdots & \\vdots & & \\vdots \\\\\n",
    " \\vec{u_1} & \\vec{u_2} & \\dots & \\vec{u_n} \\\\\n",
    " \\vdots & \\vdots & & \\vdots \\\\\n",
    "\\end{bmatrix} \n",
    "\\end{align}\n",
    "$$"
   ]
  },
  {
   "cell_type": "markdown",
   "metadata": {
    "slideshow": {
     "slide_type": "notes"
    }
   },
   "source": []
  },
  {
   "cell_type": "markdown",
   "metadata": {
    "cell_style": "split",
    "slideshow": {
     "slide_type": "subslide"
    }
   },
   "source": [
    "### Rotation Matrices\n",
    "\n",
    "$$ \n",
    "\\bf R(\\theta) = \\begin{bmatrix}\n",
    "cos(\\theta) & -sin(\\theta) \\\\\n",
    "sin(\\theta) & cos(\\theta)\n",
    "\\end{bmatrix} $$\n",
    "$$\n",
    "\\vec{V_2} = \\bf {R}(\\theta) \\vec{V_1} \n",
    "$$\n",
    "\n",
    "+ Changes the direction of vectors \n",
    "+ Does not change the scale"
   ]
  },
  {
   "cell_type": "markdown",
   "metadata": {
    "cell_style": "split",
    "slideshow": {
     "slide_type": "fragment"
    }
   },
   "source": [
    "$$ \n",
    "\\bf R(90^o) = \\begin{bmatrix}\n",
    "0 & -1 \\\\\n",
    "1 & 0\n",
    "\\end{bmatrix}\n",
    "$$\n",
    "\n",
    "$$ \n",
    "\\begin{bmatrix} 0 \\\\ 1 \\end{bmatrix} = \\begin{bmatrix}\n",
    "0 & -1 \\\\\n",
    "1 & 0\n",
    "\\end{bmatrix} \n",
    "\\begin{bmatrix} 1 \\\\ 0 \\end{bmatrix}\n",
    "$$"
   ]
  },
  {
   "cell_type": "markdown",
   "metadata": {
    "slideshow": {
     "slide_type": "notes"
    }
   },
   "source": []
  },
  {
   "cell_type": "markdown",
   "metadata": {
    "cell_style": "split",
    "slideshow": {
     "slide_type": "subslide"
    }
   },
   "source": [
    "### Inverse\n",
    "$$ \\vec{c} = \\bf {B} \\vec{a} \\\\\n",
    "\\bf {B}^{-1} \\vec{c} = \\bf {B}^{-1} \\bf {B} \\vec{a} \\\\\n",
    "\\bf {B}^{-1} \\vec{c} = \\bf \\mathbb{1} \\vec{a} \\\\\n",
    "\\bf {B}^{-1} \\vec{c} = \\vec{a} \\\\\n",
    "$$"
   ]
  },
  {
   "cell_type": "code",
   "execution_count": 171,
   "metadata": {
    "cell_style": "split",
    "slideshow": {
     "slide_type": "fragment"
    }
   },
   "outputs": [
    {
     "name": "stdout",
     "output_type": "stream",
     "text": [
      "[[-3 -2 -2]\n",
      " [ 4  2 -1]\n",
      " [-2 -2  0]]\n"
     ]
    }
   ],
   "source": [
    "B = numpy.matrix([\n",
    "    [2, 1, 1], [-5, -3, 0], [1, 1, -1]\n",
    "])\n",
    "print(numpy.invert(B))"
   ]
  },
  {
   "cell_type": "markdown",
   "metadata": {
    "cell_style": "split",
    "slideshow": {
     "slide_type": "notes"
    }
   },
   "source": [
    "+ Lets be real, use a computer (numpy)"
   ]
  },
  {
   "cell_type": "markdown",
   "metadata": {
    "cell_style": "split",
    "slideshow": {
     "slide_type": "subslide"
    }
   },
   "source": [
    "### Decompositions\n",
    "\n",
    "The Decomposition of a matrix factorization of a matrix into a product of matrices\n",
    "\n",
    "$$ A = B \\cdots D $$"
   ]
  },
  {
   "cell_type": "markdown",
   "metadata": {
    "cell_style": "split",
    "slideshow": {
     "slide_type": "fragment"
    }
   },
   "source": [
    "#### LU\n",
    "\n",
    "$$ A = L U $$\n",
    "\n",
    "+ $ L $ is lower triangular \n",
    "+ $ U $ is upper triangular"
   ]
  },
  {
   "cell_type": "markdown",
   "metadata": {
    "cell_style": "split",
    "slideshow": {
     "slide_type": "fragment"
    }
   },
   "source": [
    "#### Cholesky decomposition\n",
    "Matrix Square Root\n",
    "\n",
    "$$ A = L \\: L^\\dagger $$"
   ]
  },
  {
   "cell_type": "markdown",
   "metadata": {
    "cell_style": "split",
    "slideshow": {
     "slide_type": "fragment"
    }
   },
   "source": [
    "#### Eigen Decomposition\n",
    "\n",
    "\n",
    "$$ \\begin{align}\n",
    "A \\: \\vec{v} &= \\lambda \\: \\vec{v} \\\\\n",
    "A \\: Q &=  Q \\: \\Lambda \\\\\n",
    "A  &=  Q \\: \\Lambda Q^{-1} \n",
    "\\end{align}\n",
    "$$"
   ]
  },
  {
   "cell_type": "markdown",
   "metadata": {
    "slideshow": {
     "slide_type": "notes"
    }
   },
   "source": []
  },
  {
   "cell_type": "markdown",
   "metadata": {
    "cell_style": "split",
    "slideshow": {
     "slide_type": "subslide"
    }
   },
   "source": [
    "#### Singular Value Decomposition\n",
    "\n",
    "$$ A = U \\: \\Sigma \\: V^\\dagger $$\n",
    "\n",
    " + $A$ Matrix of size m by n\n",
    " + $U$ is a m by m rotation matrix\n",
    " + $\\Sigma$ is m by n diagonal matrix\n",
    " + $V$ is a n by n rotation matrix\n",
    " \n",
    "###### Generalized Eigen"
   ]
  },
  {
   "cell_type": "markdown",
   "metadata": {
    "cell_style": "split",
    "slideshow": {
     "slide_type": "-"
    }
   },
   "source": [
    "<img src=\"1024px-Singular-Value-Decomposition.svg.png\" width=\"100%\">\n",
    "\n",
    "https://en.wikipedia.org/wiki/Singular_value_decomposition"
   ]
  },
  {
   "cell_type": "markdown",
   "metadata": {
    "slideshow": {
     "slide_type": "notes"
    }
   },
   "source": []
  },
  {
   "cell_type": "markdown",
   "metadata": {
    "slideshow": {
     "slide_type": "slide"
    }
   },
   "source": [
    "## Frequency / Tone\n",
    " + Real valued\n",
    " + Matched Filter Real valued\n",
    " + Phase\n",
    " + Complex Samples"
   ]
  },
  {
   "cell_type": "markdown",
   "metadata": {
    "cell_style": "split",
    "slideshow": {
     "slide_type": "subslide"
    }
   },
   "source": [
    "## Real Valued Signal\n",
    "\n",
    "$$ tone(t) = sin(2\\pi f t -\\phi) $$\n",
    "\n",
    "+ f is frequency in 1 over peroid\n",
    "  + $\\omega$ angular frequency in radians per peroid\n",
    "  + $\\omega = 2 \\pi f $\n",
    "+ $\\phi$ is the phase\n",
    "\n",
    "\n"
   ]
  },
  {
   "cell_type": "markdown",
   "metadata": {
    "cell_style": "split",
    "slideshow": {
     "slide_type": "-"
    }
   },
   "source": [
    "<img src=\"sine_wave.gif\" width=\"100%\">"
   ]
  },
  {
   "cell_type": "markdown",
   "metadata": {
    "slideshow": {
     "slide_type": "subslide"
    }
   },
   "source": [
    "<img src=\"matched_filter_phase_1.gif?0\" width=\"90%\">"
   ]
  },
  {
   "cell_type": "markdown",
   "metadata": {
    "slideshow": {
     "slide_type": "subslide"
    }
   },
   "source": [
    "<img src=\"matched_filter_IQ.gif\" width=\"90%\">"
   ]
  },
  {
   "cell_type": "markdown",
   "metadata": {
    "slideshow": {
     "slide_type": "notes"
    }
   },
   "source": [
    "+ Two Filters\n",
    "+ Note the amplitude \n",
    "  + Peak is 1\n",
    "  + The Filter magnitude is 1/2\n",
    "  + Root Mean Square is $\\sqrt{1/2}$"
   ]
  },
  {
   "cell_type": "markdown",
   "metadata": {
    "cell_style": "split",
    "slideshow": {
     "slide_type": "subslide"
    }
   },
   "source": [
    "### 2 Perpendicular Axis\n",
    "\n",
    "+ Real Valued Tones require a pair of matched filters\n",
    "  + Two filters are orthogonal\n",
    "\n",
    "\n",
    "#### Direct Conversion\n",
    "\n",
    "  + Where complex numbers principally come from for signal processing"
   ]
  },
  {
   "cell_type": "markdown",
   "metadata": {
    "cell_style": "split",
    "slideshow": {
     "slide_type": "fragment"
    }
   },
   "source": [
    "$$ I = Signal(t) \\cdot cos(\\omega t), \\quad Q = Signal(t) \\cdot sin(\\omega t)$$"
   ]
  },
  {
   "cell_type": "markdown",
   "metadata": {
    "cell_style": "split",
    "slideshow": {
     "slide_type": "fragment"
    }
   },
   "source": [
    "###### Euler's Equation\n",
    "\n",
    "$$ e^{ix} = cos(x) + i\\:sin(x) \\quad where \\;\\; i=\\sqrt{-1}$$\n",
    "\n",
    "See Taylor Expansion for proof"
   ]
  },
  {
   "cell_type": "markdown",
   "metadata": {
    "cell_style": "split",
    "slideshow": {
     "slide_type": "fragment"
    }
   },
   "source": [
    "$$ \\mathcal{z} = Signal(t)\\cdot ctone(t) $$\n",
    "\n",
    "$$ \\begin{align}ctone(t) &= { e^{i 2 \\pi f t + \\phi} } \\\\\n",
    "&=  cos(2\\pi f t -\\phi) + i\\: sin(2\\pi f t -\\phi)\n",
    "\\end{align}\n",
    "$$"
   ]
  },
  {
   "cell_type": "markdown",
   "metadata": {
    "slideshow": {
     "slide_type": "slide"
    }
   },
   "source": [
    "## Complex Number\n",
    "\n",
    "$$ Z = a + i\\: b $$\n",
    "\n",
    "  + Operations\n",
    "  + Relationship between Phase and Delay\n",
    "  + Negative Frequencies?\n",
    "  + Direct-conversion receiver\n",
    "  + Complex Random Numbers"
   ]
  },
  {
   "cell_type": "markdown",
   "metadata": {
    "cell_style": "split",
    "slideshow": {
     "slide_type": "subslide"
    }
   },
   "source": [
    "### Complex Number Operations\n",
    "#### Magnitude and Phase\n",
    "$$ |Z| = \\sqrt{ {\\Re(Z)}^2 + {\\Im(Z)}^2} $$\n",
    "$$ \\angle Z = \\phi = {tan}^{-1}  \\left (\\cfrac{\\Im(Z)}{\\Re(Z)}\\right)$$"
   ]
  },
  {
   "cell_type": "markdown",
   "metadata": {
    "cell_style": "split",
    "slideshow": {
     "slide_type": "fragment"
    }
   },
   "source": [
    "\n",
    "#### Addition \n",
    "Just like vector addition\n",
    "$$ Z + Y = \\left ( \\Re({Z}) + \\Re({Y}) \\right ) + i \\left ( \\Im({Z}) + \\Im({Y}) \\right ) $$\n"
   ]
  },
  {
   "cell_type": "markdown",
   "metadata": {
    "cell_style": "split",
    "slideshow": {
     "slide_type": "fragment"
    }
   },
   "source": [
    "#### Subtraction\n",
    "Just like vector addition and scalar multiplication\n",
    "$$ \\begin{align*}\n",
    "   Z - Y  & = Z + (-1 \\cdot Y ) \\\\\n",
    "          & = \\left ( \\Re({Z}) - \\Re({Y}) \\right ) + i \\left ( \\Im({Z}) - \\Im({Y}) \\right ) \n",
    "\\end{align*}\n",
    "$$"
   ]
  },
  {
   "cell_type": "markdown",
   "metadata": {
    "cell_style": "split",
    "slideshow": {
     "slide_type": "fragment"
    }
   },
   "source": [
    "#### Multiplication\n",
    "Rotation and scaling, not vector product\n",
    "$$ Z \\cdot Y = (\\Re(Z) \\Re(Y) - \\Im(Z) \\Im(Y)) + i(\\Re(Z) \\Im(Y) + \\Im(Z) \\Re(Y))$$"
   ]
  },
  {
   "cell_type": "markdown",
   "metadata": {
    "cell_style": "split",
    "slideshow": {
     "slide_type": "fragment"
    }
   },
   "source": [
    "#### Multiplication Magnitude and Angle\n",
    "$$ Z \\cdot Y = |Z| |Y|\\angle \\left ( \\angle Z + \\angle Y\\right )$$\n"
   ]
  },
  {
   "cell_type": "markdown",
   "metadata": {
    "slideshow": {
     "slide_type": "notes"
    }
   },
   "source": []
  },
  {
   "cell_type": "markdown",
   "metadata": {
    "cell_style": "split",
    "slideshow": {
     "slide_type": "subslide"
    }
   },
   "source": [
    "### Complex Number Operations\n",
    "\n"
   ]
  },
  {
   "cell_type": "markdown",
   "metadata": {
    "cell_style": "split",
    "slideshow": {
     "slide_type": "fragment"
    }
   },
   "source": [
    "#### Conjugation\n",
    "\n",
    "$$ Z^* = \\Re(Z) - i\\: \\Im(Z) $$\n",
    "\n",
    "##### Matrix Hermitian\n",
    "\n",
    "$$ \\bf R = $$"
   ]
  },
  {
   "cell_type": "markdown",
   "metadata": {
    "cell_style": "split",
    "slideshow": {
     "slide_type": "fragment"
    }
   },
   "source": [
    "#### Division\n",
    "\n",
    "$$ \\cfrac{Z}{Y} = \\cfrac{|Z|}{|Y|}\\angle \\left ( \\angle Z - \\angle Y \\right )  $$"
   ]
  },
  {
   "cell_type": "markdown",
   "metadata": {
    "cell_style": "split",
    "slideshow": {
     "slide_type": "fragment"
    }
   },
   "source": [
    "##### Real Powers\n",
    "$$ Z^n = |Z|^{n} \\angle \\left ( n \\: \\angle Z \\right ) $$\n",
    "##### Complex Powers\n",
    "$$ Z^\\alpha =  \\cdots \\cdots $$"
   ]
  },
  {
   "cell_type": "markdown",
   "metadata": {
    "slideshow": {
     "slide_type": "notes"
    }
   },
   "source": []
  },
  {
   "cell_type": "markdown",
   "metadata": {
    "slideshow": {
     "slide_type": "subslide"
    }
   },
   "source": [
    "### Delay and Phase\n",
    "\n",
    "$$ \\begin{align}ctone(t) &= { e^{i (2 \\pi f t + \\phi )} } \\\\\n",
    "&= { e^{i 2 \\pi f \\left (t + \\cfrac{\\phi}{2 \\pi f} \\right ) }  }\n",
    "\\end{align}\n",
    "$$\n",
    "\n",
    "Observe $\\cfrac{\\phi}{2 \\pi f}$ is like time.\n",
    "\n",
    "$$ t = \\cfrac{\\phi}{2 \\pi f} $$"
   ]
  },
  {
   "cell_type": "markdown",
   "metadata": {
    "cell_style": "split",
    "slideshow": {
     "slide_type": "subslide"
    }
   },
   "source": [
    "### Negative Frequencies\n",
    "\n",
    "#### Real\n",
    "\n",
    "$$ tone(t) = sin(2\\pi f \\: t - \\phi ) $$\n",
    "\n",
    "\n",
    "+ What happens if $f$ is negative?\n",
    "\n",
    "\n",
    "+ Recall the matched filter animation"
   ]
  },
  {
   "cell_type": "markdown",
   "metadata": {
    "cell_style": "split",
    "slideshow": {
     "slide_type": "-"
    }
   },
   "source": [
    "<img src=\"sine_wave.gif\" width=\"100%\">"
   ]
  },
  {
   "cell_type": "markdown",
   "metadata": {
    "slideshow": {
     "slide_type": "subslide"
    }
   },
   "source": [
    "<img src=\"matched_filter_IQ.gif\" width=\"90%\">"
   ]
  },
  {
   "cell_type": "markdown",
   "metadata": {
    "cell_style": "split",
    "slideshow": {
     "slide_type": "subslide"
    }
   },
   "source": [
    "### Negative Frequencies\n",
    "\n",
    "#### Complex\n",
    "\n",
    "$$ ctone(t) = { e^{i (2 \\pi f t + \\phi) } }  $$\n",
    "\n",
    " What happens if $f$ is 0 ?\n"
   ]
  },
  {
   "cell_type": "markdown",
   "metadata": {
    "cell_style": "split",
    "slideshow": {
     "slide_type": "fragment"
    }
   },
   "source": [
    " What happens if $f$ is negative?"
   ]
  },
  {
   "cell_type": "markdown",
   "metadata": {
    "cell_style": "split",
    "slideshow": {
     "slide_type": "fragment"
    }
   },
   "source": [
    "What happens if $f$ is complex?"
   ]
  },
  {
   "cell_type": "markdown",
   "metadata": {},
   "source": []
  },
  {
   "cell_type": "markdown",
   "metadata": {
    "slideshow": {
     "slide_type": "slide"
    }
   },
   "source": [
    "# End of Section 1"
   ]
  },
  {
   "cell_type": "markdown",
   "metadata": {},
   "source": [
    "\n",
    "  + Basic Math Operations\n",
    "    + Linearity\n",
    "    + Time Inverance \n",
    "    + Bounded Input Bounded Output\n",
    "    + Dirivatives and Differences\n",
    "    + Integrates and Sumations \n",
    "    + Useful Non-linear Functions\n",
    "      + ABS\n",
    "      + Squared\n",
    "      + Log and Decibels\n",
    "    \n",
    "  + Continous Vs. Descrete Signals\n",
    "    + Analog to Digital Conversion\n",
    "    + Digital to Analog Conversion\n",
    "    + Delta Symbol\n",
    "    + Nyquist Sampling\n",
    "    \n",
    "  + Random Varaibles\n",
    "    + Basics of Probablilty\n",
    "      + Probability Density Function\n",
    "      + Total Probablilty\n",
    "      + Cumulative Distribution Function\n",
    "    + Continuous Vs. Discrete\n",
    "    + Common Distributions\n",
    "      + Uniform\n",
    "      + Exponential\n",
    "      + Gaussian\n",
    "      + Chi Squared\n",
    "    + Independent and identically Distributed Random Variables\n",
    "    + Operations on random variables\n",
    "    + Central Limit Theorem\n",
    "    + Correlation\n",
    "    \n",
    "  + Basic Linear Algebra\n",
    "    + Vector Operations\n",
    "      + Addition\n",
    "      + Scaler Multiplication\n",
    "      + Vector Span\n",
    "    + Vector Products\n",
    "      + Elementwise Product\n",
    "      + Outter Product\n",
    "      + Inner Product\n",
    "    + Matrix Operations\n",
    "    + Cauchy–Schwarz inequality\n",
    "    + Matched Filter\n",
    "    + Convolution\n",
    "    + Correlation of random vectors\n",
    "    + Rotation Matrices\n",
    "    + \n",
    "    \n",
    "  + Frequency / Tone\n",
    "    + Real valued\n",
    "    + Matched Filter Real valued\n",
    "    + Phase\n",
    "    + Complex Samples\n",
    "    \n",
    "  + Complex Number\n",
    "    + Direct-conversion receiver\n",
    "    + Negative Frequencies?\n",
    "    + Relationship between Phase and Delay\n",
    "    + Complex Random Numbers\n",
    "  "
   ]
  },
  {
   "cell_type": "markdown",
   "metadata": {
    "slideshow": {
     "slide_type": "notes"
    }
   },
   "source": []
  }
 ],
 "metadata": {
  "celltoolbar": "Slideshow",
  "kernelspec": {
   "display_name": "Python 3",
   "language": "python",
   "name": "python3"
  },
  "language_info": {
   "codemirror_mode": {
    "name": "ipython",
    "version": 3
   },
   "file_extension": ".py",
   "mimetype": "text/x-python",
   "name": "python",
   "nbconvert_exporter": "python",
   "pygments_lexer": "ipython3",
   "version": "3.8.10"
  }
 },
 "nbformat": 4,
 "nbformat_minor": 4
}
