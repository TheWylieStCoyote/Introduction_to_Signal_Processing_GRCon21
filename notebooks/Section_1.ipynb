{
 "cells": [
  {
   "cell_type": "markdown",
   "metadata": {
    "slideshow": {
     "slide_type": "slide"
    }
   },
   "source": [
    "# Section 1\n"
   ]
  },
  {
   "cell_type": "markdown",
   "metadata": {
    "slideshow": {
     "slide_type": "slide"
    }
   },
   "source": [
    "# What Is A Signal\n",
    "\n",
    "\n",
    "<img src=\"sine_wave_sampled.gif?2\" width=\"75%\">"
   ]
  },
  {
   "cell_type": "code",
   "execution_count": 16,
   "metadata": {
    "cell_style": "split",
    "slideshow": {
     "slide_type": "subslide"
    }
   },
   "outputs": [],
   "source": [
    "import numpy \n",
    "from numpy import pi\n",
    "from scipy import fft, linalg, signal \n",
    "from scipy import stats, io\n",
    "\n",
    "from ipywidgets import *\n",
    "\n",
    "from datetime import datetime\n",
    "\n",
    "import matplotlib.pyplot as plt\n",
    "\n",
    "%matplotlib notebook"
   ]
  },
  {
   "cell_type": "code",
   "execution_count": 18,
   "metadata": {
    "cell_style": "split",
    "slideshow": {
     "slide_type": "-"
    }
   },
   "outputs": [
    {
     "name": "stdout",
     "output_type": "stream",
     "text": [
      "2021-09-14 17:35:06.803933\n"
     ]
    }
   ],
   "source": [
    "print(datetime.now())"
   ]
  },
  {
   "cell_type": "markdown",
   "metadata": {
    "slideshow": {
     "slide_type": "slide"
    }
   },
   "source": [
    "## What Is A Signal\n"
   ]
  },
  {
   "cell_type": "markdown",
   "metadata": {
    "slideshow": {
     "slide_type": "fragment"
    }
   },
   "source": [
    "  + Something that carries or conveys information"
   ]
  },
  {
   "cell_type": "markdown",
   "metadata": {
    "slideshow": {
     "slide_type": "fragment"
    }
   },
   "source": [
    "  + What does that even mean?"
   ]
  },
  {
   "cell_type": "markdown",
   "metadata": {
    "slideshow": {
     "slide_type": "fragment"
    }
   },
   "source": [
    "  + That is about anything?"
   ]
  },
  {
   "cell_type": "markdown",
   "metadata": {
    "slideshow": {
     "slide_type": "fragment"
    }
   },
   "source": [
    "  + This is so general it maybe useless, maybe"
   ]
  },
  {
   "cell_type": "markdown",
   "metadata": {
    "slideshow": {
     "slide_type": "slide"
    }
   },
   "source": [
    "## Examples of Signals"
   ]
  },
  {
   "cell_type": "markdown",
   "metadata": {
    "slideshow": {
     "slide_type": "subslide"
    }
   },
   "source": [
    "#### Sound\n",
    "    + Acoustic waves\n",
    "    + Humans hear between 20Hz to 20 KHz\n",
    "    \n",
    "  \n",
    "  <img src=\"Theme_Classic.png\" width=\"65%\" />\n",
    "  \n",
    " https://www.audacityteam.org/"
   ]
  },
  {
   "cell_type": "markdown",
   "metadata": {
    "cell_style": "center",
    "slideshow": {
     "slide_type": "subslide"
    }
   },
   "source": [
    "### Sea Levels\n",
    "\n",
    "\n",
    "\n",
    "<img src=\"NASA-Satellite-sea-level-rise-observations.jpg\" width=\"40%\" />\n",
    "\n",
    "+ https://climate.nasa.gov/vital-signs/sea-level/\n",
    "\n",
    "+ https://en.wikipedia.org/wiki/Sea_level_rise\n"
   ]
  },
  {
   "cell_type": "markdown",
   "metadata": {
    "slideshow": {
     "slide_type": "subslide"
    }
   },
   "source": [
    "### Stock Prices\n",
    " [Game Stop 1 year](https://www.google.com/finance/quote/GME:NYSE?sa=X&sqi=2&ved=2ahUKEwiOzfqbxP_yAhWfQ_EDHVQZDgQQ3ecFegQILhAS&window=1Y)\n",
    "     \n",
    "<img src=\"GameStopStock.png?1\" width=\"55%\">"
   ]
  },
  {
   "cell_type": "markdown",
   "metadata": {
    "cell_style": "split",
    "slideshow": {
     "slide_type": "subslide"
    }
   },
   "source": [
    "#### Sun Spots\n",
    "\n",
    "<img src=\"Sunspots_1302_Sep_2011_by_NASA.jpg\" width=\"85%\" >\n",
    "\n",
    "https://en.wikipedia.org/wiki/Sunspot\n"
   ]
  },
  {
   "cell_type": "markdown",
   "metadata": {
    "cell_style": "split",
    "slideshow": {
     "slide_type": "fragment"
    }
   },
   "source": [
    "#### Sun Spots over time\n",
    "   \n",
    "<img src=\"Sunspot_Numbers.png\" width=\"100%\" >"
   ]
  },
  {
   "cell_type": "markdown",
   "metadata": {
    "slideshow": {
     "slide_type": "skip"
    }
   },
   "source": []
  },
  {
   "cell_type": "markdown",
   "metadata": {
    "cell_style": "split",
    "slideshow": {
     "slide_type": "subslide"
    }
   },
   "source": [
    "#### Gravity Waves\n",
    "  + Surface waves\n",
    "  + Sea waves\n",
    "  + Eeathquakes\n",
    "  \n",
    "\n",
    "https://en.wikipedia.org/wiki/Wake"
   ]
  },
  {
   "cell_type": "markdown",
   "metadata": {
    "cell_style": "split",
    "slideshow": {
     "slide_type": "-"
    }
   },
   "source": [
    "<img src=\"duck_wake.jpg\" width=\"100%\">"
   ]
  },
  {
   "cell_type": "code",
   "execution_count": null,
   "metadata": {
    "slideshow": {
     "slide_type": "notes"
    }
   },
   "outputs": [],
   "source": []
  },
  {
   "cell_type": "markdown",
   "metadata": {
    "cell_style": "split",
    "slideshow": {
     "slide_type": "subslide"
    }
   },
   "source": [
    "#### Gravitational Waves\n",
    "\n",
    "+ Find Black Holes combining\n",
    "+ 1 Billion dollar detector\n",
    "\n",
    "<img src=\"1280px-LIGO_Hanford_aerial_05.jpg\" width=\"50%\" >\n",
    "\n",
    "[http://svs.gsfc.nasa.gov/](http://svs.gsfc.nasa.gov//vis/a010000/a010500/a010543/WhtDwrfCollid_ProRes_720x486_59.94fps.webmhd.webm)\n"
   ]
  },
  {
   "cell_type": "markdown",
   "metadata": {
    "cell_style": "split",
    "slideshow": {
     "slide_type": "-"
    }
   },
   "source": [
    "\n",
    "+ 2017 Nobel prize\n",
    "\n",
    "\n",
    "\n",
    "<img src=\"ns_gw_art.jpg\" width=\"75%\">\n",
    "\n",
    "https://www.ligo.caltech.edu/page/what-are-gw\n",
    "\n",
    "https://en.wikipedia.org/wiki/Gravitational-wave_observatory\n"
   ]
  },
  {
   "cell_type": "code",
   "execution_count": null,
   "metadata": {
    "slideshow": {
     "slide_type": "notes"
    }
   },
   "outputs": [],
   "source": []
  },
  {
   "cell_type": "markdown",
   "metadata": {
    "cell_style": "split",
    "slideshow": {
     "slide_type": "subslide"
    }
   },
   "source": [
    "#### Electrical\n",
    "  + Probably what everyone things of\n",
    "  + It's all electrical signals at some point\n",
    "  + Voltage or current changing in\n",
    "    + Time\n",
    "    + Node\n",
    "    + position"
   ]
  },
  {
   "cell_type": "markdown",
   "metadata": {
    "cell_style": "split",
    "slideshow": {
     "slide_type": "-"
    }
   },
   "source": [
    "<img src=\"Scope.jpeg\" width=\"100%\">"
   ]
  },
  {
   "cell_type": "code",
   "execution_count": null,
   "metadata": {
    "slideshow": {
     "slide_type": "notes"
    }
   },
   "outputs": [],
   "source": []
  },
  {
   "cell_type": "markdown",
   "metadata": {
    "cell_style": "split",
    "slideshow": {
     "slide_type": "subslide"
    }
   },
   "source": [
    "##### Light\n",
    "  + Cameras\n",
    "  + Light level\n",
    "\n"
   ]
  },
  {
   "cell_type": "markdown",
   "metadata": {
    "cell_style": "split",
    "slideshow": {
     "slide_type": "-"
    }
   },
   "source": []
  },
  {
   "cell_type": "code",
   "execution_count": null,
   "metadata": {},
   "outputs": [],
   "source": []
  },
  {
   "cell_type": "markdown",
   "metadata": {
    "cell_style": "split",
    "slideshow": {
     "slide_type": "subslide"
    }
   },
   "source": [
    "#### Radio Waves\n",
    "    + FM Radio\n",
    "    + Radar\n",
    "    + Radio Astronomy \n",
    "    "
   ]
  },
  {
   "cell_type": "markdown",
   "metadata": {
    "cell_style": "split",
    "slideshow": {
     "slide_type": "-"
    }
   },
   "source": [
    "<img src=\"HW_tutorial_freq.png\" width=\"100%\">\n",
    "\n",
    "https://wiki.gnuradio.org/index.php/Guided_Tutorial_Hardware_Considerations"
   ]
  },
  {
   "cell_type": "code",
   "execution_count": null,
   "metadata": {
    "slideshow": {
     "slide_type": "skip"
    }
   },
   "outputs": [],
   "source": []
  },
  {
   "cell_type": "markdown",
   "metadata": {
    "cell_style": "split",
    "slideshow": {
     "slide_type": "subslide"
    }
   },
   "source": [
    "##### Radar\n",
    "  + Detecting aircraft, ships, ...\n",
    "  + Automotive distance sensing\n",
    "  + Imaging Astreroids\n",
    "    + Beyond the ability of optical telescopes\n",
    "    + Each image ~2Km square\n",
    "    + ~20X Earth-Moon distance\n",
    "\n"
   ]
  },
  {
   "cell_type": "markdown",
   "metadata": {
    "cell_style": "split",
    "slideshow": {
     "slide_type": "-"
    }
   },
   "source": [
    "https://www.jpl.nasa.gov/news/nine-radar-images-of-asteroid-2007-pa8\n",
    "\n",
    "<img src=\"astro_sar_img.jpg\" width=\"100%\">"
   ]
  },
  {
   "cell_type": "code",
   "execution_count": null,
   "metadata": {
    "slideshow": {
     "slide_type": "notes"
    }
   },
   "outputs": [],
   "source": []
  },
  {
   "cell_type": "markdown",
   "metadata": {
    "cell_style": "split",
    "slideshow": {
     "slide_type": "subslide"
    }
   },
   "source": [
    "#### Radio Astronomy\n",
    "\n",
    "<img src=\"USA.NM.VeryLargeArray.02.jpg\" width=\"100%\">\n",
    "\n",
    "https://en.wikipedia.org/wiki/Very_Large_Array\n",
    "\n",
    "\n",
    "https://public.nrao.edu/telescopes/vla/"
   ]
  },
  {
   "cell_type": "markdown",
   "metadata": {
    "cell_style": "split",
    "slideshow": {
     "slide_type": "-"
    }
   },
   "source": []
  },
  {
   "cell_type": "markdown",
   "metadata": {
    "slideshow": {
     "slide_type": "notes"
    }
   },
   "source": []
  },
  {
   "cell_type": "markdown",
   "metadata": {
    "slideshow": {
     "slide_type": "notes"
    }
   },
   "source": [
    "#### Examples of Signals\n",
    "\n",
    "  + Sound\n",
    "  + Sea Level\n",
    "  + Stock Prices\n",
    "  + Sun Spots\n",
    "  + Gravity Waves\n",
    "  + Electrical \n",
    "  + Electromagnetic waves\n",
    "    + Light\n",
    "    + Radio Waves\n",
    "    + Communications\n",
    "    + Radar\n",
    "    + \n",
    "    "
   ]
  },
  {
   "cell_type": "markdown",
   "metadata": {
    "slideshow": {
     "slide_type": "slide"
    }
   },
   "source": [
    "##  Basic RF problems\n",
    "\n",
    "#### Communication\n",
    "  + Getting data between places\n",
    "\n",
    "#### Radar\n",
    "  + Using radio waves to sense something\n",
    "\n",
    "#### Passive Inference\n",
    "  + Using Emotions that already exist what can I figure out"
   ]
  },
  {
   "cell_type": "markdown",
   "metadata": {},
   "source": []
  },
  {
   "cell_type": "markdown",
   "metadata": {},
   "source": []
  },
  {
   "cell_type": "markdown",
   "metadata": {
    "cell_style": "split",
    "slideshow": {
     "slide_type": "slide"
    }
   },
   "source": [
    "## Continuous and Discrete Signals\n",
    "\n",
    "\n",
    "  + Analog to Digital Conversion\n",
    "  + Digital to Analog Conversion\n",
    "  + $\\delta $ (Delta) Function\n",
    "  + Nyquist Sampling\n",
    "\n"
   ]
  },
  {
   "cell_type": "markdown",
   "metadata": {
    "cell_style": "split",
    "slideshow": {
     "slide_type": "-"
    }
   },
   "source": [
    "\n",
    "\n",
    "<img src=\"sine_wave_sampled.gif?0\" width=\"100%\">"
   ]
  },
  {
   "cell_type": "markdown",
   "metadata": {
    "slideshow": {
     "slide_type": "notes"
    }
   },
   "source": []
  },
  {
   "cell_type": "markdown",
   "metadata": {
    "cell_style": "split",
    "slideshow": {
     "slide_type": "subslide"
    }
   },
   "source": [
    "### Continuous\n",
    "\n",
    "  + Defined at every point\n",
    "  + Can be infinite in bandwidth\n",
    "  + Convertible to Discrete by a process called sampling\n"
   ]
  },
  {
   "cell_type": "markdown",
   "metadata": {
    "cell_style": "split",
    "slideshow": {
     "slide_type": "subslide"
    }
   },
   "source": [
    "### Discrete\n",
    "\n",
    "  + Series of values\n",
    "  + Only defined at discrete points in time\n",
    "  + Maximum bandwidth of $ f_s / 2 $\n",
    "    + Nyquist"
   ]
  },
  {
   "cell_type": "code",
   "execution_count": null,
   "metadata": {
    "slideshow": {
     "slide_type": "notes"
    }
   },
   "outputs": [],
   "source": []
  },
  {
   "cell_type": "markdown",
   "metadata": {
    "cell_style": "split",
    "slideshow": {
     "slide_type": "subslide"
    }
   },
   "source": [
    "### Sampling\n",
    "\n",
    "  + Analog to Digital Conversion\n",
    "  \n",
    " $$ S[n] = \\sum_{i}^{-\\infty \\dots \\infty} s(t) \\cdot \\delta(t-i) $$\n",
    " \n",
    " <img src=\"pulse_train.png?1\" width=\"100%\">"
   ]
  },
  {
   "cell_type": "markdown",
   "metadata": {
    "cell_style": "split",
    "slideshow": {
     "slide_type": "-"
    }
   },
   "source": [
    "\n",
    "\n",
    "#### $ \\delta $ (Delta) Function\n",
    "\n",
    "$$ \\delta (t) = \\Big \\{ \\begin{matrix} \\infty \\: :\\quad t=0 \\\\ \\quad 0 : \\quad otherwise \\end{matrix} $$\n",
    "\n",
    "$$ 1 = \\int_{-\\infty}^{\\infty} \\delta(t) \\: dt $$\n",
    "\n",
    "\n"
   ]
  },
  {
   "cell_type": "markdown",
   "metadata": {
    "slideshow": {
     "slide_type": "notes"
    }
   },
   "source": []
  },
  {
   "cell_type": "markdown",
   "metadata": {
    "cell_style": "split",
    "slideshow": {
     "slide_type": "subslide"
    }
   },
   "source": [
    "### Nyquist\n",
    "\n",
    "  + Sampling two or more times faster than the bandwidth of the signal\n",
    "  + Critera for signal recovery\n",
    "  + Often systems operate faster\n",
    "  \n",
    "  $$ BW < \\cfrac{f_s}{2} $$"
   ]
  },
  {
   "cell_type": "markdown",
   "metadata": {
    "cell_style": "split",
    "slideshow": {
     "slide_type": "fragment"
    }
   },
   "source": [
    "<img src=\"1920px-Aliasing-folding_SVG.svg.png\" width=\"100%\">\n",
    "\n",
    "[https://en.wikipedia.org/wiki/Nyquist_frequency](https://en.wikipedia.org/wiki/Nyquist_frequency)"
   ]
  },
  {
   "cell_type": "code",
   "execution_count": null,
   "metadata": {
    "slideshow": {
     "slide_type": "notes"
    }
   },
   "outputs": [],
   "source": []
  },
  {
   "cell_type": "markdown",
   "metadata": {
    "cell_style": "split",
    "slideshow": {
     "slide_type": "subslide"
    }
   },
   "source": [
    "### Time Series\n",
    "  + Sampled at a regular times\n",
    "  + Identical Sampling"
   ]
  },
  {
   "cell_type": "markdown",
   "metadata": {
    "cell_style": "split",
    "slideshow": {
     "slide_type": "-"
    }
   },
   "source": [
    "<img src=\"sine_wave_sampled.gif?0\" width=\"100%\">"
   ]
  },
  {
   "cell_type": "markdown",
   "metadata": {
    "slideshow": {
     "slide_type": "notes"
    }
   },
   "source": []
  },
  {
   "cell_type": "code",
   "execution_count": 168,
   "metadata": {
    "scrolled": false,
    "slideshow": {
     "slide_type": "subslide"
    }
   },
   "outputs": [
    {
     "data": {
      "application/javascript": [
       "/* Put everything inside the global mpl namespace */\n",
       "window.mpl = {};\n",
       "\n",
       "\n",
       "mpl.get_websocket_type = function() {\n",
       "    if (typeof(WebSocket) !== 'undefined') {\n",
       "        return WebSocket;\n",
       "    } else if (typeof(MozWebSocket) !== 'undefined') {\n",
       "        return MozWebSocket;\n",
       "    } else {\n",
       "        alert('Your browser does not have WebSocket support. ' +\n",
       "              'Please try Chrome, Safari or Firefox ≥ 6. ' +\n",
       "              'Firefox 4 and 5 are also supported but you ' +\n",
       "              'have to enable WebSockets in about:config.');\n",
       "    };\n",
       "}\n",
       "\n",
       "mpl.figure = function(figure_id, websocket, ondownload, parent_element) {\n",
       "    this.id = figure_id;\n",
       "\n",
       "    this.ws = websocket;\n",
       "\n",
       "    this.supports_binary = (this.ws.binaryType != undefined);\n",
       "\n",
       "    if (!this.supports_binary) {\n",
       "        var warnings = document.getElementById(\"mpl-warnings\");\n",
       "        if (warnings) {\n",
       "            warnings.style.display = 'block';\n",
       "            warnings.textContent = (\n",
       "                \"This browser does not support binary websocket messages. \" +\n",
       "                    \"Performance may be slow.\");\n",
       "        }\n",
       "    }\n",
       "\n",
       "    this.imageObj = new Image();\n",
       "\n",
       "    this.context = undefined;\n",
       "    this.message = undefined;\n",
       "    this.canvas = undefined;\n",
       "    this.rubberband_canvas = undefined;\n",
       "    this.rubberband_context = undefined;\n",
       "    this.format_dropdown = undefined;\n",
       "\n",
       "    this.image_mode = 'full';\n",
       "\n",
       "    this.root = $('<div/>');\n",
       "    this._root_extra_style(this.root)\n",
       "    this.root.attr('style', 'display: inline-block');\n",
       "\n",
       "    $(parent_element).append(this.root);\n",
       "\n",
       "    this._init_header(this);\n",
       "    this._init_canvas(this);\n",
       "    this._init_toolbar(this);\n",
       "\n",
       "    var fig = this;\n",
       "\n",
       "    this.waiting = false;\n",
       "\n",
       "    this.ws.onopen =  function () {\n",
       "            fig.send_message(\"supports_binary\", {value: fig.supports_binary});\n",
       "            fig.send_message(\"send_image_mode\", {});\n",
       "            if (mpl.ratio != 1) {\n",
       "                fig.send_message(\"set_dpi_ratio\", {'dpi_ratio': mpl.ratio});\n",
       "            }\n",
       "            fig.send_message(\"refresh\", {});\n",
       "        }\n",
       "\n",
       "    this.imageObj.onload = function() {\n",
       "            if (fig.image_mode == 'full') {\n",
       "                // Full images could contain transparency (where diff images\n",
       "                // almost always do), so we need to clear the canvas so that\n",
       "                // there is no ghosting.\n",
       "                fig.context.clearRect(0, 0, fig.canvas.width, fig.canvas.height);\n",
       "            }\n",
       "            fig.context.drawImage(fig.imageObj, 0, 0);\n",
       "        };\n",
       "\n",
       "    this.imageObj.onunload = function() {\n",
       "        fig.ws.close();\n",
       "    }\n",
       "\n",
       "    this.ws.onmessage = this._make_on_message_function(this);\n",
       "\n",
       "    this.ondownload = ondownload;\n",
       "}\n",
       "\n",
       "mpl.figure.prototype._init_header = function() {\n",
       "    var titlebar = $(\n",
       "        '<div class=\"ui-dialog-titlebar ui-widget-header ui-corner-all ' +\n",
       "        'ui-helper-clearfix\"/>');\n",
       "    var titletext = $(\n",
       "        '<div class=\"ui-dialog-title\" style=\"width: 100%; ' +\n",
       "        'text-align: center; padding: 3px;\"/>');\n",
       "    titlebar.append(titletext)\n",
       "    this.root.append(titlebar);\n",
       "    this.header = titletext[0];\n",
       "}\n",
       "\n",
       "\n",
       "\n",
       "mpl.figure.prototype._canvas_extra_style = function(canvas_div) {\n",
       "\n",
       "}\n",
       "\n",
       "\n",
       "mpl.figure.prototype._root_extra_style = function(canvas_div) {\n",
       "\n",
       "}\n",
       "\n",
       "mpl.figure.prototype._init_canvas = function() {\n",
       "    var fig = this;\n",
       "\n",
       "    var canvas_div = $('<div/>');\n",
       "\n",
       "    canvas_div.attr('style', 'position: relative; clear: both; outline: 0');\n",
       "\n",
       "    function canvas_keyboard_event(event) {\n",
       "        return fig.key_event(event, event['data']);\n",
       "    }\n",
       "\n",
       "    canvas_div.keydown('key_press', canvas_keyboard_event);\n",
       "    canvas_div.keyup('key_release', canvas_keyboard_event);\n",
       "    this.canvas_div = canvas_div\n",
       "    this._canvas_extra_style(canvas_div)\n",
       "    this.root.append(canvas_div);\n",
       "\n",
       "    var canvas = $('<canvas/>');\n",
       "    canvas.addClass('mpl-canvas');\n",
       "    canvas.attr('style', \"left: 0; top: 0; z-index: 0; outline: 0\")\n",
       "\n",
       "    this.canvas = canvas[0];\n",
       "    this.context = canvas[0].getContext(\"2d\");\n",
       "\n",
       "    var backingStore = this.context.backingStorePixelRatio ||\n",
       "\tthis.context.webkitBackingStorePixelRatio ||\n",
       "\tthis.context.mozBackingStorePixelRatio ||\n",
       "\tthis.context.msBackingStorePixelRatio ||\n",
       "\tthis.context.oBackingStorePixelRatio ||\n",
       "\tthis.context.backingStorePixelRatio || 1;\n",
       "\n",
       "    mpl.ratio = (window.devicePixelRatio || 1) / backingStore;\n",
       "\n",
       "    var rubberband = $('<canvas/>');\n",
       "    rubberband.attr('style', \"position: absolute; left: 0; top: 0; z-index: 1;\")\n",
       "\n",
       "    var pass_mouse_events = true;\n",
       "\n",
       "    canvas_div.resizable({\n",
       "        start: function(event, ui) {\n",
       "            pass_mouse_events = false;\n",
       "        },\n",
       "        resize: function(event, ui) {\n",
       "            fig.request_resize(ui.size.width, ui.size.height);\n",
       "        },\n",
       "        stop: function(event, ui) {\n",
       "            pass_mouse_events = true;\n",
       "            fig.request_resize(ui.size.width, ui.size.height);\n",
       "        },\n",
       "    });\n",
       "\n",
       "    function mouse_event_fn(event) {\n",
       "        if (pass_mouse_events)\n",
       "            return fig.mouse_event(event, event['data']);\n",
       "    }\n",
       "\n",
       "    rubberband.mousedown('button_press', mouse_event_fn);\n",
       "    rubberband.mouseup('button_release', mouse_event_fn);\n",
       "    // Throttle sequential mouse events to 1 every 20ms.\n",
       "    rubberband.mousemove('motion_notify', mouse_event_fn);\n",
       "\n",
       "    rubberband.mouseenter('figure_enter', mouse_event_fn);\n",
       "    rubberband.mouseleave('figure_leave', mouse_event_fn);\n",
       "\n",
       "    canvas_div.on(\"wheel\", function (event) {\n",
       "        event = event.originalEvent;\n",
       "        event['data'] = 'scroll'\n",
       "        if (event.deltaY < 0) {\n",
       "            event.step = 1;\n",
       "        } else {\n",
       "            event.step = -1;\n",
       "        }\n",
       "        mouse_event_fn(event);\n",
       "    });\n",
       "\n",
       "    canvas_div.append(canvas);\n",
       "    canvas_div.append(rubberband);\n",
       "\n",
       "    this.rubberband = rubberband;\n",
       "    this.rubberband_canvas = rubberband[0];\n",
       "    this.rubberband_context = rubberband[0].getContext(\"2d\");\n",
       "    this.rubberband_context.strokeStyle = \"#000000\";\n",
       "\n",
       "    this._resize_canvas = function(width, height) {\n",
       "        // Keep the size of the canvas, canvas container, and rubber band\n",
       "        // canvas in synch.\n",
       "        canvas_div.css('width', width)\n",
       "        canvas_div.css('height', height)\n",
       "\n",
       "        canvas.attr('width', width * mpl.ratio);\n",
       "        canvas.attr('height', height * mpl.ratio);\n",
       "        canvas.attr('style', 'width: ' + width + 'px; height: ' + height + 'px;');\n",
       "\n",
       "        rubberband.attr('width', width);\n",
       "        rubberband.attr('height', height);\n",
       "    }\n",
       "\n",
       "    // Set the figure to an initial 600x600px, this will subsequently be updated\n",
       "    // upon first draw.\n",
       "    this._resize_canvas(600, 600);\n",
       "\n",
       "    // Disable right mouse context menu.\n",
       "    $(this.rubberband_canvas).bind(\"contextmenu\",function(e){\n",
       "        return false;\n",
       "    });\n",
       "\n",
       "    function set_focus () {\n",
       "        canvas.focus();\n",
       "        canvas_div.focus();\n",
       "    }\n",
       "\n",
       "    window.setTimeout(set_focus, 100);\n",
       "}\n",
       "\n",
       "mpl.figure.prototype._init_toolbar = function() {\n",
       "    var fig = this;\n",
       "\n",
       "    var nav_element = $('<div/>');\n",
       "    nav_element.attr('style', 'width: 100%');\n",
       "    this.root.append(nav_element);\n",
       "\n",
       "    // Define a callback function for later on.\n",
       "    function toolbar_event(event) {\n",
       "        return fig.toolbar_button_onclick(event['data']);\n",
       "    }\n",
       "    function toolbar_mouse_event(event) {\n",
       "        return fig.toolbar_button_onmouseover(event['data']);\n",
       "    }\n",
       "\n",
       "    for(var toolbar_ind in mpl.toolbar_items) {\n",
       "        var name = mpl.toolbar_items[toolbar_ind][0];\n",
       "        var tooltip = mpl.toolbar_items[toolbar_ind][1];\n",
       "        var image = mpl.toolbar_items[toolbar_ind][2];\n",
       "        var method_name = mpl.toolbar_items[toolbar_ind][3];\n",
       "\n",
       "        if (!name) {\n",
       "            // put a spacer in here.\n",
       "            continue;\n",
       "        }\n",
       "        var button = $('<button/>');\n",
       "        button.addClass('ui-button ui-widget ui-state-default ui-corner-all ' +\n",
       "                        'ui-button-icon-only');\n",
       "        button.attr('role', 'button');\n",
       "        button.attr('aria-disabled', 'false');\n",
       "        button.click(method_name, toolbar_event);\n",
       "        button.mouseover(tooltip, toolbar_mouse_event);\n",
       "\n",
       "        var icon_img = $('<span/>');\n",
       "        icon_img.addClass('ui-button-icon-primary ui-icon');\n",
       "        icon_img.addClass(image);\n",
       "        icon_img.addClass('ui-corner-all');\n",
       "\n",
       "        var tooltip_span = $('<span/>');\n",
       "        tooltip_span.addClass('ui-button-text');\n",
       "        tooltip_span.html(tooltip);\n",
       "\n",
       "        button.append(icon_img);\n",
       "        button.append(tooltip_span);\n",
       "\n",
       "        nav_element.append(button);\n",
       "    }\n",
       "\n",
       "    var fmt_picker_span = $('<span/>');\n",
       "\n",
       "    var fmt_picker = $('<select/>');\n",
       "    fmt_picker.addClass('mpl-toolbar-option ui-widget ui-widget-content');\n",
       "    fmt_picker_span.append(fmt_picker);\n",
       "    nav_element.append(fmt_picker_span);\n",
       "    this.format_dropdown = fmt_picker[0];\n",
       "\n",
       "    for (var ind in mpl.extensions) {\n",
       "        var fmt = mpl.extensions[ind];\n",
       "        var option = $(\n",
       "            '<option/>', {selected: fmt === mpl.default_extension}).html(fmt);\n",
       "        fmt_picker.append(option);\n",
       "    }\n",
       "\n",
       "    // Add hover states to the ui-buttons\n",
       "    $( \".ui-button\" ).hover(\n",
       "        function() { $(this).addClass(\"ui-state-hover\");},\n",
       "        function() { $(this).removeClass(\"ui-state-hover\");}\n",
       "    );\n",
       "\n",
       "    var status_bar = $('<span class=\"mpl-message\"/>');\n",
       "    nav_element.append(status_bar);\n",
       "    this.message = status_bar[0];\n",
       "}\n",
       "\n",
       "mpl.figure.prototype.request_resize = function(x_pixels, y_pixels) {\n",
       "    // Request matplotlib to resize the figure. Matplotlib will then trigger a resize in the client,\n",
       "    // which will in turn request a refresh of the image.\n",
       "    this.send_message('resize', {'width': x_pixels, 'height': y_pixels});\n",
       "}\n",
       "\n",
       "mpl.figure.prototype.send_message = function(type, properties) {\n",
       "    properties['type'] = type;\n",
       "    properties['figure_id'] = this.id;\n",
       "    this.ws.send(JSON.stringify(properties));\n",
       "}\n",
       "\n",
       "mpl.figure.prototype.send_draw_message = function() {\n",
       "    if (!this.waiting) {\n",
       "        this.waiting = true;\n",
       "        this.ws.send(JSON.stringify({type: \"draw\", figure_id: this.id}));\n",
       "    }\n",
       "}\n",
       "\n",
       "\n",
       "mpl.figure.prototype.handle_save = function(fig, msg) {\n",
       "    var format_dropdown = fig.format_dropdown;\n",
       "    var format = format_dropdown.options[format_dropdown.selectedIndex].value;\n",
       "    fig.ondownload(fig, format);\n",
       "}\n",
       "\n",
       "\n",
       "mpl.figure.prototype.handle_resize = function(fig, msg) {\n",
       "    var size = msg['size'];\n",
       "    if (size[0] != fig.canvas.width || size[1] != fig.canvas.height) {\n",
       "        fig._resize_canvas(size[0], size[1]);\n",
       "        fig.send_message(\"refresh\", {});\n",
       "    };\n",
       "}\n",
       "\n",
       "mpl.figure.prototype.handle_rubberband = function(fig, msg) {\n",
       "    var x0 = msg['x0'] / mpl.ratio;\n",
       "    var y0 = (fig.canvas.height - msg['y0']) / mpl.ratio;\n",
       "    var x1 = msg['x1'] / mpl.ratio;\n",
       "    var y1 = (fig.canvas.height - msg['y1']) / mpl.ratio;\n",
       "    x0 = Math.floor(x0) + 0.5;\n",
       "    y0 = Math.floor(y0) + 0.5;\n",
       "    x1 = Math.floor(x1) + 0.5;\n",
       "    y1 = Math.floor(y1) + 0.5;\n",
       "    var min_x = Math.min(x0, x1);\n",
       "    var min_y = Math.min(y0, y1);\n",
       "    var width = Math.abs(x1 - x0);\n",
       "    var height = Math.abs(y1 - y0);\n",
       "\n",
       "    fig.rubberband_context.clearRect(\n",
       "        0, 0, fig.canvas.width / mpl.ratio, fig.canvas.height / mpl.ratio);\n",
       "\n",
       "    fig.rubberband_context.strokeRect(min_x, min_y, width, height);\n",
       "}\n",
       "\n",
       "mpl.figure.prototype.handle_figure_label = function(fig, msg) {\n",
       "    // Updates the figure title.\n",
       "    fig.header.textContent = msg['label'];\n",
       "}\n",
       "\n",
       "mpl.figure.prototype.handle_cursor = function(fig, msg) {\n",
       "    var cursor = msg['cursor'];\n",
       "    switch(cursor)\n",
       "    {\n",
       "    case 0:\n",
       "        cursor = 'pointer';\n",
       "        break;\n",
       "    case 1:\n",
       "        cursor = 'default';\n",
       "        break;\n",
       "    case 2:\n",
       "        cursor = 'crosshair';\n",
       "        break;\n",
       "    case 3:\n",
       "        cursor = 'move';\n",
       "        break;\n",
       "    }\n",
       "    fig.rubberband_canvas.style.cursor = cursor;\n",
       "}\n",
       "\n",
       "mpl.figure.prototype.handle_message = function(fig, msg) {\n",
       "    fig.message.textContent = msg['message'];\n",
       "}\n",
       "\n",
       "mpl.figure.prototype.handle_draw = function(fig, msg) {\n",
       "    // Request the server to send over a new figure.\n",
       "    fig.send_draw_message();\n",
       "}\n",
       "\n",
       "mpl.figure.prototype.handle_image_mode = function(fig, msg) {\n",
       "    fig.image_mode = msg['mode'];\n",
       "}\n",
       "\n",
       "mpl.figure.prototype.updated_canvas_event = function() {\n",
       "    // Called whenever the canvas gets updated.\n",
       "    this.send_message(\"ack\", {});\n",
       "}\n",
       "\n",
       "// A function to construct a web socket function for onmessage handling.\n",
       "// Called in the figure constructor.\n",
       "mpl.figure.prototype._make_on_message_function = function(fig) {\n",
       "    return function socket_on_message(evt) {\n",
       "        if (evt.data instanceof Blob) {\n",
       "            /* FIXME: We get \"Resource interpreted as Image but\n",
       "             * transferred with MIME type text/plain:\" errors on\n",
       "             * Chrome.  But how to set the MIME type?  It doesn't seem\n",
       "             * to be part of the websocket stream */\n",
       "            evt.data.type = \"image/png\";\n",
       "\n",
       "            /* Free the memory for the previous frames */\n",
       "            if (fig.imageObj.src) {\n",
       "                (window.URL || window.webkitURL).revokeObjectURL(\n",
       "                    fig.imageObj.src);\n",
       "            }\n",
       "\n",
       "            fig.imageObj.src = (window.URL || window.webkitURL).createObjectURL(\n",
       "                evt.data);\n",
       "            fig.updated_canvas_event();\n",
       "            fig.waiting = false;\n",
       "            return;\n",
       "        }\n",
       "        else if (typeof evt.data === 'string' && evt.data.slice(0, 21) == \"data:image/png;base64\") {\n",
       "            fig.imageObj.src = evt.data;\n",
       "            fig.updated_canvas_event();\n",
       "            fig.waiting = false;\n",
       "            return;\n",
       "        }\n",
       "\n",
       "        var msg = JSON.parse(evt.data);\n",
       "        var msg_type = msg['type'];\n",
       "\n",
       "        // Call the  \"handle_{type}\" callback, which takes\n",
       "        // the figure and JSON message as its only arguments.\n",
       "        try {\n",
       "            var callback = fig[\"handle_\" + msg_type];\n",
       "        } catch (e) {\n",
       "            console.log(\"No handler for the '\" + msg_type + \"' message type: \", msg);\n",
       "            return;\n",
       "        }\n",
       "\n",
       "        if (callback) {\n",
       "            try {\n",
       "                // console.log(\"Handling '\" + msg_type + \"' message: \", msg);\n",
       "                callback(fig, msg);\n",
       "            } catch (e) {\n",
       "                console.log(\"Exception inside the 'handler_\" + msg_type + \"' callback:\", e, e.stack, msg);\n",
       "            }\n",
       "        }\n",
       "    };\n",
       "}\n",
       "\n",
       "// from http://stackoverflow.com/questions/1114465/getting-mouse-location-in-canvas\n",
       "mpl.findpos = function(e) {\n",
       "    //this section is from http://www.quirksmode.org/js/events_properties.html\n",
       "    var targ;\n",
       "    if (!e)\n",
       "        e = window.event;\n",
       "    if (e.target)\n",
       "        targ = e.target;\n",
       "    else if (e.srcElement)\n",
       "        targ = e.srcElement;\n",
       "    if (targ.nodeType == 3) // defeat Safari bug\n",
       "        targ = targ.parentNode;\n",
       "\n",
       "    // jQuery normalizes the pageX and pageY\n",
       "    // pageX,Y are the mouse positions relative to the document\n",
       "    // offset() returns the position of the element relative to the document\n",
       "    var x = e.pageX - $(targ).offset().left;\n",
       "    var y = e.pageY - $(targ).offset().top;\n",
       "\n",
       "    return {\"x\": x, \"y\": y};\n",
       "};\n",
       "\n",
       "/*\n",
       " * return a copy of an object with only non-object keys\n",
       " * we need this to avoid circular references\n",
       " * http://stackoverflow.com/a/24161582/3208463\n",
       " */\n",
       "function simpleKeys (original) {\n",
       "  return Object.keys(original).reduce(function (obj, key) {\n",
       "    if (typeof original[key] !== 'object')\n",
       "        obj[key] = original[key]\n",
       "    return obj;\n",
       "  }, {});\n",
       "}\n",
       "\n",
       "mpl.figure.prototype.mouse_event = function(event, name) {\n",
       "    var canvas_pos = mpl.findpos(event)\n",
       "\n",
       "    if (name === 'button_press')\n",
       "    {\n",
       "        this.canvas.focus();\n",
       "        this.canvas_div.focus();\n",
       "    }\n",
       "\n",
       "    var x = canvas_pos.x * mpl.ratio;\n",
       "    var y = canvas_pos.y * mpl.ratio;\n",
       "\n",
       "    this.send_message(name, {x: x, y: y, button: event.button,\n",
       "                             step: event.step,\n",
       "                             guiEvent: simpleKeys(event)});\n",
       "\n",
       "    /* This prevents the web browser from automatically changing to\n",
       "     * the text insertion cursor when the button is pressed.  We want\n",
       "     * to control all of the cursor setting manually through the\n",
       "     * 'cursor' event from matplotlib */\n",
       "    event.preventDefault();\n",
       "    return false;\n",
       "}\n",
       "\n",
       "mpl.figure.prototype._key_event_extra = function(event, name) {\n",
       "    // Handle any extra behaviour associated with a key event\n",
       "}\n",
       "\n",
       "mpl.figure.prototype.key_event = function(event, name) {\n",
       "\n",
       "    // Prevent repeat events\n",
       "    if (name == 'key_press')\n",
       "    {\n",
       "        if (event.which === this._key)\n",
       "            return;\n",
       "        else\n",
       "            this._key = event.which;\n",
       "    }\n",
       "    if (name == 'key_release')\n",
       "        this._key = null;\n",
       "\n",
       "    var value = '';\n",
       "    if (event.ctrlKey && event.which != 17)\n",
       "        value += \"ctrl+\";\n",
       "    if (event.altKey && event.which != 18)\n",
       "        value += \"alt+\";\n",
       "    if (event.shiftKey && event.which != 16)\n",
       "        value += \"shift+\";\n",
       "\n",
       "    value += 'k';\n",
       "    value += event.which.toString();\n",
       "\n",
       "    this._key_event_extra(event, name);\n",
       "\n",
       "    this.send_message(name, {key: value,\n",
       "                             guiEvent: simpleKeys(event)});\n",
       "    return false;\n",
       "}\n",
       "\n",
       "mpl.figure.prototype.toolbar_button_onclick = function(name) {\n",
       "    if (name == 'download') {\n",
       "        this.handle_save(this, null);\n",
       "    } else {\n",
       "        this.send_message(\"toolbar_button\", {name: name});\n",
       "    }\n",
       "};\n",
       "\n",
       "mpl.figure.prototype.toolbar_button_onmouseover = function(tooltip) {\n",
       "    this.message.textContent = tooltip;\n",
       "};\n",
       "mpl.toolbar_items = [[\"Home\", \"Reset original view\", \"fa fa-home icon-home\", \"home\"], [\"Back\", \"Back to previous view\", \"fa fa-arrow-left icon-arrow-left\", \"back\"], [\"Forward\", \"Forward to next view\", \"fa fa-arrow-right icon-arrow-right\", \"forward\"], [\"\", \"\", \"\", \"\"], [\"Pan\", \"Pan axes with left mouse, zoom with right\", \"fa fa-arrows icon-move\", \"pan\"], [\"Zoom\", \"Zoom to rectangle\", \"fa fa-square-o icon-check-empty\", \"zoom\"], [\"\", \"\", \"\", \"\"], [\"Download\", \"Download plot\", \"fa fa-floppy-o icon-save\", \"download\"]];\n",
       "\n",
       "mpl.extensions = [\"eps\", \"pdf\", \"png\", \"ps\", \"raw\", \"svg\"];\n",
       "\n",
       "mpl.default_extension = \"png\";var comm_websocket_adapter = function(comm) {\n",
       "    // Create a \"websocket\"-like object which calls the given IPython comm\n",
       "    // object with the appropriate methods. Currently this is a non binary\n",
       "    // socket, so there is still some room for performance tuning.\n",
       "    var ws = {};\n",
       "\n",
       "    ws.close = function() {\n",
       "        comm.close()\n",
       "    };\n",
       "    ws.send = function(m) {\n",
       "        //console.log('sending', m);\n",
       "        comm.send(m);\n",
       "    };\n",
       "    // Register the callback with on_msg.\n",
       "    comm.on_msg(function(msg) {\n",
       "        //console.log('receiving', msg['content']['data'], msg);\n",
       "        // Pass the mpl event to the overridden (by mpl) onmessage function.\n",
       "        ws.onmessage(msg['content']['data'])\n",
       "    });\n",
       "    return ws;\n",
       "}\n",
       "\n",
       "mpl.mpl_figure_comm = function(comm, msg) {\n",
       "    // This is the function which gets called when the mpl process\n",
       "    // starts-up an IPython Comm through the \"matplotlib\" channel.\n",
       "\n",
       "    var id = msg.content.data.id;\n",
       "    // Get hold of the div created by the display call when the Comm\n",
       "    // socket was opened in Python.\n",
       "    var element = $(\"#\" + id);\n",
       "    var ws_proxy = comm_websocket_adapter(comm)\n",
       "\n",
       "    function ondownload(figure, format) {\n",
       "        window.open(figure.imageObj.src);\n",
       "    }\n",
       "\n",
       "    var fig = new mpl.figure(id, ws_proxy,\n",
       "                           ondownload,\n",
       "                           element.get(0));\n",
       "\n",
       "    // Call onopen now - mpl needs it, as it is assuming we've passed it a real\n",
       "    // web socket which is closed, not our websocket->open comm proxy.\n",
       "    ws_proxy.onopen();\n",
       "\n",
       "    fig.parent_element = element.get(0);\n",
       "    fig.cell_info = mpl.find_output_cell(\"<div id='\" + id + \"'></div>\");\n",
       "    if (!fig.cell_info) {\n",
       "        console.error(\"Failed to find cell for figure\", id, fig);\n",
       "        return;\n",
       "    }\n",
       "\n",
       "    var output_index = fig.cell_info[2]\n",
       "    var cell = fig.cell_info[0];\n",
       "\n",
       "};\n",
       "\n",
       "mpl.figure.prototype.handle_close = function(fig, msg) {\n",
       "    var width = fig.canvas.width/mpl.ratio\n",
       "    fig.root.unbind('remove')\n",
       "\n",
       "    // Update the output cell to use the data from the current canvas.\n",
       "    fig.push_to_output();\n",
       "    var dataURL = fig.canvas.toDataURL();\n",
       "    // Re-enable the keyboard manager in IPython - without this line, in FF,\n",
       "    // the notebook keyboard shortcuts fail.\n",
       "    IPython.keyboard_manager.enable()\n",
       "    $(fig.parent_element).html('<img src=\"' + dataURL + '\" width=\"' + width + '\">');\n",
       "    fig.close_ws(fig, msg);\n",
       "}\n",
       "\n",
       "mpl.figure.prototype.close_ws = function(fig, msg){\n",
       "    fig.send_message('closing', msg);\n",
       "    // fig.ws.close()\n",
       "}\n",
       "\n",
       "mpl.figure.prototype.push_to_output = function(remove_interactive) {\n",
       "    // Turn the data on the canvas into data in the output cell.\n",
       "    var width = this.canvas.width/mpl.ratio\n",
       "    var dataURL = this.canvas.toDataURL();\n",
       "    this.cell_info[1]['text/html'] = '<img src=\"' + dataURL + '\" width=\"' + width + '\">';\n",
       "}\n",
       "\n",
       "mpl.figure.prototype.updated_canvas_event = function() {\n",
       "    // Tell IPython that the notebook contents must change.\n",
       "    IPython.notebook.set_dirty(true);\n",
       "    this.send_message(\"ack\", {});\n",
       "    var fig = this;\n",
       "    // Wait a second, then push the new image to the DOM so\n",
       "    // that it is saved nicely (might be nice to debounce this).\n",
       "    setTimeout(function () { fig.push_to_output() }, 1000);\n",
       "}\n",
       "\n",
       "mpl.figure.prototype._init_toolbar = function() {\n",
       "    var fig = this;\n",
       "\n",
       "    var nav_element = $('<div/>');\n",
       "    nav_element.attr('style', 'width: 100%');\n",
       "    this.root.append(nav_element);\n",
       "\n",
       "    // Define a callback function for later on.\n",
       "    function toolbar_event(event) {\n",
       "        return fig.toolbar_button_onclick(event['data']);\n",
       "    }\n",
       "    function toolbar_mouse_event(event) {\n",
       "        return fig.toolbar_button_onmouseover(event['data']);\n",
       "    }\n",
       "\n",
       "    for(var toolbar_ind in mpl.toolbar_items){\n",
       "        var name = mpl.toolbar_items[toolbar_ind][0];\n",
       "        var tooltip = mpl.toolbar_items[toolbar_ind][1];\n",
       "        var image = mpl.toolbar_items[toolbar_ind][2];\n",
       "        var method_name = mpl.toolbar_items[toolbar_ind][3];\n",
       "\n",
       "        if (!name) { continue; };\n",
       "\n",
       "        var button = $('<button class=\"btn btn-default\" href=\"#\" title=\"' + name + '\"><i class=\"fa ' + image + ' fa-lg\"></i></button>');\n",
       "        button.click(method_name, toolbar_event);\n",
       "        button.mouseover(tooltip, toolbar_mouse_event);\n",
       "        nav_element.append(button);\n",
       "    }\n",
       "\n",
       "    // Add the status bar.\n",
       "    var status_bar = $('<span class=\"mpl-message\" style=\"text-align:right; float: right;\"/>');\n",
       "    nav_element.append(status_bar);\n",
       "    this.message = status_bar[0];\n",
       "\n",
       "    // Add the close button to the window.\n",
       "    var buttongrp = $('<div class=\"btn-group inline pull-right\"></div>');\n",
       "    var button = $('<button class=\"btn btn-mini btn-primary\" href=\"#\" title=\"Stop Interaction\"><i class=\"fa fa-power-off icon-remove icon-large\"></i></button>');\n",
       "    button.click(function (evt) { fig.handle_close(fig, {}); } );\n",
       "    button.mouseover('Stop Interaction', toolbar_mouse_event);\n",
       "    buttongrp.append(button);\n",
       "    var titlebar = this.root.find($('.ui-dialog-titlebar'));\n",
       "    titlebar.prepend(buttongrp);\n",
       "}\n",
       "\n",
       "mpl.figure.prototype._root_extra_style = function(el){\n",
       "    var fig = this\n",
       "    el.on(\"remove\", function(){\n",
       "\tfig.close_ws(fig, {});\n",
       "    });\n",
       "}\n",
       "\n",
       "mpl.figure.prototype._canvas_extra_style = function(el){\n",
       "    // this is important to make the div 'focusable\n",
       "    el.attr('tabindex', 0)\n",
       "    // reach out to IPython and tell the keyboard manager to turn it's self\n",
       "    // off when our div gets focus\n",
       "\n",
       "    // location in version 3\n",
       "    if (IPython.notebook.keyboard_manager) {\n",
       "        IPython.notebook.keyboard_manager.register_events(el);\n",
       "    }\n",
       "    else {\n",
       "        // location in version 2\n",
       "        IPython.keyboard_manager.register_events(el);\n",
       "    }\n",
       "\n",
       "}\n",
       "\n",
       "mpl.figure.prototype._key_event_extra = function(event, name) {\n",
       "    var manager = IPython.notebook.keyboard_manager;\n",
       "    if (!manager)\n",
       "        manager = IPython.keyboard_manager;\n",
       "\n",
       "    // Check for shift+enter\n",
       "    if (event.shiftKey && event.which == 13) {\n",
       "        this.canvas_div.blur();\n",
       "        // select the cell after this one\n",
       "        var index = IPython.notebook.find_cell_index(this.cell_info[0]);\n",
       "        IPython.notebook.select(index + 1);\n",
       "    }\n",
       "}\n",
       "\n",
       "mpl.figure.prototype.handle_save = function(fig, msg) {\n",
       "    fig.ondownload(fig, null);\n",
       "}\n",
       "\n",
       "\n",
       "mpl.find_output_cell = function(html_output) {\n",
       "    // Return the cell and output element which can be found *uniquely* in the notebook.\n",
       "    // Note - this is a bit hacky, but it is done because the \"notebook_saving.Notebook\"\n",
       "    // IPython event is triggered only after the cells have been serialised, which for\n",
       "    // our purposes (turning an active figure into a static one), is too late.\n",
       "    var cells = IPython.notebook.get_cells();\n",
       "    var ncells = cells.length;\n",
       "    for (var i=0; i<ncells; i++) {\n",
       "        var cell = cells[i];\n",
       "        if (cell.cell_type === 'code'){\n",
       "            for (var j=0; j<cell.output_area.outputs.length; j++) {\n",
       "                var data = cell.output_area.outputs[j];\n",
       "                if (data.data) {\n",
       "                    // IPython >= 3 moved mimebundle to data attribute of output\n",
       "                    data = data.data;\n",
       "                }\n",
       "                if (data['text/html'] == html_output) {\n",
       "                    return [cell, data, j];\n",
       "                }\n",
       "            }\n",
       "        }\n",
       "    }\n",
       "}\n",
       "\n",
       "// Register the function which deals with the matplotlib target/channel.\n",
       "// The kernel may be null if the page has been refreshed.\n",
       "if (IPython.notebook.kernel != null) {\n",
       "    IPython.notebook.kernel.comm_manager.register_target('matplotlib', mpl.mpl_figure_comm);\n",
       "}\n"
      ],
      "text/plain": [
       "<IPython.core.display.Javascript object>"
      ]
     },
     "metadata": {},
     "output_type": "display_data"
    },
    {
     "data": {
      "text/html": [
       "<img src=\"data:image/png;base64,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\" width=\"800\">"
      ],
      "text/plain": [
       "<IPython.core.display.HTML object>"
      ]
     },
     "metadata": {},
     "output_type": "display_data"
    },
    {
     "data": {
      "application/vnd.jupyter.widget-view+json": {
       "model_id": "9d8192299d084d3b94e7a30d2c22fa80",
       "version_major": 2,
       "version_minor": 0
      },
      "text/plain": [
       "interactive(children=(FloatSlider(value=10.0, description='sample_rate', max=25.0, min=1.0), FloatSlider(value…"
      ]
     },
     "metadata": {},
     "output_type": "display_data"
    }
   ],
   "source": [
    "t, sample_rate, frequency, phase = numpy.linspace(0, 4, 4001), 10, 1, 0\n",
    "signal = lambda t, f=1., phi=0: numpy.sin(2*pi*t*f+phi)\n",
    "\n",
    "fig, ax = plt.subplots()\n",
    "fig.set_size_inches(8,4)\n",
    "\n",
    "\n",
    "@interact(sample_rate=(1,25, 0.1), frequency=(-9,10, 0.1), phase=(-6, 6, 0.1))\n",
    "def sampled_sinwave(sample_rate=sample_rate, frequency=frequency, phase=0.):\n",
    "    ax.cla()\n",
    "    t_samples = numpy.arange(min(t), max(t), 1./sample_rate)\n",
    "    x, x_sampled = signal(t, frequency, phase), signal(t_samples, frequency, phase)\n",
    "    ax.plot(t, x, label='Original Signal')\n",
    "    ax.stem(t_samples, x_sampled, linefmt='r', label='Sampled', use_line_collection=True)\n",
    "    ax.plot(t_samples, x_sampled, '--k', label='Recovered')\n",
    "    ax.legend(loc='lower left')\n",
    "    fig.canvas.draw_idle()\n",
    "    fig.tight_layout()"
   ]
  },
  {
   "cell_type": "markdown",
   "metadata": {
    "cell_style": "center",
    "slideshow": {
     "slide_type": "slide"
    }
   },
   "source": [
    "##  Kinds of basic RF problems\n",
    "\n",
    "#### Communication\n",
    "  + Getting data between places\n",
    "\n",
    "#### Radar\n",
    "  + Using radio waves to sense something\n",
    "\n",
    "#### Passive Inference\n",
    "  + Using Emotions that already exist what can I figure out"
   ]
  },
  {
   "cell_type": "markdown",
   "metadata": {
    "slideshow": {
     "slide_type": "slide"
    }
   },
   "source": [
    "## What Signals We Are Considering\n",
    "\n"
   ]
  },
  {
   "cell_type": "markdown",
   "metadata": {
    "cell_style": "split",
    "slideshow": {
     "slide_type": "fragment"
    }
   },
   "source": [
    "## Time Series\n",
    "  + Sampled at a regular"
   ]
  },
  {
   "cell_type": "markdown",
   "metadata": {
    "cell_style": "split",
    "slideshow": {
     "slide_type": "fragment"
    }
   },
   "source": [
    "#### Radio Signals\n",
    "  + Can we capture it we a Software Defined Radio (SDR)\n",
    "  + Complex valued (pair of reals)"
   ]
  },
  {
   "cell_type": "markdown",
   "metadata": {
    "cell_style": "split",
    "slideshow": {
     "slide_type": "fragment"
    }
   },
   "source": [
    "### Single Channel\n",
    "  + 1 dimension to each sample"
   ]
  },
  {
   "cell_type": "markdown",
   "metadata": {
    "cell_style": "split",
    "slideshow": {
     "slide_type": "fragment"
    }
   },
   "source": [
    "### Narrowband\n",
    "  + Bandwidth of the signal is smaller than it's center frequency\n",
    "  "
   ]
  },
  {
   "cell_type": "markdown",
   "metadata": {
    "slideshow": {
     "slide_type": "notes"
    }
   },
   "source": []
  },
  {
   "cell_type": "markdown",
   "metadata": {
    "slideshow": {
     "slide_type": "slide"
    }
   },
   "source": [
    "## Properties of Operations on Signals (Systems)\n",
    "  + Linearity\n",
    "  + Time Inverance \n",
    "  + Bounded Input Bounded Output\n",
    "  + Dirivatives and Differences\n",
    "  + Integrates and Sumations \n",
    "  + Useful Non-linear Functions\n",
    "    + ABS\n",
    "    + Squared\n",
    "    + Distance\n",
    "    + Log and Decibels"
   ]
  },
  {
   "cell_type": "markdown",
   "metadata": {
    "slideshow": {
     "slide_type": "subslide"
    }
   },
   "source": [
    "### Linearity\n",
    "\n",
    "  + Additivity\n",
    "$$ f(a+b) = f(a) + f(b) $$\n",
    "\n",
    "\n",
    "\n",
    "  + Homogeneity \n",
    "$$ f(\\alpha \\: x) = \\alpha \\: f(x) $$\n",
    "\n",
    "\n",
    "\n",
    "  + Approximately linear\n",
    "  \n",
    "    + Useful approximation\n",
    "    \n",
    "    + For b << a $f(a+b)$ can be treated as linear\n",
    "    \n",
    "    $$ f(a+b) \\approx f(a) + f(b) \\quad for \\:\\: b << a $$"
   ]
  },
  {
   "cell_type": "markdown",
   "metadata": {
    "slideshow": {
     "slide_type": "subslide"
    }
   },
   "source": [
    "#### Linear ?\n",
    "Is the function linear, non-linear, Approximately linear?\n",
    "  \n",
    "  1.  \n",
    "  \n",
    "  $$ f(x) = 3 \\cdot x $$"
   ]
  },
  {
   "cell_type": "markdown",
   "metadata": {
    "slideshow": {
     "slide_type": "fragment"
    }
   },
   "source": [
    "  2. \n",
    "  \n",
    "  $$ f(x) = 0 \\cdot x $$"
   ]
  },
  {
   "cell_type": "markdown",
   "metadata": {
    "slideshow": {
     "slide_type": "fragment"
    }
   },
   "source": [
    "  3. \n",
    "  \n",
    "  $$ f(x) = 2 \\cdot x+1 $$"
   ]
  },
  {
   "cell_type": "markdown",
   "metadata": {
    "slideshow": {
     "slide_type": "fragment"
    }
   },
   "source": [
    "  4. \n",
    "  \n",
    "  $$ f(x) = x^{2} $$"
   ]
  },
  {
   "cell_type": "markdown",
   "metadata": {
    "slideshow": {
     "slide_type": "subslide"
    }
   },
   "source": [
    "### Time Inverance\n",
    "\n",
    "  + Function or System not dependent on what time it is\n",
    "  \n",
    "  $$ y(t) = f(x, t) = f(x, t+a) \\quad for \\: any \\: a $$"
   ]
  },
  {
   "cell_type": "markdown",
   "metadata": {
    "slideshow": {
     "slide_type": "fragment"
    }
   },
   "source": [
    "#### Time Inverent ?\n",
    "\n",
    "  1. \n",
    "  \n",
    "  $$ f(x) = 10 \\cdot x $$"
   ]
  },
  {
   "cell_type": "markdown",
   "metadata": {
    "slideshow": {
     "slide_type": "fragment"
    }
   },
   "source": [
    "  2. \n",
    "  $$ f(x) = x^{2} + 2x + 1 $$"
   ]
  },
  {
   "cell_type": "markdown",
   "metadata": {
    "slideshow": {
     "slide_type": "fragment"
    }
   },
   "source": [
    " 3. \n",
    "    $$ f(x) = t \\cdot x $$"
   ]
  },
  {
   "cell_type": "markdown",
   "metadata": {
    "slideshow": {
     "slide_type": "fragment"
    }
   },
   "source": [
    "  4. \n",
    "  $$ f(x) = x * \\delta(t-1) $$\n",
    "  \n",
    "    + What is that symbol \"$*$\" ? \n",
    "    + What about that other symbol \"$\\delta$\"?"
   ]
  },
  {
   "cell_type": "markdown",
   "metadata": {
    "slideshow": {
     "slide_type": "subslide"
    }
   },
   "source": [
    "###  Bounded Input Bounded Output\n",
    "\n",
    "  + For any input of limited energy the output energy is limited\n",
    "  \n",
    "$$ \\int_{- \\infty}^{\\infty} | \\: f(x) \\:  | \\: dt \\: < \\: \\infty  \\quad  for \\: \\int_{- \\infty}^{\\infty} | \\: x \\:  | \\: dt < \\infty$$"
   ]
  },
  {
   "cell_type": "markdown",
   "metadata": {
    "slideshow": {
     "slide_type": "fragment"
    }
   },
   "source": [
    "#### BIBO System?\n",
    "\n",
    "1. \n",
    "$$ f(x) = 5 \\cdot x + 2 $$"
   ]
  },
  {
   "cell_type": "markdown",
   "metadata": {
    "slideshow": {
     "slide_type": "fragment"
    }
   },
   "source": [
    "  2. \n",
    "  $$ f(x) = x^2 $$"
   ]
  },
  {
   "cell_type": "markdown",
   "metadata": {
    "slideshow": {
     "slide_type": "fragment"
    }
   },
   "source": [
    "  3. \n",
    "  $$ f(x) =  \\cfrac{1}{x} $$"
   ]
  },
  {
   "cell_type": "markdown",
   "metadata": {
    "slideshow": {
     "slide_type": "fragment"
    }
   },
   "source": [
    "  4. \n",
    "  $$ f(x) = \\int_{-\\infty}^{t} x^{2}(\\tau) \\: d \\tau $$"
   ]
  },
  {
   "cell_type": "markdown",
   "metadata": {
    "cell_style": "split",
    "slideshow": {
     "slide_type": "subslide"
    }
   },
   "source": [
    "### Derivative and Differences\n",
    "\n",
    "#### Derivative\n",
    "The rate of chage with respect to another variable.\n",
    "\n",
    "$$ \\begin{align} \n",
    "f(t) &= t^2 \\\\\n",
    "\\cfrac{d}{dt} f(t) &= f'(t) = 2 \\: t\n",
    "\\end{align}\n",
    "$$\n",
    "\n"
   ]
  },
  {
   "cell_type": "markdown",
   "metadata": {
    "cell_style": "split",
    "slideshow": {
     "slide_type": "fragment"
    }
   },
   "source": [
    "<img src=\"plot_dirivative_quad.gif\" width=\"100%\">"
   ]
  },
  {
   "cell_type": "markdown",
   "metadata": {
    "slideshow": {
     "slide_type": "subslide"
    }
   },
   "source": [
    "<img src=\"plot_dirivative_tri.gif?0\" width=\"90%\">"
   ]
  },
  {
   "cell_type": "markdown",
   "metadata": {
    "slideshow": {
     "slide_type": "subslide"
    }
   },
   "source": [
    "<img src=\"plot_dirivative_exp.gif\" width=\"90%\">"
   ]
  },
  {
   "cell_type": "markdown",
   "metadata": {
    "slideshow": {
     "slide_type": "subslide"
    }
   },
   "source": [
    "<img src=\"plot_dirivative_sin.gif\" width=\"100%\">"
   ]
  },
  {
   "cell_type": "markdown",
   "metadata": {
    "cell_style": "split"
   },
   "source": [
    "### Integral and Summation\n",
    "\n"
   ]
  },
  {
   "cell_type": "markdown",
   "metadata": {
    "cell_style": "split",
    "slideshow": {
     "slide_type": "-"
    }
   },
   "source": [
    "<img src=\"plot_integral_linear.gif\" width=\"100%\">"
   ]
  },
  {
   "cell_type": "markdown",
   "metadata": {
    "slideshow": {
     "slide_type": "subslide"
    }
   },
   "source": [
    "<img src=\"plot_integral_exp.gif\" width=\"90%\">"
   ]
  },
  {
   "cell_type": "markdown",
   "metadata": {
    "slideshow": {
     "slide_type": "subslide"
    }
   },
   "source": [
    "<img src=\"plot_integral_sin_1.gif\" width=\"90%\">"
   ]
  },
  {
   "cell_type": "markdown",
   "metadata": {
    "slideshow": {
     "slide_type": "subslide"
    }
   },
   "source": [
    "<img src=\"plot_integral_tri.gif?1\" width=\"90%\">"
   ]
  },
  {
   "cell_type": "code",
   "execution_count": null,
   "metadata": {},
   "outputs": [],
   "source": []
  },
  {
   "cell_type": "markdown",
   "metadata": {
    "cell_style": "split",
    "slideshow": {
     "slide_type": "slide"
    }
   },
   "source": [
    "## Random Varaibles\n",
    "  + Basics of Probablilty\n",
    "    + Total Probablilty\n",
    "    + Probability Density Function\n",
    "    + Cumulative Distribution Function\n",
    "  + Continuous Vs. Discrete\n",
    "  + Common Distributions\n",
    "      + Uniform\n",
    "      + Exponential\n",
    "      + Gaussian\n",
    "      + Chi Squared\n",
    "  + Mean, Variance, and higher Moments\n",
    "  "
   ]
  },
  {
   "cell_type": "markdown",
   "metadata": {
    "cell_style": "split",
    "slideshow": {
     "slide_type": "-"
    }
   },
   "source": [
    "\n",
    "  + Random Variables\n",
    "  + Central Limit Theorem\n",
    "  + Operations on random variables\n",
    "  + Correlation\n",
    "  + Conditional Probability \n",
    "  + Independent and identically Distributed "
   ]
  },
  {
   "cell_type": "markdown",
   "metadata": {
    "slideshow": {
     "slide_type": "subslide"
    }
   },
   "source": [
    "## Source of Noise\n",
    "\n",
    "#### Thermal Noise\n",
    "\n",
    "$$ P = k_B \\cdot T \\cdot BW $$\n",
    "\n",
    "  + $k_B$ is [Boltzmann's constant](https://en.wikipedia.org/wiki/Boltzmann_constant)\n",
    "  + $T$ is Temperature in [Kelvin](https://en.wikipedia.org/wiki/Kelvin)\n",
    "  + $BW$ is the bandwidth in Hz\n",
    "  \n",
    "#### System Noise\n",
    "\n",
    "  + Like thermal noise"
   ]
  },
  {
   "cell_type": "markdown",
   "metadata": {
    "slideshow": {
     "slide_type": "subslide"
    }
   },
   "source": [
    "### Basics Probability\n",
    "\n",
    "  \n",
    "  <img src=\"probability.png?1\" width=\"75%\" >"
   ]
  },
  {
   "cell_type": "markdown",
   "metadata": {
    "slideshow": {
     "slide_type": "subslide"
    }
   },
   "source": [
    "#### Total Probability\n",
    "    + Sum of all included outcomes is 1\n",
    "    \n",
    " \n",
    " <img src=\"probability_total.png?1\" width=\"75%\" >"
   ]
  },
  {
   "cell_type": "markdown",
   "metadata": {
    "slideshow": {
     "slide_type": "subslide"
    }
   },
   "source": [
    "#### Probability of 1?\n",
    "Given a random number generator what are the odd's it will return 1?\n",
    "\n",
    "<img src=\"probability_point.png?1\" width=\"75%\" >\n",
    "\n"
   ]
  },
  {
   "cell_type": "markdown",
   "metadata": {
    "slideshow": {
     "slide_type": "subslide"
    }
   },
   "source": [
    "#### Probability less than 0\n",
    "\n",
    "<img src=\"probability_regoin.png?1\" width=\"75%\">"
   ]
  },
  {
   "cell_type": "markdown",
   "metadata": {
    "slideshow": {
     "slide_type": "subslide"
    }
   },
   "source": [
    "### Probability Density Function\n",
    "\n",
    "  <img src=\"probability.png?1\" width=\"75%\" >"
   ]
  },
  {
   "cell_type": "markdown",
   "metadata": {
    "slideshow": {
     "slide_type": "subslide"
    }
   },
   "source": [
    "### Cumulative Density Function\n",
    "\n",
    "<img src=\"probability_pdf_cdf.png?1\" width=\"65%\">"
   ]
  },
  {
   "cell_type": "markdown",
   "metadata": {
    "cell_style": "split",
    "slideshow": {
     "slide_type": "subslide"
    }
   },
   "source": [
    "### Statistical Moments \n",
    "$$ \\bf x \\sim \\mathcal{\\bf P} \\: \\quad \\: P(x)= \\cdots $$\n",
    "\n",
    "##### Total Probabilty\n",
    "$$ 1 =  \\int_{-\\infty}^{\\infty} P(x) dx \\\\= \\sum P(x_i)$$\n",
    "\n",
    "##### Mean\n",
    "$$ \\mu = E(\\bf X) =  \\int_{-\\infty}^{\\infty} xP(x) dx \\\\= \\sum x_i P(x_i)$$\n",
    "\n"
   ]
  },
  {
   "cell_type": "markdown",
   "metadata": {
    "cell_style": "split",
    "slideshow": {
     "slide_type": "-"
    }
   },
   "source": [
    "##### Variance\n",
    "$$ \\sigma^2 = Var(\\bf X) = E \\left ( (\\bf X -\\mu)^2 \\right ) \\\\ = \\int_{-\\infty}^{\\infty} (x-\\mu)^2 P(x) dx \\\\= \\sum (x_i-\\mu)^2 P(x_i)\n",
    "$$"
   ]
  },
  {
   "cell_type": "markdown",
   "metadata": {
    "slideshow": {
     "slide_type": "notes"
    }
   },
   "source": []
  },
  {
   "cell_type": "markdown",
   "metadata": {
    "cell_style": "split",
    "slideshow": {
     "slide_type": "subslide"
    }
   },
   "source": [
    "##### Skew\n",
    "$$ Skew(\\bf X) =  \\int_{-\\infty}^{\\infty} \\left ( \\cfrac{x-\\mu}{\\sigma} \\right )^3 P(x) dx \\\\= \\sum \\left ( \\cfrac{x-\\mu}{\\sigma} \\right )^3 P(x_i)\n",
    "$$\n",
    "#### Excess Kurtosis\n",
    "$$ Kurt(\\bf X) =  \\int_{-\\infty}^{\\infty} \\left ( \\cfrac{x-\\mu}{\\sigma} \\right )^4 P(x) dx \\\\= \\sum \\left ( \\cfrac{x-\\mu}{\\sigma} \\right )^4 P(x_i)\n",
    "$$\n",
    "\n"
   ]
  },
  {
   "cell_type": "markdown",
   "metadata": {
    "cell_style": "split",
    "slideshow": {
     "slide_type": "-"
    }
   },
   "source": [
    "### Information\n",
    "\n",
    "\n",
    "##### Entropy \n",
    "\n",
    "$$ H(\\bf X) = -\\int_{-\\infty}^{\\infty} P(x) ln \\left ( P(x) \\right ) dx \\\\= -\\sum P(x) ln \\left ( P(x) \\right )\n",
    "$$"
   ]
  },
  {
   "cell_type": "code",
   "execution_count": null,
   "metadata": {
    "slideshow": {
     "slide_type": "notes"
    }
   },
   "outputs": [],
   "source": []
  },
  {
   "cell_type": "markdown",
   "metadata": {
    "cell_style": "split",
    "slideshow": {
     "slide_type": "subslide"
    }
   },
   "source": [
    "### Continuous \n",
    "+ Likelihood function\n",
    "  + Non-negative\n",
    "  + Can be greater than 1\n",
    "  + Probability density Function (PDF)\n",
    "\n",
    "<img src=\"probability.png?2\" width=\"90%\" >"
   ]
  },
  {
   "cell_type": "markdown",
   "metadata": {
    "cell_style": "split",
    "slideshow": {
     "slide_type": "-"
    }
   },
   "source": [
    "### Discrete\n",
    "\n",
    "+ Likelihood function\n",
    "  + Non-negative\n",
    "  + 0 or +infinity \n",
    "+ Probability Mass Function (PMF)\n",
    "  \n",
    "  \n",
    "<img src=\"probability_mass_function.png?1\" width=\"90%\">"
   ]
  },
  {
   "cell_type": "code",
   "execution_count": null,
   "metadata": {
    "slideshow": {
     "slide_type": "notes"
    }
   },
   "outputs": [],
   "source": []
  },
  {
   "cell_type": "markdown",
   "metadata": {
    "cell_style": "split",
    "slideshow": {
     "slide_type": "subslide"
    }
   },
   "source": [
    "#### Common Distributions\n",
    "  + Uniform \n",
    "    + Eazist to work with\n",
    "    + Computers likely start with this\n",
    "  + Exponential\n",
    "    + Eazy to work with\n",
    "  + Gaussian\n",
    "    + The most common\n",
    "  + Chi Squared\n",
    "    + Most common squared\n",
    "    "
   ]
  },
  {
   "cell_type": "markdown",
   "metadata": {
    "cell_style": "split",
    "slideshow": {
     "slide_type": "-"
    }
   },
   "source": [
    "<img src=\"common_distributions.png?1\" width=\"100%\">"
   ]
  },
  {
   "cell_type": "markdown",
   "metadata": {
    "slideshow": {
     "slide_type": "notes"
    }
   },
   "source": []
  },
  {
   "cell_type": "markdown",
   "metadata": {
    "cell_style": "split",
    "slideshow": {
     "slide_type": "subslide"
    }
   },
   "source": [
    "#### Uniform\n",
    "$$ P(x) =\\Big \\{ \\begin{matrix} \\:1 \\: :\\quad 0\\leq x \\leq 1 \\\\0 : \\quad otherwise \\end{matrix}$$\n",
    "\n",
    "\n",
    "$$ \\Phi (x) = \\Big \\{ \\begin{matrix} \\:x \\: :\\quad 0\\leq x \\leq 1 \\\\0 : \\quad otherwise \\end{matrix} $$\n",
    "\n",
    "$$ Mean = \\cfrac{1}{2}, \\quad \n",
    "Var = \\cfrac{1}{12(1-0)^2}, \\quad \\\\\n",
    "Skew = 0, \\quad\n",
    "kurtosis = \\cfrac{-6}{5}, \\quad \\\\\n",
    "Entropy = ln(1-0)\n",
    "$$"
   ]
  },
  {
   "cell_type": "markdown",
   "metadata": {
    "cell_style": "split",
    "slideshow": {
     "slide_type": "-"
    }
   },
   "source": [
    "\n",
    "<img src=\"uniform_distributions.png?1\" width=\"100%\">\n"
   ]
  },
  {
   "cell_type": "code",
   "execution_count": null,
   "metadata": {
    "slideshow": {
     "slide_type": "notes"
    }
   },
   "outputs": [],
   "source": []
  },
  {
   "cell_type": "markdown",
   "metadata": {
    "cell_style": "split",
    "slideshow": {
     "slide_type": "subslide"
    }
   },
   "source": [
    "#### Exponetial\n",
    "\n",
    "$$ P(x) =\\Big \\{ \\begin{matrix} \\: \\lambda e^{-\\lambda x} \\: :\\quad 0\\leq x \\\\0 \\quad : \\quad otherwise \\end{matrix}$$\n",
    "\n",
    "$$ \\Phi (x) = \\Big \\{ \\begin{matrix} \\: 1-e^{-\\lambda x} \\: :\\quad 0\\leq x  \\\\0 : \\quad otherwise \\end{matrix} $$\n",
    "\n",
    "$$ Mean = \\cfrac{1}{\\lambda}, \\quad \n",
    "Var = \\cfrac{1}{\\lambda^2}, \\quad \\\\\n",
    "Skew = 2, \\quad\n",
    "kurtosis = 6, \\quad \\\\\n",
    "Entropy = 1- ln(\\lambda)\n",
    "$$"
   ]
  },
  {
   "cell_type": "markdown",
   "metadata": {
    "cell_style": "split",
    "slideshow": {
     "slide_type": "-"
    }
   },
   "source": [
    "\n",
    "\n",
    "<img src=\"expon_distributions.png?0\" width=\"100%\">"
   ]
  },
  {
   "cell_type": "markdown",
   "metadata": {
    "slideshow": {
     "slide_type": "notes"
    }
   },
   "source": [
    "### "
   ]
  },
  {
   "cell_type": "markdown",
   "metadata": {
    "cell_style": "split",
    "slideshow": {
     "slide_type": "subslide"
    }
   },
   "source": [
    "#### Gaussian\n",
    "\n",
    "$$ P(x) = \\cfrac{1}{\\sigma \\sqrt{2 \\pi}} \n",
    "\\: e^{ \\cfrac{1}{2} \\left(\\cfrac{x-\\mu}{\\sigma} \\right )^{2} }$$\n",
    "\n",
    "$$ \\Phi (x) = \\cfrac{1}{2} \\left ( 1 + erf \\left ( \\cfrac{x-\\mu}{\\sigma \\sqrt{2}} \\right ) \\right )\n",
    "$$\n",
    "\n",
    "$$ Mean = \\mu, \\quad \n",
    "Var = \\sigma^2, \\quad \\\\\n",
    "Skew = 0, \\quad\n",
    "kurtosis = 0, \\quad \\\\\n",
    "Entropy = \\cfrac{1}{2} \\left( ln \\left (\n",
    "2 \\pi \\sigma^2 \n",
    "\\right ) + 1 \\right )\n",
    "$$"
   ]
  },
  {
   "cell_type": "markdown",
   "metadata": {
    "cell_style": "split",
    "slideshow": {
     "slide_type": "-"
    }
   },
   "source": [
    "<img src=\"gaussian_distributions.png\" width=\"100%\">"
   ]
  },
  {
   "cell_type": "code",
   "execution_count": null,
   "metadata": {
    "slideshow": {
     "slide_type": "notes"
    }
   },
   "outputs": [],
   "source": []
  },
  {
   "cell_type": "markdown",
   "metadata": {
    "cell_style": "split",
    "slideshow": {
     "slide_type": "subslide"
    }
   },
   "source": [
    "#### $\\chi ^ 2$  (Chi Squared)\n",
    "\n",
    "$$ \\chi ^ 2 (x) \\quad = \\quad \\Bigg \\{ \\begin{matrix} \\:\n",
    "\\cfrac{ x^{k/2 - 1 } \\: e^{-x}}{2^{k/2}\\: \\Gamma(k/2)}\n",
    "\\: :\\quad 0\\leq x \\\\0 \\quad\\quad : \\quad otherwise \\end{matrix}\n",
    "$$\n",
    "\n",
    "\n",
    "\n",
    "[The chi-squared distribution is obtained as the sum of the squares of k independent, zero-mean, unit-variance Gaussian random variables](https://en.wikipedia.org/wiki/Chi-squared_distribution)"
   ]
  },
  {
   "cell_type": "markdown",
   "metadata": {
    "cell_style": "split",
    "slideshow": {
     "slide_type": "-"
    }
   },
   "source": [
    "\n",
    "\n",
    "<img src=\"chi2_distributions.png\" width=\"100%\">"
   ]
  },
  {
   "cell_type": "markdown",
   "metadata": {
    "slideshow": {
     "slide_type": "subslide"
    }
   },
   "source": [
    "<img src=\"chi2_order_distributions.png?1\" width=\"100%\">"
   ]
  },
  {
   "cell_type": "markdown",
   "metadata": {
    "slideshow": {
     "slide_type": "subslide"
    }
   },
   "source": [
    "<img src=\"chi2_order_distributions.gif?2\" width=\"100%\">"
   ]
  },
  {
   "cell_type": "markdown",
   "metadata": {
    "cell_style": "split",
    "slideshow": {
     "slide_type": "subslide"
    }
   },
   "source": [
    "## Central Limit Theorem\n",
    "\n",
    "  + The linear combination of independent random variable to Gaussian in the limit\n",
    "  \n",
    "  + The reason Gaussian is the most important distribution\n",
    "  "
   ]
  },
  {
   "cell_type": "markdown",
   "metadata": {
    "cell_style": "split",
    "slideshow": {
     "slide_type": "-"
    }
   },
   "source": [
    "#### Linear Operations \n",
    "\n"
   ]
  },
  {
   "cell_type": "code",
   "execution_count": 169,
   "metadata": {
    "slideshow": {
     "slide_type": "subslide"
    }
   },
   "outputs": [
    {
     "data": {
      "application/javascript": [
       "/* Put everything inside the global mpl namespace */\n",
       "window.mpl = {};\n",
       "\n",
       "\n",
       "mpl.get_websocket_type = function() {\n",
       "    if (typeof(WebSocket) !== 'undefined') {\n",
       "        return WebSocket;\n",
       "    } else if (typeof(MozWebSocket) !== 'undefined') {\n",
       "        return MozWebSocket;\n",
       "    } else {\n",
       "        alert('Your browser does not have WebSocket support. ' +\n",
       "              'Please try Chrome, Safari or Firefox ≥ 6. ' +\n",
       "              'Firefox 4 and 5 are also supported but you ' +\n",
       "              'have to enable WebSockets in about:config.');\n",
       "    };\n",
       "}\n",
       "\n",
       "mpl.figure = function(figure_id, websocket, ondownload, parent_element) {\n",
       "    this.id = figure_id;\n",
       "\n",
       "    this.ws = websocket;\n",
       "\n",
       "    this.supports_binary = (this.ws.binaryType != undefined);\n",
       "\n",
       "    if (!this.supports_binary) {\n",
       "        var warnings = document.getElementById(\"mpl-warnings\");\n",
       "        if (warnings) {\n",
       "            warnings.style.display = 'block';\n",
       "            warnings.textContent = (\n",
       "                \"This browser does not support binary websocket messages. \" +\n",
       "                    \"Performance may be slow.\");\n",
       "        }\n",
       "    }\n",
       "\n",
       "    this.imageObj = new Image();\n",
       "\n",
       "    this.context = undefined;\n",
       "    this.message = undefined;\n",
       "    this.canvas = undefined;\n",
       "    this.rubberband_canvas = undefined;\n",
       "    this.rubberband_context = undefined;\n",
       "    this.format_dropdown = undefined;\n",
       "\n",
       "    this.image_mode = 'full';\n",
       "\n",
       "    this.root = $('<div/>');\n",
       "    this._root_extra_style(this.root)\n",
       "    this.root.attr('style', 'display: inline-block');\n",
       "\n",
       "    $(parent_element).append(this.root);\n",
       "\n",
       "    this._init_header(this);\n",
       "    this._init_canvas(this);\n",
       "    this._init_toolbar(this);\n",
       "\n",
       "    var fig = this;\n",
       "\n",
       "    this.waiting = false;\n",
       "\n",
       "    this.ws.onopen =  function () {\n",
       "            fig.send_message(\"supports_binary\", {value: fig.supports_binary});\n",
       "            fig.send_message(\"send_image_mode\", {});\n",
       "            if (mpl.ratio != 1) {\n",
       "                fig.send_message(\"set_dpi_ratio\", {'dpi_ratio': mpl.ratio});\n",
       "            }\n",
       "            fig.send_message(\"refresh\", {});\n",
       "        }\n",
       "\n",
       "    this.imageObj.onload = function() {\n",
       "            if (fig.image_mode == 'full') {\n",
       "                // Full images could contain transparency (where diff images\n",
       "                // almost always do), so we need to clear the canvas so that\n",
       "                // there is no ghosting.\n",
       "                fig.context.clearRect(0, 0, fig.canvas.width, fig.canvas.height);\n",
       "            }\n",
       "            fig.context.drawImage(fig.imageObj, 0, 0);\n",
       "        };\n",
       "\n",
       "    this.imageObj.onunload = function() {\n",
       "        fig.ws.close();\n",
       "    }\n",
       "\n",
       "    this.ws.onmessage = this._make_on_message_function(this);\n",
       "\n",
       "    this.ondownload = ondownload;\n",
       "}\n",
       "\n",
       "mpl.figure.prototype._init_header = function() {\n",
       "    var titlebar = $(\n",
       "        '<div class=\"ui-dialog-titlebar ui-widget-header ui-corner-all ' +\n",
       "        'ui-helper-clearfix\"/>');\n",
       "    var titletext = $(\n",
       "        '<div class=\"ui-dialog-title\" style=\"width: 100%; ' +\n",
       "        'text-align: center; padding: 3px;\"/>');\n",
       "    titlebar.append(titletext)\n",
       "    this.root.append(titlebar);\n",
       "    this.header = titletext[0];\n",
       "}\n",
       "\n",
       "\n",
       "\n",
       "mpl.figure.prototype._canvas_extra_style = function(canvas_div) {\n",
       "\n",
       "}\n",
       "\n",
       "\n",
       "mpl.figure.prototype._root_extra_style = function(canvas_div) {\n",
       "\n",
       "}\n",
       "\n",
       "mpl.figure.prototype._init_canvas = function() {\n",
       "    var fig = this;\n",
       "\n",
       "    var canvas_div = $('<div/>');\n",
       "\n",
       "    canvas_div.attr('style', 'position: relative; clear: both; outline: 0');\n",
       "\n",
       "    function canvas_keyboard_event(event) {\n",
       "        return fig.key_event(event, event['data']);\n",
       "    }\n",
       "\n",
       "    canvas_div.keydown('key_press', canvas_keyboard_event);\n",
       "    canvas_div.keyup('key_release', canvas_keyboard_event);\n",
       "    this.canvas_div = canvas_div\n",
       "    this._canvas_extra_style(canvas_div)\n",
       "    this.root.append(canvas_div);\n",
       "\n",
       "    var canvas = $('<canvas/>');\n",
       "    canvas.addClass('mpl-canvas');\n",
       "    canvas.attr('style', \"left: 0; top: 0; z-index: 0; outline: 0\")\n",
       "\n",
       "    this.canvas = canvas[0];\n",
       "    this.context = canvas[0].getContext(\"2d\");\n",
       "\n",
       "    var backingStore = this.context.backingStorePixelRatio ||\n",
       "\tthis.context.webkitBackingStorePixelRatio ||\n",
       "\tthis.context.mozBackingStorePixelRatio ||\n",
       "\tthis.context.msBackingStorePixelRatio ||\n",
       "\tthis.context.oBackingStorePixelRatio ||\n",
       "\tthis.context.backingStorePixelRatio || 1;\n",
       "\n",
       "    mpl.ratio = (window.devicePixelRatio || 1) / backingStore;\n",
       "\n",
       "    var rubberband = $('<canvas/>');\n",
       "    rubberband.attr('style', \"position: absolute; left: 0; top: 0; z-index: 1;\")\n",
       "\n",
       "    var pass_mouse_events = true;\n",
       "\n",
       "    canvas_div.resizable({\n",
       "        start: function(event, ui) {\n",
       "            pass_mouse_events = false;\n",
       "        },\n",
       "        resize: function(event, ui) {\n",
       "            fig.request_resize(ui.size.width, ui.size.height);\n",
       "        },\n",
       "        stop: function(event, ui) {\n",
       "            pass_mouse_events = true;\n",
       "            fig.request_resize(ui.size.width, ui.size.height);\n",
       "        },\n",
       "    });\n",
       "\n",
       "    function mouse_event_fn(event) {\n",
       "        if (pass_mouse_events)\n",
       "            return fig.mouse_event(event, event['data']);\n",
       "    }\n",
       "\n",
       "    rubberband.mousedown('button_press', mouse_event_fn);\n",
       "    rubberband.mouseup('button_release', mouse_event_fn);\n",
       "    // Throttle sequential mouse events to 1 every 20ms.\n",
       "    rubberband.mousemove('motion_notify', mouse_event_fn);\n",
       "\n",
       "    rubberband.mouseenter('figure_enter', mouse_event_fn);\n",
       "    rubberband.mouseleave('figure_leave', mouse_event_fn);\n",
       "\n",
       "    canvas_div.on(\"wheel\", function (event) {\n",
       "        event = event.originalEvent;\n",
       "        event['data'] = 'scroll'\n",
       "        if (event.deltaY < 0) {\n",
       "            event.step = 1;\n",
       "        } else {\n",
       "            event.step = -1;\n",
       "        }\n",
       "        mouse_event_fn(event);\n",
       "    });\n",
       "\n",
       "    canvas_div.append(canvas);\n",
       "    canvas_div.append(rubberband);\n",
       "\n",
       "    this.rubberband = rubberband;\n",
       "    this.rubberband_canvas = rubberband[0];\n",
       "    this.rubberband_context = rubberband[0].getContext(\"2d\");\n",
       "    this.rubberband_context.strokeStyle = \"#000000\";\n",
       "\n",
       "    this._resize_canvas = function(width, height) {\n",
       "        // Keep the size of the canvas, canvas container, and rubber band\n",
       "        // canvas in synch.\n",
       "        canvas_div.css('width', width)\n",
       "        canvas_div.css('height', height)\n",
       "\n",
       "        canvas.attr('width', width * mpl.ratio);\n",
       "        canvas.attr('height', height * mpl.ratio);\n",
       "        canvas.attr('style', 'width: ' + width + 'px; height: ' + height + 'px;');\n",
       "\n",
       "        rubberband.attr('width', width);\n",
       "        rubberband.attr('height', height);\n",
       "    }\n",
       "\n",
       "    // Set the figure to an initial 600x600px, this will subsequently be updated\n",
       "    // upon first draw.\n",
       "    this._resize_canvas(600, 600);\n",
       "\n",
       "    // Disable right mouse context menu.\n",
       "    $(this.rubberband_canvas).bind(\"contextmenu\",function(e){\n",
       "        return false;\n",
       "    });\n",
       "\n",
       "    function set_focus () {\n",
       "        canvas.focus();\n",
       "        canvas_div.focus();\n",
       "    }\n",
       "\n",
       "    window.setTimeout(set_focus, 100);\n",
       "}\n",
       "\n",
       "mpl.figure.prototype._init_toolbar = function() {\n",
       "    var fig = this;\n",
       "\n",
       "    var nav_element = $('<div/>');\n",
       "    nav_element.attr('style', 'width: 100%');\n",
       "    this.root.append(nav_element);\n",
       "\n",
       "    // Define a callback function for later on.\n",
       "    function toolbar_event(event) {\n",
       "        return fig.toolbar_button_onclick(event['data']);\n",
       "    }\n",
       "    function toolbar_mouse_event(event) {\n",
       "        return fig.toolbar_button_onmouseover(event['data']);\n",
       "    }\n",
       "\n",
       "    for(var toolbar_ind in mpl.toolbar_items) {\n",
       "        var name = mpl.toolbar_items[toolbar_ind][0];\n",
       "        var tooltip = mpl.toolbar_items[toolbar_ind][1];\n",
       "        var image = mpl.toolbar_items[toolbar_ind][2];\n",
       "        var method_name = mpl.toolbar_items[toolbar_ind][3];\n",
       "\n",
       "        if (!name) {\n",
       "            // put a spacer in here.\n",
       "            continue;\n",
       "        }\n",
       "        var button = $('<button/>');\n",
       "        button.addClass('ui-button ui-widget ui-state-default ui-corner-all ' +\n",
       "                        'ui-button-icon-only');\n",
       "        button.attr('role', 'button');\n",
       "        button.attr('aria-disabled', 'false');\n",
       "        button.click(method_name, toolbar_event);\n",
       "        button.mouseover(tooltip, toolbar_mouse_event);\n",
       "\n",
       "        var icon_img = $('<span/>');\n",
       "        icon_img.addClass('ui-button-icon-primary ui-icon');\n",
       "        icon_img.addClass(image);\n",
       "        icon_img.addClass('ui-corner-all');\n",
       "\n",
       "        var tooltip_span = $('<span/>');\n",
       "        tooltip_span.addClass('ui-button-text');\n",
       "        tooltip_span.html(tooltip);\n",
       "\n",
       "        button.append(icon_img);\n",
       "        button.append(tooltip_span);\n",
       "\n",
       "        nav_element.append(button);\n",
       "    }\n",
       "\n",
       "    var fmt_picker_span = $('<span/>');\n",
       "\n",
       "    var fmt_picker = $('<select/>');\n",
       "    fmt_picker.addClass('mpl-toolbar-option ui-widget ui-widget-content');\n",
       "    fmt_picker_span.append(fmt_picker);\n",
       "    nav_element.append(fmt_picker_span);\n",
       "    this.format_dropdown = fmt_picker[0];\n",
       "\n",
       "    for (var ind in mpl.extensions) {\n",
       "        var fmt = mpl.extensions[ind];\n",
       "        var option = $(\n",
       "            '<option/>', {selected: fmt === mpl.default_extension}).html(fmt);\n",
       "        fmt_picker.append(option);\n",
       "    }\n",
       "\n",
       "    // Add hover states to the ui-buttons\n",
       "    $( \".ui-button\" ).hover(\n",
       "        function() { $(this).addClass(\"ui-state-hover\");},\n",
       "        function() { $(this).removeClass(\"ui-state-hover\");}\n",
       "    );\n",
       "\n",
       "    var status_bar = $('<span class=\"mpl-message\"/>');\n",
       "    nav_element.append(status_bar);\n",
       "    this.message = status_bar[0];\n",
       "}\n",
       "\n",
       "mpl.figure.prototype.request_resize = function(x_pixels, y_pixels) {\n",
       "    // Request matplotlib to resize the figure. Matplotlib will then trigger a resize in the client,\n",
       "    // which will in turn request a refresh of the image.\n",
       "    this.send_message('resize', {'width': x_pixels, 'height': y_pixels});\n",
       "}\n",
       "\n",
       "mpl.figure.prototype.send_message = function(type, properties) {\n",
       "    properties['type'] = type;\n",
       "    properties['figure_id'] = this.id;\n",
       "    this.ws.send(JSON.stringify(properties));\n",
       "}\n",
       "\n",
       "mpl.figure.prototype.send_draw_message = function() {\n",
       "    if (!this.waiting) {\n",
       "        this.waiting = true;\n",
       "        this.ws.send(JSON.stringify({type: \"draw\", figure_id: this.id}));\n",
       "    }\n",
       "}\n",
       "\n",
       "\n",
       "mpl.figure.prototype.handle_save = function(fig, msg) {\n",
       "    var format_dropdown = fig.format_dropdown;\n",
       "    var format = format_dropdown.options[format_dropdown.selectedIndex].value;\n",
       "    fig.ondownload(fig, format);\n",
       "}\n",
       "\n",
       "\n",
       "mpl.figure.prototype.handle_resize = function(fig, msg) {\n",
       "    var size = msg['size'];\n",
       "    if (size[0] != fig.canvas.width || size[1] != fig.canvas.height) {\n",
       "        fig._resize_canvas(size[0], size[1]);\n",
       "        fig.send_message(\"refresh\", {});\n",
       "    };\n",
       "}\n",
       "\n",
       "mpl.figure.prototype.handle_rubberband = function(fig, msg) {\n",
       "    var x0 = msg['x0'] / mpl.ratio;\n",
       "    var y0 = (fig.canvas.height - msg['y0']) / mpl.ratio;\n",
       "    var x1 = msg['x1'] / mpl.ratio;\n",
       "    var y1 = (fig.canvas.height - msg['y1']) / mpl.ratio;\n",
       "    x0 = Math.floor(x0) + 0.5;\n",
       "    y0 = Math.floor(y0) + 0.5;\n",
       "    x1 = Math.floor(x1) + 0.5;\n",
       "    y1 = Math.floor(y1) + 0.5;\n",
       "    var min_x = Math.min(x0, x1);\n",
       "    var min_y = Math.min(y0, y1);\n",
       "    var width = Math.abs(x1 - x0);\n",
       "    var height = Math.abs(y1 - y0);\n",
       "\n",
       "    fig.rubberband_context.clearRect(\n",
       "        0, 0, fig.canvas.width / mpl.ratio, fig.canvas.height / mpl.ratio);\n",
       "\n",
       "    fig.rubberband_context.strokeRect(min_x, min_y, width, height);\n",
       "}\n",
       "\n",
       "mpl.figure.prototype.handle_figure_label = function(fig, msg) {\n",
       "    // Updates the figure title.\n",
       "    fig.header.textContent = msg['label'];\n",
       "}\n",
       "\n",
       "mpl.figure.prototype.handle_cursor = function(fig, msg) {\n",
       "    var cursor = msg['cursor'];\n",
       "    switch(cursor)\n",
       "    {\n",
       "    case 0:\n",
       "        cursor = 'pointer';\n",
       "        break;\n",
       "    case 1:\n",
       "        cursor = 'default';\n",
       "        break;\n",
       "    case 2:\n",
       "        cursor = 'crosshair';\n",
       "        break;\n",
       "    case 3:\n",
       "        cursor = 'move';\n",
       "        break;\n",
       "    }\n",
       "    fig.rubberband_canvas.style.cursor = cursor;\n",
       "}\n",
       "\n",
       "mpl.figure.prototype.handle_message = function(fig, msg) {\n",
       "    fig.message.textContent = msg['message'];\n",
       "}\n",
       "\n",
       "mpl.figure.prototype.handle_draw = function(fig, msg) {\n",
       "    // Request the server to send over a new figure.\n",
       "    fig.send_draw_message();\n",
       "}\n",
       "\n",
       "mpl.figure.prototype.handle_image_mode = function(fig, msg) {\n",
       "    fig.image_mode = msg['mode'];\n",
       "}\n",
       "\n",
       "mpl.figure.prototype.updated_canvas_event = function() {\n",
       "    // Called whenever the canvas gets updated.\n",
       "    this.send_message(\"ack\", {});\n",
       "}\n",
       "\n",
       "// A function to construct a web socket function for onmessage handling.\n",
       "// Called in the figure constructor.\n",
       "mpl.figure.prototype._make_on_message_function = function(fig) {\n",
       "    return function socket_on_message(evt) {\n",
       "        if (evt.data instanceof Blob) {\n",
       "            /* FIXME: We get \"Resource interpreted as Image but\n",
       "             * transferred with MIME type text/plain:\" errors on\n",
       "             * Chrome.  But how to set the MIME type?  It doesn't seem\n",
       "             * to be part of the websocket stream */\n",
       "            evt.data.type = \"image/png\";\n",
       "\n",
       "            /* Free the memory for the previous frames */\n",
       "            if (fig.imageObj.src) {\n",
       "                (window.URL || window.webkitURL).revokeObjectURL(\n",
       "                    fig.imageObj.src);\n",
       "            }\n",
       "\n",
       "            fig.imageObj.src = (window.URL || window.webkitURL).createObjectURL(\n",
       "                evt.data);\n",
       "            fig.updated_canvas_event();\n",
       "            fig.waiting = false;\n",
       "            return;\n",
       "        }\n",
       "        else if (typeof evt.data === 'string' && evt.data.slice(0, 21) == \"data:image/png;base64\") {\n",
       "            fig.imageObj.src = evt.data;\n",
       "            fig.updated_canvas_event();\n",
       "            fig.waiting = false;\n",
       "            return;\n",
       "        }\n",
       "\n",
       "        var msg = JSON.parse(evt.data);\n",
       "        var msg_type = msg['type'];\n",
       "\n",
       "        // Call the  \"handle_{type}\" callback, which takes\n",
       "        // the figure and JSON message as its only arguments.\n",
       "        try {\n",
       "            var callback = fig[\"handle_\" + msg_type];\n",
       "        } catch (e) {\n",
       "            console.log(\"No handler for the '\" + msg_type + \"' message type: \", msg);\n",
       "            return;\n",
       "        }\n",
       "\n",
       "        if (callback) {\n",
       "            try {\n",
       "                // console.log(\"Handling '\" + msg_type + \"' message: \", msg);\n",
       "                callback(fig, msg);\n",
       "            } catch (e) {\n",
       "                console.log(\"Exception inside the 'handler_\" + msg_type + \"' callback:\", e, e.stack, msg);\n",
       "            }\n",
       "        }\n",
       "    };\n",
       "}\n",
       "\n",
       "// from http://stackoverflow.com/questions/1114465/getting-mouse-location-in-canvas\n",
       "mpl.findpos = function(e) {\n",
       "    //this section is from http://www.quirksmode.org/js/events_properties.html\n",
       "    var targ;\n",
       "    if (!e)\n",
       "        e = window.event;\n",
       "    if (e.target)\n",
       "        targ = e.target;\n",
       "    else if (e.srcElement)\n",
       "        targ = e.srcElement;\n",
       "    if (targ.nodeType == 3) // defeat Safari bug\n",
       "        targ = targ.parentNode;\n",
       "\n",
       "    // jQuery normalizes the pageX and pageY\n",
       "    // pageX,Y are the mouse positions relative to the document\n",
       "    // offset() returns the position of the element relative to the document\n",
       "    var x = e.pageX - $(targ).offset().left;\n",
       "    var y = e.pageY - $(targ).offset().top;\n",
       "\n",
       "    return {\"x\": x, \"y\": y};\n",
       "};\n",
       "\n",
       "/*\n",
       " * return a copy of an object with only non-object keys\n",
       " * we need this to avoid circular references\n",
       " * http://stackoverflow.com/a/24161582/3208463\n",
       " */\n",
       "function simpleKeys (original) {\n",
       "  return Object.keys(original).reduce(function (obj, key) {\n",
       "    if (typeof original[key] !== 'object')\n",
       "        obj[key] = original[key]\n",
       "    return obj;\n",
       "  }, {});\n",
       "}\n",
       "\n",
       "mpl.figure.prototype.mouse_event = function(event, name) {\n",
       "    var canvas_pos = mpl.findpos(event)\n",
       "\n",
       "    if (name === 'button_press')\n",
       "    {\n",
       "        this.canvas.focus();\n",
       "        this.canvas_div.focus();\n",
       "    }\n",
       "\n",
       "    var x = canvas_pos.x * mpl.ratio;\n",
       "    var y = canvas_pos.y * mpl.ratio;\n",
       "\n",
       "    this.send_message(name, {x: x, y: y, button: event.button,\n",
       "                             step: event.step,\n",
       "                             guiEvent: simpleKeys(event)});\n",
       "\n",
       "    /* This prevents the web browser from automatically changing to\n",
       "     * the text insertion cursor when the button is pressed.  We want\n",
       "     * to control all of the cursor setting manually through the\n",
       "     * 'cursor' event from matplotlib */\n",
       "    event.preventDefault();\n",
       "    return false;\n",
       "}\n",
       "\n",
       "mpl.figure.prototype._key_event_extra = function(event, name) {\n",
       "    // Handle any extra behaviour associated with a key event\n",
       "}\n",
       "\n",
       "mpl.figure.prototype.key_event = function(event, name) {\n",
       "\n",
       "    // Prevent repeat events\n",
       "    if (name == 'key_press')\n",
       "    {\n",
       "        if (event.which === this._key)\n",
       "            return;\n",
       "        else\n",
       "            this._key = event.which;\n",
       "    }\n",
       "    if (name == 'key_release')\n",
       "        this._key = null;\n",
       "\n",
       "    var value = '';\n",
       "    if (event.ctrlKey && event.which != 17)\n",
       "        value += \"ctrl+\";\n",
       "    if (event.altKey && event.which != 18)\n",
       "        value += \"alt+\";\n",
       "    if (event.shiftKey && event.which != 16)\n",
       "        value += \"shift+\";\n",
       "\n",
       "    value += 'k';\n",
       "    value += event.which.toString();\n",
       "\n",
       "    this._key_event_extra(event, name);\n",
       "\n",
       "    this.send_message(name, {key: value,\n",
       "                             guiEvent: simpleKeys(event)});\n",
       "    return false;\n",
       "}\n",
       "\n",
       "mpl.figure.prototype.toolbar_button_onclick = function(name) {\n",
       "    if (name == 'download') {\n",
       "        this.handle_save(this, null);\n",
       "    } else {\n",
       "        this.send_message(\"toolbar_button\", {name: name});\n",
       "    }\n",
       "};\n",
       "\n",
       "mpl.figure.prototype.toolbar_button_onmouseover = function(tooltip) {\n",
       "    this.message.textContent = tooltip;\n",
       "};\n",
       "mpl.toolbar_items = [[\"Home\", \"Reset original view\", \"fa fa-home icon-home\", \"home\"], [\"Back\", \"Back to previous view\", \"fa fa-arrow-left icon-arrow-left\", \"back\"], [\"Forward\", \"Forward to next view\", \"fa fa-arrow-right icon-arrow-right\", \"forward\"], [\"\", \"\", \"\", \"\"], [\"Pan\", \"Pan axes with left mouse, zoom with right\", \"fa fa-arrows icon-move\", \"pan\"], [\"Zoom\", \"Zoom to rectangle\", \"fa fa-square-o icon-check-empty\", \"zoom\"], [\"\", \"\", \"\", \"\"], [\"Download\", \"Download plot\", \"fa fa-floppy-o icon-save\", \"download\"]];\n",
       "\n",
       "mpl.extensions = [\"eps\", \"pdf\", \"png\", \"ps\", \"raw\", \"svg\"];\n",
       "\n",
       "mpl.default_extension = \"png\";var comm_websocket_adapter = function(comm) {\n",
       "    // Create a \"websocket\"-like object which calls the given IPython comm\n",
       "    // object with the appropriate methods. Currently this is a non binary\n",
       "    // socket, so there is still some room for performance tuning.\n",
       "    var ws = {};\n",
       "\n",
       "    ws.close = function() {\n",
       "        comm.close()\n",
       "    };\n",
       "    ws.send = function(m) {\n",
       "        //console.log('sending', m);\n",
       "        comm.send(m);\n",
       "    };\n",
       "    // Register the callback with on_msg.\n",
       "    comm.on_msg(function(msg) {\n",
       "        //console.log('receiving', msg['content']['data'], msg);\n",
       "        // Pass the mpl event to the overridden (by mpl) onmessage function.\n",
       "        ws.onmessage(msg['content']['data'])\n",
       "    });\n",
       "    return ws;\n",
       "}\n",
       "\n",
       "mpl.mpl_figure_comm = function(comm, msg) {\n",
       "    // This is the function which gets called when the mpl process\n",
       "    // starts-up an IPython Comm through the \"matplotlib\" channel.\n",
       "\n",
       "    var id = msg.content.data.id;\n",
       "    // Get hold of the div created by the display call when the Comm\n",
       "    // socket was opened in Python.\n",
       "    var element = $(\"#\" + id);\n",
       "    var ws_proxy = comm_websocket_adapter(comm)\n",
       "\n",
       "    function ondownload(figure, format) {\n",
       "        window.open(figure.imageObj.src);\n",
       "    }\n",
       "\n",
       "    var fig = new mpl.figure(id, ws_proxy,\n",
       "                           ondownload,\n",
       "                           element.get(0));\n",
       "\n",
       "    // Call onopen now - mpl needs it, as it is assuming we've passed it a real\n",
       "    // web socket which is closed, not our websocket->open comm proxy.\n",
       "    ws_proxy.onopen();\n",
       "\n",
       "    fig.parent_element = element.get(0);\n",
       "    fig.cell_info = mpl.find_output_cell(\"<div id='\" + id + \"'></div>\");\n",
       "    if (!fig.cell_info) {\n",
       "        console.error(\"Failed to find cell for figure\", id, fig);\n",
       "        return;\n",
       "    }\n",
       "\n",
       "    var output_index = fig.cell_info[2]\n",
       "    var cell = fig.cell_info[0];\n",
       "\n",
       "};\n",
       "\n",
       "mpl.figure.prototype.handle_close = function(fig, msg) {\n",
       "    var width = fig.canvas.width/mpl.ratio\n",
       "    fig.root.unbind('remove')\n",
       "\n",
       "    // Update the output cell to use the data from the current canvas.\n",
       "    fig.push_to_output();\n",
       "    var dataURL = fig.canvas.toDataURL();\n",
       "    // Re-enable the keyboard manager in IPython - without this line, in FF,\n",
       "    // the notebook keyboard shortcuts fail.\n",
       "    IPython.keyboard_manager.enable()\n",
       "    $(fig.parent_element).html('<img src=\"' + dataURL + '\" width=\"' + width + '\">');\n",
       "    fig.close_ws(fig, msg);\n",
       "}\n",
       "\n",
       "mpl.figure.prototype.close_ws = function(fig, msg){\n",
       "    fig.send_message('closing', msg);\n",
       "    // fig.ws.close()\n",
       "}\n",
       "\n",
       "mpl.figure.prototype.push_to_output = function(remove_interactive) {\n",
       "    // Turn the data on the canvas into data in the output cell.\n",
       "    var width = this.canvas.width/mpl.ratio\n",
       "    var dataURL = this.canvas.toDataURL();\n",
       "    this.cell_info[1]['text/html'] = '<img src=\"' + dataURL + '\" width=\"' + width + '\">';\n",
       "}\n",
       "\n",
       "mpl.figure.prototype.updated_canvas_event = function() {\n",
       "    // Tell IPython that the notebook contents must change.\n",
       "    IPython.notebook.set_dirty(true);\n",
       "    this.send_message(\"ack\", {});\n",
       "    var fig = this;\n",
       "    // Wait a second, then push the new image to the DOM so\n",
       "    // that it is saved nicely (might be nice to debounce this).\n",
       "    setTimeout(function () { fig.push_to_output() }, 1000);\n",
       "}\n",
       "\n",
       "mpl.figure.prototype._init_toolbar = function() {\n",
       "    var fig = this;\n",
       "\n",
       "    var nav_element = $('<div/>');\n",
       "    nav_element.attr('style', 'width: 100%');\n",
       "    this.root.append(nav_element);\n",
       "\n",
       "    // Define a callback function for later on.\n",
       "    function toolbar_event(event) {\n",
       "        return fig.toolbar_button_onclick(event['data']);\n",
       "    }\n",
       "    function toolbar_mouse_event(event) {\n",
       "        return fig.toolbar_button_onmouseover(event['data']);\n",
       "    }\n",
       "\n",
       "    for(var toolbar_ind in mpl.toolbar_items){\n",
       "        var name = mpl.toolbar_items[toolbar_ind][0];\n",
       "        var tooltip = mpl.toolbar_items[toolbar_ind][1];\n",
       "        var image = mpl.toolbar_items[toolbar_ind][2];\n",
       "        var method_name = mpl.toolbar_items[toolbar_ind][3];\n",
       "\n",
       "        if (!name) { continue; };\n",
       "\n",
       "        var button = $('<button class=\"btn btn-default\" href=\"#\" title=\"' + name + '\"><i class=\"fa ' + image + ' fa-lg\"></i></button>');\n",
       "        button.click(method_name, toolbar_event);\n",
       "        button.mouseover(tooltip, toolbar_mouse_event);\n",
       "        nav_element.append(button);\n",
       "    }\n",
       "\n",
       "    // Add the status bar.\n",
       "    var status_bar = $('<span class=\"mpl-message\" style=\"text-align:right; float: right;\"/>');\n",
       "    nav_element.append(status_bar);\n",
       "    this.message = status_bar[0];\n",
       "\n",
       "    // Add the close button to the window.\n",
       "    var buttongrp = $('<div class=\"btn-group inline pull-right\"></div>');\n",
       "    var button = $('<button class=\"btn btn-mini btn-primary\" href=\"#\" title=\"Stop Interaction\"><i class=\"fa fa-power-off icon-remove icon-large\"></i></button>');\n",
       "    button.click(function (evt) { fig.handle_close(fig, {}); } );\n",
       "    button.mouseover('Stop Interaction', toolbar_mouse_event);\n",
       "    buttongrp.append(button);\n",
       "    var titlebar = this.root.find($('.ui-dialog-titlebar'));\n",
       "    titlebar.prepend(buttongrp);\n",
       "}\n",
       "\n",
       "mpl.figure.prototype._root_extra_style = function(el){\n",
       "    var fig = this\n",
       "    el.on(\"remove\", function(){\n",
       "\tfig.close_ws(fig, {});\n",
       "    });\n",
       "}\n",
       "\n",
       "mpl.figure.prototype._canvas_extra_style = function(el){\n",
       "    // this is important to make the div 'focusable\n",
       "    el.attr('tabindex', 0)\n",
       "    // reach out to IPython and tell the keyboard manager to turn it's self\n",
       "    // off when our div gets focus\n",
       "\n",
       "    // location in version 3\n",
       "    if (IPython.notebook.keyboard_manager) {\n",
       "        IPython.notebook.keyboard_manager.register_events(el);\n",
       "    }\n",
       "    else {\n",
       "        // location in version 2\n",
       "        IPython.keyboard_manager.register_events(el);\n",
       "    }\n",
       "\n",
       "}\n",
       "\n",
       "mpl.figure.prototype._key_event_extra = function(event, name) {\n",
       "    var manager = IPython.notebook.keyboard_manager;\n",
       "    if (!manager)\n",
       "        manager = IPython.keyboard_manager;\n",
       "\n",
       "    // Check for shift+enter\n",
       "    if (event.shiftKey && event.which == 13) {\n",
       "        this.canvas_div.blur();\n",
       "        // select the cell after this one\n",
       "        var index = IPython.notebook.find_cell_index(this.cell_info[0]);\n",
       "        IPython.notebook.select(index + 1);\n",
       "    }\n",
       "}\n",
       "\n",
       "mpl.figure.prototype.handle_save = function(fig, msg) {\n",
       "    fig.ondownload(fig, null);\n",
       "}\n",
       "\n",
       "\n",
       "mpl.find_output_cell = function(html_output) {\n",
       "    // Return the cell and output element which can be found *uniquely* in the notebook.\n",
       "    // Note - this is a bit hacky, but it is done because the \"notebook_saving.Notebook\"\n",
       "    // IPython event is triggered only after the cells have been serialised, which for\n",
       "    // our purposes (turning an active figure into a static one), is too late.\n",
       "    var cells = IPython.notebook.get_cells();\n",
       "    var ncells = cells.length;\n",
       "    for (var i=0; i<ncells; i++) {\n",
       "        var cell = cells[i];\n",
       "        if (cell.cell_type === 'code'){\n",
       "            for (var j=0; j<cell.output_area.outputs.length; j++) {\n",
       "                var data = cell.output_area.outputs[j];\n",
       "                if (data.data) {\n",
       "                    // IPython >= 3 moved mimebundle to data attribute of output\n",
       "                    data = data.data;\n",
       "                }\n",
       "                if (data['text/html'] == html_output) {\n",
       "                    return [cell, data, j];\n",
       "                }\n",
       "            }\n",
       "        }\n",
       "    }\n",
       "}\n",
       "\n",
       "// Register the function which deals with the matplotlib target/channel.\n",
       "// The kernel may be null if the page has been refreshed.\n",
       "if (IPython.notebook.kernel != null) {\n",
       "    IPython.notebook.kernel.comm_manager.register_target('matplotlib', mpl.mpl_figure_comm);\n",
       "}\n"
      ],
      "text/plain": [
       "<IPython.core.display.Javascript object>"
      ]
     },
     "metadata": {},
     "output_type": "display_data"
    },
    {
     "data": {
      "text/html": [
       "<img src=\"data:image/png;base64,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\" width=\"900\">"
      ],
      "text/plain": [
       "<IPython.core.display.HTML object>"
      ]
     },
     "metadata": {},
     "output_type": "display_data"
    },
    {
     "data": {
      "application/vnd.jupyter.widget-view+json": {
       "model_id": "465dacd4fb8a4e6288d186b9569d2c82",
       "version_major": 2,
       "version_minor": 0
      },
      "text/plain": [
       "interactive(children=(IntSlider(value=1, description='n', max=64, min=1), Output()), _dom_classes=('widget-int…"
      ]
     },
     "metadata": {},
     "output_type": "display_data"
    }
   ],
   "source": [
    "fig, ax = plt.subplots(1,1)\n",
    "fig.set_size_inches(9, 6)\n",
    "\n",
    "def operation(rv, n):\n",
    "    return numpy.sum(rv, axis=1)/numpy.sqrt(n)\n",
    "\n",
    "@interact(n=(1, 64, 1))\n",
    "def central_limit_widget(n=1, ):\n",
    "    number_samples = 10_000\n",
    "    x = numpy.linspace(-3, 3, 1001)\n",
    "    rv = 1*(stats.uniform.rvs(size=(int(number_samples),n))-0.5)\n",
    "    rv = operation(rv, n)\n",
    "    ax.cla()\n",
    "    _ = plt.hist(rv, 50, density=True, facecolor='b', alpha=0.3, label='Raw Data')\n",
    "    ax.set_xlim((min(x), max(x)))\n",
    "    ax.set_ylim((0, 1.5))\n",
    "    fig.suptitle(f'Central Limit Theorem\\nUniform, Degree: {n}')\n",
    "    ax.set_xlabel('Value')\n",
    "    # Fit Uniform\n",
    "    loc, scale = stats.uniform.fit(rv)\n",
    "    p_x_uniform = stats.uniform.pdf(x, loc=loc, scale=scale)\n",
    "    ax.plot(x, p_x_uniform, '--k', label=f'Uniform(loc={loc:.2f}, scale={scale:.2f})')\n",
    "    # Fit Gaussian\n",
    "    mu, sigma = stats.norm.fit(rv)\n",
    "    p_x_uniform = stats.norm.pdf(x, loc=mu, scale=sigma)\n",
    "    ax.plot(x, p_x_uniform, '--g', label=f'Gaussian({mu:.2f}, {sigma:.2f})')\n",
    "    ax.legend()"
   ]
  },
  {
   "cell_type": "markdown",
   "metadata": {
    "cell_style": "split",
    "slideshow": {
     "slide_type": "subslide"
    }
   },
   "source": [
    "### Operations on Random Variables\n",
    "\n",
    "#### Shifts, Scalings, Abs, and Squared\n",
    "\n",
    "#### Addition of two RV's\n",
    "\n",
    "Convolve the PDF's \n",
    "\n",
    "+ Sorry for the recycled plots"
   ]
  },
  {
   "cell_type": "markdown",
   "metadata": {
    "cell_style": "split",
    "slideshow": {
     "slide_type": "fragment"
    }
   },
   "source": [
    "#### Convolution\n",
    "\n",
    "$$ \n",
    "\\begin{align} (f*g)(t) &= \\int_{-\\infty}^{t} f(\\tau)\\: g(t-\\tau) \\: d \\tau \\\\\n",
    "(f*g)[n] &= \\sum_{-\\infty\\dots \\infty}^{i}  f[i]\\:g[n-i]  \n",
    "\\end{align}\n",
    "$$"
   ]
  },
  {
   "cell_type": "markdown",
   "metadata": {
    "slideshow": {
     "slide_type": "subslide"
    }
   },
   "source": [
    "<img src=\"rect_rect_conv_auto.gif\" width=\"100%\">"
   ]
  },
  {
   "cell_type": "markdown",
   "metadata": {
    "slideshow": {
     "slide_type": "subslide"
    }
   },
   "source": [
    "<img src=\"rect_exp_conv_auto.gif\" width=\"100%\">"
   ]
  },
  {
   "cell_type": "markdown",
   "metadata": {
    "slideshow": {
     "slide_type": "subslide"
    }
   },
   "source": [
    "<img src=\"exp_exp_conv_auto.gif\" width=\"100%\">"
   ]
  },
  {
   "cell_type": "markdown",
   "metadata": {
    "slideshow": {
     "slide_type": "subslide"
    }
   },
   "source": [
    "<img src=\"rect_gaussian_conv_auto.gif\" width=\"100%\">"
   ]
  },
  {
   "cell_type": "markdown",
   "metadata": {
    "slideshow": {
     "slide_type": "subslide"
    }
   },
   "source": [
    "<img src=\"gaussian_gaussian_conv_auto.gif\" width=\"100%\">"
   ]
  },
  {
   "cell_type": "markdown",
   "metadata": {
    "slideshow": {
     "slide_type": "notes"
    }
   },
   "source": [
    "+ Note Gaussian convoled with a Gaussian is Gaussian"
   ]
  },
  {
   "cell_type": "markdown",
   "metadata": {
    "cell_style": "split",
    "slideshow": {
     "slide_type": "subslide"
    }
   },
   "source": [
    "### Correlation and Covariance\n",
    "\n",
    "#### Correlation Random Variables\n",
    "$$ {r}_{xy} = cor(\\bf X, \\bf Y) = E \\left [ \\bf X \\cdot \\bf Y \\right ] $$\n",
    "\n",
    "### Covariance Random Variables\n",
    "$$ {r}_{xy} = cov(\\bf X, \\bf Y) = E \\left [ ( \\bf X -\\mu_x ) ( \\bf Y -\\mu_y )  \\right ] $$"
   ]
  },
  {
   "cell_type": "markdown",
   "metadata": {
    "cell_style": "split",
    "slideshow": {
     "slide_type": "fragment"
    }
   },
   "source": [
    "### Correlation of Signals $f$ and $g$\n",
    "\n",
    "$$ \\begin{align} \n",
    "(f*g)(t) &= \\int_{-\\infty}^{t} f(\\tau)\\: g(t+\\tau) \\: d \\tau \\\\\n",
    "(f*g)[n] &= \\sum_{-\\infty\\dots \\infty}^{i}  f[i]\\:g[n+i]  \n",
    "\\end{align}$$"
   ]
  },
  {
   "cell_type": "markdown",
   "metadata": {
    "slideshow": {
     "slide_type": "notes"
    }
   },
   "source": []
  },
  {
   "cell_type": "markdown",
   "metadata": {
    "slideshow": {
     "slide_type": "subslide"
    }
   },
   "source": [
    "<img src=\"Correlation_rect_rect.gif\" width=\"90%\">"
   ]
  },
  {
   "cell_type": "markdown",
   "metadata": {
    "slideshow": {
     "slide_type": "subslide"
    }
   },
   "source": [
    "<img src=\"Correlation_rect_exp.gif\" width=\"90%\">"
   ]
  },
  {
   "cell_type": "markdown",
   "metadata": {
    "slideshow": {
     "slide_type": "subslide"
    }
   },
   "source": [
    "<img src=\"Correlation_exp_exp.gif\" width=\"90%\">"
   ]
  },
  {
   "cell_type": "markdown",
   "metadata": {
    "slideshow": {
     "slide_type": "subslide"
    }
   },
   "source": [
    "<img src=\"Correlation_gaussian_gaussian.gif\" width=\"90%\">"
   ]
  },
  {
   "cell_type": "markdown",
   "metadata": {
    "slideshow": {
     "slide_type": "subslide"
    }
   },
   "source": [
    "<img src=\"Correlation_barker_barker.gif\" width=\"90%\">"
   ]
  },
  {
   "cell_type": "markdown",
   "metadata": {
    "slideshow": {
     "slide_type": "notes"
    }
   },
   "source": [
    "Barker-13 code"
   ]
  },
  {
   "cell_type": "markdown",
   "metadata": {
    "cell_style": "split",
    "slideshow": {
     "slide_type": "slide"
    }
   },
   "source": [
    "    \n",
    "## Basic Linear Algebra\n",
    "  + Vector Operations\n",
    "    + Addition\n",
    "    + Scaler Multiplication\n",
    "    + Vector Dimension Span\n",
    "  + Vector Products\n",
    "    + Elementwise Product\n",
    "    + Outter Product\n",
    "    + Inner Product\n",
    "    "
   ]
  },
  {
   "cell_type": "markdown",
   "metadata": {
    "cell_style": "split",
    "slideshow": {
     "slide_type": "fragment"
    }
   },
   "source": [
    "+ Cauchy–Schwarz inequality\n",
    "+ Matched Filter\n",
    "+ Convolution\n",
    "+ Matrix Operations\n",
    "+ Multivariate Random Variables\n",
    "+ Correlation of random vectors\n",
    "+ Orthogonal + Normal = Orthonormal\n",
    "+ Inverse\n",
    "+ Decomposistions"
   ]
  },
  {
   "cell_type": "code",
   "execution_count": null,
   "metadata": {
    "slideshow": {
     "slide_type": "notes"
    }
   },
   "outputs": [],
   "source": []
  },
  {
   "cell_type": "markdown",
   "metadata": {
    "cell_style": "split",
    "slideshow": {
     "slide_type": "subslide"
    }
   },
   "source": [
    "## What is a Vector\n",
    "\n",
    "\n",
    "$$  \\vec{V} \\quad = \\quad [\\:v_1, \\:v_2, \\: _\\cdots, \\: v_n ] $$\n",
    "\n",
    "+ List of numbers with associated operations\n",
    "  + Direction and magnitude\n",
    "+ Often thought of as spacial\n",
    "  + Does not have to be ...\n",
    "+ Associated Operations\n",
    "  + More than \\( Add, Subtract, Multiply, Divide \\)\n"
   ]
  },
  {
   "cell_type": "markdown",
   "metadata": {
    "cell_style": "split",
    "slideshow": {
     "slide_type": "-"
    }
   },
   "source": [
    "\n",
    "\n",
    "\n",
    "\n",
    "<img src=\"vector.png?3\" width=\"75%\">"
   ]
  },
  {
   "cell_type": "markdown",
   "metadata": {
    "slideshow": {
     "slide_type": "subslide"
    }
   },
   "source": [
    "### Where to get a vector?\n",
    "\n",
    "##### Look in the Time Series\n",
    "Want a n-D vector of data, grab n-samples of a time series at time t.\n",
    "\n",
    "#####  Bored of that data\n",
    "Grab n-samples at t+1"
   ]
  },
  {
   "cell_type": "markdown",
   "metadata": {
    "cell_style": "split",
    "slideshow": {
     "slide_type": "subslide"
    }
   },
   "source": [
    "### Vector Addition\n",
    "\n",
    "$$ \\vec{U} = \\vec{V} + \\vec{W} $$\n",
    "\n",
    "$$ \\begin{matrix}\n",
    "\\; \\quad \\vec{V} \\quad = \\quad [\\:v_1, \\:v_2, \\: _\\cdots, \\: v_n ] \\\\\n",
    "+ \\quad \\vec{W} \\quad = \\quad [\\:w_1, \\:w_2, \\: _\\cdots, \\: w_n ] \\\\ \\hline\n",
    "\\quad \\vec{U} \\quad = \\quad [\\:u_1, \\:u_2, \\: _\\cdots, \\: u_n ]\n",
    "\\end{matrix}\n",
    "$$\n",
    "\n",
    "$$\n",
    "u_1=v_1+w_1 \\: , \\: u_2=v_2+w_2 \\: , \\: _\\cdots \\: , \\: u_n=v_n+w_n \n",
    "$$\n",
    "\n",
    "+ Dimentions of each vector?"
   ]
  },
  {
   "cell_type": "markdown",
   "metadata": {
    "cell_style": "split",
    "slideshow": {
     "slide_type": "-"
    }
   },
   "source": [
    "\n",
    "\n",
    "<img src=\"vector_addition.png?1\" width=\"85%\">"
   ]
  },
  {
   "cell_type": "code",
   "execution_count": 163,
   "metadata": {
    "slideshow": {
     "slide_type": "subslide"
    }
   },
   "outputs": [
    {
     "data": {
      "application/javascript": [
       "/* Put everything inside the global mpl namespace */\n",
       "window.mpl = {};\n",
       "\n",
       "\n",
       "mpl.get_websocket_type = function() {\n",
       "    if (typeof(WebSocket) !== 'undefined') {\n",
       "        return WebSocket;\n",
       "    } else if (typeof(MozWebSocket) !== 'undefined') {\n",
       "        return MozWebSocket;\n",
       "    } else {\n",
       "        alert('Your browser does not have WebSocket support. ' +\n",
       "              'Please try Chrome, Safari or Firefox ≥ 6. ' +\n",
       "              'Firefox 4 and 5 are also supported but you ' +\n",
       "              'have to enable WebSockets in about:config.');\n",
       "    };\n",
       "}\n",
       "\n",
       "mpl.figure = function(figure_id, websocket, ondownload, parent_element) {\n",
       "    this.id = figure_id;\n",
       "\n",
       "    this.ws = websocket;\n",
       "\n",
       "    this.supports_binary = (this.ws.binaryType != undefined);\n",
       "\n",
       "    if (!this.supports_binary) {\n",
       "        var warnings = document.getElementById(\"mpl-warnings\");\n",
       "        if (warnings) {\n",
       "            warnings.style.display = 'block';\n",
       "            warnings.textContent = (\n",
       "                \"This browser does not support binary websocket messages. \" +\n",
       "                    \"Performance may be slow.\");\n",
       "        }\n",
       "    }\n",
       "\n",
       "    this.imageObj = new Image();\n",
       "\n",
       "    this.context = undefined;\n",
       "    this.message = undefined;\n",
       "    this.canvas = undefined;\n",
       "    this.rubberband_canvas = undefined;\n",
       "    this.rubberband_context = undefined;\n",
       "    this.format_dropdown = undefined;\n",
       "\n",
       "    this.image_mode = 'full';\n",
       "\n",
       "    this.root = $('<div/>');\n",
       "    this._root_extra_style(this.root)\n",
       "    this.root.attr('style', 'display: inline-block');\n",
       "\n",
       "    $(parent_element).append(this.root);\n",
       "\n",
       "    this._init_header(this);\n",
       "    this._init_canvas(this);\n",
       "    this._init_toolbar(this);\n",
       "\n",
       "    var fig = this;\n",
       "\n",
       "    this.waiting = false;\n",
       "\n",
       "    this.ws.onopen =  function () {\n",
       "            fig.send_message(\"supports_binary\", {value: fig.supports_binary});\n",
       "            fig.send_message(\"send_image_mode\", {});\n",
       "            if (mpl.ratio != 1) {\n",
       "                fig.send_message(\"set_dpi_ratio\", {'dpi_ratio': mpl.ratio});\n",
       "            }\n",
       "            fig.send_message(\"refresh\", {});\n",
       "        }\n",
       "\n",
       "    this.imageObj.onload = function() {\n",
       "            if (fig.image_mode == 'full') {\n",
       "                // Full images could contain transparency (where diff images\n",
       "                // almost always do), so we need to clear the canvas so that\n",
       "                // there is no ghosting.\n",
       "                fig.context.clearRect(0, 0, fig.canvas.width, fig.canvas.height);\n",
       "            }\n",
       "            fig.context.drawImage(fig.imageObj, 0, 0);\n",
       "        };\n",
       "\n",
       "    this.imageObj.onunload = function() {\n",
       "        fig.ws.close();\n",
       "    }\n",
       "\n",
       "    this.ws.onmessage = this._make_on_message_function(this);\n",
       "\n",
       "    this.ondownload = ondownload;\n",
       "}\n",
       "\n",
       "mpl.figure.prototype._init_header = function() {\n",
       "    var titlebar = $(\n",
       "        '<div class=\"ui-dialog-titlebar ui-widget-header ui-corner-all ' +\n",
       "        'ui-helper-clearfix\"/>');\n",
       "    var titletext = $(\n",
       "        '<div class=\"ui-dialog-title\" style=\"width: 100%; ' +\n",
       "        'text-align: center; padding: 3px;\"/>');\n",
       "    titlebar.append(titletext)\n",
       "    this.root.append(titlebar);\n",
       "    this.header = titletext[0];\n",
       "}\n",
       "\n",
       "\n",
       "\n",
       "mpl.figure.prototype._canvas_extra_style = function(canvas_div) {\n",
       "\n",
       "}\n",
       "\n",
       "\n",
       "mpl.figure.prototype._root_extra_style = function(canvas_div) {\n",
       "\n",
       "}\n",
       "\n",
       "mpl.figure.prototype._init_canvas = function() {\n",
       "    var fig = this;\n",
       "\n",
       "    var canvas_div = $('<div/>');\n",
       "\n",
       "    canvas_div.attr('style', 'position: relative; clear: both; outline: 0');\n",
       "\n",
       "    function canvas_keyboard_event(event) {\n",
       "        return fig.key_event(event, event['data']);\n",
       "    }\n",
       "\n",
       "    canvas_div.keydown('key_press', canvas_keyboard_event);\n",
       "    canvas_div.keyup('key_release', canvas_keyboard_event);\n",
       "    this.canvas_div = canvas_div\n",
       "    this._canvas_extra_style(canvas_div)\n",
       "    this.root.append(canvas_div);\n",
       "\n",
       "    var canvas = $('<canvas/>');\n",
       "    canvas.addClass('mpl-canvas');\n",
       "    canvas.attr('style', \"left: 0; top: 0; z-index: 0; outline: 0\")\n",
       "\n",
       "    this.canvas = canvas[0];\n",
       "    this.context = canvas[0].getContext(\"2d\");\n",
       "\n",
       "    var backingStore = this.context.backingStorePixelRatio ||\n",
       "\tthis.context.webkitBackingStorePixelRatio ||\n",
       "\tthis.context.mozBackingStorePixelRatio ||\n",
       "\tthis.context.msBackingStorePixelRatio ||\n",
       "\tthis.context.oBackingStorePixelRatio ||\n",
       "\tthis.context.backingStorePixelRatio || 1;\n",
       "\n",
       "    mpl.ratio = (window.devicePixelRatio || 1) / backingStore;\n",
       "\n",
       "    var rubberband = $('<canvas/>');\n",
       "    rubberband.attr('style', \"position: absolute; left: 0; top: 0; z-index: 1;\")\n",
       "\n",
       "    var pass_mouse_events = true;\n",
       "\n",
       "    canvas_div.resizable({\n",
       "        start: function(event, ui) {\n",
       "            pass_mouse_events = false;\n",
       "        },\n",
       "        resize: function(event, ui) {\n",
       "            fig.request_resize(ui.size.width, ui.size.height);\n",
       "        },\n",
       "        stop: function(event, ui) {\n",
       "            pass_mouse_events = true;\n",
       "            fig.request_resize(ui.size.width, ui.size.height);\n",
       "        },\n",
       "    });\n",
       "\n",
       "    function mouse_event_fn(event) {\n",
       "        if (pass_mouse_events)\n",
       "            return fig.mouse_event(event, event['data']);\n",
       "    }\n",
       "\n",
       "    rubberband.mousedown('button_press', mouse_event_fn);\n",
       "    rubberband.mouseup('button_release', mouse_event_fn);\n",
       "    // Throttle sequential mouse events to 1 every 20ms.\n",
       "    rubberband.mousemove('motion_notify', mouse_event_fn);\n",
       "\n",
       "    rubberband.mouseenter('figure_enter', mouse_event_fn);\n",
       "    rubberband.mouseleave('figure_leave', mouse_event_fn);\n",
       "\n",
       "    canvas_div.on(\"wheel\", function (event) {\n",
       "        event = event.originalEvent;\n",
       "        event['data'] = 'scroll'\n",
       "        if (event.deltaY < 0) {\n",
       "            event.step = 1;\n",
       "        } else {\n",
       "            event.step = -1;\n",
       "        }\n",
       "        mouse_event_fn(event);\n",
       "    });\n",
       "\n",
       "    canvas_div.append(canvas);\n",
       "    canvas_div.append(rubberband);\n",
       "\n",
       "    this.rubberband = rubberband;\n",
       "    this.rubberband_canvas = rubberband[0];\n",
       "    this.rubberband_context = rubberband[0].getContext(\"2d\");\n",
       "    this.rubberband_context.strokeStyle = \"#000000\";\n",
       "\n",
       "    this._resize_canvas = function(width, height) {\n",
       "        // Keep the size of the canvas, canvas container, and rubber band\n",
       "        // canvas in synch.\n",
       "        canvas_div.css('width', width)\n",
       "        canvas_div.css('height', height)\n",
       "\n",
       "        canvas.attr('width', width * mpl.ratio);\n",
       "        canvas.attr('height', height * mpl.ratio);\n",
       "        canvas.attr('style', 'width: ' + width + 'px; height: ' + height + 'px;');\n",
       "\n",
       "        rubberband.attr('width', width);\n",
       "        rubberband.attr('height', height);\n",
       "    }\n",
       "\n",
       "    // Set the figure to an initial 600x600px, this will subsequently be updated\n",
       "    // upon first draw.\n",
       "    this._resize_canvas(600, 600);\n",
       "\n",
       "    // Disable right mouse context menu.\n",
       "    $(this.rubberband_canvas).bind(\"contextmenu\",function(e){\n",
       "        return false;\n",
       "    });\n",
       "\n",
       "    function set_focus () {\n",
       "        canvas.focus();\n",
       "        canvas_div.focus();\n",
       "    }\n",
       "\n",
       "    window.setTimeout(set_focus, 100);\n",
       "}\n",
       "\n",
       "mpl.figure.prototype._init_toolbar = function() {\n",
       "    var fig = this;\n",
       "\n",
       "    var nav_element = $('<div/>');\n",
       "    nav_element.attr('style', 'width: 100%');\n",
       "    this.root.append(nav_element);\n",
       "\n",
       "    // Define a callback function for later on.\n",
       "    function toolbar_event(event) {\n",
       "        return fig.toolbar_button_onclick(event['data']);\n",
       "    }\n",
       "    function toolbar_mouse_event(event) {\n",
       "        return fig.toolbar_button_onmouseover(event['data']);\n",
       "    }\n",
       "\n",
       "    for(var toolbar_ind in mpl.toolbar_items) {\n",
       "        var name = mpl.toolbar_items[toolbar_ind][0];\n",
       "        var tooltip = mpl.toolbar_items[toolbar_ind][1];\n",
       "        var image = mpl.toolbar_items[toolbar_ind][2];\n",
       "        var method_name = mpl.toolbar_items[toolbar_ind][3];\n",
       "\n",
       "        if (!name) {\n",
       "            // put a spacer in here.\n",
       "            continue;\n",
       "        }\n",
       "        var button = $('<button/>');\n",
       "        button.addClass('ui-button ui-widget ui-state-default ui-corner-all ' +\n",
       "                        'ui-button-icon-only');\n",
       "        button.attr('role', 'button');\n",
       "        button.attr('aria-disabled', 'false');\n",
       "        button.click(method_name, toolbar_event);\n",
       "        button.mouseover(tooltip, toolbar_mouse_event);\n",
       "\n",
       "        var icon_img = $('<span/>');\n",
       "        icon_img.addClass('ui-button-icon-primary ui-icon');\n",
       "        icon_img.addClass(image);\n",
       "        icon_img.addClass('ui-corner-all');\n",
       "\n",
       "        var tooltip_span = $('<span/>');\n",
       "        tooltip_span.addClass('ui-button-text');\n",
       "        tooltip_span.html(tooltip);\n",
       "\n",
       "        button.append(icon_img);\n",
       "        button.append(tooltip_span);\n",
       "\n",
       "        nav_element.append(button);\n",
       "    }\n",
       "\n",
       "    var fmt_picker_span = $('<span/>');\n",
       "\n",
       "    var fmt_picker = $('<select/>');\n",
       "    fmt_picker.addClass('mpl-toolbar-option ui-widget ui-widget-content');\n",
       "    fmt_picker_span.append(fmt_picker);\n",
       "    nav_element.append(fmt_picker_span);\n",
       "    this.format_dropdown = fmt_picker[0];\n",
       "\n",
       "    for (var ind in mpl.extensions) {\n",
       "        var fmt = mpl.extensions[ind];\n",
       "        var option = $(\n",
       "            '<option/>', {selected: fmt === mpl.default_extension}).html(fmt);\n",
       "        fmt_picker.append(option);\n",
       "    }\n",
       "\n",
       "    // Add hover states to the ui-buttons\n",
       "    $( \".ui-button\" ).hover(\n",
       "        function() { $(this).addClass(\"ui-state-hover\");},\n",
       "        function() { $(this).removeClass(\"ui-state-hover\");}\n",
       "    );\n",
       "\n",
       "    var status_bar = $('<span class=\"mpl-message\"/>');\n",
       "    nav_element.append(status_bar);\n",
       "    this.message = status_bar[0];\n",
       "}\n",
       "\n",
       "mpl.figure.prototype.request_resize = function(x_pixels, y_pixels) {\n",
       "    // Request matplotlib to resize the figure. Matplotlib will then trigger a resize in the client,\n",
       "    // which will in turn request a refresh of the image.\n",
       "    this.send_message('resize', {'width': x_pixels, 'height': y_pixels});\n",
       "}\n",
       "\n",
       "mpl.figure.prototype.send_message = function(type, properties) {\n",
       "    properties['type'] = type;\n",
       "    properties['figure_id'] = this.id;\n",
       "    this.ws.send(JSON.stringify(properties));\n",
       "}\n",
       "\n",
       "mpl.figure.prototype.send_draw_message = function() {\n",
       "    if (!this.waiting) {\n",
       "        this.waiting = true;\n",
       "        this.ws.send(JSON.stringify({type: \"draw\", figure_id: this.id}));\n",
       "    }\n",
       "}\n",
       "\n",
       "\n",
       "mpl.figure.prototype.handle_save = function(fig, msg) {\n",
       "    var format_dropdown = fig.format_dropdown;\n",
       "    var format = format_dropdown.options[format_dropdown.selectedIndex].value;\n",
       "    fig.ondownload(fig, format);\n",
       "}\n",
       "\n",
       "\n",
       "mpl.figure.prototype.handle_resize = function(fig, msg) {\n",
       "    var size = msg['size'];\n",
       "    if (size[0] != fig.canvas.width || size[1] != fig.canvas.height) {\n",
       "        fig._resize_canvas(size[0], size[1]);\n",
       "        fig.send_message(\"refresh\", {});\n",
       "    };\n",
       "}\n",
       "\n",
       "mpl.figure.prototype.handle_rubberband = function(fig, msg) {\n",
       "    var x0 = msg['x0'] / mpl.ratio;\n",
       "    var y0 = (fig.canvas.height - msg['y0']) / mpl.ratio;\n",
       "    var x1 = msg['x1'] / mpl.ratio;\n",
       "    var y1 = (fig.canvas.height - msg['y1']) / mpl.ratio;\n",
       "    x0 = Math.floor(x0) + 0.5;\n",
       "    y0 = Math.floor(y0) + 0.5;\n",
       "    x1 = Math.floor(x1) + 0.5;\n",
       "    y1 = Math.floor(y1) + 0.5;\n",
       "    var min_x = Math.min(x0, x1);\n",
       "    var min_y = Math.min(y0, y1);\n",
       "    var width = Math.abs(x1 - x0);\n",
       "    var height = Math.abs(y1 - y0);\n",
       "\n",
       "    fig.rubberband_context.clearRect(\n",
       "        0, 0, fig.canvas.width / mpl.ratio, fig.canvas.height / mpl.ratio);\n",
       "\n",
       "    fig.rubberband_context.strokeRect(min_x, min_y, width, height);\n",
       "}\n",
       "\n",
       "mpl.figure.prototype.handle_figure_label = function(fig, msg) {\n",
       "    // Updates the figure title.\n",
       "    fig.header.textContent = msg['label'];\n",
       "}\n",
       "\n",
       "mpl.figure.prototype.handle_cursor = function(fig, msg) {\n",
       "    var cursor = msg['cursor'];\n",
       "    switch(cursor)\n",
       "    {\n",
       "    case 0:\n",
       "        cursor = 'pointer';\n",
       "        break;\n",
       "    case 1:\n",
       "        cursor = 'default';\n",
       "        break;\n",
       "    case 2:\n",
       "        cursor = 'crosshair';\n",
       "        break;\n",
       "    case 3:\n",
       "        cursor = 'move';\n",
       "        break;\n",
       "    }\n",
       "    fig.rubberband_canvas.style.cursor = cursor;\n",
       "}\n",
       "\n",
       "mpl.figure.prototype.handle_message = function(fig, msg) {\n",
       "    fig.message.textContent = msg['message'];\n",
       "}\n",
       "\n",
       "mpl.figure.prototype.handle_draw = function(fig, msg) {\n",
       "    // Request the server to send over a new figure.\n",
       "    fig.send_draw_message();\n",
       "}\n",
       "\n",
       "mpl.figure.prototype.handle_image_mode = function(fig, msg) {\n",
       "    fig.image_mode = msg['mode'];\n",
       "}\n",
       "\n",
       "mpl.figure.prototype.updated_canvas_event = function() {\n",
       "    // Called whenever the canvas gets updated.\n",
       "    this.send_message(\"ack\", {});\n",
       "}\n",
       "\n",
       "// A function to construct a web socket function for onmessage handling.\n",
       "// Called in the figure constructor.\n",
       "mpl.figure.prototype._make_on_message_function = function(fig) {\n",
       "    return function socket_on_message(evt) {\n",
       "        if (evt.data instanceof Blob) {\n",
       "            /* FIXME: We get \"Resource interpreted as Image but\n",
       "             * transferred with MIME type text/plain:\" errors on\n",
       "             * Chrome.  But how to set the MIME type?  It doesn't seem\n",
       "             * to be part of the websocket stream */\n",
       "            evt.data.type = \"image/png\";\n",
       "\n",
       "            /* Free the memory for the previous frames */\n",
       "            if (fig.imageObj.src) {\n",
       "                (window.URL || window.webkitURL).revokeObjectURL(\n",
       "                    fig.imageObj.src);\n",
       "            }\n",
       "\n",
       "            fig.imageObj.src = (window.URL || window.webkitURL).createObjectURL(\n",
       "                evt.data);\n",
       "            fig.updated_canvas_event();\n",
       "            fig.waiting = false;\n",
       "            return;\n",
       "        }\n",
       "        else if (typeof evt.data === 'string' && evt.data.slice(0, 21) == \"data:image/png;base64\") {\n",
       "            fig.imageObj.src = evt.data;\n",
       "            fig.updated_canvas_event();\n",
       "            fig.waiting = false;\n",
       "            return;\n",
       "        }\n",
       "\n",
       "        var msg = JSON.parse(evt.data);\n",
       "        var msg_type = msg['type'];\n",
       "\n",
       "        // Call the  \"handle_{type}\" callback, which takes\n",
       "        // the figure and JSON message as its only arguments.\n",
       "        try {\n",
       "            var callback = fig[\"handle_\" + msg_type];\n",
       "        } catch (e) {\n",
       "            console.log(\"No handler for the '\" + msg_type + \"' message type: \", msg);\n",
       "            return;\n",
       "        }\n",
       "\n",
       "        if (callback) {\n",
       "            try {\n",
       "                // console.log(\"Handling '\" + msg_type + \"' message: \", msg);\n",
       "                callback(fig, msg);\n",
       "            } catch (e) {\n",
       "                console.log(\"Exception inside the 'handler_\" + msg_type + \"' callback:\", e, e.stack, msg);\n",
       "            }\n",
       "        }\n",
       "    };\n",
       "}\n",
       "\n",
       "// from http://stackoverflow.com/questions/1114465/getting-mouse-location-in-canvas\n",
       "mpl.findpos = function(e) {\n",
       "    //this section is from http://www.quirksmode.org/js/events_properties.html\n",
       "    var targ;\n",
       "    if (!e)\n",
       "        e = window.event;\n",
       "    if (e.target)\n",
       "        targ = e.target;\n",
       "    else if (e.srcElement)\n",
       "        targ = e.srcElement;\n",
       "    if (targ.nodeType == 3) // defeat Safari bug\n",
       "        targ = targ.parentNode;\n",
       "\n",
       "    // jQuery normalizes the pageX and pageY\n",
       "    // pageX,Y are the mouse positions relative to the document\n",
       "    // offset() returns the position of the element relative to the document\n",
       "    var x = e.pageX - $(targ).offset().left;\n",
       "    var y = e.pageY - $(targ).offset().top;\n",
       "\n",
       "    return {\"x\": x, \"y\": y};\n",
       "};\n",
       "\n",
       "/*\n",
       " * return a copy of an object with only non-object keys\n",
       " * we need this to avoid circular references\n",
       " * http://stackoverflow.com/a/24161582/3208463\n",
       " */\n",
       "function simpleKeys (original) {\n",
       "  return Object.keys(original).reduce(function (obj, key) {\n",
       "    if (typeof original[key] !== 'object')\n",
       "        obj[key] = original[key]\n",
       "    return obj;\n",
       "  }, {});\n",
       "}\n",
       "\n",
       "mpl.figure.prototype.mouse_event = function(event, name) {\n",
       "    var canvas_pos = mpl.findpos(event)\n",
       "\n",
       "    if (name === 'button_press')\n",
       "    {\n",
       "        this.canvas.focus();\n",
       "        this.canvas_div.focus();\n",
       "    }\n",
       "\n",
       "    var x = canvas_pos.x * mpl.ratio;\n",
       "    var y = canvas_pos.y * mpl.ratio;\n",
       "\n",
       "    this.send_message(name, {x: x, y: y, button: event.button,\n",
       "                             step: event.step,\n",
       "                             guiEvent: simpleKeys(event)});\n",
       "\n",
       "    /* This prevents the web browser from automatically changing to\n",
       "     * the text insertion cursor when the button is pressed.  We want\n",
       "     * to control all of the cursor setting manually through the\n",
       "     * 'cursor' event from matplotlib */\n",
       "    event.preventDefault();\n",
       "    return false;\n",
       "}\n",
       "\n",
       "mpl.figure.prototype._key_event_extra = function(event, name) {\n",
       "    // Handle any extra behaviour associated with a key event\n",
       "}\n",
       "\n",
       "mpl.figure.prototype.key_event = function(event, name) {\n",
       "\n",
       "    // Prevent repeat events\n",
       "    if (name == 'key_press')\n",
       "    {\n",
       "        if (event.which === this._key)\n",
       "            return;\n",
       "        else\n",
       "            this._key = event.which;\n",
       "    }\n",
       "    if (name == 'key_release')\n",
       "        this._key = null;\n",
       "\n",
       "    var value = '';\n",
       "    if (event.ctrlKey && event.which != 17)\n",
       "        value += \"ctrl+\";\n",
       "    if (event.altKey && event.which != 18)\n",
       "        value += \"alt+\";\n",
       "    if (event.shiftKey && event.which != 16)\n",
       "        value += \"shift+\";\n",
       "\n",
       "    value += 'k';\n",
       "    value += event.which.toString();\n",
       "\n",
       "    this._key_event_extra(event, name);\n",
       "\n",
       "    this.send_message(name, {key: value,\n",
       "                             guiEvent: simpleKeys(event)});\n",
       "    return false;\n",
       "}\n",
       "\n",
       "mpl.figure.prototype.toolbar_button_onclick = function(name) {\n",
       "    if (name == 'download') {\n",
       "        this.handle_save(this, null);\n",
       "    } else {\n",
       "        this.send_message(\"toolbar_button\", {name: name});\n",
       "    }\n",
       "};\n",
       "\n",
       "mpl.figure.prototype.toolbar_button_onmouseover = function(tooltip) {\n",
       "    this.message.textContent = tooltip;\n",
       "};\n",
       "mpl.toolbar_items = [[\"Home\", \"Reset original view\", \"fa fa-home icon-home\", \"home\"], [\"Back\", \"Back to previous view\", \"fa fa-arrow-left icon-arrow-left\", \"back\"], [\"Forward\", \"Forward to next view\", \"fa fa-arrow-right icon-arrow-right\", \"forward\"], [\"\", \"\", \"\", \"\"], [\"Pan\", \"Pan axes with left mouse, zoom with right\", \"fa fa-arrows icon-move\", \"pan\"], [\"Zoom\", \"Zoom to rectangle\", \"fa fa-square-o icon-check-empty\", \"zoom\"], [\"\", \"\", \"\", \"\"], [\"Download\", \"Download plot\", \"fa fa-floppy-o icon-save\", \"download\"]];\n",
       "\n",
       "mpl.extensions = [\"eps\", \"pdf\", \"png\", \"ps\", \"raw\", \"svg\"];\n",
       "\n",
       "mpl.default_extension = \"png\";var comm_websocket_adapter = function(comm) {\n",
       "    // Create a \"websocket\"-like object which calls the given IPython comm\n",
       "    // object with the appropriate methods. Currently this is a non binary\n",
       "    // socket, so there is still some room for performance tuning.\n",
       "    var ws = {};\n",
       "\n",
       "    ws.close = function() {\n",
       "        comm.close()\n",
       "    };\n",
       "    ws.send = function(m) {\n",
       "        //console.log('sending', m);\n",
       "        comm.send(m);\n",
       "    };\n",
       "    // Register the callback with on_msg.\n",
       "    comm.on_msg(function(msg) {\n",
       "        //console.log('receiving', msg['content']['data'], msg);\n",
       "        // Pass the mpl event to the overridden (by mpl) onmessage function.\n",
       "        ws.onmessage(msg['content']['data'])\n",
       "    });\n",
       "    return ws;\n",
       "}\n",
       "\n",
       "mpl.mpl_figure_comm = function(comm, msg) {\n",
       "    // This is the function which gets called when the mpl process\n",
       "    // starts-up an IPython Comm through the \"matplotlib\" channel.\n",
       "\n",
       "    var id = msg.content.data.id;\n",
       "    // Get hold of the div created by the display call when the Comm\n",
       "    // socket was opened in Python.\n",
       "    var element = $(\"#\" + id);\n",
       "    var ws_proxy = comm_websocket_adapter(comm)\n",
       "\n",
       "    function ondownload(figure, format) {\n",
       "        window.open(figure.imageObj.src);\n",
       "    }\n",
       "\n",
       "    var fig = new mpl.figure(id, ws_proxy,\n",
       "                           ondownload,\n",
       "                           element.get(0));\n",
       "\n",
       "    // Call onopen now - mpl needs it, as it is assuming we've passed it a real\n",
       "    // web socket which is closed, not our websocket->open comm proxy.\n",
       "    ws_proxy.onopen();\n",
       "\n",
       "    fig.parent_element = element.get(0);\n",
       "    fig.cell_info = mpl.find_output_cell(\"<div id='\" + id + \"'></div>\");\n",
       "    if (!fig.cell_info) {\n",
       "        console.error(\"Failed to find cell for figure\", id, fig);\n",
       "        return;\n",
       "    }\n",
       "\n",
       "    var output_index = fig.cell_info[2]\n",
       "    var cell = fig.cell_info[0];\n",
       "\n",
       "};\n",
       "\n",
       "mpl.figure.prototype.handle_close = function(fig, msg) {\n",
       "    var width = fig.canvas.width/mpl.ratio\n",
       "    fig.root.unbind('remove')\n",
       "\n",
       "    // Update the output cell to use the data from the current canvas.\n",
       "    fig.push_to_output();\n",
       "    var dataURL = fig.canvas.toDataURL();\n",
       "    // Re-enable the keyboard manager in IPython - without this line, in FF,\n",
       "    // the notebook keyboard shortcuts fail.\n",
       "    IPython.keyboard_manager.enable()\n",
       "    $(fig.parent_element).html('<img src=\"' + dataURL + '\" width=\"' + width + '\">');\n",
       "    fig.close_ws(fig, msg);\n",
       "}\n",
       "\n",
       "mpl.figure.prototype.close_ws = function(fig, msg){\n",
       "    fig.send_message('closing', msg);\n",
       "    // fig.ws.close()\n",
       "}\n",
       "\n",
       "mpl.figure.prototype.push_to_output = function(remove_interactive) {\n",
       "    // Turn the data on the canvas into data in the output cell.\n",
       "    var width = this.canvas.width/mpl.ratio\n",
       "    var dataURL = this.canvas.toDataURL();\n",
       "    this.cell_info[1]['text/html'] = '<img src=\"' + dataURL + '\" width=\"' + width + '\">';\n",
       "}\n",
       "\n",
       "mpl.figure.prototype.updated_canvas_event = function() {\n",
       "    // Tell IPython that the notebook contents must change.\n",
       "    IPython.notebook.set_dirty(true);\n",
       "    this.send_message(\"ack\", {});\n",
       "    var fig = this;\n",
       "    // Wait a second, then push the new image to the DOM so\n",
       "    // that it is saved nicely (might be nice to debounce this).\n",
       "    setTimeout(function () { fig.push_to_output() }, 1000);\n",
       "}\n",
       "\n",
       "mpl.figure.prototype._init_toolbar = function() {\n",
       "    var fig = this;\n",
       "\n",
       "    var nav_element = $('<div/>');\n",
       "    nav_element.attr('style', 'width: 100%');\n",
       "    this.root.append(nav_element);\n",
       "\n",
       "    // Define a callback function for later on.\n",
       "    function toolbar_event(event) {\n",
       "        return fig.toolbar_button_onclick(event['data']);\n",
       "    }\n",
       "    function toolbar_mouse_event(event) {\n",
       "        return fig.toolbar_button_onmouseover(event['data']);\n",
       "    }\n",
       "\n",
       "    for(var toolbar_ind in mpl.toolbar_items){\n",
       "        var name = mpl.toolbar_items[toolbar_ind][0];\n",
       "        var tooltip = mpl.toolbar_items[toolbar_ind][1];\n",
       "        var image = mpl.toolbar_items[toolbar_ind][2];\n",
       "        var method_name = mpl.toolbar_items[toolbar_ind][3];\n",
       "\n",
       "        if (!name) { continue; };\n",
       "\n",
       "        var button = $('<button class=\"btn btn-default\" href=\"#\" title=\"' + name + '\"><i class=\"fa ' + image + ' fa-lg\"></i></button>');\n",
       "        button.click(method_name, toolbar_event);\n",
       "        button.mouseover(tooltip, toolbar_mouse_event);\n",
       "        nav_element.append(button);\n",
       "    }\n",
       "\n",
       "    // Add the status bar.\n",
       "    var status_bar = $('<span class=\"mpl-message\" style=\"text-align:right; float: right;\"/>');\n",
       "    nav_element.append(status_bar);\n",
       "    this.message = status_bar[0];\n",
       "\n",
       "    // Add the close button to the window.\n",
       "    var buttongrp = $('<div class=\"btn-group inline pull-right\"></div>');\n",
       "    var button = $('<button class=\"btn btn-mini btn-primary\" href=\"#\" title=\"Stop Interaction\"><i class=\"fa fa-power-off icon-remove icon-large\"></i></button>');\n",
       "    button.click(function (evt) { fig.handle_close(fig, {}); } );\n",
       "    button.mouseover('Stop Interaction', toolbar_mouse_event);\n",
       "    buttongrp.append(button);\n",
       "    var titlebar = this.root.find($('.ui-dialog-titlebar'));\n",
       "    titlebar.prepend(buttongrp);\n",
       "}\n",
       "\n",
       "mpl.figure.prototype._root_extra_style = function(el){\n",
       "    var fig = this\n",
       "    el.on(\"remove\", function(){\n",
       "\tfig.close_ws(fig, {});\n",
       "    });\n",
       "}\n",
       "\n",
       "mpl.figure.prototype._canvas_extra_style = function(el){\n",
       "    // this is important to make the div 'focusable\n",
       "    el.attr('tabindex', 0)\n",
       "    // reach out to IPython and tell the keyboard manager to turn it's self\n",
       "    // off when our div gets focus\n",
       "\n",
       "    // location in version 3\n",
       "    if (IPython.notebook.keyboard_manager) {\n",
       "        IPython.notebook.keyboard_manager.register_events(el);\n",
       "    }\n",
       "    else {\n",
       "        // location in version 2\n",
       "        IPython.keyboard_manager.register_events(el);\n",
       "    }\n",
       "\n",
       "}\n",
       "\n",
       "mpl.figure.prototype._key_event_extra = function(event, name) {\n",
       "    var manager = IPython.notebook.keyboard_manager;\n",
       "    if (!manager)\n",
       "        manager = IPython.keyboard_manager;\n",
       "\n",
       "    // Check for shift+enter\n",
       "    if (event.shiftKey && event.which == 13) {\n",
       "        this.canvas_div.blur();\n",
       "        // select the cell after this one\n",
       "        var index = IPython.notebook.find_cell_index(this.cell_info[0]);\n",
       "        IPython.notebook.select(index + 1);\n",
       "    }\n",
       "}\n",
       "\n",
       "mpl.figure.prototype.handle_save = function(fig, msg) {\n",
       "    fig.ondownload(fig, null);\n",
       "}\n",
       "\n",
       "\n",
       "mpl.find_output_cell = function(html_output) {\n",
       "    // Return the cell and output element which can be found *uniquely* in the notebook.\n",
       "    // Note - this is a bit hacky, but it is done because the \"notebook_saving.Notebook\"\n",
       "    // IPython event is triggered only after the cells have been serialised, which for\n",
       "    // our purposes (turning an active figure into a static one), is too late.\n",
       "    var cells = IPython.notebook.get_cells();\n",
       "    var ncells = cells.length;\n",
       "    for (var i=0; i<ncells; i++) {\n",
       "        var cell = cells[i];\n",
       "        if (cell.cell_type === 'code'){\n",
       "            for (var j=0; j<cell.output_area.outputs.length; j++) {\n",
       "                var data = cell.output_area.outputs[j];\n",
       "                if (data.data) {\n",
       "                    // IPython >= 3 moved mimebundle to data attribute of output\n",
       "                    data = data.data;\n",
       "                }\n",
       "                if (data['text/html'] == html_output) {\n",
       "                    return [cell, data, j];\n",
       "                }\n",
       "            }\n",
       "        }\n",
       "    }\n",
       "}\n",
       "\n",
       "// Register the function which deals with the matplotlib target/channel.\n",
       "// The kernel may be null if the page has been refreshed.\n",
       "if (IPython.notebook.kernel != null) {\n",
       "    IPython.notebook.kernel.comm_manager.register_target('matplotlib', mpl.mpl_figure_comm);\n",
       "}\n"
      ],
      "text/plain": [
       "<IPython.core.display.Javascript object>"
      ]
     },
     "metadata": {},
     "output_type": "display_data"
    },
    {
     "data": {
      "text/html": [
       "<img src=\"data:image/png;base64,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\" width=\"640\">"
      ],
      "text/plain": [
       "<IPython.core.display.HTML object>"
      ]
     },
     "metadata": {},
     "output_type": "display_data"
    },
    {
     "data": {
      "application/vnd.jupyter.widget-view+json": {
       "model_id": "d494ad716c75471597f872fd12af21bb",
       "version_major": 2,
       "version_minor": 0
      },
      "text/plain": [
       "interactive(children=(FloatSlider(value=1.0, description='v1', max=5.0, min=-5.0), FloatSlider(value=2.0, desc…"
      ]
     },
     "metadata": {},
     "output_type": "display_data"
    }
   ],
   "source": [
    "fig, ax = plt.subplots()\n",
    "\n",
    "\n",
    "@interact(v1=(-5,5,0.1), v2=(-5,5,0.1), w1=(-5,5,0.1), w2=(-5,5,0.1))\n",
    "def update(v1=1, v2=2, w1=2, w2=0.5):\n",
    "    ax.cla()\n",
    "    u1, u2 = v1+w1, v2+w2\n",
    "    ax.arrow(0, 0, v1*0.9, v2*0.9, head_width=0.25, head_length=0.25, fc='g', ec='g')\n",
    "    ax.arrow(v1, v2, w1*0.9, w2*0.9, head_width=0.25, head_length=0.25, fc='b', ec='b')\n",
    "    ax.arrow(0, 0, u1*0.9, u2*0.9, head_width=0.25, head_length=0.25, fc='k', ec='k')\n",
    "    fig.canvas.draw_idle()\n",
    "    plt.xlim(-5, 5)\n",
    "    plt.ylim(-5, 5)\n",
    "    plt.xlabel('$X_1$')\n",
    "    plt.ylabel('$X_2$')\n",
    "    plt.title('2D Vector')\n",
    "    plt.grid(True)\n",
    "    fig.tight_layout()"
   ]
  },
  {
   "cell_type": "markdown",
   "metadata": {
    "cell_style": "split",
    "slideshow": {
     "slide_type": "subslide"
    }
   },
   "source": [
    "### Scalar Vector Multiplication\n",
    "\n",
    "$$  \\alpha \\vec{V} \\quad = \\quad [\\:\\alpha\\:  v_1, \\:\\alpha\\: v_2, \\: _\\cdots, \\: \\alpha\\: v_n ] $$\n",
    "\n",
    "\n",
    "+ Changes Magnitude\n",
    "+ Does not change direction\n",
    "  + Can flip if $\\alpha$ is negative"
   ]
  },
  {
   "cell_type": "markdown",
   "metadata": {
    "cell_style": "split",
    "slideshow": {
     "slide_type": "-"
    }
   },
   "source": [
    "<img src=\"vector_span.png\" width=\"75%\">"
   ]
  },
  {
   "cell_type": "markdown",
   "metadata": {
    "slideshow": {
     "slide_type": "notes"
    }
   },
   "source": []
  },
  {
   "cell_type": "markdown",
   "metadata": {
    "cell_style": "split",
    "slideshow": {
     "slide_type": "subslide"
    }
   },
   "source": [
    "### Dimension and Span\n",
    "\n",
    "+ How many dimentions does a vector occupy?\n",
    "\n",
    "+ How much of that space can that vector reach?\n",
    "\n",
    "+ What is the Volume?"
   ]
  },
  {
   "cell_type": "markdown",
   "metadata": {
    "cell_style": "split"
   },
   "source": [
    "<img src=\"vector_span.png\" width=\"75%\">"
   ]
  },
  {
   "cell_type": "markdown",
   "metadata": {
    "cell_style": "split",
    "slideshow": {
     "slide_type": "fragment"
    }
   },
   "source": [
    "+ What about 2 vectors?"
   ]
  },
  {
   "cell_type": "code",
   "execution_count": null,
   "metadata": {
    "slideshow": {
     "slide_type": "notes"
    }
   },
   "outputs": [],
   "source": []
  },
  {
   "cell_type": "markdown",
   "metadata": {
    "cell_style": "split",
    "slideshow": {
     "slide_type": "subslide"
    }
   },
   "source": [
    "### Vector Multiplication\n",
    "\n",
    "+ Elementwise\n",
    "\n",
    "\n",
    "+ Outter product\n",
    "\n",
    "\n",
    "+ Inner (Dot) product\n",
    "\n"
   ]
  },
  {
   "cell_type": "markdown",
   "metadata": {
    "cell_style": "split",
    "slideshow": {
     "slide_type": "-"
    }
   },
   "source": [
    "<img src=\"vector_multhing.png\" width=\"100%\">\n",
    "\n",
    "This kind of funny?"
   ]
  },
  {
   "cell_type": "markdown",
   "metadata": {
    "slideshow": {
     "slide_type": "notes"
    }
   },
   "source": []
  },
  {
   "cell_type": "markdown",
   "metadata": {
    "cell_style": "split",
    "slideshow": {
     "slide_type": "subslide"
    }
   },
   "source": [
    "#### Elementwise\n",
    "\n",
    "\n",
    "  + Multiply each respective element\n",
    "    + Store then in the respective place\n",
    "  + Requires vectors be same size\n",
    "  + First one thinks off\n",
    "    + After scalar"
   ]
  },
  {
   "cell_type": "markdown",
   "metadata": {
    "cell_style": "split",
    "slideshow": {
     "slide_type": "-"
    }
   },
   "source": [
    "\n",
    "$$ \\vec{W} \\odot \\vec{V} = \\quad = \\quad [\\:v_1 \\: w_1, \\:v_2 \\: w_2, \\: _\\cdots, \\: v_n \\: w_n ] $$\n"
   ]
  },
  {
   "cell_type": "code",
   "execution_count": null,
   "metadata": {
    "slideshow": {
     "slide_type": "notes"
    }
   },
   "outputs": [],
   "source": []
  },
  {
   "cell_type": "markdown",
   "metadata": {
    "cell_style": "split",
    "slideshow": {
     "slide_type": "subslide"
    }
   },
   "source": [
    "#### Outer Product\n",
    "\n",
    "\n",
    "\n",
    "+ Returns a Matrix\n",
    "\n",
    "+ Directions of rows and columns?\n",
    "  + Think span and scalar multiplication\n",
    " "
   ]
  },
  {
   "cell_type": "markdown",
   "metadata": {
    "cell_style": "split",
    "slideshow": {
     "slide_type": "-"
    }
   },
   "source": [
    "$$ \\vec{W} \\otimes \\vec{V} \\quad  = \\quad \\begin{bmatrix} \n",
    "    \\:v_1 \\: w_1 &\\:v_2 \\: w_1 &  \\dots & v_n \\: w_1 \\\\\n",
    "    \\:v_1 \\: w_2 &\\:v_2 \\: w_2 &   \\\\\n",
    "    \\vdots & & \\ddots & \\vdots \\\\\n",
    "    \\:v_1 \\: w_m & v_2 \\: w_m &  \\dots & v_n \\: w_m\\\\\n",
    "    \\end{bmatrix}\n",
    "$$\n"
   ]
  },
  {
   "cell_type": "markdown",
   "metadata": {
    "slideshow": {
     "slide_type": "notes"
    }
   },
   "source": []
  },
  {
   "cell_type": "markdown",
   "metadata": {
    "cell_style": "split",
    "slideshow": {
     "slide_type": "subslide"
    }
   },
   "source": [
    "### Inner (Dot) Product\n",
    "\n",
    "$$ \\vec{V} \\cdot \\vec{W} = \\quad = \\quad \\:v_1 \\: w_1 +  \\:v_2 \\: w_2 + \\: _\\cdots + \\: v_n \\: w_n  $$\n",
    "\n",
    "+ Sum of the elementwise multiplication\n",
    "+ Requires vectors are the same size\n",
    "+ $\\vec{V} \\cdot \\vec{V} = {|\\vec{V}|}^2$\n",
    "\n",
    "+ Most useful of all the vector products\n",
    "\n",
    "+ Sometimes called production if one vector is unit length"
   ]
  },
  {
   "cell_type": "markdown",
   "metadata": {
    "cell_style": "split",
    "slideshow": {
     "slide_type": "-"
    }
   },
   "source": [
    "<img src=\"1280px-Dot_Product.svg.png\" width=\"75%\">\n",
    "\n",
    "https://en.wikipedia.org/wiki/Dot_product"
   ]
  },
  {
   "cell_type": "code",
   "execution_count": 162,
   "metadata": {
    "slideshow": {
     "slide_type": "subslide"
    }
   },
   "outputs": [
    {
     "data": {
      "application/javascript": [
       "/* Put everything inside the global mpl namespace */\n",
       "window.mpl = {};\n",
       "\n",
       "\n",
       "mpl.get_websocket_type = function() {\n",
       "    if (typeof(WebSocket) !== 'undefined') {\n",
       "        return WebSocket;\n",
       "    } else if (typeof(MozWebSocket) !== 'undefined') {\n",
       "        return MozWebSocket;\n",
       "    } else {\n",
       "        alert('Your browser does not have WebSocket support. ' +\n",
       "              'Please try Chrome, Safari or Firefox ≥ 6. ' +\n",
       "              'Firefox 4 and 5 are also supported but you ' +\n",
       "              'have to enable WebSockets in about:config.');\n",
       "    };\n",
       "}\n",
       "\n",
       "mpl.figure = function(figure_id, websocket, ondownload, parent_element) {\n",
       "    this.id = figure_id;\n",
       "\n",
       "    this.ws = websocket;\n",
       "\n",
       "    this.supports_binary = (this.ws.binaryType != undefined);\n",
       "\n",
       "    if (!this.supports_binary) {\n",
       "        var warnings = document.getElementById(\"mpl-warnings\");\n",
       "        if (warnings) {\n",
       "            warnings.style.display = 'block';\n",
       "            warnings.textContent = (\n",
       "                \"This browser does not support binary websocket messages. \" +\n",
       "                    \"Performance may be slow.\");\n",
       "        }\n",
       "    }\n",
       "\n",
       "    this.imageObj = new Image();\n",
       "\n",
       "    this.context = undefined;\n",
       "    this.message = undefined;\n",
       "    this.canvas = undefined;\n",
       "    this.rubberband_canvas = undefined;\n",
       "    this.rubberband_context = undefined;\n",
       "    this.format_dropdown = undefined;\n",
       "\n",
       "    this.image_mode = 'full';\n",
       "\n",
       "    this.root = $('<div/>');\n",
       "    this._root_extra_style(this.root)\n",
       "    this.root.attr('style', 'display: inline-block');\n",
       "\n",
       "    $(parent_element).append(this.root);\n",
       "\n",
       "    this._init_header(this);\n",
       "    this._init_canvas(this);\n",
       "    this._init_toolbar(this);\n",
       "\n",
       "    var fig = this;\n",
       "\n",
       "    this.waiting = false;\n",
       "\n",
       "    this.ws.onopen =  function () {\n",
       "            fig.send_message(\"supports_binary\", {value: fig.supports_binary});\n",
       "            fig.send_message(\"send_image_mode\", {});\n",
       "            if (mpl.ratio != 1) {\n",
       "                fig.send_message(\"set_dpi_ratio\", {'dpi_ratio': mpl.ratio});\n",
       "            }\n",
       "            fig.send_message(\"refresh\", {});\n",
       "        }\n",
       "\n",
       "    this.imageObj.onload = function() {\n",
       "            if (fig.image_mode == 'full') {\n",
       "                // Full images could contain transparency (where diff images\n",
       "                // almost always do), so we need to clear the canvas so that\n",
       "                // there is no ghosting.\n",
       "                fig.context.clearRect(0, 0, fig.canvas.width, fig.canvas.height);\n",
       "            }\n",
       "            fig.context.drawImage(fig.imageObj, 0, 0);\n",
       "        };\n",
       "\n",
       "    this.imageObj.onunload = function() {\n",
       "        fig.ws.close();\n",
       "    }\n",
       "\n",
       "    this.ws.onmessage = this._make_on_message_function(this);\n",
       "\n",
       "    this.ondownload = ondownload;\n",
       "}\n",
       "\n",
       "mpl.figure.prototype._init_header = function() {\n",
       "    var titlebar = $(\n",
       "        '<div class=\"ui-dialog-titlebar ui-widget-header ui-corner-all ' +\n",
       "        'ui-helper-clearfix\"/>');\n",
       "    var titletext = $(\n",
       "        '<div class=\"ui-dialog-title\" style=\"width: 100%; ' +\n",
       "        'text-align: center; padding: 3px;\"/>');\n",
       "    titlebar.append(titletext)\n",
       "    this.root.append(titlebar);\n",
       "    this.header = titletext[0];\n",
       "}\n",
       "\n",
       "\n",
       "\n",
       "mpl.figure.prototype._canvas_extra_style = function(canvas_div) {\n",
       "\n",
       "}\n",
       "\n",
       "\n",
       "mpl.figure.prototype._root_extra_style = function(canvas_div) {\n",
       "\n",
       "}\n",
       "\n",
       "mpl.figure.prototype._init_canvas = function() {\n",
       "    var fig = this;\n",
       "\n",
       "    var canvas_div = $('<div/>');\n",
       "\n",
       "    canvas_div.attr('style', 'position: relative; clear: both; outline: 0');\n",
       "\n",
       "    function canvas_keyboard_event(event) {\n",
       "        return fig.key_event(event, event['data']);\n",
       "    }\n",
       "\n",
       "    canvas_div.keydown('key_press', canvas_keyboard_event);\n",
       "    canvas_div.keyup('key_release', canvas_keyboard_event);\n",
       "    this.canvas_div = canvas_div\n",
       "    this._canvas_extra_style(canvas_div)\n",
       "    this.root.append(canvas_div);\n",
       "\n",
       "    var canvas = $('<canvas/>');\n",
       "    canvas.addClass('mpl-canvas');\n",
       "    canvas.attr('style', \"left: 0; top: 0; z-index: 0; outline: 0\")\n",
       "\n",
       "    this.canvas = canvas[0];\n",
       "    this.context = canvas[0].getContext(\"2d\");\n",
       "\n",
       "    var backingStore = this.context.backingStorePixelRatio ||\n",
       "\tthis.context.webkitBackingStorePixelRatio ||\n",
       "\tthis.context.mozBackingStorePixelRatio ||\n",
       "\tthis.context.msBackingStorePixelRatio ||\n",
       "\tthis.context.oBackingStorePixelRatio ||\n",
       "\tthis.context.backingStorePixelRatio || 1;\n",
       "\n",
       "    mpl.ratio = (window.devicePixelRatio || 1) / backingStore;\n",
       "\n",
       "    var rubberband = $('<canvas/>');\n",
       "    rubberband.attr('style', \"position: absolute; left: 0; top: 0; z-index: 1;\")\n",
       "\n",
       "    var pass_mouse_events = true;\n",
       "\n",
       "    canvas_div.resizable({\n",
       "        start: function(event, ui) {\n",
       "            pass_mouse_events = false;\n",
       "        },\n",
       "        resize: function(event, ui) {\n",
       "            fig.request_resize(ui.size.width, ui.size.height);\n",
       "        },\n",
       "        stop: function(event, ui) {\n",
       "            pass_mouse_events = true;\n",
       "            fig.request_resize(ui.size.width, ui.size.height);\n",
       "        },\n",
       "    });\n",
       "\n",
       "    function mouse_event_fn(event) {\n",
       "        if (pass_mouse_events)\n",
       "            return fig.mouse_event(event, event['data']);\n",
       "    }\n",
       "\n",
       "    rubberband.mousedown('button_press', mouse_event_fn);\n",
       "    rubberband.mouseup('button_release', mouse_event_fn);\n",
       "    // Throttle sequential mouse events to 1 every 20ms.\n",
       "    rubberband.mousemove('motion_notify', mouse_event_fn);\n",
       "\n",
       "    rubberband.mouseenter('figure_enter', mouse_event_fn);\n",
       "    rubberband.mouseleave('figure_leave', mouse_event_fn);\n",
       "\n",
       "    canvas_div.on(\"wheel\", function (event) {\n",
       "        event = event.originalEvent;\n",
       "        event['data'] = 'scroll'\n",
       "        if (event.deltaY < 0) {\n",
       "            event.step = 1;\n",
       "        } else {\n",
       "            event.step = -1;\n",
       "        }\n",
       "        mouse_event_fn(event);\n",
       "    });\n",
       "\n",
       "    canvas_div.append(canvas);\n",
       "    canvas_div.append(rubberband);\n",
       "\n",
       "    this.rubberband = rubberband;\n",
       "    this.rubberband_canvas = rubberband[0];\n",
       "    this.rubberband_context = rubberband[0].getContext(\"2d\");\n",
       "    this.rubberband_context.strokeStyle = \"#000000\";\n",
       "\n",
       "    this._resize_canvas = function(width, height) {\n",
       "        // Keep the size of the canvas, canvas container, and rubber band\n",
       "        // canvas in synch.\n",
       "        canvas_div.css('width', width)\n",
       "        canvas_div.css('height', height)\n",
       "\n",
       "        canvas.attr('width', width * mpl.ratio);\n",
       "        canvas.attr('height', height * mpl.ratio);\n",
       "        canvas.attr('style', 'width: ' + width + 'px; height: ' + height + 'px;');\n",
       "\n",
       "        rubberband.attr('width', width);\n",
       "        rubberband.attr('height', height);\n",
       "    }\n",
       "\n",
       "    // Set the figure to an initial 600x600px, this will subsequently be updated\n",
       "    // upon first draw.\n",
       "    this._resize_canvas(600, 600);\n",
       "\n",
       "    // Disable right mouse context menu.\n",
       "    $(this.rubberband_canvas).bind(\"contextmenu\",function(e){\n",
       "        return false;\n",
       "    });\n",
       "\n",
       "    function set_focus () {\n",
       "        canvas.focus();\n",
       "        canvas_div.focus();\n",
       "    }\n",
       "\n",
       "    window.setTimeout(set_focus, 100);\n",
       "}\n",
       "\n",
       "mpl.figure.prototype._init_toolbar = function() {\n",
       "    var fig = this;\n",
       "\n",
       "    var nav_element = $('<div/>');\n",
       "    nav_element.attr('style', 'width: 100%');\n",
       "    this.root.append(nav_element);\n",
       "\n",
       "    // Define a callback function for later on.\n",
       "    function toolbar_event(event) {\n",
       "        return fig.toolbar_button_onclick(event['data']);\n",
       "    }\n",
       "    function toolbar_mouse_event(event) {\n",
       "        return fig.toolbar_button_onmouseover(event['data']);\n",
       "    }\n",
       "\n",
       "    for(var toolbar_ind in mpl.toolbar_items) {\n",
       "        var name = mpl.toolbar_items[toolbar_ind][0];\n",
       "        var tooltip = mpl.toolbar_items[toolbar_ind][1];\n",
       "        var image = mpl.toolbar_items[toolbar_ind][2];\n",
       "        var method_name = mpl.toolbar_items[toolbar_ind][3];\n",
       "\n",
       "        if (!name) {\n",
       "            // put a spacer in here.\n",
       "            continue;\n",
       "        }\n",
       "        var button = $('<button/>');\n",
       "        button.addClass('ui-button ui-widget ui-state-default ui-corner-all ' +\n",
       "                        'ui-button-icon-only');\n",
       "        button.attr('role', 'button');\n",
       "        button.attr('aria-disabled', 'false');\n",
       "        button.click(method_name, toolbar_event);\n",
       "        button.mouseover(tooltip, toolbar_mouse_event);\n",
       "\n",
       "        var icon_img = $('<span/>');\n",
       "        icon_img.addClass('ui-button-icon-primary ui-icon');\n",
       "        icon_img.addClass(image);\n",
       "        icon_img.addClass('ui-corner-all');\n",
       "\n",
       "        var tooltip_span = $('<span/>');\n",
       "        tooltip_span.addClass('ui-button-text');\n",
       "        tooltip_span.html(tooltip);\n",
       "\n",
       "        button.append(icon_img);\n",
       "        button.append(tooltip_span);\n",
       "\n",
       "        nav_element.append(button);\n",
       "    }\n",
       "\n",
       "    var fmt_picker_span = $('<span/>');\n",
       "\n",
       "    var fmt_picker = $('<select/>');\n",
       "    fmt_picker.addClass('mpl-toolbar-option ui-widget ui-widget-content');\n",
       "    fmt_picker_span.append(fmt_picker);\n",
       "    nav_element.append(fmt_picker_span);\n",
       "    this.format_dropdown = fmt_picker[0];\n",
       "\n",
       "    for (var ind in mpl.extensions) {\n",
       "        var fmt = mpl.extensions[ind];\n",
       "        var option = $(\n",
       "            '<option/>', {selected: fmt === mpl.default_extension}).html(fmt);\n",
       "        fmt_picker.append(option);\n",
       "    }\n",
       "\n",
       "    // Add hover states to the ui-buttons\n",
       "    $( \".ui-button\" ).hover(\n",
       "        function() { $(this).addClass(\"ui-state-hover\");},\n",
       "        function() { $(this).removeClass(\"ui-state-hover\");}\n",
       "    );\n",
       "\n",
       "    var status_bar = $('<span class=\"mpl-message\"/>');\n",
       "    nav_element.append(status_bar);\n",
       "    this.message = status_bar[0];\n",
       "}\n",
       "\n",
       "mpl.figure.prototype.request_resize = function(x_pixels, y_pixels) {\n",
       "    // Request matplotlib to resize the figure. Matplotlib will then trigger a resize in the client,\n",
       "    // which will in turn request a refresh of the image.\n",
       "    this.send_message('resize', {'width': x_pixels, 'height': y_pixels});\n",
       "}\n",
       "\n",
       "mpl.figure.prototype.send_message = function(type, properties) {\n",
       "    properties['type'] = type;\n",
       "    properties['figure_id'] = this.id;\n",
       "    this.ws.send(JSON.stringify(properties));\n",
       "}\n",
       "\n",
       "mpl.figure.prototype.send_draw_message = function() {\n",
       "    if (!this.waiting) {\n",
       "        this.waiting = true;\n",
       "        this.ws.send(JSON.stringify({type: \"draw\", figure_id: this.id}));\n",
       "    }\n",
       "}\n",
       "\n",
       "\n",
       "mpl.figure.prototype.handle_save = function(fig, msg) {\n",
       "    var format_dropdown = fig.format_dropdown;\n",
       "    var format = format_dropdown.options[format_dropdown.selectedIndex].value;\n",
       "    fig.ondownload(fig, format);\n",
       "}\n",
       "\n",
       "\n",
       "mpl.figure.prototype.handle_resize = function(fig, msg) {\n",
       "    var size = msg['size'];\n",
       "    if (size[0] != fig.canvas.width || size[1] != fig.canvas.height) {\n",
       "        fig._resize_canvas(size[0], size[1]);\n",
       "        fig.send_message(\"refresh\", {});\n",
       "    };\n",
       "}\n",
       "\n",
       "mpl.figure.prototype.handle_rubberband = function(fig, msg) {\n",
       "    var x0 = msg['x0'] / mpl.ratio;\n",
       "    var y0 = (fig.canvas.height - msg['y0']) / mpl.ratio;\n",
       "    var x1 = msg['x1'] / mpl.ratio;\n",
       "    var y1 = (fig.canvas.height - msg['y1']) / mpl.ratio;\n",
       "    x0 = Math.floor(x0) + 0.5;\n",
       "    y0 = Math.floor(y0) + 0.5;\n",
       "    x1 = Math.floor(x1) + 0.5;\n",
       "    y1 = Math.floor(y1) + 0.5;\n",
       "    var min_x = Math.min(x0, x1);\n",
       "    var min_y = Math.min(y0, y1);\n",
       "    var width = Math.abs(x1 - x0);\n",
       "    var height = Math.abs(y1 - y0);\n",
       "\n",
       "    fig.rubberband_context.clearRect(\n",
       "        0, 0, fig.canvas.width / mpl.ratio, fig.canvas.height / mpl.ratio);\n",
       "\n",
       "    fig.rubberband_context.strokeRect(min_x, min_y, width, height);\n",
       "}\n",
       "\n",
       "mpl.figure.prototype.handle_figure_label = function(fig, msg) {\n",
       "    // Updates the figure title.\n",
       "    fig.header.textContent = msg['label'];\n",
       "}\n",
       "\n",
       "mpl.figure.prototype.handle_cursor = function(fig, msg) {\n",
       "    var cursor = msg['cursor'];\n",
       "    switch(cursor)\n",
       "    {\n",
       "    case 0:\n",
       "        cursor = 'pointer';\n",
       "        break;\n",
       "    case 1:\n",
       "        cursor = 'default';\n",
       "        break;\n",
       "    case 2:\n",
       "        cursor = 'crosshair';\n",
       "        break;\n",
       "    case 3:\n",
       "        cursor = 'move';\n",
       "        break;\n",
       "    }\n",
       "    fig.rubberband_canvas.style.cursor = cursor;\n",
       "}\n",
       "\n",
       "mpl.figure.prototype.handle_message = function(fig, msg) {\n",
       "    fig.message.textContent = msg['message'];\n",
       "}\n",
       "\n",
       "mpl.figure.prototype.handle_draw = function(fig, msg) {\n",
       "    // Request the server to send over a new figure.\n",
       "    fig.send_draw_message();\n",
       "}\n",
       "\n",
       "mpl.figure.prototype.handle_image_mode = function(fig, msg) {\n",
       "    fig.image_mode = msg['mode'];\n",
       "}\n",
       "\n",
       "mpl.figure.prototype.updated_canvas_event = function() {\n",
       "    // Called whenever the canvas gets updated.\n",
       "    this.send_message(\"ack\", {});\n",
       "}\n",
       "\n",
       "// A function to construct a web socket function for onmessage handling.\n",
       "// Called in the figure constructor.\n",
       "mpl.figure.prototype._make_on_message_function = function(fig) {\n",
       "    return function socket_on_message(evt) {\n",
       "        if (evt.data instanceof Blob) {\n",
       "            /* FIXME: We get \"Resource interpreted as Image but\n",
       "             * transferred with MIME type text/plain:\" errors on\n",
       "             * Chrome.  But how to set the MIME type?  It doesn't seem\n",
       "             * to be part of the websocket stream */\n",
       "            evt.data.type = \"image/png\";\n",
       "\n",
       "            /* Free the memory for the previous frames */\n",
       "            if (fig.imageObj.src) {\n",
       "                (window.URL || window.webkitURL).revokeObjectURL(\n",
       "                    fig.imageObj.src);\n",
       "            }\n",
       "\n",
       "            fig.imageObj.src = (window.URL || window.webkitURL).createObjectURL(\n",
       "                evt.data);\n",
       "            fig.updated_canvas_event();\n",
       "            fig.waiting = false;\n",
       "            return;\n",
       "        }\n",
       "        else if (typeof evt.data === 'string' && evt.data.slice(0, 21) == \"data:image/png;base64\") {\n",
       "            fig.imageObj.src = evt.data;\n",
       "            fig.updated_canvas_event();\n",
       "            fig.waiting = false;\n",
       "            return;\n",
       "        }\n",
       "\n",
       "        var msg = JSON.parse(evt.data);\n",
       "        var msg_type = msg['type'];\n",
       "\n",
       "        // Call the  \"handle_{type}\" callback, which takes\n",
       "        // the figure and JSON message as its only arguments.\n",
       "        try {\n",
       "            var callback = fig[\"handle_\" + msg_type];\n",
       "        } catch (e) {\n",
       "            console.log(\"No handler for the '\" + msg_type + \"' message type: \", msg);\n",
       "            return;\n",
       "        }\n",
       "\n",
       "        if (callback) {\n",
       "            try {\n",
       "                // console.log(\"Handling '\" + msg_type + \"' message: \", msg);\n",
       "                callback(fig, msg);\n",
       "            } catch (e) {\n",
       "                console.log(\"Exception inside the 'handler_\" + msg_type + \"' callback:\", e, e.stack, msg);\n",
       "            }\n",
       "        }\n",
       "    };\n",
       "}\n",
       "\n",
       "// from http://stackoverflow.com/questions/1114465/getting-mouse-location-in-canvas\n",
       "mpl.findpos = function(e) {\n",
       "    //this section is from http://www.quirksmode.org/js/events_properties.html\n",
       "    var targ;\n",
       "    if (!e)\n",
       "        e = window.event;\n",
       "    if (e.target)\n",
       "        targ = e.target;\n",
       "    else if (e.srcElement)\n",
       "        targ = e.srcElement;\n",
       "    if (targ.nodeType == 3) // defeat Safari bug\n",
       "        targ = targ.parentNode;\n",
       "\n",
       "    // jQuery normalizes the pageX and pageY\n",
       "    // pageX,Y are the mouse positions relative to the document\n",
       "    // offset() returns the position of the element relative to the document\n",
       "    var x = e.pageX - $(targ).offset().left;\n",
       "    var y = e.pageY - $(targ).offset().top;\n",
       "\n",
       "    return {\"x\": x, \"y\": y};\n",
       "};\n",
       "\n",
       "/*\n",
       " * return a copy of an object with only non-object keys\n",
       " * we need this to avoid circular references\n",
       " * http://stackoverflow.com/a/24161582/3208463\n",
       " */\n",
       "function simpleKeys (original) {\n",
       "  return Object.keys(original).reduce(function (obj, key) {\n",
       "    if (typeof original[key] !== 'object')\n",
       "        obj[key] = original[key]\n",
       "    return obj;\n",
       "  }, {});\n",
       "}\n",
       "\n",
       "mpl.figure.prototype.mouse_event = function(event, name) {\n",
       "    var canvas_pos = mpl.findpos(event)\n",
       "\n",
       "    if (name === 'button_press')\n",
       "    {\n",
       "        this.canvas.focus();\n",
       "        this.canvas_div.focus();\n",
       "    }\n",
       "\n",
       "    var x = canvas_pos.x * mpl.ratio;\n",
       "    var y = canvas_pos.y * mpl.ratio;\n",
       "\n",
       "    this.send_message(name, {x: x, y: y, button: event.button,\n",
       "                             step: event.step,\n",
       "                             guiEvent: simpleKeys(event)});\n",
       "\n",
       "    /* This prevents the web browser from automatically changing to\n",
       "     * the text insertion cursor when the button is pressed.  We want\n",
       "     * to control all of the cursor setting manually through the\n",
       "     * 'cursor' event from matplotlib */\n",
       "    event.preventDefault();\n",
       "    return false;\n",
       "}\n",
       "\n",
       "mpl.figure.prototype._key_event_extra = function(event, name) {\n",
       "    // Handle any extra behaviour associated with a key event\n",
       "}\n",
       "\n",
       "mpl.figure.prototype.key_event = function(event, name) {\n",
       "\n",
       "    // Prevent repeat events\n",
       "    if (name == 'key_press')\n",
       "    {\n",
       "        if (event.which === this._key)\n",
       "            return;\n",
       "        else\n",
       "            this._key = event.which;\n",
       "    }\n",
       "    if (name == 'key_release')\n",
       "        this._key = null;\n",
       "\n",
       "    var value = '';\n",
       "    if (event.ctrlKey && event.which != 17)\n",
       "        value += \"ctrl+\";\n",
       "    if (event.altKey && event.which != 18)\n",
       "        value += \"alt+\";\n",
       "    if (event.shiftKey && event.which != 16)\n",
       "        value += \"shift+\";\n",
       "\n",
       "    value += 'k';\n",
       "    value += event.which.toString();\n",
       "\n",
       "    this._key_event_extra(event, name);\n",
       "\n",
       "    this.send_message(name, {key: value,\n",
       "                             guiEvent: simpleKeys(event)});\n",
       "    return false;\n",
       "}\n",
       "\n",
       "mpl.figure.prototype.toolbar_button_onclick = function(name) {\n",
       "    if (name == 'download') {\n",
       "        this.handle_save(this, null);\n",
       "    } else {\n",
       "        this.send_message(\"toolbar_button\", {name: name});\n",
       "    }\n",
       "};\n",
       "\n",
       "mpl.figure.prototype.toolbar_button_onmouseover = function(tooltip) {\n",
       "    this.message.textContent = tooltip;\n",
       "};\n",
       "mpl.toolbar_items = [[\"Home\", \"Reset original view\", \"fa fa-home icon-home\", \"home\"], [\"Back\", \"Back to previous view\", \"fa fa-arrow-left icon-arrow-left\", \"back\"], [\"Forward\", \"Forward to next view\", \"fa fa-arrow-right icon-arrow-right\", \"forward\"], [\"\", \"\", \"\", \"\"], [\"Pan\", \"Pan axes with left mouse, zoom with right\", \"fa fa-arrows icon-move\", \"pan\"], [\"Zoom\", \"Zoom to rectangle\", \"fa fa-square-o icon-check-empty\", \"zoom\"], [\"\", \"\", \"\", \"\"], [\"Download\", \"Download plot\", \"fa fa-floppy-o icon-save\", \"download\"]];\n",
       "\n",
       "mpl.extensions = [\"eps\", \"pdf\", \"png\", \"ps\", \"raw\", \"svg\"];\n",
       "\n",
       "mpl.default_extension = \"png\";var comm_websocket_adapter = function(comm) {\n",
       "    // Create a \"websocket\"-like object which calls the given IPython comm\n",
       "    // object with the appropriate methods. Currently this is a non binary\n",
       "    // socket, so there is still some room for performance tuning.\n",
       "    var ws = {};\n",
       "\n",
       "    ws.close = function() {\n",
       "        comm.close()\n",
       "    };\n",
       "    ws.send = function(m) {\n",
       "        //console.log('sending', m);\n",
       "        comm.send(m);\n",
       "    };\n",
       "    // Register the callback with on_msg.\n",
       "    comm.on_msg(function(msg) {\n",
       "        //console.log('receiving', msg['content']['data'], msg);\n",
       "        // Pass the mpl event to the overridden (by mpl) onmessage function.\n",
       "        ws.onmessage(msg['content']['data'])\n",
       "    });\n",
       "    return ws;\n",
       "}\n",
       "\n",
       "mpl.mpl_figure_comm = function(comm, msg) {\n",
       "    // This is the function which gets called when the mpl process\n",
       "    // starts-up an IPython Comm through the \"matplotlib\" channel.\n",
       "\n",
       "    var id = msg.content.data.id;\n",
       "    // Get hold of the div created by the display call when the Comm\n",
       "    // socket was opened in Python.\n",
       "    var element = $(\"#\" + id);\n",
       "    var ws_proxy = comm_websocket_adapter(comm)\n",
       "\n",
       "    function ondownload(figure, format) {\n",
       "        window.open(figure.imageObj.src);\n",
       "    }\n",
       "\n",
       "    var fig = new mpl.figure(id, ws_proxy,\n",
       "                           ondownload,\n",
       "                           element.get(0));\n",
       "\n",
       "    // Call onopen now - mpl needs it, as it is assuming we've passed it a real\n",
       "    // web socket which is closed, not our websocket->open comm proxy.\n",
       "    ws_proxy.onopen();\n",
       "\n",
       "    fig.parent_element = element.get(0);\n",
       "    fig.cell_info = mpl.find_output_cell(\"<div id='\" + id + \"'></div>\");\n",
       "    if (!fig.cell_info) {\n",
       "        console.error(\"Failed to find cell for figure\", id, fig);\n",
       "        return;\n",
       "    }\n",
       "\n",
       "    var output_index = fig.cell_info[2]\n",
       "    var cell = fig.cell_info[0];\n",
       "\n",
       "};\n",
       "\n",
       "mpl.figure.prototype.handle_close = function(fig, msg) {\n",
       "    var width = fig.canvas.width/mpl.ratio\n",
       "    fig.root.unbind('remove')\n",
       "\n",
       "    // Update the output cell to use the data from the current canvas.\n",
       "    fig.push_to_output();\n",
       "    var dataURL = fig.canvas.toDataURL();\n",
       "    // Re-enable the keyboard manager in IPython - without this line, in FF,\n",
       "    // the notebook keyboard shortcuts fail.\n",
       "    IPython.keyboard_manager.enable()\n",
       "    $(fig.parent_element).html('<img src=\"' + dataURL + '\" width=\"' + width + '\">');\n",
       "    fig.close_ws(fig, msg);\n",
       "}\n",
       "\n",
       "mpl.figure.prototype.close_ws = function(fig, msg){\n",
       "    fig.send_message('closing', msg);\n",
       "    // fig.ws.close()\n",
       "}\n",
       "\n",
       "mpl.figure.prototype.push_to_output = function(remove_interactive) {\n",
       "    // Turn the data on the canvas into data in the output cell.\n",
       "    var width = this.canvas.width/mpl.ratio\n",
       "    var dataURL = this.canvas.toDataURL();\n",
       "    this.cell_info[1]['text/html'] = '<img src=\"' + dataURL + '\" width=\"' + width + '\">';\n",
       "}\n",
       "\n",
       "mpl.figure.prototype.updated_canvas_event = function() {\n",
       "    // Tell IPython that the notebook contents must change.\n",
       "    IPython.notebook.set_dirty(true);\n",
       "    this.send_message(\"ack\", {});\n",
       "    var fig = this;\n",
       "    // Wait a second, then push the new image to the DOM so\n",
       "    // that it is saved nicely (might be nice to debounce this).\n",
       "    setTimeout(function () { fig.push_to_output() }, 1000);\n",
       "}\n",
       "\n",
       "mpl.figure.prototype._init_toolbar = function() {\n",
       "    var fig = this;\n",
       "\n",
       "    var nav_element = $('<div/>');\n",
       "    nav_element.attr('style', 'width: 100%');\n",
       "    this.root.append(nav_element);\n",
       "\n",
       "    // Define a callback function for later on.\n",
       "    function toolbar_event(event) {\n",
       "        return fig.toolbar_button_onclick(event['data']);\n",
       "    }\n",
       "    function toolbar_mouse_event(event) {\n",
       "        return fig.toolbar_button_onmouseover(event['data']);\n",
       "    }\n",
       "\n",
       "    for(var toolbar_ind in mpl.toolbar_items){\n",
       "        var name = mpl.toolbar_items[toolbar_ind][0];\n",
       "        var tooltip = mpl.toolbar_items[toolbar_ind][1];\n",
       "        var image = mpl.toolbar_items[toolbar_ind][2];\n",
       "        var method_name = mpl.toolbar_items[toolbar_ind][3];\n",
       "\n",
       "        if (!name) { continue; };\n",
       "\n",
       "        var button = $('<button class=\"btn btn-default\" href=\"#\" title=\"' + name + '\"><i class=\"fa ' + image + ' fa-lg\"></i></button>');\n",
       "        button.click(method_name, toolbar_event);\n",
       "        button.mouseover(tooltip, toolbar_mouse_event);\n",
       "        nav_element.append(button);\n",
       "    }\n",
       "\n",
       "    // Add the status bar.\n",
       "    var status_bar = $('<span class=\"mpl-message\" style=\"text-align:right; float: right;\"/>');\n",
       "    nav_element.append(status_bar);\n",
       "    this.message = status_bar[0];\n",
       "\n",
       "    // Add the close button to the window.\n",
       "    var buttongrp = $('<div class=\"btn-group inline pull-right\"></div>');\n",
       "    var button = $('<button class=\"btn btn-mini btn-primary\" href=\"#\" title=\"Stop Interaction\"><i class=\"fa fa-power-off icon-remove icon-large\"></i></button>');\n",
       "    button.click(function (evt) { fig.handle_close(fig, {}); } );\n",
       "    button.mouseover('Stop Interaction', toolbar_mouse_event);\n",
       "    buttongrp.append(button);\n",
       "    var titlebar = this.root.find($('.ui-dialog-titlebar'));\n",
       "    titlebar.prepend(buttongrp);\n",
       "}\n",
       "\n",
       "mpl.figure.prototype._root_extra_style = function(el){\n",
       "    var fig = this\n",
       "    el.on(\"remove\", function(){\n",
       "\tfig.close_ws(fig, {});\n",
       "    });\n",
       "}\n",
       "\n",
       "mpl.figure.prototype._canvas_extra_style = function(el){\n",
       "    // this is important to make the div 'focusable\n",
       "    el.attr('tabindex', 0)\n",
       "    // reach out to IPython and tell the keyboard manager to turn it's self\n",
       "    // off when our div gets focus\n",
       "\n",
       "    // location in version 3\n",
       "    if (IPython.notebook.keyboard_manager) {\n",
       "        IPython.notebook.keyboard_manager.register_events(el);\n",
       "    }\n",
       "    else {\n",
       "        // location in version 2\n",
       "        IPython.keyboard_manager.register_events(el);\n",
       "    }\n",
       "\n",
       "}\n",
       "\n",
       "mpl.figure.prototype._key_event_extra = function(event, name) {\n",
       "    var manager = IPython.notebook.keyboard_manager;\n",
       "    if (!manager)\n",
       "        manager = IPython.keyboard_manager;\n",
       "\n",
       "    // Check for shift+enter\n",
       "    if (event.shiftKey && event.which == 13) {\n",
       "        this.canvas_div.blur();\n",
       "        // select the cell after this one\n",
       "        var index = IPython.notebook.find_cell_index(this.cell_info[0]);\n",
       "        IPython.notebook.select(index + 1);\n",
       "    }\n",
       "}\n",
       "\n",
       "mpl.figure.prototype.handle_save = function(fig, msg) {\n",
       "    fig.ondownload(fig, null);\n",
       "}\n",
       "\n",
       "\n",
       "mpl.find_output_cell = function(html_output) {\n",
       "    // Return the cell and output element which can be found *uniquely* in the notebook.\n",
       "    // Note - this is a bit hacky, but it is done because the \"notebook_saving.Notebook\"\n",
       "    // IPython event is triggered only after the cells have been serialised, which for\n",
       "    // our purposes (turning an active figure into a static one), is too late.\n",
       "    var cells = IPython.notebook.get_cells();\n",
       "    var ncells = cells.length;\n",
       "    for (var i=0; i<ncells; i++) {\n",
       "        var cell = cells[i];\n",
       "        if (cell.cell_type === 'code'){\n",
       "            for (var j=0; j<cell.output_area.outputs.length; j++) {\n",
       "                var data = cell.output_area.outputs[j];\n",
       "                if (data.data) {\n",
       "                    // IPython >= 3 moved mimebundle to data attribute of output\n",
       "                    data = data.data;\n",
       "                }\n",
       "                if (data['text/html'] == html_output) {\n",
       "                    return [cell, data, j];\n",
       "                }\n",
       "            }\n",
       "        }\n",
       "    }\n",
       "}\n",
       "\n",
       "// Register the function which deals with the matplotlib target/channel.\n",
       "// The kernel may be null if the page has been refreshed.\n",
       "if (IPython.notebook.kernel != null) {\n",
       "    IPython.notebook.kernel.comm_manager.register_target('matplotlib', mpl.mpl_figure_comm);\n",
       "}\n"
      ],
      "text/plain": [
       "<IPython.core.display.Javascript object>"
      ]
     },
     "metadata": {},
     "output_type": "display_data"
    },
    {
     "data": {
      "text/html": [
       "<img src=\"data:image/png;base64,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\" width=\"600\">"
      ],
      "text/plain": [
       "<IPython.core.display.HTML object>"
      ]
     },
     "metadata": {},
     "output_type": "display_data"
    },
    {
     "data": {
      "application/vnd.jupyter.widget-view+json": {
       "model_id": "5f3c77e9fa6b4f06bd963290f1b1bada",
       "version_major": 2,
       "version_minor": 0
      },
      "text/plain": [
       "interactive(children=(FloatSlider(value=1.0, description='v1', max=5.0, min=-5.0), FloatSlider(value=2.0, desc…"
      ]
     },
     "metadata": {},
     "output_type": "display_data"
    }
   ],
   "source": [
    "fig, ax = plt.subplots(1,1)\n",
    "fig.set_size_inches(6, 6)\n",
    "\n",
    "@interact(v1=(-5,5,0.1), v2=(-5,5,0.1), w1=(-5,5,0.1), w2=(-5,5,0.1))\n",
    "def update(v1=1, v2=2, w1=2, w2=0.5):\n",
    "    v, w = numpy.array([v1, v2]), numpy.array([w1, w2])\n",
    "    ax.cla()\n",
    "    ax.arrow(0, 0, v1*0.9, v2*0.9, head_width=0.25, head_length=0.25, fc='g', ec='g')\n",
    "    ax.arrow(0, 0, w1*0.9, w2*0.9, head_width=0.25, head_length=0.25, fc='b', ec='b')\n",
    "    ax.arrow(0, 0, v1*w1+v2*w2, 0, head_width=0.25, head_length=0.25, fc='k', ec='k')\n",
    "    fig.canvas.draw_idle()\n",
    "    ax.set_xlim(-5, 5);ax.set_ylim(-5, 5)\n",
    "    ax.set_xlabel('$X_1$');ax.set_ylabel('$X_2$')\n",
    "    plt.suptitle('Dot Product')\n",
    "    ax.grid(True)\n",
    "    fig.tight_layout(rect=[0, 0.03, 1, 0.95])"
   ]
  },
  {
   "cell_type": "markdown",
   "metadata": {
    "cell_style": "split",
    "slideshow": {
     "slide_type": "subslide"
    }
   },
   "source": [
    "### Cauchy–Schwarz Inequality\n",
    "$$ \\cfrac{|\\vec{V} \\cdot \\vec{U}|}{|\\vec{V}| \\: |\\vec{U}|} \\leq 1 $$\n",
    "\n",
    "+ Bounds the output of Dot product\n",
    " + Shows something about direction\n",
    "+ Basic to show\n",
    "  + Applications everywhere\n",
    "\n",
    "+ What does equality mean?\n",
    "\n",
    "+ What if 2 vectors are opposite directions?\n",
    "\n",
    "\n",
    "\n",
    "\n",
    "\n"
   ]
  },
  {
   "cell_type": "markdown",
   "metadata": {
    "cell_style": "split",
    "slideshow": {
     "slide_type": "fragment"
    }
   },
   "source": [
    "$$ \\hat{V} = \\cfrac{\\vec{V}}{|\\vec{V}|} \\quad |\\hat{V}| = 1 \\quad \\quad\n",
    "\\hat{U} = \\cfrac{\\vec{U}}{|\\vec{U}|} \\quad |\\hat{U}| = 1 $$\n",
    "\n"
   ]
  },
  {
   "cell_type": "markdown",
   "metadata": {
    "cell_style": "split",
    "slideshow": {
     "slide_type": "fragment"
    }
   },
   "source": [
    "$$ \\hat{V} \\cdot \\hat{U} = cos(\\theta) $$"
   ]
  },
  {
   "cell_type": "markdown",
   "metadata": {
    "cell_style": "split",
    "slideshow": {
     "slide_type": "fragment"
    }
   },
   "source": [
    "$$ | \\hat{V} \\cdot \\hat{U} | = |cos(\\theta)| \\leq 1 $$"
   ]
  },
  {
   "cell_type": "markdown",
   "metadata": {
    "cell_style": "split",
    "slideshow": {
     "slide_type": "fragment"
    }
   },
   "source": [
    "$$ \\left | \\cfrac{\\vec{V}}{|\\vec{V}|} \\cdot \\cfrac{\\vec{U}}{|\\vec{U}|} \\right| \\leq 1 \\quad  \\xrightarrow[]{} \\quad \\cfrac{|\\vec{V} \\cdot \\vec{U}|}{|\\vec{V}| \\: |\\vec{U}|} \\leq 1  $$"
   ]
  },
  {
   "cell_type": "markdown",
   "metadata": {
    "cell_style": "split",
    "slideshow": {
     "slide_type": "subslide"
    }
   },
   "source": [
    "### Matched Filter\n",
    "Maxmize the Signal to Noise Ratio\n",
    "\n",
    "#### Cauchy–Schwarz Inequality\n",
    "Tells us the maximum we can get is 1"
   ]
  },
  {
   "cell_type": "markdown",
   "metadata": {
    "cell_style": "split",
    "slideshow": {
     "slide_type": "fragment"
    }
   },
   "source": [
    "\n",
    "\n",
    "$$ \\begin{align}\n",
    "\\cfrac{|\\vec{V} \\cdot \\vec{U}|}{|\\vec{V}| \\: |\\vec{U}|} &\\leq 1 \\\\\n",
    "{|\\hat{V} \\cdot \\hat{U}|} &\\leq 1 \\\\\n",
    "{|\\hat{V} \\cdot \\hat{U}|} &= 1 \\quad if \\:\\hat{V} \\: and \\: \\hat{U} \\: are \\: colinear\n",
    "\\end{align}$$\n",
    "\n",
    "#### What can be infered about $\\vec{V}$ and $\\vec{U}$"
   ]
  },
  {
   "cell_type": "markdown",
   "metadata": {
    "slideshow": {
     "slide_type": "notes"
    }
   },
   "source": [
    "+  $\\vec{V}$ and $\\vec{U}$"
   ]
  },
  {
   "cell_type": "markdown",
   "metadata": {
    "cell_style": "split",
    "slideshow": {
     "slide_type": "subslide"
    }
   },
   "source": [
    "### Convolution\n",
    "$$ \\begin{align} (f*g)(t) &= \\int_{-\\infty}^{t} f(\\tau)\\: g(t-\\tau) \\: d \\tau \\\\\n",
    "(f*g)[n] &= \\sum_{-\\infty\\dots \\infty}^{i}  f[i]\\:g[n-i]  \\end{align}$$"
   ]
  },
  {
   "cell_type": "markdown",
   "metadata": {
    "cell_style": "split",
    "slideshow": {
     "slide_type": "-"
    }
   },
   "source": [
    "<img src=\"rect_rect_conv.gif?0\" width=\"100%\">"
   ]
  },
  {
   "cell_type": "markdown",
   "metadata": {
    "slideshow": {
     "slide_type": "subslide"
    }
   },
   "source": [
    "<img src=\"rect_rect_conv_auto.gif\" width=\"100%\">"
   ]
  },
  {
   "cell_type": "markdown",
   "metadata": {
    "slideshow": {
     "slide_type": "subslide"
    }
   },
   "source": [
    "<img src=\"rect_fat_rect_conv_auto.gif\" width=\"100%\">"
   ]
  },
  {
   "cell_type": "markdown",
   "metadata": {
    "slideshow": {
     "slide_type": "subslide"
    }
   },
   "source": [
    "<img src=\"rect_exp_conv_auto.gif\" width=\"100%\">"
   ]
  },
  {
   "cell_type": "markdown",
   "metadata": {
    "slideshow": {
     "slide_type": "subslide"
    }
   },
   "source": [
    "<img src=\"exp_exp_conv_auto.gif\" width=\"100%\">"
   ]
  },
  {
   "cell_type": "markdown",
   "metadata": {
    "slideshow": {
     "slide_type": "subslide"
    }
   },
   "source": [
    "<img src=\"rect_gaussian_conv_auto.gif\" width=\"100%\">"
   ]
  },
  {
   "cell_type": "markdown",
   "metadata": {
    "slideshow": {
     "slide_type": "subslide"
    }
   },
   "source": [
    "<img src=\"gaussian_gaussian_conv_auto.gif\" width=\"100%\">"
   ]
  },
  {
   "cell_type": "code",
   "execution_count": null,
   "metadata": {},
   "outputs": [],
   "source": []
  },
  {
   "cell_type": "markdown",
   "metadata": {
    "slideshow": {
     "slide_type": "skip"
    }
   },
   "source": [
    "<img src=\"rect_rect_conv.gif?0\" width=\"100%\">"
   ]
  },
  {
   "cell_type": "markdown",
   "metadata": {
    "slideshow": {
     "slide_type": "skip"
    }
   },
   "source": [
    "<img src=\"rect_exp_conv.gif\" width=\"90%\">"
   ]
  },
  {
   "cell_type": "markdown",
   "metadata": {
    "slideshow": {
     "slide_type": "subslide"
    }
   },
   "source": []
  },
  {
   "cell_type": "markdown",
   "metadata": {},
   "source": []
  },
  {
   "cell_type": "markdown",
   "metadata": {
    "slideshow": {
     "slide_type": "subslide"
    }
   },
   "source": [
    "### Matrix Operations\n",
    "\n",
    "+ Scalar Matrix multiplication\n",
    "\n",
    "+ Addition and Subtraction\n",
    "\n",
    "+ Matrix Multiplication\n",
    "\n",
    "+ Matrix Inverse\n",
    "\n",
    "+ Matrix Decompositions"
   ]
  },
  {
   "cell_type": "markdown",
   "metadata": {
    "slideshow": {
     "slide_type": "subslide"
    }
   },
   "source": [
    "#### Scalar Matrix Multiplication"
   ]
  },
  {
   "cell_type": "markdown",
   "metadata": {
    "slideshow": {
     "slide_type": "subslide"
    }
   },
   "source": [
    "#### Addition and Subtraction"
   ]
  },
  {
   "cell_type": "markdown",
   "metadata": {
    "slideshow": {
     "slide_type": "subslide"
    }
   },
   "source": [
    "#### Matrix Multiplication"
   ]
  },
  {
   "cell_type": "markdown",
   "metadata": {
    "slideshow": {
     "slide_type": "subslide"
    }
   },
   "source": [
    "#### Matrix Inverse"
   ]
  },
  {
   "cell_type": "markdown",
   "metadata": {
    "slideshow": {
     "slide_type": "subslide"
    }
   },
   "source": [
    "#### Matrix Decompositions"
   ]
  },
  {
   "cell_type": "markdown",
   "metadata": {
    "slideshow": {
     "slide_type": "notes"
    }
   },
   "source": []
  },
  {
   "cell_type": "markdown",
   "metadata": {
    "cell_style": "split",
    "slideshow": {
     "slide_type": "subslide"
    }
   },
   "source": [
    "### Multivariate Random Variables\n",
    "\n",
    "#### Guassian\n",
    "$$ \\begin{align} \\mathcal{N} \\left ( \\bf \\mu , \\bf \\Sigma \\right ) \n",
    "&= {\\left ( \\sqrt{ \\left ( 2 \\pi \\right ) ^{k} \\bf |\\Sigma| } \\right ) }^{-1} {e^{\n",
    "- \\cfrac{\\left ( \\left ( x-\\mu \\right )^{T} \\Sigma ^ {-1}  \\left ( x-\\mu \\right ) \\right )} {2}\n",
    "} }\n",
    "\\end{align}\n",
    "$$\n",
    "\n",
    "#### Complex Guassian\n",
    "$$ \\begin{align} \\mathcal{CN} \\left ( \\bf \\mu , \\bf \\Sigma \\right ) \n",
    "&= {\\left ( { \\left ( 2 \\pi \\right ) ^{k} \\bf |\\Sigma| } \\right ) }^{-1} {e^{\n",
    "- \\cfrac{\\left ( \\left ( x-\\mu \\right )^{T} \\Sigma ^ {-1}  \\left ( x-\\mu \\right ) \\right )} {2}\n",
    "} }\n",
    "\\end{align}\n",
    "$$"
   ]
  },
  {
   "cell_type": "markdown",
   "metadata": {
    "cell_style": "split",
    "slideshow": {
     "slide_type": "fragment"
    }
   },
   "source": [
    "#### Zero Mean Unit Variance\n",
    "\n",
    "$$ \\begin{align} \\mathcal{N} \\left ( \\bf 0 , \\bf 1 \\right ) \n",
    "&= {\\left ( \\sqrt{ \\left ( 2 \\pi \\right ) ^{k} \\bf } \\right ) }^{-1} {e^{\n",
    "- \\left ( \\cfrac{  x^{T} x } {2} \\right )\n",
    "} }\n",
    "\\end{align}\n",
    "$$"
   ]
  },
  {
   "cell_type": "markdown",
   "metadata": {
    "cell_style": "split",
    "slideshow": {
     "slide_type": "fragment"
    }
   },
   "source": [
    "#### Complex Zero Mean Unit Variance\n",
    "\n",
    "$$ \\begin{align} \\mathcal{CN} \\left ( \\bf 0 , \\bf 1 \\right ) \n",
    "&= { { \\left ( 2 \\pi \\right ) ^{-k} \\bf } } {e^{\n",
    "- \\left ( \\cfrac{  x^{T} x } {2} \\right )\n",
    "} }\n",
    "\\end{align}\n",
    "$$"
   ]
  },
  {
   "cell_type": "markdown",
   "metadata": {
    "slideshow": {
     "slide_type": "subslide"
    }
   },
   "source": [
    "### Correlation of random vectors\n"
   ]
  },
  {
   "cell_type": "markdown",
   "metadata": {
    "cell_style": "split",
    "slideshow": {
     "slide_type": "subslide"
    }
   },
   "source": [
    "### Correlation and Covariance\n",
    "\n",
    "#### Correlation Random Variables\n",
    "$$ {r}_{xy} = cor(\\bf X, \\bf Y) = E \\left [ \\bf X \\cdot \\bf Y \\right ] $$\n",
    "\n",
    "### Covariance Random Variables\n",
    "$$ {r}_{xy} = cov(\\bf X, \\bf Y) = E \\left [ ( \\bf X -\\mu_x ) ( \\bf Y -\\mu_y )  \\right ] $$"
   ]
  },
  {
   "cell_type": "markdown",
   "metadata": {
    "cell_style": "split",
    "slideshow": {
     "slide_type": "-"
    }
   },
   "source": [
    "### Correlation of Signals $f$ and $g$\n",
    "\n",
    "$$ \\begin{align} \n",
    "(f*g)(t) &= \\int_{-\\infty}^{t} f(\\tau)\\: g(t+\\tau) \\: d \\tau \\\\\n",
    "(f*g)[n] &= \\sum_{-\\infty\\dots \\infty}^{i}  f[i]\\:g[n+i]  \n",
    "\\end{align}$$"
   ]
  },
  {
   "cell_type": "markdown",
   "metadata": {
    "slideshow": {
     "slide_type": "subslide"
    }
   },
   "source": [
    "<img src=\"Correlation_rect_rect.gif\" width=\"90%\">"
   ]
  },
  {
   "cell_type": "markdown",
   "metadata": {
    "slideshow": {
     "slide_type": "subslide"
    }
   },
   "source": [
    "<img src=\"Correlation_rect_exp.gif\" width=\"90%\">"
   ]
  },
  {
   "cell_type": "markdown",
   "metadata": {
    "slideshow": {
     "slide_type": "subslide"
    }
   },
   "source": [
    "<img src=\"Correlation_exp_exp.gif\" width=\"90%\">"
   ]
  },
  {
   "cell_type": "markdown",
   "metadata": {
    "slideshow": {
     "slide_type": "subslide"
    }
   },
   "source": [
    "<img src=\"Correlation_gaussian_gaussian.gif\" width=\"90%\">"
   ]
  },
  {
   "cell_type": "markdown",
   "metadata": {
    "slideshow": {
     "slide_type": "subslide"
    }
   },
   "source": [
    "<img src=\"Correlation_barker_barker.gif\" width=\"90%\">"
   ]
  },
  {
   "cell_type": "markdown",
   "metadata": {
    "slideshow": {
     "slide_type": "notes"
    }
   },
   "source": [
    "Barker-13 code"
   ]
  },
  {
   "cell_type": "markdown",
   "metadata": {
    "slideshow": {
     "slide_type": "subslide"
    }
   },
   "source": [
    "<img src=\"Correlation_sinc_sinc.gif\" width=\"90%\">"
   ]
  },
  {
   "cell_type": "markdown",
   "metadata": {
    "slideshow": {
     "slide_type": "notes"
    }
   },
   "source": [
    "Sinc function"
   ]
  },
  {
   "cell_type": "markdown",
   "metadata": {
    "cell_style": "split",
    "slideshow": {
     "slide_type": "subslide"
    }
   },
   "source": [
    "### Orthogonal + Normal = Orthonormal\n",
    "\n",
    "$$ \\bf U = \\begin{bmatrix} \n",
    "    u_{1,1}  & u_{2,1}  &  \\dots & u_{1,n}  \\\\\n",
    "    u_{2,1} & u_{2,2} &    &  u_{2,n} \\\\\n",
    "    \\vdots & & \\ddots & \\vdots \\\\\n",
    "    u_{n,1} & u_{n,2}  &  \\dots & u_{n,n} \\\\\n",
    "    \\end{bmatrix} =\n",
    "\\begin{bmatrix}\n",
    " \\vdots & \\vdots & & \\vdots \\\\\n",
    " \\vec{u_1} & \\vec{u_2} & \\dots & \\vec{u_n} \\\\\n",
    " \\vdots & \\vdots & & \\vdots \\\\\n",
    "\\end{bmatrix}\n",
    "$$"
   ]
  },
  {
   "cell_type": "markdown",
   "metadata": {
    "cell_style": "split",
    "slideshow": {
     "slide_type": "fragment"
    }
   },
   "source": [
    "$$ 1 = |\\vec{u_i}|^2 = \\vec{u_i} \\cdot \\vec{u_i} \\quad for \\: n > i < \\:Rank \n",
    "$$"
   ]
  },
  {
   "cell_type": "markdown",
   "metadata": {
    "cell_style": "split",
    "slideshow": {
     "slide_type": "fragment"
    }
   },
   "source": [
    "$$ 0 = |\\vec{u_i} \\cdot \\vec{u_j}| \\quad for \\: i \\neq j$$"
   ]
  },
  {
   "cell_type": "markdown",
   "metadata": {
    "cell_style": "split",
    "slideshow": {
     "slide_type": "fragment"
    }
   },
   "source": [
    "$$ \\begin{align}\n",
    "\\mathbb{1} &= \\bf U^T \\bf U \\\\\n",
    "\\begin{bmatrix} \n",
    "    1  & 0  &  \\dots & 0  \\\\\n",
    "    0 & 1 &    &  0 \\\\\n",
    "    \\vdots & & \\ddots & \\vdots \\\\\n",
    "    0 & 0  &  \\dots & 1 \\\\\n",
    "    \\end{bmatrix}\n",
    "&= \\begin{bmatrix}\n",
    "\\cdots & \\vec{u_1} & \\cdots \\\\\n",
    "\\cdots & \\vec{u_2} & \\cdots \\\\\n",
    "       & \\vdots    &        \\\\\n",
    "\\cdots & \\vec{u_n} & \\cdots \\\\\n",
    "\\end{bmatrix}\n",
    "\\begin{bmatrix}\n",
    " \\vdots & \\vdots & & \\vdots \\\\\n",
    " \\vec{u_1} & \\vec{u_2} & \\dots & \\vec{u_n} \\\\\n",
    " \\vdots & \\vdots & & \\vdots \\\\\n",
    "\\end{bmatrix} \n",
    "\\end{align}\n",
    "$$"
   ]
  },
  {
   "cell_type": "markdown",
   "metadata": {
    "slideshow": {
     "slide_type": "notes"
    }
   },
   "source": []
  },
  {
   "cell_type": "markdown",
   "metadata": {
    "cell_style": "split",
    "slideshow": {
     "slide_type": "subslide"
    }
   },
   "source": [
    "### Rotation Matrices\n",
    "\n",
    "$$ \n",
    "\\bf R(\\theta) = \\begin{bmatrix}\n",
    "cos(\\theta) & -sin(\\theta) \\\\\n",
    "sin(\\theta) & cos(\\theta)\n",
    "\\end{bmatrix} $$\n",
    "$$\n",
    "\\vec{V_2} = \\bf {R}(\\theta) \\vec{V_1} \n",
    "$$\n",
    "\n",
    "+ Changes the direction of vectors \n",
    "+ Does not change the scale"
   ]
  },
  {
   "cell_type": "markdown",
   "metadata": {
    "cell_style": "split",
    "slideshow": {
     "slide_type": "fragment"
    }
   },
   "source": [
    "$$ \n",
    "\\bf R(90^o) = \\begin{bmatrix}\n",
    "0 & -1 \\\\\n",
    "1 & 0\n",
    "\\end{bmatrix}\n",
    "$$\n",
    "\n",
    "$$ \n",
    "\\begin{bmatrix} 0 \\\\ 1 \\end{bmatrix} = \\begin{bmatrix}\n",
    "0 & -1 \\\\\n",
    "1 & 0\n",
    "\\end{bmatrix} \n",
    "\\begin{bmatrix} 1 \\\\ 0 \\end{bmatrix}\n",
    "$$"
   ]
  },
  {
   "cell_type": "markdown",
   "metadata": {
    "slideshow": {
     "slide_type": "notes"
    }
   },
   "source": []
  },
  {
   "cell_type": "markdown",
   "metadata": {
    "cell_style": "split",
    "slideshow": {
     "slide_type": "subslide"
    }
   },
   "source": [
    "### Inverse\n",
    "$$ \\vec{c} = \\bf {B} \\vec{a} \\\\\n",
    "\\bf {B}^{-1} \\vec{c} = \\bf {B}^{-1} \\bf {B} \\vec{a} \\\\\n",
    "\\bf {B}^{-1} \\vec{c} = \\bf \\mathbb{1} \\vec{a} \\\\\n",
    "\\bf {B}^{-1} \\vec{c} = \\vec{a} \\\\\n",
    "$$"
   ]
  },
  {
   "cell_type": "code",
   "execution_count": 171,
   "metadata": {
    "cell_style": "split",
    "slideshow": {
     "slide_type": "fragment"
    }
   },
   "outputs": [
    {
     "name": "stdout",
     "output_type": "stream",
     "text": [
      "[[-3 -2 -2]\n",
      " [ 4  2 -1]\n",
      " [-2 -2  0]]\n"
     ]
    }
   ],
   "source": [
    "B = numpy.matrix([\n",
    "    [2, 1, 1], [-5, -3, 0], [1, 1, -1]\n",
    "])\n",
    "print(numpy.invert(B))"
   ]
  },
  {
   "cell_type": "markdown",
   "metadata": {
    "cell_style": "split",
    "slideshow": {
     "slide_type": "notes"
    }
   },
   "source": [
    "+ Lets be real, use a computer (numpy)"
   ]
  },
  {
   "cell_type": "markdown",
   "metadata": {
    "cell_style": "split",
    "slideshow": {
     "slide_type": "subslide"
    }
   },
   "source": [
    "### Decompositions\n",
    "\n",
    "The Decomposition of a matrix factorization of a matrix into a product of matrices\n",
    "\n",
    "$$ A = B \\cdots D $$"
   ]
  },
  {
   "cell_type": "markdown",
   "metadata": {
    "cell_style": "split",
    "slideshow": {
     "slide_type": "fragment"
    }
   },
   "source": [
    "#### LU\n",
    "\n",
    "$$ A = L U $$\n",
    "\n",
    "+ $ L $ is lower triangular \n",
    "+ $ U $ is upper triangular"
   ]
  },
  {
   "cell_type": "markdown",
   "metadata": {
    "cell_style": "split",
    "slideshow": {
     "slide_type": "fragment"
    }
   },
   "source": [
    "#### Cholesky decomposition\n",
    "Matrix Square Root\n",
    "\n",
    "$$ A = L \\: L^\\dagger $$"
   ]
  },
  {
   "cell_type": "markdown",
   "metadata": {
    "cell_style": "split",
    "slideshow": {
     "slide_type": "fragment"
    }
   },
   "source": [
    "#### Eigen Decomposition\n",
    "\n",
    "\n",
    "$$ \\begin{align}\n",
    "A \\: \\vec{v} &= \\lambda \\: \\vec{v} \\\\\n",
    "A \\: Q &=  Q \\: \\Lambda \\\\\n",
    "A  &=  Q \\: \\Lambda Q^{-1} \n",
    "\\end{align}\n",
    "$$"
   ]
  },
  {
   "cell_type": "markdown",
   "metadata": {
    "slideshow": {
     "slide_type": "notes"
    }
   },
   "source": []
  },
  {
   "cell_type": "markdown",
   "metadata": {
    "cell_style": "split",
    "slideshow": {
     "slide_type": "subslide"
    }
   },
   "source": [
    "#### Singular Value Decomposition\n",
    "\n",
    "$$ A = U \\: \\Sigma \\: V^\\dagger $$\n",
    "\n",
    " + $A$ Matrix of size m by n\n",
    " + $U$ is a m by m rotation matrix\n",
    " + $\\Sigma$ is m by n diagonal matrix\n",
    " + $V$ is a n by n rotation matrix\n",
    " \n",
    "###### Generalized Eigen"
   ]
  },
  {
   "cell_type": "markdown",
   "metadata": {
    "cell_style": "split",
    "slideshow": {
     "slide_type": "-"
    }
   },
   "source": [
    "<img src=\"1024px-Singular-Value-Decomposition.svg.png\" width=\"100%\">\n",
    "\n",
    "https://en.wikipedia.org/wiki/Singular_value_decomposition"
   ]
  },
  {
   "cell_type": "markdown",
   "metadata": {
    "slideshow": {
     "slide_type": "notes"
    }
   },
   "source": []
  },
  {
   "cell_type": "markdown",
   "metadata": {
    "slideshow": {
     "slide_type": "slide"
    }
   },
   "source": [
    "## Frequency / Tone\n",
    " + Real valued\n",
    " + Matched Filter Real valued\n",
    " + Phase\n",
    " + Complex Samples"
   ]
  },
  {
   "cell_type": "markdown",
   "metadata": {
    "cell_style": "split",
    "slideshow": {
     "slide_type": "subslide"
    }
   },
   "source": [
    "## Real Valued Signal\n",
    "\n",
    "$$ tone(t) = sin(2\\pi f t -\\phi) $$\n",
    "\n",
    "+ f is frequency in 1 over peroid\n",
    "  + $\\omega$ angular frequency in radians per peroid\n",
    "  + $\\omega = 2 \\pi f $\n",
    "+ $\\phi$ is the phase\n",
    "\n",
    "\n"
   ]
  },
  {
   "cell_type": "markdown",
   "metadata": {
    "cell_style": "split",
    "slideshow": {
     "slide_type": "-"
    }
   },
   "source": [
    "<img src=\"sine_wave.gif\" width=\"100%\">"
   ]
  },
  {
   "cell_type": "markdown",
   "metadata": {
    "slideshow": {
     "slide_type": "subslide"
    }
   },
   "source": [
    "<img src=\"matched_filter_phase_1.gif?0\" width=\"90%\">"
   ]
  },
  {
   "cell_type": "markdown",
   "metadata": {
    "slideshow": {
     "slide_type": "subslide"
    }
   },
   "source": [
    "<img src=\"matched_filter_IQ.gif\" width=\"90%\">"
   ]
  },
  {
   "cell_type": "markdown",
   "metadata": {
    "slideshow": {
     "slide_type": "notes"
    }
   },
   "source": [
    "+ Two Filters\n",
    "+ Note the amplitude \n",
    "  + Peak is 1\n",
    "  + The Filter magnitude is 1/2\n",
    "  + Root Mean Square is $\\sqrt{1/2}$"
   ]
  },
  {
   "cell_type": "markdown",
   "metadata": {
    "cell_style": "split",
    "slideshow": {
     "slide_type": "subslide"
    }
   },
   "source": [
    "### 2 Perpendicular Axis\n",
    "\n",
    "+ Real Valued Tones require a pair of matched filters\n",
    "  + Two filters are orthogonal\n",
    "\n",
    "\n",
    "#### Direct Conversion\n",
    "\n",
    "  + Where complex numbers principally come from for signal processing"
   ]
  },
  {
   "cell_type": "markdown",
   "metadata": {
    "cell_style": "split",
    "slideshow": {
     "slide_type": "fragment"
    }
   },
   "source": [
    "$$ I = Signal(t) \\cdot cos(\\omega t), \\quad Q = Signal(t) \\cdot sin(\\omega t)$$"
   ]
  },
  {
   "cell_type": "markdown",
   "metadata": {
    "cell_style": "split",
    "slideshow": {
     "slide_type": "fragment"
    }
   },
   "source": [
    "###### Euler's Equation\n",
    "\n",
    "$$ e^{ix} = cos(x) + i\\:sin(x) \\quad where \\;\\; i=\\sqrt{-1}$$\n",
    "\n",
    "See Taylor Expansion for proof"
   ]
  },
  {
   "cell_type": "markdown",
   "metadata": {
    "cell_style": "split",
    "slideshow": {
     "slide_type": "fragment"
    }
   },
   "source": [
    "$$ \\mathcal{z} = Signal(t)\\cdot ctone(t) $$\n",
    "\n",
    "$$ \\begin{align}ctone(t) &= { e^{i 2 \\pi f t + \\phi} } \\\\\n",
    "&=  cos(2\\pi f t -\\phi) + i\\: sin(2\\pi f t -\\phi)\n",
    "\\end{align}\n",
    "$$"
   ]
  },
  {
   "cell_type": "markdown",
   "metadata": {
    "slideshow": {
     "slide_type": "slide"
    }
   },
   "source": [
    "## Complex Number\n",
    "\n",
    "$$ Z = a + i\\: b $$\n",
    "\n",
    "  + Operations\n",
    "  + Relationship between Phase and Delay\n",
    "  + Negative Frequencies?\n",
    "  + Direct-conversion receiver\n",
    "  + Complex Random Numbers"
   ]
  },
  {
   "cell_type": "markdown",
   "metadata": {
    "cell_style": "split",
    "slideshow": {
     "slide_type": "subslide"
    }
   },
   "source": [
    "### Complex Number Operations\n",
    "#### Magnitude and Phase\n",
    "$$ |Z| = \\sqrt{ {\\Re(Z)}^2 + {\\Im(Z)}^2} $$\n",
    "$$ \\angle Z = \\phi = {tan}^{-1}  \\left (\\cfrac{\\Im(Z)}{\\Re(Z)}\\right)$$"
   ]
  },
  {
   "cell_type": "markdown",
   "metadata": {
    "cell_style": "split",
    "slideshow": {
     "slide_type": "fragment"
    }
   },
   "source": [
    "\n",
    "#### Addition \n",
    "Just like vector addition\n",
    "$$ Z + Y = \\left ( \\Re({Z}) + \\Re({Y}) \\right ) + i \\left ( \\Im({Z}) + \\Im({Y}) \\right ) $$\n"
   ]
  },
  {
   "cell_type": "markdown",
   "metadata": {
    "cell_style": "split",
    "slideshow": {
     "slide_type": "fragment"
    }
   },
   "source": [
    "#### Subtraction\n",
    "Just like vector addition and scalar multiplication\n",
    "$$ \\begin{align*}\n",
    "   Z - Y  & = Z + (-1 \\cdot Y ) \\\\\n",
    "          & = \\left ( \\Re({Z}) - \\Re({Y}) \\right ) + i \\left ( \\Im({Z}) - \\Im({Y}) \\right ) \n",
    "\\end{align*}\n",
    "$$"
   ]
  },
  {
   "cell_type": "markdown",
   "metadata": {
    "cell_style": "split",
    "slideshow": {
     "slide_type": "fragment"
    }
   },
   "source": [
    "#### Multiplication\n",
    "Rotation and scaling, not vector product\n",
    "$$ Z \\cdot Y = (\\Re(Z) \\Re(Y) - \\Im(Z) \\Im(Y)) + i(\\Re(Z) \\Im(Y) + \\Im(Z) \\Re(Y))$$"
   ]
  },
  {
   "cell_type": "markdown",
   "metadata": {
    "cell_style": "split",
    "slideshow": {
     "slide_type": "fragment"
    }
   },
   "source": [
    "#### Multiplication Magnitude and Angle\n",
    "$$ Z \\cdot Y = |Z| |Y|\\angle \\left ( \\angle Z + \\angle Y\\right )$$\n"
   ]
  },
  {
   "cell_type": "markdown",
   "metadata": {
    "slideshow": {
     "slide_type": "notes"
    }
   },
   "source": []
  },
  {
   "cell_type": "markdown",
   "metadata": {
    "cell_style": "split",
    "slideshow": {
     "slide_type": "subslide"
    }
   },
   "source": [
    "### Complex Number Operations\n",
    "\n"
   ]
  },
  {
   "cell_type": "markdown",
   "metadata": {
    "cell_style": "split",
    "slideshow": {
     "slide_type": "fragment"
    }
   },
   "source": [
    "#### Conjugation\n",
    "\n",
    "$$ Z^* = \\Re(Z) - i\\: \\Im(Z) $$\n",
    "\n",
    "##### Matrix Hermitian\n",
    "\n",
    "$$ \\bf R = $$"
   ]
  },
  {
   "cell_type": "markdown",
   "metadata": {
    "cell_style": "split",
    "slideshow": {
     "slide_type": "fragment"
    }
   },
   "source": [
    "#### Division\n",
    "\n",
    "$$ \\cfrac{Z}{Y} = \\cfrac{|Z|}{|Y|}\\angle \\left ( \\angle Z - \\angle Y \\right )  $$"
   ]
  },
  {
   "cell_type": "markdown",
   "metadata": {
    "cell_style": "split",
    "slideshow": {
     "slide_type": "fragment"
    }
   },
   "source": [
    "##### Real Powers\n",
    "$$ Z^n = |Z|^{n} \\angle \\left ( n \\: \\angle Z \\right ) $$\n",
    "##### Complex Powers\n",
    "$$ Z^\\alpha =  \\cdots \\cdots $$"
   ]
  },
  {
   "cell_type": "markdown",
   "metadata": {
    "slideshow": {
     "slide_type": "notes"
    }
   },
   "source": []
  },
  {
   "cell_type": "markdown",
   "metadata": {
    "slideshow": {
     "slide_type": "subslide"
    }
   },
   "source": [
    "### Delay and Phase\n",
    "\n",
    "$$ \\begin{align}ctone(t) &= { e^{i (2 \\pi f t + \\phi )} } \\\\\n",
    "&= { e^{i 2 \\pi f \\left (t + \\cfrac{\\phi}{2 \\pi f} \\right ) }  }\n",
    "\\end{align}\n",
    "$$\n",
    "\n",
    "Observe $\\cfrac{\\phi}{2 \\pi f}$ is like time.\n",
    "\n",
    "$$ t = \\cfrac{\\phi}{2 \\pi f} $$"
   ]
  },
  {
   "cell_type": "markdown",
   "metadata": {
    "cell_style": "split",
    "slideshow": {
     "slide_type": "subslide"
    }
   },
   "source": [
    "### Negative Frequencies\n",
    "\n",
    "#### Real\n",
    "\n",
    "$$ tone(t) = sin(2\\pi f \\: t - \\phi ) $$\n",
    "\n",
    "\n",
    "+ What happens if $f$ is negative?\n",
    "\n",
    "\n",
    "+ Recall the matched filter animation"
   ]
  },
  {
   "cell_type": "markdown",
   "metadata": {
    "cell_style": "split",
    "slideshow": {
     "slide_type": "-"
    }
   },
   "source": [
    "<img src=\"sine_wave.gif\" width=\"100%\">"
   ]
  },
  {
   "cell_type": "markdown",
   "metadata": {
    "slideshow": {
     "slide_type": "subslide"
    }
   },
   "source": [
    "<img src=\"matched_filter_IQ.gif\" width=\"90%\">"
   ]
  },
  {
   "cell_type": "markdown",
   "metadata": {
    "cell_style": "split",
    "slideshow": {
     "slide_type": "subslide"
    }
   },
   "source": [
    "### Negative Frequencies\n",
    "\n",
    "#### Complex\n",
    "\n",
    "$$ ctone(t) = { e^{i (2 \\pi f t + \\phi) } }  $$\n",
    "\n",
    " What happens if $f$ is 0 ?\n"
   ]
  },
  {
   "cell_type": "markdown",
   "metadata": {
    "cell_style": "split",
    "slideshow": {
     "slide_type": "fragment"
    }
   },
   "source": [
    " What happens if $f$ is negative?"
   ]
  },
  {
   "cell_type": "markdown",
   "metadata": {
    "cell_style": "split",
    "slideshow": {
     "slide_type": "fragment"
    }
   },
   "source": [
    "What happens if $f$ is complex?"
   ]
  },
  {
   "cell_type": "markdown",
   "metadata": {
    "slideshow": {
     "slide_type": "slide"
    }
   },
   "source": [
    "# End of Section 1"
   ]
  },
  {
   "cell_type": "markdown",
   "metadata": {},
   "source": [
    "\n",
    "  + Basic Math Operations\n",
    "    + Linearity\n",
    "    + Time Inverance \n",
    "    + Bounded Input Bounded Output\n",
    "    + Dirivatives and Differences\n",
    "    + Integrates and Sumations \n",
    "    + Useful Non-linear Functions\n",
    "      + ABS\n",
    "      + Squared\n",
    "      + Log and Decibels\n",
    "    \n",
    "  + Continous Vs. Descrete Signals\n",
    "    + Analog to Digital Conversion\n",
    "    + Digital to Analog Conversion\n",
    "    + Delta Symbol\n",
    "    + Nyquist Sampling\n",
    "    \n",
    "  + Random Varaibles\n",
    "    + Basics of Probablilty\n",
    "      + Probability Density Function\n",
    "      + Total Probablilty\n",
    "      + Cumulative Distribution Function\n",
    "    + Continuous Vs. Discrete\n",
    "    + Common Distributions\n",
    "      + Uniform\n",
    "      + Exponential\n",
    "      + Gaussian\n",
    "      + Chi Squared\n",
    "    + Independent and identically Distributed Random Variables\n",
    "    + Operations on random variables\n",
    "    + Central Limit Theorem\n",
    "    + Correlation\n",
    "    \n",
    "  + Basic Linear Algebra\n",
    "    + Vector Operations\n",
    "      + Addition\n",
    "      + Scaler Multiplication\n",
    "      + Vector Span\n",
    "    + Vector Products\n",
    "      + Elementwise Product\n",
    "      + Outter Product\n",
    "      + Inner Product\n",
    "    + Matrix Operations\n",
    "    + Cauchy–Schwarz inequality\n",
    "    + Matched Filter\n",
    "    + Convolution\n",
    "    + Correlation of random vectors\n",
    "    + Rotation Matrices\n",
    "    + \n",
    "    \n",
    "  + Frequency / Tone\n",
    "    + Real valued\n",
    "    + Matched Filter Real valued\n",
    "    + Phase\n",
    "    + Complex Samples\n",
    "    \n",
    "  + Complex Number\n",
    "    + Direct-conversion receiver\n",
    "    + Negative Frequencies?\n",
    "    + Relationship between Phase and Delay\n",
    "    + Complex Random Numbers\n",
    "  "
   ]
  },
  {
   "cell_type": "markdown",
   "metadata": {
    "slideshow": {
     "slide_type": "notes"
    }
   },
   "source": []
  }
 ],
 "metadata": {
  "celltoolbar": "Slideshow",
  "kernelspec": {
   "display_name": "Python 3",
   "language": "python",
   "name": "python3"
  },
  "language_info": {
   "codemirror_mode": {
    "name": "ipython",
    "version": 3
   },
   "file_extension": ".py",
   "mimetype": "text/x-python",
   "name": "python",
   "nbconvert_exporter": "python",
   "pygments_lexer": "ipython3",
   "version": "3.8.10"
  }
 },
 "nbformat": 4,
 "nbformat_minor": 4
}
