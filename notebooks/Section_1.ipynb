{
 "cells": [
  {
   "cell_type": "markdown",
   "metadata": {
    "slideshow": {
     "slide_type": "slide"
    }
   },
   "source": [
    "# Section 1\n"
   ]
  },
  {
   "cell_type": "markdown",
   "metadata": {
    "slideshow": {
     "slide_type": "slide"
    }
   },
   "source": [
    "# What Is A Signal\n",
    "\n",
    "\n",
    "<img src=\"sine_wave_sampled.gif?2\" width=\"75%\">"
   ]
  },
  {
   "cell_type": "code",
   "execution_count": 1,
   "metadata": {
    "cell_style": "split",
    "slideshow": {
     "slide_type": "subslide"
    }
   },
   "outputs": [],
   "source": [
    "import numpy \n",
    "from numpy import pi\n",
    "from scipy import fft, linalg, signal \n",
    "from scipy import stats, io\n",
    "\n",
    "from ipywidgets import *\n",
    "\n",
    "from datetime import datetime\n",
    "\n",
    "import matplotlib.pyplot as plt\n",
    "\n",
    "%matplotlib notebook"
   ]
  },
  {
   "cell_type": "code",
   "execution_count": 2,
   "metadata": {
    "cell_style": "split",
    "slideshow": {
     "slide_type": "-"
    }
   },
   "outputs": [
    {
     "name": "stdout",
     "output_type": "stream",
     "text": [
      "2021-09-20 13:24:29.835028\n"
     ]
    }
   ],
   "source": [
    "print(datetime.now())"
   ]
  },
  {
   "cell_type": "markdown",
   "metadata": {
    "slideshow": {
     "slide_type": "slide"
    }
   },
   "source": [
    "## What Is A Signal\n"
   ]
  },
  {
   "cell_type": "markdown",
   "metadata": {
    "slideshow": {
     "slide_type": "fragment"
    }
   },
   "source": [
    "  + Something that carries or conveys information"
   ]
  },
  {
   "cell_type": "markdown",
   "metadata": {
    "slideshow": {
     "slide_type": "fragment"
    }
   },
   "source": [
    "  + What does that even mean?"
   ]
  },
  {
   "cell_type": "markdown",
   "metadata": {
    "slideshow": {
     "slide_type": "fragment"
    }
   },
   "source": [
    "  + That is about anything?"
   ]
  },
  {
   "cell_type": "markdown",
   "metadata": {
    "slideshow": {
     "slide_type": "fragment"
    }
   },
   "source": [
    "  + This is so general it maybe useless, maybe"
   ]
  },
  {
   "cell_type": "markdown",
   "metadata": {
    "slideshow": {
     "slide_type": "slide"
    }
   },
   "source": [
    "## Examples of Signals"
   ]
  },
  {
   "cell_type": "markdown",
   "metadata": {
    "slideshow": {
     "slide_type": "subslide"
    }
   },
   "source": [
    "#### Sound\n",
    "    + Acoustic waves\n",
    "    + Humans hear between 20Hz to 20 KHz\n",
    "    \n",
    "  \n",
    "  <img src=\"Theme_Classic.png\" width=\"65%\" />\n",
    "  \n",
    " https://www.audacityteam.org/"
   ]
  },
  {
   "cell_type": "markdown",
   "metadata": {
    "cell_style": "center",
    "slideshow": {
     "slide_type": "subslide"
    }
   },
   "source": [
    "### Sea Levels\n",
    "\n",
    "\n",
    "\n",
    "<img src=\"NASA-Satellite-sea-level-rise-observations.jpg\" width=\"40%\" />\n",
    "\n",
    "+ https://climate.nasa.gov/vital-signs/sea-level/\n",
    "\n",
    "+ https://en.wikipedia.org/wiki/Sea_level_rise\n"
   ]
  },
  {
   "cell_type": "markdown",
   "metadata": {
    "slideshow": {
     "slide_type": "subslide"
    }
   },
   "source": [
    "### Stock Prices\n",
    " [Game Stop 1 year](https://www.google.com/finance/quote/GME:NYSE?sa=X&sqi=2&ved=2ahUKEwiOzfqbxP_yAhWfQ_EDHVQZDgQQ3ecFegQILhAS&window=1Y)\n",
    "     \n",
    "<img src=\"GameStopStock.png?1\" width=\"55%\">"
   ]
  },
  {
   "cell_type": "markdown",
   "metadata": {
    "cell_style": "split",
    "slideshow": {
     "slide_type": "subslide"
    }
   },
   "source": [
    "#### Sun Spots\n",
    "\n",
    "<img src=\"Sunspots_1302_Sep_2011_by_NASA.jpg\" width=\"85%\" >\n",
    "\n",
    "https://en.wikipedia.org/wiki/Sunspot\n"
   ]
  },
  {
   "cell_type": "markdown",
   "metadata": {
    "cell_style": "split",
    "slideshow": {
     "slide_type": "fragment"
    }
   },
   "source": [
    "#### Sun Spots over time\n",
    "   \n",
    "<img src=\"Sunspot_Numbers.png\" width=\"100%\" >"
   ]
  },
  {
   "cell_type": "markdown",
   "metadata": {
    "slideshow": {
     "slide_type": "skip"
    }
   },
   "source": []
  },
  {
   "cell_type": "markdown",
   "metadata": {
    "cell_style": "split",
    "slideshow": {
     "slide_type": "subslide"
    }
   },
   "source": [
    "#### Gravity Waves\n",
    "  + Surface waves\n",
    "  + Sea waves\n",
    "  + Eeathquakes\n",
    "  \n",
    "\n",
    "https://en.wikipedia.org/wiki/Wake"
   ]
  },
  {
   "cell_type": "markdown",
   "metadata": {
    "cell_style": "split",
    "slideshow": {
     "slide_type": "-"
    }
   },
   "source": [
    "<img src=\"duck_wake.jpg\" width=\"100%\">"
   ]
  },
  {
   "cell_type": "code",
   "execution_count": null,
   "metadata": {
    "slideshow": {
     "slide_type": "notes"
    }
   },
   "outputs": [],
   "source": []
  },
  {
   "cell_type": "markdown",
   "metadata": {
    "cell_style": "split",
    "slideshow": {
     "slide_type": "subslide"
    }
   },
   "source": [
    "#### Gravitational Waves\n",
    "\n",
    "+ Find Black Holes combining\n",
    "+ 1 Billion dollar detector\n",
    "\n",
    "<img src=\"1280px-LIGO_Hanford_aerial_05.jpg\" width=\"50%\" >\n",
    "\n",
    "[http://svs.gsfc.nasa.gov/](http://svs.gsfc.nasa.gov//vis/a010000/a010500/a010543/WhtDwrfCollid_ProRes_720x486_59.94fps.webmhd.webm)\n"
   ]
  },
  {
   "cell_type": "markdown",
   "metadata": {
    "cell_style": "split",
    "slideshow": {
     "slide_type": "-"
    }
   },
   "source": [
    "\n",
    "+ 2017 Nobel prize\n",
    "\n",
    "\n",
    "\n",
    "<img src=\"ns_gw_art.jpg\" width=\"75%\">\n",
    "\n",
    "https://www.ligo.caltech.edu/page/what-are-gw\n",
    "\n",
    "https://en.wikipedia.org/wiki/Gravitational-wave_observatory\n"
   ]
  },
  {
   "cell_type": "code",
   "execution_count": null,
   "metadata": {
    "slideshow": {
     "slide_type": "notes"
    }
   },
   "outputs": [],
   "source": []
  },
  {
   "cell_type": "markdown",
   "metadata": {
    "cell_style": "split",
    "slideshow": {
     "slide_type": "subslide"
    }
   },
   "source": [
    "#### Electrical\n",
    "  + Probably what everyone things of\n",
    "  + It's all electrical signals at some point\n",
    "  + Voltage or current changing in\n",
    "    + Time\n",
    "    + Node\n",
    "    + position"
   ]
  },
  {
   "cell_type": "markdown",
   "metadata": {
    "cell_style": "split",
    "slideshow": {
     "slide_type": "-"
    }
   },
   "source": [
    "<img src=\"Scope.jpeg\" width=\"100%\">"
   ]
  },
  {
   "cell_type": "code",
   "execution_count": null,
   "metadata": {
    "slideshow": {
     "slide_type": "notes"
    }
   },
   "outputs": [],
   "source": []
  },
  {
   "cell_type": "markdown",
   "metadata": {
    "cell_style": "split",
    "slideshow": {
     "slide_type": "subslide"
    }
   },
   "source": [
    "##### Light\n",
    "  + Cameras\n",
    "  + Light level\n",
    "\n"
   ]
  },
  {
   "cell_type": "markdown",
   "metadata": {
    "cell_style": "split",
    "slideshow": {
     "slide_type": "-"
    }
   },
   "source": []
  },
  {
   "cell_type": "code",
   "execution_count": null,
   "metadata": {},
   "outputs": [],
   "source": []
  },
  {
   "cell_type": "markdown",
   "metadata": {
    "cell_style": "split",
    "slideshow": {
     "slide_type": "subslide"
    }
   },
   "source": [
    "#### Radio Waves\n",
    "    + FM Radio\n",
    "    + Radar\n",
    "    + Radio Astronomy \n",
    "    "
   ]
  },
  {
   "cell_type": "markdown",
   "metadata": {
    "cell_style": "split",
    "slideshow": {
     "slide_type": "-"
    }
   },
   "source": [
    "<img src=\"HW_tutorial_freq.png\" width=\"100%\">\n",
    "\n",
    "https://wiki.gnuradio.org/index.php/Guided_Tutorial_Hardware_Considerations"
   ]
  },
  {
   "cell_type": "code",
   "execution_count": null,
   "metadata": {
    "slideshow": {
     "slide_type": "skip"
    }
   },
   "outputs": [],
   "source": []
  },
  {
   "cell_type": "markdown",
   "metadata": {
    "cell_style": "split",
    "slideshow": {
     "slide_type": "subslide"
    }
   },
   "source": [
    "##### Radar\n",
    "  + Detecting aircraft, ships, ...\n",
    "  + Automotive distance sensing\n",
    "  + Imaging Astreroids\n",
    "    + Beyond the ability of optical telescopes\n",
    "    + Each image ~2Km square\n",
    "    + ~20X Earth-Moon distance\n",
    "\n"
   ]
  },
  {
   "cell_type": "markdown",
   "metadata": {
    "cell_style": "split",
    "slideshow": {
     "slide_type": "-"
    }
   },
   "source": [
    "https://www.jpl.nasa.gov/news/nine-radar-images-of-asteroid-2007-pa8\n",
    "\n",
    "<img src=\"astro_sar_img.jpg\" width=\"100%\">"
   ]
  },
  {
   "cell_type": "code",
   "execution_count": null,
   "metadata": {
    "slideshow": {
     "slide_type": "notes"
    }
   },
   "outputs": [],
   "source": []
  },
  {
   "cell_type": "markdown",
   "metadata": {
    "cell_style": "split",
    "slideshow": {
     "slide_type": "subslide"
    }
   },
   "source": [
    "#### Radio Astronomy\n",
    "\n",
    "<img src=\"USA.NM.VeryLargeArray.02.jpg\" width=\"100%\">\n",
    "\n",
    "https://en.wikipedia.org/wiki/Very_Large_Array\n",
    "\n",
    "\n",
    "https://public.nrao.edu/telescopes/vla/"
   ]
  },
  {
   "cell_type": "markdown",
   "metadata": {
    "cell_style": "split",
    "slideshow": {
     "slide_type": "-"
    }
   },
   "source": []
  },
  {
   "cell_type": "markdown",
   "metadata": {
    "slideshow": {
     "slide_type": "notes"
    }
   },
   "source": []
  },
  {
   "cell_type": "markdown",
   "metadata": {
    "slideshow": {
     "slide_type": "notes"
    }
   },
   "source": [
    "#### Examples of Signals\n",
    "\n",
    "  + Sound\n",
    "  + Sea Level\n",
    "  + Stock Prices\n",
    "  + Sun Spots\n",
    "  + Gravity Waves\n",
    "  + Electrical \n",
    "  + Electromagnetic waves\n",
    "    + Light\n",
    "    + Radio Waves\n",
    "    + Communications\n",
    "    + Radar\n",
    "    + \n",
    "    "
   ]
  },
  {
   "cell_type": "markdown",
   "metadata": {
    "slideshow": {
     "slide_type": "slide"
    }
   },
   "source": [
    "##  Basic RF problems\n",
    "\n",
    "#### Communication\n",
    "  + Getting data between places\n",
    "\n",
    "#### Radar\n",
    "  + Using radio waves to sense something\n",
    "\n",
    "#### Passive Inference\n",
    "  + Using Emotions that already exist what can I figure out"
   ]
  },
  {
   "cell_type": "markdown",
   "metadata": {},
   "source": []
  },
  {
   "cell_type": "markdown",
   "metadata": {},
   "source": []
  },
  {
   "cell_type": "markdown",
   "metadata": {
    "cell_style": "split",
    "slideshow": {
     "slide_type": "slide"
    }
   },
   "source": [
    "## Continuous and Discrete Signals\n",
    "\n",
    "\n",
    "  + Analog to Digital Conversion\n",
    "  + Digital to Analog Conversion\n",
    "  + $\\delta $ (Delta) Function\n",
    "  + Nyquist Sampling\n",
    "\n"
   ]
  },
  {
   "cell_type": "markdown",
   "metadata": {
    "cell_style": "split",
    "slideshow": {
     "slide_type": "-"
    }
   },
   "source": [
    "\n",
    "\n",
    "<img src=\"sine_wave_sampled.gif?0\" width=\"100%\">"
   ]
  },
  {
   "cell_type": "markdown",
   "metadata": {
    "slideshow": {
     "slide_type": "notes"
    }
   },
   "source": []
  },
  {
   "cell_type": "markdown",
   "metadata": {
    "cell_style": "split",
    "slideshow": {
     "slide_type": "subslide"
    }
   },
   "source": [
    "### Continuous\n",
    "\n",
    "  + Defined at every point\n",
    "  + Can be infinite in bandwidth\n",
    "  + Convertible to Discrete by a process called sampling\n"
   ]
  },
  {
   "cell_type": "markdown",
   "metadata": {
    "cell_style": "split",
    "slideshow": {
     "slide_type": "subslide"
    }
   },
   "source": [
    "### Discrete\n",
    "\n",
    "  + Series of values\n",
    "  + Only defined at discrete points in time\n",
    "  + Maximum bandwidth of $ f_s / 2 $\n",
    "    + Nyquist"
   ]
  },
  {
   "cell_type": "code",
   "execution_count": null,
   "metadata": {
    "slideshow": {
     "slide_type": "notes"
    }
   },
   "outputs": [],
   "source": []
  },
  {
   "cell_type": "markdown",
   "metadata": {
    "cell_style": "split",
    "slideshow": {
     "slide_type": "subslide"
    }
   },
   "source": [
    "### Sampling\n",
    "\n",
    "  + Analog to Digital Conversion\n",
    "  \n",
    " $$ S[n] = \\sum_{i}^{-\\infty \\dots \\infty} s(t) \\cdot \\delta(t-i) $$\n",
    " \n",
    " <img src=\"pulse_train.png?1\" width=\"100%\">"
   ]
  },
  {
   "cell_type": "markdown",
   "metadata": {
    "cell_style": "split",
    "slideshow": {
     "slide_type": "-"
    }
   },
   "source": [
    "\n",
    "\n",
    "#### $ \\delta $ (Delta) Function\n",
    "\n",
    "$$ \\delta (t) = \\Big \\{ \\begin{matrix} \\infty \\: :\\quad t=0 \\\\ \\quad 0 : \\quad otherwise \\end{matrix} $$\n",
    "\n",
    "$$ 1 = \\int_{-\\infty}^{\\infty} \\delta(t) \\: dt $$\n",
    "\n",
    "\n"
   ]
  },
  {
   "cell_type": "markdown",
   "metadata": {
    "slideshow": {
     "slide_type": "notes"
    }
   },
   "source": []
  },
  {
   "cell_type": "markdown",
   "metadata": {
    "cell_style": "split",
    "slideshow": {
     "slide_type": "subslide"
    }
   },
   "source": [
    "### Nyquist\n",
    "\n",
    "  + Sampling two or more times faster than the bandwidth of the signal\n",
    "  + Critera for signal recovery\n",
    "  + Often systems operate faster\n",
    "  \n",
    "  $$ BW < \\cfrac{f_s}{2} $$"
   ]
  },
  {
   "cell_type": "markdown",
   "metadata": {
    "cell_style": "split",
    "slideshow": {
     "slide_type": "fragment"
    }
   },
   "source": [
    "<img src=\"1920px-Aliasing-folding_SVG.svg.png\" width=\"100%\">\n",
    "\n",
    "[https://en.wikipedia.org/wiki/Nyquist_frequency](https://en.wikipedia.org/wiki/Nyquist_frequency)"
   ]
  },
  {
   "cell_type": "code",
   "execution_count": null,
   "metadata": {
    "slideshow": {
     "slide_type": "notes"
    }
   },
   "outputs": [],
   "source": []
  },
  {
   "cell_type": "markdown",
   "metadata": {
    "cell_style": "split",
    "slideshow": {
     "slide_type": "subslide"
    }
   },
   "source": [
    "### Time Series\n",
    "  + Sampled at a regular times\n",
    "  + Identical Sampling"
   ]
  },
  {
   "cell_type": "markdown",
   "metadata": {
    "cell_style": "split",
    "slideshow": {
     "slide_type": "-"
    }
   },
   "source": [
    "<img src=\"sine_wave_sampled.gif?0\" width=\"100%\">"
   ]
  },
  {
   "cell_type": "markdown",
   "metadata": {
    "slideshow": {
     "slide_type": "notes"
    }
   },
   "source": []
  },
  {
   "cell_type": "code",
   "execution_count": 3,
   "metadata": {
    "scrolled": false,
    "slideshow": {
     "slide_type": "subslide"
    }
   },
   "outputs": [
    {
     "data": {
      "application/javascript": [
       "/* Put everything inside the global mpl namespace */\n",
       "window.mpl = {};\n",
       "\n",
       "\n",
       "mpl.get_websocket_type = function() {\n",
       "    if (typeof(WebSocket) !== 'undefined') {\n",
       "        return WebSocket;\n",
       "    } else if (typeof(MozWebSocket) !== 'undefined') {\n",
       "        return MozWebSocket;\n",
       "    } else {\n",
       "        alert('Your browser does not have WebSocket support. ' +\n",
       "              'Please try Chrome, Safari or Firefox ≥ 6. ' +\n",
       "              'Firefox 4 and 5 are also supported but you ' +\n",
       "              'have to enable WebSockets in about:config.');\n",
       "    };\n",
       "}\n",
       "\n",
       "mpl.figure = function(figure_id, websocket, ondownload, parent_element) {\n",
       "    this.id = figure_id;\n",
       "\n",
       "    this.ws = websocket;\n",
       "\n",
       "    this.supports_binary = (this.ws.binaryType != undefined);\n",
       "\n",
       "    if (!this.supports_binary) {\n",
       "        var warnings = document.getElementById(\"mpl-warnings\");\n",
       "        if (warnings) {\n",
       "            warnings.style.display = 'block';\n",
       "            warnings.textContent = (\n",
       "                \"This browser does not support binary websocket messages. \" +\n",
       "                    \"Performance may be slow.\");\n",
       "        }\n",
       "    }\n",
       "\n",
       "    this.imageObj = new Image();\n",
       "\n",
       "    this.context = undefined;\n",
       "    this.message = undefined;\n",
       "    this.canvas = undefined;\n",
       "    this.rubberband_canvas = undefined;\n",
       "    this.rubberband_context = undefined;\n",
       "    this.format_dropdown = undefined;\n",
       "\n",
       "    this.image_mode = 'full';\n",
       "\n",
       "    this.root = $('<div/>');\n",
       "    this._root_extra_style(this.root)\n",
       "    this.root.attr('style', 'display: inline-block');\n",
       "\n",
       "    $(parent_element).append(this.root);\n",
       "\n",
       "    this._init_header(this);\n",
       "    this._init_canvas(this);\n",
       "    this._init_toolbar(this);\n",
       "\n",
       "    var fig = this;\n",
       "\n",
       "    this.waiting = false;\n",
       "\n",
       "    this.ws.onopen =  function () {\n",
       "            fig.send_message(\"supports_binary\", {value: fig.supports_binary});\n",
       "            fig.send_message(\"send_image_mode\", {});\n",
       "            if (mpl.ratio != 1) {\n",
       "                fig.send_message(\"set_dpi_ratio\", {'dpi_ratio': mpl.ratio});\n",
       "            }\n",
       "            fig.send_message(\"refresh\", {});\n",
       "        }\n",
       "\n",
       "    this.imageObj.onload = function() {\n",
       "            if (fig.image_mode == 'full') {\n",
       "                // Full images could contain transparency (where diff images\n",
       "                // almost always do), so we need to clear the canvas so that\n",
       "                // there is no ghosting.\n",
       "                fig.context.clearRect(0, 0, fig.canvas.width, fig.canvas.height);\n",
       "            }\n",
       "            fig.context.drawImage(fig.imageObj, 0, 0);\n",
       "        };\n",
       "\n",
       "    this.imageObj.onunload = function() {\n",
       "        fig.ws.close();\n",
       "    }\n",
       "\n",
       "    this.ws.onmessage = this._make_on_message_function(this);\n",
       "\n",
       "    this.ondownload = ondownload;\n",
       "}\n",
       "\n",
       "mpl.figure.prototype._init_header = function() {\n",
       "    var titlebar = $(\n",
       "        '<div class=\"ui-dialog-titlebar ui-widget-header ui-corner-all ' +\n",
       "        'ui-helper-clearfix\"/>');\n",
       "    var titletext = $(\n",
       "        '<div class=\"ui-dialog-title\" style=\"width: 100%; ' +\n",
       "        'text-align: center; padding: 3px;\"/>');\n",
       "    titlebar.append(titletext)\n",
       "    this.root.append(titlebar);\n",
       "    this.header = titletext[0];\n",
       "}\n",
       "\n",
       "\n",
       "\n",
       "mpl.figure.prototype._canvas_extra_style = function(canvas_div) {\n",
       "\n",
       "}\n",
       "\n",
       "\n",
       "mpl.figure.prototype._root_extra_style = function(canvas_div) {\n",
       "\n",
       "}\n",
       "\n",
       "mpl.figure.prototype._init_canvas = function() {\n",
       "    var fig = this;\n",
       "\n",
       "    var canvas_div = $('<div/>');\n",
       "\n",
       "    canvas_div.attr('style', 'position: relative; clear: both; outline: 0');\n",
       "\n",
       "    function canvas_keyboard_event(event) {\n",
       "        return fig.key_event(event, event['data']);\n",
       "    }\n",
       "\n",
       "    canvas_div.keydown('key_press', canvas_keyboard_event);\n",
       "    canvas_div.keyup('key_release', canvas_keyboard_event);\n",
       "    this.canvas_div = canvas_div\n",
       "    this._canvas_extra_style(canvas_div)\n",
       "    this.root.append(canvas_div);\n",
       "\n",
       "    var canvas = $('<canvas/>');\n",
       "    canvas.addClass('mpl-canvas');\n",
       "    canvas.attr('style', \"left: 0; top: 0; z-index: 0; outline: 0\")\n",
       "\n",
       "    this.canvas = canvas[0];\n",
       "    this.context = canvas[0].getContext(\"2d\");\n",
       "\n",
       "    var backingStore = this.context.backingStorePixelRatio ||\n",
       "\tthis.context.webkitBackingStorePixelRatio ||\n",
       "\tthis.context.mozBackingStorePixelRatio ||\n",
       "\tthis.context.msBackingStorePixelRatio ||\n",
       "\tthis.context.oBackingStorePixelRatio ||\n",
       "\tthis.context.backingStorePixelRatio || 1;\n",
       "\n",
       "    mpl.ratio = (window.devicePixelRatio || 1) / backingStore;\n",
       "\n",
       "    var rubberband = $('<canvas/>');\n",
       "    rubberband.attr('style', \"position: absolute; left: 0; top: 0; z-index: 1;\")\n",
       "\n",
       "    var pass_mouse_events = true;\n",
       "\n",
       "    canvas_div.resizable({\n",
       "        start: function(event, ui) {\n",
       "            pass_mouse_events = false;\n",
       "        },\n",
       "        resize: function(event, ui) {\n",
       "            fig.request_resize(ui.size.width, ui.size.height);\n",
       "        },\n",
       "        stop: function(event, ui) {\n",
       "            pass_mouse_events = true;\n",
       "            fig.request_resize(ui.size.width, ui.size.height);\n",
       "        },\n",
       "    });\n",
       "\n",
       "    function mouse_event_fn(event) {\n",
       "        if (pass_mouse_events)\n",
       "            return fig.mouse_event(event, event['data']);\n",
       "    }\n",
       "\n",
       "    rubberband.mousedown('button_press', mouse_event_fn);\n",
       "    rubberband.mouseup('button_release', mouse_event_fn);\n",
       "    // Throttle sequential mouse events to 1 every 20ms.\n",
       "    rubberband.mousemove('motion_notify', mouse_event_fn);\n",
       "\n",
       "    rubberband.mouseenter('figure_enter', mouse_event_fn);\n",
       "    rubberband.mouseleave('figure_leave', mouse_event_fn);\n",
       "\n",
       "    canvas_div.on(\"wheel\", function (event) {\n",
       "        event = event.originalEvent;\n",
       "        event['data'] = 'scroll'\n",
       "        if (event.deltaY < 0) {\n",
       "            event.step = 1;\n",
       "        } else {\n",
       "            event.step = -1;\n",
       "        }\n",
       "        mouse_event_fn(event);\n",
       "    });\n",
       "\n",
       "    canvas_div.append(canvas);\n",
       "    canvas_div.append(rubberband);\n",
       "\n",
       "    this.rubberband = rubberband;\n",
       "    this.rubberband_canvas = rubberband[0];\n",
       "    this.rubberband_context = rubberband[0].getContext(\"2d\");\n",
       "    this.rubberband_context.strokeStyle = \"#000000\";\n",
       "\n",
       "    this._resize_canvas = function(width, height) {\n",
       "        // Keep the size of the canvas, canvas container, and rubber band\n",
       "        // canvas in synch.\n",
       "        canvas_div.css('width', width)\n",
       "        canvas_div.css('height', height)\n",
       "\n",
       "        canvas.attr('width', width * mpl.ratio);\n",
       "        canvas.attr('height', height * mpl.ratio);\n",
       "        canvas.attr('style', 'width: ' + width + 'px; height: ' + height + 'px;');\n",
       "\n",
       "        rubberband.attr('width', width);\n",
       "        rubberband.attr('height', height);\n",
       "    }\n",
       "\n",
       "    // Set the figure to an initial 600x600px, this will subsequently be updated\n",
       "    // upon first draw.\n",
       "    this._resize_canvas(600, 600);\n",
       "\n",
       "    // Disable right mouse context menu.\n",
       "    $(this.rubberband_canvas).bind(\"contextmenu\",function(e){\n",
       "        return false;\n",
       "    });\n",
       "\n",
       "    function set_focus () {\n",
       "        canvas.focus();\n",
       "        canvas_div.focus();\n",
       "    }\n",
       "\n",
       "    window.setTimeout(set_focus, 100);\n",
       "}\n",
       "\n",
       "mpl.figure.prototype._init_toolbar = function() {\n",
       "    var fig = this;\n",
       "\n",
       "    var nav_element = $('<div/>');\n",
       "    nav_element.attr('style', 'width: 100%');\n",
       "    this.root.append(nav_element);\n",
       "\n",
       "    // Define a callback function for later on.\n",
       "    function toolbar_event(event) {\n",
       "        return fig.toolbar_button_onclick(event['data']);\n",
       "    }\n",
       "    function toolbar_mouse_event(event) {\n",
       "        return fig.toolbar_button_onmouseover(event['data']);\n",
       "    }\n",
       "\n",
       "    for(var toolbar_ind in mpl.toolbar_items) {\n",
       "        var name = mpl.toolbar_items[toolbar_ind][0];\n",
       "        var tooltip = mpl.toolbar_items[toolbar_ind][1];\n",
       "        var image = mpl.toolbar_items[toolbar_ind][2];\n",
       "        var method_name = mpl.toolbar_items[toolbar_ind][3];\n",
       "\n",
       "        if (!name) {\n",
       "            // put a spacer in here.\n",
       "            continue;\n",
       "        }\n",
       "        var button = $('<button/>');\n",
       "        button.addClass('ui-button ui-widget ui-state-default ui-corner-all ' +\n",
       "                        'ui-button-icon-only');\n",
       "        button.attr('role', 'button');\n",
       "        button.attr('aria-disabled', 'false');\n",
       "        button.click(method_name, toolbar_event);\n",
       "        button.mouseover(tooltip, toolbar_mouse_event);\n",
       "\n",
       "        var icon_img = $('<span/>');\n",
       "        icon_img.addClass('ui-button-icon-primary ui-icon');\n",
       "        icon_img.addClass(image);\n",
       "        icon_img.addClass('ui-corner-all');\n",
       "\n",
       "        var tooltip_span = $('<span/>');\n",
       "        tooltip_span.addClass('ui-button-text');\n",
       "        tooltip_span.html(tooltip);\n",
       "\n",
       "        button.append(icon_img);\n",
       "        button.append(tooltip_span);\n",
       "\n",
       "        nav_element.append(button);\n",
       "    }\n",
       "\n",
       "    var fmt_picker_span = $('<span/>');\n",
       "\n",
       "    var fmt_picker = $('<select/>');\n",
       "    fmt_picker.addClass('mpl-toolbar-option ui-widget ui-widget-content');\n",
       "    fmt_picker_span.append(fmt_picker);\n",
       "    nav_element.append(fmt_picker_span);\n",
       "    this.format_dropdown = fmt_picker[0];\n",
       "\n",
       "    for (var ind in mpl.extensions) {\n",
       "        var fmt = mpl.extensions[ind];\n",
       "        var option = $(\n",
       "            '<option/>', {selected: fmt === mpl.default_extension}).html(fmt);\n",
       "        fmt_picker.append(option);\n",
       "    }\n",
       "\n",
       "    // Add hover states to the ui-buttons\n",
       "    $( \".ui-button\" ).hover(\n",
       "        function() { $(this).addClass(\"ui-state-hover\");},\n",
       "        function() { $(this).removeClass(\"ui-state-hover\");}\n",
       "    );\n",
       "\n",
       "    var status_bar = $('<span class=\"mpl-message\"/>');\n",
       "    nav_element.append(status_bar);\n",
       "    this.message = status_bar[0];\n",
       "}\n",
       "\n",
       "mpl.figure.prototype.request_resize = function(x_pixels, y_pixels) {\n",
       "    // Request matplotlib to resize the figure. Matplotlib will then trigger a resize in the client,\n",
       "    // which will in turn request a refresh of the image.\n",
       "    this.send_message('resize', {'width': x_pixels, 'height': y_pixels});\n",
       "}\n",
       "\n",
       "mpl.figure.prototype.send_message = function(type, properties) {\n",
       "    properties['type'] = type;\n",
       "    properties['figure_id'] = this.id;\n",
       "    this.ws.send(JSON.stringify(properties));\n",
       "}\n",
       "\n",
       "mpl.figure.prototype.send_draw_message = function() {\n",
       "    if (!this.waiting) {\n",
       "        this.waiting = true;\n",
       "        this.ws.send(JSON.stringify({type: \"draw\", figure_id: this.id}));\n",
       "    }\n",
       "}\n",
       "\n",
       "\n",
       "mpl.figure.prototype.handle_save = function(fig, msg) {\n",
       "    var format_dropdown = fig.format_dropdown;\n",
       "    var format = format_dropdown.options[format_dropdown.selectedIndex].value;\n",
       "    fig.ondownload(fig, format);\n",
       "}\n",
       "\n",
       "\n",
       "mpl.figure.prototype.handle_resize = function(fig, msg) {\n",
       "    var size = msg['size'];\n",
       "    if (size[0] != fig.canvas.width || size[1] != fig.canvas.height) {\n",
       "        fig._resize_canvas(size[0], size[1]);\n",
       "        fig.send_message(\"refresh\", {});\n",
       "    };\n",
       "}\n",
       "\n",
       "mpl.figure.prototype.handle_rubberband = function(fig, msg) {\n",
       "    var x0 = msg['x0'] / mpl.ratio;\n",
       "    var y0 = (fig.canvas.height - msg['y0']) / mpl.ratio;\n",
       "    var x1 = msg['x1'] / mpl.ratio;\n",
       "    var y1 = (fig.canvas.height - msg['y1']) / mpl.ratio;\n",
       "    x0 = Math.floor(x0) + 0.5;\n",
       "    y0 = Math.floor(y0) + 0.5;\n",
       "    x1 = Math.floor(x1) + 0.5;\n",
       "    y1 = Math.floor(y1) + 0.5;\n",
       "    var min_x = Math.min(x0, x1);\n",
       "    var min_y = Math.min(y0, y1);\n",
       "    var width = Math.abs(x1 - x0);\n",
       "    var height = Math.abs(y1 - y0);\n",
       "\n",
       "    fig.rubberband_context.clearRect(\n",
       "        0, 0, fig.canvas.width / mpl.ratio, fig.canvas.height / mpl.ratio);\n",
       "\n",
       "    fig.rubberband_context.strokeRect(min_x, min_y, width, height);\n",
       "}\n",
       "\n",
       "mpl.figure.prototype.handle_figure_label = function(fig, msg) {\n",
       "    // Updates the figure title.\n",
       "    fig.header.textContent = msg['label'];\n",
       "}\n",
       "\n",
       "mpl.figure.prototype.handle_cursor = function(fig, msg) {\n",
       "    var cursor = msg['cursor'];\n",
       "    switch(cursor)\n",
       "    {\n",
       "    case 0:\n",
       "        cursor = 'pointer';\n",
       "        break;\n",
       "    case 1:\n",
       "        cursor = 'default';\n",
       "        break;\n",
       "    case 2:\n",
       "        cursor = 'crosshair';\n",
       "        break;\n",
       "    case 3:\n",
       "        cursor = 'move';\n",
       "        break;\n",
       "    }\n",
       "    fig.rubberband_canvas.style.cursor = cursor;\n",
       "}\n",
       "\n",
       "mpl.figure.prototype.handle_message = function(fig, msg) {\n",
       "    fig.message.textContent = msg['message'];\n",
       "}\n",
       "\n",
       "mpl.figure.prototype.handle_draw = function(fig, msg) {\n",
       "    // Request the server to send over a new figure.\n",
       "    fig.send_draw_message();\n",
       "}\n",
       "\n",
       "mpl.figure.prototype.handle_image_mode = function(fig, msg) {\n",
       "    fig.image_mode = msg['mode'];\n",
       "}\n",
       "\n",
       "mpl.figure.prototype.updated_canvas_event = function() {\n",
       "    // Called whenever the canvas gets updated.\n",
       "    this.send_message(\"ack\", {});\n",
       "}\n",
       "\n",
       "// A function to construct a web socket function for onmessage handling.\n",
       "// Called in the figure constructor.\n",
       "mpl.figure.prototype._make_on_message_function = function(fig) {\n",
       "    return function socket_on_message(evt) {\n",
       "        if (evt.data instanceof Blob) {\n",
       "            /* FIXME: We get \"Resource interpreted as Image but\n",
       "             * transferred with MIME type text/plain:\" errors on\n",
       "             * Chrome.  But how to set the MIME type?  It doesn't seem\n",
       "             * to be part of the websocket stream */\n",
       "            evt.data.type = \"image/png\";\n",
       "\n",
       "            /* Free the memory for the previous frames */\n",
       "            if (fig.imageObj.src) {\n",
       "                (window.URL || window.webkitURL).revokeObjectURL(\n",
       "                    fig.imageObj.src);\n",
       "            }\n",
       "\n",
       "            fig.imageObj.src = (window.URL || window.webkitURL).createObjectURL(\n",
       "                evt.data);\n",
       "            fig.updated_canvas_event();\n",
       "            fig.waiting = false;\n",
       "            return;\n",
       "        }\n",
       "        else if (typeof evt.data === 'string' && evt.data.slice(0, 21) == \"data:image/png;base64\") {\n",
       "            fig.imageObj.src = evt.data;\n",
       "            fig.updated_canvas_event();\n",
       "            fig.waiting = false;\n",
       "            return;\n",
       "        }\n",
       "\n",
       "        var msg = JSON.parse(evt.data);\n",
       "        var msg_type = msg['type'];\n",
       "\n",
       "        // Call the  \"handle_{type}\" callback, which takes\n",
       "        // the figure and JSON message as its only arguments.\n",
       "        try {\n",
       "            var callback = fig[\"handle_\" + msg_type];\n",
       "        } catch (e) {\n",
       "            console.log(\"No handler for the '\" + msg_type + \"' message type: \", msg);\n",
       "            return;\n",
       "        }\n",
       "\n",
       "        if (callback) {\n",
       "            try {\n",
       "                // console.log(\"Handling '\" + msg_type + \"' message: \", msg);\n",
       "                callback(fig, msg);\n",
       "            } catch (e) {\n",
       "                console.log(\"Exception inside the 'handler_\" + msg_type + \"' callback:\", e, e.stack, msg);\n",
       "            }\n",
       "        }\n",
       "    };\n",
       "}\n",
       "\n",
       "// from http://stackoverflow.com/questions/1114465/getting-mouse-location-in-canvas\n",
       "mpl.findpos = function(e) {\n",
       "    //this section is from http://www.quirksmode.org/js/events_properties.html\n",
       "    var targ;\n",
       "    if (!e)\n",
       "        e = window.event;\n",
       "    if (e.target)\n",
       "        targ = e.target;\n",
       "    else if (e.srcElement)\n",
       "        targ = e.srcElement;\n",
       "    if (targ.nodeType == 3) // defeat Safari bug\n",
       "        targ = targ.parentNode;\n",
       "\n",
       "    // jQuery normalizes the pageX and pageY\n",
       "    // pageX,Y are the mouse positions relative to the document\n",
       "    // offset() returns the position of the element relative to the document\n",
       "    var x = e.pageX - $(targ).offset().left;\n",
       "    var y = e.pageY - $(targ).offset().top;\n",
       "\n",
       "    return {\"x\": x, \"y\": y};\n",
       "};\n",
       "\n",
       "/*\n",
       " * return a copy of an object with only non-object keys\n",
       " * we need this to avoid circular references\n",
       " * http://stackoverflow.com/a/24161582/3208463\n",
       " */\n",
       "function simpleKeys (original) {\n",
       "  return Object.keys(original).reduce(function (obj, key) {\n",
       "    if (typeof original[key] !== 'object')\n",
       "        obj[key] = original[key]\n",
       "    return obj;\n",
       "  }, {});\n",
       "}\n",
       "\n",
       "mpl.figure.prototype.mouse_event = function(event, name) {\n",
       "    var canvas_pos = mpl.findpos(event)\n",
       "\n",
       "    if (name === 'button_press')\n",
       "    {\n",
       "        this.canvas.focus();\n",
       "        this.canvas_div.focus();\n",
       "    }\n",
       "\n",
       "    var x = canvas_pos.x * mpl.ratio;\n",
       "    var y = canvas_pos.y * mpl.ratio;\n",
       "\n",
       "    this.send_message(name, {x: x, y: y, button: event.button,\n",
       "                             step: event.step,\n",
       "                             guiEvent: simpleKeys(event)});\n",
       "\n",
       "    /* This prevents the web browser from automatically changing to\n",
       "     * the text insertion cursor when the button is pressed.  We want\n",
       "     * to control all of the cursor setting manually through the\n",
       "     * 'cursor' event from matplotlib */\n",
       "    event.preventDefault();\n",
       "    return false;\n",
       "}\n",
       "\n",
       "mpl.figure.prototype._key_event_extra = function(event, name) {\n",
       "    // Handle any extra behaviour associated with a key event\n",
       "}\n",
       "\n",
       "mpl.figure.prototype.key_event = function(event, name) {\n",
       "\n",
       "    // Prevent repeat events\n",
       "    if (name == 'key_press')\n",
       "    {\n",
       "        if (event.which === this._key)\n",
       "            return;\n",
       "        else\n",
       "            this._key = event.which;\n",
       "    }\n",
       "    if (name == 'key_release')\n",
       "        this._key = null;\n",
       "\n",
       "    var value = '';\n",
       "    if (event.ctrlKey && event.which != 17)\n",
       "        value += \"ctrl+\";\n",
       "    if (event.altKey && event.which != 18)\n",
       "        value += \"alt+\";\n",
       "    if (event.shiftKey && event.which != 16)\n",
       "        value += \"shift+\";\n",
       "\n",
       "    value += 'k';\n",
       "    value += event.which.toString();\n",
       "\n",
       "    this._key_event_extra(event, name);\n",
       "\n",
       "    this.send_message(name, {key: value,\n",
       "                             guiEvent: simpleKeys(event)});\n",
       "    return false;\n",
       "}\n",
       "\n",
       "mpl.figure.prototype.toolbar_button_onclick = function(name) {\n",
       "    if (name == 'download') {\n",
       "        this.handle_save(this, null);\n",
       "    } else {\n",
       "        this.send_message(\"toolbar_button\", {name: name});\n",
       "    }\n",
       "};\n",
       "\n",
       "mpl.figure.prototype.toolbar_button_onmouseover = function(tooltip) {\n",
       "    this.message.textContent = tooltip;\n",
       "};\n",
       "mpl.toolbar_items = [[\"Home\", \"Reset original view\", \"fa fa-home icon-home\", \"home\"], [\"Back\", \"Back to previous view\", \"fa fa-arrow-left icon-arrow-left\", \"back\"], [\"Forward\", \"Forward to next view\", \"fa fa-arrow-right icon-arrow-right\", \"forward\"], [\"\", \"\", \"\", \"\"], [\"Pan\", \"Pan axes with left mouse, zoom with right\", \"fa fa-arrows icon-move\", \"pan\"], [\"Zoom\", \"Zoom to rectangle\", \"fa fa-square-o icon-check-empty\", \"zoom\"], [\"\", \"\", \"\", \"\"], [\"Download\", \"Download plot\", \"fa fa-floppy-o icon-save\", \"download\"]];\n",
       "\n",
       "mpl.extensions = [\"eps\", \"pdf\", \"png\", \"ps\", \"raw\", \"svg\"];\n",
       "\n",
       "mpl.default_extension = \"png\";var comm_websocket_adapter = function(comm) {\n",
       "    // Create a \"websocket\"-like object which calls the given IPython comm\n",
       "    // object with the appropriate methods. Currently this is a non binary\n",
       "    // socket, so there is still some room for performance tuning.\n",
       "    var ws = {};\n",
       "\n",
       "    ws.close = function() {\n",
       "        comm.close()\n",
       "    };\n",
       "    ws.send = function(m) {\n",
       "        //console.log('sending', m);\n",
       "        comm.send(m);\n",
       "    };\n",
       "    // Register the callback with on_msg.\n",
       "    comm.on_msg(function(msg) {\n",
       "        //console.log('receiving', msg['content']['data'], msg);\n",
       "        // Pass the mpl event to the overridden (by mpl) onmessage function.\n",
       "        ws.onmessage(msg['content']['data'])\n",
       "    });\n",
       "    return ws;\n",
       "}\n",
       "\n",
       "mpl.mpl_figure_comm = function(comm, msg) {\n",
       "    // This is the function which gets called when the mpl process\n",
       "    // starts-up an IPython Comm through the \"matplotlib\" channel.\n",
       "\n",
       "    var id = msg.content.data.id;\n",
       "    // Get hold of the div created by the display call when the Comm\n",
       "    // socket was opened in Python.\n",
       "    var element = $(\"#\" + id);\n",
       "    var ws_proxy = comm_websocket_adapter(comm)\n",
       "\n",
       "    function ondownload(figure, format) {\n",
       "        window.open(figure.imageObj.src);\n",
       "    }\n",
       "\n",
       "    var fig = new mpl.figure(id, ws_proxy,\n",
       "                           ondownload,\n",
       "                           element.get(0));\n",
       "\n",
       "    // Call onopen now - mpl needs it, as it is assuming we've passed it a real\n",
       "    // web socket which is closed, not our websocket->open comm proxy.\n",
       "    ws_proxy.onopen();\n",
       "\n",
       "    fig.parent_element = element.get(0);\n",
       "    fig.cell_info = mpl.find_output_cell(\"<div id='\" + id + \"'></div>\");\n",
       "    if (!fig.cell_info) {\n",
       "        console.error(\"Failed to find cell for figure\", id, fig);\n",
       "        return;\n",
       "    }\n",
       "\n",
       "    var output_index = fig.cell_info[2]\n",
       "    var cell = fig.cell_info[0];\n",
       "\n",
       "};\n",
       "\n",
       "mpl.figure.prototype.handle_close = function(fig, msg) {\n",
       "    var width = fig.canvas.width/mpl.ratio\n",
       "    fig.root.unbind('remove')\n",
       "\n",
       "    // Update the output cell to use the data from the current canvas.\n",
       "    fig.push_to_output();\n",
       "    var dataURL = fig.canvas.toDataURL();\n",
       "    // Re-enable the keyboard manager in IPython - without this line, in FF,\n",
       "    // the notebook keyboard shortcuts fail.\n",
       "    IPython.keyboard_manager.enable()\n",
       "    $(fig.parent_element).html('<img src=\"' + dataURL + '\" width=\"' + width + '\">');\n",
       "    fig.close_ws(fig, msg);\n",
       "}\n",
       "\n",
       "mpl.figure.prototype.close_ws = function(fig, msg){\n",
       "    fig.send_message('closing', msg);\n",
       "    // fig.ws.close()\n",
       "}\n",
       "\n",
       "mpl.figure.prototype.push_to_output = function(remove_interactive) {\n",
       "    // Turn the data on the canvas into data in the output cell.\n",
       "    var width = this.canvas.width/mpl.ratio\n",
       "    var dataURL = this.canvas.toDataURL();\n",
       "    this.cell_info[1]['text/html'] = '<img src=\"' + dataURL + '\" width=\"' + width + '\">';\n",
       "}\n",
       "\n",
       "mpl.figure.prototype.updated_canvas_event = function() {\n",
       "    // Tell IPython that the notebook contents must change.\n",
       "    IPython.notebook.set_dirty(true);\n",
       "    this.send_message(\"ack\", {});\n",
       "    var fig = this;\n",
       "    // Wait a second, then push the new image to the DOM so\n",
       "    // that it is saved nicely (might be nice to debounce this).\n",
       "    setTimeout(function () { fig.push_to_output() }, 1000);\n",
       "}\n",
       "\n",
       "mpl.figure.prototype._init_toolbar = function() {\n",
       "    var fig = this;\n",
       "\n",
       "    var nav_element = $('<div/>');\n",
       "    nav_element.attr('style', 'width: 100%');\n",
       "    this.root.append(nav_element);\n",
       "\n",
       "    // Define a callback function for later on.\n",
       "    function toolbar_event(event) {\n",
       "        return fig.toolbar_button_onclick(event['data']);\n",
       "    }\n",
       "    function toolbar_mouse_event(event) {\n",
       "        return fig.toolbar_button_onmouseover(event['data']);\n",
       "    }\n",
       "\n",
       "    for(var toolbar_ind in mpl.toolbar_items){\n",
       "        var name = mpl.toolbar_items[toolbar_ind][0];\n",
       "        var tooltip = mpl.toolbar_items[toolbar_ind][1];\n",
       "        var image = mpl.toolbar_items[toolbar_ind][2];\n",
       "        var method_name = mpl.toolbar_items[toolbar_ind][3];\n",
       "\n",
       "        if (!name) { continue; };\n",
       "\n",
       "        var button = $('<button class=\"btn btn-default\" href=\"#\" title=\"' + name + '\"><i class=\"fa ' + image + ' fa-lg\"></i></button>');\n",
       "        button.click(method_name, toolbar_event);\n",
       "        button.mouseover(tooltip, toolbar_mouse_event);\n",
       "        nav_element.append(button);\n",
       "    }\n",
       "\n",
       "    // Add the status bar.\n",
       "    var status_bar = $('<span class=\"mpl-message\" style=\"text-align:right; float: right;\"/>');\n",
       "    nav_element.append(status_bar);\n",
       "    this.message = status_bar[0];\n",
       "\n",
       "    // Add the close button to the window.\n",
       "    var buttongrp = $('<div class=\"btn-group inline pull-right\"></div>');\n",
       "    var button = $('<button class=\"btn btn-mini btn-primary\" href=\"#\" title=\"Stop Interaction\"><i class=\"fa fa-power-off icon-remove icon-large\"></i></button>');\n",
       "    button.click(function (evt) { fig.handle_close(fig, {}); } );\n",
       "    button.mouseover('Stop Interaction', toolbar_mouse_event);\n",
       "    buttongrp.append(button);\n",
       "    var titlebar = this.root.find($('.ui-dialog-titlebar'));\n",
       "    titlebar.prepend(buttongrp);\n",
       "}\n",
       "\n",
       "mpl.figure.prototype._root_extra_style = function(el){\n",
       "    var fig = this\n",
       "    el.on(\"remove\", function(){\n",
       "\tfig.close_ws(fig, {});\n",
       "    });\n",
       "}\n",
       "\n",
       "mpl.figure.prototype._canvas_extra_style = function(el){\n",
       "    // this is important to make the div 'focusable\n",
       "    el.attr('tabindex', 0)\n",
       "    // reach out to IPython and tell the keyboard manager to turn it's self\n",
       "    // off when our div gets focus\n",
       "\n",
       "    // location in version 3\n",
       "    if (IPython.notebook.keyboard_manager) {\n",
       "        IPython.notebook.keyboard_manager.register_events(el);\n",
       "    }\n",
       "    else {\n",
       "        // location in version 2\n",
       "        IPython.keyboard_manager.register_events(el);\n",
       "    }\n",
       "\n",
       "}\n",
       "\n",
       "mpl.figure.prototype._key_event_extra = function(event, name) {\n",
       "    var manager = IPython.notebook.keyboard_manager;\n",
       "    if (!manager)\n",
       "        manager = IPython.keyboard_manager;\n",
       "\n",
       "    // Check for shift+enter\n",
       "    if (event.shiftKey && event.which == 13) {\n",
       "        this.canvas_div.blur();\n",
       "        // select the cell after this one\n",
       "        var index = IPython.notebook.find_cell_index(this.cell_info[0]);\n",
       "        IPython.notebook.select(index + 1);\n",
       "    }\n",
       "}\n",
       "\n",
       "mpl.figure.prototype.handle_save = function(fig, msg) {\n",
       "    fig.ondownload(fig, null);\n",
       "}\n",
       "\n",
       "\n",
       "mpl.find_output_cell = function(html_output) {\n",
       "    // Return the cell and output element which can be found *uniquely* in the notebook.\n",
       "    // Note - this is a bit hacky, but it is done because the \"notebook_saving.Notebook\"\n",
       "    // IPython event is triggered only after the cells have been serialised, which for\n",
       "    // our purposes (turning an active figure into a static one), is too late.\n",
       "    var cells = IPython.notebook.get_cells();\n",
       "    var ncells = cells.length;\n",
       "    for (var i=0; i<ncells; i++) {\n",
       "        var cell = cells[i];\n",
       "        if (cell.cell_type === 'code'){\n",
       "            for (var j=0; j<cell.output_area.outputs.length; j++) {\n",
       "                var data = cell.output_area.outputs[j];\n",
       "                if (data.data) {\n",
       "                    // IPython >= 3 moved mimebundle to data attribute of output\n",
       "                    data = data.data;\n",
       "                }\n",
       "                if (data['text/html'] == html_output) {\n",
       "                    return [cell, data, j];\n",
       "                }\n",
       "            }\n",
       "        }\n",
       "    }\n",
       "}\n",
       "\n",
       "// Register the function which deals with the matplotlib target/channel.\n",
       "// The kernel may be null if the page has been refreshed.\n",
       "if (IPython.notebook.kernel != null) {\n",
       "    IPython.notebook.kernel.comm_manager.register_target('matplotlib', mpl.mpl_figure_comm);\n",
       "}\n"
      ],
      "text/plain": [
       "<IPython.core.display.Javascript object>"
      ]
     },
     "metadata": {},
     "output_type": "display_data"
    },
    {
     "data": {
      "text/html": [
       "<img src=\"data:image/png;base64,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\" width=\"800\">"
      ],
      "text/plain": [
       "<IPython.core.display.HTML object>"
      ]
     },
     "metadata": {},
     "output_type": "display_data"
    },
    {
     "data": {
      "application/vnd.jupyter.widget-view+json": {
       "model_id": "e93733634e0f4d5e8e1d668ef50bc6a8",
       "version_major": 2,
       "version_minor": 0
      },
      "text/plain": [
       "interactive(children=(FloatSlider(value=10.0, description='sample_rate', max=25.0, min=1.0), FloatSlider(value…"
      ]
     },
     "metadata": {},
     "output_type": "display_data"
    }
   ],
   "source": [
    "t, sample_rate, frequency, phase = numpy.linspace(0, 4, 4001), 10, 1, 0\n",
    "signal = lambda t, f=1., phi=0: numpy.sin(2*pi*t*f+phi)\n",
    "\n",
    "fig, ax = plt.subplots()\n",
    "fig.set_size_inches(8,4)\n",
    "\n",
    "\n",
    "@interact(sample_rate=(1,25, 0.1), frequency=(-9,10, 0.1), phase=(-6, 6, 0.1))\n",
    "def sampled_sinwave(sample_rate=sample_rate, frequency=frequency, phase=0.):\n",
    "    ax.cla()\n",
    "    t_samples = numpy.arange(min(t), max(t), 1./sample_rate)\n",
    "    x, x_sampled = signal(t, frequency, phase), signal(t_samples, frequency, phase)\n",
    "    ax.plot(t, x, label='Original Signal')\n",
    "    ax.stem(t_samples, x_sampled, linefmt='r', label='Sampled', use_line_collection=True)\n",
    "    ax.plot(t_samples, x_sampled, '--k', label='Recovered')\n",
    "    ax.legend(loc='lower left')\n",
    "    fig.canvas.draw_idle()\n",
    "    fig.tight_layout()"
   ]
  },
  {
   "cell_type": "markdown",
   "metadata": {
    "cell_style": "center",
    "slideshow": {
     "slide_type": "slide"
    }
   },
   "source": [
    "##  Kinds of basic RF problems\n",
    "\n",
    "#### Communication\n",
    "  + Getting data between places\n",
    "\n",
    "#### Radar\n",
    "  + Using radio waves to sense something\n",
    "\n",
    "#### Passive Inference\n",
    "  + Using Emotions that already exist what can I figure out"
   ]
  },
  {
   "cell_type": "markdown",
   "metadata": {
    "slideshow": {
     "slide_type": "slide"
    }
   },
   "source": [
    "## What Signals We Are Considering\n",
    "\n"
   ]
  },
  {
   "cell_type": "markdown",
   "metadata": {
    "cell_style": "split",
    "slideshow": {
     "slide_type": "fragment"
    }
   },
   "source": [
    "## Time Series\n",
    "  + Sampled at a regular"
   ]
  },
  {
   "cell_type": "markdown",
   "metadata": {
    "cell_style": "split",
    "slideshow": {
     "slide_type": "fragment"
    }
   },
   "source": [
    "#### Radio Signals\n",
    "  + Can we capture it we a Software Defined Radio (SDR)\n",
    "  + Complex valued (pair of reals)"
   ]
  },
  {
   "cell_type": "markdown",
   "metadata": {
    "cell_style": "split",
    "slideshow": {
     "slide_type": "fragment"
    }
   },
   "source": [
    "### Single Channel\n",
    "  + 1 dimension to each sample"
   ]
  },
  {
   "cell_type": "markdown",
   "metadata": {
    "cell_style": "split",
    "slideshow": {
     "slide_type": "fragment"
    }
   },
   "source": [
    "### Narrowband\n",
    "  + Bandwidth of the signal is smaller than it's center frequency\n",
    "  "
   ]
  },
  {
   "cell_type": "markdown",
   "metadata": {
    "slideshow": {
     "slide_type": "notes"
    }
   },
   "source": []
  },
  {
   "cell_type": "markdown",
   "metadata": {
    "slideshow": {
     "slide_type": "slide"
    }
   },
   "source": [
    "## Properties of Operations on Signals (Systems)\n",
    "  + Linearity\n",
    "  + Time Inverance \n",
    "  + Bounded Input Bounded Output\n",
    "  + Dirivatives and Differences\n",
    "  + Integrates and Sumations \n",
    "  + Useful Non-linear Functions\n",
    "    + ABS\n",
    "    + Squared\n",
    "    + Distance\n",
    "    + Log and Decibels"
   ]
  },
  {
   "cell_type": "markdown",
   "metadata": {
    "slideshow": {
     "slide_type": "subslide"
    }
   },
   "source": [
    "### Linearity\n",
    "\n",
    "  + Additivity\n",
    "$$ f(a+b) = f(a) + f(b) $$\n",
    "\n",
    "\n",
    "\n",
    "  + Homogeneity \n",
    "$$ f(\\alpha \\: x) = \\alpha \\: f(x) $$\n",
    "\n",
    "\n",
    "\n",
    "  + Approximately linear\n",
    "  \n",
    "    + Useful approximation\n",
    "    \n",
    "    + For b << a $f(a+b)$ can be treated as linear\n",
    "    \n",
    "    $$ f(a+b) \\approx f(a) + f(b) \\quad for \\:\\: b << a $$"
   ]
  },
  {
   "cell_type": "markdown",
   "metadata": {
    "slideshow": {
     "slide_type": "subslide"
    }
   },
   "source": [
    "#### Linear ?\n",
    "Is the function linear, non-linear, Approximately linear?\n",
    "  \n",
    "  1.  \n",
    "  \n",
    "  $$ f(x) = 3 \\cdot x $$"
   ]
  },
  {
   "cell_type": "markdown",
   "metadata": {
    "slideshow": {
     "slide_type": "fragment"
    }
   },
   "source": [
    "  2. \n",
    "  \n",
    "  $$ f(x) = 0 \\cdot x $$"
   ]
  },
  {
   "cell_type": "markdown",
   "metadata": {
    "slideshow": {
     "slide_type": "fragment"
    }
   },
   "source": [
    "  3. \n",
    "  \n",
    "  $$ f(x) = 2 \\cdot x+1 $$"
   ]
  },
  {
   "cell_type": "markdown",
   "metadata": {
    "slideshow": {
     "slide_type": "fragment"
    }
   },
   "source": [
    "  4. \n",
    "  \n",
    "  $$ f(x) = x^{2} $$"
   ]
  },
  {
   "cell_type": "markdown",
   "metadata": {
    "slideshow": {
     "slide_type": "subslide"
    }
   },
   "source": [
    "### Time Inverance\n",
    "\n",
    "  + Function or System not dependent on what time it is\n",
    "  \n",
    "  $$ y(t) = f(x, t) = f(x, t+a) \\quad for \\: any \\: a $$"
   ]
  },
  {
   "cell_type": "markdown",
   "metadata": {
    "slideshow": {
     "slide_type": "fragment"
    }
   },
   "source": [
    "#### Time Inverent ?\n",
    "\n",
    "  1. \n",
    "  \n",
    "  $$ f(x) = 10 \\cdot x $$"
   ]
  },
  {
   "cell_type": "markdown",
   "metadata": {
    "slideshow": {
     "slide_type": "fragment"
    }
   },
   "source": [
    "  2. \n",
    "  $$ f(x) = x^{2} + 2x + 1 $$"
   ]
  },
  {
   "cell_type": "markdown",
   "metadata": {
    "slideshow": {
     "slide_type": "fragment"
    }
   },
   "source": [
    " 3. \n",
    "    $$ f(x) = t \\cdot x $$"
   ]
  },
  {
   "cell_type": "markdown",
   "metadata": {
    "slideshow": {
     "slide_type": "fragment"
    }
   },
   "source": [
    "  4. \n",
    "  $$ f(x) = x * \\delta(t-1) $$\n",
    "  \n",
    "    + What is that symbol \"$*$\" ? \n",
    "    + What about that other symbol \"$\\delta$\"?"
   ]
  },
  {
   "cell_type": "markdown",
   "metadata": {
    "slideshow": {
     "slide_type": "subslide"
    }
   },
   "source": [
    "###  Bounded Input Bounded Output\n",
    "\n",
    "  + For any input of limited energy the output energy is limited\n",
    "  \n",
    "$$ \\int_{- \\infty}^{\\infty} | \\: f(x) \\:  | \\: dt \\: < \\: \\infty  \\quad  for \\: \\int_{- \\infty}^{\\infty} | \\: x \\:  | \\: dt < \\infty$$"
   ]
  },
  {
   "cell_type": "markdown",
   "metadata": {
    "slideshow": {
     "slide_type": "fragment"
    }
   },
   "source": [
    "#### BIBO System?\n",
    "\n",
    "1. \n",
    "$$ f(x) = 5 \\cdot x + 2 $$"
   ]
  },
  {
   "cell_type": "markdown",
   "metadata": {
    "slideshow": {
     "slide_type": "fragment"
    }
   },
   "source": [
    "  2. \n",
    "  $$ f(x) = x^2 $$"
   ]
  },
  {
   "cell_type": "markdown",
   "metadata": {
    "slideshow": {
     "slide_type": "fragment"
    }
   },
   "source": [
    "  3. \n",
    "  $$ f(x) =  \\cfrac{1}{x} $$"
   ]
  },
  {
   "cell_type": "markdown",
   "metadata": {
    "slideshow": {
     "slide_type": "fragment"
    }
   },
   "source": [
    "  4. \n",
    "  $$ f(x) = \\int_{-\\infty}^{t} x^{2}(\\tau) \\: d \\tau $$"
   ]
  },
  {
   "cell_type": "markdown",
   "metadata": {
    "cell_style": "split",
    "slideshow": {
     "slide_type": "subslide"
    }
   },
   "source": [
    "### Derivative and Differences\n",
    "\n",
    "#### Derivative\n",
    "The rate of chage with respect to another variable.\n",
    "\n",
    "$$ \\begin{align} \n",
    "f(t) &= t^2 \\\\\n",
    "\\cfrac{d}{dt} f(t) &= f'(t) = 2 \\: t\n",
    "\\end{align}\n",
    "$$\n",
    "\n"
   ]
  },
  {
   "cell_type": "markdown",
   "metadata": {
    "cell_style": "split",
    "slideshow": {
     "slide_type": "fragment"
    }
   },
   "source": [
    "<img src=\"plot_dirivative_quad.gif\" width=\"100%\">"
   ]
  },
  {
   "cell_type": "markdown",
   "metadata": {
    "slideshow": {
     "slide_type": "subslide"
    }
   },
   "source": [
    "<img src=\"plot_dirivative_tri.gif?0\" width=\"90%\">"
   ]
  },
  {
   "cell_type": "markdown",
   "metadata": {
    "slideshow": {
     "slide_type": "subslide"
    }
   },
   "source": [
    "<img src=\"plot_dirivative_exp.gif\" width=\"90%\">"
   ]
  },
  {
   "cell_type": "markdown",
   "metadata": {
    "slideshow": {
     "slide_type": "subslide"
    }
   },
   "source": [
    "<img src=\"plot_dirivative_sin.gif\" width=\"100%\">"
   ]
  },
  {
   "cell_type": "markdown",
   "metadata": {
    "cell_style": "split"
   },
   "source": [
    "### Integral and Summation\n",
    "\n"
   ]
  },
  {
   "cell_type": "markdown",
   "metadata": {
    "cell_style": "split",
    "slideshow": {
     "slide_type": "-"
    }
   },
   "source": [
    "<img src=\"plot_integral_linear.gif\" width=\"100%\">"
   ]
  },
  {
   "cell_type": "markdown",
   "metadata": {
    "slideshow": {
     "slide_type": "subslide"
    }
   },
   "source": [
    "<img src=\"plot_integral_exp.gif\" width=\"90%\">"
   ]
  },
  {
   "cell_type": "markdown",
   "metadata": {
    "slideshow": {
     "slide_type": "subslide"
    }
   },
   "source": [
    "<img src=\"plot_integral_sin_1.gif\" width=\"90%\">"
   ]
  },
  {
   "cell_type": "markdown",
   "metadata": {
    "slideshow": {
     "slide_type": "subslide"
    }
   },
   "source": [
    "<img src=\"plot_integral_tri.gif?1\" width=\"90%\">"
   ]
  },
  {
   "cell_type": "code",
   "execution_count": null,
   "metadata": {},
   "outputs": [],
   "source": []
  },
  {
   "cell_type": "markdown",
   "metadata": {
    "cell_style": "split",
    "slideshow": {
     "slide_type": "slide"
    }
   },
   "source": [
    "## Random Varaibles\n",
    "  + Basics of Probablilty\n",
    "    + Total Probablilty\n",
    "    + Probability Density Function\n",
    "    + Cumulative Distribution Function\n",
    "  + Continuous Vs. Discrete\n",
    "  + Common Distributions\n",
    "      + Uniform\n",
    "      + Exponential\n",
    "      + Gaussian\n",
    "      + Chi Squared\n",
    "  + Mean, Variance, and higher Moments\n",
    "  "
   ]
  },
  {
   "cell_type": "markdown",
   "metadata": {
    "cell_style": "split",
    "slideshow": {
     "slide_type": "-"
    }
   },
   "source": [
    "\n",
    "  + Random Variables\n",
    "  + Central Limit Theorem\n",
    "  + Operations on random variables\n",
    "  + Correlation\n",
    "  + Conditional Probability \n",
    "  + Independent and identically Distributed "
   ]
  },
  {
   "cell_type": "markdown",
   "metadata": {
    "slideshow": {
     "slide_type": "subslide"
    }
   },
   "source": [
    "## Source of Noise\n",
    "\n",
    "#### Thermal Noise\n",
    "\n",
    "$$ P = k_B \\cdot T \\cdot BW $$\n",
    "\n",
    "  + $k_B$ is [Boltzmann's constant](https://en.wikipedia.org/wiki/Boltzmann_constant)\n",
    "  + $T$ is Temperature in [Kelvin](https://en.wikipedia.org/wiki/Kelvin)\n",
    "  + $BW$ is the bandwidth in Hz\n",
    "  \n",
    "#### System Noise\n",
    "\n",
    "  + Like thermal noise"
   ]
  },
  {
   "cell_type": "markdown",
   "metadata": {
    "slideshow": {
     "slide_type": "subslide"
    }
   },
   "source": [
    "### Basics Probability\n",
    "\n",
    "  \n",
    "  <img src=\"probability.png?1\" width=\"75%\" >"
   ]
  },
  {
   "cell_type": "markdown",
   "metadata": {
    "slideshow": {
     "slide_type": "subslide"
    }
   },
   "source": [
    "#### Total Probability\n",
    "    + Sum of all included outcomes is 1\n",
    "    \n",
    " \n",
    " <img src=\"probability_total.png?1\" width=\"75%\" >"
   ]
  },
  {
   "cell_type": "markdown",
   "metadata": {
    "slideshow": {
     "slide_type": "subslide"
    }
   },
   "source": [
    "#### Probability of 1?\n",
    "Given a random number generator what are the odd's it will return 1?\n",
    "\n",
    "<img src=\"probability_point.png?1\" width=\"75%\" >\n",
    "\n"
   ]
  },
  {
   "cell_type": "markdown",
   "metadata": {
    "slideshow": {
     "slide_type": "subslide"
    }
   },
   "source": [
    "#### Probability less than 0\n",
    "\n",
    "<img src=\"probability_regoin.png?1\" width=\"75%\">"
   ]
  },
  {
   "cell_type": "markdown",
   "metadata": {
    "slideshow": {
     "slide_type": "subslide"
    }
   },
   "source": [
    "### Probability Density Function\n",
    "\n",
    "  <img src=\"probability.png?1\" width=\"75%\" >"
   ]
  },
  {
   "cell_type": "markdown",
   "metadata": {
    "slideshow": {
     "slide_type": "subslide"
    }
   },
   "source": [
    "### Cumulative Density Function\n",
    "\n",
    "<img src=\"probability_pdf_cdf.png?1\" width=\"65%\">"
   ]
  },
  {
   "cell_type": "markdown",
   "metadata": {
    "cell_style": "split",
    "slideshow": {
     "slide_type": "subslide"
    }
   },
   "source": [
    "### Statistical Moments \n",
    "$$ \\bf x \\sim \\mathcal{\\bf P} \\: \\quad \\: P(x)= \\cdots $$\n",
    "\n",
    "##### Total Probabilty\n",
    "$$ 1 =  \\int_{-\\infty}^{\\infty} P(x) dx \\\\= \\sum P(x_i)$$\n",
    "\n",
    "##### Mean\n",
    "$$ \\mu = E(\\bf X) =  \\int_{-\\infty}^{\\infty} xP(x) dx \\\\= \\sum x_i P(x_i)$$\n",
    "\n"
   ]
  },
  {
   "cell_type": "markdown",
   "metadata": {
    "cell_style": "split",
    "slideshow": {
     "slide_type": "-"
    }
   },
   "source": [
    "##### Variance\n",
    "$$ \\sigma^2 = Var(\\bf X) = E \\left ( (\\bf X -\\mu)^2 \\right ) \\\\ = \\int_{-\\infty}^{\\infty} (x-\\mu)^2 P(x) dx \\\\= \\sum (x_i-\\mu)^2 P(x_i)\n",
    "$$"
   ]
  },
  {
   "cell_type": "markdown",
   "metadata": {
    "slideshow": {
     "slide_type": "notes"
    }
   },
   "source": []
  },
  {
   "cell_type": "markdown",
   "metadata": {
    "cell_style": "split",
    "slideshow": {
     "slide_type": "subslide"
    }
   },
   "source": [
    "##### Skew\n",
    "$$ Skew(\\bf X) =  \\int_{-\\infty}^{\\infty} \\left ( \\cfrac{x-\\mu}{\\sigma} \\right )^3 P(x) dx \\\\= \\sum \\left ( \\cfrac{x-\\mu}{\\sigma} \\right )^3 P(x_i)\n",
    "$$\n",
    "#### Excess Kurtosis\n",
    "$$ Kurt(\\bf X) =  \\int_{-\\infty}^{\\infty} \\left ( \\cfrac{x-\\mu}{\\sigma} \\right )^4 P(x) dx \\\\= \\sum \\left ( \\cfrac{x-\\mu}{\\sigma} \\right )^4 P(x_i)\n",
    "$$\n",
    "\n"
   ]
  },
  {
   "cell_type": "markdown",
   "metadata": {
    "cell_style": "split",
    "slideshow": {
     "slide_type": "-"
    }
   },
   "source": [
    "### Information\n",
    "\n",
    "\n",
    "##### Entropy \n",
    "\n",
    "$$ H(\\bf X) = -\\int_{-\\infty}^{\\infty} P(x) ln \\left ( P(x) \\right ) dx \\\\= -\\sum P(x) ln \\left ( P(x) \\right )\n",
    "$$"
   ]
  },
  {
   "cell_type": "code",
   "execution_count": null,
   "metadata": {
    "slideshow": {
     "slide_type": "notes"
    }
   },
   "outputs": [],
   "source": []
  },
  {
   "cell_type": "markdown",
   "metadata": {
    "cell_style": "split",
    "slideshow": {
     "slide_type": "subslide"
    }
   },
   "source": [
    "### Continuous \n",
    "+ Likelihood function\n",
    "  + Non-negative\n",
    "  + Can be greater than 1\n",
    "  + Probability density Function (PDF)\n",
    "\n",
    "<img src=\"probability.png?2\" width=\"90%\" >"
   ]
  },
  {
   "cell_type": "markdown",
   "metadata": {
    "cell_style": "split",
    "slideshow": {
     "slide_type": "-"
    }
   },
   "source": [
    "### Discrete\n",
    "\n",
    "+ Likelihood function\n",
    "  + Non-negative\n",
    "  + 0 or +infinity \n",
    "+ Probability Mass Function (PMF)\n",
    "  \n",
    "  \n",
    "<img src=\"probability_mass_function.png?1\" width=\"90%\">"
   ]
  },
  {
   "cell_type": "code",
   "execution_count": null,
   "metadata": {
    "slideshow": {
     "slide_type": "notes"
    }
   },
   "outputs": [],
   "source": []
  },
  {
   "cell_type": "markdown",
   "metadata": {
    "cell_style": "split",
    "slideshow": {
     "slide_type": "subslide"
    }
   },
   "source": [
    "#### Common Distributions\n",
    "  + Uniform \n",
    "    + Eazist to work with\n",
    "    + Computers likely start with this\n",
    "  + Exponential\n",
    "    + Eazy to work with\n",
    "  + Gaussian\n",
    "    + The most common\n",
    "  + Chi Squared\n",
    "    + Most common squared\n",
    "    "
   ]
  },
  {
   "cell_type": "markdown",
   "metadata": {
    "cell_style": "split",
    "slideshow": {
     "slide_type": "-"
    }
   },
   "source": [
    "<img src=\"common_distributions.png?1\" width=\"100%\">"
   ]
  },
  {
   "cell_type": "markdown",
   "metadata": {
    "slideshow": {
     "slide_type": "notes"
    }
   },
   "source": []
  },
  {
   "cell_type": "markdown",
   "metadata": {
    "cell_style": "split",
    "slideshow": {
     "slide_type": "subslide"
    }
   },
   "source": [
    "#### Uniform\n",
    "$$ P(x) =\\Big \\{ \\begin{matrix} \\:1 \\: :\\quad 0\\leq x \\leq 1 \\\\0 : \\quad otherwise \\end{matrix}$$\n",
    "\n",
    "\n",
    "$$ \\Phi (x) = \\Big \\{ \\begin{matrix} \\:x \\: :\\quad 0\\leq x \\leq 1 \\\\0 : \\quad otherwise \\end{matrix} $$\n",
    "\n",
    "$$ Mean = \\cfrac{1}{2}, \\quad \n",
    "Var = \\cfrac{1}{12(1-0)^2}, \\quad \\\\\n",
    "Skew = 0, \\quad\n",
    "kurtosis = \\cfrac{-6}{5}, \\quad \\\\\n",
    "Entropy = ln(1-0)\n",
    "$$"
   ]
  },
  {
   "cell_type": "markdown",
   "metadata": {
    "cell_style": "split",
    "slideshow": {
     "slide_type": "-"
    }
   },
   "source": [
    "\n",
    "<img src=\"uniform_distributions.png?1\" width=\"100%\">\n"
   ]
  },
  {
   "cell_type": "code",
   "execution_count": null,
   "metadata": {
    "slideshow": {
     "slide_type": "notes"
    }
   },
   "outputs": [],
   "source": []
  },
  {
   "cell_type": "markdown",
   "metadata": {
    "cell_style": "split",
    "slideshow": {
     "slide_type": "subslide"
    }
   },
   "source": [
    "#### Exponetial\n",
    "\n",
    "$$ P(x) =\\Big \\{ \\begin{matrix} \\: \\lambda e^{-\\lambda x} \\: :\\quad 0\\leq x \\\\0 \\quad : \\quad otherwise \\end{matrix}$$\n",
    "\n",
    "$$ \\Phi (x) = \\Big \\{ \\begin{matrix} \\: 1-e^{-\\lambda x} \\: :\\quad 0\\leq x  \\\\0 : \\quad otherwise \\end{matrix} $$\n",
    "\n",
    "$$ Mean = \\cfrac{1}{\\lambda}, \\quad \n",
    "Var = \\cfrac{1}{\\lambda^2}, \\quad \\\\\n",
    "Skew = 2, \\quad\n",
    "kurtosis = 6, \\quad \\\\\n",
    "Entropy = 1- ln(\\lambda)\n",
    "$$"
   ]
  },
  {
   "cell_type": "markdown",
   "metadata": {
    "cell_style": "split",
    "slideshow": {
     "slide_type": "-"
    }
   },
   "source": [
    "\n",
    "\n",
    "<img src=\"expon_distributions.png?0\" width=\"100%\">"
   ]
  },
  {
   "cell_type": "markdown",
   "metadata": {
    "slideshow": {
     "slide_type": "notes"
    }
   },
   "source": [
    "### "
   ]
  },
  {
   "cell_type": "markdown",
   "metadata": {
    "cell_style": "split",
    "slideshow": {
     "slide_type": "subslide"
    }
   },
   "source": [
    "#### Gaussian\n",
    "\n",
    "$$ P(x) = \\cfrac{1}{\\sigma \\sqrt{2 \\pi}} \n",
    "\\: e^{ \\cfrac{1}{2} \\left(\\cfrac{x-\\mu}{\\sigma} \\right )^{2} }$$\n",
    "\n",
    "$$ \\Phi (x) = \\cfrac{1}{2} \\left ( 1 + erf \\left ( \\cfrac{x-\\mu}{\\sigma \\sqrt{2}} \\right ) \\right )\n",
    "$$\n",
    "\n",
    "$$ Mean = \\mu, \\quad \n",
    "Var = \\sigma^2, \\quad \\\\\n",
    "Skew = 0, \\quad\n",
    "kurtosis = 0, \\quad \\\\\n",
    "Entropy = \\cfrac{1}{2} \\left( ln \\left (\n",
    "2 \\pi \\sigma^2 \n",
    "\\right ) + 1 \\right )\n",
    "$$"
   ]
  },
  {
   "cell_type": "markdown",
   "metadata": {
    "cell_style": "split",
    "slideshow": {
     "slide_type": "-"
    }
   },
   "source": [
    "<img src=\"gaussian_distributions.png\" width=\"100%\">"
   ]
  },
  {
   "cell_type": "code",
   "execution_count": null,
   "metadata": {
    "slideshow": {
     "slide_type": "notes"
    }
   },
   "outputs": [],
   "source": []
  },
  {
   "cell_type": "markdown",
   "metadata": {
    "cell_style": "split",
    "slideshow": {
     "slide_type": "subslide"
    }
   },
   "source": [
    "#### $\\chi ^ 2$  (Chi Squared)\n",
    "\n",
    "$$ \\chi ^ 2 (x) \\quad = \\quad \\Bigg \\{ \\begin{matrix} \\:\n",
    "\\cfrac{ x^{k/2 - 1 } \\: e^{-x}}{2^{k/2}\\: \\Gamma(k/2)}\n",
    "\\: :\\quad 0\\leq x \\\\0 \\quad\\quad : \\quad otherwise \\end{matrix}\n",
    "$$\n",
    "\n",
    "\n",
    "\n",
    "[The chi-squared distribution is obtained as the sum of the squares of k independent, zero-mean, unit-variance Gaussian random variables](https://en.wikipedia.org/wiki/Chi-squared_distribution)"
   ]
  },
  {
   "cell_type": "markdown",
   "metadata": {
    "cell_style": "split",
    "slideshow": {
     "slide_type": "-"
    }
   },
   "source": [
    "\n",
    "\n",
    "<img src=\"chi2_distributions.png\" width=\"100%\">"
   ]
  },
  {
   "cell_type": "markdown",
   "metadata": {
    "slideshow": {
     "slide_type": "subslide"
    }
   },
   "source": [
    "<img src=\"chi2_order_distributions.png?1\" width=\"100%\">"
   ]
  },
  {
   "cell_type": "markdown",
   "metadata": {
    "slideshow": {
     "slide_type": "subslide"
    }
   },
   "source": [
    "<img src=\"chi2_order_distributions.gif?2\" width=\"100%\">"
   ]
  },
  {
   "cell_type": "markdown",
   "metadata": {
    "cell_style": "split",
    "slideshow": {
     "slide_type": "subslide"
    }
   },
   "source": [
    "## Central Limit Theorem\n",
    "\n",
    "  + The linear combination of independent random variable to Gaussian in the limit\n",
    "  \n",
    "  + The reason Gaussian is the most important distribution\n",
    "  "
   ]
  },
  {
   "cell_type": "markdown",
   "metadata": {
    "cell_style": "split",
    "slideshow": {
     "slide_type": "-"
    }
   },
   "source": [
    "#### Linear Operations \n",
    "\n"
   ]
  },
  {
   "cell_type": "code",
   "execution_count": 4,
   "metadata": {
    "slideshow": {
     "slide_type": "subslide"
    }
   },
   "outputs": [
    {
     "data": {
      "application/javascript": [
       "/* Put everything inside the global mpl namespace */\n",
       "window.mpl = {};\n",
       "\n",
       "\n",
       "mpl.get_websocket_type = function() {\n",
       "    if (typeof(WebSocket) !== 'undefined') {\n",
       "        return WebSocket;\n",
       "    } else if (typeof(MozWebSocket) !== 'undefined') {\n",
       "        return MozWebSocket;\n",
       "    } else {\n",
       "        alert('Your browser does not have WebSocket support. ' +\n",
       "              'Please try Chrome, Safari or Firefox ≥ 6. ' +\n",
       "              'Firefox 4 and 5 are also supported but you ' +\n",
       "              'have to enable WebSockets in about:config.');\n",
       "    };\n",
       "}\n",
       "\n",
       "mpl.figure = function(figure_id, websocket, ondownload, parent_element) {\n",
       "    this.id = figure_id;\n",
       "\n",
       "    this.ws = websocket;\n",
       "\n",
       "    this.supports_binary = (this.ws.binaryType != undefined);\n",
       "\n",
       "    if (!this.supports_binary) {\n",
       "        var warnings = document.getElementById(\"mpl-warnings\");\n",
       "        if (warnings) {\n",
       "            warnings.style.display = 'block';\n",
       "            warnings.textContent = (\n",
       "                \"This browser does not support binary websocket messages. \" +\n",
       "                    \"Performance may be slow.\");\n",
       "        }\n",
       "    }\n",
       "\n",
       "    this.imageObj = new Image();\n",
       "\n",
       "    this.context = undefined;\n",
       "    this.message = undefined;\n",
       "    this.canvas = undefined;\n",
       "    this.rubberband_canvas = undefined;\n",
       "    this.rubberband_context = undefined;\n",
       "    this.format_dropdown = undefined;\n",
       "\n",
       "    this.image_mode = 'full';\n",
       "\n",
       "    this.root = $('<div/>');\n",
       "    this._root_extra_style(this.root)\n",
       "    this.root.attr('style', 'display: inline-block');\n",
       "\n",
       "    $(parent_element).append(this.root);\n",
       "\n",
       "    this._init_header(this);\n",
       "    this._init_canvas(this);\n",
       "    this._init_toolbar(this);\n",
       "\n",
       "    var fig = this;\n",
       "\n",
       "    this.waiting = false;\n",
       "\n",
       "    this.ws.onopen =  function () {\n",
       "            fig.send_message(\"supports_binary\", {value: fig.supports_binary});\n",
       "            fig.send_message(\"send_image_mode\", {});\n",
       "            if (mpl.ratio != 1) {\n",
       "                fig.send_message(\"set_dpi_ratio\", {'dpi_ratio': mpl.ratio});\n",
       "            }\n",
       "            fig.send_message(\"refresh\", {});\n",
       "        }\n",
       "\n",
       "    this.imageObj.onload = function() {\n",
       "            if (fig.image_mode == 'full') {\n",
       "                // Full images could contain transparency (where diff images\n",
       "                // almost always do), so we need to clear the canvas so that\n",
       "                // there is no ghosting.\n",
       "                fig.context.clearRect(0, 0, fig.canvas.width, fig.canvas.height);\n",
       "            }\n",
       "            fig.context.drawImage(fig.imageObj, 0, 0);\n",
       "        };\n",
       "\n",
       "    this.imageObj.onunload = function() {\n",
       "        fig.ws.close();\n",
       "    }\n",
       "\n",
       "    this.ws.onmessage = this._make_on_message_function(this);\n",
       "\n",
       "    this.ondownload = ondownload;\n",
       "}\n",
       "\n",
       "mpl.figure.prototype._init_header = function() {\n",
       "    var titlebar = $(\n",
       "        '<div class=\"ui-dialog-titlebar ui-widget-header ui-corner-all ' +\n",
       "        'ui-helper-clearfix\"/>');\n",
       "    var titletext = $(\n",
       "        '<div class=\"ui-dialog-title\" style=\"width: 100%; ' +\n",
       "        'text-align: center; padding: 3px;\"/>');\n",
       "    titlebar.append(titletext)\n",
       "    this.root.append(titlebar);\n",
       "    this.header = titletext[0];\n",
       "}\n",
       "\n",
       "\n",
       "\n",
       "mpl.figure.prototype._canvas_extra_style = function(canvas_div) {\n",
       "\n",
       "}\n",
       "\n",
       "\n",
       "mpl.figure.prototype._root_extra_style = function(canvas_div) {\n",
       "\n",
       "}\n",
       "\n",
       "mpl.figure.prototype._init_canvas = function() {\n",
       "    var fig = this;\n",
       "\n",
       "    var canvas_div = $('<div/>');\n",
       "\n",
       "    canvas_div.attr('style', 'position: relative; clear: both; outline: 0');\n",
       "\n",
       "    function canvas_keyboard_event(event) {\n",
       "        return fig.key_event(event, event['data']);\n",
       "    }\n",
       "\n",
       "    canvas_div.keydown('key_press', canvas_keyboard_event);\n",
       "    canvas_div.keyup('key_release', canvas_keyboard_event);\n",
       "    this.canvas_div = canvas_div\n",
       "    this._canvas_extra_style(canvas_div)\n",
       "    this.root.append(canvas_div);\n",
       "\n",
       "    var canvas = $('<canvas/>');\n",
       "    canvas.addClass('mpl-canvas');\n",
       "    canvas.attr('style', \"left: 0; top: 0; z-index: 0; outline: 0\")\n",
       "\n",
       "    this.canvas = canvas[0];\n",
       "    this.context = canvas[0].getContext(\"2d\");\n",
       "\n",
       "    var backingStore = this.context.backingStorePixelRatio ||\n",
       "\tthis.context.webkitBackingStorePixelRatio ||\n",
       "\tthis.context.mozBackingStorePixelRatio ||\n",
       "\tthis.context.msBackingStorePixelRatio ||\n",
       "\tthis.context.oBackingStorePixelRatio ||\n",
       "\tthis.context.backingStorePixelRatio || 1;\n",
       "\n",
       "    mpl.ratio = (window.devicePixelRatio || 1) / backingStore;\n",
       "\n",
       "    var rubberband = $('<canvas/>');\n",
       "    rubberband.attr('style', \"position: absolute; left: 0; top: 0; z-index: 1;\")\n",
       "\n",
       "    var pass_mouse_events = true;\n",
       "\n",
       "    canvas_div.resizable({\n",
       "        start: function(event, ui) {\n",
       "            pass_mouse_events = false;\n",
       "        },\n",
       "        resize: function(event, ui) {\n",
       "            fig.request_resize(ui.size.width, ui.size.height);\n",
       "        },\n",
       "        stop: function(event, ui) {\n",
       "            pass_mouse_events = true;\n",
       "            fig.request_resize(ui.size.width, ui.size.height);\n",
       "        },\n",
       "    });\n",
       "\n",
       "    function mouse_event_fn(event) {\n",
       "        if (pass_mouse_events)\n",
       "            return fig.mouse_event(event, event['data']);\n",
       "    }\n",
       "\n",
       "    rubberband.mousedown('button_press', mouse_event_fn);\n",
       "    rubberband.mouseup('button_release', mouse_event_fn);\n",
       "    // Throttle sequential mouse events to 1 every 20ms.\n",
       "    rubberband.mousemove('motion_notify', mouse_event_fn);\n",
       "\n",
       "    rubberband.mouseenter('figure_enter', mouse_event_fn);\n",
       "    rubberband.mouseleave('figure_leave', mouse_event_fn);\n",
       "\n",
       "    canvas_div.on(\"wheel\", function (event) {\n",
       "        event = event.originalEvent;\n",
       "        event['data'] = 'scroll'\n",
       "        if (event.deltaY < 0) {\n",
       "            event.step = 1;\n",
       "        } else {\n",
       "            event.step = -1;\n",
       "        }\n",
       "        mouse_event_fn(event);\n",
       "    });\n",
       "\n",
       "    canvas_div.append(canvas);\n",
       "    canvas_div.append(rubberband);\n",
       "\n",
       "    this.rubberband = rubberband;\n",
       "    this.rubberband_canvas = rubberband[0];\n",
       "    this.rubberband_context = rubberband[0].getContext(\"2d\");\n",
       "    this.rubberband_context.strokeStyle = \"#000000\";\n",
       "\n",
       "    this._resize_canvas = function(width, height) {\n",
       "        // Keep the size of the canvas, canvas container, and rubber band\n",
       "        // canvas in synch.\n",
       "        canvas_div.css('width', width)\n",
       "        canvas_div.css('height', height)\n",
       "\n",
       "        canvas.attr('width', width * mpl.ratio);\n",
       "        canvas.attr('height', height * mpl.ratio);\n",
       "        canvas.attr('style', 'width: ' + width + 'px; height: ' + height + 'px;');\n",
       "\n",
       "        rubberband.attr('width', width);\n",
       "        rubberband.attr('height', height);\n",
       "    }\n",
       "\n",
       "    // Set the figure to an initial 600x600px, this will subsequently be updated\n",
       "    // upon first draw.\n",
       "    this._resize_canvas(600, 600);\n",
       "\n",
       "    // Disable right mouse context menu.\n",
       "    $(this.rubberband_canvas).bind(\"contextmenu\",function(e){\n",
       "        return false;\n",
       "    });\n",
       "\n",
       "    function set_focus () {\n",
       "        canvas.focus();\n",
       "        canvas_div.focus();\n",
       "    }\n",
       "\n",
       "    window.setTimeout(set_focus, 100);\n",
       "}\n",
       "\n",
       "mpl.figure.prototype._init_toolbar = function() {\n",
       "    var fig = this;\n",
       "\n",
       "    var nav_element = $('<div/>');\n",
       "    nav_element.attr('style', 'width: 100%');\n",
       "    this.root.append(nav_element);\n",
       "\n",
       "    // Define a callback function for later on.\n",
       "    function toolbar_event(event) {\n",
       "        return fig.toolbar_button_onclick(event['data']);\n",
       "    }\n",
       "    function toolbar_mouse_event(event) {\n",
       "        return fig.toolbar_button_onmouseover(event['data']);\n",
       "    }\n",
       "\n",
       "    for(var toolbar_ind in mpl.toolbar_items) {\n",
       "        var name = mpl.toolbar_items[toolbar_ind][0];\n",
       "        var tooltip = mpl.toolbar_items[toolbar_ind][1];\n",
       "        var image = mpl.toolbar_items[toolbar_ind][2];\n",
       "        var method_name = mpl.toolbar_items[toolbar_ind][3];\n",
       "\n",
       "        if (!name) {\n",
       "            // put a spacer in here.\n",
       "            continue;\n",
       "        }\n",
       "        var button = $('<button/>');\n",
       "        button.addClass('ui-button ui-widget ui-state-default ui-corner-all ' +\n",
       "                        'ui-button-icon-only');\n",
       "        button.attr('role', 'button');\n",
       "        button.attr('aria-disabled', 'false');\n",
       "        button.click(method_name, toolbar_event);\n",
       "        button.mouseover(tooltip, toolbar_mouse_event);\n",
       "\n",
       "        var icon_img = $('<span/>');\n",
       "        icon_img.addClass('ui-button-icon-primary ui-icon');\n",
       "        icon_img.addClass(image);\n",
       "        icon_img.addClass('ui-corner-all');\n",
       "\n",
       "        var tooltip_span = $('<span/>');\n",
       "        tooltip_span.addClass('ui-button-text');\n",
       "        tooltip_span.html(tooltip);\n",
       "\n",
       "        button.append(icon_img);\n",
       "        button.append(tooltip_span);\n",
       "\n",
       "        nav_element.append(button);\n",
       "    }\n",
       "\n",
       "    var fmt_picker_span = $('<span/>');\n",
       "\n",
       "    var fmt_picker = $('<select/>');\n",
       "    fmt_picker.addClass('mpl-toolbar-option ui-widget ui-widget-content');\n",
       "    fmt_picker_span.append(fmt_picker);\n",
       "    nav_element.append(fmt_picker_span);\n",
       "    this.format_dropdown = fmt_picker[0];\n",
       "\n",
       "    for (var ind in mpl.extensions) {\n",
       "        var fmt = mpl.extensions[ind];\n",
       "        var option = $(\n",
       "            '<option/>', {selected: fmt === mpl.default_extension}).html(fmt);\n",
       "        fmt_picker.append(option);\n",
       "    }\n",
       "\n",
       "    // Add hover states to the ui-buttons\n",
       "    $( \".ui-button\" ).hover(\n",
       "        function() { $(this).addClass(\"ui-state-hover\");},\n",
       "        function() { $(this).removeClass(\"ui-state-hover\");}\n",
       "    );\n",
       "\n",
       "    var status_bar = $('<span class=\"mpl-message\"/>');\n",
       "    nav_element.append(status_bar);\n",
       "    this.message = status_bar[0];\n",
       "}\n",
       "\n",
       "mpl.figure.prototype.request_resize = function(x_pixels, y_pixels) {\n",
       "    // Request matplotlib to resize the figure. Matplotlib will then trigger a resize in the client,\n",
       "    // which will in turn request a refresh of the image.\n",
       "    this.send_message('resize', {'width': x_pixels, 'height': y_pixels});\n",
       "}\n",
       "\n",
       "mpl.figure.prototype.send_message = function(type, properties) {\n",
       "    properties['type'] = type;\n",
       "    properties['figure_id'] = this.id;\n",
       "    this.ws.send(JSON.stringify(properties));\n",
       "}\n",
       "\n",
       "mpl.figure.prototype.send_draw_message = function() {\n",
       "    if (!this.waiting) {\n",
       "        this.waiting = true;\n",
       "        this.ws.send(JSON.stringify({type: \"draw\", figure_id: this.id}));\n",
       "    }\n",
       "}\n",
       "\n",
       "\n",
       "mpl.figure.prototype.handle_save = function(fig, msg) {\n",
       "    var format_dropdown = fig.format_dropdown;\n",
       "    var format = format_dropdown.options[format_dropdown.selectedIndex].value;\n",
       "    fig.ondownload(fig, format);\n",
       "}\n",
       "\n",
       "\n",
       "mpl.figure.prototype.handle_resize = function(fig, msg) {\n",
       "    var size = msg['size'];\n",
       "    if (size[0] != fig.canvas.width || size[1] != fig.canvas.height) {\n",
       "        fig._resize_canvas(size[0], size[1]);\n",
       "        fig.send_message(\"refresh\", {});\n",
       "    };\n",
       "}\n",
       "\n",
       "mpl.figure.prototype.handle_rubberband = function(fig, msg) {\n",
       "    var x0 = msg['x0'] / mpl.ratio;\n",
       "    var y0 = (fig.canvas.height - msg['y0']) / mpl.ratio;\n",
       "    var x1 = msg['x1'] / mpl.ratio;\n",
       "    var y1 = (fig.canvas.height - msg['y1']) / mpl.ratio;\n",
       "    x0 = Math.floor(x0) + 0.5;\n",
       "    y0 = Math.floor(y0) + 0.5;\n",
       "    x1 = Math.floor(x1) + 0.5;\n",
       "    y1 = Math.floor(y1) + 0.5;\n",
       "    var min_x = Math.min(x0, x1);\n",
       "    var min_y = Math.min(y0, y1);\n",
       "    var width = Math.abs(x1 - x0);\n",
       "    var height = Math.abs(y1 - y0);\n",
       "\n",
       "    fig.rubberband_context.clearRect(\n",
       "        0, 0, fig.canvas.width / mpl.ratio, fig.canvas.height / mpl.ratio);\n",
       "\n",
       "    fig.rubberband_context.strokeRect(min_x, min_y, width, height);\n",
       "}\n",
       "\n",
       "mpl.figure.prototype.handle_figure_label = function(fig, msg) {\n",
       "    // Updates the figure title.\n",
       "    fig.header.textContent = msg['label'];\n",
       "}\n",
       "\n",
       "mpl.figure.prototype.handle_cursor = function(fig, msg) {\n",
       "    var cursor = msg['cursor'];\n",
       "    switch(cursor)\n",
       "    {\n",
       "    case 0:\n",
       "        cursor = 'pointer';\n",
       "        break;\n",
       "    case 1:\n",
       "        cursor = 'default';\n",
       "        break;\n",
       "    case 2:\n",
       "        cursor = 'crosshair';\n",
       "        break;\n",
       "    case 3:\n",
       "        cursor = 'move';\n",
       "        break;\n",
       "    }\n",
       "    fig.rubberband_canvas.style.cursor = cursor;\n",
       "}\n",
       "\n",
       "mpl.figure.prototype.handle_message = function(fig, msg) {\n",
       "    fig.message.textContent = msg['message'];\n",
       "}\n",
       "\n",
       "mpl.figure.prototype.handle_draw = function(fig, msg) {\n",
       "    // Request the server to send over a new figure.\n",
       "    fig.send_draw_message();\n",
       "}\n",
       "\n",
       "mpl.figure.prototype.handle_image_mode = function(fig, msg) {\n",
       "    fig.image_mode = msg['mode'];\n",
       "}\n",
       "\n",
       "mpl.figure.prototype.updated_canvas_event = function() {\n",
       "    // Called whenever the canvas gets updated.\n",
       "    this.send_message(\"ack\", {});\n",
       "}\n",
       "\n",
       "// A function to construct a web socket function for onmessage handling.\n",
       "// Called in the figure constructor.\n",
       "mpl.figure.prototype._make_on_message_function = function(fig) {\n",
       "    return function socket_on_message(evt) {\n",
       "        if (evt.data instanceof Blob) {\n",
       "            /* FIXME: We get \"Resource interpreted as Image but\n",
       "             * transferred with MIME type text/plain:\" errors on\n",
       "             * Chrome.  But how to set the MIME type?  It doesn't seem\n",
       "             * to be part of the websocket stream */\n",
       "            evt.data.type = \"image/png\";\n",
       "\n",
       "            /* Free the memory for the previous frames */\n",
       "            if (fig.imageObj.src) {\n",
       "                (window.URL || window.webkitURL).revokeObjectURL(\n",
       "                    fig.imageObj.src);\n",
       "            }\n",
       "\n",
       "            fig.imageObj.src = (window.URL || window.webkitURL).createObjectURL(\n",
       "                evt.data);\n",
       "            fig.updated_canvas_event();\n",
       "            fig.waiting = false;\n",
       "            return;\n",
       "        }\n",
       "        else if (typeof evt.data === 'string' && evt.data.slice(0, 21) == \"data:image/png;base64\") {\n",
       "            fig.imageObj.src = evt.data;\n",
       "            fig.updated_canvas_event();\n",
       "            fig.waiting = false;\n",
       "            return;\n",
       "        }\n",
       "\n",
       "        var msg = JSON.parse(evt.data);\n",
       "        var msg_type = msg['type'];\n",
       "\n",
       "        // Call the  \"handle_{type}\" callback, which takes\n",
       "        // the figure and JSON message as its only arguments.\n",
       "        try {\n",
       "            var callback = fig[\"handle_\" + msg_type];\n",
       "        } catch (e) {\n",
       "            console.log(\"No handler for the '\" + msg_type + \"' message type: \", msg);\n",
       "            return;\n",
       "        }\n",
       "\n",
       "        if (callback) {\n",
       "            try {\n",
       "                // console.log(\"Handling '\" + msg_type + \"' message: \", msg);\n",
       "                callback(fig, msg);\n",
       "            } catch (e) {\n",
       "                console.log(\"Exception inside the 'handler_\" + msg_type + \"' callback:\", e, e.stack, msg);\n",
       "            }\n",
       "        }\n",
       "    };\n",
       "}\n",
       "\n",
       "// from http://stackoverflow.com/questions/1114465/getting-mouse-location-in-canvas\n",
       "mpl.findpos = function(e) {\n",
       "    //this section is from http://www.quirksmode.org/js/events_properties.html\n",
       "    var targ;\n",
       "    if (!e)\n",
       "        e = window.event;\n",
       "    if (e.target)\n",
       "        targ = e.target;\n",
       "    else if (e.srcElement)\n",
       "        targ = e.srcElement;\n",
       "    if (targ.nodeType == 3) // defeat Safari bug\n",
       "        targ = targ.parentNode;\n",
       "\n",
       "    // jQuery normalizes the pageX and pageY\n",
       "    // pageX,Y are the mouse positions relative to the document\n",
       "    // offset() returns the position of the element relative to the document\n",
       "    var x = e.pageX - $(targ).offset().left;\n",
       "    var y = e.pageY - $(targ).offset().top;\n",
       "\n",
       "    return {\"x\": x, \"y\": y};\n",
       "};\n",
       "\n",
       "/*\n",
       " * return a copy of an object with only non-object keys\n",
       " * we need this to avoid circular references\n",
       " * http://stackoverflow.com/a/24161582/3208463\n",
       " */\n",
       "function simpleKeys (original) {\n",
       "  return Object.keys(original).reduce(function (obj, key) {\n",
       "    if (typeof original[key] !== 'object')\n",
       "        obj[key] = original[key]\n",
       "    return obj;\n",
       "  }, {});\n",
       "}\n",
       "\n",
       "mpl.figure.prototype.mouse_event = function(event, name) {\n",
       "    var canvas_pos = mpl.findpos(event)\n",
       "\n",
       "    if (name === 'button_press')\n",
       "    {\n",
       "        this.canvas.focus();\n",
       "        this.canvas_div.focus();\n",
       "    }\n",
       "\n",
       "    var x = canvas_pos.x * mpl.ratio;\n",
       "    var y = canvas_pos.y * mpl.ratio;\n",
       "\n",
       "    this.send_message(name, {x: x, y: y, button: event.button,\n",
       "                             step: event.step,\n",
       "                             guiEvent: simpleKeys(event)});\n",
       "\n",
       "    /* This prevents the web browser from automatically changing to\n",
       "     * the text insertion cursor when the button is pressed.  We want\n",
       "     * to control all of the cursor setting manually through the\n",
       "     * 'cursor' event from matplotlib */\n",
       "    event.preventDefault();\n",
       "    return false;\n",
       "}\n",
       "\n",
       "mpl.figure.prototype._key_event_extra = function(event, name) {\n",
       "    // Handle any extra behaviour associated with a key event\n",
       "}\n",
       "\n",
       "mpl.figure.prototype.key_event = function(event, name) {\n",
       "\n",
       "    // Prevent repeat events\n",
       "    if (name == 'key_press')\n",
       "    {\n",
       "        if (event.which === this._key)\n",
       "            return;\n",
       "        else\n",
       "            this._key = event.which;\n",
       "    }\n",
       "    if (name == 'key_release')\n",
       "        this._key = null;\n",
       "\n",
       "    var value = '';\n",
       "    if (event.ctrlKey && event.which != 17)\n",
       "        value += \"ctrl+\";\n",
       "    if (event.altKey && event.which != 18)\n",
       "        value += \"alt+\";\n",
       "    if (event.shiftKey && event.which != 16)\n",
       "        value += \"shift+\";\n",
       "\n",
       "    value += 'k';\n",
       "    value += event.which.toString();\n",
       "\n",
       "    this._key_event_extra(event, name);\n",
       "\n",
       "    this.send_message(name, {key: value,\n",
       "                             guiEvent: simpleKeys(event)});\n",
       "    return false;\n",
       "}\n",
       "\n",
       "mpl.figure.prototype.toolbar_button_onclick = function(name) {\n",
       "    if (name == 'download') {\n",
       "        this.handle_save(this, null);\n",
       "    } else {\n",
       "        this.send_message(\"toolbar_button\", {name: name});\n",
       "    }\n",
       "};\n",
       "\n",
       "mpl.figure.prototype.toolbar_button_onmouseover = function(tooltip) {\n",
       "    this.message.textContent = tooltip;\n",
       "};\n",
       "mpl.toolbar_items = [[\"Home\", \"Reset original view\", \"fa fa-home icon-home\", \"home\"], [\"Back\", \"Back to previous view\", \"fa fa-arrow-left icon-arrow-left\", \"back\"], [\"Forward\", \"Forward to next view\", \"fa fa-arrow-right icon-arrow-right\", \"forward\"], [\"\", \"\", \"\", \"\"], [\"Pan\", \"Pan axes with left mouse, zoom with right\", \"fa fa-arrows icon-move\", \"pan\"], [\"Zoom\", \"Zoom to rectangle\", \"fa fa-square-o icon-check-empty\", \"zoom\"], [\"\", \"\", \"\", \"\"], [\"Download\", \"Download plot\", \"fa fa-floppy-o icon-save\", \"download\"]];\n",
       "\n",
       "mpl.extensions = [\"eps\", \"pdf\", \"png\", \"ps\", \"raw\", \"svg\"];\n",
       "\n",
       "mpl.default_extension = \"png\";var comm_websocket_adapter = function(comm) {\n",
       "    // Create a \"websocket\"-like object which calls the given IPython comm\n",
       "    // object with the appropriate methods. Currently this is a non binary\n",
       "    // socket, so there is still some room for performance tuning.\n",
       "    var ws = {};\n",
       "\n",
       "    ws.close = function() {\n",
       "        comm.close()\n",
       "    };\n",
       "    ws.send = function(m) {\n",
       "        //console.log('sending', m);\n",
       "        comm.send(m);\n",
       "    };\n",
       "    // Register the callback with on_msg.\n",
       "    comm.on_msg(function(msg) {\n",
       "        //console.log('receiving', msg['content']['data'], msg);\n",
       "        // Pass the mpl event to the overridden (by mpl) onmessage function.\n",
       "        ws.onmessage(msg['content']['data'])\n",
       "    });\n",
       "    return ws;\n",
       "}\n",
       "\n",
       "mpl.mpl_figure_comm = function(comm, msg) {\n",
       "    // This is the function which gets called when the mpl process\n",
       "    // starts-up an IPython Comm through the \"matplotlib\" channel.\n",
       "\n",
       "    var id = msg.content.data.id;\n",
       "    // Get hold of the div created by the display call when the Comm\n",
       "    // socket was opened in Python.\n",
       "    var element = $(\"#\" + id);\n",
       "    var ws_proxy = comm_websocket_adapter(comm)\n",
       "\n",
       "    function ondownload(figure, format) {\n",
       "        window.open(figure.imageObj.src);\n",
       "    }\n",
       "\n",
       "    var fig = new mpl.figure(id, ws_proxy,\n",
       "                           ondownload,\n",
       "                           element.get(0));\n",
       "\n",
       "    // Call onopen now - mpl needs it, as it is assuming we've passed it a real\n",
       "    // web socket which is closed, not our websocket->open comm proxy.\n",
       "    ws_proxy.onopen();\n",
       "\n",
       "    fig.parent_element = element.get(0);\n",
       "    fig.cell_info = mpl.find_output_cell(\"<div id='\" + id + \"'></div>\");\n",
       "    if (!fig.cell_info) {\n",
       "        console.error(\"Failed to find cell for figure\", id, fig);\n",
       "        return;\n",
       "    }\n",
       "\n",
       "    var output_index = fig.cell_info[2]\n",
       "    var cell = fig.cell_info[0];\n",
       "\n",
       "};\n",
       "\n",
       "mpl.figure.prototype.handle_close = function(fig, msg) {\n",
       "    var width = fig.canvas.width/mpl.ratio\n",
       "    fig.root.unbind('remove')\n",
       "\n",
       "    // Update the output cell to use the data from the current canvas.\n",
       "    fig.push_to_output();\n",
       "    var dataURL = fig.canvas.toDataURL();\n",
       "    // Re-enable the keyboard manager in IPython - without this line, in FF,\n",
       "    // the notebook keyboard shortcuts fail.\n",
       "    IPython.keyboard_manager.enable()\n",
       "    $(fig.parent_element).html('<img src=\"' + dataURL + '\" width=\"' + width + '\">');\n",
       "    fig.close_ws(fig, msg);\n",
       "}\n",
       "\n",
       "mpl.figure.prototype.close_ws = function(fig, msg){\n",
       "    fig.send_message('closing', msg);\n",
       "    // fig.ws.close()\n",
       "}\n",
       "\n",
       "mpl.figure.prototype.push_to_output = function(remove_interactive) {\n",
       "    // Turn the data on the canvas into data in the output cell.\n",
       "    var width = this.canvas.width/mpl.ratio\n",
       "    var dataURL = this.canvas.toDataURL();\n",
       "    this.cell_info[1]['text/html'] = '<img src=\"' + dataURL + '\" width=\"' + width + '\">';\n",
       "}\n",
       "\n",
       "mpl.figure.prototype.updated_canvas_event = function() {\n",
       "    // Tell IPython that the notebook contents must change.\n",
       "    IPython.notebook.set_dirty(true);\n",
       "    this.send_message(\"ack\", {});\n",
       "    var fig = this;\n",
       "    // Wait a second, then push the new image to the DOM so\n",
       "    // that it is saved nicely (might be nice to debounce this).\n",
       "    setTimeout(function () { fig.push_to_output() }, 1000);\n",
       "}\n",
       "\n",
       "mpl.figure.prototype._init_toolbar = function() {\n",
       "    var fig = this;\n",
       "\n",
       "    var nav_element = $('<div/>');\n",
       "    nav_element.attr('style', 'width: 100%');\n",
       "    this.root.append(nav_element);\n",
       "\n",
       "    // Define a callback function for later on.\n",
       "    function toolbar_event(event) {\n",
       "        return fig.toolbar_button_onclick(event['data']);\n",
       "    }\n",
       "    function toolbar_mouse_event(event) {\n",
       "        return fig.toolbar_button_onmouseover(event['data']);\n",
       "    }\n",
       "\n",
       "    for(var toolbar_ind in mpl.toolbar_items){\n",
       "        var name = mpl.toolbar_items[toolbar_ind][0];\n",
       "        var tooltip = mpl.toolbar_items[toolbar_ind][1];\n",
       "        var image = mpl.toolbar_items[toolbar_ind][2];\n",
       "        var method_name = mpl.toolbar_items[toolbar_ind][3];\n",
       "\n",
       "        if (!name) { continue; };\n",
       "\n",
       "        var button = $('<button class=\"btn btn-default\" href=\"#\" title=\"' + name + '\"><i class=\"fa ' + image + ' fa-lg\"></i></button>');\n",
       "        button.click(method_name, toolbar_event);\n",
       "        button.mouseover(tooltip, toolbar_mouse_event);\n",
       "        nav_element.append(button);\n",
       "    }\n",
       "\n",
       "    // Add the status bar.\n",
       "    var status_bar = $('<span class=\"mpl-message\" style=\"text-align:right; float: right;\"/>');\n",
       "    nav_element.append(status_bar);\n",
       "    this.message = status_bar[0];\n",
       "\n",
       "    // Add the close button to the window.\n",
       "    var buttongrp = $('<div class=\"btn-group inline pull-right\"></div>');\n",
       "    var button = $('<button class=\"btn btn-mini btn-primary\" href=\"#\" title=\"Stop Interaction\"><i class=\"fa fa-power-off icon-remove icon-large\"></i></button>');\n",
       "    button.click(function (evt) { fig.handle_close(fig, {}); } );\n",
       "    button.mouseover('Stop Interaction', toolbar_mouse_event);\n",
       "    buttongrp.append(button);\n",
       "    var titlebar = this.root.find($('.ui-dialog-titlebar'));\n",
       "    titlebar.prepend(buttongrp);\n",
       "}\n",
       "\n",
       "mpl.figure.prototype._root_extra_style = function(el){\n",
       "    var fig = this\n",
       "    el.on(\"remove\", function(){\n",
       "\tfig.close_ws(fig, {});\n",
       "    });\n",
       "}\n",
       "\n",
       "mpl.figure.prototype._canvas_extra_style = function(el){\n",
       "    // this is important to make the div 'focusable\n",
       "    el.attr('tabindex', 0)\n",
       "    // reach out to IPython and tell the keyboard manager to turn it's self\n",
       "    // off when our div gets focus\n",
       "\n",
       "    // location in version 3\n",
       "    if (IPython.notebook.keyboard_manager) {\n",
       "        IPython.notebook.keyboard_manager.register_events(el);\n",
       "    }\n",
       "    else {\n",
       "        // location in version 2\n",
       "        IPython.keyboard_manager.register_events(el);\n",
       "    }\n",
       "\n",
       "}\n",
       "\n",
       "mpl.figure.prototype._key_event_extra = function(event, name) {\n",
       "    var manager = IPython.notebook.keyboard_manager;\n",
       "    if (!manager)\n",
       "        manager = IPython.keyboard_manager;\n",
       "\n",
       "    // Check for shift+enter\n",
       "    if (event.shiftKey && event.which == 13) {\n",
       "        this.canvas_div.blur();\n",
       "        // select the cell after this one\n",
       "        var index = IPython.notebook.find_cell_index(this.cell_info[0]);\n",
       "        IPython.notebook.select(index + 1);\n",
       "    }\n",
       "}\n",
       "\n",
       "mpl.figure.prototype.handle_save = function(fig, msg) {\n",
       "    fig.ondownload(fig, null);\n",
       "}\n",
       "\n",
       "\n",
       "mpl.find_output_cell = function(html_output) {\n",
       "    // Return the cell and output element which can be found *uniquely* in the notebook.\n",
       "    // Note - this is a bit hacky, but it is done because the \"notebook_saving.Notebook\"\n",
       "    // IPython event is triggered only after the cells have been serialised, which for\n",
       "    // our purposes (turning an active figure into a static one), is too late.\n",
       "    var cells = IPython.notebook.get_cells();\n",
       "    var ncells = cells.length;\n",
       "    for (var i=0; i<ncells; i++) {\n",
       "        var cell = cells[i];\n",
       "        if (cell.cell_type === 'code'){\n",
       "            for (var j=0; j<cell.output_area.outputs.length; j++) {\n",
       "                var data = cell.output_area.outputs[j];\n",
       "                if (data.data) {\n",
       "                    // IPython >= 3 moved mimebundle to data attribute of output\n",
       "                    data = data.data;\n",
       "                }\n",
       "                if (data['text/html'] == html_output) {\n",
       "                    return [cell, data, j];\n",
       "                }\n",
       "            }\n",
       "        }\n",
       "    }\n",
       "}\n",
       "\n",
       "// Register the function which deals with the matplotlib target/channel.\n",
       "// The kernel may be null if the page has been refreshed.\n",
       "if (IPython.notebook.kernel != null) {\n",
       "    IPython.notebook.kernel.comm_manager.register_target('matplotlib', mpl.mpl_figure_comm);\n",
       "}\n"
      ],
      "text/plain": [
       "<IPython.core.display.Javascript object>"
      ]
     },
     "metadata": {},
     "output_type": "display_data"
    },
    {
     "data": {
      "text/html": [
       "<img src=\"data:image/png;base64,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\" width=\"899.3684210526316\">"
      ],
      "text/plain": [
       "<IPython.core.display.HTML object>"
      ]
     },
     "metadata": {},
     "output_type": "display_data"
    },
    {
     "data": {
      "application/vnd.jupyter.widget-view+json": {
       "model_id": "470363de918c4543a3db921b6451cb89",
       "version_major": 2,
       "version_minor": 0
      },
      "text/plain": [
       "interactive(children=(IntSlider(value=1, description='n', max=64, min=1), Output()), _dom_classes=('widget-int…"
      ]
     },
     "metadata": {},
     "output_type": "display_data"
    }
   ],
   "source": [
    "fig, ax = plt.subplots(1,1)\n",
    "fig.set_size_inches(9, 6)\n",
    "\n",
    "def operation(rv, n):\n",
    "    return numpy.sum(rv, axis=1)/numpy.sqrt(n)\n",
    "\n",
    "@interact(n=(1, 64, 1))\n",
    "def central_limit_widget(n=1, ):\n",
    "    number_samples = 10_000\n",
    "    x = numpy.linspace(-3, 3, 1001)\n",
    "    rv = 1*(stats.uniform.rvs(size=(int(number_samples),n))-0.5)\n",
    "    rv = operation(rv, n)\n",
    "    ax.cla()\n",
    "    _ = plt.hist(rv, 50, density=True, facecolor='b', alpha=0.3, label='Raw Data')\n",
    "    ax.set_xlim((min(x), max(x)))\n",
    "    ax.set_ylim((0, 1.5))\n",
    "    fig.suptitle(f'Central Limit Theorem\\nUniform, Degree: {n}')\n",
    "    ax.set_xlabel('Value')\n",
    "    # Fit Uniform\n",
    "    loc, scale = stats.uniform.fit(rv)\n",
    "    p_x_uniform = stats.uniform.pdf(x, loc=loc, scale=scale)\n",
    "    ax.plot(x, p_x_uniform, '--k', label=f'Uniform(loc={loc:.2f}, scale={scale:.2f})')\n",
    "    # Fit Gaussian\n",
    "    mu, sigma = stats.norm.fit(rv)\n",
    "    p_x_uniform = stats.norm.pdf(x, loc=mu, scale=sigma)\n",
    "    ax.plot(x, p_x_uniform, '--g', label=f'Gaussian({mu:.2f}, {sigma:.2f})')\n",
    "    ax.legend()"
   ]
  },
  {
   "cell_type": "markdown",
   "metadata": {
    "cell_style": "split",
    "slideshow": {
     "slide_type": "subslide"
    }
   },
   "source": [
    "### Operations on Random Variables\n",
    "\n",
    "#### Shifts, Scalings, Abs, and Squared\n",
    "\n",
    "#### Addition of two RV's\n",
    "\n",
    "Convolve the PDF's \n",
    "\n",
    "+ Sorry for the recycled plots"
   ]
  },
  {
   "cell_type": "markdown",
   "metadata": {
    "cell_style": "split",
    "slideshow": {
     "slide_type": "fragment"
    }
   },
   "source": [
    "#### Convolution\n",
    "\n",
    "$$ \n",
    "\\begin{align} (f*g)(t) &= \\int_{-\\infty}^{t} f(\\tau)\\: g(t-\\tau) \\: d \\tau \\\\\n",
    "(f*g)[n] &= \\sum_{-\\infty\\dots \\infty}^{i}  f[i]\\:g[n-i]  \n",
    "\\end{align}\n",
    "$$"
   ]
  },
  {
   "cell_type": "markdown",
   "metadata": {
    "slideshow": {
     "slide_type": "subslide"
    }
   },
   "source": [
    "<img src=\"rect_rect_conv_auto.gif\" width=\"100%\">"
   ]
  },
  {
   "cell_type": "markdown",
   "metadata": {
    "slideshow": {
     "slide_type": "subslide"
    }
   },
   "source": [
    "<img src=\"rect_exp_conv_auto.gif\" width=\"100%\">"
   ]
  },
  {
   "cell_type": "markdown",
   "metadata": {
    "slideshow": {
     "slide_type": "subslide"
    }
   },
   "source": [
    "<img src=\"exp_exp_conv_auto.gif\" width=\"100%\">"
   ]
  },
  {
   "cell_type": "markdown",
   "metadata": {
    "slideshow": {
     "slide_type": "subslide"
    }
   },
   "source": [
    "<img src=\"rect_gaussian_conv_auto.gif\" width=\"100%\">"
   ]
  },
  {
   "cell_type": "markdown",
   "metadata": {
    "slideshow": {
     "slide_type": "subslide"
    }
   },
   "source": [
    "<img src=\"gaussian_gaussian_conv_auto.gif\" width=\"100%\">"
   ]
  },
  {
   "cell_type": "markdown",
   "metadata": {
    "slideshow": {
     "slide_type": "notes"
    }
   },
   "source": [
    "+ Note Gaussian convoled with a Gaussian is Gaussian"
   ]
  },
  {
   "cell_type": "markdown",
   "metadata": {
    "cell_style": "split",
    "slideshow": {
     "slide_type": "subslide"
    }
   },
   "source": [
    "### Correlation and Covariance\n",
    "\n",
    "#### Correlation Random Variables\n",
    "$$ {r}_{xy} = cor(\\bf X, \\bf Y) = E \\left [ \\bf X \\cdot \\bf Y \\right ] $$\n",
    "\n",
    "### Covariance Random Variables\n",
    "$$ {r}_{xy} = cov(\\bf X, \\bf Y) = E \\left [ ( \\bf X -\\mu_x ) ( \\bf Y -\\mu_y )  \\right ] $$"
   ]
  },
  {
   "cell_type": "markdown",
   "metadata": {
    "cell_style": "split",
    "slideshow": {
     "slide_type": "fragment"
    }
   },
   "source": [
    "### Correlation of Signals $f$ and $g$\n",
    "\n",
    "$$ \\begin{align} \n",
    "(f*g)(t) &= \\int_{-\\infty}^{t} f(\\tau)\\: g(t+\\tau) \\: d \\tau \\\\\n",
    "(f*g)[n] &= \\sum_{-\\infty\\dots \\infty}^{i}  f[i]\\:g[n+i]  \n",
    "\\end{align}$$"
   ]
  },
  {
   "cell_type": "markdown",
   "metadata": {
    "slideshow": {
     "slide_type": "notes"
    }
   },
   "source": []
  },
  {
   "cell_type": "markdown",
   "metadata": {
    "slideshow": {
     "slide_type": "subslide"
    }
   },
   "source": [
    "<img src=\"Correlation_rect_rect.gif\" width=\"90%\">"
   ]
  },
  {
   "cell_type": "markdown",
   "metadata": {
    "slideshow": {
     "slide_type": "subslide"
    }
   },
   "source": [
    "<img src=\"Correlation_rect_exp.gif\" width=\"90%\">"
   ]
  },
  {
   "cell_type": "markdown",
   "metadata": {
    "slideshow": {
     "slide_type": "subslide"
    }
   },
   "source": [
    "<img src=\"Correlation_exp_exp.gif\" width=\"90%\">"
   ]
  },
  {
   "cell_type": "markdown",
   "metadata": {
    "slideshow": {
     "slide_type": "subslide"
    }
   },
   "source": [
    "<img src=\"Correlation_gaussian_gaussian.gif\" width=\"90%\">"
   ]
  },
  {
   "cell_type": "markdown",
   "metadata": {
    "slideshow": {
     "slide_type": "subslide"
    }
   },
   "source": [
    "<img src=\"Correlation_barker_barker.gif\" width=\"90%\">"
   ]
  },
  {
   "cell_type": "markdown",
   "metadata": {
    "slideshow": {
     "slide_type": "notes"
    }
   },
   "source": [
    "Barker-13 code"
   ]
  },
  {
   "cell_type": "markdown",
   "metadata": {
    "cell_style": "split",
    "slideshow": {
     "slide_type": "slide"
    }
   },
   "source": [
    "    \n",
    "## Basic Linear Algebra\n",
    "  + Vector Operations\n",
    "    + Addition\n",
    "    + Scaler Multiplication\n",
    "    + Vector Dimension Span\n",
    "  + Vector Products\n",
    "    + Elementwise Product\n",
    "    + Outter Product\n",
    "    + Inner Product\n",
    "    "
   ]
  },
  {
   "cell_type": "markdown",
   "metadata": {
    "cell_style": "split",
    "slideshow": {
     "slide_type": "fragment"
    }
   },
   "source": [
    "+ Cauchy–Schwarz inequality\n",
    "+ Matched Filter\n",
    "+ Convolution\n",
    "+ Matrix Operations\n",
    "+ Multivariate Random Variables\n",
    "+ Correlation of random vectors\n",
    "+ Orthogonal + Normal = Orthonormal\n",
    "+ Inverse\n",
    "+ Decomposistions"
   ]
  },
  {
   "cell_type": "code",
   "execution_count": null,
   "metadata": {
    "slideshow": {
     "slide_type": "notes"
    }
   },
   "outputs": [],
   "source": []
  },
  {
   "cell_type": "markdown",
   "metadata": {
    "cell_style": "split",
    "slideshow": {
     "slide_type": "subslide"
    }
   },
   "source": [
    "## What is a Vector\n",
    "\n",
    "\n",
    "$$  \\vec{V} \\quad = \\quad [\\:v_1, \\:v_2, \\: _\\cdots, \\: v_n ] $$\n",
    "\n",
    "+ List of numbers with associated operations\n",
    "  + Direction and magnitude\n",
    "+ Often thought of as spacial\n",
    "  + Does not have to be ...\n",
    "+ Associated Operations\n",
    "  + More than \\( Add, Subtract, Multiply, Divide \\)\n"
   ]
  },
  {
   "cell_type": "markdown",
   "metadata": {
    "cell_style": "split",
    "slideshow": {
     "slide_type": "-"
    }
   },
   "source": [
    "\n",
    "\n",
    "\n",
    "\n",
    "<img src=\"vector.png?3\" width=\"75%\">"
   ]
  },
  {
   "cell_type": "markdown",
   "metadata": {
    "slideshow": {
     "slide_type": "subslide"
    }
   },
   "source": [
    "### Where to get a vector?\n",
    "\n",
    "##### Look in the Time Series\n",
    "Want a n-D vector of data, grab n-samples of a time series at time t.\n",
    "\n",
    "#####  Bored of that data\n",
    "Grab n-samples at t+1"
   ]
  },
  {
   "cell_type": "markdown",
   "metadata": {
    "cell_style": "split",
    "slideshow": {
     "slide_type": "subslide"
    }
   },
   "source": [
    "### Vector Addition\n",
    "\n",
    "$$ \\vec{U} = \\vec{V} + \\vec{W} $$\n",
    "\n",
    "$$ \\begin{matrix}\n",
    "\\; \\quad \\vec{V} \\quad = \\quad [\\:v_1, \\:v_2, \\: _\\cdots, \\: v_n ] \\\\\n",
    "+ \\quad \\vec{W} \\quad = \\quad [\\:w_1, \\:w_2, \\: _\\cdots, \\: w_n ] \\\\ \\hline\n",
    "\\quad \\vec{U} \\quad = \\quad [\\:u_1, \\:u_2, \\: _\\cdots, \\: u_n ]\n",
    "\\end{matrix}\n",
    "$$\n",
    "\n",
    "$$\n",
    "u_1=v_1+w_1 \\: , \\: u_2=v_2+w_2 \\: , \\: _\\cdots \\: , \\: u_n=v_n+w_n \n",
    "$$\n",
    "\n",
    "+ Dimentions of each vector?"
   ]
  },
  {
   "cell_type": "markdown",
   "metadata": {
    "cell_style": "split",
    "slideshow": {
     "slide_type": "-"
    }
   },
   "source": [
    "\n",
    "\n",
    "<img src=\"vector_addition.png?1\" width=\"85%\">"
   ]
  },
  {
   "cell_type": "code",
   "execution_count": 5,
   "metadata": {
    "slideshow": {
     "slide_type": "subslide"
    }
   },
   "outputs": [
    {
     "data": {
      "application/javascript": [
       "/* Put everything inside the global mpl namespace */\n",
       "window.mpl = {};\n",
       "\n",
       "\n",
       "mpl.get_websocket_type = function() {\n",
       "    if (typeof(WebSocket) !== 'undefined') {\n",
       "        return WebSocket;\n",
       "    } else if (typeof(MozWebSocket) !== 'undefined') {\n",
       "        return MozWebSocket;\n",
       "    } else {\n",
       "        alert('Your browser does not have WebSocket support. ' +\n",
       "              'Please try Chrome, Safari or Firefox ≥ 6. ' +\n",
       "              'Firefox 4 and 5 are also supported but you ' +\n",
       "              'have to enable WebSockets in about:config.');\n",
       "    };\n",
       "}\n",
       "\n",
       "mpl.figure = function(figure_id, websocket, ondownload, parent_element) {\n",
       "    this.id = figure_id;\n",
       "\n",
       "    this.ws = websocket;\n",
       "\n",
       "    this.supports_binary = (this.ws.binaryType != undefined);\n",
       "\n",
       "    if (!this.supports_binary) {\n",
       "        var warnings = document.getElementById(\"mpl-warnings\");\n",
       "        if (warnings) {\n",
       "            warnings.style.display = 'block';\n",
       "            warnings.textContent = (\n",
       "                \"This browser does not support binary websocket messages. \" +\n",
       "                    \"Performance may be slow.\");\n",
       "        }\n",
       "    }\n",
       "\n",
       "    this.imageObj = new Image();\n",
       "\n",
       "    this.context = undefined;\n",
       "    this.message = undefined;\n",
       "    this.canvas = undefined;\n",
       "    this.rubberband_canvas = undefined;\n",
       "    this.rubberband_context = undefined;\n",
       "    this.format_dropdown = undefined;\n",
       "\n",
       "    this.image_mode = 'full';\n",
       "\n",
       "    this.root = $('<div/>');\n",
       "    this._root_extra_style(this.root)\n",
       "    this.root.attr('style', 'display: inline-block');\n",
       "\n",
       "    $(parent_element).append(this.root);\n",
       "\n",
       "    this._init_header(this);\n",
       "    this._init_canvas(this);\n",
       "    this._init_toolbar(this);\n",
       "\n",
       "    var fig = this;\n",
       "\n",
       "    this.waiting = false;\n",
       "\n",
       "    this.ws.onopen =  function () {\n",
       "            fig.send_message(\"supports_binary\", {value: fig.supports_binary});\n",
       "            fig.send_message(\"send_image_mode\", {});\n",
       "            if (mpl.ratio != 1) {\n",
       "                fig.send_message(\"set_dpi_ratio\", {'dpi_ratio': mpl.ratio});\n",
       "            }\n",
       "            fig.send_message(\"refresh\", {});\n",
       "        }\n",
       "\n",
       "    this.imageObj.onload = function() {\n",
       "            if (fig.image_mode == 'full') {\n",
       "                // Full images could contain transparency (where diff images\n",
       "                // almost always do), so we need to clear the canvas so that\n",
       "                // there is no ghosting.\n",
       "                fig.context.clearRect(0, 0, fig.canvas.width, fig.canvas.height);\n",
       "            }\n",
       "            fig.context.drawImage(fig.imageObj, 0, 0);\n",
       "        };\n",
       "\n",
       "    this.imageObj.onunload = function() {\n",
       "        fig.ws.close();\n",
       "    }\n",
       "\n",
       "    this.ws.onmessage = this._make_on_message_function(this);\n",
       "\n",
       "    this.ondownload = ondownload;\n",
       "}\n",
       "\n",
       "mpl.figure.prototype._init_header = function() {\n",
       "    var titlebar = $(\n",
       "        '<div class=\"ui-dialog-titlebar ui-widget-header ui-corner-all ' +\n",
       "        'ui-helper-clearfix\"/>');\n",
       "    var titletext = $(\n",
       "        '<div class=\"ui-dialog-title\" style=\"width: 100%; ' +\n",
       "        'text-align: center; padding: 3px;\"/>');\n",
       "    titlebar.append(titletext)\n",
       "    this.root.append(titlebar);\n",
       "    this.header = titletext[0];\n",
       "}\n",
       "\n",
       "\n",
       "\n",
       "mpl.figure.prototype._canvas_extra_style = function(canvas_div) {\n",
       "\n",
       "}\n",
       "\n",
       "\n",
       "mpl.figure.prototype._root_extra_style = function(canvas_div) {\n",
       "\n",
       "}\n",
       "\n",
       "mpl.figure.prototype._init_canvas = function() {\n",
       "    var fig = this;\n",
       "\n",
       "    var canvas_div = $('<div/>');\n",
       "\n",
       "    canvas_div.attr('style', 'position: relative; clear: both; outline: 0');\n",
       "\n",
       "    function canvas_keyboard_event(event) {\n",
       "        return fig.key_event(event, event['data']);\n",
       "    }\n",
       "\n",
       "    canvas_div.keydown('key_press', canvas_keyboard_event);\n",
       "    canvas_div.keyup('key_release', canvas_keyboard_event);\n",
       "    this.canvas_div = canvas_div\n",
       "    this._canvas_extra_style(canvas_div)\n",
       "    this.root.append(canvas_div);\n",
       "\n",
       "    var canvas = $('<canvas/>');\n",
       "    canvas.addClass('mpl-canvas');\n",
       "    canvas.attr('style', \"left: 0; top: 0; z-index: 0; outline: 0\")\n",
       "\n",
       "    this.canvas = canvas[0];\n",
       "    this.context = canvas[0].getContext(\"2d\");\n",
       "\n",
       "    var backingStore = this.context.backingStorePixelRatio ||\n",
       "\tthis.context.webkitBackingStorePixelRatio ||\n",
       "\tthis.context.mozBackingStorePixelRatio ||\n",
       "\tthis.context.msBackingStorePixelRatio ||\n",
       "\tthis.context.oBackingStorePixelRatio ||\n",
       "\tthis.context.backingStorePixelRatio || 1;\n",
       "\n",
       "    mpl.ratio = (window.devicePixelRatio || 1) / backingStore;\n",
       "\n",
       "    var rubberband = $('<canvas/>');\n",
       "    rubberband.attr('style', \"position: absolute; left: 0; top: 0; z-index: 1;\")\n",
       "\n",
       "    var pass_mouse_events = true;\n",
       "\n",
       "    canvas_div.resizable({\n",
       "        start: function(event, ui) {\n",
       "            pass_mouse_events = false;\n",
       "        },\n",
       "        resize: function(event, ui) {\n",
       "            fig.request_resize(ui.size.width, ui.size.height);\n",
       "        },\n",
       "        stop: function(event, ui) {\n",
       "            pass_mouse_events = true;\n",
       "            fig.request_resize(ui.size.width, ui.size.height);\n",
       "        },\n",
       "    });\n",
       "\n",
       "    function mouse_event_fn(event) {\n",
       "        if (pass_mouse_events)\n",
       "            return fig.mouse_event(event, event['data']);\n",
       "    }\n",
       "\n",
       "    rubberband.mousedown('button_press', mouse_event_fn);\n",
       "    rubberband.mouseup('button_release', mouse_event_fn);\n",
       "    // Throttle sequential mouse events to 1 every 20ms.\n",
       "    rubberband.mousemove('motion_notify', mouse_event_fn);\n",
       "\n",
       "    rubberband.mouseenter('figure_enter', mouse_event_fn);\n",
       "    rubberband.mouseleave('figure_leave', mouse_event_fn);\n",
       "\n",
       "    canvas_div.on(\"wheel\", function (event) {\n",
       "        event = event.originalEvent;\n",
       "        event['data'] = 'scroll'\n",
       "        if (event.deltaY < 0) {\n",
       "            event.step = 1;\n",
       "        } else {\n",
       "            event.step = -1;\n",
       "        }\n",
       "        mouse_event_fn(event);\n",
       "    });\n",
       "\n",
       "    canvas_div.append(canvas);\n",
       "    canvas_div.append(rubberband);\n",
       "\n",
       "    this.rubberband = rubberband;\n",
       "    this.rubberband_canvas = rubberband[0];\n",
       "    this.rubberband_context = rubberband[0].getContext(\"2d\");\n",
       "    this.rubberband_context.strokeStyle = \"#000000\";\n",
       "\n",
       "    this._resize_canvas = function(width, height) {\n",
       "        // Keep the size of the canvas, canvas container, and rubber band\n",
       "        // canvas in synch.\n",
       "        canvas_div.css('width', width)\n",
       "        canvas_div.css('height', height)\n",
       "\n",
       "        canvas.attr('width', width * mpl.ratio);\n",
       "        canvas.attr('height', height * mpl.ratio);\n",
       "        canvas.attr('style', 'width: ' + width + 'px; height: ' + height + 'px;');\n",
       "\n",
       "        rubberband.attr('width', width);\n",
       "        rubberband.attr('height', height);\n",
       "    }\n",
       "\n",
       "    // Set the figure to an initial 600x600px, this will subsequently be updated\n",
       "    // upon first draw.\n",
       "    this._resize_canvas(600, 600);\n",
       "\n",
       "    // Disable right mouse context menu.\n",
       "    $(this.rubberband_canvas).bind(\"contextmenu\",function(e){\n",
       "        return false;\n",
       "    });\n",
       "\n",
       "    function set_focus () {\n",
       "        canvas.focus();\n",
       "        canvas_div.focus();\n",
       "    }\n",
       "\n",
       "    window.setTimeout(set_focus, 100);\n",
       "}\n",
       "\n",
       "mpl.figure.prototype._init_toolbar = function() {\n",
       "    var fig = this;\n",
       "\n",
       "    var nav_element = $('<div/>');\n",
       "    nav_element.attr('style', 'width: 100%');\n",
       "    this.root.append(nav_element);\n",
       "\n",
       "    // Define a callback function for later on.\n",
       "    function toolbar_event(event) {\n",
       "        return fig.toolbar_button_onclick(event['data']);\n",
       "    }\n",
       "    function toolbar_mouse_event(event) {\n",
       "        return fig.toolbar_button_onmouseover(event['data']);\n",
       "    }\n",
       "\n",
       "    for(var toolbar_ind in mpl.toolbar_items) {\n",
       "        var name = mpl.toolbar_items[toolbar_ind][0];\n",
       "        var tooltip = mpl.toolbar_items[toolbar_ind][1];\n",
       "        var image = mpl.toolbar_items[toolbar_ind][2];\n",
       "        var method_name = mpl.toolbar_items[toolbar_ind][3];\n",
       "\n",
       "        if (!name) {\n",
       "            // put a spacer in here.\n",
       "            continue;\n",
       "        }\n",
       "        var button = $('<button/>');\n",
       "        button.addClass('ui-button ui-widget ui-state-default ui-corner-all ' +\n",
       "                        'ui-button-icon-only');\n",
       "        button.attr('role', 'button');\n",
       "        button.attr('aria-disabled', 'false');\n",
       "        button.click(method_name, toolbar_event);\n",
       "        button.mouseover(tooltip, toolbar_mouse_event);\n",
       "\n",
       "        var icon_img = $('<span/>');\n",
       "        icon_img.addClass('ui-button-icon-primary ui-icon');\n",
       "        icon_img.addClass(image);\n",
       "        icon_img.addClass('ui-corner-all');\n",
       "\n",
       "        var tooltip_span = $('<span/>');\n",
       "        tooltip_span.addClass('ui-button-text');\n",
       "        tooltip_span.html(tooltip);\n",
       "\n",
       "        button.append(icon_img);\n",
       "        button.append(tooltip_span);\n",
       "\n",
       "        nav_element.append(button);\n",
       "    }\n",
       "\n",
       "    var fmt_picker_span = $('<span/>');\n",
       "\n",
       "    var fmt_picker = $('<select/>');\n",
       "    fmt_picker.addClass('mpl-toolbar-option ui-widget ui-widget-content');\n",
       "    fmt_picker_span.append(fmt_picker);\n",
       "    nav_element.append(fmt_picker_span);\n",
       "    this.format_dropdown = fmt_picker[0];\n",
       "\n",
       "    for (var ind in mpl.extensions) {\n",
       "        var fmt = mpl.extensions[ind];\n",
       "        var option = $(\n",
       "            '<option/>', {selected: fmt === mpl.default_extension}).html(fmt);\n",
       "        fmt_picker.append(option);\n",
       "    }\n",
       "\n",
       "    // Add hover states to the ui-buttons\n",
       "    $( \".ui-button\" ).hover(\n",
       "        function() { $(this).addClass(\"ui-state-hover\");},\n",
       "        function() { $(this).removeClass(\"ui-state-hover\");}\n",
       "    );\n",
       "\n",
       "    var status_bar = $('<span class=\"mpl-message\"/>');\n",
       "    nav_element.append(status_bar);\n",
       "    this.message = status_bar[0];\n",
       "}\n",
       "\n",
       "mpl.figure.prototype.request_resize = function(x_pixels, y_pixels) {\n",
       "    // Request matplotlib to resize the figure. Matplotlib will then trigger a resize in the client,\n",
       "    // which will in turn request a refresh of the image.\n",
       "    this.send_message('resize', {'width': x_pixels, 'height': y_pixels});\n",
       "}\n",
       "\n",
       "mpl.figure.prototype.send_message = function(type, properties) {\n",
       "    properties['type'] = type;\n",
       "    properties['figure_id'] = this.id;\n",
       "    this.ws.send(JSON.stringify(properties));\n",
       "}\n",
       "\n",
       "mpl.figure.prototype.send_draw_message = function() {\n",
       "    if (!this.waiting) {\n",
       "        this.waiting = true;\n",
       "        this.ws.send(JSON.stringify({type: \"draw\", figure_id: this.id}));\n",
       "    }\n",
       "}\n",
       "\n",
       "\n",
       "mpl.figure.prototype.handle_save = function(fig, msg) {\n",
       "    var format_dropdown = fig.format_dropdown;\n",
       "    var format = format_dropdown.options[format_dropdown.selectedIndex].value;\n",
       "    fig.ondownload(fig, format);\n",
       "}\n",
       "\n",
       "\n",
       "mpl.figure.prototype.handle_resize = function(fig, msg) {\n",
       "    var size = msg['size'];\n",
       "    if (size[0] != fig.canvas.width || size[1] != fig.canvas.height) {\n",
       "        fig._resize_canvas(size[0], size[1]);\n",
       "        fig.send_message(\"refresh\", {});\n",
       "    };\n",
       "}\n",
       "\n",
       "mpl.figure.prototype.handle_rubberband = function(fig, msg) {\n",
       "    var x0 = msg['x0'] / mpl.ratio;\n",
       "    var y0 = (fig.canvas.height - msg['y0']) / mpl.ratio;\n",
       "    var x1 = msg['x1'] / mpl.ratio;\n",
       "    var y1 = (fig.canvas.height - msg['y1']) / mpl.ratio;\n",
       "    x0 = Math.floor(x0) + 0.5;\n",
       "    y0 = Math.floor(y0) + 0.5;\n",
       "    x1 = Math.floor(x1) + 0.5;\n",
       "    y1 = Math.floor(y1) + 0.5;\n",
       "    var min_x = Math.min(x0, x1);\n",
       "    var min_y = Math.min(y0, y1);\n",
       "    var width = Math.abs(x1 - x0);\n",
       "    var height = Math.abs(y1 - y0);\n",
       "\n",
       "    fig.rubberband_context.clearRect(\n",
       "        0, 0, fig.canvas.width / mpl.ratio, fig.canvas.height / mpl.ratio);\n",
       "\n",
       "    fig.rubberband_context.strokeRect(min_x, min_y, width, height);\n",
       "}\n",
       "\n",
       "mpl.figure.prototype.handle_figure_label = function(fig, msg) {\n",
       "    // Updates the figure title.\n",
       "    fig.header.textContent = msg['label'];\n",
       "}\n",
       "\n",
       "mpl.figure.prototype.handle_cursor = function(fig, msg) {\n",
       "    var cursor = msg['cursor'];\n",
       "    switch(cursor)\n",
       "    {\n",
       "    case 0:\n",
       "        cursor = 'pointer';\n",
       "        break;\n",
       "    case 1:\n",
       "        cursor = 'default';\n",
       "        break;\n",
       "    case 2:\n",
       "        cursor = 'crosshair';\n",
       "        break;\n",
       "    case 3:\n",
       "        cursor = 'move';\n",
       "        break;\n",
       "    }\n",
       "    fig.rubberband_canvas.style.cursor = cursor;\n",
       "}\n",
       "\n",
       "mpl.figure.prototype.handle_message = function(fig, msg) {\n",
       "    fig.message.textContent = msg['message'];\n",
       "}\n",
       "\n",
       "mpl.figure.prototype.handle_draw = function(fig, msg) {\n",
       "    // Request the server to send over a new figure.\n",
       "    fig.send_draw_message();\n",
       "}\n",
       "\n",
       "mpl.figure.prototype.handle_image_mode = function(fig, msg) {\n",
       "    fig.image_mode = msg['mode'];\n",
       "}\n",
       "\n",
       "mpl.figure.prototype.updated_canvas_event = function() {\n",
       "    // Called whenever the canvas gets updated.\n",
       "    this.send_message(\"ack\", {});\n",
       "}\n",
       "\n",
       "// A function to construct a web socket function for onmessage handling.\n",
       "// Called in the figure constructor.\n",
       "mpl.figure.prototype._make_on_message_function = function(fig) {\n",
       "    return function socket_on_message(evt) {\n",
       "        if (evt.data instanceof Blob) {\n",
       "            /* FIXME: We get \"Resource interpreted as Image but\n",
       "             * transferred with MIME type text/plain:\" errors on\n",
       "             * Chrome.  But how to set the MIME type?  It doesn't seem\n",
       "             * to be part of the websocket stream */\n",
       "            evt.data.type = \"image/png\";\n",
       "\n",
       "            /* Free the memory for the previous frames */\n",
       "            if (fig.imageObj.src) {\n",
       "                (window.URL || window.webkitURL).revokeObjectURL(\n",
       "                    fig.imageObj.src);\n",
       "            }\n",
       "\n",
       "            fig.imageObj.src = (window.URL || window.webkitURL).createObjectURL(\n",
       "                evt.data);\n",
       "            fig.updated_canvas_event();\n",
       "            fig.waiting = false;\n",
       "            return;\n",
       "        }\n",
       "        else if (typeof evt.data === 'string' && evt.data.slice(0, 21) == \"data:image/png;base64\") {\n",
       "            fig.imageObj.src = evt.data;\n",
       "            fig.updated_canvas_event();\n",
       "            fig.waiting = false;\n",
       "            return;\n",
       "        }\n",
       "\n",
       "        var msg = JSON.parse(evt.data);\n",
       "        var msg_type = msg['type'];\n",
       "\n",
       "        // Call the  \"handle_{type}\" callback, which takes\n",
       "        // the figure and JSON message as its only arguments.\n",
       "        try {\n",
       "            var callback = fig[\"handle_\" + msg_type];\n",
       "        } catch (e) {\n",
       "            console.log(\"No handler for the '\" + msg_type + \"' message type: \", msg);\n",
       "            return;\n",
       "        }\n",
       "\n",
       "        if (callback) {\n",
       "            try {\n",
       "                // console.log(\"Handling '\" + msg_type + \"' message: \", msg);\n",
       "                callback(fig, msg);\n",
       "            } catch (e) {\n",
       "                console.log(\"Exception inside the 'handler_\" + msg_type + \"' callback:\", e, e.stack, msg);\n",
       "            }\n",
       "        }\n",
       "    };\n",
       "}\n",
       "\n",
       "// from http://stackoverflow.com/questions/1114465/getting-mouse-location-in-canvas\n",
       "mpl.findpos = function(e) {\n",
       "    //this section is from http://www.quirksmode.org/js/events_properties.html\n",
       "    var targ;\n",
       "    if (!e)\n",
       "        e = window.event;\n",
       "    if (e.target)\n",
       "        targ = e.target;\n",
       "    else if (e.srcElement)\n",
       "        targ = e.srcElement;\n",
       "    if (targ.nodeType == 3) // defeat Safari bug\n",
       "        targ = targ.parentNode;\n",
       "\n",
       "    // jQuery normalizes the pageX and pageY\n",
       "    // pageX,Y are the mouse positions relative to the document\n",
       "    // offset() returns the position of the element relative to the document\n",
       "    var x = e.pageX - $(targ).offset().left;\n",
       "    var y = e.pageY - $(targ).offset().top;\n",
       "\n",
       "    return {\"x\": x, \"y\": y};\n",
       "};\n",
       "\n",
       "/*\n",
       " * return a copy of an object with only non-object keys\n",
       " * we need this to avoid circular references\n",
       " * http://stackoverflow.com/a/24161582/3208463\n",
       " */\n",
       "function simpleKeys (original) {\n",
       "  return Object.keys(original).reduce(function (obj, key) {\n",
       "    if (typeof original[key] !== 'object')\n",
       "        obj[key] = original[key]\n",
       "    return obj;\n",
       "  }, {});\n",
       "}\n",
       "\n",
       "mpl.figure.prototype.mouse_event = function(event, name) {\n",
       "    var canvas_pos = mpl.findpos(event)\n",
       "\n",
       "    if (name === 'button_press')\n",
       "    {\n",
       "        this.canvas.focus();\n",
       "        this.canvas_div.focus();\n",
       "    }\n",
       "\n",
       "    var x = canvas_pos.x * mpl.ratio;\n",
       "    var y = canvas_pos.y * mpl.ratio;\n",
       "\n",
       "    this.send_message(name, {x: x, y: y, button: event.button,\n",
       "                             step: event.step,\n",
       "                             guiEvent: simpleKeys(event)});\n",
       "\n",
       "    /* This prevents the web browser from automatically changing to\n",
       "     * the text insertion cursor when the button is pressed.  We want\n",
       "     * to control all of the cursor setting manually through the\n",
       "     * 'cursor' event from matplotlib */\n",
       "    event.preventDefault();\n",
       "    return false;\n",
       "}\n",
       "\n",
       "mpl.figure.prototype._key_event_extra = function(event, name) {\n",
       "    // Handle any extra behaviour associated with a key event\n",
       "}\n",
       "\n",
       "mpl.figure.prototype.key_event = function(event, name) {\n",
       "\n",
       "    // Prevent repeat events\n",
       "    if (name == 'key_press')\n",
       "    {\n",
       "        if (event.which === this._key)\n",
       "            return;\n",
       "        else\n",
       "            this._key = event.which;\n",
       "    }\n",
       "    if (name == 'key_release')\n",
       "        this._key = null;\n",
       "\n",
       "    var value = '';\n",
       "    if (event.ctrlKey && event.which != 17)\n",
       "        value += \"ctrl+\";\n",
       "    if (event.altKey && event.which != 18)\n",
       "        value += \"alt+\";\n",
       "    if (event.shiftKey && event.which != 16)\n",
       "        value += \"shift+\";\n",
       "\n",
       "    value += 'k';\n",
       "    value += event.which.toString();\n",
       "\n",
       "    this._key_event_extra(event, name);\n",
       "\n",
       "    this.send_message(name, {key: value,\n",
       "                             guiEvent: simpleKeys(event)});\n",
       "    return false;\n",
       "}\n",
       "\n",
       "mpl.figure.prototype.toolbar_button_onclick = function(name) {\n",
       "    if (name == 'download') {\n",
       "        this.handle_save(this, null);\n",
       "    } else {\n",
       "        this.send_message(\"toolbar_button\", {name: name});\n",
       "    }\n",
       "};\n",
       "\n",
       "mpl.figure.prototype.toolbar_button_onmouseover = function(tooltip) {\n",
       "    this.message.textContent = tooltip;\n",
       "};\n",
       "mpl.toolbar_items = [[\"Home\", \"Reset original view\", \"fa fa-home icon-home\", \"home\"], [\"Back\", \"Back to previous view\", \"fa fa-arrow-left icon-arrow-left\", \"back\"], [\"Forward\", \"Forward to next view\", \"fa fa-arrow-right icon-arrow-right\", \"forward\"], [\"\", \"\", \"\", \"\"], [\"Pan\", \"Pan axes with left mouse, zoom with right\", \"fa fa-arrows icon-move\", \"pan\"], [\"Zoom\", \"Zoom to rectangle\", \"fa fa-square-o icon-check-empty\", \"zoom\"], [\"\", \"\", \"\", \"\"], [\"Download\", \"Download plot\", \"fa fa-floppy-o icon-save\", \"download\"]];\n",
       "\n",
       "mpl.extensions = [\"eps\", \"pdf\", \"png\", \"ps\", \"raw\", \"svg\"];\n",
       "\n",
       "mpl.default_extension = \"png\";var comm_websocket_adapter = function(comm) {\n",
       "    // Create a \"websocket\"-like object which calls the given IPython comm\n",
       "    // object with the appropriate methods. Currently this is a non binary\n",
       "    // socket, so there is still some room for performance tuning.\n",
       "    var ws = {};\n",
       "\n",
       "    ws.close = function() {\n",
       "        comm.close()\n",
       "    };\n",
       "    ws.send = function(m) {\n",
       "        //console.log('sending', m);\n",
       "        comm.send(m);\n",
       "    };\n",
       "    // Register the callback with on_msg.\n",
       "    comm.on_msg(function(msg) {\n",
       "        //console.log('receiving', msg['content']['data'], msg);\n",
       "        // Pass the mpl event to the overridden (by mpl) onmessage function.\n",
       "        ws.onmessage(msg['content']['data'])\n",
       "    });\n",
       "    return ws;\n",
       "}\n",
       "\n",
       "mpl.mpl_figure_comm = function(comm, msg) {\n",
       "    // This is the function which gets called when the mpl process\n",
       "    // starts-up an IPython Comm through the \"matplotlib\" channel.\n",
       "\n",
       "    var id = msg.content.data.id;\n",
       "    // Get hold of the div created by the display call when the Comm\n",
       "    // socket was opened in Python.\n",
       "    var element = $(\"#\" + id);\n",
       "    var ws_proxy = comm_websocket_adapter(comm)\n",
       "\n",
       "    function ondownload(figure, format) {\n",
       "        window.open(figure.imageObj.src);\n",
       "    }\n",
       "\n",
       "    var fig = new mpl.figure(id, ws_proxy,\n",
       "                           ondownload,\n",
       "                           element.get(0));\n",
       "\n",
       "    // Call onopen now - mpl needs it, as it is assuming we've passed it a real\n",
       "    // web socket which is closed, not our websocket->open comm proxy.\n",
       "    ws_proxy.onopen();\n",
       "\n",
       "    fig.parent_element = element.get(0);\n",
       "    fig.cell_info = mpl.find_output_cell(\"<div id='\" + id + \"'></div>\");\n",
       "    if (!fig.cell_info) {\n",
       "        console.error(\"Failed to find cell for figure\", id, fig);\n",
       "        return;\n",
       "    }\n",
       "\n",
       "    var output_index = fig.cell_info[2]\n",
       "    var cell = fig.cell_info[0];\n",
       "\n",
       "};\n",
       "\n",
       "mpl.figure.prototype.handle_close = function(fig, msg) {\n",
       "    var width = fig.canvas.width/mpl.ratio\n",
       "    fig.root.unbind('remove')\n",
       "\n",
       "    // Update the output cell to use the data from the current canvas.\n",
       "    fig.push_to_output();\n",
       "    var dataURL = fig.canvas.toDataURL();\n",
       "    // Re-enable the keyboard manager in IPython - without this line, in FF,\n",
       "    // the notebook keyboard shortcuts fail.\n",
       "    IPython.keyboard_manager.enable()\n",
       "    $(fig.parent_element).html('<img src=\"' + dataURL + '\" width=\"' + width + '\">');\n",
       "    fig.close_ws(fig, msg);\n",
       "}\n",
       "\n",
       "mpl.figure.prototype.close_ws = function(fig, msg){\n",
       "    fig.send_message('closing', msg);\n",
       "    // fig.ws.close()\n",
       "}\n",
       "\n",
       "mpl.figure.prototype.push_to_output = function(remove_interactive) {\n",
       "    // Turn the data on the canvas into data in the output cell.\n",
       "    var width = this.canvas.width/mpl.ratio\n",
       "    var dataURL = this.canvas.toDataURL();\n",
       "    this.cell_info[1]['text/html'] = '<img src=\"' + dataURL + '\" width=\"' + width + '\">';\n",
       "}\n",
       "\n",
       "mpl.figure.prototype.updated_canvas_event = function() {\n",
       "    // Tell IPython that the notebook contents must change.\n",
       "    IPython.notebook.set_dirty(true);\n",
       "    this.send_message(\"ack\", {});\n",
       "    var fig = this;\n",
       "    // Wait a second, then push the new image to the DOM so\n",
       "    // that it is saved nicely (might be nice to debounce this).\n",
       "    setTimeout(function () { fig.push_to_output() }, 1000);\n",
       "}\n",
       "\n",
       "mpl.figure.prototype._init_toolbar = function() {\n",
       "    var fig = this;\n",
       "\n",
       "    var nav_element = $('<div/>');\n",
       "    nav_element.attr('style', 'width: 100%');\n",
       "    this.root.append(nav_element);\n",
       "\n",
       "    // Define a callback function for later on.\n",
       "    function toolbar_event(event) {\n",
       "        return fig.toolbar_button_onclick(event['data']);\n",
       "    }\n",
       "    function toolbar_mouse_event(event) {\n",
       "        return fig.toolbar_button_onmouseover(event['data']);\n",
       "    }\n",
       "\n",
       "    for(var toolbar_ind in mpl.toolbar_items){\n",
       "        var name = mpl.toolbar_items[toolbar_ind][0];\n",
       "        var tooltip = mpl.toolbar_items[toolbar_ind][1];\n",
       "        var image = mpl.toolbar_items[toolbar_ind][2];\n",
       "        var method_name = mpl.toolbar_items[toolbar_ind][3];\n",
       "\n",
       "        if (!name) { continue; };\n",
       "\n",
       "        var button = $('<button class=\"btn btn-default\" href=\"#\" title=\"' + name + '\"><i class=\"fa ' + image + ' fa-lg\"></i></button>');\n",
       "        button.click(method_name, toolbar_event);\n",
       "        button.mouseover(tooltip, toolbar_mouse_event);\n",
       "        nav_element.append(button);\n",
       "    }\n",
       "\n",
       "    // Add the status bar.\n",
       "    var status_bar = $('<span class=\"mpl-message\" style=\"text-align:right; float: right;\"/>');\n",
       "    nav_element.append(status_bar);\n",
       "    this.message = status_bar[0];\n",
       "\n",
       "    // Add the close button to the window.\n",
       "    var buttongrp = $('<div class=\"btn-group inline pull-right\"></div>');\n",
       "    var button = $('<button class=\"btn btn-mini btn-primary\" href=\"#\" title=\"Stop Interaction\"><i class=\"fa fa-power-off icon-remove icon-large\"></i></button>');\n",
       "    button.click(function (evt) { fig.handle_close(fig, {}); } );\n",
       "    button.mouseover('Stop Interaction', toolbar_mouse_event);\n",
       "    buttongrp.append(button);\n",
       "    var titlebar = this.root.find($('.ui-dialog-titlebar'));\n",
       "    titlebar.prepend(buttongrp);\n",
       "}\n",
       "\n",
       "mpl.figure.prototype._root_extra_style = function(el){\n",
       "    var fig = this\n",
       "    el.on(\"remove\", function(){\n",
       "\tfig.close_ws(fig, {});\n",
       "    });\n",
       "}\n",
       "\n",
       "mpl.figure.prototype._canvas_extra_style = function(el){\n",
       "    // this is important to make the div 'focusable\n",
       "    el.attr('tabindex', 0)\n",
       "    // reach out to IPython and tell the keyboard manager to turn it's self\n",
       "    // off when our div gets focus\n",
       "\n",
       "    // location in version 3\n",
       "    if (IPython.notebook.keyboard_manager) {\n",
       "        IPython.notebook.keyboard_manager.register_events(el);\n",
       "    }\n",
       "    else {\n",
       "        // location in version 2\n",
       "        IPython.keyboard_manager.register_events(el);\n",
       "    }\n",
       "\n",
       "}\n",
       "\n",
       "mpl.figure.prototype._key_event_extra = function(event, name) {\n",
       "    var manager = IPython.notebook.keyboard_manager;\n",
       "    if (!manager)\n",
       "        manager = IPython.keyboard_manager;\n",
       "\n",
       "    // Check for shift+enter\n",
       "    if (event.shiftKey && event.which == 13) {\n",
       "        this.canvas_div.blur();\n",
       "        // select the cell after this one\n",
       "        var index = IPython.notebook.find_cell_index(this.cell_info[0]);\n",
       "        IPython.notebook.select(index + 1);\n",
       "    }\n",
       "}\n",
       "\n",
       "mpl.figure.prototype.handle_save = function(fig, msg) {\n",
       "    fig.ondownload(fig, null);\n",
       "}\n",
       "\n",
       "\n",
       "mpl.find_output_cell = function(html_output) {\n",
       "    // Return the cell and output element which can be found *uniquely* in the notebook.\n",
       "    // Note - this is a bit hacky, but it is done because the \"notebook_saving.Notebook\"\n",
       "    // IPython event is triggered only after the cells have been serialised, which for\n",
       "    // our purposes (turning an active figure into a static one), is too late.\n",
       "    var cells = IPython.notebook.get_cells();\n",
       "    var ncells = cells.length;\n",
       "    for (var i=0; i<ncells; i++) {\n",
       "        var cell = cells[i];\n",
       "        if (cell.cell_type === 'code'){\n",
       "            for (var j=0; j<cell.output_area.outputs.length; j++) {\n",
       "                var data = cell.output_area.outputs[j];\n",
       "                if (data.data) {\n",
       "                    // IPython >= 3 moved mimebundle to data attribute of output\n",
       "                    data = data.data;\n",
       "                }\n",
       "                if (data['text/html'] == html_output) {\n",
       "                    return [cell, data, j];\n",
       "                }\n",
       "            }\n",
       "        }\n",
       "    }\n",
       "}\n",
       "\n",
       "// Register the function which deals with the matplotlib target/channel.\n",
       "// The kernel may be null if the page has been refreshed.\n",
       "if (IPython.notebook.kernel != null) {\n",
       "    IPython.notebook.kernel.comm_manager.register_target('matplotlib', mpl.mpl_figure_comm);\n",
       "}\n"
      ],
      "text/plain": [
       "<IPython.core.display.Javascript object>"
      ]
     },
     "metadata": {},
     "output_type": "display_data"
    },
    {
     "data": {
      "text/html": [
       "<img src=\"data:image/png;base64,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\" width=\"640\">"
      ],
      "text/plain": [
       "<IPython.core.display.HTML object>"
      ]
     },
     "metadata": {},
     "output_type": "display_data"
    },
    {
     "data": {
      "application/vnd.jupyter.widget-view+json": {
       "model_id": "4d294c5bd8384f32a03e9526088e8f79",
       "version_major": 2,
       "version_minor": 0
      },
      "text/plain": [
       "interactive(children=(FloatSlider(value=1.0, description='v1', max=5.0, min=-5.0), FloatSlider(value=2.0, desc…"
      ]
     },
     "metadata": {},
     "output_type": "display_data"
    }
   ],
   "source": [
    "fig, ax = plt.subplots()\n",
    "\n",
    "\n",
    "@interact(v1=(-5,5,0.1), v2=(-5,5,0.1), w1=(-5,5,0.1), w2=(-5,5,0.1))\n",
    "def update(v1=1, v2=2, w1=2, w2=0.5):\n",
    "    ax.cla()\n",
    "    u1, u2 = v1+w1, v2+w2\n",
    "    ax.arrow(0, 0, v1*0.9, v2*0.9, head_width=0.25, head_length=0.25, fc='g', ec='g')\n",
    "    ax.arrow(v1, v2, w1*0.9, w2*0.9, head_width=0.25, head_length=0.25, fc='b', ec='b')\n",
    "    ax.arrow(0, 0, u1*0.9, u2*0.9, head_width=0.25, head_length=0.25, fc='k', ec='k')\n",
    "    fig.canvas.draw_idle()\n",
    "    plt.xlim(-5, 5)\n",
    "    plt.ylim(-5, 5)\n",
    "    plt.xlabel('$X_1$')\n",
    "    plt.ylabel('$X_2$')\n",
    "    plt.title('2D Vector')\n",
    "    plt.grid(True)\n",
    "    fig.tight_layout()"
   ]
  },
  {
   "cell_type": "markdown",
   "metadata": {
    "cell_style": "split",
    "slideshow": {
     "slide_type": "subslide"
    }
   },
   "source": [
    "### Scalar Vector Multiplication\n",
    "\n",
    "$$  \\alpha \\vec{V} \\quad = \\quad [\\:\\alpha\\:  v_1, \\:\\alpha\\: v_2, \\: _\\cdots, \\: \\alpha\\: v_n ] $$\n",
    "\n",
    "\n",
    "+ Changes Magnitude\n",
    "+ Does not change direction\n",
    "  + Can flip if $\\alpha$ is negative"
   ]
  },
  {
   "cell_type": "markdown",
   "metadata": {
    "cell_style": "split",
    "slideshow": {
     "slide_type": "-"
    }
   },
   "source": [
    "<img src=\"vector_span.png\" width=\"75%\">"
   ]
  },
  {
   "cell_type": "markdown",
   "metadata": {
    "slideshow": {
     "slide_type": "notes"
    }
   },
   "source": []
  },
  {
   "cell_type": "markdown",
   "metadata": {
    "cell_style": "split",
    "slideshow": {
     "slide_type": "subslide"
    }
   },
   "source": [
    "### Dimension and Span\n",
    "\n",
    "+ How many dimentions does a vector occupy?\n",
    "\n",
    "+ How much of that space can that vector reach?\n",
    "\n",
    "+ What is the Volume?"
   ]
  },
  {
   "cell_type": "markdown",
   "metadata": {
    "cell_style": "split"
   },
   "source": [
    "<img src=\"vector_span.png\" width=\"75%\">"
   ]
  },
  {
   "cell_type": "markdown",
   "metadata": {
    "cell_style": "split",
    "slideshow": {
     "slide_type": "fragment"
    }
   },
   "source": [
    "+ What about 2 vectors?"
   ]
  },
  {
   "cell_type": "code",
   "execution_count": null,
   "metadata": {
    "slideshow": {
     "slide_type": "notes"
    }
   },
   "outputs": [],
   "source": []
  },
  {
   "cell_type": "markdown",
   "metadata": {
    "cell_style": "split",
    "slideshow": {
     "slide_type": "subslide"
    }
   },
   "source": [
    "### Vector Multiplication\n",
    "\n",
    "+ Elementwise\n",
    "\n",
    "\n",
    "+ Outter product\n",
    "\n",
    "\n",
    "+ Inner (Dot) product\n",
    "\n"
   ]
  },
  {
   "cell_type": "markdown",
   "metadata": {
    "cell_style": "split",
    "slideshow": {
     "slide_type": "-"
    }
   },
   "source": [
    "<img src=\"vector_multhing.png\" width=\"100%\">\n",
    "\n",
    "This kind of funny?"
   ]
  },
  {
   "cell_type": "markdown",
   "metadata": {
    "slideshow": {
     "slide_type": "notes"
    }
   },
   "source": []
  },
  {
   "cell_type": "markdown",
   "metadata": {
    "cell_style": "split",
    "slideshow": {
     "slide_type": "subslide"
    }
   },
   "source": [
    "#### Elementwise\n",
    "\n",
    "\n",
    "  + Multiply each respective element\n",
    "    + Store then in the respective place\n",
    "  + Requires vectors be same size\n",
    "  + First one thinks off\n",
    "    + After scalar"
   ]
  },
  {
   "cell_type": "markdown",
   "metadata": {
    "cell_style": "split",
    "slideshow": {
     "slide_type": "-"
    }
   },
   "source": [
    "\n",
    "$$ \\vec{W} \\odot \\vec{V} = \\quad = \\quad [\\:v_1 \\: w_1, \\:v_2 \\: w_2, \\: _\\cdots, \\: v_n \\: w_n ] $$\n"
   ]
  },
  {
   "cell_type": "code",
   "execution_count": null,
   "metadata": {
    "slideshow": {
     "slide_type": "notes"
    }
   },
   "outputs": [],
   "source": []
  },
  {
   "cell_type": "markdown",
   "metadata": {
    "cell_style": "split",
    "slideshow": {
     "slide_type": "subslide"
    }
   },
   "source": [
    "#### Outer Product\n",
    "\n",
    "\n",
    "\n",
    "+ Returns a Matrix\n",
    "\n",
    "+ Directions of rows and columns?\n",
    "  + Think span and scalar multiplication\n",
    " "
   ]
  },
  {
   "cell_type": "markdown",
   "metadata": {
    "cell_style": "split",
    "slideshow": {
     "slide_type": "-"
    }
   },
   "source": [
    "$$ \\vec{W} \\otimes \\vec{V} \\quad  = \\quad \\begin{bmatrix} \n",
    "    \\:v_1 \\: w_1 &\\:v_2 \\: w_1 &  \\dots & v_n \\: w_1 \\\\\n",
    "    \\:v_1 \\: w_2 &\\:v_2 \\: w_2 &   \\\\\n",
    "    \\vdots & & \\ddots & \\vdots \\\\\n",
    "    \\:v_1 \\: w_m & v_2 \\: w_m &  \\dots & v_n \\: w_m\\\\\n",
    "    \\end{bmatrix}\n",
    "$$\n"
   ]
  },
  {
   "cell_type": "markdown",
   "metadata": {
    "slideshow": {
     "slide_type": "notes"
    }
   },
   "source": []
  },
  {
   "cell_type": "markdown",
   "metadata": {
    "cell_style": "split",
    "slideshow": {
     "slide_type": "subslide"
    }
   },
   "source": [
    "### Inner (Dot) Product\n",
    "\n",
    "$$ \\vec{V} \\cdot \\vec{W} = \\quad = \\quad \\:v_1 \\: w_1 +  \\:v_2 \\: w_2 + \\: _\\cdots + \\: v_n \\: w_n  $$\n",
    "\n",
    "+ Sum of the elementwise multiplication\n",
    "+ Requires vectors are the same size\n",
    "+ $\\vec{V} \\cdot \\vec{V} = {|\\vec{V}|}^2$\n",
    "\n",
    "+ Most useful of all the vector products\n",
    "\n",
    "+ Sometimes called production if one vector is unit length"
   ]
  },
  {
   "cell_type": "markdown",
   "metadata": {
    "cell_style": "split",
    "slideshow": {
     "slide_type": "-"
    }
   },
   "source": [
    "<img src=\"1280px-Dot_Product.svg.png\" width=\"75%\">\n",
    "\n",
    "https://en.wikipedia.org/wiki/Dot_product"
   ]
  },
  {
   "cell_type": "code",
   "execution_count": 6,
   "metadata": {
    "slideshow": {
     "slide_type": "subslide"
    }
   },
   "outputs": [
    {
     "data": {
      "application/javascript": [
       "/* Put everything inside the global mpl namespace */\n",
       "window.mpl = {};\n",
       "\n",
       "\n",
       "mpl.get_websocket_type = function() {\n",
       "    if (typeof(WebSocket) !== 'undefined') {\n",
       "        return WebSocket;\n",
       "    } else if (typeof(MozWebSocket) !== 'undefined') {\n",
       "        return MozWebSocket;\n",
       "    } else {\n",
       "        alert('Your browser does not have WebSocket support. ' +\n",
       "              'Please try Chrome, Safari or Firefox ≥ 6. ' +\n",
       "              'Firefox 4 and 5 are also supported but you ' +\n",
       "              'have to enable WebSockets in about:config.');\n",
       "    };\n",
       "}\n",
       "\n",
       "mpl.figure = function(figure_id, websocket, ondownload, parent_element) {\n",
       "    this.id = figure_id;\n",
       "\n",
       "    this.ws = websocket;\n",
       "\n",
       "    this.supports_binary = (this.ws.binaryType != undefined);\n",
       "\n",
       "    if (!this.supports_binary) {\n",
       "        var warnings = document.getElementById(\"mpl-warnings\");\n",
       "        if (warnings) {\n",
       "            warnings.style.display = 'block';\n",
       "            warnings.textContent = (\n",
       "                \"This browser does not support binary websocket messages. \" +\n",
       "                    \"Performance may be slow.\");\n",
       "        }\n",
       "    }\n",
       "\n",
       "    this.imageObj = new Image();\n",
       "\n",
       "    this.context = undefined;\n",
       "    this.message = undefined;\n",
       "    this.canvas = undefined;\n",
       "    this.rubberband_canvas = undefined;\n",
       "    this.rubberband_context = undefined;\n",
       "    this.format_dropdown = undefined;\n",
       "\n",
       "    this.image_mode = 'full';\n",
       "\n",
       "    this.root = $('<div/>');\n",
       "    this._root_extra_style(this.root)\n",
       "    this.root.attr('style', 'display: inline-block');\n",
       "\n",
       "    $(parent_element).append(this.root);\n",
       "\n",
       "    this._init_header(this);\n",
       "    this._init_canvas(this);\n",
       "    this._init_toolbar(this);\n",
       "\n",
       "    var fig = this;\n",
       "\n",
       "    this.waiting = false;\n",
       "\n",
       "    this.ws.onopen =  function () {\n",
       "            fig.send_message(\"supports_binary\", {value: fig.supports_binary});\n",
       "            fig.send_message(\"send_image_mode\", {});\n",
       "            if (mpl.ratio != 1) {\n",
       "                fig.send_message(\"set_dpi_ratio\", {'dpi_ratio': mpl.ratio});\n",
       "            }\n",
       "            fig.send_message(\"refresh\", {});\n",
       "        }\n",
       "\n",
       "    this.imageObj.onload = function() {\n",
       "            if (fig.image_mode == 'full') {\n",
       "                // Full images could contain transparency (where diff images\n",
       "                // almost always do), so we need to clear the canvas so that\n",
       "                // there is no ghosting.\n",
       "                fig.context.clearRect(0, 0, fig.canvas.width, fig.canvas.height);\n",
       "            }\n",
       "            fig.context.drawImage(fig.imageObj, 0, 0);\n",
       "        };\n",
       "\n",
       "    this.imageObj.onunload = function() {\n",
       "        fig.ws.close();\n",
       "    }\n",
       "\n",
       "    this.ws.onmessage = this._make_on_message_function(this);\n",
       "\n",
       "    this.ondownload = ondownload;\n",
       "}\n",
       "\n",
       "mpl.figure.prototype._init_header = function() {\n",
       "    var titlebar = $(\n",
       "        '<div class=\"ui-dialog-titlebar ui-widget-header ui-corner-all ' +\n",
       "        'ui-helper-clearfix\"/>');\n",
       "    var titletext = $(\n",
       "        '<div class=\"ui-dialog-title\" style=\"width: 100%; ' +\n",
       "        'text-align: center; padding: 3px;\"/>');\n",
       "    titlebar.append(titletext)\n",
       "    this.root.append(titlebar);\n",
       "    this.header = titletext[0];\n",
       "}\n",
       "\n",
       "\n",
       "\n",
       "mpl.figure.prototype._canvas_extra_style = function(canvas_div) {\n",
       "\n",
       "}\n",
       "\n",
       "\n",
       "mpl.figure.prototype._root_extra_style = function(canvas_div) {\n",
       "\n",
       "}\n",
       "\n",
       "mpl.figure.prototype._init_canvas = function() {\n",
       "    var fig = this;\n",
       "\n",
       "    var canvas_div = $('<div/>');\n",
       "\n",
       "    canvas_div.attr('style', 'position: relative; clear: both; outline: 0');\n",
       "\n",
       "    function canvas_keyboard_event(event) {\n",
       "        return fig.key_event(event, event['data']);\n",
       "    }\n",
       "\n",
       "    canvas_div.keydown('key_press', canvas_keyboard_event);\n",
       "    canvas_div.keyup('key_release', canvas_keyboard_event);\n",
       "    this.canvas_div = canvas_div\n",
       "    this._canvas_extra_style(canvas_div)\n",
       "    this.root.append(canvas_div);\n",
       "\n",
       "    var canvas = $('<canvas/>');\n",
       "    canvas.addClass('mpl-canvas');\n",
       "    canvas.attr('style', \"left: 0; top: 0; z-index: 0; outline: 0\")\n",
       "\n",
       "    this.canvas = canvas[0];\n",
       "    this.context = canvas[0].getContext(\"2d\");\n",
       "\n",
       "    var backingStore = this.context.backingStorePixelRatio ||\n",
       "\tthis.context.webkitBackingStorePixelRatio ||\n",
       "\tthis.context.mozBackingStorePixelRatio ||\n",
       "\tthis.context.msBackingStorePixelRatio ||\n",
       "\tthis.context.oBackingStorePixelRatio ||\n",
       "\tthis.context.backingStorePixelRatio || 1;\n",
       "\n",
       "    mpl.ratio = (window.devicePixelRatio || 1) / backingStore;\n",
       "\n",
       "    var rubberband = $('<canvas/>');\n",
       "    rubberband.attr('style', \"position: absolute; left: 0; top: 0; z-index: 1;\")\n",
       "\n",
       "    var pass_mouse_events = true;\n",
       "\n",
       "    canvas_div.resizable({\n",
       "        start: function(event, ui) {\n",
       "            pass_mouse_events = false;\n",
       "        },\n",
       "        resize: function(event, ui) {\n",
       "            fig.request_resize(ui.size.width, ui.size.height);\n",
       "        },\n",
       "        stop: function(event, ui) {\n",
       "            pass_mouse_events = true;\n",
       "            fig.request_resize(ui.size.width, ui.size.height);\n",
       "        },\n",
       "    });\n",
       "\n",
       "    function mouse_event_fn(event) {\n",
       "        if (pass_mouse_events)\n",
       "            return fig.mouse_event(event, event['data']);\n",
       "    }\n",
       "\n",
       "    rubberband.mousedown('button_press', mouse_event_fn);\n",
       "    rubberband.mouseup('button_release', mouse_event_fn);\n",
       "    // Throttle sequential mouse events to 1 every 20ms.\n",
       "    rubberband.mousemove('motion_notify', mouse_event_fn);\n",
       "\n",
       "    rubberband.mouseenter('figure_enter', mouse_event_fn);\n",
       "    rubberband.mouseleave('figure_leave', mouse_event_fn);\n",
       "\n",
       "    canvas_div.on(\"wheel\", function (event) {\n",
       "        event = event.originalEvent;\n",
       "        event['data'] = 'scroll'\n",
       "        if (event.deltaY < 0) {\n",
       "            event.step = 1;\n",
       "        } else {\n",
       "            event.step = -1;\n",
       "        }\n",
       "        mouse_event_fn(event);\n",
       "    });\n",
       "\n",
       "    canvas_div.append(canvas);\n",
       "    canvas_div.append(rubberband);\n",
       "\n",
       "    this.rubberband = rubberband;\n",
       "    this.rubberband_canvas = rubberband[0];\n",
       "    this.rubberband_context = rubberband[0].getContext(\"2d\");\n",
       "    this.rubberband_context.strokeStyle = \"#000000\";\n",
       "\n",
       "    this._resize_canvas = function(width, height) {\n",
       "        // Keep the size of the canvas, canvas container, and rubber band\n",
       "        // canvas in synch.\n",
       "        canvas_div.css('width', width)\n",
       "        canvas_div.css('height', height)\n",
       "\n",
       "        canvas.attr('width', width * mpl.ratio);\n",
       "        canvas.attr('height', height * mpl.ratio);\n",
       "        canvas.attr('style', 'width: ' + width + 'px; height: ' + height + 'px;');\n",
       "\n",
       "        rubberband.attr('width', width);\n",
       "        rubberband.attr('height', height);\n",
       "    }\n",
       "\n",
       "    // Set the figure to an initial 600x600px, this will subsequently be updated\n",
       "    // upon first draw.\n",
       "    this._resize_canvas(600, 600);\n",
       "\n",
       "    // Disable right mouse context menu.\n",
       "    $(this.rubberband_canvas).bind(\"contextmenu\",function(e){\n",
       "        return false;\n",
       "    });\n",
       "\n",
       "    function set_focus () {\n",
       "        canvas.focus();\n",
       "        canvas_div.focus();\n",
       "    }\n",
       "\n",
       "    window.setTimeout(set_focus, 100);\n",
       "}\n",
       "\n",
       "mpl.figure.prototype._init_toolbar = function() {\n",
       "    var fig = this;\n",
       "\n",
       "    var nav_element = $('<div/>');\n",
       "    nav_element.attr('style', 'width: 100%');\n",
       "    this.root.append(nav_element);\n",
       "\n",
       "    // Define a callback function for later on.\n",
       "    function toolbar_event(event) {\n",
       "        return fig.toolbar_button_onclick(event['data']);\n",
       "    }\n",
       "    function toolbar_mouse_event(event) {\n",
       "        return fig.toolbar_button_onmouseover(event['data']);\n",
       "    }\n",
       "\n",
       "    for(var toolbar_ind in mpl.toolbar_items) {\n",
       "        var name = mpl.toolbar_items[toolbar_ind][0];\n",
       "        var tooltip = mpl.toolbar_items[toolbar_ind][1];\n",
       "        var image = mpl.toolbar_items[toolbar_ind][2];\n",
       "        var method_name = mpl.toolbar_items[toolbar_ind][3];\n",
       "\n",
       "        if (!name) {\n",
       "            // put a spacer in here.\n",
       "            continue;\n",
       "        }\n",
       "        var button = $('<button/>');\n",
       "        button.addClass('ui-button ui-widget ui-state-default ui-corner-all ' +\n",
       "                        'ui-button-icon-only');\n",
       "        button.attr('role', 'button');\n",
       "        button.attr('aria-disabled', 'false');\n",
       "        button.click(method_name, toolbar_event);\n",
       "        button.mouseover(tooltip, toolbar_mouse_event);\n",
       "\n",
       "        var icon_img = $('<span/>');\n",
       "        icon_img.addClass('ui-button-icon-primary ui-icon');\n",
       "        icon_img.addClass(image);\n",
       "        icon_img.addClass('ui-corner-all');\n",
       "\n",
       "        var tooltip_span = $('<span/>');\n",
       "        tooltip_span.addClass('ui-button-text');\n",
       "        tooltip_span.html(tooltip);\n",
       "\n",
       "        button.append(icon_img);\n",
       "        button.append(tooltip_span);\n",
       "\n",
       "        nav_element.append(button);\n",
       "    }\n",
       "\n",
       "    var fmt_picker_span = $('<span/>');\n",
       "\n",
       "    var fmt_picker = $('<select/>');\n",
       "    fmt_picker.addClass('mpl-toolbar-option ui-widget ui-widget-content');\n",
       "    fmt_picker_span.append(fmt_picker);\n",
       "    nav_element.append(fmt_picker_span);\n",
       "    this.format_dropdown = fmt_picker[0];\n",
       "\n",
       "    for (var ind in mpl.extensions) {\n",
       "        var fmt = mpl.extensions[ind];\n",
       "        var option = $(\n",
       "            '<option/>', {selected: fmt === mpl.default_extension}).html(fmt);\n",
       "        fmt_picker.append(option);\n",
       "    }\n",
       "\n",
       "    // Add hover states to the ui-buttons\n",
       "    $( \".ui-button\" ).hover(\n",
       "        function() { $(this).addClass(\"ui-state-hover\");},\n",
       "        function() { $(this).removeClass(\"ui-state-hover\");}\n",
       "    );\n",
       "\n",
       "    var status_bar = $('<span class=\"mpl-message\"/>');\n",
       "    nav_element.append(status_bar);\n",
       "    this.message = status_bar[0];\n",
       "}\n",
       "\n",
       "mpl.figure.prototype.request_resize = function(x_pixels, y_pixels) {\n",
       "    // Request matplotlib to resize the figure. Matplotlib will then trigger a resize in the client,\n",
       "    // which will in turn request a refresh of the image.\n",
       "    this.send_message('resize', {'width': x_pixels, 'height': y_pixels});\n",
       "}\n",
       "\n",
       "mpl.figure.prototype.send_message = function(type, properties) {\n",
       "    properties['type'] = type;\n",
       "    properties['figure_id'] = this.id;\n",
       "    this.ws.send(JSON.stringify(properties));\n",
       "}\n",
       "\n",
       "mpl.figure.prototype.send_draw_message = function() {\n",
       "    if (!this.waiting) {\n",
       "        this.waiting = true;\n",
       "        this.ws.send(JSON.stringify({type: \"draw\", figure_id: this.id}));\n",
       "    }\n",
       "}\n",
       "\n",
       "\n",
       "mpl.figure.prototype.handle_save = function(fig, msg) {\n",
       "    var format_dropdown = fig.format_dropdown;\n",
       "    var format = format_dropdown.options[format_dropdown.selectedIndex].value;\n",
       "    fig.ondownload(fig, format);\n",
       "}\n",
       "\n",
       "\n",
       "mpl.figure.prototype.handle_resize = function(fig, msg) {\n",
       "    var size = msg['size'];\n",
       "    if (size[0] != fig.canvas.width || size[1] != fig.canvas.height) {\n",
       "        fig._resize_canvas(size[0], size[1]);\n",
       "        fig.send_message(\"refresh\", {});\n",
       "    };\n",
       "}\n",
       "\n",
       "mpl.figure.prototype.handle_rubberband = function(fig, msg) {\n",
       "    var x0 = msg['x0'] / mpl.ratio;\n",
       "    var y0 = (fig.canvas.height - msg['y0']) / mpl.ratio;\n",
       "    var x1 = msg['x1'] / mpl.ratio;\n",
       "    var y1 = (fig.canvas.height - msg['y1']) / mpl.ratio;\n",
       "    x0 = Math.floor(x0) + 0.5;\n",
       "    y0 = Math.floor(y0) + 0.5;\n",
       "    x1 = Math.floor(x1) + 0.5;\n",
       "    y1 = Math.floor(y1) + 0.5;\n",
       "    var min_x = Math.min(x0, x1);\n",
       "    var min_y = Math.min(y0, y1);\n",
       "    var width = Math.abs(x1 - x0);\n",
       "    var height = Math.abs(y1 - y0);\n",
       "\n",
       "    fig.rubberband_context.clearRect(\n",
       "        0, 0, fig.canvas.width / mpl.ratio, fig.canvas.height / mpl.ratio);\n",
       "\n",
       "    fig.rubberband_context.strokeRect(min_x, min_y, width, height);\n",
       "}\n",
       "\n",
       "mpl.figure.prototype.handle_figure_label = function(fig, msg) {\n",
       "    // Updates the figure title.\n",
       "    fig.header.textContent = msg['label'];\n",
       "}\n",
       "\n",
       "mpl.figure.prototype.handle_cursor = function(fig, msg) {\n",
       "    var cursor = msg['cursor'];\n",
       "    switch(cursor)\n",
       "    {\n",
       "    case 0:\n",
       "        cursor = 'pointer';\n",
       "        break;\n",
       "    case 1:\n",
       "        cursor = 'default';\n",
       "        break;\n",
       "    case 2:\n",
       "        cursor = 'crosshair';\n",
       "        break;\n",
       "    case 3:\n",
       "        cursor = 'move';\n",
       "        break;\n",
       "    }\n",
       "    fig.rubberband_canvas.style.cursor = cursor;\n",
       "}\n",
       "\n",
       "mpl.figure.prototype.handle_message = function(fig, msg) {\n",
       "    fig.message.textContent = msg['message'];\n",
       "}\n",
       "\n",
       "mpl.figure.prototype.handle_draw = function(fig, msg) {\n",
       "    // Request the server to send over a new figure.\n",
       "    fig.send_draw_message();\n",
       "}\n",
       "\n",
       "mpl.figure.prototype.handle_image_mode = function(fig, msg) {\n",
       "    fig.image_mode = msg['mode'];\n",
       "}\n",
       "\n",
       "mpl.figure.prototype.updated_canvas_event = function() {\n",
       "    // Called whenever the canvas gets updated.\n",
       "    this.send_message(\"ack\", {});\n",
       "}\n",
       "\n",
       "// A function to construct a web socket function for onmessage handling.\n",
       "// Called in the figure constructor.\n",
       "mpl.figure.prototype._make_on_message_function = function(fig) {\n",
       "    return function socket_on_message(evt) {\n",
       "        if (evt.data instanceof Blob) {\n",
       "            /* FIXME: We get \"Resource interpreted as Image but\n",
       "             * transferred with MIME type text/plain:\" errors on\n",
       "             * Chrome.  But how to set the MIME type?  It doesn't seem\n",
       "             * to be part of the websocket stream */\n",
       "            evt.data.type = \"image/png\";\n",
       "\n",
       "            /* Free the memory for the previous frames */\n",
       "            if (fig.imageObj.src) {\n",
       "                (window.URL || window.webkitURL).revokeObjectURL(\n",
       "                    fig.imageObj.src);\n",
       "            }\n",
       "\n",
       "            fig.imageObj.src = (window.URL || window.webkitURL).createObjectURL(\n",
       "                evt.data);\n",
       "            fig.updated_canvas_event();\n",
       "            fig.waiting = false;\n",
       "            return;\n",
       "        }\n",
       "        else if (typeof evt.data === 'string' && evt.data.slice(0, 21) == \"data:image/png;base64\") {\n",
       "            fig.imageObj.src = evt.data;\n",
       "            fig.updated_canvas_event();\n",
       "            fig.waiting = false;\n",
       "            return;\n",
       "        }\n",
       "\n",
       "        var msg = JSON.parse(evt.data);\n",
       "        var msg_type = msg['type'];\n",
       "\n",
       "        // Call the  \"handle_{type}\" callback, which takes\n",
       "        // the figure and JSON message as its only arguments.\n",
       "        try {\n",
       "            var callback = fig[\"handle_\" + msg_type];\n",
       "        } catch (e) {\n",
       "            console.log(\"No handler for the '\" + msg_type + \"' message type: \", msg);\n",
       "            return;\n",
       "        }\n",
       "\n",
       "        if (callback) {\n",
       "            try {\n",
       "                // console.log(\"Handling '\" + msg_type + \"' message: \", msg);\n",
       "                callback(fig, msg);\n",
       "            } catch (e) {\n",
       "                console.log(\"Exception inside the 'handler_\" + msg_type + \"' callback:\", e, e.stack, msg);\n",
       "            }\n",
       "        }\n",
       "    };\n",
       "}\n",
       "\n",
       "// from http://stackoverflow.com/questions/1114465/getting-mouse-location-in-canvas\n",
       "mpl.findpos = function(e) {\n",
       "    //this section is from http://www.quirksmode.org/js/events_properties.html\n",
       "    var targ;\n",
       "    if (!e)\n",
       "        e = window.event;\n",
       "    if (e.target)\n",
       "        targ = e.target;\n",
       "    else if (e.srcElement)\n",
       "        targ = e.srcElement;\n",
       "    if (targ.nodeType == 3) // defeat Safari bug\n",
       "        targ = targ.parentNode;\n",
       "\n",
       "    // jQuery normalizes the pageX and pageY\n",
       "    // pageX,Y are the mouse positions relative to the document\n",
       "    // offset() returns the position of the element relative to the document\n",
       "    var x = e.pageX - $(targ).offset().left;\n",
       "    var y = e.pageY - $(targ).offset().top;\n",
       "\n",
       "    return {\"x\": x, \"y\": y};\n",
       "};\n",
       "\n",
       "/*\n",
       " * return a copy of an object with only non-object keys\n",
       " * we need this to avoid circular references\n",
       " * http://stackoverflow.com/a/24161582/3208463\n",
       " */\n",
       "function simpleKeys (original) {\n",
       "  return Object.keys(original).reduce(function (obj, key) {\n",
       "    if (typeof original[key] !== 'object')\n",
       "        obj[key] = original[key]\n",
       "    return obj;\n",
       "  }, {});\n",
       "}\n",
       "\n",
       "mpl.figure.prototype.mouse_event = function(event, name) {\n",
       "    var canvas_pos = mpl.findpos(event)\n",
       "\n",
       "    if (name === 'button_press')\n",
       "    {\n",
       "        this.canvas.focus();\n",
       "        this.canvas_div.focus();\n",
       "    }\n",
       "\n",
       "    var x = canvas_pos.x * mpl.ratio;\n",
       "    var y = canvas_pos.y * mpl.ratio;\n",
       "\n",
       "    this.send_message(name, {x: x, y: y, button: event.button,\n",
       "                             step: event.step,\n",
       "                             guiEvent: simpleKeys(event)});\n",
       "\n",
       "    /* This prevents the web browser from automatically changing to\n",
       "     * the text insertion cursor when the button is pressed.  We want\n",
       "     * to control all of the cursor setting manually through the\n",
       "     * 'cursor' event from matplotlib */\n",
       "    event.preventDefault();\n",
       "    return false;\n",
       "}\n",
       "\n",
       "mpl.figure.prototype._key_event_extra = function(event, name) {\n",
       "    // Handle any extra behaviour associated with a key event\n",
       "}\n",
       "\n",
       "mpl.figure.prototype.key_event = function(event, name) {\n",
       "\n",
       "    // Prevent repeat events\n",
       "    if (name == 'key_press')\n",
       "    {\n",
       "        if (event.which === this._key)\n",
       "            return;\n",
       "        else\n",
       "            this._key = event.which;\n",
       "    }\n",
       "    if (name == 'key_release')\n",
       "        this._key = null;\n",
       "\n",
       "    var value = '';\n",
       "    if (event.ctrlKey && event.which != 17)\n",
       "        value += \"ctrl+\";\n",
       "    if (event.altKey && event.which != 18)\n",
       "        value += \"alt+\";\n",
       "    if (event.shiftKey && event.which != 16)\n",
       "        value += \"shift+\";\n",
       "\n",
       "    value += 'k';\n",
       "    value += event.which.toString();\n",
       "\n",
       "    this._key_event_extra(event, name);\n",
       "\n",
       "    this.send_message(name, {key: value,\n",
       "                             guiEvent: simpleKeys(event)});\n",
       "    return false;\n",
       "}\n",
       "\n",
       "mpl.figure.prototype.toolbar_button_onclick = function(name) {\n",
       "    if (name == 'download') {\n",
       "        this.handle_save(this, null);\n",
       "    } else {\n",
       "        this.send_message(\"toolbar_button\", {name: name});\n",
       "    }\n",
       "};\n",
       "\n",
       "mpl.figure.prototype.toolbar_button_onmouseover = function(tooltip) {\n",
       "    this.message.textContent = tooltip;\n",
       "};\n",
       "mpl.toolbar_items = [[\"Home\", \"Reset original view\", \"fa fa-home icon-home\", \"home\"], [\"Back\", \"Back to previous view\", \"fa fa-arrow-left icon-arrow-left\", \"back\"], [\"Forward\", \"Forward to next view\", \"fa fa-arrow-right icon-arrow-right\", \"forward\"], [\"\", \"\", \"\", \"\"], [\"Pan\", \"Pan axes with left mouse, zoom with right\", \"fa fa-arrows icon-move\", \"pan\"], [\"Zoom\", \"Zoom to rectangle\", \"fa fa-square-o icon-check-empty\", \"zoom\"], [\"\", \"\", \"\", \"\"], [\"Download\", \"Download plot\", \"fa fa-floppy-o icon-save\", \"download\"]];\n",
       "\n",
       "mpl.extensions = [\"eps\", \"pdf\", \"png\", \"ps\", \"raw\", \"svg\"];\n",
       "\n",
       "mpl.default_extension = \"png\";var comm_websocket_adapter = function(comm) {\n",
       "    // Create a \"websocket\"-like object which calls the given IPython comm\n",
       "    // object with the appropriate methods. Currently this is a non binary\n",
       "    // socket, so there is still some room for performance tuning.\n",
       "    var ws = {};\n",
       "\n",
       "    ws.close = function() {\n",
       "        comm.close()\n",
       "    };\n",
       "    ws.send = function(m) {\n",
       "        //console.log('sending', m);\n",
       "        comm.send(m);\n",
       "    };\n",
       "    // Register the callback with on_msg.\n",
       "    comm.on_msg(function(msg) {\n",
       "        //console.log('receiving', msg['content']['data'], msg);\n",
       "        // Pass the mpl event to the overridden (by mpl) onmessage function.\n",
       "        ws.onmessage(msg['content']['data'])\n",
       "    });\n",
       "    return ws;\n",
       "}\n",
       "\n",
       "mpl.mpl_figure_comm = function(comm, msg) {\n",
       "    // This is the function which gets called when the mpl process\n",
       "    // starts-up an IPython Comm through the \"matplotlib\" channel.\n",
       "\n",
       "    var id = msg.content.data.id;\n",
       "    // Get hold of the div created by the display call when the Comm\n",
       "    // socket was opened in Python.\n",
       "    var element = $(\"#\" + id);\n",
       "    var ws_proxy = comm_websocket_adapter(comm)\n",
       "\n",
       "    function ondownload(figure, format) {\n",
       "        window.open(figure.imageObj.src);\n",
       "    }\n",
       "\n",
       "    var fig = new mpl.figure(id, ws_proxy,\n",
       "                           ondownload,\n",
       "                           element.get(0));\n",
       "\n",
       "    // Call onopen now - mpl needs it, as it is assuming we've passed it a real\n",
       "    // web socket which is closed, not our websocket->open comm proxy.\n",
       "    ws_proxy.onopen();\n",
       "\n",
       "    fig.parent_element = element.get(0);\n",
       "    fig.cell_info = mpl.find_output_cell(\"<div id='\" + id + \"'></div>\");\n",
       "    if (!fig.cell_info) {\n",
       "        console.error(\"Failed to find cell for figure\", id, fig);\n",
       "        return;\n",
       "    }\n",
       "\n",
       "    var output_index = fig.cell_info[2]\n",
       "    var cell = fig.cell_info[0];\n",
       "\n",
       "};\n",
       "\n",
       "mpl.figure.prototype.handle_close = function(fig, msg) {\n",
       "    var width = fig.canvas.width/mpl.ratio\n",
       "    fig.root.unbind('remove')\n",
       "\n",
       "    // Update the output cell to use the data from the current canvas.\n",
       "    fig.push_to_output();\n",
       "    var dataURL = fig.canvas.toDataURL();\n",
       "    // Re-enable the keyboard manager in IPython - without this line, in FF,\n",
       "    // the notebook keyboard shortcuts fail.\n",
       "    IPython.keyboard_manager.enable()\n",
       "    $(fig.parent_element).html('<img src=\"' + dataURL + '\" width=\"' + width + '\">');\n",
       "    fig.close_ws(fig, msg);\n",
       "}\n",
       "\n",
       "mpl.figure.prototype.close_ws = function(fig, msg){\n",
       "    fig.send_message('closing', msg);\n",
       "    // fig.ws.close()\n",
       "}\n",
       "\n",
       "mpl.figure.prototype.push_to_output = function(remove_interactive) {\n",
       "    // Turn the data on the canvas into data in the output cell.\n",
       "    var width = this.canvas.width/mpl.ratio\n",
       "    var dataURL = this.canvas.toDataURL();\n",
       "    this.cell_info[1]['text/html'] = '<img src=\"' + dataURL + '\" width=\"' + width + '\">';\n",
       "}\n",
       "\n",
       "mpl.figure.prototype.updated_canvas_event = function() {\n",
       "    // Tell IPython that the notebook contents must change.\n",
       "    IPython.notebook.set_dirty(true);\n",
       "    this.send_message(\"ack\", {});\n",
       "    var fig = this;\n",
       "    // Wait a second, then push the new image to the DOM so\n",
       "    // that it is saved nicely (might be nice to debounce this).\n",
       "    setTimeout(function () { fig.push_to_output() }, 1000);\n",
       "}\n",
       "\n",
       "mpl.figure.prototype._init_toolbar = function() {\n",
       "    var fig = this;\n",
       "\n",
       "    var nav_element = $('<div/>');\n",
       "    nav_element.attr('style', 'width: 100%');\n",
       "    this.root.append(nav_element);\n",
       "\n",
       "    // Define a callback function for later on.\n",
       "    function toolbar_event(event) {\n",
       "        return fig.toolbar_button_onclick(event['data']);\n",
       "    }\n",
       "    function toolbar_mouse_event(event) {\n",
       "        return fig.toolbar_button_onmouseover(event['data']);\n",
       "    }\n",
       "\n",
       "    for(var toolbar_ind in mpl.toolbar_items){\n",
       "        var name = mpl.toolbar_items[toolbar_ind][0];\n",
       "        var tooltip = mpl.toolbar_items[toolbar_ind][1];\n",
       "        var image = mpl.toolbar_items[toolbar_ind][2];\n",
       "        var method_name = mpl.toolbar_items[toolbar_ind][3];\n",
       "\n",
       "        if (!name) { continue; };\n",
       "\n",
       "        var button = $('<button class=\"btn btn-default\" href=\"#\" title=\"' + name + '\"><i class=\"fa ' + image + ' fa-lg\"></i></button>');\n",
       "        button.click(method_name, toolbar_event);\n",
       "        button.mouseover(tooltip, toolbar_mouse_event);\n",
       "        nav_element.append(button);\n",
       "    }\n",
       "\n",
       "    // Add the status bar.\n",
       "    var status_bar = $('<span class=\"mpl-message\" style=\"text-align:right; float: right;\"/>');\n",
       "    nav_element.append(status_bar);\n",
       "    this.message = status_bar[0];\n",
       "\n",
       "    // Add the close button to the window.\n",
       "    var buttongrp = $('<div class=\"btn-group inline pull-right\"></div>');\n",
       "    var button = $('<button class=\"btn btn-mini btn-primary\" href=\"#\" title=\"Stop Interaction\"><i class=\"fa fa-power-off icon-remove icon-large\"></i></button>');\n",
       "    button.click(function (evt) { fig.handle_close(fig, {}); } );\n",
       "    button.mouseover('Stop Interaction', toolbar_mouse_event);\n",
       "    buttongrp.append(button);\n",
       "    var titlebar = this.root.find($('.ui-dialog-titlebar'));\n",
       "    titlebar.prepend(buttongrp);\n",
       "}\n",
       "\n",
       "mpl.figure.prototype._root_extra_style = function(el){\n",
       "    var fig = this\n",
       "    el.on(\"remove\", function(){\n",
       "\tfig.close_ws(fig, {});\n",
       "    });\n",
       "}\n",
       "\n",
       "mpl.figure.prototype._canvas_extra_style = function(el){\n",
       "    // this is important to make the div 'focusable\n",
       "    el.attr('tabindex', 0)\n",
       "    // reach out to IPython and tell the keyboard manager to turn it's self\n",
       "    // off when our div gets focus\n",
       "\n",
       "    // location in version 3\n",
       "    if (IPython.notebook.keyboard_manager) {\n",
       "        IPython.notebook.keyboard_manager.register_events(el);\n",
       "    }\n",
       "    else {\n",
       "        // location in version 2\n",
       "        IPython.keyboard_manager.register_events(el);\n",
       "    }\n",
       "\n",
       "}\n",
       "\n",
       "mpl.figure.prototype._key_event_extra = function(event, name) {\n",
       "    var manager = IPython.notebook.keyboard_manager;\n",
       "    if (!manager)\n",
       "        manager = IPython.keyboard_manager;\n",
       "\n",
       "    // Check for shift+enter\n",
       "    if (event.shiftKey && event.which == 13) {\n",
       "        this.canvas_div.blur();\n",
       "        // select the cell after this one\n",
       "        var index = IPython.notebook.find_cell_index(this.cell_info[0]);\n",
       "        IPython.notebook.select(index + 1);\n",
       "    }\n",
       "}\n",
       "\n",
       "mpl.figure.prototype.handle_save = function(fig, msg) {\n",
       "    fig.ondownload(fig, null);\n",
       "}\n",
       "\n",
       "\n",
       "mpl.find_output_cell = function(html_output) {\n",
       "    // Return the cell and output element which can be found *uniquely* in the notebook.\n",
       "    // Note - this is a bit hacky, but it is done because the \"notebook_saving.Notebook\"\n",
       "    // IPython event is triggered only after the cells have been serialised, which for\n",
       "    // our purposes (turning an active figure into a static one), is too late.\n",
       "    var cells = IPython.notebook.get_cells();\n",
       "    var ncells = cells.length;\n",
       "    for (var i=0; i<ncells; i++) {\n",
       "        var cell = cells[i];\n",
       "        if (cell.cell_type === 'code'){\n",
       "            for (var j=0; j<cell.output_area.outputs.length; j++) {\n",
       "                var data = cell.output_area.outputs[j];\n",
       "                if (data.data) {\n",
       "                    // IPython >= 3 moved mimebundle to data attribute of output\n",
       "                    data = data.data;\n",
       "                }\n",
       "                if (data['text/html'] == html_output) {\n",
       "                    return [cell, data, j];\n",
       "                }\n",
       "            }\n",
       "        }\n",
       "    }\n",
       "}\n",
       "\n",
       "// Register the function which deals with the matplotlib target/channel.\n",
       "// The kernel may be null if the page has been refreshed.\n",
       "if (IPython.notebook.kernel != null) {\n",
       "    IPython.notebook.kernel.comm_manager.register_target('matplotlib', mpl.mpl_figure_comm);\n",
       "}\n"
      ],
      "text/plain": [
       "<IPython.core.display.Javascript object>"
      ]
     },
     "metadata": {},
     "output_type": "display_data"
    },
    {
     "data": {
      "text/html": [
       "<img src=\"data:image/png;base64,iVBORw0KGgoAAAANSUhEUgAAAsgAAALICAYAAABiqwZ2AAAAAXNSR0IArs4c6QAAIABJREFUeF7snQu0nHV1vjdEwiUmonJRIIAEyT8oNwFRVISICkq4WKlQpYJFpXKxiiJeiiDeqaiFahWtokClAkWhVooiglwitEJBlGqoGFCBqNyigED+65t0IJeTnJl99uxnvtnvWctlS+Y37zfPs3fWy/jNnFUWLVq0yPQjAiIgAiIgAiIgAiIgAiLQIbCKCrImQQREQAREQAREQAREQAQeJ6CCrGkQAREQAREQAREQAREQgSUIqCBrHERABERABERABERABERABVkzIAIiIAIiIAIiIAIiIAJjE9A7yJoMERABERABERABERABEdA7yJoBERABERABERABERABEdA7yJoBERABERABERABERABERiXgG6xGBeRHiACIiACIiACIiACIlCJgApyJdt6rSIgAiIgAiIgAiIgAuMSUEEeF5EeIAIiIAIiIAIiIAIiUImACnIl23qtIiACIiACIiACIiAC4xJQQR4XkR4gAiIgAiIgAiIgAiJQiYAKciXbeq0iIAIiIAIiIAIiIALjElBBHheRHiACIiACo0Hg+OOPtxNOOMG+973v2a677joaL0qvQgREQAQGQEAFeQBQ9ZQiIAKDIbDKKqss9cSrr766TZs2zTbddFPbYYcd7IADDrBddtklJLwpkN///vdt0aJFfT3fwQcfbKeffvpSZ6ZMmWLPfOYz7dWvfrW9/e1vtzXXXLOv54x6MFGQGzfNzy9+8Yuol6HnEQEREIGBE1BBHjhiBYiACEQR6Bbk97///Z2nfOSRR+zuu++2H//4x3bFFVfYQw89ZC996Uvtq1/9qq2//voTip1oQd5nn31s22237VzDb37zG7vgggvsV7/6le200052+eWX22qrrTah6/McVkH2UNMZERCBigRUkCta12sWgZYS6Bbksd7VveOOO+zII4+0r3/9651ietVVV9kaa6zhfqUTLchf+tKXrHk3uftz//33d8rxTTfdZF/5ylfsoIMOcl+b96AKspeczomACFQjoIJczbherwi0mMDKCnLzsh599FF7yUteYpdeeql98pOftL/5m79Z6tVeffXV9uEPf9iuvPJKu++++2z69Om277772nve8x57ylOe0nlscyvAM57xjDEpvf71r7cvf/nLKyXYvcVi2YLcHPr4xz9u73rXu+zwww+3U089tfM8zWt68YtfbGeddZa9733vs3//93+3O++8084999zOtTU/P/nJT+zEE0+0Sy65xH73u9/Z0572NNtjjz3suOOOs4022mi56/npT39qxx57bIdD8y77jjvu2Dl/8cUXL3cPcvN6DjnkEBvrerssxnrdv/3tb+2kk06yb37zm/a///u/1tzustlmm9krX/nKznU17+jvtttuY7Jq/heApqzrRwREQASGlYAK8rCa0XWJgAgsR2C8gtwc+M53vtO5zaIphT/84Q8fe47zzjvPXvOa19gTnvAE+/M//3PbYIMN7LLLLuuU5eb+4OYd56c+9amdWzY+9alPdYrwrbfeat3bOZonat6Z7pbWFelZWUH+2Mc+1imuyxbkZz/72Xbvvffak570pM6H55qi31xjcz91c13N63nggQdsv/32s80339yuu+46+/a3v925jeQHP/hB5591f5p3qF/wghfYPffcY3PmzLFnPetZduONN9pFF13UKazNfy/5IT1PQZ43b17nuebPn2/Pfe5z7UUvepE9/PDDnSLflPi77rqrw7F57oZl87Pkv6w0r1EfEtSCi4AIDDMBFeRhtqNrEwERWIpALwW5KZJTp07tfLiu+b+bQty8W7zxxhtbc5tDUzibD/R1f4466ig75ZRT7NBDD7XTTjvtsX8efYvFH/7wh06ZbO6Xbopj865s89N9Tc0tF//0T//Uud7uT1OUZ82aZf/zP/9j559/vjX3NXd/Tj75ZDv66KNt991377wz3P2ZPXt2pwB/7nOfsze96U2P/fN/+Id/sCOOOKLz/0+0ID//+c+35t34T3ziE50PHS7509xvvc466zz2OvQhPS2xCIhAGwmoILfRmq5ZBIoS6KUgN2iad1ab2xSa+5LXW289O+OMMzr3/Dbv7ja3Eiz507zTuckmm9if/vSnzruu3Q/PTbQgL/khveY6mg/p3X777fac5zynU9InT578WEFu/u/m3djmWpf8ad4dbt6dba6lKbVL/jTv2M6cOdNuueWWztnmVovmv5t/Edhiiy067+auuuqqS5Xt5vE///nPJ1SQr7322s67881/5s6d+1jBX9FIqiAXXVa9bBFoOQEV5JYL1OWLQCUC3oLcvNPavOO65Du3S3Jr7gFubre44YYbrLndofmZaEFe8vmbr3VrboNobpF45zvfaU984hMf++PmNTWF9uabb15OZfPOdvMOd3O/7pK3enQf2LwL3Xzgrynfe+21V+e/99577849xc270cv+NP+8YTCRd5C770S/973vtQ9+8IPjjp8K8riI9AAREIEhJKCCPIRSdEkiIAJjE+ilID/44IOdArrkLRbN7RNf/OIXO/ftvvzlL1/uyZvvTz777LM79/M29+9GFOSxPvQ21qtqXlNzr3HzncvL/jQF9G//9m/tH//xH+3Nb37zcn/e3M/c3NfcvEP+2te+9rF3ypt//pGPfGSFj59IQf7Qhz7U+TDhZz7zGfvrv/7rcUdVBXlcRHqACIjAEBJQQR5CKbokERABf0Ee60N63XeQm1/g8Zd/+ZfLPXn33eLId5D7KcjNO9jNN04s+9N9B7n57XfNN0Ms+9P9QOBE3kFu3oFu3olu7r9u/kViyZ/rr7++88HEJb/FQu8gaztFQAQqEFBBrmBZr1EERoTAeO8gL/k1b80tFW9729s6r7x7D/JYtx409x039+0uew9y83VxzTcyNPf6Tpo0qWeCK/sWi7GepPs1b2MV5O49yM03RjTXsuRP8/VtzT3FzTdKTOQe5O5tGWPdxtG8696U5iULcr/3IM+YMaPzC1yaa9SPCIiACLSFgApyW0zpOkVABB77QNhYvyik+VBe8y0NzS8K2XrrrTsfIOv+opDut1gsXLiw88+32267x2g2Jbr5KrJlv8Vi//33t3POOafzHb/d2wR6URBZkJf8Fovuu8Tda/j0pz/d+eq0Zb/FoinTTdnu9Vssmt/u13wfdPfr47q/Brv5QOHOO+9sv/zlL5cqyE1+91sslvyXkO51NR9IbL4ur/ttHM2H+Zp35psPQ07kF7f0wl6PEQEREIEoAirIUST1PCIgAgMnsOyvmm4KZPdXTTfvtjbvVDZfc9a8Y/z0pz99qevpfg9y8y0VzXcMN3/enGn+s+T3IHcPffazn7W3vOUtnW+d2HPPPTvlbptttul8t/DKfiILcpOz5Pcgv+pVr+oU2ebWh29961udb71ofiHHir4HufnA3pZbbrnS70FuMprbTppfz928I/2KV7yi88tIml8A0pTv5l84lv1FIc271s1tKbfddlvntwM237TRvKPdfNCw+cq55l9W1l577Q6m5hejNL8gpXl887jmGzuae66b/+hHBERABIaVgArysJrRdYmACCxHoFuQu3/QlK1p06Z13uFtvtu4Kb4r+u1t3bLZ/Ca9plQ234ncfDVa880SzTcydH+TXve5m1srmn/+ta99zZp3WZv/f6K/SW8spSu7xaL7+OaXf3R/k97vf//7TjFuSntzX3Lz7u+yP81XvC37m/SaD/yN9Zv0mrPNBxub3ybYvNYFCxZYc1tE8258U5ab3yo41utufhlI8wHBpkg3v1BlrbXW6vwmveZfIBpu3a/Lazg335V84YUXdr52r/mXGv0mPS23CIjAsBNQQR52Q7o+ERABERABERABERCBVAIqyKm4FSYCIiACIiACIiACIjDsBFSQh92Qrk8EREAEREAEREAERCCVgApyKm6FiYAIiIAIiIAIiIAIDDsBFeRhN6TrEwEREAEREAEREAERSCWggpyKW2EiIAIiIAIiIAIiIALDTkAFedgN6fpEQAREQAREQAREQARSCaggp+JWmAiIgAiIgAiIgAiIwLATUEEedkO6PhEQAREQAREQAREQgVQCKsipuBUmAiIgAiIgAiIgAiIw7ARUkIfdkK5PBERABERABERABEQglYAKcipuhYmACIiACIiACIiACAw7ARXkYTek6xMBERABERABERABEUgloIKcilthIiACIiACIiACIiACw05ABXnYDen6REAEREAEREAEREAEUgmoIKfiVpgIiIAIiIAIiIAIiMCwE1BBHnZDuj4REAEREAEREAEREIFUAirIqbgVJgIiIAIiIAIiIAIiMOwEVJCH3ZCuTwREQAREQAREQAREIJWACnIqboWJgAiIgAiIgAiIgAgMOwEV5GE3pOsTAREQAREQAREQARFIJaCCnIpbYSIgAiIgAiIgAiIgAsNOQAV52A3p+kRABERABERABERABFIJqCA7cd9777122WWX2fTp023y5MnOZ9ExERABERABERABERCBKAIPPfSQzZ8/33bZZRebNm2a+2lVkJ3oLrzwQpszZ47ztI6JgAiIgAiIgAiIgAgMisAFF1xge+21l/vpVZCd6K6//nrbdtttrREwY8YM57O079jChQvt6quvtuc973k2ZcqU9r0AXXHPBOS6Z1Stf6Bct15hzy9ArntG1foHVnU9b968zhuY1113nW2zzTZujyrITnQ/+clPbMstt7SbbrrJZs2a5XyW9h2777777JJLLrHZs2fb1KlT2/cCdMU9E5DrnlG1/oFy3XqFPb8Aue4ZVesfWNV1VD9TQXauQJQAZzx2rOrCYcDBYLkG4SdHy3UycDBOrkH4ydFVXUf1MxVk58BGCXDGY8eqLhwGHAyWaxB+crRcJwMH4+QahJ8cXdV1VD9TQXYObJQAZzx2rOrCYcDBYLkG4SdHy3UycDBOrkH4ydFVXUf1MxVk58BGCXDGY8eqLhwGHAyWaxB+crRcJwMH4+QahJ8cXdV1VD9TQXYObJQAZzx2rOrCYcDBYLkG4SdHy3UycDBOrkH4ydFVXUf1MxVk58BGCXDGY8eqLhwGHAyWaxB+crRcJwMH4+QahJ8cXdV1VD9TQXYObJQAZzx2rOrCYcDBYLkG4SdHy3UycDBOrkH4ydFVXUf1MxVk58BGCXDGY8eqLhwGHAyWaxB+crRcJwMH4+QahJ8cXdV1VD9TQXYObJQAZzx2rOrCYcDBYLkG4SdHy3UycDBOrkH4ydFVXUf1MxVk58BGCXDGY8eqLhwGHAyWaxB+crRcJwMH4+QahJ8cXdV1VD9TQXYObJQAZzx2rOrCYcDBYLkG4SdHy3UycDBOrkH4ydFVXUf1MxVk58BGCXDGY8eqLhwGHAyWaxB+crRcJwMH4+QahJ8cXdV1VD9TQXYObJQAZzx2rOrCYcDBYLkG4SdHy3UycDBOrkH4ydFVXUf1MxVk58BGCXDGY8eqLhwGHAyWaxB+crRcJwMH4+QahJ8cXdV1VD9TQXYObJQAZzx2rOrCYcDBYLkG4SdHy3UycDBOrkH4ydFVXUf1MxVk58BGCXDGY8eqLhwGHAyWaxB+crRcJwMH4+QahJ8cXdV1VD9TQXYObJQAZzx2rOrCYcDBYLkG4SdHy3UycDBOrkH4ydFVXUf1MxVk58BGCXDGY8eqLhwGHAyWaxB+crRcJwMH4+QahJ8cXdV1VD9TQXYObJQAZzx2rOrCYcDBYLkG4SdHy3UycDBOrkH4ydFVXUf1MxVk58BGCXDGY8eqLhwGHAyWaxB+crRcJwMH4+QahJ8cXdV1VD9TQXYObJQAZzx2rOrCYcDBYLkG4SdHy3UycDBOrkH4ydFVXUf1MxVk58BGCXDGY8eqLhwGHAyWaxB+crRcJwMH4+QahJ8cXdV1VD9TQXYObJQAZzx2rOrCYcDBYLkG4SdHy3UycDBOrkH4ydFVXUf1MxVk58BGCXDGY8eqLhwGHAyWaxB+crRcJwMH4+QahJ8cXdV1VD9TQXYObJQAZzx2rOrCYcDBYLkG4SdHy3UycDBOrkH4ydFVXUf1MxVk58BGCXDGY8eqLhwGHAyWaxB+crRcJwMH4+QahJ8cXdV1VD9TQXYObJQAZzx2rOrCYcDBYLkG4SdHy3UycDBOrkH4ydFVXUf1MxVk58BGCXDGY8eqLhwGHAyWaxB+crRcJwMH4+QahJ8cXdV1VD9TQXYObJQAZzx2rOrCYcDBYLkG4SdHy3UycDBOrkH4ydFVXUf1MxVk58BGCXDGY8eqLhwGHAyWaxB+crRcJwMH4+QahJ8cXdV1VD9TQXYObJQAZzx2rOrCYcDBYLkG4SdHy3UycDBOrkH4ydFVXUf1MxVk58BGCXDGY8eqLhwGHAyWaxB+crRcJwMH4+QahJ8cXdV1VD9TQXYObJQAZzx2rOrCYcDBYLkG4SdHy3UycDBOrkH4ydFVXUf1MxVk58BGCXDGY8eqLhwGHAyWaxB+crRcJwMH4+QahJ8cXdV1VD9TQXYObJQAZzx2rOrCYcDBYLkG4SdHy3UycDBOrkH4ydFVXUf1MxVk58BGCXDGY8eqLhwGHAyWaxB+crRcJwMH4+QahJ8cXdV1VD9TQXYObJQAZzx2rOrCYcDBYLkG4SdHy3UycDBOrkH4ydFVXUf1MxVk58BGCXDGY8eqLhwGHAyWaxB+crRcJwMH4+QahJ8cXdV1VD9TQXYObJQAZzx2rOrCYcDBYLkG4SdHy3UycDBOrkH4ydFVXUf1MxVk58BGCXDGY8eqLhwGHAyWaxB+crRcJwMH4+QahJ8cXdV1VD9TQXYObJQAZzx2rOrCYcDBYLkG4SdHy3UycDBOrkH4ydFVXUf1MxVk58BGCXDGY8eqLhwGHAyWaxB+crRcJwMH4+QahJ8cXdV1VD9TQXYObJQAZzx2rOrCYcDBYLkG4SdHy3UycDBOrkH4ydFVXUf1MxVk58BGCXDGY8eqLhwGHAyWaxB+crRcJwMH4+QahJ8cXdV1VD9TQXYObJQAZzx2rOrCYcDBYLkG4SdHy3UycDBOrkH4ydFVXUf1MxVk58BGCXDGY8eqLhwGHAyWaxB+crRcJwMH4+QahJ8cXdV1VD9TQXYObJQAZzx2rOrCYcDBYLkG4SdHy3UycDBOrkH4ydFVXUf1MxVk58BGCXDGY8eqLhwGHAyWaxB+crRcJwMH4+QahJ8cXdV1VD8rXZCPP/54O+GEE2ybbbax6667rq/RjRLQV+gQPLjqwg0B+vRLkOt05FigXGPo04PlOh05FljVdVQ/K1uQf/zjH9sOO+xgT3rSk+xpT3uaCnKPK1x14XrEM1IPk+uR0rnSFyPXcl2HQJ1XWnWvVZAnMOOPPvqo7bzzzrbjjjvaDTfcYHfffbcKco88qy5cj3hG6mFyPVI6VZDr6JRrue4QqPp3uAryBBbgE5/4hH3yk5+0m266yfbee28V5D5YVl24PhCNzEPlemRUjvtC5HpcRCPzALkeGZXjvpCqrlWQxx2NsR9wyy232FZbbWVnnnmm7bvvvrbrrruqIPfBsurC9YFoZB4q1yOjctwXItfjIhqZB8j1yKgc94VUda2CPO5oLP+ARYsW2e6779657/i8887rPKCXgnzXXXfZggULlnrCefPm2Zw5c+yaa66xmTNnOq6mnUcWLlxoc+fOtZ122smmTJnSzhehq+6JgFz3hGkkHiTXI6Gxpxch1z1hGokHVXV98803d26hbe4SmDVrlttlqQ/pff7zn7d3vvOdHWgbbrhhzwW5+20XY1E+5ZRTbPr06W4BOigCIiACIiACIiACIhBDYP78+XbkkUeqIPeKs3kHePPNN7djjz3WDjvssMeO7bXXXnbPPffY5ZdfbmussUbnP8v+6B3kx4lU/TfSXudslB4n16Nkc+WvRa7lug6BOq+06l7rHeQ+Z7z5nuPttttupafe9a532Uc/+tGenjnqHpeewoboQVXvaRoiBWmXItdpqPEgucYVpF2AXKehxoOquo7qZ2Vusbj//vvt2muvXW5g/+Zv/saaP/vCF75gG2+8sW222WY9DXWUgJ7ChuhBVRduiBSkXYpcp6HGg+QaV5B2AXKdhhoPquo6qp+VKcgrmtRePqQ31tkoAfgG9XkBVReuT0wj8XC5HgmNPb0Iue4J00g8SK5HQmNPL6Kq66h+poKsr3nradG6D6q6cH1BGpEHy/WIiOzhZch1D5BG5CFyPSIie3gZVV2rIPcwHIN8SJSAQV7jIJ676sINguWwP6dcD7uhuOuT6ziWw/5Mcj3shuKur6rrqH5W/h1k7yhGCfDmU+eqLhzFm8yVa5J+brZc5/Im0+SapJ+bXdV1VD9TQXbOa5QAZzx2rOrCYcDBYLkG4SdHy3UycDBOrkH4ydFVXUf1MxVk58BGCXDGY8eqLhwGHAyWaxB+crRcJwMH4+QahJ8cXdV1VD9TQXYObJQAZzx2rOrCYcDBYLkG4SdHy3UycDBOrkH4ydFVXUf1MxVk58BGCXDGY8eqLhwGHAyWaxB+crRcJwMH4+QahJ8cXdV1VD9TQXYObJQAZzx2rOrCYcDBYLkG4SdHy3UycDBOrkH4ydFVXUf1MxVk58BGCXDGY8eqLhwGHAyWaxB+crRcJwMH4+QahJ8cXdV1VD9TQXYObJQAZzx2rOrCYcDBYLkG4SdHy3UycDBOrkH4ydFVXUf1MxVk58BGCXDGY8eqLhwGHAyWaxB+crRcJwMH4+QahJ8cXdV1VD9TQXYObJQAZzx2rOrCYcDBYLkG4SdHy3UycDBOrkH4ydFVXUf1MxVk58BGCXDGY8eqLhwGHAyWaxB+crRcJwMH4+QahJ8cXdV1VD9TQXYObJQAZzx2rOrCYcDBYLkG4SdHy3UycDBOrkH4ydFVXUf1MxVk58BGCXDGY8eqLhwGHAyWaxB+crRcJwMH4+QahJ8cXdV1VD9TQXYObJQAZzx2rOrCYcDBYLkG4SdHy3UycDBOrkH4ydFVXUf1MxVk58BGCXDGY8eqLhwGHAyWaxB+crRcJwMH4+QahJ8cXdV1VD9TQXYObJQAZzx2rOrCYcDBYLkG4SdHy3UycDBOrkH4ydFVXUf1MxVk58BGCXDGY8eqLhwGHAyWaxB+crRcJwMH4+QahJ8cXdV1VD9TQXYObJQAZzx2rOrCYcDBYLkG4SdHy3UycDBOrkH4ydFVXUf1MxVk58BGCXDGY8eqLhwGHAyWaxB+crRcJwMH4+QahJ8cXdV1VD9TQXYObJQAZzx2rOrCYcDBYLkG4SdHy3UycDBOrkH4ydFVXUf1MxVk58BGCXDGY8eqLhwGHAyWaxB+crRcJwMH4+QahJ8cXdV1VD9TQXYObJQAZzx2rOrCYcDBYLkG4SdHy3UycDBOrkH4ydFVXUf1MxVk58BGCXDGY8eqLhwGHAyWaxB+crRcJwMH4+QahJ8cXdV1VD9TQXYObJQAZzx2rOrCYcDBYLkG4SdHy3UycDBOrkH4ydFVXUf1MxVk58BGCXDGY8eqLhwGHAyWaxB+crRcJwMH4+QahJ8cXdV1VD9TQXYObJQAZzx2rOrCYcDBYLkG4SdHy3UycDBOrkH4ydFVXUf1MxVk58BGCXDGY8eqLhwGHAyWaxB+crRcJwMH4+QahJ8cXdV1VD9TQXYObJQAZzx2rOrCYcDBYLkG4SdHy3UycDBOrkH4ydFVXUf1MxVk58BGCXDGY8eqLhwGHAyWaxB+crRcJwMH4+QahJ8cXdV1VD9TQXYObJQAZzx2rOrCYcDBYLkG4SdHy3UycDBOrkH4ydFVXUf1MxVk58BGCXDGY8eqLhwGHAyWaxB+crRcJwMH4+QahJ8cXdV1VD9TQXYObJQAZzx2rOrCYcDBYLkG4SdHy3UycDBOrkH4ydFVXUf1MxVk58BGCXDGY8eqLhwGHAyWaxB+crRcJwMH4+QahJ8cXdV1VD9TQXYObJQAZzx2rOrCYcDBYLkG4SdHy3UycDBOrkH4ydFVXUf1MxVk58BGCXDGY8eqLhwGHAyWaxB+crRcJwMH4+QahJ8cXdV1VD9TQXYObJQAZzx2rOrCYcDBYLkG4SdHy3UycDBOrkH4ydFVXUf1MxVk58BGCXDGY8eqLhwGHAyWaxB+crRcJwMH4+QahJ8cXdV1VD9TQXYObJQAZzx2rOrCYcDBYLkG4SdHy3UycDBOrkH4ydFVXUf1MxVk58BGCXDGY8eqLhwGHAyWaxB+crRcJwMH4+QahJ8cXdV1VD9TQXYObJQAZzx2rOrCYcDBYLkG4SdHy3UycDBOrkH4ydFVXUf1MxVk58BGCXDGY8eqLhwGHAyWaxB+crRcJwMH4+QahJ8cXdV1VD9TQXYObJQAZzx2rOrCYcDBYLkG4SdHy3UycDBOrkH4ydFVXUf1MxVk58BGCXDGY8eqLhwGHAyWaxB+crRcJwMH4+QahJ8cXdV1VD9TQXYObJQAZzx2rOrCYcDBYLkG4SdHy3UycDBOrkH4ydFVXUf1MxVk58BGCXDGY8eqLhwGHAyWaxB+crRcJwMH4+QahJ8cXdV1VD9TQXYObJQAZzx2rOrCYcDBYLkG4SdHy3UycDBOrkH4ydFVXUf1MxVk58BGCXDGY8eqLhwGHAyWaxB+crRcJwMH4+QahJ8cXdV1VD9TQXYObJQAZzx2rOrCYcDBYLkG4SdHy3UycDBOrkH4ydFVXUf1MxVk58BGCXDGY8eqLhwGHAyWaxB+crRcJwMH4+QahJ8cXdV1VD9TQXYObJQAZzx2rOrCYcDBYLkG4SdHy3UycDBOrkH4ydFVXUf1MxVk58BGCXDGY8eqLhwGHAyWaxB+crRcJwMH4+QahJ8cXdV1VD9TQXYObJQAZzx2rOrCYcDBYLkG4SdHy3UycDBOrkH4ydFVXUf1MxVk58BGCXDGY8eqLhwGHAyWaxB+crRcJwMH4+QahJ8cXdWu9NRTAAAgAElEQVR1VD9TQXYObJQAZzx2rOrCYcDBYLkG4SdHy3UycDBOrkH4ydFVXUf1MxVk58BGCXDGY8eqLhwGHAyWaxB+crRcJwMH4+QahJ8cXdV1VD9TQXYObJQAZzx2rOrCYcDBYLkG4SdHy3UycDBOrkH4ydFVXUf1MxVk58BGCXDGY8eqLhwGHAyWaxB+crRcJwMH4+QahJ8cXdV1VD9TQXYObJQAZzx2rOrCYcDBYLkG4SdHy3UycDBOrkH4ydFVXUf1MxVk58BGCXDGY8eqLhwGHAyWaxB+crRcJwMH4+QahJ8cXdV1VD9TQXYObJQAZzx2rOrCYcDBYLkG4SdHy3UycDBOrkH4ydFVXUf1MxVk58BGCXDGY8eqLhwGHAyWaxB+crRcJwMH4+QahJ8cXdV1VD9TQXYObJQAZzx2rOrCYcDBYLkG4SdHy3UycDBOrkH4ydFVXUf1MxVk58BGCXDGY8eqLhwGHAyWaxB+crRcJwMH4+QahJ8cXdV1VD9TQXYObJQAZzx2rOrCYcDBYLkG4SdHy3UycDBOrkH4ydFVXUf1MxVk58BGCXDGY8eqLhwGHAyWaxB+crRcJwMH4+QahJ8cXdV1VD9TQXYObJQAZzx2rOrCYcDBYLkG4SdHy3UycDBOrkH4ydFVXUf1MxVk58BGCXDGY8eqLhwGHAyWaxB+crRcJwMH4+QahJ8cXdV1VD9TQXYObJQAZzx2rOrCYcDBYLkG4SdHy3UycDBOrkH4ydFVXUf1MxVk58BGCXDGY8eqLhwGHAyWaxB+crRcJwMH4+QahJ8cXdV1VD9TQXYObJQAZzx2rOrCYcDBYLkG4SdHy3UycDBOrkH4ydFVXUf1MxVk58BGCXDGY8eqLhwGHAyWaxB+crRcJwMH4+QahJ8cXdV1VD9TQXYObJQAZzx2rOrCYcDBYLkG4SdHy3UycDBOrkH4ydFVXUf1MxVk58BGCXDGY8eqLhwGHAyWaxB+crRcJwMH4+QahJ8cXdV1VD9TQXYObJQAZzx2rOrCYcDBYLkG4SdHy3UycDBOrkH4ydFVXUf1MxVk58BGCXDGY8eqLhwGHAyWaxB+crRcJwMH4+QahJ8cXdV1VD9TQXYObJQAZzx2rOrCYcDBYLkG4SdHy3UycDBOrkH4ydFVXUf1MxVk58BGCXDGY8eqLhwGHAyWaxB+crRcJwMH4+QahJ8cXdV1VD9TQXYObJQAZzx2rOrCYcDBYLkG4SdHy3UycDBOrkH4ydFVXUf1MxVk58BGCXDGY8eqLhwGHAyWaxB+crRcJwMH4+QahJ8cXdV1VD9TQXYObJQAZzx2rOrCYcDBYLkG4SdHy3UycDBOrkH4ydFVXUf1MxVk58BGCXDGY8eqLhwGHAyWaxB+crRcJwMH4+QahJ8cXdV1VD9TQXYObJQAZzx2rOrCYcDBYLkG4SdHy3UycDBOrkH4ydFVXUf1MxVk58BGCXDGY8eqLhwGHAyWaxB+crRcJwMH4+QahJ8cXdV1VD9TQXYObJQAZzx2rOrCYcDBYLkG4SdHy3UycDBOrkH4ydFVXUf1MxVk58BGCXDGY8eqLhwGHAyWaxB+crRcJwMH4+QahJ8cXdV1VD9TQXYObJQAZzx2rOrCYcDBYLkG4SdHy3UycDBOrkH4ydFVXUf1MxVk58BGCXDGY8eqLhwGHAyWaxB+crRcJwMH4+QahJ8cXdV1VD9TQXYObJQAZzx2rOrCYcDBYLkG4SdHy3UycDBOrkH4ydFVXUf1MxVk58BGCXDGY8eqLhwGHAyWaxB+crRcJwMH4+QahJ8cXdV1VD9TQXYObJQAZzx2rOrCYcDBYLkG4SdHy3UycDBOrkH4ydFVXUf1MxVk58BGCXDGY8eqLhwGHAyWaxB+crRcJwMH4+QahJ8cXdV1VD9TQXYObJQAZzx2rOrCYcDBYLkG4SdHy3UycDBOrkH4ydFVXUf1MxVk58BGCXDGY8eqLhwGHAyWaxB+crRcJwMH4+QahJ8cXdV1VD9TQXYObJQAZzx2rOrCYcDBYLkG4SdHy3UycDBOrkH4ydFVXUf1MxVk58BGCXDGY8eqLhwGHAyWaxB+crRcJwMH4+QahJ8cXdV1VD9TQXYObJQAZzx2rOrCYcDBYLkG4SdHy3UycDBOrkH4ydFVXUf1MxVk58BGCXDGY8eqLhwGHAyWaxB+crRcJwMH4+QahJ8cXdV1VD9TQXYObJQAZzx2rOrCYcDBYLkG4SdHy3UycDBOrkH4ydFVXUf1MxVk58BGCXDGY8eqLhwGHAyWaxB+crRcJwMH4+QahJ8cXdV1VD9TQXYObJQAZzx2rOrCYcDBYLkG4SdHy3UycDBOrkH4ydFVXUf1szIF+ZJLLrEzzjjDrrzySps/f76tvfbatsMOO9hxxx1n22+/fd9jGyWg72D4QNWFg7Ej8XKNYEdC5RrBjoTKNYIdCa3qOqqflSnI+++/vy1YsMCa/95yyy3tt7/9rZ188sn2wx/+0C666CKbPXt2XwMcJaCv0CF4cNWFGwL06Zcg1+nIsUC5xtCnB8t1OnIssKrrqH5WpiDfeeedtt566y01qH/4wx9s88037xTm73znO30NcZSAvkKH4MFVF24I0KdfglynI8cC5RpDnx4s1+nIscCqrqP6WZmCvKIJfdnLXma33nqr3XzzzX0NcZSAvkKH4MFVF24I0KdfglynI8cC5RpDnx4s1+nIscCqrqP6WemC3AzPJptsYrvuuqudd955fQ1xlIC+QofgwVUXbgjQp1+CXKcjxwLlGkOfHizX6cixwKquo/pZ6YJ88MEH25lnnmlXX331Sj+od9ddd3XuX17yZ968eTZnzhy75pprbObMmdgCZAcvXLjQ5s6dazvttJNNmTIlO155iQTkOhE2HCXXsIDEeLlOhA1HVXXd3BGw44472k033WSzZs1yWyhbkE844QQ7/vjj7dRTT7XDDz98pQCbxzWPH+vnlFNOsenTp7sF6KAIiIAIiIAIiIAIiEAMgeabyo488kgVZA/OD33oQ/a+973PPvzhD9u73/3ucZ9C7yA/jqjqv5GOOyQj+AC5HkGpK3hJci3XdQjUeaVV91rvIDtnvFuOm3eF3//+9zufxSzqHhf3BUAHq97TBOFGY+UaxZ8aLtepuNEwuUbxp4ZXdR3Vz0rdYtEtx827xyeeeOKEBjVKwIQuAjhcdeEA1HikXOMK0i5ArtNQ40FyjStIu4CqrqP6WZmC3PxSkKOPPtr22GOP5d45Xn311W277bbra2ijBPQVOgQPrrpwQ4A+/RLkOh05FijXGPr0YLlOR44FVnUd1c/KFOTmq9y+//3vjzmozVe9/eIXv+hriKME9BU6BA+uunBDgD79EuQ6HTkWKNcY+vRguU5HjgVWdR3Vz8oU5OgJjRIQfV2Dfr6qCzdorsP4/HI9jFYGc01yPRiuw/iscj2MVgZzTVVdR/UzFWTnXEYJcMZjx6ouHAYcDJZrEH5ytFwnAwfj5BqEnxxd1XVUP1NBdg5slABnPHas6sJhwMFguQbhJ0fLdTJwME6uQfjJ0VVdR/UzFWTnwEYJcMZjx6ouHAYcDJZrEH5ytFwnAwfj5BqEnxxd1XVUP1NBdg5slABnPHas6sJhwMFguQbhJ0fLdTJwME6uQfjJ0VVdR/UzFWTnwEYJcMZjx6ouHAYcDJZrEH5ytFwnAwfj5BqEnxxd1XVUP1NBdg5slABnPHas6sJhwMFguQbhJ0fLdTJwME6uQfjJ0VVdR/UzFWTnwEYJcMZjx6ouHAYcDJZrEH5ytFwnAwfj5BqEnxxd1XVUP1NBdg5slABnPHas6sJhwMFguQbhJ0fLdTJwME6uQfjJ0VVdR/UzFWTnwEYJcMZjx6ouHAYcDJZrEH5ytFwnAwfj5BqEnxxd1XVUP1NBdg5slABnPHas6sJhwMFguQbhJ0fLdTJwME6uQfjJ0VVdR/UzFWTnwEYJcMZjx6ouHAYcDJZrEP440X/80x/tut9cZ89a71k2bfVpE75QuZ4wwtY8gVy3RtWEL7Sq66h+poLsHMEoAc547FjVhcOAg8FyDcIfJ/pt336bfWrup+yVz3ylfeOAb9ikVSdN6GLlekL4WnVYrlula0IXW9V1VD9TQXaOX5QAZzx2rOrCYcDBYLkG4a8ketGiRbbZ329mv7j7F51HHbPzMfaxl35sQhcr1xPC16rDct0qXRO62Kquo/qZCrJz/KIEOOOxY1UXDgMOBss1CH8l0f99x3/bNv+4zVKP+Op+X7XXbf069wXLtRtd6w7KdeuUuS+4quuofqaC7By9KAHOeOxY1YXDgIPBcg3CX0n0id8/0Y679LjHHrGKrWKrTVrNLjv4Mttpo51cFy3XLmytPCTXrdTmuuiqrqP6mQqya+zMogQ447FjVRcOAw4GyzUIfyXR239+e/vRr39ki2zRUiV5vSnr2X++6T9tw2kb9n3hct03stYekOvWquv7wqu6jupnKsh9j9ziA1ECnPHYsaoLhwEHg+UahL+C6Pn3zLeNP7XxCi9s+6dvb5cfcrmtudqafV28XPeFq9UPlutW6+vr4qu6jupnKsh9jdvjD44S4IzHjlVdOAw4GCzXIPwVRP/DD//Bjvj3I1Z6YQc++0A781Vn2iqrrNLzC5DrnlG1/oFy3XqFPb+Aqq6j+pkKcs+jtvQDowQ447FjVRcOAw4GyzUIfwXRL/vqy+w7t3xnqdsrxnroR17yETv2hcf2/ALkumdUrX+gXLdeYc8voKrrqH6mgtzzqKkgNwSqLpxzTFp9TK6HS9/dD9xt6560rj386MPjXljzwb3m+5HnzJwz7mO11z0hGpkHaa9HRuW4L6SqaxXkcUdjsA+IEjDYq4x/9qoLF09y+J9RrofL0T/f8M/2F+f9RU8X1RTktVZby+YeOrfz2/bG+5Hr8QiNzp/L9ei4HO+VVHUd1c/0DvJ4E7aCP48S4IzHjlVdOAw4GCzXIPwxog845wA7+8dn93xRTUneZO1N7No3XmtPXeupKz0n1z1jbf0D5br1Cnt+AVVdR/UzFeSeR23pB0YJcMZjx6ouHAYcDJZrEP4y0Q8+/KCtc9I6dv9D9/d9Ubttuptd9LqLOt+VvKIfue4ba2sPyHVr1fV94VVdR/UzFeS+R27xgSgBznjsWNWFw4CDwXINwl8m+qKfX2R7nLmH+4LOf835ts//20cF2U1wdA5qr0fH5XivpKrrqH6mgjzehK3gz6MEOOOxY1UXDgMOBss1CH+Z6Lf821vss9d+dqUX1NxSseQvD2kevN5a69lW629l5x9wvj1x8hNVkIdHKXYl2msMfXpwVddR/UwF2TmyUQKc8dixqguHAQeD5RqEv0T0o4setY1O3sh+ff+vO/90rCLc/PO111jb9t9yf3v2es+2rdbbqvPf605Zt6cXIdc9YRqJB8n1SGjs6UVUdR3Vz1SQexqz5R8UJcAZjx2runAYcDBYrkH4S0Q39x9v+7lt7acLfmqrrbqabbnulkuV4I9d8TG7/JeX25wt5tg3D/ym66Ll2oWtlYfkupXaXBdd1XVUP1NBdo2d7kGePXu2TZ061UlPx9pAoOpfrsPo5s6Fd9rv/vg72/wpm9sTVn3CUpf43Vu+a7t/dffOP1v0/kWuy5drF7ZWHpLrVmpzXXRV1yrIrnGJOxQlIO6Kcp6p6sLl0B2uFLkeLh8ruppHHn3EnnDi4tKsgtwOZ+RVaq9J+rnZVV1H9TO9g+yc1ygBznjsWNWFw4CDwXINwu8zepUTVumcePB9D9rkSZP7PK3fkNk3sBYf0F63WF6fl17VdVQ/U0Huc+C6D48S4IzHjlVdOAw4GCzXIPw+o7sF+dw/P9deNetVfZ5WQe4bWIsPaK9bLK/PS6/qOqqfqSD3OXAqyPfZJZdcYroH2Tk4LTpW9S/XFil67FIP+teD7Iz/PsN232x3u/igi/t+CXLdN7LWHpDr1qrr+8KrulZB7ntUYg9ECYi9qsE/W9WFGzzZ4UuQ6+FzsqIruuKXV9gLv/TCzh977kOW6/a4nuiVyvVECbbnfFXXUf1M7yA7Zz1KgDMeO1Z14TDgYLBcg/D7jG6+K3nSByapIPfJreLDtdd1rFd1HdXPVJCduxIlwBmPHau6cBhwMFiuQfiO6O59yH94zx9szdXW7OsZ5LovXK1+sFy3Wl9fF1/VdVQ/U0Hua9wef3CUAGc8dqzqwmHAwWC5BuE7orsF+Yz9zrDXbv3avp5BrvvC1eoHy3Wr9fV18VVdR/UzFeS+xk0FuerCOcek1cfkul363nTBm+y0/zrNXrjxC+3yQy7v6+Llui9crX6wXLdaX18XX9W1CnJfYxL/4CgB8Vc22GesunCDpTqczy7Xw+llRVf1n7/6T9vhtB06f9zvB/Xkul2uJ3K1cj0Reu06W9V1VD/TO8jOeY8S4IzHjlVdOAw4GCzXIHxH9KJFi2zVD6yqguxgV+mI9rqO7aquo/qZCrJzV6IEOOOxY1UXDgMOBss1CN8Z3b0P+b5332dPnPzEnp9FrntG1foHynXrFfb8Aqq6jupnKsg9j9rSD4wS4IzHjlVdOAw4GCzXIHxn9OQTJ9ufHv2TfWHOF+yvnvNXPT+LXPeMqvUPlOvWK+z5BVR1HdXPVJB7HjUV5IZA1YVzjkmrj8l1+/Qd9e9H2Sk/PMV22GAHu+aN1/T8AuS6Z1Stf6Bct15hzy+gqmsV5J5HZDAPjBIwmKsb3LNWXbjBER3eZ5br4XWzoiu78c4bbavPbtX5434+qCfX7XPtvWK59pJr37mqrqP6md5Bds58lABnPHas6sJhwMFguQbhO6O9H9STayfwFh6T6xZKc15yVddR/UwF2Tl4UQKc8dixqguHAQeD5RqEP4Ho7gf1fv+u39vaa6zd0zPJdU+YRuJBcj0SGnt6EVVdR/UzFeSexmz5B0UJcMZjx6ouHAYcDJZrEP4Eoqd9ZJrd99B9duqep9rhzz28p2eS654wjcSD5HokNPb0Iqq6jupnKsg9jZkKcpdA1YVzjkmrj8l1O/Udc/ExdtKVJ9mz1n2W3fiWG3t6EXLdE6aReJBcj4TGnl5EVdcqyD2Nx+AeFCVgcFc4mGeuunCDoTnczyrXw+1nRVf3s9/+zLY4dYvOH/f6QT25bqdrz1XLtYdaO89UdR3Vz/QOsnPuowQ447FjVRcOAw4GyzUIf4LR3fuQVZAnCHIEj2uvR1DqCl5SVddR/UwF2bkrUQKc8dixqguHAQeD5RqEP8HobkG+8x132rpT1h332eR6XEQj8wC5HhmV476Qqq6j+pkK8rgjNvYDogQ447FjVRcOAw4GyzUIf4LR6520nt31h7vspJeeZO/Y+R3jPptcj4toZB4g1yOjctwXUtV1VD9TQR53xFSQlyRQdeGcY9LqY3LdXn3Hfe84O/GyE23Gk2fYz4/6+bgvRK7HRTQyD5DrkVE57gup6loFedzRGOwDogQM9irjn73qwsWTHP5nlOvhd7SiK7z17ltt009v2vnjXu5Dluv2uu73yuW6X2LtfXxV11H9TO8gO2c/SoAzHjtWdeEw4GCwXIPwA6L7+aCeXAcAb8lTyHVLRAVcZlXXUf1MBdk5hFECnPHYsaoLhwEHg+UahB8Q3S3It73tNttw2oYrfUa5DgDekqeQ65aICrjMqq6j+pkKsnMIowQ447FjVRcOAw4GyzUIPyB6409ubPPvnW8n7naivW+X96kgBzAdhafQXo+Cxd5eQ1XXUf1MBbm3OVvuUVECnPHYsaoLhwEHg+UahB8Q/eHLP2zvveS9tuHUDe22t9+mghzAdBSeQns9ChZ7ew1VXUf1MxXk3uZMBfn/CFRdOOeYtPqYXLdan/36vl/bBidv0HkR431QT67b7bqfq5frfmi1+7FVXasgw3MbJQB+GX3HV124vkGNwAG5br/EXj+oJ9ftd93rK5DrXkm1/3FVXUf1M72D7NyBKAHOeOxY1YXDgIPBcg3CD4ruFuRbjrrFnvHkZ6zwWeU6CHgLnkauWyAp6BKruo7qZyrIzkGMEuCMx45VXTgMOBgs1yD8oOgtTtnCfva7n9l7X/Re++DsD6ogB3Ft89Nor9tsr79rr+o6qp+pIPc3b489OkqAMx47VnXhMOBgsFyD8IOiT77qZDv6P462p675VFtwzAIV5CCubX4a7XWb7fV37VVdR/UzFeT+5k0F+b777JJLLrHZs2fb1KlTnfR0rA0Eqv7l2gY3vV7jgj8ssHVPWrfz8JV9UE+ueyXa/sfJdfsd9voKqrpWQe51Qgb0uCgBA7q8gT1t1YUbGNAhfmK5HmI5fVxaLx/Uk+s+gLb8oXLdcoF9XH5V11H9TO8g9zFsSz40SoAzHjtWdeEw4GCwXIPwA6O7Bfmnh//UZq4zc8xnlutA4EP+VHI95IICL6+q66h+poLsHMYoAc547FjVhcOAg8FyDcIPjN76s1vbDXfeYEc//2j7u5f9nQpyINs2PpX2uo3WfNdc1XVUP1NB9s2dRQlwxmPHqi4cBhwMlmsQfmD0Z675jB3+rcNtympT7P733K+CHMi2jU+lvW6jNd81V3Ud1c9UkH1zp4KsD+k5J6c9x6r+5doeQ71d6T0P3GNrf2ztzoNX9EE9ue6N5Sg8Sq5HwWJvr6GqaxXk3uZjYI+KEjCwCxzQE1dduAHhHOqnleuh1tPXxXXvQ370uEdtlVVWWe6sXPeFs9UPlutW6+vr4qu6jupnege5r3F7/MFRApzx2LGqC4cBB4PlGoQfHN0tyNcfdr1tvf7WKsjBfNv0dNrrNtma2LVWdR3Vz1SQnfMXJcAZjx2runAYcDBYrkH4wdHP+8LzbO7tc+3wHQ+3U19xqgpyMN82PZ32uk22JnatVV1H9TMVZOf8RQlwxmPHqi4cBhwMlmsQfnD0l6/7sh3yjUNs0iqT7OHjHlZBDubbpqfTXrfJ1sSutarrqH6mguycvygBznjsWNWFw4CDwXINwg+OXvjQQnviR57YedaxPqgn18HAh/jp5HqI5QRfWlXXUf1MBdk5kFECnPHYsaoLhwEHg+UahD+A6JV9UE+uBwB8wE95771mP/uZ2VZbmU2e3HuYXPfOqu2PrOo6qp+pIDs3IEqAMx47VnXhMOBgsFyD8AcQ3S3Icw+da8/d8LlLJcj1AIAP+Cl33dXs+983W201s223NdthB7Mdd1z837NmmT3hCWNfgFwPWMwQPX1V11H9TAXZOcxRApzx2LGqC4cBB4PlGoQ/gOhdv7yrff/W79sbtn2DfXGfL6ogD4Bx5lM+//lmV1+9OLH55r5Fix5PX3NNs+c85/HC3BTnzTc3W3VVM+11piU2q6rrqH6mguyc3ygBznjsWNWFw4CDwXINwh9A9Ndu/JodeO6BnWde9j5kuR4A8AE/5fvfb/aBD6w4ZNnSPG3a4neXX/Si+2y77S6xmTNn28yZUzvlWj+jSaDqXkf1MxVk515ECXDGY8eqLhwGHAyWaxD+AKIfePgBW/NDa6ogD4At8ZQ/+EFTdvtLbsrwhhveZ6eeeokdccRsW3vtqXbDDf09hx7dHgJV/w6P6mcqyM5ZjxLgjMeOVV04DDgYLNcg/AFFd+9DfuS4R2zVVVZ9LEWuBwR8gE/7pz+ZPeUpZvff31/IRhs9XpDvvXeq/frXZmut1d9z6NHtIFB1r6P6mQqyc86jBDjjsWNVFw4DDgbLNQh/QNHdgnzp6y+1F2/6YhXkAXHOetq99za74IL+0roF+ZOfnG2nnTbVnvnM/s7r0e0hUPXv8Kh+poLsnPUoAc547FjVhcOAg8FyDcIfUPQeZ+xhF827yA589oF21p+dpYI8IM4ZT/vgg2avfrXZhRf2l9YtyM973mxbf/2p/R3Wo1tFoOrf4VH9TAXZOe5RApzx2LGqC4cBB4PlGoQ/oOjzf3q+7Xf2fp1nX/KDenI9IOCBT9vcCnHKKWYf/7jZI4/0/8TN/cfNf04++T7bdNNLbPbs2TZ1qgpy/yTbc6LqXkf1MxVk56xHCXDGY8eqLhwGHAyWaxD+gKL/9MifbPIHF/9WCRXkAUEOeNrmK9uar3A76SSzf/3XgCc0syc/2ezrXzd77nPvs0suUUGOoTrcz1L17/CofqaC7JzvKAHOeOxY1YXDgIPBcg3CH2B09z7kh//2YZu06qROklwPEHgPT93cLvHP/7z43eGf/GTFBzbbzOyYY8wOOujxD9YdeqjZF5f+WuvlnqD5TuTzzjPbZBO57kHHyDyk6l5H9TMVZOcqRAlwxmPHqi4cBhwMlmsQ/gCjuwX5otddZC+b8TIV5AGyXtFTN7dL/P3fm33sY0v/go9lH7/nnosL8YtfvPj2iLF+zj7b7IADlv+T7vcgH3KI2Wc+Y7bGGosfo70GhEORVV1H9TMVZOfgRglwxmPHqi4cBhwMlmsQ/gCj9/3avvaNm79h+/2//ey815yn0jRA1s1T93O7xNveZvbWty5+p7fXnwULzNZbb+mi3ZTjSZMWl/DDDlu6XGuveyXb/sdVdR3Vz1SQnTsQJcAZjx2runAYcDBYrkH4A4z+9s+/bXueuWcnoXsfslzHAe/1dokZMx6/XaL51dAT+Wl+Q95//dfjJXn99RffUrHzzss/q1xPhHS7zlZ1HdXPVJCd8x4lwBmPHau6cBhwMFiuQfgDjH740YdttRNXU0EOYvyrXy1+p7a5f7h5t3hFP698pdk732m2yy4rvl3Ce0nvfrfZRz+6+PQLXmB2zjlmT3va2M+mvfZSbt+5qq6j+pkKsnPmowQ447FjVRcOAw4GyzUIf8DR3fuQH3rfQ7bapNV0X2qPvJsCfNVVi8vwN76x8kNHH2121FFmG2/c45NP4GE33mj2lreYbbON2Sc+YTZ58ReVjPmjvZ4A6JYdreo6qp+pIDsHPkqAMx47VnXhMOBgsFyD8Acc3dNIMREAACAASURBVC3I3zjgG7b3zL1VkFfAm7hdYsDq5XrQgIfo+av+HR7Vz1SQncMcJcAZjx2runAYcDBYrkH4A44+4JwD7Owfn217br6nfeu131Jp+j/ew3C7xIDVy/WgAQ/R81f9Ozyqn6kgO4c5SoAzHjtWdeEw4GCwXIPwBxz9vf/9ns3+yuxOSvNBvYqum9slrrxy8S/jGKbbJQasvqTrQTMd1uevuNeNi6h+poLsnOwoAc547FjVhcOAg8FyDcIfcPSjix61SR9Y/EtCqhTkBx4wO+usxfcP33zzigE/85mLv13ita81m+i3SwxYo+vptdcubK08VNV1VD9TQXaOfZQAZzx2rOrCYcDBYLkG4SdEd+9DfuC9D9hDf3xo5H79cD+3SzSF+EUviv92iQSNfUdor/tG1toDVV1H9TMVZOfoRwlwxmPHqi4cBhwMlmsQfkJ0tyCf/eqzbc+N92x1Qe73donml3FMn54AeQgjtNdDKGVAl1TVdVQ/U0F2DmaUAGc8dqzqwmHAwWC5BuEnRB98/sF2+vWn226b7mbfeNU3WlWQdbuEf0C01352bTtZ1XVUP1NBdk58lABnPHas6sJhwMFguQbhJ0RfNf8q2/mfFv+qtXvffu9QF+Tbbzf79KcXf6BuZT9z5iz+ZRwvfGGN2yU8Y6K99lBr55mqrqP6mQqyc+6jBDjjsWNVFw4DDgbLNQg/IXrRokW26gdWHbqC3L1dovkw3Te/uXIQ73iHWXO7xEYbJQAbkQjt9YiI7OFlVHUd1c/SCvLvf/97e/KTn7yc0iuuuMJe0PxuzJb9RAlo2cvWVwS1TdgErrfqX64TQNa6o937kO846g676rKrbPbs2TZ16tTU19Hr7RJbbPH4t0ussUbqJY5UmPZ6pHSu9MVUdR3VzwZekG+66Sbbd999bd68ebbuuuvaRz/6UTv44IMfkzpt2jS79957WzexUQLa9sKrLlzbPEVcr1xHUBzu5+gW5K++4qs29VdTey7IP/jBD+zYY4+1P/uzP7NDDz20r1J9221mf//3ul2CmgztNUU+P7eq66h+NvCC/JKXvMT22msvO+KII6x5t/iwww6zvffe2z7e/O9nZp2/WBuJbfuJEtC211114drmKeJ65TqC4nA/x2EXHmaf+8/P2V6b7GWHPvnQngvygQceaF/72tc6L+5JT3qSHX744XbUUUfZ+uuvv9QLbm6X+MEPFpfhCy5YOYvm3uGjjtLtEoOeGO31oAkPz/NXdR3VzwZekJvbKn73u9/ZKqus0pmau+++u/OO8sYbb2xf+tKXbO21104ryM2wvPvd77ZzzjnH7rnnHtt6663tAx/4gL385S/ve6KjBPQdDB+ounAwdiRerhHsqaE/+vWP7Dmff45ttPpGduqsU10FuXvBkydPtoMOOtie8Yyj7fTTt7Cf/WzFL2XmzMW3S/zFX5jpdolU5bpNLhc3mlb17/Cofjbwgjx9+nT74Q9/aE9/+tMfG5QHH3zQDjjgAHvggQfssssus4ULF6YM0e67727XXXdd593rTTbZxD7/+c/beeedZxdffLHtuuuufV1DlIC+QofgwVUXbgjQp1+CXKcjTw/sflAvoiA/fvHNmyH7mdkxZrZT5x/vvffiQrzzzvp2iXTJywRqr2kDeflVXUf1s4EX5De84Q02Y8YMe+9737vUVDz66KOde9e+/OUvW/N/D/rnW9/6lr3yla/sFOL99mv+8rZO7vbbb2+rrbZap8T38xMloJ/MYXhs1YUbBvbZ1yDX2cSZvOY+5F4K8tK3SxxoZotvsVjZzy677GLHHHOM7bnnnrbqqou/MUM/LAHtNcs/M72q66h+NvCC/NBDD9nDDz9sa6211phz8ctf/rJzu8Wgf974xjfa17/+9c7tHkv+Rf2JT3zC3vGOd9htt91mG264Yc+XESWg58AheWDVhRsS/KmXIdepuLGwNT+0pq0zaZ3lbrFovl3ijDPMmo+LLH+7RG8Fubm1rnmXesstt+wU5ebe5eZWDP1wBLTXHPvs5Kquo/pZaEH+0Y9+ZNttt132DPSU9/znP79zH/SVV1651OMvuugi22OPPezb3/52X/ciRwno6eKH6EFVF26IFKRdilynoUaD3vbtt9k5153TKcjXXjvbPvjBlX/N2z77mN1//4H23e+O/w5y94V1i/IGG2xgb3/72615w6L5BiP95BPQXuczpxKruo7qZ6EFuflGiuaTzc2tDMP2s8UWW1jznwsvvHCpS7vmmmvsuc99rp111lmddzfG+rnrrrtswYIFS/1R87V1c+bMseb8zOYTJ0V+mvvF586dazvttJNNmTKlyKuu+TLluob3//7lLfbWg4+xv33fW+zEE0+0O+64Y2AvvFuUm8+kfPe73x1Yjp54xQS013Wmo6rrm2++2XbccUdrvmZ41qxZbuGhBfkVr3hF5wNvn/rUpzpf+7Oin0ceecS+8pWv2CGHHOK+8H4PNuW4KbIXLPNdQ70U5OOPP95OOOGEMSNPOeUUaz6IqB8REAEREAEREAEREAGWwPz58+3II48croLcfOitKcbNt0O89a1vtZNPPnkpSs23Vpx22mnW3PfbvICmKGf9TOQWC72D/Lilqv9GmjWnw5Qj18NkY7DX0q/r5nMbzQefe/3pvnPcvFHRfDi7ua3tCU94Qq/H9bhAAv26DozWUyUTqOp6KN9B7rr/u7/7O3vXu97V+YUgza0LzYf0Tj31VPv0pz9td955Z+de3+ZbLV74whemjUvzl/K5555rv/3tb5f6kF5T4o8++mh9SK9HE1XvaeoRz0g9TK5HSudKX0y/rpf8RSG9UGp+YVTzIb2XvvSlj30nfi/n9Jh4Av26jr8CPWMWgaquh/Ie5CWlN1+ndtBBB3W+b/jXv/5159dJN1+v1hRj4oN8//Zv/9b5jX7nn3++7dN8yuT/vuZthx12sEmTJnXuJe7nJ0pAP5nD8NiqCzcM7LOvQa6ziXN5/brupSA33xa0//772zvf+c7O12nqZzgI9Ot6OK5aV+EhUNV1VD8LvQe5K/D222+3k046qXM7xR//+MfOOwZNYe4WU4/oiZ5pvmqoeRfjhhtu6Fxb89VyzfU1X/32H//xH53fINXPT5SAfjKH4bFVF24Y2Gdfg1xnE+fy+nU9VkHu3kax+uqr21/91V91/pe5zTbbjHtRSh6TQL+uhbG9BKq6jupnoQX55z//uX30ox+1M844o1OKDz74YHvNa15jb37zmzu3NjTv3mbeVrHsWDfvYh977LGdXzXd/N9bbbVV51dNN19i3+9PlIB+c+nHV104mjuRL9cEdSazX9dLFuRuMX7yk5/c+WDMEUccYeuuuy7zQpQ6LoF+XY/7hHrA0BKo6jqqn4UW5OZDF80vBGkKcfPuwdOe9rTO4Pz+97/v3I987bXX2pe+9KXOr5lu+0+UgLZxqLpwbfMUcb1yHUGxHc/Rr+slC3Lzv8Y1H9prfmuqvvpx+H3363r4X5GucEUEqrqO6mehBbn5KrSjjjrKmncSlv1pfqPe61//evuXf/mXzndtvuc972n1VEcJaBuEqgvXNk8R1yvXERTb8Rz9um5uVWv+17dXvepVnfuM9Y0U7fDcXGW/rtvzynSlyxKo6jqqn4UW5F7Gs7nF4eMf/3jnHrXmHuC2/kQJaNvrr7pwbfMUcb1yHUGxHc8h1+3wFHGVch1BsR3PUdV1VD9LL8jNWDXfk9zcq/bggw+2Y8rGuMooAW0DUHXh2uYp4nrlOoJiO55DrtvhKeIq5TqCYjueo6rrqH6GFORmtC666KLO9yG39SdKQNtef9WFa5uniOuV6wiK7XgOuW6Hp4irlOsIiu14jqquo/oZVpDbMV4rvsooAW3jUHXh2uYp4nrlOoJiO55DrtvhKeIq5TqCYjueo6rrqH6mguyc8ygBznjsWNWFw4CDwXINwk+Olutk4GCcXIPwk6Oruo7qZyrIzoGNEuCMx45VXTgMOBgs1yD85Gi5TgYOxsk1CD85uqrrqH6mguwc2CgBznjsWNWFw4CDwXINwk+Olutk4GCcXIPwk6Oruo7qZyrIzoGNEuCMx45VXTgMOBgs1yD85Gi5TgYOxsk1CD85uqrrqH6mguwc2CgBznjsWNWFw4CDwXINwk+Olutk4GCcXIPwk6Oruo7qZyrIzoGNEuCMx45VXTgMOBgs1yD85Gi5TgYOxsk1CD85uqrrqH6mguwc2CgBznjsWNWFw4CDwXINwk+Olutk4GCcXIPwk6Oruo7qZyrIzoGNEuCMx45VXTgMOBgs1yD85Gi5TgYOxsk1CD85uqrrqH6mguwc2CgBznjsWNWFw4CDwXINwk+Olutk4GCcXIPwk6Oruo7qZyrIzoGNEuCMx45VXTgMOBgs1yD85Gi5TgYOxsk1CD85uqrrqH6mguwc2CgBznjsWNWFw4CDwXINwk+Olutk4GCcXIPwk6Oruo7qZyrIzoGNEuCMx45VXTgMOBgs1yD85Gi5TgYOxsk1CD85uqrrqH6mguwc2CgBznjsWNWFw4CDwXINwk+Olutk4GCcXIPwk6Oruo7qZyrIzoGNEuCMx45VXTgMOBgs1yD85Gi5TgYOxsk1CD85uqrrqH6mguwc2CgBznjsWNWFw4CDwXINwk+Olutk4GCcXIPwk6Oruo7qZyrIzoGNEuCMx45VXTgMOBgs1yD85Gi5TgYOxsk1CD85uqrrqH6mguwc2CgBznjsWNWFw4CDwXINwk+Olutk4GCcXIPwk6Oruo7qZyrIzoGNEuCMx45VXTgMOBgs1yD85Gi5TgYOxsk1CD85uqrrqH6mguwc2CgBznjsWNWFw4CDwXINwk+Olutk4GCcXIPwk6Oruo7qZyrIzoGNEuCMx45VXTgMOBgs1yD85Gi5TgYOxsk1CD85uqrrqH6mguwc2CgBznjsWNWFw4CDwXINwk+Olutk4GCcXIPwk6Oruo7qZyrIzoGNEuCMx45VXTgMOBgs1yD85Gi5TgYOxsk1CD85uqrrqH6mguwc2CgBznjsWNWFw4CDwXINwk+Olutk4GCcXIPwk6Oruo7qZyrIzoGNEuCMx45VXTgMOBgs1yD85Gi5TgYOxsk1CD85uqrrqH6mguwc2CgBznjsWNWFw4CDwXINwk+Olutk4GCcXIPwk6Oruo7qZyrIzoGNEuCMx45VXTgMOBgs1yD85Gi5TgYOxsk1CD85uqrrqH6mguwc2CgBznjsWNWFw4CDwXINwk+Olutk4GCcXIPwk6Oruo7qZyrIzoGNEuCMx45VXTgMOBgs1yD85Gi5TgYOxsk1CD85uqrrqH6mguwc2CgBznjsWNWFw4CDwXINwk+Olutk4GCcXIPwk6Oruo7qZyrIzoGNEuCMx45VXTgMOBgs1yD85Gi5TgYOxsk1CD85uqrrqH6mguwc2CgBznjsWNWFw4CDwXINwk+Olutk4GCcXIPwk6Oruo7qZyrIzoGNEuCMx45VXTgMOBgs1yD85Gi5TgYOxsk1CD85uqrrqH6mguwc2CgBznjsWNWFw4CDwXINwk+Olutk4GCcXIPwk6Oruo7qZyrIzoGNEuCMx45VXTgMOBgs1yD85Gi5TgYOxsk1CD85uqrrqH6mguwc2CgBznjsWNWFw4CDwXINwk+Olutk4GCcXIPwk6Oruo7qZyrIzoGNEuCMx45VXTgMOBgs1yD85Gi5TgYOxsk1CD85uqrrqH6mguwc2CgBznjsWNWFw4CDwXINwk+Olutk4GCcXIPwk6Oruo7qZyrIzoGNEuCMx45VXTgMOBgs1yD85Gi5TgYOxsk1CD85uqrrqH6mguwc2CgBznjsWNWFw4CDwXINwk+Olutk4GCcXIPwk6Oruo7qZyrIzoGNEuCMx45VXTgMOBgs1yD85Gi5TgYOxsk1CD85uqrrqH6mguwc2CgBznjsWNWFw4CDwXINwk+Olutk4GCcXIPwk6Oruo7qZyrIzoGNEuCMx45VXTgMOBgs1yD85Gi5TgYOxsk1CD85uqrrqH6mguwc2CgBznjsWNWFw4CDwXINwk+Olutk4GCcXIPwk6Oruo7qZyrIzoGNEuCMx45VXTgMOBgs1yD85Gi5TgYOxsk1CD85uqrrqH6mguwc2CgBznjsWNWFw4CDwXINwk+Olutk4GCcXIPwk6Oruo7qZyrIzoGNEuCMx45VXTgMOBgs1yD85Gi5TgYOxsk1CD85uqrrqH6mguwc2CgBznjsWNWFw4CDwXINwk+Olutk4GCcXIPwk6Oruo7qZyrIzoGNEuCMx45VXTgMOBgs1yD85Gi5TgYOxsk1CD85uqrrqH6mguwc2CgBznjsWNWFw4CDwXINwk+Olutk4GCcXIPwk6Oruo7qZyrIzoGNEuCMx45VXTgMOBgs1yD85Gi5TgYOxsk1CD85uqrrqH6mguwc2CgBznjsWNWFw4CDwXINwk+Olutk4GCcXIPwk6Oruo7qZyrIzoGNEuCMx45VXTgMOBgs1yD85Gi5TgYOxsk1CD85uqrrqH6mguwc2CgBznjsWNWFw4CDwXINwk+Olutk4GCcXIPwk6Oruo7qZyrIzoGNEuCMx45VXTgMOBgs1yD85Gi5TgYOxsk1CD85uqrrqH6mguwc2CgBznjsWNWFw4CDwXINwk+Olutk4GCcXIPwk6Oruo7qZyrIzoGNEuCMx45VXTgMOBgs1yD85Gi5TgYOxsk1CD85uqrrqH6mguwc2CgBznjsWNWFw4CDwXINwk+Olutk4GCcXIPwk6Oruo7qZyrIzoGNEuCMx45VXTgMOBgs1yD85Gi5TgYOxsk1CD85uqrrqH6mguwc2CgBznjsWNWFw4CDwXINwk+Olutk4GCcXIPwk6Oruo7qZyrIzoGNEuCMx45VXTgMOBgs1yD85Gi5TgYOxsk1CD85uqrrqH6mguwc2CgBznjsWNWFw4CDwXINwk+Olutk4GCcXIPwk6Oruo7qZyrIzoGNEuCMx45VXTgMOBgs1yD85Gi5TgYOxsk1CD85uqrrqH6mguwc2CgBznjsWNWFw4CDwXINwk+Olutk4GCcXIPwk6Oruo7qZyrIzoGNEuCMx45VXTgMOBgs1yD85Gi5TgYOxsk1CD85uqrrqH6mguwc2CgBznjsWNWFw4CDwXINwk+Olutk4GCcXIPwk6Oruo7qZyrIzoGNEuCMx45VXTgMOBgs1yD85Gi5TgYOxsk1CD85uqrrqH6mguwc2CgBznjsWNWFw4CDwXINwk+Olutk4GCcXIPwk6Oruo7qZyrIzoGNEuCMx45VXTgMOBgs1yD85Gi5TgYOxsk1CD85uqrrqH6mguwc2CgBznjsWNWFw4CDwXINwk+Olutk4GCcXIPwk6Oruo7qZyrIzoGNEuCMx45VXTgMOBgs1yD85Gi5TgYOxsk1CD85uqrrqH6mguwc2CgBznjsWNWFw4CDwXINwk+Olutk4GCcXIPwk6Oruo7qZyrIzoGNEuCMx45VXTgMOBgs1yD85Gi5TgYOxsk1CD85uqrrqH6mguwc2CgBznjsWNWFw4CDwXINwk+Olutk4GCcXIPwk6Oruo7qZyrIzoGNEuCMx45VXTgMOBgs1yD85Gi5TgYOxsk1CD85uqrrqH6mguwc2CgBznjsWNWFw4CDwXINwk+Olutk4GCcXIPwk6Oruo7qZyrIzoGNEuCMx45VXTgMOBgs1yD85Gi5TgYOxsk1CD85uqrrqH6mguwc2CgBznjsWNWFw4CDwXINwk+Olutk4GCcXIPwk6Oruo7qZyrIzoGNEuCMx45VXTgMOBgs1yD85Gi5TgYOxsk1CD85uqrrqH6mguwc2CgBznjsWNWFw4CDwXINwk+Olutk4GCcXIPwk6Oruo7qZyrIzoGNEuCMx45VXTgMOBgs1yD85Gi5TgYOxsk1CD85uqrrqH6mguwc2CgBznjsWNWFw4CDwXINwk+Olutk4GCcXIPwk6Oruo7qZyrIzoGNEuCMx45VXTgMOBgs1yD85Gi5TgYOxsk1CD85uqrrqH6mguwc2CgBznjsWNWFw4CDwXINwk+Olutk4GCcXIPwk6Oruo7qZyrIzoGNEuCMx45VXTgMOBgs1yD85Gi5TgYOxsk1CD85uqrrqH6mguwc2CgBznjsWNWFw4CDwXINwk+Olutk4GCcXIPwk6Oruo7qZyrIzoGNEuCMx45VXTgMOBgs1yD85Gi5TgYOxsk1CD85uqrrqH6mguwc2CgBznjsWNWFw4CDwXINwk+Olutk4GCcXIPwk6Oruo7qZyrIzoGNEuCMx45VXTgMOBgs1yD85Gi5TgYOxsk1CD85uqrrqH6mguwc2CgBznjsWNWFw4CDwXINwk+Olutk4GCcXIPwk6Oruo7qZyrIzoGNEuCMx45VXTgMOBgs1yD85Gi5TgYOxsk1CD85uqrrqH6mguwc2CgBznjsWNWFw4CDwXINwk+Olutk4GCcXIPwk6Oruo7qZyrIzoGNEuCMx45VXTgMOBgs1yD85Gi5TgYOxsk1CD85uqrrqH6mguwc2CgBznjsWNWFw4CDwXINwk+Olutk4GCcXIPwk6Oruo7qZyrIzoGNEuCMx45VXTgMOBgs1yD85Gi5TgYOxsk1CD85uqrrqH6mguwc2CgBznjsWNWFw4CDwXINwk+Olutk4GCcXIPwk6Oruo7qZyrIzoGNEuCMx45VXTgMOBgs1yD85Gi5TgYOxsk1CD85uqrrqH5WpiCfd9559vWvf92uueYau/3222399de3F7zgBXb88cfbM5/5zL7HNkpA38HwgaoLB2NH4uUawY6EyjWCHQmVawQ7ElrVdVQ/K1OQd9ppp04p3nfffW3GjBl222232Uc+8hG79dZb7eqrr7ZnPetZfQ1wlIC+QofgwVUXbgjQp1+CXKcjxwLlGkOfHizX6cixwKquo/pZmYJ855132nrrrbfUoP7mN7+xTTfd1F73utfZF77whb6GOEpAX6FD8OCqCzcE6NMvQa7TkWOBco2hTw+W63TkWGBV11H9rExBXtGEbrHFFvaMZzzDLrroor6GOEpAX6FD8OCqCzcE6NMvQa7TkWOBco2hTw+W63TkWGBV11H9rHRBbm6vaG63OOqoo+zkk0/ua4ijBPQVOgQPrrpwQ4A+/RLkOh05FijXGPr0YLlOR44FVnUd1c/KFuRHHnnEXv7yl3c+tHfjjTfa9OnTVzjEd911ly1YsGCpP583b57NmTOnc37mzJnYAmQHL1y40ObOnWvNPd1TpkzJjldeIgG5ToQNR8k1LCAxXq4TYcNRVV3ffPPNtuOOO9pNN91ks2bNcltoZUG+9NJLbbfdduvpRTfldp111lnqsYsWLbJDDz3UTj/9dDv33HNtn332WelzNd90ccIJJ4z5mFNOOWWl5bqni9SDREAEREAEREAEREAEJkxg/vz5duSRR9YsyHfccYddfPHFPUHcf//9bfXVV3/ssU05PuywwzofymsKcvMBvfF+9A7y44Sq/hvpeDMyin8u16NodezXJNdyXYdAnVdada9Lv4PsHe+mHL/5zW/ulOMvfvGLdsghh3ifyqLucXFfAHSw6j1NEG40Vq5R/Knhcp2KGw2TaxR/anhV11H9rJW3WHgmrPvO8WmnnWaf+9zn7I1vfKPnaR47EyVgQhcBHK66cABqPFKucQVpFyDXaajxILnGFaRdQFXXUf2sTEFu7kc59dRT7Q1veMNy5XjatGm25ZZb9jW0UQL6Ch2CB1dduCFAn34Jcp2OHAuUawx9erBcpyPHAqu6jupnZQpy8wtBmq91G+vnxS9+sTUf/OvnJ0pAP5nD8NiqCzcM7LOvQa6ziXN5cs2xz06W62ziXF5V11H9rExBjh7RKAHR1zXo56u6cIPmOozPL9fDaGUw1yTXg+E6jM8q18NoZTDXVNV1VD9TQXbOZZQAZzx2rOrCYcDBYLkG4SdHy3UycDBOrkH4ydFVXUf1MxVk58BGCXDGY8eqLhwGHAyWaxB+crRcJwMH4+QahJ8cXdV1VD9TQXYObJQAZzx2rOrCYcDBYLkG4SdHy3UycDBOrkH4ydFVXUf1MxVk58BGCXDGY8eqLhwGHAyWaxB+crRcJwMH4+QahJ8cXdV1VD9TQXYObJQAZzx2rOrCYcDBYLkG4SdHy3UycDBOrkH4ydFVXUf1MxVk58BGCXDGY8eqLhwGHAyWaxB+crRcJwMH4+QahJ8cXdV1VD9TQXYObJQAZzx2rOrCYcDBYLkG4SdHy3UycDBOrkH4ydFVXUf1MxVk58BGCXDGY8eqLhwGHAyWaxB+crRcJwMH4+QahJ8cXdV1VD9TQXYObJQAZzx2rOrCYcDBYLkG4SdHy3UycDBOrkH4ydFVXUf1MxVk58BGCXDGY8eqLhwGHAyWaxB+crRcJwMH4+QahJ8cXdV1VD9TQXYObJQAZzx2rOrCYcDBYLkG4SdHy3UycDBOrkH4ydFVXUf1MxVk58BGCXDGY8eqLhwGHAyWaxB+crRcJwMH4+QahJ8cXdV1VD9TQXYObJQAZzx2rOrCYcDBYLkG4SdHy3UycDBOrkH4ydFVXUf1MxVk58BGCXDGY8eqLhwGHAyWaxB+crRcJwMH4+QahJ8cXdV1VD9TQXYObJQAZzx2rOrCYcDBYLkG4SdHy3UycDBOrkH4ydFVXUf1MxVk58BGCXDGY8eqLhwGHAyWaxB+crRcJwMH4+QahJ8cXdV1VD9TQXYObJQAZzx2rOrCYcDBYLkG4SdHy3UycDBOrkH4ydFVXUf1MxVk58BGCXDGY8eqLhwGHAyWaxB+crRcJwMH4+QahJ8cXdV1VD9TQXYObJQAZzx2rOrCYcDBYLkG4SdHy3UycDBOrkH4ydFVXUf1MxVk58BGCXDGY8eqLhwGHAyWaxB+crRcJwMH4+QahJ8cXdV1VD9TQXYObJQAZzx2rOrC+VhaGwAAIABJREFUYcDBYLkG4SdHy3UycDBOrkH4ydFVXUf1MxVk58BGCXDGY8eqLhwGHAyWaxB+crRcJwMH4+QahJ8cXdV1VD9TQXYObJQAZzx2rOrCYcDBYLkG4SdHy3UycDBOrkH4ydFVXUf1MxVk58BGCXDGY8eqLhwGHAyWaxB+crRcJwMH4+QahJ8cXdV1VD9TQXYObJQAZzx2rOrCYcDBYLkG4SdHy3UycDBOrkH4ydFVXUf1MxVk58BGCXDGY8eqLhwGHAyWaxB+crRcJwMH4+QahJ8cXdV1VD9TQXYObJQAZzx2rOrCYcDBYLkG4SdHy3UycDBOrkH4ydFVXUf1MxVk58BGCXDGY8eqLhwGHAyWaxB+crRcJwMH4+QahJ8cXdV1VD9TQXYObJQAZzx2rOrCYcDBYLkG4SdHy3UycDBOrkH4ydFVXUf1MxVk58BGCXDGY8eqLhwGHAyWaxB+crRcJwMH4+QahJ8cXdV1VD9TQXYObJQAZzx2rOrCYcDBYLkG4SdHy3UycDBOrkH4ydFVXUf1MxVk58BGCXDGY8eqLhwGHAyWaxB+crRcJwMH4+QahJ8cXdV1VD9TQXYObJQAZzx2rOrCYcDBYLkG4SdHy3UycDBOrkH4ydFVXUf1MxVk58BGCXDGY8eqLhwGHAyWaxB+crRcJwMH4+QahJ8cXdV1VD9TQXYObJQAZzx2rOrCYcDBYLkG4SdHy3UycDBOrkH4ydFVXUf1MxVk58BGCXDGY8eqLhwGHAyWaxB+crRcJwMH4+QahJ8cXdV1VD9TQXYObJQAZzx2rOrCYcDBYLkG4SdHy3UycDBOrkH4ydFVXUf1MxVk58BGCXDGY8eqLhwGHAyWaxB+crRcJwMH4+QahJ8cXdV1VD9TQXYObJQAZzx2rOrCYcDBYLkG4SdHy3UycDBOrkH4ydFVXUf1MxVk58BGCXDGY8eqLhwGHAyWaxB+crRcJwMH4+QahJ8cXdV1VD9TQXYObJQAZzx2rOrCYcDBYLkG4SdHy3UycDBOrkH4ydFVXUf1MxVk58BGCXDGY8eqLhwGHAyWaxB+crRcJwMH4+QahJ8cXdV1VD9TQXYObJQAZzx2rOrCYcDBYLkG4SdHy3UycDBOrkH4ydFVXUf1MxVk58BGCXDGY8eqLhwGHAyWaxB+crRcJwMH4+QahJ8cXdV1VD9TQXYObJQAZzx2rOrCYcDBYLkG4SdHy3UycDBOrkH4ydFVXUf1MxVk58BGCXDGY8eqLhwGHAyWaxB+crRcJwMH4+QahJ8cXdV1VD9TQXYObJQAZzx2rOrCYcDBYLkG4SdHy3UycDBOrkH4ydFVXUf1MxVk58BGCXDGY8eqLhwGHAyWaxB+crRcJwMH4+QahJ8cXdV1VD9TQXYObJQAZzx2rOrCYcDBYLkG4SdHy3UycDBOrkH4ydFVXUf1MxVk58BGCXDGY8eqLhwGHAyWaxB+crRcJwMH4+QahJ8cXdV1VD9TQXYObJQAZzx2rOrCYcDBYLkG4SdHy3UycDBOrkH4ydFVXUf1MxVk58BGCXDGY8eqLhwGHAyWaxB+crRcJwMH4+QahJ8cXdV1VD9TQXYObJQAZzx2rOrCYcDBYLkG4SdHy3UycDBOrkH4ydFVXUf1MxVk58BGCXDGY8eqLhwGHAyWaxB+crRcJwMH4+QahJ8cXdV1VD9TQXYObJQAZzx2rOrCYcDBYLkG4SdHy3UycDBOrkH4ydFVXUf1MxVk58BGCXDGY8eqLhwGHAyWaxB+crRcJwMH4+QahJ8cXdV1VD9TQXYObJQAZzx2rOrCYcDBYLkG4SdHy3UycDBOrkH4ydFVXUf1MxVk58BGCXDGY8eqLhwGHAyWaxB+crRcJwMH4+QahJ8cXdV1VD9TQXYObJQAZzx2rOrCYcDBYLkG4SdHy3UycDBOrkH4ydFVXUf1MxVk58BGCXDGY8eqLhwGHAyWaxB+crRcJwMH4+QahJ8cXdV1VD9TQXYObJQAZzx2rOrCYcDBYLkG4SdHy3UycDBOrkH4ydFVXUf1MxVk58BGCXDGY8eqLhwGHAyWaxB+crRcJwMH4+QahJ8cXdV1VD9TQXYObJQAZzx2rOrCYcDBYLkG4SdHy3UycDBOrkH4ydFVXUf1MxVk58BGCXDGY8eqLhwGHAyWaxB+crRcJwMH4+QahJ8cXdV1VD9TQXYObJQAZzx2rOrCYcDBYLkG4SdHy3UycDBOrkH4ydFVXUf1MxVk58BGCXDGY8eqLhwGHAyWaxB+crRcJwMH4+QahJ8cXdV1VD9TQXYObJQAZzx2rOrCYcDBYLkG4SdHy3UycDBOrkH4ydFVXUf1MxVk58BGCXDGY8eqLhwGHAyWaxB+crRcJwMH4+QahJ8cXdV1VD9TQXYObJQAZzx2rOrCYcDBYLkG4SdHy3UycDBOrkH4ydFVXUf1MxVk58BGCXDGY8eqLhwGHAyWaxB+crRcJwMH4+QahJ8cXdV1VD9TQXYObJQAZzx2rOrCYcDBYLkG4SdHy3UycDBOrkH4ydFVXUf1MxVk58BGCXDGY8eqLhwGHAyWaxB+crRcJwMH4+QahJ8cXdV1VD9TQXYObJQAZzx2rOrCYcDBYLkG4SdHy3UycDBOrkH4ydFVXUf1MxVk58BGCXDGY8eqLhwGHAyWaxB+crRcJwMH4+QahJ8cXdV1VD9TQXYObJQAZzx2rOrCYcDBYLkG4SdHy3UycDBOrkH4ydFVXUf1MxVk58BGCXDGY8eqLhwGHAyWaxB+crRcJwMH4+QahJ8cXdV1VD9TQXYObJQAZzx2rOrCYcDBYLkG4SdHy3UycDBOrkH4ydFVXUf1MxVk58BGCXDGY8eqLhwGHAyWaxB+crRcJwMH4+QahJ8cXdV1VD9TQXYObJQAZzx2rOrCYcDBYLkG4SdHy3UycDBOrkH4ydFVXUf1MxVk58BGCXDGY8eqLhwGHAyWaxB+crRcJwMH4+QahJ8cXdV1VD9TQXYObJQAZzx2rOrCYcDBYLkG4SdHy3UycDBOrkH4ydFVXUf1MxVk58BGCXDGY8eqLhwGHAyWaxB+crRcJwMH4+QahJ8cXdV1VD9TQXYObJQAZzx2rOrCYcDBYLkG4SdHy3UycDBOrkH4ydFVXUf1MxVk58BGCXDGY8eqLhwGHAyWaxB+crRcJwMH4+QahJ8cXdV1VD9TQXYObJQAZzx2rOrCYcDBYLkG4SdHy3UycDBOrkH4ydFVXUf1MxVk58BGCXDGY8eqLhwGHAyWaxB+crRcJwMH4+QahJ8cXdV1VD9TQXYObJQAZzx2rOrCYcDBYLkG4SdHy3UycDBOrkH4ydFVXUf1MxVk58BGCXDGY8eqLhwGHAyWaxB+crRcJwMH4+QahJ8cXdV1VD9TQXYObJQAZzx2rOrCYcDBYLkG4SdHy3UycDBOrkH4ydFVXUf1MxVk58BGCXDGY8eqLhwGHAyWaxB+crRcJwMH4+QahJ8cXdV1VD9TQXYObJQAZzx2rOrCYcDBYLkG4SdHy3UycDBOrkH4ydFVXUf1MxVk58BGCXDGY8eqLhwGHAyWaxB+crRcJwMH4+QahJ8cXdV1VD9TQXYObJQAZzx2rOrCYcDBYLkG4SdHy3UycDBOrkH4ydFVXUf1MxVk58BGCXDGY8eqLhwGHAyWaxB+crRcJwMH4+QahJ8cXdV1VD9TQXYObJQAZzx2rOrCYcDBYLkG4SdHy3UycDBOrkH4ydFVXUf1MxVk58BGCXDGY8eqLhwGHAyWaxB+crRcJwMH4+QahJ8cXdV1VD9TQXYObJQAZzx2rOrCYcDBYLkG4SdHy3UycDBOrkH4ydFVXUf1MxVk58BGCXDGY8eqLhwGHAyWaxB+crRcJwMH4+QahJ8cXdV1VD9TQXYObJQAZzx2rOrCYcDBYLkG4SdHy3UycDBOrkH4ydFVXUf1MxVk58BGCXDGY8eqLhwGHAyWaxB+crRcJwMH4+QahJ8cXdV1VD8rW5APPvhgO/30022fffax888/v++xjRLQdzB8oOrCwdiReLlGsCOhco1gR0LlGsGOhFZ1HdXPShbkiy++2Pbbbz+bNGmS7bbbbirIfaxu1YXrA9HIPFSuR0bluC9ErsdFNDIPkOuRUTnuC6nqWgV53NEY+wH333+/PfvZz7YjjzzSTjnlFNt2221VkPtgWXXh+kA0Mg+V65FROe4LketxEY3MA+R6ZFSO+0KqulZBHnc0xn5AU4yvuOIKu+aaa2zGjBkqyH1yrLpwfWIaiYfL9Uho7OlFyHVPmEbiQXI9Ehp7ehFVXasg9zQeSz/oyiuvtF133dWuuuoq23777W3TTTdVQe6TY9WF6xPTSDxcrkdCY08vQq57wjQSD5LrkdDY04uo6loFuafxePxBDz74YKcM77nnnnbyySd3/qDXgnzXXXfZggULlkqcN2+ezZkzp/NO9MyZM/u8mvY+fOHChTZ37lzbaaedbMqUKe19IbrycQnI9biIRuYBcj0yKsd9IXI9LqKReUBV1zfffLPtuOOOdtNNN9msWbPcPlv5Ib1LL7208+G6Xn6acrvOOuvYe97zHjvrrLPsxz/+8WPFrteCfPzxx9sJJ5wwZlxzH/P06dN7uRQ9RgREQAREQAREQAREYIAE5s+f3/mcWcmCfMcdd1jzTRS9/Oy///52yy232NZbb935WrdXvOIVjx1r/tlWW21lZ555pq211lo2efLkMZ9S7yA/jqXqv5H2Mmuj9hi5HjWjK349ci3XdQjUeaVV97r0O8j9jnfzPcfN17qt7Oezn/2sHXbYYT0/ddQ9Lj0HDskDq97TNCT4Uy9DrlNxo2FyjeJPDZfrVNxoWFXXUf2slbdY9Dtxzf3DN95443LHDjjgANt8883tgx/8oG2xxRa2wQYb9PzUUQJ6DhySB1ZduCHBn3oZcp2KGw2TaxR/arhcp+JGw6q6jupnJQryiia013uQxzofJQDdHkd41YVzoGr9EbluvcKeX4Bc94yq9Q+U69Yr7PkFVHUd1c9UkPWLQnpetuaBVReuL0gj8mC5HhGRPbwMue4B0og8RK5HRGQPL6OqaxXkHoZjkA+JEjDIaxzEc1dduEGwHPbnlOthNxR3fXIdx3LYn0muh91Q3PVVdR3Vz0q/gzyRMYwSMJFrIM5WXTiCNZ0p17SBvHy5zmNNJ8k1bSAvv6rrqH6mguyc1SgBznjsWNWFw4CDwXINwk+Olutk4GCcXIPwk6Oruo7qZyrIzoGNEuCMx45VXTgMOBgs1yD85Gi5TgYOxsk1CD85uqrrqH6mguwc2CgBznjsWNWFw4CDwXINwk+Olutk4GCcXIPwk6Oruo7qZyrIzoGNEuCMx45VXTgMOBgs1yD85Gi5TgYOxsk1CD85uqrrqH6mguwc2CgBznjsWNWFw4CDwXINwk+Olutk4GCcXIPwk6Oruo7qZyrIzoGNEuCMx45VXTgMOBgs1yD85Gi5TgYOxsk1CD85uqrrqH6mguwc2CgBznjsWNWFw4CDwXINwk+Olutk4GCcXIPwk6Oruo7qZyrIzoGNEuCMx45VXTgMOBgs1yD85Gi5TgYOxsk1CD85uqrrqH6mguwc2CgBznjsWNWFw4CDwXINwk+Olutk4GCcXIPwk6Oruo7qZyrIzoGNEuCMx45VXTgMOBgs1yD85Gi5TgYOxsk1CD85uqrrqH6mguwc2CgBznjsWNWFw4CDwXINwk+Olutk4GCcXIPwk6Oruo7qZyrIzoGNEuCMx45VXTgMOBgs1yD85Gi5TgYOxsk1CD85uqrrqH6mguwc2CgBznjsWNWFw4CDwXINwk+Olutk4GCcXIPwk6Oruo7qZyrIzoGNEuCMx45VXTgMOBgs1yD85Gi5TgYOxsk1CD85uqrrqH6mguwc2CgBznjsWNWFw4CDwXINwk+Olutk4GCcXIPwk6Oruo7qZyrIzoGNEuCMx45VXTgMOBgs1yD85Gi5TgYOxsk1CD85uqrrqH6mguwc2CgBznjsWNWFw4CDwXINwk+Olutk4GCcXIPwk6Oruo7qZyrIzoGNEuCMx45VXTgMOBgs1yD85Gi5TgYOxsk1CD85uqrrqH6mguwc2CgBznjsWNWFw4CDwXINwk+Olutk4GCcXIPwk6Oruo7qZyrIzoGNEuCMx45VXTgMOBgs1yD85Gi5TgYOxsk1CD85uqrrqH6mguwc2CgBznjsWNWFw4CDwXINwk+Olutk4GCcXIPwk6Oruo7qZyrIzoGNEuCMx45VXTgMOBgs1yD85Gi5TgYOxsk1CD85uqrrqH6mguwc2CgBznjsWNWFw4CDwXINwk+Olutk4GCcXIPwk6Oruo7qZyrIzoGNEuCMx45VXTgMOBgs1yD85Gi5TgYOxsk1CD85uqrrqH6mguwc2CgBznjsWNWFw4CDwXINwk+Olutk4GCcXIPwk6Oruo7qZyrIzoGNEuCMx45VXTgMOBgs1yD85Gi5TgYOxsk1CD85uqrrqH6mguwc2CgBznjsWNWFw4CDwXINwk+Olutk4GCcXIPwk6Oruo7qZyrIzoGNEuCMx45VXTgMOBgs1yD85Gi5TgYOxsk1CD85uqrrqH6mguwc2CgBznjsWNWFw4CDwXINwk+Olutk4GCcXIPwk6Oruo7qZyrIzoGNEuCMx45VXTgMOBgs1yD85Gi5TgYOxsk1CD85uqrrqH6mguwc2CgBznjsWNWFw4CDwXINwk+Olutk4GCcXIPwk6Oruo7qZyrIzoGNEuCMx45VXTgMOBgs1yD85Gi5TgYOxsk1CD85uqrrqH6mguwc2CgBznjsWNWFw4CDwXINwk+Olutk4GCcXIPwk6Oruo7qZyrIzoGNEuCMx45VXTgMOBgs1yD85Gi5TgYOxsk1CD85uqrrqH6mguwc2CgBznjsWNWFw4CDwXINwk+Olutk4GCcXIPwk6Oruo7qZyrIzoGNEuCMx45VXTgMOBgs1yD85Gi5TgYOxsk1CD85uqrrqH6mguwc2CgBznjsWNWFw4CDwXINwk+Olutk4GCcXIPwk6Oruo7qZyrIzoGNEuCMx45VXTgMOBgs1yD85Gi5TgYOxsk1CD85uqrrqH6mguwc2CgBznjsWNWFw4CDwXINwk+Olutk4GCcXIPwk6Oruo7qZyrIzoGNEuCMx45VXTgMOBgs1yD85Gi5TgYOxsk1CD85uqrrqH6mguwc2CgBznjsWNWFw4CDwXINwk+Olutk4GCcXIPwk6Oruo7qZyrIzoGNEuCMx45VXTgMOBgs1yD85Gi5TgYOxsk1CD85uqrrqH6mguwc2CgBznjsWNWFw4CDwXINwk+Olutk4GCcXIPwk6Oruo7qZyrIzoGNEuCMx45VXTgMOBgs1yD85Gi5TgYOxsk1CD85uqrrqH6mguwc2CgBznjsWNWFw4CDwXINwk+Olutk4GCcXIPwk6Oruo7qZyrIzoGNEuCMx45VXTgMOBgs1yD85Gi5TgYOxsk1CD85uqrrqH6mguwc2CgBznjsWNWFw4CDwXINwk+Olutk4GCcXIPwk6Oruo7qZyrIzoGNEuCMx45VXTgMOBgs1yD85Gi5TgYOxsk1CD85uqrrqH6mguwc2Ouvv9623XZbu+CCC2zGjBnOZ2nfsYULF9rVV19tz3ve82zKlCntewG64p4JyHXPqFr/QLluvcKeX4Bc94yq9Q+s6nrevHk2Z84cu+6662ybbbZxe1RBdqK78MILOwL0IwIiIAIiIAIiIAIiMFwEmjcw99prL/dFqSA70d1777122WWX2fTp023y5MnOZ2nfse6/mVV757x9piZ+xXI9cYZteQa5boupiV+nXE+cYVueoarrhx56yObPn2+77LKLTZs2za1LBdmNrubBqHt7atJr16uW63b5msjVyvVE6LXrrFy3y9dErlauJ0LPTAV5YvzKndbC1VEu13Jdh0CdV6q9lus6BCb2SlWQJ8av3Gn95VpHuVzLdR0CdV6p9lqu6xCY2CtVQZ4Yv3Kn9ZdrHeVyLdd1CNR5pdprua5DYGKv9P+3d+chVpVvHMCfDC0UtD8qozCzRaE9bMGCNBOzzYoSbANbTEM0ISVbNW3fVyLTwDD/sUxowSwqkxbaCEpboLAo2qWNQGIy3vP7jczkZL4zgzP3PZ8DkuR77j3P5zl35nvPfc97BeSO+dVu7x9++CEefPDBmDJlSuyyyy61q79OBet1fbqt13pdH4H6VOp13bFeC8gd87M3AQIECBAgQIBAYQICcmENVQ4BAgQIECBAgEDHBATkjvnZmwABAgQIECBAoDABAbmwhiqHAAECBAgQIECgYwICcsf87E2AAAECBAgQIFCYgIBcWEO7spwJEybEokWL4rTTTovly5d35aF47k4WWLZsWSxdujTefvvt+Prrr6N///5xzDHHxJw5c2K//fbr5GfzcNtK4Lfffosrr7wynnjiifjll1/i4IMPjrlz58YJJ5ywrQ7B82wDgZdeeikWL14cr7/+evUVvDvttFMcfvjhcd1118XQoUO3wRF4iq4USD+nr7/++jjkkEPi/fff78pDaajnFpAbql3d92BfeOGFOOOMM2L77beP4447TkDuvq1q15EdddRRVSg+/fTTY5999omvvvoqbr755vjiiy/izTffjAMOOKBdj2unrhUYNWpU9Qvztttui4EDB8b8+fMjvRlKr+cRI0Z07cF59k4TGDduXPz444+R/rv//vvHTz/9FHfddVe89dZb8fzzz8fIkSM77bk8UPcSWLNmTfVmqF+/frHbbrsJyBntEZAzsAxtW+D333+PAw88MKZOnRr3339/HHrooQJyYSfL999/H7vuumurqr799tvYa6+94rzzzosFCxYUVnH55Tz33HNx8sknV4E4vblN219//VVdUezZs2cVnmxlCLT1+v3jjz9i3333rQLziy++WEahqmglkF7PRx99dBxxxBHxwQcfxM8//ywgZ5wjAnIGlqFtC6Rg/Nprr1Ufv6eriwJyfc6UwYMHx6BBg6qrULbGEpg4cWI1bWb9+vXRo0ePTQd/5513xowZM6pPCfbYY4/GKsrRZgmMHj26+hTok08+ydrP4MYQSK/lu+++O9auXRtjx44VkDPbJiBnghneWiDNaUsfxb7xxhvVlad0RVFArsdZkn6xpjdE06ZNqz6utTWWwLBhw2K77bar5qW23NKbnTFjxsSKFSvMRW6slmYdbZp/nqbVpJ/f6VMEW1kCn3/+eRx00EHx+OOPV1PjUp9dQc7rsYCc52V0C4ENGzZUYfjEE0/cFJAE5HqcIk1NTVV4Sp8afPjhhzFgwIB6FF5Qlenqf/rzzDPPtKoq9fTII4+MJUuWxNlnn11QxUppKZBuqk7hKd1D4Ea9ss6NjRs3Rrq/IM07bn7zIyDn91hAzjcrco9XXnmlurlua7b0/e4777xzXHXVVdUv0XQTQJ8+fapdBeStEezaMe3pdcsjTj98L7744mrFkieffLJatcTWeAIpHA8ZMiSefvppAbnx2tehI04rGqSVDR544IGYMmVKhx7Lzt1PIN1sO3PmzGpqRfM0KQE5v08Ccr5ZkXt899131Z3rW7OlO6HTxzdpSagUkk466aRNu6X/1/yxTu/evaNXr15b85DGbEOB3F7vsMMOm44uhePJkydXN+Wl3qcb9GyNKWCKRWP2raNHfeONN8Y111wTN910U7XEn60sgbRaSbr5ctasWdXP6ubtlFNOqZZyXL16dey4447VH9uWBQRkZ0i7BNI6x813vv/bAzz00EOtXqDteiI7dRuBFI4nTZpUheOFCxfGBRdc0G2OzYHkC6RPAdInAGnJr5Y36aX55Jdffrmb9PJJu/0ezeE4XT2ePXt2tz9eB5gvkJZtPOyww7a44xVXXBG33HJL/oPXbA8BuWYN76xy07vUNPf0n9v48eOrd6833HBDNb9x991376yn9DhdKNB85fiRRx6Jhx9+ONIKCLbGFnj22WcjXVVKb3abp8mkZaHSmqlpPfM0F9lWjkBzOE5Xj+fNm1dOYSppJZCWXX3nnXc2U5k+fXqkf0sXOPbcc8/Ye++9yf2HgIDsFOlUAXOQO5Wz2zxYWsovzVe88MILNwvHffv2rdZStTWWQHrTc/zxx1fro95+++3VL830Bigt/bZy5UpfHtFY7dzi0TZ/KpBWJ/nnleM0heq/rjgWRFHbUsxBzm+9gJxvZo8tCAjIZZ4eqa9pWbe2tuHDh0e68c/WeAK//vprNVcxfdV0+nu6fyB91XRamcZWjkAKR6tWrWqzoLTU27p168opViVtCgjI+SeGgJxvZg8CBAgQIECAAIGCBQTkgpurNAIECBAgQIAAgXwBATnfzB4ECBAgQIAAAQIFCwjIBTdXaQQIECBAgAABAvkCAnK+mT0IECBAgAABAgQKFhCQC26u0ggQIECAAAECBPIFBOR8M3sQIECAAAECBAgULCAgF9xcpREgQIAAAQIECOQLCMj5ZvYgQIAAAQIECBAoWEBALri5SiNAgAABAgQIEMgXEJDzzexBgAABAgQIECBQsICAXHBzlUaAAIGWAnPmzIl58+bFRx99FIMHD970T01NTXHqqafGqlWr4tVXX42hQ4eCI0CAQK0FBORat1/xBAjUSWD9+vUxcODAGDduXDz66KObSr/00ktj/vz58dRTT8XYsWPrRKJWAgQItCkgIDsxCBAgUCOBGTNmxH333RefffZZDBgwIO64446YOXNm3HvvvTFt2rQaSSiVAAEC/y4gIDs7CBAgUCOBb775JgYNGhSXXHJJjBgxIs4666yYOnVqFZBtBAgQIPA/AQHZmUCAAIGaCUyePDkee+yxqupRo0bF8uXLo0ePHjVTUC4BAgRcQXYOECBAgMD/BV5++eUYOXJkDBkyJN59993o06fPZjazZ8+OpUuXxscffxxLliyJ8ePH8yPFhZ2fAAAEVUlEQVRAgEBtBFxBrk2rFUqAAIGIdKPesGHD4tNPP42+ffvGl19+Gf369duMZvHixdG/f/+49tprY/r06QKyk4cAgVoJCMi1ardiCRCos8CGDRuqKRVr1qyJhQsXxplnnlkt+3b11Vf/K0uap5ymZLiCXOczR+0E6icgINev5yomQKCGAhs3boxzzjknli1bFitXrozhw4dXAXn16tWxbt266N27d5sqAnINTxYlEyDgJj3nAAECBOogMGvWrLj11lsjTZ0499xzq5Lfe++96ktB7rnnnrjssssE5DqcCGokQGCrBFxB3iomgwgQINC4AulLQCZNmhRz586t5hS33MaMGRNr166t1kXu2bPnZkW6gty4fXfkBAi0X0BAbr+dPQkQINDtBVasWFF9jfT555/f6tvzmg88TbE49thjY8GCBXHRRRcJyN2+ow6QAIFtISAgbwtlz0GAAIEGE/jzzz+jqakpRo8eHRMnTqy+nrpXr17WS26wPjpcAgTaJyAgt8/NXgQIEChaYMKECbFo0aJWNab1k9OUCxsBAgRKFxCQS++w+ggQIECAAAECBLIEBOQsLoMJECBAgAABAgRKFxCQS++w+ggQIECAAAECBLIEBOQsLoMJECBAgAABAgRKFxCQS++w+ggQIECAAAECBLIEBOQsLoMJECBAgAABAgRKFxCQS++w+ggQIECAAAECBLIEBOQsLoMJECBAgAABAgRKFxCQS++w+ggQIECAAAECBLIEBOQsLoMJECBAgAABAgRKFxCQS++w+ggQIECAAAECBLIEBOQsLoMJECBAgAABAgRKFxCQS++w+ggQIECAAAECBLIEBOQsLoMJECBAgAABAgRKFxCQS++w+ggQIECAAAECBLIEBOQsLoMJECBAgAABAgRKFxCQS++w+ggQIECAAAECBLIEBOQsLoMJECBAgAABAgRKFxCQS++w+ggQIECAAAECBLIEBOQsLoMJECBAgAABAgRKFxCQS++w+ggQIECAAAECBLIEBOQsLoMJECBAgAABAgRKFxCQS++w+ggQIECAAAECBLIEBOQsLoMJECBAgAABAgRKFxCQS++w+ggQIECAAAECBLIEBOQsLoMJECBAgAABAgRKFxCQS++w+ggQIECAAAECBLIEBOQsLoMJECBAgAABAgRKFxCQS++w+ggQIECAAAECBLIEBOQsLoMJECBAgAABAgRKFxCQS++w+ggQIECAAAECBLIEBOQsLoMJECBAgAABAgRKFxCQS++w+ggQIECAAAECBLIEBOQsLoMJECBAgAABAgRKFxCQS++w+ggQIECAAAECBLIEBOQsLoMJECBAgAABAgRKFxCQS++w+ggQIECAAAECBLIEBOQsLoMJECBAgAABAgRKFxCQS++w+ggQIECAAAECBLIEBOQsLoMJECBAgAABAgRKFxCQS++w+ggQIECAAAECBLIEBOQsLoMJECBAgAABAgRKF/gbAt5dk8NFVNkAAAAASUVORK5CYII=\" width=\"599.578947368421\">"
      ],
      "text/plain": [
       "<IPython.core.display.HTML object>"
      ]
     },
     "metadata": {},
     "output_type": "display_data"
    },
    {
     "data": {
      "application/vnd.jupyter.widget-view+json": {
       "model_id": "0bc273f338494392a7165e9443926f58",
       "version_major": 2,
       "version_minor": 0
      },
      "text/plain": [
       "interactive(children=(FloatSlider(value=1.0, description='v1', max=5.0, min=-5.0), FloatSlider(value=2.0, desc…"
      ]
     },
     "metadata": {},
     "output_type": "display_data"
    }
   ],
   "source": [
    "fig, ax = plt.subplots(1,1)\n",
    "fig.set_size_inches(6, 6)\n",
    "\n",
    "@interact(v1=(-5,5,0.1), v2=(-5,5,0.1), w1=(-5,5,0.1), w2=(-5,5,0.1))\n",
    "def update(v1=1, v2=2, w1=2, w2=0.5):\n",
    "    v, w = numpy.array([v1, v2]), numpy.array([w1, w2])\n",
    "    ax.cla()\n",
    "    ax.arrow(0, 0, v1*0.9, v2*0.9, head_width=0.25, head_length=0.25, fc='g', ec='g')\n",
    "    ax.arrow(0, 0, w1*0.9, w2*0.9, head_width=0.25, head_length=0.25, fc='b', ec='b')\n",
    "    ax.arrow(0, 0, v1*w1+v2*w2, 0, head_width=0.25, head_length=0.25, fc='k', ec='k')\n",
    "    fig.canvas.draw_idle()\n",
    "    ax.set_xlim(-5, 5);ax.set_ylim(-5, 5)\n",
    "    ax.set_xlabel('$X_1$');ax.set_ylabel('$X_2$')\n",
    "    plt.suptitle('Dot Product')\n",
    "    ax.grid(True)\n",
    "    fig.tight_layout(rect=[0, 0.03, 1, 0.95])"
   ]
  },
  {
   "cell_type": "markdown",
   "metadata": {
    "cell_style": "split",
    "slideshow": {
     "slide_type": "subslide"
    }
   },
   "source": [
    "### Cauchy–Schwarz Inequality\n",
    "$$ \\cfrac{|\\vec{V} \\cdot \\vec{U}|}{|\\vec{V}| \\: |\\vec{U}|} \\leq 1 $$\n",
    "\n",
    "+ Bounds the output of Dot product\n",
    " + Shows something about direction\n",
    "+ Basic to show\n",
    "  + Applications everywhere\n",
    "\n",
    "+ What does equality mean?\n",
    "\n",
    "+ What if 2 vectors are opposite directions?\n",
    "\n",
    "\n",
    "\n",
    "\n",
    "\n"
   ]
  },
  {
   "cell_type": "markdown",
   "metadata": {
    "cell_style": "split",
    "slideshow": {
     "slide_type": "fragment"
    }
   },
   "source": [
    "$$ \\hat{V} = \\cfrac{\\vec{V}}{|\\vec{V}|} \\quad |\\hat{V}| = 1 \\quad \\quad\n",
    "\\hat{U} = \\cfrac{\\vec{U}}{|\\vec{U}|} \\quad |\\hat{U}| = 1 $$\n",
    "\n"
   ]
  },
  {
   "cell_type": "markdown",
   "metadata": {
    "cell_style": "split",
    "slideshow": {
     "slide_type": "fragment"
    }
   },
   "source": [
    "$$ \\hat{V} \\cdot \\hat{U} = cos(\\theta) $$"
   ]
  },
  {
   "cell_type": "markdown",
   "metadata": {
    "cell_style": "split",
    "slideshow": {
     "slide_type": "fragment"
    }
   },
   "source": [
    "$$ | \\hat{V} \\cdot \\hat{U} | = |cos(\\theta)| \\leq 1 $$"
   ]
  },
  {
   "cell_type": "markdown",
   "metadata": {
    "cell_style": "split",
    "slideshow": {
     "slide_type": "fragment"
    }
   },
   "source": [
    "$$ \\left | \\cfrac{\\vec{V}}{|\\vec{V}|} \\cdot \\cfrac{\\vec{U}}{|\\vec{U}|} \\right| \\leq 1 \\quad  \\xrightarrow[]{} \\quad \\cfrac{|\\vec{V} \\cdot \\vec{U}|}{|\\vec{V}| \\: |\\vec{U}|} \\leq 1  $$"
   ]
  },
  {
   "cell_type": "markdown",
   "metadata": {
    "cell_style": "split",
    "slideshow": {
     "slide_type": "subslide"
    }
   },
   "source": [
    "### Matched Filter\n",
    "Maxmize the Signal to Noise Ratio\n",
    "\n",
    "#### Cauchy–Schwarz Inequality\n",
    "Tells us the maximum we can get is 1"
   ]
  },
  {
   "cell_type": "markdown",
   "metadata": {
    "cell_style": "split",
    "slideshow": {
     "slide_type": "fragment"
    }
   },
   "source": [
    "\n",
    "\n",
    "$$ \\begin{align}\n",
    "\\cfrac{|\\vec{V} \\cdot \\vec{U}|}{|\\vec{V}| \\: |\\vec{U}|} &\\leq 1 \\\\\n",
    "{|\\hat{V} \\cdot \\hat{U}|} &\\leq 1 \\\\\n",
    "{|\\hat{V} \\cdot \\hat{U}|} &= 1 \\quad if \\:\\hat{V} \\: and \\: \\hat{U} \\: are \\: colinear\n",
    "\\end{align}$$\n",
    "\n",
    "#### What can be infered about $\\vec{V}$ and $\\vec{U}$"
   ]
  },
  {
   "cell_type": "markdown",
   "metadata": {
    "slideshow": {
     "slide_type": "notes"
    }
   },
   "source": [
    "+  $\\vec{V}$ and $\\vec{U}$"
   ]
  },
  {
   "cell_type": "markdown",
   "metadata": {
    "cell_style": "split",
    "slideshow": {
     "slide_type": "subslide"
    }
   },
   "source": [
    "### Convolution\n",
    "$$ \\begin{align} (f*g)(t) &= \\int_{-\\infty}^{t} f(\\tau)\\: g(t-\\tau) \\: d \\tau \\\\\n",
    "(f*g)[n] &= \\sum_{-\\infty\\dots \\infty}^{i}  f[i]\\:g[n-i]  \\end{align}$$"
   ]
  },
  {
   "cell_type": "markdown",
   "metadata": {
    "cell_style": "split",
    "slideshow": {
     "slide_type": "-"
    }
   },
   "source": [
    "<img src=\"rect_rect_conv.gif?0\" width=\"100%\">"
   ]
  },
  {
   "cell_type": "markdown",
   "metadata": {
    "slideshow": {
     "slide_type": "subslide"
    }
   },
   "source": [
    "<img src=\"rect_rect_conv_auto.gif\" width=\"100%\">"
   ]
  },
  {
   "cell_type": "markdown",
   "metadata": {
    "slideshow": {
     "slide_type": "subslide"
    }
   },
   "source": [
    "<img src=\"rect_fat_rect_conv_auto.gif\" width=\"100%\">"
   ]
  },
  {
   "cell_type": "markdown",
   "metadata": {
    "slideshow": {
     "slide_type": "subslide"
    }
   },
   "source": [
    "<img src=\"rect_exp_conv_auto.gif\" width=\"100%\">"
   ]
  },
  {
   "cell_type": "markdown",
   "metadata": {
    "slideshow": {
     "slide_type": "subslide"
    }
   },
   "source": [
    "<img src=\"exp_exp_conv_auto.gif\" width=\"100%\">"
   ]
  },
  {
   "cell_type": "markdown",
   "metadata": {
    "slideshow": {
     "slide_type": "subslide"
    }
   },
   "source": [
    "<img src=\"rect_gaussian_conv_auto.gif\" width=\"100%\">"
   ]
  },
  {
   "cell_type": "markdown",
   "metadata": {
    "slideshow": {
     "slide_type": "subslide"
    }
   },
   "source": [
    "<img src=\"gaussian_gaussian_conv_auto.gif\" width=\"100%\">"
   ]
  },
  {
   "cell_type": "code",
   "execution_count": null,
   "metadata": {},
   "outputs": [],
   "source": []
  },
  {
   "cell_type": "markdown",
   "metadata": {
    "slideshow": {
     "slide_type": "skip"
    }
   },
   "source": [
    "<img src=\"rect_rect_conv.gif?0\" width=\"100%\">"
   ]
  },
  {
   "cell_type": "markdown",
   "metadata": {
    "slideshow": {
     "slide_type": "skip"
    }
   },
   "source": [
    "<img src=\"rect_exp_conv.gif\" width=\"90%\">"
   ]
  },
  {
   "cell_type": "markdown",
   "metadata": {
    "slideshow": {
     "slide_type": "subslide"
    }
   },
   "source": []
  },
  {
   "cell_type": "markdown",
   "metadata": {},
   "source": []
  },
  {
   "cell_type": "markdown",
   "metadata": {
    "slideshow": {
     "slide_type": "subslide"
    }
   },
   "source": [
    "### Matrix Operations\n",
    "\n",
    "+ Scalar Matrix multiplication\n",
    "\n",
    "+ Addition and Subtraction\n",
    "\n",
    "+ Matrix Multiplication\n",
    "\n",
    "+ Matrix Inverse\n",
    "\n",
    "+ Matrix Decompositions"
   ]
  },
  {
   "cell_type": "markdown",
   "metadata": {
    "slideshow": {
     "slide_type": "subslide"
    }
   },
   "source": [
    "#### Scalar Matrix Multiplication"
   ]
  },
  {
   "cell_type": "markdown",
   "metadata": {
    "slideshow": {
     "slide_type": "subslide"
    }
   },
   "source": [
    "#### Addition and Subtraction"
   ]
  },
  {
   "cell_type": "markdown",
   "metadata": {
    "slideshow": {
     "slide_type": "subslide"
    }
   },
   "source": [
    "#### Matrix Multiplication"
   ]
  },
  {
   "cell_type": "markdown",
   "metadata": {
    "slideshow": {
     "slide_type": "subslide"
    }
   },
   "source": [
    "#### Matrix Inverse"
   ]
  },
  {
   "cell_type": "markdown",
   "metadata": {
    "slideshow": {
     "slide_type": "subslide"
    }
   },
   "source": [
    "#### Matrix Decompositions"
   ]
  },
  {
   "cell_type": "markdown",
   "metadata": {
    "slideshow": {
     "slide_type": "notes"
    }
   },
   "source": []
  },
  {
   "cell_type": "markdown",
   "metadata": {
    "cell_style": "split",
    "slideshow": {
     "slide_type": "subslide"
    }
   },
   "source": [
    "### Multivariate Random Variables\n",
    "\n",
    "#### Guassian\n",
    "$$ \\begin{align} \\mathcal{N} \\left ( \\bf \\mu , \\bf \\Sigma \\right ) \n",
    "&= {\\left ( \\sqrt{ \\left ( 2 \\pi \\right ) ^{k} \\bf |\\Sigma| } \\right ) }^{-1} {e^{\n",
    "- \\cfrac{\\left ( \\left ( x-\\mu \\right )^{T} \\Sigma ^ {-1}  \\left ( x-\\mu \\right ) \\right )} {2}\n",
    "} }\n",
    "\\end{align}\n",
    "$$\n",
    "\n",
    "#### Complex Guassian\n",
    "$$ \\begin{align} \\mathcal{CN} \\left ( \\bf \\mu , \\bf \\Sigma \\right ) \n",
    "&= {\\left ( { \\left ( 2 \\pi \\right ) ^{k} \\bf |\\Sigma| } \\right ) }^{-1} {e^{\n",
    "- \\cfrac{\\left ( \\left ( x-\\mu \\right )^{T} \\Sigma ^ {-1}  \\left ( x-\\mu \\right ) \\right )} {2}\n",
    "} }\n",
    "\\end{align}\n",
    "$$"
   ]
  },
  {
   "cell_type": "markdown",
   "metadata": {
    "cell_style": "split",
    "slideshow": {
     "slide_type": "fragment"
    }
   },
   "source": [
    "#### Zero Mean Unit Variance\n",
    "\n",
    "$$ \\begin{align} \\mathcal{N} \\left ( \\bf 0 , \\bf 1 \\right ) \n",
    "&= {\\left ( \\sqrt{ \\left ( 2 \\pi \\right ) ^{k} \\bf } \\right ) }^{-1} {e^{\n",
    "- \\left ( \\cfrac{  x^{T} x } {2} \\right )\n",
    "} }\n",
    "\\end{align}\n",
    "$$"
   ]
  },
  {
   "cell_type": "markdown",
   "metadata": {
    "cell_style": "split",
    "slideshow": {
     "slide_type": "fragment"
    }
   },
   "source": [
    "#### Complex Zero Mean Unit Variance\n",
    "\n",
    "$$ \\begin{align} \\mathcal{CN} \\left ( \\bf 0 , \\bf 1 \\right ) \n",
    "&= { { \\left ( 2 \\pi \\right ) ^{-k} \\bf } } {e^{\n",
    "- \\left ( \\cfrac{  x^{T} x } {2} \\right )\n",
    "} }\n",
    "\\end{align}\n",
    "$$"
   ]
  },
  {
   "cell_type": "markdown",
   "metadata": {
    "slideshow": {
     "slide_type": "subslide"
    }
   },
   "source": [
    "### Correlation of random vectors\n"
   ]
  },
  {
   "cell_type": "markdown",
   "metadata": {
    "cell_style": "split",
    "slideshow": {
     "slide_type": "subslide"
    }
   },
   "source": [
    "### Correlation and Covariance\n",
    "\n",
    "#### Correlation Random Variables\n",
    "$$ {R}_{X,Y} = cor(\\bf X, \\bf Y) = E \\left [ \\bf X \\cdot \\bf Y \\right ] $$\n",
    "\n",
    "### Covariance Random Variables\n",
    "$$ \\Sigma_{X,Y} = cov(\\bf X, \\bf Y) = E \\left [ ( \\bf X -\\mu_x ) ( \\bf Y -\\mu_y )  \\right ] $$"
   ]
  },
  {
   "cell_type": "markdown",
   "metadata": {
    "cell_style": "split",
    "slideshow": {
     "slide_type": "-"
    }
   },
   "source": [
    "### Correlation of Signals $f$ and $g$\n",
    "\n",
    "$$ \\begin{align} \n",
    "(f*g)(t) &= \\int_{-\\infty}^{t} f(\\tau)\\: g(t+\\tau) \\: d \\tau \\\\\n",
    "(f*g)[n] &= \\sum_{-\\infty\\dots \\infty}^{i}  f[i]\\:g[n+i]  \n",
    "\\end{align}$$"
   ]
  },
  {
   "cell_type": "markdown",
   "metadata": {
    "slideshow": {
     "slide_type": "subslide"
    }
   },
   "source": [
    "<img src=\"Correlation_rect_rect.gif\" width=\"90%\">"
   ]
  },
  {
   "cell_type": "markdown",
   "metadata": {
    "slideshow": {
     "slide_type": "subslide"
    }
   },
   "source": [
    "<img src=\"Correlation_rect_exp.gif\" width=\"90%\">"
   ]
  },
  {
   "cell_type": "markdown",
   "metadata": {
    "slideshow": {
     "slide_type": "subslide"
    }
   },
   "source": [
    "<img src=\"Correlation_exp_exp.gif\" width=\"90%\">"
   ]
  },
  {
   "cell_type": "markdown",
   "metadata": {
    "slideshow": {
     "slide_type": "subslide"
    }
   },
   "source": [
    "<img src=\"Correlation_gaussian_gaussian.gif\" width=\"90%\">"
   ]
  },
  {
   "cell_type": "markdown",
   "metadata": {
    "slideshow": {
     "slide_type": "subslide"
    }
   },
   "source": [
    "<img src=\"Correlation_barker_barker.gif\" width=\"90%\">"
   ]
  },
  {
   "cell_type": "markdown",
   "metadata": {
    "slideshow": {
     "slide_type": "notes"
    }
   },
   "source": [
    "Barker-13 code"
   ]
  },
  {
   "cell_type": "markdown",
   "metadata": {
    "slideshow": {
     "slide_type": "subslide"
    }
   },
   "source": [
    "<img src=\"Correlation_sinc_sinc.gif\" width=\"90%\">"
   ]
  },
  {
   "cell_type": "markdown",
   "metadata": {
    "slideshow": {
     "slide_type": "notes"
    }
   },
   "source": [
    "Sinc function"
   ]
  },
  {
   "cell_type": "markdown",
   "metadata": {
    "cell_style": "split",
    "slideshow": {
     "slide_type": "subslide"
    }
   },
   "source": [
    "### Orthogonal + Normal = Orthonormal\n",
    "\n",
    "$$ \\bf U = \\begin{bmatrix} \n",
    "    u_{1,1}  & u_{2,1}  &  \\dots & u_{1,n}  \\\\\n",
    "    u_{2,1} & u_{2,2} &    &  u_{2,n} \\\\\n",
    "    \\vdots & & \\ddots & \\vdots \\\\\n",
    "    u_{n,1} & u_{n,2}  &  \\dots & u_{n,n} \\\\\n",
    "    \\end{bmatrix} =\n",
    "\\begin{bmatrix}\n",
    " \\vdots & \\vdots & & \\vdots \\\\\n",
    " \\vec{u_1} & \\vec{u_2} & \\dots & \\vec{u_n} \\\\\n",
    " \\vdots & \\vdots & & \\vdots \\\\\n",
    "\\end{bmatrix}\n",
    "$$"
   ]
  },
  {
   "cell_type": "markdown",
   "metadata": {
    "cell_style": "split",
    "slideshow": {
     "slide_type": "fragment"
    }
   },
   "source": [
    "$$ 1 = |\\vec{u_i}|^2 = \\vec{u_i} \\cdot \\vec{u_i} \\quad for \\: n > i < \\:Rank \n",
    "$$"
   ]
  },
  {
   "cell_type": "markdown",
   "metadata": {
    "cell_style": "split",
    "slideshow": {
     "slide_type": "fragment"
    }
   },
   "source": [
    "$$ 0 = |\\vec{u_i} \\cdot \\vec{u_j}| \\quad for \\: i \\neq j$$"
   ]
  },
  {
   "cell_type": "markdown",
   "metadata": {
    "cell_style": "split",
    "slideshow": {
     "slide_type": "fragment"
    }
   },
   "source": [
    "$$ \\begin{align}\n",
    "\\mathbb{1} &= \\bf U^T \\bf U \\\\\n",
    "\\begin{bmatrix} \n",
    "    1  & 0  &  \\dots & 0  \\\\\n",
    "    0 & 1 &    &  0 \\\\\n",
    "    \\vdots & & \\ddots & \\vdots \\\\\n",
    "    0 & 0  &  \\dots & 1 \\\\\n",
    "    \\end{bmatrix}\n",
    "&= \\begin{bmatrix}\n",
    "\\cdots & \\vec{u_1} & \\cdots \\\\\n",
    "\\cdots & \\vec{u_2} & \\cdots \\\\\n",
    "       & \\vdots    &        \\\\\n",
    "\\cdots & \\vec{u_n} & \\cdots \\\\\n",
    "\\end{bmatrix}\n",
    "\\begin{bmatrix}\n",
    " \\vdots & \\vdots & & \\vdots \\\\\n",
    " \\vec{u_1} & \\vec{u_2} & \\dots & \\vec{u_n} \\\\\n",
    " \\vdots & \\vdots & & \\vdots \\\\\n",
    "\\end{bmatrix} \n",
    "\\end{align}\n",
    "$$"
   ]
  },
  {
   "cell_type": "markdown",
   "metadata": {
    "slideshow": {
     "slide_type": "notes"
    }
   },
   "source": []
  },
  {
   "cell_type": "markdown",
   "metadata": {
    "cell_style": "split",
    "slideshow": {
     "slide_type": "subslide"
    }
   },
   "source": [
    "### Rotation Matrices\n",
    "\n",
    "$$ \n",
    "\\bf R(\\theta) = \\begin{bmatrix}\n",
    "cos(\\theta) & -sin(\\theta) \\\\\n",
    "sin(\\theta) & cos(\\theta)\n",
    "\\end{bmatrix} $$\n",
    "$$\n",
    "\\vec{V_2} = \\bf {R}(\\theta) \\vec{V_1} \n",
    "$$\n",
    "\n",
    "+ Changes the direction of vectors \n",
    "+ Does not change the scale"
   ]
  },
  {
   "cell_type": "markdown",
   "metadata": {
    "cell_style": "split",
    "slideshow": {
     "slide_type": "fragment"
    }
   },
   "source": [
    "$$ \n",
    "\\bf R(90^o) = \\begin{bmatrix}\n",
    "0 & -1 \\\\\n",
    "1 & 0\n",
    "\\end{bmatrix}\n",
    "$$\n",
    "\n",
    "$$ \n",
    "\\begin{bmatrix} 0 \\\\ 1 \\end{bmatrix} = \\begin{bmatrix}\n",
    "0 & -1 \\\\\n",
    "1 & 0\n",
    "\\end{bmatrix} \n",
    "\\begin{bmatrix} 1 \\\\ 0 \\end{bmatrix}\n",
    "$$"
   ]
  },
  {
   "cell_type": "markdown",
   "metadata": {
    "slideshow": {
     "slide_type": "notes"
    }
   },
   "source": []
  },
  {
   "cell_type": "markdown",
   "metadata": {
    "cell_style": "split",
    "slideshow": {
     "slide_type": "subslide"
    }
   },
   "source": [
    "### Inverse\n",
    "$$ \\vec{c} = \\bf {B} \\vec{a} \\\\\n",
    "\\bf {B}^{-1} \\vec{c} = \\bf {B}^{-1} \\bf {B} \\vec{a} \\\\\n",
    "\\bf {B}^{-1} \\vec{c} = \\bf \\mathbb{1} \\vec{a} \\\\\n",
    "\\bf {B}^{-1} \\vec{c} = \\vec{a} \\\\\n",
    "$$"
   ]
  },
  {
   "cell_type": "code",
   "execution_count": 171,
   "metadata": {
    "cell_style": "split",
    "slideshow": {
     "slide_type": "fragment"
    }
   },
   "outputs": [
    {
     "name": "stdout",
     "output_type": "stream",
     "text": [
      "[[-3 -2 -2]\n",
      " [ 4  2 -1]\n",
      " [-2 -2  0]]\n"
     ]
    }
   ],
   "source": [
    "B = numpy.matrix([\n",
    "    [2, 1, 1], [-5, -3, 0], [1, 1, -1]\n",
    "])\n",
    "print(numpy.invert(B))"
   ]
  },
  {
   "cell_type": "markdown",
   "metadata": {
    "cell_style": "split",
    "slideshow": {
     "slide_type": "notes"
    }
   },
   "source": [
    "+ Lets be real, use a computer (numpy)"
   ]
  },
  {
   "cell_type": "markdown",
   "metadata": {
    "cell_style": "split",
    "slideshow": {
     "slide_type": "subslide"
    }
   },
   "source": [
    "### Decompositions\n",
    "\n",
    "The Decomposition of a matrix factorization of a matrix into a product of matrices\n",
    "\n",
    "$$ A = B \\cdots D $$"
   ]
  },
  {
   "cell_type": "markdown",
   "metadata": {
    "cell_style": "split",
    "slideshow": {
     "slide_type": "fragment"
    }
   },
   "source": [
    "#### LU\n",
    "\n",
    "$$ A = L U $$\n",
    "\n",
    "+ $ L $ is lower triangular \n",
    "+ $ U $ is upper triangular"
   ]
  },
  {
   "cell_type": "markdown",
   "metadata": {
    "cell_style": "split",
    "slideshow": {
     "slide_type": "fragment"
    }
   },
   "source": [
    "#### Cholesky decomposition\n",
    "Matrix Square Root\n",
    "\n",
    "$$ A = L \\: L^\\dagger $$"
   ]
  },
  {
   "cell_type": "markdown",
   "metadata": {
    "cell_style": "split",
    "slideshow": {
     "slide_type": "fragment"
    }
   },
   "source": [
    "#### Eigen Decomposition\n",
    "\n",
    "\n",
    "$$ \\begin{align}\n",
    "A \\: \\vec{v} &= \\lambda \\: \\vec{v} \\\\\n",
    "A \\: Q &=  Q \\: \\Lambda \\\\\n",
    "A  &=  Q \\: \\Lambda Q^{-1} \n",
    "\\end{align}\n",
    "$$"
   ]
  },
  {
   "cell_type": "markdown",
   "metadata": {
    "slideshow": {
     "slide_type": "notes"
    }
   },
   "source": []
  },
  {
   "cell_type": "markdown",
   "metadata": {
    "cell_style": "split",
    "slideshow": {
     "slide_type": "subslide"
    }
   },
   "source": [
    "#### Singular Value Decomposition\n",
    "\n",
    "$$ A = U \\: \\Sigma \\: V^\\dagger $$\n",
    "\n",
    " + $A$ Matrix of size m by n\n",
    " + $U$ is a m by m rotation matrix\n",
    " + $\\Sigma$ is m by n diagonal matrix\n",
    " + $V$ is a n by n rotation matrix\n",
    " \n",
    "###### Generalized Eigen"
   ]
  },
  {
   "cell_type": "markdown",
   "metadata": {
    "cell_style": "split",
    "slideshow": {
     "slide_type": "-"
    }
   },
   "source": [
    "<img src=\"1024px-Singular-Value-Decomposition.svg.png\" width=\"100%\">\n",
    "\n",
    "https://en.wikipedia.org/wiki/Singular_value_decomposition"
   ]
  },
  {
   "cell_type": "markdown",
   "metadata": {
    "slideshow": {
     "slide_type": "notes"
    }
   },
   "source": []
  },
  {
   "cell_type": "markdown",
   "metadata": {
    "slideshow": {
     "slide_type": "slide"
    }
   },
   "source": [
    "## Frequency / Tone\n",
    " + Real valued\n",
    " + Matched Filter Real valued\n",
    " + Phase\n",
    " + Complex Samples"
   ]
  },
  {
   "cell_type": "markdown",
   "metadata": {
    "cell_style": "split",
    "slideshow": {
     "slide_type": "subslide"
    }
   },
   "source": [
    "## Real Valued Signal\n",
    "\n",
    "$$ tone(t) = sin(2\\pi f t -\\phi) $$\n",
    "\n",
    "+ f is frequency in 1 over peroid\n",
    "  + $\\omega$ angular frequency in radians per peroid\n",
    "  + $\\omega = 2 \\pi f $\n",
    "+ $\\phi$ is the phase\n",
    "\n",
    "\n"
   ]
  },
  {
   "cell_type": "markdown",
   "metadata": {
    "cell_style": "split",
    "slideshow": {
     "slide_type": "-"
    }
   },
   "source": [
    "<img src=\"sine_wave.gif\" width=\"100%\">"
   ]
  },
  {
   "cell_type": "markdown",
   "metadata": {
    "slideshow": {
     "slide_type": "subslide"
    }
   },
   "source": [
    "<img src=\"matched_filter_phase_1.gif?0\" width=\"90%\">"
   ]
  },
  {
   "cell_type": "markdown",
   "metadata": {
    "slideshow": {
     "slide_type": "subslide"
    }
   },
   "source": [
    "<img src=\"matched_filter_IQ.gif\" width=\"90%\">"
   ]
  },
  {
   "cell_type": "markdown",
   "metadata": {
    "slideshow": {
     "slide_type": "notes"
    }
   },
   "source": [
    "+ Two Filters\n",
    "+ Note the amplitude \n",
    "  + Peak is 1\n",
    "  + The Filter magnitude is 1/2\n",
    "  + Root Mean Square is $\\sqrt{1/2}$"
   ]
  },
  {
   "cell_type": "markdown",
   "metadata": {
    "cell_style": "split",
    "slideshow": {
     "slide_type": "subslide"
    }
   },
   "source": [
    "### 2 Perpendicular Axis\n",
    "\n",
    "+ Real Valued Tones require a pair of matched filters\n",
    "  + Two filters are orthogonal\n",
    "\n",
    "\n",
    "#### Direct Conversion\n",
    "\n",
    "  + Where complex numbers principally come from for signal processing"
   ]
  },
  {
   "cell_type": "markdown",
   "metadata": {
    "cell_style": "split",
    "slideshow": {
     "slide_type": "fragment"
    }
   },
   "source": [
    "$$ I = Signal(t) \\cdot cos(\\omega t), \\quad Q = Signal(t) \\cdot sin(\\omega t)$$"
   ]
  },
  {
   "cell_type": "markdown",
   "metadata": {
    "cell_style": "split",
    "slideshow": {
     "slide_type": "fragment"
    }
   },
   "source": [
    "###### Euler's Equation\n",
    "\n",
    "$$ e^{ix} = cos(x) + i\\:sin(x) \\quad where \\;\\; i=\\sqrt{-1}$$\n",
    "\n",
    "See Taylor Expansion for proof"
   ]
  },
  {
   "cell_type": "markdown",
   "metadata": {
    "cell_style": "split",
    "slideshow": {
     "slide_type": "fragment"
    }
   },
   "source": [
    "$$ \\mathcal{z} = Signal(t)\\cdot ctone(t) $$\n",
    "\n",
    "$$ \\begin{align}ctone(t) &= { e^{i 2 \\pi f t + \\phi} } \\\\\n",
    "&=  cos(2\\pi f t -\\phi) + i\\: sin(2\\pi f t -\\phi)\n",
    "\\end{align}\n",
    "$$"
   ]
  },
  {
   "cell_type": "markdown",
   "metadata": {
    "slideshow": {
     "slide_type": "slide"
    }
   },
   "source": [
    "## Complex Number\n",
    "\n",
    "$$ Z = a + i\\: b $$\n",
    "\n",
    "  + Operations\n",
    "  + Relationship between Phase and Delay\n",
    "  + Negative Frequencies?\n",
    "  + Direct-conversion receiver\n",
    "  + Complex Random Numbers"
   ]
  },
  {
   "cell_type": "markdown",
   "metadata": {
    "cell_style": "split",
    "slideshow": {
     "slide_type": "subslide"
    }
   },
   "source": [
    "### Complex Number Operations\n",
    "#### Magnitude and Phase\n",
    "$$ |Z| = \\sqrt{ {\\Re(Z)}^2 + {\\Im(Z)}^2} $$\n",
    "$$ \\angle Z = \\phi = {tan}^{-1}  \\left (\\cfrac{\\Im(Z)}{\\Re(Z)}\\right)$$"
   ]
  },
  {
   "cell_type": "markdown",
   "metadata": {
    "cell_style": "split",
    "slideshow": {
     "slide_type": "fragment"
    }
   },
   "source": [
    "\n",
    "#### Addition \n",
    "Just like vector addition\n",
    "$$ Z + Y = \\left ( \\Re({Z}) + \\Re({Y}) \\right ) + i \\left ( \\Im({Z}) + \\Im({Y}) \\right ) $$\n"
   ]
  },
  {
   "cell_type": "markdown",
   "metadata": {
    "cell_style": "split",
    "slideshow": {
     "slide_type": "fragment"
    }
   },
   "source": [
    "#### Subtraction\n",
    "Just like vector addition and scalar multiplication\n",
    "$$ \\begin{align*}\n",
    "   Z - Y  & = Z + (-1 \\cdot Y ) \\\\\n",
    "          & = \\left ( \\Re({Z}) - \\Re({Y}) \\right ) + i \\left ( \\Im({Z}) - \\Im({Y}) \\right ) \n",
    "\\end{align*}\n",
    "$$"
   ]
  },
  {
   "cell_type": "markdown",
   "metadata": {
    "cell_style": "split",
    "slideshow": {
     "slide_type": "fragment"
    }
   },
   "source": [
    "#### Multiplication\n",
    "Rotation and scaling, not vector product\n",
    "$$ Z \\cdot Y = (\\Re(Z) \\Re(Y) - \\Im(Z) \\Im(Y)) + i(\\Re(Z) \\Im(Y) + \\Im(Z) \\Re(Y))$$"
   ]
  },
  {
   "cell_type": "markdown",
   "metadata": {
    "cell_style": "split",
    "slideshow": {
     "slide_type": "fragment"
    }
   },
   "source": [
    "#### Multiplication Magnitude and Angle\n",
    "$$ Z \\cdot Y = |Z| |Y|\\angle \\left ( \\angle Z + \\angle Y\\right )$$\n"
   ]
  },
  {
   "cell_type": "markdown",
   "metadata": {
    "slideshow": {
     "slide_type": "notes"
    }
   },
   "source": []
  },
  {
   "cell_type": "markdown",
   "metadata": {
    "cell_style": "split",
    "slideshow": {
     "slide_type": "subslide"
    }
   },
   "source": [
    "### Complex Number Operations\n",
    "\n"
   ]
  },
  {
   "cell_type": "markdown",
   "metadata": {
    "cell_style": "split",
    "slideshow": {
     "slide_type": "fragment"
    }
   },
   "source": [
    "#### Conjugation\n",
    "\n",
    "$$ Z^* = \\Re(Z) - i\\: \\Im(Z) $$\n",
    "\n",
    "##### Matrix Hermitian\n",
    "\n",
    "$$ \\bf R = $$"
   ]
  },
  {
   "cell_type": "markdown",
   "metadata": {
    "cell_style": "split",
    "slideshow": {
     "slide_type": "fragment"
    }
   },
   "source": [
    "#### Division\n",
    "\n",
    "$$ \\cfrac{Z}{Y} = \\cfrac{|Z|}{|Y|}\\angle \\left ( \\angle Z - \\angle Y \\right )  $$"
   ]
  },
  {
   "cell_type": "markdown",
   "metadata": {
    "cell_style": "split",
    "slideshow": {
     "slide_type": "fragment"
    }
   },
   "source": [
    "##### Real Powers\n",
    "$$ Z^n = |Z|^{n} \\angle \\left ( n \\: \\angle Z \\right ) $$\n",
    "##### Complex Powers\n",
    "$$ Z^\\alpha =  \\cdots \\cdots $$"
   ]
  },
  {
   "cell_type": "markdown",
   "metadata": {
    "slideshow": {
     "slide_type": "notes"
    }
   },
   "source": []
  },
  {
   "cell_type": "markdown",
   "metadata": {
    "slideshow": {
     "slide_type": "subslide"
    }
   },
   "source": [
    "### Delay and Phase\n",
    "\n",
    "$$ \\begin{align}ctone(t) &= { e^{i (2 \\pi f t + \\phi )} } \\\\\n",
    "&= { e^{i 2 \\pi f \\left (t + \\cfrac{\\phi}{2 \\pi f} \\right ) }  }\n",
    "\\end{align}\n",
    "$$\n",
    "\n",
    "Observe $\\cfrac{\\phi}{2 \\pi f}$ is like time.\n",
    "\n",
    "$$ t = \\cfrac{\\phi}{2 \\pi f} $$"
   ]
  },
  {
   "cell_type": "markdown",
   "metadata": {
    "cell_style": "split",
    "slideshow": {
     "slide_type": "subslide"
    }
   },
   "source": [
    "### Negative Frequencies\n",
    "\n",
    "#### Real\n",
    "\n",
    "$$ tone(t) = sin(2\\pi f \\: t - \\phi ) $$\n",
    "\n",
    "\n",
    "+ What happens if $f$ is negative?\n",
    "\n",
    "\n",
    "+ Recall the matched filter animation"
   ]
  },
  {
   "cell_type": "markdown",
   "metadata": {
    "cell_style": "split",
    "slideshow": {
     "slide_type": "-"
    }
   },
   "source": [
    "<img src=\"sine_wave.gif\" width=\"100%\">"
   ]
  },
  {
   "cell_type": "markdown",
   "metadata": {
    "slideshow": {
     "slide_type": "subslide"
    }
   },
   "source": [
    "<img src=\"matched_filter_IQ.gif\" width=\"90%\">"
   ]
  },
  {
   "cell_type": "markdown",
   "metadata": {
    "cell_style": "split",
    "slideshow": {
     "slide_type": "subslide"
    }
   },
   "source": [
    "### Negative Frequencies\n",
    "\n",
    "#### Complex\n",
    "\n",
    "$$ ctone(t) = { e^{i (2 \\pi f t + \\phi) } }  $$\n",
    "\n",
    " What happens if $f$ is 0 ?\n"
   ]
  },
  {
   "cell_type": "markdown",
   "metadata": {
    "cell_style": "split",
    "slideshow": {
     "slide_type": "fragment"
    }
   },
   "source": [
    " What happens if $f$ is negative?"
   ]
  },
  {
   "cell_type": "markdown",
   "metadata": {
    "cell_style": "split",
    "slideshow": {
     "slide_type": "fragment"
    }
   },
   "source": [
    "What happens if $f$ is complex?"
   ]
  },
  {
   "cell_type": "markdown",
   "metadata": {},
   "source": []
  },
  {
   "cell_type": "markdown",
   "metadata": {
    "slideshow": {
     "slide_type": "slide"
    }
   },
   "source": [
    "# End of Section 1"
   ]
  },
  {
   "cell_type": "markdown",
   "metadata": {},
   "source": [
    "\n",
    "  + Basic Math Operations\n",
    "    + Linearity\n",
    "    + Time Inverance \n",
    "    + Bounded Input Bounded Output\n",
    "    + Dirivatives and Differences\n",
    "    + Integrates and Sumations \n",
    "    + Useful Non-linear Functions\n",
    "      + ABS\n",
    "      + Squared\n",
    "      + Log and Decibels\n",
    "    \n",
    "  + Continous Vs. Descrete Signals\n",
    "    + Analog to Digital Conversion\n",
    "    + Digital to Analog Conversion\n",
    "    + Delta Symbol\n",
    "    + Nyquist Sampling\n",
    "    \n",
    "  + Random Varaibles\n",
    "    + Basics of Probablilty\n",
    "      + Probability Density Function\n",
    "      + Total Probablilty\n",
    "      + Cumulative Distribution Function\n",
    "    + Continuous Vs. Discrete\n",
    "    + Common Distributions\n",
    "      + Uniform\n",
    "      + Exponential\n",
    "      + Gaussian\n",
    "      + Chi Squared\n",
    "    + Independent and identically Distributed Random Variables\n",
    "    + Operations on random variables\n",
    "    + Central Limit Theorem\n",
    "    + Correlation\n",
    "    \n",
    "  + Basic Linear Algebra\n",
    "    + Vector Operations\n",
    "      + Addition\n",
    "      + Scaler Multiplication\n",
    "      + Vector Span\n",
    "    + Vector Products\n",
    "      + Elementwise Product\n",
    "      + Outter Product\n",
    "      + Inner Product\n",
    "    + Matrix Operations\n",
    "    + Cauchy–Schwarz inequality\n",
    "    + Matched Filter\n",
    "    + Convolution\n",
    "    + Correlation of random vectors\n",
    "    + Rotation Matrices\n",
    "    + \n",
    "    \n",
    "  + Frequency / Tone\n",
    "    + Real valued\n",
    "    + Matched Filter Real valued\n",
    "    + Phase\n",
    "    + Complex Samples\n",
    "    \n",
    "  + Complex Number\n",
    "    + Direct-conversion receiver\n",
    "    + Negative Frequencies?\n",
    "    + Relationship between Phase and Delay\n",
    "    + Complex Random Numbers\n",
    "  "
   ]
  },
  {
   "cell_type": "markdown",
   "metadata": {
    "slideshow": {
     "slide_type": "notes"
    }
   },
   "source": []
  }
 ],
 "metadata": {
  "celltoolbar": "Slideshow",
  "kernelspec": {
   "display_name": "Python 3",
   "language": "python",
   "name": "python3"
  },
  "language_info": {
   "codemirror_mode": {
    "name": "ipython",
    "version": 3
   },
   "file_extension": ".py",
   "mimetype": "text/x-python",
   "name": "python",
   "nbconvert_exporter": "python",
   "pygments_lexer": "ipython3",
   "version": "3.8.10"
  }
 },
 "nbformat": 4,
 "nbformat_minor": 4
}
